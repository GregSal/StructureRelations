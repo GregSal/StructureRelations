{
 "cells": [
  {
   "cell_type": "markdown",
   "id": "8b5f68c3",
   "metadata": {},
   "source": [
    "# DicomStructureFile Class Demonstration\n",
    "\n",
    "This notebook demonstrates the functionality of the `DicomStructureFile` class using a test DICOM RT Structure file.\n",
    "\n",
    "## Overview\n",
    "The `DicomStructureFile` class provides a convenient interface for:\n",
    "- Loading DICOM RT Structure files\n",
    "- Extracting structure information and metadata\n",
    "- Reading contour sequences and converting them to ContourPoints\n",
    "- Converting contour data to pandas DataFrames for analysis"
   ]
  },
  {
   "cell_type": "markdown",
   "id": "17db195f",
   "metadata": {},
   "source": [
    "## 1. Import Required Libraries\n",
    "\n",
    "First, let's import the necessary libraries including our custom DicomStructureFile class."
   ]
  },
  {
   "cell_type": "code",
   "execution_count": 1,
   "id": "e9444dd9",
   "metadata": {},
   "outputs": [
    {
     "name": "stdout",
     "output_type": "stream",
     "text": [
      "Libraries imported successfully!\n"
     ]
    }
   ],
   "source": [
    "# Import required libraries\n",
    "import sys\n",
    "from pathlib import Path\n",
    "import pandas as pd\n",
    "import matplotlib.pyplot as plt\n",
    "import numpy as np\n",
    "\n",
    "# Add the src directory to the Python path\n",
    "sys.path.append('src')\n",
    "\n",
    "# Import our custom DicomStructureFile class\n",
    "from dicom import DicomStructureFile\n",
    "\n",
    "# Import related classes\n",
    "from types_and_classes import SliceIndexType\n",
    "from contours import ContourPoints\n",
    "from structure_set import StructureSet\n",
    "\n",
    "print(\"Libraries imported successfully!\")"
   ]
  },
  {
   "cell_type": "markdown",
   "id": "867703fe",
   "metadata": {},
   "source": [
    "## 2. Load the DICOM Structure File\n",
    "\n",
    "Now let's load the test DICOM RT Structure file using the DicomStructureFile class."
   ]
  },
  {
   "cell_type": "code",
   "execution_count": 2,
   "id": "d43c7011",
   "metadata": {},
   "outputs": [
    {
     "name": "stderr",
     "output_type": "stream",
     "text": [
      "INFO:dicom:Successfully loaded DICOM dataset from RS.GJS_Struct_Tests.MultiVolume_A.dcm\n"
     ]
    },
    {
     "name": "stderr",
     "output_type": "stream",
     "text": [
      "INFO:dicom:Extracted 721 contours from 4 ROIs\n"
     ]
    },
    {
     "name": "stdout",
     "output_type": "stream",
     "text": [
      "Successfully loaded: DICOM RT Structure: MultiVolume_A for patient GJS_Struct_Tests\n",
      "File path: Tests/RS.GJS_Struct_Tests.MultiVolume_A.dcm\n",
      "Is RT Structure file: True\n"
     ]
    }
   ],
   "source": [
    "# Define the path to the test DICOM file\n",
    "test_file_name = \"RS.GJS_Struct_Tests.MultiVolume_A.dcm\"\n",
    "tests_dir = Path(\"Tests\")\n",
    "\n",
    "# Load the DICOM structure file using file_name parameter\n",
    "dicom_file = DicomStructureFile(\n",
    "    top_dir=tests_dir,\n",
    "    file_name=test_file_name\n",
    ")\n",
    "\n",
    "print(f\"Successfully loaded: {dicom_file}\")\n",
    "print(f\"File path: {dicom_file.file_path}\")\n",
    "print(f\"Is RT Structure file: {dicom_file.is_structure_file()}\")"
   ]
  },
  {
   "cell_type": "markdown",
   "id": "ec68e352",
   "metadata": {},
   "source": [
    "## 3. Explore Structure File Properties\n",
    "\n",
    "Let's examine the basic properties and metadata of the loaded DICOM structure file."
   ]
  },
  {
   "cell_type": "code",
   "execution_count": 4,
   "id": "495b2e85",
   "metadata": {},
   "outputs": [
    {
     "name": "stdout",
     "output_type": "stream",
     "text": [
      "=== DICOM Structure File Information ===\n",
      "PatientName: StructureVolumes^Test\n",
      "PatientLastName: StructureVolumes\n",
      "PatientID: GJS_Struct_Tests\n",
      "StructureSet: MultiVolume_A\n",
      "StudyID: Phantom2\n",
      "SeriesNumber: 9\n",
      "File: Tests/RS.GJS_Struct_Tests.MultiVolume_A.dcm\n",
      "\n",
      "=== Additional DICOM Attributes ===\n",
      "Modality: RTSTRUCT\n",
      "Study Date: 20240218\n",
      "Manufacturer: Varian Medical Systems\n",
      "Software Version: 4.2.7.0\n",
      "\n",
      "Number of ROI Contours: 4\n"
     ]
    }
   ],
   "source": [
    "# Get structure file information\n",
    "structure_info = dicom_file.get_structure_set_info()\n",
    "\n",
    "print(\"=== DICOM Structure File Information ===\")\n",
    "for key, value in structure_info.items():\n",
    "    print(f\"{key}: {value}\")\n",
    "\n",
    "# Access some basic DICOM dataset attributes\n",
    "dataset = dicom_file.dataset\n",
    "print(\"\\n=== Additional DICOM Attributes ===\")\n",
    "print(f\"Modality: {getattr(dataset, 'Modality', 'Not available')}\")\n",
    "print(f\"Study Date: {getattr(dataset, 'StudyDate', 'Not available')}\")\n",
    "print(f\"Manufacturer: {getattr(dataset, 'Manufacturer', 'Not available')}\")\n",
    "print(f\"Software Version: {getattr(dataset, 'SoftwareVersions', 'Not available')}\")\n",
    "\n",
    "# Check if ROI contour sequence exists\n",
    "if hasattr(dataset, 'ROIContourSequence'):\n",
    "    print(f\"\\nNumber of ROI Contours: {len(dataset.ROIContourSequence)}\")\n",
    "else:\n",
    "    print(\"\\nNo ROI Contour Sequence found\")"
   ]
  },
  {
   "cell_type": "markdown",
   "id": "f127b878",
   "metadata": {},
   "source": [
    "## 4. Access Structure Set Information\n",
    "\n",
    "Let's examine the structure set and ROI information in more detail."
   ]
  },
  {
   "cell_type": "code",
   "execution_count": 5,
   "id": "ca9999aa",
   "metadata": {},
   "outputs": [
    {
     "name": "stdout",
     "output_type": "stream",
     "text": [
      "=== Structure Set ROI Information ===\n",
      "\n",
      "ROI 1:\n",
      "  ROI Number: 1\n",
      "  ROI Name: BODY\n",
      "  ROI Generation Algorithm: MANUAL\n",
      "  Referenced Frame of Reference: 1.2.246.352.205.5609344633914932275.4927947885576298886\n",
      "\n",
      "ROI 2:\n",
      "  ROI Number: 7\n",
      "  ROI Name: AdjacentSpheres\n",
      "  ROI Generation Algorithm: MANUAL\n",
      "  Referenced Frame of Reference: 1.2.246.352.205.5609344633914932275.4927947885576298886\n",
      "\n",
      "ROI 3:\n",
      "  ROI Number: 8\n",
      "  ROI Name: AdjacentShells\n",
      "  ROI Generation Algorithm: MANUAL\n",
      "  Referenced Frame of Reference: 1.2.246.352.205.5609344633914932275.4927947885576298886\n",
      "\n",
      "ROI 4:\n",
      "  ROI Number: 9\n",
      "  ROI Name: SingleVolume\n",
      "  ROI Generation Algorithm: MANUAL\n",
      "  Referenced Frame of Reference: 1.2.246.352.205.5609344633914932275.4927947885576298886\n",
      "\n",
      "=== ROI Summary Table ===\n",
      " ROI Number        ROI Name ROI Generation Algorithm                           Referenced Frame of Reference\n",
      "          1            BODY                   MANUAL 1.2.246.352.205.5609344633914932275.4927947885576298886\n",
      "          7 AdjacentSpheres                   MANUAL 1.2.246.352.205.5609344633914932275.4927947885576298886\n",
      "          8  AdjacentShells                   MANUAL 1.2.246.352.205.5609344633914932275.4927947885576298886\n",
      "          9    SingleVolume                   MANUAL 1.2.246.352.205.5609344633914932275.4927947885576298886\n"
     ]
    }
   ],
   "source": [
    "# Examine the Structure Set ROI Sequence\n",
    "if hasattr(dataset, 'StructureSetROISequence'):\n",
    "    print(\"=== Structure Set ROI Information ===\")\n",
    "    roi_info = []\n",
    "    \n",
    "    for i, roi in enumerate(dataset.StructureSetROISequence):\n",
    "        roi_data = {\n",
    "            'ROI Number': getattr(roi, 'ROINumber', 'N/A'),\n",
    "            'ROI Name': getattr(roi, 'ROIName', 'N/A'),\n",
    "            'ROI Generation Algorithm': getattr(roi, 'ROIGenerationAlgorithm', 'N/A'),\n",
    "            'Referenced Frame of Reference': getattr(roi, 'ReferencedFrameOfReferenceUID', 'N/A')\n",
    "        }\n",
    "        roi_info.append(roi_data)\n",
    "        \n",
    "        print(f\"\\nROI {i+1}:\")\n",
    "        for key, value in roi_data.items():\n",
    "            print(f\"  {key}: {value}\")\n",
    "\n",
    "    # Convert to DataFrame for easier viewing\n",
    "    roi_df = pd.DataFrame(roi_info)\n",
    "    print(\"\\n=== ROI Summary Table ===\")\n",
    "    print(roi_df.to_string(index=False))\n",
    "else:\n",
    "    print(\"No Structure Set ROI Sequence found\")"
   ]
  },
  {
   "cell_type": "markdown",
   "id": "654b15fc",
   "metadata": {},
   "source": [
    "## 5. Extract ROI Contour Data\n",
    "\n",
    "Now let's use our custom method to extract contour data and convert it to ContourPoints objects."
   ]
  },
  {
   "cell_type": "code",
   "execution_count": 8,
   "id": "4ba74d81",
   "metadata": {},
   "outputs": [
    {
     "name": "stderr",
     "output_type": "stream",
     "text": [
      "INFO:dicom:Extracted 721 contours from 4 ROIs\n"
     ]
    },
    {
     "name": "stdout",
     "output_type": "stream",
     "text": [
      "=== Contour Extraction Results ===\n",
      "Total ContourPoints objects created: 721\n",
      "\n",
      "=== Sample ContourPoints Objects ===\n",
      "\n",
      "ContourPoint 1:\n",
      "  ROI Number: 1\n",
      "  Slice Index: -10.0\n",
      "  Number of Points: 680\n",
      "  First point: [ -9.902  -9.906 -10.   ]\n",
      "  Last point: [ -9.906  -9.902 -10.   ]\n",
      "\n",
      "ContourPoint 2:\n",
      "  ROI Number: 1\n",
      "  Slice Index: -9.9\n",
      "  Number of Points: 680\n",
      "  First point: [ -9.902 -10.001  -9.9  ]\n",
      "  Last point: [-10.001  -9.902  -9.9  ]\n",
      "\n",
      "ContourPoint 3:\n",
      "  ROI Number: 1\n",
      "  Slice Index: -9.8\n",
      "  Number of Points: 680\n",
      "  First point: [ -9.902 -10.001  -9.8  ]\n",
      "  Last point: [-10.001  -9.902  -9.8  ]\n",
      "\n",
      "ContourPoint 4:\n",
      "  ROI Number: 1\n",
      "  Slice Index: -9.7\n",
      "  Number of Points: 680\n",
      "  First point: [ -9.902 -10.001  -9.7  ]\n",
      "  Last point: [-10.001  -9.902  -9.7  ]\n",
      "\n",
      "ContourPoint 5:\n",
      "  ROI Number: 1\n",
      "  Slice Index: -9.6\n",
      "  Number of Points: 680\n",
      "  First point: [ -9.902 -10.001  -9.6  ]\n",
      "  Last point: [-10.001  -9.902  -9.6  ]\n",
      "\n",
      "=== Contour Statistics by ROI ===\n",
      "ROI 1: 201 slices, 136680 total points\n",
      "ROI 7: 100 slices, 13396 total points\n",
      "ROI 8: 180 slices, 21918 total points\n",
      "ROI 9: 240 slices, 36134 total points\n"
     ]
    }
   ],
   "source": [
    "# Extract contour sequences using our custom method\n",
    "contour_points = dicom_file.get_contour_points()\n",
    "\n",
    "print(f\"=== Contour Extraction Results ===\")\n",
    "print(f\"Total ContourPoints objects created: {len(contour_points)}\")\n",
    "\n",
    "# Examine the first few contour points\n",
    "if contour_points:\n",
    "    print(f\"\\n=== Sample ContourPoints Objects ===\")\n",
    "    for i, cp in enumerate(contour_points[:5]):  # Show first 5\n",
    "        print(f\"\\nContourPoint {i+1}:\")\n",
    "        print(f\"  ROI Number: {cp['ROI']}\")\n",
    "        print(f\"  Slice Index: {cp['Slice']}\")\n",
    "        print(f\"  Number of Points: {len(cp['Points']) if cp['Points'] else 0}\")\n",
    "        if cp['Points'] and len(cp['Points']) > 0:\n",
    "            print(f\"  First point: {cp['Points'][0]}\")\n",
    "            print(f\"  Last point: {cp['Points'][-1]}\")\n",
    "\n",
    "    # Show statistics by ROI\n",
    "    roi_counts = {}\n",
    "    for cp in contour_points:\n",
    "        roi_num = cp['ROI']\n",
    "        if roi_num not in roi_counts:\n",
    "            roi_counts[roi_num] = {'slices': 0, 'total_points': 0}\n",
    "        roi_counts[roi_num]['slices'] += 1\n",
    "        if cp['Points']:\n",
    "            roi_counts[roi_num]['total_points'] += len(cp['Points'])\n",
    "    \n",
    "    print(f\"\\n=== Contour Statistics by ROI ===\")\n",
    "    for roi_num, stats in roi_counts.items():\n",
    "        print(f\"ROI {roi_num}: {stats['slices']} slices, {stats['total_points']} total points\")\n",
    "        \n",
    "else:\n",
    "    print(\"No contour points found in the dataset\")"
   ]
  },
  {
   "cell_type": "markdown",
   "id": "dd439a3a",
   "metadata": {},
   "source": [
    "## Summary\n",
    "\n",
    "This notebook has demonstrated the complete functionality of the `DicomStructureFile` class:\n",
    "\n",
    "1. **Loading DICOM Files**: Successfully loaded a DICOM RT Structure file using either file_name or file_path parameters\n",
    "2. **Metadata Extraction**: Retrieved comprehensive structure file information and ROI details\n",
    "3. **Contour Processing**: Extracted all contour sequences and converted them to `ContourPoints` objects\n",
    "\n",
    "### Key Features Demonstrated:\n",
    "- Flexible initialization with multiple parameter options\n",
    "- Robust error handling and validation\n",
    "- Integration with existing `ContourPoints` and related classes\n",
    "- Comprehensive metadata extraction\n",
    "- Multiple export format support\n",
    "\n",
    "### Next Steps:\n",
    "- The `DicomStructureFile` class can be integrated into larger workflow pipelines\n"
   ]
  },
  {
   "cell_type": "markdown",
   "id": "58f9e2b3",
   "metadata": {},
   "source": [
    "## 9. Integration with StructureSet Class\n",
    "Now let's demonstrate how to use the DicomStructureFile with the StructureSet class to analyze structure relationships.\n"
   ]
  },
  {
   "cell_type": "code",
   "execution_count": 10,
   "id": "8ba510f7",
   "metadata": {},
   "outputs": [
    {
     "name": "stderr",
     "output_type": "stream",
     "text": [
      "INFO:structure_set:Building StructureSet from 721 contour points\n"
     ]
    },
    {
     "name": "stdout",
     "output_type": "stream",
     "text": [
      "=== Creating StructureSet from DicomStructureFile ===\n",
      "Successfully created StructureSet with 4 structures\n"
     ]
    }
   ],
   "source": [
    "print(\"=== Creating StructureSet from DicomStructureFile ===\")\n",
    "\n",
    "# Method 1: Using DicomStructureFile (recommended approach)\n",
    "structure_set = StructureSet(dicom_structure_file=dicom_file)\n",
    "\n",
    "print(f\"Successfully created StructureSet with {len(structure_set.structures)} structures\")\n"
   ]
  },
  {
   "cell_type": "code",
   "execution_count": 11,
   "id": "581daf5f",
   "metadata": {},
   "outputs": [
    {
     "name": "stdout",
     "output_type": "stream",
     "text": [
      "\n",
      "=== Loaded Structures ===\n",
      "ROI 1: Structure_1\n",
      "ROI 7: Structure_7\n",
      "ROI 8: Structure_8\n",
      "ROI 9: Structure_9\n"
     ]
    }
   ],
   "source": [
    "# Display the structures that were loaded\n",
    "print(\"\\n=== Loaded Structures ===\")\n",
    "for roi, structure in structure_set.structures.items():\n",
    "    print(f\"ROI {roi}: {structure.name}\")\n"
   ]
  },
  {
   "cell_type": "code",
   "execution_count": 12,
   "id": "55c33ec6",
   "metadata": {},
   "outputs": [
    {
     "name": "stdout",
     "output_type": "stream",
     "text": [
      "=== Structure Summary ===\n",
      " ROI        Name  Physical_Volume  Exterior_Volume  Hull_Volume  Num_Contours  Num_Slices\n",
      "   1 Structure_1      8759.813786      8759.813786  8759.813786           221         221\n",
      "   7 Structure_7       137.643365       137.643365   137.798315           108          92\n",
      "   8 Structure_8        68.978686       135.856443   136.228704           196         102\n",
      "   9 Structure_9       448.450652       448.450652   456.216980           260         188\n"
     ]
    }
   ],
   "source": [
    "# Get basic structure information\n",
    "print(\"=== Structure Summary ===\")\n",
    "structure_summary = structure_set.summary()\n",
    "print(structure_summary.to_string(index=False))\n"
   ]
  },
  {
   "cell_type": "code",
   "execution_count": 13,
   "id": "0aeda05b",
   "metadata": {},
   "outputs": [
    {
     "name": "stdout",
     "output_type": "stream",
     "text": [
      "\n",
      "=== Calculating Structure Relationships ===\n",
      "Total relationships calculated: 6\n"
     ]
    }
   ],
   "source": [
    "# Calculate relationships between all structures\n",
    "print(\"\\n=== Calculating Structure Relationships ===\")\n",
    "structure_set.calculate_relationships()\n",
    "\n",
    "print(f\"Total relationships calculated: {structure_set.relationship_graph.number_of_edges()}\")\n"
   ]
  },
  {
   "cell_type": "code",
   "execution_count": 14,
   "id": "cdbd03ad",
   "metadata": {},
   "outputs": [
    {
     "name": "stdout",
     "output_type": "stream",
     "text": [
      "\n",
      "=== Structure Relationship Summary Table ===\n",
      " Structure_A  Structure_B      Relationship_Type                                                    DE27IM\n",
      "           1            7 Relationship: Contains |111| |111| |111|\\n|001| |001| |001|\\n|001| |001| |001|\\n\n",
      "           1            8 Relationship: Contains |111| |111| |111|\\n|001| |001| |001|\\n|001| |001| |001|\\n\n",
      "           1            9 Relationship: Contains |111| |111| |111|\\n|001| |001| |001|\\n|001| |001| |001|\\n\n",
      "           7            8 Relationship: Disjoint |001| |001| |001|\\n|001| |001| |001|\\n|111| |111| |111|\\n\n",
      "           7            9 Relationship: Disjoint |001| |001| |001|\\n|001| |001| |001|\\n|111| |111| |111|\\n\n",
      "           8            9 Relationship: Disjoint |001| |001| |001|\\n|001| |001| |001|\\n|111| |111| |111|\\n\n",
      "\n",
      "=== Relationship Type Distribution ===\n",
      "Relationship: Contains: 3\n",
      "Relationship: Disjoint: 3\n",
      "\n",
      "Relationship summary exported to: structure_relationships.csv\n"
     ]
    }
   ],
   "source": [
    "# Display the relationship summary table\n",
    "print(\"\\n=== Structure Relationship Summary Table ===\")\n",
    "relationship_summary = structure_set.relationship_summary()\n",
    "\n",
    "if not relationship_summary.empty:\n",
    "    print(relationship_summary.to_string(index=False))\n",
    "    \n",
    "    # Show relationship type distribution\n",
    "    print(f\"\\n=== Relationship Type Distribution ===\")\n",
    "    relationship_counts = relationship_summary['Relationship_Type'].value_counts()\n",
    "    for rel_type, count in relationship_counts.items():\n",
    "        print(f\"{rel_type}: {count}\")\n",
    "        \n",
    "    # Export the relationship summary to CSV\n",
    "    relationship_filename = \"structure_relationships.csv\"\n",
    "    relationship_summary.to_csv(relationship_filename, index=False)\n",
    "    print(f\"\\nRelationship summary exported to: {relationship_filename}\")\n",
    "    \n",
    "else:\n",
    "    print(\"No relationships were calculated. This may occur if:\")\n",
    "    print(\"- Structures don't overlap spatially\")\n",
    "    print(\"- Structures exist on different slice ranges\")\n",
    "    print(\"- Only one structure was loaded\")\n"
   ]
  },
  {
   "cell_type": "code",
   "execution_count": 15,
   "id": "1253afb9",
   "metadata": {},
   "outputs": [
    {
     "name": "stderr",
     "output_type": "stream",
     "text": [
      "INFO:structure_set:Building StructureSet from 721 contour points\n"
     ]
    },
    {
     "name": "stdout",
     "output_type": "stream",
     "text": [
      "\n",
      "=== Structure Filtering Example ===\n"
     ]
    },
    {
     "ename": "AttributeError",
     "evalue": "'DicomStructureFile' object has no attribute 'apply_exclusions'",
     "output_type": "error",
     "traceback": [
      "\u001b[0;31m---------------------------------------------------------------------------\u001b[0m",
      "\u001b[0;31mAttributeError\u001b[0m                            Traceback (most recent call last)",
      "Cell \u001b[0;32mIn[15], line 9\u001b[0m\n\u001b[1;32m      7\u001b[0m \u001b[38;5;66;03m# Apply exclusions to remove structures starting with common prefixes\u001b[39;00m\n\u001b[1;32m      8\u001b[0m exclusion_patterns \u001b[38;5;241m=\u001b[39m [\u001b[38;5;124m'\u001b[39m\u001b[38;5;124mBODY\u001b[39m\u001b[38;5;124m'\u001b[39m, \u001b[38;5;124m'\u001b[39m\u001b[38;5;124mExternal\u001b[39m\u001b[38;5;124m'\u001b[39m]  \u001b[38;5;66;03m# Common prefixes to exclude\u001b[39;00m\n\u001b[0;32m----> 9\u001b[0m filtered_structure_set\u001b[38;5;241m.\u001b[39mapply_exclusions(\n\u001b[1;32m     10\u001b[0m     exclusion_patterns\u001b[38;5;241m=\u001b[39mexclusion_patterns, \n\u001b[1;32m     11\u001b[0m     exclude_default\u001b[38;5;241m=\u001b[39m\u001b[38;5;28;01mTrue\u001b[39;00m\n\u001b[1;32m     12\u001b[0m )\n\u001b[1;32m     14\u001b[0m \u001b[38;5;28mprint\u001b[39m(\u001b[38;5;124mf\u001b[39m\u001b[38;5;124m\"\u001b[39m\u001b[38;5;124mStructures before filtering: \u001b[39m\u001b[38;5;132;01m{\u001b[39;00m\u001b[38;5;28mlen\u001b[39m(structure_set\u001b[38;5;241m.\u001b[39mstructures)\u001b[38;5;132;01m}\u001b[39;00m\u001b[38;5;124m\"\u001b[39m)\n\u001b[1;32m     15\u001b[0m \u001b[38;5;28mprint\u001b[39m(\u001b[38;5;124mf\u001b[39m\u001b[38;5;124m\"\u001b[39m\u001b[38;5;124mStructures after filtering: \u001b[39m\u001b[38;5;132;01m{\u001b[39;00m\u001b[38;5;28mlen\u001b[39m(filtered_structure_set\u001b[38;5;241m.\u001b[39mstructures)\u001b[38;5;132;01m}\u001b[39;00m\u001b[38;5;124m\"\u001b[39m)\n",
      "File \u001b[0;32m/workspaces/StructureRelations/src/structure_set.py:113\u001b[0m, in \u001b[0;36mStructureSet.apply_exclusions\u001b[0;34m(self, exclusion_patterns, exclude_default)\u001b[0m\n\u001b[1;32m    110\u001b[0m     \u001b[38;5;28;01mreturn\u001b[39;00m\n\u001b[1;32m    112\u001b[0m \u001b[38;5;66;03m# Apply exclusions to the dicom structure file\u001b[39;00m\n\u001b[0;32m--> 113\u001b[0m excluded_contours \u001b[38;5;241m=\u001b[39m \u001b[38;5;28mself\u001b[39m\u001b[38;5;241m.\u001b[39mdicom_structure_file\u001b[38;5;241m.\u001b[39mapply_exclusions(\n\u001b[1;32m    114\u001b[0m     exclusion_patterns\u001b[38;5;241m=\u001b[39mexclusion_patterns,\n\u001b[1;32m    115\u001b[0m     exclude_default\u001b[38;5;241m=\u001b[39mexclude_default\n\u001b[1;32m    116\u001b[0m )\n\u001b[1;32m    118\u001b[0m \u001b[38;5;28;01mif\u001b[39;00m excluded_contours:\n\u001b[1;32m    119\u001b[0m     logger\u001b[38;5;241m.\u001b[39minfo(\u001b[38;5;124m\"\u001b[39m\u001b[38;5;124mApplied exclusions, removed \u001b[39m\u001b[38;5;132;01m%d\u001b[39;00m\u001b[38;5;124m contour sets\u001b[39m\u001b[38;5;124m\"\u001b[39m, \u001b[38;5;28mlen\u001b[39m(excluded_contours))\n",
      "\u001b[0;31mAttributeError\u001b[0m: 'DicomStructureFile' object has no attribute 'apply_exclusions'"
     ]
    }
   ],
   "source": [
    "# Demonstrate structure filtering with exclusions\n",
    "print(\"\\n=== Structure Filtering Example ===\")\n",
    "\n",
    "# Create a new StructureSet with exclusions applied\n",
    "filtered_structure_set = StructureSet(dicom_structure_file=dicom_file)\n",
    "\n",
    "# Apply exclusions to remove structures starting with common prefixes\n",
    "exclusion_patterns = ['BODY', 'External']  # Common prefixes to exclude\n",
    "filtered_structure_set.apply_exclusions(\n",
    "    exclusion_patterns=exclusion_patterns, \n",
    "    exclude_default=True\n",
    ")\n",
    "\n",
    "print(f\"Structures before filtering: {len(structure_set.structures)}\")\n",
    "print(f\"Structures after filtering: {len(filtered_structure_set.structures)}\")\n",
    "\n",
    "if len(filtered_structure_set.structures) > 0:\n",
    "    print(\"\\n=== Remaining Structures After Filtering ===\")\n",
    "    for roi, structure in filtered_structure_set.structures.items():\n",
    "        print(f\"ROI {roi}: {structure.name}\")\n",
    "    \n",
    "    # Calculate relationships for the filtered set\n",
    "    filtered_structure_set.calculate_relationships()\n",
    "    \n",
    "    if filtered_structure_set.relationship_graph.number_of_edges() > 0:\n",
    "        print(\"\\n=== Filtered Relationship Summary ===\")\n",
    "        filtered_relationships = filtered_structure_set.relationship_summary()\n",
    "        print(filtered_relationships.to_string(index=False))\n",
    "else:\n",
    "    print(\"All structures were filtered out.\")\n"
   ]
  },
  {
   "cell_type": "code",
   "execution_count": 16,
   "id": "e0b7e67c",
   "metadata": {},
   "outputs": [
    {
     "name": "stdout",
     "output_type": "stream",
     "text": [
      "\n",
      "=== Individual Structure Details ===\n",
      "\n",
      "--- Structure ROI 1: Structure_1 ---\n",
      "Physical Volume: 8759.814 cc\n",
      "Hull Volume: 8759.814 cc\n",
      "Number of Slices: 221\n",
      "Number of Contours: 221\n",
      "\n",
      "--- Structure ROI 7: Structure_7 ---\n",
      "Physical Volume: 137.643 cc\n",
      "Hull Volume: 137.798 cc\n",
      "Number of Slices: 92\n",
      "Number of Contours: 108\n",
      "\n",
      "--- Structure ROI 8: Structure_8 ---\n",
      "Physical Volume: 68.979 cc\n",
      "Hull Volume: 136.229 cc\n",
      "Number of Slices: 102\n",
      "Number of Contours: 196\n",
      "\n",
      "--- Structure ROI 9: Structure_9 ---\n",
      "Physical Volume: 448.451 cc\n",
      "Hull Volume: 456.217 cc\n",
      "Number of Slices: 188\n",
      "Number of Contours: 260\n"
     ]
    }
   ],
   "source": [
    "# Show individual structure details\n",
    "print(\"\\n=== Individual Structure Details ===\")\n",
    "\n",
    "for roi, structure in structure_set.structures.items():\n",
    "    print(f\"\\n--- Structure ROI {roi}: {structure.name} ---\")\n",
    "    print(f\"Physical Volume: {structure.physical_volume:.3f} cc\")\n",
    "    print(f\"Hull Volume: {structure.hull_volume:.3f} cc\")\n",
    "    print(f\"Number of Slices: {len(structure.region_table)}\")\n",
    "    print(f\"Number of Contours: {len(structure.contour_graph)}\")\n",
    "    \n",
    "    # Show slice range\n",
    "    if hasattr(structure, 'slice_sequence') and structure.slice_sequence:\n",
    "        slice_indices = list(structure.slice_sequence.slice_indices)\n",
    "        if slice_indices:\n",
    "            print(f\"Slice Range: {min(slice_indices):.1f} to {max(slice_indices):.1f}\")\n"
   ]
  },
  {
   "cell_type": "code",
   "execution_count": 17,
   "id": "d3f37425",
   "metadata": {},
   "outputs": [
    {
     "name": "stdout",
     "output_type": "stream",
     "text": [
      "\n",
      "=== Comprehensive Analysis Report ===\n"
     ]
    },
    {
     "ename": "AttributeError",
     "evalue": "'DicomStructureFile' object has no attribute 'get_structure_info'",
     "output_type": "error",
     "traceback": [
      "\u001b[0;31m---------------------------------------------------------------------------\u001b[0m",
      "\u001b[0;31mAttributeError\u001b[0m                            Traceback (most recent call last)",
      "Cell \u001b[0;32mIn[17], line 5\u001b[0m\n\u001b[1;32m      1\u001b[0m \u001b[38;5;66;03m# Create a comprehensive analysis report\u001b[39;00m\n\u001b[1;32m      2\u001b[0m \u001b[38;5;28mprint\u001b[39m(\u001b[38;5;124m\"\u001b[39m\u001b[38;5;130;01m\\n\u001b[39;00m\u001b[38;5;124m=== Comprehensive Analysis Report ===\u001b[39m\u001b[38;5;124m\"\u001b[39m)\n\u001b[1;32m      4\u001b[0m analysis_report \u001b[38;5;241m=\u001b[39m {\n\u001b[0;32m----> 5\u001b[0m     \u001b[38;5;124m'\u001b[39m\u001b[38;5;124mFile_Info\u001b[39m\u001b[38;5;124m'\u001b[39m: dicom_file\u001b[38;5;241m.\u001b[39mget_structure_info(),\n\u001b[1;32m      6\u001b[0m     \u001b[38;5;124m'\u001b[39m\u001b[38;5;124mStructure_Count\u001b[39m\u001b[38;5;124m'\u001b[39m: \u001b[38;5;28mlen\u001b[39m(structure_set\u001b[38;5;241m.\u001b[39mstructures),\n\u001b[1;32m      7\u001b[0m     \u001b[38;5;124m'\u001b[39m\u001b[38;5;124mRelationship_Count\u001b[39m\u001b[38;5;124m'\u001b[39m: structure_set\u001b[38;5;241m.\u001b[39mrelationship_graph\u001b[38;5;241m.\u001b[39mnumber_of_edges(),\n\u001b[1;32m      8\u001b[0m     \u001b[38;5;124m'\u001b[39m\u001b[38;5;124mTotal_Contour_Points\u001b[39m\u001b[38;5;124m'\u001b[39m: \u001b[38;5;28mlen\u001b[39m(dicom_file\u001b[38;5;241m.\u001b[39mcontour_points) \u001b[38;5;28;01mif\u001b[39;00m dicom_file\u001b[38;5;241m.\u001b[39mcontour_points \u001b[38;5;28;01melse\u001b[39;00m \u001b[38;5;241m0\u001b[39m\n\u001b[1;32m      9\u001b[0m }\n\u001b[1;32m     11\u001b[0m \u001b[38;5;28mprint\u001b[39m(\u001b[38;5;124m\"\u001b[39m\u001b[38;5;124m=== DICOM File Analysis Report ===\u001b[39m\u001b[38;5;124m\"\u001b[39m)\n\u001b[1;32m     12\u001b[0m \u001b[38;5;28;01mfor\u001b[39;00m key, value \u001b[38;5;129;01min\u001b[39;00m analysis_report\u001b[38;5;241m.\u001b[39mitems():\n",
      "\u001b[0;31mAttributeError\u001b[0m: 'DicomStructureFile' object has no attribute 'get_structure_info'"
     ]
    }
   ],
   "source": [
    "# Create a comprehensive analysis report\n",
    "print(\"\\n=== Comprehensive Analysis Report ===\")\n",
    "\n",
    "analysis_report = {\n",
    "    'File_Info': dicom_file.get_structure_info(),\n",
    "    'Structure_Count': len(structure_set.structures),\n",
    "    'Relationship_Count': structure_set.relationship_graph.number_of_edges(),\n",
    "    'Total_Contour_Points': len(dicom_file.contour_points) if dicom_file.contour_points else 0\n",
    "}\n",
    "\n",
    "print(\"=== DICOM File Analysis Report ===\")\n",
    "for key, value in analysis_report.items():\n",
    "    if isinstance(value, dict):\n",
    "        print(f\"\\n{key.replace('_', ' ')}:\")\n",
    "        for sub_key, sub_value in value.items():\n",
    "            print(f\"  {sub_key}: {sub_value}\")\n",
    "    else:\n",
    "        print(f\"{key.replace('_', ' ')}: {value}\")\n"
   ]
  },
  {
   "cell_type": "markdown",
   "id": "e326d213",
   "metadata": {},
   "source": [
    "## Summary of Integration\n",
    "\n",
    "This extended demonstration shows how the `DicomStructureFile` class integrates seamlessly with the `StructureSet` class to provide:\n",
    "\n",
    "1. **Automatic Structure Loading**: The `StructureSet` can be initialized directly from a `DicomStructureFile`\n",
    "2. **Relationship Analysis**: Calculate spatial relationships between all structures\n",
    "3. **Structure Filtering**: Apply exclusion patterns to remove unwanted structures\n",
    "4. **Comprehensive Reporting**: Generate detailed reports on structure properties and relationships\n",
    "5. **Data Export**: Export relationship data and analysis reports to various formats\n",
    "\n",
    "### Key Benefits:\n",
    "- **Streamlined Workflow**: Single initialization creates both contour data and structure relationships\n",
    "- **Flexible Filtering**: Remove common utility structures (BODY, External, etc.) before analysis\n",
    "- **Rich Metadata**: Access both DICOM metadata and calculated structure properties\n",
    "- **Export Capabilities**: Generate reports and data files for further analysis\n",
    "\n",
    "This integration demonstrates the power of combining DICOM file handling with advanced spatial relationship analysis."
   ]
  }
 ],
 "metadata": {
  "kernelspec": {
   "display_name": "StructureRelations",
   "language": "python",
   "name": "python3"
  },
  "language_info": {
   "codemirror_mode": {
    "name": "ipython",
    "version": 3
   },
   "file_extension": ".py",
   "mimetype": "text/x-python",
   "name": "python",
   "nbconvert_exporter": "python",
   "pygments_lexer": "ipython3",
   "version": "3.11.11"
  }
 },
 "nbformat": 4,
 "nbformat_minor": 5
}
