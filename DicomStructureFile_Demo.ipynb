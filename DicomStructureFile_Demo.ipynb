{
 "cells": [
  {
   "cell_type": "markdown",
   "id": "8b5f68c3",
   "metadata": {},
   "source": [
    "# DicomStructureFile Class Demonstration\n",
    "\n",
    "This notebook demonstrates the functionality of the `DicomStructureFile` class using a test DICOM RT Structure file.\n",
    "\n",
    "## Overview\n",
    "The `DicomStructureFile` class provides a convenient interface for:\n",
    "- Loading DICOM RT Structure files\n",
    "- Extracting structure information and metadata\n",
    "- Reading contour sequences and converting them to ContourPoints\n",
    "- Converting contour data to pandas DataFrames for analysis"
   ]
  },
  {
   "cell_type": "markdown",
   "id": "17db195f",
   "metadata": {},
   "source": [
    "## 1. Import Required Libraries\n",
    "\n",
    "First, let's import the necessary libraries including our custom DicomStructureFile class."
   ]
  },
  {
   "cell_type": "code",
   "execution_count": 1,
   "id": "e9444dd9",
   "metadata": {},
   "outputs": [
    {
     "name": "stdout",
     "output_type": "stream",
     "text": [
      "Libraries imported successfully!\n"
     ]
    }
   ],
   "source": [
    "# Import required libraries\n",
    "import sys\n",
    "from pathlib import Path\n",
    "import pandas as pd\n",
    "import matplotlib.pyplot as plt\n",
    "import numpy as np\n",
    "\n",
    "# Add the src directory to the Python path\n",
    "sys.path.append('src')\n",
    "\n",
    "# Import our custom DicomStructureFile class\n",
    "from dicom import DicomStructureFile\n",
    "\n",
    "# Import related classes\n",
    "from types_and_classes import SliceIndexType\n",
    "from contours import ContourPoints\n",
    "from structure_set import StructureSet\n",
    "\n",
    "print(\"Libraries imported successfully!\")"
   ]
  },
  {
   "cell_type": "markdown",
   "id": "867703fe",
   "metadata": {},
   "source": [
    "## 2. Load the DICOM Structure File\n",
    "\n",
    "Now let's load the test DICOM RT Structure file using the DicomStructureFile class."
   ]
  },
  {
   "cell_type": "code",
   "execution_count": 2,
   "id": "d43c7011",
   "metadata": {},
   "outputs": [
    {
     "name": "stderr",
     "output_type": "stream",
     "text": [
      "INFO:dicom:Successfully loaded DICOM dataset from RS.GJS_Struct_Tests.MultiVolume_A.dcm\n"
     ]
    },
    {
     "name": "stdout",
     "output_type": "stream",
     "text": [
      "Successfully loaded: DICOM RT Structure: MultiVolume_A for patient GJS_Struct_Tests\n",
      "File path: Tests/RS.GJS_Struct_Tests.MultiVolume_A.dcm\n",
      "Is RT Structure file: True\n"
     ]
    }
   ],
   "source": [
    "# Define the path to the test DICOM file\n",
    "test_file_name = \"RS.GJS_Struct_Tests.MultiVolume_A.dcm\"\n",
    "tests_dir = Path(\"Tests\")\n",
    "\n",
    "# Load the DICOM structure file using file_name parameter\n",
    "dicom_file = DicomStructureFile(\n",
    "    top_dir=tests_dir,\n",
    "    file_name=test_file_name\n",
    ")\n",
    "\n",
    "print(f\"Successfully loaded: {dicom_file}\")\n",
    "print(f\"File path: {dicom_file.file_path}\")\n",
    "print(f\"Is RT Structure file: {dicom_file.is_structure_file()}\")"
   ]
  },
  {
   "cell_type": "markdown",
   "id": "ec68e352",
   "metadata": {},
   "source": [
    "## 3. Explore Structure File Properties\n",
    "\n",
    "Let's examine the basic properties and metadata of the loaded DICOM structure file."
   ]
  },
  {
   "cell_type": "code",
   "execution_count": 3,
   "id": "495b2e85",
   "metadata": {},
   "outputs": [
    {
     "name": "stdout",
     "output_type": "stream",
     "text": [
      "=== DICOM Structure File Information ===\n",
      "PatientName: StructureVolumes^Test\n",
      "PatientLastName: StructureVolumes\n",
      "PatientID: GJS_Struct_Tests\n",
      "StructureSet: MultiVolume_A\n",
      "StudyID: Phantom2\n",
      "SeriesNumber: 9\n",
      "File: Tests/RS.GJS_Struct_Tests.MultiVolume_A.dcm\n",
      "\n",
      "=== Additional DICOM Attributes ===\n",
      "Modality: RTSTRUCT\n",
      "Study Date: 20240218\n",
      "Manufacturer: Varian Medical Systems\n",
      "Software Version: 4.2.7.0\n",
      "\n",
      "Number of ROI Contours: 4\n"
     ]
    }
   ],
   "source": [
    "# Get structure file information\n",
    "structure_info = dicom_file.get_structure_info()\n",
    "\n",
    "print(\"=== DICOM Structure File Information ===\")\n",
    "for key, value in structure_info.items():\n",
    "    print(f\"{key}: {value}\")\n",
    "\n",
    "# Access some basic DICOM dataset attributes\n",
    "dataset = dicom_file.dataset\n",
    "print(\"\\n=== Additional DICOM Attributes ===\")\n",
    "print(f\"Modality: {getattr(dataset, 'Modality', 'Not available')}\")\n",
    "print(f\"Study Date: {getattr(dataset, 'StudyDate', 'Not available')}\")\n",
    "print(f\"Manufacturer: {getattr(dataset, 'Manufacturer', 'Not available')}\")\n",
    "print(f\"Software Version: {getattr(dataset, 'SoftwareVersions', 'Not available')}\")\n",
    "\n",
    "# Check if ROI contour sequence exists\n",
    "if hasattr(dataset, 'ROIContourSequence'):\n",
    "    print(f\"\\nNumber of ROI Contours: {len(dataset.ROIContourSequence)}\")\n",
    "else:\n",
    "    print(\"\\nNo ROI Contour Sequence found\")"
   ]
  },
  {
   "cell_type": "markdown",
   "id": "f127b878",
   "metadata": {},
   "source": [
    "## 4. Access Structure Set Information\n",
    "\n",
    "Let's examine the structure set and ROI information in more detail."
   ]
  },
  {
   "cell_type": "code",
   "execution_count": 4,
   "id": "ca9999aa",
   "metadata": {},
   "outputs": [
    {
     "name": "stdout",
     "output_type": "stream",
     "text": [
      "=== Structure Set ROI Information ===\n",
      "\n",
      "ROI 1:\n",
      "  ROI Number: 1\n",
      "  ROI Name: BODY\n",
      "  ROI Generation Algorithm: MANUAL\n",
      "  Referenced Frame of Reference: 1.2.246.352.205.5609344633914932275.4927947885576298886\n",
      "\n",
      "ROI 2:\n",
      "  ROI Number: 7\n",
      "  ROI Name: AdjacentSpheres\n",
      "  ROI Generation Algorithm: MANUAL\n",
      "  Referenced Frame of Reference: 1.2.246.352.205.5609344633914932275.4927947885576298886\n",
      "\n",
      "ROI 3:\n",
      "  ROI Number: 8\n",
      "  ROI Name: AdjacentShells\n",
      "  ROI Generation Algorithm: MANUAL\n",
      "  Referenced Frame of Reference: 1.2.246.352.205.5609344633914932275.4927947885576298886\n",
      "\n",
      "ROI 4:\n",
      "  ROI Number: 9\n",
      "  ROI Name: SingleVolume\n",
      "  ROI Generation Algorithm: MANUAL\n",
      "  Referenced Frame of Reference: 1.2.246.352.205.5609344633914932275.4927947885576298886\n",
      "\n",
      "=== ROI Summary Table ===\n",
      " ROI Number        ROI Name ROI Generation Algorithm                           Referenced Frame of Reference\n",
      "          1            BODY                   MANUAL 1.2.246.352.205.5609344633914932275.4927947885576298886\n",
      "          7 AdjacentSpheres                   MANUAL 1.2.246.352.205.5609344633914932275.4927947885576298886\n",
      "          8  AdjacentShells                   MANUAL 1.2.246.352.205.5609344633914932275.4927947885576298886\n",
      "          9    SingleVolume                   MANUAL 1.2.246.352.205.5609344633914932275.4927947885576298886\n"
     ]
    }
   ],
   "source": [
    "# Examine the Structure Set ROI Sequence\n",
    "if hasattr(dataset, 'StructureSetROISequence'):\n",
    "    print(\"=== Structure Set ROI Information ===\")\n",
    "    roi_info = []\n",
    "    \n",
    "    for i, roi in enumerate(dataset.StructureSetROISequence):\n",
    "        roi_data = {\n",
    "            'ROI Number': getattr(roi, 'ROINumber', 'N/A'),\n",
    "            'ROI Name': getattr(roi, 'ROIName', 'N/A'),\n",
    "            'ROI Generation Algorithm': getattr(roi, 'ROIGenerationAlgorithm', 'N/A'),\n",
    "            'Referenced Frame of Reference': getattr(roi, 'ReferencedFrameOfReferenceUID', 'N/A')\n",
    "        }\n",
    "        roi_info.append(roi_data)\n",
    "        \n",
    "        print(f\"\\nROI {i+1}:\")\n",
    "        for key, value in roi_data.items():\n",
    "            print(f\"  {key}: {value}\")\n",
    "\n",
    "    # Convert to DataFrame for easier viewing\n",
    "    roi_df = pd.DataFrame(roi_info)\n",
    "    print(\"\\n=== ROI Summary Table ===\")\n",
    "    print(roi_df.to_string(index=False))\n",
    "else:\n",
    "    print(\"No Structure Set ROI Sequence found\")"
   ]
  },
  {
   "cell_type": "markdown",
   "id": "654b15fc",
   "metadata": {},
   "source": [
    "## 5. Extract ROI Contour Data\n",
    "\n",
    "Now let's use our custom method to extract contour data and convert it to ContourPoints objects."
   ]
  },
  {
   "cell_type": "code",
   "execution_count": 5,
   "id": "4ba74d81",
   "metadata": {},
   "outputs": [
    {
     "name": "stderr",
     "output_type": "stream",
     "text": [
      "INFO:dicom:Extracted 721 contours from 4 ROIs\n"
     ]
    },
    {
     "ename": "NameError",
     "evalue": "name 'geom_type' is not defined",
     "output_type": "error",
     "traceback": [
      "\u001b[0;31m---------------------------------------------------------------------------\u001b[0m",
      "\u001b[0;31mNameError\u001b[0m                                 Traceback (most recent call last)",
      "Cell \u001b[0;32mIn[5], line 2\u001b[0m\n\u001b[1;32m      1\u001b[0m \u001b[38;5;66;03m# Extract contour sequences using our custom method\u001b[39;00m\n\u001b[0;32m----> 2\u001b[0m contour_points \u001b[38;5;241m=\u001b[39m dicom_file\u001b[38;5;241m.\u001b[39mget_contour_points()\n\u001b[1;32m      4\u001b[0m \u001b[38;5;28mprint\u001b[39m(\u001b[38;5;124mf\u001b[39m\u001b[38;5;124m\"\u001b[39m\u001b[38;5;124m=== Contour Extraction Results ===\u001b[39m\u001b[38;5;124m\"\u001b[39m)\n\u001b[1;32m      5\u001b[0m \u001b[38;5;28mprint\u001b[39m(\u001b[38;5;124mf\u001b[39m\u001b[38;5;124m\"\u001b[39m\u001b[38;5;124mTotal ContourPoints objects created: \u001b[39m\u001b[38;5;132;01m{\u001b[39;00m\u001b[38;5;28mlen\u001b[39m(contour_points)\u001b[38;5;132;01m}\u001b[39;00m\u001b[38;5;124m\"\u001b[39m)\n",
      "File \u001b[0;32m/workspaces/StructureRelations/src/dicom.py:218\u001b[0m, in \u001b[0;36mDicomStructureFile.get_contour_points\u001b[0;34m(self)\u001b[0m\n\u001b[1;32m    216\u001b[0m \u001b[38;5;66;03m# Store contour points and convert to DataFrame\u001b[39;00m\n\u001b[1;32m    217\u001b[0m \u001b[38;5;28mself\u001b[39m\u001b[38;5;241m.\u001b[39mcontour_points \u001b[38;5;241m=\u001b[39m contour_points_list\n\u001b[0;32m--> 218\u001b[0m \u001b[38;5;28mself\u001b[39m\u001b[38;5;241m.\u001b[39mcontour_dataframe \u001b[38;5;241m=\u001b[39m \u001b[38;5;28mself\u001b[39m\u001b[38;5;241m.\u001b[39m_create_contour_dataframe(contour_points_list)\n\u001b[1;32m    220\u001b[0m \u001b[38;5;28;01mreturn\u001b[39;00m contour_points_list\n",
      "File \u001b[0;32m/workspaces/StructureRelations/src/dicom.py:255\u001b[0m, in \u001b[0;36mDicomStructureFile._create_contour_dataframe\u001b[0;34m(self, contour_points_list)\u001b[0m\n\u001b[1;32m    244\u001b[0m         \u001b[38;5;28;01mif\u001b[39;00m \u001b[38;5;28mlen\u001b[39m(point) \u001b[38;5;241m==\u001b[39m \u001b[38;5;241m2\u001b[39m:\n\u001b[1;32m    245\u001b[0m             \u001b[38;5;66;03m# 2D point, use slice_index for z\u001b[39;00m\n\u001b[1;32m    246\u001b[0m             z \u001b[38;5;241m=\u001b[39m \u001b[38;5;28mfloat\u001b[39m(slice_index)\n\u001b[1;32m    248\u001b[0m         row \u001b[38;5;241m=\u001b[39m {\n\u001b[1;32m    249\u001b[0m             \u001b[38;5;124m'\u001b[39m\u001b[38;5;124mroi\u001b[39m\u001b[38;5;124m'\u001b[39m: \u001b[38;5;28mint\u001b[39m(roi) \u001b[38;5;28;01mif\u001b[39;00m roi \u001b[38;5;129;01mis\u001b[39;00m \u001b[38;5;129;01mnot\u001b[39;00m \u001b[38;5;28;01mNone\u001b[39;00m \u001b[38;5;28;01melse\u001b[39;00m \u001b[38;5;241m0\u001b[39m,\n\u001b[1;32m    250\u001b[0m             \u001b[38;5;124m'\u001b[39m\u001b[38;5;124mslice_index\u001b[39m\u001b[38;5;124m'\u001b[39m: \u001b[38;5;28mfloat\u001b[39m(slice_index) \u001b[38;5;28;01mif\u001b[39;00m slice_index \u001b[38;5;129;01mis\u001b[39;00m \u001b[38;5;129;01mnot\u001b[39;00m \u001b[38;5;28;01mNone\u001b[39;00m \u001b[38;5;28;01melse\u001b[39;00m \u001b[38;5;241m0.0\u001b[39m,\n\u001b[1;32m    251\u001b[0m             \u001b[38;5;124m'\u001b[39m\u001b[38;5;124mpoint_index\u001b[39m\u001b[38;5;124m'\u001b[39m: point_idx,\n\u001b[1;32m    252\u001b[0m             \u001b[38;5;124m'\u001b[39m\u001b[38;5;124mx\u001b[39m\u001b[38;5;124m'\u001b[39m: \u001b[38;5;28mfloat\u001b[39m(x),\n\u001b[1;32m    253\u001b[0m             \u001b[38;5;124m'\u001b[39m\u001b[38;5;124my\u001b[39m\u001b[38;5;124m'\u001b[39m: \u001b[38;5;28mfloat\u001b[39m(y),\n\u001b[1;32m    254\u001b[0m             \u001b[38;5;124m'\u001b[39m\u001b[38;5;124mz\u001b[39m\u001b[38;5;124m'\u001b[39m: \u001b[38;5;28mfloat\u001b[39m(z),\n\u001b[0;32m--> 255\u001b[0m             \u001b[38;5;124m'\u001b[39m\u001b[38;5;124mgeometry_type\u001b[39m\u001b[38;5;124m'\u001b[39m: geom_type\n\u001b[1;32m    256\u001b[0m         }\n\u001b[1;32m    257\u001b[0m         rows\u001b[38;5;241m.\u001b[39mappend(row)\n\u001b[1;32m    259\u001b[0m df \u001b[38;5;241m=\u001b[39m pd\u001b[38;5;241m.\u001b[39mDataFrame(rows)\n",
      "\u001b[0;31mNameError\u001b[0m: name 'geom_type' is not defined"
     ]
    }
   ],
   "source": [
    "# Extract contour sequences using our custom method\n",
    "contour_points = dicom_file.get_contour_points()\n",
    "\n",
    "print(f\"=== Contour Extraction Results ===\")\n",
    "print(f\"Total ContourPoints objects created: {len(contour_points)}\")\n",
    "\n",
    "# Examine the first few contour points\n",
    "if contour_points:\n",
    "    print(f\"\\n=== Sample ContourPoints Objects ===\")\n",
    "    for i, cp in enumerate(contour_points[:5]):  # Show first 5\n",
    "        print(f\"\\nContourPoint {i+1}:\")\n",
    "        print(f\"  ROI Number: {cp.roi}\")\n",
    "        print(f\"  Slice Index: {cp.slice_index}\")\n",
    "        print(f\"  Number of Points: {len(cp.points) if cp.points else 0}\")\n",
    "        if cp.points and len(cp.points) > 0:\n",
    "            print(f\"  First point: {cp.points[0]}\")\n",
    "            print(f\"  Last point: {cp.points[-1]}\")\n",
    "            \n",
    "    # Show statistics by ROI\n",
    "    roi_counts = {}\n",
    "    for cp in contour_points:\n",
    "        roi_num = cp.roi\n",
    "        if roi_num not in roi_counts:\n",
    "            roi_counts[roi_num] = {'slices': 0, 'total_points': 0}\n",
    "        roi_counts[roi_num]['slices'] += 1\n",
    "        if cp.points:\n",
    "            roi_counts[roi_num]['total_points'] += len(cp.points)\n",
    "    \n",
    "    print(f\"\\n=== Contour Statistics by ROI ===\")\n",
    "    for roi_num, stats in roi_counts.items():\n",
    "        print(f\"ROI {roi_num}: {stats['slices']} slices, {stats['total_points']} total points\")\n",
    "        \n",
    "else:\n",
    "    print(\"No contour points found in the dataset\")"
   ]
  },
  {
   "cell_type": "code",
   "execution_count": null,
   "id": "21d365c5",
   "metadata": {},
   "outputs": [],
   "source": [
    "dicom_file.contour_points[0]"
   ]
  },
  {
   "cell_type": "markdown",
   "id": "9d179502",
   "metadata": {},
   "source": [
    "## 6. Access and Analyze the Contour DataFrame\n",
    "\n",
    "Let's examine the automatically generated DataFrame that contains all contour point data."
   ]
  },
  {
   "cell_type": "code",
   "execution_count": null,
   "id": "273b338e",
   "metadata": {},
   "outputs": [],
   "source": [
    "# Access the DataFrame containing all contour points\n",
    "contour_df = dicom_file.contour_dataframe\n",
    "\n",
    "print(\"=== Contour DataFrame Information ===\")\n",
    "if contour_df is not None and not contour_df.empty:\n",
    "    print(f\"DataFrame shape: {contour_df.shape}\")\n",
    "    print(f\"Columns: {list(contour_df.columns)}\")\n",
    "    \n",
    "    # Show basic statistics\n",
    "    print(f\"\\n=== DataFrame Summary ===\")\n",
    "    print(contour_df.describe())\n",
    "    \n",
    "    # Show the first few rows\n",
    "    print(f\"\\n=== First 10 Rows ===\")\n",
    "    print(contour_df.head(10))\n",
    "    \n",
    "    # Show unique ROI numbers and slice indices\n",
    "    print(f\"\\n=== Data Distribution ===\")\n",
    "    print(f\"Unique ROI numbers: {sorted(contour_df['roi'].unique())}\")\n",
    "    print(f\"Slice index range: {contour_df['slice_index'].min()} to {contour_df['slice_index'].max()}\")\n",
    "    print(f\"X coordinate range: {contour_df['x'].min():.3f} to {contour_df['x'].max():.3f}\")\n",
    "    print(f\"Y coordinate range: {contour_df['y'].min():.3f} to {contour_df['y'].max():.3f}\")\n",
    "    \n",
    "    # Count points per ROI\n",
    "    roi_point_counts = contour_df['roi'].value_counts().sort_index()\n",
    "    print(f\"\\n=== Points per ROI ===\")\n",
    "    for roi_num, count in roi_point_counts.items():\n",
    "        print(f\"ROI {roi_num}: {count} points\")\n",
    "        \n",
    "else:\n",
    "    print(\"Contour DataFrame is empty or not available\")"
   ]
  },
  {
   "cell_type": "markdown",
   "id": "68b65e2f",
   "metadata": {},
   "source": [
    "## 7. Visualize Structure Contours\n",
    "\n",
    "Let's create visualizations of the structure contours using matplotlib."
   ]
  },
  {
   "cell_type": "code",
   "execution_count": null,
   "id": "2e45092e",
   "metadata": {},
   "outputs": [],
   "source": [
    "# Create visualizations of the contours\n",
    "if contour_df is not None and not contour_df.empty:\n",
    "    \n",
    "    # Plot 1: All contours on a single plot (X-Y view)\n",
    "    plt.figure(figsize=(12, 5))\n",
    "    \n",
    "    # Subplot 1: All ROIs overlaid\n",
    "    plt.subplot(1, 2, 1)\n",
    "    colors = plt.cm.tab10(np.linspace(0, 1, len(contour_df['roi'].unique())))\n",
    "    \n",
    "    for i, roi_num in enumerate(sorted(contour_df['roi'].unique())):\n",
    "        roi_data = contour_df[contour_df['roi'] == roi_num]\n",
    "        plt.scatter(roi_data['x'], roi_data['y'], \n",
    "                   c=[colors[i]], alpha=0.6, s=1, label=f'ROI {roi_num}')\n",
    "    \n",
    "    plt.xlabel('X Coordinate (mm)')\n",
    "    plt.ylabel('Y Coordinate (mm)')\n",
    "    plt.title('All ROI Contours (X-Y View)')\n",
    "    plt.legend()\n",
    "    plt.grid(True, alpha=0.3)\n",
    "    plt.axis('equal')\n",
    "    \n",
    "    # Subplot 2: Contours by slice (show a few selected slices)\n",
    "    plt.subplot(1, 2, 2)\n",
    "    \n",
    "    # Get a few representative slices\n",
    "    unique_slices = sorted(contour_df['slice_index'].unique())\n",
    "    selected_slices = unique_slices[::max(1, len(unique_slices)//5)][:5]  # Select up to 5 slices\n",
    "    \n",
    "    for i, slice_idx in enumerate(selected_slices):\n",
    "        slice_data = contour_df[contour_df['slice_index'] == slice_idx]\n",
    "        if not slice_data.empty:\n",
    "            plt.scatter(slice_data['x'], slice_data['y'], \n",
    "                       alpha=0.7, s=2, label=f'Slice {slice_idx}')\n",
    "    \n",
    "    plt.xlabel('X Coordinate (mm)')\n",
    "    plt.ylabel('Y Coordinate (mm)')\n",
    "    plt.title('Contours by Selected Slices')\n",
    "    plt.legend()\n",
    "    plt.grid(True, alpha=0.3)\n",
    "    plt.axis('equal')\n",
    "    \n",
    "    plt.tight_layout()\n",
    "    plt.show()\n",
    "    \n",
    "    # Plot 2: 3D visualization if we have multiple slices\n",
    "    if len(contour_df['slice_index'].unique()) > 1:\n",
    "        fig = plt.figure(figsize=(10, 8))\n",
    "        ax = fig.add_subplot(111, projection='3d')\n",
    "        \n",
    "        for i, roi_num in enumerate(sorted(contour_df['roi'].unique())):\n",
    "            roi_data = contour_df[contour_df['roi'] == roi_num]\n",
    "            ax.scatter(roi_data['x'], roi_data['y'], roi_data['slice_index'],\n",
    "                      c=colors[i], alpha=0.6, s=1, label=f'ROI {roi_num}')\n",
    "        \n",
    "        ax.set_xlabel('X Coordinate (mm)')\n",
    "        ax.set_ylabel('Y Coordinate (mm)')\n",
    "        ax.set_zlabel('Slice Index (mm)')\n",
    "        ax.set_title('3D View of All ROI Contours')\n",
    "        ax.legend()\n",
    "        \n",
    "        plt.show()\n",
    "    \n",
    "else:\n",
    "    print(\"No contour data available for visualization\")"
   ]
  },
  {
   "cell_type": "markdown",
   "id": "db6203e2",
   "metadata": {},
   "source": [
    "## 8. Export and Save Structure Data\n",
    "\n",
    "Finally, let's demonstrate how to export the structure data to different formats."
   ]
  },
  {
   "cell_type": "code",
   "execution_count": null,
   "id": "b357f9d6",
   "metadata": {},
   "outputs": [],
   "source": [
    "# Export structure data to different formats\n",
    "if contour_df is not None and not contour_df.empty:\n",
    "    \n",
    "    # 1. Save DataFrame to CSV\n",
    "    csv_filename = \"contour_points_export.csv\"\n",
    "    contour_df.to_csv(csv_filename, index=False)\n",
    "    print(f\"Contour points exported to: {csv_filename}\")\n",
    "    \n",
    "    # 2. Save DataFrame to Excel with multiple sheets (one per ROI)\n",
    "    excel_filename = \"contour_points_by_roi.xlsx\"\n",
    "    with pd.ExcelWriter(excel_filename, engine='openpyxl') as writer:\n",
    "        # Save all data to one sheet\n",
    "        contour_df.to_excel(writer, sheet_name='All_Contours', index=False)\n",
    "        \n",
    "        # Save each ROI to a separate sheet\n",
    "        for roi_num in sorted(contour_df['roi'].unique()):\n",
    "            roi_data = contour_df[contour_df['roi'] == roi_num]\n",
    "            sheet_name = f'ROI_{roi_num}'\n",
    "            roi_data.to_excel(writer, sheet_name=sheet_name, index=False)\n",
    "    \n",
    "    print(f\"Contour points exported to Excel: {excel_filename}\")\n",
    "    \n",
    "    # 3. Create a summary report\n",
    "    summary_data = []\n",
    "    for roi_num in sorted(contour_df['roi'].unique()):\n",
    "        roi_data = contour_df[contour_df['roi'] == roi_num]\n",
    "        summary_data.append({\n",
    "            'ROI_Number': roi_num,\n",
    "            'Total_Points': len(roi_data),\n",
    "            'Unique_Slices': roi_data['slice_index'].nunique(),\n",
    "            'X_Range': f\"{roi_data['x'].min():.2f} to {roi_data['x'].max():.2f}\",\n",
    "            'Y_Range': f\"{roi_data['y'].min():.2f} to {roi_data['y'].max():.2f}\",\n",
    "            'Slice_Range': f\"{roi_data['slice_index'].min():.1f} to {roi_data['slice_index'].max():.1f}\"\n",
    "        })\n",
    "    \n",
    "    summary_df = pd.DataFrame(summary_data)\n",
    "    summary_filename = \"roi_summary_report.csv\"\n",
    "    summary_df.to_csv(summary_filename, index=False)\n",
    "    print(f\"ROI summary report exported to: {summary_filename}\")\n",
    "    \n",
    "    # 4. Display the summary\n",
    "    print(f\"\\n=== ROI Summary Report ===\")\n",
    "    print(summary_df.to_string(index=False))\n",
    "    \n",
    "    # 5. Show file sizes\n",
    "    import os\n",
    "    print(f\"\\n=== Export File Sizes ===\")\n",
    "    for filename in [csv_filename, excel_filename, summary_filename]:\n",
    "        if os.path.exists(filename):\n",
    "            size_kb = os.path.getsize(filename) / 1024\n",
    "            print(f\"{filename}: {size_kb:.2f} KB\")\n",
    "    \n",
    "else:\n",
    "    print(\"No contour data available for export\")"
   ]
  },
  {
   "cell_type": "markdown",
   "id": "dd439a3a",
   "metadata": {},
   "source": [
    "## Summary\n",
    "\n",
    "This notebook has demonstrated the complete functionality of the `DicomStructureFile` class:\n",
    "\n",
    "1. **Loading DICOM Files**: Successfully loaded a DICOM RT Structure file using either file_name or file_path parameters\n",
    "2. **Metadata Extraction**: Retrieved comprehensive structure file information and ROI details\n",
    "3. **Contour Processing**: Extracted all contour sequences and converted them to `ContourPoints` objects\n",
    "4. **Data Analysis**: Automatically generated a pandas DataFrame for easy analysis and manipulation\n",
    "5. **Visualization**: Created 2D and 3D visualizations of the structure contours\n",
    "6. **Data Export**: Exported the contour data to multiple formats (CSV, Excel) with summary reports\n",
    "\n",
    "### Key Features Demonstrated:\n",
    "- Flexible initialization with multiple parameter options\n",
    "- Robust error handling and validation\n",
    "- Automatic DataFrame generation for easy data analysis\n",
    "- Integration with existing `ContourPoints` and related classes\n",
    "- Comprehensive metadata extraction\n",
    "- Multiple export format support\n",
    "\n",
    "### Next Steps:\n",
    "- The exported CSV and Excel files can be used for further analysis\n",
    "- The `DicomStructureFile` class can be integrated into larger workflow pipelines\n",
    "- The DataFrame format makes it easy to perform statistical analysis and filtering\n",
    "- The visualization capabilities help with quality assurance and data validation"
   ]
  },
  {
   "cell_type": "code",
   "execution_count": null,
   "id": "4eecd169",
   "metadata": {},
   "outputs": [],
   "source": [
    "# Method 1: Using DicomStructureFile (recommended)\n",
    "#dicom_file = DicomStructureFile(top_dir=Path(\"Tests\"), file_name=\"test.dcm\")\n",
    "#structure_set = StructureSet(dicom_structure_file=dicom_file)\n",
    "\n",
    "# Method 2: Traditional slice_data (still supported)\n",
    "#structure_set = StructureSet(slice_data=contour_points_list)\n",
    "\n",
    "# Apply exclusions to filter unwanted structures\n",
    "#structure_set.apply_exclusions(exclusion_patterns=['x', 'z'])"
   ]
  },
  {
   "cell_type": "markdown",
   "id": "58f9e2b3",
   "metadata": {},
   "source": [
    "## 9. Integration with StructureSet Class\n",
    "Now let's demonstrate how to use the DicomStructureFile with the StructureSet class to analyze structure relationships.\n"
   ]
  },
  {
   "cell_type": "code",
   "execution_count": null,
   "id": "8ba510f7",
   "metadata": {},
   "outputs": [],
   "source": [
    "print(\"=== Creating StructureSet from DicomStructureFile ===\")\n",
    "\n",
    "# Method 1: Using DicomStructureFile (recommended approach)\n",
    "structure_set = StructureSet(dicom_structure_file=dicom_file)\n",
    "\n",
    "print(f\"Successfully created StructureSet with {len(structure_set.structures)} structures\")\n"
   ]
  },
  {
   "cell_type": "code",
   "execution_count": null,
   "id": "581daf5f",
   "metadata": {},
   "outputs": [],
   "source": [
    "# Display the structures that were loaded\n",
    "print(\"\\n=== Loaded Structures ===\")\n",
    "for roi, structure in structure_set.structures.items():\n",
    "    print(f\"ROI {roi}: {structure.name}\")\n"
   ]
  },
  {
   "cell_type": "code",
   "execution_count": null,
   "id": "55c33ec6",
   "metadata": {},
   "outputs": [],
   "source": [
    "# Get basic structure information\n",
    "print(\"=== Structure Summary ===\")\n",
    "structure_summary = structure_set.summary()\n",
    "print(structure_summary.to_string(index=False))\n"
   ]
  },
  {
   "cell_type": "code",
   "execution_count": null,
   "id": "0aeda05b",
   "metadata": {},
   "outputs": [],
   "source": [
    "# Calculate relationships between all structures\n",
    "print(\"\\n=== Calculating Structure Relationships ===\")\n",
    "structure_set.calculate_relationships()\n",
    "\n",
    "print(f\"Total relationships calculated: {structure_set.relationship_graph.number_of_edges()}\")\n"
   ]
  },
  {
   "cell_type": "code",
   "execution_count": null,
   "id": "cdbd03ad",
   "metadata": {},
   "outputs": [],
   "source": [
    "# Display the relationship summary table\n",
    "print(\"\\n=== Structure Relationship Summary Table ===\")\n",
    "relationship_summary = structure_set.relationship_summary()\n",
    "\n",
    "if not relationship_summary.empty:\n",
    "    print(relationship_summary.to_string(index=False))\n",
    "    \n",
    "    # Show relationship type distribution\n",
    "    print(f\"\\n=== Relationship Type Distribution ===\")\n",
    "    relationship_counts = relationship_summary['Relationship_Type'].value_counts()\n",
    "    for rel_type, count in relationship_counts.items():\n",
    "        print(f\"{rel_type}: {count}\")\n",
    "        \n",
    "    # Export the relationship summary to CSV\n",
    "    relationship_filename = \"structure_relationships.csv\"\n",
    "    relationship_summary.to_csv(relationship_filename, index=False)\n",
    "    print(f\"\\nRelationship summary exported to: {relationship_filename}\")\n",
    "    \n",
    "else:\n",
    "    print(\"No relationships were calculated. This may occur if:\")\n",
    "    print(\"- Structures don't overlap spatially\")\n",
    "    print(\"- Structures exist on different slice ranges\")\n",
    "    print(\"- Only one structure was loaded\")\n"
   ]
  },
  {
   "cell_type": "code",
   "execution_count": null,
   "id": "1253afb9",
   "metadata": {},
   "outputs": [],
   "source": [
    "# Demonstrate structure filtering with exclusions\n",
    "print(\"\\n=== Structure Filtering Example ===\")\n",
    "\n",
    "# Create a new StructureSet with exclusions applied\n",
    "filtered_structure_set = StructureSet(dicom_structure_file=dicom_file)\n",
    "\n",
    "# Apply exclusions to remove structures starting with common prefixes\n",
    "exclusion_patterns = ['BODY', 'External']  # Common prefixes to exclude\n",
    "filtered_structure_set.apply_exclusions(\n",
    "    exclusion_patterns=exclusion_patterns, \n",
    "    exclude_default=True\n",
    ")\n",
    "\n",
    "print(f\"Structures before filtering: {len(structure_set.structures)}\")\n",
    "print(f\"Structures after filtering: {len(filtered_structure_set.structures)}\")\n",
    "\n",
    "if len(filtered_structure_set.structures) > 0:\n",
    "    print(\"\\n=== Remaining Structures After Filtering ===\")\n",
    "    for roi, structure in filtered_structure_set.structures.items():\n",
    "        print(f\"ROI {roi}: {structure.name}\")\n",
    "    \n",
    "    # Calculate relationships for the filtered set\n",
    "    filtered_structure_set.calculate_relationships()\n",
    "    \n",
    "    if filtered_structure_set.relationship_graph.number_of_edges() > 0:\n",
    "        print(\"\\n=== Filtered Relationship Summary ===\")\n",
    "        filtered_relationships = filtered_structure_set.relationship_summary()\n",
    "        print(filtered_relationships.to_string(index=False))\n",
    "else:\n",
    "    print(\"All structures were filtered out.\")\n"
   ]
  },
  {
   "cell_type": "code",
   "execution_count": null,
   "id": "e0b7e67c",
   "metadata": {},
   "outputs": [],
   "source": [
    "# Show individual structure details\n",
    "print(\"\\n=== Individual Structure Details ===\")\n",
    "\n",
    "for roi, structure in structure_set.structures.items():\n",
    "    print(f\"\\n--- Structure ROI {roi}: {structure.name} ---\")\n",
    "    print(f\"Physical Volume: {structure.physical_volume:.3f} cc\")\n",
    "    print(f\"Hull Volume: {structure.hull_volume:.3f} cc\")\n",
    "    print(f\"Number of Slices: {len(structure.region_table)}\")\n",
    "    print(f\"Number of Contours: {len(structure.contour_graph)}\")\n",
    "    \n",
    "    # Show slice range\n",
    "    if hasattr(structure, 'slice_sequence') and structure.slice_sequence:\n",
    "        slice_indices = list(structure.slice_sequence.slice_indices)\n",
    "        if slice_indices:\n",
    "            print(f\"Slice Range: {min(slice_indices):.1f} to {max(slice_indices):.1f}\")\n"
   ]
  },
  {
   "cell_type": "code",
   "execution_count": null,
   "id": "d3f37425",
   "metadata": {},
   "outputs": [],
   "source": [
    "# Create a comprehensive analysis report\n",
    "print(\"\\n=== Comprehensive Analysis Report ===\")\n",
    "\n",
    "analysis_report = {\n",
    "    'File_Info': dicom_file.get_structure_info(),\n",
    "    'Structure_Count': len(structure_set.structures),\n",
    "    'Relationship_Count': structure_set.relationship_graph.number_of_edges(),\n",
    "    'Total_Contour_Points': len(dicom_file.contour_points) if dicom_file.contour_points else 0\n",
    "}\n",
    "\n",
    "print(\"=== DICOM File Analysis Report ===\")\n",
    "for key, value in analysis_report.items():\n",
    "    if isinstance(value, dict):\n",
    "        print(f\"\\n{key.replace('_', ' ')}:\")\n",
    "        for sub_key, sub_value in value.items():\n",
    "            print(f\"  {sub_key}: {sub_value}\")\n",
    "    else:\n",
    "        print(f\"{key.replace('_', ' ')}: {value}\")\n"
   ]
  },
  {
   "cell_type": "code",
   "execution_count": null,
   "id": "8fdae0e8",
   "metadata": {},
   "outputs": [],
   "source": [
    "# Save the complete analysis to a text file\n",
    "report_filename = \"structure_analysis_report.txt\"\n",
    "with open(report_filename, 'w') as f:\n",
    "    f.write(\"DICOM Structure File Analysis Report\\n\")\n",
    "    f.write(\"=\" * 50 + \"\\n\\n\")\n",
    "    \n",
    "    # File information\n",
    "    f.write(\"File Information:\\n\")\n",
    "    for key, value in analysis_report['File_Info'].items():\n",
    "        f.write(f\"  {key}: {value}\\n\")\n",
    "    \n",
    "    f.write(f\"\\nStructure Count: {analysis_report['Structure_Count']}\\n\")\n",
    "    f.write(f\"Relationship Count: {analysis_report['Relationship_Count']}\\n\")\n",
    "    f.write(f\"Total Contour Points: {analysis_report['Total_Contour_Points']}\\n\")\n",
    "    \n",
    "    # Structure details\n",
    "    f.write(\"\\nStructure Details:\\n\")\n",
    "    for roi, structure in structure_set.structures.items():\n",
    "        f.write(f\"\\nROI {roi}: {structure.name}\\n\")\n",
    "        f.write(f\"  Physical Volume: {structure.physical_volume:.3f} cc\\n\")\n",
    "        f.write(f\"  Hull Volume: {structure.hull_volume:.3f} cc\\n\")\n",
    "        f.write(f\"  Number of Slices: {len(structure.region_table)}\\n\")\n",
    "        f.write(f\"  Number of Contours: {len(structure.contour_graph)}\\n\")\n",
    "    \n",
    "    # Relationships\n",
    "    if not relationship_summary.empty:\n",
    "        f.write(\"\\nStructure Relationships:\\n\")\n",
    "        f.write(relationship_summary.to_string(index=False))\n",
    "        f.write(\"\\n\")\n",
    "\n",
    "print(f\"\\nComplete analysis report saved to: {report_filename}\")\n"
   ]
  },
  {
   "cell_type": "markdown",
   "id": "e326d213",
   "metadata": {},
   "source": [
    "## Summary of Integration\n",
    "\n",
    "This extended demonstration shows how the `DicomStructureFile` class integrates seamlessly with the `StructureSet` class to provide:\n",
    "\n",
    "1. **Automatic Structure Loading**: The `StructureSet` can be initialized directly from a `DicomStructureFile`\n",
    "2. **Relationship Analysis**: Calculate spatial relationships between all structures\n",
    "3. **Structure Filtering**: Apply exclusion patterns to remove unwanted structures\n",
    "4. **Comprehensive Reporting**: Generate detailed reports on structure properties and relationships\n",
    "5. **Data Export**: Export relationship data and analysis reports to various formats\n",
    "\n",
    "### Key Benefits:\n",
    "- **Streamlined Workflow**: Single initialization creates both contour data and structure relationships\n",
    "- **Flexible Filtering**: Remove common utility structures (BODY, External, etc.) before analysis\n",
    "- **Rich Metadata**: Access both DICOM metadata and calculated structure properties\n",
    "- **Export Capabilities**: Generate reports and data files for further analysis\n",
    "\n",
    "This integration demonstrates the power of combining DICOM file handling with advanced spatial relationship analysis."
   ]
  }
 ],
 "metadata": {
  "kernelspec": {
   "display_name": "StructureRelations",
   "language": "python",
   "name": "python3"
  },
  "language_info": {
   "codemirror_mode": {
    "name": "ipython",
    "version": 3
   },
   "file_extension": ".py",
   "mimetype": "text/x-python",
   "name": "python",
   "nbconvert_exporter": "python",
   "pygments_lexer": "ipython3",
   "version": "3.11.11"
  }
 },
 "nbformat": 4,
 "nbformat_minor": 5
}
