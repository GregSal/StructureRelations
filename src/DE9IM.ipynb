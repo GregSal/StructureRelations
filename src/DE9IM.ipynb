{
 "cells": [
  {
   "cell_type": "markdown",
   "metadata": {},
   "source": [
    "# DE-9IM Relationships\n",
    "\n",
    "[DE-9IM](https://en.wikipedia.org/wiki/DE-9IM)\n"
   ]
  },
  {
   "cell_type": "markdown",
   "metadata": {},
   "source": [
    "## Setup"
   ]
  },
  {
   "cell_type": "markdown",
   "metadata": {},
   "source": [
    "### Imports"
   ]
  },
  {
   "cell_type": "code",
   "execution_count": 2,
   "metadata": {},
   "outputs": [],
   "source": [
    "# Shared Packages\n",
    "import pandas as pd\n",
    "\n",
    "# Local functions and classes\n",
    "from types_and_classes import *\n",
    "from utilities import *\n",
    "from debug_tools import *\n",
    "from structure_slice import *\n",
    "from metrics import *\n",
    "from relations import *"
   ]
  },
  {
   "cell_type": "markdown",
   "metadata": {},
   "source": [
    "### Global Settings"
   ]
  },
  {
   "cell_type": "code",
   "execution_count": 3,
   "metadata": {},
   "outputs": [],
   "source": [
    "PRECISION = 2"
   ]
  },
  {
   "cell_type": "code",
   "execution_count": 4,
   "metadata": {},
   "outputs": [],
   "source": [
    "%matplotlib inline"
   ]
  },
  {
   "cell_type": "markdown",
   "metadata": {},
   "source": [
    "The DE-9IM model is based on a 3×3 intersection matrix with the form:\n",
    "\n",
    "![DE-9IM Matrix](<Images/DE9IM equations.png>)\n",
    "\n",
    "where \n",
    "_dim_ is the dimension of the intersection (∩) of the interior (I), boundary (B), and exterior (E) of geometries a and b."
   ]
  },
  {
   "cell_type": "markdown",
   "metadata": {},
   "source": [
    "Visually, for two overlapping polygonal geometries, the result of the function DE_9IM(a,b) looks like:\n",
    "\n",
    "\n",
    "![DE_9IM Example](DE-9IM.png)"
   ]
  },
  {
   "cell_type": "markdown",
   "metadata": {},
   "source": [
    "This matrix can be serialized. Reading from left-to-right and top-to-bottom, the result is\n",
    "\n",
    "![DE9IM Linearized](<Images/linearized matrix.png>)\n",
    "\n",
    " So, in a compact representation as string code is '212101212'."
   ]
  },
  {
   "cell_type": "markdown",
   "metadata": {},
   "source": [
    "\n",
    "The relationship string is converted to binary format, where 'F'\n",
    "is '0' and '1' or '2' is '1'.\n",
    "\n",
    "Args:\n",
    "    poly_a (shapely.MultiPolygon): All contours for a structure on\n",
    "        a single slice.\n",
    "    poly_b (shapely.MultiPolygon): All contours for a second\n",
    "        structure on the same slice.\n",
    "    relation_str (str): The DE-9IM relationship string for the two\n",
    "\n",
    "Attributes:\n",
    "    str (str): A length 9 string of the DE-9IM relationship consisting of\n",
    "        'F', '1', or '2'.\n",
    "    relation (str): The relationship string converted to binary format,\n",
    "        where 'F' becomes '0', and '1' or '2' becomes '1'.\n",
    "\n",
    "Methods:\n",
    "    to_int (shift=0): Returns the relationship string converted to an\n",
    "        integer.  The shift argument shifts the binary equivalent the\n",
    "        given number of places to the left."
   ]
  },
  {
   "cell_type": "code",
   "execution_count": 26,
   "metadata": {},
   "outputs": [],
   "source": [
    "class DE9IM():\n",
    "    '''The DE-9IM relationship string for two polygons.\n",
    "    '''\n",
    "    def __init__(self,\n",
    "                 poly_a: shapely.MultiPolygon = None,\n",
    "                 poly_b: shapely.MultiPolygon = None,\n",
    "                 relation_str: str = None):\n",
    "        if (poly_a is not None) & (poly_a is not None):\n",
    "            self.relation_str = shapely.relate(poly_a, poly_b)\n",
    "        elif relation_str is not None:\n",
    "            self.relation_str = relation_str\n",
    "        else:\n",
    "            raise ValueError(''.join([\n",
    "                'Must supply either polygons or a relationship string to ',\n",
    "                'create a DE9IM object.'\n",
    "                ]))\n",
    "        # Convert relationship string in the form '212FF1FF2' into a\n",
    "        # boolean string.\n",
    "        self.relation = self.to_bool()\n",
    "        self.int = self.to_int()\n",
    "\n",
    "    def to_bool(self):\n",
    "        relation = self.relation_str.replace('F','0').replace('2','1')\n",
    "        return relation\n",
    "\n",
    "    def to_int(self, shift=0):\n",
    "        shift_factor = 2**shift\n",
    "        binary_relation = int(self.relation, base=2) * shift_factor\n",
    "        return binary_relation\n",
    "\n",
    "    def boundary_adjustment(self, boundary_type: str)->'DE9IM':\n",
    "        '''Adjust the DE-9IM relationship matrix of a boundary slice.\n",
    "        '''\n",
    "        new_str_list = []\n",
    "        if boundary_type == 'a':\n",
    "            interiors = self.relation_str[0:3]\n",
    "            boundaries = self.relation_str[3:6]\n",
    "            exteriors = self.relation_str[6:9]\n",
    "            new_str_list.extend(['F', 'F', 'F'])\n",
    "            for i, b in zip(interiors, boundaries):\n",
    "                if i == 'F':\n",
    "                    new_str_list.append(b)\n",
    "                else:\n",
    "                    new_str_list.append(i)\n",
    "            new_str_list.extend(exteriors)\n",
    "        elif boundary_type == 'b':\n",
    "            interiors = self.relation_str[0:9:3]\n",
    "            boundaries = self.relation_str[1:9:3]\n",
    "            exteriors = self.relation_str[2:9:3]\n",
    "            for i, b, e in zip(interiors, boundaries, exteriors):\n",
    "                new_str_list.append('F')\n",
    "                if i == 'F':\n",
    "                    new_str_list.append(b)\n",
    "                else:\n",
    "                    new_str_list.append(i)\n",
    "                new_str_list.append(e)\n",
    "        else:\n",
    "            raise ValueError(f'Invalid boundary type: {boundary_type}')\n",
    "        new_str = ''.join(new_str_list)\n",
    "        return self.__class__(relation_str=new_str)\n",
    "\n",
    "    def transpose(self)->'DE9IM':\n",
    "        '''Transpose the DE-9IM relationship matrix.\n",
    "        '''\n",
    "        # Select every third character from the string.\n",
    "        interiors = self.relation_str[0:9:3]\n",
    "        boundaries = self.relation_str[1:9:3]\n",
    "        exteriors = self.relation_str[2:9:3]\n",
    "        new_str_list = interiors + boundaries + exteriors\n",
    "        new_str = ''.join(new_str_list)\n",
    "        return self.__class__(relation_str=new_str)\n",
    "\n",
    "    def __repr__(self):\n",
    "        return f'<DE9IM>: {self.relation_str}'\n",
    "\n",
    "    def __str__(self):\n",
    "        bin_str = self.relation\n",
    "        if len(bin_str) < 9:\n",
    "            zero_pad = 9 - len(bin_str)\n",
    "            bin_str = '0' * zero_pad + bin_str[2:]\n",
    "        bin_fmt = '|{bin1}|\\n|{bin2}|\\n|{bin3}|'\n",
    "        bin_dict = {'bin1': bin_str[0:3],\n",
    "                    'bin2': bin_str[3:6],\n",
    "                    'bin3': bin_str[6:9]}\n",
    "        return bin_fmt.format(**bin_dict)\n"
   ]
  },
  {
   "cell_type": "code",
   "execution_count": 27,
   "metadata": {},
   "outputs": [
    {
     "data": {
      "text/plain": [
       "<DE9IM>: 212FF1FF2"
      ]
     },
     "execution_count": 27,
     "metadata": {},
     "output_type": "execute_result"
    }
   ],
   "source": [
    "box6 = shapely.MultiPolygon([shapely.Polygon(box_points(6))])\n",
    "box6\n",
    "box4 = shapely.MultiPolygon([shapely.Polygon(box_points(4))])\n",
    "r = DE9IM(box6, box4)\n",
    "r"
   ]
  },
  {
   "cell_type": "code",
   "execution_count": 28,
   "metadata": {},
   "outputs": [
    {
     "data": {
      "text/plain": [
       "457"
      ]
     },
     "execution_count": 28,
     "metadata": {},
     "output_type": "execute_result"
    }
   ],
   "source": [
    "r.int"
   ]
  },
  {
   "cell_type": "code",
   "execution_count": 29,
   "metadata": {},
   "outputs": [
    {
     "name": "stdout",
     "output_type": "stream",
     "text": [
      "|111|\n",
      "|001|\n",
      "|001|\n"
     ]
    }
   ],
   "source": [
    "print(str(r))"
   ]
  },
  {
   "cell_type": "code",
   "execution_count": 30,
   "metadata": {},
   "outputs": [
    {
     "name": "stdout",
     "output_type": "stream",
     "text": [
      "|000|\n",
      "|111|\n",
      "|001|\n"
     ]
    },
    {
     "data": {
      "text/plain": [
       "<DE9IM>: FFF212FF2"
      ]
     },
     "execution_count": 30,
     "metadata": {},
     "output_type": "execute_result"
    }
   ],
   "source": [
    "b = r.boundary_adjustment('a')\n",
    "print(str(b))\n",
    "b"
   ]
  },
  {
   "cell_type": "code",
   "execution_count": 31,
   "metadata": {},
   "outputs": [
    {
     "name": "stdout",
     "output_type": "stream",
     "text": [
      "|011|\n",
      "|001|\n",
      "|001|\n"
     ]
    },
    {
     "data": {
      "text/plain": [
       "<DE9IM>: F22FF1FF2"
      ]
     },
     "execution_count": 31,
     "metadata": {},
     "output_type": "execute_result"
    }
   ],
   "source": [
    "b = r.boundary_adjustment('b')\n",
    "print(str(b))\n",
    "b"
   ]
  },
  {
   "cell_type": "code",
   "execution_count": null,
   "metadata": {},
   "outputs": [],
   "source": [
    "b = r.transpose()\n",
    "print(str(b))\n",
    "b"
   ]
  },
  {
   "cell_type": "markdown",
   "metadata": {},
   "source": [
    "\n",
    "When written in binary, the 27 bit relationship contains 3 9-bit\n",
    "parts corresponding to DE-9IM relationships. The left-most 9 bits\n",
    "are the relationship between the second structure's contour and the\n",
    "first structure's convex hull polygon. The middle 9 bits are the\n",
    "relationship between the second structure's contour and the first\n",
    "structure's exterior polygon (i.e. with any holes filled). The\n",
    "right-most 9 bits are the relationship between the second\n",
    "structure's contour and the first structure's contour.\n",
    "\n",
    "Args:\n",
    "    slice_structures (pd.DataFrame): A table of structures, where\n",
    "        the values are the contours with type StructureSlice. The\n",
    "        column index contains the roi numbers for the structures.\n",
    "        The row index contains the slice index distances.\n",
    "\n",
    "Returns:\n",
    "    DE9IM_Type: An integer corresponding to a 27 bit binary value\n",
    "        reflecting the combined DE-9IM relationship between contour2 and\n",
    "        contour1's convex hull, exterior and polygon."
   ]
  },
  {
   "cell_type": "code",
   "execution_count": null,
   "metadata": {},
   "outputs": [],
   "source": [
    "class DE27IM():\n",
    "    '''The DE-9IM relationships string for two contours, their exteriors, and\n",
    "    the corresponding convex hull.\n",
    "    '''\n",
    "    def __init__(self, contour_a: StructureSlice = None,\n",
    "                 contour_b: StructureSlice = None,\n",
    "                 relation_str: Dict[str, str] = None):\n",
    "        if (contour_a is not None) & (contour_b is not None):\n",
    "            self.relation_str = self.relate_contours(contour_a, contour_b)\n",
    "        elif relation_str is not None:\n",
    "            self.relation_str = relation_str\n",
    "        else:\n",
    "            raise ValueError(''.join([\n",
    "                'Must supply either StructureSlices or a relationship string ',\n",
    "                'to create a DE27IM object.'\n",
    "                ]))\n",
    "        self.relation = self.to_bool()\n",
    "        self.int = int(self.relation, base=2)\n",
    "\n",
    "    def to_bool(self):\n",
    "        relation = self.relation_str.replace('F','0').replace('2','1')\n",
    "        return relation\n",
    "\n",
    "    def relate_contours(self,\n",
    "                        contour_a: StructureSlice,\n",
    "                        contour_b: StructureSlice)->DE27IM_Type:\n",
    "        '''Get the 27 bit relationship for two structures on a given slice.\n",
    "        '''\n",
    "        relation_parts = {\n",
    "            'contour': DE9IM(contour_a.contour, contour_b.contour),\n",
    "            'external': DE9IM(contour_a.exterior, contour_b.contour),\n",
    "            'convex_hull': DE9IM(contour_a.hull, contour_b.contour)\n",
    "            }\n",
    "        # Convert the DE-9IM relationships into a DE-27IM relationship string.\n",
    "        full_relation = ''.join([relation_parts['contour'].relation,\n",
    "                                 relation_parts['external'].relation,\n",
    "                                 relation_parts['convex_hull'].relation])\n",
    "        return full_relation\n",
    "\n",
    "    def merge(self, other: Union['DE27IM', int])->int:\n",
    "        '''Combine two DE27IM relationships.\n",
    "\n",
    "        Returns:\n",
    "            int: An integer corresponding to a 27 bit binary value\n",
    "                reflecting the combined relationships.\n",
    "        '''\n",
    "        if isinstance(other, DE27IM):\n",
    "            other_rel = other.int\n",
    "        elif isinstance(other, int):\n",
    "            other_rel = other\n",
    "        else:\n",
    "            raise ValueError(''.join([\n",
    "                'Must supply either a DE27IM object or an integer to merge ',\n",
    "                'relationships.'\n",
    "                ]))\n",
    "        merged_rel = self.int | other_rel\n",
    "        return merged_rel\n",
    "\n",
    "    def __repr__(self):\n",
    "        return f'<DE27IM>: {self.relation_str}'\n"
   ]
  }
 ],
 "metadata": {
  "kernelspec": {
   "display_name": "StructureRelations",
   "language": "python",
   "name": "python3"
  },
  "language_info": {
   "codemirror_mode": {
    "name": "ipython",
    "version": 3
   },
   "file_extension": ".py",
   "mimetype": "text/x-python",
   "name": "python",
   "nbconvert_exporter": "python",
   "pygments_lexer": "ipython3",
   "version": "3.11.9"
  }
 },
 "nbformat": 4,
 "nbformat_minor": 2
}
