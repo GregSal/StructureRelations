{
 "cells": [
  {
   "cell_type": "markdown",
   "metadata": {},
   "source": [
    "# Temporary Notebook for developing new Data prep Process\n"
   ]
  },
  {
   "cell_type": "code",
   "execution_count": 1,
   "metadata": {},
   "outputs": [],
   "source": [
    "from collections import defaultdict\n",
    "\n",
    "import pandas as pd\n",
    "from shapely.geometry import Polygon\n"
   ]
  },
  {
   "cell_type": "code",
   "execution_count": 2,
   "metadata": {},
   "outputs": [],
   "source": [
    "# Local functions and classes\n",
    "from types_and_classes import *\n",
    "from utilities import *\n",
    "from contours import *\n",
    "from regions import *\n",
    "from debug_tools import *\n",
    "#from structure_slice import *\n",
    "#from structure_set import *\n",
    "#from relations import *\n"
   ]
  },
  {
   "cell_type": "markdown",
   "metadata": {},
   "source": [
    "### Global Settings"
   ]
  },
  {
   "cell_type": "code",
   "execution_count": 3,
   "metadata": {},
   "outputs": [],
   "source": [
    "PRECISION = 2"
   ]
  },
  {
   "cell_type": "code",
   "execution_count": 4,
   "metadata": {},
   "outputs": [],
   "source": [
    "%matplotlib inline"
   ]
  },
  {
   "cell_type": "markdown",
   "metadata": {},
   "source": [
    "### Convert contour points to polygons and sort them by area\n"
   ]
  },
  {
   "cell_type": "markdown",
   "metadata": {},
   "source": [
    "1. Start with list of dictionaries of contour coordinates \n",
    "    - Each dictionary contains the following items: \n",
    "        - ROI number \n",
    "            - Int ROI reference \n",
    "        - SliceIndex \n",
    "            - Float Z coordinate \n",
    "        - Coordinates \n",
    "            - List of coordinate points that form a closed polygon. \n",
    "2. Generate a contours DataFrame from the dictionary \n",
    "3. Convert each list of coordinate points to a polygon and validate it. \n",
    "4. Sort the contours DataFrame rows by  \n",
    "    - ROI \n",
    "    - SliceIndex \n",
    "    - Polygon area (decreasing) "
   ]
  },
  {
   "cell_type": "markdown",
   "metadata": {},
   "source": [
    "**SliceSequence** \n",
    "\n",
    "- Ordered list of all slice indexes in use \n",
    "- This sequence represents only the original contour slice indexes \n",
    "- **INIT**(Series of SliceIndex) \n",
    "    1. Take the SliceIndex column from the contours DataFrame  \n",
    "    1. Remove duplicates \n",
    "    1. Sort (increasing) \n",
    "    1. Set SliceIndex as the DataFrame index, but keep it as a column \n",
    "    1. Combine as a 3-column DataFrame \n",
    "        - ThisSlice:  SliceIndex,  \n",
    "        - NextSlice: SliceIndex shifted by + 1,  \n",
    "        - PreviousSlice: SliceIndex shifted by - 1 \n",
    "    1. Add a column 'Original' and set all values to True. \n",
    "- **get_neighbors**(SliceIndex) \n",
    "    > Return: \n",
    "    > - (*NextSlice*, *PreviousSlice*) for a given SliceIndex,  \n",
    "    > - *None* if the  given SliceIndex is not in the sequence "
   ]
  },
  {
   "cell_type": "markdown",
   "metadata": {},
   "source": [
    "### Create identify contours that are holes and build a graph of the contours"
   ]
  },
  {
   "cell_type": "markdown",
   "metadata": {},
   "source": [
    "#### Create an graph of the contours for the ROI"
   ]
  },
  {
   "cell_type": "markdown",
   "metadata": {},
   "source": [
    "**Find Contour Neighbours**\n",
    "\n",
    "- For each Node in the ROI-specific Contour Graph, *starting with the first SliceIndex*:\n",
    "\n",
    "1. Use the SliceSequence to obtain the Next SliceIndex.\n",
    "2. Find all Contour nodes of the same hole type *(IsHole True or IsHole False)* with that Next SliceIndex.\n",
    "3. If the Hulls of the two polygons overlap:\n",
    "    > 1. Create an edge between the two Contour nodes\n",
    "    > 2. Set a contourMatch attribute to the edge with the two Contour nodes as values.\n",
    "    > 3. Set the Thickness of the edge to the difference between the two SliceIndexes.\n",
    "\n",
    "4. For each Node in the ROI-specific ContourGraph calculate a Thickness from its edges."
   ]
  },
  {
   "cell_type": "markdown",
   "metadata": {},
   "source": [
    "**Contour Boundaries**\n",
    "1. Select all Contour nodes in the ContourGraph with only one edge (degree=1)\n",
    "2. For each of these nodes:\n",
    "    1. Generate an interpolated boundary Contour \n",
    "        > - The contour is located half way between the boundary contour slice \n",
    "            and the neighbour slice that is not linked with an edge.\n",
    "        > - set IsInterpolated to True\n",
    "        > - set IsBoundary is True\n",
    "        > - set IsHole matches the IsHole value of the non-interpolated Contour \n",
    "    1. Add the interpolated SliceIndex to SliceSequence:\n",
    "        > - set 'Original' = False\n",
    "        > - If the boundary contour SliceIndex  < the interpolated SliceIndex \n",
    "            >> - set 'PreviousSlice' = boundary contour SliceIndex, \n",
    "            >> - set NextSlice'= None\n",
    "        > - Else:\n",
    "            >> - set 'NextSlice'= boundary contour SliceIndex, \n",
    "            >> - set 'PreviousSlice '= None\n",
    "    1. Add the interpolated contour to the contour graph .\n",
    "    1. Add a ContourMatch edge between the original boundary contour and the interpolated contour."
   ]
  },
  {
   "cell_type": "markdown",
   "metadata": {},
   "source": [
    "**EnclosedRegionGraph**\n",
    "- SubGraph of ContourGraph\n",
    "- Identified as all nodes in ContourGraph that have a path between them\n",
    "- Has a unique RegionIndex\n"
   ]
  },
  {
   "cell_type": "markdown",
   "metadata": {},
   "source": [
    "**EnclosedRegions**\n",
    "1. Create an EnclosedRegion SubGraph for each collection of nodes in the ContourGraph that are connected by a path.\n",
    "2. For each EnclosedRegion:\n",
    "    1. Create a new EnclosedRegionLabel.\n",
    "    2. For each Contour node in the EnclosedRegion.\n",
    "        1. Set Contour.RegionIndex to the EnclosedRegionLabel.\n",
    "        2. Increment and Identify and label continuous contour regions.\n",
    "        \n",
    "**Note:** *Changes to the Contour nodes must reflect in the nodes of the ContourGraph*\n"
   ]
  },
  {
   "cell_type": "markdown",
   "metadata": {},
   "source": [
    "**Open (External) Holes**\n",
    "1. For each EnclosedRegion that is a hole:\n",
    "    1. Select its boundary contours.\n",
    "    2. Check whether there is a non-hole contour on the next slice that completely contains the hole boundary.\n",
    "    3. If any hole boundary does not have a non-hole contour on the next slice that completely contains that hole boundary, then the hole is ***Open*** (external).\n",
    "    4. If all hole boundaries have a non-hole contour on the next slice that completely contains that hole boundary, then the hole is ***Closed*** (internal).\n",
    "\n"
   ]
  },
  {
   "cell_type": "markdown",
   "metadata": {},
   "source": [
    "### RegionSlices\n"
   ]
  },
  {
   "cell_type": "markdown",
   "metadata": {},
   "source": [
    "**RegionSlice**\n",
    "\n",
    "RegionSlice is generated by adding all contours from the same EnclosedRegion and SliceIndex, subtracting all holes.  \n",
    "\n",
    "  - Related External holes are stored as a separate MultiPolygon attribute.\n",
    "  - RegionIndex\n",
    "  - SliceIndex\n",
    "  - Polygon\n",
    "  - ExternalHoles\n",
    "  - Boundaries\n",
    "  - Thickness\n",
    "  - Contours\n",
    "      - List of associated ContourIndexes\n",
    "\n",
    "**INIT**\n",
    "\n",
    "1. Receive all Contours from an EnclosedRegion with that SliceIndex.\n",
    "1. Populate the Contours attribute with a list of the node labels for the supplied Contours.\n",
    "1. Create a MultiPolygon by combining the Contour polygons that are not holes and not boundaries.\n",
    "1. Subtract the Contour polygons that are holes from the MultiPolygon\n",
    "1. Store the MultiPolygon in the Polygon attribute.\n",
    "1. Create another MultiPolygon by combining all boundary contours and subtracting all hole boundaries. store this in the Boundaries attribute.\n",
    "1. Create a third MultiPolygon by combining all External holes and store this in the ExternalHoles attribute.\n",
    "        \n"
   ]
  },
  {
   "cell_type": "markdown",
   "metadata": {},
   "source": [
    "**EnclosedRegionTable**\n",
    "\n",
    "- RegionIndex\n",
    "- SliceIndex\n",
    "- RegionSlice\n"
   ]
  },
  {
   "cell_type": "markdown",
   "metadata": {},
   "source": [
    "1. Create an EnclosedRegionTable\n",
    "2. For each SliceIndex in each EnclosedRegion: \n",
    "    1. Create a RegionSlice using all Contours from the EnclosedRegion with that SliceIndex\n",
    "    2. Calculate an approximate thickness value and set the RegionSlice Thickness attribute.\n",
    "        - Thickness = sum(edge.thickness*edge.combined_area)/sum(edge.combined_area)\n",
    "    3. Add the RegionSlice to the EnclosedRegionTable \n",
    "3. Place the EnclosedRegionTable and ContourGraph in a Structure\n"
   ]
  },
  {
   "cell_type": "markdown",
   "metadata": {},
   "source": [
    "### Structures \n",
    "\n",
    "For each ROI: \n",
    "\n",
    "1. Create a ContourGraph \n",
    "2. Create an EnclosedRegionTable\n",
    "3. Create a Structure \n"
   ]
  },
  {
   "cell_type": "markdown",
   "metadata": {},
   "source": [
    "**Structure**\n",
    "\n",
    "*Attributes:*\n",
    "\n",
    "  - ROI Number \n",
    "  - ID (name)\n",
    "  - ContourGraph \n",
    "  - EnclosedRegionTable \n",
    "  - Physical volume \n",
    "  - External volume \n",
    "  - Hull volume "
   ]
  },
  {
   "cell_type": "markdown",
   "metadata": {},
   "source": [
    "**Node Volume**\n",
    "- The volume of a node is approximated by a set of pseudo-cylinders\n",
    "- Each pseudo-cylinder is height is half of the gap between the node and one of \n",
    "   its neighbours.\n",
    "- the volume of the cylinder is the area of the cylinder times the half of the \n",
    "  gap.\n",
    "- If the node has only one neighbour in a given direction (positive or negative), \n",
    "  then the area of the cylinder is the weighted average of the area of the node \n",
    "  and its neighbour.\n",
    "  - The weight of the node area is 0.75 and the weight of the neighbouring \n",
    "    area is 0.25.\n",
    "  - These weights are used to approximate the volume of the node as a cylinder \n",
    "     in the region that is half of the gap between the node and the neighbour.\n",
    "- If the node has only one neighbour in each direction and the same gap, then \n",
    "  the volume of the node becomes the volume of a cylinder with the height equal \n",
    "  to the gap and area as 0.75 times the area of the node and 0.25 times the \n",
    "  area of the neighbouring nodes.\n",
    "  > $\\bar{A_i} = \\frac{3}{4}A_N + \\frac{1}{4}A_i$\n",
    "\n",
    "- If the node has more than one neighbour in a given direction, then the volume of the \n",
    "  node is approximated by the sum of the volumes of the pseudo-cylinders \n",
    "  between the node and its neighbours.\n",
    "- The sum of the areas of the pseudo-cylinders will be between the area of the \n",
    "  node and the area of the neighbouring nodes.\n",
    "  > $\\bar{A_i} = \\frac{3\\tilde{A_N} + A_i}{4}$<br><br>\n",
    "  > $\\tilde{A_N} = A_n\\frac{A_i}{\\sum{A_i}}$<br><br>\n",
    "  > $\\bar{A_i} = \\frac{A_i}{4}\\left(\\frac{3A_N}{\\sum{A_i}} + 1\\right)$\n",
    "\n",
    "- If the node has only one neighbour in a given direction, the weighting factor becomes:\n",
    "  > $\\bar{A_i} = \\frac{A_i}{4}\\left(\\frac{3A_N}{A_i} + 1\\right)$<br><br>\n",
    "  > $\\bar{A_i} = \\frac{3}{4}A_N + \\frac{1}{4}A_i$\n",
    "  > Which agrees with the previous case.\n",
    "\n",
    "The *combined area* ($A_c$) of an edge is the sum of the area of both nodes on the edge.  Rewriting the equation for the weighted area in terms of $A_N$ and $A_c$ gives:\n",
    "  > $A_c = A_N + A_i$<br><br>\n",
    "  > $\\sum{A_i} = \\sum{A_c} - n_iA_N$<br><br>\n",
    "  > $\\bar{A_i} = \\frac{A_i}{4}\\left(\\frac{3A_N}{\\sum{A_c} - n_iA_N} + 1\\right)$<br><br>\n",
    "  > $\\bar{A_i} = \\frac{A_i}{4}\\left(\\frac{3}{\\sum{\\frac{A_c}{A_N}} - n_i} + 1\\right)$<br><br>\n",
    "\n",
    "- The volume of the node is the sum of the volumes of the pseudo-cylinders multiplied by the thickness of the corresponding edges.\n",
    "  \n",
    "> Note: There is a difference between averaging by radius (r) and averaging by area ($r^2$) and averaging by volume ($r^3$).\n"
   ]
  },
  {
   "cell_type": "markdown",
   "metadata": {},
   "source": [
    "**Calculate Structure volumes**\n",
    "\n",
    "- **Physical** \n",
    "    1. For each node in ContourGraph: \n",
    "        1. Get the pseudo-area of the region between the node and each of its neighbours.\n",
    "        2. Calculate a slice volume as area * thickness \n",
    "        3. If the node is a hole set the volume as negative \n",
    "    1. Sum the slice volumes \n",
    "\n",
    "- **Exterior** \n",
    "    1. For each node in ContourGraph: \n",
    "        1. Get the area of the polygon \n",
    "        1. Get an approximate thickness value (based on all edges connected to the node). \n",
    "            - Thickness = sum(edge.thickness*edge.combined_area)/sum(edge.combined_area) \n",
    "        1. Calculate a slice volume as area * thickness \n",
    "        1. If the node is an open (exterior) hole set the volume as negative \n",
    "        1. If the node is a closed (interior) hole set the volume to zero\n",
    "    1. Sum the slice volumes \n",
    "\n",
    "- **Hull** \n",
    "    1. For each node in ContourGraph: \n",
    "        1. Get the area of the convex hull of the Polygon\n",
    "        1. Calculate a slice volume as area * thickness \n",
    "        1. If the node is a hole set the volume to zero \n",
    "    1. Sum the slice volumes\n",
    "\n",
    " "
   ]
  },
  {
   "cell_type": "markdown",
   "metadata": {},
   "source": [
    "## Data Processing Tests"
   ]
  },
  {
   "cell_type": "code",
   "execution_count": 5,
   "metadata": {},
   "outputs": [],
   "source": [
    "def embedded_spheres_example():\n",
    "    slice_spacing = 0.5\n",
    "    # Body structure defines slices in use\n",
    "    sphere6 = make_sphere(roi_num=1, radius=3, spacing=slice_spacing)\n",
    "    sphere3 = make_sphere(roi_num=2, radius=1.5, spacing=slice_spacing)\n",
    "    # combine the contours\n",
    "    slice_data = sphere6 + sphere3\n",
    "    return slice_data"
   ]
  },
  {
   "cell_type": "code",
   "execution_count": 6,
   "metadata": {},
   "outputs": [],
   "source": [
    "def multiple_spheres_example():\n",
    "    slice_spacing = 0.5\n",
    "    body = make_sphere(roi_num=0, radius=3, spacing=slice_spacing)\n",
    "    left_sphere = make_sphere(roi_num=1, radius=2, offset_x=-2.5, offset_z=0,\n",
    "                              spacing=slice_spacing)\n",
    "    right_sphere = make_sphere(roi_num=1, radius=2, offset_x=2.5, offset_z=0,\n",
    "                               spacing=slice_spacing)\n",
    "    right_middle_sphere = make_sphere(roi_num=2, radius=1, offset_x=2.5, offset_z=0,\n",
    "                                    spacing=slice_spacing)\n",
    "    # combine the contours\n",
    "    slice_data = left_sphere + right_sphere + right_middle_sphere + body\n",
    "    return slice_data"
   ]
  },
  {
   "cell_type": "code",
   "execution_count": 7,
   "metadata": {},
   "outputs": [],
   "source": [
    "def surrounded_horizontal_cylinder_example():\n",
    "    slice_spacing = 1\n",
    "    # Body structure defines slices in use\n",
    "    body = make_vertical_cylinder(roi_num=0, radius=12, length=16, offset_z=0,\n",
    "                                  spacing=slice_spacing)\n",
    "    outer_cylinder = make_horizontal_cylinder(roi_num=1, radius=6, length=10,\n",
    "                                              spacing=slice_spacing)\n",
    "    cylinder_hole = make_horizontal_cylinder(roi_num=1, radius=5, length=8,\n",
    "                                             spacing=slice_spacing)\n",
    "    surrounded_cylinder = make_horizontal_cylinder(roi_num=2, radius=3, length=6,\n",
    "                                                   spacing=slice_spacing)\n",
    "    # combine the contours\n",
    "    slice_data = body + outer_cylinder + cylinder_hole + surrounded_cylinder\n",
    "    # convert contour slice data into a table of slices and structures\n",
    "    return slice_data"
   ]
  },
  {
   "cell_type": "code",
   "execution_count": 8,
   "metadata": {},
   "outputs": [],
   "source": [
    "def shelters_horizontal_cylinder_single_side_example():\n",
    "    slice_spacing = 1\n",
    "    # Body structure defines slices in use\n",
    "    body = make_vertical_cylinder(roi_num=0, radius=12, length=16, offset_z=0,\n",
    "                                  spacing=slice_spacing)\n",
    "    outer_cylinder = make_horizontal_cylinder(roi_num=1, radius=6, length=10,\n",
    "                                              spacing=slice_spacing)\n",
    "    cylinder_hole = make_horizontal_cylinder(roi_num=1, radius=4, length=8,\n",
    "                                             offset_x=1, offset_z=0,\n",
    "                                             spacing=slice_spacing)\n",
    "    surrounded_cylinder = make_horizontal_cylinder(roi_num=2, radius=3,\n",
    "                                                   length=6, offset_x=1,\n",
    "                                                   spacing=slice_spacing)\n",
    "    # combine the contours\n",
    "    slice_data = outer_cylinder + cylinder_hole + surrounded_cylinder + body\n",
    "    return slice_data\n"
   ]
  },
  {
   "cell_type": "code",
   "execution_count": 9,
   "metadata": {},
   "outputs": [],
   "source": [
    "def sphere_in_shell_example():\n",
    "    slice_spacing = 1\n",
    "    # Body structure defines slices in use\n",
    "    body = make_vertical_cylinder(roi_num=0, radius=16, length=20, offset_z=0,\n",
    "                                    spacing=slice_spacing)\n",
    "    sphere12 = make_sphere(roi_num=1, radius=6, spacing=slice_spacing)\n",
    "    hole10 = make_sphere(roi_num=1, radius=5, spacing=slice_spacing)\n",
    "    sphere6 = make_sphere(roi_num=2, radius=3, spacing=slice_spacing)\n",
    "\n",
    "    # combine the contours\n",
    "    slice_data = body + sphere12 + hole10 + sphere6\n",
    "    return slice_data"
   ]
  },
  {
   "cell_type": "code",
   "execution_count": 10,
   "metadata": {},
   "outputs": [],
   "source": [
    "def single_box_example():\n",
    "    slice_spacing = 0.1\n",
    "    # Body structure defines slices in use\n",
    "    box3 = make_box(roi_num=1, width=3, spacing=slice_spacing)\n",
    "        # combine the contours\n",
    "    slice_data = box3\n",
    "    return slice_data"
   ]
  },
  {
   "cell_type": "markdown",
   "metadata": {},
   "source": [
    "- Box Width = 3\n",
    "- Slice area = 9\n",
    "- Slice Spacing = 0.1\n",
    "\n",
    "- Volume of each node = 3 * 3 * 0.1 = 0.9\n",
    "\n",
    "Ideal volume is $3 \\times 3 \\times 3 = 27$\n",
    "\n",
    "Actual volume should be  a bit less than $3 \\times 3 \\times (3 + 0.1) = 27.9$\n",
    "\n",
    "- The extra volume is due to the 1/2 slice projection of the box in the Z direction\n",
    "- but is reduced slightly due to interpolation of the slice area"
   ]
  },
  {
   "cell_type": "code",
   "execution_count": 23,
   "metadata": {},
   "outputs": [],
   "source": [
    "def box_with_hole_example():\n",
    "    slice_spacing = 0.5\n",
    "    # Body structure defines slices in use\n",
    "    box6 = make_box(roi_num=1, width=6, spacing=slice_spacing)\n",
    "    box3 = make_box(roi_num=1, width=3, spacing=slice_spacing)\n",
    "    # combine the contours\n",
    "    slice_data = box6 + box3\n",
    "    return slice_data"
   ]
  },
  {
   "cell_type": "markdown",
   "metadata": {},
   "source": [
    "- Box Width = 6\n",
    "- Slice area = 6x6 = 36\n",
    "- Hole Width = 3\n",
    "- Hole area = 3 x 3 = 9\n",
    "- Slice Spacing = 0.1\n",
    "\n",
    "- Volume of each node = (6 * 6 - 3 * 3) * 0.1 = (36 - 9) * 0.1 = 2.7\n",
    "\n",
    "- Ideal volume is $6 \\times 6 \\times 6 - 3 \\times 3 \\times 3 = 216 - 27 = 189$\n",
    "\n",
    "- Actual volume should be a bit less than \n",
    "$6 \\times 6 \\times (6 + 0.1) - 3 \\times 3 \\times (3 + 0.1) = 219.6 - 27.9 = 191.7$\n",
    "\n",
    "> - The extra volume is due to the 1/2 slice projection of the box in the Z direction\n",
    "> - but is reduced slightly due to interpolation of the slice area\n",
    "\n",
    "- External volume is the same as the ideal volume, but without the holes subtracted.\n",
    "- External volume should be a bit less than \n",
    "$6 \\times 6 \\times (6 + 0.1) = 219.6$\n"
   ]
  },
  {
   "cell_type": "code",
   "execution_count": 26,
   "metadata": {},
   "outputs": [],
   "source": [
    "def square_tube_example():\n",
    "    slice_spacing = 0.5\n",
    "    # Body structure defines slices in use\n",
    "    box6 = make_box(roi_num=1, width=6, spacing=slice_spacing)\n",
    "    box3 = make_box(roi_num=1, width=3, height=6,spacing=slice_spacing)\n",
    "    # combine the contours\n",
    "    slice_data = box6 + box3\n",
    "    return slice_data"
   ]
  },
  {
   "cell_type": "markdown",
   "metadata": {},
   "source": [
    "- Box Width = 6\n",
    "- Slice area = 6x6 = 36\n",
    "- Inside Width = 3\n",
    "- Inside area = 3 x 3 = 9\n",
    "- Slice Spacing = 0.1\n",
    "\n",
    "- Volume of central nodes = (6 * 6 - 3 * 3) * 0.1 = (36 - 9) * 0.1 = 2.7\n",
    "\n",
    "- Ideal volume is $(6 \\times 6 - 3 \\times 3) \\times 6 = (36 - 9) \\times 6 = 162$\n",
    "\n",
    "- Actual volume should be a bit less than \n",
    "$(6 \\times 6 - 3 \\times 3) \\times (6 + 0.1) = 164.7$\n",
    "\n",
    "> - The extra volume is due to the 1/2 slice projection of the box in the Z direction\n",
    "> - but is reduced slightly due to interpolation of the slice area\n",
    "\n",
    "- External volume is the same as the ideal volume in this case.\n",
    "\n",
    "- Hull volume is the same as the ideal volume, but without the inside area subtracted.\n",
    "- Hull volume should be a bit less than \n",
    "$6 \\times 6 \\times (6 + 0.1) = 219.6$\n"
   ]
  },
  {
   "cell_type": "markdown",
   "metadata": {},
   "source": [
    "# Apply Data Preprocess to the data"
   ]
  },
  {
   "cell_type": "code",
   "execution_count": 11,
   "metadata": {},
   "outputs": [],
   "source": [
    "slice_data = single_box_example()\n",
    "contour_table, slice_sequence = build_contour_table(slice_data)\n",
    "roi = 1\n",
    "contour_graph, slice_sequence = build_contour_graph(contour_table,\n",
    "                                                    slice_sequence, roi)\n",
    "contour_lookup = build_contour_lookup(contour_graph)\n",
    "enclosed_region_table = build_region_table(contour_graph, contour_lookup)"
   ]
  },
  {
   "cell_type": "code",
   "execution_count": 12,
   "metadata": {},
   "outputs": [
    {
     "data": {
      "image/png": "[encoded data removed]",
      "text/plain": [
       "<Figure size 640x480 with 1 Axes>"
      ]
     },
     "metadata": {},
     "output_type": "display_data"
    }
   ],
   "source": [
    "nx.draw(contour_graph, with_labels=True)"
   ]
  },
  {
   "cell_type": "code",
   "execution_count": 13,
   "metadata": {},
   "outputs": [
    {
     "data": {
      "text/plain": [
       "27.900000000000002"
      ]
     },
     "execution_count": 13,
     "metadata": {},
     "output_type": "execute_result"
    }
   ],
   "source": [
    "31*0.9"
   ]
  },
  {
   "cell_type": "code",
   "execution_count": 14,
   "metadata": {},
   "outputs": [],
   "source": [
    "slices = list(enclosed_region_table.RegionSlice)"
   ]
  },
  {
   "cell_type": "code",
   "execution_count": 15,
   "metadata": {},
   "outputs": [
    {
     "name": "stdout",
     "output_type": "stream",
     "text": [
      "Volume =  27.899999999999984\n"
     ]
    }
   ],
   "source": [
    "volume = 0\n",
    "thickness = 0.1\n",
    "for slice in slices:\n",
    "    area = slice.polygon.area\n",
    "    vol = area * thickness\n",
    "    volume += vol\n",
    "    #print(slice.SliceIndex, vol)\n",
    "print(\"Volume = \", volume)"
   ]
  },
  {
   "cell_type": "code",
   "execution_count": 16,
   "metadata": {},
   "outputs": [
    {
     "data": {
      "text/plain": [
       "[((1, 0.0, 15),\n",
       "  (1, -0.1, 14),\n",
       "  {'match': <contours.ContourMatch at 0x1973ab1cc90>}),\n",
       " ((1, 0.0, 15),\n",
       "  (1, 0.1, 16),\n",
       "  {'match': <contours.ContourMatch at 0x1973ab1ce10>})]"
      ]
     },
     "execution_count": 16,
     "metadata": {},
     "output_type": "execute_result"
    }
   ],
   "source": [
    "node = contour_graph.nodes[(1, 0.0, 15)]\n",
    "node_contour = node['contour']\n",
    "node_index = node_contour.index\n",
    "edges = list(contour_graph.edges(node_index, data=True))\n",
    "edges\n"
   ]
  },
  {
   "cell_type": "code",
   "execution_count": 17,
   "metadata": {},
   "outputs": [
    {
     "data": {
      "text/plain": [
       "0.9"
      ]
     },
     "execution_count": 17,
     "metadata": {},
     "output_type": "execute_result"
    }
   ],
   "source": [
    "\n",
    "calculate_node_volume(node_contour, edges)"
   ]
  },
  {
   "cell_type": "code",
   "execution_count": 22,
   "metadata": {},
   "outputs": [
    {
     "name": "stdout",
     "output_type": "stream",
     "text": [
      "Physical Volume: 27.562499999999986\n",
      "Exterior Volume: 27.562499999999986\n",
      "Hull Volume: 27.562499999999986\n"
     ]
    }
   ],
   "source": [
    "print('Physical Volume:', calculate_physical_volume(contour_graph))\n",
    "print('Exterior Volume:', calculate_exterior_volume(contour_graph))\n",
    "print('Hull Volume:', calculate_hull_volume(contour_graph))"
   ]
  },
  {
   "cell_type": "code",
   "execution_count": 24,
   "metadata": {},
   "outputs": [],
   "source": [
    "slice_data = box_with_hole_example()\n",
    "contour_table, slice_sequence = build_contour_table(slice_data)\n",
    "roi = 1\n",
    "contour_graph, slice_sequence = build_contour_graph(contour_table,\n",
    "                                                    slice_sequence, roi)\n",
    "contour_lookup = build_contour_lookup(contour_graph)\n",
    "enclosed_region_table = build_region_table(contour_graph, contour_lookup)"
   ]
  },
  {
   "cell_type": "code",
   "execution_count": 25,
   "metadata": {},
   "outputs": [
    {
     "name": "stdout",
     "output_type": "stream",
     "text": [
      "Physical Volume: 197.4375\n",
      "Exterior Volume: 227.25\n",
      "Hull Volume: 227.25\n"
     ]
    }
   ],
   "source": [
    "print('Physical Volume:', calculate_physical_volume(contour_graph))\n",
    "print('Exterior Volume:', calculate_exterior_volume(contour_graph))\n",
    "print('Hull Volume:', calculate_hull_volume(contour_graph))"
   ]
  },
  {
   "cell_type": "code",
   "execution_count": 27,
   "metadata": {},
   "outputs": [],
   "source": [
    "slice_data = square_tube_example()\n",
    "contour_table, slice_sequence = build_contour_table(slice_data)\n",
    "roi = 1\n",
    "contour_graph, slice_sequence = build_contour_graph(contour_table,\n",
    "                                                    slice_sequence, roi)\n",
    "contour_lookup = build_contour_lookup(contour_graph)\n",
    "enclosed_region_table = build_region_table(contour_graph, contour_lookup)"
   ]
  },
  {
   "cell_type": "code",
   "execution_count": 28,
   "metadata": {},
   "outputs": [
    {
     "name": "stdout",
     "output_type": "stream",
     "text": [
      "Physical Volume: 170.4375\n",
      "Exterior Volume: 170.4375\n",
      "Hull Volume: 227.25\n"
     ]
    }
   ],
   "source": [
    "print('Physical Volume:', calculate_physical_volume(contour_graph))\n",
    "print('Exterior Volume:', calculate_exterior_volume(contour_graph))\n",
    "print('Hull Volume:', calculate_hull_volume(contour_graph))"
   ]
  },
  {
   "cell_type": "markdown",
   "metadata": {},
   "source": [
    "# Volumes are slightly larger than expected"
   ]
  },
  {
   "cell_type": "markdown",
   "metadata": {},
   "source": [
    "## Relation analysis process \n",
    "1. Sort structures by increasing Hull volume \n",
    "2. Starting with largest, get relations for all other structures \n",
    "    1. for each slice containing the structure:\n",
    "        1. for each RegionSlice of that structure on the slice:\n",
    "            1. Get a 27 bit relation with all RegionSlices of the other \n",
    "               structure that are on the same slice. \n",
    "                - MultiPolygon vs MultiPolygon\n",
    "                - (BoundaryPolygon + External holes) vs MultiPolygon  \n",
    "                - Convex Hull  vs MultiPolygon \n",
    "            1. Apply appropriate corrections for holes and boundaries. \n",
    "            1. If the region is a boundary, build a temporary RegionSlice from ContourGraph \n",
    "                1. If there is no matching slice for the other structure, \n",
    "                    interpolate the closest slices in the regions of the other \n",
    "                    structure. \n",
    "                1. Use SliceSequence to find nearest possible slices \n",
    "                1. If boundary slice exists in SliceSequence then no other structure \n",
    "                1. Get two nearest slice index \n",
    "                1. Find all Contours for other structure at those slice indexes \n",
    "                1. Interpolate contour points onto boundary slice \n",
    "                1. Generate new interpolated contours \n",
    "                1. Add interpolated contours to ContourGraph, but do not update SliceSequence  \n",
    "                1. *Create a new RegionSlice?*\n",
    "    2. Combine all relations with OR \n",
    "2. Create a relations Graph with structures as nodes and relations as edges \n",
    "2. Identify Logical relationships "
   ]
  },
  {
   "cell_type": "markdown",
   "metadata": {},
   "source": [
    "**StructureSet**\n",
    "\n",
    "- List of Structures \n",
    "- RelationshipGraph "
   ]
  }
 ],
 "metadata": {
  "kernelspec": {
   "display_name": "StructureRelations",
   "language": "python",
   "name": "python3"
  },
  "language_info": {
   "codemirror_mode": {
    "name": "ipython",
    "version": 3
   },
   "file_extension": ".py",
   "mimetype": "text/x-python",
   "name": "python",
   "nbconvert_exporter": "python",
   "pygments_lexer": "ipython3",
   "version": "3.11.9"
  }
 },
 "nbformat": 4,
 "nbformat_minor": 4
}
