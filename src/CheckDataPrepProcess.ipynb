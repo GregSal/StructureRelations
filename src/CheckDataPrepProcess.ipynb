{
 "cells": [
  {
   "cell_type": "markdown",
   "metadata": {},
   "source": [
    "# Temporary Notebook for developing new Data prep Process\n"
   ]
  },
  {
   "cell_type": "code",
   "execution_count": 1,
   "metadata": {},
   "outputs": [],
   "source": [
    "from collections import defaultdict\n",
    "from collections import Counter\n",
    "\n",
    "import pandas as pd\n",
    "from shapely.geometry import Polygon\n"
   ]
  },
  {
   "cell_type": "code",
   "execution_count": 2,
   "metadata": {},
   "outputs": [],
   "source": [
    "# Local functions and classes\n",
    "from types_and_classes import *\n",
    "from utilities import *\n",
    "from contours import *\n",
    "from contour_graph import *\n",
    "from debug_tools import *\n",
    "from structures import *\n",
    "from region_slice import *\n",
    "#from structure_set import *\n",
    "from relations import *\n"
   ]
  },
  {
   "cell_type": "markdown",
   "metadata": {},
   "source": [
    "### Global Settings"
   ]
  },
  {
   "cell_type": "code",
   "execution_count": 3,
   "metadata": {},
   "outputs": [],
   "source": [
    "PRECISION = 2"
   ]
  },
  {
   "cell_type": "code",
   "execution_count": 4,
   "metadata": {},
   "outputs": [],
   "source": [
    "%matplotlib inline"
   ]
  },
  {
   "cell_type": "markdown",
   "metadata": {},
   "source": [
    "## Build External polygon as the union of all polygons crated from boundary lines\n"
   ]
  },
  {
   "cell_type": "markdown",
   "metadata": {},
   "source": [
    "### Polygon with island"
   ]
  },
  {
   "cell_type": "code",
   "execution_count": 5,
   "metadata": {},
   "outputs": [
    {
     "data": {
      "image/svg+xml": [
       "<svg xmlns=\"http://www.w3.org/2000/svg\" xmlns:xlink=\"http://www.w3.org/1999/xlink\" width=\"100.0\" height=\"100.0\" viewBox=\"-3.24 -3.24 6.48 6.48\" preserveAspectRatio=\"xMinYMin meet\"><g transform=\"matrix(1,0,0,-1,0,0.0)\"><g><path fill-rule=\"evenodd\" fill=\"#66cc99\" stroke=\"#555555\" stroke-width=\"0.12960000000000002\" opacity=\"0.6\" d=\"M 2.121,2.121 L 2.772,1.148 L 3.0,0.0 L 2.772,-1.148 L 2.121,-2.121 L 1.148,-2.772 L 0.0,-3.0 L -1.148,-2.772 L -2.121,-2.121 L -2.772,-1.148 L -3.0,0.0 L -2.772,1.148 L -2.121,2.121 L -1.148,2.772 L 0.0,3.0 L 1.148,2.772 L 2.121,2.121 z M -1.414,1.414 L -1.848,0.765 L -2.0,0.0 L -1.848,-0.765 L -1.414,-1.414 L -0.765,-1.848 L 0.0,-2.0 L 0.765,-1.848 L 1.414,-1.414 L 1.848,-0.765 L 2.0,0.0 L 1.848,0.765 L 1.414,1.414 L 0.765,1.848 L 0.0,2.0 L -0.765,1.848 L -1.414,1.414 z\" /><path fill-rule=\"evenodd\" fill=\"#66cc99\" stroke=\"#555555\" stroke-width=\"0.12960000000000002\" opacity=\"0.6\" d=\"M 0.574,1.386 L 1.061,1.061 L 1.386,0.574 L 1.5,0.0 L 1.386,-0.574 L 1.061,-1.061 L 0.574,-1.386 L 0.0,-1.5 L -0.574,-1.386 L -1.061,-1.061 L -1.386,-0.574 L -1.5,0.0 L -1.386,0.574 L -1.061,1.061 L -0.574,1.386 L 0.0,1.5 L 0.574,1.386 z\" /></g></g></svg>"
      ],
      "text/plain": [
       "<MULTIPOLYGON (((2.121 2.121, 2.772 1.148, 3 0, 2.772 -1.148, 2.121 -2.121, ...>"
      ]
     },
     "execution_count": 5,
     "metadata": {},
     "output_type": "execute_result"
    }
   ],
   "source": [
    "circle6 = shapely.Polygon(circle_points(3))\n",
    "circle4 = shapely.Polygon(circle_points(2))\n",
    "circle3 = shapely.Polygon(circle_points(1.5))\n",
    "circle2 = shapely.Polygon(circle_points(1))\n",
    "circle2_left = shapely.Polygon(circle_points(1, offset_x=-2))\n",
    "a = (circle6 - circle4).union(circle3)\n",
    "a"
   ]
  },
  {
   "cell_type": "markdown",
   "metadata": {},
   "source": [
    "### Boundary lines of the polygon\n"
   ]
  },
  {
   "cell_type": "code",
   "execution_count": 6,
   "metadata": {},
   "outputs": [
    {
     "data": {
      "image/svg+xml": [
       "<svg xmlns=\"http://www.w3.org/2000/svg\" xmlns:xlink=\"http://www.w3.org/1999/xlink\" width=\"100.0\" height=\"100.0\" viewBox=\"-3.24 -3.24 6.48 6.48\" preserveAspectRatio=\"xMinYMin meet\"><g transform=\"matrix(1,0,0,-1,0,0.0)\"><g><polyline fill=\"none\" stroke=\"#66cc99\" stroke-width=\"0.12960000000000002\" points=\"2.121,2.121 2.772,1.148 3.0,0.0 2.772,-1.148 2.121,-2.121 1.148,-2.772 0.0,-3.0 -1.148,-2.772 -2.121,-2.121 -2.772,-1.148 -3.0,0.0 -2.772,1.148 -2.121,2.121 -1.148,2.772 0.0,3.0 1.148,2.772 2.121,2.121\" opacity=\"0.8\" /><polyline fill=\"none\" stroke=\"#66cc99\" stroke-width=\"0.12960000000000002\" points=\"-1.414,1.414 -1.848,0.765 -2.0,0.0 -1.848,-0.765 -1.414,-1.414 -0.765,-1.848 0.0,-2.0 0.765,-1.848 1.414,-1.414 1.848,-0.765 2.0,0.0 1.848,0.765 1.414,1.414 0.765,1.848 0.0,2.0 -0.765,1.848 -1.414,1.414\" opacity=\"0.8\" /><polyline fill=\"none\" stroke=\"#66cc99\" stroke-width=\"0.12960000000000002\" points=\"0.574,1.386 1.061,1.061 1.386,0.574 1.5,0.0 1.386,-0.574 1.061,-1.061 0.574,-1.386 0.0,-1.5 -0.574,-1.386 -1.061,-1.061 -1.386,-0.574 -1.5,0.0 -1.386,0.574 -1.061,1.061 -0.574,1.386 0.0,1.5 0.574,1.386\" opacity=\"0.8\" /></g></g></svg>"
      ],
      "text/plain": [
       "<MULTILINESTRING ((2.121 2.121, 2.772 1.148, 3 0, 2.772 -1.148, 2.121 -2.121...>"
      ]
     },
     "execution_count": 6,
     "metadata": {},
     "output_type": "execute_result"
    }
   ],
   "source": [
    "a.boundary"
   ]
  },
  {
   "cell_type": "code",
   "execution_count": 7,
   "metadata": {},
   "outputs": [
    {
     "name": "stdout",
     "output_type": "stream",
     "text": [
      "LINESTRING (2.121 2.121, 2.772 1.148, 3 0, 2.772 -1.148, 2.121 -2.121, 1.148 -2.772, 0 -3, -1.148 -2.772, -2.121 -2.121, -2.772 -1.148, -3 0, -2.772 1.148, -2.121 2.121, -1.148 2.772, 0 3, 1.148 2.772, 2.121 2.121)\n",
      "LINESTRING (-1.414 1.414, -1.848 0.765, -2 0, -1.848 -0.765, -1.414 -1.414, -0.765 -1.848, 0 -2, 0.765 -1.848, 1.414 -1.414, 1.848 -0.765, 2 0, 1.848 0.765, 1.414 1.414, 0.765 1.848, 0 2, -0.765 1.848, -1.414 1.414)\n",
      "LINESTRING (0.574 1.386, 1.061 1.061, 1.386 0.574, 1.5 0, 1.386 -0.574, 1.061 -1.061, 0.574 -1.386, 0 -1.5, -0.574 -1.386, -1.061 -1.061, -1.386 -0.574, -1.5 0, -1.386 0.574, -1.061 1.061, -0.574 1.386, 0 1.5, 0.574 1.386)\n"
     ]
    }
   ],
   "source": [
    "for b in a.boundary.geoms:\n",
    "    print(b)\n"
   ]
  },
  {
   "cell_type": "markdown",
   "metadata": {},
   "source": [
    "### Union of all boundary lines"
   ]
  },
  {
   "cell_type": "code",
   "execution_count": 8,
   "metadata": {},
   "outputs": [
    {
     "data": {
      "image/svg+xml": [
       "<svg xmlns=\"http://www.w3.org/2000/svg\" xmlns:xlink=\"http://www.w3.org/1999/xlink\" width=\"100.0\" height=\"100.0\" viewBox=\"-3.24 -3.24 6.48 6.48\" preserveAspectRatio=\"xMinYMin meet\"><g transform=\"matrix(1,0,0,-1,0,0.0)\"><path fill-rule=\"evenodd\" fill=\"#66cc99\" stroke=\"#555555\" stroke-width=\"0.12960000000000002\" opacity=\"0.6\" d=\"M 2.772,1.148 L 3.0,0.0 L 2.772,-1.148 L 2.121,-2.121 L 1.148,-2.772 L 0.0,-3.0 L -1.148,-2.772 L -2.121,-2.121 L -2.772,-1.148 L -3.0,0.0 L -2.772,1.148 L -2.121,2.121 L -1.148,2.772 L 0.0,3.0 L 1.148,2.772 L 2.121,2.121 L 2.772,1.148 z\" /></g></svg>"
      ],
      "text/plain": [
       "<POLYGON ((2.772 1.148, 3 0, 2.772 -1.148, 2.121 -2.121, 1.148 -2.772, 0 -3,...>"
      ]
     },
     "execution_count": 8,
     "metadata": {},
     "output_type": "execute_result"
    }
   ],
   "source": [
    "shapely.union_all([shapely.Polygon(b) for b in a.boundary.geoms])\n"
   ]
  },
  {
   "cell_type": "markdown",
   "metadata": {},
   "source": [
    "- `get_exterior_ring` does not work with MultiPolygons\n",
    "    - it return `None` for complex MultiPolygons"
   ]
  },
  {
   "cell_type": "code",
   "execution_count": 9,
   "metadata": {},
   "outputs": [
    {
     "data": {
      "image/svg+xml": [
       "<svg xmlns=\"http://www.w3.org/2000/svg\" xmlns:xlink=\"http://www.w3.org/1999/xlink\" width=\"100.0\" height=\"100.0\" viewBox=\"-3.16 -1.16 4.32 2.32\" preserveAspectRatio=\"xMinYMin meet\"><g transform=\"matrix(1,0,0,-1,0,0.0)\"><g><path fill-rule=\"evenodd\" fill=\"#66cc99\" stroke=\"#555555\" stroke-width=\"0.0864\" opacity=\"0.6\" d=\"M 0.383,0.924 L 0.707,0.707 L 0.924,0.383 L 1.0,0.0 L 0.924,-0.383 L 0.707,-0.707 L 0.383,-0.924 L 0.0,-1.0 L -0.383,-0.924 L -0.707,-0.707 L -0.924,-0.383 L -1.0,0.0 L -0.924,0.383 L -0.707,0.707 L -0.383,0.924 L 0.0,1.0 L 0.383,0.924 z\" /><path fill-rule=\"evenodd\" fill=\"#66cc99\" stroke=\"#555555\" stroke-width=\"0.0864\" opacity=\"0.6\" d=\"M -1.617,0.924 L -1.2930000000000001,0.707 L -1.076,0.383 L -1.0,0.0 L -1.076,-0.383 L -1.2930000000000001,-0.707 L -1.617,-0.924 L -2.0,-1.0 L -2.383,-0.924 L -2.707,-0.707 L -2.924,-0.383 L -3.0,0.0 L -2.924,0.383 L -2.707,0.707 L -2.383,0.924 L -2.0,1.0 L -1.617,0.924 z\" /></g></g></svg>"
      ],
      "text/plain": [
       "<MULTIPOLYGON (((0.383 0.924, 0.707 0.707, 0.924 0.383, 1 0, 0.924 -0.383, 0...>"
      ]
     },
     "execution_count": 9,
     "metadata": {},
     "output_type": "execute_result"
    }
   ],
   "source": [
    "b = circle2.union(circle2_left)\n",
    "b"
   ]
  },
  {
   "cell_type": "code",
   "execution_count": 10,
   "metadata": {},
   "outputs": [
    {
     "name": "stdout",
     "output_type": "stream",
     "text": [
      "None\n"
     ]
    }
   ],
   "source": [
    "print(shapely.get_exterior_ring(b))"
   ]
  },
  {
   "cell_type": "markdown",
   "metadata": {},
   "source": [
    "- `shapely.concave_hull(b)` does not work at all without manually compiling a new version of GEOS\n",
    "`shapely.concave_hull(b)`\n",
    "---------------------------------------------------------------------------\n",
    "UnsupportedGEOSVersionError: `concave_hull` requires at least GEOS 3.11.0."
   ]
  },
  {
   "cell_type": "code",
   "execution_count": 11,
   "metadata": {},
   "outputs": [],
   "source": [
    "relation_type = DE27IM(a, circle2).identify_relation()\n"
   ]
  },
  {
   "cell_type": "markdown",
   "metadata": {},
   "source": [
    "### Convert contour points to polygons and sort them by area\n"
   ]
  },
  {
   "cell_type": "markdown",
   "metadata": {},
   "source": [
    "1. Start with list of dictionaries of contour coordinates \n",
    "    - Each dictionary contains the following items: \n",
    "        - ROI number \n",
    "            - Int ROI reference \n",
    "        - SliceIndex \n",
    "            - Float Z coordinate \n",
    "        - Coordinates \n",
    "            - List of coordinate points that form a closed polygon. \n",
    "2. Generate a contours DataFrame from the dictionary \n",
    "3. Convert each list of coordinate points to a polygon and validate it. \n",
    "4. Sort the contours DataFrame rows by  \n",
    "    - ROI \n",
    "    - SliceIndex \n",
    "    - Polygon area (decreasing) "
   ]
  },
  {
   "cell_type": "markdown",
   "metadata": {},
   "source": [
    "#### SliceSequence\n",
    "\n",
    "- Ordered list of all slice indexes in use \n",
    "- This sequence represents only the original contour slice indexes \n",
    "- **INIT**(Series of SliceIndex) \n",
    "    1. Take the SliceIndex column from the contours DataFrame  \n",
    "    1. Remove duplicates \n",
    "    1. Sort (increasing) \n",
    "    1. Set SliceIndex as the DataFrame index, but keep it as a column \n",
    "    1. Combine as a 3-column DataFrame \n",
    "        - ThisSlice:  SliceIndex,  \n",
    "        - NextSlice: SliceIndex shifted by + 1,  \n",
    "        - PreviousSlice: SliceIndex shifted by - 1 \n",
    "    1. Add a column 'Original' and set all values to True. \n",
    "- **get_neighbors**(SliceIndex) \n",
    "    > Return: \n",
    "    > - (*NextSlice*, *PreviousSlice*) for a given SliceIndex,  \n",
    "    > - *None* if the  given SliceIndex is not in the sequence "
   ]
  },
  {
   "cell_type": "markdown",
   "metadata": {},
   "source": [
    "### Create identify contours that are holes and build a graph of the contours"
   ]
  },
  {
   "cell_type": "markdown",
   "metadata": {},
   "source": [
    "#### Create an graph of the contours for the ROI"
   ]
  },
  {
   "cell_type": "markdown",
   "metadata": {},
   "source": [
    "##### Find Contour Neighbours\n",
    "\n",
    "- For each Node in the ROI-specific Contour Graph, *starting with the first SliceIndex*:\n",
    "\n",
    "1. Use the SliceSequence to obtain the Next SliceIndex.\n",
    "2. Find all Contour nodes of the same hole type *(IsHole True or IsHole False)* with that Next SliceIndex.\n",
    "3. If the Hulls of the two polygons overlap:\n",
    "    > 1. Create an edge between the two Contour nodes\n",
    "    > 2. Set a contourMatch attribute to the edge with the two Contour nodes as values.\n",
    "    > 3. Set the Thickness of the edge to the difference between the two SliceIndexes.\n",
    "\n",
    "4. For each Node in the ROI-specific ContourGraph calculate a Thickness from its edges."
   ]
  },
  {
   "cell_type": "markdown",
   "metadata": {},
   "source": [
    "##### Contour Boundaries\n",
    "1. Select all Contour nodes in the ContourGraph with only one edge (degree=1)\n",
    "2. For each of these nodes:\n",
    "    1. Generate an interpolated boundary Contour \n",
    "        > - The contour is located half way between the boundary contour slice \n",
    "            and the neighbour slice that is not linked with an edge.\n",
    "        > - set IsInterpolated to True\n",
    "        > - set IsBoundary is True\n",
    "        > - set IsHole matches the IsHole value of the non-interpolated Contour \n",
    "    1. Add the interpolated SliceIndex to SliceSequence:\n",
    "        > - set 'Original' = False\n",
    "        > - If the boundary contour SliceIndex  < the interpolated SliceIndex \n",
    "            >> - set 'PreviousSlice' = boundary contour SliceIndex, \n",
    "            >> - set NextSlice'= None\n",
    "        > - Else:\n",
    "            >> - set 'NextSlice'= boundary contour SliceIndex, \n",
    "            >> - set 'PreviousSlice '= None\n",
    "    1. Add the interpolated contour to the contour graph .\n",
    "    1. Add a ContourMatch edge between the original boundary contour and the interpolated contour."
   ]
  },
  {
   "cell_type": "markdown",
   "metadata": {},
   "source": [
    "##### EnclosedRegionGraph\n",
    "- SubGraph of ContourGraph\n",
    "- Identified as all nodes in ContourGraph that have a path between them\n",
    "- Has a unique RegionIndex\n"
   ]
  },
  {
   "cell_type": "markdown",
   "metadata": {},
   "source": [
    "##### EnclosedRegions\n",
    "1. Create an EnclosedRegion SubGraph for each collection of nodes in the ContourGraph that are connected by a path.\n",
    "2. For each EnclosedRegion:\n",
    "    1. Create a new EnclosedRegionLabel.\n",
    "    2. For each Contour node in the EnclosedRegion.\n",
    "        1. Set Contour.RegionIndex to the EnclosedRegionLabel.\n",
    "        2. Increment and Identify and label continuous contour regions.\n",
    "        \n",
    "**Note:** *Changes to the Contour nodes must reflect in the nodes of the ContourGraph*\n"
   ]
  },
  {
   "cell_type": "markdown",
   "metadata": {},
   "source": [
    "##### Open (External) Holes\n",
    "1. For each EnclosedRegion that is a hole:\n",
    "    1. Select its boundary contours.\n",
    "    2. Check whether there is a non-hole contour on the next slice that completely contains the hole boundary.\n",
    "    3. If any hole boundary does not have a non-hole contour on the next slice that completely contains that hole boundary, then the hole is ***Open*** (external).\n",
    "    4. If all hole boundaries have a non-hole contour on the next slice that completely contains that hole boundary, then the hole is ***Closed*** (internal).\n",
    "\n"
   ]
  },
  {
   "cell_type": "markdown",
   "metadata": {},
   "source": [
    "##### Create interpolated slices as needed for each contour graph\n",
    "1. Find all slice indexes that are not original\n",
    "2. For each slice index:\n",
    "    1. use contour_lookup to determine if that slice exists in the contour graph.'\n",
    "    2. If it does not exist, but the previous and next slices do, and have the same region index:\n",
    "        1. create an interpolated contour at the specified index.\n",
    "        2. set the IsInterpolated attribute to True.\n",
    "        3. set the region index to the region index of the previous slice.\n",
    "        4. set the IsBoundary attribute to False\n",
    "        4. add the interpolated contour to the contour graph.\n",
    "        5. Add edges to the contour graph between the interpolated contour and the previous and next slices.\n"
   ]
  },
  {
   "cell_type": "markdown",
   "metadata": {},
   "source": [
    "##### Volume\n",
    "- The volume of a node is not defined because it represents a 2D contour on a \n",
    "  slice plane.\n",
    "- Volumes are associated with edges (a ContourMatch object).\n",
    "- An edge volume approximated by linearly projecting the contour on one \n",
    "  node to the contour on the other node.\n",
    "- The volume of this projection is the average of the area of the *contours* of \n",
    "  the two nodes, multiplied by the difference between the *slice index* of the \n",
    "  two nodes.\n",
    "\n",
    "\n"
   ]
  },
  {
   "cell_type": "markdown",
   "metadata": {},
   "source": [
    "### RegionSlices\n"
   ]
  },
  {
   "cell_type": "markdown",
   "metadata": {},
   "source": [
    "#### RegionSlice\n",
    "\n",
    "RegionSlice is generated by adding all contours from the same EnclosedRegion and SliceIndex, subtracting all holes.  \n",
    "\n",
    "  - Related External holes are stored as a separate MultiPolygon attribute.\n",
    "  - RegionIndex\n",
    "  - SliceIndex\n",
    "  - Polygon\n",
    "  - ExternalHoles\n",
    "  - Boundaries\n",
    "  - Thickness\n",
    "  - Contours\n",
    "      - List of associated ContourIndexes\n",
    "\n",
    "##### INIT\n",
    "\n",
    "1. Receive all Contours from an EnclosedRegion with that SliceIndex.\n",
    "1. Populate the Contours attribute with a list of the node labels for the supplied Contours.\n",
    "1. Create a MultiPolygon by combining the Contour polygons that are not holes and not boundaries.\n",
    "1. Subtract the Contour polygons that are holes from the MultiPolygon\n",
    "1. Store the MultiPolygon in the Polygon attribute.\n",
    "1. Create another MultiPolygon by combining all boundary contours and subtracting all hole boundaries. store this in the Boundaries attribute.\n",
    "1. Create a third MultiPolygon by combining all External holes and store this in the ExternalHoles attribute.\n",
    "        \n"
   ]
  },
  {
   "cell_type": "markdown",
   "metadata": {},
   "source": [
    "##### EnclosedRegionTable\n",
    "\n",
    "- RegionIndex\n",
    "- SliceIndex\n",
    "- RegionSlice\n",
    "\n",
    "1. Create an EnclosedRegionTable\n",
    "2. For each SliceIndex in each EnclosedRegion: \n",
    "    1. Create a RegionSlice using all Contours from the EnclosedRegion with that SliceIndex\n",
    "    2. Calculate an approximate thickness value and set the RegionSlice Thickness attribute.\n",
    "        - Thickness = sum(edge.thickness*edge.combined_area)/sum(edge.combined_area)\n",
    "    3. Add the RegionSlice to the EnclosedRegionTable \n",
    "3. Place the EnclosedRegionTable and ContourGraph in a Structure\n"
   ]
  },
  {
   "cell_type": "markdown",
   "metadata": {},
   "source": [
    "### Structures \n",
    "\n",
    "For each ROI: \n",
    "\n",
    "1. Create a ContourGraph \n",
    "2. Create an EnclosedRegionTable\n",
    "3. Create a Structure \n"
   ]
  },
  {
   "cell_type": "markdown",
   "metadata": {},
   "source": [
    "#### Structure\n",
    "\n",
    "*Attributes:*\n",
    "\n",
    "  - ROI Number \n",
    "  - ID (name)\n",
    "  - ContourGraph \n",
    "  - EnclosedRegionTable \n",
    "  - Physical volume \n",
    "  - External volume \n",
    "  - Hull volume "
   ]
  },
  {
   "cell_type": "markdown",
   "metadata": {},
   "source": [
    "##### Calculate Structure volumes\n",
    "\n",
    "- **Physical** \n",
    "    1. For each node in ContourGraph: \n",
    "        1. Get the pseudo-area of the region between the node and each of its neighbours.\n",
    "        2. Calculate a slice volume as area * thickness \n",
    "        3. If the node is a hole set the volume as negative \n",
    "    1. Sum the slice volumes \n",
    "\n",
    "- **Exterior** \n",
    "    1. For each node in ContourGraph: \n",
    "        1. Get the area of the polygon \n",
    "        1. Get an approximate thickness value (based on all edges connected to the node). \n",
    "            - Thickness = sum(edge.thickness*edge.combined_area)/sum(edge.combined_area) \n",
    "        1. Calculate a slice volume as area * thickness \n",
    "        1. If the node is an open (exterior) hole set the volume as negative \n",
    "        1. If the node is a closed (interior) hole set the volume to zero\n",
    "    1. Sum the slice volumes \n",
    "\n",
    "- **Hull** \n",
    "    1. For each node in ContourGraph: \n",
    "        1. Get the area of the convex hull of the Polygon\n",
    "        1. Calculate a slice volume as area * thickness \n",
    "        1. If the node is a hole set the volume to zero \n",
    "    1. Sum the slice volumes\n",
    "\n",
    " "
   ]
  },
  {
   "cell_type": "markdown",
   "metadata": {},
   "source": [
    "## Data Processing Tests"
   ]
  },
  {
   "cell_type": "markdown",
   "metadata": {},
   "source": [
    "- use the hole_test_contour_table function since it is the most complete.\n",
    "- Check the data in the columns\n",
    "- ROI, SliceIndex, HoleType, Interpolated, Boundary,  RegionIndex,\n",
    "- and Label\n",
    "- ROI should have the same value for the entire column\n",
    "- SliceIndex should be sorted in ascending order. It should have values\n",
    "- from 0 to 5 and half integer values for the boundaries\n",
    "- Contours that are boundaries should also be interpolated.\n",
    "- The hole type should be \"None\" for all contours that are not holes.\n",
    "- Label should be a tuple of the ROI, the SliceIndex and the ContourIndex.\n",
    "- ROI 1 should have boundaries on slice 0.5 and 4.5,\n",
    "- the hole region should be \"Open\" at both ends.\n",
    "- It should have two regions.\n",
    "- ROI 2 should have boundaries on slice 0.5, 1.5, 3.5 and 4.5,\n",
    "- the hole region should be \"Closed\".\n",
    "- It should have two regions."
   ]
  },
  {
   "cell_type": "code",
   "execution_count": 12,
   "metadata": {},
   "outputs": [],
   "source": [
    "def single_box_example():\n",
    "    slice_spacing = 0.1\n",
    "    # Body structure defines slices in use\n",
    "    box3 = make_box(roi_num=1, width=3, spacing=slice_spacing)\n",
    "        # combine the contours\n",
    "    slice_data = box3\n",
    "    return slice_data"
   ]
  },
  {
   "cell_type": "markdown",
   "metadata": {},
   "source": [
    "- Box Width = 3\n",
    "- Slice area = 9\n",
    "- Slice Spacing = 0.1\n",
    "\n",
    "- Volume of each node = 3 * 3 * 0.1 = 0.9\n",
    "\n",
    "Ideal volume is $3 \\times 3 \\times 3 = 27$\n",
    "\n",
    "Actual volume should be  a bit less than $3 \\times 3 \\times (3 + 0.1) = 27.9$\n",
    "\n",
    "- The extra volume is due to the 1/2 slice projection of the box in the Z direction\n",
    "- but is reduced slightly due to interpolation of the slice area"
   ]
  },
  {
   "cell_type": "code",
   "execution_count": 13,
   "metadata": {},
   "outputs": [],
   "source": [
    "def box_with_hole_example():\n",
    "    slice_spacing = 0.1\n",
    "    # Body structure defines slices in use\n",
    "    box6 = make_box(roi_num=1, width=6, spacing=slice_spacing)\n",
    "    box3 = make_box(roi_num=1, width=3, spacing=slice_spacing)\n",
    "    # combine the contours\n",
    "    slice_data = box6 + box3\n",
    "    return slice_data"
   ]
  },
  {
   "cell_type": "markdown",
   "metadata": {},
   "source": [
    "- Box Width = 6\n",
    "- Slice area = 6x6 = 36\n",
    "- Hole Width = 3\n",
    "- Hole area = 3 x 3 = 9\n",
    "- Slice Spacing = 0.1\n",
    "\n",
    "- Volume of each node = (6 * 6 - 3 * 3) * 0.1 = (36 - 9) * 0.1 = 2.7\n",
    "\n",
    "- Ideal volume is $6 \\times 6 \\times 6 - 3 \\times 3 \\times 3 = 216 - 27 = 189$\n",
    "\n",
    "- Actual volume should be a bit less than \n",
    "$6 \\times 6 \\times (6 + 0.1) - 3 \\times 3 \\times (3 + 0.1) = 219.6 - 27.9 = 191.7$\n",
    "\n",
    "> - The extra volume is due to the 1/2 slice projection of the box in the Z direction\n",
    "> - but is reduced slightly due to interpolation of the slice area\n",
    "\n",
    "- External volume is the same as the ideal volume, but without the holes subtracted.\n",
    "- External volume should be a bit less than \n",
    "$6 \\times 6 \\times (6 + 0.1) = 219.6$\n"
   ]
  },
  {
   "cell_type": "code",
   "execution_count": 14,
   "metadata": {},
   "outputs": [],
   "source": [
    "def two_boxes_example():\n",
    "    slice_spacing = 0.1\n",
    "    # Body structure defines slices in use\n",
    "    box3_left = make_box(roi_num=1, width=3, offset_x=-2, spacing=slice_spacing)\n",
    "    box3_right = make_box(roi_num=1, width=3, offset_x=2, spacing=slice_spacing)\n",
    "    # combine the contours\n",
    "    slice_data = box3_left + box3_right\n",
    "    return slice_data"
   ]
  },
  {
   "cell_type": "code",
   "execution_count": 15,
   "metadata": {},
   "outputs": [],
   "source": [
    "def square_tube_example():\n",
    "    slice_spacing = 0.1\n",
    "\n",
    "    # Body structure defines slices in use\n",
    "    box6 = make_box(roi_num=1, width=6, spacing=slice_spacing)\n",
    "    box3 = make_box(roi_num=1, width=3, height=6,spacing=slice_spacing)\n",
    "    # combine the contours\n",
    "    slice_data = box6 + box3\n",
    "    return slice_data"
   ]
  },
  {
   "cell_type": "code",
   "execution_count": 16,
   "metadata": {},
   "outputs": [],
   "source": [
    "def embedded_boxes_example():\n",
    "    slice_spacing = 0.5\n",
    "    # Body structure defines slices in use\n",
    "    box6 = make_box(roi_num=1, width=6, spacing=slice_spacing)\n",
    "    box3 = make_box(roi_num=2, width=3, spacing=slice_spacing)\n",
    "    # combine the contours\n",
    "    slice_data = box6 + box3\n",
    "    return slice_data"
   ]
  },
  {
   "cell_type": "code",
   "execution_count": 17,
   "metadata": {},
   "outputs": [],
   "source": [
    "def hollow_horizontal_cylinder_example():\n",
    "    slice_spacing = 1\n",
    "    # Body structure defines slices in use\n",
    "    body = make_vertical_cylinder(roi_num=0, radius=12, length=16, offset_z=0,\n",
    "                                  spacing=slice_spacing)\n",
    "    outer_cylinder = make_horizontal_cylinder(roi_num=1, radius=6, length=10,\n",
    "                                              spacing=slice_spacing)\n",
    "    cylinder_hole = make_horizontal_cylinder(roi_num=1, radius=4, length=10,\n",
    "                                             spacing=slice_spacing)\n",
    "    # combine the contours\n",
    "    slice_data = outer_cylinder + cylinder_hole + body\n",
    "    return slice_data\n"
   ]
  },
  {
   "cell_type": "code",
   "execution_count": 18,
   "metadata": {},
   "outputs": [],
   "source": [
    "def embedded_spheres_example():\n",
    "    slice_spacing = 0.5\n",
    "    # Body structure defines slices in use\n",
    "    sphere6 = make_sphere(roi_num=1, radius=3, spacing=slice_spacing)\n",
    "    sphere3 = make_sphere(roi_num=2, radius=1.5, spacing=slice_spacing)\n",
    "    # combine the contours\n",
    "    slice_data = sphere6 + sphere3\n",
    "    return slice_data"
   ]
  },
  {
   "cell_type": "code",
   "execution_count": 19,
   "metadata": {},
   "outputs": [],
   "source": [
    "def multiple_spheres_example():\n",
    "    slice_spacing = 0.5\n",
    "    body = make_sphere(roi_num=0, radius=3, spacing=slice_spacing)\n",
    "    left_sphere = make_sphere(roi_num=1, radius=2, offset_x=-2.5, offset_z=0,\n",
    "                              spacing=slice_spacing)\n",
    "    right_sphere = make_sphere(roi_num=1, radius=2, offset_x=2.5, offset_z=0,\n",
    "                               spacing=slice_spacing)\n",
    "    right_middle_sphere = make_sphere(roi_num=2, radius=1, offset_x=2.5, offset_z=0,\n",
    "                                    spacing=slice_spacing)\n",
    "    # combine the contours\n",
    "    slice_data = left_sphere + right_sphere + right_middle_sphere + body\n",
    "    return slice_data"
   ]
  },
  {
   "cell_type": "code",
   "execution_count": 20,
   "metadata": {},
   "outputs": [],
   "source": [
    "def surrounded_horizontal_cylinder_example():\n",
    "    slice_spacing = 1\n",
    "    # Body structure defines slices in use\n",
    "    body = make_vertical_cylinder(roi_num=0, radius=12, length=16, offset_z=0,\n",
    "                                  spacing=slice_spacing)\n",
    "    outer_cylinder = make_horizontal_cylinder(roi_num=1, radius=6, length=10,\n",
    "                                              spacing=slice_spacing)\n",
    "    cylinder_hole = make_horizontal_cylinder(roi_num=1, radius=5, length=8,\n",
    "                                             spacing=slice_spacing)\n",
    "    surrounded_cylinder = make_horizontal_cylinder(roi_num=2, radius=3, length=6,\n",
    "                                                   spacing=slice_spacing)\n",
    "    # combine the contours\n",
    "    slice_data = body + outer_cylinder + cylinder_hole + surrounded_cylinder\n",
    "    # convert contour slice data into a table of slices and structures\n",
    "    return slice_data"
   ]
  },
  {
   "cell_type": "code",
   "execution_count": 21,
   "metadata": {},
   "outputs": [],
   "source": [
    "def shelters_horizontal_cylinder_single_side_example():\n",
    "    slice_spacing = 1\n",
    "    # Body structure defines slices in use\n",
    "    body = make_vertical_cylinder(roi_num=0, radius=12, length=16, offset_z=0,\n",
    "                                  spacing=slice_spacing)\n",
    "    outer_cylinder = make_horizontal_cylinder(roi_num=1, radius=6, length=10,\n",
    "                                              spacing=slice_spacing)\n",
    "    cylinder_hole = make_horizontal_cylinder(roi_num=1, radius=4, length=8,\n",
    "                                             offset_x=1, offset_z=0,\n",
    "                                             spacing=slice_spacing)\n",
    "    surrounded_cylinder = make_horizontal_cylinder(roi_num=2, radius=3,\n",
    "                                                   length=6, offset_x=1,\n",
    "                                                   spacing=slice_spacing)\n",
    "    # combine the contours\n",
    "    slice_data = outer_cylinder + cylinder_hole + surrounded_cylinder + body\n",
    "    return slice_data\n"
   ]
  },
  {
   "cell_type": "code",
   "execution_count": 22,
   "metadata": {},
   "outputs": [],
   "source": [
    "def sphere_in_shell_example():\n",
    "    slice_spacing = 1\n",
    "    # Body structure defines slices in use\n",
    "    body = make_vertical_cylinder(roi_num=0, radius=16, length=20, offset_z=0,\n",
    "                                    spacing=slice_spacing)\n",
    "    sphere12 = make_sphere(roi_num=1, radius=6, spacing=slice_spacing)\n",
    "    hole10 = make_sphere(roi_num=1, radius=5, spacing=slice_spacing)\n",
    "    sphere6 = make_sphere(roi_num=2, radius=3, spacing=slice_spacing)\n",
    "\n",
    "    # combine the contours\n",
    "    slice_data = body + sphere12 + hole10 + sphere6\n",
    "    return slice_data"
   ]
  },
  {
   "cell_type": "code",
   "execution_count": 23,
   "metadata": {},
   "outputs": [],
   "source": [
    "def basic_contour_table():\n",
    "    '''Create a contour table for testing the build_contours and add_graph_edges\n",
    "    functions.\n",
    "\n",
    "    The test table contains the following data:\n",
    "        ROI 1:\n",
    "            slices, 1.0, 2.0,\n",
    "            1 contour per slice with area 9.0.\n",
    "        ROI 2:\n",
    "            slices, 0.0, 1.0,\n",
    "                2 contours on slice 0.0 with areas 1.0, 4.0\n",
    "                4 contours on slice 1.0,\n",
    "                two with area 1.0, and\n",
    "                two with area 4.0.\n",
    "    '''\n",
    "    box1_left = box_points(width=1, offset_x=1.5)\n",
    "    box1_right = box_points(width=1, offset_x=-1.5)\n",
    "    box2_left = box_points(width=2, offset_x=1.5)\n",
    "    box2_right = box_points(width=2, offset_x=-1.5)\n",
    "    box3_right = box_points(width=3, offset_x=-1.5)\n",
    "    slice_data = [\n",
    "        ContourPoints(box1_left, roi=2, slice_index=0.0),   # ROI 2, Area 1\n",
    "        ContourPoints(box2_left, roi=2, slice_index=0.0),   # ROI 2, Area 4\n",
    "        ContourPoints(box1_left, roi=2, slice_index=1.0),   # ROI 2, Area 1\n",
    "        ContourPoints(box1_right, roi=2, slice_index=1.0),  # ROI 2, Area 1\n",
    "        ContourPoints(box2_left, roi=2, slice_index=1.0),   # ROI 2, Area 4\n",
    "        ContourPoints(box2_right, roi=2, slice_index=1.0),  # ROI 2, Area 4\n",
    "        ContourPoints(box3_right, roi=1, slice_index=1.0),  # ROI 1, Area 9\n",
    "        ContourPoints(box3_right, roi=1, slice_index=2.0),  # ROI 1, Area 9\n",
    "        ]\n",
    "    contour_table, slice_sequence = build_contour_table(slice_data)\n",
    "    return contour_table, slice_sequence"
   ]
  },
  {
   "cell_type": "code",
   "execution_count": 24,
   "metadata": {},
   "outputs": [],
   "source": [
    "def hole_test_contour_table():\n",
    "    '''Create a contour table for testing set_enclosed_regions function.\n",
    "\n",
    "    The test table contains the following data:\n",
    "        ROI 0: The background region that defines the set of all slice indexes.\n",
    "            slices, 0.0, 1.0, 2.0, 3.0, 4.0, 5.0\n",
    "        ROI 1: 1 contour with an embedded hole on slices 1.0 to 4.0,\n",
    "            results in open hole\n",
    "        ROI 2: 1 contour on slices 1.0 to 4.0,\n",
    "               an embedded hole on slices 2.0 and 3.0,\n",
    "               results in a closed hole.\n",
    "        ROI 3: 1 contour on slices 1.0 to 4.0,\n",
    "               an embedded hole on slices 1.0 and 3.0,\n",
    "               results in a open hole.\n",
    "    '''\n",
    "    box1= box_points(width=1)\n",
    "    box3_right = box_points(width=3, offset_x=-1.5)\n",
    "    box1_right = box_points(width=1, offset_x=-1.5)\n",
    "    box3_left = box_points(width=3, offset_x=1.5)\n",
    "    box1_left = box_points(width=1, offset_x=1.5)\n",
    "    box3_ant = box_points(width=3, offset_y=1.5)\n",
    "    box1_ant = box_points(width=1, offset_y=1.5)\n",
    "    slice_data = [\n",
    "       ContourPoints(box1, roi=0, slice_index=0.0),        # ROI 0, Area 1\n",
    "       ContourPoints(box1, roi=0, slice_index=1.0),        # ROI 0, Area 1\n",
    "       ContourPoints(box1, roi=0, slice_index=2.0),        # ROI 0, Area 1\n",
    "       ContourPoints(box1, roi=0, slice_index=3.0),        # ROI 0, Area 1\n",
    "       ContourPoints(box1, roi=0, slice_index=4.0),        # ROI 0, Area 1\n",
    "       ContourPoints(box1, roi=0, slice_index=5.0),        # ROI 0, Area 1\n",
    "\n",
    "       ContourPoints(box3_right, roi=1, slice_index=1.0),  # ROI 1, Area 4\n",
    "       ContourPoints(box1_right, roi=1, slice_index=1.0),  # ROI 1, Hole\n",
    "       ContourPoints(box3_right, roi=1, slice_index=2.0),  # ROI 1, Area 4\n",
    "       ContourPoints(box1_right, roi=1, slice_index=2.0),  # ROI 1, Hole\n",
    "       ContourPoints(box3_right, roi=1, slice_index=3.0),  # ROI 1, Area 4\n",
    "       ContourPoints(box1_right, roi=1, slice_index=3.0),  # ROI 1, Hole\n",
    "       ContourPoints(box3_right, roi=1, slice_index=4.0),  # ROI 1, Area 4\n",
    "       ContourPoints(box1_right, roi=1, slice_index=4.0),  # ROI 1, Hole\n",
    "\n",
    "       ContourPoints(box3_left, roi=2, slice_index=1.0),  # ROI 2, Area 4\n",
    "       ContourPoints(box3_left, roi=2, slice_index=2.0),  # ROI 2, Area 4\n",
    "       ContourPoints(box1_left, roi=2, slice_index=2.0),  # ROI 2, Hole\n",
    "       ContourPoints(box3_left, roi=2, slice_index=3.0),  # ROI 2, Area 4\n",
    "       ContourPoints(box1_left, roi=2, slice_index=3.0),  # ROI 2, Hole\n",
    "       ContourPoints(box3_left, roi=2, slice_index=4.0),  # ROI 2, Area 4\n",
    "\n",
    "       ContourPoints(box3_ant, roi=3, slice_index=1.0),  # ROI 3, Area 4\n",
    "       ContourPoints(box1_ant, roi=3, slice_index=1.0),  # ROI 3, Hole\n",
    "       ContourPoints(box3_ant, roi=3, slice_index=2.0),  # ROI 3, Area 4\n",
    "       ContourPoints(box1_ant, roi=3, slice_index=2.0),  # ROI 3, Hole\n",
    "       ContourPoints(box3_ant, roi=3, slice_index=3.0),  # ROI 3, Area 4\n",
    "       ContourPoints(box1_ant, roi=3, slice_index=3.0),  # ROI 3, Hole\n",
    "       ContourPoints(box3_ant, roi=3, slice_index=4.0),  # ROI 3, Area 4\n",
    "    ]\n",
    "    contour_table, slice_sequence = build_contour_table(slice_data)\n",
    "    return contour_table, slice_sequence\n"
   ]
  },
  {
   "cell_type": "code",
   "execution_count": 25,
   "metadata": {},
   "outputs": [],
   "source": [
    "def contour_graph_for_testing(contour_table: pd.DataFrame,\n",
    "                                         roi: ROI_Type) -> ContourGraph:\n",
    "    contour_by_slice = build_contours(contour_table, roi)\n",
    "    # Create an empty graph\n",
    "    contour_graph = nx.Graph()\n",
    "    # Add nodes to the graph\n",
    "    for contour_data in contour_by_slice.values():\n",
    "        for contour in contour_data:\n",
    "            contour_label = contour.index\n",
    "            contour_graph.add_node(contour_label, contour=contour)\n",
    "    return contour_graph"
   ]
  },
  {
   "cell_type": "markdown",
   "metadata": {},
   "source": [
    "### Test Add Graph Edges"
   ]
  },
  {
   "cell_type": "code",
   "execution_count": 26,
   "metadata": {},
   "outputs": [
    {
     "data": {
      "image/png": "[encoded data removed]",
      "text/plain": [
       "<Figure size 640x480 with 1 Axes>"
      ]
     },
     "metadata": {},
     "output_type": "display_data"
    }
   ],
   "source": [
    "contour_table, slice_sequence = basic_contour_table()\n",
    "contour_graph = contour_graph_for_testing(contour_table, roi=1)\n",
    "contour_graph = add_graph_edges(contour_graph, slice_sequence)\n",
    "# Check that the graph for ROI 1 has a single edge between the two\n",
    "# slices.\n",
    "#assert contour_graph.number_of_edges() == 1\n",
    "nx.draw(contour_graph, with_labels=True)\n",
    "plt.show()\n"
   ]
  },
  {
   "cell_type": "code",
   "execution_count": 27,
   "metadata": {},
   "outputs": [],
   "source": [
    "contour_graph = contour_graph_for_testing(contour_table, roi=2)\n",
    "contour_graph = add_graph_edges(contour_graph, slice_sequence)\n",
    "# Check that the graph for ROI 2 has two edges between the two slices.\n",
    "#assert contour_graph.number_of_edges() == 2\n"
   ]
  },
  {
   "cell_type": "code",
   "execution_count": 28,
   "metadata": {},
   "outputs": [],
   "source": [
    "box1_left = box_points(width=1, offset_x=1.5)\n",
    "box1_right = box_points(width=1, offset_x=-1.5)\n",
    "box2_left = box_points(width=2, offset_x=1.5)\n",
    "box2_right = box_points(width=2, offset_x=-1.5)\n",
    "box3_right = box_points(width=3, offset_x=-1.5)\n",
    "\n",
    "polygon_0 = Polygon(box2_left) - Polygon(box1_left)\n",
    "\n",
    "polygon_1 = (shapely.union_all([Polygon(box2_left),\n",
    "                               Polygon(box2_right)]) -\n",
    "            shapely.union_all([Polygon(box1_left),\n",
    "                               Polygon(box1_right)]) )\n"
   ]
  },
  {
   "cell_type": "code",
   "execution_count": 29,
   "metadata": {},
   "outputs": [
    {
     "data": {
      "image/png": "[encoded data removed]",
      "text/plain": [
       "<Figure size 400x200 with 1 Axes>"
      ]
     },
     "metadata": {},
     "output_type": "display_data"
    }
   ],
   "source": [
    "ax = plot_ab(polygon_0, polygon_1)"
   ]
  },
  {
   "cell_type": "code",
   "execution_count": 30,
   "metadata": {},
   "outputs": [
    {
     "data": {
      "application/vnd.microsoft.datawrangler.viewer.v0+json": {
       "columns": [
        {
         "name": "index",
         "rawType": "int64",
         "type": "integer"
        },
        {
         "name": "SliceIndex",
         "rawType": "float64",
         "type": "float"
        },
        {
         "name": "HoleType",
         "rawType": "category",
         "type": "unknown"
        },
        {
         "name": "Label",
         "rawType": "object",
         "type": "unknown"
        }
       ],
       "ref": "56559b51-d193-4d36-b3a2-e83b4956c435",
       "rows": [
        [
         "0",
         "0.0",
         "None",
         "(2, 0.0, 2)"
        ],
        [
         "1",
         "0.0",
         "Unknown",
         "(2, 0.0, 3)"
        ],
        [
         "2",
         "1.0",
         "None",
         "(2, 1.0, 4)"
        ],
        [
         "3",
         "1.0",
         "None",
         "(2, 1.0, 5)"
        ],
        [
         "4",
         "1.0",
         "Unknown",
         "(2, 1.0, 6)"
        ],
        [
         "5",
         "1.0",
         "Unknown",
         "(2, 1.0, 7)"
        ]
       ],
       "shape": {
        "columns": 3,
        "rows": 6
       }
      },
      "text/html": [
       "<div>\n",
       "<style scoped>\n",
       "    .dataframe tbody tr th:only-of-type {\n",
       "        vertical-align: middle;\n",
       "    }\n",
       "\n",
       "    .dataframe tbody tr th {\n",
       "        vertical-align: top;\n",
       "    }\n",
       "\n",
       "    .dataframe thead th {\n",
       "        text-align: right;\n",
       "    }\n",
       "</style>\n",
       "<table border=\"1\" class=\"dataframe\">\n",
       "  <thead>\n",
       "    <tr style=\"text-align: right;\">\n",
       "      <th></th>\n",
       "      <th>SliceIndex</th>\n",
       "      <th>HoleType</th>\n",
       "      <th>Label</th>\n",
       "    </tr>\n",
       "  </thead>\n",
       "  <tbody>\n",
       "    <tr>\n",
       "      <th>0</th>\n",
       "      <td>0.0</td>\n",
       "      <td>None</td>\n",
       "      <td>(2, 0.0, 2)</td>\n",
       "    </tr>\n",
       "    <tr>\n",
       "      <th>1</th>\n",
       "      <td>0.0</td>\n",
       "      <td>Unknown</td>\n",
       "      <td>(2, 0.0, 3)</td>\n",
       "    </tr>\n",
       "    <tr>\n",
       "      <th>2</th>\n",
       "      <td>1.0</td>\n",
       "      <td>None</td>\n",
       "      <td>(2, 1.0, 4)</td>\n",
       "    </tr>\n",
       "    <tr>\n",
       "      <th>3</th>\n",
       "      <td>1.0</td>\n",
       "      <td>None</td>\n",
       "      <td>(2, 1.0, 5)</td>\n",
       "    </tr>\n",
       "    <tr>\n",
       "      <th>4</th>\n",
       "      <td>1.0</td>\n",
       "      <td>Unknown</td>\n",
       "      <td>(2, 1.0, 6)</td>\n",
       "    </tr>\n",
       "    <tr>\n",
       "      <th>5</th>\n",
       "      <td>1.0</td>\n",
       "      <td>Unknown</td>\n",
       "      <td>(2, 1.0, 7)</td>\n",
       "    </tr>\n",
       "  </tbody>\n",
       "</table>\n",
       "</div>"
      ],
      "text/plain": [
       "   SliceIndex HoleType        Label\n",
       "0         0.0     None  (2, 0.0, 2)\n",
       "1         0.0  Unknown  (2, 0.0, 3)\n",
       "2         1.0     None  (2, 1.0, 4)\n",
       "3         1.0     None  (2, 1.0, 5)\n",
       "4         1.0  Unknown  (2, 1.0, 6)\n",
       "5         1.0  Unknown  (2, 1.0, 7)"
      ]
     },
     "execution_count": 30,
     "metadata": {},
     "output_type": "execute_result"
    }
   ],
   "source": [
    "contour_lookup = build_contour_lookup(contour_graph)\n",
    "\n",
    "contour_lookup.loc[contour_lookup.ROI==2, ['SliceIndex', 'HoleType', 'Label']]"
   ]
  },
  {
   "cell_type": "code",
   "execution_count": 31,
   "metadata": {},
   "outputs": [],
   "source": [
    "this_contour = contour_graph.nodes(data=True)[(2, 1.0, 4)]['contour']\n",
    "neighbour_contour = contour_graph.nodes(data=True)[(2, 1.0, 6)]['contour']"
   ]
  },
  {
   "cell_type": "code",
   "execution_count": 32,
   "metadata": {},
   "outputs": [
    {
     "data": {
      "text/plain": [
       "False"
      ]
     },
     "execution_count": 32,
     "metadata": {},
     "output_type": "execute_result"
    }
   ],
   "source": [
    "this_contour.is_hole"
   ]
  },
  {
   "cell_type": "code",
   "execution_count": 33,
   "metadata": {},
   "outputs": [
    {
     "data": {
      "image/svg+xml": [
       "<svg xmlns=\"http://www.w3.org/2000/svg\" xmlns:xlink=\"http://www.w3.org/1999/xlink\" width=\"100.0\" height=\"100.0\" viewBox=\"0.42 -1.08 2.16 2.16\" preserveAspectRatio=\"xMinYMin meet\"><g transform=\"matrix(1,0,0,-1,0,0.0)\"><path fill-rule=\"evenodd\" fill=\"#66cc99\" stroke=\"#555555\" stroke-width=\"0.0432\" opacity=\"0.6\" d=\"M 2.5,-1.0 L 0.5,-1.0 L 0.5,1.0 L 2.5,1.0 L 2.5,-1.0 z M 1.0,0.5 L 1.0,-0.5 L 2.0,-0.5 L 2.0,0.5 L 1.0,0.5 z\" /></g></svg>"
      ],
      "text/plain": [
       "<POLYGON Z ((2.5 -1 1, 0.5 -1 1, 0.5 1 1, 2.5 1 1, 2.5 -1 1), (1 0.5 1, 1 -0...>"
      ]
     },
     "execution_count": 33,
     "metadata": {},
     "output_type": "execute_result"
    }
   ],
   "source": [
    "this_contour.poly_h"
   ]
  },
  {
   "cell_type": "code",
   "execution_count": 34,
   "metadata": {},
   "outputs": [
    {
     "data": {
      "text/plain": [
       "True"
      ]
     },
     "execution_count": 34,
     "metadata": {},
     "output_type": "execute_result"
    }
   ],
   "source": [
    "this_contour.poly_h.intersects(neighbour_contour.poly_h)"
   ]
  },
  {
   "cell_type": "code",
   "execution_count": 35,
   "metadata": {},
   "outputs": [
    {
     "data": {
      "image/png": "[encoded data removed]",
      "text/plain": [
       "<Figure size 640x480 with 1 Axes>"
      ]
     },
     "metadata": {},
     "output_type": "display_data"
    }
   ],
   "source": [
    "nx.draw(contour_graph, with_labels=True)\n",
    "plt.show()"
   ]
  },
  {
   "cell_type": "markdown",
   "metadata": {},
   "source": [
    "## Test RegionSlice"
   ]
  },
  {
   "cell_type": "code",
   "execution_count": 36,
   "metadata": {},
   "outputs": [],
   "source": [
    "slice_data = single_box_example()\n",
    "contour_table, slice_sequence = build_contour_table(slice_data)\n",
    "roi = 1\n",
    "contour_graph, slice_sequence = build_contour_graph(contour_table,\n",
    "                                                    slice_sequence, roi)\n",
    "\n",
    "region_table = build_region_table(contour_graph, slice_sequence)"
   ]
  },
  {
   "cell_type": "code",
   "execution_count": 37,
   "metadata": {},
   "outputs": [],
   "source": [
    "slice_data = box_with_hole_example()\n",
    "contour_table, slice_sequence = build_contour_table(slice_data)\n",
    "\n",
    "roi = 1\n",
    "contour_graph, slice_sequence = build_contour_graph(contour_table,\n",
    "                                                    slice_sequence, roi)\n",
    "\n",
    "region_table = build_region_table(contour_graph, slice_sequence)"
   ]
  },
  {
   "cell_type": "code",
   "execution_count": 38,
   "metadata": {},
   "outputs": [],
   "source": [
    "slice_data = two_boxes_example()\n",
    "contour_table, slice_sequence = build_contour_table(slice_data)\n",
    "\n",
    "roi = 1\n",
    "contour_graph, slice_sequence = build_contour_graph(contour_table,\n",
    "                                                    slice_sequence, roi)\n",
    "\n",
    "region_table = build_region_table(contour_graph, slice_sequence)"
   ]
  },
  {
   "cell_type": "code",
   "execution_count": 39,
   "metadata": {},
   "outputs": [],
   "source": [
    "slice_data = surrounded_horizontal_cylinder_example()\n",
    "contour_table, slice_sequence = build_contour_table(slice_data)\n",
    "\n",
    "roi = 1\n",
    "contour_graph, slice_sequence = build_contour_graph(contour_table,\n",
    "                                                    slice_sequence, roi)\n",
    "\n",
    "region_table = build_region_table(contour_graph, slice_sequence)"
   ]
  },
  {
   "cell_type": "code",
   "execution_count": 40,
   "metadata": {},
   "outputs": [],
   "source": [
    "slice_data = hollow_horizontal_cylinder_example()\n",
    "contour_table, slice_sequence = build_contour_table(slice_data)\n",
    "\n",
    "roi = 1\n",
    "contour_graph, slice_sequence = build_contour_graph(contour_table,\n",
    "                                                    slice_sequence, roi)\n",
    "\n",
    "region_table = build_region_table(contour_graph, slice_sequence)"
   ]
  },
  {
   "cell_type": "code",
   "execution_count": 41,
   "metadata": {},
   "outputs": [],
   "source": [
    "slice_data = square_tube_example()\n",
    "contour_table, slice_sequence = build_contour_table(slice_data)\n",
    "\n",
    "roi = 1\n",
    "contour_graph, slice_sequence = build_contour_graph(contour_table,\n",
    "                                                    slice_sequence, roi)\n",
    "\n",
    "region_table = build_region_table(contour_graph, slice_sequence)"
   ]
  },
  {
   "cell_type": "markdown",
   "metadata": {},
   "source": [
    "## Apply Data Preprocess to the data"
   ]
  },
  {
   "cell_type": "code",
   "execution_count": 42,
   "metadata": {},
   "outputs": [
    {
     "data": {
      "text/plain": [
       "Counter({2: 31, 1: 2})"
      ]
     },
     "execution_count": 42,
     "metadata": {},
     "output_type": "execute_result"
    }
   ],
   "source": [
    "slice_data = single_box_example()\n",
    "contour_table, slice_sequence = build_contour_table(slice_data)\n",
    "contour_graph, slice_sequence = build_contour_graph(contour_table,\n",
    "                                                    slice_sequence,\n",
    "                                                    roi=1)\n",
    "Counter(dict(contour_graph.degree).values())"
   ]
  },
  {
   "cell_type": "code",
   "execution_count": 43,
   "metadata": {},
   "outputs": [
    {
     "data": {
      "text/plain": [
       "Counter({2: 6, 1: 2})"
      ]
     },
     "execution_count": 43,
     "metadata": {},
     "output_type": "execute_result"
    }
   ],
   "source": [
    "contour_table, slice_sequence = hole_test_contour_table()\n",
    "contour_graph, slice_sequence = build_contour_graph(contour_table,\n",
    "                                                    slice_sequence,\n",
    "                                                    roi=0)\n",
    "degrees = Counter(dict(contour_graph.degree).values())\n",
    "degrees"
   ]
  },
  {
   "cell_type": "code",
   "execution_count": 44,
   "metadata": {},
   "outputs": [
    {
     "data": {
      "text/plain": [
       "[-0.5, 0.0, 1.0, 2.0, 3.0, 4.0, 5.0, 5.5]"
      ]
     },
     "execution_count": 44,
     "metadata": {},
     "output_type": "execute_result"
    }
   ],
   "source": [
    "slice_sequence.slices"
   ]
  },
  {
   "cell_type": "code",
   "execution_count": 45,
   "metadata": {},
   "outputs": [
    {
     "data": {
      "text/plain": [
       "Counter({2: 6, 1: 5, 3: 1})"
      ]
     },
     "execution_count": 45,
     "metadata": {},
     "output_type": "execute_result"
    }
   ],
   "source": [
    "contour_table, slice_sequence = hole_test_contour_table()\n",
    "contour_graph, slice_sequence = build_contour_graph(contour_table,\n",
    "                                                    slice_sequence,\n",
    "                                                    roi=3)\n",
    "degrees = Counter(dict(contour_graph.degree).values())\n",
    "degrees"
   ]
  },
  {
   "cell_type": "code",
   "execution_count": 46,
   "metadata": {},
   "outputs": [
    {
     "data": {
      "image/png": "[encoded data removed]",
      "text/plain": [
       "<Figure size 640x480 with 1 Axes>"
      ]
     },
     "metadata": {},
     "output_type": "display_data"
    }
   ],
   "source": [
    "nx.draw(contour_graph, with_labels=True)\n",
    "plt.show()"
   ]
  },
  {
   "cell_type": "markdown",
   "metadata": {},
   "source": [
    "## Boundary examples for regions with holes"
   ]
  },
  {
   "cell_type": "markdown",
   "metadata": {},
   "source": [
    "#### Exterior holes touching each other\n",
    "\n",
    "<table>\n",
    "<tr>\n",
    "<td><img src=\"Images/Boundaries/Exterior holes touching each other.png\" alt=\"Exterior holes touching each other\"></td>\n",
    "<td><img src=\"Images/Boundaries/Exterior holes touching each other Boundary slice.png\" alt=\"Boundary Slice\"></td>\n",
    "</tr>\n",
    "</table>\n",
    "\n",
    "- interpolated slices contain: \n",
    "    - *boundaries* with single MultiPolygon containing both contours\n",
    "    - *regions* is empty  (because both contours are boundaries).\n"
   ]
  },
  {
   "cell_type": "code",
   "execution_count": 47,
   "metadata": {},
   "outputs": [
    {
     "name": "stdout",
     "output_type": "stream",
     "text": [
      "2FFF1FFF2\n",
      "2FFF1FFF2\n",
      "212F1FFF2\n"
     ]
    }
   ],
   "source": [
    "A = (shapely.Polygon(circle_points(2)) -\n",
    "     shapely.Polygon(circle_points(1.3)))\n",
    "A_exterior =  (shapely.Polygon(circle_points(2)) -\n",
    "     shapely.Polygon(circle_points(1.3)))\n",
    "A_hull = shapely.Polygon(circle_points(2))\n",
    "A_hole = shapely.Polygon(circle_points(1.3))\n",
    "\n",
    "B = (shapely.Polygon(circle_points(2)) -\n",
    "     shapely.Polygon(circle_points(1.3)))\n",
    "B_hole = shapely.Polygon(circle_points(1.3))\n",
    "\n",
    "print(A.relate(B))\n",
    "print(A_exterior.relate(B))\n",
    "print(A_hull.relate(B))\n",
    "\n",
    "\n",
    "#print(A_hole.relate(B))\n",
    "#print(A_hole.relate(B_hole))\n",
    "#print(A.relate(B_hole))"
   ]
  },
  {
   "cell_type": "markdown",
   "metadata": {},
   "source": [
    "<style type=\"text/css\">\n",
    "table {border-style:solid;border-width:1px;border-collapse:collapse;border-spacing:1;}\n",
    "td {font-family:Arial, sans-serif;font-size:12px;color: #000000; \n",
    "    text-align:center;vertical-align:middle;overflow:hidden; \n",
    "    padding:3px 3px;word-break:normal}\n",
    ".tg-b-head{background-color: #8ED973;font-size:16px;font-weight:bold;\n",
    "           border-bottom: 3px solid #156082}\n",
    ".tg-a-head{background-color: #61CBF3;font-size:16px;font-weight:bold;\n",
    "           border-right: 3px solid #156082}\n",
    ".tg-group{background-color: #61CBF3;font-size:14px;font-weight:bold}\n",
    ".tg-dim-top{background-color: #A02B93;color: #FFFFFF;font-weight:bold;\n",
    "            border-color: #000000; border-bottom: 4px solid #FFFFFF}\n",
    ".tg-dim-left{background-color: #A02B93;color: #FFFFFF;font-weight:bold;\n",
    "             border-color: #000000;border-right: 4px solid #FFFFFF}\n",
    ".tg-group-border{border-right: 10px solid #F1A983}\n",
    ".tg-bit{background-color: #F2CEEF}\n",
    "</style>\n",
    "\n",
    "<table style=\"background-color: #FFFFFF\">\n",
    "<tr>\n",
    "  <td>Initial Relation Binary</td>\n",
    "  <td>After Boundary correction</td>\n",
    "  <td>After Hole correction</td>\n",
    "</tr>\n",
    "<tr><td>\n",
    "  <table><tbody>\n",
    "    <tr> <td colspan=\"2\" rowspan=\"3\"></td> \n",
    "        <td class=\"tg-b-head\" colspan=\"9\">B</td>\n",
    "    </tr>\n",
    "    <tr><td class=\"tg-group tg-group-border\" colspan=\"3\">Region</td>\n",
    "        <td class=\"tg-group tg-group-border\" colspan=\"3\">Exterior</td>\n",
    "        <td class=\"tg-group\" colspan=\"3\">Hull</td>\n",
    "    </tr>\n",
    "    <tr><td class=\"tg-dim-top\">I</td><td class=\"tg-dim-top\">B</td>\n",
    "        <td class=\"tg-dim-top tg-group-border\">E</td>\n",
    "        <td class=\"tg-dim-top\">I</td><td class=\"tg-dim-top\">B</td>\n",
    "        <td class=\"tg-dim-top tg-group-border\">E</td>\n",
    "        <td class=\"tg-dim-top\">I</td><td class=\"tg-dim-top\">B</td>\n",
    "        <td class=\"tg-dim-top\">E</td>\n",
    "    </tr>\n",
    "    <tr>\n",
    "      <td class=\"tg-a-head\" rowspan=\"3\">A</td>\n",
    "      <td class=\"tg-dim-left\">I</td>\n",
    "      <td class=\"tg-bit\">2</td>\n",
    "      <td class=\"tg-bit\">F</td>\n",
    "      <td class=\"tg-bit tg-group-border\">F</td>\n",
    "      <td class=\"tg-bit\">2</td>\n",
    "      <td class=\"tg-bit\">F</td>\n",
    "      <td class=\"tg-bit tg-group-border\">F</td>\n",
    "      <td class=\"tg-bit\">2</td>\n",
    "      <td class=\"tg-bit\">1</td>\n",
    "      <td class=\"tg-bit\">2</td>\n",
    "    </tr>\n",
    "    <tr>\n",
    "      <td class=\"tg-dim-left\">B</span></td>\n",
    "      <td class=\"tg-bit\">F</td>\n",
    "      <td class=\"tg-bit\">1</td>\n",
    "      <td class=\"tg-bit tg-group-border\">F</td>\n",
    "      <td class=\"tg-bit\">F</td>\n",
    "      <td class=\"tg-bit\">1</td>\n",
    "      <td class=\"tg-bit tg-group-border\">F</td>\n",
    "      <td class=\"tg-bit\">F</td>\n",
    "      <td class=\"tg-bit\">1</td>\n",
    "      <td class=\"tg-bit\">F</td>\n",
    "    </tr>\n",
    "    <tr>\n",
    "      <td class=\"tg-dim-left\">E</span></td>\n",
    "      <td class=\"tg-bit\">F</td>\n",
    "      <td class=\"tg-bit\">F</td>\n",
    "      <td class=\"tg-bit tg-group-border\">2</td>\n",
    "      <td class=\"tg-bit\">F</td>\n",
    "      <td class=\"tg-bit\">F</td>\n",
    "      <td class=\"tg-bit tg-group-border\">2</td>\n",
    "      <td class=\"tg-bit\">F</td>\n",
    "      <td class=\"tg-bit\">F</td>\n",
    "      <td class=\"tg-bit\">2</td>\n",
    "    </tr>\n",
    "  </tbody></table>"
   ]
  },
  {
   "cell_type": "markdown",
   "metadata": {},
   "source": [
    "#### Interior hole with nested structure touching hole (Internal Boundary / Nested)\n",
    "<table>\n",
    "<tr>\n",
    "<td><img src=\"Images/Boundaries/Interior hole with nested structure touching hole.png\" alt=\"Interior hole with contained structure not touching hole\"></td>\n",
    "<td><img src=\"Images\\Boundaries\\Interior hole with nested structure touching hole slice.png\" alt=\"Boundary slice\"></td>\n",
    "</tr>\n",
    "</table>\n",
    "\n",
    "- Hole Starts on the same slice as the secondary structure\n",
    "- Exterior contour is not a boundary Just hole & internal boundary\n",
    "- Should show  boundaries touching\n",
    "- Exterior - Hole will produce disjoint\n",
    "\n",
    "- interpolated slice of A contains:\n",
    "    - *boundaries* with empty MultiPolygon (no boundaries at this slice)\n",
    "    - *regions* with single MultiPolygon containing both contours\n",
    "- interpolated slice of B contains:\n",
    "    - *boundaries* with single MultiPolygon containing contour\n",
    "    - *regions* is empty?  - because contour is boundary.\n"
   ]
  },
  {
   "cell_type": "code",
   "execution_count": 48,
   "metadata": {},
   "outputs": [],
   "source": [
    "A = shapely.MultiPolygon([shapely.Polygon(circle_points(2)) -\n",
    "                          shapely.Polygon(circle_points(1.3))])\n",
    "A_exterior =  shapely.MultiPolygon([shapely.Polygon(circle_points(2))])\n",
    "A_hull = shapely.MultiPolygon([shapely.Polygon(circle_points(2))])\n",
    "\n",
    "B = shapely.MultiPolygon([shapely.Polygon(circle_points(1))])\n"
   ]
  },
  {
   "cell_type": "code",
   "execution_count": 49,
   "metadata": {},
   "outputs": [
    {
     "name": "stdout",
     "output_type": "stream",
     "text": [
      "Non-Boundary Relation\n",
      "FF2FF1212\n",
      "|001|\n",
      "|001|\n",
      "|111|\n",
      "Hole in A and B with no corrections\n",
      "212FF1FF2\n",
      "|111|\n",
      "|001|\n",
      "|001|\n",
      "Hole in A and B with boundary corrections\n",
      "FFFF22FF2\n",
      "|000|\n",
      "|011|\n",
      "|001|\n",
      "Hole in A and B with boundary and hole corrections\n",
      "FFFF22FFF\n",
      "|000|\n",
      "|011|\n",
      "|000|\n"
     ]
    }
   ],
   "source": [
    "print('Non-Boundary Relation')\n",
    "print(DE9IM(A,B).relation_str)\n",
    "print(DE9IM(A,B))\n",
    "print('Hole in A and B with no corrections')\n",
    "print(DE9IM(A_hole,B).relation_str)\n",
    "print(DE9IM(A_hole,B))\n",
    "print('Hole in A and B with boundary corrections')\n",
    "print(DE9IM(A_hole,B).boundary_adjustment('a').boundary_adjustment('b').relation_str)\n",
    "print(DE9IM(A_hole,B).boundary_adjustment('a').boundary_adjustment('b'))\n",
    "print('Hole in A and B with boundary and hole corrections')\n",
    "print(DE9IM(A_hole,B).boundary_adjustment('a').boundary_adjustment('b').hole_adjustment('a').relation_str)\n",
    "print(DE9IM(A_hole,B).boundary_adjustment('a').boundary_adjustment('b').hole_adjustment('a'))"
   ]
  },
  {
   "cell_type": "code",
   "execution_count": 50,
   "metadata": {},
   "outputs": [
    {
     "name": "stdout",
     "output_type": "stream",
     "text": [
      "FFFF22FFF\n",
      "000011000\n",
      "24\n",
      "0b11000000011000\n"
     ]
    }
   ],
   "source": [
    "relation_raw = DE9IM(A_hole,B)\n",
    "relation_boundary = relation_raw.boundary_adjustment('a').boundary_adjustment('b')\n",
    "relation_corrected = relation_boundary.hole_adjustment('a')\n",
    "print(relation_corrected.relation_str)\n",
    "print(relation_corrected.to_bool())\n",
    "print(relation_corrected.to_int())\n",
    "print(bin(relation_corrected.to_int(shift=9) + relation_corrected.to_int()))"
   ]
  },
  {
   "cell_type": "code",
   "execution_count": 51,
   "metadata": {},
   "outputs": [
    {
     "name": "stdout",
     "output_type": "stream",
     "text": [
      "Full Relation\n",
      "|001|\t|111|\t|111|\n",
      "|011|\t|001|\t|001|\n",
      "|111|\t|001|\t|001|\n",
      "\n",
      "Relationship: Confines\n"
     ]
    }
   ],
   "source": [
    "non_boundary = DE27IM(relation_int=(DE9IM(A,B).to_int(shift=18) +\n",
    "                                    DE9IM(A_exterior,B).to_int(shift=9) +\n",
    "                                    DE9IM(A_hull,B).to_int()))\n",
    "\n",
    "boundary = DE27IM(relation_int=(relation_corrected.to_int(shift=18)))\n",
    "\n",
    "full_relation = non_boundary\n",
    "full_relation.merge(boundary)\n",
    "print('Full Relation')\n",
    "print(full_relation)\n",
    "print(full_relation.identify_relation())"
   ]
  },
  {
   "cell_type": "markdown",
   "metadata": {},
   "source": [
    "# Interpolated Region Slices\n",
    "- All Boundary contours should be combined into a MultiPolygon in *boundaries*.\n",
    "- *holes* and regular contours cannot be combined in the same MultiPolygon unless they are related.\n",
    "- holes require a flag to indicate that they are holes.\n",
    "- *regions* should contain the non-boundary contours."
   ]
  },
  {
   "cell_type": "markdown",
   "metadata": {},
   "source": [
    "- Boundary contours should not be combined with the region contours.\n",
    "\n",
    "- *??? Each boundary contour should be a separate MultiPolygon. ???*\n",
    "\n",
    "2. boundary slice for region that is an open hole\n",
    "    - boundaries contains a single MultiPolygon  (the hole)\n",
    "    - **??? regions contains an single MultiPolygon  (the outer contour) ???**\n",
    "    - open_holes contains an empty MultiPolygon\n",
    "    - **??? embedded_regions contains an empty list ???**\n",
    "    - region_holes contains a single Contour\n",
    "    - **??? contour_indexes contains a single ContourIndex ???**\n",
    "    - is_interpolated is True"
   ]
  },
  {
   "cell_type": "markdown",
   "metadata": {},
   "source": [
    "#### Exterior hole with structure touching hole\n",
    "<table>\n",
    "<tr>\n",
    "<td><img src=\"Images/Boundaries/Exterior hole with structure touching hole.png\" alt=\"Exterior hole with structure touching hole\"></td>\n",
    "<td><img src=\"Images/Boundaries/Exterior hole with structure touching hole slice.png\" alt=\"Boundary slice\"></td>\n",
    "</tr>\n",
    "</table>\n",
    "\n",
    "- Exterior contour and hole share the bottom boundary\n",
    "- Secondary structure shares a boundary with Primary hole\n",
    "- Should show Borders\n",
    "\n",
    "- interpolated slice of A contains:\n",
    "    - *boundaries* with single MultiPolygon containing both contours\n",
    "    - *regions* is empty  - because both contours are boundaries.\n",
    "- interpolated slice of B contains:\n",
    "    - *boundaries* with single MultiPolygon containing contour\n",
    "    - *regions* is empty  - because contour is boundary."
   ]
  },
  {
   "cell_type": "code",
   "execution_count": 52,
   "metadata": {},
   "outputs": [],
   "source": [
    "A_boundary = shapely.MultiPolygon([shapely.Polygon(circle_points(2)) -\n",
    "                          shapely.Polygon(circle_points(1.3))])\n",
    "\n",
    "B_boundary = shapely.MultiPolygon([shapely.Polygon(circle_points(1.3))])\n"
   ]
  },
  {
   "cell_type": "code",
   "execution_count": 53,
   "metadata": {},
   "outputs": [],
   "source": [
    "# If only the A contour is supplied, then A is exterior to B\n",
    "exterior_a = DE9IM(relation_str=('FF1' * 3))  # 'FF1FF1FF1'\n",
    "# If only the B contour is supplied, then B is exterior to A\n",
    "exterior_b = DE9IM(relation_str=('F' * 3 + 'F' * 3 + '1' * 3))  # 'FFFFFF111'\n",
    "both_exterior = exterior_a.merge([exterior_b])\n"
   ]
  },
  {
   "cell_type": "code",
   "execution_count": 54,
   "metadata": {},
   "outputs": [
    {
     "name": "stdout",
     "output_type": "stream",
     "text": [
      "Non-Boundary Relation\n",
      "001001111\n",
      "|001|\n",
      "|001|\n",
      "|111|\n",
      "A and B boundaries with no corrections\n",
      "FF2F112F2\n",
      "|001|\n",
      "|011|\n",
      "|101|\n",
      "A and B boundaries with boundary corrections\n",
      "FFFF12F22\n",
      "|000|\n",
      "|011|\n",
      "|011|\n"
     ]
    }
   ],
   "source": [
    "print('Non-Boundary Relation')\n",
    "print(both_exterior.relation_str)\n",
    "print(both_exterior)\n",
    "print('A and B boundaries with no corrections')\n",
    "print(DE9IM(A_boundary,B_boundary).relation_str)\n",
    "print(DE9IM(A_boundary,B_boundary))\n",
    "print('A and B boundaries with boundary corrections')\n",
    "print(DE9IM(A_boundary,B_boundary).boundary_adjustment('a').boundary_adjustment('b').relation_str)\n",
    "print(DE9IM(A_boundary,B_boundary).boundary_adjustment('a').boundary_adjustment('b'))\n"
   ]
  },
  {
   "cell_type": "code",
   "execution_count": 55,
   "metadata": {},
   "outputs": [
    {
     "name": "stdout",
     "output_type": "stream",
     "text": [
      "Non Boundary Relation\n",
      "|001|\t|001|\t|001|\n",
      "|001|\t|001|\t|001|\n",
      "|111|\t|111|\t|111|\n",
      "\n",
      "Boundary Relation\n",
      "|000|\t|000|\t|000|\n",
      "|011|\t|000|\t|000|\n",
      "|000|\t|000|\t|000|\n",
      "\n",
      "Full Relation\n",
      "|001|\t|001|\t|001|\n",
      "|011|\t|001|\t|001|\n",
      "|111|\t|111|\t|111|\n",
      "\n",
      "Relationship: Borders\n"
     ]
    }
   ],
   "source": [
    "non_boundary = DE27IM(relation_int=(both_exterior.to_int(shift=18) +\n",
    "                                    both_exterior.to_int(shift=9) +\n",
    "                                    both_exterior.to_int()))\n",
    "print('Non Boundary Relation')\n",
    "print(non_boundary)\n",
    "boundary = DE27IM(relation_int=(relation_corrected.to_int(shift=18)))\n",
    "print('Boundary Relation')\n",
    "print(boundary)\n",
    "full_relation = non_boundary\n",
    "full_relation.merge(boundary)\n",
    "print('Full Relation')\n",
    "print(full_relation)\n",
    "print(full_relation.identify_relation())"
   ]
  },
  {
   "attachments": {
    "image-2.png": {
     "image/png": "[encoded data removed]"
    },
    "image.png": {
     "image/png": "[encoded data removed]"
    }
   },
   "cell_type": "markdown",
   "metadata": {},
   "source": [
    "![image.png](attachment:image.png)\n",
    "\n",
    "![image-2.png](attachment:image-2.png)\n",
    "\n",
    "**The area external to A should contain some of the interior of B.**\n",
    "\n",
    "**The interior of A, with holes filled, should contain some of the exterior of B. (there is no scenario where the interior of A, with holes filled, will not be larger than B)**"
   ]
  },
  {
   "cell_type": "code",
   "execution_count": 56,
   "metadata": {},
   "outputs": [
    {
     "name": "stdout",
     "output_type": "stream",
     "text": [
      "|001|\n",
      "|001|\n",
      "|001|\n",
      "\n",
      "|000|\n",
      "|000|\n",
      "|111|\n",
      "\n",
      "|001|\n",
      "|001|\n",
      "|111|\n"
     ]
    }
   ],
   "source": [
    "# padding is a string of 'FFFFFFFFF', which becomes 9 zeros when converted\n",
    "# to binary.  Padding is used in cases where Exterior and Hull relationships\n",
    "# are not relevant.\n",
    "padding = 'F' * 9  # 'FFFFFFFFF'\n",
    "# If only the A contour is supplied, then A is exterior to B\n",
    "exterior_a = DE9IM(relation_str=('FF1' * 3))  # 'FF1FF1FF1'\n",
    "# If only the B contour is supplied, then B is exterior to A\n",
    "exterior_b = DE9IM(relation_str=('F' * 3 + 'F' * 3 + '1' * 3))  # 'FFFFFF111'\n",
    "both_exterior = exterior_a.merge([exterior_b])\n",
    "external = DE9IM(relation_str=padding)\n",
    "convex_hull = DE9IM(relation_str=padding)\n",
    "print(exterior_a)\n",
    "print()\n",
    "print(exterior_b)\n",
    "print()\n",
    "print(both_exterior)"
   ]
  },
  {
   "cell_type": "markdown",
   "metadata": {},
   "source": [
    "#### Exterior hole disjoint with overlap (Disjoint)\n",
    "<table>\n",
    "<tr>\n",
    "<td><img src=\"Images/Boundaries/Exterior hole with contained structure inside hole.png\" alt=\"Interior hole with contained structure inside hole\"></td>\n",
    "<td><img src=\"Images/Boundaries/Interior hole with nested structure not touching hole slice.png\" alt=\"Boundary slice\"></td>\n",
    "</tr>\n",
    "</table>\n",
    "\n",
    "- Exterior contour and hole share the bottom boundary\n",
    "- Secondary structure is not a boundary\n",
    "- Should show  disjoint\n",
    "\n",
    "\n",
    "- interpolated slice of A contains:\n",
    "    - *boundaries* with single MultiPolygon containing both contours\n",
    "    - *regions* is empty  - because both contours are boundaries.\n",
    "- interpolated slice of B contains:\n",
    "    - *boundaries* is empty\n",
    "    - *regions* with single MultiPolygon containing single contour\n"
   ]
  },
  {
   "cell_type": "markdown",
   "metadata": {},
   "source": [
    "#### Interior hole with surrounded structure not touching hole (Surrounds)\n",
    "<table>\n",
    "<tr>\n",
    "<td><img src=\"Images/Boundaries/Interior hole with nested structure not touching hole .png\" alt=\"Interior hole with contained structure not touching hole\"></td>\n",
    "<td><img src=\"Images/Boundaries/Interior hole with nested structure not touching hole slice.png\" alt=\"Boundary slice\"></td>\n",
    "</tr>\n",
    "</table>\n",
    "\n",
    "- Secondary structure is only boundary\n",
    "- Exterior - Hole will produce disjoint\n",
    "- Should show disjoint\n",
    "\n",
    "\n",
    "\n",
    "- interpolated slice of A contains:\n",
    "    - *boundaries*...\n",
    "    - *regions* ...\n",
    "- interpolated slice of B contains:\n",
    "    - *boundaries* ...\n",
    "    - *regions* ...\n"
   ]
  },
  {
   "cell_type": "markdown",
   "metadata": {},
   "source": [
    "#### Interior hole with contained structure touching hole (Partition)\n",
    "<table>\n",
    "<tr>\n",
    "<td><img src=\"Images/Boundaries/Interior hole with contained structure touching hole.png\" alt=\"Interior hole with contained structure touching hole\"></td>\n",
    "<td><img src=\"Images/Boundaries/Interior hole with contained structure touching hole slice.png\" alt=\"Boundary slice\"></td>\n",
    "</tr>\n",
    "</table>\n",
    "\n",
    "- Hole shares boundary slice with the secondary structure\n",
    "- Should show  boundaries touching\n",
    "- Exterior contour is not a boundary Just hole & internal boundary\n",
    "\n",
    "\n",
    "- interpolated slice of A contains:\n",
    "    - *boundaries*...\n",
    "    - *regions* ...\n",
    "- interpolated slice of B contains:\n",
    "    - *boundaries* ...\n",
    "    - *regions* ...\n"
   ]
  },
  {
   "cell_type": "markdown",
   "metadata": {},
   "source": [
    "#### Exterior hole with structure touching both hole and exterior\n",
    "![Exterior hole with structure touching both hole and exterior](<Images/Boundaries/Exterior hole with structure touching both hole and exterior.png>)\n",
    "- interpolated slice of A contains:\n",
    "    - *boundaries* with single MultiPolygon containing contour\n",
    "    - *regions* is empty?  - because contour is boundary.\n",
    "- interpolated slice of B contains:\n",
    "    - *boundaries* with single MultiPolygon containing both contours\n",
    "    - *regions* is empty?  - because both contours are boundaries.\n",
    "\n",
    "\n",
    "\n",
    "\n",
    "\n",
    "#### Interior borders\n",
    "![alt text](<Images/Boundaries/Interior Hole with structure of same length inside.png>)\n",
    "\n",
    "\n",
    "\n"
   ]
  },
  {
   "cell_type": "markdown",
   "metadata": {},
   "source": [
    "**DE-27IM**\n",
    "|_|Contour|_|Exterior|_|Hull  |\n",
    "|-|------|-|-------|-|----|\n",
    "\n",
    "| |I|B|E||I|B|E||I|B|E|\n",
    "|-|-|-|-|-|-|-|-|-|-|-|-|\n",
    "|I|F|*|*||T|*|*||*|*|*|\n",
    "|B|*|T|*||*|T|*||*|*|*|\n",
    "|E|*|*|*||*|*|*||*|*|*|\n"
   ]
  },
  {
   "cell_type": "markdown",
   "metadata": {},
   "source": [
    "<style type=\"text/css\">\n",
    "table {border-style:solid;border-width:1px;border-collapse:collapse;border-spacing:1;}\n",
    "td {font-family:Arial, sans-serif;font-size:12px;color: #000000; \n",
    "    text-align:center;vertical-align:middle;overflow:hidden; \n",
    "    padding:3px 3px;word-break:normal}\n",
    ".tg-b-head{background-color: #8ED973;font-size:16px;font-weight:bold;\n",
    "           border-bottom: 3px solid #156082}\n",
    ".tg-a-head{background-color: #61CBF3;font-size:16px;font-weight:bold;\n",
    "           border-right: 3px solid #156082}\n",
    ".tg-group{background-color: #61CBF3;font-size:14px;font-weight:bold}\n",
    ".tg-dim-top{background-color: #A02B93;color: #FFFFFF;font-weight:bold;\n",
    "            border-color: #000000; border-bottom: 4px solid #FFFFFF}\n",
    ".tg-dim-left{background-color: #A02B93;color: #FFFFFF;font-weight:bold;\n",
    "             border-color: #000000;border-right: 4px solid #FFFFFF}\n",
    ".tg-group-border{border-right: 10px solid #F1A983}\n",
    ".tg-bit{background-color: #F2CEEF}\n",
    "</style>\n",
    "<table><tbody>\n",
    "  <tr> <td colspan=\"2\" rowspan=\"3\"></td> \n",
    "       <td class=\"tg-b-head\" colspan=\"9\">B</td>\n",
    "  </tr>\n",
    "  <tr><td class=\"tg-group tg-group-border\" colspan=\"3\">Region</td>\n",
    "      <td class=\"tg-group tg-group-border\" colspan=\"3\">Exterior</td>\n",
    "      <td class=\"tg-group\" colspan=\"3\">Hull</td>\n",
    "  </tr>\n",
    "  <tr><td class=\"tg-dim-top\">I</td><td class=\"tg-dim-top\">B</td>\n",
    "      <td class=\"tg-dim-top tg-group-border\">E</td>\n",
    "      <td class=\"tg-dim-top\">I</td><td class=\"tg-dim-top\">B</td>\n",
    "      <td class=\"tg-dim-top tg-group-border\">E</td>\n",
    "      <td class=\"tg-dim-top\">I</td><td class=\"tg-dim-top\">B</td>\n",
    "      <td class=\"tg-dim-top\">E</td>\n",
    "  </tr>\n",
    "  <tr>\n",
    "    <td class=\"tg-a-head\" rowspan=\"3\">A</td>\n",
    "    <td class=\"tg-dim-left\">I</td>\n",
    "    <td class=\"tg-bit\">*</td>\n",
    "    <td class=\"tg-bit\">*</td>\n",
    "    <td class=\"tg-bit tg-group-border\">*</td>\n",
    "    <td class=\"tg-bit\">*</td>\n",
    "    <td class=\"tg-bit\">*</td>\n",
    "    <td class=\"tg-bit tg-group-border\">*</td>\n",
    "    <td class=\"tg-bit\">*</td>\n",
    "    <td class=\"tg-bit\">*</td>\n",
    "    <td class=\"tg-bit\">*</td>\n",
    "  </tr>\n",
    "  <tr>\n",
    "    <td class=\"tg-dim-left\">B</span></td>\n",
    "    <td class=\"tg-bit\">*</td>\n",
    "    <td class=\"tg-bit\">*</td>\n",
    "    <td class=\"tg-bit tg-group-border\">*</td>\n",
    "    <td class=\"tg-bit\">*</td>\n",
    "    <td class=\"tg-bit\">*</td>\n",
    "    <td class=\"tg-bit tg-group-border\">*</td>\n",
    "    <td class=\"tg-bit\">*</td>\n",
    "    <td class=\"tg-bit\">*</td>\n",
    "    <td class=\"tg-bit\">*</td>\n",
    "  </tr>\n",
    "  <tr>\n",
    "    <td class=\"tg-dim-left\">E</span></td>\n",
    "    <td class=\"tg-bit\">*</td>\n",
    "    <td class=\"tg-bit\">*</td>\n",
    "    <td class=\"tg-bit tg-group-border\">*</td>\n",
    "    <td class=\"tg-bit\">*</td>\n",
    "    <td class=\"tg-bit\">*</td>\n",
    "    <td class=\"tg-bit tg-group-border\">*</td>\n",
    "    <td class=\"tg-bit\">*</td>\n",
    "    <td class=\"tg-bit\">*</td>\n",
    "    <td class=\"tg-bit\">*</td>\n",
    "  </tr>\n",
    "</tbody></table>"
   ]
  },
  {
   "cell_type": "markdown",
   "metadata": {},
   "source": [
    "## Boundary corrections\n",
    "<table>\n",
    "<tr>\n",
    "    <th>Corrections for boundary in <i>A</i></th>\n",
    "    <th>Corrections for boundary in <i>B</i></th>\n",
    "    <th>Corrections for <i>A</i> and <i>B</i> as boundaries</th>\n",
    "    </tr>\n",
    "<tr>\n",
    "    <td><img src=\"Images/Boundaries/a interior to boundary.png\" alt=\"Boundary corrections for A\" width=\"250\"></td>\n",
    "    <td><img src=\"Images/Boundaries/b interior to boundary.png\" alt=\"Boundary corrections for A\" width=\"250\"></td>\n",
    "    <td><img src=\"Images/Boundaries/a and b interior to boundary.png\" alt=\"Boundary corrections for A\" width=\"250\"></td>\n",
    "</tr>\n",
    "</table>\n"
   ]
  },
  {
   "cell_type": "markdown",
   "metadata": {},
   "source": [
    "## Hole Corrections\n",
    "<table>\n",
    "<tr>\n",
    "    <th>Corrections for <i>A</i> as hole</th>\n",
    "    <th>Corrections for <i>B</i> as hole</th>\n",
    "    </tr>\n",
    "<tr>\n",
    "    <td><img src=\"Images\\Boundaries\\Correction for A as Hole.png\" alt=\"Boundary corrections for A\" width=\"300\"></td>\n",
    "    <td><img src=\"Images\\Boundaries\\Correction for B as Hole.png\" alt=\"Boundary corrections for A\" width=\"300\"></td>\n",
    "</tr>\n"
   ]
  },
  {
   "cell_type": "markdown",
   "metadata": {},
   "source": [
    "# Interpolated Region Slices\n",
    "- All Boundary contours should be combined into a MultiPolygon in *boundaries*.\n",
    "- *holes* and regular contours cannot be combined in the same MultiPolygon unless they are related.\n",
    "- holes require a flag to indicate that they are holes.\n",
    "- *regions* should contain the non-boundary contours.\n",
    "\n"
   ]
  },
  {
   "cell_type": "markdown",
   "metadata": {},
   "source": [
    "### Tests to make\n",
    "- add test for region_slice boundaries with holes\n",
    "- Check contour table with multiple holes\n"
   ]
  },
  {
   "cell_type": "markdown",
   "metadata": {},
   "source": [
    "## generate_interpolated_contours design:\n",
    "create a function to generate an interpolated contour for a given slice index in the contour graph.\n",
    "- The function should take a contour graph, a slice sequence and a slice index (*this_slice*) as input.\n",
    "- The function should take an optional argument for the slice index of the interpolated contour (*interpolated_slice*).\n",
    "- The function should return an updated contour graph with the interpolated contour added.\n",
    "- The function should check if *this_slice* is in the contour graph and raise an error if it is not.\n",
    "- The neighbours of the *this_slice* node are obtained from the slice_sequence.\n",
    "- If *interpolated_slice* is not provided, *this_slice* must reference a graph node with a degree of 1.  If not, raise an error.\n",
    "- If *interpolated_slice* is not provided, the second slice index for the interpolation is the neighbouring slice index that is not adjacent to the *this_slice* node.\n",
    " - If *interpolated_slice* is provided, verify that it is located between *this_slice* and one of the neighbour slice index and select that slice index as the second slice index for the interpolation.\n",
    " - If a there is a node at the neighbour slice index which is adjacent to the *this_slice* node, then get the polygon from that node as the second polygon for the interpolation. if not, then the second polygon is None.\n",
    " - use `interpolate_polygon` to create the interpolated polygon.\n",
    " - The slice index of the interpolated contour can be obtained from the *Z* coordinate of the interpolated polygon.\n",
    " - After the interpolated polygon is created, create a Contour object.\n",
    " - The following attributes should match those of the *this_slice* node:\n",
    "    - roi\n",
    "    - is_hole\n",
    "    - hole_type\n",
    "    - is_boundary\n",
    "- The following attributes should be:\n",
    "    - is_interpolated = True\n",
    "    - slice_index = interpolated_slice\n"
   ]
  },
  {
   "cell_type": "code",
   "execution_count": 57,
   "metadata": {},
   "outputs": [],
   "source": [
    "def hole_test_contour_table():\n",
    "    '''Create a contour table for testing set_enclosed_regions function.\n",
    "\n",
    "    The test table contains the following data:\n",
    "        ROI 0: The background region that defines the set of all slice indexes.\n",
    "            slices, 0.0, 1.0, 2.0, 3.0, 4.0, 5.0\n",
    "        ROI 1: 1 contour with an embedded hole on slices 1.0 to 4.0,\n",
    "            results in open hole\n",
    "        ROI 2: 1 contour on slices 1.0 to 4.0,\n",
    "               an embedded hole on slices 2.0 and 3.0,\n",
    "               results in a closed hole.\n",
    "        ROI 3: 1 contour on slices 1.0 to 4.0,\n",
    "               an embedded hole on slices 1.0 and 3.0,\n",
    "               results in a open hole.\n",
    "    '''\n",
    "    box1= box_points(width=1)\n",
    "    box3_right = box_points(width=3, offset_x=-1.5)\n",
    "    box1_right = box_points(width=1, offset_x=-1.5)\n",
    "    box3_left = box_points(width=3, offset_x=1.5)\n",
    "    box1_left = box_points(width=1, offset_x=1.5)\n",
    "    box3_ant = box_points(width=3, offset_y=1.5)\n",
    "    box1_ant = box_points(width=1, offset_y=1.5)\n",
    "    slice_data = [\n",
    "       ContourPoints(box1, roi=0, slice_index=0.0),        # ROI 0, Area 1\n",
    "       ContourPoints(box1, roi=0, slice_index=1.0),        # ROI 0, Area 1\n",
    "       ContourPoints(box1, roi=0, slice_index=2.0),        # ROI 0, Area 1\n",
    "       ContourPoints(box1, roi=0, slice_index=3.0),        # ROI 0, Area 1\n",
    "       ContourPoints(box1, roi=0, slice_index=4.0),        # ROI 0, Area 1\n",
    "       ContourPoints(box1, roi=0, slice_index=5.0),        # ROI 0, Area 1\n",
    "\n",
    "       ContourPoints(box3_right, roi=1, slice_index=1.0),  # ROI 1, Area 4\n",
    "       ContourPoints(box1_right, roi=1, slice_index=1.0),  # ROI 1, Hole\n",
    "       ContourPoints(box3_right, roi=1, slice_index=2.0),  # ROI 1, Area 4\n",
    "       ContourPoints(box1_right, roi=1, slice_index=2.0),  # ROI 1, Hole\n",
    "       ContourPoints(box3_right, roi=1, slice_index=3.0),  # ROI 1, Area 4\n",
    "       ContourPoints(box1_right, roi=1, slice_index=3.0),  # ROI 1, Hole\n",
    "       ContourPoints(box3_right, roi=1, slice_index=4.0),  # ROI 1, Area 4\n",
    "       ContourPoints(box1_right, roi=1, slice_index=4.0),  # ROI 1, Hole\n",
    "\n",
    "       ContourPoints(box3_left, roi=2, slice_index=1.0),  # ROI 2, Area 4\n",
    "       ContourPoints(box3_left, roi=2, slice_index=2.0),  # ROI 2, Area 4\n",
    "       ContourPoints(box1_left, roi=2, slice_index=2.0),  # ROI 2, Hole\n",
    "       ContourPoints(box3_left, roi=2, slice_index=3.0),  # ROI 2, Area 4\n",
    "       ContourPoints(box1_left, roi=2, slice_index=3.0),  # ROI 2, Hole\n",
    "       ContourPoints(box3_left, roi=2, slice_index=4.0),  # ROI 2, Area 4\n",
    "\n",
    "       ContourPoints(box3_ant, roi=3, slice_index=1.0),  # ROI 3, Area 4\n",
    "       ContourPoints(box1_ant, roi=3, slice_index=1.0),  # ROI 3, Hole\n",
    "       ContourPoints(box3_ant, roi=3, slice_index=2.0),  # ROI 3, Area 4\n",
    "       ContourPoints(box1_ant, roi=3, slice_index=2.0),  # ROI 3, Hole\n",
    "       ContourPoints(box3_ant, roi=3, slice_index=3.0),  # ROI 3, Area 4\n",
    "       ContourPoints(box1_ant, roi=3, slice_index=3.0),  # ROI 3, Hole\n",
    "       ContourPoints(box3_ant, roi=3, slice_index=4.0),  # ROI 3, Area 4\n",
    "    ]\n",
    "    contour_table, slice_sequence = build_contour_table(slice_data)\n",
    "    return contour_table, slice_sequence\n"
   ]
  },
  {
   "cell_type": "code",
   "execution_count": 58,
   "metadata": {},
   "outputs": [],
   "source": [
    "contour_table, slice_sequence = hole_test_contour_table()\n",
    "contour_graph, slice_sequence = build_contour_graph(contour_table,\n",
    "                                                    slice_sequence,\n",
    "                                                    roi=3)"
   ]
  },
  {
   "cell_type": "markdown",
   "metadata": {},
   "source": [
    "|SliceIndex|RegionIndex|HoleType|Interpolated|\n",
    "|---|---|---|---|\n",
    "|0.5|Area 2|Hole|Interpolated|\n",
    "|1.0|Area 4|Hole|Original|\n",
    "|2.0|Area 4|Hole|Original|\n",
    "|3.0|Area 4|Hole|Original|\n",
    "|3.5|Area 2|Hole|Interpolated|\n",
    "|4.0|Area 4|-|Original|\n",
    "|4.5|Area 2|-|Interpolated|\n",
    "\n",
    "- Hole has 3 original contours and 2 interpolated contours on the ends.\n",
    "- 3 nodes with degree 2 and 2 nodes with degree 1.\n",
    "- Area has 4 original contours, 2 interpolated contours on the ends, and 1 interpolated contour in the middle (where Hole ends).\n",
    "- 3 nodes with degree 2, 3 nodes with degree 1 (two ends and one middle), and 1 node with degree 3 (due to the interpolated contour in the middle).\n",
    "\n",
    "**Graph Degrees**\n",
    "|Degree|Count|\n",
    "|---|---|\n",
    "|3|1|\n",
    "|2|6|\n",
    "|1|5|"
   ]
  },
  {
   "cell_type": "code",
   "execution_count": 59,
   "metadata": {},
   "outputs": [
    {
     "data": {
      "image/png": "[encoded data removed]",
      "text/plain": [
       "<Figure size 640x480 with 1 Axes>"
      ]
     },
     "metadata": {},
     "output_type": "display_data"
    }
   ],
   "source": [
    "nx.draw(contour_graph, with_labels=True)\n",
    "plt.show()"
   ]
  },
  {
   "cell_type": "code",
   "execution_count": 60,
   "metadata": {},
   "outputs": [],
   "source": [
    "A = shapely.Polygon(circle_points(2))\n",
    "B = shapely.Polygon(circle_points(2, offset_y=1))\n",
    "C = shapely.Polygon(circle_points(2, offset_y=-1))\n"
   ]
  },
  {
   "cell_type": "code",
   "execution_count": 61,
   "metadata": {},
   "outputs": [
    {
     "data": {
      "image/svg+xml": [
       "<svg xmlns=\"http://www.w3.org/2000/svg\" xmlns:xlink=\"http://www.w3.org/1999/xlink\" width=\"100.0\" height=\"100.0\" viewBox=\"-2.24 -3.24 4.48 6.48\" preserveAspectRatio=\"xMinYMin meet\"><g transform=\"matrix(1,0,0,-1,0,0.0)\"><path fill-rule=\"evenodd\" fill=\"#66cc99\" stroke=\"#555555\" stroke-width=\"0.12960000000000002\" opacity=\"0.6\" d=\"M 2.0,-1.0 L 1.848,-1.7650000000000001 L 1.414,-2.4139999999999997 L 0.765,-2.848 L 0.0,-3.0 L -0.765,-2.848 L -1.414,-2.4139999999999997 L -1.848,-1.7650000000000001 L -2.0,-1.0 L -1.900653594771242,-0.5 L -2.0,0.0 L -1.900653594771242,0.5 L -2.0,1.0 L -1.848,1.7650000000000001 L -1.414,2.4139999999999997 L -0.765,2.848 L 0.0,3.0 L 0.765,2.848 L 1.414,2.4139999999999997 L 1.848,1.7650000000000001 L 2.0,1.0 L 1.900653594771242,0.5 L 2.0,0.0 L 1.900653594771242,-0.5 L 2.0,-1.0 z\" /></g></svg>"
      ],
      "text/plain": [
       "<POLYGON ((2 -1, 1.848 -1.765, 1.414 -2.414, 0.765 -2.848, 0 -3, -0.765 -2.8...>"
      ]
     },
     "execution_count": 61,
     "metadata": {},
     "output_type": "execute_result"
    }
   ],
   "source": [
    "shapely.union_all([A, B, C])"
   ]
  },
  {
   "cell_type": "code",
   "execution_count": 62,
   "metadata": {},
   "outputs": [],
   "source": [
    "I = interpolate_polygon([0,1], A, B)"
   ]
  },
  {
   "cell_type": "code",
   "execution_count": 63,
   "metadata": {},
   "outputs": [
    {
     "data": {
      "text/plain": [
       "True"
      ]
     },
     "execution_count": 63,
     "metadata": {},
     "output_type": "execute_result"
    }
   ],
   "source": [
    "I.has_z"
   ]
  },
  {
   "cell_type": "code",
   "execution_count": 64,
   "metadata": {},
   "outputs": [
    {
     "data": {
      "text/plain": [
       "0.5"
      ]
     },
     "execution_count": 64,
     "metadata": {},
     "output_type": "execute_result"
    }
   ],
   "source": [
    "I.boundary.coords[0][2]"
   ]
  },
  {
   "cell_type": "markdown",
   "metadata": {},
   "source": [
    "## Testing RegionSlice\n",
    "\n",
    "### Test Preprocessing\n",
    "1. define the contours for the slices\n",
    "2  Build the contour graph\n",
    "\n",
    "Create RegionSlices for different slices\n",
    "\n",
    "- Items to test:\n",
    "    - regions, open_holes, exterior, hull, region_holes, embedded_regions, contour_indexes\n",
    "        1. Slice with one contour\n",
    "            - regions contains a single MultiPolygon\n",
    "            - boundaries contains an empty MultiPolygon\n",
    "            - open_holes contains an empty MultiPolygon\n",
    "            - exterior is the same as the region\n",
    "            - hull is the same as the region\n",
    "            - embedded_regions contains an empty list\n",
    "            - region_holes contains an empty list\n",
    "            - contour_indexes contains a single ContourIndex\n",
    "        2. Slice with two non-overlapping contours\n",
    "            - regions contains two MultiPolygons\n",
    "            - boundaries contains two empty MultiPolygons\n",
    "            - open_holes contains two empty MultiPolygons\n",
    "            - exterior is the same as the region\n",
    "            - hull is the same as the region\n",
    "            - embedded_regions contains an empty list\n",
    "            - region_holes contains an empty list\n",
    "            - contour_indexes contains two ContourIndexes\n",
    "        3. Slice with two non-overlapping contours that are part of the same region\n",
    "            - regions contains a single MultiPolygon that includes the two contours\n",
    "            - boundaries contains an empty MultiPolygon\n",
    "            - open_holes contains an empty MultiPolygon\n",
    "            - exterior is the same as the region\n",
    "            - hull is the convex hull of the region MultiPolygon\n",
    "            - embedded_regions contains an empty list\n",
    "            - region_holes contains an empty list\n",
    "            - contour_indexes contains two ContourIndexes\n",
    "        4. Slice with contour and an open hole\n",
    "            - regions contains a single MultiPolygon\n",
    "            - boundaries contains an empty MultiPolygon\n",
    "            - open_holes contains the hole as a single MultiPolygon\n",
    "            - exterior is the same as the region\n",
    "            - hull contains the larger contour as a single MultiPolygon   \n",
    "            - embedded_regions contains an empty list\n",
    "            - region_holes contains a single Contour\n",
    "            - contour_indexes contains two ContourIndexes\n",
    "        5. Slice with contour and a closed hole\n",
    "            - regions contains a single MultiPolygon\n",
    "            - boundaries contains an empty MultiPolygon\n",
    "            - open_holes contains an empty MultiPolygon\n",
    "            - exterior contains the larger contour as a single MultiPolygon\n",
    "            - hull is the convex hull of the region MultiPolygon\n",
    "            - embedded_regions contains an empty list\n",
    "            - region_holes contains a single Contour\n",
    "            - contour_indexes contains two ContourIndexes\n",
    "        6. Slice with contour, a closed hole and an island\n",
    "            - regions contains a single MultiPolygon\n",
    "            - boundaries contains an empty MultiPolygon\n",
    "            - open_holes contains an empty MultiPolygon\n",
    "            - exterior contains the larger contour as a single MultiPolygon\n",
    "            - hull is the convex hull of the region MultiPolygon\n",
    "            - embedded_regions contains  a single Contour\n",
    "            - region_holes contains a single Contour\n",
    "            - contour_indexes contains three ContourIndexes\n",
    "\n",
    "    - boundaries, is_interpolated, contour_indexes\n",
    "        1. boundary slice for region with one contour per slice\n",
    "            - boundaries contains a single MultiPolygon\n",
    "            - regions contains an empty MultiPolygon\n",
    "            - open_holes contains an empty MultiPolygon\n",
    "            - embedded_regions contains an empty list\n",
    "            - region_holes contains an empty list\n",
    "            - contour_indexes contains a single ContourIndex\n",
    "            - is_interpolated is True\n",
    "\n",
    "**Needs Fixing**\n",
    "> Boundary contours should not be combined with the region contours.\n",
    "\n",
    "> Each boundary contour should be a separate MultiPolygon.\n",
    "\n",
    "2. boundary slice for region that is an open hole\n",
    "    - boundaries contains a single MultiPolygon  (the hole)\n",
    "    - **??? regions contains an single MultiPolygon  (the outer contour) ???**\n",
    "    - open_holes contains an empty MultiPolygon\n",
    "    - **??? embedded_regions contains an empty list ???**\n",
    "    - region_holes contains a single Contour\n",
    "    - **??? contour_indexes contains a single ContourIndex ???**\n",
    "    - is_interpolated is True\n",
    "\n",
    "\n"
   ]
  },
  {
   "cell_type": "markdown",
   "metadata": {},
   "source": [
    "# Testing RegionSlice\n",
    "\n",
    "### Test Preprocessing\n",
    "1. define the contours for the slices\n",
    "2  Build the contour graph\n",
    "\n",
    "Create RegionSlices for different slices\n",
    "\n",
    "- Items to test:\n",
    "    - regions, open_holes, exterior, hull, region_holes, embedded_regions, contour_indexes\n",
    "        1. Slice with one contour\n",
    "            - regions contains a single item with a single MultiPolygon\n",
    "            - boundaries contains a single item with an empty MultiPolygon\n",
    "            - open_holes contains a single item with an empty MultiPolygon\n",
    "            - exterior is the same as the region\n",
    "            - hull is the same as the region\n",
    "            - embedded_regions contains a single item with an empty list\n",
    "            - region_holes contains a single item with an empty list\n",
    "            - contour_indexes contains a single item with a single ContourIndex\n",
    "        2. Slice with two non-overlapping contours\n",
    "            - regions contains two MultiPolygons\n",
    "            - boundaries contains two items containing empty MultiPolygons\n",
    "            - open_holes contains two items containing empty MultiPolygons\n",
    "            - exterior is the same as the region\n",
    "            - hull is the same as the region\n",
    "            - embedded_regions contains two items each containing an empty list\n",
    "            - region_holes contains two items each containing an empty list\n",
    "            - contour_indexes contains two items, each a list containing a \n",
    "                single ContourIndex\n",
    "        3. Slice with two non-overlapping contours that are part of the same region\n",
    "            - regions contains a single MultiPolygon that includes the two \n",
    "                contours\n",
    "            - boundaries contains two items containing empty MultiPolygons\n",
    "            - open_holes contains two items containing empty MultiPolygons\n",
    "            - exterior is the same as the region\n",
    "            - hull contains a single item with the convex hull of the region \n",
    "                MultiPolygon\n",
    "            - region_holes contains a single item with an empty list\n",
    "            - contour_indexes contains a single item, a list with two \n",
    "                ContourIndexes\n",
    "        4. Slice with contour and an open hole\n",
    "            - regions contains a single MultiPolygon.\n",
    "            - boundaries contains an MultiPolygons\n",
    "            - open_holes contains a single MultiPolygon.\n",
    "            - exterior is the same as the region\n",
    "            - hull contains the larger contour as a single MultiPolygon.\n",
    "            - region_holes contains the Hole Contour\n",
    "            \n",
    "            - embedded_regions contains the Hole Contour and an empty list.\n",
    "            - contour_indexes contains a single item, a list with two \n",
    "            ContourIndexes.\n",
    "        5. Slice with contour and a closed hole\n",
    "            - regions contains two MultiPolygons, one of which is empty.\n",
    "            - boundaries contains two empty MultiPolygons\n",
    "            - open_holes contains two empty MultiPolygons\n",
    "            - exterior contains the larger contour as a single MultiPolygon \n",
    "                plus an empty MultiPolygon\n",
    "            - hull is the same as the exterior\n",
    "            - embedded_regions contains the Hole Contour and an empty list.\n",
    "            - region_holes contains the Hole Contour and an empty list.\n",
    "            - contour_indexes contains two items, each a list containing a \n",
    "                single ContourIndex\n",
    "            - regions contains contains three items, the MultiPolygon composed \n",
    "                of the outer contour, the hole and the island, plus two empty\n",
    "                MultiPolygons\n",
    "            - boundaries contains three empty MultiPolygons\n",
    "            - open_holes contains three empty MultiPolygons\n",
    "            - exterior contains the larger contour as a single MultiPolygon\n",
    "            - hull is the convex hull of the region MultiPolygon\n",
    "            - embedded_regions contains three items, one with the Hole Contour \n",
    "                and the island contour the other two contain and empty lists.\n",
    "            - region_holes contains three items, one with the Hole Contour the \n",
    "                other two contain and empty lists.\n",
    "            - contour_indexes contains three items each with a single \n",
    "                ContourIndex\n",
    "\n",
    "        1. boundary slice for region with one contour per slice\n",
    "            - regions contains a single item with an empty MultiPolygon\n",
    "            - boundaries contains a single item with a single MultiPolygon\n",
    "            - open_holes contains a single item with an empty MultiPolygon\n",
    "            - embedded_regions contains a single item with an empty MultiPolygon\n",
    "            - region_holes contains a single item with an empty MultiPolygon\n",
    "            - contour_indexes contains a single item with a single ContourIndex\n",
    "            - is_interpolated is True\n",
    "\n",
    "        2. boundary slice for region that is an open hole\n",
    "            - regions contains two empty MultiPolygons\n",
    "                (Both contours are boundaries)\n",
    "            - boundaries contains an empty MultiPolygon and a MultiPolygon with \n",
    "                both the exterior and the hole (since they are both boundaries)\n",
    "            - open_holes contains the hole as a single MultiPolygon plus an\n",
    "                empty MultiPolygon\n",
    "            - exterior contains two empty MultiPolygons\n",
    "            - hull contains two empty MultiPolygons\n",
    "            - region_holes contains the Hole Contour and an empty list.\n",
    "            - embedded_regions contains the Hole Contour and an empty list.\n",
    "            - contour_indexes contains two items, each a list containing a \n",
    "                single ContourIndex\n",
    "            - is_interpolated is True\n",
    "\n",
    "        2. boundary slice for a closed hole\n",
    "            - regions contains an empty MultiPolygon and a MultiPolygon with \n",
    "                both the exterior and the hole\n",
    "            - boundaries contains an empty MultiPolygon and a MultiPolygon with \n",
    "                just the hole (since it is the only boundary)\n",
    "            - open_holes contains two empty MultiPolygons\n",
    "            - exterior contains the larger contour as a single MultiPolygon \n",
    "                plus an empty MultiPolygon\n",
    "            - hull is the same as the exterior\n",
    "            - embedded_regions contains the Hole Contour and an empty list.\n",
    "            - region_holes contains a single Contour\n",
    "            - contour_indexes contains two items, each a list containing a \n",
    "                single ContourIndex\n",
    "\n",
    "\n"
   ]
  },
  {
   "cell_type": "markdown",
   "metadata": {},
   "source": [
    "### Slice with contour and an open hole"
   ]
  },
  {
   "cell_type": "code",
   "execution_count": 65,
   "metadata": {},
   "outputs": [],
   "source": [
    "# Create a large box and a smaller box (hole) inside, both on the same slice\n",
    "outer = box_points(width=4)\n",
    "hole = box_points(width=2)\n",
    "slice_data = [\n",
    "    ContourPoints(outer, roi=1, slice_index=1.0),\n",
    "    ContourPoints(hole, roi=1, slice_index=1.0),\n",
    "    ContourPoints(outer, roi=1, slice_index=2.0),\n",
    "    ContourPoints(hole, roi=1, slice_index=2.0),\n",
    "    ContourPoints(outer, roi=1, slice_index=3.0),\n",
    "    ContourPoints(hole, roi=1, slice_index=3.0),\n",
    "]\n",
    "contour_table, slice_sequence = build_contour_table(slice_data)\n",
    "contour_graph, slice_sequence = build_contour_graph(contour_table,\n",
    "                                                    slice_sequence,\n",
    "                                                    roi=1)\n",
    "## Force the hole contour to be marked as an open hole\n",
    "#for node in contour_graph.nodes:\n",
    "#    contour = contour_graph.nodes[node]['contour']\n",
    "#    print(f'Contour {contour.index} on slice {contour.slice_index} has area {contour.polygon.area}')\n",
    "#    if contour.polygon.area < 10:\n",
    "#        contour.is_hole = True\n",
    "#        contour.hole_type = 'Open'\n",
    "\n",
    "region_slice = RegionSlice(contour_graph, slice_index=0.5)\n"
   ]
  },
  {
   "cell_type": "code",
   "execution_count": 66,
   "metadata": {},
   "outputs": [
    {
     "data": {
      "text/plain": [
       "{'1A': [<contours.Contour at 0x190b4c87690>]}"
      ]
     },
     "execution_count": 66,
     "metadata": {},
     "output_type": "execute_result"
    }
   ],
   "source": [
    "region_slice.region_holes"
   ]
  },
  {
   "cell_type": "markdown",
   "metadata": {},
   "source": [
    "- regions contains a single MultiPolygon\n",
    "- boundaries contains an empty MultiPolygon\n",
    "- open_holes contains the hole as a single MultiPolygon\n",
    "- exterior is the same as the region\n",
    "- hull contains the larger contour as a single MultiPolygon   \n",
    "- embedded_regions contains an empty list\n",
    "- region_holes contains a single Contour\n",
    "- contour_indexes contains two ContourIndexes"
   ]
  },
  {
   "cell_type": "code",
   "execution_count": 67,
   "metadata": {},
   "outputs": [],
   "source": [
    "# Create a large box and a contained smaller box (hole) inside\n",
    "outer = box_points(width=4)\n",
    "hole = box_points(width=2)\n",
    "slice_data = [\n",
    "    ContourPoints(outer, roi=1, slice_index=1.0),\n",
    "    ContourPoints(outer, roi=1, slice_index=2.0),\n",
    "    ContourPoints(outer, roi=1, slice_index=3.0),\n",
    "    ContourPoints(outer, roi=1, slice_index=4.0),\n",
    "    ContourPoints(hole, roi=1, slice_index=2.0),\n",
    "    ContourPoints(hole, roi=1, slice_index=3.0),\n",
    "    ]\n",
    "contour_table, slice_sequence = build_contour_table(slice_data)\n"
   ]
  },
  {
   "cell_type": "code",
   "execution_count": 68,
   "metadata": {},
   "outputs": [],
   "source": [
    "contour_graph, slice_sequence = build_contour_graph(contour_table,\n",
    "                                                    slice_sequence,\n",
    "                                                    roi=1)"
   ]
  },
  {
   "cell_type": "markdown",
   "metadata": {},
   "source": [
    "2. boundary slice for a closed hole\n",
    "    - regions contains a MultiPolygon with both the exterior and the hole\n",
    "    - boundaries contains a MultiPolygon with just the hole (since it is the only boundary)\n",
    "    - open_holes contains an empty MultiPolygon\n",
    "    - exterior contains the larger contour as a single MultiPolygon\n",
    "    - hull is the same as the exterior\n",
    "    - embedded_regions contains the Hole Contour.\n",
    "    - region_holes contains a single Contour\n",
    "    - contour_indexes contains a list containing two ContourIndexes\n"
   ]
  },
  {
   "cell_type": "code",
   "execution_count": 69,
   "metadata": {},
   "outputs": [],
   "source": [
    "region_slice = RegionSlice(contour_graph, slice_index=3.5)\n"
   ]
  },
  {
   "cell_type": "code",
   "execution_count": 70,
   "metadata": {},
   "outputs": [
    {
     "name": "stdout",
     "output_type": "stream",
     "text": [
      "16.0\n",
      "4.0\n"
     ]
    }
   ],
   "source": [
    "print(shapely.Polygon(outer).area)\n",
    "print(shapely.Polygon(hole).area)"
   ]
  },
  {
   "cell_type": "code",
   "execution_count": 71,
   "metadata": {},
   "outputs": [
    {
     "name": "stdout",
     "output_type": "stream",
     "text": [
      "{'1A': <MULTIPOLYGON Z (((-2 -2 3.5, -2 2 3.5, 2 2 3.5, 2 -2 3.5, -2 -2 3.5), (-0.5...>}\n",
      "15.0\n"
     ]
    },
    {
     "data": {
      "image/svg+xml": [
       "<svg xmlns=\"http://www.w3.org/2000/svg\" xmlns:xlink=\"http://www.w3.org/1999/xlink\" width=\"100.0\" height=\"100.0\" viewBox=\"-2.16 -2.16 4.32 4.32\" preserveAspectRatio=\"xMinYMin meet\"><g transform=\"matrix(1,0,0,-1,0,0.0)\"><g><path fill-rule=\"evenodd\" fill=\"#66cc99\" stroke=\"#555555\" stroke-width=\"0.0864\" opacity=\"0.6\" d=\"M -2.0,-2.0 L -2.0,2.0 L 2.0,2.0 L 2.0,-2.0 L -2.0,-2.0 z M -0.5,-0.5 L 0.5,-0.5 L 0.5,0.5 L -0.5,0.5 L -0.5,-0.5 z\" /></g></g></svg>"
      ],
      "text/plain": [
       "<MULTIPOLYGON Z (((-2 -2 3.5, -2 2 3.5, 2 2 3.5, 2 -2 3.5, -2 -2 3.5), (-0.5...>"
      ]
     },
     "execution_count": 71,
     "metadata": {},
     "output_type": "execute_result"
    }
   ],
   "source": [
    "print(region_slice.regions)\n",
    "print(region_slice.regions['1A'].area)\n",
    "region_slice.regions['1A']"
   ]
  },
  {
   "cell_type": "code",
   "execution_count": 72,
   "metadata": {},
   "outputs": [
    {
     "name": "stdout",
     "output_type": "stream",
     "text": [
      "{'1A': <MULTIPOLYGON Z (((0.5 0.5 3.5, 0.5 -0.5 3.5, -0.5 -0.5 3.5, -0.5 0.5 3.5, 0...>}\n",
      "1.0\n"
     ]
    },
    {
     "data": {
      "image/svg+xml": [
       "<svg xmlns=\"http://www.w3.org/2000/svg\" xmlns:xlink=\"http://www.w3.org/1999/xlink\" width=\"100.0\" height=\"100.0\" viewBox=\"-0.54 -0.54 1.08 1.08\" preserveAspectRatio=\"xMinYMin meet\"><g transform=\"matrix(1,0,0,-1,0,0.0)\"><g><path fill-rule=\"evenodd\" fill=\"#66cc99\" stroke=\"#555555\" stroke-width=\"0.0216\" opacity=\"0.6\" d=\"M 0.5,0.5 L 0.5,-0.5 L -0.5,-0.5 L -0.5,0.5 L 0.5,0.5 z\" /></g></g></svg>"
      ],
      "text/plain": [
       "<MULTIPOLYGON Z (((0.5 0.5 3.5, 0.5 -0.5 3.5, -0.5 -0.5 3.5, -0.5 0.5 3.5, 0...>"
      ]
     },
     "execution_count": 72,
     "metadata": {},
     "output_type": "execute_result"
    }
   ],
   "source": [
    "print(region_slice.boundaries)\n",
    "print(region_slice.boundaries['1A'].area)\n",
    "region_slice.boundaries['1A']"
   ]
  },
  {
   "cell_type": "code",
   "execution_count": 73,
   "metadata": {},
   "outputs": [
    {
     "name": "stdout",
     "output_type": "stream",
     "text": [
      "{'1A': [<contours.Contour object at 0x00000190B5420390>]}\n",
      "1.0\n"
     ]
    },
    {
     "data": {
      "image/svg+xml": [
       "<svg xmlns=\"http://www.w3.org/2000/svg\" xmlns:xlink=\"http://www.w3.org/1999/xlink\" width=\"100.0\" height=\"100.0\" viewBox=\"-0.54 -0.54 1.08 1.08\" preserveAspectRatio=\"xMinYMin meet\"><g transform=\"matrix(1,0,0,-1,0,0.0)\"><path fill-rule=\"evenodd\" fill=\"#66cc99\" stroke=\"#555555\" stroke-width=\"0.0216\" opacity=\"0.6\" d=\"M 0.5,0.5 L 0.5,-0.5 L -0.5,-0.5 L -0.5,0.5 L 0.5,0.5 z\" /></g></svg>"
      ],
      "text/plain": [
       "<POLYGON Z ((0.5 0.5 3.5, 0.5 -0.5 3.5, -0.5 -0.5 3.5, -0.5 0.5 3.5, 0.5 0.5...>"
      ]
     },
     "execution_count": 73,
     "metadata": {},
     "output_type": "execute_result"
    }
   ],
   "source": [
    "print(region_slice.embedded_regions)\n",
    "print(region_slice.embedded_regions['1A'][0].polygon.area)\n",
    "region_slice.embedded_regions['1A'][0].polygon\n"
   ]
  },
  {
   "cell_type": "code",
   "execution_count": 74,
   "metadata": {},
   "outputs": [
    {
     "data": {
      "text/plain": [
       "{'1A': <MULTIPOLYGON EMPTY>}"
      ]
     },
     "execution_count": 74,
     "metadata": {},
     "output_type": "execute_result"
    }
   ],
   "source": [
    "region_slice.open_holes"
   ]
  },
  {
   "cell_type": "code",
   "execution_count": 75,
   "metadata": {},
   "outputs": [
    {
     "data": {
      "text/plain": [
       "{'1A': [<contours.Contour at 0x190b5420390>]}"
      ]
     },
     "execution_count": 75,
     "metadata": {},
     "output_type": "execute_result"
    }
   ],
   "source": [
    "region_slice.region_holes"
   ]
  },
  {
   "cell_type": "markdown",
   "metadata": {},
   "source": [
    "- open_holes does not matter for boundaries"
   ]
  },
  {
   "cell_type": "code",
   "execution_count": 76,
   "metadata": {},
   "outputs": [
    {
     "data": {
      "image/svg+xml": [
       "<svg xmlns=\"http://www.w3.org/2000/svg\" xmlns:xlink=\"http://www.w3.org/1999/xlink\" width=\"100.0\" height=\"100.0\" viewBox=\"-2.16 -2.16 4.32 4.32\" preserveAspectRatio=\"xMinYMin meet\"><g transform=\"matrix(1,0,0,-1,0,0.0)\"><g><path fill-rule=\"evenodd\" fill=\"#66cc99\" stroke=\"#555555\" stroke-width=\"0.0864\" opacity=\"0.6\" d=\"M -2.0,-2.0 L -2.0,2.0 L 2.0,2.0 L 2.0,-2.0 L -2.0,-2.0 z\" /></g></g></svg>"
      ],
      "text/plain": [
       "<MULTIPOLYGON Z (((-2 -2 3.5, -2 2 3.5, 2 2 3.5, 2 -2 3.5, -2 -2 3.5)))>"
      ]
     },
     "execution_count": 76,
     "metadata": {},
     "output_type": "execute_result"
    }
   ],
   "source": [
    "region_slice.exterior\n",
    "region_slice.exterior['1A']"
   ]
  },
  {
   "cell_type": "code",
   "execution_count": 77,
   "metadata": {},
   "outputs": [
    {
     "data": {
      "image/svg+xml": [
       "<svg xmlns=\"http://www.w3.org/2000/svg\" xmlns:xlink=\"http://www.w3.org/1999/xlink\" width=\"100.0\" height=\"100.0\" viewBox=\"-2.16 -2.16 4.32 4.32\" preserveAspectRatio=\"xMinYMin meet\"><g transform=\"matrix(1,0,0,-1,0,0.0)\"><g><path fill-rule=\"evenodd\" fill=\"#66cc99\" stroke=\"#555555\" stroke-width=\"0.0864\" opacity=\"0.6\" d=\"M -2.0,-2.0 L -2.0,2.0 L 2.0,2.0 L 2.0,-2.0 L -2.0,-2.0 z\" /></g></g></svg>"
      ],
      "text/plain": [
       "<MULTIPOLYGON Z (((-2 -2 3.5, -2 2 3.5, 2 2 3.5, 2 -2 3.5, -2 -2 3.5)))>"
      ]
     },
     "execution_count": 77,
     "metadata": {},
     "output_type": "execute_result"
    }
   ],
   "source": [
    "region_slice.hull\n",
    "region_slice.hull['1A']"
   ]
  },
  {
   "cell_type": "code",
   "execution_count": 78,
   "metadata": {},
   "outputs": [
    {
     "data": {
      "text/plain": [
       "{'1A': [(1, 3.5, 472), (1, 3.5, 471)]}"
      ]
     },
     "execution_count": 78,
     "metadata": {},
     "output_type": "execute_result"
    }
   ],
   "source": [
    "region_slice.contour_indexes\n"
   ]
  },
  {
   "cell_type": "code",
   "execution_count": 79,
   "metadata": {},
   "outputs": [
    {
     "data": {
      "text/plain": [
       "{'1A': [<contours.Contour at 0x190b5420390>]}"
      ]
     },
     "execution_count": 79,
     "metadata": {},
     "output_type": "execute_result"
    }
   ],
   "source": [
    "region_slice.embedded_regions"
   ]
  },
  {
   "cell_type": "code",
   "execution_count": 80,
   "metadata": {},
   "outputs": [
    {
     "data": {
      "text/plain": [
       "True"
      ]
     },
     "execution_count": 80,
     "metadata": {},
     "output_type": "execute_result"
    }
   ],
   "source": [
    "region_slice.is_interpolated\n"
   ]
  },
  {
   "cell_type": "code",
   "execution_count": 81,
   "metadata": {},
   "outputs": [
    {
     "data": {
      "text/plain": [
       "<contours.SliceSequence at 0x190b5467e50>"
      ]
     },
     "execution_count": 81,
     "metadata": {},
     "output_type": "execute_result"
    }
   ],
   "source": [
    "slice_data = single_box_example()\n",
    "contour_table, slice_sequence = build_contour_table(slice_data)\n",
    "\n",
    "structure = StructureShape(roi=1)\n",
    "structure.add_contour_graph(contour_table, slice_sequence)\n"
   ]
  },
  {
   "cell_type": "code",
   "execution_count": 82,
   "metadata": {},
   "outputs": [
    {
     "data": {
      "image/png": "[encoded data removed]",
      "text/plain": [
       "<Figure size 640x480 with 1 Axes>"
      ]
     },
     "metadata": {},
     "output_type": "display_data"
    }
   ],
   "source": [
    "nx.draw(structure.contour_graph, with_labels=True)\n",
    "plt.show()"
   ]
  },
  {
   "cell_type": "code",
   "execution_count": 83,
   "metadata": {},
   "outputs": [
    {
     "name": "stdout",
     "output_type": "stream",
     "text": [
      "Physical Volume:\t 27.5625\n",
      "Exterior Volume:\t 27.5625\n",
      "Hull Volume:\t 27.5625\n"
     ]
    }
   ],
   "source": [
    "print('Physical Volume:\\t', structure.physical_volume)\n",
    "print('Exterior Volume:\\t', structure.exterior_volume)\n",
    "print('Hull Volume:\\t', structure.hull_volume)"
   ]
  },
  {
   "cell_type": "code",
   "execution_count": 84,
   "metadata": {},
   "outputs": [
    {
     "name": "stdout",
     "output_type": "stream",
     "text": [
      "Physical Volume:\t 201.4874999999997\n",
      "Exterior Volume:\t 229.04999999999984\n",
      "Hull Volume:\t 229.04999999999984\n"
     ]
    }
   ],
   "source": [
    "slice_data = box_with_hole_example()\n",
    "contour_table, slice_sequence = build_contour_table(slice_data)\n",
    "\n",
    "structure = StructureShape(roi=1)\n",
    "structure.add_contour_graph(contour_table, slice_sequence)\n",
    "\n",
    "print('Physical Volume:\\t', structure.physical_volume)\n",
    "print('Exterior Volume:\\t', structure.exterior_volume)\n",
    "print('Hull Volume:\\t', structure.hull_volume)"
   ]
  },
  {
   "cell_type": "code",
   "execution_count": 85,
   "metadata": {},
   "outputs": [
    {
     "name": "stdout",
     "output_type": "stream",
     "text": [
      "Physical Volume:\t 163.6874999999997\n",
      "Exterior Volume:\t 163.6874999999997\n",
      "Hull Volume:\t 218.24999999999977\n"
     ]
    }
   ],
   "source": [
    "slice_data = square_tube_example()\n",
    "contour_table, slice_sequence = build_contour_table(slice_data)\n",
    "roi = 1\n",
    "structure = StructureShape(roi=1)\n",
    "structure.add_contour_graph(contour_table, slice_sequence)\n",
    "\n",
    "print('Physical Volume:\\t', structure.physical_volume)\n",
    "print('Exterior Volume:\\t', structure.exterior_volume)\n",
    "print('Hull Volume:\\t', structure.hull_volume)"
   ]
  },
  {
   "cell_type": "markdown",
   "metadata": {},
   "source": [
    "## Determine Relationships"
   ]
  },
  {
   "cell_type": "markdown",
   "metadata": {},
   "source": [
    "## Relation analysis process \n",
    "1. Sort structures by increasing Hull volume \n",
    "2. Starting with largest, get relations for all other structures \n",
    "    1. for each slice containing the structure:\n",
    "        1. for each MultiPolygon in RegionSlice.regions of that structure on the slice:\n",
    "            1. Get a 27 bit relation with all MultiPolygons in \n",
    "               RegionSlice.regions and in RegionSlice.boundaries of the other \n",
    "               structure that are on the same slice. \n",
    "                - MultiPolygon vs other MultiPolygon\n",
    "                - (External - External holes) vs other MultiPolygon  \n",
    "                - Convex Hull vs other MultiPolygon \n",
    "            1. Apply appropriate corrections for holes and boundaries. \n",
    "        1. for each MultiPolygon in RegionSlice.boundaries of that structure on the slice:\n",
    "            1. Get a 27 bit relation with all MultiPolygons in \n",
    "               RegionSlice.regions and in RegionSlice.boundaries of the other \n",
    "               structure that are on the same slice. \n",
    "                - Boundary MultiPolygon vs other MultiPolygon  \n",
    "                *Note: External and hull comparisons are not required for boundaries*\n",
    "            1. Apply appropriate corrections for holes and boundaries. \n",
    "    2. Combine all relations with OR \n",
    "2. Create a relations Graph with structures as nodes and relations as edges \n",
    "2. Identify Logical relationships "
   ]
  },
  {
   "cell_type": "markdown",
   "metadata": {},
   "source": [
    "**StructureSet**\n",
    "\n",
    "- List of Structures \n",
    "- RelationshipGraph "
   ]
  },
  {
   "cell_type": "markdown",
   "metadata": {},
   "source": [
    "### `relate_contours` process"
   ]
  },
  {
   "cell_type": "markdown",
   "metadata": {},
   "source": [
    "#### Simplest case: *shapely Polygons or MultiPolygons*\n",
    "\n",
    "1. Force the structure to be a MultiPolygon.\n",
    "2. Generate the external polygon for *structure_a*:\n",
    "    1. Get the outer boundary for each polygon in *structure_a*.\n",
    "    2. Create a solid Polygon from each outer boundary (`get_exterior_ring`).\n",
    "    3. Combine the solid Polygons into a single MultiPolygon.\n",
    "3. Get the convex hull polygon for *structure_a*.\n",
    "4. Get the DE9IM relationships for:\n",
    "    1. MultiPolygon of *structure_a* vs MultiPolygon of *structure_b*\n",
    "    2. External polygon of *structure_a* vs MultiPolygon of *structure_b*\n",
    "    3. Convex hull polygon of *structure_a* vs MultiPolygon of *structure_b*\n",
    "5. Create a relation group with the three *DE9IM* relationships.\n",
    "6. Apply relevant adjustments to the relationships.\n",
    "7. Merge the relationships into the *DE27IM* object.\n",
    "\n",
    "\n",
    "```Python\n",
    "    if isinstance(structure_a, (shapely.Polygon, \n",
    "                                shapely.MultiPolygon)):\n",
    "        # Force structure_a to be a MultiPolygon\n",
    "        poly_a = make_multi(structure_a)\n",
    "        \n",
    "        # Generate the external polygon for structure_a\n",
    "        # Create a solid Polygon from poly_a\n",
    "        solids = [shapely.Polygon(shapely.get_exterior_ring(poly))\n",
    "                    for poly in poly_a.geoms]\n",
    "        external_polygon = shapely.unary_union(solids)\n",
    "\n",
    "        # Generate the convex hull polygon for structure_a\n",
    "        hull_polygon = poly_a.convex_hull\n",
    "\n",
    "        # Get the DE9IM relationships for contour, external and hull.\n",
    "        contour = DE9IM(poly_a, poly_b)\n",
    "        external = DE9IM(external_polygon, poly_b)\n",
    "        convex_hull = DE9IM(hull_polygon, poly_b)\n",
    "\n",
    "        # Create a relation group with contour, external and convex hull.\n",
    "        relation_group = (contour, external, convex_hull)\n",
    "\n",
    "        # If adjustments are supplied, apply them to the relationship.\n",
    "        relation_str = self.combine_groups(relation_group, adjustments)\n",
    "\n",
    "        # Merge the relationship into the DE27IM object.\n",
    "        self.merge(self.to_int(relation_str))\n",
    "```"
   ]
  },
  {
   "cell_type": "markdown",
   "metadata": {},
   "source": [
    "#### Similar case: *Contour(s)*\n",
    "\n",
    "1. Force polygon from the structure to be a MultiPolygon.\n",
    "2. Generate the external polygon for *structure_a*:\n",
    "    1. Get the outer boundary for the polygon of *structure_a*.\n",
    "    2. Create a solid Polygon from the outer boundary (`get_exterior_ring`).\n",
    "    3. Convert the solid Polygons into a MultiPolygon.\n",
    "3. Get the convex hull polygon for *structure_a*.\n",
    "4. Get the DE9IM relationships for:\n",
    "    1. MultiPolygon of *structure_a* vs MultiPolygon of *structure_b*\n",
    "    2. External polygon of *structure_a* vs MultiPolygon of *structure_b*\n",
    "    3. Convex hull polygon of *structure_a* vs MultiPolygon of *structure_b*\n",
    "5. Create a relation group with the three *DE9IM* relationships.\n",
    "6. Apply relevant adjustments to the relationships.\n",
    "7. Merge the relationships into the *DE27IM* object.\n",
    "\n",
    "**Note: **If *structure_a* is a Contour object, the external DE9IM relationship \n",
    "will match the contour relation, because a Contour polygon does not contain \n",
    "holes.\n",
    "\n",
    "```Python\n",
    "    if isinstance(structure_a, Contour):\n",
    "        # Get the polygon from structure_a and convert it to a MultiPolygon.\n",
    "        poly_a = make_multi(structure_a.polygon)\n",
    "        \n",
    "        # If structure_a is a Contour object, the external be identical to \n",
    "        # the contour polygon, because a Contour polygon do not contain holes.\n",
    "        external_polygon = poly_a\n",
    "\n",
    "        # Generate the convex hull polygon for structure_a\n",
    "        hull_polygon = poly_a.convex_hull\n",
    "\n",
    "        # Get the DE9IM relationships for contour, external and hull.\n",
    "        contour = DE9IM(poly_a, poly_b)\n",
    "        external = DE9IM(external_polygon, poly_b)\n",
    "        convex_hull = DE9IM(hull_polygon, poly_b)\n",
    "\n",
    "        # Create a relation group with contour, external and convex hull.\n",
    "        relation_group = (contour, external, convex_hull)\n",
    "\n",
    "        # If adjustments are supplied, apply them to the relationship.\n",
    "        relation_str = self.combine_groups(relation_group, adjustments)\n",
    "\n",
    "        # Merge the relationship into the DE27IM object.\n",
    "        self.merge(self.to_int(relation_str))\n",
    "```"
   ]
  },
  {
   "cell_type": "markdown",
   "metadata": {},
   "source": [
    "#### Primary case: Both structures are *RegionSlice*\n",
    "\n",
    "1. For each MultiPolygon in structure_a.regions:\n",
    "    1. For each MultiPolygon in structure_b.regions:\n",
    "        1. Get the DE9IM relationship for the two MultiPolygons.\n",
    "        2. Get the DE9IM exterior relationship for:\n",
    "            - the the matching structure_a.exterior MultiPolygon and \n",
    "            - the structure_b MultiPolygon.\n",
    "        3. Get the DE9IM hull relationship for:\n",
    "            - the the matching structure_a.hull MultiPolygon and \n",
    "            - the structure_b MultiPolygon.\n",
    "        4. Create a relation group with the three *DE9IM* relationships.\n",
    "        5. Merge the relationship into the *DE27IM* object.        \n",
    "    2. For each MultiPolygon in structure_b.boundaries:\n",
    "        1. Get the DE9IM relationship for the two MultiPolygons.\n",
    "        2. Apply 'boundary_b' adjustments to the DE9IM relationship.\n",
    "        3. Create a relation group by adding *padding* for the exterior \n",
    "           and hull relationships. (External and hull relationships are not \n",
    "           relevant for boundaries.)\n",
    "        4. Merge the relationship into the *DE27IM* object.   \n",
    "2. For each MultiPolygon in structure_a.boundaries:\n",
    "    1. For each MultiPolygon in structure_b.regions:\n",
    "        1. Get the DE9IM relationship for the two MultiPolygons.\n",
    "        2. Apply 'boundary_a' adjustments to the DE9IM relationship.\n",
    "        3. Create a relation group by adding *padding* for the exterior \n",
    "           and hull relationships. (External and hull relationships are not \n",
    "           relevant for boundaries.)\n",
    "        4. Merge the relationship into the *DE27IM* object.   \n",
    "    2. For each MultiPolygon in structure_b.boundaries:\n",
    "        1. Get the DE9IM relationship for the two MultiPolygons.\n",
    "        2. Apply 'boundary_a' and 'boundary_b' adjustments to the DE9IM relationship.\n",
    "        3. Create a relation group by adding *padding* for the exterior \n",
    "           and hull relationships. (External and hull relationships are not \n",
    "           relevant for boundaries.)\n",
    "        4. Merge the relationship into the *DE27IM* object.   \n",
    "\n",
    "```Python\n",
    "    if isinstance(structure_a, RegionSlice) AND isinstance(structure_b, RegionSlice):\n",
    "        exteriors = structure_a.exterior\n",
    "        hulls = structure_a.hull\n",
    "        for region_index, region_a in structure_a.regions.items():\n",
    "            # Get the 27 bit relationship for each region in structure_a\n",
    "            # with all regions and boundaries in structure_b.\n",
    "            for region_b in structure_b.regions.values():\n",
    "                contour = DE9IM(region_a, region_b)\n",
    "                external = DE9IM(exteriors[region_index], region_b)\n",
    "                convex_hull = DE9IM(hulls[region_index], region_b)\n",
    "                relation_group = (contour, external, convex_hull)\n",
    "                # No adjustments required for regions.\n",
    "                relation_str = self.combine_groups(relation_group)\n",
    "                # Merge the relationship into the DE27IM object.\n",
    "                self.merge(self.to_int(relation_str))\n",
    "            for boundary_b in structure_b.boundaries.values():\n",
    "                contour = DE9IM(region_a, boundary_b)\n",
    "                relation_group = (contour, self.padding, self.padding)\n",
    "                # Adjust for secondary boundaries.\n",
    "                adjustments = ['boundary_b']\n",
    "                relation_str = self.combine_groups(relation_group,\n",
    "                                                adjustments)\n",
    "                # Merge the relationship into the DE27IM object.\n",
    "                self.merge(self.to_int(relation_str))\n",
    "        for boundary_a in structure_a.boundaries.values():\n",
    "            # Get the 27 bit relationship for each boundary in structure_a\n",
    "            # with all regions and boundaries in structure_b.\n",
    "            adjustments = ['boundary_a']\n",
    "            for region_b in structure_b.regions.values():\n",
    "                relation_group = []\n",
    "                contour = DE9IM(boundary_a, region_b)\n",
    "                # External and hull relationships are not relevant for\n",
    "                # boundaries.\n",
    "                relation_group = (contour, self.padding, self.padding)\n",
    "                # Adjust for primary boundaries.\n",
    "                relation_str = self.combine_groups(relation_group, adjustments)\n",
    "                # Merge the relationship into the DE27IM object.\n",
    "                self.merge(self.to_int(relation_str))\n",
    "            # Add the boundary_b adjustment to the existing 'boundary_a' adjustment.\n",
    "            adjustments.append('boundary_b')\n",
    "            for boundary_b in structure_b.boundaries.values():\n",
    "                contour = DE9IM(boundary_a, boundary_b)\n",
    "                relation_group = (contour, self.padding, self.padding)\n",
    "                # Adjust for primary and secondary boundaries.\n",
    "                relation_str = self.combine_groups(relation_group, adjustments)\n",
    "                # Merge the relationship into the DE27IM object.\n",
    "                self.merge(self.to_int(relation_str))\n",
    "```"
   ]
  },
  {
   "cell_type": "markdown",
   "metadata": {},
   "source": [
    "#### Complete Structure: \n",
    "\n",
    "1. Create an initial blank DE27IM relationship object.\n",
    "1. Identify the slices where both structures have non-empty RegionSlice objects.\n",
    "2. For each of these slices\n",
    "    1. Get the DE27IM relationship for the two RegionSlice objects.\n",
    "    3. Merge the DE27IM relationship into the composite DE27IM relationship object.\n"
   ]
  },
  {
   "cell_type": "markdown",
   "metadata": {},
   "source": [
    "### Test Contains:\n",
    "#### test contains embedded spheres"
   ]
  },
  {
   "cell_type": "code",
   "execution_count": 86,
   "metadata": {},
   "outputs": [
    {
     "name": "stdout",
     "output_type": "stream",
     "text": [
      "|111|\t|111|\t|111|\n",
      "|001|\t|001|\t|001|\n",
      "|111|\t|111|\t|111|\n",
      "\n",
      "Relationship: Overlaps\n"
     ]
    }
   ],
   "source": [
    "slice_data = embedded_boxes_example()\n",
    "contour_table, slice_sequence = build_contour_table(slice_data)\n",
    "outer_box = StructureShape(roi=1, name='outer_box')\n",
    "slice_sequence = outer_box.add_contour_graph(contour_table, slice_sequence)\n",
    "\n",
    "inner_box = StructureShape(roi=2, name='inner_box')\n",
    "slice_sequence = inner_box.add_contour_graph(contour_table, slice_sequence)\n",
    "\n",
    "outer_box.generate_interpolated_contours(slice_sequence)\n",
    "\n",
    "r = outer_box.relate(inner_box)\n",
    "\n",
    "print(r)\n",
    "print(r.identify_relation())"
   ]
  },
  {
   "cell_type": "code",
   "execution_count": 87,
   "metadata": {},
   "outputs": [
    {
     "name": "stdout",
     "output_type": "stream",
     "text": [
      "|111|\n",
      "|001|\n",
      "|001|\n"
     ]
    },
    {
     "data": {
      "image/png": "[encoded data removed]",
      "text/plain": [
       "<Figure size 400x200 with 1 Axes>"
      ]
     },
     "metadata": {},
     "output_type": "display_data"
    },
    {
     "data": {
      "text/plain": [
       "<Axes: >"
      ]
     },
     "execution_count": 87,
     "metadata": {},
     "output_type": "execute_result"
    }
   ],
   "source": [
    "slice = 1.0\n",
    "idx_a = outer_box.contour_lookup.SliceIndex == slice\n",
    "ref_a = outer_box.contour_lookup.loc[idx_a, 'Label'].values[0]\n",
    "poly_a = outer_box.get_contour(ref_a).polygon\n",
    "\n",
    "idx_b = inner_box.contour_lookup.SliceIndex == slice\n",
    "ref_b = inner_box.contour_lookup.loc[idx_b, 'Label'].values[0]\n",
    "region_b = inner_box.get_contour(ref_b)\n",
    "poly_b = region_b.polygon\n",
    "\n",
    "print(DE9IM(poly_a, poly_b))\n",
    "plot_ab(poly_a, poly_b)"
   ]
  },
  {
   "cell_type": "code",
   "execution_count": 88,
   "metadata": {},
   "outputs": [
    {
     "data": {
      "text/plain": [
       "'212FF1FF2'"
      ]
     },
     "execution_count": 88,
     "metadata": {},
     "output_type": "execute_result"
    }
   ],
   "source": [
    "shapely.relate(poly_a, poly_b)\n"
   ]
  },
  {
   "cell_type": "code",
   "execution_count": 89,
   "metadata": {},
   "outputs": [],
   "source": [
    "idx = outer_box.region_table.SliceIndex == slice\n",
    "region_a = outer_box.region_table.loc[idx, 'RegionSlice'].iat[0]\n",
    "\n",
    "idx = inner_box.region_table.SliceIndex == slice\n",
    "region_b = inner_box.region_table.loc[idx, 'RegionSlice'].iat[0]\n"
   ]
  },
  {
   "cell_type": "code",
   "execution_count": 90,
   "metadata": {},
   "outputs": [
    {
     "name": "stdout",
     "output_type": "stream",
     "text": [
      "dict_keys(['1A'])\n",
      "dict_keys(['2A'])\n",
      "|111|\n",
      "|001|\n",
      "|001|\n"
     ]
    },
    {
     "data": {
      "text/plain": [
       "'212FF1FF2'"
      ]
     },
     "execution_count": 90,
     "metadata": {},
     "output_type": "execute_result"
    }
   ],
   "source": [
    "print(region_a.regions.keys())\n",
    "print(region_b.regions.keys())\n",
    "poly_a = region_a.regions['1A']\n",
    "poly_b = region_b.regions['2A']\n",
    "print(DE9IM(poly_a, poly_b))\n",
    "shapely.relate(poly_a, poly_b)"
   ]
  },
  {
   "cell_type": "code",
   "execution_count": 93,
   "metadata": {},
   "outputs": [
    {
     "data": {
      "text/plain": [
       "<DE9IM>: 212FF1FF2"
      ]
     },
     "execution_count": 93,
     "metadata": {},
     "output_type": "execute_result"
    }
   ],
   "source": [
    "for region_index, poly_a in region_a.regions.items():\n",
    "    # Get the 27 bit relationship for each region in structure_a\n",
    "    # with all regions and boundaries in structure_b.\n",
    "    for poly_b in region_b.regions.values():\n",
    "        contour = DE9IM(poly_a, poly_b)\n",
    "contour"
   ]
  },
  {
   "cell_type": "markdown",
   "metadata": {},
   "source": [
    "# Empty boundaries are being evaluated against contours, producing incorrect relations"
   ]
  },
  {
   "cell_type": "code",
   "execution_count": 106,
   "metadata": {},
   "outputs": [
    {
     "name": "stdout",
     "output_type": "stream",
     "text": [
      "|111|\t|111|\t|111|\n",
      "|001|\t|001|\t|001|\n",
      "|111|\t|001|\t|001|\n",
      "\n"
     ]
    }
   ],
   "source": [
    "print(DE27IM(region_a, region_b))"
   ]
  },
  {
   "cell_type": "code",
   "execution_count": 104,
   "metadata": {},
   "outputs": [
    {
     "data": {
      "text/plain": [
       "<DE9IM>: 212FF1FF2"
      ]
     },
     "execution_count": 104,
     "metadata": {},
     "output_type": "execute_result"
    }
   ],
   "source": [
    "exteriors = region_a.exterior\n",
    "hulls = region_a.hull\n",
    "for region_index, poly_a in region_a.regions.items():\n",
    "    # Get the 27 bit relationship for each region in region_a\n",
    "    # with all regions and boundaries in region_b.\n",
    "    for poly_b in region_b.regions.values():\n",
    "        contour = DE9IM(poly_a, poly_b)\n",
    "        external = DE9IM(exteriors[region_index], poly_b)\n",
    "        convex_hull = DE9IM(hulls[region_index], poly_b)\n",
    "contour"
   ]
  },
  {
   "cell_type": "code",
   "execution_count": 88,
   "metadata": {},
   "outputs": [
    {
     "data": {
      "image/png": "[encoded data removed]",
      "text/plain": [
       "<Figure size 400x200 with 1 Axes>"
      ]
     },
     "metadata": {},
     "output_type": "display_data"
    },
    {
     "data": {
      "text/plain": [
       "<Axes: >"
      ]
     },
     "execution_count": 88,
     "metadata": {},
     "output_type": "execute_result"
    }
   ],
   "source": [
    "slice = 2.0\n",
    "idx_a = outer_box.contour_lookup.SliceIndex == slice\n",
    "if any(idx_a):\n",
    "    ref_a = outer_box.contour_lookup.loc[idx_a, 'Label'].values[0]\n",
    "    poly_a = outer_box.get_contour(ref_a).polygon\n",
    "else:\n",
    "    poly_a = shapely.Polygon()\n",
    "\n",
    "idx_b = inner_box.contour_lookup.SliceIndex == slice\n",
    "if any(idx_b):\n",
    "    ref_b = inner_box.contour_lookup.loc[idx_b, 'Label'].values[0]\n",
    "    poly_b = inner_box.get_contour(ref_b).polygon\n",
    "else:\n",
    "    poly_b = shapely.Polygon()\n",
    "\n",
    "plot_ab(poly_a, poly_b)"
   ]
  },
  {
   "cell_type": "code",
   "execution_count": null,
   "metadata": {},
   "outputs": [],
   "source": []
  }
 ],
 "metadata": {
  "kernelspec": {
   "display_name": "StructureRelations",
   "language": "python",
   "name": "python3"
  },
  "language_info": {
   "codemirror_mode": {
    "name": "ipython",
    "version": 3
   },
   "file_extension": ".py",
   "mimetype": "text/x-python",
   "name": "python",
   "nbconvert_exporter": "python",
   "pygments_lexer": "ipython3",
   "version": "3.11.0"
  }
 },
 "nbformat": 4,
 "nbformat_minor": 4
}
