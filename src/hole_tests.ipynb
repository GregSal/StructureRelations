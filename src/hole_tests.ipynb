{
 "cells": [
  {
   "cell_type": "markdown",
   "metadata": {},
   "source": [
    "## Setup"
   ]
  },
  {
   "cell_type": "markdown",
   "metadata": {},
   "source": [
    "### Imports"
   ]
  },
  {
   "cell_type": "code",
   "execution_count": 1,
   "metadata": {},
   "outputs": [],
   "source": [
    "# Type imports\n",
    "from typing import Any, Dict, Tuple, List\n",
    "\n",
    "import shapely\n",
    "\n",
    "# Local functions and classes\n",
    "from types_and_classes import *\n",
    "from utilities import *\n",
    "from metrics import *\n",
    "from relations import *\n",
    "from debug_tools import *\n"
   ]
  },
  {
   "cell_type": "markdown",
   "metadata": {},
   "source": [
    "### Global Settings"
   ]
  },
  {
   "cell_type": "code",
   "execution_count": 2,
   "metadata": {},
   "outputs": [],
   "source": [
    "PRECISION = 3\n"
   ]
  },
  {
   "cell_type": "code",
   "execution_count": 3,
   "metadata": {},
   "outputs": [],
   "source": [
    "%matplotlib inline"
   ]
  },
  {
   "cell_type": "code",
   "execution_count": 4,
   "metadata": {},
   "outputs": [],
   "source": [
    "def surrounds_example1():\n",
    "    circle6 = shapely.Polygon(circle_points(3))\n",
    "    circle4 = shapely.Polygon(circle_points(2))\n",
    "    circle2 = shapely.Polygon(circle_points(1))\n",
    "\n",
    "    a = StructureSlice([circle6, circle4])\n",
    "    b = StructureSlice([circle2])\n",
    "    return a, b\n",
    "\n",
    "def surrounds_example2():\n",
    "    circle10 = shapely.Polygon(circle_points(5)) # outside cylinder\n",
    "    circle4L = shapely.Polygon(circle_points(2, offset_x=-2.5))\n",
    "    circle4R = shapely.Polygon(circle_points(2, offset_x=2.5))\n",
    "    circle2L = shapely.Polygon(circle_points(1, offset_x=-2.5))\n",
    "\n",
    "    a = StructureSlice([circle10, circle4L, circle4R])\n",
    "    b = StructureSlice([circle2L])\n",
    "    return a, b\n",
    "\n",
    "\n",
    "\n",
    "def surrounds_example3():\n",
    "    circle6 = shapely.Polygon(circle_points(3))\n",
    "    circle5 = shapely.Polygon(circle_points(2.5))\n",
    "    circle4 = shapely.Polygon(circle_points(2))\n",
    "    circle3 = shapely.Polygon(circle_points(1.5))\n",
    "    circle2 = shapely.Polygon(circle_points(1))\n",
    "\n",
    "    a = StructureSlice([circle6, circle5, circle2])\n",
    "    b = StructureSlice([circle4, circle3])\n",
    "    return a, b"
   ]
  },
  {
   "cell_type": "code",
   "execution_count": 5,
   "metadata": {},
   "outputs": [
    {
     "data": {
      "image/png": "[encoded data removed]",
      "text/plain": [
       "<Figure size 400x200 with 1 Axes>"
      ]
     },
     "metadata": {},
     "output_type": "display_data"
    }
   ],
   "source": [
    "a, b = surrounds_example1()\n",
    "ax = plot_ab(a.contour, b.contour)\n"
   ]
  },
  {
   "cell_type": "code",
   "execution_count": 6,
   "metadata": {},
   "outputs": [
    {
     "data": {
      "image/svg+xml": [
       "<svg xmlns=\"http://www.w3.org/2000/svg\" xmlns:xlink=\"http://www.w3.org/1999/xlink\" width=\"100.0\" height=\"100.0\" viewBox=\"-3.24 -3.24 6.48 6.48\" preserveAspectRatio=\"xMinYMin meet\"><g transform=\"matrix(1,0,0,-1,0,0.0)\"><g><path fill-rule=\"evenodd\" fill=\"#66cc99\" stroke=\"#555555\" stroke-width=\"0.12960000000000002\" opacity=\"0.6\" d=\"M 0.0,3.0 L 1.148,2.772 L 2.121,2.121 L 2.772,1.148 L 3.0,0.0 L 2.772,-1.148 L 2.121,-2.121 L 1.148,-2.772 L 0.0,-3.0 L -1.148,-2.772 L -2.121,-2.121 L -2.772,-1.148 L -3.0,0.0 L -2.772,1.148 L -2.121,2.121 L -1.148,2.772 L 0.0,3.0 z M 0.0,2.0 L -0.765,1.848 L -1.414,1.414 L -1.848,0.765 L -2.0,0.0 L -1.848,-0.765 L -1.414,-1.414 L -0.765,-1.848 L 0.0,-2.0 L 0.765,-1.848 L 1.414,-1.414 L 1.848,-0.765 L 2.0,0.0 L 1.848,0.765 L 1.414,1.414 L 0.765,1.848 L 0.0,2.0 z\" /></g></g></svg>"
      ],
      "text/plain": [
       "<MULTIPOLYGON (((0 3, 1.15 2.77, 2.12 2.12, 2.77 1.15, 3 0, 2.77 -1.15, 2.12...>"
      ]
     },
     "execution_count": 6,
     "metadata": {},
     "output_type": "execute_result"
    }
   ],
   "source": [
    "a.contour"
   ]
  },
  {
   "cell_type": "code",
   "execution_count": 7,
   "metadata": {},
   "outputs": [
    {
     "data": {
      "image/svg+xml": [
       "<svg xmlns=\"http://www.w3.org/2000/svg\" xmlns:xlink=\"http://www.w3.org/1999/xlink\" width=\"100.0\" height=\"100.0\" viewBox=\"-3.24 -3.24 6.48 6.48\" preserveAspectRatio=\"xMinYMin meet\"><g transform=\"matrix(1,0,0,-1,0,0.0)\"><g><path fill-rule=\"evenodd\" fill=\"#66cc99\" stroke=\"#555555\" stroke-width=\"0.12960000000000002\" opacity=\"0.6\" d=\"M 0.0,3.0 L 1.148,2.772 L 2.121,2.121 L 2.772,1.148 L 3.0,0.0 L 2.772,-1.148 L 2.121,-2.121 L 1.148,-2.772 L 0.0,-3.0 L -1.148,-2.772 L -2.121,-2.121 L -2.772,-1.148 L -3.0,0.0 L -2.772,1.148 L -2.121,2.121 L -1.148,2.772 L 0.0,3.0 z\" /></g></g></svg>"
      ],
      "text/plain": [
       "<MULTIPOLYGON (((0 3, 1.15 2.77, 2.12 2.12, 2.77 1.15, 3 0, 2.77 -1.15, 2.12...>"
      ]
     },
     "execution_count": 7,
     "metadata": {},
     "output_type": "execute_result"
    }
   ],
   "source": [
    "a.exterior"
   ]
  },
  {
   "cell_type": "code",
   "execution_count": 8,
   "metadata": {},
   "outputs": [
    {
     "data": {
      "image/svg+xml": [
       "<svg xmlns=\"http://www.w3.org/2000/svg\" xmlns:xlink=\"http://www.w3.org/1999/xlink\" width=\"100.0\" height=\"100.0\" viewBox=\"-2.16 -2.16 4.32 4.32\" preserveAspectRatio=\"xMinYMin meet\"><g transform=\"matrix(1,0,0,-1,0,0.0)\"><path fill-rule=\"evenodd\" fill=\"#66cc99\" stroke=\"#555555\" stroke-width=\"0.0864\" opacity=\"0.6\" d=\"M 0.0,2.0 L -0.765,1.848 L -1.414,1.414 L -1.848,0.765 L -2.0,0.0 L -1.848,-0.765 L -1.414,-1.414 L -0.765,-1.848 L 0.0,-2.0 L 0.765,-1.848 L 1.414,-1.414 L 1.848,-0.765 L 2.0,0.0 L 1.848,0.765 L 1.414,1.414 L 0.765,1.848 L 0.0,2.0 z\" /></g></svg>"
      ],
      "text/plain": [
       "<POLYGON ((0 2, -0.765 1.85, -1.41 1.41, -1.85 0.765, -2 0, -1.85 -0.765, -1...>"
      ]
     },
     "execution_count": 8,
     "metadata": {},
     "output_type": "execute_result"
    }
   ],
   "source": [
    "holes = []\n",
    "for ring in a.contour.geoms:\n",
    "    holes.extend(ring.interiors)\n",
    "hole_polygons = [shapely.Polygon(hole) for hole in holes]\n",
    "hole_polygons[0]"
   ]
  },
  {
   "cell_type": "code",
   "execution_count": 9,
   "metadata": {},
   "outputs": [
    {
     "data": {
      "image/png": "[encoded data removed]",
      "text/plain": [
       "<Figure size 400x200 with 1 Axes>"
      ]
     },
     "metadata": {},
     "output_type": "display_data"
    }
   ],
   "source": [
    "a, b = surrounds_example2()\n",
    "ax = plot_ab(a.contour, b.contour)\n"
   ]
  },
  {
   "cell_type": "code",
   "execution_count": 10,
   "metadata": {},
   "outputs": [
    {
     "data": {
      "text/plain": [
       "[<structure_slice.StructureSlice at 0x1d31c949850>,\n",
       " <structure_slice.StructureSlice at 0x1d31e857750>]"
      ]
     },
     "execution_count": 10,
     "metadata": {},
     "output_type": "execute_result"
    }
   ],
   "source": [
    "a.interiors"
   ]
  }
 ],
 "metadata": {
  "kernelspec": {
   "display_name": "StructureRelations",
   "language": "python",
   "name": "python3"
  },
  "language_info": {
   "codemirror_mode": {
    "name": "ipython",
    "version": 3
   },
   "file_extension": ".py",
   "mimetype": "text/x-python",
   "name": "python",
   "nbconvert_exporter": "python",
   "pygments_lexer": "ipython3",
   "version": "3.11.9"
  }
 },
 "nbformat": 4,
 "nbformat_minor": 2
}
