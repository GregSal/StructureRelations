{
 "cells": [
  {
   "cell_type": "markdown",
   "metadata": {},
   "source": [
    "# Region Class Definition"
   ]
  },
  {
   "cell_type": "markdown",
   "metadata": {},
   "source": [
    "## Setup"
   ]
  },
  {
   "cell_type": "markdown",
   "metadata": {},
   "source": [
    "### Imports"
   ]
  },
  {
   "cell_type": "code",
   "execution_count": 1,
   "metadata": {},
   "outputs": [],
   "source": [
    "from typing import List\n",
    "\n",
    "# Shared Packages\n",
    "import pandas as pd\n",
    "from shapely.geometry import MultiPolygon, Polygon\n",
    "import matplotlib.pyplot as plt\n",
    "\n",
    "# Local functions and classes\n",
    "from types_and_classes import *\n",
    "from utilities import *\n",
    "from debug_tools import *\n",
    "from structure_slice import *\n",
    "from structure_set import *\n",
    "#from metrics import *\n",
    "from relations import *"
   ]
  },
  {
   "cell_type": "markdown",
   "metadata": {},
   "source": [
    "### Global Settings"
   ]
  },
  {
   "cell_type": "code",
   "execution_count": 2,
   "metadata": {},
   "outputs": [],
   "source": [
    "PRECISION = 2"
   ]
  },
  {
   "cell_type": "code",
   "execution_count": 3,
   "metadata": {},
   "outputs": [],
   "source": [
    "%matplotlib inline"
   ]
  },
  {
   "cell_type": "markdown",
   "metadata": {},
   "source": [
    "## Need to do boundary checks by region not by structure\n"
   ]
  },
  {
   "cell_type": "markdown",
   "metadata": {},
   "source": [
    "- Make a Region class with the following attributes:\n",
    "    - ROI: ROI_Type, \n",
    "    - slice: SliceIndexType, \n",
    "    - is_hole: bool,\n",
    "    - is_boundary: bool,\n",
    "    - region_labels: List[str], \n",
    "    - polygon: ContourType\n",
    "- Step through all structures and separate each slice into individual polygons \n",
    "    and holes (Regions)\n",
    "- Apply region labels, based on overlapping polygons.\n",
    "  - Set unique labels for each region on the first slice: 'a', 'b' ...\n",
    "  - find overlapping polygons on the next slice and give them the same \n",
    "      region labels.\n",
    "  - A polygon can be in multiple regions.\n",
    "- If a polygon in the current region is not matched to a polygon in the next \n",
    "    region, it is a boundary polygon.\n",
    "- If a polygon in the next region is not matched with a polygon in the current \n",
    "    region, it is a boundary polygon. Assign it to a new region\n",
    "- Store as a list of dictionaries with keys: ROI, slice, is_hole, polygon\n",
    "- convert to a DataFrame and sort on ROI and slice\n"
   ]
  },
  {
   "cell_type": "markdown",
   "metadata": {},
   "source": [
    "`object.relate_pattern(other, pattern)`\n",
    "> Returns True if the *DE-9IM* string code for the relationship between the geometries satisfies the pattern, otherwise False.\n",
    "\n",
    "- The `relate_pattern()` compares the *DE-9IM* code string for two geometries against a specified pattern. If the string matches the pattern then True is returned, otherwise False. \n",
    "- The pattern specified can be an exact match (`0`, `1` or `2`), a boolean match (`T` or `F`), or a wildcard (`*`). \n",
    "- For example, the pattern for the within predicate is `'T*****FF*'`.\n",
    "\n",
    "```python\n",
    "point = Point(0.5, 0.5)\n",
    "square = Polygon([(0, 0), (0, 1), (1, 1), (1, 0)])\n",
    "square.relate_pattern(point, 'T*****FF*')\n",
    "```\n",
    "\n",
    "> True\n",
    "\n",
    "`point.within(square)`\n",
    "\n",
    "> True\n",
    "\n",
    "Note that the order or the geometries is significant, as demonstrated below. In this example the square contains the point, but the point does not contain the square.\n",
    "\n",
    "`point.relate(square)`\n",
    "\n",
    "> '0FFFFF212'\n",
    "\n",
    "`square.relate(point)`\n",
    "\n",
    "> '0F2FF1FF2'"
   ]
  },
  {
   "cell_type": "markdown",
   "metadata": {},
   "source": [
    "# 1st test"
   ]
  },
  {
   "cell_type": "code",
   "execution_count": 4,
   "metadata": {},
   "outputs": [],
   "source": [
    "def simple_cylinders():\n",
    "    slice_spacing = 0.1\n",
    "    # Body structure defines slices in use\n",
    "    body = make_vertical_cylinder(roi_num=0, radius=12, length=1.1,\n",
    "                                  offset_z=-0.5,\n",
    "                                  spacing=slice_spacing)\n",
    "    # Centred cylinder\n",
    "    primary_cylinder = make_vertical_cylinder(roi_num=1, radius=5, length=0.7,\n",
    "                                              offset_z=-0.3,\n",
    "                                              spacing=slice_spacing)\n",
    "    # cylinder within primary\n",
    "    contained_cylinder = make_vertical_cylinder(roi_num=2, radius=3, length=0.5,\n",
    "                                             offset_x=0, offset_z=-0.2,\n",
    "                                             spacing=slice_spacing)\n",
    "    # combine the contours\n",
    "    slice_data = pd.concat([body, primary_cylinder, contained_cylinder])\n",
    "    # convert contour slice data into a table of slices and structures\n",
    "    slice_table = make_slice_table(slice_data, ignore_errors=True)\n",
    "    return slice_table\n"
   ]
  },
  {
   "cell_type": "code",
   "execution_count": 5,
   "metadata": {},
   "outputs": [
    {
     "data": {
      "text/plain": [
       "<RelationshipType.CONTAINS: 8>"
      ]
     },
     "execution_count": 5,
     "metadata": {},
     "output_type": "execute_result"
    }
   ],
   "source": [
    "slice_table = simple_cylinders()\n",
    "regions = generate_region_graph(slice_table)\n",
    "selected_roi = [1, 2]\n",
    "find_relations(slice_table, regions, selected_roi).identify_relation()"
   ]
  },
  {
   "cell_type": "code",
   "execution_count": 6,
   "metadata": {},
   "outputs": [],
   "source": [
    "def dual_embedded_cylinder():\n",
    "    slice_spacing = 0.1\n",
    "    # Body structure defines slices in use\n",
    "    body = make_vertical_cylinder(roi_num=0, radius=12, length=1, offset_z=-0.5,\n",
    "                                  spacing=slice_spacing)\n",
    "    primary_cylinder = make_vertical_cylinder(roi_num=1, radius=5, length=0.7,\n",
    "                                              offset_z=-0.3,\n",
    "                                              spacing=slice_spacing)\n",
    "    left_hole = make_vertical_cylinder(roi_num=1, radius=2, length=0.5,\n",
    "                                       offset_x=-2.5, offset_z=-0.2,\n",
    "                                       spacing=slice_spacing)\n",
    "    right_hole = make_vertical_cylinder(roi_num=1, radius=2, length=0.5,\n",
    "                                       offset_x=2.5, offset_z=-0.2,\n",
    "                                       spacing=slice_spacing)\n",
    "    # Two concentric cylinders different z offsets\n",
    "    middle_cylinder = make_vertical_cylinder(roi_num=2, radius=1, length=0.5,\n",
    "                                             offset_x=2.5, offset_z=-0.2,\n",
    "                                             spacing=slice_spacing)\n",
    "\n",
    "    # combine the contours\n",
    "    slice_data = pd.concat([body, primary_cylinder, right_hole, left_hole, middle_cylinder])\n",
    "    # convert contour slice data into a table of slices and structures\n",
    "    slice_table = make_slice_table(slice_data, ignore_errors=True)\n",
    "    return slice_table\n"
   ]
  },
  {
   "cell_type": "code",
   "execution_count": 7,
   "metadata": {},
   "outputs": [
    {
     "data": {
      "text/plain": [
       "<RelationshipType.CONFINES: 5>"
      ]
     },
     "execution_count": 7,
     "metadata": {},
     "output_type": "execute_result"
    }
   ],
   "source": [
    "slice_table = dual_embedded_cylinder()\n",
    "regions = generate_region_graph(slice_table)\n",
    "selected_roi = [1, 2]\n",
    "\n",
    "find_relations(slice_table, regions, selected_roi).identify_relation()"
   ]
  },
  {
   "cell_type": "raw",
   "metadata": {},
   "source": [
    "pos = nx.multipartite_layout(regions, subset_key='roi')\n",
    "pos = nx.forceatlas2_layout(regions, pos=pos)\n",
    "nx.draw(regions, pos=pos, with_labels=True)"
   ]
  },
  {
   "cell_type": "raw",
   "metadata": {},
   "source": [
    "a = regions.nodes[(1, 0.25, 144)]['polygon']\n",
    "b = regions.nodes[(1, 0.3, 137)]['polygon']\n",
    "b-a"
   ]
  },
  {
   "cell_type": "raw",
   "metadata": {},
   "source": [
    "a = [{\n",
    "    'roi': node[0],\n",
    "    'slice': node[1],\n",
    "    'idx': node[2],\n",
    "    'degree': degree}\n",
    "    for node, degree in regions.degree()]\n",
    "b = pd.DataFrame(a)\n",
    "b.set_index(['roi', 'slice', 'idx'], inplace=True)\n",
    "b.sort_index()\n",
    "\n",
    "\n",
    "b = b.unstack(level=0)\n",
    "b = b['degree']\n",
    "b[[1,2]].dropna(how='all')"
   ]
  },
  {
   "cell_type": "raw",
   "metadata": {},
   "source": [
    "slice_table[[1,2]].map(empty_structure, invert=True)"
   ]
  },
  {
   "cell_type": "raw",
   "metadata": {},
   "source": [
    "def is_hole(region):\n",
    "    if isinstance(region, Region):\n",
    "        return region.is_hole\n",
    "    return ''\n",
    "a.map(is_hole)"
   ]
  },
  {
   "cell_type": "raw",
   "metadata": {
    "vscode": {
     "languageId": "raw"
    }
   },
   "source": [
    "polya = slice_table.at[-0.3, 1].contour\n",
    "polyb = slice_table.at[-0.3, 2].contour\n",
    "plot_ab(polya, polyb)"
   ]
  },
  {
   "cell_type": "raw",
   "metadata": {},
   "source": [
    "def is_boundary(region):\n",
    "    if isinstance(region, Region):\n",
    "        return region.is_boundary\n",
    "    return ''\n",
    "a.map(is_boundary)"
   ]
  },
  {
   "cell_type": "raw",
   "metadata": {
    "vscode": {
     "languageId": "raw"
    }
   },
   "source": [
    "region_dict = []\n",
    "for node, degree in regions.degree():\n",
    "    region = regions.nodes.data()[node]\n",
    "    data = {\n",
    "    'roi': node[0],\n",
    "    'slice': node[1],\n",
    "    'idx': node[2],\n",
    "    'degree': degree,\n",
    "    'is_hole': region['is_hole'],\n",
    "    'is_boundary': region['is_boundary'],}\n",
    "    region_dict.append(data)\n",
    "region_table = pd.DataFrame(region_dict)\n",
    "region_table.set_index(['slice', 'roi', 'is_hole', 'idx'], inplace=True)\n",
    "region_table.sort_index(inplace=True)\n",
    "region_table\n",
    "\n",
    "\n",
    "region_table = region_table.unstack(level=['roi', 'is_hole'])\n",
    "region_table\n",
    "\n",
    "a = region_table['degree']\n",
    "a[[1,2]].dropna(how='all')\n"
   ]
  }
 ],
 "metadata": {
  "kernelspec": {
   "display_name": "StructureRelations",
   "language": "python",
   "name": "python3"
  },
  "language_info": {
   "codemirror_mode": {
    "name": "ipython",
    "version": 3
   },
   "file_extension": ".py",
   "mimetype": "text/x-python",
   "name": "python",
   "nbconvert_exporter": "python",
   "pygments_lexer": "ipython3",
   "version": "3.11.9"
  }
 },
 "nbformat": 4,
 "nbformat_minor": 4
}
