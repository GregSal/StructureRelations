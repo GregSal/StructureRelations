{
 "cells": [
  {
   "cell_type": "markdown",
   "metadata": {},
   "source": [
    "# Region Class Definition"
   ]
  },
  {
   "cell_type": "markdown",
   "metadata": {},
   "source": [
    "## Setup"
   ]
  },
  {
   "cell_type": "markdown",
   "metadata": {},
   "source": [
    "### Imports"
   ]
  },
  {
   "cell_type": "code",
   "execution_count": 1,
   "metadata": {},
   "outputs": [],
   "source": [
    "from typing import List\n",
    "\n",
    "# Shared Packages\n",
    "import pandas as pd\n",
    "from shapely.geometry import MultiPolygon, Polygon\n",
    "import matplotlib.pyplot as plt\n",
    "\n",
    "# Local functions and classes\n",
    "from types_and_classes import *\n",
    "from utilities import *\n",
    "from debug_tools import *\n",
    "from structure_slice import *\n",
    "from structure_set import *\n",
    "#from metrics import *\n",
    "from relations import *"
   ]
  },
  {
   "cell_type": "markdown",
   "metadata": {},
   "source": [
    "### Global Settings"
   ]
  },
  {
   "cell_type": "code",
   "execution_count": 2,
   "metadata": {},
   "outputs": [],
   "source": [
    "PRECISION = 2"
   ]
  },
  {
   "cell_type": "code",
   "execution_count": 3,
   "metadata": {},
   "outputs": [],
   "source": [
    "%matplotlib inline"
   ]
  },
  {
   "cell_type": "markdown",
   "metadata": {},
   "source": [
    "## Need to do boundary checks by region not by structure\n"
   ]
  },
  {
   "cell_type": "markdown",
   "metadata": {},
   "source": [
    "- Make a Region class with the following attributes:\n",
    "    - ROI: ROI_Type, \n",
    "    - slice: SliceIndexType, \n",
    "    - is_hole: bool,\n",
    "    - is_boundary: bool,\n",
    "    - region_labels: List[str], \n",
    "    - polygon: ContourType\n",
    "- Step through all structures and separate each slice into individual polygons \n",
    "    and holes (Regions)\n",
    "- Apply region labels, based on overlapping polygons.\n",
    "  - Set unique labels for each region on the first slice: 'a', 'b' ...\n",
    "  - find overlapping polygons on the next slice and give them the same \n",
    "      region labels.\n",
    "  - A polygon can be in multiple regions.\n",
    "- If a polygon in the current region is not matched to a polygon in the next \n",
    "    region, it is a boundary polygon.\n",
    "- If a polygon in the next region is not matched with a polygon in the current \n",
    "    region, it is a boundary polygon. Assign it to a new region\n",
    "- Store as a list of dictionaries with keys: ROI, slice, is_hole, polygon\n",
    "- convert to a DataFrame and sort on ROI and slice\n"
   ]
  },
  {
   "cell_type": "markdown",
   "metadata": {},
   "source": [
    "`object.relate_pattern(other, pattern)`\n",
    "> Returns True if the *DE-9IM* string code for the relationship between the geometries satisfies the pattern, otherwise False.\n",
    "\n",
    "- The `relate_pattern()` compares the *DE-9IM* code string for two geometries against a specified pattern. If the string matches the pattern then True is returned, otherwise False. \n",
    "- The pattern specified can be an exact match (`0`, `1` or `2`), a boolean match (`T` or `F`), or a wildcard (`*`). \n",
    "- For example, the pattern for the within predicate is `'T*****FF*'`.\n",
    "\n",
    "```python\n",
    "point = Point(0.5, 0.5)\n",
    "square = Polygon([(0, 0), (0, 1), (1, 1), (1, 0)])\n",
    "square.relate_pattern(point, 'T*****FF*')\n",
    "```\n",
    "\n",
    "> True\n",
    "\n",
    "`point.within(square)`\n",
    "\n",
    "> True\n",
    "\n",
    "Note that the order or the geometries is significant, as demonstrated below. In this example the square contains the point, but the point does not contain the square.\n",
    "\n",
    "`point.relate(square)`\n",
    "\n",
    "> '0FFFFF212'\n",
    "\n",
    "`square.relate(point)`\n",
    "\n",
    "> '0F2FF1FF2'"
   ]
  },
  {
   "cell_type": "markdown",
   "metadata": {},
   "source": [
    "# 1st test"
   ]
  },
  {
   "cell_type": "code",
   "execution_count": 4,
   "metadata": {},
   "outputs": [],
   "source": [
    "def simple_cylinders():\n",
    "    slice_spacing = 0.1\n",
    "    # Body structure defines slices in use\n",
    "    body = make_vertical_cylinder(roi_num=0, radius=12, length=1.1,\n",
    "                                  offset_z=-0.5,\n",
    "                                  spacing=slice_spacing)\n",
    "    # Centred cylinder\n",
    "    primary_cylinder = make_vertical_cylinder(roi_num=1, radius=5, length=0.7,\n",
    "                                              offset_z=-0.3,\n",
    "                                              spacing=slice_spacing)\n",
    "    # cylinder within primary\n",
    "    contained_cylinder = make_vertical_cylinder(roi_num=2, radius=3, length=0.5,\n",
    "                                             offset_x=0, offset_z=-0.2,\n",
    "                                             spacing=slice_spacing)\n",
    "    # combine the contours\n",
    "    slice_data = pd.concat([body, primary_cylinder, contained_cylinder])\n",
    "    # convert contour slice data into a table of slices and structures\n",
    "    slice_table = make_slice_table(slice_data, ignore_errors=True)\n",
    "    return slice_table\n"
   ]
  },
  {
   "cell_type": "code",
   "execution_count": 5,
   "metadata": {
    "notebookRunGroups": {
     "groupValue": "2"
    }
   },
   "outputs": [],
   "source": [
    "slice_table = simple_cylinders()\n",
    "regions = generate_region_graph(slice_table)\n",
    "selected_roi = [1, 2]"
   ]
  },
  {
   "cell_type": "code",
   "execution_count": 8,
   "metadata": {},
   "outputs": [],
   "source": [
    "boundaries = get_boundaries(regions, selected_roi)\n",
    "boundary_node = boundaries[0]\n",
    "region1 = regions.nodes[boundary_node]\n",
    "sub_graph = node_selector(regions, region1, selected_roi)"
   ]
  },
  {
   "cell_type": "code",
   "execution_count": 11,
   "metadata": {},
   "outputs": [
    {
     "data": {
      "text/plain": [
       "SliceNeighbours(this_slice=np.float64(-0.3), previous_slice=np.float64(-0.4), next_slice=np.float64(-0.2))"
      ]
     },
     "execution_count": 11,
     "metadata": {},
     "output_type": "execute_result"
    }
   ],
   "source": [
    "region1['slice_neighbours']"
   ]
  },
  {
   "cell_type": "code",
   "execution_count": 9,
   "metadata": {},
   "outputs": [
    {
     "data": {
      "text/plain": [
       "NodeView(((2, -0.25, 25), (2, -0.2, 6)))"
      ]
     },
     "execution_count": 9,
     "metadata": {},
     "output_type": "execute_result"
    }
   ],
   "source": [
    "sub_graph.nodes"
   ]
  },
  {
   "cell_type": "code",
   "execution_count": 8,
   "metadata": {},
   "outputs": [
    {
     "ename": "ValueError",
     "evalue": "Subgraph must contain only two nodes.",
     "output_type": "error",
     "traceback": [
      "\u001b[1;31m---------------------------------------------------------------------------\u001b[0m",
      "\u001b[1;31mValueError\u001b[0m                                Traceback (most recent call last)",
      "Cell \u001b[1;32mIn[8], line 1\u001b[0m\n\u001b[1;32m----> 1\u001b[0m boundary_relations \u001b[38;5;241m=\u001b[39m \u001b[43mget_boundary_relations\u001b[49m\u001b[43m(\u001b[49m\u001b[43mregions\u001b[49m\u001b[43m,\u001b[49m\u001b[43m \u001b[49m\u001b[43mselected_roi\u001b[49m\u001b[43m)\u001b[49m\n",
      "File \u001b[1;32m~\\Python Scripts\\StructureRelations\\src\\relations.py:776\u001b[0m, in \u001b[0;36mget_boundary_relations\u001b[1;34m(region_graph, selected_roi)\u001b[0m\n\u001b[0;32m    773\u001b[0m second_node \u001b[38;5;241m=\u001b[39m get_matching_region(sub_graph, region1)\n\u001b[0;32m    774\u001b[0m \u001b[38;5;28;01mif\u001b[39;00m second_node \u001b[38;5;129;01mis\u001b[39;00m \u001b[38;5;28;01mNone\u001b[39;00m:\n\u001b[0;32m    775\u001b[0m     \u001b[38;5;66;03m# Otherwise interpolate the region to match the boundary slice.\u001b[39;00m\n\u001b[1;32m--> 776\u001b[0m     second_node \u001b[38;5;241m=\u001b[39m \u001b[43mget_interpolated_regions\u001b[49m\u001b[43m(\u001b[49m\u001b[43msub_graph\u001b[49m\u001b[43m)\u001b[49m\n\u001b[0;32m    777\u001b[0m \u001b[38;5;66;03m# Get the necessary adjustments for the relationship.\u001b[39;00m\n\u001b[0;32m    778\u001b[0m adjustments \u001b[38;5;241m=\u001b[39m set_adjustments(region1, second_node, selected_roi)\n",
      "File \u001b[1;32m~\\Python Scripts\\StructureRelations\\src\\relations.py:706\u001b[0m, in \u001b[0;36mget_interpolated_regions\u001b[1;34m(sub_graph)\u001b[0m\n\u001b[0;32m    698\u001b[0m \u001b[38;5;28;01mdef\u001b[39;00m \u001b[38;5;21mget_interpolated_regions\u001b[39m(sub_graph):\n\u001b[0;32m    699\u001b[0m     \u001b[38;5;66;03m# Assume for now that the subgraph only contains two nodes\u001b[39;00m\n\u001b[0;32m    700\u001b[0m     \u001b[38;5;66;03m# Select the first node in sub_graph.\u001b[39;00m\n\u001b[1;32m   (...)\u001b[0m\n\u001b[0;32m    703\u001b[0m     \u001b[38;5;66;03m# Get the necessary adjustments for the relationship.\u001b[39;00m\n\u001b[0;32m    704\u001b[0m     \u001b[38;5;66;03m# Determine the relationship.\u001b[39;00m\n\u001b[0;32m    705\u001b[0m     \u001b[38;5;28;01mif\u001b[39;00m \u001b[38;5;28mlen\u001b[39m(sub_graph) \u001b[38;5;241m!=\u001b[39m \u001b[38;5;241m2\u001b[39m:\n\u001b[1;32m--> 706\u001b[0m         \u001b[38;5;28;01mraise\u001b[39;00m \u001b[38;5;167;01mValueError\u001b[39;00m(\u001b[38;5;124m'\u001b[39m\u001b[38;5;124mSubgraph must contain only two nodes.\u001b[39m\u001b[38;5;124m'\u001b[39m)\n\u001b[0;32m    707\u001b[0m     \u001b[38;5;66;03m# Select the first node in the subgraph\u001b[39;00m\n\u001b[0;32m    708\u001b[0m     first_node \u001b[38;5;241m=\u001b[39m sub_graph\u001b[38;5;241m.\u001b[39mnodes[\u001b[38;5;241m0\u001b[39m]\n",
      "\u001b[1;31mValueError\u001b[0m: Subgraph must contain only two nodes."
     ]
    }
   ],
   "source": [
    "boundary_relations = get_boundary_relations(regions, selected_roi)\n"
   ]
  },
  {
   "cell_type": "code",
   "execution_count": 20,
   "metadata": {},
   "outputs": [
    {
     "data": {
      "image/png": "[encoded data removed]",
      "text/plain": [
       "<Figure size 640x480 with 1 Axes>"
      ]
     },
     "metadata": {},
     "output_type": "display_data"
    }
   ],
   "source": [
    "pos = nx.multipartite_layout(regions, subset_key='roi')\n",
    "pos = nx.forceatlas2_layout(regions, pos=pos)\n",
    "nx.draw(regions, pos=pos, with_labels=True)"
   ]
  },
  {
   "cell_type": "markdown",
   "metadata": {},
   "source": [
    "Node linking is correct, display is not ordering nodes appropriately\n",
    "\n",
    "`regions.edges`\n",
    "\n",
    "```\n",
    "((1, -0.3, 32), (1, -0.35, 53)), \n",
    "((1, -0.3, 32), (1, -0.2,  34)), \n",
    "((1, -0.2, 34), (1, -0.1,  37)), \n",
    "((1, -0.1, 37), (1,  0.0,   40)), \n",
    "((1,  0.0, 40), (1,  0.1,   43)), \n",
    "((1,  0.1, 43), (1,  0.2,   46)), \n",
    "((1,  0.2, 46), (1,  0.3,   49)), \n",
    "((1,  0.3, 49), (1,  0.35,  56)), \n",
    "\n",
    "\n",
    "((2, -0.2, 35), (2, -0.25, 54)), \n",
    "((2, -0.2, 35), (2, -0.1,  38)), \n",
    "((2, -0.1, 38), (2,  0.0,   41)), \n",
    "((2,  0.0, 41), (2,  0.1,   44)), \n",
    "((2,  0.1, 44), (2,  0.2,   47)), \n",
    "((2,  0.2, 47), (2,  0.25,  55)), \n",
    "\n",
    "\n",
    "\n",
    "((2, -0.2, 35), (2, -0.1,  38)), \n",
    "((2, -0.2, 35), (2, -0.25, 54)), \n",
    "((2, -0.1, 38), (2,  0.0,   41)), \n",
    "((2,  0.0, 41), (2,  0.1,   44)), \n",
    "((2,  0.1, 44), (2,  0.2,   47)), \n",
    "((2,  0.2, 47), (2,  0.25,  55)), \n",
    "```"
   ]
  },
  {
   "cell_type": "raw",
   "metadata": {},
   "source": [
    "a = regions.nodes[(1, 0.25, 144)]['polygon']\n",
    "b = regions.nodes[(1, 0.3, 137)]['polygon']\n",
    "b-a"
   ]
  },
  {
   "cell_type": "raw",
   "metadata": {},
   "source": [
    "a = [{\n",
    "    'roi': node[0],\n",
    "    'slice': node[1],\n",
    "    'idx': node[2],\n",
    "    'degree': degree}\n",
    "    for node, degree in regions.degree()]\n",
    "b = pd.DataFrame(a)\n",
    "b.set_index(['roi', 'slice', 'idx'], inplace=True)\n",
    "b.sort_index()\n",
    "\n",
    "\n",
    "b = b.unstack(level=0)\n",
    "b = b['degree']\n",
    "b[[1,2]].dropna(how='all')"
   ]
  },
  {
   "cell_type": "raw",
   "metadata": {},
   "source": [
    "slice_table[[1,2]].map(empty_structure, invert=True)"
   ]
  },
  {
   "cell_type": "code",
   "execution_count": 9,
   "metadata": {},
   "outputs": [],
   "source": [
    "region_table = expand_region_table(regions_dict)\n",
    "region_table.set_index(['ROI', 'Label', 'Slice'], inplace=True)\n",
    "#region_table\n",
    "a = region_table.unstack(['ROI', 'Label'])"
   ]
  },
  {
   "cell_type": "code",
   "execution_count": 10,
   "metadata": {},
   "outputs": [
    {
     "data": {
      "text/html": [
       "<div>\n",
       "<style scoped>\n",
       "    .dataframe tbody tr th:only-of-type {\n",
       "        vertical-align: middle;\n",
       "    }\n",
       "\n",
       "    .dataframe tbody tr th {\n",
       "        vertical-align: top;\n",
       "    }\n",
       "\n",
       "    .dataframe thead tr th {\n",
       "        text-align: left;\n",
       "    }\n",
       "\n",
       "    .dataframe thead tr:last-of-type th {\n",
       "        text-align: right;\n",
       "    }\n",
       "</style>\n",
       "<table border=\"1\" class=\"dataframe\">\n",
       "  <thead>\n",
       "    <tr>\n",
       "      <th></th>\n",
       "      <th colspan=\"5\" halign=\"left\">Region</th>\n",
       "    </tr>\n",
       "    <tr>\n",
       "      <th>ROI</th>\n",
       "      <th>0</th>\n",
       "      <th colspan=\"3\" halign=\"left\">1</th>\n",
       "      <th>2</th>\n",
       "    </tr>\n",
       "    <tr>\n",
       "      <th>Label</th>\n",
       "      <th>a</th>\n",
       "      <th>b</th>\n",
       "      <th>c</th>\n",
       "      <th>d</th>\n",
       "      <th>e</th>\n",
       "    </tr>\n",
       "    <tr>\n",
       "      <th>Slice</th>\n",
       "      <th></th>\n",
       "      <th></th>\n",
       "      <th></th>\n",
       "      <th></th>\n",
       "      <th></th>\n",
       "    </tr>\n",
       "  </thead>\n",
       "  <tbody>\n",
       "    <tr>\n",
       "      <th>-0.5</th>\n",
       "      <td>False</td>\n",
       "      <td></td>\n",
       "      <td></td>\n",
       "      <td></td>\n",
       "      <td></td>\n",
       "    </tr>\n",
       "    <tr>\n",
       "      <th>-0.4</th>\n",
       "      <td>False</td>\n",
       "      <td></td>\n",
       "      <td></td>\n",
       "      <td></td>\n",
       "      <td></td>\n",
       "    </tr>\n",
       "    <tr>\n",
       "      <th>-0.3</th>\n",
       "      <td>False</td>\n",
       "      <td>False</td>\n",
       "      <td></td>\n",
       "      <td></td>\n",
       "      <td></td>\n",
       "    </tr>\n",
       "    <tr>\n",
       "      <th>-0.2</th>\n",
       "      <td>False</td>\n",
       "      <td>False</td>\n",
       "      <td>True</td>\n",
       "      <td>True</td>\n",
       "      <td>False</td>\n",
       "    </tr>\n",
       "    <tr>\n",
       "      <th>-0.1</th>\n",
       "      <td>False</td>\n",
       "      <td>False</td>\n",
       "      <td>True</td>\n",
       "      <td>True</td>\n",
       "      <td>False</td>\n",
       "    </tr>\n",
       "    <tr>\n",
       "      <th>0.0</th>\n",
       "      <td>False</td>\n",
       "      <td>False</td>\n",
       "      <td>True</td>\n",
       "      <td>True</td>\n",
       "      <td>False</td>\n",
       "    </tr>\n",
       "    <tr>\n",
       "      <th>0.1</th>\n",
       "      <td>False</td>\n",
       "      <td>False</td>\n",
       "      <td>True</td>\n",
       "      <td>True</td>\n",
       "      <td>False</td>\n",
       "    </tr>\n",
       "    <tr>\n",
       "      <th>0.2</th>\n",
       "      <td>False</td>\n",
       "      <td>False</td>\n",
       "      <td>True</td>\n",
       "      <td>True</td>\n",
       "      <td>False</td>\n",
       "    </tr>\n",
       "    <tr>\n",
       "      <th>0.3</th>\n",
       "      <td>False</td>\n",
       "      <td>False</td>\n",
       "      <td></td>\n",
       "      <td></td>\n",
       "      <td></td>\n",
       "    </tr>\n",
       "    <tr>\n",
       "      <th>0.4</th>\n",
       "      <td>False</td>\n",
       "      <td></td>\n",
       "      <td></td>\n",
       "      <td></td>\n",
       "      <td></td>\n",
       "    </tr>\n",
       "  </tbody>\n",
       "</table>\n",
       "</div>"
      ],
      "text/plain": [
       "      Region                          \n",
       "ROI        0      1                  2\n",
       "Label      a      b     c     d      e\n",
       "Slice                                 \n",
       "-0.5   False                          \n",
       "-0.4   False                          \n",
       "-0.3   False  False                   \n",
       "-0.2   False  False  True  True  False\n",
       "-0.1   False  False  True  True  False\n",
       " 0.0   False  False  True  True  False\n",
       " 0.1   False  False  True  True  False\n",
       " 0.2   False  False  True  True  False\n",
       " 0.3   False  False                   \n",
       " 0.4   False                          "
      ]
     },
     "execution_count": 10,
     "metadata": {},
     "output_type": "execute_result"
    }
   ],
   "source": [
    "def is_hole(region):\n",
    "    if isinstance(region, Region):\n",
    "        return region.is_hole\n",
    "    return ''\n",
    "a.map(is_hole)"
   ]
  },
  {
   "cell_type": "code",
   "execution_count": 11,
   "metadata": {},
   "outputs": [
    {
     "data": {
      "text/html": [
       "<div>\n",
       "<style scoped>\n",
       "    .dataframe tbody tr th:only-of-type {\n",
       "        vertical-align: middle;\n",
       "    }\n",
       "\n",
       "    .dataframe tbody tr th {\n",
       "        vertical-align: top;\n",
       "    }\n",
       "\n",
       "    .dataframe thead tr th {\n",
       "        text-align: left;\n",
       "    }\n",
       "\n",
       "    .dataframe thead tr:last-of-type th {\n",
       "        text-align: right;\n",
       "    }\n",
       "</style>\n",
       "<table border=\"1\" class=\"dataframe\">\n",
       "  <thead>\n",
       "    <tr>\n",
       "      <th></th>\n",
       "      <th colspan=\"5\" halign=\"left\">Region</th>\n",
       "    </tr>\n",
       "    <tr>\n",
       "      <th>ROI</th>\n",
       "      <th>0</th>\n",
       "      <th colspan=\"3\" halign=\"left\">1</th>\n",
       "      <th>2</th>\n",
       "    </tr>\n",
       "    <tr>\n",
       "      <th>Label</th>\n",
       "      <th>a</th>\n",
       "      <th>b</th>\n",
       "      <th>c</th>\n",
       "      <th>d</th>\n",
       "      <th>e</th>\n",
       "    </tr>\n",
       "    <tr>\n",
       "      <th>Slice</th>\n",
       "      <th></th>\n",
       "      <th></th>\n",
       "      <th></th>\n",
       "      <th></th>\n",
       "      <th></th>\n",
       "    </tr>\n",
       "  </thead>\n",
       "  <tbody>\n",
       "    <tr>\n",
       "      <th>-0.5</th>\n",
       "      <td>True</td>\n",
       "      <td></td>\n",
       "      <td></td>\n",
       "      <td></td>\n",
       "      <td></td>\n",
       "    </tr>\n",
       "    <tr>\n",
       "      <th>-0.4</th>\n",
       "      <td>False</td>\n",
       "      <td></td>\n",
       "      <td></td>\n",
       "      <td></td>\n",
       "      <td></td>\n",
       "    </tr>\n",
       "    <tr>\n",
       "      <th>-0.3</th>\n",
       "      <td>False</td>\n",
       "      <td>True</td>\n",
       "      <td></td>\n",
       "      <td></td>\n",
       "      <td></td>\n",
       "    </tr>\n",
       "    <tr>\n",
       "      <th>-0.2</th>\n",
       "      <td>False</td>\n",
       "      <td>False</td>\n",
       "      <td>True</td>\n",
       "      <td>True</td>\n",
       "      <td>True</td>\n",
       "    </tr>\n",
       "    <tr>\n",
       "      <th>-0.1</th>\n",
       "      <td>False</td>\n",
       "      <td>False</td>\n",
       "      <td>False</td>\n",
       "      <td>False</td>\n",
       "      <td>False</td>\n",
       "    </tr>\n",
       "    <tr>\n",
       "      <th>0.0</th>\n",
       "      <td>False</td>\n",
       "      <td>False</td>\n",
       "      <td>False</td>\n",
       "      <td>False</td>\n",
       "      <td>False</td>\n",
       "    </tr>\n",
       "    <tr>\n",
       "      <th>0.1</th>\n",
       "      <td>False</td>\n",
       "      <td>False</td>\n",
       "      <td>False</td>\n",
       "      <td>False</td>\n",
       "      <td>False</td>\n",
       "    </tr>\n",
       "    <tr>\n",
       "      <th>0.2</th>\n",
       "      <td>False</td>\n",
       "      <td>False</td>\n",
       "      <td>True</td>\n",
       "      <td>True</td>\n",
       "      <td>True</td>\n",
       "    </tr>\n",
       "    <tr>\n",
       "      <th>0.3</th>\n",
       "      <td>False</td>\n",
       "      <td>True</td>\n",
       "      <td></td>\n",
       "      <td></td>\n",
       "      <td></td>\n",
       "    </tr>\n",
       "    <tr>\n",
       "      <th>0.4</th>\n",
       "      <td>True</td>\n",
       "      <td></td>\n",
       "      <td></td>\n",
       "      <td></td>\n",
       "      <td></td>\n",
       "    </tr>\n",
       "  </tbody>\n",
       "</table>\n",
       "</div>"
      ],
      "text/plain": [
       "      Region                            \n",
       "ROI        0      1                    2\n",
       "Label      a      b      c      d      e\n",
       "Slice                                   \n",
       "-0.5    True                            \n",
       "-0.4   False                            \n",
       "-0.3   False   True                     \n",
       "-0.2   False  False   True   True   True\n",
       "-0.1   False  False  False  False  False\n",
       " 0.0   False  False  False  False  False\n",
       " 0.1   False  False  False  False  False\n",
       " 0.2   False  False   True   True   True\n",
       " 0.3   False   True                     \n",
       " 0.4    True                            "
      ]
     },
     "execution_count": 11,
     "metadata": {},
     "output_type": "execute_result"
    }
   ],
   "source": [
    "def is_boundary(region):\n",
    "    if isinstance(region, Region):\n",
    "        return region.is_boundary\n",
    "    return ''\n",
    "a.map(is_boundary)"
   ]
  },
  {
   "cell_type": "code",
   "execution_count": null,
   "metadata": {},
   "outputs": [],
   "source": [
    "def dual_embedded_cylinder():\n",
    "    slice_spacing = 0.1\n",
    "    # Body structure defines slices in use\n",
    "    body = make_vertical_cylinder(roi_num=0, radius=12, length=1, offset_z=-0.5,\n",
    "                                  spacing=slice_spacing)\n",
    "    primary_cylinder = make_vertical_cylinder(roi_num=1, radius=5, length=0.7,\n",
    "                                              offset_z=-0.3,\n",
    "                                              spacing=slice_spacing)\n",
    "    left_hole = make_vertical_cylinder(roi_num=1, radius=2, length=0.5,\n",
    "                                       offset_x=-2.5, offset_z=-0.2,\n",
    "                                       spacing=slice_spacing)\n",
    "    right_hole = make_vertical_cylinder(roi_num=1, radius=2, length=0.5,\n",
    "                                       offset_x=2.5, offset_z=-0.2,\n",
    "                                       spacing=slice_spacing)\n",
    "    # Two concentric cylinders different z offsets\n",
    "    middle_cylinder = make_vertical_cylinder(roi_num=2, radius=1, length=0.5,\n",
    "                                             offset_x=2.5, offset_z=-0.2,\n",
    "                                             spacing=slice_spacing)\n",
    "\n",
    "    # combine the contours\n",
    "    slice_data = pd.concat([body, primary_cylinder, left_hole, right_hole, middle_cylinder])\n",
    "    # convert contour slice data into a table of slices and structures\n",
    "    slice_table = make_slice_table(slice_data, ignore_errors=True)\n",
    "    return slice_table\n"
   ]
  },
  {
   "cell_type": "markdown",
   "metadata": {},
   "source": [
    "**Note:** The Last slice of Region 0 (Body) is not registering as a boundary\n",
    "- Modify the code to include the last slice as a boundary"
   ]
  }
 ],
 "metadata": {
  "kernelspec": {
   "display_name": "StructureRelations",
   "language": "python",
   "name": "python3"
  },
  "language_info": {
   "codemirror_mode": {
    "name": "ipython",
    "version": 3
   },
   "file_extension": ".py",
   "mimetype": "text/x-python",
   "name": "python",
   "nbconvert_exporter": "python",
   "pygments_lexer": "ipython3",
   "version": "3.11.9"
  }
 },
 "nbformat": 4,
 "nbformat_minor": 4
}
