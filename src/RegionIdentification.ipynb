{
 "cells": [
  {
   "cell_type": "markdown",
   "metadata": {},
   "source": [
    "# Region Class Definition"
   ]
  },
  {
   "cell_type": "markdown",
   "metadata": {},
   "source": [
    "## Setup"
   ]
  },
  {
   "cell_type": "markdown",
   "metadata": {},
   "source": [
    "### Imports"
   ]
  },
  {
   "cell_type": "code",
   "execution_count": 1,
   "metadata": {},
   "outputs": [],
   "source": [
    "from typing import List\n",
    "\n",
    "# Shared Packages\n",
    "import pandas as pd\n",
    "from shapely.geometry import MultiPolygon, Polygon\n",
    "\n",
    "\n",
    "# Local functions and classes\n",
    "from types_and_classes import *\n",
    "from utilities import *\n",
    "from debug_tools import *\n",
    "from structure_slice import *\n",
    "from metrics import *\n",
    "from relations import *"
   ]
  },
  {
   "cell_type": "markdown",
   "metadata": {},
   "source": [
    "### Global Settings"
   ]
  },
  {
   "cell_type": "code",
   "execution_count": 2,
   "metadata": {},
   "outputs": [],
   "source": [
    "PRECISION = 2"
   ]
  },
  {
   "cell_type": "code",
   "execution_count": 3,
   "metadata": {},
   "outputs": [],
   "source": [
    "%matplotlib inline"
   ]
  },
  {
   "cell_type": "markdown",
   "metadata": {},
   "source": [
    "## Need to do boundary checks by region not by structure\n",
    "- Make a Region class with the following attributes:\n",
    "    - ROI: ROI_Type, \n",
    "    - slice: SliceIndexType, \n",
    "    - is_hole: bool,\n",
    "    - is_boundary: bool,\n",
    "    - region_labels: List[str], \n",
    "    - polygon: ContourType\n",
    "- Step through all structures and separate each slice into individual polygons \n",
    "    and holes (Regions)\n",
    "- Apply region labels, based on overlapping polygons.\n",
    "  - Set unique labels for each region on the first slice: 'a', 'b' ...\n",
    "  - find overlapping polygons on the next slice and give them the same \n",
    "      region labels.\n",
    "  - A polygon can be in multiple regions.\n",
    "- If a polygon in the current region is not matched to a polygon in the next \n",
    "    region, it is a boundary polygon.\n",
    "- If a polygon in the next region is not matched with a polygon in the current \n",
    "    region, it is a boundary polygon. Assign it to a new region\n",
    "- Store as a list of dictionaries with keys: ROI, slice, is_hole, polygon\n",
    "- convert to a DataFrame and sort on ROI and slice\n"
   ]
  },
  {
   "cell_type": "code",
   "execution_count": 4,
   "metadata": {},
   "outputs": [],
   "source": [
    "class Region:\n",
    "    def __init__(self, roi: ROI_Type, slice: SliceIndexType,\n",
    "                 polygon: ContourType, is_hole: bool = False,\n",
    "                 is_boundary: bool = False):\n",
    "        self.roi = roi\n",
    "        self.slice = slice\n",
    "        self.is_hole = is_hole\n",
    "        self.is_boundary = is_boundary\n",
    "        self.region_labels = []\n",
    "        self.polygon = polygon\n",
    "\n",
    "    def __repr__(self):\n",
    "        return ''.join([f'Region(roi={self.roi}, ',\n",
    "                        f'slice={self.slice}, ',\n",
    "                        f'is_hole={self.is_hole}, ',\n",
    "                        f'is_boundary={self.is_boundary}, ',\n",
    "                        f'region_labels={self.region_labels}, ',\n",
    "                        #f'polygon={self.polygon})'\n",
    "            ])\n",
    "\n",
    "    def part_of(self, other: 'Region') -> bool:\n",
    "        # Check if the region is part of another region\n",
    "        # The combined three checks are done to ensure that If the region is a\n",
    "        # hole, it is not part of the parent region.  This is done by excluding\n",
    "        # the region boundaries and only testing the interiors.\n",
    "        # An alternative approach would be to use the relate method and just\n",
    "        # test the first bit.\n",
    "        shared_interior = (self.polygon.overlaps(other.polygon) |\n",
    "                        self.polygon.contains_properly(other.polygon) |\n",
    "                        other.polygon.contains_properly(self.polygon))\n",
    "        return shared_interior\n"
   ]
  },
  {
   "cell_type": "code",
   "execution_count": 5,
   "metadata": {},
   "outputs": [],
   "source": [
    "def expand_region_table(regions_dict: dict[ROI_Type, dict[SliceIndexType, dict[str, Region]]]) -> pd.DataFrame:\n",
    "    expanded_data = []\n",
    "    for roi, slices in regions_dict.items():\n",
    "        for slice_index, regions in slices.items():\n",
    "            for region in regions:\n",
    "                for label in region.region_labels:\n",
    "                    expanded_data.append({\n",
    "                        'ROI': roi,\n",
    "                        'Slice': slice_index,\n",
    "                        'Label': label,\n",
    "                        'Region': region\n",
    "                    })\n",
    "    return expanded_data"
   ]
  },
  {
   "cell_type": "code",
   "execution_count": 6,
   "metadata": {},
   "outputs": [],
   "source": [
    "# Function to create Region instances from slice-table DataFrame\n",
    "def create_regions_from_slice_table(slice_table: pd.DataFrame) -> dict[ROI_Type, dict[SliceIndexType, list[Region]]]:\n",
    "    regions_dict = {}\n",
    "    for roi in slice_table.columns:\n",
    "        regions_dict[roi] = {}\n",
    "        previous_regions = []\n",
    "        # Iterate over slices in the slice_table for a given ROI\n",
    "        for slice_index, structure_slice in slice_table[roi].items():\n",
    "            # Create a list of Region instances for each slice\n",
    "            if slice_index not in regions_dict[roi]:\n",
    "                regions_dict[roi][slice_index] = []\n",
    "            # Create Region instances for each polygon and hole in the slice\n",
    "            if not empty_structure(structure_slice):\n",
    "                for polygon in structure_slice.contour.geoms:\n",
    "                    # Create Region instances for each polygon in the slice\n",
    "                    # Note: the polygon includes its holes.\n",
    "                    region = Region(roi, slice_index, polygon, is_hole=False,\n",
    "                                    is_boundary=False)\n",
    "                    regions_dict[roi][slice_index].append(region)\n",
    "                    # Create Region instances for each hole in the polygon\n",
    "                    for interior in polygon.interiors:\n",
    "                        hole = Polygon(interior)\n",
    "                        region_hole = Region(roi, slice_index, hole,\n",
    "                                             is_hole=True, is_boundary=False)\n",
    "                        regions_dict[roi][slice_index].append(region_hole)\n",
    "                # Set unique labels for each region on the first slice\n",
    "                if slice_index == slice_table[roi].first_valid_index():\n",
    "                    for idx, region in enumerate(regions_dict[roi][slice_index]):\n",
    "                        region.region_labels.append(chr(97 + idx))  # 'a', 'b', 'c', ...\n",
    "                else:\n",
    "                    # Find overlapping polygons and give them the same region labels\n",
    "                    for region in regions_dict[roi][slice_index]:\n",
    "                        matched = False\n",
    "                        for prev_region in previous_regions:\n",
    "                            if region.part_of(prev_region):\n",
    "                                region.region_labels.extend(prev_region.region_labels)\n",
    "                                matched = True\n",
    "                                break\n",
    "                        if not matched:\n",
    "                            region.is_boundary = True\n",
    "            # Mark polygons in the previous region as boundary if not matched\n",
    "            for prev_region in previous_regions:\n",
    "                if not any(region.part_of(prev_region) for region in regions_dict[roi][slice_index]):\n",
    "                    prev_region.is_boundary = True\n",
    "            previous_regions = regions_dict[roi][slice_index]\n",
    "\n",
    "    return regions_dict"
   ]
  },
  {
   "cell_type": "code",
   "execution_count": 7,
   "metadata": {},
   "outputs": [],
   "source": [
    "def dual_embedded_cylinder():\n",
    "    slice_spacing = 0.1\n",
    "    # Body structure defines slices in use\n",
    "    body = make_vertical_cylinder(roi_num=0, radius=12, length=1, offset_z=-0.5,\n",
    "                                  spacing=slice_spacing)\n",
    "    primary_cylinder = make_vertical_cylinder(roi_num=1, radius=5, length=0.7,\n",
    "                                              offset_z=-0.3,\n",
    "                                              spacing=slice_spacing)\n",
    "    left_hole = make_vertical_cylinder(roi_num=1, radius=2, length=0.5,\n",
    "                                       offset_x=-2.5, offset_z=-0.2,\n",
    "                                       spacing=slice_spacing)\n",
    "    right_hole = make_vertical_cylinder(roi_num=1, radius=2, length=0.5,\n",
    "                                       offset_x=2.5, offset_z=-0.2,\n",
    "                                       spacing=slice_spacing)\n",
    "    # Two concentric cylinders different z offsets\n",
    "    middle_cylinder = make_vertical_cylinder(roi_num=2, radius=1, length=0.5,\n",
    "                                             offset_x=2.5, offset_z=-0.2,\n",
    "                                             spacing=slice_spacing)\n",
    "\n",
    "    # combine the contours\n",
    "    slice_data = pd.concat([body, primary_cylinder, left_hole, right_hole, middle_cylinder])\n",
    "    # convert contour slice data into a table of slices and structures\n",
    "    slice_table = make_slice_table(slice_data, ignore_errors=True)\n",
    "    return slice_table\n"
   ]
  },
  {
   "cell_type": "code",
   "execution_count": 8,
   "metadata": {},
   "outputs": [],
   "source": [
    "slice_table = dual_embedded_cylinder()\n",
    "regions_dict = create_regions_from_slice_table(slice_table)\n"
   ]
  },
  {
   "cell_type": "code",
   "execution_count": 11,
   "metadata": {},
   "outputs": [
    {
     "data": {
      "text/html": [
       "<div>\n",
       "<style scoped>\n",
       "    .dataframe tbody tr th:only-of-type {\n",
       "        vertical-align: middle;\n",
       "    }\n",
       "\n",
       "    .dataframe tbody tr th {\n",
       "        vertical-align: top;\n",
       "    }\n",
       "\n",
       "    .dataframe thead th {\n",
       "        text-align: right;\n",
       "    }\n",
       "</style>\n",
       "<table border=\"1\" class=\"dataframe\">\n",
       "  <thead>\n",
       "    <tr style=\"text-align: right;\">\n",
       "      <th></th>\n",
       "      <th>0</th>\n",
       "      <th>1</th>\n",
       "      <th>2</th>\n",
       "    </tr>\n",
       "  </thead>\n",
       "  <tbody>\n",
       "    <tr>\n",
       "      <th>-0.5</th>\n",
       "      <td>[Region(roi=0, slice=-0.5, is_hole=False, is_b...</td>\n",
       "      <td>[]</td>\n",
       "      <td>[]</td>\n",
       "    </tr>\n",
       "    <tr>\n",
       "      <th>-0.4</th>\n",
       "      <td>[Region(roi=0, slice=-0.4, is_hole=False, is_b...</td>\n",
       "      <td>[]</td>\n",
       "      <td>[]</td>\n",
       "    </tr>\n",
       "    <tr>\n",
       "      <th>-0.3</th>\n",
       "      <td>[Region(roi=0, slice=-0.3, is_hole=False, is_b...</td>\n",
       "      <td>[Region(roi=1, slice=-0.3, is_hole=False, is_b...</td>\n",
       "      <td>[]</td>\n",
       "    </tr>\n",
       "    <tr>\n",
       "      <th>-0.2</th>\n",
       "      <td>[Region(roi=0, slice=-0.2, is_hole=False, is_b...</td>\n",
       "      <td>[Region(roi=1, slice=-0.2, is_hole=False, is_b...</td>\n",
       "      <td>[Region(roi=2, slice=-0.2, is_hole=False, is_b...</td>\n",
       "    </tr>\n",
       "    <tr>\n",
       "      <th>-0.1</th>\n",
       "      <td>[Region(roi=0, slice=-0.1, is_hole=False, is_b...</td>\n",
       "      <td>[Region(roi=1, slice=-0.1, is_hole=False, is_b...</td>\n",
       "      <td>[Region(roi=2, slice=-0.1, is_hole=False, is_b...</td>\n",
       "    </tr>\n",
       "    <tr>\n",
       "      <th>0.0</th>\n",
       "      <td>[Region(roi=0, slice=0.0, is_hole=False, is_bo...</td>\n",
       "      <td>[Region(roi=1, slice=0.0, is_hole=False, is_bo...</td>\n",
       "      <td>[Region(roi=2, slice=0.0, is_hole=False, is_bo...</td>\n",
       "    </tr>\n",
       "    <tr>\n",
       "      <th>0.1</th>\n",
       "      <td>[Region(roi=0, slice=0.1, is_hole=False, is_bo...</td>\n",
       "      <td>[Region(roi=1, slice=0.1, is_hole=False, is_bo...</td>\n",
       "      <td>[Region(roi=2, slice=0.1, is_hole=False, is_bo...</td>\n",
       "    </tr>\n",
       "    <tr>\n",
       "      <th>0.2</th>\n",
       "      <td>[Region(roi=0, slice=0.2, is_hole=False, is_bo...</td>\n",
       "      <td>[Region(roi=1, slice=0.2, is_hole=False, is_bo...</td>\n",
       "      <td>[Region(roi=2, slice=0.2, is_hole=False, is_bo...</td>\n",
       "    </tr>\n",
       "    <tr>\n",
       "      <th>0.3</th>\n",
       "      <td>[Region(roi=0, slice=0.3, is_hole=False, is_bo...</td>\n",
       "      <td>[Region(roi=1, slice=0.3, is_hole=False, is_bo...</td>\n",
       "      <td>[]</td>\n",
       "    </tr>\n",
       "    <tr>\n",
       "      <th>0.4</th>\n",
       "      <td>[Region(roi=0, slice=0.4, is_hole=False, is_bo...</td>\n",
       "      <td>[]</td>\n",
       "      <td>[]</td>\n",
       "    </tr>\n",
       "  </tbody>\n",
       "</table>\n",
       "</div>"
      ],
      "text/plain": [
       "                                                      0  \\\n",
       "-0.5  [Region(roi=0, slice=-0.5, is_hole=False, is_b...   \n",
       "-0.4  [Region(roi=0, slice=-0.4, is_hole=False, is_b...   \n",
       "-0.3  [Region(roi=0, slice=-0.3, is_hole=False, is_b...   \n",
       "-0.2  [Region(roi=0, slice=-0.2, is_hole=False, is_b...   \n",
       "-0.1  [Region(roi=0, slice=-0.1, is_hole=False, is_b...   \n",
       " 0.0  [Region(roi=0, slice=0.0, is_hole=False, is_bo...   \n",
       " 0.1  [Region(roi=0, slice=0.1, is_hole=False, is_bo...   \n",
       " 0.2  [Region(roi=0, slice=0.2, is_hole=False, is_bo...   \n",
       " 0.3  [Region(roi=0, slice=0.3, is_hole=False, is_bo...   \n",
       " 0.4  [Region(roi=0, slice=0.4, is_hole=False, is_bo...   \n",
       "\n",
       "                                                      1  \\\n",
       "-0.5                                                 []   \n",
       "-0.4                                                 []   \n",
       "-0.3  [Region(roi=1, slice=-0.3, is_hole=False, is_b...   \n",
       "-0.2  [Region(roi=1, slice=-0.2, is_hole=False, is_b...   \n",
       "-0.1  [Region(roi=1, slice=-0.1, is_hole=False, is_b...   \n",
       " 0.0  [Region(roi=1, slice=0.0, is_hole=False, is_bo...   \n",
       " 0.1  [Region(roi=1, slice=0.1, is_hole=False, is_bo...   \n",
       " 0.2  [Region(roi=1, slice=0.2, is_hole=False, is_bo...   \n",
       " 0.3  [Region(roi=1, slice=0.3, is_hole=False, is_bo...   \n",
       " 0.4                                                 []   \n",
       "\n",
       "                                                      2  \n",
       "-0.5                                                 []  \n",
       "-0.4                                                 []  \n",
       "-0.3                                                 []  \n",
       "-0.2  [Region(roi=2, slice=-0.2, is_hole=False, is_b...  \n",
       "-0.1  [Region(roi=2, slice=-0.1, is_hole=False, is_b...  \n",
       " 0.0  [Region(roi=2, slice=0.0, is_hole=False, is_bo...  \n",
       " 0.1  [Region(roi=2, slice=0.1, is_hole=False, is_bo...  \n",
       " 0.2  [Region(roi=2, slice=0.2, is_hole=False, is_bo...  \n",
       " 0.3                                                 []  \n",
       " 0.4                                                 []  "
      ]
     },
     "execution_count": 11,
     "metadata": {},
     "output_type": "execute_result"
    }
   ],
   "source": [
    "pd.DataFrame(regions_dict)"
   ]
  },
  {
   "cell_type": "code",
   "execution_count": 10,
   "metadata": {},
   "outputs": [
    {
     "data": {
      "text/plain": [
       "[{'ROI': 0,\n",
       "  'Slice': -0.5,\n",
       "  'Label': 'a',\n",
       "  'Region': Region(roi=0, slice=-0.5, is_hole=False, is_boundary=True, region_labels=['a'], },\n",
       " {'ROI': 1,\n",
       "  'Slice': -0.3,\n",
       "  'Label': 'a',\n",
       "  'Region': Region(roi=1, slice=-0.3, is_hole=False, is_boundary=False, region_labels=['a'], },\n",
       " {'ROI': 1,\n",
       "  'Slice': -0.2,\n",
       "  'Label': 'a',\n",
       "  'Region': Region(roi=1, slice=-0.2, is_hole=True, is_boundary=True, region_labels=['a'], },\n",
       " {'ROI': 1,\n",
       "  'Slice': -0.2,\n",
       "  'Label': 'a',\n",
       "  'Region': Region(roi=1, slice=-0.2, is_hole=True, is_boundary=True, region_labels=['a'], },\n",
       " {'ROI': 2,\n",
       "  'Slice': -0.2,\n",
       "  'Label': 'a',\n",
       "  'Region': Region(roi=2, slice=-0.2, is_hole=False, is_boundary=True, region_labels=['a'], }]"
      ]
     },
     "execution_count": 10,
     "metadata": {},
     "output_type": "execute_result"
    }
   ],
   "source": [
    "expand_region_table(regions_dict)\n"
   ]
  }
 ],
 "metadata": {
  "kernelspec": {
   "display_name": "StructureRelations",
   "language": "python",
   "name": "python3"
  },
  "language_info": {
   "codemirror_mode": {
    "name": "ipython",
    "version": 3
   },
   "file_extension": ".py",
   "mimetype": "text/x-python",
   "name": "python",
   "nbconvert_exporter": "python",
   "pygments_lexer": "ipython3",
   "version": "3.11.9"
  }
 },
 "nbformat": 4,
 "nbformat_minor": 4
}
