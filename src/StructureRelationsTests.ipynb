{
 "cells": [
  {
   "cell_type": "markdown",
   "metadata": {},
   "source": [
    "# Contour Tests"
   ]
  },
  {
   "cell_type": "code",
   "execution_count": 1,
   "metadata": {},
   "outputs": [],
   "source": [
    "# Type imports\n",
    "from typing import Any, Dict, List, Tuple\n",
    "\n",
    "# Standard Libraries\n",
    "from pathlib import Path\n",
    "from collections import Counter, defaultdict\n",
    "from dataclasses import dataclass, field, asdict\n",
    "from math import sqrt, pi, sin, cos, tan, radians\n",
    "from math import isnan\n",
    "from statistics import mean\n",
    "from itertools import zip_longest\n",
    "\n",
    "# Shared Packages\n",
    "import pandas as pd\n",
    "import numpy as np\n",
    "import xlwings as xw\n",
    "\n",
    "import pygraphviz as pgv\n",
    "import networkx as nx"
   ]
  },
  {
   "cell_type": "code",
   "execution_count": 2,
   "metadata": {},
   "outputs": [],
   "source": [
    "from types_and_classes import *"
   ]
  },
  {
   "cell_type": "markdown",
   "metadata": {},
   "source": [
    "## functions for creating contours"
   ]
  },
  {
   "cell_type": "code",
   "execution_count": 3,
   "metadata": {},
   "outputs": [],
   "source": [
    "\n",
    "def make_slice_table(slice_data: pd.DataFrame)->pd.DataFrame:\n",
    "    slice_table = slice_data.unstack('ROI Num')\n",
    "    slice_table.columns = slice_table.columns.droplevel()\n",
    "    return slice_table\n"
   ]
  },
  {
   "cell_type": "code",
   "execution_count": 4,
   "metadata": {},
   "outputs": [],
   "source": [
    "def slice_spacing(contour):\n",
    "    # Index is the slice position of all slices in the image set\n",
    "    # Columns are structure IDs\n",
    "    # Values are the distance (INF) to the next contour\n",
    "    inf = contour.dropna().index.min()\n",
    "    sup = contour.dropna().index.max()\n",
    "    contour_range = (contour.index <= sup) & (contour.index >= inf)\n",
    "    slices = contour.loc[contour_range].dropna().index.to_series()\n",
    "    gaps = slices.shift(-1) - slices\n",
    "    return gaps"
   ]
  },
  {
   "cell_type": "code",
   "execution_count": 5,
   "metadata": {},
   "outputs": [],
   "source": [
    "def c_type(obj):\n",
    "    if isinstance(obj, StructureSlice):\n",
    "        n = str(type(obj.contour))\n",
    "        s = n.replace('shapely.geometry.', '')\n",
    "    else:\n",
    "        s = str(type(obj))\n",
    "    s = s.replace('<class ', '')\n",
    "    s = s.replace('>', '')\n",
    "    return s"
   ]
  },
  {
   "cell_type": "code",
   "execution_count": 6,
   "metadata": {},
   "outputs": [],
   "source": [
    "def relate_structs(slice_table: pd.DataFrame, structures: StructurePair) -> int:\n",
    "    slice_structures = slice_table.loc[:, [structures[0],\n",
    "                                           structures[1]]]\n",
    "    # Remove Slices that have neither structure.\n",
    "    slice_structures.dropna(how='all', inplace=True)\n",
    "    # For slices that have only one of the two structures, replace the nan\n",
    "    # values with empty polygons for duck typing.\n",
    "    slice_structures.fillna(StructureSlice([]), inplace=True)\n",
    "    # Get the relationships between the two structures for all slices.\n",
    "    relation_seq = slice_structures.agg(relate, structures=structures,\n",
    "                                        axis='columns')\n",
    "     # Get the overall relationship for the two structures by merging the\n",
    "    # relationships for the individual slices.\n",
    "    relation_binary = merge_rel(relation_seq)\n",
    "    return relation_binary"
   ]
  },
  {
   "cell_type": "markdown",
   "metadata": {},
   "source": [
    "### Make test structures"
   ]
  },
  {
   "cell_type": "code",
   "execution_count": 7,
   "metadata": {},
   "outputs": [],
   "source": [
    "# 6 cm x 6 cm box\n",
    "box6 = shapely.Polygon(box_points(6))\n",
    "slices = make_slice_list(5)\n",
    "slices_1 = make_contour_slices(1, slices, [box6])\n",
    "\n",
    "# 4 cm x 4 cm box\n",
    "box4 = shapely.Polygon(box_points(4))\n",
    "slices = make_slice_list(5)\n",
    "#slices = make_slice_list(5, start=0.2, spacing=0.2)\n",
    "slices_2 = make_contour_slices(2, slices, [box4])\n",
    "\n",
    "# 6 cm x 6 cm box offset right by 3 cm\n",
    "offset_box6 = shapely.Polygon(box_points(6, offset_x=3))\n",
    "slices = make_slice_list(5)\n",
    "#slices = make_slice_list(5, start=0.2, spacing=0.2)\n",
    "slices_3 = make_contour_slices(3, slices, [offset_box6])\n",
    "\n",
    "# 6 cm x 6 cm box with 4cm x 4 cm hole\n",
    "box6 = shapely.Polygon(box_points(6))\n",
    "box4 = shapely.Polygon(box_points(4))\n",
    "slices = make_slice_list(5, start=0.2)\n",
    "slices_4 = make_contour_slices(4, slices, [box6, box4])\n",
    "\n",
    "# 2 2x2 boxes\n",
    "box2a = shapely.Polygon(box_points(2, offset_x=-3))\n",
    "box2b = shapely.Polygon(box_points(2, offset_x=3))\n",
    "slices = make_slice_list(5)\n",
    "#slices = make_slice_list(5, start=0.2, spacing=0.2)\n",
    "slices_5 = make_contour_slices(5, slices, [box2a, box2b])\n",
    "\n",
    "# 2 cm x 2 cm box offset inf by 0.3 cm\n",
    "slices = make_slice_list(5, start=-0.3)\n",
    "slices_6 = make_contour_slices(6, slices, [offset_box6])\n"
   ]
  },
  {
   "cell_type": "code",
   "execution_count": 8,
   "metadata": {},
   "outputs": [],
   "source": [
    "# combine the slice data\n",
    "slice_data = pd.concat([slices_1, slices_2, slices_3, slices_4, slices_5,\n",
    "                        slices_6])\n",
    "# convert slice data into a table of slices and structures\n",
    "slice_table = make_slice_table(slice_data)"
   ]
  },
  {
   "cell_type": "code",
   "execution_count": 13,
   "metadata": {},
   "outputs": [
    {
     "ename": "TypeError",
     "evalue": "relate() got an unexpected keyword argument 'structures'",
     "output_type": "error",
     "traceback": [
      "\u001b[0;31m---------------------------------------------------------------------------\u001b[0m",
      "\u001b[0;31mTypeError\u001b[0m                                 Traceback (most recent call last)",
      "Cell \u001b[0;32mIn[13], line 1\u001b[0m\n\u001b[0;32m----> 1\u001b[0m relationship_1_2 \u001b[38;5;241m=\u001b[39m Relationship(slice_table, (\u001b[38;5;241m1\u001b[39m, \u001b[38;5;241m2\u001b[39m))\n\u001b[1;32m      2\u001b[0m \u001b[38;5;28mprint\u001b[39m(relationship_1_2\u001b[38;5;241m.\u001b[39mrelationship_type)\n",
      "File \u001b[0;32m/workspaces/StructureRelations/src/types_and_classes.py:845\u001b[0m, in \u001b[0;36mRelationship.__init__\u001b[0;34m(self, slice_table, structures, **kwargs)\u001b[0m\n\u001b[1;32m    843\u001b[0m     \u001b[38;5;28mself\u001b[39m\u001b[38;5;241m.\u001b[39mrelationship_type \u001b[38;5;241m=\u001b[39m RelationshipType[kwargs[\u001b[38;5;124m'\u001b[39m\u001b[38;5;124mrelationship\u001b[39m\u001b[38;5;124m'\u001b[39m]]\n\u001b[1;32m    844\u001b[0m \u001b[38;5;28;01melse\u001b[39;00m:\n\u001b[0;32m--> 845\u001b[0m     \u001b[38;5;28mself\u001b[39m\u001b[38;5;241m.\u001b[39midentify_relationship(slice_table)\n\u001b[1;32m    847\u001b[0m \u001b[38;5;28mself\u001b[39m\u001b[38;5;241m.\u001b[39mget_metric()\n",
      "File \u001b[0;32m/workspaces/StructureRelations/src/types_and_classes.py:901\u001b[0m, in \u001b[0;36mRelationship.identify_relationship\u001b[0;34m(self, slice_table)\u001b[0m\n\u001b[1;32m    899\u001b[0m slice_structures\u001b[38;5;241m.\u001b[39mfillna(StructureSlice([]), inplace\u001b[38;5;241m=\u001b[39m\u001b[38;5;28;01mTrue\u001b[39;00m)\n\u001b[1;32m    900\u001b[0m \u001b[38;5;66;03m# Get the relationships between the two structures for all slices.\u001b[39;00m\n\u001b[0;32m--> 901\u001b[0m relation_seq \u001b[38;5;241m=\u001b[39m slice_structures\u001b[38;5;241m.\u001b[39magg(relate, structures\u001b[38;5;241m=\u001b[39m\u001b[38;5;28mself\u001b[39m\u001b[38;5;241m.\u001b[39mstructures,\n\u001b[1;32m    902\u001b[0m                                     axis\u001b[38;5;241m=\u001b[39m\u001b[38;5;124m'\u001b[39m\u001b[38;5;124mcolumns\u001b[39m\u001b[38;5;124m'\u001b[39m)\n\u001b[1;32m    903\u001b[0m \u001b[38;5;66;03m# Get the overall relationship for the two structures by merging the\u001b[39;00m\n\u001b[1;32m    904\u001b[0m \u001b[38;5;66;03m# relationships for the individual slices.\u001b[39;00m\n\u001b[1;32m    905\u001b[0m relation_binary \u001b[38;5;241m=\u001b[39m merge_rel(relation_seq)\n",
      "File \u001b[0;32m/opt/conda/lib/python3.11/site-packages/pandas/core/frame.py:10149\u001b[0m, in \u001b[0;36mDataFrame.aggregate\u001b[0;34m(self, func, axis, *args, **kwargs)\u001b[0m\n\u001b[1;32m  10146\u001b[0m axis \u001b[38;5;241m=\u001b[39m \u001b[38;5;28mself\u001b[39m\u001b[38;5;241m.\u001b[39m_get_axis_number(axis)\n\u001b[1;32m  10148\u001b[0m op \u001b[38;5;241m=\u001b[39m frame_apply(\u001b[38;5;28mself\u001b[39m, func\u001b[38;5;241m=\u001b[39mfunc, axis\u001b[38;5;241m=\u001b[39maxis, args\u001b[38;5;241m=\u001b[39margs, kwargs\u001b[38;5;241m=\u001b[39mkwargs)\n\u001b[0;32m> 10149\u001b[0m result \u001b[38;5;241m=\u001b[39m op\u001b[38;5;241m.\u001b[39magg()\n\u001b[1;32m  10150\u001b[0m result \u001b[38;5;241m=\u001b[39m reconstruct_and_relabel_result(result, func, \u001b[38;5;241m*\u001b[39m\u001b[38;5;241m*\u001b[39mkwargs)\n\u001b[1;32m  10151\u001b[0m \u001b[38;5;28;01mreturn\u001b[39;00m result\n",
      "File \u001b[0;32m/opt/conda/lib/python3.11/site-packages/pandas/core/apply.py:937\u001b[0m, in \u001b[0;36mFrameApply.agg\u001b[0;34m(self)\u001b[0m\n\u001b[1;32m    934\u001b[0m     result \u001b[38;5;241m=\u001b[39m result\u001b[38;5;241m.\u001b[39mT \u001b[38;5;28;01mif\u001b[39;00m result \u001b[38;5;129;01mis\u001b[39;00m \u001b[38;5;129;01mnot\u001b[39;00m \u001b[38;5;28;01mNone\u001b[39;00m \u001b[38;5;28;01melse\u001b[39;00m result\n\u001b[1;32m    936\u001b[0m \u001b[38;5;28;01mif\u001b[39;00m result \u001b[38;5;129;01mis\u001b[39;00m \u001b[38;5;28;01mNone\u001b[39;00m:\n\u001b[0;32m--> 937\u001b[0m     result \u001b[38;5;241m=\u001b[39m \u001b[38;5;28mself\u001b[39m\u001b[38;5;241m.\u001b[39mobj\u001b[38;5;241m.\u001b[39mapply(\u001b[38;5;28mself\u001b[39m\u001b[38;5;241m.\u001b[39mfunc, axis, args\u001b[38;5;241m=\u001b[39m\u001b[38;5;28mself\u001b[39m\u001b[38;5;241m.\u001b[39margs, \u001b[38;5;241m*\u001b[39m\u001b[38;5;241m*\u001b[39m\u001b[38;5;28mself\u001b[39m\u001b[38;5;241m.\u001b[39mkwargs)\n\u001b[1;32m    939\u001b[0m \u001b[38;5;28;01mreturn\u001b[39;00m result\n",
      "File \u001b[0;32m/opt/conda/lib/python3.11/site-packages/pandas/core/frame.py:10374\u001b[0m, in \u001b[0;36mDataFrame.apply\u001b[0;34m(self, func, axis, raw, result_type, args, by_row, engine, engine_kwargs, **kwargs)\u001b[0m\n\u001b[1;32m  10360\u001b[0m \u001b[38;5;28;01mfrom\u001b[39;00m \u001b[38;5;21;01mpandas\u001b[39;00m\u001b[38;5;21;01m.\u001b[39;00m\u001b[38;5;21;01mcore\u001b[39;00m\u001b[38;5;21;01m.\u001b[39;00m\u001b[38;5;21;01mapply\u001b[39;00m \u001b[38;5;28;01mimport\u001b[39;00m frame_apply\n\u001b[1;32m  10362\u001b[0m op \u001b[38;5;241m=\u001b[39m frame_apply(\n\u001b[1;32m  10363\u001b[0m     \u001b[38;5;28mself\u001b[39m,\n\u001b[1;32m  10364\u001b[0m     func\u001b[38;5;241m=\u001b[39mfunc,\n\u001b[0;32m   (...)\u001b[0m\n\u001b[1;32m  10372\u001b[0m     kwargs\u001b[38;5;241m=\u001b[39mkwargs,\n\u001b[1;32m  10373\u001b[0m )\n\u001b[0;32m> 10374\u001b[0m \u001b[38;5;28;01mreturn\u001b[39;00m op\u001b[38;5;241m.\u001b[39mapply()\u001b[38;5;241m.\u001b[39m__finalize__(\u001b[38;5;28mself\u001b[39m, method\u001b[38;5;241m=\u001b[39m\u001b[38;5;124m\"\u001b[39m\u001b[38;5;124mapply\u001b[39m\u001b[38;5;124m\"\u001b[39m)\n",
      "File \u001b[0;32m/opt/conda/lib/python3.11/site-packages/pandas/core/apply.py:916\u001b[0m, in \u001b[0;36mFrameApply.apply\u001b[0;34m(self)\u001b[0m\n\u001b[1;32m    913\u001b[0m \u001b[38;5;28;01melif\u001b[39;00m \u001b[38;5;28mself\u001b[39m\u001b[38;5;241m.\u001b[39mraw:\n\u001b[1;32m    914\u001b[0m     \u001b[38;5;28;01mreturn\u001b[39;00m \u001b[38;5;28mself\u001b[39m\u001b[38;5;241m.\u001b[39mapply_raw(engine\u001b[38;5;241m=\u001b[39m\u001b[38;5;28mself\u001b[39m\u001b[38;5;241m.\u001b[39mengine, engine_kwargs\u001b[38;5;241m=\u001b[39m\u001b[38;5;28mself\u001b[39m\u001b[38;5;241m.\u001b[39mengine_kwargs)\n\u001b[0;32m--> 916\u001b[0m \u001b[38;5;28;01mreturn\u001b[39;00m \u001b[38;5;28mself\u001b[39m\u001b[38;5;241m.\u001b[39mapply_standard()\n",
      "File \u001b[0;32m/opt/conda/lib/python3.11/site-packages/pandas/core/apply.py:1063\u001b[0m, in \u001b[0;36mFrameApply.apply_standard\u001b[0;34m(self)\u001b[0m\n\u001b[1;32m   1061\u001b[0m \u001b[38;5;28;01mdef\u001b[39;00m \u001b[38;5;21mapply_standard\u001b[39m(\u001b[38;5;28mself\u001b[39m):\n\u001b[1;32m   1062\u001b[0m     \u001b[38;5;28;01mif\u001b[39;00m \u001b[38;5;28mself\u001b[39m\u001b[38;5;241m.\u001b[39mengine \u001b[38;5;241m==\u001b[39m \u001b[38;5;124m\"\u001b[39m\u001b[38;5;124mpython\u001b[39m\u001b[38;5;124m\"\u001b[39m:\n\u001b[0;32m-> 1063\u001b[0m         results, res_index \u001b[38;5;241m=\u001b[39m \u001b[38;5;28mself\u001b[39m\u001b[38;5;241m.\u001b[39mapply_series_generator()\n\u001b[1;32m   1064\u001b[0m     \u001b[38;5;28;01melse\u001b[39;00m:\n\u001b[1;32m   1065\u001b[0m         results, res_index \u001b[38;5;241m=\u001b[39m \u001b[38;5;28mself\u001b[39m\u001b[38;5;241m.\u001b[39mapply_series_numba()\n",
      "File \u001b[0;32m/opt/conda/lib/python3.11/site-packages/pandas/core/apply.py:1081\u001b[0m, in \u001b[0;36mFrameApply.apply_series_generator\u001b[0;34m(self)\u001b[0m\n\u001b[1;32m   1078\u001b[0m \u001b[38;5;28;01mwith\u001b[39;00m option_context(\u001b[38;5;124m\"\u001b[39m\u001b[38;5;124mmode.chained_assignment\u001b[39m\u001b[38;5;124m\"\u001b[39m, \u001b[38;5;28;01mNone\u001b[39;00m):\n\u001b[1;32m   1079\u001b[0m     \u001b[38;5;28;01mfor\u001b[39;00m i, v \u001b[38;5;129;01min\u001b[39;00m \u001b[38;5;28menumerate\u001b[39m(series_gen):\n\u001b[1;32m   1080\u001b[0m         \u001b[38;5;66;03m# ignore SettingWithCopy here in case the user mutates\u001b[39;00m\n\u001b[0;32m-> 1081\u001b[0m         results[i] \u001b[38;5;241m=\u001b[39m \u001b[38;5;28mself\u001b[39m\u001b[38;5;241m.\u001b[39mfunc(v, \u001b[38;5;241m*\u001b[39m\u001b[38;5;28mself\u001b[39m\u001b[38;5;241m.\u001b[39margs, \u001b[38;5;241m*\u001b[39m\u001b[38;5;241m*\u001b[39m\u001b[38;5;28mself\u001b[39m\u001b[38;5;241m.\u001b[39mkwargs)\n\u001b[1;32m   1082\u001b[0m         \u001b[38;5;28;01mif\u001b[39;00m \u001b[38;5;28misinstance\u001b[39m(results[i], ABCSeries):\n\u001b[1;32m   1083\u001b[0m             \u001b[38;5;66;03m# If we have a view on v, we need to make a copy because\u001b[39;00m\n\u001b[1;32m   1084\u001b[0m             \u001b[38;5;66;03m#  series_generator will swap out the underlying data\u001b[39;00m\n\u001b[1;32m   1085\u001b[0m             results[i] \u001b[38;5;241m=\u001b[39m results[i]\u001b[38;5;241m.\u001b[39mcopy(deep\u001b[38;5;241m=\u001b[39m\u001b[38;5;28;01mFalse\u001b[39;00m)\n",
      "\u001b[0;31mTypeError\u001b[0m: relate() got an unexpected keyword argument 'structures'"
     ]
    }
   ],
   "source": [
    "relationship_1_2 = Relationship(slice_table, (1, 2))\n",
    "print(relationship_1_2.relationship_type)"
   ]
  },
  {
   "cell_type": "code",
   "execution_count": null,
   "metadata": {},
   "outputs": [
    {
     "name": "stdout",
     "output_type": "stream",
     "text": [
      "RelationshipType.OVERLAPS\n"
     ]
    }
   ],
   "source": [
    "relationship_1_2 = Relationship(slice_table, (1, 6))\n",
    "print(relationship_1_2.relationship_type)"
   ]
  },
  {
   "cell_type": "code",
   "execution_count": null,
   "metadata": {},
   "outputs": [
    {
     "name": "stdout",
     "output_type": "stream",
     "text": [
      "RelationshipType.UNKNOWN\n"
     ]
    }
   ],
   "source": [
    "relationship_1_2 = Relationship(slice_table, (4, 2))\n",
    "print(relationship_1_2.relationship_type)"
   ]
  },
  {
   "cell_type": "code",
   "execution_count": null,
   "metadata": {},
   "outputs": [
    {
     "data": {
      "text/plain": [
       "'0b111001111111001111001011111'"
      ]
     },
     "execution_count": 16,
     "metadata": {},
     "output_type": "execute_result"
    }
   ],
   "source": [
    "relation_binary = relate_structs(slice_table, (4, 2))\n",
    "bin(relation_binary)"
   ]
  },
  {
   "cell_type": "markdown",
   "metadata": {},
   "source": [
    "**Expecting Interior Borders**"
   ]
  },
  {
   "cell_type": "markdown",
   "metadata": {},
   "source": [
    "```\n",
    "111 001 111 | 111 001 111 | 001 011 111\n",
    "              T** *T* *** | FF* FT* ***    Interior Borders\n",
    "              T** *F* F** | FF* FT* ***    Surrounds\n",
    "              T*F *F* *** | FF* FT* ***    Embeds\n",
    "```"
   ]
  },
  {
   "attachments": {
    "image-2.png": {
     "image/png": "[encoded data removed]"
    },
    "image.png": {
     "image/png": "[encoded data removed]"
    }
   },
   "cell_type": "markdown",
   "metadata": {},
   "source": [
    "***Confines / Exsects***\n",
    "The interior boundary of one shape *a* and the exterior boundary of another shape *b* have more than one point in common, but their interiors do not intersect.\n",
    "\n",
    "![image.png](attachment:image.png)\n",
    "\n",
    "![image-2.png](attachment:image-2.png)"
   ]
  },
  {
   "cell_type": "code",
   "execution_count": null,
   "metadata": {},
   "outputs": [
    {
     "name": "stdout",
     "output_type": "stream",
     "text": [
      "FF2F112F2\n",
      "212F1FFF2\n"
     ]
    },
    {
     "data": {
      "image/svg+xml": [
       "<svg xmlns=\"http://www.w3.org/2000/svg\" xmlns:xlink=\"http://www.w3.org/1999/xlink\" width=\"100.0\" height=\"100.0\" viewBox=\"-6.48 -6.48 12.96 12.96\" preserveAspectRatio=\"xMinYMin meet\"><g transform=\"matrix(1,0,0,-1,0,0.0)\"><g><polyline fill=\"none\" stroke=\"#66cc99\" stroke-width=\"0.25920000000000004\" points=\"0.0,6.0 2.296,5.543 4.243,4.243 5.543,2.296 6.0,0.0 5.543,-2.296 4.243,-4.243 2.296,-5.543 0.0,-6.0 -2.296,-5.543 -4.243,-4.243 -5.543,-2.296 -6.0,0.0 -5.543,2.296 -4.243,4.243 -2.296,5.543 0.0,6.0\" opacity=\"0.8\" /><polyline fill=\"none\" stroke=\"#66cc99\" stroke-width=\"0.25920000000000004\" points=\"0.0,4.0 -1.531,3.696\" opacity=\"0.8\" /><polyline fill=\"none\" stroke=\"#66cc99\" stroke-width=\"0.25920000000000004\" points=\"-1.531,3.696 -2.828,2.828\" opacity=\"0.8\" /><polyline fill=\"none\" stroke=\"#66cc99\" stroke-width=\"0.25920000000000004\" points=\"-2.828,2.828 -3.696,1.531\" opacity=\"0.8\" /><polyline fill=\"none\" stroke=\"#66cc99\" stroke-width=\"0.25920000000000004\" points=\"-3.696,1.531 -4.0,0.0\" opacity=\"0.8\" /><polyline fill=\"none\" stroke=\"#66cc99\" stroke-width=\"0.25920000000000004\" points=\"-4.0,0.0 -3.696,-1.531\" opacity=\"0.8\" /><polyline fill=\"none\" stroke=\"#66cc99\" stroke-width=\"0.25920000000000004\" points=\"-3.696,-1.531 -2.828,-2.828\" opacity=\"0.8\" /><polyline fill=\"none\" stroke=\"#66cc99\" stroke-width=\"0.25920000000000004\" points=\"-2.828,-2.828 -1.531,-3.696\" opacity=\"0.8\" /><polyline fill=\"none\" stroke=\"#66cc99\" stroke-width=\"0.25920000000000004\" points=\"-1.531,-3.696 0.0,-4.0\" opacity=\"0.8\" /><polyline fill=\"none\" stroke=\"#66cc99\" stroke-width=\"0.25920000000000004\" points=\"0.0,-4.0 1.531,-3.696\" opacity=\"0.8\" /><polyline fill=\"none\" stroke=\"#66cc99\" stroke-width=\"0.25920000000000004\" points=\"1.531,-3.696 2.828,-2.828\" opacity=\"0.8\" /><polyline fill=\"none\" stroke=\"#66cc99\" stroke-width=\"0.25920000000000004\" points=\"2.828,-2.828 3.696,-1.531\" opacity=\"0.8\" /><polyline fill=\"none\" stroke=\"#66cc99\" stroke-width=\"0.25920000000000004\" points=\"3.696,-1.531 4.0,0.0\" opacity=\"0.8\" /><polyline fill=\"none\" stroke=\"#66cc99\" stroke-width=\"0.25920000000000004\" points=\"4.0,0.0 3.696,1.531\" opacity=\"0.8\" /><polyline fill=\"none\" stroke=\"#66cc99\" stroke-width=\"0.25920000000000004\" points=\"3.696,1.531 2.828,2.828\" opacity=\"0.8\" /><polyline fill=\"none\" stroke=\"#66cc99\" stroke-width=\"0.25920000000000004\" points=\"2.828,2.828 1.531,3.696\" opacity=\"0.8\" /><polyline fill=\"none\" stroke=\"#66cc99\" stroke-width=\"0.25920000000000004\" points=\"1.531,3.696 0.0,4.0\" opacity=\"0.8\" /><polyline fill=\"none\" stroke=\"#66cc99\" stroke-width=\"0.25920000000000004\" points=\"0.0,2.0 0.765,1.848\" opacity=\"0.8\" /><polyline fill=\"none\" stroke=\"#66cc99\" stroke-width=\"0.25920000000000004\" points=\"0.765,1.848 1.414,1.414\" opacity=\"0.8\" /><polyline fill=\"none\" stroke=\"#66cc99\" stroke-width=\"0.25920000000000004\" points=\"1.414,1.414 1.848,0.765\" opacity=\"0.8\" /><polyline fill=\"none\" stroke=\"#66cc99\" stroke-width=\"0.25920000000000004\" points=\"1.848,0.765 2.0,0.0\" opacity=\"0.8\" /><polyline fill=\"none\" stroke=\"#66cc99\" stroke-width=\"0.25920000000000004\" points=\"2.0,0.0 1.848,-0.765\" opacity=\"0.8\" /><polyline fill=\"none\" stroke=\"#66cc99\" stroke-width=\"0.25920000000000004\" points=\"1.848,-0.765 1.414,-1.414\" opacity=\"0.8\" /><polyline fill=\"none\" stroke=\"#66cc99\" stroke-width=\"0.25920000000000004\" points=\"1.414,-1.414 0.765,-1.848\" opacity=\"0.8\" /><polyline fill=\"none\" stroke=\"#66cc99\" stroke-width=\"0.25920000000000004\" points=\"0.765,-1.848 0.0,-2.0\" opacity=\"0.8\" /><polyline fill=\"none\" stroke=\"#66cc99\" stroke-width=\"0.25920000000000004\" points=\"0.0,-2.0 -0.765,-1.848\" opacity=\"0.8\" /><polyline fill=\"none\" stroke=\"#66cc99\" stroke-width=\"0.25920000000000004\" points=\"-0.765,-1.848 -1.414,-1.414\" opacity=\"0.8\" /><polyline fill=\"none\" stroke=\"#66cc99\" stroke-width=\"0.25920000000000004\" points=\"-1.414,-1.414 -1.848,-0.765\" opacity=\"0.8\" /><polyline fill=\"none\" stroke=\"#66cc99\" stroke-width=\"0.25920000000000004\" points=\"-1.848,-0.765 -2.0,0.0\" opacity=\"0.8\" /><polyline fill=\"none\" stroke=\"#66cc99\" stroke-width=\"0.25920000000000004\" points=\"-2.0,0.0 -1.848,0.765\" opacity=\"0.8\" /><polyline fill=\"none\" stroke=\"#66cc99\" stroke-width=\"0.25920000000000004\" points=\"-1.848,0.765 -1.414,1.414\" opacity=\"0.8\" /><polyline fill=\"none\" stroke=\"#66cc99\" stroke-width=\"0.25920000000000004\" points=\"-1.414,1.414 -0.765,1.848\" opacity=\"0.8\" /><polyline fill=\"none\" stroke=\"#66cc99\" stroke-width=\"0.25920000000000004\" points=\"-0.765,1.848 0.0,2.0\" opacity=\"0.8\" /></g></g></svg>"
      ],
      "text/plain": [
       "<MULTILINESTRING ((0 6, 2.3 5.54, 4.24 4.24, 5.54 2.3, 6 0, 5.54 -2.3, 4.24 ...>"
      ]
     },
     "execution_count": 18,
     "metadata": {},
     "output_type": "execute_result"
    }
   ],
   "source": [
    "circle_6 = shapely.Polygon(circle_points(6))\n",
    "circle_4 = shapely.Polygon(circle_points(4))\n",
    "circle_2 = shapely.Polygon(circle_points(2))\n",
    "island_shape = shapely.union(shapely.difference(circle_6, circle_4),circle_2)\n",
    "island_border = shapely.difference(circle_4, circle_2)\n",
    "\n",
    "print(shapely.relate(island_shape, island_border))\n",
    "\n",
    "interior = shapely.Polygon(island_shape.geoms[0].interiors[0])\n",
    "print(shapely.relate(interior, island_border))\n",
    "shapely.union(island_shape.boundary, island_border.boundary)"
   ]
  },
  {
   "cell_type": "markdown",
   "metadata": {},
   "source": [
    "```\n",
    "111 001 111 | 111 001 111 | 001 011 111\n",
    "              T** *T* *** | FF* FT* ***    Interior Borders\n",
    "              T** *F* F** | FF* FT* ***    Surrounds\n",
    "              T*F *F* *** | FF* FT* ***    Embeds\n",
    "\n",
    "              212 F1F FF2 | FF2 F11 2F2\n",
    "\n",
    "              212 FF1 FF2 | FF2 F11 2F2\n",
    "```"
   ]
  },
  {
   "cell_type": "code",
   "execution_count": null,
   "metadata": {},
   "outputs": [
    {
     "data": {
      "image/svg+xml": [
       "<svg xmlns=\"http://www.w3.org/2000/svg\" xmlns:xlink=\"http://www.w3.org/1999/xlink\" width=\"100.0\" height=\"100.0\" viewBox=\"-3.24 -3.24 6.48 6.48\" preserveAspectRatio=\"xMinYMin meet\"><g transform=\"matrix(1,0,0,-1,0,0.0)\"><g><path fill-rule=\"evenodd\" fill=\"#66cc99\" stroke=\"#555555\" stroke-width=\"0.12960000000000002\" opacity=\"0.6\" d=\"M 3.0,3.0 L 3.0,-3.0 L -3.0,-3.0 L -3.0,3.0 L 3.0,3.0 z M 2.0,2.0 L -2.0,2.0 L -2.0,-2.0 L 2.0,-2.0 L 2.0,2.0 z\" /></g></g></svg>"
      ],
      "text/plain": [
       "<MULTIPOLYGON (((3 3, 3 -3, -3 -3, -3 3, 3 3), (2 2, -2 2, -2 -2, 2 -2, 2 2)))>"
      ]
     },
     "execution_count": 25,
     "metadata": {},
     "output_type": "execute_result"
    }
   ],
   "source": [
    "poly_2 = StructureSlice([box4])\n",
    "poly_4 = StructureSlice([box6, box4])\n",
    "poly_4.contour"
   ]
  },
  {
   "cell_type": "code",
   "execution_count": null,
   "metadata": {},
   "outputs": [
    {
     "data": {
      "image/svg+xml": [
       "<svg xmlns=\"http://www.w3.org/2000/svg\" xmlns:xlink=\"http://www.w3.org/1999/xlink\" width=\"100.0\" height=\"100.0\" viewBox=\"-3.24 -3.24 6.48 6.48\" preserveAspectRatio=\"xMinYMin meet\"><g transform=\"matrix(1,0,0,-1,0,0.0)\"><path fill-rule=\"evenodd\" fill=\"#66cc99\" stroke=\"#555555\" stroke-width=\"0.12960000000000002\" opacity=\"0.6\" d=\"M 3.0,3.0 L 3.0,-3.0 L -3.0,-3.0 L -3.0,3.0 L 3.0,3.0 z M 2.0,2.0 L -2.0,2.0 L -2.0,-2.0 L 2.0,-2.0 L 2.0,2.0 z\" /></g></svg>"
      ],
      "text/plain": [
       "<POLYGON ((3 3, 3 -3, -3 -3, -3 3, 3 3), (2 2, -2 2, -2 -2, 2 -2, 2 2))>"
      ]
     },
     "execution_count": 27,
     "metadata": {},
     "output_type": "execute_result"
    }
   ],
   "source": [
    "shapely.difference(poly_4.contour,poly_2.contour)"
   ]
  },
  {
   "cell_type": "code",
   "execution_count": null,
   "metadata": {},
   "outputs": [
    {
     "data": {
      "text/plain": [
       "'FF2F112F2'"
      ]
     },
     "execution_count": 31,
     "metadata": {},
     "output_type": "execute_result"
    }
   ],
   "source": [
    "shapely.relate(poly_4.contour,poly_2.contour)"
   ]
  },
  {
   "cell_type": "code",
   "execution_count": null,
   "metadata": {},
   "outputs": [
    {
     "data": {
      "image/svg+xml": [
       "<svg xmlns=\"http://www.w3.org/2000/svg\" xmlns:xlink=\"http://www.w3.org/1999/xlink\" width=\"100.0\" height=\"100.0\" viewBox=\"-3.24 -3.24 6.48 6.48\" preserveAspectRatio=\"xMinYMin meet\"><g transform=\"matrix(1,0,0,-1,0,0.0)\"><g><path fill-rule=\"evenodd\" fill=\"#66cc99\" stroke=\"#555555\" stroke-width=\"0.12960000000000002\" opacity=\"0.6\" d=\"M 3.0,3.0 L 3.0,-3.0 L -3.0,-3.0 L -3.0,3.0 L 3.0,3.0 z\" /></g></g></svg>"
      ],
      "text/plain": [
       "<MULTIPOLYGON (((3 3, 3 -3, -3 -3, -3 3, 3 3)))>"
      ]
     },
     "execution_count": 24,
     "metadata": {},
     "output_type": "execute_result"
    }
   ],
   "source": [
    "poly_4.exterior"
   ]
  },
  {
   "cell_type": "code",
   "execution_count": null,
   "metadata": {},
   "outputs": [
    {
     "data": {
      "text/plain": [
       "'212FF1FF2'"
      ]
     },
     "execution_count": 32,
     "metadata": {},
     "output_type": "execute_result"
    }
   ],
   "source": [
    "shapely.relate(poly_4.exterior,poly_2.contour)"
   ]
  },
  {
   "cell_type": "code",
   "execution_count": null,
   "metadata": {},
   "outputs": [
    {
     "data": {
      "image/svg+xml": [
       "<svg xmlns=\"http://www.w3.org/2000/svg\" xmlns:xlink=\"http://www.w3.org/1999/xlink\" width=\"100.0\" height=\"100.0\" viewBox=\"-3.24 -3.24 6.48 6.48\" preserveAspectRatio=\"xMinYMin meet\"><g transform=\"matrix(1,0,0,-1,0,0.0)\"><path fill-rule=\"evenodd\" fill=\"#66cc99\" stroke=\"#555555\" stroke-width=\"0.12960000000000002\" opacity=\"0.6\" d=\"M 3.0,3.0 L 3.0,-3.0 L -3.0,-3.0 L -3.0,3.0 L 3.0,3.0 z\" /></g></svg>"
      ],
      "text/plain": [
       "<POLYGON ((3 3, 3 -3, -3 -3, -3 3, 3 3))>"
      ]
     },
     "execution_count": 29,
     "metadata": {},
     "output_type": "execute_result"
    }
   ],
   "source": [
    "shapely.union(poly_4.contour,poly_2.contour)"
   ]
  },
  {
   "cell_type": "code",
   "execution_count": null,
   "metadata": {},
   "outputs": [
    {
     "name": "stdout",
     "output_type": "stream",
     "text": [
      "FF2F112F2\n"
     ]
    },
    {
     "ename": "AttributeError",
     "evalue": "'Polygon' object has no attribute 'geoms'",
     "output_type": "error",
     "traceback": [
      "\u001b[1;31m---------------------------------------------------------------------------\u001b[0m",
      "\u001b[1;31mAttributeError\u001b[0m                            Traceback (most recent call last)",
      "Cell \u001b[1;32mIn[34], line 9\u001b[0m\n\u001b[0;32m      5\u001b[0m inner_circle \u001b[38;5;241m=\u001b[39m circle_4\n\u001b[0;32m      7\u001b[0m \u001b[38;5;28mprint\u001b[39m(shapely\u001b[38;5;241m.\u001b[39mrelate(circle_with_hole, inner_circle))\n\u001b[1;32m----> 9\u001b[0m interior \u001b[38;5;241m=\u001b[39m shapely\u001b[38;5;241m.\u001b[39mPolygon(circle_with_hole\u001b[38;5;241m.\u001b[39mgeoms[\u001b[38;5;241m0\u001b[39m]\u001b[38;5;241m.\u001b[39minteriors[\u001b[38;5;241m0\u001b[39m])\n\u001b[0;32m     10\u001b[0m \u001b[38;5;28mprint\u001b[39m(shapely\u001b[38;5;241m.\u001b[39mrelate(interior, inner_circle))\n\u001b[0;32m     11\u001b[0m shapely\u001b[38;5;241m.\u001b[39munion(island_shape\u001b[38;5;241m.\u001b[39mboundary, island_border\u001b[38;5;241m.\u001b[39mboundary)\n",
      "\u001b[1;31mAttributeError\u001b[0m: 'Polygon' object has no attribute 'geoms'"
     ]
    }
   ],
   "source": [
    "circle_6 = shapely.Polygon(circle_points(6))\n",
    "circle_4 = shapely.Polygon(circle_points(4))\n",
    "circle_2 = shapely.Polygon(circle_points(2))\n",
    "circle_with_hole = shapely.difference(circle_6, circle_4)\n",
    "inner_circle = circle_4\n",
    "\n",
    "print(shapely.relate(circle_with_hole, inner_circle))\n",
    "\n",
    "interior = shapely.Polygon(circle_with_hole.geoms[0].interiors[0])\n",
    "print(shapely.relate(interior, inner_circle))\n",
    "shapely.union(island_shape.boundary, island_border.boundary)"
   ]
  },
  {
   "cell_type": "code",
   "execution_count": null,
   "metadata": {},
   "outputs": [
    {
     "data": {
      "image/svg+xml": [
       "<svg xmlns=\"http://www.w3.org/2000/svg\" xmlns:xlink=\"http://www.w3.org/1999/xlink\" width=\"100.0\" height=\"100.0\" viewBox=\"-3.24 -3.24 6.48 6.48\" preserveAspectRatio=\"xMinYMin meet\"><g transform=\"matrix(1,0,0,-1,0,0.0)\"><path fill-rule=\"evenodd\" fill=\"#66cc99\" stroke=\"#555555\" stroke-width=\"0.12960000000000002\" opacity=\"0.6\" d=\"M 3.0,3.0 L 3.0,-3.0 L -3.0,-3.0 L -3.0,3.0 L 3.0,3.0 z M 2.0,2.0 L -2.0,2.0 L -2.0,-2.0 L 2.0,-2.0 L 2.0,2.0 z\" /></g></svg>"
      ],
      "text/plain": [
       "<POLYGON ((3 3, 3 -3, -3 -3, -3 3, 3 3), (2 2, -2 2, -2 -2, 2 -2, 2 2))>"
      ]
     },
     "execution_count": 30,
     "metadata": {},
     "output_type": "execute_result"
    }
   ],
   "source": [
    "shapely.difference(poly_4.exterior,poly_2.contour)"
   ]
  },
  {
   "cell_type": "code",
   "execution_count": null,
   "metadata": {},
   "outputs": [],
   "source": [
    "relation_binary = relate_structs(slice_table, (1, 2))\n",
    "bin(relation_binary)"
   ]
  },
  {
   "cell_type": "code",
   "execution_count": null,
   "metadata": {},
   "outputs": [],
   "source": [
    "relation_binary = relate_structs(slice_table, (1, 6))\n",
    "bin(relation_binary)"
   ]
  },
  {
   "cell_type": "markdown",
   "metadata": {},
   "source": [
    "## Create slice index\n"
   ]
  },
  {
   "cell_type": "code",
   "execution_count": null,
   "metadata": {},
   "outputs": [],
   "source": [
    "slice_table = slice_data.index.to_frame()\n",
    "slice_table = slice_table['Slice Index'].unstack('ROI Num')\n",
    "contour_slices = slice_table.apply(slice_spacing)"
   ]
  },
  {
   "cell_type": "code",
   "execution_count": null,
   "metadata": {},
   "outputs": [],
   "source": [
    "def build_slice_table(contour_sets)->pd.DataFrame:\n",
    "    def form_table(slice_index):\n",
    "        slice_index.reset_index(inplace=True)\n",
    "        slice_index.sort_values('Slice', inplace=True)\n",
    "        slice_index.set_index(['Slice','StructureID'], inplace=True)\n",
    "        slice_table = slice_index.unstack()\n",
    "        slice_table.columns = slice_table.columns.droplevel()\n",
    "        return slice_table\n",
    "\n",
    "    slice_index = build_contour_index(contour_sets)\n",
    "    slice_table = form_table(slice_index)\n",
    "    contour_slices = slice_table.apply(slice_spacing)\n",
    "    return contour_slices"
   ]
  },
  {
   "cell_type": "code",
   "execution_count": null,
   "metadata": {},
   "outputs": [],
   "source": [
    "def build_contour_index(contour_sets: Dict[int, ContourSet])->pd.DataFrame:\n",
    "    '''Build an index of structures in a contour set.\n",
    "\n",
    "    The table columns contain the structure names, the ROI number, and the\n",
    "    slice positions where the contours for that structure are located.  There\n",
    "    is one row for each slice and structure on that slice.  Multiple contours\n",
    "    for a single structure on a given slice, have only one row in teh contour\n",
    "    index\n",
    "\n",
    "    Args:\n",
    "        contour_sets (Dict[int, RS_DICOM_Utilities.ContourSet]): A dictionary\n",
    "            of structure data.\n",
    "\n",
    "    Returns:\n",
    "        pd.DataFrame: An index of structures in a contour set indication which\n",
    "            slices contains contours for each structure.\n",
    "    '''\n",
    "    slice_ref = {}\n",
    "    name_ref = {}\n",
    "    for structure in contour_sets.values():\n",
    "        slice_ref[structure.roi_num] = list(structure.contours.keys())\n",
    "        name_ref[structure.roi_num] = structure.structure_id\n",
    "    slice_seq = pd.Series(slice_ref).explode()\n",
    "    slice_seq.name = 'Slice'\n",
    "    name_lookup = pd.Series(name_ref)\n",
    "    name_lookup.name = 'StructureID'\n",
    "    slice_lookup = pd.DataFrame(name_lookup).join(slice_seq, how='outer')\n",
    "    return slice_lookup"
   ]
  },
  {
   "cell_type": "markdown",
   "metadata": {},
   "source": [
    "ContourData: Table\n",
    "\tIndex: AutoInteger\n",
    "\tColumns:\n",
    "\t\tROI_Num,\n",
    "\t\tSliceIndex,\n",
    "\t\tArea,\n",
    "\t\tContour\n",
    "Generated by: Read Contour Data\n",
    "\n",
    "StructureData: Series:\n",
    "\tIndex: ROI_Num, SliceIndex\n",
    "\tValues: StructureSlice\n",
    "Generated by: Build StructureSet\n"
   ]
  },
  {
   "cell_type": "code",
   "execution_count": null,
   "metadata": {},
   "outputs": [],
   "source": [
    "box1_def = {\n",
    "        'struct_id': 'GTV',\n",
    "        'roi': 38,\n",
    "        'structure_type': 'GTV',\n",
    "        'structure_code': 'GTVp',\n",
    "        'structure_code_meaning': 'Primary Gross Tumor Volume',\n",
    "        'structure_code_scheme': '99VMS_STRUCTCODE',\n",
    "        'color': (255, 0, 0),\n",
    "        'volume': 8.03,\n",
    "        'length': 2.6,\n",
    "        'sup_slice': -0.4,\n",
    "        'inf_slice': -3,\n",
    "        'center_of_mass': (-5.36,  9.71, -1.63)\n",
    "        }\n",
    "\n",
    "structure_def = Structure(**box1_def)\n"
   ]
  },
  {
   "cell_type": "code",
   "execution_count": null,
   "metadata": {},
   "outputs": [],
   "source": [
    "structure_def = [\n",
    "    {\n",
    "        'struct_id': 'GTV',\n",
    "        'roi': 38,\n",
    "        'structure_type': 'GTV',\n",
    "        'structure_code': 'GTVp',\n",
    "        'structure_code_meaning': 'Primary Gross Tumor Volume',\n",
    "        'structure_code_scheme': '99VMS_STRUCTCODE',\n",
    "        'color': (255, 0, 0),\n",
    "        'volume': 8.03,\n",
    "        'length': 2.6,\n",
    "        'sup_slice': -0.4,\n",
    "        'inf_slice': -3,\n",
    "        'center_of_mass': (-5.36,  9.71, -1.63)\n",
    "        },{\n",
    "        'struct_id': 'CTV',\n",
    "        'roi': 24,\n",
    "        'structure_type': 'GTV',\n",
    "        'structure_code': 'ITV',\n",
    "        'structure_code_meaning': 'Internal Target Volume',\n",
    "        'structure_code_scheme': '99VMS_STRUCTCODE',\n",
    "        'color': (255, 255, 0),\n",
    "        'volume': 34.45,\n",
    "        'length': 3.6,\n",
    "        'sup_slice': 0,\n",
    "        'inf_slice': -3.6,\n",
    "        'center_of_mass': (-5.34,  9.79, -1.61)\n",
    "        },{\n",
    "        'struct_id': 'PTV',\n",
    "        'roi': 30,\n",
    "        'structure_type': 'PTV',\n",
    "        'structure_code': 'PTVp',\n",
    "        'structure_code_meaning': 'Primary Planning Target Volume',\n",
    "        'structure_code_scheme': '99VMS_STRUCTCODE',\n",
    "        'color': (0, 255, 255),\n",
    "        'volume': 74.649,\n",
    "        'length': 4.6,\n",
    "        'sup_slice': 0.6,\n",
    "        'inf_slice': -4.0,\n",
    "        'center_of_mass': (-5.36,  9.78, -1.59)\n",
    "        },{\n",
    "        'struct_id': 'eval PTV',\n",
    "        'roi': 41,\n",
    "        'structure_type': 'PTV',\n",
    "        'structure_code': 'PTVp',\n",
    "        'structure_code_meaning': 'Primary Planning Target Volume',\n",
    "        'structure_code_scheme': '99VMS_STRUCTCODE',\n",
    "        'color': (0, 255, 255),\n",
    "        'volume': 74.649,\n",
    "        'length': 4.6,\n",
    "        'sup_slice': 0.6,\n",
    "        'inf_slice': -4.0,\n",
    "        'center_of_mass': (-5.36,  9.78, -1.59)\n",
    "        },{\n",
    "        'struct_id': 'BODY',\n",
    "        'roi': 1,\n",
    "        'structure_type': 'EXTERNAL',\n",
    "        'structure_code': 'BODY',\n",
    "        'structure_code_meaning': 'Body',\n",
    "        'structure_code_scheme': '99VMS_STRUCTCODE',\n",
    "        'color': (0, 255, 0),\n",
    "        'volume': 28951.626,\n",
    "        'length': 33.8,\n",
    "        'sup_slice': 10.6,\n",
    "        'inf_slice': -23.2,\n",
    "        'center_of_mass': (-0.95,  9.73, -6.76)\n",
    "        },{\n",
    "        'struct_id': 'Lung L',\n",
    "        'roi': 26,\n",
    "        'structure_type': 'ORGAN',\n",
    "        'structure_code': '7310',\n",
    "        'structure_code_meaning': 'Left lung',\n",
    "        'structure_code_scheme': 'FMA',\n",
    "        'color': (224, 255, 255),\n",
    "        'volume': 1776,\n",
    "        'length': 24.2,\n",
    "        'sup_slice': 5.8,\n",
    "        'inf_slice': -18.4,\n",
    "        'center_of_mass': (7.08, 10.61, -6.28)\n",
    "        },{\n",
    "        'struct_id': 'Lung R',\n",
    "        'roi': 27,\n",
    "        'structure_type': 'ORGAN',\n",
    "        'structure_code': '7309',\n",
    "        'structure_code_meaning': 'Right lung',\n",
    "        'structure_code_scheme': 'FMA',\n",
    "        'color': (255, 218, 185),\n",
    "        'volume': 2556.676,\n",
    "        'length': 23.8,\n",
    "        'sup_slice': 6.6,\n",
    "        'inf_slice': -17.2,\n",
    "        'center_of_mass': (-8.09,  8.77, -5.57)\n",
    "        },{\n",
    "        'struct_id': 'Lung B',\n",
    "        'roi': 25,\n",
    "        'structure_type': 'ORGAN',\n",
    "        'structure_code': '68877',\n",
    "        'structure_code_meaning': 'Pair of lungs',\n",
    "        'structure_code_scheme': 'FMA',\n",
    "        'color': (218, 165, 32),\n",
    "        'volume': 4332.676,\n",
    "        'length': 25,\n",
    "        'sup_slice': 6.6,\n",
    "        'inf_slice': -18.4,\n",
    "        'center_of_mass': (-1.87,  9.52, -5.86)\n",
    "        },{\n",
    "        'struct_id': 'Skin',\n",
    "        'roi': 2,\n",
    "        'structure_type': 'ORGAN',\n",
    "        'structure_code': '7163',\n",
    "        'structure_code_meaning': 'Skin',\n",
    "        'structure_code_scheme': 'FMA',\n",
    "        'color': (240, 255, 240),\n",
    "        'volume': 1726.808,\n",
    "        'length': 33.8,\n",
    "        'sup_slice': 10.6,\n",
    "        'inf_slice': -23.2,\n",
    "        'center_of_mass': (-0.95,  9.73, -6.76),\n",
    "        'show': False\n",
    "        }\n",
    "    ]\n",
    "\n",
    "structure_list = []\n",
    "\n",
    "for node_dict in structure_def:\n",
    "    roi = node_dict['roi']\n",
    "    struct_id = node_dict['struct_id']\n",
    "    structure_ref = {'roi': roi, 'struct_id': struct_id,\n",
    "                     'Structure': Structure(**node_dict)}\n",
    "    structure_list.append(structure_ref)\n",
    "\n",
    "structure_table = pd.DataFrame(structure_list)\n",
    "structure_table.set_index('roi', inplace=True)"
   ]
  },
  {
   "cell_type": "code",
   "execution_count": null,
   "metadata": {},
   "outputs": [],
   "source": [
    "edge_def = [\n",
    "    {'structures': (1, 2),   'relationship': 'CONFINES',      'is_logical': False, 'show': True},\n",
    "    {'structures': (1, 25),  'relationship': 'CONTAINS',      'is_logical': True , 'show': True},\n",
    "    {'structures': (1, 27),  'relationship': 'CONTAINS',      'is_logical': True , 'show': False},\n",
    "    {'structures': (1, 26),  'relationship': 'CONTAINS',      'is_logical': True , 'show': False},\n",
    "    {'structures': (1, 30),  'relationship': 'CONTAINS',      'is_logical': True , 'show': True},\n",
    "    {'structures': (1, 41),  'relationship': 'CONTAINS',      'is_logical': True , 'show': False},\n",
    "    {'structures': (1, 24),  'relationship': 'CONTAINS',      'is_logical': True , 'show': False},\n",
    "    {'structures': (1, 38),  'relationship': 'CONTAINS',      'is_logical': True , 'show': False},\n",
    "    {'structures': (2, 25),  'relationship': 'DISJOINT',      'is_logical': False, 'show': True},\n",
    "    {'structures': (2, 27),  'relationship': 'DISJOINT',      'is_logical': False, 'show': False},\n",
    "    {'structures': (2, 26),  'relationship': 'DISJOINT',      'is_logical': False, 'show': False},\n",
    "    {'structures': (2, 30),  'relationship': 'SURROUNDS',     'is_logical': False, 'show': False},\n",
    "    {'structures': (2, 41),  'relationship': 'SURROUNDS',     'is_logical': True , 'show': True},\n",
    "    {'structures': (2, 24),  'relationship': 'SURROUNDS',     'is_logical': True , 'show': False},\n",
    "    {'structures': (2, 38),  'relationship': 'SURROUNDS',     'is_logical': True , 'show': False},\n",
    "    {'structures': (25, 27), 'relationship': 'CONTAINS',      'is_logical': False, 'show': True},\n",
    "    {'structures': (25, 26), 'relationship': 'CONTAINS',      'is_logical': False, 'show': True},\n",
    "    {'structures': (25, 30), 'relationship': 'OVERLAPS',      'is_logical': True , 'show': False},\n",
    "    {'structures': (25, 41), 'relationship': 'CONTAINS',      'is_logical': True , 'show': False},\n",
    "    {'structures': (25, 24), 'relationship': 'CONTAINS',      'is_logical': True , 'show': False},\n",
    "    {'structures': (25, 38), 'relationship': 'CONTAINS',      'is_logical': True , 'show': False},\n",
    "    {'structures': (27, 26), 'relationship': 'DISJOINT',      'is_logical': False, 'show': False},\n",
    "    {'structures': (27, 30), 'relationship': 'DISJOINT',      'is_logical': False, 'show': False},\n",
    "    {'structures': (27, 41), 'relationship': 'DISJOINT',      'is_logical': False, 'show': False},\n",
    "    {'structures': (27, 24), 'relationship': 'DISJOINT',      'is_logical': False, 'show': False},\n",
    "    {'structures': (27, 38), 'relationship': 'DISJOINT',      'is_logical': False, 'show': False},\n",
    "    {'structures': (26, 30), 'relationship': 'OVERLAPS',      'is_logical': False, 'show': True},\n",
    "    {'structures': (26, 41), 'relationship': 'INCORPORATES',  'is_logical': True , 'show': True},\n",
    "    {'structures': (26, 24), 'relationship': 'CONTAINS',      'is_logical': True , 'show': False},\n",
    "    {'structures': (26, 38), 'relationship': 'CONTAINS',      'is_logical': True , 'show': False},\n",
    "    {'structures': (30, 41), 'relationship': 'INCORPORATES',  'is_logical': False, 'show': True},\n",
    "    {'structures': (30, 24), 'relationship': 'CONTAINS',      'is_logical': True , 'show': True},\n",
    "    {'structures': (30, 38), 'relationship': 'CONTAINS',      'is_logical': True , 'show': True},\n",
    "    {'structures': (41, 24), 'relationship': 'CONTAINS',      'is_logical': False, 'show': True},\n",
    "    {'structures': (41, 38), 'relationship': 'CONTAINS',      'is_logical': True , 'show': True},\n",
    "    {'structures': (24, 38), 'relationship': 'CONTAINS',      'is_logical': False, 'show': True},\n",
    "    ]\n",
    "\n",
    "\n",
    "relationship_list = []\n",
    "\n",
    "for edge_dict in edge_def:\n",
    "    relationship = Relationship(**edge_dict)\n",
    "    relationship_type = edge_dict['relationship']\n",
    "    edge = list(edge_dict['structures']) + [relationship_type, relationship]\n",
    "    relationship_list.append(edge)\n",
    "relationship_table = pd.DataFrame(relationship_list)\n",
    "relationship_table.columns = ['ROI_1', 'ROI_2', 'Relationship Type',\n",
    "                              'Relationship']\n",
    "relationship_table.set_index(['ROI_1', 'ROI_2'], inplace=True)"
   ]
  }
 ],
 "metadata": {
  "kernelspec": {
   "display_name": "StructureRelations",
   "language": "python",
   "name": "python3"
  },
  "language_info": {
   "codemirror_mode": {
    "name": "ipython",
    "version": 3
   },
   "file_extension": ".py",
   "mimetype": "text/x-python",
   "name": "python",
   "nbconvert_exporter": "python",
   "pygments_lexer": "ipython3",
   "version": "3.11.9"
  }
 },
 "nbformat": 4,
 "nbformat_minor": 4
}
