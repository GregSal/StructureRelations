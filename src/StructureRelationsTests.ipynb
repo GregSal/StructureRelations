{
 "cells": [
  {
   "cell_type": "markdown",
   "metadata": {},
   "source": [
    "# Contour Tests"
   ]
  },
  {
   "cell_type": "code",
   "execution_count": 1,
   "metadata": {},
   "outputs": [],
   "source": [
    "# Type imports\n",
    "from typing import Any, Dict, List, Tuple\n",
    "\n",
    "# Standard Libraries\n",
    "from enum import Enum, auto\n",
    "from pathlib import Path\n",
    "from collections import Counter, defaultdict\n",
    "from dataclasses import dataclass, field, asdict\n",
    "from math import sqrt, pi, sin, cos, tan, radians\n",
    "from math import isnan\n",
    "from statistics import mean\n",
    "from itertools import zip_longest\n",
    "\n",
    "# Shared Packages\n",
    "import pandas as pd\n",
    "import numpy as np\n",
    "import xlwings as xw\n",
    "\n",
    "import pygraphviz as pgv\n",
    "import networkx as nx\n",
    "import matplotlib.pyplot as plt\n",
    "import shapely"
   ]
  },
  {
   "cell_type": "code",
   "execution_count": 2,
   "metadata": {},
   "outputs": [],
   "source": [
    "from utilities import *\n",
    "from types_and_classes import *"
   ]
  },
  {
   "cell_type": "code",
   "execution_count": 3,
   "metadata": {},
   "outputs": [],
   "source": [
    "%matplotlib inline"
   ]
  },
  {
   "cell_type": "markdown",
   "metadata": {},
   "source": [
    "# Fix `make_contour_slices` call"
   ]
  },
  {
   "cell_type": "markdown",
   "metadata": {},
   "source": [
    "### Make test structures"
   ]
  },
  {
   "cell_type": "code",
   "execution_count": 4,
   "metadata": {},
   "outputs": [],
   "source": [
    "# 6 cm x 6 cm box\n",
    "box6 = shapely.Polygon(box_points(6))\n",
    "slices_1 = make_contour_slices(roi_num=1, shape=box6, number_slices=5)\n",
    "\n",
    "# 4 cm x 4 cm box\n",
    "box4 = shapely.Polygon(box_points(4))\n",
    "slices_2 = make_contour_slices(roi_num=2, shape=box4, number_slices=5)\n",
    "\n",
    "# 6 cm x 6 cm box offset right by 3 cm\n",
    "offset_box6 = shapely.Polygon(box_points(6, offset_x=3))\n",
    "slices_3 = make_contour_slices(roi_num=3, shape=offset_box6, number_slices=5)\n",
    "\n",
    "# 6 cm x 6 cm box with 4cm x 4 cm hole\n",
    "box6 = shapely.Polygon(box_points(6))\n",
    "box4 = shapely.Polygon(box_points(4))\n",
    "slices = make_slice_list(5, start=0.2)\n",
    "slices_4a = make_contour_slices(roi_num=4, shape=box6, number_slices=5,\n",
    "                                offset_z=0.2)\n",
    "slices_4b = make_contour_slices(roi_num=4, shape=box4, number_slices=5,\n",
    "                                offset_z=0.2)\n",
    "\n",
    "# 2 2x2 boxes\n",
    "box2a = shapely.Polygon(box_points(2, offset_x=-3))\n",
    "box2b = shapely.Polygon(box_points(2, offset_x=3))\n",
    "slices_5a = make_contour_slices(roi_num=5, shape=box2a, number_slices=5)\n",
    "slices_5b = make_contour_slices(roi_num=5, shape=box2b, number_slices=5)\n",
    "\n",
    "# 2 cm x 2 cm box offset inf by 0.3 cm\n",
    "slices_6 = make_contour_slices(roi_num=6, shape=offset_box6, number_slices=5,\n",
    "                               offset_z=-0.3)"
   ]
  },
  {
   "cell_type": "code",
   "execution_count": 5,
   "metadata": {},
   "outputs": [],
   "source": [
    "# combine the slice data\n",
    "slice_data = pd.concat([slices_1, slices_2, slices_3, slices_4a, slices_4b,\n",
    "                        slices_5a, slices_5b, slices_6])\n",
    "# convert slice data into a table of slices and structures\n",
    "slice_table = make_slice_table(slice_data)"
   ]
  },
  {
   "cell_type": "code",
   "execution_count": 6,
   "metadata": {},
   "outputs": [
    {
     "name": "stdout",
     "output_type": "stream",
     "text": [
      "Relationship: Contains\n"
     ]
    }
   ],
   "source": [
    "relationship_1_2 = Relationship((1, 2), slice_table)\n",
    "print(relationship_1_2.relationship_type)"
   ]
  },
  {
   "cell_type": "code",
   "execution_count": 7,
   "metadata": {},
   "outputs": [
    {
     "name": "stdout",
     "output_type": "stream",
     "text": [
      "Relationship: Overlaps\n"
     ]
    }
   ],
   "source": [
    "relationship_1_2 = Relationship((1, 6), slice_table)\n",
    "print(relationship_1_2.relationship_type)"
   ]
  },
  {
   "cell_type": "code",
   "execution_count": 8,
   "metadata": {},
   "outputs": [
    {
     "name": "stdout",
     "output_type": "stream",
     "text": [
      "Relationship: Borders\n"
     ]
    }
   ],
   "source": [
    "relationship_1_2 = Relationship((4, 2), slice_table)\n",
    "print(relationship_1_2.relationship_type)"
   ]
  },
  {
   "cell_type": "markdown",
   "metadata": {},
   "source": [
    "#### Horizontal Cylinders\n",
    "\n",
    "![Horizontal Cylinders](./Images/FreeCAD%20Images/HorizontalCylinders.png)"
   ]
  },
  {
   "cell_type": "code",
   "execution_count": 9,
   "metadata": {},
   "outputs": [],
   "source": [
    "slice_spacing = 0.1\n",
    "# Body structure defines slices in use\n",
    "body = make_box(roi_num=0, width=6, length=6, height=8, offset_z=-4,\n",
    "                spacing=slice_spacing)\n",
    "\n",
    "cylinder2h = make_horizontal_cylinder(radius=2, length=5, spacing=slice_spacing,\n",
    "                                      roi_num=1)\n",
    "cylinder1h = make_horizontal_cylinder(radius=1, length=5, spacing=slice_spacing,\n",
    "                                      roi_num=2)\n",
    "# combine the contours\n",
    "slice_data = pd.concat([body, cylinder1h, cylinder2h])\n",
    "\n",
    "# convert contour slice data into a table of slices and structures\n",
    "slice_table = make_slice_table(slice_data, ignore_errors=True)\n"
   ]
  },
  {
   "cell_type": "code",
   "execution_count": 10,
   "metadata": {},
   "outputs": [
    {
     "name": "stdout",
     "output_type": "stream",
     "text": [
      "Relationship: Partition\n"
     ]
    }
   ],
   "source": [
    "structures = tuple([1, 2])\n",
    "relation = Relationship(structures, slice_table).relationship_type\n",
    "print(relation)\n"
   ]
  },
  {
   "cell_type": "markdown",
   "metadata": {},
   "source": [
    "# ERROR: for Vertical Concentric Cylinders getting relationship *Contains*.  \n",
    "- Should be *Partitions* if both cylinders end on the same slice  "
   ]
  },
  {
   "cell_type": "markdown",
   "metadata": {},
   "source": [
    " #### Vertical Concentric Cylinders\n",
    " \n",
    " ![Concentric Cylinders](./Images/FreeCAD%20Images/ConcentricCylinders.png)"
   ]
  },
  {
   "cell_type": "code",
   "execution_count": 11,
   "metadata": {},
   "outputs": [],
   "source": [
    "slice_spacing = 0.5\n",
    "# Body structure defines slices in use\n",
    "body = make_vertical_cylinder(roi_num=0, radius=20, length=30, offset_z=-15,\n",
    "                              spacing=slice_spacing)\n",
    "\n",
    "cylinder6 = make_vertical_cylinder(roi_num=1, radius=6, length=10,\n",
    "                                   spacing=slice_spacing)\n",
    "cylinder4 = make_vertical_cylinder(roi_num=2, radius=4, length=10,\n",
    "                                   spacing=slice_spacing)\n",
    "# combine the contours\n",
    "slice_data = pd.concat([body, cylinder6, cylinder4])\n",
    "\n",
    "# convert contour slice data into a table of slices and structures\n",
    "slice_table = make_slice_table(slice_data, ignore_errors=True)\n"
   ]
  },
  {
   "cell_type": "code",
   "execution_count": 12,
   "metadata": {},
   "outputs": [
    {
     "name": "stdout",
     "output_type": "stream",
     "text": [
      "Relationship: Contains\n"
     ]
    }
   ],
   "source": [
    "relationship_1_2 = Relationship((1, 2), slice_table)\n",
    "print(relationship_1_2.relationship_type)"
   ]
  }
 ],
 "metadata": {
  "kernelspec": {
   "display_name": "StructureRelations",
   "language": "python",
   "name": "python3"
  },
  "language_info": {
   "codemirror_mode": {
    "name": "ipython",
    "version": 3
   },
   "file_extension": ".py",
   "mimetype": "text/x-python",
   "name": "python",
   "nbconvert_exporter": "python",
   "pygments_lexer": "ipython3",
   "version": "3.11.9"
  }
 },
 "nbformat": 4,
 "nbformat_minor": 4
}
