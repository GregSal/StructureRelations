{
 "cells": [
  {
   "cell_type": "markdown",
   "metadata": {},
   "source": [
    "# Contour Tests"
   ]
  },
  {
   "cell_type": "code",
   "execution_count": 12,
   "metadata": {},
   "outputs": [],
   "source": [
    "# Type imports\n",
    "from typing import Any, Dict, List, Tuple\n",
    "\n",
    "# Standard Libraries\n",
    "from pathlib import Path\n",
    "from collections import Counter, defaultdict\n",
    "from dataclasses import dataclass, field, asdict\n",
    "from math import sqrt, pi, sin, cos, tan, radians\n",
    "from math import isnan\n",
    "from statistics import mean\n",
    "from itertools import zip_longest\n",
    "\n",
    "# Shared Packages\n",
    "import pandas as pd\n",
    "import numpy as np\n",
    "import xlwings as xw\n",
    "\n",
    "import pygraphviz as pgv\n",
    "import networkx as nx\n",
    "import matplotlib.pyplot as plt\n",
    "import shapely"
   ]
  },
  {
   "cell_type": "code",
   "execution_count": 13,
   "metadata": {},
   "outputs": [],
   "source": [
    "from types_and_classes import *"
   ]
  },
  {
   "cell_type": "code",
   "execution_count": 14,
   "metadata": {},
   "outputs": [],
   "source": [
    "%matplotlib inline"
   ]
  },
  {
   "cell_type": "markdown",
   "metadata": {},
   "source": [
    "## functions for creating contours"
   ]
  },
  {
   "cell_type": "code",
   "execution_count": 15,
   "metadata": {},
   "outputs": [],
   "source": [
    "\n",
    "def make_slice_table(slice_data: pd.DataFrame)->pd.DataFrame:\n",
    "    slice_table = slice_data.unstack('ROI Num')\n",
    "    slice_table.columns = slice_table.columns.droplevel()\n",
    "    return slice_table\n"
   ]
  },
  {
   "cell_type": "code",
   "execution_count": 16,
   "metadata": {},
   "outputs": [],
   "source": [
    "def slice_spacing(contour):\n",
    "    # Index is the slice position of all slices in the image set\n",
    "    # Columns are structure IDs\n",
    "    # Values are the distance (INF) to the next contour\n",
    "    inf = contour.dropna().index.min()\n",
    "    sup = contour.dropna().index.max()\n",
    "    contour_range = (contour.index <= sup) & (contour.index >= inf)\n",
    "    slices = contour.loc[contour_range].dropna().index.to_series()\n",
    "    gaps = slices.shift(-1) - slices\n",
    "    return gaps"
   ]
  },
  {
   "cell_type": "code",
   "execution_count": 17,
   "metadata": {},
   "outputs": [],
   "source": [
    "def c_type(obj):\n",
    "    if isinstance(obj, StructureSlice):\n",
    "        n = str(type(obj.contour))\n",
    "        s = n.replace('shapely.geometry.', '')\n",
    "    else:\n",
    "        s = str(type(obj))\n",
    "    s = s.replace('<class ', '')\n",
    "    s = s.replace('>', '')\n",
    "    return s"
   ]
  },
  {
   "cell_type": "markdown",
   "metadata": {},
   "source": [
    "### Make test structures"
   ]
  },
  {
   "cell_type": "code",
   "execution_count": 18,
   "metadata": {},
   "outputs": [],
   "source": [
    "# 6 cm x 6 cm box\n",
    "box6 = shapely.Polygon(box_points(6))\n",
    "slices = make_slice_list(5)\n",
    "slices_1 = make_contour_slices(1, slices, [box6])\n",
    "\n",
    "# 4 cm x 4 cm box\n",
    "box4 = shapely.Polygon(box_points(4))\n",
    "slices = make_slice_list(5)\n",
    "#slices = make_slice_list(5, start=0.2, spacing=0.2)\n",
    "slices_2 = make_contour_slices(2, slices, [box4])\n",
    "\n",
    "# 6 cm x 6 cm box offset right by 3 cm\n",
    "offset_box6 = shapely.Polygon(box_points(6, offset_x=3))\n",
    "slices = make_slice_list(5)\n",
    "#slices = make_slice_list(5, start=0.2, spacing=0.2)\n",
    "slices_3 = make_contour_slices(3, slices, [offset_box6])\n",
    "\n",
    "# 6 cm x 6 cm box with 4cm x 4 cm hole\n",
    "box6 = shapely.Polygon(box_points(6))\n",
    "box4 = shapely.Polygon(box_points(4))\n",
    "slices = make_slice_list(5, start=0.2)\n",
    "slices_4 = make_contour_slices(4, slices, [box6, box4])\n",
    "\n",
    "# 2 2x2 boxes\n",
    "box2a = shapely.Polygon(box_points(2, offset_x=-3))\n",
    "box2b = shapely.Polygon(box_points(2, offset_x=3))\n",
    "slices = make_slice_list(5)\n",
    "#slices = make_slice_list(5, start=0.2, spacing=0.2)\n",
    "slices_5 = make_contour_slices(5, slices, [box2a, box2b])\n",
    "\n",
    "# 2 cm x 2 cm box offset inf by 0.3 cm\n",
    "slices = make_slice_list(5, start=-0.3)\n",
    "slices_6 = make_contour_slices(6, slices, [offset_box6])\n"
   ]
  },
  {
   "cell_type": "code",
   "execution_count": 19,
   "metadata": {},
   "outputs": [],
   "source": [
    "# combine the slice data\n",
    "slice_data = pd.concat([slices_1, slices_2, slices_3, slices_4, slices_5,\n",
    "                        slices_6])\n",
    "# convert slice data into a table of slices and structures\n",
    "slice_table = make_slice_table(slice_data)"
   ]
  },
  {
   "cell_type": "code",
   "execution_count": 20,
   "metadata": {},
   "outputs": [
    {
     "name": "stdout",
     "output_type": "stream",
     "text": [
      "RelationshipType.CONTAINS\n"
     ]
    }
   ],
   "source": [
    "relationship_1_2 = Relationship(slice_table, (1, 2))\n",
    "print(relationship_1_2.relationship_type)"
   ]
  },
  {
   "cell_type": "code",
   "execution_count": 21,
   "metadata": {},
   "outputs": [
    {
     "name": "stdout",
     "output_type": "stream",
     "text": [
      "RelationshipType.OVERLAPS\n"
     ]
    }
   ],
   "source": [
    "relationship_1_2 = Relationship(slice_table, (1, 6))\n",
    "print(relationship_1_2.relationship_type)"
   ]
  },
  {
   "cell_type": "code",
   "execution_count": 22,
   "metadata": {},
   "outputs": [
    {
     "name": "stdout",
     "output_type": "stream",
     "text": [
      "RelationshipType.BORDERS\n"
     ]
    }
   ],
   "source": [
    "relationship_1_2 = Relationship(slice_table, (4, 2))\n",
    "print(relationship_1_2.relationship_type)"
   ]
  },
  {
   "cell_type": "markdown",
   "metadata": {},
   "source": [
    "# Done To Here"
   ]
  },
  {
   "cell_type": "markdown",
   "metadata": {},
   "source": [
    "## Create slice index\n"
   ]
  },
  {
   "cell_type": "code",
   "execution_count": null,
   "metadata": {},
   "outputs": [],
   "source": [
    "slice_table = slice_data.index.to_frame()\n",
    "slice_table = slice_table['Slice Index'].unstack('ROI Num')\n",
    "contour_slices = slice_table.apply(slice_spacing)"
   ]
  },
  {
   "cell_type": "code",
   "execution_count": null,
   "metadata": {},
   "outputs": [],
   "source": [
    "def build_slice_table(contour_sets)->pd.DataFrame:\n",
    "    def form_table(slice_index):\n",
    "        slice_index.reset_index(inplace=True)\n",
    "        slice_index.sort_values('Slice', inplace=True)\n",
    "        slice_index.set_index(['Slice','StructureID'], inplace=True)\n",
    "        slice_table = slice_index.unstack()\n",
    "        slice_table.columns = slice_table.columns.droplevel()\n",
    "        return slice_table\n",
    "\n",
    "    slice_index = build_contour_index(contour_sets)\n",
    "    slice_table = form_table(slice_index)\n",
    "    contour_slices = slice_table.apply(slice_spacing)\n",
    "    return contour_slices"
   ]
  },
  {
   "cell_type": "code",
   "execution_count": null,
   "metadata": {},
   "outputs": [],
   "source": [
    "def build_contour_index(contour_sets: Dict[int, ContourSet])->pd.DataFrame:\n",
    "    '''Build an index of structures in a contour set.\n",
    "\n",
    "    The table columns contain the structure names, the ROI number, and the\n",
    "    slice positions where the contours for that structure are located.  There\n",
    "    is one row for each slice and structure on that slice.  Multiple contours\n",
    "    for a single structure on a given slice, have only one row in teh contour\n",
    "    index\n",
    "\n",
    "    Args:\n",
    "        contour_sets (Dict[int, RS_DICOM_Utilities.ContourSet]): A dictionary\n",
    "            of structure data.\n",
    "\n",
    "    Returns:\n",
    "        pd.DataFrame: An index of structures in a contour set indication which\n",
    "            slices contains contours for each structure.\n",
    "    '''\n",
    "    slice_ref = {}\n",
    "    name_ref = {}\n",
    "    for structure in contour_sets.values():\n",
    "        slice_ref[structure.roi_num] = list(structure.contours.keys())\n",
    "        name_ref[structure.roi_num] = structure.structure_id\n",
    "    slice_seq = pd.Series(slice_ref).explode()\n",
    "    slice_seq.name = 'Slice'\n",
    "    name_lookup = pd.Series(name_ref)\n",
    "    name_lookup.name = 'StructureID'\n",
    "    slice_lookup = pd.DataFrame(name_lookup).join(slice_seq, how='outer')\n",
    "    return slice_lookup"
   ]
  },
  {
   "cell_type": "markdown",
   "metadata": {},
   "source": [
    "ContourData: Table\n",
    "\tIndex: AutoInteger\n",
    "\tColumns:\n",
    "\t\tROI_Num,\n",
    "\t\tSliceIndex,\n",
    "\t\tArea,\n",
    "\t\tContour\n",
    "Generated by: Read Contour Data\n",
    "\n",
    "StructureData: Series:\n",
    "\tIndex: ROI_Num, SliceIndex\n",
    "\tValues: StructureSlice\n",
    "Generated by: Build StructureSet\n"
   ]
  },
  {
   "cell_type": "code",
   "execution_count": null,
   "metadata": {},
   "outputs": [],
   "source": [
    "box1_def = {\n",
    "        'struct_id': 'GTV',\n",
    "        'roi': 38,\n",
    "        'structure_type': 'GTV',\n",
    "        'structure_code': 'GTVp',\n",
    "        'structure_code_meaning': 'Primary Gross Tumor Volume',\n",
    "        'structure_code_scheme': '99VMS_STRUCTCODE',\n",
    "        'color': (255, 0, 0),\n",
    "        'volume': 8.03,\n",
    "        'length': 2.6,\n",
    "        'sup_slice': -0.4,\n",
    "        'inf_slice': -3,\n",
    "        'center_of_mass': (-5.36,  9.71, -1.63)\n",
    "        }\n",
    "\n",
    "structure_def = Structure(**box1_def)\n"
   ]
  },
  {
   "cell_type": "code",
   "execution_count": null,
   "metadata": {},
   "outputs": [],
   "source": [
    "structure_def = [\n",
    "    {\n",
    "        'struct_id': 'GTV',\n",
    "        'roi': 38,\n",
    "        'structure_type': 'GTV',\n",
    "        'structure_code': 'GTVp',\n",
    "        'structure_code_meaning': 'Primary Gross Tumor Volume',\n",
    "        'structure_code_scheme': '99VMS_STRUCTCODE',\n",
    "        'color': (255, 0, 0),\n",
    "        'volume': 8.03,\n",
    "        'length': 2.6,\n",
    "        'sup_slice': -0.4,\n",
    "        'inf_slice': -3,\n",
    "        'center_of_mass': (-5.36,  9.71, -1.63)\n",
    "        },{\n",
    "        'struct_id': 'CTV',\n",
    "        'roi': 24,\n",
    "        'structure_type': 'GTV',\n",
    "        'structure_code': 'ITV',\n",
    "        'structure_code_meaning': 'Internal Target Volume',\n",
    "        'structure_code_scheme': '99VMS_STRUCTCODE',\n",
    "        'color': (255, 255, 0),\n",
    "        'volume': 34.45,\n",
    "        'length': 3.6,\n",
    "        'sup_slice': 0,\n",
    "        'inf_slice': -3.6,\n",
    "        'center_of_mass': (-5.34,  9.79, -1.61)\n",
    "        },{\n",
    "        'struct_id': 'PTV',\n",
    "        'roi': 30,\n",
    "        'structure_type': 'PTV',\n",
    "        'structure_code': 'PTVp',\n",
    "        'structure_code_meaning': 'Primary Planning Target Volume',\n",
    "        'structure_code_scheme': '99VMS_STRUCTCODE',\n",
    "        'color': (0, 255, 255),\n",
    "        'volume': 74.649,\n",
    "        'length': 4.6,\n",
    "        'sup_slice': 0.6,\n",
    "        'inf_slice': -4.0,\n",
    "        'center_of_mass': (-5.36,  9.78, -1.59)\n",
    "        },{\n",
    "        'struct_id': 'eval PTV',\n",
    "        'roi': 41,\n",
    "        'structure_type': 'PTV',\n",
    "        'structure_code': 'PTVp',\n",
    "        'structure_code_meaning': 'Primary Planning Target Volume',\n",
    "        'structure_code_scheme': '99VMS_STRUCTCODE',\n",
    "        'color': (0, 255, 255),\n",
    "        'volume': 74.649,\n",
    "        'length': 4.6,\n",
    "        'sup_slice': 0.6,\n",
    "        'inf_slice': -4.0,\n",
    "        'center_of_mass': (-5.36,  9.78, -1.59)\n",
    "        },{\n",
    "        'struct_id': 'BODY',\n",
    "        'roi': 1,\n",
    "        'structure_type': 'EXTERNAL',\n",
    "        'structure_code': 'BODY',\n",
    "        'structure_code_meaning': 'Body',\n",
    "        'structure_code_scheme': '99VMS_STRUCTCODE',\n",
    "        'color': (0, 255, 0),\n",
    "        'volume': 28951.626,\n",
    "        'length': 33.8,\n",
    "        'sup_slice': 10.6,\n",
    "        'inf_slice': -23.2,\n",
    "        'center_of_mass': (-0.95,  9.73, -6.76)\n",
    "        },{\n",
    "        'struct_id': 'Lung L',\n",
    "        'roi': 26,\n",
    "        'structure_type': 'ORGAN',\n",
    "        'structure_code': '7310',\n",
    "        'structure_code_meaning': 'Left lung',\n",
    "        'structure_code_scheme': 'FMA',\n",
    "        'color': (224, 255, 255),\n",
    "        'volume': 1776,\n",
    "        'length': 24.2,\n",
    "        'sup_slice': 5.8,\n",
    "        'inf_slice': -18.4,\n",
    "        'center_of_mass': (7.08, 10.61, -6.28)\n",
    "        },{\n",
    "        'struct_id': 'Lung R',\n",
    "        'roi': 27,\n",
    "        'structure_type': 'ORGAN',\n",
    "        'structure_code': '7309',\n",
    "        'structure_code_meaning': 'Right lung',\n",
    "        'structure_code_scheme': 'FMA',\n",
    "        'color': (255, 218, 185),\n",
    "        'volume': 2556.676,\n",
    "        'length': 23.8,\n",
    "        'sup_slice': 6.6,\n",
    "        'inf_slice': -17.2,\n",
    "        'center_of_mass': (-8.09,  8.77, -5.57)\n",
    "        },{\n",
    "        'struct_id': 'Lung B',\n",
    "        'roi': 25,\n",
    "        'structure_type': 'ORGAN',\n",
    "        'structure_code': '68877',\n",
    "        'structure_code_meaning': 'Pair of lungs',\n",
    "        'structure_code_scheme': 'FMA',\n",
    "        'color': (218, 165, 32),\n",
    "        'volume': 4332.676,\n",
    "        'length': 25,\n",
    "        'sup_slice': 6.6,\n",
    "        'inf_slice': -18.4,\n",
    "        'center_of_mass': (-1.87,  9.52, -5.86)\n",
    "        },{\n",
    "        'struct_id': 'Skin',\n",
    "        'roi': 2,\n",
    "        'structure_type': 'ORGAN',\n",
    "        'structure_code': '7163',\n",
    "        'structure_code_meaning': 'Skin',\n",
    "        'structure_code_scheme': 'FMA',\n",
    "        'color': (240, 255, 240),\n",
    "        'volume': 1726.808,\n",
    "        'length': 33.8,\n",
    "        'sup_slice': 10.6,\n",
    "        'inf_slice': -23.2,\n",
    "        'center_of_mass': (-0.95,  9.73, -6.76),\n",
    "        'show': False\n",
    "        }\n",
    "    ]\n",
    "\n",
    "structure_list = []\n",
    "\n",
    "for node_dict in structure_def:\n",
    "    roi = node_dict['roi']\n",
    "    struct_id = node_dict['struct_id']\n",
    "    structure_ref = {'roi': roi, 'struct_id': struct_id,\n",
    "                     'Structure': Structure(**node_dict)}\n",
    "    structure_list.append(structure_ref)\n",
    "\n",
    "structure_table = pd.DataFrame(structure_list)\n",
    "structure_table.set_index('roi', inplace=True)"
   ]
  },
  {
   "cell_type": "code",
   "execution_count": null,
   "metadata": {},
   "outputs": [],
   "source": [
    "edge_def = [\n",
    "    {'structures': (1, 2),   'relationship': 'CONFINES',      'is_logical': False, 'show': True},\n",
    "    {'structures': (1, 25),  'relationship': 'CONTAINS',      'is_logical': True , 'show': True},\n",
    "    {'structures': (1, 27),  'relationship': 'CONTAINS',      'is_logical': True , 'show': False},\n",
    "    {'structures': (1, 26),  'relationship': 'CONTAINS',      'is_logical': True , 'show': False},\n",
    "    {'structures': (1, 30),  'relationship': 'CONTAINS',      'is_logical': True , 'show': True},\n",
    "    {'structures': (1, 41),  'relationship': 'CONTAINS',      'is_logical': True , 'show': False},\n",
    "    {'structures': (1, 24),  'relationship': 'CONTAINS',      'is_logical': True , 'show': False},\n",
    "    {'structures': (1, 38),  'relationship': 'CONTAINS',      'is_logical': True , 'show': False},\n",
    "    {'structures': (2, 25),  'relationship': 'DISJOINT',      'is_logical': False, 'show': True},\n",
    "    {'structures': (2, 27),  'relationship': 'DISJOINT',      'is_logical': False, 'show': False},\n",
    "    {'structures': (2, 26),  'relationship': 'DISJOINT',      'is_logical': False, 'show': False},\n",
    "    {'structures': (2, 30),  'relationship': 'SURROUNDS',     'is_logical': False, 'show': False},\n",
    "    {'structures': (2, 41),  'relationship': 'SURROUNDS',     'is_logical': True , 'show': True},\n",
    "    {'structures': (2, 24),  'relationship': 'SURROUNDS',     'is_logical': True , 'show': False},\n",
    "    {'structures': (2, 38),  'relationship': 'SURROUNDS',     'is_logical': True , 'show': False},\n",
    "    {'structures': (25, 27), 'relationship': 'CONTAINS',      'is_logical': False, 'show': True},\n",
    "    {'structures': (25, 26), 'relationship': 'CONTAINS',      'is_logical': False, 'show': True},\n",
    "    {'structures': (25, 30), 'relationship': 'OVERLAPS',      'is_logical': True , 'show': False},\n",
    "    {'structures': (25, 41), 'relationship': 'CONTAINS',      'is_logical': True , 'show': False},\n",
    "    {'structures': (25, 24), 'relationship': 'CONTAINS',      'is_logical': True , 'show': False},\n",
    "    {'structures': (25, 38), 'relationship': 'CONTAINS',      'is_logical': True , 'show': False},\n",
    "    {'structures': (27, 26), 'relationship': 'DISJOINT',      'is_logical': False, 'show': False},\n",
    "    {'structures': (27, 30), 'relationship': 'DISJOINT',      'is_logical': False, 'show': False},\n",
    "    {'structures': (27, 41), 'relationship': 'DISJOINT',      'is_logical': False, 'show': False},\n",
    "    {'structures': (27, 24), 'relationship': 'DISJOINT',      'is_logical': False, 'show': False},\n",
    "    {'structures': (27, 38), 'relationship': 'DISJOINT',      'is_logical': False, 'show': False},\n",
    "    {'structures': (26, 30), 'relationship': 'OVERLAPS',      'is_logical': False, 'show': True},\n",
    "    {'structures': (26, 41), 'relationship': 'INCORPORATES',  'is_logical': True , 'show': True},\n",
    "    {'structures': (26, 24), 'relationship': 'CONTAINS',      'is_logical': True , 'show': False},\n",
    "    {'structures': (26, 38), 'relationship': 'CONTAINS',      'is_logical': True , 'show': False},\n",
    "    {'structures': (30, 41), 'relationship': 'INCORPORATES',  'is_logical': False, 'show': True},\n",
    "    {'structures': (30, 24), 'relationship': 'CONTAINS',      'is_logical': True , 'show': True},\n",
    "    {'structures': (30, 38), 'relationship': 'CONTAINS',      'is_logical': True , 'show': True},\n",
    "    {'structures': (41, 24), 'relationship': 'CONTAINS',      'is_logical': False, 'show': True},\n",
    "    {'structures': (41, 38), 'relationship': 'CONTAINS',      'is_logical': True , 'show': True},\n",
    "    {'structures': (24, 38), 'relationship': 'CONTAINS',      'is_logical': False, 'show': True},\n",
    "    ]\n",
    "\n",
    "\n",
    "relationship_list = []\n",
    "\n",
    "for edge_dict in edge_def:\n",
    "    relationship = Relationship(**edge_dict)\n",
    "    relationship_type = edge_dict['relationship']\n",
    "    edge = list(edge_dict['structures']) + [relationship_type, relationship]\n",
    "    relationship_list.append(edge)\n",
    "relationship_table = pd.DataFrame(relationship_list)\n",
    "relationship_table.columns = ['ROI_1', 'ROI_2', 'Relationship Type',\n",
    "                              'Relationship']\n",
    "relationship_table.set_index(['ROI_1', 'ROI_2'], inplace=True)"
   ]
  }
 ],
 "metadata": {
  "kernelspec": {
   "display_name": "StructureRelations",
   "language": "python",
   "name": "python3"
  },
  "language_info": {
   "codemirror_mode": {
    "name": "ipython",
    "version": 3
   },
   "file_extension": ".py",
   "mimetype": "text/x-python",
   "name": "python",
   "nbconvert_exporter": "python",
   "pygments_lexer": "ipython3",
   "version": "3.11.9"
  }
 },
 "nbformat": 4,
 "nbformat_minor": 4
}
