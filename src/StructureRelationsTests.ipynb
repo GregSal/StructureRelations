{
 "cells": [
  {
   "cell_type": "markdown",
   "metadata": {},
   "source": [
    "# Contour Tests"
   ]
  },
  {
   "cell_type": "code",
   "execution_count": 1,
   "metadata": {},
   "outputs": [],
   "source": [
    "# Type imports\n",
    "from typing import Any, Dict, List, Tuple\n",
    "\n",
    "# Standard Libraries\n",
    "from enum import Enum, auto\n",
    "from pathlib import Path\n",
    "from collections import Counter, defaultdict\n",
    "from dataclasses import dataclass, field, asdict\n",
    "from math import sqrt, pi, sin, cos, tan, radians\n",
    "from math import isnan\n",
    "from statistics import mean\n",
    "from itertools import zip_longest\n",
    "\n",
    "# Shared Packages\n",
    "import pandas as pd\n",
    "import numpy as np\n",
    "import xlwings as xw\n",
    "\n",
    "import pygraphviz as pgv\n",
    "import networkx as nx\n",
    "import matplotlib.pyplot as plt\n",
    "import shapely"
   ]
  },
  {
   "cell_type": "code",
   "execution_count": 2,
   "metadata": {},
   "outputs": [],
   "source": [
    "from utilities import *\n",
    "from types_and_classes import *"
   ]
  },
  {
   "cell_type": "code",
   "execution_count": 3,
   "metadata": {},
   "outputs": [],
   "source": [
    "%matplotlib inline"
   ]
  },
  {
   "cell_type": "code",
   "execution_count": null,
   "metadata": {},
   "outputs": [],
   "source": [
    "def make_contour_slices(roi_num: ROI_Num, slices: List[SliceIndex],\n",
    "                        contours: List[Contour]):\n",
    "    data_list = []\n",
    "    for slice_idx in slices:\n",
    "        data_item = {\n",
    "            'ROI Num': roi_num,\n",
    "            'Slice Index': SliceIndex(slice_idx),\n",
    "            'Structure Slice': StructureSlice(contours)\n",
    "            }\n",
    "        data_list.append(data_item)\n",
    "    slice_data = pd.DataFrame(data_list)\n",
    "    slice_data.set_index(['ROI Num', 'Slice Index'], inplace=True)\n",
    "    return slice_data"
   ]
  },
  {
   "cell_type": "markdown",
   "metadata": {},
   "source": [
    "### Make test structures"
   ]
  },
  {
   "cell_type": "code",
   "execution_count": 7,
   "metadata": {},
   "outputs": [],
   "source": [
    "# 6 cm x 6 cm box\n",
    "box6 = shapely.Polygon(box_points(6))\n",
    "slices = make_slice_list(5)\n",
    "slices_1 = make_contour_slices(1, slices, [box6])\n",
    "\n",
    "# 4 cm x 4 cm box\n",
    "box4 = shapely.Polygon(box_points(4))\n",
    "slices = make_slice_list(5)\n",
    "#slices = make_slice_list(5, start=0.2, spacing=0.2)\n",
    "slices_2 = make_contour_slices(2, slices, [box4])\n",
    "\n",
    "# 6 cm x 6 cm box offset right by 3 cm\n",
    "offset_box6 = shapely.Polygon(box_points(6, offset_x=3))\n",
    "slices = make_slice_list(5)\n",
    "#slices = make_slice_list(5, start=0.2, spacing=0.2)\n",
    "slices_3 = make_contour_slices(3, slices, [offset_box6])\n",
    "\n",
    "# 6 cm x 6 cm box with 4cm x 4 cm hole\n",
    "box6 = shapely.Polygon(box_points(6))\n",
    "box4 = shapely.Polygon(box_points(4))\n",
    "slices = make_slice_list(5, start=0.2)\n",
    "slices_4 = make_contour_slices(4, slices, [box6, box4])\n",
    "\n",
    "# 2 2x2 boxes\n",
    "box2a = shapely.Polygon(box_points(2, offset_x=-3))\n",
    "box2b = shapely.Polygon(box_points(2, offset_x=3))\n",
    "slices = make_slice_list(5)\n",
    "#slices = make_slice_list(5, start=0.2, spacing=0.2)\n",
    "slices_5 = make_contour_slices(5, slices, [box2a, box2b])\n",
    "\n",
    "# 2 cm x 2 cm box offset inf by 0.3 cm\n",
    "slices = make_slice_list(5, start=-0.3)\n",
    "slices_6 = make_contour_slices(6, slices, [offset_box6])\n"
   ]
  },
  {
   "cell_type": "code",
   "execution_count": 8,
   "metadata": {},
   "outputs": [],
   "source": [
    "# combine the slice data\n",
    "slice_data = pd.concat([slices_1, slices_2, slices_3, slices_4, slices_5,\n",
    "                        slices_6])\n",
    "# convert slice data into a table of slices and structures\n",
    "slice_table = make_slice_table(slice_data)"
   ]
  },
  {
   "cell_type": "code",
   "execution_count": 9,
   "metadata": {},
   "outputs": [
    {
     "name": "stdout",
     "output_type": "stream",
     "text": [
      "RelationshipType.CONTAINS\n"
     ]
    }
   ],
   "source": [
    "relationship_1_2 = Relationship((1, 2), slice_table)\n",
    "print(relationship_1_2.relationship_type)"
   ]
  },
  {
   "cell_type": "code",
   "execution_count": 10,
   "metadata": {},
   "outputs": [
    {
     "name": "stdout",
     "output_type": "stream",
     "text": [
      "RelationshipType.OVERLAPS\n"
     ]
    }
   ],
   "source": [
    "relationship_1_2 = Relationship((1, 6), slice_table)\n",
    "print(relationship_1_2.relationship_type)"
   ]
  },
  {
   "cell_type": "code",
   "execution_count": 11,
   "metadata": {},
   "outputs": [
    {
     "name": "stdout",
     "output_type": "stream",
     "text": [
      "RelationshipType.BORDERS\n"
     ]
    }
   ],
   "source": [
    "relationship_1_2 = Relationship((4, 2), slice_table)\n",
    "print(relationship_1_2.relationship_type)"
   ]
  }
 ],
 "metadata": {
  "kernelspec": {
   "display_name": "StructureRelations",
   "language": "python",
   "name": "python3"
  },
  "language_info": {
   "codemirror_mode": {
    "name": "ipython",
    "version": 3
   },
   "file_extension": ".py",
   "mimetype": "text/x-python",
   "name": "python",
   "nbconvert_exporter": "python",
   "pygments_lexer": "ipython3",
   "version": "3.11.9"
  }
 },
 "nbformat": 4,
 "nbformat_minor": 4
}
