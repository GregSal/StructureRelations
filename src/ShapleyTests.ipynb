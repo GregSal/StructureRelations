{
 "cells": [
  {
   "cell_type": "markdown",
   "metadata": {},
   "source": [
    "# Shapley Tests"
   ]
  },
  {
   "cell_type": "markdown",
   "metadata": {},
   "source": [
    "## Setup"
   ]
  },
  {
   "cell_type": "markdown",
   "metadata": {},
   "source": [
    "### Imports"
   ]
  },
  {
   "cell_type": "code",
   "execution_count": 1,
   "metadata": {},
   "outputs": [],
   "source": [
    "# Type imports\n",
    "from typing import Any, Dict, Tuple, List\n",
    "\n",
    "# Standard Libraries\n",
    "from enum import Enum, auto\n",
    "from pathlib import Path\n",
    "from math import sqrt, pi, sin, cos, tan, radians\n",
    "from statistics import mean\n",
    "from itertools import zip_longest\n",
    "from dataclasses import dataclass, field, asdict\n",
    "\n",
    "# Shared Packages\n",
    "import numpy as np\n",
    "import pandas as pd\n",
    "import xlwings as xw\n",
    "import matplotlib.pyplot as plt\n",
    "\n",
    "#import PySimpleGUI as sg\n",
    "import pydicom\n",
    "\n",
    "import shapely\n",
    "#from shapely.plotting import plot_polygon, plot_points\n",
    "\n",
    "#import RS_DICOM_Utilities\n"
   ]
  },
  {
   "cell_type": "markdown",
   "metadata": {},
   "source": [
    "### Global Settings"
   ]
  },
  {
   "cell_type": "code",
   "execution_count": 2,
   "metadata": {},
   "outputs": [],
   "source": [
    "PRECISION = 3\n"
   ]
  },
  {
   "cell_type": "markdown",
   "metadata": {},
   "source": [
    "### Contour Creation Functions"
   ]
  },
  {
   "cell_type": "code",
   "execution_count": 3,
   "metadata": {},
   "outputs": [],
   "source": [
    "def circle_points(radius: float, offset_x: float = 0, offset_y: float = 0,\n",
    "                  num_points: int = 16, precision=3)->list[tuple[float, float]]:\n",
    "    deg_step = radians(360/num_points)\n",
    "    degree_points = np.arange(stop=radians(360), step=deg_step)\n",
    "    x_coord = np.array([round(radius*sin(d), precision) for d in degree_points])\n",
    "    y_coord = np.array([round(radius*cos(d), precision) for d in degree_points])\n",
    "\n",
    "    x_coord = x_coord + offset_x\n",
    "    y_coord = y_coord + offset_y\n",
    "    coords = [(x,y) for x,y in zip(x_coord,y_coord)]\n",
    "    return coords"
   ]
  },
  {
   "cell_type": "code",
   "execution_count": 4,
   "metadata": {},
   "outputs": [],
   "source": [
    "def box_points(width:float, height: float = None, offset_x: float = 0,\n",
    "               offset_y: float = 0) -> list[tuple[float, float]]:\n",
    "    x1_unit = width / 2\n",
    "    if not height:\n",
    "        y1_unit = x1_unit\n",
    "    else:\n",
    "        y1_unit = height / 2\n",
    "    coords = [\n",
    "        ( x1_unit + offset_x,  y1_unit + offset_y),\n",
    "        ( x1_unit + offset_x, -y1_unit + offset_y),\n",
    "        (-x1_unit + offset_x, -y1_unit + offset_y),\n",
    "        (-x1_unit + offset_x,  y1_unit + offset_y)\n",
    "        ]\n",
    "    return coords"
   ]
  },
  {
   "cell_type": "markdown",
   "metadata": {},
   "source": [
    "## StructureSlice Class"
   ]
  },
  {
   "cell_type": "code",
   "execution_count": 5,
   "metadata": {},
   "outputs": [],
   "source": [
    "class StructureSlice():\n",
    "    '''Assemble a shapely.MultiPolygon.\n",
    "\n",
    "    Iteratively create a shapely MultiPolygon from a list of shapely Polygons.\n",
    "    polygons that are contained within the already formed MultiPolygon are\n",
    "    treated as holes and subtracted from the MultiPolygon.  Polygons\n",
    "    overlapping with the already formed MultiPolygon are rejected. Polygons that\n",
    "    are disjoint with the already formed MultiPolygon are combined with a union.\n",
    "\n",
    "    Two custom properties exterior and hull are defined. Exterior returns the\n",
    "    equivalent with all holes filled in.  Hull returns a MultiPolygon that is\n",
    "    the convex hull surrounding the entire MultiPolygon.\n",
    "\n",
    "    Args:\n",
    "        contours (List[shapely.Polygon]): A list of polygons to be merged\n",
    "        into a single MultiPolygon.\n",
    "\n",
    "    Attributes:\n",
    "        contour (shapely.MultiPolygon): The MultiPolygon created by combining\n",
    "            the supplied list of polygons.\n",
    "        exterior (shapely.MultiPolygon): The contour MultiPolygon with all\n",
    "            holes filled in.\n",
    "        hull (shapely.MultiPolygon): The MultiPolygon that is the convex hull\n",
    "            surrounding the contour MultiPolygon.\n",
    "    '''\n",
    "    def __init__(self, contours: List[shapely.Polygon]) -> None:\n",
    "        '''Iteratively create a shapely MultiPolygon from a list of shapely\n",
    "        Polygons.\n",
    "\n",
    "        Polygons that are contained within the already formed MultiPolygon are\n",
    "        treated as holes and subtracted from the MultiPolygon.  Polygons\n",
    "        overlapping with the already formed MultiPolygon are rejected. Polygons\n",
    "        that are disjoint with the already formed MultiPolygon are combined.\n",
    "\n",
    "        Args:\n",
    "            contours (List[shapely.Polygon]): A list of polygons to be merged\n",
    "            into a single MultiPolygon.\n",
    "        '''\n",
    "        self.contour = shapely.MultiPolygon()\n",
    "        for contour in contours:\n",
    "            self.add_contour(contour)\n",
    "\n",
    "    def add_contour(self, contour: shapely.Polygon) -> None:\n",
    "        '''Add a shapely Polygon to the current MultiPolygon from a list of shapely\n",
    "        Polygons.\n",
    "\n",
    "        Polygons that are contained within the already formed MultiPolygon are\n",
    "        treated as holes and subtracted from the MultiPolygon.  Polygons\n",
    "        overlapping with the already formed MultiPolygon are rejected. Polygons\n",
    "        that are disjoint with the already formed MultiPolygon are combined.\n",
    "\n",
    "        Args:\n",
    "            contour (shapely.Polygon): The shapely Polygon to be added.\n",
    "                The shapely Polygon must either be contained in or be disjoint\n",
    "                with the existing MultiPolygon.\n",
    "\n",
    "        Raises:\n",
    "            ValueError: When the supplied shapely Polygon overlaps with the\n",
    "                existing MultiPolygon.\n",
    "        '''\n",
    "        # Check for non-overlapping structures\n",
    "        if self.contour.disjoint(contour):\n",
    "            # Combine non-overlapping structures\n",
    "            new_contours = self.contour.union(contour)\n",
    "        # Check for hole contour\n",
    "        elif self.contour.contains(contour):\n",
    "            # Subtract hole contour\n",
    "            new_contours = self.contour.difference(contour)\n",
    "        else:\n",
    "            raise ValueError('Cannot merge overlapping contours.')\n",
    "        # Enforce the MultiPolygon type for self.contour\n",
    "        if isinstance(new_contours, shapely.MultiPolygon):\n",
    "            self.contour = new_contours\n",
    "        else:\n",
    "            self.contour = shapely.MultiPolygon([new_contours])\n",
    "\n",
    "    @property\n",
    "    def exterior(self)-> shapely.MultiPolygon:\n",
    "        '''The solid exterior contour MultiPolygon.\n",
    "\n",
    "        Returns:\n",
    "            shapely.MultiPolygon: The contour MultiPolygon with all holes\n",
    "                filled in.\n",
    "        '''\n",
    "        solid = [shapely.Polygon(shapely.get_exterior_ring(poly))\n",
    "                 for poly in self.contour.geoms]\n",
    "        return shapely.MultiPolygon(solid)\n",
    "\n",
    "    @property\n",
    "    def hull(self)-> shapely.MultiPolygon:\n",
    "        '''A bounding contour generated from the entire contour MultiPolygon.\n",
    "\n",
    "        A convex hull can be pictures as an elastic band stretched around the\n",
    "        external contour.\n",
    "\n",
    "        Returns:\n",
    "            shapely.MultiPolygon: The bounding contour for the entire contour\n",
    "                MultiPolygon.\n",
    "        '''\n",
    "        hull = shapely.convex_hull(self.contour)\n",
    "        return shapely.MultiPolygon([hull])"
   ]
  },
  {
   "cell_type": "markdown",
   "metadata": {},
   "source": [
    "### Testing the StructureSlice Class"
   ]
  },
  {
   "cell_type": "code",
   "execution_count": 6,
   "metadata": {},
   "outputs": [
    {
     "data": {
      "image/svg+xml": [
       "<svg xmlns=\"http://www.w3.org/2000/svg\" xmlns:xlink=\"http://www.w3.org/1999/xlink\" width=\"100.0\" height=\"100.0\" viewBox=\"-3.24 -3.24 6.48 6.48\" preserveAspectRatio=\"xMinYMin meet\"><g transform=\"matrix(1,0,0,-1,0,0.0)\"><g><path fill-rule=\"evenodd\" fill=\"#66cc99\" stroke=\"#555555\" stroke-width=\"0.12960000000000002\" opacity=\"0.6\" d=\"M 3.0,3.0 L 3.0,-3.0 L -3.0,-3.0 L -3.0,3.0 L 3.0,3.0 z\" /></g></g></svg>"
      ],
      "text/plain": [
       "<MULTIPOLYGON (((3 3, 3 -3, -3 -3, -3 3, 3 3)))>"
      ]
     },
     "execution_count": 6,
     "metadata": {},
     "output_type": "execute_result"
    }
   ],
   "source": [
    "box6 = shapely.Polygon(box_points(6))\n",
    "a = StructureSlice([box6])\n",
    "a.contour"
   ]
  },
  {
   "cell_type": "code",
   "execution_count": 7,
   "metadata": {},
   "outputs": [
    {
     "data": {
      "image/svg+xml": [
       "<svg xmlns=\"http://www.w3.org/2000/svg\" xmlns:xlink=\"http://www.w3.org/1999/xlink\" width=\"100.0\" height=\"100.0\" viewBox=\"-3.24 -3.24 6.48 6.48\" preserveAspectRatio=\"xMinYMin meet\"><g transform=\"matrix(1,0,0,-1,0,0.0)\"><g><path fill-rule=\"evenodd\" fill=\"#66cc99\" stroke=\"#555555\" stroke-width=\"0.12960000000000002\" opacity=\"0.6\" d=\"M 3.0,3.0 L 3.0,-3.0 L -3.0,-3.0 L -3.0,3.0 L 3.0,3.0 z M 2.0,2.0 L -2.0,2.0 L -2.0,-2.0 L 2.0,-2.0 L 2.0,2.0 z\" /></g></g></svg>"
      ],
      "text/plain": [
       "<MULTIPOLYGON (((3 3, 3 -3, -3 -3, -3 3, 3 3), (2 2, -2 2, -2 -2, 2 -2, 2 2)))>"
      ]
     },
     "execution_count": 7,
     "metadata": {},
     "output_type": "execute_result"
    }
   ],
   "source": [
    "box6 = shapely.Polygon(box_points(6))\n",
    "box4 = shapely.Polygon(box_points(4))\n",
    "a = StructureSlice([box6, box4])\n",
    "a.contour"
   ]
  },
  {
   "cell_type": "code",
   "execution_count": 8,
   "metadata": {},
   "outputs": [
    {
     "data": {
      "image/svg+xml": [
       "<svg xmlns=\"http://www.w3.org/2000/svg\" xmlns:xlink=\"http://www.w3.org/1999/xlink\" width=\"100.0\" height=\"100.0\" viewBox=\"-3.24 -3.24 6.48 6.48\" preserveAspectRatio=\"xMinYMin meet\"><g transform=\"matrix(1,0,0,-1,0,0.0)\"><g><path fill-rule=\"evenodd\" fill=\"#66cc99\" stroke=\"#555555\" stroke-width=\"0.12960000000000002\" opacity=\"0.6\" d=\"M 3.0,3.0 L 3.0,-3.0 L -3.0,-3.0 L -3.0,3.0 L 3.0,3.0 z\" /></g></g></svg>"
      ],
      "text/plain": [
       "<MULTIPOLYGON (((3 3, 3 -3, -3 -3, -3 3, 3 3)))>"
      ]
     },
     "execution_count": 8,
     "metadata": {},
     "output_type": "execute_result"
    }
   ],
   "source": [
    "a.exterior"
   ]
  },
  {
   "cell_type": "code",
   "execution_count": 9,
   "metadata": {},
   "outputs": [
    {
     "data": {
      "image/svg+xml": [
       "<svg xmlns=\"http://www.w3.org/2000/svg\" xmlns:xlink=\"http://www.w3.org/1999/xlink\" width=\"100.0\" height=\"100.0\" viewBox=\"-4.32 -1.32 8.64 2.64\" preserveAspectRatio=\"xMinYMin meet\"><g transform=\"matrix(1,0,0,-1,0,0.0)\"><g><path fill-rule=\"evenodd\" fill=\"#66cc99\" stroke=\"#555555\" stroke-width=\"0.1728\" opacity=\"0.6\" d=\"M -2.0,1.0 L -2.0,-1.0 L -4.0,-1.0 L -4.0,1.0 L -2.0,1.0 z\" /><path fill-rule=\"evenodd\" fill=\"#66cc99\" stroke=\"#555555\" stroke-width=\"0.1728\" opacity=\"0.6\" d=\"M 4.0,1.0 L 4.0,-1.0 L 2.0,-1.0 L 2.0,1.0 L 4.0,1.0 z\" /></g></g></svg>"
      ],
      "text/plain": [
       "<MULTIPOLYGON (((-2 1, -2 -1, -4 -1, -4 1, -2 1)), ((4 1, 4 -1, 2 -1, 2 1, 4...>"
      ]
     },
     "execution_count": 9,
     "metadata": {},
     "output_type": "execute_result"
    }
   ],
   "source": [
    "# 2 2x2 boxes\n",
    "box2a = shapely.Polygon(box_points(2, offset_x=-3))\n",
    "box2b = shapely.Polygon(box_points(2, offset_x=3))\n",
    "a = StructureSlice([box2a, box2b])\n",
    "a.contour"
   ]
  },
  {
   "cell_type": "code",
   "execution_count": 10,
   "metadata": {},
   "outputs": [
    {
     "data": {
      "image/svg+xml": [
       "<svg xmlns=\"http://www.w3.org/2000/svg\" xmlns:xlink=\"http://www.w3.org/1999/xlink\" width=\"100.0\" height=\"100.0\" viewBox=\"-4.32 -1.32 8.64 2.64\" preserveAspectRatio=\"xMinYMin meet\"><g transform=\"matrix(1,0,0,-1,0,0.0)\"><g><path fill-rule=\"evenodd\" fill=\"#66cc99\" stroke=\"#555555\" stroke-width=\"0.1728\" opacity=\"0.6\" d=\"M -4.0,-1.0 L -4.0,1.0 L 4.0,1.0 L 4.0,-1.0 L -4.0,-1.0 z\" /></g></g></svg>"
      ],
      "text/plain": [
       "<MULTIPOLYGON (((-4 -1, -4 1, 4 1, 4 -1, -4 -1)))>"
      ]
     },
     "execution_count": 10,
     "metadata": {},
     "output_type": "execute_result"
    }
   ],
   "source": [
    "a.hull"
   ]
  },
  {
   "cell_type": "code",
   "execution_count": 11,
   "metadata": {},
   "outputs": [
    {
     "name": "stdout",
     "output_type": "stream",
     "text": [
      "Cannot merge overlapping contours.\n"
     ]
    }
   ],
   "source": [
    "### Simple overlap\n",
    "box6 = shapely.Polygon(box_points(6))\n",
    "offset_box6 = shapely.Polygon(box_points(6,offset_x=3))\n",
    "try:\n",
    "    StructureSlice([box6, offset_box6])\n",
    "except ValueError as err:\n",
    "    print(err)"
   ]
  },
  {
   "cell_type": "code",
   "execution_count": 12,
   "metadata": {},
   "outputs": [
    {
     "name": "stdout",
     "output_type": "stream",
     "text": [
      "Cannot merge overlapping contours.\n"
     ]
    }
   ],
   "source": [
    "# Inverted order\n",
    "box6 = shapely.Polygon(box_points(6))\n",
    "box4 = shapely.Polygon(box_points(4))\n",
    "try:\n",
    "    StructureSlice([box4, box6])\n",
    "except ValueError as err:\n",
    "    print(err)"
   ]
  },
  {
   "cell_type": "markdown",
   "metadata": {},
   "source": [
    "## Relationship Functions"
   ]
  },
  {
   "cell_type": "markdown",
   "metadata": {},
   "source": [
    "### Relationship Binary string"
   ]
  },
  {
   "cell_type": "code",
   "execution_count": 13,
   "metadata": {},
   "outputs": [],
   "source": [
    "def compare(mpoly1: shapely.MultiPolygon,\n",
    "            mpoly2: shapely.MultiPolygon)->str:\n",
    "    '''Get the DE-9IM relationship string for two contours\n",
    "\n",
    "    The relationship string is converted to binary format, where 'F'\n",
    "    is '0' and '1' or '2' is '1'.\n",
    "\n",
    "    Args:\n",
    "        mpoly1 (shapely.MultiPolygon): All contours for a structure on\n",
    "            a single slice.\n",
    "        mpoly2 (shapely.MultiPolygon): All contours for a second\n",
    "            structure on the same slice.\n",
    "\n",
    "    Returns:\n",
    "        str: A length 9 string '1's and '0's reflecting the DE-9IM\n",
    "            relationship between the supplied contours.\n",
    "    '''\n",
    "    relation_str = shapely.relate(mpoly1, mpoly2)\n",
    "    # Convert relationship string in the form '212FF1FF2' into a\n",
    "    # boolean string.\n",
    "    relation_bool = relation_str.replace('F','0').replace('2','1')\n",
    "    return relation_bool"
   ]
  },
  {
   "cell_type": "markdown",
   "metadata": {},
   "source": [
    "#### Testing compare function"
   ]
  },
  {
   "cell_type": "code",
   "execution_count": 14,
   "metadata": {},
   "outputs": [
    {
     "data": {
      "text/plain": [
       "'111001001'"
      ]
     },
     "execution_count": 14,
     "metadata": {},
     "output_type": "execute_result"
    }
   ],
   "source": [
    "box6 = shapely.MultiPolygon([shapely.Polygon(box_points(6))])\n",
    "box4 = shapely.MultiPolygon([shapely.Polygon(box_points(4))])\n",
    "compare(box6, box4)"
   ]
  },
  {
   "cell_type": "code",
   "execution_count": 15,
   "metadata": {},
   "outputs": [
    {
     "data": {
      "text/plain": [
       "'100010001'"
      ]
     },
     "execution_count": 15,
     "metadata": {},
     "output_type": "execute_result"
    }
   ],
   "source": [
    "box6 = shapely.MultiPolygon([shapely.Polygon(box_points(6))])\n",
    "compare(box6, box6)"
   ]
  },
  {
   "cell_type": "code",
   "execution_count": 16,
   "metadata": {},
   "outputs": [
    {
     "data": {
      "text/plain": [
       "'001001111'"
      ]
     },
     "execution_count": 16,
     "metadata": {},
     "output_type": "execute_result"
    }
   ],
   "source": [
    "# 2 2x2 boxes\n",
    "box2a = shapely.Polygon(box_points(2, offset_x=-3))\n",
    "box2b = shapely.Polygon(box_points(2, offset_x=3))\n",
    "compare(box2a, box2b)"
   ]
  },
  {
   "cell_type": "markdown",
   "metadata": {},
   "source": [
    "### Full 27-bit relationship binary"
   ]
  },
  {
   "cell_type": "code",
   "execution_count": 17,
   "metadata": {},
   "outputs": [],
   "source": [
    "def relate(contour1: StructureSlice, contour2: StructureSlice)->int:\n",
    "    '''Get the 27 bit relationship integer for two polygons,\n",
    "\n",
    "    When written in binary, the 27 bit relationship contains 3 9-bit\n",
    "    parts corresponding to DE-9IM relationships. The left-most 9 bits\n",
    "    are the relationship between the second structure's contour and the\n",
    "    first structure's convex hull polygon. The middle 9 bits are the\n",
    "    relationship between the second structure's contour and the first\n",
    "    structure's exterior polygon (i.e. with any holes filled). The\n",
    "    right-most 9 bits are the relationship between the second\n",
    "    structure's contour and the first structure's contour.\n",
    "\n",
    "    Args:\n",
    "        slice_structures (pd.DataFrame): A table of structures, where\n",
    "            the values are the contours with type StructureSlice. The\n",
    "            column index contains the roi numbers for the structures.\n",
    "            The row index contains the slice index distances.\n",
    "\n",
    "    Returns:\n",
    "        int: An integer corresponding to a 27 bit binary value\n",
    "            reflecting the combined DE-9IM relationship between the\n",
    "            second contour and the struct1 convex hull, exterior and\n",
    "            contour.\n",
    "    '''\n",
    "    # The tests below may be unnecessary.\n",
    "#    if not contour2:\n",
    "#        # If secondary_contour is empty, the primary_contour is outside of the\n",
    "#        # second structure.\n",
    "#        full_relation = '001001001' * 3\n",
    "#    elif not contour1:\n",
    "#        # If primary_contour is empty, the secondary_contour is outside of the\n",
    "#        # primary structure.\n",
    "#        full_relation = '000000111' * 3\n",
    "#    else:\n",
    "    primary_relation = compare(contour1.contour, contour2.contour)\n",
    "    external_relation = compare(contour1.exterior, contour2.contour)\n",
    "    convex_hull_relation = compare(contour1.hull, contour2.contour)\n",
    "    full_relation = ''.join([convex_hull_relation,\n",
    "                                external_relation,\n",
    "                                primary_relation])\n",
    "    binary_relation = int(full_relation, base=2)\n",
    "    return binary_relation"
   ]
  },
  {
   "cell_type": "markdown",
   "metadata": {},
   "source": [
    "#### Testing relate function"
   ]
  },
  {
   "cell_type": "code",
   "execution_count": 18,
   "metadata": {},
   "outputs": [
    {
     "data": {
      "text/plain": [
       "'0b111001001111001001111001001'"
      ]
     },
     "execution_count": 18,
     "metadata": {},
     "output_type": "execute_result"
    }
   ],
   "source": [
    "box6 = shapely.Polygon(box_points(6))\n",
    "box4 = shapely.Polygon(box_points(4))\n",
    "a = StructureSlice([box6])\n",
    "b = StructureSlice([box4])\n",
    "bin(relate(a,b))"
   ]
  },
  {
   "cell_type": "code",
   "execution_count": 19,
   "metadata": {},
   "outputs": [
    {
     "data": {
      "text/plain": [
       "'0b100010001100010001100010001'"
      ]
     },
     "execution_count": 19,
     "metadata": {},
     "output_type": "execute_result"
    }
   ],
   "source": [
    "box6 = shapely.Polygon(box_points(6))\n",
    "a = StructureSlice([box6])\n",
    "bin(relate(a,a))"
   ]
  },
  {
   "cell_type": "code",
   "execution_count": 20,
   "metadata": {},
   "outputs": [
    {
     "data": {
      "text/plain": [
       "'0b1001111001001111001001111'"
      ]
     },
     "execution_count": 20,
     "metadata": {},
     "output_type": "execute_result"
    }
   ],
   "source": [
    "# 2 2x2 boxes\n",
    "box2a = shapely.Polygon(box_points(2, offset_x=-3))\n",
    "box2b = shapely.Polygon(box_points(2, offset_x=3))\n",
    "a = StructureSlice([box2a])\n",
    "b = StructureSlice([box2b])\n",
    "bin(relate(a,b))"
   ]
  },
  {
   "cell_type": "markdown",
   "metadata": {},
   "source": [
    "## Named Relationship Identification"
   ]
  },
  {
   "cell_type": "markdown",
   "metadata": {},
   "source": [
    "### Relationship Type Definitions"
   ]
  },
  {
   "cell_type": "code",
   "execution_count": 21,
   "metadata": {},
   "outputs": [],
   "source": [
    "class RelationshipType(Enum):\n",
    "    '''The names for defines relationship types.'''\n",
    "    DISJOINT = auto()\n",
    "    SURROUNDS = auto()\n",
    "    SHELTERS = auto()\n",
    "    BORDERS = auto()\n",
    "    CONFINES = auto()\n",
    "    OVERLAPS = auto()\n",
    "    INCORPORATES = auto()\n",
    "    CONTAINS = auto()\n",
    "    EQUALS = auto()\n",
    "    LOGICAL = auto()\n",
    "    UNKNOWN = 999  # Used for initialization\n",
    "\n",
    "    def __bool__(self):\n",
    "        if self == self.UNKNOWN:\n",
    "            return False\n",
    "        return True\n"
   ]
  },
  {
   "cell_type": "markdown",
   "metadata": {},
   "source": [
    "#### Testing RelationshipType"
   ]
  },
  {
   "cell_type": "code",
   "execution_count": 22,
   "metadata": {},
   "outputs": [
    {
     "data": {
      "text/plain": [
       "False"
      ]
     },
     "execution_count": 22,
     "metadata": {},
     "output_type": "execute_result"
    }
   ],
   "source": [
    "bool(RelationshipType.UNKNOWN)"
   ]
  },
  {
   "cell_type": "code",
   "execution_count": 23,
   "metadata": {},
   "outputs": [
    {
     "data": {
      "text/plain": [
       "True"
      ]
     },
     "execution_count": 23,
     "metadata": {},
     "output_type": "execute_result"
    }
   ],
   "source": [
    "bool(RelationshipType.LOGICAL)"
   ]
  },
  {
   "cell_type": "markdown",
   "metadata": {},
   "source": [
    "### Relationship Test Class"
   ]
  },
  {
   "cell_type": "code",
   "execution_count": 24,
   "metadata": {},
   "outputs": [],
   "source": [
    "@dataclass()\n",
    "class RelationshipTest:\n",
    "    '''The test binaries used to identify a relationship type.\n",
    "\n",
    "    Each test definitions consists of 2 27-bit binaries, a mask and a value.\n",
    "    Each of the 27-bit binaries contain 3 9-bit parts associated with DE-9IM\n",
    "    relationships. The left-most 9 bits are associated with the relationship\n",
    "    between one structure's convex hull and another structure's contour. The\n",
    "    middle 9 bits are associated with the relationship between the first\n",
    "    structure's exterior polygon (i.e. with any holes filled) and the second\n",
    "    structure's contour. The right-most 9 bits are associated with the\n",
    "    relationship between first structure's contour and the second structure's\n",
    "    contour.\n",
    "\n",
    "    Named relationships are identified by logical patterns such as: T*T*F*FF*\n",
    "        The 'T' indicates the bit must be True.\n",
    "        The 'F' indicates the bit must be False.\n",
    "        The '*' indicates the bit can be either True or False.\n",
    "    Ane example of a complete relationship logic is:\n",
    "    Surrounds (One structure resides completely within a hole in another\n",
    "               structure):\n",
    "        Region Test =   FF*FF****  - The contours of the two structures have no\n",
    "                                     regions in common.\n",
    "        Exterior Test = T***F*F**  - With holes filled, one structure is within\n",
    "                                     the other.\n",
    "        Hull Test =     *********  - Together, the Region and Exterior Tests\n",
    "                                     sufficiently identifies the relationship,\n",
    "                                     so the Hull Test is not necessary.\n",
    "    The mask binary is a sequence of 0s and 1s with every '*' as a '0' and every\n",
    "    'T' or 'F' bit as a '1'.  The operation: relationship_integer & mask will\n",
    "    set all of the bit that are allowed to be either True or False to 0.\n",
    "\n",
    "    The value binary is a sequence of 0s and 1s with every 'T' as a '1' and\n",
    "    every '*' or 'F' bit as a '0'. The relationship is identified when value\n",
    "    binary is equal to the result of the `relationship_integer & mask`\n",
    "    operation.\n",
    "    '''\n",
    "    relation_type: RelationshipType = RelationshipType.UNKNOWN\n",
    "    mask: int = 0b000000000000000000000000000\n",
    "    value: int = 0b000000000000000000000000000\n",
    "\n",
    "    def __repr__(self) -> str:\n",
    "        rep_str = ''.join([\n",
    "            f'RelationshipTest({self.relation_type}\\n',\n",
    "            ' ' * 4,\n",
    "            f'mask =  0b{self.mask:0>27b}\\n',\n",
    "            ' ' * 4,\n",
    "            f'value = 0b{self.value:0>27b}'\n",
    "            ])\n",
    "        return rep_str\n",
    "\n",
    "    def test(self, relation: int)->RelationshipType:\n",
    "        masked_relation = relation & self.mask\n",
    "        if masked_relation == self.value:\n",
    "            return self.relation_type\n",
    "        return None\n"
   ]
  },
  {
   "cell_type": "markdown",
   "metadata": {},
   "source": [
    "### Relationship Test Definitions"
   ]
  },
  {
   "cell_type": "code",
   "execution_count": 25,
   "metadata": {},
   "outputs": [],
   "source": [
    "def identify_type(relation_binary) -> RelationshipType:\n",
    "    '''Applies a collection of definitions for named relationships to a supplied\n",
    "    relationship binary.\n",
    "\n",
    "    The defined relationships are:\n",
    "        Relationship      Region Test   Exterior Test   Hull Test\n",
    "        Disjoint          FF*FF****     FF*FF****       FF*FF****\n",
    "        Shelters          FF*FF****     FF*FF****       T***F*F**\n",
    "        Surrounds         FF*FF****     T***F*F**\n",
    "        Confines          FF*FT****     T***T****\n",
    "        Borders           FF*FT****     FF*FT****\n",
    "        Contains\t      T*T*F*FF*\n",
    "        Incorporates\t  T*T*T*FF*\n",
    "        Equals\t          T*F**FFF*\n",
    "        Overlaps          TTTT*TTT*\n",
    "\n",
    "    Args:\n",
    "        relation_binary (int): An integer generated from the combined DE-9IM\n",
    "            tests.\n",
    "\n",
    "    Returns:\n",
    "        RelationshipType: The identified RelationshipType if one of the tests\n",
    "            passes, otherwise RelationshipType.UNKNOWN.\n",
    "    '''\n",
    "    # Relationship Test Definitions\n",
    "    test_binaries = [\n",
    "        RelationshipTest(RelationshipType.OVERLAPS,\n",
    "            0b000000000000000000111101110,\n",
    "            0b000000000000000000111101110),\n",
    "        RelationshipTest(RelationshipType.EQUALS,\n",
    "            0b000000000000000000101001110,\n",
    "            0b000000000000000000100000000),\n",
    "        RelationshipTest(RelationshipType.INCORPORATES,\n",
    "            0b000000000000000000101010110,\n",
    "            0b000000000000000000101010000),\n",
    "        RelationshipTest(RelationshipType.CONTAINS,\n",
    "            0b000000000000000000101010110,\n",
    "            0b000000000000000000101000000),\n",
    "        RelationshipTest(RelationshipType.CONFINES,\n",
    "            0b000000000101010110110110000,\n",
    "            0b000000000101000000000010000),\n",
    "        RelationshipTest(RelationshipType.BORDERS,\n",
    "            0b000000000110110000110110000,\n",
    "            0b000000000000010000000010000),\n",
    "        RelationshipTest(RelationshipType.SHELTERS,\n",
    "            0b100010100110110000110110000,\n",
    "            0b000000000000000000100000000),\n",
    "        RelationshipTest(RelationshipType.SURROUNDS,\n",
    "            0b000000000100010110110110000,\n",
    "            0b000000000100000000000000000),\n",
    "        RelationshipTest(RelationshipType.DISJOINT,\n",
    "            0b110110000110110000110110000,\n",
    "            0b000000000000000000000000000)\n",
    "        ]\n",
    "    for rel_def in test_binaries:\n",
    "        result = rel_def.test(relation_binary)\n",
    "        if result:\n",
    "            return result\n",
    "    return RelationshipType.UNKNOWN\n",
    "\n",
    "\n",
    "def compare(mpoly1: shapely.MultiPolygon,\n",
    "            mpoly2: shapely.MultiPolygon)->str:\n",
    "    '''Get the DE-9IM relationship string for two contours\n",
    "\n",
    "    The relationship string is converted to binary format, where 'F'\n",
    "    is '0' and '1' or '2' is '1'.\n",
    "\n",
    "    Args:\n",
    "        mpoly1 (shapely.MultiPolygon): All contours for a structure on\n",
    "            a single slice.\n",
    "        mpoly2 (shapely.MultiPolygon): All contours for a second\n",
    "            structure on the same slice.\n",
    "\n",
    "    Returns:\n",
    "        str: A length 9 string '1's and '0's reflecting the DE-9IM\n",
    "            relationship between the supplied contours.\n",
    "    '''\n",
    "    relation_str = shapely.relate(mpoly1, mpoly2)\n",
    "    # Convert relationship string in the form '212FF1FF2' into a\n",
    "    # boolean string.\n",
    "    relation_bool = relation_str.replace('F','0').replace('2','1')\n",
    "    return relation_bool"
   ]
  },
  {
   "cell_type": "markdown",
   "metadata": {},
   "source": [
    "#### Testing identify_type function"
   ]
  },
  {
   "cell_type": "markdown",
   "metadata": {},
   "source": [
    "### Contains"
   ]
  },
  {
   "cell_type": "code",
   "execution_count": 26,
   "metadata": {},
   "outputs": [
    {
     "name": "stdout",
     "output_type": "stream",
     "text": [
      "RelationshipType.CONTAINS\n"
     ]
    }
   ],
   "source": [
    "box6 = shapely.Polygon(box_points(6))\n",
    "box4 = shapely.Polygon(box_points(4))\n",
    "a = StructureSlice([box6])\n",
    "b = StructureSlice([box4])\n",
    "print(identify_type(relate(a,b)))"
   ]
  },
  {
   "cell_type": "markdown",
   "metadata": {},
   "source": [
    "### Equals"
   ]
  },
  {
   "cell_type": "code",
   "execution_count": 27,
   "metadata": {},
   "outputs": [
    {
     "name": "stdout",
     "output_type": "stream",
     "text": [
      "RelationshipType.EQUALS\n"
     ]
    }
   ],
   "source": [
    "box6 = shapely.Polygon(box_points(6))\n",
    "a = StructureSlice([box6])\n",
    "print(identify_type(relate(a,a)))"
   ]
  },
  {
   "cell_type": "markdown",
   "metadata": {},
   "source": [
    "### Disjoint"
   ]
  },
  {
   "cell_type": "code",
   "execution_count": 28,
   "metadata": {},
   "outputs": [
    {
     "name": "stdout",
     "output_type": "stream",
     "text": [
      "RelationshipType.DISJOINT\n"
     ]
    }
   ],
   "source": [
    "# 2 2x2 boxes\n",
    "box2a = shapely.Polygon(box_points(2, offset_x=-3))\n",
    "box2b = shapely.Polygon(box_points(2, offset_x=3))\n",
    "a = StructureSlice([box2a])\n",
    "b = StructureSlice([box2b])\n",
    "print(identify_type(relate(a,b)))"
   ]
  },
  {
   "cell_type": "markdown",
   "metadata": {},
   "source": [
    "### Missing Polygon"
   ]
  },
  {
   "cell_type": "code",
   "execution_count": 29,
   "metadata": {},
   "outputs": [
    {
     "name": "stdout",
     "output_type": "stream",
     "text": [
      "RelationshipType.DISJOINT\n"
     ]
    }
   ],
   "source": [
    "box6 = shapely.Polygon(box_points(6))\n",
    "box0 = shapely.Polygon()\n",
    "a = StructureSlice([box6])\n",
    "b = StructureSlice([box0])\n",
    "print(identify_type(relate(a,b)))"
   ]
  },
  {
   "cell_type": "markdown",
   "metadata": {},
   "source": [
    "# Relationship Types and Definitions"
   ]
  },
  {
   "cell_type": "markdown",
   "metadata": {},
   "source": [
    "<ul style=\"font-weight: 900; font-size: 20px;\">\n",
    "<li style=\"color: blue;\">region a</li>\n",
    "<li style=\"color: green;\">region b</li>\n",
    "<li style=\"color: orange;\">intersection of a & b</li></ul>\n"
   ]
  },
  {
   "cell_type": "markdown",
   "metadata": {},
   "source": [
    "## Disjoint Relations\n"
   ]
  },
  {
   "attachments": {
    "image-2.png": {
     "image/png": "[encoded data removed]"
    },
    "image.png": {
     "image/png": "[encoded data removed]"
    }
   },
   "cell_type": "markdown",
   "metadata": {},
   "source": [
    "### Surrounds/ Embeds\n",
    "![image.png](attachment:image.png)![image-2.png](attachment:image-2.png)\n",
    "<style>\n",
    "    .matrix {position: relative; border-collapse: collapse;}\n",
    "    .matrix:before, .matrix:after {\n",
    "        content: \"\";\n",
    "        position: absolute;\n",
    "        top: 0;\n",
    "        border: 3px solid #000;\n",
    "        width: 10px;\n",
    "        height: 100%;\n",
    "    }\n",
    "    .matrix:before {\n",
    "        left: -6px;\n",
    "        border-right: 0;\n",
    "    }\n",
    "    .matrix:after {\n",
    "        right: -6px;\n",
    "        border-left: 0;\n",
    "    }\n",
    "    .relation {border-style: hidden; font-style: italic; font-weight: bold;padding: 0px 15px 0px 15px;}\n",
    "</style>\n",
    "<table>\n",
    "<thead><th>Region</th><th>Exterior</th><th>Hull</th></thead>\n",
    "<tbody>\n",
    "<tr>\n",
    "<td style=\"padding: 10px\"><table class=\"matrix\" style=\"border-style: hidden;\">        \n",
    "<tr class=\"relation\">\n",
    "    <td class=\"relation\">F</td><td class=\"relation\">F</td><td class=\"relation\">*</td></tr>\n",
    "<tr class=\"relation\">\n",
    "    <td class=\"relation\">F</td><td class=\"relation\">F</td><td class=\"relation\">*</td></tr>\n",
    "<tr class=\"relation\">\n",
    "    <td class=\"relation\">*</td><td class=\"relation\">*</td><td class=\"relation\">*</td></tr>\n",
    "</table>\n",
    "</tbody>\n"
   ]
  },
  {
   "cell_type": "markdown",
   "metadata": {},
   "source": [
    "## Reference binaries"
   ]
  },
  {
   "cell_type": "code",
   "execution_count": 4,
   "metadata": {},
   "outputs": [],
   "source": [
    "missing_other = 0b001001001\n",
    "missing_primary = 0b000000111\n",
    "\n",
    "contains_mask = 0b101010110\n",
    "contains_value = 0b101000000\n",
    "\n",
    "within_mask = 0b101011100\n",
    "within_value = 0b100000100\n"
   ]
  },
  {
   "cell_type": "markdown",
   "metadata": {},
   "source": [
    "### Contains"
   ]
  },
  {
   "cell_type": "code",
   "execution_count": 5,
   "metadata": {},
   "outputs": [
    {
     "name": "stdout",
     "output_type": "stream",
     "text": [
      "212FF1FF2\n",
      "0b111001001\n",
      "0b101000000\n",
      "Contains: True\n"
     ]
    },
    {
     "data": {
      "image/svg+xml": [
       "<svg xmlns=\"http://www.w3.org/2000/svg\" xmlns:xlink=\"http://www.w3.org/1999/xlink\" width=\"100.0\" height=\"100.0\" viewBox=\"-3.24 -3.24 6.48 6.48\" preserveAspectRatio=\"xMinYMin meet\"><g transform=\"matrix(1,0,0,-1,0,0.0)\"><g><polyline fill=\"none\" stroke=\"#66cc99\" stroke-width=\"0.12960000000000002\" points=\"3.0,3.0 3.0,-3.0 -3.0,-3.0 -3.0,3.0 3.0,3.0\" opacity=\"0.8\" /><polyline fill=\"none\" stroke=\"#66cc99\" stroke-width=\"0.12960000000000002\" points=\"2.0,2.0 2.0,-2.0 -2.0,-2.0 -2.0,2.0 2.0,2.0\" opacity=\"0.8\" /></g></g></svg>"
      ],
      "text/plain": [
       "<MULTILINESTRING ((3 3, 3 -3, -3 -3, -3 3, 3 3), (2 2, 2 -2, -2 -2, -2 2, 2 2))>"
      ]
     },
     "execution_count": 5,
     "metadata": {},
     "output_type": "execute_result"
    }
   ],
   "source": [
    "box6 = Polygon(box_points(6))\n",
    "box4 = Polygon(box_points(4))\n",
    "\n",
    "contains = shapely.relate(box6, box4)\n",
    "print(contains)\n",
    "\n",
    "# Make binary\n",
    "contains_str = contains.replace('F','0').replace('2','1')\n",
    "contains_bin = int(contains_str, base=2)\n",
    "\n",
    "# Slices with box6 but not box4\n",
    "combined_bin = contains_bin | missing_other\n",
    "print(bin(combined_bin))\n",
    "\n",
    "# OR of slices\n",
    "print(bin(combined_bin & contains_mask))\n",
    "print('Contains:', (combined_bin & contains_mask) == contains_value)\n",
    "\n",
    "shapely.union(box6.boundary, box4.boundary)"
   ]
  },
  {
   "cell_type": "markdown",
   "metadata": {},
   "source": [
    "### Within"
   ]
  },
  {
   "cell_type": "code",
   "execution_count": 6,
   "metadata": {},
   "outputs": [
    {
     "name": "stdout",
     "output_type": "stream",
     "text": [
      "2FF1FF212\n",
      "0b100100111\n",
      "0b100000100\n",
      "Within: True\n"
     ]
    },
    {
     "data": {
      "image/svg+xml": [
       "<svg xmlns=\"http://www.w3.org/2000/svg\" xmlns:xlink=\"http://www.w3.org/1999/xlink\" width=\"100.0\" height=\"100.0\" viewBox=\"-3.24 -3.24 6.48 6.48\" preserveAspectRatio=\"xMinYMin meet\"><g transform=\"matrix(1,0,0,-1,0,0.0)\"><g><polyline fill=\"none\" stroke=\"#66cc99\" stroke-width=\"0.12960000000000002\" points=\"3.0,3.0 3.0,-3.0 -3.0,-3.0 -3.0,3.0 3.0,3.0\" opacity=\"0.8\" /><polyline fill=\"none\" stroke=\"#66cc99\" stroke-width=\"0.12960000000000002\" points=\"2.0,2.0 2.0,-2.0 -2.0,-2.0 -2.0,2.0 2.0,2.0\" opacity=\"0.8\" /></g></g></svg>"
      ],
      "text/plain": [
       "<MULTILINESTRING ((3 3, 3 -3, -3 -3, -3 3, 3 3), (2 2, 2 -2, -2 -2, -2 2, 2 2))>"
      ]
     },
     "execution_count": 6,
     "metadata": {},
     "output_type": "execute_result"
    }
   ],
   "source": [
    "within =shapely.relate(box4, box6)\n",
    "print(within)\n",
    "\n",
    "\n",
    "# Make binary\n",
    "within_str = within.replace('F','0').replace('2','1')\n",
    "within_bin = int(within_str, base=2)\n",
    "\n",
    "# Slices with box6 but not box4\n",
    "combined_bin = within_bin | missing_primary\n",
    "print(bin(combined_bin))\n",
    "\n",
    "# OR of slices\n",
    "print(bin(combined_bin & within_mask))\n",
    "print('Within:', (combined_bin & within_mask) == within_value)\n",
    "\n",
    "shapely.union(box6.boundary, box4.boundary)"
   ]
  },
  {
   "cell_type": "markdown",
   "metadata": {},
   "source": [
    "### Equals"
   ]
  },
  {
   "cell_type": "code",
   "execution_count": 7,
   "metadata": {},
   "outputs": [
    {
     "name": "stdout",
     "output_type": "stream",
     "text": [
      "2FFF1FFF2\n"
     ]
    },
    {
     "data": {
      "image/svg+xml": [
       "<svg xmlns=\"http://www.w3.org/2000/svg\" xmlns:xlink=\"http://www.w3.org/1999/xlink\" width=\"100.0\" height=\"100.0\" viewBox=\"-3.24 -3.24 6.48 6.48\" preserveAspectRatio=\"xMinYMin meet\"><g transform=\"matrix(1,0,0,-1,0,0.0)\"><path fill-rule=\"evenodd\" fill=\"#66cc99\" stroke=\"#555555\" stroke-width=\"0.12960000000000002\" opacity=\"0.6\" d=\"M 3.0,3.0 L 3.0,-3.0 L -3.0,-3.0 L -3.0,3.0 L 3.0,3.0 z M 2.0,2.0 L -2.0,2.0 L -2.0,-2.0 L 2.0,-2.0 L 2.0,2.0 z\" /></g></svg>"
      ],
      "text/plain": [
       "<POLYGON ((3 3, 3 -3, -3 -3, -3 3, 3 3), (2 2, -2 2, -2 -2, 2 -2, 2 2))>"
      ]
     },
     "execution_count": 7,
     "metadata": {},
     "output_type": "execute_result"
    }
   ],
   "source": [
    "box6 = Polygon(box_points(6))\n",
    "box4 = Polygon(box_points(4))\n",
    "hollow_box = shapely.difference(box6, box4)\n",
    "print(shapely.relate(hollow_box, hollow_box))\n",
    "hollow_box"
   ]
  },
  {
   "cell_type": "code",
   "execution_count": 8,
   "metadata": {},
   "outputs": [],
   "source": [
    "fig = plt.figure(1, figsize=(2,1))\n",
    "ax = fig.add_subplot(121)\n",
    "ax.set_axis_off()\n",
    "ax.axis('equal')\n",
    "p = plot_polygon(hollow_box, ax=ax, add_points=True, color='red')"
   ]
  },
  {
   "cell_type": "markdown",
   "metadata": {},
   "source": [
    "### Simple overlap"
   ]
  },
  {
   "cell_type": "code",
   "execution_count": 9,
   "metadata": {},
   "outputs": [
    {
     "name": "stdout",
     "output_type": "stream",
     "text": [
      "212111212\n"
     ]
    },
    {
     "data": {
      "image/svg+xml": [
       "<svg xmlns=\"http://www.w3.org/2000/svg\" xmlns:xlink=\"http://www.w3.org/1999/xlink\" width=\"100.0\" height=\"100.0\" viewBox=\"-3.36 -3.36 9.72 6.72\" preserveAspectRatio=\"xMinYMin meet\"><g transform=\"matrix(1,0,0,-1,0,0.0)\"><g><polyline fill=\"none\" stroke=\"#66cc99\" stroke-width=\"0.19440000000000002\" points=\"3.0,3.0 3.0,-3.0\" opacity=\"0.8\" /><polyline fill=\"none\" stroke=\"#66cc99\" stroke-width=\"0.19440000000000002\" points=\"3.0,-3.0 0.0,-3.0\" opacity=\"0.8\" /><polyline fill=\"none\" stroke=\"#66cc99\" stroke-width=\"0.19440000000000002\" points=\"0.0,-3.0 -3.0,-3.0 -3.0,3.0 0.0,3.0\" opacity=\"0.8\" /><polyline fill=\"none\" stroke=\"#66cc99\" stroke-width=\"0.19440000000000002\" points=\"0.0,3.0 3.0,3.0\" opacity=\"0.8\" /><polyline fill=\"none\" stroke=\"#66cc99\" stroke-width=\"0.19440000000000002\" points=\"6.0,3.0 6.0,-3.0 3.0,-3.0\" opacity=\"0.8\" /><polyline fill=\"none\" stroke=\"#66cc99\" stroke-width=\"0.19440000000000002\" points=\"0.0,-3.0 0.0,3.0\" opacity=\"0.8\" /><polyline fill=\"none\" stroke=\"#66cc99\" stroke-width=\"0.19440000000000002\" points=\"3.0,3.0 6.0,3.0\" opacity=\"0.8\" /></g></g></svg>"
      ],
      "text/plain": [
       "<MULTILINESTRING ((3 3, 3 -3), (3 -3, 0 -3), (0 -3, -3 -3, -3 3, 0 3), (0 3,...>"
      ]
     },
     "execution_count": 9,
     "metadata": {},
     "output_type": "execute_result"
    }
   ],
   "source": [
    "box6 = Polygon(box_points(6))\n",
    "offset_box6 = Polygon(box_points(6,offset_x=3))\n",
    "print(shapely.relate(box6, offset_box6))\n",
    "\n",
    "shapely.union(box6.boundary, offset_box6.boundary)"
   ]
  },
  {
   "cell_type": "code",
   "execution_count": 10,
   "metadata": {},
   "outputs": [
    {
     "name": "stdout",
     "output_type": "stream",
     "text": [
      "212101212\n"
     ]
    },
    {
     "data": {
      "image/svg+xml": [
       "<svg xmlns=\"http://www.w3.org/2000/svg\" xmlns:xlink=\"http://www.w3.org/1999/xlink\" width=\"100.0\" height=\"100.0\" viewBox=\"-6.6 -6.6 16.2 13.2\" preserveAspectRatio=\"xMinYMin meet\"><g transform=\"matrix(1,0,0,-1,0,0.0)\"><g><polyline fill=\"none\" stroke=\"#66cc99\" stroke-width=\"0.324\" points=\"0.0,6.0 1.5,5.701437282229965\" opacity=\"0.8\" /><polyline fill=\"none\" stroke=\"#66cc99\" stroke-width=\"0.324\" points=\"1.5,5.701437282229965 2.296,5.543 4.243,4.243 5.543,2.296 6.0,0.0 5.543,-2.296 4.243,-4.243 2.296,-5.543 1.5,-5.701437282229965\" opacity=\"0.8\" /><polyline fill=\"none\" stroke=\"#66cc99\" stroke-width=\"0.324\" points=\"1.5,-5.701437282229965 0.0,-6.0 -2.296,-5.543 -4.243,-4.243 -5.543,-2.296 -6.0,0.0 -5.543,2.296 -4.243,4.243 -2.296,5.543 0.0,6.0\" opacity=\"0.8\" /><polyline fill=\"none\" stroke=\"#66cc99\" stroke-width=\"0.324\" points=\"3.0,6.0 5.295999999999999,5.543 7.243,4.243 8.543,2.296 9.0,0.0 8.543,-2.296 7.243,-4.243 5.295999999999999,-5.543 3.0,-6.0 1.5,-5.701437282229965\" opacity=\"0.8\" /><polyline fill=\"none\" stroke=\"#66cc99\" stroke-width=\"0.324\" points=\"1.5,-5.701437282229965 0.7040000000000002,-5.543 -1.2430000000000003,-4.243 -2.543,-2.296 -3.0,0.0 -2.543,2.296 -1.2430000000000003,4.243 0.7040000000000002,5.543 1.5,5.701437282229965\" opacity=\"0.8\" /><polyline fill=\"none\" stroke=\"#66cc99\" stroke-width=\"0.324\" points=\"1.5,5.701437282229965 3.0,6.0\" opacity=\"0.8\" /></g></g></svg>"
      ],
      "text/plain": [
       "<MULTILINESTRING ((0 6, 1.5 5.7), (1.5 5.7, 2.3 5.54, 4.24 4.24, 5.54 2.3, 6...>"
      ]
     },
     "execution_count": 10,
     "metadata": {},
     "output_type": "execute_result"
    }
   ],
   "source": [
    "circle_6 = Polygon(circle_points(6))\n",
    "offset_circle_6 = Polygon(circle_points(6,offset_x=3))\n",
    "print(shapely.relate(circle_6, offset_circle_6))\n",
    "\n",
    "shapely.union(circle_6.boundary, offset_circle_6.boundary)"
   ]
  },
  {
   "cell_type": "markdown",
   "metadata": {},
   "source": [
    "- *2121**1**1212* \n",
    "- > ***1*** because the boundaries overlap\n",
    "- *2121**0**1212* \n",
    "- > ***0*** because the boundaries only cross"
   ]
  },
  {
   "cell_type": "markdown",
   "metadata": {},
   "source": [
    "### Borders "
   ]
  },
  {
   "cell_type": "markdown",
   "metadata": {},
   "source": [
    "#### Borders Exterior "
   ]
  },
  {
   "cell_type": "code",
   "execution_count": 11,
   "metadata": {},
   "outputs": [],
   "source": [
    "box6_right = Polygon(box_points(6, offset_x=6))\n",
    "box4_right = Polygon(box_points(4, offset_x=6))\n",
    "hollow_box_right = shapely.difference(box6_right, box4_right)\n",
    "#hollow_box_right"
   ]
  },
  {
   "cell_type": "code",
   "execution_count": 12,
   "metadata": {},
   "outputs": [],
   "source": [
    "box4_inside = Polygon(box_points(2, 3.5, offset_x=-1))\n",
    "box2_inside = Polygon(box_points(1, 3, offset_x=-1))\n",
    "hollow_box_inside = shapely.difference(box4_inside, box2_inside)\n",
    "#hollow_box_inside"
   ]
  },
  {
   "cell_type": "code",
   "execution_count": 13,
   "metadata": {},
   "outputs": [
    {
     "data": {
      "image/svg+xml": [
       "<svg xmlns=\"http://www.w3.org/2000/svg\" xmlns:xlink=\"http://www.w3.org/1999/xlink\" width=\"100.0\" height=\"100.0\" viewBox=\"-3.48 -3.48 12.96 6.96\" preserveAspectRatio=\"xMinYMin meet\"><g transform=\"matrix(1,0,0,-1,0,0.0)\"><g><polyline fill=\"none\" stroke=\"#66cc99\" stroke-width=\"0.25920000000000004\" points=\"3.0,3.0 3.0,-3.0\" opacity=\"0.8\" /><polyline fill=\"none\" stroke=\"#66cc99\" stroke-width=\"0.25920000000000004\" points=\"3.0,-3.0 -3.0,-3.0 -3.0,3.0 3.0,3.0\" opacity=\"0.8\" /><polyline fill=\"none\" stroke=\"#66cc99\" stroke-width=\"0.25920000000000004\" points=\"2.0,2.0 -2.0,2.0 -2.0,-2.0 2.0,-2.0 2.0,2.0\" opacity=\"0.8\" /><polyline fill=\"none\" stroke=\"#66cc99\" stroke-width=\"0.25920000000000004\" points=\"9.0,3.0 9.0,-3.0 3.0,-3.0\" opacity=\"0.8\" /><polyline fill=\"none\" stroke=\"#66cc99\" stroke-width=\"0.25920000000000004\" points=\"3.0,3.0 9.0,3.0\" opacity=\"0.8\" /><polyline fill=\"none\" stroke=\"#66cc99\" stroke-width=\"0.25920000000000004\" points=\"8.0,2.0 4.0,2.0 4.0,-2.0 8.0,-2.0 8.0,2.0\" opacity=\"0.8\" /></g></g></svg>"
      ],
      "text/plain": [
       "<MULTILINESTRING ((3 3, 3 -3), (3 -3, -3 -3, -3 3, 3 3), (2 2, -2 2, -2 -2, ...>"
      ]
     },
     "execution_count": 13,
     "metadata": {},
     "output_type": "execute_result"
    }
   ],
   "source": [
    "shapely.relate(hollow_box, hollow_box_right)\n",
    "shapely.union(hollow_box.boundary, hollow_box_right.boundary)"
   ]
  },
  {
   "cell_type": "code",
   "execution_count": 14,
   "metadata": {},
   "outputs": [
    {
     "name": "stdout",
     "output_type": "stream",
     "text": [
      "FF2F11212\n"
     ]
    },
    {
     "data": {
      "image/svg+xml": [
       "<svg xmlns=\"http://www.w3.org/2000/svg\" xmlns:xlink=\"http://www.w3.org/1999/xlink\" width=\"100.0\" height=\"100.0\" viewBox=\"-3.48 -3.48 12.96 6.96\" preserveAspectRatio=\"xMinYMin meet\"><g transform=\"matrix(1,0,0,-1,0,0.0)\"><g><polyline fill=\"none\" stroke=\"#66cc99\" stroke-width=\"0.25920000000000004\" points=\"3.0,-3.0 -3.0,-3.0 -3.0,3.0 3.0,3.0\" opacity=\"0.8\" /><path fill-rule=\"evenodd\" fill=\"#66cc99\" stroke=\"#555555\" stroke-width=\"0.25920000000000004\" opacity=\"0.6\" d=\"M 3.0,-3.0 L 3.0,3.0 L 9.0,3.0 L 9.0,-3.0 L 3.0,-3.0 z M 8.0,2.0 L 4.0,2.0 L 4.0,-2.0 L 8.0,-2.0 L 8.0,2.0 z\" /></g></g></svg>"
      ],
      "text/plain": [
       "<GEOMETRYCOLLECTION (LINESTRING (3 -3, -3 -3, -3 3, 3 3), POLYGON ((3 -3, 3 ...>"
      ]
     },
     "execution_count": 14,
     "metadata": {},
     "output_type": "execute_result"
    }
   ],
   "source": [
    "shape = Polygon(hollow_box.exterior)\n",
    "print(shapely.relate(shape, hollow_box_right))\n",
    "shapely.union(hollow_box.exterior, hollow_box_right)\n"
   ]
  },
  {
   "cell_type": "code",
   "execution_count": 15,
   "metadata": {},
   "outputs": [
    {
     "name": "stdout",
     "output_type": "stream",
     "text": [
      "FF2FF1212\n"
     ]
    },
    {
     "data": {
      "image/svg+xml": [
       "<svg xmlns=\"http://www.w3.org/2000/svg\" xmlns:xlink=\"http://www.w3.org/1999/xlink\" width=\"100.0\" height=\"100.0\" viewBox=\"-2.44 -3.44 11.879999999999999 6.88\" preserveAspectRatio=\"xMinYMin meet\"><g transform=\"matrix(1,0,0,-1,0,0.0)\"><g><polyline fill=\"none\" stroke=\"#66cc99\" stroke-width=\"0.23759999999999998\" points=\"2.0,2.0 -2.0,2.0 -2.0,-2.0 2.0,-2.0 2.0,2.0\" opacity=\"0.8\" /><path fill-rule=\"evenodd\" fill=\"#66cc99\" stroke=\"#555555\" stroke-width=\"0.23759999999999998\" opacity=\"0.6\" d=\"M 9.0,3.0 L 9.0,-3.0 L 3.0,-3.0 L 3.0,3.0 L 9.0,3.0 z M 8.0,2.0 L 4.0,2.0 L 4.0,-2.0 L 8.0,-2.0 L 8.0,2.0 z\" /></g></g></svg>"
      ],
      "text/plain": [
       "<GEOMETRYCOLLECTION (LINEARRING (2 2, -2 2, -2 -2, 2 -2, 2 2), POLYGON ((9 3...>"
      ]
     },
     "execution_count": 15,
     "metadata": {},
     "output_type": "execute_result"
    }
   ],
   "source": [
    "shape = Polygon(hollow_box.interiors[0])\n",
    "print(shapely.relate(shape, hollow_box_right))\n",
    "shapely.union(hollow_box.interiors[0], hollow_box_right)\n"
   ]
  },
  {
   "cell_type": "markdown",
   "metadata": {},
   "source": [
    "#### Borders Interior "
   ]
  },
  {
   "cell_type": "code",
   "execution_count": 18,
   "metadata": {},
   "outputs": [
    {
     "name": "stdout",
     "output_type": "stream",
     "text": [
      "212F11FF2\n"
     ]
    }
   ],
   "source": [
    "shape = Polygon(hollow_box.interiors[0])\n",
    "print(shapely.relate(shape, hollow_box_inside))\n"
   ]
  },
  {
   "cell_type": "code",
   "execution_count": 19,
   "metadata": {},
   "outputs": [
    {
     "name": "stdout",
     "output_type": "stream",
     "text": [
      "212FF1FF2\n"
     ]
    },
    {
     "data": {
      "image/svg+xml": [
       "<svg xmlns=\"http://www.w3.org/2000/svg\" xmlns:xlink=\"http://www.w3.org/1999/xlink\" width=\"100.0\" height=\"100.0\" viewBox=\"-3.24 -3.24 6.48 6.48\" preserveAspectRatio=\"xMinYMin meet\"><g transform=\"matrix(1,0,0,-1,0,0.0)\"><g><polyline fill=\"none\" stroke=\"#66cc99\" stroke-width=\"0.12960000000000002\" points=\"0.0,1.75 0.0,-1.75 -2.0,-1.75\" opacity=\"0.8\" /><polyline fill=\"none\" stroke=\"#66cc99\" stroke-width=\"0.12960000000000002\" points=\"-2.0,1.75 0.0,1.75\" opacity=\"0.8\" /><polyline fill=\"none\" stroke=\"#66cc99\" stroke-width=\"0.12960000000000002\" points=\"-0.5,1.5 -1.5,1.5 -1.5,-1.5 -0.5,-1.5 -0.5,1.5\" opacity=\"0.8\" /><path fill-rule=\"evenodd\" fill=\"#66cc99\" stroke=\"#555555\" stroke-width=\"0.12960000000000002\" opacity=\"0.6\" d=\"M 3.0,3.0 L 3.0,-3.0 L -3.0,-3.0 L -3.0,3.0 L 3.0,3.0 z M 2.0,2.0 L -2.0,2.0 L -2.0,1.75 L -2.0,-1.75 L -2.0,-2.0 L 2.0,-2.0 L 2.0,2.0 z\" /></g></g></svg>"
      ],
      "text/plain": [
       "<GEOMETRYCOLLECTION (LINESTRING (0 1.75, 0 -1.75, -2 -1.75), LINESTRING (-2 ...>"
      ]
     },
     "execution_count": 19,
     "metadata": {},
     "output_type": "execute_result"
    }
   ],
   "source": [
    "print(shapely.relate(shapely.Polygon(shapely.get_exterior_ring(hollow_box)),\n",
    "                     hollow_box_inside))\n",
    "shapely.union(hollow_box, hollow_box_inside.boundary)\n"
   ]
  },
  {
   "cell_type": "code",
   "execution_count": null,
   "metadata": {},
   "outputs": [],
   "source": [
    "shapely.get_exterior_ring(poly)"
   ]
  },
  {
   "cell_type": "markdown",
   "metadata": {},
   "source": [
    "#### Filled Interior"
   ]
  },
  {
   "cell_type": "code",
   "execution_count": 14,
   "metadata": {},
   "outputs": [
    {
     "name": "stdout",
     "output_type": "stream",
     "text": [
      "FF2F112F2\n",
      "212F1FFF2\n"
     ]
    },
    {
     "data": {
      "image/svg+xml": [
       "<svg xmlns=\"http://www.w3.org/2000/svg\" xmlns:xlink=\"http://www.w3.org/1999/xlink\" width=\"100.0\" height=\"100.0\" viewBox=\"-6.48 -6.48 12.96 12.96\" preserveAspectRatio=\"xMinYMin meet\"><g transform=\"matrix(1,0,0,-1,0,0.0)\"><g><polyline fill=\"none\" stroke=\"#66cc99\" stroke-width=\"0.25920000000000004\" points=\"4.243,4.243 5.543,2.296 6.0,0.0 5.543,-2.296 4.243,-4.243 2.296,-5.543 0.0,-6.0 -2.296,-5.543 -4.243,-4.243 -5.543,-2.296 -6.0,0.0 -5.543,2.296 -4.243,4.243 -2.296,5.543 0.0,6.0 2.296,5.543 4.243,4.243\" opacity=\"0.8\" /><polyline fill=\"none\" stroke=\"#66cc99\" stroke-width=\"0.25920000000000004\" points=\"-2.828,2.828 -3.696,1.531\" opacity=\"0.8\" /><polyline fill=\"none\" stroke=\"#66cc99\" stroke-width=\"0.25920000000000004\" points=\"-3.696,1.531 -4.0,0.0\" opacity=\"0.8\" /><polyline fill=\"none\" stroke=\"#66cc99\" stroke-width=\"0.25920000000000004\" points=\"-4.0,0.0 -3.696,-1.531\" opacity=\"0.8\" /><polyline fill=\"none\" stroke=\"#66cc99\" stroke-width=\"0.25920000000000004\" points=\"-3.696,-1.531 -2.828,-2.828\" opacity=\"0.8\" /><polyline fill=\"none\" stroke=\"#66cc99\" stroke-width=\"0.25920000000000004\" points=\"-2.828,-2.828 -1.531,-3.696\" opacity=\"0.8\" /><polyline fill=\"none\" stroke=\"#66cc99\" stroke-width=\"0.25920000000000004\" points=\"-1.531,-3.696 0.0,-4.0\" opacity=\"0.8\" /><polyline fill=\"none\" stroke=\"#66cc99\" stroke-width=\"0.25920000000000004\" points=\"0.0,-4.0 1.531,-3.696\" opacity=\"0.8\" /><polyline fill=\"none\" stroke=\"#66cc99\" stroke-width=\"0.25920000000000004\" points=\"1.531,-3.696 2.828,-2.828\" opacity=\"0.8\" /><polyline fill=\"none\" stroke=\"#66cc99\" stroke-width=\"0.25920000000000004\" points=\"2.828,-2.828 3.696,-1.531\" opacity=\"0.8\" /><polyline fill=\"none\" stroke=\"#66cc99\" stroke-width=\"0.25920000000000004\" points=\"3.696,-1.531 4.0,0.0\" opacity=\"0.8\" /><polyline fill=\"none\" stroke=\"#66cc99\" stroke-width=\"0.25920000000000004\" points=\"4.0,0.0 3.696,1.531\" opacity=\"0.8\" /><polyline fill=\"none\" stroke=\"#66cc99\" stroke-width=\"0.25920000000000004\" points=\"3.696,1.531 2.828,2.828\" opacity=\"0.8\" /><polyline fill=\"none\" stroke=\"#66cc99\" stroke-width=\"0.25920000000000004\" points=\"2.828,2.828 1.531,3.696\" opacity=\"0.8\" /><polyline fill=\"none\" stroke=\"#66cc99\" stroke-width=\"0.25920000000000004\" points=\"1.531,3.696 0.0,4.0\" opacity=\"0.8\" /><polyline fill=\"none\" stroke=\"#66cc99\" stroke-width=\"0.25920000000000004\" points=\"0.0,4.0 -1.531,3.696\" opacity=\"0.8\" /><polyline fill=\"none\" stroke=\"#66cc99\" stroke-width=\"0.25920000000000004\" points=\"-1.531,3.696 -2.828,2.828\" opacity=\"0.8\" /><polyline fill=\"none\" stroke=\"#66cc99\" stroke-width=\"0.25920000000000004\" points=\"0.765,1.848 1.414,1.414\" opacity=\"0.8\" /><polyline fill=\"none\" stroke=\"#66cc99\" stroke-width=\"0.25920000000000004\" points=\"1.414,1.414 1.848,0.765\" opacity=\"0.8\" /><polyline fill=\"none\" stroke=\"#66cc99\" stroke-width=\"0.25920000000000004\" points=\"1.848,0.765 2.0,0.0\" opacity=\"0.8\" /><polyline fill=\"none\" stroke=\"#66cc99\" stroke-width=\"0.25920000000000004\" points=\"2.0,0.0 1.848,-0.765\" opacity=\"0.8\" /><polyline fill=\"none\" stroke=\"#66cc99\" stroke-width=\"0.25920000000000004\" points=\"1.848,-0.765 1.414,-1.414\" opacity=\"0.8\" /><polyline fill=\"none\" stroke=\"#66cc99\" stroke-width=\"0.25920000000000004\" points=\"1.414,-1.414 0.765,-1.848\" opacity=\"0.8\" /><polyline fill=\"none\" stroke=\"#66cc99\" stroke-width=\"0.25920000000000004\" points=\"0.765,-1.848 0.0,-2.0\" opacity=\"0.8\" /><polyline fill=\"none\" stroke=\"#66cc99\" stroke-width=\"0.25920000000000004\" points=\"0.0,-2.0 -0.765,-1.848\" opacity=\"0.8\" /><polyline fill=\"none\" stroke=\"#66cc99\" stroke-width=\"0.25920000000000004\" points=\"-0.765,-1.848 -1.414,-1.414\" opacity=\"0.8\" /><polyline fill=\"none\" stroke=\"#66cc99\" stroke-width=\"0.25920000000000004\" points=\"-1.414,-1.414 -1.848,-0.765\" opacity=\"0.8\" /><polyline fill=\"none\" stroke=\"#66cc99\" stroke-width=\"0.25920000000000004\" points=\"-1.848,-0.765 -2.0,0.0\" opacity=\"0.8\" /><polyline fill=\"none\" stroke=\"#66cc99\" stroke-width=\"0.25920000000000004\" points=\"-2.0,0.0 -1.848,0.765\" opacity=\"0.8\" /><polyline fill=\"none\" stroke=\"#66cc99\" stroke-width=\"0.25920000000000004\" points=\"-1.848,0.765 -1.414,1.414\" opacity=\"0.8\" /><polyline fill=\"none\" stroke=\"#66cc99\" stroke-width=\"0.25920000000000004\" points=\"-1.414,1.414 -0.765,1.848\" opacity=\"0.8\" /><polyline fill=\"none\" stroke=\"#66cc99\" stroke-width=\"0.25920000000000004\" points=\"-0.765,1.848 0.0,2.0\" opacity=\"0.8\" /><polyline fill=\"none\" stroke=\"#66cc99\" stroke-width=\"0.25920000000000004\" points=\"0.0,2.0 0.765,1.848\" opacity=\"0.8\" /></g></g></svg>"
      ],
      "text/plain": [
       "<MULTILINESTRING ((4.243 4.243, 5.543 2.296, 6 0, 5.543 -2.296, 4.243 -4.243...>"
      ]
     },
     "execution_count": 14,
     "metadata": {},
     "output_type": "execute_result"
    }
   ],
   "source": [
    "circle_6 = Polygon(circle_points(6))\n",
    "circle_4 = Polygon(circle_points(4))\n",
    "circle_2 = Polygon(circle_points(2))\n",
    "island_shape = shapely.union(shapely.difference(circle_6, circle_4),circle_2)\n",
    "island_border = shapely.difference(circle_4, circle_2)\n",
    "\n",
    "print(shapely.relate(island_shape, island_border))\n",
    "\n",
    "interior = Polygon(island_shape.geoms[0].interiors[0])\n",
    "print(shapely.relate(interior, island_border))\n",
    "shapely.union(island_shape.boundary, island_border.boundary)"
   ]
  },
  {
   "cell_type": "code",
   "execution_count": 15,
   "metadata": {},
   "outputs": [
    {
     "data": {
      "image/svg+xml": [
       "<svg xmlns=\"http://www.w3.org/2000/svg\" xmlns:xlink=\"http://www.w3.org/1999/xlink\" width=\"100.0\" height=\"100.0\" viewBox=\"-6.48 -6.48 12.96 12.96\" preserveAspectRatio=\"xMinYMin meet\"><g transform=\"matrix(1,0,0,-1,0,0.0)\"><g><path fill-rule=\"evenodd\" fill=\"#66cc99\" stroke=\"#555555\" stroke-width=\"0.25920000000000004\" opacity=\"0.6\" d=\"M 4.243,4.243 L 5.543,2.296 L 6.0,0.0 L 5.543,-2.296 L 4.243,-4.243 L 2.296,-5.543 L 0.0,-6.0 L -2.296,-5.543 L -4.243,-4.243 L -5.543,-2.296 L -6.0,0.0 L -5.543,2.296 L -4.243,4.243 L -2.296,5.543 L 0.0,6.0 L 2.296,5.543 L 4.243,4.243 z M -2.828,2.828 L -3.696,1.531 L -4.0,0.0 L -3.696,-1.531 L -2.828,-2.828 L -1.531,-3.696 L 0.0,-4.0 L 1.531,-3.696 L 2.828,-2.828 L 3.696,-1.531 L 4.0,0.0 L 3.696,1.531 L 2.828,2.828 L 1.531,3.696 L 0.0,4.0 L -1.531,3.696 L -2.828,2.828 z\" /><path fill-rule=\"evenodd\" fill=\"#66cc99\" stroke=\"#555555\" stroke-width=\"0.25920000000000004\" opacity=\"0.6\" d=\"M 0.765,1.848 L 1.414,1.414 L 1.848,0.765 L 2.0,0.0 L 1.848,-0.765 L 1.414,-1.414 L 0.765,-1.848 L 0.0,-2.0 L -0.765,-1.848 L -1.414,-1.414 L -1.848,-0.765 L -2.0,0.0 L -1.848,0.765 L -1.414,1.414 L -0.765,1.848 L 0.0,2.0 L 0.765,1.848 z\" /></g></g></svg>"
      ],
      "text/plain": [
       "<MULTIPOLYGON (((4.243 4.243, 5.543 2.296, 6 0, 5.543 -2.296, 4.243 -4.243, ...>"
      ]
     },
     "execution_count": 15,
     "metadata": {},
     "output_type": "execute_result"
    }
   ],
   "source": [
    "circle_6 = Polygon(circle_points(6))\n",
    "circle_4 = Polygon(circle_points(4))\n",
    "circle_2 = Polygon(circle_points(2))\n",
    "island = shapely.union(shapely.difference(circle_6, circle_4),circle_2)\n",
    "island"
   ]
  },
  {
   "cell_type": "code",
   "execution_count": 16,
   "metadata": {},
   "outputs": [],
   "source": [
    "offset_circle_6 = Polygon(circle_points(6,offset_x=6))\n",
    "offset_circle_4 = Polygon(circle_points(4,offset_x=6))\n",
    "offset_circle_2 = Polygon(circle_points(2,offset_x=6))\n",
    "offset_island = shapely.union(shapely.difference(offset_circle_6, offset_circle_4),offset_circle_2)\n"
   ]
  },
  {
   "cell_type": "code",
   "execution_count": 17,
   "metadata": {},
   "outputs": [
    {
     "data": {
      "image/svg+xml": [
       "<svg xmlns=\"http://www.w3.org/2000/svg\" xmlns:xlink=\"http://www.w3.org/1999/xlink\" width=\"100.0\" height=\"100.0\" viewBox=\"-6.48 -6.48 12.577060918865396 12.96\" preserveAspectRatio=\"xMinYMin meet\"><g transform=\"matrix(1,0,0,-1,0,0.0)\"><g><path fill-rule=\"evenodd\" fill=\"#66cc99\" stroke=\"#555555\" stroke-width=\"0.25920000000000004\" opacity=\"0.6\" d=\"M 5.543,2.296 L 5.617060918865395,1.9239127577353465 L 5.235,1.848 L 4.586,1.414 L 4.152,0.765 L 4.0,0.0 L 3.696,1.531 L 3.0,2.5709907834101378 L 3.172,2.828 L 4.469,3.696 L 4.591930512725348,3.720409455172114 L 5.543,2.296 z\" /><path fill-rule=\"evenodd\" fill=\"#66cc99\" stroke=\"#555555\" stroke-width=\"0.25920000000000004\" opacity=\"0.6\" d=\"M 5.543,-2.296 L 4.591930512725348,-3.720409455172114 L 4.469,-3.696 L 3.172,-2.828 L 3.0,-2.5709907834101378 L 3.696,-1.531 L 4.0,0.0 L 4.152,-0.765 L 4.586,-1.414 L 5.235,-1.848 L 5.617060918865395,-1.9239127577353465 L 5.543,-2.296 z\" /><path fill-rule=\"evenodd\" fill=\"#66cc99\" stroke=\"#555555\" stroke-width=\"0.25920000000000004\" opacity=\"0.6\" d=\"M 2.296,-5.543 L 0.0,-6.0 L -2.296,-5.543 L -4.243,-4.243 L -5.543,-2.296 L -6.0,0.0 L -5.543,2.296 L -4.243,4.243 L -2.296,5.543 L 0.0,6.0 L 2.296,5.543 L 3.0,5.072943502824859 L 1.7569999999999997,4.243 L 1.4080694872746518,3.720409455172114 L 0.0,4.0 L -1.531,3.696 L -2.828,2.828 L -3.696,1.531 L -4.0,0.0 L -3.696,-1.531 L -2.828,-2.828 L -1.531,-3.696 L 0.0,-4.0 L 1.4080694872746518,-3.720409455172114 L 1.7569999999999997,-4.243 L 3.0,-5.072943502824859 L 2.296,-5.543 z\" /><path fill-rule=\"evenodd\" fill=\"#66cc99\" stroke=\"#555555\" stroke-width=\"0.25920000000000004\" opacity=\"0.6\" d=\"M 0.0,-2.0 L -0.765,-1.848 L -1.414,-1.414 L -1.848,-0.765 L -2.0,0.0 L -1.848,0.765 L -1.414,1.414 L -0.765,1.848 L 0.0,2.0 L 0.382939081134605,1.9239127577353465 L 0.0,0.0 L 0.382939081134605,-1.9239127577353465 L 0.0,-2.0 z\" /></g></g></svg>"
      ],
      "text/plain": [
       "<MULTIPOLYGON (((5.543 2.296, 5.617 1.924, 5.235 1.848, 4.586 1.414, 4.152 0...>"
      ]
     },
     "execution_count": 17,
     "metadata": {},
     "output_type": "execute_result"
    }
   ],
   "source": [
    "shapely.difference(island, offset_island)"
   ]
  },
  {
   "cell_type": "code",
   "execution_count": 18,
   "metadata": {},
   "outputs": [
    {
     "data": {
      "image/svg+xml": [
       "<svg xmlns=\"http://www.w3.org/2000/svg\" xmlns:xlink=\"http://www.w3.org/1999/xlink\" width=\"100.0\" height=\"100.0\" viewBox=\"-6.72 -6.72 19.44 13.44\" preserveAspectRatio=\"xMinYMin meet\"><g transform=\"matrix(1,0,0,-1,0,0.0)\"><path fill-rule=\"evenodd\" fill=\"#66cc99\" stroke=\"#555555\" stroke-width=\"0.38880000000000003\" opacity=\"0.6\" d=\"M 2.296,-5.543 L 0.0,-6.0 L -2.296,-5.543 L -4.243,-4.243 L -5.543,-2.296 L -6.0,0.0 L -5.543,2.296 L -4.243,4.243 L -2.296,5.543 L 0.0,6.0 L 2.296,5.543 L 3.0,5.072943502824859 L 3.704,5.543 L 6.0,6.0 L 8.296,5.543 L 10.243,4.243 L 11.543,2.296 L 12.0,0.0 L 11.543,-2.296 L 10.243,-4.243 L 8.296,-5.543 L 6.0,-6.0 L 3.704,-5.543 L 3.0,-5.072943502824859 L 2.296,-5.543 z M 5.543,2.296 L 5.617060918865395,1.9239127577353465 L 6.0,2.0 L 6.765,1.848 L 7.414,1.414 L 7.848,0.765 L 8.0,0.0 L 7.848,-0.765 L 7.414,-1.414 L 6.765,-1.848 L 6.0,-2.0 L 5.617060918865395,-1.9239127577353465 L 5.543,-2.296 L 4.591930512725348,-3.720409455172114 L 6.0,-4.0 L 7.531,-3.696 L 8.828,-2.828 L 9.696,-1.531 L 10.0,0.0 L 9.696,1.531 L 8.828,2.828 L 7.531,3.696 L 6.0,4.0 L 4.591930512725348,3.720409455172114 L 5.543,2.296 z M -3.696,1.531 L -4.0,0.0 L -3.696,-1.531 L -2.828,-2.828 L -1.531,-3.696 L 0.0,-4.0 L 1.4080694872746518,-3.720409455172114 L 0.45699999999999985,-2.296 L 0.382939081134605,-1.9239127577353465 L 0.0,-2.0 L -0.765,-1.848 L -1.414,-1.414 L -1.848,-0.765 L -2.0,0.0 L -1.848,0.765 L -1.414,1.414 L -0.765,1.848 L 0.0,2.0 L 0.382939081134605,1.9239127577353465 L 0.45699999999999985,2.296 L 1.4080694872746518,3.720409455172114 L 0.0,4.0 L -1.531,3.696 L -2.828,2.828 L -3.696,1.531 z M 3.696,-1.531 L 4.0,0.0 L 3.696,1.531 L 3.0,2.5709907834101378 L 2.304,1.531 L 2.0,0.0 L 2.304,-1.531 L 3.0,-2.5709907834101378 L 3.696,-1.531 z\" /></g></svg>"
      ],
      "text/plain": [
       "<POLYGON ((2.296 -5.543, 0 -6, -2.296 -5.543, -4.243 -4.243, -5.543 -2.296, ...>"
      ]
     },
     "execution_count": 18,
     "metadata": {},
     "output_type": "execute_result"
    }
   ],
   "source": [
    "shapely.union(island, offset_island)"
   ]
  },
  {
   "cell_type": "code",
   "execution_count": 19,
   "metadata": {},
   "outputs": [
    {
     "data": {
      "image/svg+xml": [
       "<svg xmlns=\"http://www.w3.org/2000/svg\" xmlns:xlink=\"http://www.w3.org/1999/xlink\" width=\"100.0\" height=\"100.0\" viewBox=\"-0.48 -6.48 12.96 12.96\" preserveAspectRatio=\"xMinYMin meet\"><g transform=\"matrix(1,0,0,-1,0,0.0)\"><g><polyline fill=\"none\" stroke=\"#66cc99\" stroke-width=\"0.25920000000000004\" points=\"10.243,4.243 11.543,2.296 12.0,0.0 11.543,-2.296 10.243,-4.243 8.296,-5.543 6.0,-6.0 3.704,-5.543 1.7569999999999997,-4.243 0.45699999999999985,-2.296 0.0,0.0 0.45699999999999985,2.296 1.7569999999999997,4.243 3.704,5.543 6.0,6.0 8.296,5.543 10.243,4.243\" opacity=\"0.8\" /><polyline fill=\"none\" stroke=\"#66cc99\" stroke-width=\"0.25920000000000004\" points=\"3.172,2.828 2.304,1.531 2.0,0.0 2.304,-1.531 3.172,-2.828 4.469,-3.696 6.0,-4.0 7.531,-3.696 8.828,-2.828 9.696,-1.531 10.0,0.0 9.696,1.531 8.828,2.828 7.531,3.696 6.0,4.0 4.469,3.696 3.172,2.828\" opacity=\"0.8\" /><polyline fill=\"none\" stroke=\"#66cc99\" stroke-width=\"0.25920000000000004\" points=\"6.765,1.848 7.414,1.414 7.848,0.765 8.0,0.0 7.848,-0.765 7.414,-1.414 6.765,-1.848 6.0,-2.0 5.235,-1.848 4.586,-1.414 4.152,-0.765 4.0,0.0 4.152,0.765 4.586,1.414 5.235,1.848 6.0,2.0 6.765,1.848\" opacity=\"0.8\" /></g></g></svg>"
      ],
      "text/plain": [
       "<MULTILINESTRING ((10.243 4.243, 11.543 2.296, 12 0, 11.543 -2.296, 10.243 -...>"
      ]
     },
     "execution_count": 19,
     "metadata": {},
     "output_type": "execute_result"
    }
   ],
   "source": [
    "offset_island.boundary"
   ]
  },
  {
   "cell_type": "code",
   "execution_count": 20,
   "metadata": {},
   "outputs": [
    {
     "data": {
      "image/svg+xml": [
       "<svg xmlns=\"http://www.w3.org/2000/svg\" xmlns:xlink=\"http://www.w3.org/1999/xlink\" width=\"100.0\" height=\"100.0\" viewBox=\"-0.48 -6.48 12.96 12.96\" preserveAspectRatio=\"xMinYMin meet\"><g transform=\"matrix(1,0,0,-1,0,0.0)\"><path fill-rule=\"evenodd\" fill=\"#66cc99\" stroke=\"#555555\" stroke-width=\"0.25920000000000004\" opacity=\"0.6\" d=\"M 10.243,4.243 L 11.543,2.296 L 12.0,0.0 L 11.543,-2.296 L 10.243,-4.243 L 8.296,-5.543 L 6.0,-6.0 L 3.704,-5.543 L 1.7569999999999997,-4.243 L 0.45699999999999985,-2.296 L 0.0,0.0 L 0.45699999999999985,2.296 L 1.7569999999999997,4.243 L 3.704,5.543 L 6.0,6.0 L 8.296,5.543 L 10.243,4.243 z M 3.172,2.828 L 2.304,1.531 L 2.0,0.0 L 2.304,-1.531 L 3.172,-2.828 L 4.469,-3.696 L 6.0,-4.0 L 7.531,-3.696 L 8.828,-2.828 L 9.696,-1.531 L 10.0,0.0 L 9.696,1.531 L 8.828,2.828 L 7.531,3.696 L 6.0,4.0 L 4.469,3.696 L 3.172,2.828 z\" /></g></svg>"
      ],
      "text/plain": [
       "<POLYGON ((10.243 4.243, 11.543 2.296, 12 0, 11.543 -2.296, 10.243 -4.243, 8...>"
      ]
     },
     "execution_count": 20,
     "metadata": {},
     "output_type": "execute_result"
    }
   ],
   "source": [
    "a = [g for g in offset_island.geoms]\n",
    "a[0]"
   ]
  },
  {
   "cell_type": "code",
   "execution_count": 21,
   "metadata": {},
   "outputs": [
    {
     "data": {
      "image/svg+xml": [
       "<svg xmlns=\"http://www.w3.org/2000/svg\" xmlns:xlink=\"http://www.w3.org/1999/xlink\" width=\"100.0\" height=\"100.0\" viewBox=\"3.84 -2.16 4.32 4.32\" preserveAspectRatio=\"xMinYMin meet\"><g transform=\"matrix(1,0,0,-1,0,0.0)\"><path fill-rule=\"evenodd\" fill=\"#66cc99\" stroke=\"#555555\" stroke-width=\"0.0864\" opacity=\"0.6\" d=\"M 6.765,1.848 L 7.414,1.414 L 7.848,0.765 L 8.0,0.0 L 7.848,-0.765 L 7.414,-1.414 L 6.765,-1.848 L 6.0,-2.0 L 5.235,-1.848 L 4.586,-1.414 L 4.152,-0.765 L 4.0,0.0 L 4.152,0.765 L 4.586,1.414 L 5.235,1.848 L 6.0,2.0 L 6.765,1.848 z\" /></g></svg>"
      ],
      "text/plain": [
       "<POLYGON ((6.765 1.848, 7.414 1.414, 7.848 0.765, 8 0, 7.848 -0.765, 7.414 -...>"
      ]
     },
     "execution_count": 21,
     "metadata": {},
     "output_type": "execute_result"
    }
   ],
   "source": [
    "a[1]"
   ]
  },
  {
   "cell_type": "code",
   "execution_count": 22,
   "metadata": {},
   "outputs": [
    {
     "data": {
      "image/svg+xml": [
       "<svg xmlns=\"http://www.w3.org/2000/svg\" xmlns:xlink=\"http://www.w3.org/1999/xlink\" width=\"100.0\" height=\"100.0\" viewBox=\"-6.48 -6.48 12.96 12.96\" preserveAspectRatio=\"xMinYMin meet\"><g transform=\"matrix(1,0,0,-1,0,0.0)\"><g><path fill-rule=\"evenodd\" fill=\"#66cc99\" stroke=\"#555555\" stroke-width=\"0.25920000000000004\" opacity=\"0.6\" d=\"M 4.243,4.243 L 5.543,2.296 L 6.0,0.0 L 5.543,-2.296 L 4.243,-4.243 L 2.296,-5.543 L 0.0,-6.0 L -2.296,-5.543 L -4.243,-4.243 L -5.543,-2.296 L -6.0,0.0 L -5.543,2.296 L -4.243,4.243 L -2.296,5.543 L 0.0,6.0 L 2.296,5.543 L 4.243,4.243 z M -2.828,2.828 L -3.696,1.531 L -4.0,0.0 L -3.696,-1.531 L -2.828,-2.828 L -1.531,-3.696 L 0.0,-4.0 L 1.531,-3.696 L 2.828,-2.828 L 3.696,-1.531 L 4.0,0.0 L 3.696,1.531 L 2.828,2.828 L 1.531,3.696 L 0.0,4.0 L -1.531,3.696 L -2.828,2.828 z\" /><path fill-rule=\"evenodd\" fill=\"#66cc99\" stroke=\"#555555\" stroke-width=\"0.25920000000000004\" opacity=\"0.6\" d=\"M 0.765,1.848 L 1.414,1.414 L 1.848,0.765 L 2.0,0.0 L 1.848,-0.765 L 1.414,-1.414 L 0.765,-1.848 L 0.0,-2.0 L -0.765,-1.848 L -1.414,-1.414 L -1.848,-0.765 L -2.0,0.0 L -1.848,0.765 L -1.414,1.414 L -0.765,1.848 L 0.0,2.0 L 0.765,1.848 z\" /></g></g></svg>"
      ],
      "text/plain": [
       "<MULTIPOLYGON (((4.243 4.243, 5.543 2.296, 6 0, 5.543 -2.296, 4.243 -4.243, ...>"
      ]
     },
     "execution_count": 22,
     "metadata": {},
     "output_type": "execute_result"
    }
   ],
   "source": [
    "island"
   ]
  },
  {
   "cell_type": "code",
   "execution_count": 23,
   "metadata": {},
   "outputs": [
    {
     "data": {
      "image/svg+xml": [
       "<svg xmlns=\"http://www.w3.org/2000/svg\" xmlns:xlink=\"http://www.w3.org/1999/xlink\" width=\"100.0\" height=\"100.0\" viewBox=\"-3.7800000000000002 -3.7800000000000002 7.5600000000000005 7.5600000000000005\" preserveAspectRatio=\"xMinYMin meet\"><g transform=\"matrix(1,0,0,-1,0,0.0)\"><path fill-rule=\"evenodd\" fill=\"#66cc99\" stroke=\"#555555\" stroke-width=\"0.1512\" opacity=\"0.6\" d=\"M 1.339,3.234 L 2.475,2.475 L 3.234,1.339 L 3.5,0.0 L 3.234,-1.339 L 2.475,-2.475 L 1.339,-3.234 L 0.0,-3.5 L -1.339,-3.234 L -2.475,-2.475 L -3.234,-1.339 L -3.5,0.0 L -3.234,1.339 L -2.475,2.475 L -1.339,3.234 L 0.0,3.5 L 1.339,3.234 z M -0.957,2.31 L -1.768,1.768 L -2.31,0.957 L -2.5,0.0 L -2.31,-0.957 L -1.768,-1.768 L -0.957,-2.31 L 0.0,-2.5 L 0.957,-2.31 L 1.768,-1.768 L 2.31,-0.957 L 2.5,0.0 L 2.31,0.957 L 1.768,1.768 L 0.957,2.31 L 0.0,2.5 L -0.957,2.31 z\" /></g></svg>"
      ],
      "text/plain": [
       "<POLYGON ((1.339 3.234, 2.475 2.475, 3.234 1.339, 3.5 0, 3.234 -1.339, 2.475...>"
      ]
     },
     "execution_count": 23,
     "metadata": {},
     "output_type": "execute_result"
    }
   ],
   "source": [
    "circle_35 = Polygon(circle_points(3.5))\n",
    "circle_25 = Polygon(circle_points(2.5))\n",
    "hollow = shapely.difference(circle_35, circle_25)\n",
    "hollow"
   ]
  },
  {
   "cell_type": "code",
   "execution_count": 24,
   "metadata": {},
   "outputs": [
    {
     "name": "stdout",
     "output_type": "stream",
     "text": [
      "FF2FF1212\n"
     ]
    },
    {
     "data": {
      "image/svg+xml": [
       "<svg xmlns=\"http://www.w3.org/2000/svg\" xmlns:xlink=\"http://www.w3.org/1999/xlink\" width=\"100.0\" height=\"100.0\" viewBox=\"-6.48 -6.48 12.96 12.96\" preserveAspectRatio=\"xMinYMin meet\"><g transform=\"matrix(1,0,0,-1,0,0.0)\"><g><path fill-rule=\"evenodd\" fill=\"#66cc99\" stroke=\"#555555\" stroke-width=\"0.25920000000000004\" opacity=\"0.6\" d=\"M 5.543,2.296 L 6.0,0.0 L 5.543,-2.296 L 4.243,-4.243 L 2.296,-5.543 L 0.0,-6.0 L -2.296,-5.543 L -4.243,-4.243 L -5.543,-2.296 L -6.0,0.0 L -5.543,2.296 L -4.243,4.243 L -2.296,5.543 L 0.0,6.0 L 2.296,5.543 L 4.243,4.243 L 5.543,2.296 z M -3.696,1.531 L -4.0,0.0 L -3.696,-1.531 L -2.828,-2.828 L -1.531,-3.696 L 0.0,-4.0 L 1.531,-3.696 L 2.828,-2.828 L 3.696,-1.531 L 4.0,0.0 L 3.696,1.531 L 2.828,2.828 L 1.531,3.696 L 0.0,4.0 L -1.531,3.696 L -2.828,2.828 L -3.696,1.531 z\" /><path fill-rule=\"evenodd\" fill=\"#66cc99\" stroke=\"#555555\" stroke-width=\"0.25920000000000004\" opacity=\"0.6\" d=\"M 1.414,1.414 L 1.848,0.765 L 2.0,0.0 L 1.848,-0.765 L 1.414,-1.414 L 0.765,-1.848 L 0.0,-2.0 L -0.765,-1.848 L -1.414,-1.414 L -1.848,-0.765 L -2.0,0.0 L -1.848,0.765 L -1.414,1.414 L -0.765,1.848 L 0.0,2.0 L 0.765,1.848 L 1.414,1.414 z\" /><path fill-rule=\"evenodd\" fill=\"#66cc99\" stroke=\"#555555\" stroke-width=\"0.25920000000000004\" opacity=\"0.6\" d=\"M 2.475,2.475 L 3.234,1.339 L 3.5,0.0 L 3.234,-1.339 L 2.475,-2.475 L 1.339,-3.234 L 0.0,-3.5 L -1.339,-3.234 L -2.475,-2.475 L -3.234,-1.339 L -3.5,0.0 L -3.234,1.339 L -2.475,2.475 L -1.339,3.234 L 0.0,3.5 L 1.339,3.234 L 2.475,2.475 z M -1.768,1.768 L -2.31,0.957 L -2.5,0.0 L -2.31,-0.957 L -1.768,-1.768 L -0.957,-2.31 L 0.0,-2.5 L 0.957,-2.31 L 1.768,-1.768 L 2.31,-0.957 L 2.5,0.0 L 2.31,0.957 L 1.768,1.768 L 0.957,2.31 L 0.0,2.5 L -0.957,2.31 L -1.768,1.768 z\" /></g></g></svg>"
      ],
      "text/plain": [
       "<MULTIPOLYGON (((5.543 2.296, 6 0, 5.543 -2.296, 4.243 -4.243, 2.296 -5.543,...>"
      ]
     },
     "execution_count": 24,
     "metadata": {},
     "output_type": "execute_result"
    }
   ],
   "source": [
    "print(shapely.relate(island, hollow))\n",
    "shapely.union(island, hollow)"
   ]
  },
  {
   "cell_type": "code",
   "execution_count": 25,
   "metadata": {},
   "outputs": [
    {
     "name": "stdout",
     "output_type": "stream",
     "text": [
      "212FF1FF2\n"
     ]
    },
    {
     "data": {
      "image/svg+xml": [
       "<svg xmlns=\"http://www.w3.org/2000/svg\" xmlns:xlink=\"http://www.w3.org/1999/xlink\" width=\"100.0\" height=\"100.0\" viewBox=\"-6.48 -6.48 12.96 12.96\" preserveAspectRatio=\"xMinYMin meet\"><g transform=\"matrix(1,0,0,-1,0,0.0)\"><g><path fill-rule=\"evenodd\" fill=\"#66cc99\" stroke=\"#555555\" stroke-width=\"0.25920000000000004\" opacity=\"0.6\" d=\"M 2.475,2.475 L 3.234,1.339 L 3.5,0.0 L 3.234,-1.339 L 2.475,-2.475 L 1.339,-3.234 L 0.0,-3.5 L -1.339,-3.234 L -2.475,-2.475 L -3.234,-1.339 L -3.5,0.0 L -3.234,1.339 L -2.475,2.475 L -1.339,3.234 L 0.0,3.5 L 1.339,3.234 L 2.475,2.475 z M -1.768,1.768 L -2.31,0.957 L -2.5,0.0 L -2.31,-0.957 L -1.768,-1.768 L -0.957,-2.31 L 0.0,-2.5 L 0.957,-2.31 L 1.768,-1.768 L 2.31,-0.957 L 2.5,0.0 L 2.31,0.957 L 1.768,1.768 L 0.957,2.31 L 0.0,2.5 L -0.957,2.31 L -1.768,1.768 z\" /><polyline fill=\"none\" stroke=\"#66cc99\" stroke-width=\"0.25920000000000004\" points=\"4.243,4.243 5.543,2.296 6.0,0.0 5.543,-2.296 4.243,-4.243 2.296,-5.543 0.0,-6.0 -2.296,-5.543 -4.243,-4.243 -5.543,-2.296 -6.0,0.0 -5.543,2.296 -4.243,4.243 -2.296,5.543 0.0,6.0 2.296,5.543 4.243,4.243\" opacity=\"0.8\" /></g></g></svg>"
      ],
      "text/plain": [
       "<GEOMETRYCOLLECTION (POLYGON ((2.475 2.475, 3.234 1.339, 3.5 0, 3.234 -1.339...>"
      ]
     },
     "execution_count": 25,
     "metadata": {},
     "output_type": "execute_result"
    }
   ],
   "source": [
    "shape = Polygon(island.geoms[0].exterior)\n",
    "print(shapely.relate(shape, hollow))\n",
    "shapely.union(island.geoms[0].exterior, hollow)\n"
   ]
  },
  {
   "cell_type": "code",
   "execution_count": 26,
   "metadata": {},
   "outputs": [
    {
     "name": "stdout",
     "output_type": "stream",
     "text": [
      "212FF1FF2\n"
     ]
    },
    {
     "data": {
      "image/svg+xml": [
       "<svg xmlns=\"http://www.w3.org/2000/svg\" xmlns:xlink=\"http://www.w3.org/1999/xlink\" width=\"100.0\" height=\"100.0\" viewBox=\"-4.32 -4.32 8.64 8.64\" preserveAspectRatio=\"xMinYMin meet\"><g transform=\"matrix(1,0,0,-1,0,0.0)\"><g><path fill-rule=\"evenodd\" fill=\"#66cc99\" stroke=\"#555555\" stroke-width=\"0.1728\" opacity=\"0.6\" d=\"M 2.475,2.475 L 3.234,1.339 L 3.5,0.0 L 3.234,-1.339 L 2.475,-2.475 L 1.339,-3.234 L 0.0,-3.5 L -1.339,-3.234 L -2.475,-2.475 L -3.234,-1.339 L -3.5,0.0 L -3.234,1.339 L -2.475,2.475 L -1.339,3.234 L 0.0,3.5 L 1.339,3.234 L 2.475,2.475 z M -1.768,1.768 L -2.31,0.957 L -2.5,0.0 L -2.31,-0.957 L -1.768,-1.768 L -0.957,-2.31 L 0.0,-2.5 L 0.957,-2.31 L 1.768,-1.768 L 2.31,-0.957 L 2.5,0.0 L 2.31,0.957 L 1.768,1.768 L 0.957,2.31 L 0.0,2.5 L -0.957,2.31 L -1.768,1.768 z\" /><polyline fill=\"none\" stroke=\"#66cc99\" stroke-width=\"0.1728\" points=\"-2.828,2.828 -3.696,1.531 -4.0,0.0 -3.696,-1.531 -2.828,-2.828 -1.531,-3.696 0.0,-4.0 1.531,-3.696 2.828,-2.828 3.696,-1.531 4.0,0.0 3.696,1.531 2.828,2.828 1.531,3.696 0.0,4.0 -1.531,3.696 -2.828,2.828\" opacity=\"0.8\" /></g></g></svg>"
      ],
      "text/plain": [
       "<GEOMETRYCOLLECTION (POLYGON ((2.475 2.475, 3.234 1.339, 3.5 0, 3.234 -1.339...>"
      ]
     },
     "execution_count": 26,
     "metadata": {},
     "output_type": "execute_result"
    }
   ],
   "source": [
    "shape = Polygon(island.geoms[0].interiors[0])\n",
    "print(shapely.relate(shape, hollow))\n",
    "shapely.union(island.geoms[0].interiors[0], hollow)\n"
   ]
  },
  {
   "cell_type": "code",
   "execution_count": 27,
   "metadata": {},
   "outputs": [
    {
     "name": "stdout",
     "output_type": "stream",
     "text": [
      "FF2FF1212\n"
     ]
    },
    {
     "data": {
      "image/svg+xml": [
       "<svg xmlns=\"http://www.w3.org/2000/svg\" xmlns:xlink=\"http://www.w3.org/1999/xlink\" width=\"100.0\" height=\"100.0\" viewBox=\"-3.7800000000000002 -3.7800000000000002 7.5600000000000005 7.5600000000000005\" preserveAspectRatio=\"xMinYMin meet\"><g transform=\"matrix(1,0,0,-1,0,0.0)\"><g><path fill-rule=\"evenodd\" fill=\"#66cc99\" stroke=\"#555555\" stroke-width=\"0.1512\" opacity=\"0.6\" d=\"M 1.414,1.414 L 1.848,0.765 L 2.0,0.0 L 1.848,-0.765 L 1.414,-1.414 L 0.765,-1.848 L 0.0,-2.0 L -0.765,-1.848 L -1.414,-1.414 L -1.848,-0.765 L -2.0,0.0 L -1.848,0.765 L -1.414,1.414 L -0.765,1.848 L 0.0,2.0 L 0.765,1.848 L 1.414,1.414 z\" /><path fill-rule=\"evenodd\" fill=\"#66cc99\" stroke=\"#555555\" stroke-width=\"0.1512\" opacity=\"0.6\" d=\"M 2.475,2.475 L 3.234,1.339 L 3.5,0.0 L 3.234,-1.339 L 2.475,-2.475 L 1.339,-3.234 L 0.0,-3.5 L -1.339,-3.234 L -2.475,-2.475 L -3.234,-1.339 L -3.5,0.0 L -3.234,1.339 L -2.475,2.475 L -1.339,3.234 L 0.0,3.5 L 1.339,3.234 L 2.475,2.475 z M -1.768,1.768 L -2.31,0.957 L -2.5,0.0 L -2.31,-0.957 L -1.768,-1.768 L -0.957,-2.31 L 0.0,-2.5 L 0.957,-2.31 L 1.768,-1.768 L 2.31,-0.957 L 2.5,0.0 L 2.31,0.957 L 1.768,1.768 L 0.957,2.31 L 0.0,2.5 L -0.957,2.31 L -1.768,1.768 z\" /></g></g></svg>"
      ],
      "text/plain": [
       "<MULTIPOLYGON (((1.414 1.414, 1.848 0.765, 2 0, 1.848 -0.765, 1.414 -1.414, ...>"
      ]
     },
     "execution_count": 27,
     "metadata": {},
     "output_type": "execute_result"
    }
   ],
   "source": [
    "shape = Polygon(island.geoms[1])\n",
    "print(shapely.relate(shape, hollow))\n",
    "shapely.union(island.geoms[1], hollow)\n"
   ]
  },
  {
   "cell_type": "markdown",
   "metadata": {},
   "source": [
    "# Read Structure with Islands from DICOM\n"
   ]
  },
  {
   "cell_type": "markdown",
   "metadata": {},
   "source": [
    "### File Paths"
   ]
  },
  {
   "cell_type": "code",
   "execution_count": 28,
   "metadata": {},
   "outputs": [],
   "source": [
    "base_path = Path.cwd()\n",
    "data_path = base_path / 'Test Data'\n",
    "dicom_path = data_path / r'StructureVolumeTests\\SingleContours'"
   ]
  },
  {
   "cell_type": "code",
   "execution_count": 29,
   "metadata": {},
   "outputs": [],
   "source": [
    "structure_names_file = dicom_path / 'RS.GJS_Struct_Tests.Islands.dcm'"
   ]
  },
  {
   "cell_type": "code",
   "execution_count": 30,
   "metadata": {},
   "outputs": [
    {
     "data": {
      "text/plain": [
       "{'PatientName': 'StructureVolumes^Test',\n",
       " 'PatientLastName': 'StructureVolumes',\n",
       " 'PatientID': 'GJS_Struct_Tests',\n",
       " 'StructureSet': 'Islands',\n",
       " 'StudyID': 'Phantom7',\n",
       " 'SeriesNumber': '0',\n",
       " 'File': WindowsPath(\"d:/OneDrive - Queen's University/Python/Projects/StructureRelations/Test Data/StructureVolumeTests/SingleContours/RS.GJS_Struct_Tests.Islands.dcm\")}"
      ]
     },
     "execution_count": 30,
     "metadata": {},
     "output_type": "execute_result"
    }
   ],
   "source": [
    "RS_DICOM_Utilities.get_structure_file_info(structure_names_file)"
   ]
  },
  {
   "cell_type": "code",
   "execution_count": 31,
   "metadata": {},
   "outputs": [],
   "source": [
    "dataset = pydicom.dcmread(structure_names_file)"
   ]
  },
  {
   "cell_type": "code",
   "execution_count": 32,
   "metadata": {},
   "outputs": [
    {
     "data": {
      "text/plain": [
       "1            BODY\n",
       "14         Island\n",
       "16    WithIslands\n",
       "17          Hole1\n",
       "18        Island1\n",
       "19          Hole2\n",
       "20        Island2\n",
       "Name: StructureID, dtype: object"
      ]
     },
     "execution_count": 32,
     "metadata": {},
     "output_type": "execute_result"
    }
   ],
   "source": [
    "roi_id = RS_DICOM_Utilities.get_names_nums(dataset)\n",
    "roi_id"
   ]
  },
  {
   "cell_type": "code",
   "execution_count": 33,
   "metadata": {},
   "outputs": [],
   "source": [
    "a = [roi for roi in dataset.ROIContourSequence]"
   ]
  },
  {
   "cell_type": "code",
   "execution_count": 34,
   "metadata": {},
   "outputs": [
    {
     "data": {
      "text/plain": [
       "True"
      ]
     },
     "execution_count": 34,
     "metadata": {},
     "output_type": "execute_result"
    }
   ],
   "source": [
    "roi = a[2]\n",
    "structure_num = roi.ReferencedROINumber\n",
    "hasattr(roi, 'ContourSequence')"
   ]
  },
  {
   "cell_type": "code",
   "execution_count": 35,
   "metadata": {},
   "outputs": [],
   "source": [
    "contours = []\n",
    "holes = []\n",
    "for contour_points in roi.ContourSequence:\n",
    "    points = np.array(contour_points.ContourData).reshape(-1,3)\n",
    "    points = points / 10  # Convert from mm to cm\n",
    "    contour = Polygon(points)\n",
    "    if contour.exterior.is_ccw:\n",
    "        contours.append(contour)\n",
    "    else:\n",
    "        holes.append(contour)"
   ]
  },
  {
   "cell_type": "markdown",
   "metadata": {},
   "source": [
    "1. sort holes & contours by decreasing area\n",
    "2. Create polygon from largest contour\n",
    "3. if next largest is contour and is not contained in polygon combine it otherwise postpone it\n",
    "4. if next largest is hole and is contained in polygon subtract it otherwise postpone it\n",
    "5. repeat for all holes & contours, revisiting postponed holes & contours."
   ]
  },
  {
   "cell_type": "code",
   "execution_count": 36,
   "metadata": {},
   "outputs": [
    {
     "data": {
      "image/svg+xml": [
       "<svg xmlns=\"http://www.w3.org/2000/svg\" xmlns:xlink=\"http://www.w3.org/1999/xlink\" width=\"100.0\" height=\"100.0\" viewBox=\"-3.79096 -3.77996 7.5589200000000005 7.55692\" preserveAspectRatio=\"xMinYMin meet\"><g transform=\"matrix(1,0,0,-1,0,-0.0030000000000001137)\"><path fill-rule=\"evenodd\" fill=\"#66cc99\" stroke=\"#555555\" stroke-width=\"0.15117840000000002\" opacity=\"0.6\" d=\"M -0.33199999999999996,-3.4859999999999998 L -0.381,-3.479 L -0.43899999999999995,-3.476 L -0.49800000000000005,-3.467 L -0.557,-3.4590000000000005 L -0.615,-3.45 L -0.674,-3.441 L -0.718,-3.428 L -0.732,-3.4229999999999996 L -0.791,-3.415 L -0.85,-3.4 L -0.908,-3.3869999999999996 L -0.9560000000000001,-3.3689999999999998 L -0.967,-3.3649999999999998 L -1.025,-3.349 L -1.084,-3.3340000000000005 L -1.143,-3.312 L -1.1460000000000001,-3.311 L -1.201,-3.285 L -1.26,-3.276 L -1.31,-3.2520000000000002 L -1.318,-3.247 L -1.377,-3.224 L -1.436,-3.2009999999999996 L -1.448,-3.193 L -1.494,-3.1670000000000003 L -1.553,-3.146 L -1.5710000000000002,-3.1350000000000002 L -1.611,-3.112 L -1.67,-3.084 L -1.682,-3.076 L -1.7289999999999999,-3.0469999999999997 L -1.7870000000000001,-3.019 L -1.7890000000000001,-3.018 L -1.846,-2.9829999999999997 L -1.884,-2.959 L -1.904,-2.943 L -1.9629999999999999,-2.909 L -1.9739999999999998,-2.9 L -2.021,-2.868 L -2.057,-2.842 L -2.08,-2.825 L -2.133,-2.783 L -2.1390000000000002,-2.778 L -2.197,-2.737 L -2.21,-2.725 L -2.256,-2.686 L -2.2800000000000002,-2.666 L -2.314,-2.6350000000000002 L -2.346,-2.607 L -2.373,-2.582 L -2.41,-2.549 L -2.432,-2.5300000000000002 L -2.471,-2.4899999999999998 L -2.4899999999999998,-2.471 L -2.5300000000000002,-2.432 L -2.549,-2.41 L -2.582,-2.373 L -2.607,-2.346 L -2.6350000000000002,-2.314 L -2.666,-2.2800000000000002 L -2.6879999999999997,-2.256 L -2.725,-2.212 L -2.737,-2.197 L -2.778,-2.1390000000000002 L -2.783,-2.133 L -2.825,-2.08 L -2.842,-2.057 L -2.868,-2.021 L -2.9,-1.9739999999999998 L -2.909,-1.9629999999999999 L -2.944,-1.904 L -2.959,-1.884 L -2.982,-1.846 L -3.018,-1.7890000000000001 L -3.019,-1.7870000000000001 L -3.053,-1.7289999999999999 L -3.076,-1.689 L -3.088,-1.67 L -3.117,-1.611 L -3.1350000000000002,-1.582 L -3.1510000000000002,-1.553 L -3.1710000000000003,-1.494 L -3.193,-1.454 L -3.2039999999999997,-1.436 L -3.225,-1.377 L -3.2520000000000002,-1.3210000000000002 L -3.254,-1.318 L -3.276,-1.26 L -3.2950000000000004,-1.201 L -3.311,-1.169 L -3.3240000000000003,-1.143 L -3.3369999999999997,-1.084 L -3.354,-1.025 L -3.3689999999999998,-0.985 L -3.3770000000000002,-0.967 L -3.3920000000000003,-0.908 L -3.406,-0.85 L -3.4170000000000003,-0.791 L -3.428,-0.757 L -3.435,-0.732 L -3.444,-0.674 L -3.4560000000000004,-0.615 L -3.4659999999999997,-0.557 L -3.476,-0.49800000000000005 L -3.479,-0.43899999999999995 L -3.4859999999999998,-0.391 L -3.4880000000000004,-0.381 L -3.497,-0.322 L -3.5,-0.264 L -3.5020000000000002,-0.205 L -3.508,-0.146 L -3.5090000000000003,-0.088 L -3.511,-0.028999999999999998 L -3.511,0.028999999999999998 L -3.5090000000000003,0.088 L -3.508,0.146 L -3.5020000000000002,0.205 L -3.5,0.264 L -3.497,0.322 L -3.4880000000000004,0.381 L -3.4859999999999998,0.391 L -3.479,0.43899999999999995 L -3.476,0.49800000000000005 L -3.464,0.557 L -3.4539999999999997,0.615 L -3.444,0.674 L -3.435,0.732 L -3.428,0.751 L -3.4130000000000003,0.791 L -3.405,0.85 L -3.3909999999999996,0.908 L -3.376,0.967 L -3.3689999999999998,0.985 L -3.354,1.025 L -3.3369999999999997,1.084 L -3.318,1.143 L -3.311,1.157 L -3.29,1.201 L -3.277,1.26 L -3.2520000000000002,1.31 L -3.247,1.318 L -3.226,1.377 L -3.2009999999999996,1.436 L -3.193,1.45 L -3.1710000000000003,1.494 L -3.146,1.553 L -3.1350000000000002,1.5710000000000002 L -3.112,1.611 L -3.088,1.67 L -3.076,1.686 L -3.0469999999999997,1.7289999999999999 L -3.019,1.7870000000000001 L -3.018,1.7890000000000001 L -2.9829999999999997,1.846 L -2.959,1.884 L -2.943,1.904 L -2.909,1.9629999999999999 L -2.9,1.973 L -2.866,2.021 L -2.842,2.057 L -2.825,2.08 L -2.783,2.133 L -2.779,2.1390000000000002 L -2.732,2.197 L -2.725,2.207 L -2.684,2.256 L -2.666,2.2760000000000002 L -2.634,2.314 L -2.607,2.346 L -2.58,2.373 L -2.549,2.404 L -2.524,2.432 L -2.4899999999999998,2.4699999999999998 L -2.4699999999999998,2.4899999999999998 L -2.432,2.524 L -2.404,2.549 L -2.373,2.576 L -2.338,2.607 L -2.314,2.63 L -2.2760000000000002,2.666 L -2.256,2.683 L -2.206,2.725 L -2.197,2.7329999999999997 L -2.1390000000000002,2.774 L -2.128,2.783 L -2.08,2.819 L -2.049,2.842 L -2.021,2.862 L -1.9649999999999999,2.9 L -1.9629999999999999,2.902 L -1.904,2.94 L -1.877,2.959 L -1.846,2.98 L -1.7870000000000001,3.012 L -1.78,3.018 L -1.7289999999999999,3.0469999999999997 L -1.673,3.076 L -1.67,3.0780000000000003 L -1.611,3.105 L -1.565,3.1350000000000002 L -1.553,3.1420000000000003 L -1.494,3.161 L -1.4380000000000002,3.193 L -1.436,3.195 L -1.377,3.22 L -1.318,3.2409999999999997 L -1.298,3.2520000000000002 L -1.26,3.2700000000000005 L -1.201,3.287 L -1.143,3.306 L -1.134,3.311 L -1.084,3.3340000000000005 L -1.025,3.346 L -0.967,3.3590000000000004 L -0.9410000000000001,3.3689999999999998 L -0.908,3.382 L -0.85,3.3950000000000005 L -0.791,3.408 L -0.732,3.418 L -0.6980000000000001,3.428 L -0.674,3.435 L -0.615,3.444 L -0.557,3.4539999999999997 L -0.49800000000000005,3.463 L -0.43899999999999995,3.472 L -0.381,3.476 L -0.322,3.482 L -0.27799999999999997,3.4859999999999998 L -0.264,3.4880000000000004 L -0.205,3.4909999999999997 L -0.146,3.497 L -0.088,3.497 L -0.028999999999999998,3.497 L 0.028999999999999998,3.497 L 0.088,3.497 L 0.146,3.497 L 0.205,3.4909999999999997 L 0.264,3.4880000000000004 L 0.271,3.4859999999999998 L 0.322,3.4770000000000003 L 0.381,3.476 L 0.43899999999999995,3.467 L 0.49800000000000005,3.461 L 0.557,3.4509999999999996 L 0.615,3.441 L 0.674,3.4299999999999997 L 0.679,3.428 L 0.732,3.4130000000000003 L 0.791,3.405 L 0.85,3.3909999999999996 L 0.908,3.3770000000000002 L 0.9269999999999999,3.3689999999999998 L 0.967,3.354 L 1.025,3.3409999999999997 L 1.084,3.3240000000000003 L 1.117,3.311 L 1.143,3.3 L 1.201,3.281 L 1.26,3.2600000000000002 L 1.274,3.2520000000000002 L 1.318,3.2299999999999995 L 1.377,3.213 L 1.415,3.193 L 1.436,3.183 L 1.494,3.16 L 1.5390000000000001,3.1350000000000002 L 1.553,3.127 L 1.611,3.102 L 1.657,3.076 L 1.67,3.068 L 1.7289999999999999,3.039 L 1.7600000000000002,3.018 L 1.7870000000000001,3.0 L 1.846,2.967 L 1.857,2.959 L 1.904,2.927 L 1.943,2.9 L 1.9629999999999999,2.8850000000000002 L 2.021,2.85 L 2.0309999999999997,2.842 L 2.08,2.803 L 2.107,2.783 L 2.1390000000000002,2.7600000000000002 L 2.181,2.725 L 2.197,2.711 L 2.2510000000000003,2.666 L 2.256,2.662 L 2.314,2.6149999999999998 L 2.324,2.607 L 2.373,2.561 L 2.386,2.549 L 2.432,2.503 L 2.444,2.4899999999999998 L 2.4899999999999998,2.444 L 2.502,2.432 L 2.549,2.3850000000000002 L 2.561,2.373 L 2.607,2.324 L 2.616,2.314 L 2.662,2.256 L 2.666,2.25 L 2.71,2.197 L 2.725,2.18 L 2.755,2.1390000000000002 L 2.783,2.104 L 2.801,2.08 L 2.842,2.023 L 2.8440000000000003,2.021 L 2.882,1.9629999999999999 L 2.9,1.94 L 2.924,1.904 L 2.959,1.848 L 2.961,1.846 L 2.994,1.7870000000000001 L 3.018,1.7530000000000001 L 3.035,1.7289999999999999 L 3.0620000000000003,1.67 L 3.076,1.6460000000000001 L 3.097,1.611 L 3.122,1.553 L 3.1350000000000002,1.529 L 3.1550000000000002,1.494 L 3.176,1.436 L 3.193,1.403 L 3.207,1.377 L 3.225,1.318 L 3.2520000000000002,1.2630000000000001 L 3.254,1.26 L 3.275,1.201 L 3.29,1.143 L 3.311,1.099 L 3.318,1.084 L 3.3340000000000005,1.025 L 3.354,0.967 L 3.3649999999999998,0.908 L 3.3689999999999998,0.897 L 3.3869999999999996,0.85 L 3.397,0.791 L 3.4090000000000003,0.732 L 3.418,0.674 L 3.428,0.64 L 3.435,0.615 L 3.444,0.557 L 3.4530000000000003,0.49800000000000005 L 3.461,0.43899999999999995 L 3.467,0.381 L 3.476,0.322 L 3.479,0.264 L 3.4850000000000003,0.205 L 3.482,0.146 L 3.4859999999999998,0.10300000000000001 L 3.4880000000000004,0.088 L 3.4880000000000004,0.028999999999999998 L 3.4880000000000004,-0.028999999999999998 L 3.4880000000000004,-0.088 L 3.4880000000000004,-0.146 L 3.4859999999999998,-0.161 L 3.482,-0.205 L 3.479,-0.264 L 3.476,-0.322 L 3.467,-0.381 L 3.461,-0.43899999999999995 L 3.4530000000000003,-0.49800000000000005 L 3.444,-0.557 L 3.435,-0.615 L 3.428,-0.6519999999999999 L 3.4229999999999996,-0.674 L 3.4130000000000003,-0.732 L 3.4,-0.791 L 3.383,-0.85 L 3.371,-0.908 L 3.3689999999999998,-0.9119999999999999 L 3.348,-0.967 L 3.3369999999999997,-1.025 L 3.318,-1.084 L 3.311,-1.1019999999999999 L 3.2950000000000004,-1.143 L 3.278,-1.201 L 3.254,-1.26 L 3.2520000000000002,-1.2630000000000001 L 3.2270000000000003,-1.318 L 3.2090000000000005,-1.377 L 3.193,-1.4060000000000001 L 3.176,-1.436 L 3.16,-1.494 L 3.1350000000000002,-1.536 L 3.1239999999999997,-1.553 L 3.097,-1.611 L 3.076,-1.6460000000000001 L 3.0620000000000003,-1.67 L 3.035,-1.7289999999999999 L 3.018,-1.7530000000000001 L 2.994,-1.7870000000000001 L 2.967,-1.846 L 2.959,-1.857 L 2.927,-1.904 L 2.9,-1.943 L 2.8850000000000002,-1.9629999999999999 L 2.85,-2.021 L 2.842,-2.0309999999999997 L 2.803,-2.08 L 2.783,-2.107 L 2.7600000000000002,-2.1390000000000002 L 2.725,-2.1870000000000003 L 2.717,-2.197 L 2.668,-2.256 L 2.666,-2.258 L 2.616,-2.314 L 2.607,-2.324 L 2.561,-2.373 L 2.549,-2.386 L 2.508,-2.432 L 2.4899999999999998,-2.452 L 2.452,-2.4899999999999998 L 2.432,-2.508 L 2.386,-2.549 L 2.373,-2.5620000000000003 L 2.327,-2.607 L 2.314,-2.618 L 2.258,-2.666 L 2.256,-2.668 L 2.197,-2.715 L 2.1870000000000003,-2.725 L 2.1390000000000002,-2.7640000000000002 L 2.116,-2.783 L 2.08,-2.809 L 2.036,-2.842 L 2.021,-2.855 L 1.9629999999999999,-2.891 L 1.952,-2.9 L 1.904,-2.931 L 1.861,-2.959 L 1.846,-2.9699999999999998 L 1.7870000000000001,-3.0 L 1.7600000000000002,-3.018 L 1.7289999999999999,-3.039 L 1.67,-3.071 L 1.6629999999999998,-3.076 L 1.611,-3.109 L 1.553,-3.13 L 1.545,-3.1350000000000002 L 1.494,-3.164 L 1.436,-3.1879999999999997 L 1.427,-3.193 L 1.377,-3.218 L 1.318,-3.2350000000000003 L 1.286,-3.2520000000000002 L 1.26,-3.2649999999999997 L 1.201,-3.285 L 1.143,-3.306 L 1.1320000000000001,-3.311 L 1.084,-3.3289999999999997 L 1.025,-3.346 L 0.967,-3.3590000000000004 L 0.9410000000000001,-3.3689999999999998 L 0.908,-3.382 L 0.85,-3.3939999999999997 L 0.791,-3.408 L 0.732,-3.418 L 0.6980000000000001,-3.428 L 0.674,-3.435 L 0.615,-3.444 L 0.557,-3.4539999999999997 L 0.49800000000000005,-3.464 L 0.43899999999999995,-3.473 L 0.381,-3.479 L 0.322,-3.482 L 0.3,-3.4859999999999998 L 0.264,-3.4939999999999998 L 0.205,-3.497 L 0.146,-3.5 L 0.088,-3.5 L 0.028999999999999998,-3.5 L -0.028999999999999998,-3.5 L -0.088,-3.5 L -0.146,-3.5 L -0.205,-3.497 L -0.264,-3.4909999999999997 L -0.322,-3.4880000000000004 L -0.33199999999999996,-3.4859999999999998 z\" /></g></svg>"
      ],
      "text/plain": [
       "<POLYGON Z ((-0.332 -3.486 0, -0.381 -3.479 0, -0.439 -3.476 0, -0.498 -3.46...>"
      ]
     },
     "execution_count": 36,
     "metadata": {},
     "output_type": "execute_result"
    }
   ],
   "source": [
    "shapely.union_all(contours)\n"
   ]
  },
  {
   "cell_type": "code",
   "execution_count": 37,
   "metadata": {},
   "outputs": [
    {
     "ename": "NameError",
     "evalue": "name 'b' is not defined",
     "output_type": "error",
     "traceback": [
      "\u001b[1;31m---------------------------------------------------------------------------\u001b[0m",
      "\u001b[1;31mNameError\u001b[0m                                 Traceback (most recent call last)",
      "Cell \u001b[1;32mIn[37], line 1\u001b[0m\n\u001b[1;32m----> 1\u001b[0m contour_points \u001b[38;5;241m=\u001b[39m \u001b[43mb\u001b[49m[\u001b[38;5;241m3\u001b[39m]\n\u001b[0;32m      2\u001b[0m points \u001b[38;5;241m=\u001b[39m np\u001b[38;5;241m.\u001b[39marray(contour_points\u001b[38;5;241m.\u001b[39mContourData)\u001b[38;5;241m.\u001b[39mreshape(\u001b[38;5;241m-\u001b[39m\u001b[38;5;241m1\u001b[39m,\u001b[38;5;241m3\u001b[39m)\n\u001b[0;32m      3\u001b[0m points \u001b[38;5;241m=\u001b[39m points \u001b[38;5;241m/\u001b[39m \u001b[38;5;241m10\u001b[39m  \u001b[38;5;66;03m# Convert from mm to cm\u001b[39;00m\n",
      "\u001b[1;31mNameError\u001b[0m: name 'b' is not defined"
     ]
    }
   ],
   "source": [
    "contour_points = b[3]\n",
    "points = np.array(contour_points.ContourData).reshape(-1,3)\n",
    "points = points / 10  # Convert from mm to cm\n",
    "contour = Polygon(points)\n",
    "contour.exterior.is_ccw"
   ]
  }
 ],
 "metadata": {
  "kernelspec": {
   "display_name": "StructureRelations",
   "language": "python",
   "name": "python3"
  },
  "language_info": {
   "codemirror_mode": {
    "name": "ipython",
    "version": 3
   },
   "file_extension": ".py",
   "mimetype": "text/x-python",
   "name": "python",
   "nbconvert_exporter": "python",
   "pygments_lexer": "ipython3",
   "version": "3.11.9"
  }
 },
 "nbformat": 4,
 "nbformat_minor": 2
}
