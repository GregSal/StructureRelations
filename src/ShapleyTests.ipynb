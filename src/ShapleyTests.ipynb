{
 "cells": [
  {
   "cell_type": "markdown",
   "metadata": {},
   "source": [
    "# Shapley Tests"
   ]
  },
  {
   "cell_type": "markdown",
   "metadata": {},
   "source": [
    "## Setup"
   ]
  },
  {
   "cell_type": "markdown",
   "metadata": {},
   "source": [
    "### Imports"
   ]
  },
  {
   "cell_type": "code",
   "execution_count": 6,
   "metadata": {},
   "outputs": [],
   "source": [
    "# Type imports\n",
    "from typing import Any, Dict, Tuple, List\n",
    "\n",
    "# Standard Libraries\n",
    "from enum import Enum, auto\n",
    "from pathlib import Path\n",
    "from math import sqrt, pi, sin, cos, tan, radians\n",
    "from statistics import mean\n",
    "from itertools import zip_longest\n",
    "from dataclasses import dataclass, field, asdict\n",
    "\n",
    "# Shared Packages\n",
    "import numpy as np\n",
    "import pandas as pd\n",
    "import xlwings as xw\n",
    "import matplotlib.pyplot as plt\n",
    "#import PySimpleGUI as sg\n",
    "import pydicom\n",
    "import shapely\n",
    "from shapely.plotting import plot_polygon, plot_points\n",
    "\n",
    "# Local functions and classes\n",
    "from types_and_classes import *\n"
   ]
  },
  {
   "cell_type": "markdown",
   "metadata": {},
   "source": [
    "### Global Settings"
   ]
  },
  {
   "cell_type": "code",
   "execution_count": 7,
   "metadata": {},
   "outputs": [],
   "source": [
    "PRECISION = 3\n"
   ]
  },
  {
   "cell_type": "code",
   "execution_count": 8,
   "metadata": {},
   "outputs": [],
   "source": [
    "%matplotlib inline"
   ]
  },
  {
   "cell_type": "markdown",
   "metadata": {},
   "source": [
    "### Testing the StructureSlice Class"
   ]
  },
  {
   "cell_type": "code",
   "execution_count": 9,
   "metadata": {},
   "outputs": [
    {
     "data": {
      "image/svg+xml": [
       "<svg xmlns=\"http://www.w3.org/2000/svg\" xmlns:xlink=\"http://www.w3.org/1999/xlink\" width=\"100.0\" height=\"100.0\" viewBox=\"-3.24 -3.24 6.48 6.48\" preserveAspectRatio=\"xMinYMin meet\"><g transform=\"matrix(1,0,0,-1,0,0.0)\"><g><path fill-rule=\"evenodd\" fill=\"#66cc99\" stroke=\"#555555\" stroke-width=\"0.12960000000000002\" opacity=\"0.6\" d=\"M 3.0,3.0 L 3.0,-3.0 L -3.0,-3.0 L -3.0,3.0 L 3.0,3.0 z\" /></g></g></svg>"
      ],
      "text/plain": [
       "<MULTIPOLYGON (((3 3, 3 -3, -3 -3, -3 3, 3 3)))>"
      ]
     },
     "execution_count": 9,
     "metadata": {},
     "output_type": "execute_result"
    }
   ],
   "source": [
    "box6 = shapely.Polygon(box_points(6))\n",
    "a = StructureSlice([box6])\n",
    "a.contour"
   ]
  },
  {
   "cell_type": "code",
   "execution_count": 10,
   "metadata": {},
   "outputs": [
    {
     "data": {
      "image/svg+xml": [
       "<svg xmlns=\"http://www.w3.org/2000/svg\" xmlns:xlink=\"http://www.w3.org/1999/xlink\" width=\"100.0\" height=\"100.0\" viewBox=\"-3.24 -3.24 6.48 6.48\" preserveAspectRatio=\"xMinYMin meet\"><g transform=\"matrix(1,0,0,-1,0,0.0)\"><g><path fill-rule=\"evenodd\" fill=\"#66cc99\" stroke=\"#555555\" stroke-width=\"0.12960000000000002\" opacity=\"0.6\" d=\"M 3.0,3.0 L 3.0,-3.0 L -3.0,-3.0 L -3.0,3.0 L 3.0,3.0 z M 2.0,2.0 L -2.0,2.0 L -2.0,-2.0 L 2.0,-2.0 L 2.0,2.0 z\" /></g></g></svg>"
      ],
      "text/plain": [
       "<MULTIPOLYGON (((3 3, 3 -3, -3 -3, -3 3, 3 3), (2 2, -2 2, -2 -2, 2 -2, 2 2)))>"
      ]
     },
     "execution_count": 10,
     "metadata": {},
     "output_type": "execute_result"
    }
   ],
   "source": [
    "box6 = shapely.Polygon(box_points(6))\n",
    "box4 = shapely.Polygon(box_points(4))\n",
    "a = StructureSlice([box6, box4])\n",
    "a.contour"
   ]
  },
  {
   "cell_type": "code",
   "execution_count": 11,
   "metadata": {},
   "outputs": [
    {
     "data": {
      "image/svg+xml": [
       "<svg xmlns=\"http://www.w3.org/2000/svg\" xmlns:xlink=\"http://www.w3.org/1999/xlink\" width=\"100.0\" height=\"100.0\" viewBox=\"-3.24 -3.24 6.48 6.48\" preserveAspectRatio=\"xMinYMin meet\"><g transform=\"matrix(1,0,0,-1,0,0.0)\"><g><path fill-rule=\"evenodd\" fill=\"#66cc99\" stroke=\"#555555\" stroke-width=\"0.12960000000000002\" opacity=\"0.6\" d=\"M 3.0,3.0 L 3.0,-3.0 L -3.0,-3.0 L -3.0,3.0 L 3.0,3.0 z\" /></g></g></svg>"
      ],
      "text/plain": [
       "<MULTIPOLYGON (((3 3, 3 -3, -3 -3, -3 3, 3 3)))>"
      ]
     },
     "execution_count": 11,
     "metadata": {},
     "output_type": "execute_result"
    }
   ],
   "source": [
    "a.exterior"
   ]
  },
  {
   "cell_type": "code",
   "execution_count": 12,
   "metadata": {},
   "outputs": [
    {
     "data": {
      "image/svg+xml": [
       "<svg xmlns=\"http://www.w3.org/2000/svg\" xmlns:xlink=\"http://www.w3.org/1999/xlink\" width=\"100.0\" height=\"100.0\" viewBox=\"-4.32 -1.32 8.64 2.64\" preserveAspectRatio=\"xMinYMin meet\"><g transform=\"matrix(1,0,0,-1,0,0.0)\"><g><path fill-rule=\"evenodd\" fill=\"#66cc99\" stroke=\"#555555\" stroke-width=\"0.1728\" opacity=\"0.6\" d=\"M -2.0,1.0 L -2.0,-1.0 L -4.0,-1.0 L -4.0,1.0 L -2.0,1.0 z\" /><path fill-rule=\"evenodd\" fill=\"#66cc99\" stroke=\"#555555\" stroke-width=\"0.1728\" opacity=\"0.6\" d=\"M 4.0,1.0 L 4.0,-1.0 L 2.0,-1.0 L 2.0,1.0 L 4.0,1.0 z\" /></g></g></svg>"
      ],
      "text/plain": [
       "<MULTIPOLYGON (((-2 1, -2 -1, -4 -1, -4 1, -2 1)), ((4 1, 4 -1, 2 -1, 2 1, 4...>"
      ]
     },
     "execution_count": 12,
     "metadata": {},
     "output_type": "execute_result"
    }
   ],
   "source": [
    "# 2 2x2 boxes\n",
    "box2a = shapely.Polygon(box_points(2, offset_x=-3))\n",
    "box2b = shapely.Polygon(box_points(2, offset_x=3))\n",
    "a = StructureSlice([box2a, box2b])\n",
    "a.contour"
   ]
  },
  {
   "cell_type": "code",
   "execution_count": 13,
   "metadata": {},
   "outputs": [
    {
     "data": {
      "image/svg+xml": [
       "<svg xmlns=\"http://www.w3.org/2000/svg\" xmlns:xlink=\"http://www.w3.org/1999/xlink\" width=\"100.0\" height=\"100.0\" viewBox=\"-4.32 -1.32 8.64 2.64\" preserveAspectRatio=\"xMinYMin meet\"><g transform=\"matrix(1,0,0,-1,0,0.0)\"><g><path fill-rule=\"evenodd\" fill=\"#66cc99\" stroke=\"#555555\" stroke-width=\"0.1728\" opacity=\"0.6\" d=\"M -4.0,-1.0 L -4.0,1.0 L 4.0,1.0 L 4.0,-1.0 L -4.0,-1.0 z\" /></g></g></svg>"
      ],
      "text/plain": [
       "<MULTIPOLYGON (((-4 -1, -4 1, 4 1, 4 -1, -4 -1)))>"
      ]
     },
     "execution_count": 13,
     "metadata": {},
     "output_type": "execute_result"
    }
   ],
   "source": [
    "a.hull"
   ]
  },
  {
   "cell_type": "code",
   "execution_count": 14,
   "metadata": {},
   "outputs": [
    {
     "name": "stdout",
     "output_type": "stream",
     "text": [
      "Cannot merge overlapping contours.\n"
     ]
    }
   ],
   "source": [
    "### Simple overlap\n",
    "box6 = shapely.Polygon(box_points(6))\n",
    "offset_box6 = shapely.Polygon(box_points(6,offset_x=3))\n",
    "try:\n",
    "    StructureSlice([box6, offset_box6])\n",
    "except ValueError as err:\n",
    "    print(err)"
   ]
  },
  {
   "cell_type": "code",
   "execution_count": 15,
   "metadata": {},
   "outputs": [
    {
     "name": "stdout",
     "output_type": "stream",
     "text": [
      "Cannot merge overlapping contours.\n"
     ]
    }
   ],
   "source": [
    "# Inverted order\n",
    "box6 = shapely.Polygon(box_points(6))\n",
    "box4 = shapely.Polygon(box_points(4))\n",
    "try:\n",
    "    StructureSlice([box4, box6])\n",
    "except ValueError as err:\n",
    "    print(err)"
   ]
  },
  {
   "cell_type": "markdown",
   "metadata": {},
   "source": [
    "## Relationship Functions"
   ]
  },
  {
   "cell_type": "markdown",
   "metadata": {},
   "source": [
    "### Testing compare function"
   ]
  },
  {
   "cell_type": "code",
   "execution_count": 16,
   "metadata": {},
   "outputs": [
    {
     "data": {
      "text/plain": [
       "'111001001'"
      ]
     },
     "execution_count": 16,
     "metadata": {},
     "output_type": "execute_result"
    }
   ],
   "source": [
    "box6 = shapely.MultiPolygon([shapely.Polygon(box_points(6))])\n",
    "box4 = shapely.MultiPolygon([shapely.Polygon(box_points(4))])\n",
    "compare(box6, box4)"
   ]
  },
  {
   "cell_type": "code",
   "execution_count": 17,
   "metadata": {},
   "outputs": [
    {
     "data": {
      "text/plain": [
       "'100010001'"
      ]
     },
     "execution_count": 17,
     "metadata": {},
     "output_type": "execute_result"
    }
   ],
   "source": [
    "box6 = shapely.MultiPolygon([shapely.Polygon(box_points(6))])\n",
    "compare(box6, box6)"
   ]
  },
  {
   "cell_type": "code",
   "execution_count": 18,
   "metadata": {},
   "outputs": [
    {
     "data": {
      "text/plain": [
       "'001001111'"
      ]
     },
     "execution_count": 18,
     "metadata": {},
     "output_type": "execute_result"
    }
   ],
   "source": [
    "# 2 2x2 boxes\n",
    "box2a = shapely.Polygon(box_points(2, offset_x=-3))\n",
    "box2b = shapely.Polygon(box_points(2, offset_x=3))\n",
    "compare(box2a, box2b)"
   ]
  },
  {
   "cell_type": "code",
   "execution_count": 19,
   "metadata": {},
   "outputs": [
    {
     "data": {
      "text/plain": [
       "'001001001'"
      ]
     },
     "execution_count": 19,
     "metadata": {},
     "output_type": "execute_result"
    }
   ],
   "source": [
    "# compare with empty contour\n",
    "box6 = shapely.MultiPolygon([shapely.Polygon(box_points(6))])\n",
    "mt = shapely.MultiPolygon()\n",
    "compare(box6, mt)"
   ]
  },
  {
   "cell_type": "code",
   "execution_count": 20,
   "metadata": {},
   "outputs": [
    {
     "data": {
      "text/plain": [
       "'000000111'"
      ]
     },
     "execution_count": 20,
     "metadata": {},
     "output_type": "execute_result"
    }
   ],
   "source": [
    "# compare with empty contour\n",
    "box6 = shapely.MultiPolygon([shapely.Polygon(box_points(6))])\n",
    "mt = shapely.MultiPolygon()\n",
    "compare(mt, box6)"
   ]
  },
  {
   "cell_type": "markdown",
   "metadata": {},
   "source": [
    "### Testing relate function"
   ]
  },
  {
   "cell_type": "code",
   "execution_count": 21,
   "metadata": {},
   "outputs": [
    {
     "data": {
      "text/plain": [
       "'0b111001001111001001111001001'"
      ]
     },
     "execution_count": 21,
     "metadata": {},
     "output_type": "execute_result"
    }
   ],
   "source": [
    "box6 = shapely.Polygon(box_points(6))\n",
    "box4 = shapely.Polygon(box_points(4))\n",
    "a = StructureSlice([box6])\n",
    "b = StructureSlice([box4])\n",
    "bin(relate(a,b))"
   ]
  },
  {
   "cell_type": "code",
   "execution_count": 22,
   "metadata": {},
   "outputs": [
    {
     "data": {
      "text/plain": [
       "'0b100010001100010001100010001'"
      ]
     },
     "execution_count": 22,
     "metadata": {},
     "output_type": "execute_result"
    }
   ],
   "source": [
    "box6 = shapely.Polygon(box_points(6))\n",
    "a = StructureSlice([box6])\n",
    "bin(relate(a,a))"
   ]
  },
  {
   "cell_type": "code",
   "execution_count": 23,
   "metadata": {},
   "outputs": [
    {
     "data": {
      "text/plain": [
       "'0b1001111001001111001001111'"
      ]
     },
     "execution_count": 23,
     "metadata": {},
     "output_type": "execute_result"
    }
   ],
   "source": [
    "# 2 2x2 boxes\n",
    "box2a = shapely.Polygon(box_points(2, offset_x=-3))\n",
    "box2b = shapely.Polygon(box_points(2, offset_x=3))\n",
    "a = StructureSlice([box2a])\n",
    "b = StructureSlice([box2b])\n",
    "bin(relate(a,b))"
   ]
  },
  {
   "cell_type": "markdown",
   "metadata": {},
   "source": [
    "## Named Relationship Identification"
   ]
  },
  {
   "cell_type": "markdown",
   "metadata": {},
   "source": [
    "### Testing RelationshipType"
   ]
  },
  {
   "cell_type": "code",
   "execution_count": 24,
   "metadata": {},
   "outputs": [
    {
     "data": {
      "text/plain": [
       "False"
      ]
     },
     "execution_count": 24,
     "metadata": {},
     "output_type": "execute_result"
    }
   ],
   "source": [
    "bool(RelationshipType.UNKNOWN)"
   ]
  },
  {
   "cell_type": "code",
   "execution_count": 25,
   "metadata": {},
   "outputs": [
    {
     "data": {
      "text/plain": [
       "True"
      ]
     },
     "execution_count": 25,
     "metadata": {},
     "output_type": "execute_result"
    }
   ],
   "source": [
    "bool(RelationshipType.LOGICAL)"
   ]
  },
  {
   "cell_type": "markdown",
   "metadata": {},
   "source": [
    "# Relationship Types and Definitions"
   ]
  },
  {
   "cell_type": "markdown",
   "metadata": {},
   "source": [
    "### Color Coding\n",
    "<table style=\"border: 2px solid black; width=50px;\"><tr><td>\n",
    "<ul style=\"font-weight: 900; font-size: 20px;\">\n",
    "<li style=\"color: blue;\">region a</li>\n",
    "<li style=\"color: green;\">region b</li>\n",
    "<li style=\"color: orange;\">intersection of a & b</li></ul>\n",
    "</tr></td></>"
   ]
  },
  {
   "cell_type": "markdown",
   "metadata": {},
   "source": [
    "## Disjoint Relations\n"
   ]
  },
  {
   "cell_type": "markdown",
   "metadata": {},
   "source": [
    "<link rel=\"stylesheet\" href=\"relations.css\">\n",
    "<table width=\"400px\">\n",
    "<tr class=\"l\"><th>Surrounds</th><th>Transitive</t></tr>\n",
    "<td class=\"d\" colspan=\"2\">\n",
    "<span class=\"a\">a</span> and <span class=\"b\">b</span> have no interior points in common, and with holes filled <span class=\"b\">b</span> lies in the interior of <span class=\"a\">a</span>.\n",
    "</td></tr><tr><td>\n",
    "<img src=\"Images/Relationships/surrounds simple.png\" alt=\"surrounds simple\">\n",
    "<img src=\"Images/Relationships/surrounds with ring.png\" alt=\"surrounds ring\">\n",
    "</td><td>\n",
    "<table class=\"f\">\n",
    "<tr><th/><th>Hull</th><th>Exterior</th><th>Region</th></tr>\n",
    "<tr><th>Matrix</th>\n",
    "<td class=\"na\">N/A</td>\n",
    "<td><table class=\"matrix\">        \n",
    "    <tr><td>2</td><td>*</td><td>*</td></tr>\n",
    "    <tr><td>*</td><td>F</td><td>*</td></tr>\n",
    "    <tr><td>F</td><td>F</td><td>*</td></tr>\n",
    "    </table>\n",
    "    </td>\n",
    "<td><table class=\"matrix\">        \n",
    "    <tr><td>F</td><td>F</td><td>*</td></tr>\n",
    "    <tr><td>F</td><td>F</td><td>*</td></tr>\n",
    "    <tr><td>*</td><td>*</td><td>*</td></tr>\n",
    "    </table>\n",
    "    </td>\n",
    "</tr><tr class=\"bin\">\n",
    "<th>Mask</th><td><span>000000000</span></td><td><span>100010110</span></td><td><span>110110000</span></td></tr>\n",
    "<tr class=\"bin\">\n",
    "<th>Value</th><td><span>000000000</span></td><td><span>100000000</span></td><td><span>000000000</span></td></tr>\n",
    "</table></td></tr></table>\n"
   ]
  },
  {
   "cell_type": "code",
   "execution_count": 26,
   "metadata": {},
   "outputs": [],
   "source": [
    "surrounds_def = RelationshipTest(RelationshipType.SURROUNDS,\n",
    "                                 0b000000000100010110110110000,\n",
    "                                 0b000000000100000000000000000)\n",
    "\n",
    "def surrounds_example1():\n",
    "    circle6 = shapely.Polygon(circle_points(3))\n",
    "    circle4 = shapely.Polygon(circle_points(2))\n",
    "    circle2 = shapely.Polygon(circle_points(1))\n",
    "\n",
    "    a = StructureSlice([circle6, circle4])\n",
    "    b = StructureSlice([circle2])\n",
    "    return a, b\n",
    "\n",
    "def surrounds_example2():\n",
    "    circle6 = shapely.Polygon(circle_points(3))\n",
    "    circle5 = shapely.Polygon(circle_points(2.5))\n",
    "    circle4 = shapely.Polygon(circle_points(2))\n",
    "    circle3 = shapely.Polygon(circle_points(1.5))\n",
    "    circle2 = shapely.Polygon(circle_points(1))\n",
    "\n",
    "    a = StructureSlice([circle6, circle5, circle2])\n",
    "    b = StructureSlice([circle4, circle3])\n",
    "    return a, b"
   ]
  },
  {
   "cell_type": "code",
   "execution_count": 27,
   "metadata": {},
   "outputs": [
    {
     "name": "stdout",
     "output_type": "stream",
     "text": [
      "Surounds Mask  000000000  |  100010110  |  110110000 \n",
      "Surounds Value  000000000  |  100000000  |  000000000 \n",
      "Relation Binary  111001001  |  111001001  |  001001111 \n",
      "Relationship RelationshipType.SURROUNDS\n"
     ]
    },
    {
     "data": {
      "image/png": "[encoded data removed]",
      "text/plain": [
       "<Figure size 200x100 with 1 Axes>"
      ]
     },
     "metadata": {},
     "output_type": "display_data"
    }
   ],
   "source": [
    "print('Surounds Mask', bin_format(surrounds_def.mask))\n",
    "print('Surounds Value', bin_format(surrounds_def.value))\n",
    "\n",
    "a, b = surrounds_example1()\n",
    "relation_example(a, b, surrounds_def)\n"
   ]
  },
  {
   "cell_type": "code",
   "execution_count": 28,
   "metadata": {},
   "outputs": [
    {
     "name": "stdout",
     "output_type": "stream",
     "text": [
      "Relation Binary  111001001  |  111001001  |  001001111 \n",
      "Relationship RelationshipType.SURROUNDS\n"
     ]
    },
    {
     "data": {
      "image/png": "[encoded data removed]",
      "text/plain": [
       "<Figure size 200x100 with 1 Axes>"
      ]
     },
     "metadata": {},
     "output_type": "display_data"
    }
   ],
   "source": [
    "a, b = surrounds_example2()\n",
    "relation_example(a, b, surrounds_def)"
   ]
  },
  {
   "cell_type": "markdown",
   "metadata": {},
   "source": [
    "<link rel=\"stylesheet\" href=\"relations.css\">\n",
    "<table width=\"400px\">\n",
    "<tr class=\"l\"><th>Shelters</th><th>Transitive</th></tr>\n",
    "<td class=\"d\" colspan=\"2\">\n",
    "<span class=\"a\">a</span> and <span class=\"b\">b</span> \n",
    "have no points in common, \n",
    "but the Convex Hull of <span class=\"a\">a</span> contains <span class=\"b\">b</span>.\n",
    "</td></tr>\n",
    "<tr><td>\n",
    "<img src=\"Images/Relationships/shelters.png\" alt=\"Shelters\">\n",
    "</td><td>\n",
    "<table class=\"f\">\n",
    "<tr><th/><th>Hull</th><th>Exterior</th><th>Region</th></tr>\n",
    "<tr><th>Matrix</th>\n",
    "<td><table class=\"matrix\">        \n",
    "    <tr><td>2</td><td>1</td><td>2</td></tr>\n",
    "    <tr><td>*</td><td>*</td><td>*</td></tr>\n",
    "    <tr><td>F</td><td>*</td><td>*</td></tr>\n",
    "    </table>\n",
    "    </td>\n",
    "<td><table class=\"matrix\">        \n",
    "    <tr><td>F</td><td>F</td><td>*</td></tr>\n",
    "    <tr><td>F</td><td>F</td><td>*</td></tr>\n",
    "    <tr><td>*</td><td>*</td><td>*</td></tr>\n",
    "    </table>\n",
    "    </td>\n",
    "<td><table class=\"matrix\">        \n",
    "    <tr><td>F</td><td>F</td><td>*</td></tr>\n",
    "    <tr><td>F</td><td>F</td><td>*</td></tr>\n",
    "    <tr><td>*</td><td>*</td><td>*</td></tr>\n",
    "    </table>\n",
    "    </td>\n",
    "</tr>\n",
    "</tr><tr class=\"bin\">\n",
    "<th>Mask</th><td><span>111000100</span></td><td><span>110110000</span></td><td><span>110110000</span></td></tr>\n",
    "<tr class=\"bin\">\n",
    "<th>Value</th><td><span>111000000</span></td><td><span>000000000</span></td><td><span>000000000</span></td></tr>\n",
    "</table></td></tr></table>"
   ]
  },
  {
   "cell_type": "code",
   "execution_count": 29,
   "metadata": {},
   "outputs": [],
   "source": [
    "shelters_def = RelationshipTest(RelationshipType.SHELTERS, \n",
    "                                0b111000100110110000110110000, \n",
    "                                0b111000000000000000000000000)\n",
    "\n",
    "def shelters_examplee():\n",
    "    circle6 = shapely.Polygon(circle_points(3))\n",
    "    circle5 = shapely.Polygon(circle_points(2.5))\n",
    "    circle4_offset = shapely.Polygon(circle_points(2, offset_x=3.5))\n",
    "    shell = shapely.difference(circle6, circle5)\n",
    "    cove = shapely.difference(shell, circle4_offset)\n",
    "    circle2 = shapely.Polygon(circle_points(1, offset_x=1))\n",
    "\n",
    "    a = StructureSlice([cove])\n",
    "    b = StructureSlice([circle2])\n",
    "    return a, b\n"
   ]
  },
  {
   "cell_type": "code",
   "execution_count": 30,
   "metadata": {},
   "outputs": [
    {
     "name": "stdout",
     "output_type": "stream",
     "text": [
      "Shelters Mask  111000100  |  110110000  |  110110000 \n",
      "Shelters Value  111000000  |  000000000  |  000000000 \n",
      "Relation Binary  111001001  |  001001111  |  001001111 \n",
      "Relationship RelationshipType.SHELTERS\n"
     ]
    },
    {
     "data": {
      "image/png": "[encoded data removed]",
      "text/plain": [
       "<Figure size 200x100 with 1 Axes>"
      ]
     },
     "metadata": {},
     "output_type": "display_data"
    }
   ],
   "source": [
    "print('Shelters Mask', bin_format(shelters_def.mask))\n",
    "print('Shelters Value', bin_format(shelters_def.value))\n",
    "\n",
    "a, b = shelters_examplee()\n",
    "relation_example(a, b, shelters_def)"
   ]
  },
  {
   "cell_type": "markdown",
   "metadata": {},
   "source": [
    "<link rel=\"stylesheet\" href=\"relations.css\">\n",
    "<table width=\"600px\">\n",
    "<tr class=\"l\"><th>Disjoint</th><th>Symmetric</th></tr>\n",
    "<td class=\"d\" colspan=\"2\">The Convex Hull of \n",
    "<span class=\"a\">a</span> has no points in common wuth <span class=\"b\">b</span>.</td></tr>\n",
    "<tr><td>\n",
    "<img src=\"Images/Relationships/disjoint.png\" alt=\"Disjoint\" style=\"width: 640px\">\n",
    "</td><td>\n",
    "<table class=\"f\">\n",
    "<tr><th/><th>Hull</th><th>Exterior</th><th>Region</th></tr>\n",
    "<tr><th>Matrix</th>\n",
    "<td><table class=\"matrix\">        \n",
    "    <tr><td>F</td><td>F</td><td>*</td></tr>\n",
    "    <tr><td>F</td><td>F</td><td>*</td></tr>\n",
    "    <tr><td>*</td><td>*</td><td>*</td></tr>\n",
    "    </table>\n",
    "    </td>\n",
    "<td><table class=\"matrix\">        \n",
    "    <tr><td>F</td><td>F</td><td>*</td></tr>\n",
    "    <tr><td>F</td><td>F</td><td>*</td></tr>\n",
    "    <tr><td>*</td><td>*</td><td>*</td></tr>\n",
    "    </table>\n",
    "    </td>\n",
    "<td><table class=\"matrix\">        \n",
    "    <tr><td>F</td><td>F</td><td>*</td></tr>\n",
    "    <tr><td>F</td><td>F</td><td>*</td></tr>\n",
    "    <tr><td>*</td><td>*</td><td>*</td></tr>\n",
    "    </table>\n",
    "    </td>\n",
    "</tr>\n",
    "</tr><tr class=\"bin\">\n",
    "<th>Mask</th><td><span>110110000</span></td><td><span>110110000</span></td><td><span>110110000</span></td></tr>\n",
    "<tr class=\"bin\">\n",
    "<th>Value</th><td><span>000000000</span></td><td><span>000000000</span></td><td><span>000000000</span></td></tr>\n",
    "</table></td></tr></table>"
   ]
  },
  {
   "cell_type": "code",
   "execution_count": 31,
   "metadata": {},
   "outputs": [],
   "source": [
    "disjoint_def = RelationshipTest(RelationshipType.DISJOINT, \n",
    "                                0b110110000110110000110110000, \n",
    "                                0b000000000000000000000000000)\n",
    "\n",
    "def disjoint_examplee():\n",
    "    circle4_left = shapely.Polygon(circle_points(4, offset_x=-4.5))\n",
    "    circle4_right = shapely.Polygon(circle_points(4, offset_x=4.5))\n",
    "\n",
    "    a = StructureSlice([circle4_left])\n",
    "    b = StructureSlice([circle4_right])\n",
    "    return a, b\n"
   ]
  },
  {
   "cell_type": "code",
   "execution_count": 32,
   "metadata": {},
   "outputs": [
    {
     "name": "stdout",
     "output_type": "stream",
     "text": [
      "Disjoint Mask  110110000  |  110110000  |  110110000 \n",
      "Disjoint Value  000000000  |  000000000  |  000000000 \n",
      "Relation Binary  001001111  |  001001111  |  001001111 \n",
      "Relationship RelationshipType.DISJOINT\n"
     ]
    },
    {
     "data": {
      "image/png": "[encoded data removed]",
      "text/plain": [
       "<Figure size 200x100 with 1 Axes>"
      ]
     },
     "metadata": {},
     "output_type": "display_data"
    }
   ],
   "source": [
    "print('Disjoint Mask', bin_format(disjoint_def.mask))\n",
    "print('Disjoint Value', bin_format(disjoint_def.value))\n",
    "\n",
    "a, b = disjoint_examplee()\n",
    "relation_example(a, b, disjoint_def)"
   ]
  },
  {
   "cell_type": "markdown",
   "metadata": {},
   "source": [
    "<link rel=\"stylesheet\" href=\"relations.css\">\n",
    "<table width=\"400px\">\n",
    "<tr class=\"l\"><th>Borders</th><th>Symmetric</th></tr>\n",
    "<td class=\"d\" colspan=\"2\">The exterior boundaries of \n",
    "<span class=\"a\">a</span> and <span class=\"b\">b</span> \n",
    "have more than one point in common, but their interiors do not intersect.\n",
    "</td></tr>\n",
    "<tr><td>\n",
    "<img src=\"Images/Relationships/borders.png\" alt=\"Borders\">\n",
    "</td><td>\n",
    "<table class=\"f\">\n",
    "<tr><th/><th>Hull</th><th>Exterior</th><th>Region</th></tr>\n",
    "<tr><th>Matrix</th>\n",
    "<td class=\"na\">N/A</td>\n",
    "<td><table class=\"matrix\">        \n",
    "    <tr><td>F</td><td>F</td><td>*</td></tr>\n",
    "    <tr><td>F</td><td>1</td><td>*</td></tr>\n",
    "    <tr><td>*</td><td>*</td><td>*</td></tr>\n",
    "    </table>\n",
    "    </td>\n",
    "<td><table class=\"matrix\">        \n",
    "    <tr><td>F</td><td>F</td><td>*</td></tr>\n",
    "    <tr><td>F</td><td>1</td><td>*</td></tr>\n",
    "    <tr><td>*</td><td>*</td><td>*</td></tr>\n",
    "    </table>\n",
    "    </td>\n",
    "</tr>\n",
    "</tr><tr class=\"bin\">\n",
    "<th>Mask</th><td><span>000000000</span></td><td><span>110110000</span></td><td><span>110110000</span></td></tr>\n",
    "<tr class=\"bin\">\n",
    "<th>Value</th><td><span>000000000</span></td><td><span>000010000</span></td><td><span>000010000</span></td></tr>\n",
    "</table></td></tr></table>"
   ]
  },
  {
   "cell_type": "code",
   "execution_count": 33,
   "metadata": {},
   "outputs": [],
   "source": [
    "borders_def = RelationshipTest(RelationshipType.BORDERS, \n",
    "                               0b000000000110110000110110000, \n",
    "                               0b000000000000010000000010000)\n",
    "\n",
    "def borders_example():\n",
    "    box4_left = shapely.Polygon(box_points(4, offset_x=-2))\n",
    "    box4_right = shapely.Polygon(box_points(4, offset_x=2))\n",
    "\n",
    "    a = StructureSlice([box4_left])\n",
    "    b = StructureSlice([box4_right])\n",
    "    return a, b\n"
   ]
  },
  {
   "cell_type": "code",
   "execution_count": 34,
   "metadata": {},
   "outputs": [
    {
     "name": "stdout",
     "output_type": "stream",
     "text": [
      "Borders Mask  000000000  |  110110000  |  110110000 \n",
      "Borders Value  000000000  |  000010000  |  000010000 \n",
      "Relation Binary  001011111  |  001011111  |  001011111 \n",
      "Relationship RelationshipType.BORDERS\n"
     ]
    },
    {
     "data": {
      "image/png": "[encoded data removed]",
      "text/plain": [
       "<Figure size 200x100 with 1 Axes>"
      ]
     },
     "metadata": {},
     "output_type": "display_data"
    }
   ],
   "source": [
    "print('Borders Mask', bin_format(borders_def.mask))\n",
    "print('Borders Value', bin_format(borders_def.value))\n",
    "\n",
    "a, b = borders_example()\n",
    "relation_example(a, b, borders_def)"
   ]
  },
  {
   "cell_type": "markdown",
   "metadata": {},
   "source": [
    "<link rel=\"stylesheet\" href=\"relations.css\">\n",
    "<table width=\"400px\">\n",
    "<tr class=\"l\"><th>Confines</th><th>Symmetric</th></tr>\n",
    "<td class=\"d\" colspan=\"2\">The interior boundary of <span class=\"a\">a</span> \n",
    "and the exterior boundary of <span class=\"b\">b</span> \n",
    "have more than one point in common, but their interiors do not intersect.\n",
    "</td></tr>\n",
    "<tr><td>\n",
    "<img src=\"Images/Relationships/confines.png\" alt=\"Confines\">\n",
    "<img src=\"Images/Relationships/confines with island.png\" alt=\"Confines With Island\">\n",
    "</td><td>\n",
    "<table class=\"f\">\n",
    "<tr><th/><th>Hull</th><th>Exterior</th><th>Region</th></tr>\n",
    "<tr><th>Matrix</th>\n",
    "<td><table class=\"matrix\">        \n",
    "    <tr><td>*</td><td>*</td><td>*</td></tr>\n",
    "    <tr><td>*</td><td>*</td><td>*</td></tr>\n",
    "    <tr><td>*</td><td>*</td><td>*</td></tr>\n",
    "    </table>\n",
    "    </td>\n",
    "<td><table class=\"matrix\">        \n",
    "    <tr><td>2</td><td>*</td><td>2</td></tr>\n",
    "    <tr><td>*</td><td>F</td><td>*</td></tr>\n",
    "    <tr><td>F</td><td>F</td><td>*</td></tr>\n",
    "    </table>\n",
    "    </td>\n",
    "<td><table class=\"matrix\">        \n",
    "    <tr><td>F</td><td>F</td><td>*</td></tr>\n",
    "    <tr><td>F</td><td>1</td><td>*</td></tr>\n",
    "    <tr><td>*</td><td>*</td><td>*</td></tr>\n",
    "    </table>\n",
    "    </td>\n",
    "</tr>\n",
    "</tr><tr class=\"bin\">\n",
    "<th>Mask</th><td><span>000000000</span></td><td><span>101010110</span></td><td><span>110110000</span></td></tr>\n",
    "<tr class=\"bin\">\n",
    "<th>Value</th><td><span>000000000</span></td><td><span>101000000</span></td><td><span>000010000</span></td></tr>\n",
    "</table></td></tr></table>"
   ]
  },
  {
   "cell_type": "code",
   "execution_count": 35,
   "metadata": {},
   "outputs": [],
   "source": [
    "confines_def = RelationshipTest(RelationshipType.CONFINES, \n",
    "                                0b000000000101010110110110000, \n",
    "                                0b000000000101000000000010000)\n",
    "\n",
    "def confines_example1():\n",
    "    circle6 = shapely.Polygon(circle_points(3))\n",
    "    circle4 = shapely.Polygon(circle_points(2))\n",
    "    box4_offset = shapely.Polygon(box_points(4, offset_x=2))\n",
    "    cropped_circle = shapely.difference(circle4, box4_offset)\n",
    "\n",
    "    a = StructureSlice([circle6, circle4])\n",
    "    b = StructureSlice([cropped_circle])\n",
    "    return a, b\n",
    "\n",
    "def confines_example2():\n",
    "    circle6 = shapely.Polygon(circle_points(3))\n",
    "    circle4 = shapely.Polygon(circle_points(2))\n",
    "    circle2 = shapely.Polygon(circle_points(1))\n",
    "\n",
    "    a = StructureSlice([circle6, circle4, circle2])\n",
    "    b = StructureSlice([circle4, circle2])\n",
    "    return a, b"
   ]
  },
  {
   "cell_type": "code",
   "execution_count": 36,
   "metadata": {},
   "outputs": [
    {
     "name": "stdout",
     "output_type": "stream",
     "text": [
      "Confines Mask  000000000  |  101010110  |  110110000 \n",
      "Confines Value  000000000  |  101000000  |  000010000 \n",
      "Relation Binary  111001001  |  111001001  |  001011111 \n",
      "Relationship RelationshipType.CONFINES\n"
     ]
    },
    {
     "data": {
      "image/png": "[encoded data removed]",
      "text/plain": [
       "<Figure size 200x100 with 1 Axes>"
      ]
     },
     "metadata": {},
     "output_type": "display_data"
    }
   ],
   "source": [
    "print('Confines Mask', bin_format(confines_def.mask))\n",
    "print('Confines Value', bin_format(confines_def.value))\n",
    "\n",
    "a, b = confines_example1()\n",
    "relation_example(a, b, confines_def)"
   ]
  },
  {
   "cell_type": "code",
   "execution_count": 37,
   "metadata": {},
   "outputs": [
    {
     "name": "stdout",
     "output_type": "stream",
     "text": [
      "Relation Binary  111001001  |  111001001  |  001011101 \n",
      "Relationship RelationshipType.CONFINES\n"
     ]
    },
    {
     "data": {
      "image/png": "[encoded data removed]",
      "text/plain": [
       "<Figure size 200x100 with 1 Axes>"
      ]
     },
     "metadata": {},
     "output_type": "display_data"
    }
   ],
   "source": [
    "a, b = confines_example2()\n",
    "relation_example(a, b, confines_def)"
   ]
  },
  {
   "cell_type": "markdown",
   "metadata": {},
   "source": [
    "<link rel=\"stylesheet\" href=\"relations.css\">\n",
    "<table width=\"760px\">\n",
    "<tr class=\"l\"><th>Overlaps</th><th>Symmetric</th></tr>\n",
    "<td class=\"d\" colspan=\"2\">\n",
    "<span class=\"a\">a</span> and <span class=\"b\">b</span> \n",
    "have some but not all points in common.\n",
    "</td></tr>\n",
    "<tr><td width=300>\n",
    "<img src=\"Images/Relationships/overlaps simple.png\" alt=\"Overlaps\">\n",
    "<img src=\"Images/Relationships/overlaps ring.png\" alt=\"Overlaps With Ring\">\n",
    "<img src=\"Images/Relationships/overlaps surounded.png\" alt=\"Overlaps Surrounded\">\n",
    "<img src=\"Images/Relationships/overlaps ring surrounds simple.png\" alt=\"Ring Overlaps Simple\">\n",
    "<img src=\"Images/Relationships/archipelago contains simple.png\" alt=\"Ring Overlaps Simple\">\n",
    "</td><td>\n",
    "<table class=\"f\">\n",
    "<tr><th/><th>Hull</th><th>Exterior</th><th>Region</th></tr>\n",
    "<tr><th>Matrix</th>\n",
    "<td class=\"na\">N/A</td>\n",
    "<td class=\"na\">N/A</td>\n",
    "<td><table class=\"matrix\">        \n",
    "    <tr><td>2</td><td>*</td><td>2</td></tr>\n",
    "    <tr><td>*</td><td>*</td><td>*</td></tr>\n",
    "    <tr><td>2</td><td>*</td><td>*</td></tr>\n",
    "    </table>\n",
    "    </td>\n",
    "</tr>\n",
    "</tr><tr class=\"bin\">\n",
    "<th>Mask</th><td><span>000000000</span></td><td><span>000000000</span></td><td><span>101000100</span></td></tr>\n",
    "<tr class=\"bin\">\n",
    "<th>Value</th><td><span>000000000</span></td><td><span>000000000</span></td><td><span>101000100</span></td></tr>\n",
    "</table></td></tr></table>"
   ]
  },
  {
   "cell_type": "code",
   "execution_count": 38,
   "metadata": {},
   "outputs": [],
   "source": [
    "overlaps_def = RelationshipTest(RelationshipType.OVERLAPS, \n",
    "                                0b000000000000000000101000100, \n",
    "                                0b000000000000000000101000100)\n",
    "\n",
    "def overlaps_simple_example():\n",
    "    circle6 = shapely.Polygon(circle_points(3))\n",
    "    circle6_offset = shapely.Polygon(circle_points(3, offset_x=2))\n",
    "    box4_offset = shapely.Polygon(box_points(4, offset_x=2))\n",
    "\n",
    "    a = StructureSlice([circle6])\n",
    "    b = StructureSlice([circle6_offset])\n",
    "    return a, b\n",
    "\n",
    "def overlaps_ring_example():\n",
    "    circle6 = shapely.Polygon(circle_points(3))\n",
    "    circle4 = shapely.Polygon(circle_points(2))\n",
    "    circle6_offset = shapely.Polygon(circle_points(3, offset_x=2.5))\n",
    "\n",
    "    a = StructureSlice([circle6, circle4])\n",
    "    b = StructureSlice([circle6_offset])\n",
    "    return a, b\n",
    "\n",
    "def overlaps_surrounded_example():\n",
    "    circle6 = shapely.Polygon(circle_points(3))\n",
    "    circle4 = shapely.Polygon(circle_points(2))\n",
    "    circle2 = shapely.Polygon(circle_points(1.5, offset_x=1))\n",
    "\n",
    "    a = StructureSlice([circle6, circle4])\n",
    "    b = StructureSlice([circle2])\n",
    "    return a, b\n",
    "\n",
    "def overlaps_ring_surrounded_example():\n",
    "    circle6 = shapely.Polygon(circle_points(3))\n",
    "    circle3 = shapely.Polygon(circle_points(1.5))\n",
    "    circle4 = shapely.Polygon(circle_points(2))\n",
    "\n",
    "    a = StructureSlice([circle6, circle3])\n",
    "    b = StructureSlice([circle4])\n",
    "    return a, b\n",
    "\n",
    "def overlaps_archipelago_simple_example():\n",
    "    circle6 = shapely.Polygon(circle_points(3))\n",
    "    circle4 = shapely.Polygon(circle_points(2))\n",
    "    circle2 = shapely.Polygon(circle_points(1))\n",
    "\n",
    "    a = StructureSlice([circle6, circle4, circle2])\n",
    "    b = StructureSlice([circle4])\n",
    "    return a, b\n"
   ]
  },
  {
   "cell_type": "code",
   "execution_count": 39,
   "metadata": {},
   "outputs": [
    {
     "name": "stdout",
     "output_type": "stream",
     "text": [
      "Overlaps Mask  000000000  |  000000000  |  101000100 \n",
      "Overlaps Value  000000000  |  000000000  |  101000100 \n",
      "Relation Binary  111101111  |  111101111  |  111101111 \n",
      "Relationship RelationshipType.OVERLAPS\n"
     ]
    },
    {
     "data": {
      "image/png": "[encoded data removed]",
      "text/plain": [
       "<Figure size 200x100 with 1 Axes>"
      ]
     },
     "metadata": {},
     "output_type": "display_data"
    }
   ],
   "source": [
    "print('Overlaps Mask', bin_format(overlaps_def.mask))\n",
    "print('Overlaps Value', bin_format(overlaps_def.value))\n",
    "\n",
    "a, b = overlaps_simple_example()\n",
    "relation_example(a, b, overlaps_def)"
   ]
  },
  {
   "cell_type": "code",
   "execution_count": 40,
   "metadata": {},
   "outputs": [
    {
     "name": "stdout",
     "output_type": "stream",
     "text": [
      "Relation Binary  111101111  |  111101111  |  111101111 \n",
      "Relationship RelationshipType.OVERLAPS\n"
     ]
    },
    {
     "data": {
      "image/png": "[encoded data removed]",
      "text/plain": [
       "<Figure size 200x100 with 1 Axes>"
      ]
     },
     "metadata": {},
     "output_type": "display_data"
    }
   ],
   "source": [
    "a, b = overlaps_ring_example()\n",
    "relation_example(a, b, overlaps_def)"
   ]
  },
  {
   "cell_type": "code",
   "execution_count": 41,
   "metadata": {},
   "outputs": [
    {
     "name": "stdout",
     "output_type": "stream",
     "text": [
      "Relation Binary  111001001  |  111001001  |  111101111 \n",
      "Relationship RelationshipType.OVERLAPS\n"
     ]
    },
    {
     "data": {
      "image/png": "[encoded data removed]",
      "text/plain": [
       "<Figure size 200x100 with 1 Axes>"
      ]
     },
     "metadata": {},
     "output_type": "display_data"
    }
   ],
   "source": [
    "a, b = overlaps_surrounded_example()\n",
    "relation_example(a, b, overlaps_def)"
   ]
  },
  {
   "cell_type": "code",
   "execution_count": 42,
   "metadata": {},
   "outputs": [
    {
     "name": "stdout",
     "output_type": "stream",
     "text": [
      "Relation Binary  111001001  |  111001001  |  111101101 \n",
      "Relationship RelationshipType.OVERLAPS\n"
     ]
    },
    {
     "data": {
      "image/png": "[encoded data removed]",
      "text/plain": [
       "<Figure size 200x100 with 1 Axes>"
      ]
     },
     "metadata": {},
     "output_type": "display_data"
    }
   ],
   "source": [
    "a, b = overlaps_ring_surrounded_example()\n",
    "relation_example(a, b, overlaps_def)"
   ]
  },
  {
   "cell_type": "code",
   "execution_count": 43,
   "metadata": {},
   "outputs": [
    {
     "name": "stdout",
     "output_type": "stream",
     "text": [
      "Relation Binary  111001001  |  111001001  |  101111101 \n",
      "Relationship RelationshipType.OVERLAPS\n"
     ]
    },
    {
     "data": {
      "image/png": "[encoded data removed]",
      "text/plain": [
       "<Figure size 200x100 with 1 Axes>"
      ]
     },
     "metadata": {},
     "output_type": "display_data"
    }
   ],
   "source": [
    "a, b = overlaps_archipelago_simple_example()\n",
    "relation_example(a, b, overlaps_def)"
   ]
  },
  {
   "cell_type": "markdown",
   "metadata": {},
   "source": [
    "# Done To Here"
   ]
  },
  {
   "cell_type": "markdown",
   "metadata": {},
   "source": [
    "<link rel=\"stylesheet\" href=\"relations.css\">\n",
    "<table width=\"700px\">\n",
    "<tr class=\"l\"><th>Partition</th><th></th></tr>\n",
    "<td class=\"d\" colspan=\"2\">\n",
    "The boundaries of <span class=\"a\">a</span> and <span class=\"b\">b</span> have more than one point in common.\n",
    "No points of <span class=\"b\">b</span> are exterior to <span class=\"a\">a</span>, and some points in <span class=\"a\">a</span> are exterior to <span class=\"b\">b</span>.\n",
    "</td></tr>\n",
    "<tr><td width=300>\n",
    "<img src=\"Images/Relationships/partitions simple.png\" alt=\"Partition\">\n",
    "<img src=\"Images/Relationships/partitions archipelago with island.png\" alt=\"Partition With Island\">\n",
    "<img src=\"Images/Relationships/partitions partial ring.png\" alt=\"Partition Ring\">\n",
    "</td><td>\n",
    "<table class=\"f\">\n",
    "<tr><th/><th>Hull</th><th>Exterior</th><th>Region</th></tr>\n",
    "<tr><th>Matrix</th>\n",
    "<td class=\"na\">N/A</td>\n",
    "<td class=\"na\">N/A</td>\n",
    "<td><table class=\"matrix\">        \n",
    "    <tr><td>2</td><td>*</td><td>2</td></tr>\n",
    "    <tr><td>*</td><td>1</td><td>*</td></tr>\n",
    "    <tr><td>F</td><td>F</td><td>*</td></tr>\n",
    "    </table>\n",
    "    </td>\n",
    "</tr>\n",
    "</tr><tr class=\"bin\">\n",
    "<th>Mask</th><td><span>000000000</span></td><td><span>000000000</span></td><td><span>101010110</span></td></tr>\n",
    "<tr class=\"bin\">\n",
    "<th>Value</th><td><span>000000000</span></td><td><span>000000000</span></td><td><span>101010000</span></td></tr>\n",
    "</table></td></tr></table>"
   ]
  },
  {
   "cell_type": "code",
   "execution_count": 44,
   "metadata": {},
   "outputs": [],
   "source": [
    "partition_def = RelationshipTest(RelationshipType.PARTITION, \n",
    "                                0b000000000000000000101010110, \n",
    "                                0b000000000000000000101010000)\n",
    "\n",
    "def partition_example1():\n",
    "    box6 = poly_round(shapely.Polygon(box_points(6)))\n",
    "    box4_offset = shapely.Polygon(box_points(4, offset_x=-1))\n",
    "    a = StructureSlice([box6])\n",
    "    b = StructureSlice([box4_offset])\n",
    "    return a, b\n",
    "\n",
    "def partition_example2():\n",
    "    # Rouding required because pod floating point inaccuracies.\n",
    "    circle6 = poly_round(shapely.Polygon(circle_points(3)))\n",
    "    circle4_offset = shapely.Polygon(circle_points(2, offset_x=2))\n",
    "    cropped_circle = poly_round(shapely.intersection(circle6, circle4_offset))\n",
    "    a = StructureSlice([circle6])\n",
    "    b = StructureSlice([cropped_circle])\n",
    "    return a, b\n",
    "\n",
    "def partition_example3():\n",
    "    circle6 = shapely.Polygon(circle_points(3))\n",
    "    circle4 = shapely.Polygon(circle_points(2))\n",
    "    circle2 = shapely.Polygon(circle_points(1))\n",
    "    a = StructureSlice([circle6, circle4, circle2])\n",
    "    b = StructureSlice([circle2])\n",
    "    return a, b\n",
    "\n",
    "def partition_example4():\n",
    "    # Rouding required because pod floating point inaccuracies.\n",
    "    circle6 = shapely.Polygon(circle_points(3))\n",
    "    circle4 = shapely.Polygon(circle_points(2))\n",
    "    box6_offset = shapely.Polygon(box_points(6, offset_x=2))\n",
    "    ring = shapely.difference(circle6, circle4)\n",
    "    cropped_ring = poly_round(shapely.difference(ring, box6_offset),PRECISION)\n",
    "    a = StructureSlice([circle6, circle4])\n",
    "    b = StructureSlice([cropped_ring])\n",
    "    return a, b"
   ]
  },
  {
   "cell_type": "code",
   "execution_count": 47,
   "metadata": {},
   "outputs": [
    {
     "name": "stdout",
     "output_type": "stream",
     "text": [
      "Partition Mask  000000000  |  000000000  |  101010110 \n",
      "Partition Value  000000000  |  000000000  |  101010000 \n",
      "Relation Binary  111011001  |  111011001  |  111011001 \n",
      "Relationship RelationshipType.PARTITION\n"
     ]
    },
    {
     "data": {
      "image/png": "[encoded data removed]",
      "text/plain": [
       "<Figure size 200x100 with 1 Axes>"
      ]
     },
     "metadata": {},
     "output_type": "display_data"
    }
   ],
   "source": [
    "print('Partition Mask', bin_format(partition_def.mask))\n",
    "print('Partition Value', bin_format(partition_def.value))\n",
    "\n",
    "a, b = partition_example1()\n",
    "relation_example(a, b, partition_def)"
   ]
  },
  {
   "cell_type": "code",
   "execution_count": 52,
   "metadata": {},
   "outputs": [
    {
     "name": "stdout",
     "output_type": "stream",
     "text": [
      "Partition Mask  000000000  |  000000000  |  101010110 \n",
      "Partition Value  000000000  |  000000000  |  101010000 \n",
      "Relation Binary  111011001  |  111011001  |  111011001 \n",
      "Relationship RelationshipType.PARTITION\n"
     ]
    },
    {
     "data": {
      "image/png": "[encoded data removed]",
      "text/plain": [
       "<Figure size 200x100 with 1 Axes>"
      ]
     },
     "metadata": {},
     "output_type": "display_data"
    }
   ],
   "source": [
    "print('Partition Mask', bin_format(partition_def.mask))\n",
    "print('Partition Value', bin_format(partition_def.value))\n",
    "\n",
    "a, b = partition_example2()\n",
    "relation_example(a, b, partition_def)"
   ]
  },
  {
   "cell_type": "code",
   "execution_count": 48,
   "metadata": {},
   "outputs": [
    {
     "name": "stdout",
     "output_type": "stream",
     "text": [
      "Partition Mask  000000000  |  000000000  |  101010110 \n",
      "Partition Value  000000000  |  000000000  |  101010000 \n",
      "Relation Binary  111001001  |  111001001  |  101011001 \n",
      "Relationship RelationshipType.PARTITION\n"
     ]
    },
    {
     "data": {
      "image/png": "[encoded data removed]",
      "text/plain": [
       "<Figure size 200x100 with 1 Axes>"
      ]
     },
     "metadata": {},
     "output_type": "display_data"
    }
   ],
   "source": [
    "print('Partition Mask', bin_format(partition_def.mask))\n",
    "print('Partition Value', bin_format(partition_def.value))\n",
    "\n",
    "a, b = partition_example3()\n",
    "relation_example(a, b, partition_def)"
   ]
  },
  {
   "cell_type": "code",
   "execution_count": 49,
   "metadata": {},
   "outputs": [
    {
     "name": "stdout",
     "output_type": "stream",
     "text": [
      "Partition Mask  000000000  |  000000000  |  101010110 \n",
      "Partition Value  000000000  |  000000000  |  101010000 \n",
      "Relation Binary  111011001  |  111011001  |  111011001 \n",
      "Relationship RelationshipType.PARTITION\n"
     ]
    },
    {
     "data": {
      "image/png": "[encoded data removed]",
      "text/plain": [
       "<Figure size 200x100 with 1 Axes>"
      ]
     },
     "metadata": {},
     "output_type": "display_data"
    }
   ],
   "source": [
    "print('Partition Mask', bin_format(partition_def.mask))\n",
    "print('Partition Value', bin_format(partition_def.value))\n",
    "\n",
    "a, b = partition_example4()\n",
    "relation_example(a, b, partition_def)"
   ]
  },
  {
   "cell_type": "markdown",
   "metadata": {},
   "source": [
    "### Relationship Test Definitions"
   ]
  },
  {
   "cell_type": "code",
   "execution_count": null,
   "metadata": {},
   "outputs": [],
   "source": [
    "def identify_type(relation_binary) -> RelationshipType:\n",
    "    '''Applies a collection of definitions for named relationships to a supplied\n",
    "    relationship binary.\n",
    "\n",
    "    The defined relationships are:\n",
    "        Relationship      Region Test   Exterior Test   Hull Test\n",
    "        Disjoint          FF*FF****     FF*FF****       FF*FF****\n",
    "        Shelters          FF*FF****     FF*FF****       T***F*F**\n",
    "        Surrounds         FF*FF****     T***F*F**\n",
    "        Confines          FF*FT****     T***T****\n",
    "        Borders           FF*FT****     FF*FT****\n",
    "        Contains\t      T*T*F*FF*\n",
    "        Incorporates\t  T*T*T*FF*\n",
    "        Equals\t          T*F**FFF*\n",
    "        Overlaps          TTTT*TTT*\n",
    "\n",
    "    Args:\n",
    "        relation_binary (int): An integer generated from the combined DE-9IM\n",
    "            tests.\n",
    "\n",
    "    Returns:\n",
    "        RelationshipType: The identified RelationshipType if one of the tests\n",
    "            passes, otherwise RelationshipType.UNKNOWN.\n",
    "    '''\n",
    "    # Relationship Test Definitions\n",
    "    test_binaries = [\n",
    "        RelationshipTest(RelationshipType.OVERLAPS,\n",
    "            0b000000000000000000111101110,\n",
    "            0b000000000000000000111101110),\n",
    "        RelationshipTest(RelationshipType.EQUALS,\n",
    "            0b000000000000000000101001110,\n",
    "            0b000000000000000000100000000),\n",
    "        RelationshipTest(RelationshipType.INCORPORATES,\n",
    "            0b000000000000000000101010110,\n",
    "            0b000000000000000000101010000),\n",
    "        RelationshipTest(RelationshipType.CONTAINS,\n",
    "            0b000000000000000000101010110,\n",
    "            0b000000000000000000101000000),\n",
    "        RelationshipTest(RelationshipType.CONFINES,\n",
    "            0b000000000101010110110110000,\n",
    "            0b000000000101000000000010000),\n",
    "        RelationshipTest(RelationshipType.BORDERS,\n",
    "            0b000000000110110000110110000,\n",
    "            0b000000000000010000000010000),\n",
    "        RelationshipTest(RelationshipType.SHELTERS,\n",
    "            0b100010100110110000110110000,\n",
    "            0b000000000000000000100000000),\n",
    "        RelationshipTest(RelationshipType.SURROUNDS,\n",
    "            0b000000000100010110110110000,\n",
    "            0b000000000100000000000000000),\n",
    "        RelationshipTest(RelationshipType.DISJOINT,\n",
    "            0b110110000110110000110110000,\n",
    "            0b000000000000000000000000000)\n",
    "        ]\n",
    "    for rel_def in test_binaries:\n",
    "        result = rel_def.test(relation_binary)\n",
    "        if result:\n",
    "            return result\n",
    "    return RelationshipType.UNKNOWN\n",
    "\n"
   ]
  },
  {
   "cell_type": "markdown",
   "metadata": {},
   "source": [
    "#### Testing identify_type function"
   ]
  },
  {
   "cell_type": "markdown",
   "metadata": {},
   "source": [
    "### Contains"
   ]
  },
  {
   "cell_type": "code",
   "execution_count": null,
   "metadata": {},
   "outputs": [],
   "source": [
    "box6 = shapely.Polygon(box_points(6))\n",
    "box4 = shapely.Polygon(box_points(4))\n",
    "a = StructureSlice([box6])\n",
    "b = StructureSlice([box4])\n",
    "print(identify_type(relate(a,b)))"
   ]
  },
  {
   "cell_type": "markdown",
   "metadata": {},
   "source": [
    "### Equals"
   ]
  },
  {
   "cell_type": "code",
   "execution_count": null,
   "metadata": {},
   "outputs": [],
   "source": [
    "box6 = shapely.Polygon(box_points(6))\n",
    "a = StructureSlice([box6])\n",
    "print(identify_type(relate(a,a)))"
   ]
  },
  {
   "cell_type": "markdown",
   "metadata": {},
   "source": [
    "### Disjoint"
   ]
  },
  {
   "cell_type": "code",
   "execution_count": null,
   "metadata": {},
   "outputs": [],
   "source": [
    "# 2 2x2 boxes\n",
    "box2a = shapely.Polygon(box_points(2, offset_x=-3))\n",
    "box2b = shapely.Polygon(box_points(2, offset_x=3))\n",
    "a = StructureSlice([box2a])\n",
    "b = StructureSlice([box2b])\n",
    "print(identify_type(relate(a,b)))"
   ]
  },
  {
   "cell_type": "markdown",
   "metadata": {},
   "source": [
    "### Missing Polygon"
   ]
  },
  {
   "cell_type": "code",
   "execution_count": null,
   "metadata": {},
   "outputs": [],
   "source": [
    "box6 = shapely.Polygon(box_points(6))\n",
    "box0 = shapely.Polygon()\n",
    "a = StructureSlice([box6])\n",
    "b = StructureSlice([box0])\n",
    "print(identify_type(relate(a,b)))"
   ]
  },
  {
   "cell_type": "markdown",
   "metadata": {},
   "source": [
    "## Reference binaries"
   ]
  },
  {
   "cell_type": "code",
   "execution_count": null,
   "metadata": {},
   "outputs": [],
   "source": [
    "tmissing_other = 0b001001001\n",
    "missing_primary = 0b000000111\n",
    "\n",
    "contains_mask = 0b101010110\n",
    "contains_value = 0b101000000\n",
    "\n",
    "within_mask = 0b101011100\n",
    "within_value = 0b100000100\n"
   ]
  },
  {
   "cell_type": "markdown",
   "metadata": {},
   "source": [
    "### Contains"
   ]
  },
  {
   "cell_type": "code",
   "execution_count": null,
   "metadata": {},
   "outputs": [],
   "source": [
    "box6 = Polygon(box_points(6))\n",
    "box4 = Polygon(box_points(4))\n",
    "\n",
    "contains = shapely.relate(box6, box4)\n",
    "print(contains)\n",
    "\n",
    "# Make binary\n",
    "contains_str = contains.replace('F','0').replace('2','1')\n",
    "contains_bin = int(contains_str, base=2)\n",
    "\n",
    "# Slices with box6 but not box4\n",
    "combined_bin = contains_bin | missing_other\n",
    "print(bin(combined_bin))\n",
    "\n",
    "# OR of slices\n",
    "print(bin(combined_bin & contains_mask))\n",
    "print('Contains:', (combined_bin & contains_mask) == contains_value)\n",
    "\n",
    "shapely.union(box6.boundary, box4.boundary)"
   ]
  },
  {
   "cell_type": "markdown",
   "metadata": {},
   "source": [
    "### Within"
   ]
  },
  {
   "cell_type": "code",
   "execution_count": null,
   "metadata": {},
   "outputs": [],
   "source": [
    "within =shapely.relate(box4, box6)\n",
    "print(within)\n",
    "\n",
    "\n",
    "# Make binary\n",
    "within_str = within.replace('F','0').replace('2','1')\n",
    "within_bin = int(within_str, base=2)\n",
    "\n",
    "# Slices with box6 but not box4\n",
    "combined_bin = within_bin | missing_primary\n",
    "print(bin(combined_bin))\n",
    "\n",
    "# OR of slices\n",
    "print(bin(combined_bin & within_mask))\n",
    "print('Within:', (combined_bin & within_mask) == within_value)\n",
    "\n",
    "shapely.union(box6.boundary, box4.boundary)"
   ]
  },
  {
   "cell_type": "markdown",
   "metadata": {},
   "source": [
    "### Equals"
   ]
  },
  {
   "cell_type": "code",
   "execution_count": null,
   "metadata": {},
   "outputs": [],
   "source": [
    "box6 = Polygon(box_points(6))\n",
    "box4 = Polygon(box_points(4))\n",
    "hollow_box = shapely.difference(box6, box4)\n",
    "print(shapely.relate(hollow_box, hollow_box))\n",
    "hollow_box"
   ]
  },
  {
   "cell_type": "code",
   "execution_count": null,
   "metadata": {},
   "outputs": [],
   "source": [
    "fig = plt.figure(1, figsize=(2,1))\n",
    "ax = fig.add_subplot(121)\n",
    "ax.set_axis_off()\n",
    "ax.axis('equal')\n",
    "p = plot_polygon(hollow_box, ax=ax, add_points=True, color='red')"
   ]
  },
  {
   "cell_type": "markdown",
   "metadata": {},
   "source": [
    "### Simple overlap"
   ]
  },
  {
   "cell_type": "code",
   "execution_count": null,
   "metadata": {},
   "outputs": [],
   "source": [
    "box6 = Polygon(box_points(6))\n",
    "offset_box6 = Polygon(box_points(6,offset_x=3))\n",
    "print(shapely.relate(box6, offset_box6))\n",
    "\n",
    "shapely.union(box6.boundary, offset_box6.boundary)"
   ]
  },
  {
   "cell_type": "code",
   "execution_count": null,
   "metadata": {},
   "outputs": [],
   "source": [
    "circle_6 = Polygon(circle_points(6))\n",
    "offset_circle_6 = Polygon(circle_points(6,offset_x=3))\n",
    "print(shapely.relate(circle_6, offset_circle_6))\n",
    "\n",
    "shapely.union(circle_6.boundary, offset_circle_6.boundary)"
   ]
  },
  {
   "cell_type": "markdown",
   "metadata": {},
   "source": [
    "- *2121**1**1212* \n",
    "- > ***1*** because the boundaries overlap\n",
    "- *2121**0**1212* \n",
    "- > ***0*** because the boundaries only cross"
   ]
  },
  {
   "cell_type": "markdown",
   "metadata": {},
   "source": [
    "### Borders "
   ]
  },
  {
   "cell_type": "markdown",
   "metadata": {},
   "source": [
    "#### Borders Exterior "
   ]
  },
  {
   "cell_type": "code",
   "execution_count": null,
   "metadata": {},
   "outputs": [],
   "source": [
    "box6_right = Polygon(box_points(6, offset_x=6))\n",
    "box4_right = Polygon(box_points(4, offset_x=6))\n",
    "hollow_box_right = shapely.difference(box6_right, box4_right)\n",
    "#hollow_box_right"
   ]
  },
  {
   "cell_type": "code",
   "execution_count": null,
   "metadata": {},
   "outputs": [],
   "source": [
    "box4_inside = Polygon(box_points(2, 3.5, offset_x=-1))\n",
    "box2_inside = Polygon(box_points(1, 3, offset_x=-1))\n",
    "hollow_box_inside = shapely.difference(box4_inside, box2_inside)\n",
    "#hollow_box_inside"
   ]
  },
  {
   "cell_type": "code",
   "execution_count": null,
   "metadata": {},
   "outputs": [],
   "source": [
    "shapely.relate(hollow_box, hollow_box_right)\n",
    "shapely.union(hollow_box.boundary, hollow_box_right.boundary)"
   ]
  },
  {
   "cell_type": "code",
   "execution_count": null,
   "metadata": {},
   "outputs": [],
   "source": [
    "shape = Polygon(hollow_box.exterior)\n",
    "print(shapely.relate(shape, hollow_box_right))\n",
    "shapely.union(hollow_box.exterior, hollow_box_right)\n"
   ]
  },
  {
   "cell_type": "code",
   "execution_count": null,
   "metadata": {},
   "outputs": [],
   "source": [
    "shape = Polygon(hollow_box.interiors[0])\n",
    "print(shapely.relate(shape, hollow_box_right))\n",
    "shapely.union(hollow_box.interiors[0], hollow_box_right)\n"
   ]
  },
  {
   "cell_type": "markdown",
   "metadata": {},
   "source": [
    "#### Borders Interior "
   ]
  },
  {
   "cell_type": "code",
   "execution_count": null,
   "metadata": {},
   "outputs": [],
   "source": [
    "shape = Polygon(hollow_box.interiors[0])\n",
    "print(shapely.relate(shape, hollow_box_inside))\n"
   ]
  },
  {
   "cell_type": "code",
   "execution_count": null,
   "metadata": {},
   "outputs": [],
   "source": [
    "print(shapely.relate(shapely.Polygon(shapely.get_exterior_ring(hollow_box)),\n",
    "                     hollow_box_inside))\n",
    "shapely.union(hollow_box, hollow_box_inside.boundary)\n"
   ]
  },
  {
   "cell_type": "code",
   "execution_count": null,
   "metadata": {},
   "outputs": [],
   "source": [
    "shapely.get_exterior_ring(poly)"
   ]
  },
  {
   "cell_type": "markdown",
   "metadata": {},
   "source": [
    "#### Filled Interior"
   ]
  },
  {
   "cell_type": "code",
   "execution_count": null,
   "metadata": {},
   "outputs": [],
   "source": [
    "circle_6 = Polygon(circle_points(6))\n",
    "circle_4 = Polygon(circle_points(4))\n",
    "circle_2 = Polygon(circle_points(2))\n",
    "island_shape = shapely.union(shapely.difference(circle_6, circle_4),circle_2)\n",
    "island_border = shapely.difference(circle_4, circle_2)\n",
    "\n",
    "print(shapely.relate(island_shape, island_border))\n",
    "\n",
    "interior = Polygon(island_shape.geoms[0].interiors[0])\n",
    "print(shapely.relate(interior, island_border))\n",
    "shapely.union(island_shape.boundary, island_border.boundary)"
   ]
  },
  {
   "cell_type": "code",
   "execution_count": null,
   "metadata": {},
   "outputs": [],
   "source": [
    "circle_6 = Polygon(circle_points(6))\n",
    "circle_4 = Polygon(circle_points(4))\n",
    "circle_2 = Polygon(circle_points(2))\n",
    "island = shapely.union(shapely.difference(circle_6, circle_4),circle_2)\n",
    "island"
   ]
  },
  {
   "cell_type": "code",
   "execution_count": null,
   "metadata": {},
   "outputs": [],
   "source": [
    "offset_circle_6 = Polygon(circle_points(6,offset_x=6))\n",
    "offset_circle_4 = Polygon(circle_points(4,offset_x=6))\n",
    "offset_circle_2 = Polygon(circle_points(2,offset_x=6))\n",
    "offset_island = shapely.union(shapely.difference(offset_circle_6, offset_circle_4),offset_circle_2)\n"
   ]
  },
  {
   "cell_type": "code",
   "execution_count": null,
   "metadata": {},
   "outputs": [],
   "source": [
    "shapely.difference(island, offset_island)"
   ]
  },
  {
   "cell_type": "code",
   "execution_count": null,
   "metadata": {},
   "outputs": [],
   "source": [
    "shapely.union(island, offset_island)"
   ]
  },
  {
   "cell_type": "code",
   "execution_count": null,
   "metadata": {},
   "outputs": [],
   "source": [
    "offset_island.boundary"
   ]
  },
  {
   "cell_type": "code",
   "execution_count": null,
   "metadata": {},
   "outputs": [],
   "source": [
    "a = [g for g in offset_island.geoms]\n",
    "a[0]"
   ]
  },
  {
   "cell_type": "code",
   "execution_count": null,
   "metadata": {},
   "outputs": [],
   "source": [
    "a[1]"
   ]
  },
  {
   "cell_type": "code",
   "execution_count": null,
   "metadata": {},
   "outputs": [],
   "source": [
    "island"
   ]
  },
  {
   "cell_type": "code",
   "execution_count": null,
   "metadata": {},
   "outputs": [],
   "source": [
    "circle_35 = Polygon(circle_points(3.5))\n",
    "circle_25 = Polygon(circle_points(2.5))\n",
    "hollow = shapely.difference(circle_35, circle_25)\n",
    "hollow"
   ]
  },
  {
   "cell_type": "code",
   "execution_count": null,
   "metadata": {},
   "outputs": [],
   "source": [
    "print(shapely.relate(island, hollow))\n",
    "shapely.union(island, hollow)"
   ]
  },
  {
   "cell_type": "code",
   "execution_count": null,
   "metadata": {},
   "outputs": [],
   "source": [
    "shape = Polygon(island.geoms[0].exterior)\n",
    "print(shapely.relate(shape, hollow))\n",
    "shapely.union(island.geoms[0].exterior, hollow)\n"
   ]
  },
  {
   "cell_type": "code",
   "execution_count": null,
   "metadata": {},
   "outputs": [],
   "source": [
    "shape = Polygon(island.geoms[0].interiors[0])\n",
    "print(shapely.relate(shape, hollow))\n",
    "shapely.union(island.geoms[0].interiors[0], hollow)\n"
   ]
  },
  {
   "cell_type": "code",
   "execution_count": null,
   "metadata": {},
   "outputs": [],
   "source": [
    "shape = Polygon(island.geoms[1])\n",
    "print(shapely.relate(shape, hollow))\n",
    "shapely.union(island.geoms[1], hollow)\n"
   ]
  },
  {
   "cell_type": "markdown",
   "metadata": {},
   "source": [
    "# Read Structure with Islands from DICOM\n"
   ]
  },
  {
   "cell_type": "markdown",
   "metadata": {},
   "source": [
    "### File Paths"
   ]
  },
  {
   "cell_type": "code",
   "execution_count": null,
   "metadata": {},
   "outputs": [],
   "source": [
    "base_path = Path.cwd()\n",
    "data_path = base_path / 'Test Data'\n",
    "dicom_path = data_path / r'StructureVolumeTests\\SingleContours'"
   ]
  },
  {
   "cell_type": "code",
   "execution_count": null,
   "metadata": {},
   "outputs": [],
   "source": [
    "structure_names_file = dicom_path / 'RS.GJS_Struct_Tests.Islands.dcm'"
   ]
  },
  {
   "cell_type": "code",
   "execution_count": null,
   "metadata": {},
   "outputs": [],
   "source": [
    "RS_DICOM_Utilities.get_structure_file_info(structure_names_file)"
   ]
  },
  {
   "cell_type": "code",
   "execution_count": null,
   "metadata": {},
   "outputs": [],
   "source": [
    "dataset = pydicom.dcmread(structure_names_file)"
   ]
  },
  {
   "cell_type": "code",
   "execution_count": null,
   "metadata": {},
   "outputs": [],
   "source": [
    "roi_id = RS_DICOM_Utilities.get_names_nums(dataset)\n",
    "roi_id"
   ]
  },
  {
   "cell_type": "code",
   "execution_count": null,
   "metadata": {},
   "outputs": [],
   "source": [
    "a = [roi for roi in dataset.ROIContourSequence]"
   ]
  },
  {
   "cell_type": "code",
   "execution_count": null,
   "metadata": {},
   "outputs": [],
   "source": [
    "roi = a[2]\n",
    "structure_num = roi.ReferencedROINumber\n",
    "hasattr(roi, 'ContourSequence')"
   ]
  },
  {
   "cell_type": "code",
   "execution_count": null,
   "metadata": {},
   "outputs": [],
   "source": [
    "contours = []\n",
    "holes = []\n",
    "for contour_points in roi.ContourSequence:\n",
    "    points = np.array(contour_points.ContourData).reshape(-1,3)\n",
    "    points = points / 10  # Convert from mm to cm\n",
    "    contour = Polygon(points)\n",
    "    if contour.exterior.is_ccw:\n",
    "        contours.append(contour)\n",
    "    else:\n",
    "        holes.append(contour)"
   ]
  },
  {
   "cell_type": "markdown",
   "metadata": {},
   "source": [
    "1. sort holes & contours by decreasing area\n",
    "2. Create polygon from largest contour\n",
    "3. if next largest is contour and is not contained in polygon combine it otherwise postpone it\n",
    "4. if next largest is hole and is contained in polygon subtract it otherwise postpone it\n",
    "5. repeat for all holes & contours, revisiting postponed holes & contours."
   ]
  },
  {
   "cell_type": "code",
   "execution_count": null,
   "metadata": {},
   "outputs": [],
   "source": [
    "shapely.union_all(contours)\n"
   ]
  },
  {
   "cell_type": "code",
   "execution_count": null,
   "metadata": {},
   "outputs": [],
   "source": [
    "contour_points = b[3]\n",
    "points = np.array(contour_points.ContourData).reshape(-1,3)\n",
    "points = points / 10  # Convert from mm to cm\n",
    "contour = Polygon(points)\n",
    "contour.exterior.is_ccw"
   ]
  }
 ],
 "metadata": {
  "kernelspec": {
   "display_name": "StructureRelations",
   "language": "python",
   "name": "python3"
  },
  "language_info": {
   "codemirror_mode": {
    "name": "ipython",
    "version": 3
   },
   "file_extension": ".py",
   "mimetype": "text/x-python",
   "name": "python",
   "nbconvert_exporter": "python",
   "pygments_lexer": "ipython3",
   "version": "3.11.9"
  }
 },
 "nbformat": 4,
 "nbformat_minor": 2
}
