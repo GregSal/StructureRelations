{
 "cells": [
  {
   "cell_type": "markdown",
   "metadata": {},
   "source": [
    "# Shapley Tests"
   ]
  },
  {
   "cell_type": "markdown",
   "metadata": {},
   "source": [
    "## Setup"
   ]
  },
  {
   "cell_type": "markdown",
   "metadata": {},
   "source": [
    "### Imports"
   ]
  },
  {
   "cell_type": "code",
   "execution_count": 1,
   "metadata": {},
   "outputs": [],
   "source": [
    "# Type imports\n",
    "from typing import Any, Dict, Tuple, List\n",
    "\n",
    "# Standard Libraries\n",
    "from enum import Enum, auto\n",
    "from pathlib import Path\n",
    "from math import sqrt, pi, sin, cos, tan, radians\n",
    "from statistics import mean\n",
    "\n",
    "from dataclasses import dataclass, field, asdict\n",
    "from pprint import pprint\n",
    "\n",
    "# Shared Packages\n",
    "import numpy as np\n",
    "import pandas as pd\n",
    "import xlwings as xw\n",
    "import matplotlib.pyplot as plt\n",
    "#import PySimpleGUI as sg\n",
    "import pydicom\n",
    "import shapely\n",
    "from shapely.plotting import plot_polygon, plot_points\n",
    "\n",
    "# Local functions and classes\n",
    "from utilities import *\n",
    "from types_and_classes import *\n"
   ]
  },
  {
   "cell_type": "markdown",
   "metadata": {},
   "source": [
    "### Global Settings"
   ]
  },
  {
   "cell_type": "code",
   "execution_count": 2,
   "metadata": {},
   "outputs": [],
   "source": [
    "PRECISION = 2\n"
   ]
  },
  {
   "cell_type": "code",
   "execution_count": 3,
   "metadata": {},
   "outputs": [],
   "source": [
    "%matplotlib inline"
   ]
  },
  {
   "cell_type": "markdown",
   "metadata": {},
   "source": [
    "## Metric Functions"
   ]
  },
  {
   "cell_type": "markdown",
   "metadata": {},
   "source": [
    "### Margins\n",
    "- $Margin_\\perp = bounds(a) − bounds(b)$\n",
    "\n",
    "- $Margin_{min} = distance(a,b)$\n",
    "\n",
    "- $Margin_{max} = distance_{housdorff}(a,b)$\n",
    "\n",
    "**Used By:**\n",
    "- Contains\n",
    "- Surrounds\n",
    "- Shelters (Does not use $Margin_{max}$)\n"
   ]
  },
  {
   "cell_type": "code",
   "execution_count": 4,
   "metadata": {},
   "outputs": [],
   "source": [
    "def broadcast_coords(center: np.array, limits: np.array) -> list[np.array]:\n",
    "    '''Create points at each of the 4 limits, aligned with center_coords.\n",
    "\n",
    "    Each limit value in limits is placed into an xy pair along with the\n",
    "    appropriate x or y values from center_coords.\n",
    "\n",
    "    Args:\n",
    "        center_coords (np.array): length 2 array of float with center\n",
    "            coordinates.\n",
    "\n",
    "    limits (np.array): length 4 array of float with x and y limits.\n",
    "\n",
    "    precision (int, optional): The number of decimal points to round to.\n",
    "        Defaults to global PRECISION constant.\n",
    "\n",
    "Returns:\n",
    "    list[np.array]: A list of xy coordinate pairs at the specified limits,\n",
    "        which can form orthogonal lines crossing through the center point.\n",
    "    '''\n",
    "    xy_pairs = [None] * 4\n",
    "    for i in range(2):\n",
    "        # Start with center coordinates as the xy pairs.\n",
    "        xy_pairs[i * 2] = center.copy()\n",
    "        xy_pairs[i * 2 + 1] = center.copy()\n",
    "        for j in range(2):\n",
    "            idx = i * 2 + j\n",
    "            # replace the appropriate x or y value with one of the limits.\n",
    "            xy_pairs[idx][j] = limits[i][j]\n",
    "    return xy_pairs"
   ]
  },
  {
   "cell_type": "code",
   "execution_count": 5,
   "metadata": {},
   "outputs": [],
   "source": [
    "def length_between(line: shapely.LineString,\n",
    "                   poly_a: Contour, poly_b: Contour)->float:\n",
    "    '''Calculate the length of the line between poly_a and poly_b.\n",
    "\n",
    "    Args:\n",
    "        line (shapely.LineString): A line passing through both poly_a and\n",
    "            poly_b.\n",
    "        poly_a (Contour): The outer polygon.\n",
    "        poly_b (Contour): A polygon contained within poly_a\n",
    "\n",
    "    Returns:\n",
    "        float: The length of the line segment that lies between the outside\n",
    "            of poly_b and the outside of poly_a\n",
    "    '''\n",
    "    # disregard any holes in this calculation.\n",
    "    exterior_a = shapely.Polygon(poly_a.exterior)\n",
    "    exterior_b = shapely.Polygon(poly_b.exterior)\n",
    "    # Remove the part of the line inside of poly_b\n",
    "    line_outside_b = shapely.difference(line, exterior_b)\n",
    "    # Remove the part of the line outside of poly_a\n",
    "    line_between_ab = shapely.intersection(line_outside_b, exterior_a)\n",
    "    return shapely.length(line_between_ab)"
   ]
  },
  {
   "cell_type": "code",
   "execution_count": 6,
   "metadata": {},
   "outputs": [],
   "source": [
    "def orthogonal_margins(poly_a: Contour, poly_b: Contour,\n",
    "                       precision: int = PRECISION)->Dict[str, float]:\n",
    "    '''Calculate the orthogonal margins between poly_a and poly_b.\n",
    "\n",
    "    The orthogonal margins are the distances between the exterior of poly_b and\n",
    "    the boundary of poly_a along lines that are parallel to the x and y axes and\n",
    "    cross the centre point of poly_b.\n",
    "\n",
    "    Args:\n",
    "        poly_a (Contour): The outer polygon.\n",
    "        poly_b (Contour): A polygon contained within poly_a\n",
    "        precision (int, optional): _description_. Defaults to PRECISION.\n",
    "\n",
    "    Returns:\n",
    "        Dict[str, float]: A dictionary containing the orthogonal margins in\n",
    "            each direction. The keys of the dictionary are:\n",
    "                ['x_min', 'y_min', 'x_max', 'y_max']\n",
    "    '''\n",
    "    # The maximum extent of polygon a in orthogonal directions.\n",
    "    a_limits = np.array(poly_a.bounds).reshape((2,-1))\n",
    "    # Coordinates of the centre of polygon b.\n",
    "    b_center = (shapely.centroid(poly_b))\n",
    "    center_coords = shapely.get_coordinates(b_center)[0]\n",
    "    # Points at the maximum extent of a in line with the centre of b.\n",
    "    end_points = broadcast_coords(center_coords, a_limits)\n",
    "    orthogonal_lengths = {}\n",
    "    labels = ['x_min', 'y_min', 'x_max', 'y_max']\n",
    "    for label, limit_point in zip(labels, end_points):\n",
    "        # Make a line between the center of b and the limit of a.\n",
    "        line = shapely.LineString([limit_point, center_coords])\n",
    "        # Get the length of that line between the edges of b and a.\n",
    "        length = length_between(line, poly_a, poly_b)\n",
    "        orthogonal_lengths[label] = round(length, precision)\n",
    "    return orthogonal_lengths"
   ]
  },
  {
   "cell_type": "code",
   "execution_count": 7,
   "metadata": {},
   "outputs": [],
   "source": [
    "def min_margin(poly_a: Contour, poly_b: Contour,\n",
    "               precision: int = PRECISION)->Dict[str, float]:\n",
    "    boundary_a = poly_a.exterior\n",
    "    boundary_b = poly_b.exterior\n",
    "    distance = boundary_a.distance(boundary_b)\n",
    "    rounded_distance = round(distance, precision)\n",
    "    return rounded_distance\n"
   ]
  },
  {
   "cell_type": "code",
   "execution_count": 8,
   "metadata": {},
   "outputs": [],
   "source": [
    "def max_margin(poly_a: Contour, poly_b: Contour,\n",
    "               precision: int = PRECISION)->Dict[str, float]:\n",
    "    boundary_a = poly_a.exterior\n",
    "    boundary_b = poly_b.exterior\n",
    "    distance = boundary_a.hausdorff_distance(boundary_b)\n",
    "    rounded_distance = round(distance, precision)\n",
    "    return rounded_distance"
   ]
  },
  {
   "cell_type": "code",
   "execution_count": 9,
   "metadata": {},
   "outputs": [],
   "source": [
    "def margins(poly_a: StructureSlice, poly_b: StructureSlice,\n",
    "            relation: RelationshipType,\n",
    "            precision: int = PRECISION)->pd.DataFrame:\n",
    "\n",
    "    def calculate_margins(polygon_a: Contour, polygon_b: Contour,\n",
    "                          precision: int = PRECISION)->Dict[str, float]:\n",
    "        # Only calculate margins when the a polygon contains the b polygon.\n",
    "        if polygon_a.contains(polygon_b):\n",
    "            margin_dict = orthogonal_margins(polygon_a, polygon_b, precision)\n",
    "            margin_dict['max'] = max_margin(polygon_a, polygon_b, precision)\n",
    "            margin_dict['min'] = min_margin(polygon_a, polygon_b, precision)\n",
    "            return margin_dict\n",
    "        return {}\n",
    "\n",
    "    margin_list = []\n",
    "    # Compare all polygons on the same slice\n",
    "    for polygon_a, polygon_b in product(poly_a.contour.geoms,\n",
    "                                        poly_b.contour.geoms):\n",
    "        if relation == RelationshipType.CONTAINS:\n",
    "            margin_dict = calculate_margins(polygon_a, polygon_b, precision)\n",
    "        elif relation == RelationshipType.SURROUNDS:\n",
    "            # Compare all holes in each a polygon with each b polygon.\n",
    "            for hole_ring in polygon_a.interiors:\n",
    "                hole = shapely.Polygon(hole_ring)\n",
    "                margin_dict = calculate_margins(hole, polygon_b, precision)\n",
    "                if margin_dict:\n",
    "                    margin_list.append(margin_dict)\n",
    "                margin_dict = {}  # Clear margin_dict so it is not added twice.\n",
    "        elif relation == RelationshipType.SHELTERS:\n",
    "            # Get the convex hull for the a polygon.\n",
    "            hull = shapely.convex_hull(polygon_a)\n",
    "            margin_dict = calculate_margins(hull, polygon_b, precision)\n",
    "        if margin_dict:\n",
    "            margin_list.append(margin_dict)\n",
    "    if margin_list:\n",
    "        return pd.DataFrame(margin_list)\n",
    "    return pd.DataFrame()"
   ]
  },
  {
   "cell_type": "markdown",
   "metadata": {},
   "source": [
    "### Contains"
   ]
  },
  {
   "cell_type": "markdown",
   "metadata": {},
   "source": [
    "<link rel=\"stylesheet\" href=\"relations.css\">\n",
    "<table width=\"400px\">\n",
    "<tr class=\"l\"><th>Contains</th><th>Transitive</th></tr>\n",
    "<td class=\"d\" colspan=\"2\">\n",
    "All points of <span class=\"b\">b</span> lie in the interior of <span class=\"a\">a</span>, no points of <span class=\"b\">b</span> lie in the exterior of <span class=\"a\">a</span>, some points in <span class=\"a\">a</span> are exterior to <span class=\"b\">b</span>, and the boundaries of <span class=\"a\">a</span> and <span class=\"b\">b</span> do not intersect.\n",
    "</td></tr>\n",
    "<tr><td colspan=\"2\">\n",
    "<img src=\"Images/Relationships/contains simple.png\" alt=\"Contains\">\n",
    "<img src=\"Images/Relationships/contains with hole.png\" alt=\"Contains With Hole\">\n",
    "</td></tr>\n",
    "</table></td></tr></table>"
   ]
  },
  {
   "cell_type": "code",
   "execution_count": 10,
   "metadata": {},
   "outputs": [],
   "source": [
    "def contains_example1():\n",
    "    circle6 = shapely.Polygon(circle_points(3))\n",
    "    circle4 = shapely.Polygon(circle_points(2))\n",
    "    a = StructureSlice([circle6])\n",
    "    b = StructureSlice([circle4])\n",
    "    return a, b\n",
    "\n",
    "def contains_example2():\n",
    "    circle6 = shapely.Polygon(circle_points(3))\n",
    "    circle4 = shapely.Polygon(circle_points(2))\n",
    "    circle3 = shapely.Polygon(circle_points(1.5))\n",
    "    circle2 = shapely.Polygon(circle_points(1))\n",
    "    a = StructureSlice([circle6, circle4, circle3])\n",
    "    b = StructureSlice([circle2])\n",
    "    return a, b\n",
    "\n",
    "def contains_example3():\n",
    "    circle6 = shapely.Polygon(circle_points(3))\n",
    "    circle5 = shapely.Polygon(circle_points(2.5))\n",
    "    circle3 = shapely.Polygon(circle_points(1.5))\n",
    "    circle2 = shapely.Polygon(circle_points(1))\n",
    "    a = StructureSlice([circle6, circle2])\n",
    "    b = StructureSlice([circle5, circle3])\n",
    "    return a, b\n",
    "\n",
    "def contains_example4():\n",
    "    circle6 = shapely.Polygon(circle_points(3))\n",
    "    circle3_offset_x = shapely.Polygon(circle_points(1.5, offset_x=1.2))\n",
    "    a = StructureSlice([circle6])\n",
    "    b = StructureSlice([circle3_offset_x])\n",
    "    return a, b\n",
    "\n",
    "def contains_example5():\n",
    "    circle6_offset = shapely.Polygon(circle_points(3, offset_y=-1))\n",
    "    circle3_offset = shapely.Polygon(circle_points(1.5,\n",
    "                                                     offset_x=0.5,\n",
    "                                                     offset_y=-2))\n",
    "    a = StructureSlice([circle6_offset])\n",
    "    b = StructureSlice([circle3_offset])\n",
    "    return a, b\n",
    "\n",
    "def contains_example6():\n",
    "    circle4_left = shapely.Polygon(circle_points(2, offset_x=-3))\n",
    "    circle4_right = shapely.Polygon(circle_points(2, offset_x=3))\n",
    "    circle3_left = shapely.Polygon(circle_points(1.5, offset_x=-3))\n",
    "    circle3_right = shapely.Polygon(circle_points(1.5, offset_x=3))\n",
    "    circle5_up = shapely.Polygon(circle_points(2.5, offset_y=4))\n",
    "    circle2_up = shapely.Polygon(circle_points(1, offset_y=3))\n",
    "    circle3_down = shapely.Polygon(circle_points(1.5, offset_y=-2.5))\n",
    "    circle1_down = shapely.Polygon(circle_points(0.5, offset_y=-2))\n",
    "    a = StructureSlice([circle4_left, circle4_right, circle5_up, circle3_down])\n",
    "    b = StructureSlice([circle3_left, circle3_right, circle2_up, circle1_down])\n",
    "    return a, b"
   ]
  },
  {
   "cell_type": "code",
   "execution_count": 11,
   "metadata": {},
   "outputs": [
    {
     "data": {
      "image/png": "[encoded data removed]",
      "text/plain": [
       "<Figure size 200x100 with 1 Axes>"
      ]
     },
     "metadata": {},
     "output_type": "display_data"
    },
    {
     "data": {
      "text/html": [
       "<div>\n",
       "<style scoped>\n",
       "    .dataframe tbody tr th:only-of-type {\n",
       "        vertical-align: middle;\n",
       "    }\n",
       "\n",
       "    .dataframe tbody tr th {\n",
       "        vertical-align: top;\n",
       "    }\n",
       "\n",
       "    .dataframe thead th {\n",
       "        text-align: right;\n",
       "    }\n",
       "</style>\n",
       "<table border=\"1\" class=\"dataframe\">\n",
       "  <thead>\n",
       "    <tr style=\"text-align: right;\">\n",
       "      <th></th>\n",
       "      <th>x_min</th>\n",
       "      <th>y_min</th>\n",
       "      <th>x_max</th>\n",
       "      <th>y_max</th>\n",
       "      <th>max</th>\n",
       "      <th>min</th>\n",
       "    </tr>\n",
       "  </thead>\n",
       "  <tbody>\n",
       "    <tr>\n",
       "      <th>0</th>\n",
       "      <td>1.0</td>\n",
       "      <td>1.0</td>\n",
       "      <td>1.0</td>\n",
       "      <td>1.0</td>\n",
       "      <td>1.0</td>\n",
       "      <td>0.98</td>\n",
       "    </tr>\n",
       "  </tbody>\n",
       "</table>\n",
       "</div>"
      ],
      "text/plain": [
       "   x_min  y_min  x_max  y_max  max   min\n",
       "0    1.0    1.0    1.0    1.0  1.0  0.98"
      ]
     },
     "execution_count": 11,
     "metadata": {},
     "output_type": "execute_result"
    }
   ],
   "source": [
    "a, b = contains_example1()\n",
    "ax = plot_ab(a.contour, b.contour)\n",
    "relation_binary = relate(a,b)\n",
    "relation = identify_relation(relation_binary)\n",
    "margins(a, b, relation)\n"
   ]
  },
  {
   "cell_type": "code",
   "execution_count": 12,
   "metadata": {},
   "outputs": [
    {
     "data": {
      "image/png": "[encoded data removed]",
      "text/plain": [
       "<Figure size 200x100 with 1 Axes>"
      ]
     },
     "metadata": {},
     "output_type": "display_data"
    },
    {
     "data": {
      "text/html": [
       "<div>\n",
       "<style scoped>\n",
       "    .dataframe tbody tr th:only-of-type {\n",
       "        vertical-align: middle;\n",
       "    }\n",
       "\n",
       "    .dataframe tbody tr th {\n",
       "        vertical-align: top;\n",
       "    }\n",
       "\n",
       "    .dataframe thead th {\n",
       "        text-align: right;\n",
       "    }\n",
       "</style>\n",
       "<table border=\"1\" class=\"dataframe\">\n",
       "  <thead>\n",
       "    <tr style=\"text-align: right;\">\n",
       "      <th></th>\n",
       "      <th>x_min</th>\n",
       "      <th>y_min</th>\n",
       "      <th>x_max</th>\n",
       "      <th>y_max</th>\n",
       "      <th>max</th>\n",
       "      <th>min</th>\n",
       "    </tr>\n",
       "  </thead>\n",
       "  <tbody>\n",
       "    <tr>\n",
       "      <th>0</th>\n",
       "      <td>0.5</td>\n",
       "      <td>0.5</td>\n",
       "      <td>0.5</td>\n",
       "      <td>0.5</td>\n",
       "      <td>0.51</td>\n",
       "      <td>0.49</td>\n",
       "    </tr>\n",
       "  </tbody>\n",
       "</table>\n",
       "</div>"
      ],
      "text/plain": [
       "   x_min  y_min  x_max  y_max   max   min\n",
       "0    0.5    0.5    0.5    0.5  0.51  0.49"
      ]
     },
     "execution_count": 12,
     "metadata": {},
     "output_type": "execute_result"
    }
   ],
   "source": [
    "a, b = contains_example2()\n",
    "ax = plot_ab(a.contour, b.contour)\n",
    "relation_binary = relate(a,b)\n",
    "relation = identify_relation(relation_binary)\n",
    "margins(a, b, relation)"
   ]
  },
  {
   "cell_type": "code",
   "execution_count": 13,
   "metadata": {},
   "outputs": [
    {
     "data": {
      "image/png": "[encoded data removed]",
      "text/plain": [
       "<Figure size 200x100 with 1 Axes>"
      ]
     },
     "metadata": {},
     "output_type": "display_data"
    },
    {
     "data": {
      "text/html": [
       "<div>\n",
       "<style scoped>\n",
       "    .dataframe tbody tr th:only-of-type {\n",
       "        vertical-align: middle;\n",
       "    }\n",
       "\n",
       "    .dataframe tbody tr th {\n",
       "        vertical-align: top;\n",
       "    }\n",
       "\n",
       "    .dataframe thead th {\n",
       "        text-align: right;\n",
       "    }\n",
       "</style>\n",
       "<table border=\"1\" class=\"dataframe\">\n",
       "  <thead>\n",
       "    <tr style=\"text-align: right;\">\n",
       "      <th></th>\n",
       "      <th>x_min</th>\n",
       "      <th>y_min</th>\n",
       "      <th>x_max</th>\n",
       "      <th>y_max</th>\n",
       "      <th>max</th>\n",
       "      <th>min</th>\n",
       "    </tr>\n",
       "  </thead>\n",
       "  <tbody>\n",
       "    <tr>\n",
       "      <th>0</th>\n",
       "      <td>0.5</td>\n",
       "      <td>0.5</td>\n",
       "      <td>0.5</td>\n",
       "      <td>0.5</td>\n",
       "      <td>0.5</td>\n",
       "      <td>0.49</td>\n",
       "    </tr>\n",
       "  </tbody>\n",
       "</table>\n",
       "</div>"
      ],
      "text/plain": [
       "   x_min  y_min  x_max  y_max  max   min\n",
       "0    0.5    0.5    0.5    0.5  0.5  0.49"
      ]
     },
     "execution_count": 13,
     "metadata": {},
     "output_type": "execute_result"
    }
   ],
   "source": [
    "a, b = contains_example3()\n",
    "ax = plot_ab(a.contour, b.contour)\n",
    "relation_binary = relate(a,b)\n",
    "relation = identify_relation(relation_binary)\n",
    "margins(a, b, relation)"
   ]
  },
  {
   "cell_type": "code",
   "execution_count": 14,
   "metadata": {},
   "outputs": [
    {
     "data": {
      "image/png": "[encoded data removed]",
      "text/plain": [
       "<Figure size 200x100 with 1 Axes>"
      ]
     },
     "metadata": {},
     "output_type": "display_data"
    },
    {
     "data": {
      "text/html": [
       "<div>\n",
       "<style scoped>\n",
       "    .dataframe tbody tr th:only-of-type {\n",
       "        vertical-align: middle;\n",
       "    }\n",
       "\n",
       "    .dataframe tbody tr th {\n",
       "        vertical-align: top;\n",
       "    }\n",
       "\n",
       "    .dataframe thead th {\n",
       "        text-align: right;\n",
       "    }\n",
       "</style>\n",
       "<table border=\"1\" class=\"dataframe\">\n",
       "  <thead>\n",
       "    <tr style=\"text-align: right;\">\n",
       "      <th></th>\n",
       "      <th>x_min</th>\n",
       "      <th>y_min</th>\n",
       "      <th>x_max</th>\n",
       "      <th>y_max</th>\n",
       "      <th>max</th>\n",
       "      <th>min</th>\n",
       "    </tr>\n",
       "  </thead>\n",
       "  <tbody>\n",
       "    <tr>\n",
       "      <th>0</th>\n",
       "      <td>2.7</td>\n",
       "      <td>1.24</td>\n",
       "      <td>0.3</td>\n",
       "      <td>1.24</td>\n",
       "      <td>2.7</td>\n",
       "      <td>0.29</td>\n",
       "    </tr>\n",
       "  </tbody>\n",
       "</table>\n",
       "</div>"
      ],
      "text/plain": [
       "   x_min  y_min  x_max  y_max  max   min\n",
       "0    2.7   1.24    0.3   1.24  2.7  0.29"
      ]
     },
     "execution_count": 14,
     "metadata": {},
     "output_type": "execute_result"
    }
   ],
   "source": [
    "a, b = contains_example4()\n",
    "ax = plot_ab(a.contour, b.contour)\n",
    "relation_binary = relate(a,b)\n",
    "relation = identify_relation(relation_binary)\n",
    "margins(a, b, relation)"
   ]
  },
  {
   "cell_type": "code",
   "execution_count": 15,
   "metadata": {},
   "outputs": [
    {
     "data": {
      "image/png": "[encoded data removed]",
      "text/plain": [
       "<Figure size 200x100 with 1 Axes>"
      ]
     },
     "metadata": {},
     "output_type": "display_data"
    },
    {
     "data": {
      "text/html": [
       "<div>\n",
       "<style scoped>\n",
       "    .dataframe tbody tr th:only-of-type {\n",
       "        vertical-align: middle;\n",
       "    }\n",
       "\n",
       "    .dataframe tbody tr th {\n",
       "        vertical-align: top;\n",
       "    }\n",
       "\n",
       "    .dataframe thead th {\n",
       "        text-align: right;\n",
       "    }\n",
       "</style>\n",
       "<table border=\"1\" class=\"dataframe\">\n",
       "  <thead>\n",
       "    <tr style=\"text-align: right;\">\n",
       "      <th></th>\n",
       "      <th>x_min</th>\n",
       "      <th>y_min</th>\n",
       "      <th>x_max</th>\n",
       "      <th>y_max</th>\n",
       "      <th>max</th>\n",
       "      <th>min</th>\n",
       "    </tr>\n",
       "  </thead>\n",
       "  <tbody>\n",
       "    <tr>\n",
       "      <th>0</th>\n",
       "      <td>1.8</td>\n",
       "      <td>0.4</td>\n",
       "      <td>0.8</td>\n",
       "      <td>2.4</td>\n",
       "      <td>2.61</td>\n",
       "      <td>0.36</td>\n",
       "    </tr>\n",
       "  </tbody>\n",
       "</table>\n",
       "</div>"
      ],
      "text/plain": [
       "   x_min  y_min  x_max  y_max   max   min\n",
       "0    1.8    0.4    0.8    2.4  2.61  0.36"
      ]
     },
     "execution_count": 15,
     "metadata": {},
     "output_type": "execute_result"
    }
   ],
   "source": [
    "a, b = contains_example5()\n",
    "ax = plot_ab(a.contour, b.contour)\n",
    "relation_binary = relate(a,b)\n",
    "relation = identify_relation(relation_binary)\n",
    "margins(a, b, relation)"
   ]
  },
  {
   "cell_type": "code",
   "execution_count": 16,
   "metadata": {},
   "outputs": [
    {
     "data": {
      "image/png": "[encoded data removed]",
      "text/plain": [
       "<Figure size 200x100 with 1 Axes>"
      ]
     },
     "metadata": {},
     "output_type": "display_data"
    },
    {
     "data": {
      "text/html": [
       "<div>\n",
       "<style scoped>\n",
       "    .dataframe tbody tr th:only-of-type {\n",
       "        vertical-align: middle;\n",
       "    }\n",
       "\n",
       "    .dataframe tbody tr th {\n",
       "        vertical-align: top;\n",
       "    }\n",
       "\n",
       "    .dataframe thead th {\n",
       "        text-align: right;\n",
       "    }\n",
       "</style>\n",
       "<table border=\"1\" class=\"dataframe\">\n",
       "  <thead>\n",
       "    <tr style=\"text-align: right;\">\n",
       "      <th></th>\n",
       "      <th>x_min</th>\n",
       "      <th>y_min</th>\n",
       "      <th>x_max</th>\n",
       "      <th>y_max</th>\n",
       "      <th>max</th>\n",
       "      <th>min</th>\n",
       "    </tr>\n",
       "  </thead>\n",
       "  <tbody>\n",
       "    <tr>\n",
       "      <th>0</th>\n",
       "      <td>0.50</td>\n",
       "      <td>0.5</td>\n",
       "      <td>0.50</td>\n",
       "      <td>0.5</td>\n",
       "      <td>0.5</td>\n",
       "      <td>0.49</td>\n",
       "    </tr>\n",
       "    <tr>\n",
       "      <th>1</th>\n",
       "      <td>0.50</td>\n",
       "      <td>0.5</td>\n",
       "      <td>0.50</td>\n",
       "      <td>0.5</td>\n",
       "      <td>0.5</td>\n",
       "      <td>0.49</td>\n",
       "    </tr>\n",
       "    <tr>\n",
       "      <th>2</th>\n",
       "      <td>1.28</td>\n",
       "      <td>0.5</td>\n",
       "      <td>1.28</td>\n",
       "      <td>2.5</td>\n",
       "      <td>2.5</td>\n",
       "      <td>0.49</td>\n",
       "    </tr>\n",
       "    <tr>\n",
       "      <th>3</th>\n",
       "      <td>0.90</td>\n",
       "      <td>1.5</td>\n",
       "      <td>0.90</td>\n",
       "      <td>0.5</td>\n",
       "      <td>1.5</td>\n",
       "      <td>0.49</td>\n",
       "    </tr>\n",
       "  </tbody>\n",
       "</table>\n",
       "</div>"
      ],
      "text/plain": [
       "   x_min  y_min  x_max  y_max  max   min\n",
       "0   0.50    0.5   0.50    0.5  0.5  0.49\n",
       "1   0.50    0.5   0.50    0.5  0.5  0.49\n",
       "2   1.28    0.5   1.28    2.5  2.5  0.49\n",
       "3   0.90    1.5   0.90    0.5  1.5  0.49"
      ]
     },
     "execution_count": 16,
     "metadata": {},
     "output_type": "execute_result"
    }
   ],
   "source": [
    "a, b = contains_example6()\n",
    "ax = plot_ab(a.contour, b.contour)\n",
    "relation_binary = relate(a,b)\n",
    "relation = identify_relation(relation_binary)\n",
    "margins(a, b, relation)"
   ]
  },
  {
   "cell_type": "markdown",
   "metadata": {},
   "source": [
    "### Surrounds"
   ]
  },
  {
   "cell_type": "markdown",
   "metadata": {},
   "source": [
    "<link rel=\"stylesheet\" href=\"relations.css\">\n",
    "<table width=\"400px\">\n",
    "<tr class=\"l\"><th>Surrounds</th><th>Transitive</t></tr>\n",
    "<td class=\"d\" colspan=\"2\">\n",
    "<span class=\"a\">a</span> and <span class=\"b\">b</span> have no interior points in common, and with holes filled <span class=\"b\">b</span> lies in the interior of <span class=\"a\">a</span>.\n",
    "</td></tr><tr><td colspan=\"2\">\n",
    "<img src=\"Images/Relationships/surrounds simple.png\" alt=\"surrounds simple\">\n",
    "<img src=\"Images/Relationships/surrounds with ring.png\" alt=\"surrounds ring\">\n",
    "</td></tr>\n",
    "</table></td></tr></table>\n"
   ]
  },
  {
   "cell_type": "code",
   "execution_count": 17,
   "metadata": {},
   "outputs": [],
   "source": [
    "def surrounds_example1():\n",
    "    circle6 = shapely.Polygon(circle_points(3))\n",
    "    circle4 = shapely.Polygon(circle_points(2))\n",
    "    circle2 = shapely.Polygon(circle_points(1))\n",
    "\n",
    "    a = StructureSlice([circle6, circle4])\n",
    "    b = StructureSlice([circle2])\n",
    "    return a, b\n",
    "\n",
    "def surrounds_example2():\n",
    "    circle6 = shapely.Polygon(circle_points(3))\n",
    "    circle5 = shapely.Polygon(circle_points(2.5))\n",
    "    circle4 = shapely.Polygon(circle_points(2))\n",
    "    circle3 = shapely.Polygon(circle_points(1.5))\n",
    "    circle2 = shapely.Polygon(circle_points(1))\n",
    "\n",
    "    a = StructureSlice([circle6, circle5, circle2])\n",
    "    b = StructureSlice([circle4, circle3])\n",
    "    return a, b\n",
    "\n",
    "def surrounds_example3():\n",
    "    box10x5 = shapely.Polygon(box_points(10,5))\n",
    "    circle4_left = shapely.Polygon(circle_points(2, offset_x=-3))\n",
    "    circle3_right = shapely.Polygon(circle_points(1.5, offset_x=3))\n",
    "    circle2_left = shapely.Polygon(circle_points(1, offset_x=-3, offset_y=0.5))\n",
    "    circle2_right = shapely.Polygon(circle_points(1, offset_x=3))\n",
    "    a = StructureSlice([box10x5, circle4_left, circle3_right, circle2_right])\n",
    "    b = StructureSlice([circle2_left])\n",
    "    return a, b"
   ]
  },
  {
   "cell_type": "code",
   "execution_count": 18,
   "metadata": {},
   "outputs": [
    {
     "data": {
      "image/png": "[encoded data removed]",
      "text/plain": [
       "<Figure size 200x100 with 1 Axes>"
      ]
     },
     "metadata": {},
     "output_type": "display_data"
    },
    {
     "data": {
      "text/html": [
       "<div>\n",
       "<style scoped>\n",
       "    .dataframe tbody tr th:only-of-type {\n",
       "        vertical-align: middle;\n",
       "    }\n",
       "\n",
       "    .dataframe tbody tr th {\n",
       "        vertical-align: top;\n",
       "    }\n",
       "\n",
       "    .dataframe thead th {\n",
       "        text-align: right;\n",
       "    }\n",
       "</style>\n",
       "<table border=\"1\" class=\"dataframe\">\n",
       "  <thead>\n",
       "    <tr style=\"text-align: right;\">\n",
       "      <th></th>\n",
       "      <th>x_min</th>\n",
       "      <th>y_min</th>\n",
       "      <th>x_max</th>\n",
       "      <th>y_max</th>\n",
       "      <th>max</th>\n",
       "      <th>min</th>\n",
       "    </tr>\n",
       "  </thead>\n",
       "  <tbody>\n",
       "    <tr>\n",
       "      <th>0</th>\n",
       "      <td>1.0</td>\n",
       "      <td>1.0</td>\n",
       "      <td>1.0</td>\n",
       "      <td>1.0</td>\n",
       "      <td>1.0</td>\n",
       "      <td>0.97</td>\n",
       "    </tr>\n",
       "  </tbody>\n",
       "</table>\n",
       "</div>"
      ],
      "text/plain": [
       "   x_min  y_min  x_max  y_max  max   min\n",
       "0    1.0    1.0    1.0    1.0  1.0  0.97"
      ]
     },
     "execution_count": 18,
     "metadata": {},
     "output_type": "execute_result"
    }
   ],
   "source": [
    "a, b = surrounds_example1()\n",
    "ax = plot_ab(a.contour, b.contour)\n",
    "relation_binary = relate(a,b)\n",
    "relation = identify_relation(relation_binary)\n",
    "margins(a, b, relation)\n"
   ]
  },
  {
   "cell_type": "code",
   "execution_count": 19,
   "metadata": {},
   "outputs": [
    {
     "data": {
      "image/png": "[encoded data removed]",
      "text/plain": [
       "<Figure size 200x100 with 1 Axes>"
      ]
     },
     "metadata": {},
     "output_type": "display_data"
    },
    {
     "data": {
      "text/html": [
       "<div>\n",
       "<style scoped>\n",
       "    .dataframe tbody tr th:only-of-type {\n",
       "        vertical-align: middle;\n",
       "    }\n",
       "\n",
       "    .dataframe tbody tr th {\n",
       "        vertical-align: top;\n",
       "    }\n",
       "\n",
       "    .dataframe thead th {\n",
       "        text-align: right;\n",
       "    }\n",
       "</style>\n",
       "<table border=\"1\" class=\"dataframe\">\n",
       "  <thead>\n",
       "    <tr style=\"text-align: right;\">\n",
       "      <th></th>\n",
       "      <th>x_min</th>\n",
       "      <th>y_min</th>\n",
       "      <th>x_max</th>\n",
       "      <th>y_max</th>\n",
       "      <th>max</th>\n",
       "      <th>min</th>\n",
       "    </tr>\n",
       "  </thead>\n",
       "  <tbody>\n",
       "    <tr>\n",
       "      <th>0</th>\n",
       "      <td>0.5</td>\n",
       "      <td>0.5</td>\n",
       "      <td>0.5</td>\n",
       "      <td>0.5</td>\n",
       "      <td>0.51</td>\n",
       "      <td>0.49</td>\n",
       "    </tr>\n",
       "  </tbody>\n",
       "</table>\n",
       "</div>"
      ],
      "text/plain": [
       "   x_min  y_min  x_max  y_max   max   min\n",
       "0    0.5    0.5    0.5    0.5  0.51  0.49"
      ]
     },
     "execution_count": 19,
     "metadata": {},
     "output_type": "execute_result"
    }
   ],
   "source": [
    "a, b = surrounds_example2()\n",
    "ax = plot_ab(a.contour, b.contour)\n",
    "relation_binary = relate(a,b)\n",
    "relation = identify_relation(relation_binary)\n",
    "margins(a, b, relation)"
   ]
  },
  {
   "cell_type": "code",
   "execution_count": 20,
   "metadata": {},
   "outputs": [
    {
     "data": {
      "image/png": "[encoded data removed]",
      "text/plain": [
       "<Figure size 200x100 with 1 Axes>"
      ]
     },
     "metadata": {},
     "output_type": "display_data"
    },
    {
     "data": {
      "text/html": [
       "<div>\n",
       "<style scoped>\n",
       "    .dataframe tbody tr th:only-of-type {\n",
       "        vertical-align: middle;\n",
       "    }\n",
       "\n",
       "    .dataframe tbody tr th {\n",
       "        vertical-align: top;\n",
       "    }\n",
       "\n",
       "    .dataframe thead th {\n",
       "        text-align: right;\n",
       "    }\n",
       "</style>\n",
       "<table border=\"1\" class=\"dataframe\">\n",
       "  <thead>\n",
       "    <tr style=\"text-align: right;\">\n",
       "      <th></th>\n",
       "      <th>x_min</th>\n",
       "      <th>y_min</th>\n",
       "      <th>x_max</th>\n",
       "      <th>y_max</th>\n",
       "      <th>max</th>\n",
       "      <th>min</th>\n",
       "    </tr>\n",
       "  </thead>\n",
       "  <tbody>\n",
       "    <tr>\n",
       "      <th>0</th>\n",
       "      <td>0.9</td>\n",
       "      <td>1.5</td>\n",
       "      <td>0.9</td>\n",
       "      <td>0.5</td>\n",
       "      <td>1.5</td>\n",
       "      <td>0.49</td>\n",
       "    </tr>\n",
       "  </tbody>\n",
       "</table>\n",
       "</div>"
      ],
      "text/plain": [
       "   x_min  y_min  x_max  y_max  max   min\n",
       "0    0.9    1.5    0.9    0.5  1.5  0.49"
      ]
     },
     "execution_count": 20,
     "metadata": {},
     "output_type": "execute_result"
    }
   ],
   "source": [
    "a, b = surrounds_example3()\n",
    "ax = plot_ab(a.contour, b.contour)\n",
    "relation_binary = relate(a,b)\n",
    "relation = identify_relation(relation_binary)\n",
    "margins(a, b, relation)"
   ]
  },
  {
   "cell_type": "markdown",
   "metadata": {},
   "source": [
    "### Shelters"
   ]
  },
  {
   "cell_type": "markdown",
   "metadata": {},
   "source": [
    "<link rel=\"stylesheet\" href=\"relations.css\">\n",
    "<table width=\"400px\">\n",
    "<tr class=\"l\"><th>Shelters</th><th>Transitive</th></tr>\n",
    "<td class=\"d\" colspan=\"2\">\n",
    "<span class=\"a\">a</span> and <span class=\"b\">b</span> \n",
    "have no points in common, \n",
    "but the Convex Hull of <span class=\"a\">a</span> contains <span class=\"b\">b</span>.\n",
    "</td></tr>\n",
    "<tr><td colspan=\"2\">\n",
    "<img src=\"Images/Relationships/shelters.png\" alt=\"Shelters\">\n",
    "</td></tr>\n",
    "</table></td></tr></table>"
   ]
  },
  {
   "cell_type": "code",
   "execution_count": 21,
   "metadata": {},
   "outputs": [],
   "source": [
    "def shelters_example():\n",
    "    circle6 = shapely.Polygon(circle_points(3))\n",
    "    circle5 = shapely.Polygon(circle_points(2.5))\n",
    "    circle4_offset = shapely.Polygon(circle_points(2, offset_x=3.5))\n",
    "    shell = shapely.difference(circle6, circle5)\n",
    "    cove = shapely.difference(shell, circle4_offset)\n",
    "    circle2 = shapely.Polygon(circle_points(1, offset_x=1))\n",
    "\n",
    "    a = StructureSlice([cove])\n",
    "    b = StructureSlice([circle2])\n",
    "    return a, b\n"
   ]
  },
  {
   "cell_type": "code",
   "execution_count": 22,
   "metadata": {},
   "outputs": [
    {
     "data": {
      "image/png": "[encoded data removed]",
      "text/plain": [
       "<Figure size 200x100 with 1 Axes>"
      ]
     },
     "metadata": {},
     "output_type": "display_data"
    },
    {
     "data": {
      "text/html": [
       "<div>\n",
       "<style scoped>\n",
       "    .dataframe tbody tr th:only-of-type {\n",
       "        vertical-align: middle;\n",
       "    }\n",
       "\n",
       "    .dataframe tbody tr th {\n",
       "        vertical-align: top;\n",
       "    }\n",
       "\n",
       "    .dataframe thead th {\n",
       "        text-align: right;\n",
       "    }\n",
       "</style>\n",
       "<table border=\"1\" class=\"dataframe\">\n",
       "  <thead>\n",
       "    <tr style=\"text-align: right;\">\n",
       "      <th></th>\n",
       "      <th>x_min</th>\n",
       "      <th>y_min</th>\n",
       "      <th>x_max</th>\n",
       "      <th>y_max</th>\n",
       "      <th>max</th>\n",
       "      <th>min</th>\n",
       "    </tr>\n",
       "  </thead>\n",
       "  <tbody>\n",
       "    <tr>\n",
       "      <th>0</th>\n",
       "      <td>3.0</td>\n",
       "      <td>1.8</td>\n",
       "      <td>0.44</td>\n",
       "      <td>1.8</td>\n",
       "      <td>3.0</td>\n",
       "      <td>0.44</td>\n",
       "    </tr>\n",
       "  </tbody>\n",
       "</table>\n",
       "</div>"
      ],
      "text/plain": [
       "   x_min  y_min  x_max  y_max  max   min\n",
       "0    3.0    1.8   0.44    1.8  3.0  0.44"
      ]
     },
     "execution_count": 22,
     "metadata": {},
     "output_type": "execute_result"
    }
   ],
   "source": [
    "a, b = shelters_example()\n",
    "ax = plot_ab(a.contour, b.contour)\n",
    "relation_binary = relate(a,b)\n",
    "relation = identify_relation(relation_binary)\n",
    "margins(a, b, relation)"
   ]
  },
  {
   "cell_type": "markdown",
   "metadata": {},
   "source": [
    "# Ratio of lengths\n",
    "Ratio of the length of overlap to the length of the exterior perimeter.\n",
    "\tR_l=(2 l⁡(a_p∩b_p ))/(l⁡(a_px )+l⁡(b_px ) )  \n",
    "Where:\n",
    "a_p  is the perimeter of a\n",
    "a_px  is the exterior perimeter of a\n",
    "a_ph is the perimeter of the relevant hole in a\n",
    "l⁡(a_p )is the length of the perimeter of a\n"
   ]
  },
  {
   "cell_type": "markdown",
   "metadata": {},
   "source": [
    "## "
   ]
  },
  {
   "cell_type": "markdown",
   "metadata": {},
   "source": [
    "## "
   ]
  },
  {
   "cell_type": "markdown",
   "metadata": {},
   "source": [
    "# Relationship Types and Definitions"
   ]
  },
  {
   "cell_type": "markdown",
   "metadata": {},
   "source": [
    "<link rel=\"stylesheet\" href=\"relations.css\">\n",
    "<table width=\"300px\">\n",
    "<tr class=\"l\"><th>Disjoint</th><th>Symmetric</th></tr>\n",
    "<td class=\"d\" colspan=\"2\">The Convex Hull of \n",
    "<span class=\"a\">a</span> has no points in common with <span class=\"b\">b</span>.</td></tr>\n",
    "<tr><td colspan=\"2\">\n",
    "<img src=\"Images/Relationships/disjoint.png\" alt=\"Disjoint\" style=\"width: 200px\">\n",
    "</td></tr></table>"
   ]
  },
  {
   "cell_type": "code",
   "execution_count": 23,
   "metadata": {},
   "outputs": [],
   "source": [
    "def disjoint_example():\n",
    "    circle4_left = shapely.Polygon(circle_points(4, offset_x=-4.5))\n",
    "    circle4_right = shapely.Polygon(circle_points(4, offset_x=4.5))\n",
    "\n",
    "    a = StructureSlice([circle4_left])\n",
    "    b = StructureSlice([circle4_right])\n",
    "    return a, b\n"
   ]
  },
  {
   "cell_type": "code",
   "execution_count": 24,
   "metadata": {},
   "outputs": [],
   "source": [
    "a, b = disjoint_example()\n"
   ]
  },
  {
   "cell_type": "markdown",
   "metadata": {},
   "source": [
    "<link rel=\"stylesheet\" href=\"relations.css\">\n",
    "<table width=\"400px\">\n",
    "<tr class=\"l\"><th>Borders</th><th>Symmetric</th></tr>\n",
    "<td class=\"d\" colspan=\"2\">The exterior boundaries of \n",
    "<span class=\"a\">a</span> and <span class=\"b\">b</span> \n",
    "have more than one point in common, but their interiors do not intersect.\n",
    "</td></tr>\n",
    "<tr><td colspan=\"2\">\n",
    "<img src=\"Images/Relationships/borders.png\" alt=\"Borders\">\n",
    "<img src=\"Images/Relationships/Concave Borders.png\" alt=\"Concave Borders\">\n",
    "</tr></table>"
   ]
  },
  {
   "cell_type": "code",
   "execution_count": 25,
   "metadata": {},
   "outputs": [],
   "source": [
    "def borders_example1():\n",
    "    box4_left = shapely.Polygon(box_points(4, offset_x=-2))\n",
    "    box4_right = shapely.Polygon(box_points(4, offset_x=2))\n",
    "\n",
    "    a = StructureSlice([box4_left])\n",
    "    b = StructureSlice([box4_right])\n",
    "    return a, b\n",
    "\n",
    "def borders_example2():\n",
    "    box6 = shapely.Polygon(box_points(6))\n",
    "    box5_up = shapely.Polygon(box_points(5, offset_y=3))\n",
    "    box6_cropped = shapely.difference(box6, box5_up)\n",
    "\n",
    "    a = StructureSlice([box6_cropped])\n",
    "    b = StructureSlice([box5_up])\n",
    "    return a, b"
   ]
  },
  {
   "cell_type": "code",
   "execution_count": 26,
   "metadata": {},
   "outputs": [],
   "source": [
    "a, b = borders_example1()\n"
   ]
  },
  {
   "cell_type": "code",
   "execution_count": 27,
   "metadata": {},
   "outputs": [],
   "source": [
    "a, b = borders_example2()\n"
   ]
  },
  {
   "cell_type": "markdown",
   "metadata": {},
   "source": [
    "<link rel=\"stylesheet\" href=\"relations.css\">\n",
    "<table width=\"300px\">\n",
    "<tr class=\"l\"><th>Confines</th><th>Symmetric</th></tr>\n",
    "<td class=\"d\" colspan=\"2\">The interior boundary of <span class=\"a\">a</span> \n",
    "and the exterior boundary of <span class=\"b\">b</span> \n",
    "have more than one point in common, but their interiors do not intersect.\n",
    "<tr><td colspan=\"2\">\n",
    "<img src=\"Images/Relationships/confines.png\" alt=\"Confines\">\n",
    "<img src=\"Images/Relationships/confines with island.png\" alt=\"Confines With Island\">\n",
    "</td></tr></table>"
   ]
  },
  {
   "cell_type": "code",
   "execution_count": 28,
   "metadata": {},
   "outputs": [],
   "source": [
    "def confines_example1():\n",
    "    circle6 = shapely.Polygon(circle_points(3))\n",
    "    circle4 = shapely.Polygon(circle_points(2))\n",
    "    box4_offset = shapely.Polygon(box_points(4, offset_x=2))\n",
    "    cropped_circle = shapely.difference(circle4, box4_offset)\n",
    "\n",
    "    a = StructureSlice([circle6, circle4])\n",
    "    b = StructureSlice([cropped_circle])\n",
    "    return a, b\n",
    "\n",
    "def confines_example2():\n",
    "    circle6 = shapely.Polygon(circle_points(3))\n",
    "    circle4 = shapely.Polygon(circle_points(2))\n",
    "    circle2 = shapely.Polygon(circle_points(1))\n",
    "\n",
    "    a = StructureSlice([circle6, circle4, circle2])\n",
    "    b = StructureSlice([circle4, circle2])\n",
    "    return a, b\n",
    "\n",
    "def confines_example3():\n",
    "    # 6 cm x 6 cm box with 4cm x 4 cm hole\n",
    "    box6 = shapely.Polygon(box_points(6))\n",
    "    box4 = shapely.Polygon(box_points(4))\n",
    "    a = StructureSlice([box6, box4])\n",
    "    b = StructureSlice([box4])\n",
    "    return a, b"
   ]
  },
  {
   "cell_type": "code",
   "execution_count": 29,
   "metadata": {},
   "outputs": [],
   "source": [
    "a, b = confines_example1()\n"
   ]
  },
  {
   "cell_type": "code",
   "execution_count": 30,
   "metadata": {},
   "outputs": [],
   "source": [
    "a, b = confines_example2()\n"
   ]
  },
  {
   "cell_type": "code",
   "execution_count": 31,
   "metadata": {},
   "outputs": [],
   "source": [
    "a, b = confines_example3()\n"
   ]
  },
  {
   "cell_type": "markdown",
   "metadata": {},
   "source": [
    "<link rel=\"stylesheet\" href=\"relations.css\">\n",
    "<table width=\"400px\">\n",
    "<tr class=\"l\"><th>Overlaps</th><th>Symmetric</th></tr>\n",
    "<td class=\"d\" colspan=\"2\">\n",
    "<span class=\"a\">a</span> and <span class=\"b\">b</span> \n",
    "have some but not all points in common.\n",
    "</td></tr>\n",
    "<tr><td colspan=\"2\">\n",
    "<img src=\"Images/Relationships/overlaps simple.png\" alt=\"Overlaps\">\n",
    "<img src=\"Images/Relationships/overlaps ring.png\" alt=\"Overlaps With Ring\">\n",
    "<img src=\"Images/Relationships/overlaps surounded.png\" alt=\"Overlaps Surrounded\">\n",
    "<img src=\"Images/Relationships/overlaps ring surrounds simple.png\" alt=\"Ring Overlaps Simple\">\n",
    "<img src=\"Images/Relationships/archipelago contains simple.png\" alt=\"Ring Overlaps Simple\">\n",
    "</td></tr></table>"
   ]
  },
  {
   "cell_type": "code",
   "execution_count": 32,
   "metadata": {},
   "outputs": [],
   "source": [
    "def overlaps_simple_example():\n",
    "    circle6 = shapely.Polygon(circle_points(3))\n",
    "    circle6_offset = shapely.Polygon(circle_points(3, offset_x=2))\n",
    "    box4_offset = shapely.Polygon(box_points(4, offset_x=2))\n",
    "\n",
    "    a = StructureSlice([circle6])\n",
    "    b = StructureSlice([circle6_offset])\n",
    "    return a, b\n",
    "\n",
    "def overlaps_ring_example():\n",
    "    circle6 = shapely.Polygon(circle_points(3))\n",
    "    circle4 = shapely.Polygon(circle_points(2))\n",
    "    circle6_offset = shapely.Polygon(circle_points(3, offset_x=2.5))\n",
    "\n",
    "    a = StructureSlice([circle6, circle4])\n",
    "    b = StructureSlice([circle6_offset])\n",
    "    return a, b\n",
    "\n",
    "def overlaps_surrounded_example():\n",
    "    circle6 = shapely.Polygon(circle_points(3))\n",
    "    circle4 = shapely.Polygon(circle_points(2))\n",
    "    circle2 = shapely.Polygon(circle_points(1.5, offset_x=1))\n",
    "\n",
    "    a = StructureSlice([circle6, circle4])\n",
    "    b = StructureSlice([circle2])\n",
    "    return a, b\n",
    "\n",
    "def overlaps_ring_surrounded_example():\n",
    "    circle6 = shapely.Polygon(circle_points(3))\n",
    "    circle3 = shapely.Polygon(circle_points(1.5))\n",
    "    circle4 = shapely.Polygon(circle_points(2))\n",
    "\n",
    "    a = StructureSlice([circle6, circle3])\n",
    "    b = StructureSlice([circle4])\n",
    "    return a, b\n",
    "\n",
    "def overlaps_archipelago_simple_example():\n",
    "    circle6 = shapely.Polygon(circle_points(3))\n",
    "    circle4 = shapely.Polygon(circle_points(2))\n",
    "    circle2 = shapely.Polygon(circle_points(1))\n",
    "\n",
    "    a = StructureSlice([circle6, circle4, circle2])\n",
    "    b = StructureSlice([circle4])\n",
    "    return a, b\n"
   ]
  },
  {
   "cell_type": "code",
   "execution_count": 33,
   "metadata": {},
   "outputs": [],
   "source": [
    "a, b = overlaps_simple_example()\n"
   ]
  },
  {
   "cell_type": "code",
   "execution_count": 34,
   "metadata": {},
   "outputs": [],
   "source": [
    "a, b = overlaps_ring_example()\n"
   ]
  },
  {
   "cell_type": "code",
   "execution_count": 35,
   "metadata": {},
   "outputs": [],
   "source": [
    "a, b = overlaps_surrounded_example()\n"
   ]
  },
  {
   "cell_type": "code",
   "execution_count": 36,
   "metadata": {},
   "outputs": [],
   "source": [
    "a, b = overlaps_ring_surrounded_example()\n"
   ]
  },
  {
   "cell_type": "code",
   "execution_count": 37,
   "metadata": {},
   "outputs": [],
   "source": [
    "a, b = overlaps_archipelago_simple_example()\n"
   ]
  },
  {
   "cell_type": "markdown",
   "metadata": {},
   "source": [
    "<link rel=\"stylesheet\" href=\"relations.css\">\n",
    "<table width=\"400px\">\n",
    "<tr class=\"l\"><th>Partition</th><th></th></tr>\n",
    "<td class=\"d\" colspan=\"2\">\n",
    "The boundaries of <span class=\"a\">a</span> and <span class=\"b\">b</span> have more than one point in common.\n",
    "No points of <span class=\"b\">b</span> are exterior to <span class=\"a\">a</span>, and some points in <span class=\"a\">a</span> are exterior to <span class=\"b\">b</span>.\n",
    "</td></tr>\n",
    "<tr><td colspan=\"2\">\n",
    "<img src=\"Images/Relationships/partitions simple.png\" alt=\"Partition\">\n",
    "<img src=\"Images/Relationships/partitions archipelago with island.png\" alt=\"Partition With Island\">\n",
    "<img src=\"Images/Relationships/partitions partial ring.png\" alt=\"Partition Ring\">\n",
    "</td></tr></table>"
   ]
  },
  {
   "cell_type": "code",
   "execution_count": 38,
   "metadata": {},
   "outputs": [],
   "source": [
    "def partition_example1():\n",
    "    box6 = poly_round(shapely.Polygon(box_points(6)))\n",
    "    box4_offset = shapely.Polygon(box_points(4, offset_x=-1))\n",
    "    a = StructureSlice([box6])\n",
    "    b = StructureSlice([box4_offset])\n",
    "    return a, b\n",
    "\n",
    "def partition_example2():\n",
    "    # Rouding required because pod floating point inaccuracies.\n",
    "    circle6 = poly_round(shapely.Polygon(circle_points(3)))\n",
    "    circle4_offset = shapely.Polygon(circle_points(2, offset_x=2))\n",
    "    cropped_circle = poly_round(shapely.intersection(circle6, circle4_offset))\n",
    "    a = StructureSlice([circle6])\n",
    "    b = StructureSlice([cropped_circle])\n",
    "    return a, b\n",
    "\n",
    "def partition_example3():\n",
    "    circle6 = shapely.Polygon(circle_points(3))\n",
    "    circle4 = shapely.Polygon(circle_points(2))\n",
    "    circle2 = shapely.Polygon(circle_points(1))\n",
    "    a = StructureSlice([circle6, circle4, circle2])\n",
    "    b = StructureSlice([circle2])\n",
    "    return a, b\n",
    "\n",
    "def partition_example4():\n",
    "    # Rouding required because pod floating point inaccuracies.\n",
    "    circle6 = shapely.Polygon(circle_points(3))\n",
    "    circle4 = shapely.Polygon(circle_points(2))\n",
    "    box6_offset = shapely.Polygon(box_points(6, offset_x=2))\n",
    "    ring = shapely.difference(circle6, circle4)\n",
    "    cropped_ring = poly_round(shapely.difference(ring, box6_offset),PRECISION)\n",
    "    a = StructureSlice([circle6, circle4])\n",
    "    b = StructureSlice([cropped_ring])\n",
    "    return a, b"
   ]
  },
  {
   "cell_type": "code",
   "execution_count": 39,
   "metadata": {},
   "outputs": [],
   "source": [
    "a, b = partition_example1()\n"
   ]
  },
  {
   "cell_type": "code",
   "execution_count": 40,
   "metadata": {},
   "outputs": [],
   "source": [
    "a, b = partition_example2()\n"
   ]
  },
  {
   "cell_type": "code",
   "execution_count": 41,
   "metadata": {},
   "outputs": [],
   "source": [
    "a, b = partition_example3()\n"
   ]
  },
  {
   "cell_type": "code",
   "execution_count": 42,
   "metadata": {},
   "outputs": [],
   "source": [
    "a, b = partition_example4()\n"
   ]
  },
  {
   "cell_type": "markdown",
   "metadata": {},
   "source": [
    "<link rel=\"stylesheet\" href=\"relations.css\">\n",
    "<table width=\"400px\">\n",
    "<tr class=\"l\"><th>Equals</th><th>Symmetric, Transitive</th></tr>\n",
    "<td class=\"d\" colspan=\"2\">\n",
    "The interiors of <span class=\"a\">a</span> and <span class=\"b\">b</span> \n",
    "intersect and no part of the interior of one geometry intersects the exterior of the other.\n",
    "</td></tr>\n",
    "<tr><td colspan=\"2\">\n",
    "<img src=\"Images/Relationships/equals.png\" alt=\"Equals\">\n",
    "</td></tr></table>"
   ]
  },
  {
   "cell_type": "code",
   "execution_count": 43,
   "metadata": {},
   "outputs": [],
   "source": [
    "def equals_example1():\n",
    "    box6 = shapely.Polygon(box_points(6))\n",
    "    a = StructureSlice([box6])\n",
    "    b = StructureSlice([box6])\n",
    "    return a, b\n",
    "\n",
    "def equals_example2():\n",
    "    circle6 = shapely.Polygon(circle_points(3))\n",
    "    circle5 = shapely.Polygon(circle_points(2.5))\n",
    "    cropped_circle = shapely.intersection(circle6, circle5)\n",
    "    a = StructureSlice([circle5])\n",
    "    b = StructureSlice([cropped_circle])\n",
    "    return a, b\n"
   ]
  },
  {
   "cell_type": "code",
   "execution_count": 44,
   "metadata": {},
   "outputs": [],
   "source": [
    "a, b = equals_example1()\n"
   ]
  },
  {
   "cell_type": "code",
   "execution_count": 45,
   "metadata": {},
   "outputs": [],
   "source": [
    "a, b = equals_example2()\n"
   ]
  }
 ],
 "metadata": {
  "kernelspec": {
   "display_name": "StructureRelations",
   "language": "python",
   "name": "python3"
  },
  "language_info": {
   "codemirror_mode": {
    "name": "ipython",
    "version": 3
   },
   "file_extension": ".py",
   "mimetype": "text/x-python",
   "name": "python",
   "nbconvert_exporter": "python",
   "pygments_lexer": "ipython3",
   "version": "3.11.9"
  }
 },
 "nbformat": 4,
 "nbformat_minor": 2
}
