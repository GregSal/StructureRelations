{
 "cells": [
  {
   "cell_type": "markdown",
   "id": "8b5f68c3",
   "metadata": {},
   "source": [
    "# DicomStructureFile Class Demonstration\n",
    "\n",
    "This notebook demonstrates the functionality of the `DicomStructureFile` class using a test DICOM RT Structure file.\n",
    "\n",
    "## Overview\n",
    "The `DicomStructureFile` class provides a convenient interface for:\n",
    "- Loading DICOM RT Structure files\n",
    "- Extracting structure information and metadata\n",
    "- Reading contour sequences and converting them to ContourPoints\n",
    "- Converting contour data to pandas DataFrames for analysis"
   ]
  },
  {
   "cell_type": "markdown",
   "id": "17db195f",
   "metadata": {},
   "source": [
    "## 1. Import Required Libraries\n",
    "\n",
    "First, let's import the necessary libraries including our custom DicomStructureFile class."
   ]
  },
  {
   "cell_type": "code",
   "execution_count": 37,
   "id": "e9444dd9",
   "metadata": {},
   "outputs": [
    {
     "name": "stdout",
     "output_type": "stream",
     "text": [
      "Libraries imported successfully!\n"
     ]
    }
   ],
   "source": [
    "# Import required libraries\n",
    "import sys\n",
    "from pathlib import Path\n",
    "import pandas as pd\n",
    "import matplotlib.pyplot as plt\n",
    "import numpy as np\n",
    "\n",
    "# Add the src directory to the Python path\n",
    "sys.path.append('src')\n",
    "\n",
    "# Import our custom DicomStructureFile class\n",
    "from dicom import DicomStructureFile\n",
    "\n",
    "# Import related classes\n",
    "from types_and_classes import SliceIndexType\n",
    "from contours import ContourPoints\n",
    "from structure_set import StructureSet\n",
    "\n",
    "print(\"Libraries imported successfully!\")"
   ]
  },
  {
   "cell_type": "markdown",
   "id": "867703fe",
   "metadata": {},
   "source": [
    "## 2. Load the DICOM Structure File\n",
    "\n",
    "Now let's load the test DICOM RT Structure file using the DicomStructureFile class.\n",
    "\n",
    "The DICOM file contains the following structures:\n",
    "\n",
    "![MultiVolume_A](<../Images/MultiVolume_A.png>)\n"
   ]
  },
  {
   "cell_type": "code",
   "execution_count": 38,
   "id": "d43c7011",
   "metadata": {},
   "outputs": [],
   "source": [
    "# Define the path to the test DICOM file\n",
    "test_file_name = \"RS.GJS_Struct_Tests.MultiVolume_A (1).dcm\"\n",
    "tests_dir = Path.cwd() / r'Tests'\n",
    "tests_dir = tests_dir.resolve()"
   ]
  },
  {
   "cell_type": "code",
   "execution_count": 39,
   "id": "2066302d",
   "metadata": {},
   "outputs": [
    {
     "data": {
      "text/plain": [
       "[PosixPath('/workspaces/StructureRelations/Tests/RS.GJS_Struct_Tests.MultiVolume_A (2).dcm'),\n",
       " PosixPath('/workspaces/StructureRelations/Tests/RS.GJS_Struct_Tests.Relations.dcm'),\n",
       " PosixPath('/workspaces/StructureRelations/Tests/RS.GJS_Struct_Tests.MultiVolume_A (1).dcm'),\n",
       " PosixPath('/workspaces/StructureRelations/Tests/RS.GJS_Struct_Tests.MultiVolume_A.dcm')]"
      ]
     },
     "execution_count": 39,
     "metadata": {},
     "output_type": "execute_result"
    }
   ],
   "source": [
    "list(tests_dir.glob('*.dcm'))"
   ]
  },
  {
   "cell_type": "code",
   "execution_count": 40,
   "id": "8a98c9fd",
   "metadata": {},
   "outputs": [
    {
     "name": "stderr",
     "output_type": "stream",
     "text": [
      "INFO:dicom:Successfully loaded DICOM dataset from RS.GJS_Struct_Tests.MultiVolume_A (1).dcm\n",
      "INFO:dicom:Extracted 730 contours from 7 ROIs\n"
     ]
    },
    {
     "name": "stdout",
     "output_type": "stream",
     "text": [
      "Successfully loaded: DICOM RT Structure: MultiVolume_A for patient GJS_Struct_Tests\n",
      "File path: /workspaces/StructureRelations/Tests/RS.GJS_Struct_Tests.MultiVolume_A (1).dcm\n",
      "Is RT Structure file: True\n"
     ]
    }
   ],
   "source": [
    "\n",
    "# Load the DICOM structure file using file_name parameter\n",
    "dicom_file = DicomStructureFile(\n",
    "    top_dir=tests_dir,\n",
    "    file_name=test_file_name\n",
    ")\n",
    "\n",
    "print(f\"Successfully loaded: {dicom_file}\")\n",
    "print(f\"File path: {dicom_file.file_path}\")\n",
    "print(f\"Is RT Structure file: {dicom_file.is_structure_file()}\")"
   ]
  },
  {
   "cell_type": "markdown",
   "id": "ec68e352",
   "metadata": {},
   "source": [
    "## 3. Explore Structure File Properties\n",
    "\n",
    "Let's examine the basic properties and metadata of the loaded DICOM structure file."
   ]
  },
  {
   "cell_type": "code",
   "execution_count": 41,
   "id": "495b2e85",
   "metadata": {},
   "outputs": [
    {
     "name": "stdout",
     "output_type": "stream",
     "text": [
      "=== DICOM Structure File Information ===\n",
      "PatientName: StructureVolumes^Test\n",
      "PatientLastName: StructureVolumes\n",
      "PatientID: GJS_Struct_Tests\n",
      "StructureSet: MultiVolume_A\n",
      "StudyID: Phantom2\n",
      "SeriesNumber: 9\n",
      "File: /workspaces/StructureRelations/Tests/RS.GJS_Struct_Tests.MultiVolume_A (1).dcm\n",
      "\n",
      "=== Additional DICOM Attributes ===\n",
      "Modality: RTSTRUCT\n",
      "Study Date: 20240218\n",
      "Manufacturer: Varian Medical Systems\n",
      "Software Version: 4.2.7.0\n",
      "\n",
      "Number of ROI Contours: 7\n"
     ]
    }
   ],
   "source": [
    "# Get structure file information\n",
    "structure_info = dicom_file.get_structure_set_info()\n",
    "\n",
    "print(\"=== DICOM Structure File Information ===\")\n",
    "for key, value in structure_info.items():\n",
    "    print(f\"{key}: {value}\")\n",
    "\n",
    "# Access some basic DICOM dataset attributes\n",
    "dataset = dicom_file.dataset\n",
    "print(\"\\n=== Additional DICOM Attributes ===\")\n",
    "print(f\"Modality: {getattr(dataset, 'Modality', 'Not available')}\")\n",
    "print(f\"Study Date: {getattr(dataset, 'StudyDate', 'Not available')}\")\n",
    "print(f\"Manufacturer: {getattr(dataset, 'Manufacturer', 'Not available')}\")\n",
    "print(f\"Software Version: {getattr(dataset, 'SoftwareVersions', 'Not available')}\")\n",
    "\n",
    "# Check if ROI contour sequence exists\n",
    "if hasattr(dataset, 'ROIContourSequence'):\n",
    "    print(f\"\\nNumber of ROI Contours: {len(dataset.ROIContourSequence)}\")\n",
    "else:\n",
    "    print(\"\\nNo ROI Contour Sequence found\")"
   ]
  },
  {
   "cell_type": "markdown",
   "id": "f127b878",
   "metadata": {},
   "source": [
    "## 4. Access Structure Set Information\n",
    "\n",
    "Let's examine the structure set and ROI information in more detail."
   ]
  },
  {
   "cell_type": "code",
   "execution_count": 42,
   "id": "ca9999aa",
   "metadata": {},
   "outputs": [
    {
     "name": "stdout",
     "output_type": "stream",
     "text": [
      "=== Structure Set ROI Information ===\n",
      "\n",
      "ROI 1:\n",
      "  ROI Number: 1\n",
      "  ROI Name: BODY\n",
      "  ROI Generation Algorithm: MANUAL\n",
      "  Referenced Frame of Reference: 1.2.246.352.205.5609344633914932275.4927947885576298886\n",
      "\n",
      "ROI 2:\n",
      "  ROI Number: 7\n",
      "  ROI Name: OverlappedSphere\n",
      "  ROI Generation Algorithm: MANUAL\n",
      "  Referenced Frame of Reference: 1.2.246.352.205.5609344633914932275.4927947885576298886\n",
      "\n",
      "ROI 3:\n",
      "  ROI Number: 8\n",
      "  ROI Name: OverlappedShells\n",
      "  ROI Generation Algorithm: MANUAL\n",
      "  Referenced Frame of Reference: 1.2.246.352.205.5609344633914932275.4927947885576298886\n",
      "\n",
      "ROI 4:\n",
      "  ROI Number: 9\n",
      "  ROI Name: Surrounds\n",
      "  ROI Generation Algorithm: MANUAL\n",
      "  Referenced Frame of Reference: 1.2.246.352.205.5609344633914932275.4927947885576298886\n",
      "\n",
      "ROI 5:\n",
      "  ROI Number: 10\n",
      "  ROI Name: Embeds\n",
      "  ROI Generation Algorithm: MANUAL\n",
      "  Referenced Frame of Reference: 1.2.246.352.205.5609344633914932275.4927947885576298886\n",
      "\n",
      "ROI 6:\n",
      "  ROI Number: 13\n",
      "  ROI Name: PartialEmbeded\n",
      "  ROI Generation Algorithm: MANUAL\n",
      "  Referenced Frame of Reference: 1.2.246.352.205.5609344633914932275.4927947885576298886\n",
      "\n",
      "ROI 7:\n",
      "  ROI Number: 12\n",
      "  ROI Name: PartialSurround\n",
      "  ROI Generation Algorithm: MANUAL\n",
      "  Referenced Frame of Reference: 1.2.246.352.205.5609344633914932275.4927947885576298886\n",
      "\n",
      "=== ROI Summary Table ===\n",
      " ROI Number         ROI Name ROI Generation Algorithm                           Referenced Frame of Reference\n",
      "          1             BODY                   MANUAL 1.2.246.352.205.5609344633914932275.4927947885576298886\n",
      "          7 OverlappedSphere                   MANUAL 1.2.246.352.205.5609344633914932275.4927947885576298886\n",
      "          8 OverlappedShells                   MANUAL 1.2.246.352.205.5609344633914932275.4927947885576298886\n",
      "          9        Surrounds                   MANUAL 1.2.246.352.205.5609344633914932275.4927947885576298886\n",
      "         10           Embeds                   MANUAL 1.2.246.352.205.5609344633914932275.4927947885576298886\n",
      "         13   PartialEmbeded                   MANUAL 1.2.246.352.205.5609344633914932275.4927947885576298886\n",
      "         12  PartialSurround                   MANUAL 1.2.246.352.205.5609344633914932275.4927947885576298886\n"
     ]
    }
   ],
   "source": [
    "# Examine the Structure Set ROI Sequence\n",
    "if hasattr(dataset, 'StructureSetROISequence'):\n",
    "    print(\"=== Structure Set ROI Information ===\")\n",
    "    roi_info = []\n",
    "    \n",
    "    for i, roi in enumerate(dataset.StructureSetROISequence):\n",
    "        roi_data = {\n",
    "            'ROI Number': getattr(roi, 'ROINumber', 'N/A'),\n",
    "            'ROI Name': getattr(roi, 'ROIName', 'N/A'),\n",
    "            'ROI Generation Algorithm': getattr(roi, 'ROIGenerationAlgorithm', 'N/A'),\n",
    "            'Referenced Frame of Reference': getattr(roi, 'ReferencedFrameOfReferenceUID', 'N/A')\n",
    "        }\n",
    "        roi_info.append(roi_data)\n",
    "        \n",
    "        print(f\"\\nROI {i+1}:\")\n",
    "        for key, value in roi_data.items():\n",
    "            print(f\"  {key}: {value}\")\n",
    "\n",
    "    # Convert to DataFrame for easier viewing\n",
    "    roi_df = pd.DataFrame(roi_info)\n",
    "    print(\"\\n=== ROI Summary Table ===\")\n",
    "    print(roi_df.to_string(index=False))\n",
    "else:\n",
    "    print(\"No Structure Set ROI Sequence found\")"
   ]
  },
  {
   "cell_type": "markdown",
   "id": "654b15fc",
   "metadata": {},
   "source": [
    "## 5. Extract ROI Contour Data\n",
    "\n",
    "Now let's use our custom method to extract contour data and convert it to ContourPoints objects."
   ]
  },
  {
   "cell_type": "code",
   "execution_count": 43,
   "id": "4ba74d81",
   "metadata": {},
   "outputs": [
    {
     "name": "stderr",
     "output_type": "stream",
     "text": [
      "INFO:dicom:Extracted 730 contours from 7 ROIs\n"
     ]
    },
    {
     "name": "stdout",
     "output_type": "stream",
     "text": [
      "=== Contour Extraction Results ===\n",
      "Total ContourPoints objects created: 730\n",
      "\n",
      "=== Sample ContourPoints Objects ===\n",
      "\n",
      "ContourPoint 1:\n",
      "  ROI Number: 1\n",
      "  Slice Index: -10.0\n",
      "  Number of Points: 680\n",
      "  First point: [ -9.902  -9.906 -10.   ]\n",
      "  Last point: [ -9.906  -9.902 -10.   ]\n",
      "\n",
      "ContourPoint 2:\n",
      "  ROI Number: 1\n",
      "  Slice Index: -9.9\n",
      "  Number of Points: 680\n",
      "  First point: [ -9.902 -10.001  -9.9  ]\n",
      "  Last point: [-10.001  -9.902  -9.9  ]\n",
      "\n",
      "ContourPoint 3:\n",
      "  ROI Number: 1\n",
      "  Slice Index: -9.8\n",
      "  Number of Points: 680\n",
      "  First point: [ -9.902 -10.001  -9.8  ]\n",
      "  Last point: [-10.001  -9.902  -9.8  ]\n",
      "\n",
      "ContourPoint 4:\n",
      "  ROI Number: 1\n",
      "  Slice Index: -9.7\n",
      "  Number of Points: 680\n",
      "  First point: [ -9.902 -10.001  -9.7  ]\n",
      "  Last point: [-10.001  -9.902  -9.7  ]\n",
      "\n",
      "ContourPoint 5:\n",
      "  ROI Number: 1\n",
      "  Slice Index: -9.6\n",
      "  Number of Points: 680\n",
      "  First point: [ -9.902 -10.001  -9.6  ]\n",
      "  Last point: [-10.001  -9.902  -9.6  ]\n",
      "\n",
      "=== Contour Statistics by ROI ===\n",
      "ROI 1: 201 slices, 136680 total points\n",
      "ROI 7: 98 slices, 13386 total points\n",
      "ROI 8: 176 slices, 21814 total points\n",
      "ROI 9: 118 slices, 21320 total points\n",
      "ROI 10: 29 slices, 2390 total points\n",
      "ROI 13: 27 slices, 1304 total points\n",
      "ROI 12: 81 slices, 14144 total points\n"
     ]
    }
   ],
   "source": [
    "# Extract contour sequences using our custom method\n",
    "contour_points = dicom_file.get_contour_points()\n",
    "\n",
    "print(f\"=== Contour Extraction Results ===\")\n",
    "print(f\"Total ContourPoints objects created: {len(contour_points)}\")\n",
    "\n",
    "# Examine the first few contour points\n",
    "if contour_points:\n",
    "    print(f\"\\n=== Sample ContourPoints Objects ===\")\n",
    "    for i, cp in enumerate(contour_points[:5]):  # Show first 5\n",
    "        print(f\"\\nContourPoint {i+1}:\")\n",
    "        print(f\"  ROI Number: {cp['ROI']}\")\n",
    "        print(f\"  Slice Index: {cp['Slice']}\")\n",
    "        print(f\"  Number of Points: {len(cp['Points']) if cp['Points'] else 0}\")\n",
    "        if cp['Points'] and len(cp['Points']) > 0:\n",
    "            print(f\"  First point: {cp['Points'][0]}\")\n",
    "            print(f\"  Last point: {cp['Points'][-1]}\")\n",
    "\n",
    "    # Show statistics by ROI\n",
    "    roi_counts = {}\n",
    "    for cp in contour_points:\n",
    "        roi_num = cp['ROI']\n",
    "        if roi_num not in roi_counts:\n",
    "            roi_counts[roi_num] = {'slices': 0, 'total_points': 0}\n",
    "        roi_counts[roi_num]['slices'] += 1\n",
    "        if cp['Points']:\n",
    "            roi_counts[roi_num]['total_points'] += len(cp['Points'])\n",
    "    \n",
    "    print(f\"\\n=== Contour Statistics by ROI ===\")\n",
    "    for roi_num, stats in roi_counts.items():\n",
    "        print(f\"ROI {roi_num}: {stats['slices']} slices, {stats['total_points']} total points\")\n",
    "        \n",
    "else:\n",
    "    print(\"No contour points found in the dataset\")"
   ]
  },
  {
   "cell_type": "markdown",
   "id": "dd439a3a",
   "metadata": {},
   "source": [
    "## Summary\n",
    "\n",
    "This notebook has demonstrated the complete functionality of the `DicomStructureFile` class:\n",
    "\n",
    "1. **Loading DICOM Files**: Successfully loaded a DICOM RT Structure file using either file_name or file_path parameters\n",
    "2. **Metadata Extraction**: Retrieved comprehensive structure file information and ROI details\n",
    "3. **Contour Processing**: Extracted all contour sequences and converted them to `ContourPoints` objects\n",
    "\n",
    "### Key Features Demonstrated:\n",
    "- Flexible initialization with multiple parameter options\n",
    "- Robust error handling and validation\n",
    "- Integration with existing `ContourPoints` and related classes\n",
    "- Comprehensive metadata extraction\n",
    "- Multiple export format support\n",
    "\n",
    "### Next Steps:\n",
    "- The `DicomStructureFile` class can be integrated into larger workflow pipelines\n"
   ]
  },
  {
   "cell_type": "markdown",
   "id": "58f9e2b3",
   "metadata": {},
   "source": [
    "## 9. Integration with StructureSet Class\n",
    "Now let's demonstrate how to use the DicomStructureFile with the StructureSet class to analyze structure relationships.\n"
   ]
  },
  {
   "cell_type": "code",
   "execution_count": 44,
   "id": "8ba510f7",
   "metadata": {},
   "outputs": [
    {
     "name": "stderr",
     "output_type": "stream",
     "text": [
      "INFO:structure_set:Building StructureSet from 730 contour points\n"
     ]
    },
    {
     "name": "stdout",
     "output_type": "stream",
     "text": [
      "=== Creating StructureSet from DicomStructureFile ===\n",
      "Successfully created StructureSet with 7 structures\n"
     ]
    }
   ],
   "source": [
    "print(\"=== Creating StructureSet from DicomStructureFile ===\")\n",
    "\n",
    "# Method 1: Using DicomStructureFile (recommended approach)\n",
    "structure_set = StructureSet(dicom_structure_file=dicom_file)\n",
    "\n",
    "print(f\"Successfully created StructureSet with {len(structure_set.structures)} structures\")\n"
   ]
  },
  {
   "cell_type": "code",
   "execution_count": 45,
   "id": "581daf5f",
   "metadata": {},
   "outputs": [
    {
     "name": "stdout",
     "output_type": "stream",
     "text": [
      "\n",
      "=== Loaded Structures ===\n",
      "ROI 1: BODY\n",
      "ROI 7: OverlappedSphere\n",
      "ROI 8: OverlappedShells\n",
      "ROI 9: Surrounds\n",
      "ROI 10: Embeds\n",
      "ROI 12: PartialSurround\n",
      "ROI 13: PartialEmbeded\n"
     ]
    }
   ],
   "source": [
    "# Display the structures that were loaded\n",
    "print(\"\\n=== Loaded Structures ===\")\n",
    "for roi, structure in structure_set.structures.items():\n",
    "    print(f\"ROI {roi}: {structure.name}\")\n"
   ]
  },
  {
   "cell_type": "code",
   "execution_count": 46,
   "id": "55c33ec6",
   "metadata": {},
   "outputs": [
    {
     "name": "stdout",
     "output_type": "stream",
     "text": [
      "=== Structure Summary ===\n",
      " ROI             Name  Physical_Volume  Exterior_Volume  Hull_Volume  Num_Contours  Num_Slices\n",
      "   1             BODY      8599.789625      8599.789625  8599.789625           217         217\n",
      "   7 OverlappedSphere       136.207300       136.207300   136.363853           106          53\n",
      "   8 OverlappedShells        70.311990       137.761726   138.123647           194          55\n",
      "   9        Surrounds       266.403816       302.004948   302.618143           137          90\n",
      "  10           Embeds        14.402917        14.402917    14.418471            33          33\n",
      "  12  PartialSurround       149.078283       149.078283   165.721736            92          90\n",
      "  13   PartialEmbeded         3.359495         3.359495     3.364644            29          29\n"
     ]
    }
   ],
   "source": [
    "# Get basic structure information\n",
    "print(\"=== Structure Summary ===\")\n",
    "structure_summary = structure_set.summary()\n",
    "print(structure_summary.to_string(index=False))\n"
   ]
  },
  {
   "cell_type": "code",
   "execution_count": 47,
   "id": "0aeda05b",
   "metadata": {},
   "outputs": [
    {
     "name": "stdout",
     "output_type": "stream",
     "text": [
      "\n",
      "=== Calculating Structure Relationships ===\n"
     ]
    },
    {
     "name": "stdout",
     "output_type": "stream",
     "text": [
      "Total relationships calculated: 21\n"
     ]
    }
   ],
   "source": [
    "# Calculate relationships between all structures\n",
    "print(\"\\n=== Calculating Structure Relationships ===\")\n",
    "structure_set.calculate_relationships()\n",
    "\n",
    "print(f\"Total relationships calculated: {structure_set.relationship_graph.number_of_edges()}\")\n"
   ]
  },
  {
   "cell_type": "code",
   "execution_count": 48,
   "id": "cdbd03ad",
   "metadata": {},
   "outputs": [
    {
     "name": "stdout",
     "output_type": "stream",
     "text": [
      "\n",
      "=== Structure Relationship Summary Table ===\n"
     ]
    },
    {
     "data": {
      "text/html": [
       "<div>\n",
       "<style scoped>\n",
       "    .dataframe tbody tr th:only-of-type {\n",
       "        vertical-align: middle;\n",
       "    }\n",
       "\n",
       "    .dataframe tbody tr th {\n",
       "        vertical-align: top;\n",
       "    }\n",
       "\n",
       "    .dataframe thead th {\n",
       "        text-align: right;\n",
       "    }\n",
       "</style>\n",
       "<table border=\"1\" class=\"dataframe\">\n",
       "  <thead>\n",
       "    <tr style=\"text-align: right;\">\n",
       "      <th>Structure_B</th>\n",
       "      <th>BODY</th>\n",
       "      <th>OverlappedSphere</th>\n",
       "      <th>OverlappedShells</th>\n",
       "      <th>Surrounds</th>\n",
       "      <th>Embeds</th>\n",
       "      <th>PartialSurround</th>\n",
       "      <th>PartialEmbeded</th>\n",
       "    </tr>\n",
       "    <tr>\n",
       "      <th>Structure_A</th>\n",
       "      <th></th>\n",
       "      <th></th>\n",
       "      <th></th>\n",
       "      <th></th>\n",
       "      <th></th>\n",
       "      <th></th>\n",
       "      <th></th>\n",
       "    </tr>\n",
       "  </thead>\n",
       "  <tbody>\n",
       "    <tr>\n",
       "      <th>BODY</th>\n",
       "      <td>Equals</td>\n",
       "      <td>Relationship: Contains</td>\n",
       "      <td>Relationship: Contains</td>\n",
       "      <td>Relationship: Contains</td>\n",
       "      <td>Relationship: Contains</td>\n",
       "      <td>Relationship: Contains</td>\n",
       "      <td>Relationship: Contains</td>\n",
       "    </tr>\n",
       "    <tr>\n",
       "      <th>OverlappedSphere</th>\n",
       "      <td>None</td>\n",
       "      <td>Equals</td>\n",
       "      <td>Relationship: Disjoint</td>\n",
       "      <td>Relationship: Disjoint</td>\n",
       "      <td>Relationship: Disjoint</td>\n",
       "      <td>Relationship: Disjoint</td>\n",
       "      <td>Relationship: Disjoint</td>\n",
       "    </tr>\n",
       "    <tr>\n",
       "      <th>OverlappedShells</th>\n",
       "      <td>None</td>\n",
       "      <td>Relationship: Disjoint</td>\n",
       "      <td>Equals</td>\n",
       "      <td>Relationship: Disjoint</td>\n",
       "      <td>Relationship: Disjoint</td>\n",
       "      <td>Relationship: Disjoint</td>\n",
       "      <td>Relationship: Disjoint</td>\n",
       "    </tr>\n",
       "    <tr>\n",
       "      <th>Surrounds</th>\n",
       "      <td>None</td>\n",
       "      <td>Relationship: Disjoint</td>\n",
       "      <td>Relationship: Disjoint</td>\n",
       "      <td>Equals</td>\n",
       "      <td>Relationship: Surrounds</td>\n",
       "      <td>Relationship: Disjoint</td>\n",
       "      <td>Relationship: Disjoint</td>\n",
       "    </tr>\n",
       "    <tr>\n",
       "      <th>Embeds</th>\n",
       "      <td>None</td>\n",
       "      <td>Relationship: Disjoint</td>\n",
       "      <td>Relationship: Disjoint</td>\n",
       "      <td>None</td>\n",
       "      <td>Equals</td>\n",
       "      <td>Relationship: Disjoint</td>\n",
       "      <td>Relationship: Disjoint</td>\n",
       "    </tr>\n",
       "    <tr>\n",
       "      <th>PartialSurround</th>\n",
       "      <td>None</td>\n",
       "      <td>Relationship: Disjoint</td>\n",
       "      <td>Relationship: Disjoint</td>\n",
       "      <td>Relationship: Disjoint</td>\n",
       "      <td>Relationship: Disjoint</td>\n",
       "      <td>Equals</td>\n",
       "      <td>Relationship: Shelters</td>\n",
       "    </tr>\n",
       "    <tr>\n",
       "      <th>PartialEmbeded</th>\n",
       "      <td>None</td>\n",
       "      <td>Relationship: Disjoint</td>\n",
       "      <td>Relationship: Disjoint</td>\n",
       "      <td>Relationship: Disjoint</td>\n",
       "      <td>Relationship: Disjoint</td>\n",
       "      <td>None</td>\n",
       "      <td>Equals</td>\n",
       "    </tr>\n",
       "  </tbody>\n",
       "</table>\n",
       "</div>"
      ],
      "text/plain": [
       "Structure_B         BODY        OverlappedSphere        OverlappedShells  \\\n",
       "Structure_A                                                                \n",
       "BODY              Equals  Relationship: Contains  Relationship: Contains   \n",
       "OverlappedSphere    None                  Equals  Relationship: Disjoint   \n",
       "OverlappedShells    None  Relationship: Disjoint                  Equals   \n",
       "Surrounds           None  Relationship: Disjoint  Relationship: Disjoint   \n",
       "Embeds              None  Relationship: Disjoint  Relationship: Disjoint   \n",
       "PartialSurround     None  Relationship: Disjoint  Relationship: Disjoint   \n",
       "PartialEmbeded      None  Relationship: Disjoint  Relationship: Disjoint   \n",
       "\n",
       "Structure_B                    Surrounds                   Embeds  \\\n",
       "Structure_A                                                         \n",
       "BODY              Relationship: Contains   Relationship: Contains   \n",
       "OverlappedSphere  Relationship: Disjoint   Relationship: Disjoint   \n",
       "OverlappedShells  Relationship: Disjoint   Relationship: Disjoint   \n",
       "Surrounds                         Equals  Relationship: Surrounds   \n",
       "Embeds                              None                   Equals   \n",
       "PartialSurround   Relationship: Disjoint   Relationship: Disjoint   \n",
       "PartialEmbeded    Relationship: Disjoint   Relationship: Disjoint   \n",
       "\n",
       "Structure_B              PartialSurround          PartialEmbeded  \n",
       "Structure_A                                                       \n",
       "BODY              Relationship: Contains  Relationship: Contains  \n",
       "OverlappedSphere  Relationship: Disjoint  Relationship: Disjoint  \n",
       "OverlappedShells  Relationship: Disjoint  Relationship: Disjoint  \n",
       "Surrounds         Relationship: Disjoint  Relationship: Disjoint  \n",
       "Embeds            Relationship: Disjoint  Relationship: Disjoint  \n",
       "PartialSurround                   Equals  Relationship: Shelters  \n",
       "PartialEmbeded                      None                  Equals  "
      ]
     },
     "execution_count": 48,
     "metadata": {},
     "output_type": "execute_result"
    }
   ],
   "source": [
    "# Display the relationship summary table\n",
    "print(\"\\n=== Structure Relationship Summary Table ===\")\n",
    "relationship_summary = structure_set.relationship_summary()\n",
    "relationship_summary"
   ]
  },
  {
   "cell_type": "markdown",
   "id": "eea7a406",
   "metadata": {},
   "source": [
    "\n",
    "![MultiVolume_A](<../Images/MultiVolume_A.png>)"
   ]
  },
  {
   "cell_type": "code",
   "execution_count": 49,
   "id": "a0a2060a",
   "metadata": {},
   "outputs": [
    {
     "name": "stderr",
     "output_type": "stream",
     "text": [
      "INFO:dicom:Successfully loaded DICOM dataset from RS.GJS_Struct_Tests.MultiVolume_A (1).dcm\n"
     ]
    },
    {
     "name": "stdout",
     "output_type": "stream",
     "text": [
      "\n",
      "=== Structure Filtering Example ===\n"
     ]
    },
    {
     "name": "stderr",
     "output_type": "stream",
     "text": [
      "INFO:dicom:Extracted 730 contours from 7 ROIs\n",
      "INFO:dicom:Filtered 201 contours from 1 excluded ROIs. Remaining: 529 contours from 6 ROIs\n",
      "INFO:structure_set:Building StructureSet from 529 contour points\n"
     ]
    },
    {
     "name": "stdout",
     "output_type": "stream",
     "text": [
      "Structures before filtering: 7\n",
      "Structures after filtering: 6\n",
      "\n",
      "=== Remaining Structures After Filtering ===\n",
      "ROI 7: OverlappedSphere\n",
      "ROI 8: OverlappedShells\n",
      "ROI 9: Surrounds\n",
      "ROI 10: Embeds\n",
      "ROI 12: PartialSurround\n",
      "ROI 13: PartialEmbeded\n",
      "\n",
      "=== Filtered Relationship Summary ===\n",
      "Structure_B             OverlappedSphere        OverlappedShells  \\\n",
      "Structure_A                                                        \n",
      "OverlappedSphere                  Equals  Relationship: Disjoint   \n",
      "OverlappedShells  Relationship: Disjoint                  Equals   \n",
      "Surrounds         Relationship: Disjoint  Relationship: Disjoint   \n",
      "Embeds            Relationship: Disjoint  Relationship: Disjoint   \n",
      "PartialSurround   Relationship: Disjoint  Relationship: Disjoint   \n",
      "PartialEmbeded    Relationship: Disjoint  Relationship: Disjoint   \n",
      "\n",
      "Structure_B                    Surrounds                   Embeds  \\\n",
      "Structure_A                                                         \n",
      "OverlappedSphere  Relationship: Disjoint   Relationship: Disjoint   \n",
      "OverlappedShells  Relationship: Disjoint   Relationship: Disjoint   \n",
      "Surrounds                         Equals  Relationship: Surrounds   \n",
      "Embeds                              None                   Equals   \n",
      "PartialSurround   Relationship: Disjoint   Relationship: Disjoint   \n",
      "PartialEmbeded    Relationship: Disjoint   Relationship: Disjoint   \n",
      "\n",
      "Structure_B              PartialSurround          PartialEmbeded  \n",
      "Structure_A                                                       \n",
      "OverlappedSphere  Relationship: Disjoint  Relationship: Disjoint  \n",
      "OverlappedShells  Relationship: Disjoint  Relationship: Disjoint  \n",
      "Surrounds         Relationship: Disjoint  Relationship: Disjoint  \n",
      "Embeds            Relationship: Disjoint  Relationship: Disjoint  \n",
      "PartialSurround                   Equals  Relationship: Shelters  \n",
      "PartialEmbeded                      None                  Equals  \n"
     ]
    }
   ],
   "source": [
    "# Demonstrate structure filtering with exclusions\n",
    "print(\"\\n=== Structure Filtering Example ===\")\n",
    "\n",
    "# Load the DICOM structure file using file_name parameter\n",
    "filtered_dicom_file = DicomStructureFile(\n",
    "    top_dir=tests_dir,\n",
    "    file_name=test_file_name\n",
    ")\n",
    "\n",
    "# Apply exclusions to remove structures starting with common prefixes\n",
    "filtered_dicom_file.filter_exclusions(\n",
    "    exclude_prefixes=['BODY', 'External'], \n",
    "    case_sensitive=False,\n",
    "    exclude_empty=True)\n",
    "\n",
    "# Create a new StructureSet with exclusions applied\n",
    "filtered_structure_set = StructureSet(dicom_structure_file=filtered_dicom_file)\n",
    "\n",
    "print(f\"Structures before filtering: {len(structure_set.structures)}\")\n",
    "print(f\"Structures after filtering: {len(filtered_structure_set.structures)}\")\n",
    "\n",
    "if len(filtered_structure_set.structures) > 0:\n",
    "    print(\"\\n=== Remaining Structures After Filtering ===\")\n",
    "    for roi, structure in filtered_structure_set.structures.items():\n",
    "        print(f\"ROI {roi}: {structure.name}\")\n",
    "    \n",
    "    # Calculate relationships for the filtered set\n",
    "    filtered_structure_set.calculate_relationships()\n",
    "    \n",
    "    if filtered_structure_set.relationship_graph.number_of_edges() > 0:\n",
    "        print(\"\\n=== Filtered Relationship Summary ===\")\n",
    "        filtered_relationships = filtered_structure_set.relationship_summary()\n",
    "        print(filtered_relationships)\n",
    "else:\n",
    "    print(\"All structures were filtered out.\")\n"
   ]
  },
  {
   "cell_type": "code",
   "execution_count": 50,
   "id": "e0b7e67c",
   "metadata": {},
   "outputs": [
    {
     "name": "stdout",
     "output_type": "stream",
     "text": [
      "\n",
      "=== Individual Structure Details ===\n",
      "\n",
      "--- Structure ROI 1: BODY ---\n",
      "Physical Volume: 8599.790 cc\n",
      "Hull Volume: 8599.790 cc\n",
      "Number of Slices: 217\n",
      "Number of Contours: 217\n",
      "\n",
      "--- Structure ROI 7: OverlappedSphere ---\n",
      "Physical Volume: 136.207 cc\n",
      "Hull Volume: 136.364 cc\n",
      "Number of Slices: 53\n",
      "Number of Contours: 106\n",
      "\n",
      "--- Structure ROI 8: OverlappedShells ---\n",
      "Physical Volume: 70.312 cc\n",
      "Hull Volume: 138.124 cc\n",
      "Number of Slices: 55\n",
      "Number of Contours: 194\n",
      "\n",
      "--- Structure ROI 9: Surrounds ---\n",
      "Physical Volume: 266.404 cc\n",
      "Hull Volume: 302.618 cc\n",
      "Number of Slices: 90\n",
      "Number of Contours: 137\n",
      "\n",
      "--- Structure ROI 10: Embeds ---\n",
      "Physical Volume: 14.403 cc\n",
      "Hull Volume: 14.418 cc\n",
      "Number of Slices: 33\n",
      "Number of Contours: 33\n",
      "\n",
      "--- Structure ROI 12: PartialSurround ---\n",
      "Physical Volume: 149.078 cc\n",
      "Hull Volume: 165.722 cc\n",
      "Number of Slices: 90\n",
      "Number of Contours: 92\n",
      "\n",
      "--- Structure ROI 13: PartialEmbeded ---\n",
      "Physical Volume: 3.359 cc\n",
      "Hull Volume: 3.365 cc\n",
      "Number of Slices: 29\n",
      "Number of Contours: 29\n"
     ]
    }
   ],
   "source": [
    "# Show individual structure details\n",
    "print(\"\\n=== Individual Structure Details ===\")\n",
    "\n",
    "for roi, structure in structure_set.structures.items():\n",
    "    print(f\"\\n--- Structure ROI {roi}: {structure.name} ---\")\n",
    "    print(f\"Physical Volume: {structure.physical_volume:.3f} cc\")\n",
    "    print(f\"Hull Volume: {structure.hull_volume:.3f} cc\")\n",
    "    print(f\"Number of Slices: {len(structure.region_table)}\")\n",
    "    print(f\"Number of Contours: {len(structure.contour_graph)}\")\n",
    "    \n",
    "    # Show slice range\n",
    "    if hasattr(structure, 'slice_sequence') and structure.slice_sequence:\n",
    "        slice_indices = list(structure.slice_sequence.slice_indices)\n",
    "        if slice_indices:\n",
    "            print(f\"Slice Range: {min(slice_indices):.1f} to {max(slice_indices):.1f}\")\n"
   ]
  },
  {
   "cell_type": "code",
   "execution_count": 51,
   "id": "d3f37425",
   "metadata": {},
   "outputs": [
    {
     "name": "stdout",
     "output_type": "stream",
     "text": [
      "\n",
      "=== Comprehensive Analysis Report ===\n",
      "=== DICOM File Analysis Report ===\n",
      "\n",
      "File Info:\n",
      "  PatientName: StructureVolumes^Test\n",
      "  PatientLastName: StructureVolumes\n",
      "  PatientID: GJS_Struct_Tests\n",
      "  StructureSet: MultiVolume_A\n",
      "  StudyID: Phantom2\n",
      "  SeriesNumber: 9\n",
      "  File: /workspaces/StructureRelations/Tests/RS.GJS_Struct_Tests.MultiVolume_A (1).dcm\n",
      "Structure Count: 7\n",
      "Relationship Count: 21\n",
      "Total Contours: 730\n"
     ]
    }
   ],
   "source": [
    "# Create a comprehensive analysis report\n",
    "print(\"\\n=== Comprehensive Analysis Report ===\")\n",
    "\n",
    "analysis_report = {\n",
    "    'File_Info': dicom_file.get_structure_set_info(),\n",
    "    'Structure_Count': len(structure_set.structures),\n",
    "    'Relationship_Count': structure_set.relationship_graph.number_of_edges(),\n",
    "    'Total_Contours': len(dicom_file.contour_points) if dicom_file.contour_points else 0\n",
    "}\n",
    "\n",
    "print(\"=== DICOM File Analysis Report ===\")\n",
    "for key, value in analysis_report.items():\n",
    "    if isinstance(value, dict):\n",
    "        print(f\"\\n{key.replace('_', ' ')}:\")\n",
    "        for sub_key, sub_value in value.items():\n",
    "            print(f\"  {sub_key}: {sub_value}\")\n",
    "    else:\n",
    "        print(f\"{key.replace('_', ' ')}: {value}\")\n"
   ]
  },
  {
   "cell_type": "markdown",
   "id": "e326d213",
   "metadata": {},
   "source": [
    "## Summary of Integration\n",
    "\n",
    "This extended demonstration shows how the `DicomStructureFile` class integrates seamlessly with the `StructureSet` class to provide:\n",
    "\n",
    "1. **Automatic Structure Loading**: The `StructureSet` can be initialized directly from a `DicomStructureFile`\n",
    "2. **Relationship Analysis**: Calculate spatial relationships between all structures\n",
    "3. **Structure Filtering**: Apply exclusion patterns to remove unwanted structures\n",
    "4. **Comprehensive Reporting**: Generate detailed reports on structure properties and relationships\n",
    "5. **Data Export**: Export relationship data and analysis reports to various formats\n",
    "\n",
    "### Key Benefits:\n",
    "- **Streamlined Workflow**: Single initialization creates both contour data and structure relationships\n",
    "- **Flexible Filtering**: Remove common utility structures (BODY, External, etc.) before analysis\n",
    "- **Rich Metadata**: Access both DICOM metadata and calculated structure properties\n",
    "- **Export Capabilities**: Generate reports and data files for further analysis\n",
    "\n",
    "This integration demonstrates the power of combining DICOM file handling with advanced spatial relationship analysis."
   ]
  }
 ],
 "metadata": {
  "kernelspec": {
   "display_name": "StructureRelations",
   "language": "python",
   "name": "python3"
  },
  "language_info": {
   "codemirror_mode": {
    "name": "ipython",
    "version": 3
   },
   "file_extension": ".py",
   "mimetype": "text/x-python",
   "name": "python",
   "nbconvert_exporter": "python",
   "pygments_lexer": "ipython3",
   "version": "3.11.11"
  }
 },
 "nbformat": 4,
 "nbformat_minor": 5
}
