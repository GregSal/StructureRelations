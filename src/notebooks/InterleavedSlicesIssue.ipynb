{
 "cells": [
  {
   "cell_type": "markdown",
   "metadata": {},
   "source": [
    "# Interleaved Slices Issue\n",
    "\n",
    "Illustrates current bug when 2 different structures have interleaved slices.\n"
   ]
  },
  {
   "cell_type": "code",
   "execution_count": 1,
   "metadata": {},
   "outputs": [],
   "source": [
    "import logging\n",
    "\n",
    "# Local functions and classes\n",
    "from types_and_classes import *\n",
    "from utilities import *\n",
    "from debug_tools import *\n",
    "from structure_set import *\n",
    "from relations import *"
   ]
  },
  {
   "cell_type": "markdown",
   "metadata": {},
   "source": [
    "### Global Settings"
   ]
  },
  {
   "cell_type": "code",
   "execution_count": 2,
   "metadata": {},
   "outputs": [],
   "source": [
    "PRECISION = 2"
   ]
  },
  {
   "cell_type": "code",
   "execution_count": 3,
   "metadata": {},
   "outputs": [],
   "source": [
    "%matplotlib inline"
   ]
  },
  {
   "cell_type": "markdown",
   "metadata": {},
   "source": [
    "## ERROR: When structures have interleaved slices interpolation does not work.\n"
   ]
  },
  {
   "cell_type": "markdown",
   "metadata": {},
   "source": [
    "### Just Body structure (ROI 0)  *For Reference*"
   ]
  },
  {
   "cell_type": "code",
   "execution_count": null,
   "metadata": {},
   "outputs": [
    {
     "name": "stderr",
     "output_type": "stream",
     "text": [
      "DEBUG:structure_set:Building structure for ROI: 0\n",
      "DEBUG:contour_graph:Building contour graph for ROI: 0\n",
      "DEBUG:contour_graph:Found 2 boundary contours to interpolate.\n",
      "DEBUG:contour_graph:Generating interpolated contour for ROI: 0 from slice: -2.0\n",
      "DEBUG:contour_graph:Using gap: 1.00 to create interpolated slice: -3.00\n",
      "DEBUG:contour_graph:Generating interpolated contour for ROI: 0 from slice: 2.0\n",
      "DEBUG:contour_graph:Using gap: -1.00 to create interpolated slice:  3.00\n",
      "DEBUG:structure_set:Slice sequence after ROI 0:\n",
      "           ThisSlice  NextSlice  PreviousSlice  Original\n",
      "ThisSlice                                               \n",
      "-2.5            -2.5       -2.0            NaN     False\n",
      "-2.0            -2.0       -1.0            NaN      True\n",
      "-1.0            -1.0        0.0           -2.0      True\n",
      " 0.0             0.0        1.0           -1.0      True\n",
      " 1.0             1.0        2.0            0.0      True\n",
      " 2.0             2.0        NaN            1.0      True\n",
      " 2.5             2.5        NaN            2.0     False\n"
     ]
    }
   ],
   "source": [
    "def irregular_slices_reference():\n",
    "    '''Just Body structure (ROI 0)'''\n",
    "    slice_spacing = 1\n",
    "    # Body structure defines slices in use\n",
    "    body = make_vertical_cylinder(roi_num=0, radius=12, length=4,\n",
    "                                  spacing=slice_spacing)\n",
    "    # combine the contours\n",
    "    slice_data = body\n",
    "    return slice_data\n",
    "\n",
    "slice_data = irregular_slices_reference()\n",
    "logging.getLogger('structure_set').setLevel(logging.DEBUG)\n",
    "logging.getLogger('contour_graph').setLevel(logging.DEBUG)\n",
    "structures = StructureSet(slice_data)\n",
    "logging.getLogger('structure_set').setLevel(logging.INFO)\n",
    "logging.getLogger('contour_graph').setLevel(logging.INFO)"
   ]
  },
  {
   "cell_type": "markdown",
   "metadata": {},
   "source": [
    "#### ERROR gap should be 0.5 not 1.0\n",
    "- distance between slices should be divided by 2"
   ]
  },
  {
   "cell_type": "markdown",
   "metadata": {},
   "source": [
    "- DEBUG:contour_graph:Generating interpolated contour for ROI: 0 from slice: -2.0\n",
    "- DEBUG:contour_graph:`Using gap: 1.00 to create interpolated slice: -3.00`\n",
    "<br><br>\n",
    "- DEBUG:contour_graph:Generating interpolated contour for ROI: 0 from slice: 2.0\n",
    "- DEBUG:contour_graph:`Using gap: -1.00 to create interpolated slice:  3.00`\n",
    "\n",
    "> **The above gap is not actually being used.**"
   ]
  },
  {
   "cell_type": "markdown",
   "metadata": {},
   "source": [
    "### Regular slices with hole (all on integer slices) *For Reference*\n",
    "- Body structure (ROI 0) on integer slices\n",
    "- Primary cylinder and Right hole (ROI 1) on integer slices\n",
    "\n",
    "**Boundary contours correctly identified**\n"
   ]
  },
  {
   "cell_type": "code",
   "execution_count": 10,
   "metadata": {},
   "outputs": [
    {
     "name": "stderr",
     "output_type": "stream",
     "text": [
      "DEBUG:structure_set:Building structure for ROI: 0\n",
      "DEBUG:contour_graph:Building contour graph for ROI: 0\n",
      "DEBUG:contour_graph:Found 2 boundary contours to interpolate.\n",
      "DEBUG:contour_graph:Generating interpolated contour for ROI: 0 from slice: -3.0\n",
      "DEBUG:contour_graph:Using gap: 1.00 to create interpolated slice: -4.00\n",
      "DEBUG:contour_graph:Generating interpolated contour for ROI: 0 from slice: 3.0\n",
      "DEBUG:contour_graph:Using gap: -1.00 to create interpolated slice:  4.00\n",
      "DEBUG:structure_set:Slice sequence after ROI 0:\n",
      "           ThisSlice  NextSlice  PreviousSlice  Original\n",
      "ThisSlice                                               \n",
      "-3.5            -3.5       -3.0            NaN     False\n",
      "-3.0            -3.0       -2.0            NaN      True\n",
      "-2.0            -2.0       -1.0           -3.0      True\n",
      "-1.0            -1.0        0.0           -2.0      True\n",
      " 0.0             0.0        1.0           -1.0      True\n",
      " 1.0             1.0        2.0            0.0      True\n",
      " 2.0             2.0        3.0            1.0      True\n",
      " 3.0             3.0        NaN            2.0      True\n",
      " 3.5             3.5        NaN            3.0     False\n",
      "DEBUG:structure_set:Building structure for ROI: 1\n",
      "DEBUG:contour_graph:Building contour graph for ROI: 1\n",
      "DEBUG:contour_graph:Found 4 boundary contours to interpolate.\n",
      "DEBUG:contour_graph:Generating interpolated contour for ROI: 1 from slice: -1.0\n",
      "DEBUG:contour_graph:Using slice: -2.00 for interpolation.\n",
      "DEBUG:contour_graph:Generating interpolated contour for ROI: 1 from slice: -1.0\n",
      "DEBUG:contour_graph:Using slice: -2.00 for interpolation.\n",
      "DEBUG:contour_graph:Generating interpolated contour for ROI: 1 from slice: 1.0\n",
      "DEBUG:contour_graph:Using slice:  2.00 for interpolation.\n",
      "DEBUG:contour_graph:Generating interpolated contour for ROI: 1 from slice: 1.0\n",
      "DEBUG:contour_graph:Using slice:  2.00 for interpolation.\n",
      "DEBUG:structure_set:Slice sequence after ROI 1:\n",
      "           ThisSlice  NextSlice  PreviousSlice  Original\n",
      "ThisSlice                                               \n",
      "-3.5            -3.5       -3.0            NaN     False\n",
      "-3.0            -3.0       -2.0            NaN      True\n",
      "-2.0            -2.0       -1.0           -3.0      True\n",
      "-1.5            -1.5       -1.0           -2.0     False\n",
      "-1.0            -1.0        0.0           -2.0      True\n",
      " 0.0             0.0        1.0           -1.0      True\n",
      " 1.0             1.0        2.0            0.0      True\n",
      " 1.5             1.5        2.0            1.0     False\n",
      " 2.0             2.0        3.0            1.0      True\n",
      " 3.0             3.0        NaN            2.0      True\n",
      " 3.5             3.5        NaN            3.0     False\n"
     ]
    }
   ],
   "source": [
    "def regular_slices_cylindrical_hole():\n",
    "    slice_spacing = 1\n",
    "    # Body structure defines slices in use\n",
    "    body = make_vertical_cylinder(roi_num=0, radius=12, length=6,\n",
    "                                  spacing=slice_spacing)\n",
    "    # Centred cylinder with two embedded cylinders\n",
    "    primary_cylinder = make_vertical_cylinder(roi_num=1, radius=5, length=2,\n",
    "                                              spacing=slice_spacing)\n",
    "    right_hole = make_vertical_cylinder(roi_num=1, radius=2, length=2,\n",
    "                                        offset_x=2.5, spacing=slice_spacing)\n",
    "    # combine the contours\n",
    "    slice_data = body + primary_cylinder + right_hole\n",
    "    return slice_data\n",
    "slice_data = regular_slices_cylindrical_hole()\n",
    "logging.getLogger('structure_set').setLevel(logging.DEBUG)\n",
    "logging.getLogger('contour_graph').setLevel(logging.DEBUG)\n",
    "structures = StructureSet(slice_data)\n",
    "logging.getLogger('structure_set').setLevel(logging.INFO)\n",
    "logging.getLogger('contour_graph').setLevel(logging.INFO)"
   ]
  },
  {
   "cell_type": "markdown",
   "metadata": {},
   "source": [
    "### Interleaved slices with hole\n",
    "- Body structure (ROI 0) on integer slices\n",
    "- Primary cylinder and Right hole (ROI 1) on half integer slices\n",
    "\n",
    "**Boundary contours are not correctly identified**\n",
    "> - **4 boundary contours found for ROI 0.**\n",
    "> - **0 boundary contours found for ROI 1.**\n",
    "\n"
   ]
  },
  {
   "cell_type": "code",
   "execution_count": 13,
   "metadata": {},
   "outputs": [
    {
     "name": "stderr",
     "output_type": "stream",
     "text": [
      "DEBUG:structure_set:Building structure for ROI: 0\n",
      "DEBUG:contour_graph:Building contour graph for ROI: 0\n",
      "DEBUG:contour_graph:Found 4 boundary contours to interpolate.\n",
      "DEBUG:contour_graph:Generating interpolated contour for ROI: 0 from slice: -3.0\n",
      "DEBUG:contour_graph:Using gap: 1.00 to create interpolated slice: -4.00\n",
      "DEBUG:contour_graph:Generating interpolated contour for ROI: 0 from slice: -2.0\n",
      "DEBUG:contour_graph:Using slice: -1.50 for interpolation.\n",
      "DEBUG:contour_graph:Generating interpolated contour for ROI: 0 from slice: 3.0\n",
      "DEBUG:contour_graph:Using gap: -1.00 to create interpolated slice:  4.00\n",
      "DEBUG:contour_graph:Generating interpolated contour for ROI: 0 from slice: 2.0\n",
      "DEBUG:contour_graph:Using slice:  1.50 for interpolation.\n",
      "DEBUG:structure_set:Slice sequence after ROI 0:\n",
      "           ThisSlice  NextSlice  PreviousSlice  Original\n",
      "ThisSlice                                               \n",
      "-3.50          -3.50       -3.0            NaN     False\n",
      "-3.00          -3.00       -2.0            NaN      True\n",
      "-2.00          -2.00       -1.5           -3.0      True\n",
      "-1.75          -1.75       -1.5           -2.0     False\n",
      "-1.50          -1.50       -1.0           -2.0      True\n",
      "-1.00          -1.00       -0.5           -1.5      True\n",
      "-0.50          -0.50        0.0           -1.0      True\n",
      " 0.00           0.00        0.5           -0.5      True\n",
      " 0.50           0.50        1.0            0.0      True\n",
      " 1.00           1.00        1.5            0.5      True\n",
      " 1.50           1.50        2.0            1.0      True\n",
      " 1.75           1.75        2.0            1.5     False\n",
      " 2.00           2.00        3.0            1.5      True\n",
      " 3.00           3.00        NaN            2.0      True\n",
      " 3.50           3.50        NaN            3.0     False\n",
      "DEBUG:structure_set:Building structure for ROI: 1\n",
      "DEBUG:contour_graph:Building contour graph for ROI: 1\n",
      "DEBUG:contour_graph:Found 0 boundary contours to interpolate.\n",
      "DEBUG:structure_set:Slice sequence after ROI 1:\n",
      "           ThisSlice  NextSlice  PreviousSlice  Original\n",
      "ThisSlice                                               \n",
      "-3.50          -3.50       -3.0            NaN     False\n",
      "-3.00          -3.00       -2.0            NaN      True\n",
      "-2.00          -2.00       -1.5           -3.0      True\n",
      "-1.75          -1.75       -1.5           -2.0     False\n",
      "-1.50          -1.50       -1.0           -2.0      True\n",
      "-1.00          -1.00       -0.5           -1.5      True\n",
      "-0.50          -0.50        0.0           -1.0      True\n",
      " 0.00           0.00        0.5           -0.5      True\n",
      " 0.50           0.50        1.0            0.0      True\n",
      " 1.00           1.00        1.5            0.5      True\n",
      " 1.50           1.50        2.0            1.0      True\n",
      " 1.75           1.75        2.0            1.5     False\n",
      " 2.00           2.00        3.0            1.5      True\n",
      " 3.00           3.00        NaN            2.0      True\n",
      " 3.50           3.50        NaN            3.0     False\n"
     ]
    }
   ],
   "source": [
    "def irregular_slices_cylindrical_hole():\n",
    "    slice_spacing = 1\n",
    "    # Body structure defines slices in use\n",
    "    body = make_vertical_cylinder(roi_num=0, radius=12, length=6,\n",
    "                                  spacing=slice_spacing)\n",
    "    # Centred cylinder with two embedded cylinders\n",
    "    primary_cylinder = make_vertical_cylinder(roi_num=1, radius=5, length=3,\n",
    "                                              spacing=slice_spacing)\n",
    "    right_hole = make_vertical_cylinder(roi_num=1, radius=2, length=3,\n",
    "                                        offset_x=2.5, spacing=slice_spacing)\n",
    "    # combine the contours\n",
    "    slice_data = body + primary_cylinder + right_hole\n",
    "    return slice_data\n",
    "slice_data = irregular_slices_cylindrical_hole()\n",
    "logging.getLogger('structure_set').setLevel(logging.DEBUG)\n",
    "logging.getLogger('contour_graph').setLevel(logging.DEBUG)\n",
    "structures = StructureSet(slice_data)\n",
    "logging.getLogger('structure_set').setLevel(logging.INFO)\n",
    "logging.getLogger('contour_graph').setLevel(logging.INFO)"
   ]
  },
  {
   "cell_type": "markdown",
   "metadata": {},
   "source": [
    "#### ERROR: No edges for ROI 1"
   ]
  },
  {
   "cell_type": "code",
   "execution_count": 15,
   "metadata": {},
   "outputs": [
    {
     "data": {
      "image/png": "[encoded data removed]",
      "text/plain": [
       "<Figure size 640x480 with 1 Axes>"
      ]
     },
     "metadata": {},
     "output_type": "display_data"
    }
   ],
   "source": [
    "contour_graph = structures.structures[1].contour_graph\n",
    "nx.draw(\n",
    "    contour_graph,\n",
    "    with_labels=True,\n",
    "   # pos=nx.arf_layout(contour_graph)\n",
    "    )\n",
    "plt.show()"
   ]
  },
  {
   "cell_type": "markdown",
   "metadata": {},
   "source": [
    "#### ERROR: Disconnected middle slices and ends for ROI 0"
   ]
  },
  {
   "cell_type": "code",
   "execution_count": null,
   "metadata": {},
   "outputs": [
    {
     "data": {
      "image/png": "[encoded data removed]",
      "text/plain": [
       "<Figure size 640x480 with 1 Axes>"
      ]
     },
     "metadata": {},
     "output_type": "display_data"
    }
   ],
   "source": [
    "contour_graph = structures.structures[0].contour_graph\n",
    "nx.draw(\n",
    "    contour_graph,\n",
    "    with_labels=True,\n",
    "   # pos=nx.arf_layout(contour_graph)\n",
    "    )\n",
    "plt.show()"
   ]
  },
  {
   "cell_type": "markdown",
   "metadata": {},
   "source": [
    "### Interleaved slices with 3 structures\n",
    "- Body structure (ROI 0) on integer slices\n",
    "- Primary cylinder and Right hole (ROI 1) on half integer slices\n",
    "- confines_cylinder (ROI 2) on integer slices\n",
    "\n",
    "**Boundary contours are not correctly identified**\n",
    "> - **4 boundary contours found for ROI 0.**\n",
    "> - **0 boundary contours found for ROI 1.**\n",
    "> - **0 boundary contours found for ROI 2.**\n",
    "\n"
   ]
  },
  {
   "cell_type": "code",
   "execution_count": 17,
   "metadata": {},
   "outputs": [
    {
     "name": "stderr",
     "output_type": "stream",
     "text": [
      "DEBUG:structure_set:Building structure for ROI: 0\n",
      "DEBUG:contour_graph:Building contour graph for ROI: 0\n",
      "DEBUG:contour_graph:Found 4 boundary contours to interpolate.\n",
      "DEBUG:contour_graph:Generating interpolated contour for ROI: 0 from slice: 3.0\n",
      "DEBUG:contour_graph:Using gap: -1.00 to create interpolated slice:  4.00\n",
      "DEBUG:contour_graph:Generating interpolated contour for ROI: 0 from slice: -2.0\n",
      "DEBUG:contour_graph:Using slice: -1.50 for interpolation.\n",
      "DEBUG:contour_graph:Generating interpolated contour for ROI: 0 from slice: 2.0\n",
      "DEBUG:contour_graph:Using slice:  1.50 for interpolation.\n",
      "DEBUG:contour_graph:Generating interpolated contour for ROI: 0 from slice: -3.0\n",
      "DEBUG:contour_graph:Using gap: 1.00 to create interpolated slice: -4.00\n",
      "DEBUG:structure_set:Slice sequence after ROI 0:\n",
      "           ThisSlice  NextSlice  PreviousSlice  Original\n",
      "ThisSlice                                               \n",
      "-3.50          -3.50       -3.0            NaN     False\n",
      "-3.00          -3.00       -2.0            NaN      True\n",
      "-2.00          -2.00       -1.5           -3.0      True\n",
      "-1.75          -1.75       -1.5           -2.0     False\n",
      "-1.50          -1.50       -1.0           -2.0      True\n",
      "-1.00          -1.00       -0.5           -1.5      True\n",
      "-0.50          -0.50        0.0           -1.0      True\n",
      " 0.00           0.00        0.5           -0.5      True\n",
      " 0.50           0.50        1.0            0.0      True\n",
      " 1.00           1.00        1.5            0.5      True\n",
      " 1.50           1.50        2.0            1.0      True\n",
      " 1.75           1.75        2.0            1.5     False\n",
      " 2.00           2.00        3.0            1.5      True\n",
      " 3.00           3.00        NaN            2.0      True\n",
      " 3.50           3.50        NaN            3.0     False\n",
      "DEBUG:structure_set:Building structure for ROI: 1\n",
      "DEBUG:contour_graph:Building contour graph for ROI: 1\n",
      "DEBUG:contour_graph:Found 0 boundary contours to interpolate.\n",
      "DEBUG:structure_set:Slice sequence after ROI 1:\n",
      "           ThisSlice  NextSlice  PreviousSlice  Original\n",
      "ThisSlice                                               \n",
      "-3.50          -3.50       -3.0            NaN     False\n",
      "-3.00          -3.00       -2.0            NaN      True\n",
      "-2.00          -2.00       -1.5           -3.0      True\n",
      "-1.75          -1.75       -1.5           -2.0     False\n",
      "-1.50          -1.50       -1.0           -2.0      True\n",
      "-1.00          -1.00       -0.5           -1.5      True\n",
      "-0.50          -0.50        0.0           -1.0      True\n",
      " 0.00           0.00        0.5           -0.5      True\n",
      " 0.50           0.50        1.0            0.0      True\n",
      " 1.00           1.00        1.5            0.5      True\n",
      " 1.50           1.50        2.0            1.0      True\n",
      " 1.75           1.75        2.0            1.5     False\n",
      " 2.00           2.00        3.0            1.5      True\n",
      " 3.00           3.00        NaN            2.0      True\n",
      " 3.50           3.50        NaN            3.0     False\n",
      "DEBUG:structure_set:Building structure for ROI: 2\n",
      "DEBUG:contour_graph:Building contour graph for ROI: 2\n",
      "DEBUG:contour_graph:Found 0 boundary contours to interpolate.\n",
      "DEBUG:structure_set:Slice sequence after ROI 2:\n",
      "           ThisSlice  NextSlice  PreviousSlice  Original\n",
      "ThisSlice                                               \n",
      "-3.50          -3.50       -3.0            NaN     False\n",
      "-3.00          -3.00       -2.0            NaN      True\n",
      "-2.00          -2.00       -1.5           -3.0      True\n",
      "-1.75          -1.75       -1.5           -2.0     False\n",
      "-1.50          -1.50       -1.0           -2.0      True\n",
      "-1.00          -1.00       -0.5           -1.5      True\n",
      "-0.50          -0.50        0.0           -1.0      True\n",
      " 0.00           0.00        0.5           -0.5      True\n",
      " 0.50           0.50        1.0            0.0      True\n",
      " 1.00           1.00        1.5            0.5      True\n",
      " 1.50           1.50        2.0            1.0      True\n",
      " 1.75           1.75        2.0            1.5     False\n",
      " 2.00           2.00        3.0            1.5      True\n",
      " 3.00           3.00        NaN            2.0      True\n",
      " 3.50           3.50        NaN            3.0     False\n"
     ]
    }
   ],
   "source": [
    "def irregular_slices_3_structures():\n",
    "    slice_spacing = 1\n",
    "    # Body structure defines slices in use\n",
    "    body = make_vertical_cylinder(roi_num=0, radius=12, length=6,\n",
    "                                  spacing=slice_spacing)\n",
    "    # Centred cylinder with two embedded cylinders\n",
    "    primary_cylinder = make_vertical_cylinder(roi_num=1, radius=5, length=3,\n",
    "                                              spacing=slice_spacing)\n",
    "    right_hole = make_vertical_cylinder(roi_num=1, radius=2, length=3,\n",
    "                                        offset_x=2.5, spacing=slice_spacing)\n",
    "    # cylinder with interior borders\n",
    "    confines_cylinder = make_vertical_cylinder(roi_num=2, radius=1,\n",
    "                                                length=2, offset_x=2.5,\n",
    "                                                spacing=slice_spacing)\n",
    "    # combine the contours\n",
    "    slice_data = body + primary_cylinder + right_hole + confines_cylinder\n",
    "    return slice_data\n",
    "slice_data = irregular_slices_3_structures()\n",
    "logging.getLogger('structure_set').setLevel(logging.DEBUG)\n",
    "logging.getLogger('contour_graph').setLevel(logging.DEBUG)\n",
    "structures = StructureSet(slice_data)\n",
    "logging.getLogger('structure_set').setLevel(logging.INFO)\n",
    "logging.getLogger('contour_graph').setLevel(logging.INFO)"
   ]
  },
  {
   "cell_type": "code",
   "execution_count": null,
   "metadata": {},
   "outputs": [],
   "source": [
    "selected_columns = ['SliceIndex', 'HoleType', 'Interpolated',\n",
    "                    'RegionIndex']"
   ]
  },
  {
   "cell_type": "code",
   "execution_count": 26,
   "metadata": {},
   "outputs": [
    {
     "name": "stdout",
     "output_type": "stream",
     "text": [
      "    SliceIndex HoleType  Interpolated RegionIndex\n",
      "10       -3.50     None          True          0A\n",
      "0        -3.00     None         False          0A\n",
      "1        -2.00     None         False          0A\n",
      "8        -1.75     None          True          0A\n",
      "2        -1.00     None         False          0B\n",
      "3         0.00     None         False          0C\n",
      "4         1.00     None         False          0D\n",
      "9         1.75     None          True          0E\n",
      "5         2.00     None         False          0E\n",
      "6         3.00     None         False          0E\n",
      "7         3.50     None          True          0E\n"
     ]
    }
   ],
   "source": [
    "print(structures.structures[0].contour_lookup[selected_columns])\n"
   ]
  },
  {
   "cell_type": "code",
   "execution_count": 27,
   "metadata": {},
   "outputs": [
    {
     "name": "stdout",
     "output_type": "stream",
     "text": [
      "   SliceIndex HoleType  Interpolated RegionIndex\n",
      "0        -1.5     None         False          1A\n",
      "1        -1.5  Unknown         False          1B\n",
      "2        -0.5     None         False          1C\n",
      "3        -0.5  Unknown         False          1D\n",
      "4         0.5     None         False          1E\n",
      "5         0.5  Unknown         False          1F\n",
      "6         1.5     None         False          1G\n",
      "7         1.5  Unknown         False          1H\n"
     ]
    }
   ],
   "source": [
    "print(structures.structures[1].contour_lookup[selected_columns])\n"
   ]
  },
  {
   "cell_type": "code",
   "execution_count": 28,
   "metadata": {},
   "outputs": [
    {
     "name": "stdout",
     "output_type": "stream",
     "text": [
      "   SliceIndex HoleType  Interpolated RegionIndex\n",
      "0        -1.0     None         False          2A\n",
      "1         0.0     None         False          2B\n",
      "2         1.0     None         False          2C\n"
     ]
    }
   ],
   "source": [
    "print(structures.structures[2].contour_lookup[selected_columns])\n"
   ]
  }
 ],
 "metadata": {
  "kernelspec": {
   "display_name": "StructureRelations",
   "language": "python",
   "name": "python3"
  },
  "language_info": {
   "codemirror_mode": {
    "name": "ipython",
    "version": 3
   },
   "file_extension": ".py",
   "mimetype": "text/x-python",
   "name": "python",
   "nbconvert_exporter": "python",
   "pygments_lexer": "ipython3",
   "version": "3.11.13"
  }
 },
 "nbformat": 4,
 "nbformat_minor": 4
}
