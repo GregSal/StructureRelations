{
 "cells": [
  {
   "cell_type": "markdown",
   "metadata": {},
   "source": [
    "# DE27IM Class Tests"
   ]
  },
  {
   "cell_type": "markdown",
   "metadata": {},
   "source": [
    "When written in binary, the 27 bit relationship contains 3 9-bit\n",
    "parts corresponding to DE-9IM relationships. The left-most 9 bits\n",
    "are the relationship between the second structure's contour and the\n",
    "first structure's convex hull polygon. The middle 9 bits are the\n",
    "relationship between the second structure's contour and the first\n",
    "structure's exterior polygon (i.e. with any holes filled). The\n",
    "right-most 9 bits are the relationship between the second\n",
    "structure's contour and the first structure's contour.\n",
    "\n",
    "Args:\n",
    "    slice_structures (pd.DataFrame): A table of structures, where\n",
    "        the values are the contours with type StructureSlice. The\n",
    "        column index contains the roi numbers for the structures.\n",
    "        The row index contains the slice index distances.\n",
    "\n",
    "Returns:\n",
    "    DE9IM_Type: An integer corresponding to a 27 bit binary value\n",
    "        reflecting the combined DE-9IM relationship between contour2 and\n",
    "        contour1's convex hull, exterior and polygon."
   ]
  },
  {
   "cell_type": "markdown",
   "metadata": {},
   "source": [
    "## Setup"
   ]
  },
  {
   "cell_type": "markdown",
   "metadata": {},
   "source": [
    "### Imports"
   ]
  },
  {
   "cell_type": "code",
   "execution_count": 1,
   "metadata": {},
   "outputs": [
    {
     "data": {
      "text/plain": [
       "WindowsPath(\"d:/OneDrive - Queen's University/src\")"
      ]
     },
     "execution_count": 1,
     "metadata": {},
     "output_type": "execute_result"
    }
   ],
   "source": [
    "# Add src and Tests to sys.path for notebook imports\n",
    "import sys\n",
    "from pathlib import Path\n",
    "\n",
    "root = Path.cwd().parent.parent.parent # Adjust if needed\n",
    "src_path = root / \"src\"\n",
    "tests_path = root / \"Tests\"\n",
    "src_path"
   ]
  },
  {
   "cell_type": "code",
   "execution_count": 2,
   "metadata": {},
   "outputs": [],
   "source": [
    "\n",
    "if str(src_path) not in sys.path:\n",
    "    sys.path.insert(0, str(src_path))\n",
    "if str(tests_path) not in sys.path:\n",
    "    sys.path.insert(0, str(tests_path))"
   ]
  },
  {
   "cell_type": "code",
   "execution_count": 3,
   "metadata": {},
   "outputs": [],
   "source": [
    "# Shared Packages\n",
    "import pandas as pd\n",
    "\n",
    "# Local functions and classes\n",
    "# Local functions and classes\n",
    "from types_and_classes import *\n",
    "from utilities import *\n",
    "from contours import *\n",
    "from contour_graph import *\n",
    "from debug_tools import *\n",
    "from region_slice import *\n",
    "from relations import *"
   ]
  },
  {
   "cell_type": "markdown",
   "metadata": {},
   "source": [
    "### Global Settings"
   ]
  },
  {
   "cell_type": "code",
   "execution_count": 4,
   "metadata": {},
   "outputs": [],
   "source": [
    "PRECISION = 2"
   ]
  },
  {
   "cell_type": "code",
   "execution_count": 5,
   "metadata": {},
   "outputs": [],
   "source": [
    "%matplotlib inline"
   ]
  },
  {
   "cell_type": "code",
   "execution_count": 6,
   "metadata": {},
   "outputs": [
    {
     "data": {
      "application/vnd.microsoft.datawrangler.viewer.v0+json": {
       "columns": [
        {
         "name": "index",
         "rawType": "int64",
         "type": "integer"
        },
        {
         "name": "ROI",
         "rawType": "int64",
         "type": "integer"
        },
        {
         "name": "Slice",
         "rawType": "float64",
         "type": "float"
        },
        {
         "name": "Points",
         "rawType": "object",
         "type": "unknown"
        },
        {
         "name": "Polygon",
         "rawType": "object",
         "type": "unknown"
        },
        {
         "name": "Area",
         "rawType": "float64",
         "type": "float"
        }
       ],
       "ref": "fbc8107f-2696-4a32-bdf9-8b5f07b0c917",
       "rows": [
        [
         "0",
         "0",
         "1.0",
         "[(5.0, 2.5, 1.0), (5.0, -2.5, 1.0), (-5.0, -2.5, 1.0), (-5.0, 2.5, 1.0)]",
         "POLYGON Z ((5 2.5 1, 5 -2.5 1, -5 -2.5 1, -5 2.5 1, 5 2.5 1))",
         "50.0"
        ],
        [
         "1",
         "0",
         "1.0",
         "[(np.float64(-3.0), np.float64(2.0), 1.0), (np.float64(-2.235), np.float64(1.848), 1.0), (np.float64(-1.586), np.float64(1.414), 1.0), (np.float64(-1.152), np.float64(0.765), 1.0), (np.float64(-1.0), np.float64(0.0), 1.0), (np.float64(-1.152), np.float64(-0.765), 1.0), (np.float64(-1.586), np.float64(-1.414), 1.0), (np.float64(-2.235), np.float64(-1.848), 1.0), (np.float64(-3.0), np.float64(-2.0), 1.0), (np.float64(-3.765), np.float64(-1.848), 1.0), (np.float64(-4.414), np.float64(-1.414), 1.0), (np.float64(-4.848), np.float64(-0.765), 1.0), (np.float64(-5.0), np.float64(0.0), 1.0), (np.float64(-4.848), np.float64(0.765), 1.0), (np.float64(-4.414), np.float64(1.414), 1.0), (np.float64(-3.765), np.float64(1.848), 1.0)]",
         "POLYGON Z ((-3 2 1, -2.235 1.848 1, -1.586 1.414 1, -1.152 0.765 1, -1 0 1, -1.152 -0.765 1, -1.586 -1.414 1, -2.235 -1.848 1, -3 -2 1, -3.765 -1.848 1, -4.414 -1.414 1, -4.848 -0.765 1, -5 0 1, -4.848 0.765 1, -4.414 1.414 1, -3.765 1.848 1, -3 2 1))",
         "12.245448"
        ],
        [
         "2",
         "0",
         "1.0",
         "[(np.float64(3.0), np.float64(1.5), 1.0), (np.float64(3.574), np.float64(1.386), 1.0), (np.float64(4.061), np.float64(1.061), 1.0), (np.float64(4.386), np.float64(0.574), 1.0), (np.float64(4.5), np.float64(0.0), 1.0), (np.float64(4.386), np.float64(-0.574), 1.0), (np.float64(4.061), np.float64(-1.061), 1.0), (np.float64(3.574), np.float64(-1.386), 1.0), (np.float64(3.0), np.float64(-1.5), 1.0), (np.float64(2.426), np.float64(-1.386), 1.0), (np.float64(1.939), np.float64(-1.061), 1.0), (np.float64(1.614), np.float64(-0.574), 1.0), (np.float64(1.5), np.float64(0.0), 1.0), (np.float64(1.614), np.float64(0.574), 1.0), (np.float64(1.939), np.float64(1.061), 1.0), (np.float64(2.426), np.float64(1.386), 1.0)]",
         "POLYGON Z ((3 1.5 1, 3.574 1.386 1, 4.061 1.061 1, 4.386 0.574 1, 4.5 0 1, 4.386 -0.574 1, 4.061 -1.061 1, 3.574 -1.386 1, 3 -1.5 1, 2.426 -1.386 1, 1.939 -1.061 1, 1.614 -0.574 1, 1.5 0 1, 1.614 0.574 1, 1.939 1.061 1, 2.426 1.386 1, 3 1.5 1))",
         "6.890128"
        ],
        [
         "3",
         "0",
         "1.0",
         "[(np.float64(3.0), np.float64(1.0), 1.0), (np.float64(3.383), np.float64(0.924), 1.0), (np.float64(3.707), np.float64(0.707), 1.0), (np.float64(3.924), np.float64(0.383), 1.0), (np.float64(4.0), np.float64(0.0), 1.0), (np.float64(3.924), np.float64(-0.383), 1.0), (np.float64(3.707), np.float64(-0.707), 1.0), (np.float64(3.383), np.float64(-0.924), 1.0), (np.float64(3.0), np.float64(-1.0), 1.0), (np.float64(2.617), np.float64(-0.924), 1.0), (np.float64(2.293), np.float64(-0.707), 1.0), (np.float64(2.076), np.float64(-0.383), 1.0), (np.float64(2.0), np.float64(0.0), 1.0), (np.float64(2.076), np.float64(0.383), 1.0), (np.float64(2.293), np.float64(0.707), 1.0), (np.float64(2.617), np.float64(0.924), 1.0)]",
         "POLYGON Z ((3 1 1, 3.383 0.924 1, 3.707 0.707 1, 3.924 0.383 1, 4 0 1, 3.924 -0.383 1, 3.707 -0.707 1, 3.383 -0.924 1, 3 -1 1, 2.617 -0.924 1, 2.293 -0.707 1, 2.076 -0.383 1, 2 0 1, 2.076 0.383 1, 2.293 0.707 1, 2.617 0.924 1, 3 1 1))",
         "3.0619479999999997"
        ],
        [
         "4",
         "1",
         "1.0",
         "[(np.float64(-3.0), np.float64(1.5), 1.0), (np.float64(-2.617), np.float64(1.424), 1.0), (np.float64(-2.293), np.float64(1.2069999999999999), 1.0), (np.float64(-2.076), np.float64(0.883), 1.0), (np.float64(-2.0), np.float64(0.5), 1.0), (np.float64(-2.076), np.float64(0.11699999999999999), 1.0), (np.float64(-2.293), np.float64(-0.20699999999999996), 1.0), (np.float64(-2.617), np.float64(-0.42400000000000004), 1.0), (np.float64(-3.0), np.float64(-0.5), 1.0), (np.float64(-3.383), np.float64(-0.42400000000000004), 1.0), (np.float64(-3.707), np.float64(-0.20699999999999996), 1.0), (np.float64(-3.924), np.float64(0.11699999999999999), 1.0), (np.float64(-4.0), np.float64(0.5), 1.0), (np.float64(-3.924), np.float64(0.883), 1.0), (np.float64(-3.707), np.float64(1.2069999999999999), 1.0), (np.float64(-3.383), np.float64(1.424), 1.0)]",
         "POLYGON Z ((-3 1.5 1, -2.617 1.424 1, -2.293 1.2069999999999999 1, -2.076 0.883 1, -2 0.5 1, -2.076 0.117 1, -2.293 -0.207 1, -2.617 -0.424 1, -3 -0.5 1, -3.383 -0.424 1, -3.707 -0.207 1, -3.924 0.117 1, -4 0.5 1, -3.924 0.883 1, -3.707 1.2069999999999999 1, -3.383 1.424 1, -3 1.5 1))",
         "3.0619479999999997"
        ]
       ],
       "shape": {
        "columns": 5,
        "rows": 5
       }
      },
      "text/html": [
       "<div>\n",
       "<style scoped>\n",
       "    .dataframe tbody tr th:only-of-type {\n",
       "        vertical-align: middle;\n",
       "    }\n",
       "\n",
       "    .dataframe tbody tr th {\n",
       "        vertical-align: top;\n",
       "    }\n",
       "\n",
       "    .dataframe thead th {\n",
       "        text-align: right;\n",
       "    }\n",
       "</style>\n",
       "<table border=\"1\" class=\"dataframe\">\n",
       "  <thead>\n",
       "    <tr style=\"text-align: right;\">\n",
       "      <th></th>\n",
       "      <th>ROI</th>\n",
       "      <th>Slice</th>\n",
       "      <th>Points</th>\n",
       "      <th>Polygon</th>\n",
       "      <th>Area</th>\n",
       "    </tr>\n",
       "  </thead>\n",
       "  <tbody>\n",
       "    <tr>\n",
       "      <th>0</th>\n",
       "      <td>0</td>\n",
       "      <td>1.0</td>\n",
       "      <td>[(5.0, 2.5, 1.0), (5.0, -2.5, 1.0), (-5.0, -2....</td>\n",
       "      <td>POLYGON Z ((5 2.5 1, 5 -2.5 1, -5 -2.5 1, -5 2...</td>\n",
       "      <td>50.000000</td>\n",
       "    </tr>\n",
       "    <tr>\n",
       "      <th>1</th>\n",
       "      <td>0</td>\n",
       "      <td>1.0</td>\n",
       "      <td>[(-3.0, 2.0, 1.0), (-2.235, 1.848, 1.0), (-1.5...</td>\n",
       "      <td>POLYGON Z ((-3 2 1, -2.235 1.848 1, -1.586 1.4...</td>\n",
       "      <td>12.245448</td>\n",
       "    </tr>\n",
       "    <tr>\n",
       "      <th>2</th>\n",
       "      <td>0</td>\n",
       "      <td>1.0</td>\n",
       "      <td>[(3.0, 1.5, 1.0), (3.574, 1.386, 1.0), (4.061,...</td>\n",
       "      <td>POLYGON Z ((3 1.5 1, 3.574 1.386 1, 4.061 1.06...</td>\n",
       "      <td>6.890128</td>\n",
       "    </tr>\n",
       "    <tr>\n",
       "      <th>3</th>\n",
       "      <td>0</td>\n",
       "      <td>1.0</td>\n",
       "      <td>[(3.0, 1.0, 1.0), (3.383, 0.924, 1.0), (3.707,...</td>\n",
       "      <td>POLYGON Z ((3 1 1, 3.383 0.924 1, 3.707 0.707 ...</td>\n",
       "      <td>3.061948</td>\n",
       "    </tr>\n",
       "    <tr>\n",
       "      <th>4</th>\n",
       "      <td>1</td>\n",
       "      <td>1.0</td>\n",
       "      <td>[(-3.0, 1.5, 1.0), (-2.617, 1.424, 1.0), (-2.2...</td>\n",
       "      <td>POLYGON Z ((-3 1.5 1, -2.617 1.424 1, -2.293 1...</td>\n",
       "      <td>3.061948</td>\n",
       "    </tr>\n",
       "  </tbody>\n",
       "</table>\n",
       "</div>"
      ],
      "text/plain": [
       "   ROI  Slice                                             Points  \\\n",
       "0    0    1.0  [(5.0, 2.5, 1.0), (5.0, -2.5, 1.0), (-5.0, -2....   \n",
       "1    0    1.0  [(-3.0, 2.0, 1.0), (-2.235, 1.848, 1.0), (-1.5...   \n",
       "2    0    1.0  [(3.0, 1.5, 1.0), (3.574, 1.386, 1.0), (4.061,...   \n",
       "3    0    1.0  [(3.0, 1.0, 1.0), (3.383, 0.924, 1.0), (3.707,...   \n",
       "4    1    1.0  [(-3.0, 1.5, 1.0), (-2.617, 1.424, 1.0), (-2.2...   \n",
       "\n",
       "                                             Polygon       Area  \n",
       "0  POLYGON Z ((5 2.5 1, 5 -2.5 1, -5 -2.5 1, -5 2...  50.000000  \n",
       "1  POLYGON Z ((-3 2 1, -2.235 1.848 1, -1.586 1.4...  12.245448  \n",
       "2  POLYGON Z ((3 1.5 1, 3.574 1.386 1, 4.061 1.06...   6.890128  \n",
       "3  POLYGON Z ((3 1 1, 3.383 0.924 1, 3.707 0.707 ...   3.061948  \n",
       "4  POLYGON Z ((-3 1.5 1, -2.617 1.424 1, -2.293 1...   3.061948  "
      ]
     },
     "execution_count": 6,
     "metadata": {},
     "output_type": "execute_result"
    }
   ],
   "source": [
    "box10x5 = box_points(10,5)\n",
    "circle4_left = circle_points(2, offset_x=-3)\n",
    "circle3_right = circle_points(1.5, offset_x=3)\n",
    "circle2_left = circle_points(1, offset_x=-3, offset_y=0.5)\n",
    "circle2_right = circle_points(1, offset_x=3)\n",
    "slice_data = [\n",
    "    ContourPoints(box10x5, roi=0, slice_index=1.0),\n",
    "    ContourPoints(circle4_left, roi=0, slice_index=1.0),\n",
    "    ContourPoints(circle3_right, roi=0, slice_index=1.0),\n",
    "    ContourPoints(circle2_right, roi=0, slice_index=1.0),\n",
    "    ContourPoints(circle2_left, roi=1, slice_index=1.0)\n",
    "    ]\n",
    "contour_table, slice_sequence = build_contour_table(slice_data)\n",
    "contour_table"
   ]
  },
  {
   "cell_type": "code",
   "execution_count": 7,
   "metadata": {},
   "outputs": [],
   "source": [
    "contour_graph_a, slice_sequence = build_contour_graph(contour_table,\n",
    "                                                    slice_sequence,\n",
    "                                                    roi=0)\n"
   ]
  },
  {
   "cell_type": "code",
   "execution_count": 8,
   "metadata": {},
   "outputs": [
    {
     "data": {
      "application/vnd.microsoft.datawrangler.viewer.v0+json": {
       "columns": [
        {
         "name": "index",
         "rawType": "int64",
         "type": "integer"
        },
        {
         "name": "ROI",
         "rawType": "int64",
         "type": "integer"
        },
        {
         "name": "SliceIndex",
         "rawType": "float64",
         "type": "float"
        },
        {
         "name": "HoleType",
         "rawType": "category",
         "type": "unknown"
        },
        {
         "name": "Interpolated",
         "rawType": "bool",
         "type": "boolean"
        },
        {
         "name": "Boundary",
         "rawType": "bool",
         "type": "boolean"
        },
        {
         "name": "ContourIndex",
         "rawType": "int64",
         "type": "integer"
        },
        {
         "name": "RegionIndex",
         "rawType": "object",
         "type": "string"
        },
        {
         "name": "Label",
         "rawType": "object",
         "type": "unknown"
        }
       ],
       "ref": "1c367351-7b80-4553-b9c7-a68e2466d4b3",
       "rows": [
        [
         "0",
         "0",
         "1.0",
         "None",
         "False",
         "False",
         "0",
         "0A",
         "(0, 1.0, 0)"
        ],
        [
         "1",
         "0",
         "1.0",
         "Unknown",
         "False",
         "False",
         "1",
         "0B",
         "(0, 1.0, 1)"
        ],
        [
         "2",
         "0",
         "1.0",
         "Unknown",
         "False",
         "False",
         "2",
         "0C",
         "(0, 1.0, 2)"
        ],
        [
         "3",
         "0",
         "1.0",
         "None",
         "False",
         "False",
         "3",
         "0D",
         "(0, 1.0, 3)"
        ]
       ],
       "shape": {
        "columns": 8,
        "rows": 4
       }
      },
      "text/html": [
       "<div>\n",
       "<style scoped>\n",
       "    .dataframe tbody tr th:only-of-type {\n",
       "        vertical-align: middle;\n",
       "    }\n",
       "\n",
       "    .dataframe tbody tr th {\n",
       "        vertical-align: top;\n",
       "    }\n",
       "\n",
       "    .dataframe thead th {\n",
       "        text-align: right;\n",
       "    }\n",
       "</style>\n",
       "<table border=\"1\" class=\"dataframe\">\n",
       "  <thead>\n",
       "    <tr style=\"text-align: right;\">\n",
       "      <th></th>\n",
       "      <th>ROI</th>\n",
       "      <th>SliceIndex</th>\n",
       "      <th>HoleType</th>\n",
       "      <th>Interpolated</th>\n",
       "      <th>Boundary</th>\n",
       "      <th>ContourIndex</th>\n",
       "      <th>RegionIndex</th>\n",
       "      <th>Label</th>\n",
       "    </tr>\n",
       "  </thead>\n",
       "  <tbody>\n",
       "    <tr>\n",
       "      <th>0</th>\n",
       "      <td>0</td>\n",
       "      <td>1.0</td>\n",
       "      <td>None</td>\n",
       "      <td>False</td>\n",
       "      <td>False</td>\n",
       "      <td>0</td>\n",
       "      <td>0A</td>\n",
       "      <td>(0, 1.0, 0)</td>\n",
       "    </tr>\n",
       "    <tr>\n",
       "      <th>1</th>\n",
       "      <td>0</td>\n",
       "      <td>1.0</td>\n",
       "      <td>Unknown</td>\n",
       "      <td>False</td>\n",
       "      <td>False</td>\n",
       "      <td>1</td>\n",
       "      <td>0B</td>\n",
       "      <td>(0, 1.0, 1)</td>\n",
       "    </tr>\n",
       "    <tr>\n",
       "      <th>2</th>\n",
       "      <td>0</td>\n",
       "      <td>1.0</td>\n",
       "      <td>Unknown</td>\n",
       "      <td>False</td>\n",
       "      <td>False</td>\n",
       "      <td>2</td>\n",
       "      <td>0C</td>\n",
       "      <td>(0, 1.0, 2)</td>\n",
       "    </tr>\n",
       "    <tr>\n",
       "      <th>3</th>\n",
       "      <td>0</td>\n",
       "      <td>1.0</td>\n",
       "      <td>None</td>\n",
       "      <td>False</td>\n",
       "      <td>False</td>\n",
       "      <td>3</td>\n",
       "      <td>0D</td>\n",
       "      <td>(0, 1.0, 3)</td>\n",
       "    </tr>\n",
       "  </tbody>\n",
       "</table>\n",
       "</div>"
      ],
      "text/plain": [
       "   ROI  SliceIndex HoleType  Interpolated  Boundary  ContourIndex RegionIndex  \\\n",
       "0    0         1.0     None         False     False             0          0A   \n",
       "1    0         1.0  Unknown         False     False             1          0B   \n",
       "2    0         1.0  Unknown         False     False             2          0C   \n",
       "3    0         1.0     None         False     False             3          0D   \n",
       "\n",
       "         Label  \n",
       "0  (0, 1.0, 0)  \n",
       "1  (0, 1.0, 1)  \n",
       "2  (0, 1.0, 2)  \n",
       "3  (0, 1.0, 3)  "
      ]
     },
     "execution_count": 8,
     "metadata": {},
     "output_type": "execute_result"
    }
   ],
   "source": [
    "lookup = build_contour_lookup(contour_graph_a)\n",
    "lookup"
   ]
  },
  {
   "cell_type": "code",
   "execution_count": 9,
   "metadata": {},
   "outputs": [
    {
     "data": {
      "image/png": "[encoded data removed]",
      "text/plain": [
       "<Figure size 400x200 with 1 Axes>"
      ]
     },
     "metadata": {},
     "output_type": "display_data"
    }
   ],
   "source": [
    "box10x5 = box_points(10,5)\n",
    "circle4_left = circle_points(2, offset_x=-3)\n",
    "circle3_right = circle_points(1.5, offset_x=3)\n",
    "circle2_left = circle_points(1, offset_x=-3, offset_y=0.5)\n",
    "circle2_right = circle_points(1, offset_x=3)\n",
    "slice_data = [\n",
    "    ContourPoints(box10x5, roi=0, slice_index=1.0),\n",
    "    ContourPoints(circle4_left, roi=0, slice_index=1.0),\n",
    "    ContourPoints(circle3_right, roi=0, slice_index=1.0),\n",
    "    ContourPoints(circle2_right, roi=0, slice_index=1.0),\n",
    "    ContourPoints(circle2_left, roi=1, slice_index=1.0)\n",
    "    ]\n",
    "contour_table, slice_sequence = build_contour_table(slice_data)\n",
    "contour_graph_a, slice_sequence = build_contour_graph(contour_table,\n",
    "                                                    slice_sequence,\n",
    "                                                    roi=0)\n",
    "contour_graph_b, slice_sequence = build_contour_graph(contour_table,\n",
    "                                                    slice_sequence,\n",
    "                                                    roi=1)\n",
    "lookup = build_contour_lookup(contour_graph_a)\n",
    "a = RegionSlice(contour_graph_a, slice_index=1.0)\n",
    "b = RegionSlice(contour_graph_b, slice_index=1.0)\n",
    "ax = plot_ab(a.regions['0A'], b.regions['1A'])\n",
    "plt.show()"
   ]
  },
  {
   "cell_type": "code",
   "execution_count": 10,
   "metadata": {},
   "outputs": [
    {
     "data": {
      "application/vnd.microsoft.datawrangler.viewer.v0+json": {
       "columns": [
        {
         "name": "index",
         "rawType": "int64",
         "type": "integer"
        },
        {
         "name": "SliceIndex",
         "rawType": "float64",
         "type": "float"
        },
        {
         "name": "HoleType",
         "rawType": "category",
         "type": "unknown"
        },
        {
         "name": "Label",
         "rawType": "object",
         "type": "unknown"
        }
       ],
       "ref": "f617e323-e756-4a35-9333-7f46645526d8",
       "rows": [
        [
         "0",
         "1.0",
         "None",
         "(0, 1.0, 4)"
        ],
        [
         "1",
         "1.0",
         "Unknown",
         "(0, 1.0, 5)"
        ],
        [
         "2",
         "1.0",
         "Unknown",
         "(0, 1.0, 6)"
        ],
        [
         "3",
         "1.0",
         "None",
         "(0, 1.0, 7)"
        ]
       ],
       "shape": {
        "columns": 3,
        "rows": 4
       }
      },
      "text/html": [
       "<div>\n",
       "<style scoped>\n",
       "    .dataframe tbody tr th:only-of-type {\n",
       "        vertical-align: middle;\n",
       "    }\n",
       "\n",
       "    .dataframe tbody tr th {\n",
       "        vertical-align: top;\n",
       "    }\n",
       "\n",
       "    .dataframe thead th {\n",
       "        text-align: right;\n",
       "    }\n",
       "</style>\n",
       "<table border=\"1\" class=\"dataframe\">\n",
       "  <thead>\n",
       "    <tr style=\"text-align: right;\">\n",
       "      <th></th>\n",
       "      <th>SliceIndex</th>\n",
       "      <th>HoleType</th>\n",
       "      <th>Label</th>\n",
       "    </tr>\n",
       "  </thead>\n",
       "  <tbody>\n",
       "    <tr>\n",
       "      <th>0</th>\n",
       "      <td>1.0</td>\n",
       "      <td>None</td>\n",
       "      <td>(0, 1.0, 4)</td>\n",
       "    </tr>\n",
       "    <tr>\n",
       "      <th>1</th>\n",
       "      <td>1.0</td>\n",
       "      <td>Unknown</td>\n",
       "      <td>(0, 1.0, 5)</td>\n",
       "    </tr>\n",
       "    <tr>\n",
       "      <th>2</th>\n",
       "      <td>1.0</td>\n",
       "      <td>Unknown</td>\n",
       "      <td>(0, 1.0, 6)</td>\n",
       "    </tr>\n",
       "    <tr>\n",
       "      <th>3</th>\n",
       "      <td>1.0</td>\n",
       "      <td>None</td>\n",
       "      <td>(0, 1.0, 7)</td>\n",
       "    </tr>\n",
       "  </tbody>\n",
       "</table>\n",
       "</div>"
      ],
      "text/plain": [
       "   SliceIndex HoleType        Label\n",
       "0         1.0     None  (0, 1.0, 4)\n",
       "1         1.0  Unknown  (0, 1.0, 5)\n",
       "2         1.0  Unknown  (0, 1.0, 6)\n",
       "3         1.0     None  (0, 1.0, 7)"
      ]
     },
     "execution_count": 10,
     "metadata": {},
     "output_type": "execute_result"
    }
   ],
   "source": [
    "contour_lookup = build_contour_lookup(contour_graph_a)\n",
    "\n",
    "contour_lookup.loc[contour_lookup.ROI==0, ['SliceIndex', 'HoleType', 'Label']]"
   ]
  },
  {
   "cell_type": "code",
   "execution_count": 11,
   "metadata": {},
   "outputs": [
    {
     "data": {
      "image/svg+xml": [
       "<svg xmlns=\"http://www.w3.org/2000/svg\" xmlns:xlink=\"http://www.w3.org/1999/xlink\" width=\"100.0\" height=\"100.0\" viewBox=\"-5.4 -2.9 10.8 5.8\" preserveAspectRatio=\"xMinYMin meet\"><g transform=\"matrix(1,0,0,-1,0,0.0)\"><path fill-rule=\"evenodd\" fill=\"#66cc99\" stroke=\"#555555\" stroke-width=\"0.21600000000000003\" opacity=\"0.6\" d=\"M -5.0,0.0 L -5.0,2.5 L 5.0,2.5 L 5.0,-2.5 L -5.0,-2.5 L -5.0,0.0 z M -4.848,-0.765 L -4.414,-1.414 L -3.765,-1.848 L -3.0,-2.0 L -2.235,-1.848 L -1.586,-1.414 L -1.152,-0.765 L -1.0,0.0 L -1.152,0.765 L -1.586,1.414 L -2.235,1.848 L -3.0,2.0 L -3.765,1.848 L -4.414,1.414 L -4.848,0.765 L -5.0,0.0 L -4.848,-0.765 z M 1.939,1.061 L 1.614,0.574 L 1.5,0.0 L 1.614,-0.574 L 1.939,-1.061 L 2.426,-1.386 L 3.0,-1.5 L 3.574,-1.386 L 4.061,-1.061 L 4.386,-0.574 L 4.5,0.0 L 4.386,0.574 L 4.061,1.061 L 3.574,1.386 L 3.0,1.5 L 2.426,1.386 L 1.939,1.061 z\" /></g></svg>"
      ],
      "text/plain": [
       "<POLYGON Z ((-5 0 1, -5 2.5 1, 5 2.5 1, 5 -2.5 1, -5 -2.5 1, -5 0 1), (-4.84...>"
      ]
     },
     "execution_count": 11,
     "metadata": {},
     "output_type": "execute_result"
    }
   ],
   "source": [
    "selected_label = contour_lookup.Label.iloc[0]\n",
    "this_contour = contour_graph_a.nodes(data=True)[selected_label]['contour']\n",
    "this_contour.polygon_with_holes"
   ]
  },
  {
   "cell_type": "code",
   "execution_count": 12,
   "metadata": {},
   "outputs": [
    {
     "data": {
      "text/plain": [
       "{'0A': <MULTIPOLYGON Z (((-5 -2.5 1, -5 0 1, -5 2.5 1, 5 2.5 1, 5 -2.5 1, -5 -2.5 1...>}"
      ]
     },
     "execution_count": 12,
     "metadata": {},
     "output_type": "execute_result"
    }
   ],
   "source": [
    "a.regions"
   ]
  },
  {
   "cell_type": "code",
   "execution_count": 13,
   "metadata": {},
   "outputs": [
    {
     "data": {
      "image/svg+xml": [
       "<svg xmlns=\"http://www.w3.org/2000/svg\" xmlns:xlink=\"http://www.w3.org/1999/xlink\" width=\"100.0\" height=\"100.0\" viewBox=\"-5.4 -2.9 10.8 5.8\" preserveAspectRatio=\"xMinYMin meet\"><g transform=\"matrix(1,0,0,-1,0,0.0)\"><g><path fill-rule=\"evenodd\" fill=\"#66cc99\" stroke=\"#555555\" stroke-width=\"0.21600000000000003\" opacity=\"0.6\" d=\"M -5.0,-2.5 L -5.0,0.0 L -5.0,2.5 L 5.0,2.5 L 5.0,-2.5 L -5.0,-2.5 z M -4.848,-0.765 L -4.414,-1.414 L -3.765,-1.848 L -3.0,-2.0 L -2.235,-1.848 L -1.586,-1.414 L -1.152,-0.765 L -1.0,0.0 L -1.152,0.765 L -1.586,1.414 L -2.235,1.848 L -3.0,2.0 L -3.765,1.848 L -4.414,1.414 L -4.848,0.765 L -5.0,0.0 L -4.848,-0.765 z\" /></g></g></svg>"
      ],
      "text/plain": [
       "<MULTIPOLYGON Z (((-5 -2.5 1, -5 0 1, -5 2.5 1, 5 2.5 1, 5 -2.5 1, -5 -2.5 1...>"
      ]
     },
     "execution_count": 13,
     "metadata": {},
     "output_type": "execute_result"
    }
   ],
   "source": [
    "[r for r in a.regions.values()][0]"
   ]
  },
  {
   "cell_type": "code",
   "execution_count": 14,
   "metadata": {},
   "outputs": [
    {
     "data": {
      "text/plain": [
       "[<contours.Contour at 0x217d6946890>]"
      ]
     },
     "execution_count": 14,
     "metadata": {},
     "output_type": "execute_result"
    }
   ],
   "source": [
    "c_list = [r for r in a.embedded_regions.values()][0]\n",
    "c_list\n"
   ]
  },
  {
   "cell_type": "code",
   "execution_count": 15,
   "metadata": {},
   "outputs": [
    {
     "data": {
      "text/plain": [
       "[<POLYGON Z ((-3 2 1, -2.235 1.848 1, -1.586 1.414 1, -1.152 0.765 1, -1 0 1,...>]"
      ]
     },
     "execution_count": 15,
     "metadata": {},
     "output_type": "execute_result"
    }
   ],
   "source": [
    "poly_list = [c.polygon for c in c_list]\n",
    "poly_list"
   ]
  },
  {
   "cell_type": "code",
   "execution_count": 16,
   "metadata": {},
   "outputs": [
    {
     "data": {
      "image/svg+xml": [
       "<svg xmlns=\"http://www.w3.org/2000/svg\" xmlns:xlink=\"http://www.w3.org/1999/xlink\" width=\"100.0\" height=\"100.0\" viewBox=\"-5.16 -2.16 4.32 4.32\" preserveAspectRatio=\"xMinYMin meet\"><g transform=\"matrix(1,0,0,-1,0,0.0)\"><path fill-rule=\"evenodd\" fill=\"#66cc99\" stroke=\"#555555\" stroke-width=\"0.0864\" opacity=\"0.6\" d=\"M -3.0,2.0 L -2.235,1.848 L -1.586,1.414 L -1.152,0.765 L -1.0,0.0 L -1.152,-0.765 L -1.586,-1.414 L -2.235,-1.848 L -3.0,-2.0 L -3.765,-1.848 L -4.414,-1.414 L -4.848,-0.765 L -5.0,0.0 L -4.848,0.765 L -4.414,1.414 L -3.765,1.848 L -3.0,2.0 z\" /></g></svg>"
      ],
      "text/plain": [
       "<POLYGON Z ((-3 2 1, -2.235 1.848 1, -1.586 1.414 1, -1.152 0.765 1, -1 0 1,...>"
      ]
     },
     "execution_count": 16,
     "metadata": {},
     "output_type": "execute_result"
    }
   ],
   "source": [
    "\n",
    "shapely.union_all(poly_list)"
   ]
  },
  {
   "cell_type": "code",
   "execution_count": 17,
   "metadata": {},
   "outputs": [
    {
     "name": "stdout",
     "output_type": "stream",
     "text": [
      "|001|\t|111|\t|111|\n",
      "|001|\t|001|\t|001|\n",
      "|111|\t|001|\t|001|\n",
      "\n",
      "Relationship: Surrounds\n"
     ]
    }
   ],
   "source": [
    "\n",
    "r = DE27IM(a,b)\n",
    "\n",
    "print(str(r))\n",
    "print(r.identify_relation())\n"
   ]
  },
  {
   "cell_type": "code",
   "execution_count": 18,
   "metadata": {},
   "outputs": [],
   "source": [
    "box10x5 = box_points(10,5)\n",
    "slice_data = [ContourPoints(box10x5, roi=0, slice_index=1.0)]\n",
    "contour_table, slice_sequence = build_contour_table(slice_data)\n",
    "\n",
    "graph_a, slice_sequence = build_contour_graph(contour_table,\n",
    "                                                    slice_sequence,\n",
    "                                                    roi=1)\n"
   ]
  },
  {
   "cell_type": "code",
   "execution_count": 19,
   "metadata": {},
   "outputs": [
    {
     "data": {
      "image/png": "[encoded data removed]",
      "text/plain": [
       "<Figure size 400x200 with 1 Axes>"
      ]
     },
     "metadata": {},
     "output_type": "display_data"
    },
    {
     "name": "stdout",
     "output_type": "stream",
     "text": [
      "|001|\t|111|\t|111|\n",
      "|001|\t|001|\t|001|\n",
      "|111|\t|001|\t|001|\n",
      "\n",
      "Relationship: Surrounds\n"
     ]
    }
   ],
   "source": [
    "def surrounds_example3():\n",
    "    box10x5 = box_points(10,5)\n",
    "    circle4_left = circle_points(2, offset_x=-3)\n",
    "    circle3_right = circle_points(1.5, offset_x=3)\n",
    "    circle2_left = circle_points(1, offset_x=-3, offset_y=0.5)\n",
    "    circle2_right = circle_points(1, offset_x=3)\n",
    "    slice_data = [\n",
    "        ContourPoints(box10x5, roi=0, slice_index=1.0),\n",
    "        ContourPoints(circle4_left, roi=0, slice_index=1.0),\n",
    "        ContourPoints(circle3_right, roi=0, slice_index=1.0),\n",
    "        ContourPoints(circle2_right, roi=0, slice_index=1.0),\n",
    "        ContourPoints(circle2_left, roi=1, slice_index=1.0),\n",
    "        ]\n",
    "    contour_table, slice_sequence = build_contour_table(slice_data)\n",
    "    contour_graph_a, slice_sequence = build_contour_graph(contour_table,\n",
    "                                                        slice_sequence,\n",
    "                                                        roi=0)\n",
    "    contour_graph_b, slice_sequence = build_contour_graph(contour_table,\n",
    "                                                        slice_sequence,\n",
    "                                                        roi=1)\n",
    "    region_slice_a = RegionSlice(contour_graph_a, slice_index=1.0)\n",
    "    region_slice_b = RegionSlice(contour_graph_b, slice_index=1.0)\n",
    "    return region_slice_a, region_slice_b\n",
    "\n",
    "\n",
    "a, b = surrounds_example3()\n",
    "ax = plot_ab(a.regions['0A'], b.regions['1A'])\n",
    "plt.show()\n",
    "\n",
    "r = DE27IM(a,b)\n",
    "\n",
    "print(str(r))\n",
    "print(r.identify_relation())\n"
   ]
  },
  {
   "cell_type": "code",
   "execution_count": 20,
   "metadata": {},
   "outputs": [
    {
     "data": {
      "application/vnd.microsoft.datawrangler.viewer.v0+json": {
       "columns": [
        {
         "name": "index",
         "rawType": "int64",
         "type": "integer"
        },
        {
         "name": "ROI",
         "rawType": "int64",
         "type": "integer"
        },
        {
         "name": "SliceIndex",
         "rawType": "float64",
         "type": "float"
        },
        {
         "name": "HoleType",
         "rawType": "category",
         "type": "unknown"
        },
        {
         "name": "Interpolated",
         "rawType": "bool",
         "type": "boolean"
        },
        {
         "name": "Boundary",
         "rawType": "bool",
         "type": "boolean"
        },
        {
         "name": "ContourIndex",
         "rawType": "int64",
         "type": "integer"
        },
        {
         "name": "RegionIndex",
         "rawType": "object",
         "type": "string"
        },
        {
         "name": "Label",
         "rawType": "object",
         "type": "unknown"
        }
       ],
       "ref": "df525f9b-2a4c-4f20-9b1a-f44c53e0f676",
       "rows": [
        [
         "0",
         "0",
         "1.0",
         "None",
         "False",
         "False",
         "4",
         "0A",
         "(0, 1.0, 4)"
        ],
        [
         "1",
         "0",
         "1.0",
         "Unknown",
         "False",
         "False",
         "5",
         "0B",
         "(0, 1.0, 5)"
        ],
        [
         "2",
         "0",
         "1.0",
         "Unknown",
         "False",
         "False",
         "6",
         "0C",
         "(0, 1.0, 6)"
        ],
        [
         "3",
         "0",
         "1.0",
         "None",
         "False",
         "False",
         "7",
         "0D",
         "(0, 1.0, 7)"
        ]
       ],
       "shape": {
        "columns": 8,
        "rows": 4
       }
      },
      "text/html": [
       "<div>\n",
       "<style scoped>\n",
       "    .dataframe tbody tr th:only-of-type {\n",
       "        vertical-align: middle;\n",
       "    }\n",
       "\n",
       "    .dataframe tbody tr th {\n",
       "        vertical-align: top;\n",
       "    }\n",
       "\n",
       "    .dataframe thead th {\n",
       "        text-align: right;\n",
       "    }\n",
       "</style>\n",
       "<table border=\"1\" class=\"dataframe\">\n",
       "  <thead>\n",
       "    <tr style=\"text-align: right;\">\n",
       "      <th></th>\n",
       "      <th>ROI</th>\n",
       "      <th>SliceIndex</th>\n",
       "      <th>HoleType</th>\n",
       "      <th>Interpolated</th>\n",
       "      <th>Boundary</th>\n",
       "      <th>ContourIndex</th>\n",
       "      <th>RegionIndex</th>\n",
       "      <th>Label</th>\n",
       "    </tr>\n",
       "  </thead>\n",
       "  <tbody>\n",
       "    <tr>\n",
       "      <th>0</th>\n",
       "      <td>0</td>\n",
       "      <td>1.0</td>\n",
       "      <td>None</td>\n",
       "      <td>False</td>\n",
       "      <td>False</td>\n",
       "      <td>4</td>\n",
       "      <td>0A</td>\n",
       "      <td>(0, 1.0, 4)</td>\n",
       "    </tr>\n",
       "    <tr>\n",
       "      <th>1</th>\n",
       "      <td>0</td>\n",
       "      <td>1.0</td>\n",
       "      <td>Unknown</td>\n",
       "      <td>False</td>\n",
       "      <td>False</td>\n",
       "      <td>5</td>\n",
       "      <td>0B</td>\n",
       "      <td>(0, 1.0, 5)</td>\n",
       "    </tr>\n",
       "    <tr>\n",
       "      <th>2</th>\n",
       "      <td>0</td>\n",
       "      <td>1.0</td>\n",
       "      <td>Unknown</td>\n",
       "      <td>False</td>\n",
       "      <td>False</td>\n",
       "      <td>6</td>\n",
       "      <td>0C</td>\n",
       "      <td>(0, 1.0, 6)</td>\n",
       "    </tr>\n",
       "    <tr>\n",
       "      <th>3</th>\n",
       "      <td>0</td>\n",
       "      <td>1.0</td>\n",
       "      <td>None</td>\n",
       "      <td>False</td>\n",
       "      <td>False</td>\n",
       "      <td>7</td>\n",
       "      <td>0D</td>\n",
       "      <td>(0, 1.0, 7)</td>\n",
       "    </tr>\n",
       "  </tbody>\n",
       "</table>\n",
       "</div>"
      ],
      "text/plain": [
       "   ROI  SliceIndex HoleType  Interpolated  Boundary  ContourIndex RegionIndex  \\\n",
       "0    0         1.0     None         False     False             4          0A   \n",
       "1    0         1.0  Unknown         False     False             5          0B   \n",
       "2    0         1.0  Unknown         False     False             6          0C   \n",
       "3    0         1.0     None         False     False             7          0D   \n",
       "\n",
       "         Label  \n",
       "0  (0, 1.0, 4)  \n",
       "1  (0, 1.0, 5)  \n",
       "2  (0, 1.0, 6)  \n",
       "3  (0, 1.0, 7)  "
      ]
     },
     "execution_count": 20,
     "metadata": {},
     "output_type": "execute_result"
    }
   ],
   "source": [
    "lookup = build_contour_lookup(contour_graph_a)\n",
    "lookup"
   ]
  },
  {
   "cell_type": "code",
   "execution_count": 21,
   "metadata": {},
   "outputs": [],
   "source": [
    "box10x5 = box_points(10,5)\n",
    "circle4_left = circle_points(2, offset_x=-3)\n",
    "circle3_right = circle_points(1.5, offset_x=3)\n",
    "circle2_left = circle_points(1, offset_x=-3, offset_y=0.5)\n",
    "circle2_right = circle_points(1, offset_x=3)\n",
    "slice_data = [\n",
    "    ContourPoints(box10x5, roi=0, slice_index=0.0),\n",
    "    ContourPoints(box10x5, roi=0, slice_index=1.0),\n",
    "    ContourPoints(box10x5, roi=0, slice_index=2.0),\n",
    "\n",
    "    ContourPoints(circle4_left, roi=0, slice_index=0.0),\n",
    "    ContourPoints(circle4_left, roi=0, slice_index=1.0),\n",
    "    ContourPoints(circle4_left, roi=0, slice_index=2.0),\n",
    "\n",
    "    ContourPoints(circle3_right, roi=0, slice_index=0.0),\n",
    "    ContourPoints(circle3_right, roi=0, slice_index=1.0),\n",
    "    ContourPoints(circle3_right, roi=0, slice_index=2.0),\n",
    "\n",
    "    ContourPoints(circle2_right, roi=0, slice_index=0.0),\n",
    "    ContourPoints(circle2_right, roi=0, slice_index=1.0),\n",
    "    ContourPoints(circle2_right, roi=0, slice_index=2.0),\n",
    "\n",
    "    ContourPoints(circle2_left, roi=1, slice_index=0.0),\n",
    "    ContourPoints(circle2_left, roi=1, slice_index=1.0),\n",
    "    ContourPoints(circle2_left, roi=1, slice_index=2.0)\n",
    "\n",
    "]\n",
    "\n",
    "contour_table, slice_sequence = build_contour_table(slice_data)\n",
    "\n",
    "contour_graph = nx.Graph()\n",
    "roi=0\n",
    "contour_by_slice = build_contours(contour_table, roi)\n",
    "for contour_data in contour_by_slice.values():\n",
    "        for contour in contour_data:\n",
    "            contour_label = contour.index\n",
    "            contour_graph.add_node(contour_label, contour=contour)\n",
    "contour_graph = add_graph_edges(contour_graph, slice_sequence)"
   ]
  },
  {
   "cell_type": "code",
   "execution_count": 22,
   "metadata": {},
   "outputs": [
    {
     "data": {
      "image/png": "[encoded data removed]",
      "text/plain": [
       "<Figure size 640x480 with 1 Axes>"
      ]
     },
     "metadata": {},
     "output_type": "display_data"
    }
   ],
   "source": [
    "nx.draw(contour_graph, with_labels=True,\n",
    "           pos=nx.arf_layout(contour_graph))\n",
    "plt.show()"
   ]
  },
  {
   "cell_type": "code",
   "execution_count": 23,
   "metadata": {},
   "outputs": [
    {
     "data": {
      "application/vnd.microsoft.datawrangler.viewer.v0+json": {
       "columns": [
        {
         "name": "index",
         "rawType": "int64",
         "type": "integer"
        },
        {
         "name": "SliceIndex",
         "rawType": "float64",
         "type": "float"
        },
        {
         "name": "HoleType",
         "rawType": "category",
         "type": "unknown"
        },
        {
         "name": "Label",
         "rawType": "object",
         "type": "unknown"
        }
       ],
       "ref": "04a7a57c-a682-4618-97a4-43bfa2427dd5",
       "rows": [
        [
         "0",
         "0.0",
         "None",
         "(0, 0.0, 14)"
        ],
        [
         "1",
         "0.0",
         "Unknown",
         "(0, 0.0, 15)"
        ],
        [
         "2",
         "0.0",
         "Unknown",
         "(0, 0.0, 16)"
        ],
        [
         "3",
         "0.0",
         "None",
         "(0, 0.0, 17)"
        ],
        [
         "4",
         "1.0",
         "None",
         "(0, 1.0, 18)"
        ],
        [
         "5",
         "1.0",
         "Unknown",
         "(0, 1.0, 19)"
        ],
        [
         "6",
         "1.0",
         "Unknown",
         "(0, 1.0, 20)"
        ],
        [
         "7",
         "1.0",
         "None",
         "(0, 1.0, 21)"
        ],
        [
         "8",
         "2.0",
         "None",
         "(0, 2.0, 22)"
        ],
        [
         "9",
         "2.0",
         "Unknown",
         "(0, 2.0, 23)"
        ],
        [
         "10",
         "2.0",
         "Unknown",
         "(0, 2.0, 24)"
        ],
        [
         "11",
         "2.0",
         "None",
         "(0, 2.0, 25)"
        ]
       ],
       "shape": {
        "columns": 3,
        "rows": 12
       }
      },
      "text/html": [
       "<div>\n",
       "<style scoped>\n",
       "    .dataframe tbody tr th:only-of-type {\n",
       "        vertical-align: middle;\n",
       "    }\n",
       "\n",
       "    .dataframe tbody tr th {\n",
       "        vertical-align: top;\n",
       "    }\n",
       "\n",
       "    .dataframe thead th {\n",
       "        text-align: right;\n",
       "    }\n",
       "</style>\n",
       "<table border=\"1\" class=\"dataframe\">\n",
       "  <thead>\n",
       "    <tr style=\"text-align: right;\">\n",
       "      <th></th>\n",
       "      <th>SliceIndex</th>\n",
       "      <th>HoleType</th>\n",
       "      <th>Label</th>\n",
       "    </tr>\n",
       "  </thead>\n",
       "  <tbody>\n",
       "    <tr>\n",
       "      <th>0</th>\n",
       "      <td>0.0</td>\n",
       "      <td>None</td>\n",
       "      <td>(0, 0.0, 14)</td>\n",
       "    </tr>\n",
       "    <tr>\n",
       "      <th>1</th>\n",
       "      <td>0.0</td>\n",
       "      <td>Unknown</td>\n",
       "      <td>(0, 0.0, 15)</td>\n",
       "    </tr>\n",
       "    <tr>\n",
       "      <th>2</th>\n",
       "      <td>0.0</td>\n",
       "      <td>Unknown</td>\n",
       "      <td>(0, 0.0, 16)</td>\n",
       "    </tr>\n",
       "    <tr>\n",
       "      <th>3</th>\n",
       "      <td>0.0</td>\n",
       "      <td>None</td>\n",
       "      <td>(0, 0.0, 17)</td>\n",
       "    </tr>\n",
       "    <tr>\n",
       "      <th>4</th>\n",
       "      <td>1.0</td>\n",
       "      <td>None</td>\n",
       "      <td>(0, 1.0, 18)</td>\n",
       "    </tr>\n",
       "    <tr>\n",
       "      <th>5</th>\n",
       "      <td>1.0</td>\n",
       "      <td>Unknown</td>\n",
       "      <td>(0, 1.0, 19)</td>\n",
       "    </tr>\n",
       "    <tr>\n",
       "      <th>6</th>\n",
       "      <td>1.0</td>\n",
       "      <td>Unknown</td>\n",
       "      <td>(0, 1.0, 20)</td>\n",
       "    </tr>\n",
       "    <tr>\n",
       "      <th>7</th>\n",
       "      <td>1.0</td>\n",
       "      <td>None</td>\n",
       "      <td>(0, 1.0, 21)</td>\n",
       "    </tr>\n",
       "    <tr>\n",
       "      <th>8</th>\n",
       "      <td>2.0</td>\n",
       "      <td>None</td>\n",
       "      <td>(0, 2.0, 22)</td>\n",
       "    </tr>\n",
       "    <tr>\n",
       "      <th>9</th>\n",
       "      <td>2.0</td>\n",
       "      <td>Unknown</td>\n",
       "      <td>(0, 2.0, 23)</td>\n",
       "    </tr>\n",
       "    <tr>\n",
       "      <th>10</th>\n",
       "      <td>2.0</td>\n",
       "      <td>Unknown</td>\n",
       "      <td>(0, 2.0, 24)</td>\n",
       "    </tr>\n",
       "    <tr>\n",
       "      <th>11</th>\n",
       "      <td>2.0</td>\n",
       "      <td>None</td>\n",
       "      <td>(0, 2.0, 25)</td>\n",
       "    </tr>\n",
       "  </tbody>\n",
       "</table>\n",
       "</div>"
      ],
      "text/plain": [
       "    SliceIndex HoleType         Label\n",
       "0          0.0     None  (0, 0.0, 14)\n",
       "1          0.0  Unknown  (0, 0.0, 15)\n",
       "2          0.0  Unknown  (0, 0.0, 16)\n",
       "3          0.0     None  (0, 0.0, 17)\n",
       "4          1.0     None  (0, 1.0, 18)\n",
       "5          1.0  Unknown  (0, 1.0, 19)\n",
       "6          1.0  Unknown  (0, 1.0, 20)\n",
       "7          1.0     None  (0, 1.0, 21)\n",
       "8          2.0     None  (0, 2.0, 22)\n",
       "9          2.0  Unknown  (0, 2.0, 23)\n",
       "10         2.0  Unknown  (0, 2.0, 24)\n",
       "11         2.0     None  (0, 2.0, 25)"
      ]
     },
     "execution_count": 23,
     "metadata": {},
     "output_type": "execute_result"
    }
   ],
   "source": [
    "contour_lookup = build_contour_lookup(contour_graph)\n",
    "\n",
    "contour_lookup.loc[contour_lookup.ROI==0, ['SliceIndex', 'HoleType', 'Label']]"
   ]
  },
  {
   "cell_type": "markdown",
   "metadata": {},
   "source": [
    "# ERROR Using degree = 1 to identify boundaries will miss cases where there is a bifurcation in the contour."
   ]
  },
  {
   "cell_type": "code",
   "execution_count": 24,
   "metadata": {},
   "outputs": [
    {
     "data": {
      "text/plain": [
       "[((0, 0.0, 14), 1),\n",
       " ((0, 0.0, 15), 1),\n",
       " ((0, 0.0, 16), 1),\n",
       " ((0, 0.0, 17), 1),\n",
       " ((0, 1.0, 18), 2),\n",
       " ((0, 1.0, 19), 2),\n",
       " ((0, 1.0, 20), 2),\n",
       " ((0, 1.0, 21), 2),\n",
       " ((0, 2.0, 22), 1),\n",
       " ((0, 2.0, 23), 1),\n",
       " ((0, 2.0, 24), 1),\n",
       " ((0, 2.0, 25), 1)]"
      ]
     },
     "execution_count": 24,
     "metadata": {},
     "output_type": "execute_result"
    }
   ],
   "source": [
    "[(node, degree) for node, degree in contour_graph.degree()]"
   ]
  },
  {
   "cell_type": "code",
   "execution_count": 25,
   "metadata": {},
   "outputs": [
    {
     "data": {
      "text/plain": [
       "{(0, 0.0, 14),\n",
       " (0, 0.0, 15),\n",
       " (0, 0.0, 16),\n",
       " (0, 0.0, 17),\n",
       " (0, 2.0, 22),\n",
       " (0, 2.0, 23),\n",
       " (0, 2.0, 24),\n",
       " (0, 2.0, 25)}"
      ]
     },
     "execution_count": 25,
     "metadata": {},
     "output_type": "execute_result"
    }
   ],
   "source": [
    "boundary_nodes = {node for node, degree in contour_graph.degree()\n",
    "                    if degree == 1}\n",
    "boundary_nodes"
   ]
  },
  {
   "cell_type": "markdown",
   "metadata": {},
   "source": [
    "- Crashing here because a boundary contour was already created for a contour and then it tries to create a second boundary contour for the same contour."
   ]
  },
  {
   "cell_type": "code",
   "execution_count": null,
   "metadata": {},
   "outputs": [],
   "source": [
    "contour_graph_a, slice_sequence = build_contour_graph(contour_table,\n",
    "                                                    slice_sequence,\n",
    "                                                    roi=0)\n"
   ]
  },
  {
   "cell_type": "code",
   "execution_count": 27,
   "metadata": {},
   "outputs": [],
   "source": [
    "contour_graph_b, slice_sequence = build_contour_graph(contour_table,\n",
    "                                                    slice_sequence,\n",
    "                                                    roi=1)\n",
    "a = RegionSlice(contour_graph_a, slice_index=1.0)\n",
    "b = RegionSlice(contour_graph_b, slice_index=1.0)\n"
   ]
  },
  {
   "cell_type": "code",
   "execution_count": 29,
   "metadata": {},
   "outputs": [
    {
     "data": {
      "text/plain": [
       "{'0A': <MULTIPOLYGON Z (((-5 2.5 1, 5 2.5 1, 5 -2.5 1, -5 -2.5 1, -5 2.5 1), (1.614...>}"
      ]
     },
     "execution_count": 29,
     "metadata": {},
     "output_type": "execute_result"
    }
   ],
   "source": [
    "a.regions"
   ]
  },
  {
   "cell_type": "code",
   "execution_count": 28,
   "metadata": {},
   "outputs": [
    {
     "data": {
      "image/png": "[encoded data removed]",
      "text/plain": [
       "<Figure size 400x200 with 1 Axes>"
      ]
     },
     "metadata": {},
     "output_type": "display_data"
    }
   ],
   "source": [
    "ax = plot_ab(a.regions['0A'], b.regions['1A'])\n"
   ]
  },
  {
   "cell_type": "code",
   "execution_count": null,
   "metadata": {},
   "outputs": [
    {
     "ename": "InvalidSlice",
     "evalue": "Without interpolated_slice, starting_contour must reference a boundary slice.",
     "output_type": "error",
     "traceback": [
      "\u001b[1;31m---------------------------------------------------------------------------\u001b[0m",
      "\u001b[1;31mInvalidSlice\u001b[0m                              Traceback (most recent call last)",
      "Cell \u001b[1;32mIn[16], line 2\u001b[0m\n\u001b[1;32m----> 2\u001b[0m a, b \u001b[38;5;241m=\u001b[39m surrounds_example3()\n",
      "Cell \u001b[1;32mIn[13], line 28\u001b[0m, in \u001b[0;36msurrounds_example3\u001b[1;34m()\u001b[0m\n\u001b[0;32m      7\u001b[0m slice_data \u001b[38;5;241m=\u001b[39m [\n\u001b[0;32m      8\u001b[0m     ContourPoints(box10x5, roi\u001b[38;5;241m=\u001b[39m\u001b[38;5;241m0\u001b[39m, slice_index\u001b[38;5;241m=\u001b[39m\u001b[38;5;241m0.0\u001b[39m),\n\u001b[0;32m      9\u001b[0m     ContourPoints(circle4_left, roi\u001b[38;5;241m=\u001b[39m\u001b[38;5;241m0\u001b[39m, slice_index\u001b[38;5;241m=\u001b[39m\u001b[38;5;241m0.0\u001b[39m),\n\u001b[1;32m   (...)\u001b[0m\n\u001b[0;32m     25\u001b[0m \n\u001b[0;32m     26\u001b[0m ]\n\u001b[0;32m     27\u001b[0m contour_table, slice_sequence \u001b[38;5;241m=\u001b[39m build_contour_table(slice_data)\n\u001b[1;32m---> 28\u001b[0m contour_graph_a, slice_sequence \u001b[38;5;241m=\u001b[39m build_contour_graph(contour_table,\n\u001b[0;32m     29\u001b[0m                                                     slice_sequence,\n\u001b[0;32m     30\u001b[0m                                                     roi\u001b[38;5;241m=\u001b[39m\u001b[38;5;241m0\u001b[39m)\n\u001b[0;32m     31\u001b[0m contour_graph_b, slice_sequence \u001b[38;5;241m=\u001b[39m build_contour_graph(contour_table,\n\u001b[0;32m     32\u001b[0m                                                     slice_sequence,\n\u001b[0;32m     33\u001b[0m                                                     roi\u001b[38;5;241m=\u001b[39m\u001b[38;5;241m1\u001b[39m)\n\u001b[0;32m     34\u001b[0m region_slice_a \u001b[38;5;241m=\u001b[39m RegionSlice(contour_graph_a, slice_index\u001b[38;5;241m=\u001b[39m\u001b[38;5;241m1.0\u001b[39m)\n",
      "File \u001b[1;32mD:\\OneDrive - Queen's University\\Python\\Projects\\StructureRelations\\src\\contour_graph.py:613\u001b[0m, in \u001b[0;36mbuild_contour_graph\u001b[1;34m(contour_table, slice_sequence, roi)\u001b[0m\n\u001b[0;32m    611\u001b[0m contour_graph \u001b[38;5;241m=\u001b[39m add_graph_edges(contour_graph, slice_sequence)\n\u001b[0;32m    612\u001b[0m \u001b[38;5;66;03m# Add the boundary contours to the graph\u001b[39;00m\n\u001b[1;32m--> 613\u001b[0m contour_graph, slice_sequence \u001b[38;5;241m=\u001b[39m add_boundary_contours(contour_graph,\n\u001b[0;32m    614\u001b[0m                                                       slice_sequence)\n\u001b[0;32m    615\u001b[0m \u001b[38;5;66;03m# Identify the distinct regions in the graph\u001b[39;00m\n\u001b[0;32m    616\u001b[0m \u001b[38;5;66;03m# and assign the region index to each contour\u001b[39;00m\n\u001b[0;32m    617\u001b[0m contour_graph \u001b[38;5;241m=\u001b[39m set_enclosed_regions(contour_graph)\n",
      "File \u001b[1;32mD:\\OneDrive - Queen's University\\Python\\Projects\\StructureRelations\\src\\contour_graph.py:388\u001b[0m, in \u001b[0;36madd_boundary_contours\u001b[1;34m(contour_graph, slice_sequence)\u001b[0m\n\u001b[0;32m    379\u001b[0m \u001b[38;5;66;03m# Generate the interpolated contour for the related contour\u001b[39;00m\n\u001b[0;32m    380\u001b[0m related_parameters \u001b[38;5;241m=\u001b[39m {\n\u001b[0;32m    381\u001b[0m     \u001b[38;5;124m'\u001b[39m\u001b[38;5;124mcontour_graph\u001b[39m\u001b[38;5;124m'\u001b[39m: contour_graph,\n\u001b[0;32m    382\u001b[0m     \u001b[38;5;124m'\u001b[39m\u001b[38;5;124mslice_sequence\u001b[39m\u001b[38;5;124m'\u001b[39m: slice_sequence,\n\u001b[1;32m   (...)\u001b[0m\n\u001b[0;32m    386\u001b[0m     \u001b[38;5;124m'\u001b[39m\u001b[38;5;124mis_boundary\u001b[39m\u001b[38;5;124m'\u001b[39m: is_boundary\n\u001b[0;32m    387\u001b[0m }\n\u001b[1;32m--> 388\u001b[0m interpolation \u001b[38;5;241m=\u001b[39m generate_interpolated_contours(\u001b[38;5;241m*\u001b[39m\u001b[38;5;241m*\u001b[39mrelated_parameters)\n\u001b[0;32m    389\u001b[0m \u001b[38;5;66;03m# Unpack the interpolation result\u001b[39;00m\n\u001b[0;32m    390\u001b[0m contour_graph, slice_sequence, related_idx \u001b[38;5;241m=\u001b[39m interpolation\n",
      "File \u001b[1;32mD:\\OneDrive - Queen's University\\Python\\Projects\\StructureRelations\\src\\contour_graph.py:203\u001b[0m, in \u001b[0;36mgenerate_interpolated_contours\u001b[1;34m(contour_graph, slice_sequence, starting_contour, interpolated_slice, **contour_parameters)\u001b[0m\n\u001b[0;32m    168\u001b[0m \u001b[38;5;250m\u001b[39m\u001b[38;5;124;03m'''Generate an interpolated contour for a given starting contour in the\u001b[39;00m\n\u001b[0;32m    169\u001b[0m \u001b[38;5;124;03mcontour graph.\u001b[39;00m\n\u001b[0;32m    170\u001b[0m \n\u001b[1;32m   (...)\u001b[0m\n\u001b[0;32m    200\u001b[0m \n\u001b[0;32m    201\u001b[0m \u001b[38;5;124;03m'''\u001b[39;00m\n\u001b[0;32m    202\u001b[0m \u001b[38;5;66;03m# Generate the interpolated polygon\u001b[39;00m\n\u001b[1;32m--> 203\u001b[0m interpolated_polygon \u001b[38;5;241m=\u001b[39m generate_interpolated_polygon(contour_graph,\n\u001b[0;32m    204\u001b[0m                                                slice_sequence,\n\u001b[0;32m    205\u001b[0m                                                starting_contour,\n\u001b[0;32m    206\u001b[0m                                                interpolated_slice)\n\u001b[0;32m    207\u001b[0m \u001b[38;5;66;03m# Get the interpolated slice index\u001b[39;00m\n\u001b[0;32m    208\u001b[0m interpolated_slice_index \u001b[38;5;241m=\u001b[39m interpolated_polygon\u001b[38;5;241m.\u001b[39mboundary\u001b[38;5;241m.\u001b[39mcoords[\u001b[38;5;241m0\u001b[39m][\u001b[38;5;241m2\u001b[39m]\n",
      "File \u001b[1;32mD:\\OneDrive - Queen's University\\Python\\Projects\\StructureRelations\\src\\contour_graph.py:142\u001b[0m, in \u001b[0;36mgenerate_interpolated_polygon\u001b[1;34m(contour_graph, slice_sequence, starting_contour, interpolated_slice)\u001b[0m\n\u001b[0;32m    134\u001b[0m \u001b[38;5;66;03m# if no interpolated slice is provided, or if the interpolated slice is not\u001b[39;00m\n\u001b[0;32m    135\u001b[0m \u001b[38;5;66;03m# a neighbour of the starting contour (e.g. first or last slice), or the\u001b[39;00m\n\u001b[0;32m    136\u001b[0m \u001b[38;5;66;03m# contour does not have any matched contours on the relevant neighbouring\u001b[39;00m\n\u001b[1;32m   (...)\u001b[0m\n\u001b[0;32m    139\u001b[0m \u001b[38;5;66;03m# that is not matched to the boundary contour.  Generate the interpolated\u001b[39;00m\n\u001b[0;32m    140\u001b[0m \u001b[38;5;66;03m# contour using only the boundary contour.\u001b[39;00m\n\u001b[0;32m    141\u001b[0m \u001b[38;5;28;01mif\u001b[39;00m \u001b[38;5;28mlen\u001b[39m(matched_slices) \u001b[38;5;241m>\u001b[39m \u001b[38;5;241m1\u001b[39m:\n\u001b[1;32m--> 142\u001b[0m     \u001b[38;5;28;01mraise\u001b[39;00m InvalidSlice(\u001b[38;5;124m\"\u001b[39m\u001b[38;5;124mWithout interpolated_slice, starting_contour \u001b[39m\u001b[38;5;124m\"\u001b[39m\n\u001b[0;32m    143\u001b[0m                         \u001b[38;5;124m\"\u001b[39m\u001b[38;5;124mmust reference a boundary slice.\u001b[39m\u001b[38;5;124m\"\u001b[39m)\n\u001b[0;32m    144\u001b[0m \u001b[38;5;66;03m# Determine the slice index that is not matched to the boundary contour.\u001b[39;00m\n\u001b[0;32m    145\u001b[0m \u001b[38;5;66;03m# (This is the slice index that will be used to set the interpolated\u001b[39;00m\n\u001b[0;32m    146\u001b[0m \u001b[38;5;66;03m# slice index.)\u001b[39;00m\n\u001b[0;32m    147\u001b[0m neighbour_slices \u001b[38;5;241m=\u001b[39m \u001b[38;5;28mset\u001b[39m(neighbors\u001b[38;5;241m.\u001b[39mneighbour_list())\n",
      "\u001b[1;31mInvalidSlice\u001b[0m: Without interpolated_slice, starting_contour must reference a boundary slice."
     ]
    }
   ],
   "source": [
    "\n",
    "a, b = surrounds_example3()\n"
   ]
  },
  {
   "cell_type": "code",
   "execution_count": null,
   "metadata": {},
   "outputs": [],
   "source": [
    "def surrounds_example2():\n",
    "    circle6 = shapely.Polygon(circle_points(3))\n",
    "    circle5 = shapely.Polygon(circle_points(2.5))\n",
    "    circle4 = shapely.Polygon(circle_points(2))\n",
    "    circle3 = shapely.Polygon(circle_points(1.5))\n",
    "    circle2 = shapely.Polygon(circle_points(1))\n",
    "\n",
    "    a = StructureSlice([circle6, circle5, circle2])\n",
    "    b = StructureSlice([circle4, circle3])\n",
    "    return a, b"
   ]
  },
  {
   "cell_type": "code",
   "execution_count": null,
   "metadata": {},
   "outputs": [],
   "source": [
    "\n",
    "circle6 = circle_points(3)\n",
    "circle5 = circle_points(2.5)\n",
    "circle4 = circle_points(2)\n",
    "circle3 = circle_points(1.5)\n",
    "circle2 = circle_points(1)\n",
    "slice_data = [\n",
    "    ContourPoints(circle6, roi=0, slice_index=0.0),\n",
    "    ContourPoints(circle6, roi=0, slice_index=1.0),\n",
    "    ContourPoints(circle6, roi=0, slice_index=2.0),\n",
    "    ContourPoints(circle5, roi=0, slice_index=0.0),\n",
    "    ContourPoints(circle5, roi=0, slice_index=1.0),\n",
    "    ContourPoints(circle5, roi=0, slice_index=2.0),\n",
    "    ContourPoints(circle2, roi=0, slice_index=0.0),\n",
    "    ContourPoints(circle2, roi=0, slice_index=1.0),\n",
    "    ContourPoints(circle2, roi=0, slice_index=2.0),\n",
    "    ContourPoints(circle4, roi=1, slice_index=0.0),\n",
    "    ContourPoints(circle4, roi=1, slice_index=1.0),\n",
    "    ContourPoints(circle4, roi=1, slice_index=2.0),\n",
    "    ContourPoints(circle3, roi=1, slice_index=0.0),\n",
    "    ContourPoints(circle3, roi=1, slice_index=1.0),\n",
    "    ContourPoints(circle3, roi=1, slice_index=2.0),\n",
    "]\n",
    "contour_table, slice_sequence = build_contour_table(slice_data)\n",
    "contour_graph_a, slice_sequence = build_contour_graph(contour_table,\n",
    "                                                    slice_sequence,\n",
    "                                                    roi=0)\n",
    "contour_graph_b, slice_sequence = build_contour_graph(contour_table,\n",
    "                                                    slice_sequence,\n",
    "                                                    roi=1)\n",
    "a = RegionSlice(contour_graph_a, slice_index=1.0)\n",
    "b = RegionSlice(contour_graph_b, slice_index=1.0)\n"
   ]
  },
  {
   "cell_type": "code",
   "execution_count": null,
   "metadata": {},
   "outputs": [
    {
     "data": {
      "image/png": "[encoded data removed]",
      "text/plain": [
       "<Figure size 400x200 with 1 Axes>"
      ]
     },
     "metadata": {},
     "output_type": "display_data"
    }
   ],
   "source": [
    "ax = plot_ab(a.regions['0A'], b.regions['1A'])\n"
   ]
  },
  {
   "cell_type": "code",
   "execution_count": null,
   "metadata": {},
   "outputs": [
    {
     "name": "stdout",
     "output_type": "stream",
     "text": [
      "|001|\t|001|\t|111|\n",
      "|001|\t|001|\t|001|\n",
      "|111|\t|111|\t|001|\n",
      "\n",
      "Relationship: Shelters\n"
     ]
    }
   ],
   "source": [
    "\n",
    "r = DE27IM(a,b)\n",
    "\n",
    "print(str(r))\n",
    "print(r.identify_relation())\n"
   ]
  },
  {
   "cell_type": "code",
   "execution_count": null,
   "metadata": {},
   "outputs": [],
   "source": [
    "def shelters_example():\n",
    "    circle6 = shapely.Polygon(circle_points(3))\n",
    "    circle5 = shapely.Polygon(circle_points(2.5))\n",
    "    circle4_offset = shapely.Polygon(circle_points(2, offset_x=3.5))\n",
    "    shell = shapely.difference(circle6, circle5)\n",
    "    cove = shapely.difference(shell, circle4_offset)\n",
    "    circle2 = shapely.Polygon(circle_points(1, offset_x=1))\n",
    "\n",
    "    a = StructureSlice([cove])\n",
    "    b = StructureSlice([circle2])\n",
    "    return a, b\n",
    "\n",
    "a, b = shelters_example()\n",
    "ax = plot_ab(a.contour, b.contour)\n",
    "\n",
    "r = DE27IM(a,b)\n",
    "print(str(r))\n",
    "print(r.identify_relation())"
   ]
  },
  {
   "cell_type": "code",
   "execution_count": null,
   "metadata": {},
   "outputs": [],
   "source": [
    "poly_a = shapely.Polygon(circle_points(2))\n",
    "poly_b = shapely.Polygon(circle_points(2))\n",
    "relation = DE9IM(poly_a, poly_a)\n",
    "print(relation)\n",
    "relation"
   ]
  },
  {
   "cell_type": "code",
   "execution_count": null,
   "metadata": {},
   "outputs": [],
   "source": [
    "relation_str = '111000000111000000111000000'\n",
    "relation_str[9:]"
   ]
  },
  {
   "cell_type": "code",
   "execution_count": null,
   "metadata": {},
   "outputs": [],
   "source": [
    "box6 = shapely.MultiPolygon([shapely.Polygon(box_points(6))])\n",
    "box4 = shapely.MultiPolygon([shapely.Polygon(box_points(4))])\n",
    "relation = DE9IM(box4, box6)\n",
    "boundary_relation = relation.boundary_adjustment('b')\n",
    "print(boundary_relation)\n",
    "boundary_relation"
   ]
  },
  {
   "cell_type": "code",
   "execution_count": null,
   "metadata": {},
   "outputs": [],
   "source": [
    "relation_str = '111000000111000000111000000'\n",
    "de27im = DE27IM(relation_str=relation_str)"
   ]
  },
  {
   "cell_type": "markdown",
   "metadata": {},
   "source": []
  },
  {
   "cell_type": "code",
   "execution_count": null,
   "metadata": {},
   "outputs": [],
   "source": [
    "DE27IM.test_binaries[7].relation_type\n"
   ]
  },
  {
   "cell_type": "code",
   "execution_count": null,
   "metadata": {},
   "outputs": [],
   "source": [
    "v = DE27IM.test_binaries[7].mask - DE27IM.test_binaries[7].value\n",
    "v = DE27IM.test_binaries[7].value\n",
    "de27im = DE27IM(relation_int=v)\n",
    "de27im.identify_relation()"
   ]
  },
  {
   "cell_type": "markdown",
   "metadata": {},
   "source": [
    "## Adjusting Boundary Slice Relations\n",
    "\n",
    "For the beginning and ending slices of a structure the entire contour must\n",
    "be treated as a boundary.  The structure does not have an interior on these\n",
    "slices. In this case the “*Interior*” relations become “*Boundary*” relations.\n",
    "\n",
    "The “*Interior*” bits of the DE-9IM relationship metric are combined with the \n",
    "“*Boundary*” bits using \"OR\" logic.  This keeps the “*Boundary*” bits as \n",
    "part of the boundary.\n",
    "\n",
    "Possible boundary adjustment types are:\n",
    "\n",
    "<link rel=\"stylesheet\" href=\"relations.css\">\n",
    "<ul>\n",
    "<li>The <span class=\"a\">a</span> polygon is from a boundary slice</li>\n",
    "<li>The <span class=\"b\">b</span> polygon is from a boundary slice</li>\n",
    "<li>Both the <span class=\"a\">a</span> polygon and \n",
    "<span class=\"b\">b</span> polygons are from a boundary slice</li>\n",
    "</ul>\n"
   ]
  },
  {
   "cell_type": "code",
   "execution_count": null,
   "metadata": {},
   "outputs": [],
   "source": [
    "def surrounds_example2():\n",
    "    circle6 = shapely.Polygon(circle_points(3))\n",
    "    circle5 = shapely.Polygon(circle_points(2.5))\n",
    "    circle4 = shapely.Polygon(circle_points(2))\n",
    "    circle3 = shapely.Polygon(circle_points(1.5))\n",
    "    circle2 = shapely.Polygon(circle_points(1))\n",
    "\n",
    "    a = StructureSlice([circle6, circle5, circle2])\n",
    "    b = StructureSlice([circle4, circle3])\n",
    "    return a, b"
   ]
  },
  {
   "cell_type": "code",
   "execution_count": null,
   "metadata": {},
   "outputs": [],
   "source": [
    "a, b = surrounds_example2()\n",
    "plot_ab(a.contour, b.contour)\n",
    "contour = a.contour.relate(b.contour)\n",
    "external = a.exterior.relate(b.contour)\n",
    "convex_hull = a.hull.relate(b.contour)\n",
    "relation_group = (contour, external, convex_hull)\n",
    "print(relation_group)"
   ]
  },
  {
   "cell_type": "markdown",
   "metadata": {},
   "source": [
    "**Original**<br>\n",
    "|Contour|Exterior|Hull|\n",
    "|-----|-----|-----|\n",
    "| FF2 | 212 | 212 |\n",
    "| FF1 | FF1 | FF1 |\n",
    "| 212 | FF2 | FF2 |\n",
    "\n",
    "`('FF2FF1212','212FF1FF2','212FF1FF2')`<br>\n",
    "\n",
    "\n",
    "**Boundary A Adjustment**<br>\n",
    "<img src=\"../../Images/Boundaries/a interior to boundary.png\" style=\"height:150px;\"/><br>\n",
    "|Contour|Exterior|Hull|\n",
    "|-----|-----|-----|\n",
    "| FFF | FFF | FFF |\n",
    "| FF2 | 212 | 212 |\n",
    "| 212 | FF2 | FF2 |\n",
    "\n",
    "\n",
    "`('FFFFF2212','FFF212FF2','FFF212FF2')`<br>\n",
    "(<DE9IM>: FFFFF2212, <DE9IM>: FFF212FF2, <DE9IM>: FFF212FF2)\n",
    "\n",
    "**Boundary B Adjustment**<br>\n",
    "<img src=\"../../Images/Boundaries/b interior to boundary.png\" style=\"height:150px;\"/><br>\n",
    "|Contour|Exterior|Hull|\n",
    "|-----|-----|-----|\n",
    "| FF2 | F22 | F22 |\n",
    "| FF1 | FF1 | FF1 |\n",
    "| F22 | FF2 | FF2 |\n",
    "\n",
    "`('FF2FF1F22','F22FF1FF2','F22FF1FF2')`<br>\n",
    "\n",
    "\n",
    "**Both Boundary Adjustments**<br>\n",
    "<img src=\"../../Images/Boundaries/a and b interior to boundary.png\" style=\"height:150px;\"/><br>\n",
    "|Contour|Exterior|Hull|\n",
    "|-----|-----|-----|\n",
    "| FFF | FFF | FFF |\n",
    "| FF2 | F22 | F22 |\n",
    "| F22 | FF2 | FF2 |\n",
    "\n",
    "`('FFFFF2F22','FFFF22FF2','FFFF22FF2')`<br>\n"
   ]
  },
  {
   "cell_type": "code",
   "execution_count": null,
   "metadata": {},
   "outputs": [],
   "source": [
    "initial_relation_group = (DE9IM(relation_str='FF2FF1212'),\n",
    "                          DE9IM(relation_str='212FF1FF2'),\n",
    "                          DE9IM(relation_str='212FF1FF2'))\n",
    "print(f'Initial Relation:\\t\\t\\t{initial_relation_group}')\n",
    "\n",
    "boundary_a_adjustment = (DE9IM(relation_str='FFFFF2212'),\n",
    "                         DE9IM(relation_str='FFF212FF2'),\n",
    "                         DE9IM(relation_str='FFF212FF2'))\n",
    "\n",
    "print(f'After Boundary A Adjustment:\\t\\t{boundary_a_adjustment}')\n",
    "\n",
    "boundary_b_adjustment = (DE9IM(relation_str='FF2FF1F22'),\n",
    "                         DE9IM(relation_str='F22FF1FF2'),\n",
    "                         DE9IM(relation_str='F22FF1FF2'))\n",
    "print(f'After Boundary B Adjustment:\\t\\t{boundary_b_adjustment}')\n",
    "\n",
    "both_boundary_adjustments = (DE9IM(relation_str='FFFFF2F22'),\n",
    "                             DE9IM(relation_str='FFFF22FF2'),\n",
    "                             DE9IM(relation_str='FFFF22FF2'))\n",
    "print(f'After Both Boundary Adjustments:\\t{both_boundary_adjustments}')\n"
   ]
  },
  {
   "cell_type": "code",
   "execution_count": null,
   "metadata": {},
   "outputs": [],
   "source": [
    "de27im = DE27IM(relation_int=0)\n",
    "adjusted_de27im = de27im.apply_adjustments(initial_relation_group,\n",
    "                                           ['boundary_a'])\n",
    "boundary_a_adjustment = (DE9IM(relation_str='FFFFF2212'),\n",
    "                         DE9IM(relation_str='FFF212FF2'),\n",
    "                         DE9IM(relation_str='FFF212FF2'))\n",
    "print(adjusted_de27im)\n",
    "print(boundary_a_adjustment)\n",
    "assert adjusted_de27im == boundary_a_adjustment"
   ]
  },
  {
   "cell_type": "code",
   "execution_count": null,
   "metadata": {},
   "outputs": [],
   "source": [
    "de27im = DE27IM(relation_int=0)\n",
    "adjusted_de27im = de27im.apply_adjustments(initial_relation_group,\n",
    "                                           ['boundary_b'])\n",
    "boundary_b_adjustment = (DE9IM(relation_str='FF2FF1F22'),\n",
    "                         DE9IM(relation_str='F22FF1FF2'),\n",
    "                         DE9IM(relation_str='F22FF1FF2'))\n",
    "print(adjusted_de27im)\n",
    "print(boundary_b_adjustment)\n",
    "assert adjusted_de27im == boundary_b_adjustment"
   ]
  },
  {
   "cell_type": "code",
   "execution_count": null,
   "metadata": {},
   "outputs": [],
   "source": [
    "de27im = DE27IM(relation_int=0)\n",
    "adjusted_de27im = de27im.apply_adjustments(initial_relation_group,\n",
    "                                           ['boundary_a', 'boundary_b'])\n",
    "both_boundary_adjustments = (DE9IM(relation_str='FFFFF2F22'),\n",
    "                             DE9IM(relation_str='FFFF22FF2'),\n",
    "                             DE9IM(relation_str='FFFF22FF2'))\n",
    "print(adjusted_de27im)\n",
    "print(both_boundary_adjustments)\n",
    "assert adjusted_de27im == both_boundary_adjustments"
   ]
  },
  {
   "cell_type": "markdown",
   "metadata": {},
   "source": [
    "## Correcting for Holes\n",
    "\n",
    "In some cases a relation may be generated for a polygon that is represents a hole (void) in a larger polygon. \n",
    "\n",
    "In this case,  the the interior of a hole is the exterior of the structure, but \n",
    "the exterior of a hole is undefined. It may or may not be within the interior \n",
    "of the larger polygon.\n",
    "\n",
    "- “*Interior*” relations become “*Exterior*” relations \n",
    "- “*Exterior*” relations become “**F**” relations.\n",
    "\n",
    "- When hole boundaries are tested, only the \"contour\" “*Boundary*” bits of\n",
    "    the `DE27IM` relationship are used.  The external and hull bits are set to `'FFFFFFFFF'`."
   ]
  },
  {
   "cell_type": "code",
   "execution_count": null,
   "metadata": {},
   "outputs": [],
   "source": [
    "def shelters_circle():\n",
    "    circle6 = shapely.Polygon(circle_points(3))\n",
    "    circle3 = shapely.Polygon(circle_points(1.5, offset_x=1.6))\n",
    "    crescent = shapely.difference(circle6, circle3)\n",
    "    circle2 = shapely.Polygon(circle_points(1, offset_x=1.5))\n",
    "\n",
    "    a = StructureSlice([crescent])\n",
    "    b = StructureSlice([circle2])\n",
    "    return a, b"
   ]
  },
  {
   "cell_type": "code",
   "execution_count": null,
   "metadata": {},
   "outputs": [],
   "source": [
    "a, b = shelters_circle()\n",
    "plot_ab(a.contour, b.contour)\n",
    "contour = a.contour.relate(b.contour)\n",
    "external = a.exterior.relate(b.contour)\n",
    "convex_hull = a.hull.relate(b.contour)\n",
    "relation_group = (contour, external, convex_hull)\n",
    "print(relation_group)"
   ]
  },
  {
   "cell_type": "markdown",
   "metadata": {},
   "source": [
    "**Original**<br>\n",
    "|Contour|Exterior|Hull|\n",
    "|-----|-----|-----|\n",
    "| FF2 | FF2 | 212 |\n",
    "| FF1 | FF1 | FF1 |\n",
    "| 212 | 212 | FF2 |\n",
    "\n",
    "`('FF2FF1212','FF2FF1212','212FF1FF2')`<br>\n",
    "\n",
    "**Hole A Adjustment**<br>\n",
    "<img src=\"..\\..\\Images\\Boundaries\\Correction for A as Hole.png\" style=\"height:150px;\"/><br>\n",
    "|Contour|Exterior|Hull|\n",
    "|-----|-----|-----|\n",
    "| FFF | FFF | FFF |\n",
    "| FF1 | FFF | FFF |\n",
    "| FF2 | FFF | FFF |\n",
    "\n",
    "**Note:** The exterior and hull relations are not used for hole adjustments.\n",
    "\n",
    "`('FFFFFFF2','FFFFFFFFF','FFFFFFFFF')`<br>\n",
    "`('FFFFF1FF2','FFFFFFFFF','FFFFFFFFF')`<br>\n",
    "\n",
    "\n",
    "**Hole B Adjustment**<br>\n",
    "<img src=\"../../Images/Boundaries/b interior to boundary.png\" style=\"height:150px;\"/><br>\n",
    "|Contour|Exterior|Hull|\n",
    "|-----|-----|-----|\n",
    "| FFF | FFF | FFF |\n",
    "| FFF | FFF | FFF |\n",
    "| F12 | FFF | FFF |\n",
    "\n",
    "`('FFFFFFF12','FFFFFFFFF','FFFFFFFFF')`<br>\n"
   ]
  },
  {
   "cell_type": "code",
   "execution_count": null,
   "metadata": {},
   "outputs": [],
   "source": [
    "initial_relation_group = (DE9IM(relation_str='FF2FF1212'),\n",
    "                          DE9IM(relation_str='FFFFFFFFF'),\n",
    "                          DE9IM(relation_str='FFFFFFFFF'))\n",
    "\n",
    "de27im = DE27IM(relation_int=0)\n",
    "adjusted_de27im = de27im.apply_adjustments(initial_relation_group,\n",
    "                                           ['hole_a'])\n",
    "hole_a_adjustment = (DE9IM(relation_str='FFFFF1FF2'),\n",
    "                     DE9IM(relation_str='FFFFFFFFF'),\n",
    "                     DE9IM(relation_str='FFFFFFFFF'))\n",
    "print(adjusted_de27im)\n",
    "print(hole_a_adjustment)\n",
    "assert adjusted_de27im == hole_a_adjustment"
   ]
  },
  {
   "cell_type": "code",
   "execution_count": null,
   "metadata": {},
   "outputs": [],
   "source": [
    "initial_relation_group = (DE9IM(relation_str='FF2FF1212'),\n",
    "                          DE9IM(relation_str='FFFFFFFFF'),\n",
    "                          DE9IM(relation_str='FFFFFFFFF'))\n",
    "\n",
    "de27im = DE27IM(relation_int=0)\n",
    "adjusted_de27im = de27im.apply_adjustments(initial_relation_group,\n",
    "                                           ['hole_b'])\n",
    "hole_b_adjustment = (DE9IM(relation_str='FFFFFFF12'),\n",
    "                     DE9IM(relation_str='FFFFFFFFF'),\n",
    "                     DE9IM(relation_str='FFFFFFFFF'))\n",
    "print(adjusted_de27im)\n",
    "print(hole_b_adjustment)\n",
    "assert adjusted_de27im == hole_b_adjustment"
   ]
  },
  {
   "cell_type": "markdown",
   "metadata": {},
   "source": [
    "## Transposed Relations\n",
    "\n",
    "Currently, relationships are defined and tested assuming that the first \n",
    "   structure is the same size or larger in volume than the second structure.\n",
    "   However, when testing boundaries, the first contour is assumed to be on a \n",
    "   boundary slice.  If the boundary being tested is a boundary of the second\n",
    "    structure, the relationship must be transposed before being combined with \n",
    "    the other relation values.\n",
    "\n",
    "> `shapely.relate(poly_a, poly_b)` $\\equiv$ `shapely.relate(poly_a, poly_b).T`\n"
   ]
  },
  {
   "cell_type": "code",
   "execution_count": null,
   "metadata": {},
   "outputs": [],
   "source": [
    "def simple_contains_example():\n",
    "    circle6 = shapely.Polygon(circle_points(3))\n",
    "    circle4 = shapely.Polygon(circle_points(2))\n",
    "    a = StructureSlice([circle6])\n",
    "    b = StructureSlice([circle4])\n",
    "    return a, b\n"
   ]
  },
  {
   "cell_type": "code",
   "execution_count": null,
   "metadata": {},
   "outputs": [],
   "source": [
    "a, b = simple_contains_example()\n",
    "plot_ab(a.contour, b.contour)\n",
    "contour = a.contour.relate(b.contour)\n",
    "external = a.exterior.relate(b.contour)\n",
    "convex_hull = a.hull.relate(b.contour)\n",
    "relation_group = (contour, external, convex_hull)\n",
    "print(relation_group)"
   ]
  },
  {
   "cell_type": "markdown",
   "metadata": {},
   "source": [
    "**Original**<br>\n",
    "|Contour|Exterior|Hull|\n",
    "|-----|-----|-----|\n",
    "| 212 | 212 | 212 |\n",
    "| FF1 | FF1 | FF1 |\n",
    "| FF2 | FF2 | FF2 |\n",
    "\n",
    "`('212FF1FF2', '212FF1FF2', '212FF1FF2')`<br>\n",
    "\n",
    "**Transpose**<br>\n",
    "|Contour|Exterior|Hull|\n",
    "|-----|-----|-----|\n",
    "| 2FF | 2FF | 2FF |\n",
    "| 1FF | 1FF | 1FF |\n",
    "| 212 | 212 | 212 |\n",
    "\n",
    "\n",
    "`('2FF1FF212', '2FF1FF212', '2FF1FF212')`<br>\n"
   ]
  },
  {
   "cell_type": "code",
   "execution_count": null,
   "metadata": {},
   "outputs": [],
   "source": [
    "initial_relation_group = (DE9IM(relation_str='212FF1FF2'),\n",
    "                          DE9IM(relation_str='212FF1FF2'),\n",
    "                          DE9IM(relation_str='212FF1FF2'))\n",
    "\n",
    "de27im = DE27IM(relation_int=0)\n",
    "adjusted_de27im = de27im.apply_adjustments(initial_relation_group,\n",
    "                                           ['transpose'])\n",
    "transpose_adjustment = (DE9IM(relation_str='2FF1FF212'),\n",
    "                        DE9IM(relation_str='2FF1FF212'),\n",
    "                        DE9IM(relation_str='2FF1FF212'))\n",
    "print(adjusted_de27im)\n",
    "print(transpose_adjustment)\n",
    "assert adjusted_de27im == transpose_adjustment"
   ]
  },
  {
   "cell_type": "code",
   "execution_count": null,
   "metadata": {},
   "outputs": [],
   "source": [
    "def confines_ring_example():\n",
    "    circle6 = shapely.Polygon(circle_points(3))\n",
    "    circle4 = shapely.Polygon(circle_points(2))\n",
    "    circle2 = shapely.Polygon(circle_points(1))\n",
    "\n",
    "    # b has internal borders with the ring portion of a, but has an external\n",
    "    # border with the island part of a. The internal borders relation wins.\n",
    "    a = StructureSlice([circle6, circle4, circle2])\n",
    "    b = StructureSlice([circle4, circle2])\n",
    "    return a, b"
   ]
  },
  {
   "cell_type": "code",
   "execution_count": null,
   "metadata": {},
   "outputs": [],
   "source": [
    "a, b = confines_ring_example()\n",
    "plot_ab(a.contour, b.contour)\n",
    "contour = a.contour.relate(b.contour)\n",
    "external = a.exterior.relate(b.contour)\n",
    "convex_hull = a.hull.relate(b.contour)\n",
    "relation_group = (contour, external, convex_hull)\n",
    "print(relation_group)"
   ]
  },
  {
   "cell_type": "markdown",
   "metadata": {},
   "source": [
    "('\n",
    " FF2\n",
    " F11\n",
    " 2F2\n",
    " \n",
    " ', '\n",
    " \n",
    " 212\n",
    " FF1\n",
    " FF2\n",
    " \n",
    " ', '\n",
    " \n",
    " 212\n",
    " FF1\n",
    " FF2\n",
    " \n",
    " ')"
   ]
  },
  {
   "cell_type": "markdown",
   "metadata": {},
   "source": [
    "('\n",
    "FF2\n",
    "F11\n",
    "2F2\n",
    "', '\n",
    "212\n",
    "FF1\n",
    "FF2\n",
    "', '\n",
    "212\n",
    "FF1\n",
    "FF2\n",
    "')"
   ]
  },
  {
   "cell_type": "code",
   "execution_count": null,
   "metadata": {},
   "outputs": [],
   "source": [
    "a, b = surrounds_example2()\n",
    "plot_ab(a.contour, b.contour)\n",
    "contour = a.contour.relate(b.contour)\n",
    "external = a.exterior.relate(b.contour)\n",
    "convex_hull = a.hull.relate(b.contour)\n",
    "relation_group = (contour, external, convex_hull)\n",
    "print(relation_group)"
   ]
  },
  {
   "cell_type": "code",
   "execution_count": null,
   "metadata": {},
   "outputs": [],
   "source": [
    "a, b = shelters_circle()\n",
    "plot_ab(a.contour, b.contour)\n",
    "contour = a.contour.relate(b.contour)\n",
    "external = a.exterior.relate(b.contour)\n",
    "convex_hull = a.hull.relate(b.contour)\n",
    "relation_group = (contour, external, convex_hull)\n",
    "print(relation_group)"
   ]
  }
 ],
 "metadata": {
  "kernelspec": {
   "display_name": "StructureRelations",
   "language": "python",
   "name": "python3"
  },
  "language_info": {
   "codemirror_mode": {
    "name": "ipython",
    "version": 3
   },
   "file_extension": ".py",
   "mimetype": "text/x-python",
   "name": "python",
   "nbconvert_exporter": "python",
   "pygments_lexer": "ipython3",
   "version": "3.11.0"
  }
 },
 "nbformat": 4,
 "nbformat_minor": 2
}
