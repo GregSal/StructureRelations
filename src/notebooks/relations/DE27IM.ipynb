{
 "cells": [
  {
   "cell_type": "markdown",
   "metadata": {},
   "source": [
    "# DE27IM Class Tests"
   ]
  },
  {
   "cell_type": "markdown",
   "metadata": {},
   "source": [
    "When written in binary, the 27 bit relationship contains 3 9-bit\n",
    "parts corresponding to DE-9IM relationships. The left-most 9 bits\n",
    "are the relationship between the second structure's contour and the\n",
    "first structure's convex hull polygon. The middle 9 bits are the\n",
    "relationship between the second structure's contour and the first\n",
    "structure's exterior polygon (i.e. with any holes filled). The\n",
    "right-most 9 bits are the relationship between the second\n",
    "structure's contour and the first structure's contour.\n",
    "\n",
    "Args:\n",
    "    slice_structures (pd.DataFrame): A table of structures, where\n",
    "        the values are the contours with type StructureSlice. The\n",
    "        column index contains the roi numbers for the structures.\n",
    "        The row index contains the slice index distances.\n",
    "\n",
    "Returns:\n",
    "    DE9IM_Type: An integer corresponding to a 27 bit binary value\n",
    "        reflecting the combined DE-9IM relationship between contour2 and\n",
    "        contour1's convex hull, exterior and polygon."
   ]
  },
  {
   "cell_type": "markdown",
   "metadata": {},
   "source": [
    "## Setup"
   ]
  },
  {
   "cell_type": "markdown",
   "metadata": {},
   "source": [
    "### Imports"
   ]
  },
  {
   "cell_type": "code",
   "execution_count": 1,
   "metadata": {},
   "outputs": [
    {
     "data": {
      "text/plain": [
       "WindowsPath(\"d:/OneDrive - Queen's University/src\")"
      ]
     },
     "execution_count": 1,
     "metadata": {},
     "output_type": "execute_result"
    }
   ],
   "source": [
    "# Add src and Tests to sys.path for notebook imports\n",
    "import sys\n",
    "from pathlib import Path\n",
    "\n",
    "root = Path.cwd().parent.parent.parent # Adjust if needed\n",
    "src_path = root / \"src\"\n",
    "tests_path = root / \"Tests\"\n",
    "src_path"
   ]
  },
  {
   "cell_type": "code",
   "execution_count": 2,
   "metadata": {},
   "outputs": [],
   "source": [
    "\n",
    "if str(src_path) not in sys.path:\n",
    "    sys.path.insert(0, str(src_path))\n",
    "if str(tests_path) not in sys.path:\n",
    "    sys.path.insert(0, str(tests_path))"
   ]
  },
  {
   "cell_type": "code",
   "execution_count": 3,
   "metadata": {},
   "outputs": [],
   "source": [
    "# Shared Packages\n",
    "import pandas as pd\n",
    "\n",
    "# Local functions and classes\n",
    "# Local functions and classes\n",
    "from types_and_classes import *\n",
    "from utilities import *\n",
    "from contours import *\n",
    "from contour_graph import *\n",
    "from debug_tools import *\n",
    "from region_slice import *\n",
    "from relations import *"
   ]
  },
  {
   "cell_type": "markdown",
   "metadata": {},
   "source": [
    "### Global Settings"
   ]
  },
  {
   "cell_type": "code",
   "execution_count": 4,
   "metadata": {},
   "outputs": [],
   "source": [
    "PRECISION = 2"
   ]
  },
  {
   "cell_type": "code",
   "execution_count": 5,
   "metadata": {},
   "outputs": [],
   "source": [
    "%matplotlib inline"
   ]
  },
  {
   "cell_type": "code",
   "execution_count": null,
   "metadata": {},
   "outputs": [],
   "source": [
    "def surrounds_example2():\n",
    "    circle6 = shapely.Polygon(circle_points(3))\n",
    "    circle5 = shapely.Polygon(circle_points(2.5))\n",
    "    circle4 = shapely.Polygon(circle_points(2))\n",
    "    circle3 = shapely.Polygon(circle_points(1.5))\n",
    "    circle2 = shapely.Polygon(circle_points(1))\n",
    "\n",
    "    a = StructureSlice([circle6, circle5, circle2])\n",
    "    b = StructureSlice([circle4, circle3])\n",
    "    return a, b"
   ]
  },
  {
   "cell_type": "code",
   "execution_count": null,
   "metadata": {},
   "outputs": [],
   "source": [
    "def shelters_example():\n",
    "    circle6 = shapely.Polygon(circle_points(3))\n",
    "    circle5 = shapely.Polygon(circle_points(2.5))\n",
    "    circle4_offset = shapely.Polygon(circle_points(2, offset_x=3.5))\n",
    "    shell = shapely.difference(circle6, circle5)\n",
    "    cove = shapely.difference(shell, circle4_offset)\n",
    "    circle2 = shapely.Polygon(circle_points(1, offset_x=1))\n",
    "\n",
    "    a = StructureSlice([cove])\n",
    "    b = StructureSlice([circle2])\n",
    "    return a, b\n",
    "\n",
    "a, b = shelters_example()\n",
    "ax = plot_ab(a.contour, b.contour)\n",
    "\n",
    "r = DE27IM(a,b)\n",
    "print(str(r))\n",
    "print(r.identify_relation())"
   ]
  },
  {
   "cell_type": "code",
   "execution_count": null,
   "metadata": {},
   "outputs": [],
   "source": [
    "poly_a = shapely.Polygon(circle_points(2))\n",
    "poly_b = shapely.Polygon(circle_points(2))\n",
    "relation = DE9IM(poly_a, poly_a)\n",
    "print(relation)\n",
    "relation"
   ]
  },
  {
   "cell_type": "code",
   "execution_count": null,
   "metadata": {},
   "outputs": [],
   "source": [
    "relation_str = '111000000111000000111000000'\n",
    "relation_str[9:]"
   ]
  },
  {
   "cell_type": "code",
   "execution_count": null,
   "metadata": {},
   "outputs": [],
   "source": [
    "box6 = shapely.MultiPolygon([shapely.Polygon(box_points(6))])\n",
    "box4 = shapely.MultiPolygon([shapely.Polygon(box_points(4))])\n",
    "relation = DE9IM(box4, box6)\n",
    "boundary_relation = relation.boundary_adjustment('b')\n",
    "print(boundary_relation)\n",
    "boundary_relation"
   ]
  },
  {
   "cell_type": "code",
   "execution_count": null,
   "metadata": {},
   "outputs": [],
   "source": [
    "relation_str = '111000000111000000111000000'\n",
    "de27im = DE27IM(relation_str=relation_str)"
   ]
  },
  {
   "cell_type": "markdown",
   "metadata": {},
   "source": []
  },
  {
   "cell_type": "code",
   "execution_count": null,
   "metadata": {},
   "outputs": [],
   "source": [
    "DE27IM.test_binaries[7].relation_type\n"
   ]
  },
  {
   "cell_type": "code",
   "execution_count": null,
   "metadata": {},
   "outputs": [],
   "source": [
    "v = DE27IM.test_binaries[7].mask - DE27IM.test_binaries[7].value\n",
    "v = DE27IM.test_binaries[7].value\n",
    "de27im = DE27IM(relation_int=v)\n",
    "de27im.identify_relation()"
   ]
  },
  {
   "cell_type": "markdown",
   "metadata": {},
   "source": [
    "## Adjusting Boundary Slice Relations\n",
    "\n",
    "For the beginning and ending slices of a structure the entire contour must\n",
    "be treated as a boundary.  The structure does not have an interior on these\n",
    "slices. In this case the “*Interior*” relations become “*Boundary*” relations.\n",
    "\n",
    "The “*Interior*” bits of the DE-9IM relationship metric are combined with the \n",
    "“*Boundary*” bits using \"OR\" logic.  This keeps the “*Boundary*” bits as \n",
    "part of the boundary.\n",
    "\n",
    "Possible boundary adjustment types are:\n",
    "\n",
    "<link rel=\"stylesheet\" href=\"relations.css\">\n",
    "<ul>\n",
    "<li>The <span class=\"a\">a</span> polygon is from a boundary slice</li>\n",
    "<li>The <span class=\"b\">b</span> polygon is from a boundary slice</li>\n",
    "<li>Both the <span class=\"a\">a</span> polygon and \n",
    "<span class=\"b\">b</span> polygons are from a boundary slice</li>\n",
    "</ul>\n"
   ]
  },
  {
   "cell_type": "code",
   "execution_count": null,
   "metadata": {},
   "outputs": [],
   "source": [
    "def surrounds_example2():\n",
    "    circle6 = shapely.Polygon(circle_points(3))\n",
    "    circle5 = shapely.Polygon(circle_points(2.5))\n",
    "    circle4 = shapely.Polygon(circle_points(2))\n",
    "    circle3 = shapely.Polygon(circle_points(1.5))\n",
    "    circle2 = shapely.Polygon(circle_points(1))\n",
    "\n",
    "    a = StructureSlice([circle6, circle5, circle2])\n",
    "    b = StructureSlice([circle4, circle3])\n",
    "    return a, b"
   ]
  },
  {
   "cell_type": "code",
   "execution_count": null,
   "metadata": {},
   "outputs": [],
   "source": [
    "a, b = surrounds_example2()\n",
    "plot_ab(a.contour, b.contour)\n",
    "contour = a.contour.relate(b.contour)\n",
    "external = a.exterior.relate(b.contour)\n",
    "convex_hull = a.hull.relate(b.contour)\n",
    "relation_group = (contour, external, convex_hull)\n",
    "print(relation_group)"
   ]
  },
  {
   "cell_type": "markdown",
   "metadata": {},
   "source": [
    "**Original**<br>\n",
    "|Contour|Exterior|Hull|\n",
    "|-----|-----|-----|\n",
    "| FF2 | 212 | 212 |\n",
    "| FF1 | FF1 | FF1 |\n",
    "| 212 | FF2 | FF2 |\n",
    "\n",
    "`('FF2FF1212','212FF1FF2','212FF1FF2')`<br>\n",
    "\n",
    "\n",
    "**Boundary A Adjustment**<br>\n",
    "<img src=\"../../Images/Boundaries/a interior to boundary.png\" style=\"height:150px;\"/><br>\n",
    "|Contour|Exterior|Hull|\n",
    "|-----|-----|-----|\n",
    "| FFF | FFF | FFF |\n",
    "| FF2 | 212 | 212 |\n",
    "| 212 | FF2 | FF2 |\n",
    "\n",
    "\n",
    "`('FFFFF2212','FFF212FF2','FFF212FF2')`<br>\n",
    "(<DE9IM>: FFFFF2212, <DE9IM>: FFF212FF2, <DE9IM>: FFF212FF2)\n",
    "\n",
    "**Boundary B Adjustment**<br>\n",
    "<img src=\"../../Images/Boundaries/b interior to boundary.png\" style=\"height:150px;\"/><br>\n",
    "|Contour|Exterior|Hull|\n",
    "|-----|-----|-----|\n",
    "| FF2 | F22 | F22 |\n",
    "| FF1 | FF1 | FF1 |\n",
    "| F22 | FF2 | FF2 |\n",
    "\n",
    "`('FF2FF1F22','F22FF1FF2','F22FF1FF2')`<br>\n",
    "\n",
    "\n",
    "**Both Boundary Adjustments**<br>\n",
    "<img src=\"../../Images/Boundaries/a and b interior to boundary.png\" style=\"height:150px;\"/><br>\n",
    "|Contour|Exterior|Hull|\n",
    "|-----|-----|-----|\n",
    "| FFF | FFF | FFF |\n",
    "| FF2 | F22 | F22 |\n",
    "| F22 | FF2 | FF2 |\n",
    "\n",
    "`('FFFFF2F22','FFFF22FF2','FFFF22FF2')`<br>\n"
   ]
  },
  {
   "cell_type": "code",
   "execution_count": null,
   "metadata": {},
   "outputs": [],
   "source": [
    "initial_relation_group = (DE9IM(relation_str='FF2FF1212'),\n",
    "                          DE9IM(relation_str='212FF1FF2'),\n",
    "                          DE9IM(relation_str='212FF1FF2'))\n",
    "print(f'Initial Relation:\\t\\t\\t{initial_relation_group}')\n",
    "\n",
    "boundary_a_adjustment = (DE9IM(relation_str='FFFFF2212'),\n",
    "                         DE9IM(relation_str='FFF212FF2'),\n",
    "                         DE9IM(relation_str='FFF212FF2'))\n",
    "\n",
    "print(f'After Boundary A Adjustment:\\t\\t{boundary_a_adjustment}')\n",
    "\n",
    "boundary_b_adjustment = (DE9IM(relation_str='FF2FF1F22'),\n",
    "                         DE9IM(relation_str='F22FF1FF2'),\n",
    "                         DE9IM(relation_str='F22FF1FF2'))\n",
    "print(f'After Boundary B Adjustment:\\t\\t{boundary_b_adjustment}')\n",
    "\n",
    "both_boundary_adjustments = (DE9IM(relation_str='FFFFF2F22'),\n",
    "                             DE9IM(relation_str='FFFF22FF2'),\n",
    "                             DE9IM(relation_str='FFFF22FF2'))\n",
    "print(f'After Both Boundary Adjustments:\\t{both_boundary_adjustments}')\n"
   ]
  },
  {
   "cell_type": "code",
   "execution_count": null,
   "metadata": {},
   "outputs": [],
   "source": [
    "de27im = DE27IM(relation_int=0)\n",
    "adjusted_de27im = de27im.apply_adjustments(initial_relation_group,\n",
    "                                           ['boundary_a'])\n",
    "boundary_a_adjustment = (DE9IM(relation_str='FFFFF2212'),\n",
    "                         DE9IM(relation_str='FFF212FF2'),\n",
    "                         DE9IM(relation_str='FFF212FF2'))\n",
    "print(adjusted_de27im)\n",
    "print(boundary_a_adjustment)\n",
    "assert adjusted_de27im == boundary_a_adjustment"
   ]
  },
  {
   "cell_type": "code",
   "execution_count": null,
   "metadata": {},
   "outputs": [],
   "source": [
    "de27im = DE27IM(relation_int=0)\n",
    "adjusted_de27im = de27im.apply_adjustments(initial_relation_group,\n",
    "                                           ['boundary_b'])\n",
    "boundary_b_adjustment = (DE9IM(relation_str='FF2FF1F22'),\n",
    "                         DE9IM(relation_str='F22FF1FF2'),\n",
    "                         DE9IM(relation_str='F22FF1FF2'))\n",
    "print(adjusted_de27im)\n",
    "print(boundary_b_adjustment)\n",
    "assert adjusted_de27im == boundary_b_adjustment"
   ]
  },
  {
   "cell_type": "code",
   "execution_count": null,
   "metadata": {},
   "outputs": [],
   "source": [
    "de27im = DE27IM(relation_int=0)\n",
    "adjusted_de27im = de27im.apply_adjustments(initial_relation_group,\n",
    "                                           ['boundary_a', 'boundary_b'])\n",
    "both_boundary_adjustments = (DE9IM(relation_str='FFFFF2F22'),\n",
    "                             DE9IM(relation_str='FFFF22FF2'),\n",
    "                             DE9IM(relation_str='FFFF22FF2'))\n",
    "print(adjusted_de27im)\n",
    "print(both_boundary_adjustments)\n",
    "assert adjusted_de27im == both_boundary_adjustments"
   ]
  },
  {
   "cell_type": "markdown",
   "metadata": {},
   "source": [
    "## Correcting for Holes\n",
    "\n",
    "In some cases a relation may be generated for a polygon that is represents a hole (void) in a larger polygon. \n",
    "\n",
    "In this case,  the the interior of a hole is the exterior of the structure, but \n",
    "the exterior of a hole is undefined. It may or may not be within the interior \n",
    "of the larger polygon.\n",
    "\n",
    "- “*Interior*” relations become “*Exterior*” relations \n",
    "- “*Exterior*” relations become “**F**” relations.\n",
    "\n",
    "- When hole boundaries are tested, only the \"contour\" “*Boundary*” bits of\n",
    "    the `DE27IM` relationship are used.  The external and hull bits are set to `'FFFFFFFFF'`."
   ]
  },
  {
   "cell_type": "code",
   "execution_count": null,
   "metadata": {},
   "outputs": [],
   "source": [
    "def shelters_circle():\n",
    "    circle6 = shapely.Polygon(circle_points(3))\n",
    "    circle3 = shapely.Polygon(circle_points(1.5, offset_x=1.6))\n",
    "    crescent = shapely.difference(circle6, circle3)\n",
    "    circle2 = shapely.Polygon(circle_points(1, offset_x=1.5))\n",
    "\n",
    "    a = StructureSlice([crescent])\n",
    "    b = StructureSlice([circle2])\n",
    "    return a, b"
   ]
  },
  {
   "cell_type": "code",
   "execution_count": null,
   "metadata": {},
   "outputs": [],
   "source": [
    "a, b = shelters_circle()\n",
    "plot_ab(a.contour, b.contour)\n",
    "contour = a.contour.relate(b.contour)\n",
    "external = a.exterior.relate(b.contour)\n",
    "convex_hull = a.hull.relate(b.contour)\n",
    "relation_group = (contour, external, convex_hull)\n",
    "print(relation_group)"
   ]
  },
  {
   "cell_type": "markdown",
   "metadata": {},
   "source": [
    "**Original**<br>\n",
    "|Contour|Exterior|Hull|\n",
    "|-----|-----|-----|\n",
    "| FF2 | FF2 | 212 |\n",
    "| FF1 | FF1 | FF1 |\n",
    "| 212 | 212 | FF2 |\n",
    "\n",
    "`('FF2FF1212','FF2FF1212','212FF1FF2')`<br>\n",
    "\n",
    "**Hole A Adjustment**<br>\n",
    "<img src=\"..\\..\\Images\\Boundaries\\Correction for A as Hole.png\" style=\"height:150px;\"/><br>\n",
    "|Contour|Exterior|Hull|\n",
    "|-----|-----|-----|\n",
    "| FFF | FFF | FFF |\n",
    "| FF1 | FFF | FFF |\n",
    "| FF2 | FFF | FFF |\n",
    "\n",
    "**Note:** The exterior and hull relations are not used for hole adjustments.\n",
    "\n",
    "`('FFFFFFF2','FFFFFFFFF','FFFFFFFFF')`<br>\n",
    "`('FFFFF1FF2','FFFFFFFFF','FFFFFFFFF')`<br>\n",
    "\n",
    "\n",
    "**Hole B Adjustment**<br>\n",
    "<img src=\"../../Images/Boundaries/b interior to boundary.png\" style=\"height:150px;\"/><br>\n",
    "|Contour|Exterior|Hull|\n",
    "|-----|-----|-----|\n",
    "| FFF | FFF | FFF |\n",
    "| FFF | FFF | FFF |\n",
    "| F12 | FFF | FFF |\n",
    "\n",
    "`('FFFFFFF12','FFFFFFFFF','FFFFFFFFF')`<br>\n"
   ]
  },
  {
   "cell_type": "code",
   "execution_count": null,
   "metadata": {},
   "outputs": [],
   "source": [
    "initial_relation_group = (DE9IM(relation_str='FF2FF1212'),\n",
    "                          DE9IM(relation_str='FFFFFFFFF'),\n",
    "                          DE9IM(relation_str='FFFFFFFFF'))\n",
    "\n",
    "de27im = DE27IM(relation_int=0)\n",
    "adjusted_de27im = de27im.apply_adjustments(initial_relation_group,\n",
    "                                           ['hole_a'])\n",
    "hole_a_adjustment = (DE9IM(relation_str='FFFFF1FF2'),\n",
    "                     DE9IM(relation_str='FFFFFFFFF'),\n",
    "                     DE9IM(relation_str='FFFFFFFFF'))\n",
    "print(adjusted_de27im)\n",
    "print(hole_a_adjustment)\n",
    "assert adjusted_de27im == hole_a_adjustment"
   ]
  },
  {
   "cell_type": "code",
   "execution_count": null,
   "metadata": {},
   "outputs": [],
   "source": [
    "initial_relation_group = (DE9IM(relation_str='FF2FF1212'),\n",
    "                          DE9IM(relation_str='FFFFFFFFF'),\n",
    "                          DE9IM(relation_str='FFFFFFFFF'))\n",
    "\n",
    "de27im = DE27IM(relation_int=0)\n",
    "adjusted_de27im = de27im.apply_adjustments(initial_relation_group,\n",
    "                                           ['hole_b'])\n",
    "hole_b_adjustment = (DE9IM(relation_str='FFFFFFF12'),\n",
    "                     DE9IM(relation_str='FFFFFFFFF'),\n",
    "                     DE9IM(relation_str='FFFFFFFFF'))\n",
    "print(adjusted_de27im)\n",
    "print(hole_b_adjustment)\n",
    "assert adjusted_de27im == hole_b_adjustment"
   ]
  },
  {
   "cell_type": "markdown",
   "metadata": {},
   "source": [
    "## Transposed Relations\n",
    "\n",
    "Currently, relationships are defined and tested assuming that the first \n",
    "   structure is the same size or larger in volume than the second structure.\n",
    "   However, when testing boundaries, the first contour is assumed to be on a \n",
    "   boundary slice.  If the boundary being tested is a boundary of the second\n",
    "    structure, the relationship must be transposed before being combined with \n",
    "    the other relation values.\n",
    "\n",
    "> `shapely.relate(poly_a, poly_b)` $\\equiv$ `shapely.relate(poly_a, poly_b).T`\n"
   ]
  },
  {
   "cell_type": "code",
   "execution_count": null,
   "metadata": {},
   "outputs": [],
   "source": [
    "def simple_contains_example():\n",
    "    circle6 = shapely.Polygon(circle_points(3))\n",
    "    circle4 = shapely.Polygon(circle_points(2))\n",
    "    a = StructureSlice([circle6])\n",
    "    b = StructureSlice([circle4])\n",
    "    return a, b\n"
   ]
  },
  {
   "cell_type": "code",
   "execution_count": null,
   "metadata": {},
   "outputs": [],
   "source": [
    "a, b = simple_contains_example()\n",
    "plot_ab(a.contour, b.contour)\n",
    "contour = a.contour.relate(b.contour)\n",
    "external = a.exterior.relate(b.contour)\n",
    "convex_hull = a.hull.relate(b.contour)\n",
    "relation_group = (contour, external, convex_hull)\n",
    "print(relation_group)"
   ]
  },
  {
   "cell_type": "markdown",
   "metadata": {},
   "source": [
    "**Original**<br>\n",
    "|Contour|Exterior|Hull|\n",
    "|-----|-----|-----|\n",
    "| 212 | 212 | 212 |\n",
    "| FF1 | FF1 | FF1 |\n",
    "| FF2 | FF2 | FF2 |\n",
    "\n",
    "`('212FF1FF2', '212FF1FF2', '212FF1FF2')`<br>\n",
    "\n",
    "**Transpose**<br>\n",
    "|Contour|Exterior|Hull|\n",
    "|-----|-----|-----|\n",
    "| 2FF | 2FF | 2FF |\n",
    "| 1FF | 1FF | 1FF |\n",
    "| 212 | 212 | 212 |\n",
    "\n",
    "\n",
    "`('2FF1FF212', '2FF1FF212', '2FF1FF212')`<br>\n"
   ]
  },
  {
   "cell_type": "code",
   "execution_count": null,
   "metadata": {},
   "outputs": [],
   "source": [
    "initial_relation_group = (DE9IM(relation_str='212FF1FF2'),\n",
    "                          DE9IM(relation_str='212FF1FF2'),\n",
    "                          DE9IM(relation_str='212FF1FF2'))\n",
    "\n",
    "de27im = DE27IM(relation_int=0)\n",
    "adjusted_de27im = de27im.apply_adjustments(initial_relation_group,\n",
    "                                           ['transpose'])\n",
    "transpose_adjustment = (DE9IM(relation_str='2FF1FF212'),\n",
    "                        DE9IM(relation_str='2FF1FF212'),\n",
    "                        DE9IM(relation_str='2FF1FF212'))\n",
    "print(adjusted_de27im)\n",
    "print(transpose_adjustment)\n",
    "assert adjusted_de27im == transpose_adjustment"
   ]
  },
  {
   "cell_type": "code",
   "execution_count": null,
   "metadata": {},
   "outputs": [],
   "source": [
    "def confines_ring_example():\n",
    "    circle6 = shapely.Polygon(circle_points(3))\n",
    "    circle4 = shapely.Polygon(circle_points(2))\n",
    "    circle2 = shapely.Polygon(circle_points(1))\n",
    "\n",
    "    # b has internal borders with the ring portion of a, but has an external\n",
    "    # border with the island part of a. The internal borders relation wins.\n",
    "    a = StructureSlice([circle6, circle4, circle2])\n",
    "    b = StructureSlice([circle4, circle2])\n",
    "    return a, b"
   ]
  },
  {
   "cell_type": "code",
   "execution_count": null,
   "metadata": {},
   "outputs": [],
   "source": [
    "a, b = confines_ring_example()\n",
    "plot_ab(a.contour, b.contour)\n",
    "contour = a.contour.relate(b.contour)\n",
    "external = a.exterior.relate(b.contour)\n",
    "convex_hull = a.hull.relate(b.contour)\n",
    "relation_group = (contour, external, convex_hull)\n",
    "print(relation_group)"
   ]
  },
  {
   "cell_type": "markdown",
   "metadata": {},
   "source": [
    "('\n",
    " FF2\n",
    " F11\n",
    " 2F2\n",
    " \n",
    " ', '\n",
    " \n",
    " 212\n",
    " FF1\n",
    " FF2\n",
    " \n",
    " ', '\n",
    " \n",
    " 212\n",
    " FF1\n",
    " FF2\n",
    " \n",
    " ')"
   ]
  },
  {
   "cell_type": "markdown",
   "metadata": {},
   "source": [
    "('\n",
    "FF2\n",
    "F11\n",
    "2F2\n",
    "', '\n",
    "212\n",
    "FF1\n",
    "FF2\n",
    "', '\n",
    "212\n",
    "FF1\n",
    "FF2\n",
    "')"
   ]
  },
  {
   "cell_type": "code",
   "execution_count": null,
   "metadata": {},
   "outputs": [],
   "source": [
    "a, b = surrounds_example2()\n",
    "plot_ab(a.contour, b.contour)\n",
    "contour = a.contour.relate(b.contour)\n",
    "external = a.exterior.relate(b.contour)\n",
    "convex_hull = a.hull.relate(b.contour)\n",
    "relation_group = (contour, external, convex_hull)\n",
    "print(relation_group)"
   ]
  },
  {
   "cell_type": "code",
   "execution_count": null,
   "metadata": {},
   "outputs": [],
   "source": [
    "a, b = shelters_circle()\n",
    "plot_ab(a.contour, b.contour)\n",
    "contour = a.contour.relate(b.contour)\n",
    "external = a.exterior.relate(b.contour)\n",
    "convex_hull = a.hull.relate(b.contour)\n",
    "relation_group = (contour, external, convex_hull)\n",
    "print(relation_group)"
   ]
  }
 ],
 "metadata": {
  "kernelspec": {
   "display_name": "StructureRelations",
   "language": "python",
   "name": "python3"
  },
  "language_info": {
   "codemirror_mode": {
    "name": "ipython",
    "version": 3
   },
   "file_extension": ".py",
   "mimetype": "text/x-python",
   "name": "python",
   "nbconvert_exporter": "python",
   "pygments_lexer": "ipython3",
   "version": "3.11.0"
  }
 },
 "nbformat": 4,
 "nbformat_minor": 2
}
