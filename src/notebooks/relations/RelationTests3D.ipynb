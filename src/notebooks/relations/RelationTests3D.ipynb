{
 "cells": [
  {
   "cell_type": "markdown",
   "metadata": {},
   "source": [
    "# 3D Relationship Testing\n",
    "\n",
    "Testing relationships between 3D structures defined using contours on multiple slices.\n"
   ]
  },
  {
   "cell_type": "code",
   "execution_count": 1,
   "metadata": {},
   "outputs": [],
   "source": [
    "# Local functions and classes\n",
    "from types_and_classes import *\n",
    "from utilities import *\n",
    "from debug_tools import *\n",
    "from structure_set import *\n",
    "from relations import *"
   ]
  },
  {
   "cell_type": "markdown",
   "metadata": {},
   "source": [
    "### Global Settings"
   ]
  },
  {
   "cell_type": "code",
   "execution_count": 2,
   "metadata": {},
   "outputs": [],
   "source": [
    "PRECISION = 2"
   ]
  },
  {
   "cell_type": "code",
   "execution_count": 3,
   "metadata": {},
   "outputs": [],
   "source": [
    "%matplotlib inline"
   ]
  },
  {
   "cell_type": "markdown",
   "metadata": {},
   "source": [
    "## Relationship Tests by Relationship Type"
   ]
  },
  {
   "cell_type": "markdown",
   "metadata": {},
   "source": [
    "### Color Coding\n",
    "<table style=\"border: 2px solid black; width=50px;\"><tr><td>\n",
    "<ul style=\"font-weight: 900; font-size: 20px;\">\n",
    "<li style=\"color: blue;\">region a</li>\n",
    "<li style=\"color: green;\">region b</li>\n",
    "<li style=\"color: orange;\">intersection of a & b</li></ul>\n",
    "</tr></td></>"
   ]
  },
  {
   "cell_type": "markdown",
   "metadata": {},
   "source": [
    "## Contains"
   ]
  },
  {
   "cell_type": "markdown",
   "metadata": {},
   "source": [
    "<link rel=\"stylesheet\" href=\"relations.css\">\n",
    "<table width=\"350px\">\n",
    "<tr class=\"l\"><th>Contains</th><th>Transitive</th></tr>\n",
    "<td class=\"d\" colspan=\"2\">\n",
    "All points of <span class=\"b\">b</span> lie in the interior of <span class=\"a\">a</span>, no points of <span class=\"b\">b</span> lie in the exterior of <span class=\"a\">a</span>, some points in <span class=\"a\">a</span> are exterior to <span class=\"b\">b</span>, and the boundaries of <span class=\"a\">a</span> and <span class=\"b\">b</span> do not intersect.\n",
    "</td></tr>\n",
    "<tr><td colspan=\"2\">\n",
    "<img src=\"../../Images/Relationships/contains simple.png\" alt=\"Contains\">\n",
    "<img src=\"../../Images/Relationships/contains with hole.png\" alt=\"Contains With Hole\">\n",
    "</td></tr>\n",
    "</table></td></tr></table>"
   ]
  },
  {
   "cell_type": "markdown",
   "metadata": {},
   "source": [
    "### Contains"
   ]
  },
  {
   "cell_type": "markdown",
   "metadata": {},
   "source": [
    "#### Embedded Spheres\n",
    "![Embedded Spheres](<../../Images/FreeCAD Images/Embedded Spheres.png>)"
   ]
  },
  {
   "cell_type": "code",
   "execution_count": 4,
   "metadata": {},
   "outputs": [],
   "source": [
    "def embedded_spheres_example():\n",
    "    slice_spacing = 0.5\n",
    "    # Body structure defines slices in use\n",
    "    body = make_vertical_cylinder(roi_num=0, radius=20, length=30, offset_z=-15,\n",
    "                                spacing=slice_spacing)\n",
    "    # embedded boxes\n",
    "    sphere6 = make_sphere(roi_num=1, radius=3, spacing=slice_spacing)\n",
    "    sphere3 = make_sphere(roi_num=2, radius=1.5, spacing=slice_spacing)\n",
    "    # combine the contours\n",
    "    slice_data = sphere6 + sphere3 + body\n",
    "    return slice_data"
   ]
  },
  {
   "cell_type": "code",
   "execution_count": 5,
   "metadata": {},
   "outputs": [
    {
     "name": "stdout",
     "output_type": "stream",
     "text": [
      "Relationship: Contains\n"
     ]
    }
   ],
   "source": [
    "slice_data = embedded_spheres_example()\n",
    "structures = StructureSet(slice_data)\n",
    "structure_a = structures.structures[1]\n",
    "structure_b = structures.structures[2]\n",
    "relation = structure_a.relate(structure_b)\n",
    "relation_type = relation.identify_relation()\n",
    "print(relation_type)\n",
    "assert relation_type == RelationshipType.CONTAINS"
   ]
  },
  {
   "cell_type": "markdown",
   "metadata": {},
   "source": [
    "#### Concentric Cylinders\n",
    "![Concentric cylinders](<../../Images/FreeCAD Images/Concentric cylinders.png>)"
   ]
  },
  {
   "cell_type": "code",
   "execution_count": 6,
   "metadata": {},
   "outputs": [],
   "source": [
    "def simple_cylinders_example():\n",
    "    slice_spacing = 0.1\n",
    "    # Body structure defines slices in use\n",
    "    body = make_vertical_cylinder(roi_num=0, radius=12, length=1.0,\n",
    "                                  offset_z=0,\n",
    "                                  spacing=slice_spacing)\n",
    "    # Centred cylinder\n",
    "    primary_cylinder = make_vertical_cylinder(roi_num=1, radius=5, length=0.8,\n",
    "                                              offset_z=0,\n",
    "                                              spacing=slice_spacing)\n",
    "    # cylinder within primary\n",
    "    contained_cylinder = make_vertical_cylinder(roi_num=2, radius=3, length=0.6,\n",
    "                                                offset_x=0, offset_z=0,\n",
    "                                                spacing=slice_spacing)\n",
    "    # combine the contours\n",
    "    slice_data = body + primary_cylinder + contained_cylinder\n",
    "    return slice_data\n"
   ]
  },
  {
   "cell_type": "code",
   "execution_count": 7,
   "metadata": {},
   "outputs": [
    {
     "name": "stdout",
     "output_type": "stream",
     "text": [
      "Relationship: Contains\n"
     ]
    }
   ],
   "source": [
    "slice_data = simple_cylinders_example()\n",
    "structures = StructureSet(slice_data)\n",
    "structure_a = structures.structures[1]\n",
    "structure_b = structures.structures[2]\n",
    "relation = structure_a.relate(structure_b)\n",
    "relation_type = relation.identify_relation()\n",
    "print(relation_type)\n",
    "assert relation_type == RelationshipType.CONTAINS"
   ]
  },
  {
   "cell_type": "markdown",
   "metadata": {},
   "source": [
    "#### Embedded Boxes\n",
    "![Embedded Boxes](<../../Images/FreeCAD Images/Embedded Boxes.png>)"
   ]
  },
  {
   "cell_type": "code",
   "execution_count": 8,
   "metadata": {},
   "outputs": [],
   "source": [
    "def embedded_boxes_example():\n",
    "    slice_spacing = 0.5\n",
    "    # Body structure defines slices in use\n",
    "    body = make_vertical_cylinder(roi_num=0, radius=20, length=30, offset_z=0,\n",
    "                                  spacing=slice_spacing)\n",
    "    # embedded boxes\n",
    "    cube6 = make_box(roi_num=1, width=6, spacing=slice_spacing)\n",
    "    cube3 = make_box(roi_num=2, width=3, offset_z=0, spacing=slice_spacing)\n",
    "    # combine the contours\n",
    "    slice_data = cube6 + cube3 + body\n",
    "    return slice_data"
   ]
  },
  {
   "cell_type": "code",
   "execution_count": 9,
   "metadata": {},
   "outputs": [
    {
     "name": "stdout",
     "output_type": "stream",
     "text": [
      "Relationship: Contains\n"
     ]
    }
   ],
   "source": [
    "slice_data = embedded_boxes_example()\n",
    "structures = StructureSet(slice_data)\n",
    "structure_a = structures.structures[1]\n",
    "structure_b = structures.structures[2]\n",
    "relation = structure_a.relate(structure_b)\n",
    "relation_type = relation.identify_relation()\n",
    "print(relation_type)\n",
    "assert relation_type == RelationshipType.CONTAINS"
   ]
  },
  {
   "cell_type": "markdown",
   "metadata": {},
   "source": [
    "#### Parallel Cylinders\n",
    "- Concentric cylinders with interior cylinder ending inside the exterior cylinder by one slice\n",
    "\n",
    "![Parallel Cylinders](<../../Images/FreeCAD Images/Parallel Cylinders.png>)"
   ]
  },
  {
   "cell_type": "code",
   "execution_count": 10,
   "metadata": {},
   "outputs": [],
   "source": [
    "def parallel_cylinders_example():\n",
    "    slice_spacing = 1\n",
    "    # Body structure defines slices in use\n",
    "    body = make_vertical_cylinder(roi_num=0, radius=12, length=10, offset_z=0,\n",
    "                                  spacing=slice_spacing)\n",
    "    left_cylinder = make_vertical_cylinder(roi_num=1, radius=2, length=8,\n",
    "                                           offset_x=-2.5, offset_z=0,\n",
    "                                           spacing=slice_spacing)\n",
    "    right_cylinder = make_vertical_cylinder(roi_num=1, radius=2, length=8,\n",
    "                                            offset_x=2.5, offset_z=0,\n",
    "                                            spacing=slice_spacing)\n",
    "    right_middle_cylinder = make_vertical_cylinder(roi_num=2, radius=1,\n",
    "                                                   length=6,\n",
    "                                                   offset_x=2.5, offset_z=0,\n",
    "                                                   spacing=slice_spacing)\n",
    "    # combine the contours\n",
    "    slice_data = body + left_cylinder + right_cylinder + right_middle_cylinder\n",
    "    return slice_data\n"
   ]
  },
  {
   "cell_type": "code",
   "execution_count": 11,
   "metadata": {},
   "outputs": [
    {
     "name": "stdout",
     "output_type": "stream",
     "text": [
      "Relationship: Contains\n"
     ]
    }
   ],
   "source": [
    "slice_data = parallel_cylinders_example()\n",
    "structures = StructureSet(slice_data)\n",
    "structure_a = structures.structures[1]\n",
    "structure_b = structures.structures[2]\n",
    "relation = structure_a.relate(structure_b)\n",
    "relation_type = relation.identify_relation()\n",
    "print(relation_type)\n",
    "assert relation_type == RelationshipType.CONTAINS"
   ]
  },
  {
   "cell_type": "markdown",
   "metadata": {},
   "source": [
    "#### Sphere in Sphere in Sphere\n",
    "- Hollow spheres with an inner sphere and second structure inside the inner sphere.\n",
    "\n",
    "![Sphere in Sphere in Sphere](<../../Images/FreeCAD Images/Sphere in Spheres in Shell.png>)"
   ]
  },
  {
   "cell_type": "code",
   "execution_count": 12,
   "metadata": {},
   "outputs": [],
   "source": [
    "def nested_spheres_example():\n",
    "    slice_spacing = 1\n",
    "    # Body structure defines slices in use\n",
    "    body = make_vertical_cylinder(roi_num=0, radius=16, length=20, offset_z=0,\n",
    "                                  spacing=slice_spacing)\n",
    "    sphere12 = make_sphere(roi_num=1, radius=6, spacing=slice_spacing)\n",
    "    hole10 = make_sphere(roi_num=1, radius=5, spacing=slice_spacing)\n",
    "    sphere8 = make_sphere(roi_num=1, radius=4, spacing=slice_spacing)\n",
    "    sphere6 = make_sphere(roi_num=2, radius=3, spacing=slice_spacing)\n",
    "\n",
    "    # combine the contours\n",
    "    slice_data = body + sphere12 + hole10 + sphere8 + sphere6\n",
    "    return slice_data\n"
   ]
  },
  {
   "cell_type": "code",
   "execution_count": 13,
   "metadata": {},
   "outputs": [
    {
     "name": "stderr",
     "output_type": "stream",
     "text": [
      "/opt/conda/envs/StructureRelations/lib/python3.11/site-packages/shapely/linear.py:203: RuntimeWarning: invalid value encountered in shortest_line\n",
      "  return lib.shortest_line(a, b, **kwargs)\n",
      "/opt/conda/envs/StructureRelations/lib/python3.11/site-packages/shapely/linear.py:203: RuntimeWarning: invalid value encountered in shortest_line\n",
      "  return lib.shortest_line(a, b, **kwargs)\n"
     ]
    },
    {
     "name": "stdout",
     "output_type": "stream",
     "text": [
      "Relationship: Contains\n"
     ]
    },
    {
     "name": "stderr",
     "output_type": "stream",
     "text": [
      "/opt/conda/envs/StructureRelations/lib/python3.11/site-packages/shapely/linear.py:203: RuntimeWarning: invalid value encountered in shortest_line\n",
      "  return lib.shortest_line(a, b, **kwargs)\n"
     ]
    }
   ],
   "source": [
    "slice_data = nested_spheres_example()\n",
    "structures = StructureSet(slice_data)\n",
    "structure_a = structures.structures[1]\n",
    "structure_b = structures.structures[2]\n",
    "relation = structure_a.relate(structure_b)\n",
    "relation_type = relation.identify_relation()\n",
    "print(relation_type)\n",
    "assert relation_type == RelationshipType.CONTAINS"
   ]
  },
  {
   "cell_type": "markdown",
   "metadata": {},
   "source": [
    "## Surrounds"
   ]
  },
  {
   "cell_type": "markdown",
   "metadata": {},
   "source": [
    "<link rel=\"stylesheet\" href=\"relations.css\">\n",
    "<table width=\"350px\">\n",
    "<tr class=\"l\"><th>Surrounds</th><th>Transitive</t></tr>\n",
    "<td class=\"d\" colspan=\"2\">\n",
    "<span class=\"a\">a</span> and <span class=\"b\">b</span> have no points in common, but the Convex Hull of <span class=\"a\">a</span> contains <span class=\"b\">b</span>.\n",
    "</td></tr><tr><td colspan=\"2\">\n",
    "<img src=\"../../Images/Relationships/shelters.png\" alt=\"shelters\">\n",
    "</td></tr></table>\n"
   ]
  },
  {
   "cell_type": "markdown",
   "metadata": {},
   "source": [
    "#### Simple Surrounded Cylinders\n",
    "- Concentric hollow cylinders with an interior cylinder ending inside the outer cylinder's hole by one slice\n",
    "\n",
    "![Simple Surrounded Cylinders](<../../Images/FreeCAD Images/Surrounded cylinders.png>)"
   ]
  },
  {
   "cell_type": "code",
   "execution_count": 37,
   "metadata": {},
   "outputs": [],
   "source": [
    "def surrounded_cylinder_example():\n",
    "    slice_spacing = 1\n",
    "    # Body structure defines slices in use\n",
    "    body = make_vertical_cylinder(roi_num=0, radius=12, length=16, offset_z=0,\n",
    "                                  spacing=slice_spacing)\n",
    "    outer_cylinder = make_vertical_cylinder(roi_num=1, radius=6, length=10,\n",
    "                                            spacing=slice_spacing)\n",
    "    cylinder_hole = make_vertical_cylinder(roi_num=1, radius=5, length=8,\n",
    "                                           spacing=slice_spacing)\n",
    "    surrounded_cylinder = make_vertical_cylinder(roi_num=2, radius=3, length=6,\n",
    "                                                 spacing=slice_spacing)\n",
    "\n",
    "    # combine the contours\n",
    "    slice_data = body + outer_cylinder + cylinder_hole + surrounded_cylinder\n",
    "    return slice_data\n"
   ]
  },
  {
   "cell_type": "code",
   "execution_count": 38,
   "metadata": {},
   "outputs": [],
   "source": [
    "slice_data = surrounded_cylinder_example()\n",
    "structures = StructureSet(slice_data)\n",
    "structure_a = structures.structures[1]\n",
    "structure_b = structures.structures[2]\n"
   ]
  },
  {
   "cell_type": "code",
   "execution_count": null,
   "metadata": {},
   "outputs": [],
   "source": [
    "import logging\n",
    "\n",
    "#logging.getLogger('structures').setLevel(logging.DEBUG)\n"
   ]
  },
  {
   "cell_type": "code",
   "execution_count": null,
   "metadata": {},
   "outputs": [],
   "source": [
    "relation = structure_a.relate(structure_b)"
   ]
  },
  {
   "cell_type": "code",
   "execution_count": null,
   "metadata": {},
   "outputs": [],
   "source": [
    "#logging.getLogger('structures').setLevel(logging.INFO)\n"
   ]
  },
  {
   "cell_type": "code",
   "execution_count": 40,
   "metadata": {},
   "outputs": [
    {
     "name": "stdout",
     "output_type": "stream",
     "text": [
      "|011|\t|111|\t|111|\n",
      "|001|\t|001|\t|001|\n",
      "|111|\t|001|\t|001|\n",
      "\n"
     ]
    }
   ],
   "source": [
    "print(relation)"
   ]
  },
  {
   "cell_type": "code",
   "execution_count": 45,
   "metadata": {},
   "outputs": [
    {
     "data": {
      "image/png": "[encoded data removed]",
      "text/plain": [
       "<Figure size 400x200 with 1 Axes>"
      ]
     },
     "metadata": {},
     "output_type": "display_data"
    }
   ],
   "source": [
    "poly_a = structure_a.get_slice(3.0)\n",
    "poly_b = structure_b.get_slice(3.0)\n",
    "ax = plot_ab(poly_a, poly_b)"
   ]
  },
  {
   "cell_type": "code",
   "execution_count": 53,
   "metadata": {},
   "outputs": [
    {
     "data": {
      "image/png": "[encoded data removed]",
      "text/plain": [
       "<Figure size 400x200 with 1 Axes>"
      ]
     },
     "metadata": {},
     "output_type": "display_data"
    }
   ],
   "source": [
    "poly_a = structure_a.get_slice(3.5)\n",
    "poly_b = structure_b.get_slice(3.5)\n",
    "ax = plot_ab(poly_a, poly_b)"
   ]
  },
  {
   "cell_type": "markdown",
   "metadata": {},
   "source": [
    "# Error with interpolation\n",
    "-The hole in structure_a does not appear to be included on the interpolated slice."
   ]
  },
  {
   "cell_type": "code",
   "execution_count": 54,
   "metadata": {},
   "outputs": [
    {
     "data": {
      "image/svg+xml": [
       "<svg xmlns=\"http://www.w3.org/2000/svg\" xmlns:xlink=\"http://www.w3.org/1999/xlink\" width=\"100.0\" height=\"100.0\" viewBox=\"-6.48 -6.48 12.96 12.96\" preserveAspectRatio=\"xMinYMin meet\"><g transform=\"matrix(1,0,0,-1,0,0.0)\"><path fill-rule=\"evenodd\" fill=\"#66cc99\" stroke=\"#555555\" stroke-width=\"0.25920000000000004\" opacity=\"0.6\" d=\"M 0.0,6.0 L 2.296,5.543 L 4.243,4.243 L 5.543,2.296 L 6.0,0.0 L 5.543,-2.296 L 4.243,-4.243 L 2.296,-5.543 L 0.0,-6.0 L -2.296,-5.543 L -4.243,-4.243 L -5.543,-2.296 L -6.0,0.0 L -5.543,2.296 L -4.243,4.243 L -2.296,5.543 L 0.0,6.0 z\" /></g></svg>"
      ],
      "text/plain": [
       "<POLYGON Z ((0 6 3.5, 2.296 5.543 3.5, 4.243 4.243 3.5, 5.543 2.296 3.5, 6 0...>"
      ]
     },
     "execution_count": 54,
     "metadata": {},
     "output_type": "execute_result"
    }
   ],
   "source": [
    "poly_a.merge_regions()"
   ]
  },
  {
   "cell_type": "code",
   "execution_count": 58,
   "metadata": {},
   "outputs": [
    {
     "data": {
      "image/svg+xml": [
       "<svg xmlns=\"http://www.w3.org/2000/svg\" xmlns:xlink=\"http://www.w3.org/1999/xlink\" width=\"100.0\" height=\"100.0\" viewBox=\"-6.48 -6.48 12.96 12.96\" preserveAspectRatio=\"xMinYMin meet\"><g transform=\"matrix(1,0,0,-1,0,0.0)\"><g><path fill-rule=\"evenodd\" fill=\"#66cc99\" stroke=\"#555555\" stroke-width=\"0.25920000000000004\" opacity=\"0.6\" d=\"M 0.0,6.0 L 2.296,5.543 L 4.243,4.243 L 5.543,2.296 L 6.0,0.0 L 5.543,-2.296 L 4.243,-4.243 L 2.296,-5.543 L 0.0,-6.0 L -2.296,-5.543 L -4.243,-4.243 L -5.543,-2.296 L -6.0,0.0 L -5.543,2.296 L -4.243,4.243 L -2.296,5.543 L 0.0,6.0 z\" /></g></g></svg>"
      ],
      "text/plain": [
       "<MULTIPOLYGON Z (((0 6 3.5, 2.296 5.543 3.5, 4.243 4.243 3.5, 5.543 2.296 3....>"
      ]
     },
     "execution_count": 58,
     "metadata": {},
     "output_type": "execute_result"
    }
   ],
   "source": [
    "list(poly_a.regions.values())[0]"
   ]
  },
  {
   "cell_type": "code",
   "execution_count": 60,
   "metadata": {},
   "outputs": [
    {
     "data": {
      "image/svg+xml": [
       "<svg xmlns=\"http://www.w3.org/2000/svg\" xmlns:xlink=\"http://www.w3.org/1999/xlink\" width=\"100.0\" height=\"100.0\" viewBox=\"-6.48 -6.48 12.96 12.96\" preserveAspectRatio=\"xMinYMin meet\"><g transform=\"matrix(1,0,0,-1,0,0.0)\"><g><path fill-rule=\"evenodd\" fill=\"#66cc99\" stroke=\"#555555\" stroke-width=\"0.25920000000000004\" opacity=\"0.6\" d=\"M 4.243,4.243 L 5.543,2.296 L 6.0,0.0 L 5.543,-2.296 L 4.243,-4.243 L 2.296,-5.543 L 0.0,-6.0 L -2.296,-5.543 L -4.243,-4.243 L -5.543,-2.296 L -6.0,0.0 L -5.543,2.296 L -4.243,4.243 L -2.296,5.543 L 0.0,6.0 L 2.296,5.543 L 4.243,4.243 z M -3.536,3.536 L -4.619,1.913 L -5.0,0.0 L -4.619,-1.913 L -3.536,-3.536 L -1.913,-4.619 L 0.0,-5.0 L 1.913,-4.619 L 3.536,-3.536 L 4.619,-1.913 L 5.0,0.0 L 4.619,1.913 L 3.536,3.536 L 1.913,4.619 L 0.0,5.0 L -1.913,4.619 L -3.536,3.536 z\" /></g></g></svg>"
      ],
      "text/plain": [
       "<MULTIPOLYGON Z (((4.243 4.243 3, 5.543 2.296 3, 6 0 3, 5.543 -2.296 3, 4.24...>"
      ]
     },
     "execution_count": 60,
     "metadata": {},
     "output_type": "execute_result"
    }
   ],
   "source": [
    "poly_a = structure_a.get_slice(3.0)\n",
    "list(poly_a.regions.values())[0]"
   ]
  },
  {
   "cell_type": "code",
   "execution_count": 48,
   "metadata": {},
   "outputs": [
    {
     "data": {
      "text/html": [
       "<div>\n",
       "<style scoped>\n",
       "    .dataframe tbody tr th:only-of-type {\n",
       "        vertical-align: middle;\n",
       "    }\n",
       "\n",
       "    .dataframe tbody tr th {\n",
       "        vertical-align: top;\n",
       "    }\n",
       "\n",
       "    .dataframe thead th {\n",
       "        text-align: right;\n",
       "    }\n",
       "</style>\n",
       "<table border=\"1\" class=\"dataframe\">\n",
       "  <thead>\n",
       "    <tr style=\"text-align: right;\">\n",
       "      <th></th>\n",
       "      <th>ROI</th>\n",
       "      <th>SliceIndex</th>\n",
       "      <th>HoleType</th>\n",
       "      <th>Interpolated</th>\n",
       "      <th>Boundary</th>\n",
       "      <th>ContourIndex</th>\n",
       "      <th>RegionIndex</th>\n",
       "      <th>Label</th>\n",
       "    </tr>\n",
       "  </thead>\n",
       "  <tbody>\n",
       "    <tr>\n",
       "      <th>22</th>\n",
       "      <td>1</td>\n",
       "      <td>-5.5</td>\n",
       "      <td>None</td>\n",
       "      <td>True</td>\n",
       "      <td>True</td>\n",
       "      <td>597</td>\n",
       "      <td>1A</td>\n",
       "      <td>(1, -5.5, 597)</td>\n",
       "    </tr>\n",
       "    <tr>\n",
       "      <th>0</th>\n",
       "      <td>1</td>\n",
       "      <td>-5.0</td>\n",
       "      <td>None</td>\n",
       "      <td>False</td>\n",
       "      <td>False</td>\n",
       "      <td>575</td>\n",
       "      <td>1A</td>\n",
       "      <td>(1, -5.0, 575)</td>\n",
       "    </tr>\n",
       "    <tr>\n",
       "      <th>20</th>\n",
       "      <td>1</td>\n",
       "      <td>-4.5</td>\n",
       "      <td>Closed</td>\n",
       "      <td>True</td>\n",
       "      <td>True</td>\n",
       "      <td>595</td>\n",
       "      <td>1B</td>\n",
       "      <td>(1, -4.5, 595)</td>\n",
       "    </tr>\n",
       "    <tr>\n",
       "      <th>21</th>\n",
       "      <td>1</td>\n",
       "      <td>-4.5</td>\n",
       "      <td>None</td>\n",
       "      <td>True</td>\n",
       "      <td>False</td>\n",
       "      <td>596</td>\n",
       "      <td>1A</td>\n",
       "      <td>(1, -4.5, 596)</td>\n",
       "    </tr>\n",
       "    <tr>\n",
       "      <th>1</th>\n",
       "      <td>1</td>\n",
       "      <td>-4.0</td>\n",
       "      <td>None</td>\n",
       "      <td>False</td>\n",
       "      <td>False</td>\n",
       "      <td>576</td>\n",
       "      <td>1A</td>\n",
       "      <td>(1, -4.0, 576)</td>\n",
       "    </tr>\n",
       "    <tr>\n",
       "      <th>2</th>\n",
       "      <td>1</td>\n",
       "      <td>-4.0</td>\n",
       "      <td>Closed</td>\n",
       "      <td>False</td>\n",
       "      <td>False</td>\n",
       "      <td>577</td>\n",
       "      <td>1B</td>\n",
       "      <td>(1, -4.0, 577)</td>\n",
       "    </tr>\n",
       "    <tr>\n",
       "      <th>26</th>\n",
       "      <td>1</td>\n",
       "      <td>-3.5</td>\n",
       "      <td>None</td>\n",
       "      <td>True</td>\n",
       "      <td>False</td>\n",
       "      <td>616</td>\n",
       "      <td>1A</td>\n",
       "      <td>(1, -3.5, 616)</td>\n",
       "    </tr>\n",
       "    <tr>\n",
       "      <th>27</th>\n",
       "      <td>1</td>\n",
       "      <td>-3.5</td>\n",
       "      <td>Closed</td>\n",
       "      <td>True</td>\n",
       "      <td>False</td>\n",
       "      <td>617</td>\n",
       "      <td>1B</td>\n",
       "      <td>(1, -3.5, 617)</td>\n",
       "    </tr>\n",
       "    <tr>\n",
       "      <th>3</th>\n",
       "      <td>1</td>\n",
       "      <td>-3.0</td>\n",
       "      <td>None</td>\n",
       "      <td>False</td>\n",
       "      <td>False</td>\n",
       "      <td>578</td>\n",
       "      <td>1A</td>\n",
       "      <td>(1, -3.0, 578)</td>\n",
       "    </tr>\n",
       "    <tr>\n",
       "      <th>4</th>\n",
       "      <td>1</td>\n",
       "      <td>-3.0</td>\n",
       "      <td>Closed</td>\n",
       "      <td>False</td>\n",
       "      <td>False</td>\n",
       "      <td>579</td>\n",
       "      <td>1B</td>\n",
       "      <td>(1, -3.0, 579)</td>\n",
       "    </tr>\n",
       "    <tr>\n",
       "      <th>5</th>\n",
       "      <td>1</td>\n",
       "      <td>-2.0</td>\n",
       "      <td>None</td>\n",
       "      <td>False</td>\n",
       "      <td>False</td>\n",
       "      <td>580</td>\n",
       "      <td>1A</td>\n",
       "      <td>(1, -2.0, 580)</td>\n",
       "    </tr>\n",
       "    <tr>\n",
       "      <th>6</th>\n",
       "      <td>1</td>\n",
       "      <td>-2.0</td>\n",
       "      <td>Closed</td>\n",
       "      <td>False</td>\n",
       "      <td>False</td>\n",
       "      <td>581</td>\n",
       "      <td>1B</td>\n",
       "      <td>(1, -2.0, 581)</td>\n",
       "    </tr>\n",
       "    <tr>\n",
       "      <th>7</th>\n",
       "      <td>1</td>\n",
       "      <td>-1.0</td>\n",
       "      <td>None</td>\n",
       "      <td>False</td>\n",
       "      <td>False</td>\n",
       "      <td>582</td>\n",
       "      <td>1A</td>\n",
       "      <td>(1, -1.0, 582)</td>\n",
       "    </tr>\n",
       "    <tr>\n",
       "      <th>8</th>\n",
       "      <td>1</td>\n",
       "      <td>-1.0</td>\n",
       "      <td>Closed</td>\n",
       "      <td>False</td>\n",
       "      <td>False</td>\n",
       "      <td>583</td>\n",
       "      <td>1B</td>\n",
       "      <td>(1, -1.0, 583)</td>\n",
       "    </tr>\n",
       "    <tr>\n",
       "      <th>9</th>\n",
       "      <td>1</td>\n",
       "      <td>0.0</td>\n",
       "      <td>None</td>\n",
       "      <td>False</td>\n",
       "      <td>False</td>\n",
       "      <td>584</td>\n",
       "      <td>1A</td>\n",
       "      <td>(1, 0.0, 584)</td>\n",
       "    </tr>\n",
       "    <tr>\n",
       "      <th>10</th>\n",
       "      <td>1</td>\n",
       "      <td>0.0</td>\n",
       "      <td>Closed</td>\n",
       "      <td>False</td>\n",
       "      <td>False</td>\n",
       "      <td>585</td>\n",
       "      <td>1B</td>\n",
       "      <td>(1, 0.0, 585)</td>\n",
       "    </tr>\n",
       "    <tr>\n",
       "      <th>11</th>\n",
       "      <td>1</td>\n",
       "      <td>1.0</td>\n",
       "      <td>None</td>\n",
       "      <td>False</td>\n",
       "      <td>False</td>\n",
       "      <td>586</td>\n",
       "      <td>1A</td>\n",
       "      <td>(1, 1.0, 586)</td>\n",
       "    </tr>\n",
       "    <tr>\n",
       "      <th>12</th>\n",
       "      <td>1</td>\n",
       "      <td>1.0</td>\n",
       "      <td>Closed</td>\n",
       "      <td>False</td>\n",
       "      <td>False</td>\n",
       "      <td>587</td>\n",
       "      <td>1B</td>\n",
       "      <td>(1, 1.0, 587)</td>\n",
       "    </tr>\n",
       "    <tr>\n",
       "      <th>13</th>\n",
       "      <td>1</td>\n",
       "      <td>2.0</td>\n",
       "      <td>None</td>\n",
       "      <td>False</td>\n",
       "      <td>False</td>\n",
       "      <td>588</td>\n",
       "      <td>1A</td>\n",
       "      <td>(1, 2.0, 588)</td>\n",
       "    </tr>\n",
       "    <tr>\n",
       "      <th>14</th>\n",
       "      <td>1</td>\n",
       "      <td>2.0</td>\n",
       "      <td>Closed</td>\n",
       "      <td>False</td>\n",
       "      <td>False</td>\n",
       "      <td>589</td>\n",
       "      <td>1B</td>\n",
       "      <td>(1, 2.0, 589)</td>\n",
       "    </tr>\n",
       "    <tr>\n",
       "      <th>15</th>\n",
       "      <td>1</td>\n",
       "      <td>3.0</td>\n",
       "      <td>None</td>\n",
       "      <td>False</td>\n",
       "      <td>False</td>\n",
       "      <td>590</td>\n",
       "      <td>1A</td>\n",
       "      <td>(1, 3.0, 590)</td>\n",
       "    </tr>\n",
       "    <tr>\n",
       "      <th>16</th>\n",
       "      <td>1</td>\n",
       "      <td>3.0</td>\n",
       "      <td>Closed</td>\n",
       "      <td>False</td>\n",
       "      <td>False</td>\n",
       "      <td>591</td>\n",
       "      <td>1B</td>\n",
       "      <td>(1, 3.0, 591)</td>\n",
       "    </tr>\n",
       "    <tr>\n",
       "      <th>28</th>\n",
       "      <td>1</td>\n",
       "      <td>3.5</td>\n",
       "      <td>None</td>\n",
       "      <td>True</td>\n",
       "      <td>False</td>\n",
       "      <td>618</td>\n",
       "      <td>1A</td>\n",
       "      <td>(1, 3.5, 618)</td>\n",
       "    </tr>\n",
       "    <tr>\n",
       "      <th>29</th>\n",
       "      <td>1</td>\n",
       "      <td>3.5</td>\n",
       "      <td>Closed</td>\n",
       "      <td>True</td>\n",
       "      <td>False</td>\n",
       "      <td>619</td>\n",
       "      <td>1B</td>\n",
       "      <td>(1, 3.5, 619)</td>\n",
       "    </tr>\n",
       "    <tr>\n",
       "      <th>17</th>\n",
       "      <td>1</td>\n",
       "      <td>4.0</td>\n",
       "      <td>None</td>\n",
       "      <td>False</td>\n",
       "      <td>False</td>\n",
       "      <td>592</td>\n",
       "      <td>1A</td>\n",
       "      <td>(1, 4.0, 592)</td>\n",
       "    </tr>\n",
       "    <tr>\n",
       "      <th>18</th>\n",
       "      <td>1</td>\n",
       "      <td>4.0</td>\n",
       "      <td>Closed</td>\n",
       "      <td>False</td>\n",
       "      <td>False</td>\n",
       "      <td>593</td>\n",
       "      <td>1B</td>\n",
       "      <td>(1, 4.0, 593)</td>\n",
       "    </tr>\n",
       "    <tr>\n",
       "      <th>24</th>\n",
       "      <td>1</td>\n",
       "      <td>4.5</td>\n",
       "      <td>Closed</td>\n",
       "      <td>True</td>\n",
       "      <td>True</td>\n",
       "      <td>599</td>\n",
       "      <td>1B</td>\n",
       "      <td>(1, 4.5, 599)</td>\n",
       "    </tr>\n",
       "    <tr>\n",
       "      <th>25</th>\n",
       "      <td>1</td>\n",
       "      <td>4.5</td>\n",
       "      <td>None</td>\n",
       "      <td>True</td>\n",
       "      <td>False</td>\n",
       "      <td>600</td>\n",
       "      <td>1A</td>\n",
       "      <td>(1, 4.5, 600)</td>\n",
       "    </tr>\n",
       "    <tr>\n",
       "      <th>19</th>\n",
       "      <td>1</td>\n",
       "      <td>5.0</td>\n",
       "      <td>None</td>\n",
       "      <td>False</td>\n",
       "      <td>False</td>\n",
       "      <td>594</td>\n",
       "      <td>1A</td>\n",
       "      <td>(1, 5.0, 594)</td>\n",
       "    </tr>\n",
       "    <tr>\n",
       "      <th>23</th>\n",
       "      <td>1</td>\n",
       "      <td>5.5</td>\n",
       "      <td>None</td>\n",
       "      <td>True</td>\n",
       "      <td>True</td>\n",
       "      <td>598</td>\n",
       "      <td>1A</td>\n",
       "      <td>(1, 5.5, 598)</td>\n",
       "    </tr>\n",
       "  </tbody>\n",
       "</table>\n",
       "</div>"
      ],
      "text/plain": [
       "    ROI  SliceIndex HoleType  Interpolated  Boundary  ContourIndex  \\\n",
       "22    1        -5.5     None          True      True           597   \n",
       "0     1        -5.0     None         False     False           575   \n",
       "20    1        -4.5   Closed          True      True           595   \n",
       "21    1        -4.5     None          True     False           596   \n",
       "1     1        -4.0     None         False     False           576   \n",
       "2     1        -4.0   Closed         False     False           577   \n",
       "26    1        -3.5     None          True     False           616   \n",
       "27    1        -3.5   Closed          True     False           617   \n",
       "3     1        -3.0     None         False     False           578   \n",
       "4     1        -3.0   Closed         False     False           579   \n",
       "5     1        -2.0     None         False     False           580   \n",
       "6     1        -2.0   Closed         False     False           581   \n",
       "7     1        -1.0     None         False     False           582   \n",
       "8     1        -1.0   Closed         False     False           583   \n",
       "9     1         0.0     None         False     False           584   \n",
       "10    1         0.0   Closed         False     False           585   \n",
       "11    1         1.0     None         False     False           586   \n",
       "12    1         1.0   Closed         False     False           587   \n",
       "13    1         2.0     None         False     False           588   \n",
       "14    1         2.0   Closed         False     False           589   \n",
       "15    1         3.0     None         False     False           590   \n",
       "16    1         3.0   Closed         False     False           591   \n",
       "28    1         3.5     None          True     False           618   \n",
       "29    1         3.5   Closed          True     False           619   \n",
       "17    1         4.0     None         False     False           592   \n",
       "18    1         4.0   Closed         False     False           593   \n",
       "24    1         4.5   Closed          True      True           599   \n",
       "25    1         4.5     None          True     False           600   \n",
       "19    1         5.0     None         False     False           594   \n",
       "23    1         5.5     None          True      True           598   \n",
       "\n",
       "   RegionIndex           Label  \n",
       "22          1A  (1, -5.5, 597)  \n",
       "0           1A  (1, -5.0, 575)  \n",
       "20          1B  (1, -4.5, 595)  \n",
       "21          1A  (1, -4.5, 596)  \n",
       "1           1A  (1, -4.0, 576)  \n",
       "2           1B  (1, -4.0, 577)  \n",
       "26          1A  (1, -3.5, 616)  \n",
       "27          1B  (1, -3.5, 617)  \n",
       "3           1A  (1, -3.0, 578)  \n",
       "4           1B  (1, -3.0, 579)  \n",
       "5           1A  (1, -2.0, 580)  \n",
       "6           1B  (1, -2.0, 581)  \n",
       "7           1A  (1, -1.0, 582)  \n",
       "8           1B  (1, -1.0, 583)  \n",
       "9           1A   (1, 0.0, 584)  \n",
       "10          1B   (1, 0.0, 585)  \n",
       "11          1A   (1, 1.0, 586)  \n",
       "12          1B   (1, 1.0, 587)  \n",
       "13          1A   (1, 2.0, 588)  \n",
       "14          1B   (1, 2.0, 589)  \n",
       "15          1A   (1, 3.0, 590)  \n",
       "16          1B   (1, 3.0, 591)  \n",
       "28          1A   (1, 3.5, 618)  \n",
       "29          1B   (1, 3.5, 619)  \n",
       "17          1A   (1, 4.0, 592)  \n",
       "18          1B   (1, 4.0, 593)  \n",
       "24          1B   (1, 4.5, 599)  \n",
       "25          1A   (1, 4.5, 600)  \n",
       "19          1A   (1, 5.0, 594)  \n",
       "23          1A   (1, 5.5, 598)  "
      ]
     },
     "execution_count": 48,
     "metadata": {},
     "output_type": "execute_result"
    }
   ],
   "source": [
    "structure_a.contour_lookup"
   ]
  },
  {
   "cell_type": "code",
   "execution_count": 49,
   "metadata": {},
   "outputs": [
    {
     "data": {
      "image/png": "[encoded data removed]",
      "text/plain": [
       "<Figure size 400x200 with 1 Axes>"
      ]
     },
     "metadata": {},
     "output_type": "display_data"
    }
   ],
   "source": [
    "poly_a = structure_a.get_slice(4.0)\n",
    "poly_b = structure_b.get_slice(4.0)\n",
    "ax = plot_ab(poly_a, poly_b)"
   ]
  },
  {
   "cell_type": "code",
   "execution_count": 51,
   "metadata": {},
   "outputs": [
    {
     "data": {
      "image/svg+xml": [
       "<svg xmlns=\"http://www.w3.org/2000/svg\" xmlns:xlink=\"http://www.w3.org/1999/xlink\" width=\"100.0\" height=\"100.0\" viewBox=\"-6.48 -6.48 12.96 12.96\" preserveAspectRatio=\"xMinYMin meet\"><g transform=\"matrix(1,0,0,-1,0,0.0)\"><path fill-rule=\"evenodd\" fill=\"#66cc99\" stroke=\"#555555\" stroke-width=\"0.25920000000000004\" opacity=\"0.6\" d=\"M 4.243,4.243 L 5.543,2.296 L 6.0,0.0 L 5.543,-2.296 L 4.243,-4.243 L 2.296,-5.543 L 0.0,-6.0 L -2.296,-5.543 L -4.243,-4.243 L -5.543,-2.296 L -6.0,0.0 L -5.543,2.296 L -4.243,4.243 L -2.296,5.543 L 0.0,6.0 L 2.296,5.543 L 4.243,4.243 z M -3.536,3.536 L -4.619,1.913 L -5.0,0.0 L -4.619,-1.913 L -3.536,-3.536 L -1.913,-4.619 L 0.0,-5.0 L 1.913,-4.619 L 3.536,-3.536 L 4.619,-1.913 L 5.0,0.0 L 4.619,1.913 L 3.536,3.536 L 1.913,4.619 L 0.0,5.0 L -1.913,4.619 L -3.536,3.536 z\" /></g></svg>"
      ],
      "text/plain": [
       "<POLYGON Z ((4.243 4.243 4, 5.543 2.296 4, 6 0 4, 5.543 -2.296 4, 4.243 -4.2...>"
      ]
     },
     "execution_count": 51,
     "metadata": {},
     "output_type": "execute_result"
    }
   ],
   "source": [
    "poly_a.merge_regions()"
   ]
  },
  {
   "cell_type": "markdown",
   "metadata": {},
   "source": [
    "# ERROR Missing Polygons\n",
    "- why is poly_a not showing in the plot?"
   ]
  },
  {
   "cell_type": "code",
   "execution_count": 20,
   "metadata": {},
   "outputs": [
    {
     "name": "stdout",
     "output_type": "stream",
     "text": [
      "Relationship: Unknown\n"
     ]
    }
   ],
   "source": [
    "relation_type = relation.identify_relation()\n",
    "print(relation_type)\n",
    "#assert relation_type == RelationshipType.SURROUNDS"
   ]
  },
  {
   "cell_type": "markdown",
   "metadata": {},
   "source": [
    "#### Horizontal Surrounded Cylinders\n",
    "- Concentric hollow cylinders with an interior cylinder ending inside the outer cylinder's hole by one slice\n",
    "\n",
    "![Horizontal Cylinders](<../../Images/FreeCAD Images/Horizontal Surrounded cylinders.png>)"
   ]
  },
  {
   "cell_type": "code",
   "execution_count": 21,
   "metadata": {},
   "outputs": [],
   "source": [
    "def surrounded_horizontal_cylinder_example():\n",
    "    slice_spacing = 1\n",
    "    # Body structure defines slices in use\n",
    "    body = make_vertical_cylinder(roi_num=0, radius=12, length=16, offset_z=0,\n",
    "                                  spacing=slice_spacing)\n",
    "    outer_cylinder = make_horizontal_cylinder(roi_num=1, radius=6, length=10,\n",
    "                                            spacing=slice_spacing)\n",
    "    cylinder_hole = make_horizontal_cylinder(roi_num=1, radius=5, length=8,\n",
    "                                           spacing=slice_spacing)\n",
    "    surrounded_cylinder = make_horizontal_cylinder(roi_num=2, radius=3, length=6,\n",
    "                                                 spacing=slice_spacing)\n",
    "\n",
    "    # combine the contours\n",
    "    slice_data = body + outer_cylinder + cylinder_hole + surrounded_cylinder\n",
    "    return slice_data\n"
   ]
  },
  {
   "cell_type": "code",
   "execution_count": 22,
   "metadata": {},
   "outputs": [],
   "source": [
    "slice_data = surrounded_horizontal_cylinder_example()\n",
    "structures = StructureSet(slice_data)\n",
    "structure_a = structures.structures[1]\n",
    "structure_b = structures.structures[2]\n"
   ]
  },
  {
   "cell_type": "code",
   "execution_count": 23,
   "metadata": {},
   "outputs": [],
   "source": [
    "relation = structure_a.relate(structure_b)"
   ]
  },
  {
   "cell_type": "code",
   "execution_count": 24,
   "metadata": {},
   "outputs": [
    {
     "data": {
      "image/png": "[encoded data removed]",
      "text/plain": [
       "<Figure size 400x200 with 1 Axes>"
      ]
     },
     "metadata": {},
     "output_type": "display_data"
    }
   ],
   "source": [
    "poly_a = structure_a.get_slice(3.5)\n",
    "poly_b = structure_b.get_slice(3.5)\n",
    "ax = plot_ab(poly_a, poly_b, add_axis=False)"
   ]
  },
  {
   "cell_type": "code",
   "execution_count": 25,
   "metadata": {},
   "outputs": [
    {
     "data": {
      "image/png": "[encoded data removed]",
      "text/plain": [
       "<Figure size 400x200 with 1 Axes>"
      ]
     },
     "metadata": {},
     "output_type": "display_data"
    }
   ],
   "source": [
    "poly_a = structure_a.get_slice(3.0)\n",
    "poly_b = structure_b.get_slice(3.0)\n",
    "ax = plot_ab(poly_a, poly_b, add_axis=False)"
   ]
  },
  {
   "cell_type": "code",
   "execution_count": 26,
   "metadata": {},
   "outputs": [
    {
     "data": {
      "image/png": "[encoded data removed]",
      "text/plain": [
       "<Figure size 400x200 with 1 Axes>"
      ]
     },
     "metadata": {},
     "output_type": "display_data"
    }
   ],
   "source": [
    "poly_a = structure_a.get_slice(0.0)\n",
    "poly_b = structure_b.get_slice(0.0)\n",
    "ax = plot_ab(poly_a, poly_b)"
   ]
  },
  {
   "cell_type": "code",
   "execution_count": 27,
   "metadata": {},
   "outputs": [
    {
     "data": {
      "text/html": [
       "<div>\n",
       "<style scoped>\n",
       "    .dataframe tbody tr th:only-of-type {\n",
       "        vertical-align: middle;\n",
       "    }\n",
       "\n",
       "    .dataframe tbody tr th {\n",
       "        vertical-align: top;\n",
       "    }\n",
       "\n",
       "    .dataframe thead th {\n",
       "        text-align: right;\n",
       "    }\n",
       "</style>\n",
       "<table border=\"1\" class=\"dataframe\">\n",
       "  <thead>\n",
       "    <tr style=\"text-align: right;\">\n",
       "      <th></th>\n",
       "      <th>ROI</th>\n",
       "      <th>SliceIndex</th>\n",
       "      <th>HoleType</th>\n",
       "      <th>Interpolated</th>\n",
       "      <th>Boundary</th>\n",
       "      <th>ContourIndex</th>\n",
       "      <th>RegionIndex</th>\n",
       "      <th>Label</th>\n",
       "    </tr>\n",
       "  </thead>\n",
       "  <tbody>\n",
       "    <tr>\n",
       "      <th>29</th>\n",
       "      <td>1</td>\n",
       "      <td>-6.5</td>\n",
       "      <td>None</td>\n",
       "      <td>True</td>\n",
       "      <td>True</td>\n",
       "      <td>472</td>\n",
       "      <td>1A</td>\n",
       "      <td>(1, -6.5, 472)</td>\n",
       "    </tr>\n",
       "    <tr>\n",
       "      <th>0</th>\n",
       "      <td>1</td>\n",
       "      <td>-6.0</td>\n",
       "      <td>None</td>\n",
       "      <td>False</td>\n",
       "      <td>False</td>\n",
       "      <td>443</td>\n",
       "      <td>1A</td>\n",
       "      <td>(1, -6.0, 443)</td>\n",
       "    </tr>\n",
       "    <tr>\n",
       "      <th>26</th>\n",
       "      <td>1</td>\n",
       "      <td>-5.5</td>\n",
       "      <td>Closed</td>\n",
       "      <td>True</td>\n",
       "      <td>True</td>\n",
       "      <td>469</td>\n",
       "      <td>1B</td>\n",
       "      <td>(1, -5.5, 469)</td>\n",
       "    </tr>\n",
       "    <tr>\n",
       "      <th>27</th>\n",
       "      <td>1</td>\n",
       "      <td>-5.5</td>\n",
       "      <td>None</td>\n",
       "      <td>True</td>\n",
       "      <td>False</td>\n",
       "      <td>470</td>\n",
       "      <td>1A</td>\n",
       "      <td>(1, -5.5, 470)</td>\n",
       "    </tr>\n",
       "    <tr>\n",
       "      <th>1</th>\n",
       "      <td>1</td>\n",
       "      <td>-5.0</td>\n",
       "      <td>None</td>\n",
       "      <td>False</td>\n",
       "      <td>False</td>\n",
       "      <td>444</td>\n",
       "      <td>1A</td>\n",
       "      <td>(1, -5.0, 444)</td>\n",
       "    </tr>\n",
       "    <tr>\n",
       "      <th>2</th>\n",
       "      <td>1</td>\n",
       "      <td>-5.0</td>\n",
       "      <td>Closed</td>\n",
       "      <td>False</td>\n",
       "      <td>False</td>\n",
       "      <td>445</td>\n",
       "      <td>1B</td>\n",
       "      <td>(1, -5.0, 445)</td>\n",
       "    </tr>\n",
       "    <tr>\n",
       "      <th>3</th>\n",
       "      <td>1</td>\n",
       "      <td>-4.0</td>\n",
       "      <td>None</td>\n",
       "      <td>False</td>\n",
       "      <td>False</td>\n",
       "      <td>446</td>\n",
       "      <td>1A</td>\n",
       "      <td>(1, -4.0, 446)</td>\n",
       "    </tr>\n",
       "    <tr>\n",
       "      <th>4</th>\n",
       "      <td>1</td>\n",
       "      <td>-4.0</td>\n",
       "      <td>Closed</td>\n",
       "      <td>False</td>\n",
       "      <td>False</td>\n",
       "      <td>447</td>\n",
       "      <td>1B</td>\n",
       "      <td>(1, -4.0, 447)</td>\n",
       "    </tr>\n",
       "    <tr>\n",
       "      <th>30</th>\n",
       "      <td>1</td>\n",
       "      <td>-3.5</td>\n",
       "      <td>None</td>\n",
       "      <td>True</td>\n",
       "      <td>False</td>\n",
       "      <td>488</td>\n",
       "      <td>1A</td>\n",
       "      <td>(1, -3.5, 488)</td>\n",
       "    </tr>\n",
       "    <tr>\n",
       "      <th>31</th>\n",
       "      <td>1</td>\n",
       "      <td>-3.5</td>\n",
       "      <td>Closed</td>\n",
       "      <td>True</td>\n",
       "      <td>False</td>\n",
       "      <td>489</td>\n",
       "      <td>1B</td>\n",
       "      <td>(1, -3.5, 489)</td>\n",
       "    </tr>\n",
       "    <tr>\n",
       "      <th>5</th>\n",
       "      <td>1</td>\n",
       "      <td>-3.0</td>\n",
       "      <td>None</td>\n",
       "      <td>False</td>\n",
       "      <td>False</td>\n",
       "      <td>448</td>\n",
       "      <td>1A</td>\n",
       "      <td>(1, -3.0, 448)</td>\n",
       "    </tr>\n",
       "    <tr>\n",
       "      <th>6</th>\n",
       "      <td>1</td>\n",
       "      <td>-3.0</td>\n",
       "      <td>Closed</td>\n",
       "      <td>False</td>\n",
       "      <td>False</td>\n",
       "      <td>449</td>\n",
       "      <td>1B</td>\n",
       "      <td>(1, -3.0, 449)</td>\n",
       "    </tr>\n",
       "    <tr>\n",
       "      <th>7</th>\n",
       "      <td>1</td>\n",
       "      <td>-2.0</td>\n",
       "      <td>None</td>\n",
       "      <td>False</td>\n",
       "      <td>False</td>\n",
       "      <td>450</td>\n",
       "      <td>1A</td>\n",
       "      <td>(1, -2.0, 450)</td>\n",
       "    </tr>\n",
       "    <tr>\n",
       "      <th>8</th>\n",
       "      <td>1</td>\n",
       "      <td>-2.0</td>\n",
       "      <td>Closed</td>\n",
       "      <td>False</td>\n",
       "      <td>False</td>\n",
       "      <td>451</td>\n",
       "      <td>1B</td>\n",
       "      <td>(1, -2.0, 451)</td>\n",
       "    </tr>\n",
       "    <tr>\n",
       "      <th>9</th>\n",
       "      <td>1</td>\n",
       "      <td>-1.0</td>\n",
       "      <td>None</td>\n",
       "      <td>False</td>\n",
       "      <td>False</td>\n",
       "      <td>452</td>\n",
       "      <td>1A</td>\n",
       "      <td>(1, -1.0, 452)</td>\n",
       "    </tr>\n",
       "    <tr>\n",
       "      <th>10</th>\n",
       "      <td>1</td>\n",
       "      <td>-1.0</td>\n",
       "      <td>Closed</td>\n",
       "      <td>False</td>\n",
       "      <td>False</td>\n",
       "      <td>453</td>\n",
       "      <td>1B</td>\n",
       "      <td>(1, -1.0, 453)</td>\n",
       "    </tr>\n",
       "    <tr>\n",
       "      <th>11</th>\n",
       "      <td>1</td>\n",
       "      <td>0.0</td>\n",
       "      <td>None</td>\n",
       "      <td>False</td>\n",
       "      <td>False</td>\n",
       "      <td>454</td>\n",
       "      <td>1A</td>\n",
       "      <td>(1, 0.0, 454)</td>\n",
       "    </tr>\n",
       "    <tr>\n",
       "      <th>12</th>\n",
       "      <td>1</td>\n",
       "      <td>0.0</td>\n",
       "      <td>Closed</td>\n",
       "      <td>False</td>\n",
       "      <td>False</td>\n",
       "      <td>455</td>\n",
       "      <td>1B</td>\n",
       "      <td>(1, 0.0, 455)</td>\n",
       "    </tr>\n",
       "    <tr>\n",
       "      <th>13</th>\n",
       "      <td>1</td>\n",
       "      <td>1.0</td>\n",
       "      <td>None</td>\n",
       "      <td>False</td>\n",
       "      <td>False</td>\n",
       "      <td>456</td>\n",
       "      <td>1A</td>\n",
       "      <td>(1, 1.0, 456)</td>\n",
       "    </tr>\n",
       "    <tr>\n",
       "      <th>14</th>\n",
       "      <td>1</td>\n",
       "      <td>1.0</td>\n",
       "      <td>Closed</td>\n",
       "      <td>False</td>\n",
       "      <td>False</td>\n",
       "      <td>457</td>\n",
       "      <td>1B</td>\n",
       "      <td>(1, 1.0, 457)</td>\n",
       "    </tr>\n",
       "    <tr>\n",
       "      <th>15</th>\n",
       "      <td>1</td>\n",
       "      <td>2.0</td>\n",
       "      <td>None</td>\n",
       "      <td>False</td>\n",
       "      <td>False</td>\n",
       "      <td>458</td>\n",
       "      <td>1A</td>\n",
       "      <td>(1, 2.0, 458)</td>\n",
       "    </tr>\n",
       "    <tr>\n",
       "      <th>16</th>\n",
       "      <td>1</td>\n",
       "      <td>2.0</td>\n",
       "      <td>Closed</td>\n",
       "      <td>False</td>\n",
       "      <td>False</td>\n",
       "      <td>459</td>\n",
       "      <td>1B</td>\n",
       "      <td>(1, 2.0, 459)</td>\n",
       "    </tr>\n",
       "    <tr>\n",
       "      <th>17</th>\n",
       "      <td>1</td>\n",
       "      <td>3.0</td>\n",
       "      <td>None</td>\n",
       "      <td>False</td>\n",
       "      <td>False</td>\n",
       "      <td>460</td>\n",
       "      <td>1A</td>\n",
       "      <td>(1, 3.0, 460)</td>\n",
       "    </tr>\n",
       "    <tr>\n",
       "      <th>18</th>\n",
       "      <td>1</td>\n",
       "      <td>3.0</td>\n",
       "      <td>Closed</td>\n",
       "      <td>False</td>\n",
       "      <td>False</td>\n",
       "      <td>461</td>\n",
       "      <td>1B</td>\n",
       "      <td>(1, 3.0, 461)</td>\n",
       "    </tr>\n",
       "    <tr>\n",
       "      <th>32</th>\n",
       "      <td>1</td>\n",
       "      <td>3.5</td>\n",
       "      <td>None</td>\n",
       "      <td>True</td>\n",
       "      <td>False</td>\n",
       "      <td>490</td>\n",
       "      <td>1A</td>\n",
       "      <td>(1, 3.5, 490)</td>\n",
       "    </tr>\n",
       "    <tr>\n",
       "      <th>33</th>\n",
       "      <td>1</td>\n",
       "      <td>3.5</td>\n",
       "      <td>Closed</td>\n",
       "      <td>True</td>\n",
       "      <td>False</td>\n",
       "      <td>491</td>\n",
       "      <td>1B</td>\n",
       "      <td>(1, 3.5, 491)</td>\n",
       "    </tr>\n",
       "    <tr>\n",
       "      <th>19</th>\n",
       "      <td>1</td>\n",
       "      <td>4.0</td>\n",
       "      <td>None</td>\n",
       "      <td>False</td>\n",
       "      <td>False</td>\n",
       "      <td>462</td>\n",
       "      <td>1A</td>\n",
       "      <td>(1, 4.0, 462)</td>\n",
       "    </tr>\n",
       "    <tr>\n",
       "      <th>20</th>\n",
       "      <td>1</td>\n",
       "      <td>4.0</td>\n",
       "      <td>Closed</td>\n",
       "      <td>False</td>\n",
       "      <td>False</td>\n",
       "      <td>463</td>\n",
       "      <td>1B</td>\n",
       "      <td>(1, 4.0, 463)</td>\n",
       "    </tr>\n",
       "    <tr>\n",
       "      <th>21</th>\n",
       "      <td>1</td>\n",
       "      <td>5.0</td>\n",
       "      <td>None</td>\n",
       "      <td>False</td>\n",
       "      <td>False</td>\n",
       "      <td>464</td>\n",
       "      <td>1A</td>\n",
       "      <td>(1, 5.0, 464)</td>\n",
       "    </tr>\n",
       "    <tr>\n",
       "      <th>22</th>\n",
       "      <td>1</td>\n",
       "      <td>5.0</td>\n",
       "      <td>Closed</td>\n",
       "      <td>False</td>\n",
       "      <td>False</td>\n",
       "      <td>465</td>\n",
       "      <td>1B</td>\n",
       "      <td>(1, 5.0, 465)</td>\n",
       "    </tr>\n",
       "    <tr>\n",
       "      <th>24</th>\n",
       "      <td>1</td>\n",
       "      <td>5.5</td>\n",
       "      <td>Closed</td>\n",
       "      <td>True</td>\n",
       "      <td>True</td>\n",
       "      <td>467</td>\n",
       "      <td>1B</td>\n",
       "      <td>(1, 5.5, 467)</td>\n",
       "    </tr>\n",
       "    <tr>\n",
       "      <th>25</th>\n",
       "      <td>1</td>\n",
       "      <td>5.5</td>\n",
       "      <td>None</td>\n",
       "      <td>True</td>\n",
       "      <td>False</td>\n",
       "      <td>468</td>\n",
       "      <td>1A</td>\n",
       "      <td>(1, 5.5, 468)</td>\n",
       "    </tr>\n",
       "    <tr>\n",
       "      <th>23</th>\n",
       "      <td>1</td>\n",
       "      <td>6.0</td>\n",
       "      <td>None</td>\n",
       "      <td>False</td>\n",
       "      <td>False</td>\n",
       "      <td>466</td>\n",
       "      <td>1A</td>\n",
       "      <td>(1, 6.0, 466)</td>\n",
       "    </tr>\n",
       "    <tr>\n",
       "      <th>28</th>\n",
       "      <td>1</td>\n",
       "      <td>6.5</td>\n",
       "      <td>None</td>\n",
       "      <td>True</td>\n",
       "      <td>True</td>\n",
       "      <td>471</td>\n",
       "      <td>1A</td>\n",
       "      <td>(1, 6.5, 471)</td>\n",
       "    </tr>\n",
       "  </tbody>\n",
       "</table>\n",
       "</div>"
      ],
      "text/plain": [
       "    ROI  SliceIndex HoleType  Interpolated  Boundary  ContourIndex  \\\n",
       "29    1        -6.5     None          True      True           472   \n",
       "0     1        -6.0     None         False     False           443   \n",
       "26    1        -5.5   Closed          True      True           469   \n",
       "27    1        -5.5     None          True     False           470   \n",
       "1     1        -5.0     None         False     False           444   \n",
       "2     1        -5.0   Closed         False     False           445   \n",
       "3     1        -4.0     None         False     False           446   \n",
       "4     1        -4.0   Closed         False     False           447   \n",
       "30    1        -3.5     None          True     False           488   \n",
       "31    1        -3.5   Closed          True     False           489   \n",
       "5     1        -3.0     None         False     False           448   \n",
       "6     1        -3.0   Closed         False     False           449   \n",
       "7     1        -2.0     None         False     False           450   \n",
       "8     1        -2.0   Closed         False     False           451   \n",
       "9     1        -1.0     None         False     False           452   \n",
       "10    1        -1.0   Closed         False     False           453   \n",
       "11    1         0.0     None         False     False           454   \n",
       "12    1         0.0   Closed         False     False           455   \n",
       "13    1         1.0     None         False     False           456   \n",
       "14    1         1.0   Closed         False     False           457   \n",
       "15    1         2.0     None         False     False           458   \n",
       "16    1         2.0   Closed         False     False           459   \n",
       "17    1         3.0     None         False     False           460   \n",
       "18    1         3.0   Closed         False     False           461   \n",
       "32    1         3.5     None          True     False           490   \n",
       "33    1         3.5   Closed          True     False           491   \n",
       "19    1         4.0     None         False     False           462   \n",
       "20    1         4.0   Closed         False     False           463   \n",
       "21    1         5.0     None         False     False           464   \n",
       "22    1         5.0   Closed         False     False           465   \n",
       "24    1         5.5   Closed          True      True           467   \n",
       "25    1         5.5     None          True     False           468   \n",
       "23    1         6.0     None         False     False           466   \n",
       "28    1         6.5     None          True      True           471   \n",
       "\n",
       "   RegionIndex           Label  \n",
       "29          1A  (1, -6.5, 472)  \n",
       "0           1A  (1, -6.0, 443)  \n",
       "26          1B  (1, -5.5, 469)  \n",
       "27          1A  (1, -5.5, 470)  \n",
       "1           1A  (1, -5.0, 444)  \n",
       "2           1B  (1, -5.0, 445)  \n",
       "3           1A  (1, -4.0, 446)  \n",
       "4           1B  (1, -4.0, 447)  \n",
       "30          1A  (1, -3.5, 488)  \n",
       "31          1B  (1, -3.5, 489)  \n",
       "5           1A  (1, -3.0, 448)  \n",
       "6           1B  (1, -3.0, 449)  \n",
       "7           1A  (1, -2.0, 450)  \n",
       "8           1B  (1, -2.0, 451)  \n",
       "9           1A  (1, -1.0, 452)  \n",
       "10          1B  (1, -1.0, 453)  \n",
       "11          1A   (1, 0.0, 454)  \n",
       "12          1B   (1, 0.0, 455)  \n",
       "13          1A   (1, 1.0, 456)  \n",
       "14          1B   (1, 1.0, 457)  \n",
       "15          1A   (1, 2.0, 458)  \n",
       "16          1B   (1, 2.0, 459)  \n",
       "17          1A   (1, 3.0, 460)  \n",
       "18          1B   (1, 3.0, 461)  \n",
       "32          1A   (1, 3.5, 490)  \n",
       "33          1B   (1, 3.5, 491)  \n",
       "19          1A   (1, 4.0, 462)  \n",
       "20          1B   (1, 4.0, 463)  \n",
       "21          1A   (1, 5.0, 464)  \n",
       "22          1B   (1, 5.0, 465)  \n",
       "24          1B   (1, 5.5, 467)  \n",
       "25          1A   (1, 5.5, 468)  \n",
       "23          1A   (1, 6.0, 466)  \n",
       "28          1A   (1, 6.5, 471)  "
      ]
     },
     "execution_count": 27,
     "metadata": {},
     "output_type": "execute_result"
    }
   ],
   "source": [
    "structure_a.contour_lookup"
   ]
  },
  {
   "cell_type": "code",
   "execution_count": 28,
   "metadata": {},
   "outputs": [
    {
     "ename": "KeyError",
     "evalue": "(1, -4.0, 154)",
     "output_type": "error",
     "traceback": [
      "\u001b[0;31m---------------------------------------------------------------------------\u001b[0m",
      "\u001b[0;31mKeyError\u001b[0m                                  Traceback (most recent call last)",
      "Cell \u001b[0;32mIn[28], line 1\u001b[0m\n\u001b[0;32m----> 1\u001b[0m structure_a\u001b[38;5;241m.\u001b[39mget_contour((\u001b[38;5;241m1\u001b[39m,\u001b[38;5;241m-\u001b[39m\u001b[38;5;241m4.0\u001b[39m,\u001b[38;5;241m154\u001b[39m))\u001b[38;5;241m.\u001b[39mpolygon \u001b[38;5;241m-\u001b[39m structure_a\u001b[38;5;241m.\u001b[39mget_contour((\u001b[38;5;241m1\u001b[39m,\u001b[38;5;241m-\u001b[39m\u001b[38;5;241m4.0\u001b[39m,\u001b[38;5;241m155\u001b[39m))\u001b[38;5;241m.\u001b[39mpolygon\n",
      "File \u001b[0;32m/workspaces/StructureRelations/src/structures.py:300\u001b[0m, in \u001b[0;36mStructureShape.get_contour\u001b[0;34m(self, label)\u001b[0m\n\u001b[1;32m    294\u001b[0m \u001b[38;5;28;01mdef\u001b[39;00m\u001b[38;5;250m \u001b[39m\u001b[38;5;21mget_contour\u001b[39m(\u001b[38;5;28mself\u001b[39m, label: ContourIndex) \u001b[38;5;241m-\u001b[39m\u001b[38;5;241m>\u001b[39m Contour:\n\u001b[1;32m    295\u001b[0m \u001b[38;5;250m    \u001b[39m\u001b[38;5;124;03m'''Retrieve the contour representation of the structure.\u001b[39;00m\n\u001b[1;32m    296\u001b[0m \n\u001b[1;32m    297\u001b[0m \u001b[38;5;124;03m    Returns:\u001b[39;00m\n\u001b[1;32m    298\u001b[0m \u001b[38;5;124;03m        Contour: The selected contour from the structure.\u001b[39;00m\n\u001b[1;32m    299\u001b[0m \u001b[38;5;124;03m    '''\u001b[39;00m\n\u001b[0;32m--> 300\u001b[0m     contour \u001b[38;5;241m=\u001b[39m \u001b[38;5;28mself\u001b[39m\u001b[38;5;241m.\u001b[39mcontour_graph\u001b[38;5;241m.\u001b[39mnodes(data\u001b[38;5;241m=\u001b[39m\u001b[38;5;28;01mTrue\u001b[39;00m)[label][\u001b[38;5;124m'\u001b[39m\u001b[38;5;124mcontour\u001b[39m\u001b[38;5;124m'\u001b[39m]\n\u001b[1;32m    301\u001b[0m     \u001b[38;5;28;01mreturn\u001b[39;00m contour\n",
      "File \u001b[0;32m/opt/conda/envs/StructureRelations/lib/python3.11/site-packages/networkx/classes/reportviews.py:364\u001b[0m, in \u001b[0;36mNodeDataView.__getitem__\u001b[0;34m(self, n)\u001b[0m\n\u001b[1;32m    359\u001b[0m \u001b[38;5;28;01mif\u001b[39;00m \u001b[38;5;28misinstance\u001b[39m(n, \u001b[38;5;28mslice\u001b[39m):\n\u001b[1;32m    360\u001b[0m     \u001b[38;5;28;01mraise\u001b[39;00m nx\u001b[38;5;241m.\u001b[39mNetworkXError(\n\u001b[1;32m    361\u001b[0m         \u001b[38;5;124mf\u001b[39m\u001b[38;5;124m\"\u001b[39m\u001b[38;5;132;01m{\u001b[39;00m\u001b[38;5;28mtype\u001b[39m(\u001b[38;5;28mself\u001b[39m)\u001b[38;5;241m.\u001b[39m\u001b[38;5;18m__name__\u001b[39m\u001b[38;5;132;01m}\u001b[39;00m\u001b[38;5;124m does not support slicing, \u001b[39m\u001b[38;5;124m\"\u001b[39m\n\u001b[1;32m    362\u001b[0m         \u001b[38;5;124mf\u001b[39m\u001b[38;5;124m\"\u001b[39m\u001b[38;5;124mtry list(G.nodes.data())[\u001b[39m\u001b[38;5;132;01m{\u001b[39;00mn\u001b[38;5;241m.\u001b[39mstart\u001b[38;5;132;01m}\u001b[39;00m\u001b[38;5;124m:\u001b[39m\u001b[38;5;132;01m{\u001b[39;00mn\u001b[38;5;241m.\u001b[39mstop\u001b[38;5;132;01m}\u001b[39;00m\u001b[38;5;124m:\u001b[39m\u001b[38;5;132;01m{\u001b[39;00mn\u001b[38;5;241m.\u001b[39mstep\u001b[38;5;132;01m}\u001b[39;00m\u001b[38;5;124m]\u001b[39m\u001b[38;5;124m\"\u001b[39m\n\u001b[1;32m    363\u001b[0m     )\n\u001b[0;32m--> 364\u001b[0m ddict \u001b[38;5;241m=\u001b[39m \u001b[38;5;28mself\u001b[39m\u001b[38;5;241m.\u001b[39m_nodes[n]\n\u001b[1;32m    365\u001b[0m data \u001b[38;5;241m=\u001b[39m \u001b[38;5;28mself\u001b[39m\u001b[38;5;241m.\u001b[39m_data\n\u001b[1;32m    366\u001b[0m \u001b[38;5;28;01mif\u001b[39;00m data \u001b[38;5;129;01mis\u001b[39;00m \u001b[38;5;28;01mFalse\u001b[39;00m \u001b[38;5;129;01mor\u001b[39;00m data \u001b[38;5;129;01mis\u001b[39;00m \u001b[38;5;28;01mTrue\u001b[39;00m:\n",
      "\u001b[0;31mKeyError\u001b[0m: (1, -4.0, 154)"
     ]
    }
   ],
   "source": [
    "structure_a.get_contour((1,-4.0,154)).polygon - structure_a.get_contour((1,-4.0,155)).polygon"
   ]
  },
  {
   "cell_type": "code",
   "execution_count": null,
   "metadata": {},
   "outputs": [],
   "source": [
    "poly_a = structure_a.get_slice(4)\n",
    "poly_b = structure_b.get_slice(4)\n",
    "ax = plot_ab(poly_a, poly_b, add_axis=False)"
   ]
  },
  {
   "cell_type": "code",
   "execution_count": null,
   "metadata": {},
   "outputs": [],
   "source": [
    "list(poly_a.regions.values())[0]"
   ]
  },
  {
   "cell_type": "code",
   "execution_count": null,
   "metadata": {},
   "outputs": [],
   "source": [
    "structure_b.contour_lookup"
   ]
  },
  {
   "cell_type": "code",
   "execution_count": null,
   "metadata": {},
   "outputs": [],
   "source": [
    "relation_type = relation.identify_relation()\n",
    "print(relation_type)\n",
    "#assert relation_type == RelationshipType.SURROUNDS"
   ]
  },
  {
   "cell_type": "markdown",
   "metadata": {},
   "source": [
    "#### Sphere in Shell\n",
    "- Hollow sphere with the second structure as an inner sphere.\n",
    "\n",
    "![Sphere in Shell](<../../Images/FreeCAD Images/Sphere in Shell.png>)"
   ]
  },
  {
   "cell_type": "code",
   "execution_count": null,
   "metadata": {},
   "outputs": [],
   "source": [
    "def sphere_in_shell_example():\n",
    "    slice_spacing = 1\n",
    "    # Body structure defines slices in use\n",
    "    body = make_vertical_cylinder(roi_num=0, radius=16, length=20, offset_z=0,\n",
    "                                  spacing=slice_spacing)\n",
    "    sphere12 = make_sphere(roi_num=1, radius=6, spacing=slice_spacing)\n",
    "    hole10 = make_sphere(roi_num=1, radius=5, spacing=slice_spacing)\n",
    "    sphere6 = make_sphere(roi_num=2, radius=3, spacing=slice_spacing)\n",
    "\n",
    "    # combine the contours\n",
    "    slice_data = body + sphere12 + hole10 + sphere6\n",
    "    return slice_data\n"
   ]
  },
  {
   "cell_type": "code",
   "execution_count": null,
   "metadata": {},
   "outputs": [],
   "source": [
    "slice_data = sphere_in_shell_example()\n",
    "structures = StructureSet(slice_data)\n",
    "structure_a = structures.structures[1]\n",
    "structure_b = structures.structures[2]\n",
    "relation = structure_a.relate(structure_b)\n",
    "relation_type = relation.identify_relation()\n",
    "print(relation_type)\n",
    "#assert relation_type == RelationshipType.SURROUNDS"
   ]
  },
  {
   "cell_type": "markdown",
   "metadata": {},
   "source": [
    "#### Sphere in Cylinder in Box\n",
    "![alt text](<../../Images/FreeCAD Images/Sphere in Cylinder in Box.png>)"
   ]
  },
  {
   "cell_type": "code",
   "execution_count": null,
   "metadata": {},
   "outputs": [],
   "source": [
    "def sphere_in_cylinders_in_box_example():\n",
    "    slice_spacing = 1\n",
    "    # Body structure defines slices in use\n",
    "    body = make_box(roi_num=0, width=20, offset_z=0,\n",
    "                                  spacing=slice_spacing)\n",
    "    # embedded boxes\n",
    "    cube6 = make_box(roi_num=1, width=10, length=10, height=10, spacing=slice_spacing)\n",
    "    left_cylinder = make_vertical_cylinder(roi_num=1, radius=2, length=8,\n",
    "                                           offset_x=-2.5, offset_z=0,\n",
    "                                           spacing=slice_spacing)\n",
    "    right_cylinder = make_vertical_cylinder(roi_num=1, radius=2, length=8,\n",
    "                                            offset_x=2.5, offset_z=0,\n",
    "                                            spacing=slice_spacing)\n",
    "    right_sphere = make_sphere(roi_num=2, radius=1,\n",
    "                               offset_x=2.5, offset_z=0,\n",
    "                               spacing=slice_spacing)\n",
    "    # combine the contours\n",
    "    slice_data = body + cube6 + left_cylinder + right_cylinder + right_sphere\n",
    "    return slice_data"
   ]
  },
  {
   "cell_type": "code",
   "execution_count": null,
   "metadata": {},
   "outputs": [],
   "source": [
    "slice_data = sphere_in_cylinders_in_box_example()\n",
    "structures = StructureSet(slice_data)\n",
    "structure_a = structures.structures[1]\n",
    "structure_b = structures.structures[2]\n",
    "relation = structure_a.relate(structure_b)\n",
    "relation_type = relation.identify_relation()\n",
    "print(relation_type)\n",
    "assert relation_type == RelationshipType.SURROUNDS"
   ]
  },
  {
   "cell_type": "markdown",
   "metadata": {},
   "source": [
    "## Shelters\n",
    "<link rel=\"stylesheet\" href=\"relations.css\">\n",
    "<table width=\"350px\">\n",
    "<tr class=\"l\"><th>Shelters</th><th>Transitive</t></tr>\n",
    "<td class=\"d\" colspan=\"2\">\n",
    "<span class=\"a\">a</span> and <span class=\"b\">b</span> have no points in common, but the Convex Hull of <span class=\"a\">a</span> contains <span class=\"b\">b</span>.\n",
    "</td></tr><tr><td colspan=\"2\">\n",
    "<img src=\"../../Images/Relationships/shelters.png\" alt=\"shelters\">\n",
    "</td></tr></table>\n",
    "\n",
    "- Surrounds geometry with hole opened to exterior\n"
   ]
  },
  {
   "cell_type": "markdown",
   "metadata": {},
   "source": [
    "# Error Recognizing Shelters\n",
    "- When a hole is opened to the exterior in the z direction, the 2D relations \n",
    "  thinks that it is surrounds.\n",
    "- When a slice contains two distinct contours for the same region, the hull test \n",
    " currently does not encompass both contours."
   ]
  },
  {
   "cell_type": "code",
   "execution_count": null,
   "metadata": {},
   "outputs": [],
   "source": [
    "def shelters_horizontal_cylinder_single_side_example():\n",
    "    slice_spacing = 1\n",
    "    # Body structure defines slices in use\n",
    "    body = make_vertical_cylinder(roi_num=0, radius=12, length=16, offset_z=0,\n",
    "                                  spacing=slice_spacing)\n",
    "    outer_cylinder = make_horizontal_cylinder(roi_num=1, radius=6, length=10,\n",
    "                                              spacing=slice_spacing)\n",
    "    cylinder_hole = make_horizontal_cylinder(roi_num=1, radius=4, length=8,\n",
    "                                             offset_x=1, offset_z=0,\n",
    "                                             spacing=slice_spacing)\n",
    "    surrounded_cylinder = make_horizontal_cylinder(roi_num=2, radius=3,\n",
    "                                                   length=6, offset_x=1,\n",
    "                                                   spacing=slice_spacing)\n",
    "\n",
    "    # combine the contours\n",
    "    slice_data = outer_cylinder + cylinder_hole + surrounded_cylinder\n",
    "    return slice_data\n"
   ]
  },
  {
   "cell_type": "code",
   "execution_count": null,
   "metadata": {},
   "outputs": [],
   "source": [
    "slice_data = shelters_horizontal_cylinder_single_side_example()\n",
    "structures = StructureSet(slice_data)\n",
    "structure_a = structures.structures[1]\n",
    "structure_b = structures.structures[2]\n",
    "relation = structure_a.relate(structure_b)\n",
    "relation_type = relation.identify_relation()\n",
    "print(relation_type)\n",
    "assert relation_type == RelationshipType.SURROUNDS"
   ]
  },
  {
   "cell_type": "markdown",
   "metadata": {},
   "source": [
    "#### Horizontal Sheltered Cylinder\n",
    "- Cylindrical shell with an interior cylinder ending inside the outer cylinder\n",
    "\n",
    "![Sheltered Horizontal cylinder](<../../Images/FreeCAD Images/Sheltered Horizontal cylinder.png>)"
   ]
  },
  {
   "cell_type": "code",
   "execution_count": null,
   "metadata": {},
   "outputs": [],
   "source": [
    "def shelters_horizontal_cylinder_example():\n",
    "    slice_spacing = 1\n",
    "    # Body structure defines slices in use\n",
    "    body = make_vertical_cylinder(roi_num=0, radius=12, length=16, offset_z=0,\n",
    "                                  spacing=slice_spacing)\n",
    "    outer_cylinder = make_horizontal_cylinder(roi_num=1, radius=6, length=10,\n",
    "                                            spacing=slice_spacing)\n",
    "    cylinder_hole = make_horizontal_cylinder(roi_num=1, radius=5, length=10,\n",
    "                                           spacing=slice_spacing)\n",
    "    surrounded_cylinder = make_horizontal_cylinder(roi_num=2, radius=3, length=6,\n",
    "                                                 spacing=slice_spacing)\n",
    "\n",
    "    # combine the contours\n",
    "    slice_data = outer_cylinder + cylinder_hole + surrounded_cylinder\n",
    "    return slice_data\n"
   ]
  },
  {
   "cell_type": "markdown",
   "metadata": {},
   "source": [
    "**Currently identified as _Disjoint_**"
   ]
  },
  {
   "cell_type": "code",
   "execution_count": null,
   "metadata": {},
   "outputs": [],
   "source": [
    "slice_data = shelters_horizontal_cylinder_example()\n",
    "structures = StructureSet(slice_data)\n",
    "structure_a = structures.structures[1]\n",
    "structure_b = structures.structures[2]\n",
    "relation = structure_a.relate(structure_b)\n",
    "relation_type = relation.identify_relation()\n",
    "print(relation_type)\n",
    "assert relation_type == RelationshipType.SURROUNDS"
   ]
  },
  {
   "cell_type": "markdown",
   "metadata": {},
   "source": [
    "#### Simple Sheltered Vertical Cylinder\n",
    "- Hollow cylindrical shell with an interior cylinder ending inside the shell\n",
    "\n",
    "![Sheltered cylinder](<../../Images/FreeCAD Images/Sheltered cylinder.png>)"
   ]
  },
  {
   "cell_type": "code",
   "execution_count": null,
   "metadata": {},
   "outputs": [],
   "source": [
    "def shelters_cylinder_example():\n",
    "    slice_spacing = 1\n",
    "    # Body structure defines slices in use\n",
    "    body = make_vertical_cylinder(roi_num=0, radius=12, length=16, offset_z=0,\n",
    "                                  spacing=slice_spacing)\n",
    "    outer_cylinder = make_vertical_cylinder(roi_num=1, radius=6, length=10,\n",
    "                                            spacing=slice_spacing)\n",
    "    cylinder_hole = make_vertical_cylinder(roi_num=1, radius=5, length=10,\n",
    "                                           spacing=slice_spacing)\n",
    "    surrounded_cylinder = make_vertical_cylinder(roi_num=2, radius=3, length=6,\n",
    "                                                 spacing=slice_spacing)\n",
    "\n",
    "    # combine the contours\n",
    "    slice_data = body + outer_cylinder + cylinder_hole + surrounded_cylinder\n",
    "    return slice_data\n"
   ]
  },
  {
   "cell_type": "markdown",
   "metadata": {},
   "source": [
    "**Currently identified as _Surrounds_**"
   ]
  },
  {
   "cell_type": "code",
   "execution_count": null,
   "metadata": {},
   "outputs": [],
   "source": [
    "slice_data = shelters_cylinder_example()\n",
    "structures = StructureSet(slice_data)\n",
    "structure_a = structures.structures[1]\n",
    "structure_b = structures.structures[2]\n",
    "relation = structure_a.relate(structure_b)\n",
    "relation_type = relation.identify_relation()\n",
    "print(relation_type)\n",
    "assert relation_type == RelationshipType.SURROUNDS"
   ]
  },
  {
   "cell_type": "markdown",
   "metadata": {},
   "source": [
    "#### Sphere in Cylinder in Box\n",
    "![alt text](<../../Images/FreeCAD Images/Sphere in Cylinder in Box.png>)"
   ]
  },
  {
   "cell_type": "code",
   "execution_count": null,
   "metadata": {},
   "outputs": [],
   "source": [
    "def sphere_in_cylinders_in_box_example():\n",
    "    slice_spacing = 1\n",
    "    # Body structure defines slices in use\n",
    "    body = make_box(roi_num=0, width=12, offset_z=0,\n",
    "                                  spacing=slice_spacing)\n",
    "    # embedded boxes\n",
    "    cube6 = make_box(roi_num=1, width=10, length=10, height=8, spacing=slice_spacing)\n",
    "    left_cylinder = make_vertical_cylinder(roi_num=1, radius=2, length=8,\n",
    "                                           offset_x=-2.5, offset_z=0,\n",
    "                                           spacing=slice_spacing)\n",
    "    right_cylinder = make_vertical_cylinder(roi_num=1, radius=2, length=8,\n",
    "                                            offset_x=2.5, offset_z=0,\n",
    "                                            spacing=slice_spacing)\n",
    "    right_sphere = make_sphere(roi_num=2, radius=1,\n",
    "                               offset_x=2.5, offset_z=0,\n",
    "                               spacing=slice_spacing)\n",
    "    # combine the contours\n",
    "    slice_data = body + cube6 + left_cylinder + right_cylinder + right_sphere\n",
    "    return slice_data"
   ]
  },
  {
   "cell_type": "markdown",
   "metadata": {},
   "source": [
    "**Currently identified as _Surrounds_**"
   ]
  },
  {
   "cell_type": "code",
   "execution_count": null,
   "metadata": {},
   "outputs": [],
   "source": [
    "slice_data = sphere_in_cylinders_in_box_example()\n",
    "structures = StructureSet(slice_data)\n",
    "structure_a = structures.structures[1]\n",
    "structure_b = structures.structures[2]\n",
    "relation = structure_a.relate(structure_b)\n",
    "relation_type = relation.identify_relation()\n",
    "print(relation_type)\n",
    "assert relation_type == RelationshipType.SURROUNDS"
   ]
  },
  {
   "cell_type": "markdown",
   "metadata": {},
   "source": [
    "# Done To Here\n",
    "- changing slice_data to a list instead of a DataFrame\n",
    "- returning slice_data instead of slice_table"
   ]
  },
  {
   "cell_type": "markdown",
   "metadata": {},
   "source": [
    "## Disjoint"
   ]
  },
  {
   "cell_type": "markdown",
   "metadata": {},
   "source": [
    "<link rel=\"stylesheet\" href=\"relations.css\">\n",
    "<table width=\"350px\">\n",
    "<tr class=\"l\"><th>Disjoint</th><th>Symmetric</th></tr>\n",
    "<td class=\"d\" colspan=\"2\">The Convex Hull of \n",
    "<span class=\"a\">a</span> has no points in common wuth <span class=\"b\">b</span>.</td></tr>\n",
    "<tr><td colspan=\"2\">\n",
    "<img src=\"../../Images/Relationships/disjoint.png\" alt=\"Disjoint\" style=\"width: 200px\">\n",
    "</td></tr></table>"
   ]
  },
  {
   "cell_type": "markdown",
   "metadata": {},
   "source": [
    "#### Disjoint Boxes\n",
    "![Disjoint Boxes](<../../Images/FreeCAD Images/Disjoint Boxes.png>)"
   ]
  },
  {
   "cell_type": "code",
   "execution_count": null,
   "metadata": {},
   "outputs": [],
   "source": [
    "def disjoint_boxes_example():\n",
    "    slice_spacing = 0.1\n",
    "    # Body structure defines slices in use\n",
    "    body = make_vertical_cylinder(roi_num=0, radius=20, length=20, offset_z=0,\n",
    "                                  spacing=slice_spacing)\n",
    "    # embedded boxes\n",
    "    left_cube = make_box(roi_num=1, width=2, offset_x=-3,\n",
    "                         spacing=slice_spacing)\n",
    "    right_cube = make_box(roi_num=2, width=2, offset_x=3,\n",
    "                         spacing=slice_spacing)\n",
    "    # combine the contours\n",
    "    slice_data = left_cube + right_cube + body\n",
    "    return slice_data"
   ]
  },
  {
   "cell_type": "code",
   "execution_count": null,
   "metadata": {},
   "outputs": [],
   "source": [
    "slice_data = disjoint_boxes_example()\n",
    "structures = StructureSet(slice_data)\n",
    "structure_a = structures.structures[1]\n",
    "structure_b = structures.structures[2]\n",
    "relation = structure_a.relate(structure_b)\n",
    "relation_type = relation.identify_relation()\n",
    "print(relation_type)\n",
    "assert relation_type == RelationshipType.DISJOINT"
   ]
  },
  {
   "cell_type": "markdown",
   "metadata": {},
   "source": [
    "#### Extended Inner Cylinder\n",
    "- Concentric hollow cylinder with an interior cylinder extending beyond the outer cylinder's hole by one slice\n",
    "\n",
    "![Extended Inner Cylinder](<../../Images/FreeCAD Images/Extended Inner cylinder.png>)"
   ]
  },
  {
   "cell_type": "code",
   "execution_count": null,
   "metadata": {},
   "outputs": [],
   "source": [
    "def extended_inner_cylinder_example():\n",
    "    slice_spacing = 1\n",
    "    # Body structure defines slices in use\n",
    "    body = make_vertical_cylinder(roi_num=0, radius=12, length=16, offset_z=0,\n",
    "                                  spacing=slice_spacing)\n",
    "    outer_cylinder = make_vertical_cylinder(roi_num=1, radius=6, length=10,\n",
    "                                            spacing=slice_spacing)\n",
    "    cylinder_hole = make_vertical_cylinder(roi_num=1, radius=5, length=10,\n",
    "                                           spacing=slice_spacing)\n",
    "    inner_cylinder = make_vertical_cylinder(roi_num=2, radius=3, length=12,\n",
    "                                                 spacing=slice_spacing)\n",
    "\n",
    "    # combine the contours\n",
    "    slice_data = body + outer_cylinder + cylinder_hole + inner_cylinder\n",
    "    return slice_data\n"
   ]
  },
  {
   "cell_type": "code",
   "execution_count": null,
   "metadata": {},
   "outputs": [],
   "source": [
    "slice_data = extended_inner_cylinder_example()\n",
    "structures = StructureSet(slice_data)\n",
    "structure_a = structures.structures[1]\n",
    "structure_b = structures.structures[2]\n",
    "\n",
    "poly_a = structure_a.get_slice(5.5)\n",
    "poly_b = structure_b.get_slice(5.5)\n",
    "plot_ab(poly_a, poly_b)\n",
    "structure_a.relate(structure_b)"
   ]
  },
  {
   "cell_type": "code",
   "execution_count": null,
   "metadata": {},
   "outputs": [],
   "source": [
    "poly_a = structure_a.get_slice(0)\n",
    "poly_b = structure_b.get_slice(0)\n",
    "plot_ab(poly_a, poly_b)"
   ]
  },
  {
   "cell_type": "code",
   "execution_count": null,
   "metadata": {},
   "outputs": [],
   "source": [
    "structure_a.contour_lookup"
   ]
  },
  {
   "cell_type": "code",
   "execution_count": null,
   "metadata": {},
   "outputs": [],
   "source": [
    "structure_a.get_contour((1,-5.5,43)).polygon - structure_a.get_contour((1,-5.5,44)).polygon"
   ]
  },
  {
   "cell_type": "code",
   "execution_count": null,
   "metadata": {},
   "outputs": [],
   "source": [
    "structure_a.get_contour((1,-5.0,19)).polygon.bounds"
   ]
  },
  {
   "cell_type": "code",
   "execution_count": null,
   "metadata": {},
   "outputs": [],
   "source": [
    "structure_a.get_contour((1,-5.5,43)).polygon.bounds"
   ]
  },
  {
   "cell_type": "markdown",
   "metadata": {},
   "source": [
    "## Results from individual slices\n",
    "```\n",
    "Slice Index: -6.0 Relationship: Disjoint \n",
    "|000|\t|000|\t|000|\n",
    "|000|\t|000|\t|000|\n",
    "|111|\t|111|\t|111|\n",
    "\n",
    "Slice Index: -5.5 Relationship: **Unknown** \n",
    "|000|\t|000|\t|000|\n",
    "|111|\t|000|\t|000|\n",
    "|111|\t|000|\t|000|\n",
    "\n",
    "Slice Index: -5.0 Relationship: Shelters \n",
    "|001|\t|001|\t|111|\n",
    "|001|\t|001|\t|001|\n",
    "|111|\t|111|\t|001|\n",
    "\n",
    "...\n",
    "\n",
    "Slice Index: 5.0 Relationship: Shelters \n",
    "|001|\t|001|\t|111|\n",
    "|001|\t|001|\t|001|\n",
    "|111|\t|111|\t|001|\n",
    "\n",
    "Slice Index: 5.5 Relationship: **Unknown** \n",
    "|000|\t|000|\t|000|\n",
    "|111|\t|000|\t|000|\n",
    "|111|\t|000|\t|000|\n",
    "\n",
    "Slice Index: 6.0 Relationship: Disjoint \n",
    "|000|\t|000|\t|000|\n",
    "|000|\t|000|\t|000|\n",
    "|111|\t|111|\t|111|\n",
    "\n",
    "```"
   ]
  },
  {
   "cell_type": "code",
   "execution_count": null,
   "metadata": {},
   "outputs": [],
   "source": [
    "relation = structure_a.relate(structure_b)\n",
    "print(relation.identify_relation())"
   ]
  },
  {
   "cell_type": "code",
   "execution_count": null,
   "metadata": {},
   "outputs": [],
   "source": [
    "r = DE27IM(structure_a,structure_b,slice_index=0)\n",
    "print(r.identify_relation())"
   ]
  },
  {
   "cell_type": "code",
   "execution_count": null,
   "metadata": {},
   "outputs": [],
   "source": [
    "def relation_example(structure_a,structure_b, slice_index):\n",
    "    poly_a = structure_a.get_contour(slice_index)\n",
    "    poly_b = structure_b.get_contour(slice_index)\n",
    "\n",
    "    r = DE27IM(poly_a, poly_b)\n",
    "    print('Relation Binary', r)\n",
    "    print('Relationship', r.identify_relation())\n",
    "    plot_ab(poly_a.contour, poly_b.contour)"
   ]
  },
  {
   "cell_type": "code",
   "execution_count": null,
   "metadata": {},
   "outputs": [],
   "source": [
    "relation_example(structure_a, structure_b,slice_index=0)"
   ]
  },
  {
   "cell_type": "code",
   "execution_count": null,
   "metadata": {},
   "outputs": [],
   "source": [
    "structure_a"
   ]
  },
  {
   "cell_type": "code",
   "execution_count": null,
   "metadata": {},
   "outputs": [],
   "source": [
    "relation = structure_a.relate(structure_b)\n",
    "relation_type = relation.identify_relation()\n",
    "print(relation_type)\n",
    "assert relation_type == RelationshipType.DISJOINT"
   ]
  },
  {
   "cell_type": "code",
   "execution_count": null,
   "metadata": {},
   "outputs": [],
   "source": [
    "slice_data = extended_inner_cylinder_example()\n",
    "structures = StructureSet(slice_data)\n",
    "structure_a = structures.structures[1]\n",
    "structure_b = structures.structures[2]\n",
    "relation = structure_a.relate(structure_b)\n",
    "relation_type = relation.identify_relation()\n",
    "print(relation_type)\n",
    "assert relation_type == RelationshipType.DISJOINT"
   ]
  },
  {
   "cell_type": "code",
   "execution_count": null,
   "metadata": {},
   "outputs": [],
   "source": [
    "slice_table = extended_inner_cylinder_example()\n",
    "regions = generate_region_graph(slice_table)\n",
    "selected_roi = [1, 2]\n",
    "relation = find_relations(slice_table, regions, selected_roi)\n",
    "relation_type = relation.identify_relation()\n",
    "print(relation_type)\n",
    "assert relation_type == RelationshipType.DISJOINT"
   ]
  },
  {
   "cell_type": "markdown",
   "metadata": {},
   "source": [
    "#### Horizontal Disjoint Cylinders\n",
    "- Same as above but with horizontal cylinders\n",
    "- Cylindrical shell with an interior cylinder ending outside the larger \n",
    "    diameter cylinder\n",
    "- The relationship is **Disjoint** because the Second cylinder extends beyond \n",
    "    the horizontal bounds of the First Structure, but doe not intersect the \n",
    "    First Structure."
   ]
  },
  {
   "cell_type": "code",
   "execution_count": null,
   "metadata": {},
   "outputs": [],
   "source": [
    "def disjoint_horizontal_cylinder_example():\n",
    "    slice_spacing = 1\n",
    "    # Body structure defines slices in use\n",
    "    body = make_vertical_cylinder(roi_num=0, radius=12, length=16, offset_z=0,\n",
    "                                  spacing=slice_spacing)\n",
    "    outer_cylinder = make_horizontal_cylinder(roi_num=1, radius=6, length=10,\n",
    "                                              spacing=slice_spacing)\n",
    "    cylinder_hole = make_horizontal_cylinder(roi_num=1, radius=5, length=10,\n",
    "                                             spacing=slice_spacing)\n",
    "    surrounded_cylinder = make_horizontal_cylinder(roi_num=2, radius=3,\n",
    "                                                   length=12,\n",
    "                                                   spacing=slice_spacing)\n",
    "\n",
    "    # combine the contours\n",
    "    slice_data = pd.concat([outer_cylinder, cylinder_hole,\n",
    "                            surrounded_cylinder])\n",
    "    # convert contour slice data into a table of slices and structures\n",
    "    slice_table = make_slice_table(slice_data, ignore_errors=True)\n",
    "    return slice_table\n"
   ]
  },
  {
   "cell_type": "code",
   "execution_count": null,
   "metadata": {},
   "outputs": [],
   "source": [
    "slice_table = disjoint_horizontal_cylinder_example()\n",
    "regions = generate_region_graph(slice_table)\n",
    "selected_roi = [1, 2]\n",
    "relation = find_relations(slice_table, regions, selected_roi)\n",
    "relation_type = relation.identify_relation()\n",
    "print(relation_type)\n",
    "assert relation_type == RelationshipType.DISJOINT"
   ]
  },
  {
   "cell_type": "markdown",
   "metadata": {},
   "source": [
    "#### Disjoint Parallel Cylinders\n",
    "- Concentric hollow cylinder surrounding one of two smaller cylinders\n",
    "- Second cylinder is parallel, but **Disjoint**.\n",
    "- The relationship is **Disjoint** because the Second cylinder is outside of the First Structure, but doe not intersect the First Structure.\n",
    "\n",
    "![Disjoint Parallel Cylinders](<../../Images/FreeCAD Images/Disjoint Parallel Cylinders.png>)"
   ]
  },
  {
   "cell_type": "code",
   "execution_count": null,
   "metadata": {},
   "outputs": [],
   "source": [
    "def parallel_disjoint_cylinder_example():\n",
    "    slice_spacing = 1\n",
    "    # Body structure defines slices in use\n",
    "    body = make_vertical_cylinder(roi_num=0, radius=25, length=16, offset_z=0,\n",
    "                                  spacing=slice_spacing)\n",
    "    outer_cylinder = make_vertical_cylinder(roi_num=1, radius=6, length=10,\n",
    "                                            spacing=slice_spacing)\n",
    "    cylinder_hole = make_vertical_cylinder(roi_num=1, radius=5, length=8,\n",
    "                                           spacing=slice_spacing)\n",
    "    inner_cylinder = make_vertical_cylinder(roi_num=2, radius=3, length=6,\n",
    "                                                 spacing=slice_spacing)\n",
    "\n",
    "    disjoint_cylinder = make_vertical_cylinder(roi_num=2, radius=3, length=6,\n",
    "                                                 offset_x=10, spacing=slice_spacing)\n",
    "\n",
    "    # combine the contours\n",
    "    slice_data = pd.concat([body, outer_cylinder, cylinder_hole,\n",
    "                            inner_cylinder, disjoint_cylinder])\n",
    "    # convert contour slice data into a table of slices and structures\n",
    "    slice_table = make_slice_table(slice_data, ignore_errors=True)\n",
    "    return slice_table\n"
   ]
  },
  {
   "cell_type": "code",
   "execution_count": null,
   "metadata": {},
   "outputs": [],
   "source": [
    "slice_table = parallel_disjoint_cylinder_example()\n",
    "regions = generate_region_graph(slice_table)\n",
    "selected_roi = [1, 2]\n",
    "relation = find_relations(slice_table, regions, selected_roi)\n",
    "relation_type = relation.identify_relation()\n",
    "print(relation_type)\n",
    "assert relation_type == RelationshipType.DISJOINT"
   ]
  },
  {
   "cell_type": "markdown",
   "metadata": {},
   "source": [
    "#### Disjoint Axial Cylinders\n",
    "- Concentric hollow cylinder surrounding one of two smaller cylinders\n",
    "- Second cylinder is on the same axis as the first, but above, making it **Disjoint**.\n",
    "- The relationship is **Disjoint** because the Second cylinder is outside of the First Structure.\n",
    "\n",
    "![Disjoint Parallel Cylinders](<../../Images/FreeCAD Images/Disjoint Axial Cylinders.png>)"
   ]
  },
  {
   "cell_type": "code",
   "execution_count": null,
   "metadata": {},
   "outputs": [],
   "source": [
    "def axial_disjoint_cylinder_example():\n",
    "    slice_spacing = 1\n",
    "    # Body structure defines slices in use\n",
    "    body = make_vertical_cylinder(roi_num=0, radius=10, length=30, offset_z=0,\n",
    "                                  spacing=slice_spacing)\n",
    "    outer_cylinder = make_vertical_cylinder(roi_num=1, radius=6, length=10,\n",
    "                                            spacing=slice_spacing)\n",
    "    cylinder_hole = make_vertical_cylinder(roi_num=1, radius=5, length=8,\n",
    "                                           spacing=slice_spacing)\n",
    "    inner_cylinder = make_vertical_cylinder(roi_num=2, radius=3, length=6,\n",
    "                                                 spacing=slice_spacing)\n",
    "\n",
    "    disjoint_cylinder = make_vertical_cylinder(roi_num=2, radius=3, length=6,\n",
    "                                                 offset_z=12, spacing=slice_spacing)\n",
    "\n",
    "    # combine the contours\n",
    "    slice_data = pd.concat([body, outer_cylinder, cylinder_hole,\n",
    "                            inner_cylinder, disjoint_cylinder])\n",
    "    # convert contour slice data into a table of slices and structures\n",
    "    slice_table = make_slice_table(slice_data, ignore_errors=True)\n",
    "    return slice_table\n"
   ]
  },
  {
   "cell_type": "code",
   "execution_count": null,
   "metadata": {},
   "outputs": [],
   "source": [
    "slice_table = extended_inner_cylinder_example()\n",
    "regions = generate_region_graph(slice_table)\n",
    "selected_roi = [1, 2]\n",
    "relation = find_relations(slice_table, regions, selected_roi)\n",
    "relation_type = relation.identify_relation()\n",
    "print(relation_type)\n",
    "assert relation_type == RelationshipType.DISJOINT"
   ]
  },
  {
   "cell_type": "markdown",
   "metadata": {},
   "source": [
    "#### Disjoint Concentric Cylinders\n",
    "- Centred vertical cylinder with two cylinders on the same axis, above and \n",
    "below the primary cylinder.\n",
    "\n",
    "![Disjoint Concentric Cylinders](<../../Images/FreeCAD Images/Disjoint Concentric Cylinders.png>)\n"
   ]
  },
  {
   "cell_type": "code",
   "execution_count": null,
   "metadata": {},
   "outputs": [],
   "source": [
    "def disjoint_concentric_cylinders_example():\n",
    "    slice_spacing = 1\n",
    "    # Body structure defines slices in use\n",
    "    body = make_vertical_cylinder(roi_num=0, radius=12, length=10,\n",
    "                                  spacing=slice_spacing)\n",
    "    # Centred cylinder\n",
    "    primary_cylinder = make_vertical_cylinder(roi_num=1, radius=3, length=8,\n",
    "                                              offset_z=0,\n",
    "                                              spacing=slice_spacing)\n",
    "    # cylinder 2 slices above primary cylinder\n",
    "    upper_cylinder1 = make_vertical_cylinder(roi_num=2, radius=1, length=2,\n",
    "                                             offset_z=7,\n",
    "                                             spacing=slice_spacing)\n",
    "    # cylinder 2 slices below primary cylinder\n",
    "    lower_cylinder2 = make_vertical_cylinder(roi_num=2, radius=1, length=2,\n",
    "                                             offset_z=-7,\n",
    "                                             spacing=slice_spacing)\n",
    "    # combine the contours\n",
    "    slice_data = pd.concat([body, primary_cylinder, upper_cylinder1,\n",
    "                            lower_cylinder2])\n",
    "    # convert contour slice data into a table of slices and structures\n",
    "    slice_table = make_slice_table(slice_data, ignore_errors=True)\n",
    "    return slice_table\n"
   ]
  },
  {
   "cell_type": "code",
   "execution_count": null,
   "metadata": {},
   "outputs": [],
   "source": [
    "slice_table = disjoint_concentric_cylinders_example()\n",
    "regions = generate_region_graph(slice_table)\n",
    "selected_roi = [1, 2]\n",
    "relation = find_relations(slice_table, regions, selected_roi)\n",
    "relation_type = relation.identify_relation()\n",
    "print(relation_type)\n",
    "assert relation_type == RelationshipType.DISJOINT"
   ]
  },
  {
   "cell_type": "markdown",
   "metadata": {},
   "source": [
    "## Borders"
   ]
  },
  {
   "cell_type": "markdown",
   "metadata": {},
   "source": [
    "<link rel=\"stylesheet\" href=\"relations.css\">\n",
    "<table width=\"400px\">\n",
    "<tr class=\"l\"><th>Borders</th><th>Symmetric</th></tr>\n",
    "<td class=\"d\" colspan=\"2\">The exterior boundaries of \n",
    "<span class=\"a\">a</span> and <span class=\"b\">b</span> \n",
    "have more than one point in common, but their interiors do not intersect.\n",
    "</td></tr>\n",
    "<tr><td colspan=\"2\">\n",
    "<img src=\"../../Images/Relationships/borders.png\" alt=\"Borders\">\n",
    "<img src=\"../../Images/Relationships/Concave Borders.png\" alt=\"Concave Borders\">\n",
    "</td></tr></table>"
   ]
  },
  {
   "cell_type": "markdown",
   "metadata": {},
   "source": [
    "#### Bordering Concentric Cylinders\n",
    "- Centred vertical cylinder with two cylinders on the same axis, above and \n",
    "below the primary cylinder.\n",
    "\n",
    "![Bordering Concentric Cylinders](<../../Images/FreeCAD Images/Bordering  Concentric Cylinders.png>)"
   ]
  },
  {
   "cell_type": "code",
   "execution_count": null,
   "metadata": {},
   "outputs": [],
   "source": [
    "def bordering_concentric_cylinders_example():\n",
    "    slice_spacing = 1\n",
    "    # Body structure defines slices in use\n",
    "    body = make_vertical_cylinder(roi_num=0, radius=12, length=10,\n",
    "                                  spacing=slice_spacing)\n",
    "    # Centred cylinder with two embedded cylinders\n",
    "    primary_cylinder = make_vertical_cylinder(roi_num=1, radius=3, length=8,\n",
    "                                              offset_z=0,\n",
    "                                              spacing=slice_spacing)\n",
    "    # cylinder bordering primary cylinder\n",
    "    bordering_cylinder1 = make_vertical_cylinder(roi_num=2, radius=1, length=2,\n",
    "                                             offset_z=6,\n",
    "                                             spacing=slice_spacing)\n",
    "    # cylinder bordering primary cylinder\n",
    "    bordering_cylinder2 = make_vertical_cylinder(roi_num=2, radius=1, length=2,\n",
    "                                             offset_z=-6,\n",
    "                                             spacing=slice_spacing)\n",
    "    # combine the contours\n",
    "    slice_data = pd.concat([body, primary_cylinder, bordering_cylinder1,\n",
    "                            bordering_cylinder2])\n",
    "    # convert contour slice data into a table of slices and structures\n",
    "    slice_table = make_slice_table(slice_data, ignore_errors=True)\n",
    "    return slice_table\n"
   ]
  },
  {
   "cell_type": "code",
   "execution_count": null,
   "metadata": {},
   "outputs": [],
   "source": [
    "slice_table = bordering_concentric_cylinders_example()\n",
    "regions = generate_region_graph(slice_table)\n",
    "selected_roi = [1, 2]\n",
    "relation = find_relations(slice_table, regions, selected_roi)\n",
    "relation_type = relation.identify_relation()\n",
    "print(relation_type)\n",
    "assert relation_type == RelationshipType.BORDERS"
   ]
  },
  {
   "cell_type": "markdown",
   "metadata": {},
   "source": [
    "#### Bordering Lateral Boxes\n",
    "- Cubes with 'x' faces touching.\n",
    "\n",
    "![Bordering Lateral Boxes](<../../Images/FreeCAD Images/Bordering Boxes.png>)\n"
   ]
  },
  {
   "cell_type": "code",
   "execution_count": null,
   "metadata": {},
   "outputs": [],
   "source": [
    "def lateral_borders_boxes_example():\n",
    "    slice_spacing = 0.1\n",
    "    # Body structure defines slices in use\n",
    "    body = make_vertical_cylinder(roi_num=0, radius=20, length=20, offset_z=0,\n",
    "                                  spacing=slice_spacing)\n",
    "    # embedded boxes\n",
    "    left_cube = make_box(roi_num=1, width=2, offset_x=-1,\n",
    "                         spacing=slice_spacing)\n",
    "    right_cube = make_box(roi_num=2, width=2, offset_x=1,\n",
    "                         spacing=slice_spacing)\n",
    "    # combine the contours\n",
    "    slice_data = pd.concat([left_cube, right_cube, body])\n",
    "    # convert contour slice data into a table of slices and structures\n",
    "    slice_table = make_slice_table(slice_data, ignore_errors=True)\n",
    "    return slice_table"
   ]
  },
  {
   "cell_type": "code",
   "execution_count": null,
   "metadata": {},
   "outputs": [],
   "source": [
    "slice_table = lateral_borders_boxes_example()\n",
    "regions = generate_region_graph(slice_table)\n",
    "selected_roi = [1, 2]\n",
    "relation = find_relations(slice_table, regions, selected_roi)\n",
    "relation_type = relation.identify_relation()\n",
    "print(relation_type)\n",
    "assert relation_type == RelationshipType.BORDERS"
   ]
  },
  {
   "cell_type": "markdown",
   "metadata": {},
   "source": [
    "#### Bordering Lateral Boxes With Disjoint Box\n",
    "- Cubes with one touching and one disjoint.\n",
    "\n",
    "![Bordering Lateral Boxes With Disjoint Box](<../../Images/FreeCAD Images/Bordering Boxes With Disjoint Box.png>)\n"
   ]
  },
  {
   "cell_type": "code",
   "execution_count": null,
   "metadata": {},
   "outputs": [],
   "source": [
    "def lateral_borders_two_boxes_example():\n",
    "    slice_spacing = 0.1\n",
    "    # Body structure defines slices in use\n",
    "    body = make_vertical_cylinder(roi_num=0, radius=20, length=20, offset_z=0,\n",
    "                                  spacing=slice_spacing)\n",
    "    # embedded boxes\n",
    "    left_cube = make_box(roi_num=1, width=2, offset_x=-1,\n",
    "                         spacing=slice_spacing)\n",
    "    right_cube = make_box(roi_num=2, width=2, offset_x=1,\n",
    "                         spacing=slice_spacing)\n",
    "    disjoint_cube = make_box(roi_num=2, width=2, offset_x=-2,\n",
    "                         spacing=slice_spacing)\n",
    "    # combine the contours\n",
    "    slice_data = pd.concat([left_cube, right_cube, body])\n",
    "    # convert contour slice data into a table of slices and structures\n",
    "    slice_table = make_slice_table(slice_data, ignore_errors=True)\n",
    "    return slice_table"
   ]
  },
  {
   "cell_type": "code",
   "execution_count": null,
   "metadata": {},
   "outputs": [],
   "source": [
    "slice_table = lateral_borders_two_boxes_example()\n",
    "regions = generate_region_graph(slice_table)\n",
    "selected_roi = [1, 2]\n",
    "relation = find_relations(slice_table, regions, selected_roi)\n",
    "relation_type = relation.identify_relation()\n",
    "print(relation_type)\n",
    "assert relation_type == RelationshipType.BORDERS"
   ]
  },
  {
   "cell_type": "markdown",
   "metadata": {},
   "source": [
    "### Bordering Concentric Cylinder SUP Offset\n",
    "  - Primary: Central Cylinder\n",
    "    - Secondary: one of:\n",
    "      - SUP cylinders with single slice gap at the SUP boundary of the central cylinder.\n",
    "\n",
    "      \n",
    "![Bordering Concentric Cylinder SUP Offset](<../../Images/FreeCAD Images/Bordering Concentric Cylinder SUP Offset.png>)\n",
    "![Exterior Border SUP](../../Images/Boundaries/ExteriorBorders2D_SUP.png)"
   ]
  },
  {
   "cell_type": "code",
   "execution_count": null,
   "metadata": {},
   "outputs": [],
   "source": [
    "def concentric_cylinders_sup_offset_example():\n",
    "    slice_spacing = 0.1\n",
    "    # Body structure defines slices in use\n",
    "    body = make_vertical_cylinder(roi_num=0, radius=10, length=1, offset_z=-0.5,\n",
    "                                  spacing=slice_spacing)\n",
    "    # Two concentric cylinders different z offsets\n",
    "    primary_cylinder = make_vertical_cylinder(roi_num=1, radius=0.2, length=0.4,\n",
    "                                              offset_z=-0.5,\n",
    "                                              spacing=slice_spacing)\n",
    "    sup_cylinder = make_vertical_cylinder(roi_num=2, radius=0.2, length=0.4,\n",
    "                                          offset_z=0, spacing=slice_spacing)\n",
    "    # combine the contours\n",
    "    slice_data = pd.concat([body, primary_cylinder, sup_cylinder])\n",
    "    # convert contour slice data into a table of slices and structures\n",
    "    slice_table = make_slice_table(slice_data, ignore_errors=True)\n",
    "    return slice_table\n"
   ]
  },
  {
   "cell_type": "code",
   "execution_count": null,
   "metadata": {},
   "outputs": [],
   "source": [
    "slice_table = concentric_cylinders_sup_offset_example()\n",
    "regions = generate_region_graph(slice_table)\n",
    "selected_roi = [1, 2]\n",
    "relation = find_relations(slice_table, regions, selected_roi)\n",
    "relation_type = relation.identify_relation()\n",
    "print(relation_type)\n",
    "assert relation_type == RelationshipType.BORDERS"
   ]
  },
  {
   "cell_type": "markdown",
   "metadata": {},
   "source": [
    "## Confines (Interior Borders) "
   ]
  },
  {
   "cell_type": "markdown",
   "metadata": {},
   "source": [
    "<link rel=\"stylesheet\" href=\"relations.css\">\n",
    "<table width=\"350px\">\n",
    "<tr class=\"l\"><th>Confines</th><th>Symmetric</th></tr>\n",
    "<td class=\"d\" colspan=\"2\">The interior boundary of \n",
    "<span class=\"a\">a</span> \n",
    "and the exterior boundary of <span class=\"b\">b</span> \n",
    "have more than one point in common, but their interiors do not intersect.\n",
    "\n",
    "For Interior Borders <span class=\"b\">b</span> \n",
    "Should be Within <span class=\"a\">a</span>.\n",
    "</td></tr>\n",
    "<tr><td colspan=\"2\">\n",
    "<img src=\"../../Images/Relationships/confines.png\" alt=\"Confines\">\n",
    "<img src=\"../../Images/Relationships/confines with island.png\" alt=\"Confines With Island\">\n",
    "</td></tr></table>"
   ]
  },
  {
   "cell_type": "markdown",
   "metadata": {},
   "source": [
    "### Confines Box embedded in Box\n",
    "\n",
    "![Box embedded in Box](<../../Images/FreeCAD Images/Confines Bordering Boxes.png>)"
   ]
  },
  {
   "cell_type": "code",
   "execution_count": null,
   "metadata": {},
   "outputs": [],
   "source": [
    "def confined_bordering_boxes_example():\n",
    "    slice_spacing = 0.1\n",
    "    # Body structure defines slices in use\n",
    "    body = make_vertical_cylinder(roi_num=0, radius=10, length=1, offset_z=-0.2,\n",
    "                                spacing=slice_spacing)\n",
    "    # embedded boxes\n",
    "    box6 = make_box(roi_num=1, width=6, spacing=slice_spacing)\n",
    "    hole4 = make_box(roi_num=1, width=4,  spacing=slice_spacing)\n",
    "    Box4 = make_box(roi_num=2, width=4,  spacing=slice_spacing)\n",
    "\n",
    "    # combine the contours\n",
    "    slice_data = pd.concat([body, box6, hole4, Box4])\n",
    "    # convert contour slice data into a table of slices and structures\n",
    "    slice_table = make_slice_table(slice_data, ignore_errors=True)\n",
    "    return slice_table\n"
   ]
  },
  {
   "cell_type": "code",
   "execution_count": null,
   "metadata": {},
   "outputs": [],
   "source": [
    "slice_table = confined_bordering_boxes_example()\n",
    "regions = generate_region_graph(slice_table)\n",
    "selected_roi = [1, 2]\n",
    "relation = find_relations(slice_table, regions, selected_roi)\n",
    "relation_type = relation.identify_relation()\n",
    "print(relation_type)\n",
    "assert relation_type == RelationshipType.CONFINES"
   ]
  },
  {
   "cell_type": "markdown",
   "metadata": {},
   "source": [
    "### Confines Cylinders\n",
    "\n",
    "![Confines cylinder](../../FreeCAD_Scripts/confines_cylinder.png)"
   ]
  },
  {
   "cell_type": "code",
   "execution_count": null,
   "metadata": {},
   "outputs": [],
   "source": [
    "def confines_cylinder_example():\n",
    "    slice_spacing = 0.1\n",
    "    # Body structure defines slices in use\n",
    "    body = make_vertical_cylinder(roi_num=0, radius=12, length=1.1,\n",
    "                                    spacing=slice_spacing)\n",
    "    # Centred cylinder with two embedded cylinders\n",
    "    primary_cylinder = make_vertical_cylinder(roi_num=1, radius=5,\n",
    "                                                length=0.7,\n",
    "                                                spacing=slice_spacing)\n",
    "    left_hole = make_vertical_cylinder(roi_num=1, radius=2, length=0.5,\n",
    "                                        offset_x=-2.5, spacing=slice_spacing)\n",
    "    right_hole = make_vertical_cylinder(roi_num=1, radius=2, length=0.5,\n",
    "                                        offset_x=2.5, spacing=slice_spacing)\n",
    "    # cylinder with interior borders\n",
    "    confines_cylinder = make_vertical_cylinder(roi_num=2, radius=1,\n",
    "                                                length=0.5, offset_x=2.5,\n",
    "                                                spacing=slice_spacing)\n",
    "    # combine the contours\n",
    "    slice_data = pd.concat([body, primary_cylinder, left_hole, right_hole,\n",
    "                            confines_cylinder])\n",
    "    # convert contour slice data into a table of slices and structures\n",
    "    slice_table = make_slice_table(slice_data, ignore_errors=True)\n",
    "    return slice_table\n"
   ]
  },
  {
   "cell_type": "code",
   "execution_count": null,
   "metadata": {},
   "outputs": [],
   "source": [
    "slice_table = confines_cylinder_example()\n",
    "regions = generate_region_graph(slice_table)\n",
    "selected_roi = [1, 2]\n",
    "relation = find_relations(slice_table, regions, selected_roi)\n",
    "relation_type = relation.identify_relation()\n",
    "print(relation_type)\n",
    "assert relation_type == RelationshipType.CONFINES"
   ]
  },
  {
   "cell_type": "markdown",
   "metadata": {},
   "source": [
    "### Confines Embedded Cylinders\n",
    "  - Primary: Central Cylinder\n",
    "  - Concentric shorter hole in the center of the primary cylinder\n",
    "  - Secondary same height as hole but narrower\n",
    "  - Interior borders at the and bottom of hole.\n",
    "  \n",
    "![Confines Embedded Cylinders](<../../Images/FreeCAD Images/Confines Embedded Cylinder.png>)"
   ]
  },
  {
   "cell_type": "code",
   "execution_count": null,
   "metadata": {},
   "outputs": [],
   "source": [
    "def embedded_cylinder_example():\n",
    "    slice_spacing = 0.1\n",
    "    # Body structure defines slices in use\n",
    "    body = make_vertical_cylinder(roi_num=0, radius=10, length=1, offset_z=-0.6,\n",
    "                                  spacing=slice_spacing)\n",
    "    primary_cylinder = make_vertical_cylinder(roi_num=1, radius=4, length=0.8,\n",
    "                                              offset_z=-0.3,\n",
    "                                              spacing=slice_spacing)\n",
    "    center_hole = make_vertical_cylinder(roi_num=1, radius=2, length=0.6,\n",
    "                                         offset_z=-0.2, spacing=slice_spacing)\n",
    "    # Two concentric cylinders different z offsets\n",
    "    middle_cylinder = make_vertical_cylinder(roi_num=2, radius=1, length=0.6,\n",
    "                                             offset_z=-0.2,\n",
    "                                             spacing=slice_spacing)\n",
    "    # combine the contours\n",
    "    slice_data = pd.concat([body, primary_cylinder, center_hole, middle_cylinder])\n",
    "    # convert contour slice data into a table of slices and structures\n",
    "    slice_table = make_slice_table(slice_data, ignore_errors=True)\n",
    "    return slice_table\n"
   ]
  },
  {
   "cell_type": "code",
   "execution_count": null,
   "metadata": {},
   "outputs": [],
   "source": [
    "slice_table = embedded_cylinder_example()\n",
    "regions = generate_region_graph(slice_table)\n",
    "selected_roi = [1, 2]\n",
    "relation = find_relations(slice_table, regions, selected_roi)\n",
    "relation_type = relation.identify_relation()\n",
    "print(relation_type)\n",
    "assert relation_type == RelationshipType.CONFINES"
   ]
  },
  {
   "cell_type": "markdown",
   "metadata": {},
   "source": [
    "### Confines Embedded Spheres\n",
    "   - concentric shells\n",
    "   - Sphere within shell with inner island\n",
    " \n",
    "![Confines Embedded Spheres](<../../Images/FreeCAD Images/Confines Embedded Spheres.png>)"
   ]
  },
  {
   "cell_type": "code",
   "execution_count": null,
   "metadata": {},
   "outputs": [],
   "source": [
    "def embedded_spheres_example():\n",
    "    slice_spacing = 0.1\n",
    "    # Body structure defines slices in use\n",
    "    body = make_vertical_cylinder(roi_num=0, radius=10, length=1, offset_z=-0.6,\n",
    "                                  spacing=slice_spacing)\n",
    "\n",
    "    sphere12 = make_sphere(roi_num=1, radius=6, spacing=slice_spacing)\n",
    "    hole10 = make_sphere(roi_num=1, radius=5, spacing=slice_spacing)\n",
    "    sphere8 = make_sphere(roi_num=1, radius=4, spacing=slice_spacing)\n",
    "\n",
    "    sphere10 = make_sphere(roi_num=2, radius=5, spacing=slice_spacing)\n",
    "    hole8 = make_sphere(roi_num=2, radius=4, spacing=slice_spacing)\n",
    "\n",
    "    # combine the contours\n",
    "    slice_data = pd.concat([body, sphere12, hole10, sphere8, sphere10, hole8])\n",
    "    # convert contour slice data into a table of slices and structures\n",
    "    slice_table = make_slice_table(slice_data, ignore_errors=True)\n",
    "    return slice_table\n"
   ]
  },
  {
   "cell_type": "code",
   "execution_count": null,
   "metadata": {},
   "outputs": [],
   "source": [
    "slice_table = embedded_cylinder_example()\n",
    "regions = generate_region_graph(slice_table)\n",
    "selected_roi = [1, 2]\n",
    "relation = find_relations(slice_table, regions, selected_roi)\n",
    "relation_type = relation.identify_relation()\n",
    "print(relation_type)\n",
    "assert relation_type == RelationshipType.CONFINES"
   ]
  },
  {
   "cell_type": "markdown",
   "metadata": {},
   "source": [
    "### Confines Box in Box on z surface\n",
    " - Box in box, touching z plane hole surface only\n",
    " \n",
    "![Confines Box in Box on z surface](<../../Images/FreeCAD Images/Confines Box in Box on z surface.png>)"
   ]
  },
  {
   "cell_type": "code",
   "execution_count": null,
   "metadata": {},
   "outputs": [],
   "source": [
    "def confined_box_z_border_example():\n",
    "    slice_spacing = 0.1\n",
    "    # Body structure defines slices in use\n",
    "    body = make_vertical_cylinder(roi_num=0, radius=10, length=1, offset_z=-0.2,\n",
    "                                spacing=slice_spacing)\n",
    "    # embedded boxes\n",
    "    box6 = make_box(roi_num=1, width=6, spacing=slice_spacing)\n",
    "    hole4 = make_box(roi_num=1, width=4,  spacing=slice_spacing)\n",
    "    Box2 = make_box(roi_num=2, width=2, offset_z=1,  spacing=slice_spacing)\n",
    "\n",
    "    # combine the contours\n",
    "    slice_data = pd.concat([body, box6, hole4, Box2])\n",
    "    # convert contour slice data into a table of slices and structures\n",
    "    slice_table = make_slice_table(slice_data, ignore_errors=True)\n",
    "    return slice_table\n"
   ]
  },
  {
   "cell_type": "code",
   "execution_count": null,
   "metadata": {},
   "outputs": [],
   "source": [
    "slice_table = confined_box_z_border_example()\n",
    "regions = generate_region_graph(slice_table)\n",
    "selected_roi = [1, 2]\n",
    "relation = find_relations(slice_table, regions, selected_roi)\n",
    "relation_type = relation.identify_relation()\n",
    "print(relation_type)\n",
    "assert relation_type == RelationshipType.CONFINES"
   ]
  },
  {
   "cell_type": "markdown",
   "metadata": {},
   "source": [
    "### Confines Box in Box on Y surface\n",
    " - Box in box, touching Y plane hole surface only\n",
    " \n",
    "![Confines Box in Box on Y surface](<../../Images/FreeCAD Images/Confines Box in Box on y surface.png>)"
   ]
  },
  {
   "cell_type": "code",
   "execution_count": null,
   "metadata": {},
   "outputs": [],
   "source": [
    "def confined_box_y_border_example():\n",
    "    slice_spacing = 0.1\n",
    "    # Body structure defines slices in use\n",
    "    body = make_vertical_cylinder(roi_num=0, radius=10, length=1, offset_z=-0.2,\n",
    "                                spacing=slice_spacing)\n",
    "    # embedded boxes\n",
    "    box6 = make_box(roi_num=1, width=6, spacing=slice_spacing)\n",
    "    hole4 = make_box(roi_num=1, width=4,  spacing=slice_spacing)\n",
    "    Box2 = make_box(roi_num=2, width=2, offset_y=1,  spacing=slice_spacing)\n",
    "\n",
    "    # combine the contours\n",
    "    slice_data = pd.concat([body, box6, hole4, Box2])\n",
    "    # convert contour slice data into a table of slices and structures\n",
    "    slice_table = make_slice_table(slice_data, ignore_errors=True)\n",
    "    return slice_table\n"
   ]
  },
  {
   "cell_type": "code",
   "execution_count": null,
   "metadata": {},
   "outputs": [],
   "source": [
    "slice_table = confined_box_y_border_example()\n",
    "regions = generate_region_graph(slice_table)\n",
    "selected_roi = [1, 2]\n",
    "relation = find_relations(slice_table, regions, selected_roi)\n",
    "relation_type = relation.identify_relation()\n",
    "print(relation_type)\n",
    "assert relation_type == RelationshipType.CONFINES"
   ]
  },
  {
   "cell_type": "markdown",
   "metadata": {},
   "source": [
    "## Partition"
   ]
  },
  {
   "cell_type": "markdown",
   "metadata": {},
   "source": [
    "<link rel=\"stylesheet\" href=\"relations.css\">\n",
    "<table width=\"350px\">\n",
    "<tr class=\"l\"><th>Partition</th><th></th></tr>\n",
    "<td class=\"d\" colspan=\"2\">\n",
    "The boundaries of <span class=\"a\">a</span> and <span class=\"b\">b</span> have more than one point in common.\n",
    "No points of <span class=\"b\">b</span> are exterior to <span class=\"a\">a</span>, and some points in <span class=\"a\">a</span> are exterior to <span class=\"b\">b</span>.\n",
    "</td></tr>\n",
    "<tr><td colspan=\"2\">\n",
    "<img src=\"../../Images/Relationships/partitions simple.png\" alt=\"Partition\">\n",
    "<img src=\"../../Images/Relationships/partitions archipelago with island.png\" alt=\"Partition With Island\">\n",
    "<img src=\"../../Images/Relationships/partitions partial ring.png\" alt=\"Partition Ring\">\n",
    "</td></tr></table>"
   ]
  },
  {
   "cell_type": "markdown",
   "metadata": {},
   "source": [
    "**Partition**\n",
    "\n",
    "- half shell"
   ]
  },
  {
   "cell_type": "markdown",
   "metadata": {},
   "source": [
    "### Partition Box in Box on Y surface\n",
    " - Box part of box, touching Y plane surface only\n",
    " \n",
    "![Partition Box in Box on Y surface](<../../Images/FreeCAD Images/Partition Box in Box on y surface.png>)"
   ]
  },
  {
   "cell_type": "code",
   "execution_count": null,
   "metadata": {},
   "outputs": [],
   "source": [
    "def partition_embedded_box_on_y_surface():\n",
    "    slice_spacing = 0.5\n",
    "    # Body structure defines slices in use\n",
    "    body = make_vertical_cylinder(roi_num=0, radius=20, length=30, spacing=slice_spacing)\n",
    "    # embedded boxes    # 6 cm x 6 cm box\n",
    "    box6 = make_box(roi_num=1, width=6, spacing=slice_spacing)\n",
    "    box6_3 = make_box(roi_num=2, width=6, length=3, height=6, offset_y=1.5,\n",
    "                      spacing=slice_spacing)\n",
    "    # combine the contours\n",
    "    slice_data = pd.concat([box6, box6_3, body])\n",
    "    # convert contour slice data into a table of slices and structures\n",
    "    slice_table = make_slice_table(slice_data, ignore_errors=True)\n",
    "    return slice_table\n"
   ]
  },
  {
   "cell_type": "code",
   "execution_count": null,
   "metadata": {},
   "outputs": [],
   "source": [
    "slice_table = partition_embedded_box_on_y_surface()\n",
    "regions = generate_region_graph(slice_table)\n",
    "selected_roi = [1, 2]\n",
    "relation = find_relations(slice_table, regions, selected_roi)\n",
    "relation_type = relation.identify_relation()\n",
    "print(relation_type)\n",
    "assert relation_type == RelationshipType.PARTITION"
   ]
  },
  {
   "cell_type": "markdown",
   "metadata": {},
   "source": [
    "### Partition Box in Box on Z surface\n",
    " - Box part of box, touching Z plane surface only\n",
    " \n",
    "![Partition Box in Box on Z surface](<../../Images/FreeCAD Images/Partition Box in Box on z surface.png>)"
   ]
  },
  {
   "cell_type": "code",
   "execution_count": null,
   "metadata": {},
   "outputs": [],
   "source": [
    "def partition_embedded_box_on_z_surface():\n",
    "    slice_spacing = 0.5\n",
    "    # Body structure defines slices in use\n",
    "    body = make_vertical_cylinder(roi_num=0, radius=20, length=30,\n",
    "                                  spacing=slice_spacing)\n",
    "    # embedded boxes    # 6 cm x 6 cm box\n",
    "    box6 = make_box(roi_num=1, width=6, spacing=slice_spacing)\n",
    "    box6_3 = make_box(roi_num=2, width=6, length=6, height=3, offset_z=1.5,\n",
    "                      spacing=slice_spacing)\n",
    "    # combine the contours\n",
    "    slice_data = pd.concat([box6, box6_3, body])\n",
    "    # convert contour slice data into a table of slices and structures\n",
    "    slice_table = make_slice_table(slice_data, ignore_errors=True)\n",
    "    return slice_table\n"
   ]
  },
  {
   "cell_type": "code",
   "execution_count": null,
   "metadata": {},
   "outputs": [],
   "source": [
    "slice_table = partition_embedded_box_on_z_surface()\n",
    "regions = generate_region_graph(slice_table)\n",
    "selected_roi = [1, 2]\n",
    "relation = find_relations(slice_table, regions, selected_roi)\n",
    "relation_type = relation.identify_relation()\n",
    "print(relation_type)\n",
    "assert relation_type == RelationshipType.PARTITION"
   ]
  },
  {
   "cell_type": "markdown",
   "metadata": {},
   "source": [
    "#### Horizontal Cylinders\n",
    "\n",
    "![Horizontal Cylinders](../../Images/FreeCAD%20Images/HorizontalCylinders.png)"
   ]
  },
  {
   "cell_type": "code",
   "execution_count": null,
   "metadata": {},
   "outputs": [],
   "source": [
    "def horizontal_cylinders():\n",
    "    slice_spacing = 0.1\n",
    "    # Body structure defines slices in use\n",
    "    body = make_box(roi_num=0, width=6, length=6, height=8, offset_z=-4,\n",
    "                    spacing=slice_spacing)\n",
    "    cylinder2h = make_horizontal_cylinder(radius=2, length=5, roi_num=1,\n",
    "                                          spacing=slice_spacing)\n",
    "    cylinder1h = make_horizontal_cylinder(radius=1, length=5, roi_num=2,\n",
    "                                          spacing=slice_spacing)\n",
    "    # combine the contours\n",
    "    slice_data = pd.concat([body, cylinder1h, cylinder2h])\n",
    "    # convert contour slice data into a table of slices and structures\n",
    "    slice_table = make_slice_table(slice_data, ignore_errors=True)\n",
    "    return slice_table\n"
   ]
  },
  {
   "cell_type": "code",
   "execution_count": null,
   "metadata": {},
   "outputs": [],
   "source": [
    "slice_table = horizontal_cylinders()\n",
    "regions = generate_region_graph(slice_table)\n",
    "selected_roi = [1, 2]\n",
    "relation = find_relations(slice_table, regions, selected_roi)\n",
    "relation_type = relation.identify_relation()\n",
    "print(relation_type)\n",
    "assert relation_type == RelationshipType.PARTITION"
   ]
  },
  {
   "cell_type": "markdown",
   "metadata": {},
   "source": [
    " #### Vertical Concentric Cylinders\n",
    " \n",
    " ![Concentric Cylinders](../../Images/FreeCAD%20Images/ConcentricCylinders.png)"
   ]
  },
  {
   "cell_type": "code",
   "execution_count": null,
   "metadata": {},
   "outputs": [],
   "source": [
    "def vertical_concentric_cylinders():\n",
    "    slice_spacing = 0.5\n",
    "    # Body structure defines slices in use\n",
    "    body = make_vertical_cylinder(roi_num=0, radius=20, length=30, offset_z=-15,\n",
    "                                spacing=slice_spacing)\n",
    "    cylinder6 = make_vertical_cylinder(roi_num=1, radius=6, length=10,\n",
    "                                    spacing=slice_spacing)\n",
    "    cylinder4 = make_vertical_cylinder(roi_num=2, radius=4, length=10,\n",
    "                                    spacing=slice_spacing)\n",
    "    # combine the contours\n",
    "    slice_data = pd.concat([body, cylinder6, cylinder4])\n",
    "    # convert contour slice data into a table of slices and structures\n",
    "    slice_table = make_slice_table(slice_data, ignore_errors=True)\n",
    "    return slice_table\n"
   ]
  },
  {
   "cell_type": "code",
   "execution_count": null,
   "metadata": {},
   "outputs": [],
   "source": [
    "slice_table = vertical_concentric_cylinders()\n",
    "regions = generate_region_graph(slice_table)\n",
    "selected_roi = [1, 2]\n",
    "relation = find_relations(slice_table, regions, selected_roi)\n",
    "relation_type = relation.identify_relation()\n",
    "print(relation_type)\n",
    "assert relation_type == RelationshipType.PARTITION"
   ]
  },
  {
   "cell_type": "markdown",
   "metadata": {},
   "source": [
    "#### Concentric cylinders starting on the same slice\n",
    "  \n",
    "<img src=\"../../Images\\Boundaries\\PartitionSup3D.png\" alt=\"PartitionSup3D\" style=\"height:50px;\">\n",
    "<img src=\"../../Images\\Boundaries\\PartitionSup2D.png\" alt=\"PartitionSup2D\" style=\"height:30px;\">"
   ]
  },
  {
   "cell_type": "code",
   "execution_count": null,
   "metadata": {},
   "outputs": [],
   "source": [
    "def concentric_cylinders_same_start():\n",
    "    slice_spacing = 0.5\n",
    "    # Body structure defines slices in use\n",
    "    body = make_vertical_cylinder(roi_num=0, radius=10, length=1,\n",
    "                                  spacing=slice_spacing)\n",
    "    # Concentric cylinders starting on the same slice\n",
    "    primary_cylinder = make_vertical_cylinder(roi_num=1, radius=2, length=7,\n",
    "                                              offset_z=-3.5,\n",
    "                                              spacing=slice_spacing)\n",
    "    sup_partition = make_vertical_cylinder(roi_num=2, radius=1, length=3.0,\n",
    "                                           offset_z=-1.5,\n",
    "                                           spacing=slice_spacing)\n",
    "    # combine the contours\n",
    "    slice_data = pd.concat([body, primary_cylinder, sup_partition])\n",
    "    # convert contour slice data into a table of slices and structures\n",
    "    slice_table = make_slice_table(slice_data, ignore_errors=True)\n",
    "    return slice_table\n"
   ]
  },
  {
   "cell_type": "code",
   "execution_count": null,
   "metadata": {},
   "outputs": [],
   "source": [
    "slice_table = concentric_cylinders_same_start()\n",
    "regions = generate_region_graph(slice_table)\n",
    "selected_roi = [1, 2]\n",
    "relation = find_relations(slice_table, regions, selected_roi)\n",
    "relation_type = relation.identify_relation()\n",
    "print(relation_type)\n",
    "assert relation_type == RelationshipType.PARTITION"
   ]
  },
  {
   "cell_type": "markdown",
   "metadata": {},
   "source": [
    "#### Concentric cylinders ending on the same slice.\n",
    "\n",
    "<img src=\"../../Images\\Boundaries\\PartitionInf3D.png\" alt=\"PartitionInf3D\" style=\"height:50px;\">\n",
    "<img src=\"../../Images\\Boundaries\\PartitionInf2D.png\" alt=\"PartitionInf2D\" style=\"height:30px;\">"
   ]
  },
  {
   "cell_type": "code",
   "execution_count": null,
   "metadata": {},
   "outputs": [],
   "source": [
    "def concentric_cylinders_same_end():\n",
    "    slice_spacing = 0.5\n",
    "    # Body structure defines slices in use\n",
    "    body = make_vertical_cylinder(roi_num=0, radius=10, length=10,\n",
    "                                  spacing=slice_spacing)\n",
    "    # Concentric cylinders ending on the same slice\n",
    "    primary_cylinder = make_vertical_cylinder(roi_num=1, radius=2, length=7.0,\n",
    "                                              offset_z=3.5,\n",
    "                                              spacing=slice_spacing)\n",
    "    inf_partition = make_vertical_cylinder(roi_num=2, radius=1, length=4,\n",
    "                                           offset_z=2, spacing=slice_spacing)\n",
    "    # combine the contours\n",
    "    slice_data = pd.concat([body, primary_cylinder, inf_partition])\n",
    "    # convert contour slice data into a table of slices and structures\n",
    "    slice_table = make_slice_table(slice_data, ignore_errors=True)\n",
    "    return slice_table\n"
   ]
  },
  {
   "cell_type": "code",
   "execution_count": null,
   "metadata": {},
   "outputs": [],
   "source": [
    "slice_table = concentric_cylinders_same_end()\n",
    "regions = generate_region_graph(slice_table)\n",
    "selected_roi = [1, 2]\n",
    "relation = find_relations(slice_table, regions, selected_roi)\n",
    "relation_type = relation.identify_relation()\n",
    "print(relation_type)\n",
    "assert relation_type == RelationshipType.PARTITION"
   ]
  },
  {
   "cell_type": "markdown",
   "metadata": {},
   "source": [
    "#### Concentric cylinders starting and ending on the same slice.\n",
    "\n",
    "<img src=\"../../Images\\Boundaries\\Partition3D.png\" alt=\"PartitionInf3D\" style=\"height:50px;\">\n",
    "<img src=\"../../Images\\Boundaries\\Partition2D.png\" alt=\"PartitionInf2D\" style=\"height:30px;\">"
   ]
  },
  {
   "cell_type": "code",
   "execution_count": null,
   "metadata": {},
   "outputs": [],
   "source": [
    "def concentric_cylinders_same_start_end():\n",
    "    slice_spacing = 0.05\n",
    "    # Body structure defines slices in use\n",
    "    body = make_vertical_cylinder(roi_num=0, radius=10, length=1,\n",
    "                                  spacing=slice_spacing)\n",
    "    # Concentric cylinders starting and ending on the same slice\n",
    "    primary_cylinder = make_vertical_cylinder(roi_num=1, radius=2, length=0.7,\n",
    "                                              offset_z=0.0,\n",
    "                                              spacing=slice_spacing)\n",
    "    mid_partition = make_vertical_cylinder(roi_num=2, radius=1, length=0.7,\n",
    "                                           offset_z=-0.0, spacing=slice_spacing)\n",
    "    # combine the contours\n",
    "    slice_data = pd.concat([body, primary_cylinder, mid_partition])\n",
    "    # convert contour slice data into a table of slices and structures\n",
    "    slice_table = make_slice_table(slice_data, ignore_errors=True)\n",
    "    return slice_table\n"
   ]
  },
  {
   "cell_type": "code",
   "execution_count": null,
   "metadata": {},
   "outputs": [],
   "source": [
    "slice_table = concentric_cylinders_same_start_end()\n",
    "regions = generate_region_graph(slice_table)\n",
    "selected_roi = [1, 2]\n",
    "relation = find_relations(slice_table, regions, selected_roi)\n",
    "relation_type = relation.identify_relation()\n",
    "print(relation_type)\n",
    "assert relation_type == RelationshipType.PARTITION"
   ]
  },
  {
   "cell_type": "markdown",
   "metadata": {},
   "source": [
    "### Partition Sphere Island\n",
    "   - concentric shells\n",
    "   - 2nd structure matches inner island\n",
    " \n",
    "![Partition Sphere Island](<../../Images/FreeCAD Images/Partition Sphere Island.png>)"
   ]
  },
  {
   "cell_type": "code",
   "execution_count": null,
   "metadata": {},
   "outputs": [],
   "source": [
    "def partition_sphere_island_example():\n",
    "    slice_spacing = 0.1\n",
    "    # Body structure defines slices in use\n",
    "    body = make_vertical_cylinder(roi_num=0, radius=10, length=1, offset_z=-0.6,\n",
    "                                  spacing=slice_spacing)\n",
    "\n",
    "    sphere12 = make_sphere(roi_num=1, radius=6, spacing=slice_spacing)\n",
    "    hole8 = make_sphere(roi_num=1, radius=4, spacing=slice_spacing)\n",
    "    sphere4 = make_sphere(roi_num=1, radius=2, spacing=slice_spacing)\n",
    "\n",
    "    sphere4_2 = make_sphere(roi_num=2, radius=2, spacing=slice_spacing)\n",
    "\n",
    "    # combine the contours\n",
    "    slice_data = pd.concat([body, sphere12, hole8, sphere4, sphere4_2])\n",
    "    # convert contour slice data into a table of slices and structures\n",
    "    slice_table = make_slice_table(slice_data, ignore_errors=True)\n",
    "    return slice_table\n"
   ]
  },
  {
   "cell_type": "code",
   "execution_count": null,
   "metadata": {},
   "outputs": [],
   "source": [
    "slice_table = partition_sphere_island_example()\n",
    "regions = generate_region_graph(slice_table)\n",
    "selected_roi = [1, 2]\n",
    "relation = find_relations(slice_table, regions, selected_roi)\n",
    "relation_type = relation.identify_relation()\n",
    "print(relation_type)\n",
    "assert relation_type == RelationshipType.PARTITION"
   ]
  },
  {
   "cell_type": "markdown",
   "metadata": {},
   "source": [
    "## Overlaps"
   ]
  },
  {
   "cell_type": "markdown",
   "metadata": {
    "notebookRunGroups": {
     "groupValue": "2"
    }
   },
   "source": [
    "<link rel=\"stylesheet\" href=\"relations.css\">\n",
    "<table width=\"350px\">\n",
    "<tr class=\"l\"><th>Overlaps</th><th>Symmetric</th></tr>\n",
    "<td class=\"d\" colspan=\"2\">\n",
    "<span class=\"a\">a</span> and <span class=\"b\">b</span> \n",
    "have some but not all points in common.\n",
    "</td></tr>\n",
    "<tr><td colspan=\"2\">\n",
    "<img src=\"../../Images/Relationships/overlaps simple.png\" alt=\"Overlaps\">\n",
    "<img src=\"../../Images/Relationships/overlaps ring.png\" alt=\"Overlaps With Ring\">\n",
    "<img src=\"../../Images/Relationships/overlaps surounded.png\" alt=\"Overlaps Surrounded\">\n",
    "<img src=\"../../Images/Relationships/overlaps ring surrounds simple.png\" alt=\"Ring Overlaps Simple\">\n",
    "<img src=\"../../Images/Relationships/archipelago contains simple.png\" alt=\"Ring Overlaps Simple\">\n",
    "</td></tr></table>"
   ]
  },
  {
   "cell_type": "markdown",
   "metadata": {},
   "source": [
    "### Overlapping Spheres \n",
    "\n",
    "![Overlapping Spheres](<../../Images/FreeCAD Images/Overlapping Spheres.png>)"
   ]
  },
  {
   "cell_type": "code",
   "execution_count": null,
   "metadata": {},
   "outputs": [],
   "source": [
    "def overlapping_spheres_example():\n",
    "    slice_spacing = 0.5\n",
    "    # Body structure defines slices in use\n",
    "    body = make_vertical_cylinder(roi_num=0, radius=20, length=10,\n",
    "                                  spacing=slice_spacing)\n",
    "\n",
    "    right_sphere6 = make_sphere(roi_num=1, radius=6, offset_x=-2,\n",
    "                                spacing=slice_spacing)\n",
    "    left_sphere6 = make_sphere(roi_num=2, radius=6, offset_x=2,\n",
    "                                spacing=slice_spacing)\n",
    "\n",
    "    # combine the contours\n",
    "    slice_data = pd.concat([body, right_sphere6, left_sphere6])\n",
    "    # convert contour slice data into a table of slices and structures\n",
    "    slice_table = make_slice_table(slice_data, ignore_errors=True)\n",
    "    return slice_table\n"
   ]
  },
  {
   "cell_type": "code",
   "execution_count": null,
   "metadata": {},
   "outputs": [],
   "source": [
    "slice_table = overlapping_spheres_example()\n",
    "regions = generate_region_graph(slice_table)\n",
    "selected_roi = [1, 2]\n",
    "relation = find_relations(slice_table, regions, selected_roi)\n",
    "relation_type = relation.identify_relation()\n",
    "print(relation_type)\n",
    "assert relation_type == RelationshipType.OVERLAPS"
   ]
  },
  {
   "cell_type": "markdown",
   "metadata": {},
   "source": [
    "### Overlapping Boxes in the Y Direction \n",
    "\n",
    "![Overlapping Boxes in the Y Direction](<../../Images/FreeCAD Images/Overlapping Boxes in Y direction.png>)"
   ]
  },
  {
   "cell_type": "code",
   "execution_count": null,
   "metadata": {},
   "outputs": [],
   "source": [
    "def overlapping_boxes_y():\n",
    "    slice_spacing = 0.1\n",
    "    # Body structure defines slices in use\n",
    "    body = make_vertical_cylinder(roi_num=0, radius=10, length=1,\n",
    "                                spacing=slice_spacing)\n",
    "    # overlapping boxes    # 6 cm x 6 cm box\n",
    "    box6 = make_box(roi_num=1, width=0.6, spacing=slice_spacing)\n",
    "    box6_y = make_box(roi_num=2, width=0.6, offset_y=0.2,\n",
    "                      spacing=slice_spacing)\n",
    "    # combine the contours\n",
    "    slice_data = pd.concat([box6, box6_y, body])\n",
    "    # convert contour slice data into a table of slices and structures\n",
    "    slice_table = make_slice_table(slice_data, ignore_errors=True)\n",
    "    return slice_table\n"
   ]
  },
  {
   "cell_type": "code",
   "execution_count": null,
   "metadata": {},
   "outputs": [],
   "source": [
    "slice_table = overlapping_boxes_y()\n",
    "regions = generate_region_graph(slice_table)\n",
    "selected_roi = [1, 2]\n",
    "relation = find_relations(slice_table, regions, selected_roi)\n",
    "relation_type = relation.identify_relation()\n",
    "print(relation_type)\n",
    "assert relation_type == RelationshipType.OVERLAPS"
   ]
  },
  {
   "cell_type": "markdown",
   "metadata": {},
   "source": [
    "### Overlapping Boxes in the Z Direction \n",
    "\n",
    "![Overlapping Boxes in the Z Direction](<../../Images/FreeCAD Images/Overlapping Boxes in Z direction.png>)"
   ]
  },
  {
   "cell_type": "code",
   "execution_count": null,
   "metadata": {},
   "outputs": [],
   "source": [
    "def overlapping_boxes_z():\n",
    "    slice_spacing = 0.1\n",
    "    # Body structure defines slices in use\n",
    "    body = make_vertical_cylinder(roi_num=0, radius=10, length=1,\n",
    "                                spacing=slice_spacing)\n",
    "    # overlapping boxes    # 6 cm x 6 cm box\n",
    "    box6 = make_box(roi_num=1, width=0.6, spacing=slice_spacing)\n",
    "    box6_y = make_box(roi_num=2, width=0.6, offset_z=0.3,\n",
    "                      spacing=slice_spacing)\n",
    "    # combine the contours\n",
    "    slice_data = pd.concat([box6, box6_y, body])\n",
    "    # convert contour slice data into a table of slices and structures\n",
    "    slice_table = make_slice_table(slice_data, ignore_errors=True)\n",
    "    return slice_table\n"
   ]
  },
  {
   "cell_type": "code",
   "execution_count": null,
   "metadata": {},
   "outputs": [],
   "source": [
    "slice_table = overlapping_boxes_z()\n",
    "regions = generate_region_graph(slice_table)\n",
    "selected_roi = [1, 2]\n",
    "relation = find_relations(slice_table, regions, selected_roi)\n",
    "relation_type = relation.identify_relation()\n",
    "print(relation_type)\n",
    "assert relation_type == RelationshipType.OVERLAPS"
   ]
  },
  {
   "cell_type": "markdown",
   "metadata": {},
   "source": [
    "### Stacked Boxes\n",
    "\n",
    "![Stacked Boxes](<../../Images/FreeCAD Images/Stacked Boxes.png>)"
   ]
  },
  {
   "cell_type": "code",
   "execution_count": null,
   "metadata": {},
   "outputs": [],
   "source": [
    "def stacked_boxes():\n",
    "    slice_spacing = 0.1\n",
    "    # Body structure defines slices in use\n",
    "    body = make_vertical_cylinder(roi_num=0, radius=10, length=1,\n",
    "                                spacing=slice_spacing)\n",
    "    # overlapping boxes    # 6 cm x 6 cm box\n",
    "    box6 = make_box(roi_num=1, width=0.6, spacing=slice_spacing)\n",
    "    box6_y = make_box(roi_num=2, width=0.6, offset_z=0.6,\n",
    "                      spacing=slice_spacing)\n",
    "    # combine the contours\n",
    "    slice_data = pd.concat([box6, box6_y, body])\n",
    "    # convert contour slice data into a table of slices and structures\n",
    "    slice_table = make_slice_table(slice_data, ignore_errors=True)\n",
    "    return slice_table"
   ]
  },
  {
   "cell_type": "code",
   "execution_count": null,
   "metadata": {},
   "outputs": [],
   "source": [
    "slice_table = stacked_boxes()\n",
    "regions = generate_region_graph(slice_table)\n",
    "selected_roi = [1, 2]\n",
    "relation = find_relations(slice_table, regions, selected_roi)\n",
    "relation_type = relation.identify_relation()\n",
    "print(relation_type)\n",
    "assert relation_type == RelationshipType.OVERLAPS"
   ]
  },
  {
   "cell_type": "markdown",
   "metadata": {},
   "source": [
    "### Overlapping Concentric Cylinders\n",
    "- Centred vertical cylinder with two cylinders on the same axis, above and \n",
    "below the primary cylinder.\n",
    "\n",
    "- Cylinders are overlapping because they have a contour on the same slices (-0.4, and 0.4).\n",
    "\n",
    "![Overlapping Concentric Cylinders](<../../Images/FreeCAD Images/Overlapping Concentric Cylinders.png>)\n"
   ]
  },
  {
   "cell_type": "code",
   "execution_count": null,
   "metadata": {},
   "outputs": [],
   "source": [
    "def overlapping_concentric_cylinders_example():\n",
    "    slice_spacing = 1\n",
    "    # Body structure defines slices in use\n",
    "    body = make_vertical_cylinder(roi_num=0, radius=12, length=10,\n",
    "                                  spacing=slice_spacing)\n",
    "    # Centred cylinder with two embedded cylinders\n",
    "    primary_cylinder = make_vertical_cylinder(roi_num=1, radius=3, length=8,\n",
    "                                              offset_z=0,\n",
    "                                              spacing=slice_spacing)\n",
    "    # cylinder overlapping primary cylinder\n",
    "    overlapping_cylinder1 = make_vertical_cylinder(roi_num=2, radius=1, length=2,\n",
    "                                             offset_z=5,\n",
    "                                             spacing=slice_spacing)\n",
    "    # cylinder overlapping primary cylinder\n",
    "    overlapping_cylinder2 = make_vertical_cylinder(roi_num=2, radius=1, length=2,\n",
    "                                             offset_z=-5,\n",
    "                                             spacing=slice_spacing)\n",
    "    # combine the contours\n",
    "    slice_data = pd.concat([body, primary_cylinder, overlapping_cylinder1,\n",
    "                            overlapping_cylinder2])\n",
    "    # convert contour slice data into a table of slices and structures\n",
    "    slice_table = make_slice_table(slice_data, ignore_errors=True)\n",
    "    return slice_table\n"
   ]
  },
  {
   "cell_type": "code",
   "execution_count": null,
   "metadata": {},
   "outputs": [],
   "source": [
    "slice_table = overlapping_concentric_cylinders_example()\n",
    "regions = generate_region_graph(slice_table)\n",
    "selected_roi = [1, 2]\n",
    "relation = find_relations(slice_table, regions, selected_roi)\n",
    "relation_type = relation.identify_relation()\n",
    "print(relation_type)\n",
    "assert relation_type == RelationshipType.OVERLAPS"
   ]
  },
  {
   "cell_type": "markdown",
   "metadata": {},
   "source": [
    "### Overlapping Cubes INF RT\n",
    "\n",
    "![Overlapping Cubes INF RT](<../../Images/FreeCAD Images/Overlapping Cubes INF RT.png>)"
   ]
  },
  {
   "cell_type": "code",
   "execution_count": null,
   "metadata": {},
   "outputs": [],
   "source": [
    "def overlapping_cubes_inf_rt():\n",
    "    slice_spacing = 0.5\n",
    "    # Body structure defines slices in use\n",
    "    body = make_vertical_cylinder(roi_num=0, radius=20, length=30, offset_z=-15,\n",
    "                                spacing=slice_spacing)\n",
    "    #\n",
    "    cube6 = make_box(roi_num=1, width=6, spacing=slice_spacing)\n",
    "    cube6_inf_rt = make_box(roi_num=2, width=6, offset_z=3, offset_x=3,\n",
    "                            offset_y=3, spacing=slice_spacing)\n",
    "    # combine the contours\n",
    "    slice_data = pd.concat([body, cube6, cube6_inf_rt])\n",
    "    # convert contour slice data into a table of slices and structures\n",
    "    slice_table = make_slice_table(slice_data, ignore_errors=True)\n",
    "    return slice_table\n"
   ]
  },
  {
   "cell_type": "code",
   "execution_count": null,
   "metadata": {},
   "outputs": [],
   "source": [
    "slice_table = overlapping_cubes_inf_rt()\n",
    "regions = generate_region_graph(slice_table)\n",
    "selected_roi = [1, 2]\n",
    "relation = find_relations(slice_table, regions, selected_roi)\n",
    "relation_type = relation.identify_relation()\n",
    "print(relation_type)\n",
    "assert relation_type == RelationshipType.OVERLAPS"
   ]
  },
  {
   "cell_type": "markdown",
   "metadata": {},
   "source": [
    "### Overlapping Extended Cylinder\n",
    "\n",
    "![Overlapping Extended Cylinder](<../../Images/FreeCAD Images/Overlapping Extended Cylinder.png>)"
   ]
  },
  {
   "cell_type": "code",
   "execution_count": null,
   "metadata": {},
   "outputs": [],
   "source": [
    "def overlapping_extended_cylinder():\n",
    "    slice_spacing = 0.1\n",
    "    # Body structure defines slices in use\n",
    "    body = make_vertical_cylinder(roi_num=0, radius=12, length=1.1,\n",
    "                                  spacing=slice_spacing)\n",
    "    # Centred cylinder with two embedded cylinders\n",
    "    primary_cylinder = make_vertical_cylinder(roi_num=1, radius=5, length=0.7,\n",
    "                                              spacing=slice_spacing)\n",
    "    # cylinder with interior borders\n",
    "    overlapping_cylinder = make_vertical_cylinder(roi_num=2, radius=3,\n",
    "                                                  length=0.9,\n",
    "                                                  spacing=slice_spacing)\n",
    "\n",
    "    # combine the contours\n",
    "    slice_data = pd.concat([body, primary_cylinder, overlapping_cylinder])\n",
    "    # convert contour slice data into a table of slices and structures\n",
    "    slice_table = make_slice_table(slice_data, ignore_errors=True)\n",
    "    return slice_table\n"
   ]
  },
  {
   "cell_type": "code",
   "execution_count": null,
   "metadata": {},
   "outputs": [],
   "source": [
    "slice_table = overlapping_extended_cylinder()\n",
    "regions = generate_region_graph(slice_table)\n",
    "selected_roi = [1, 2]\n",
    "relation = find_relations(slice_table, regions, selected_roi)\n",
    "relation_type = relation.identify_relation()\n",
    "print(relation_type)\n",
    "assert relation_type == RelationshipType.OVERLAPS"
   ]
  },
  {
   "cell_type": "markdown",
   "metadata": {},
   "source": [
    "## Equals"
   ]
  },
  {
   "cell_type": "markdown",
   "metadata": {},
   "source": [
    "<link rel=\"stylesheet\" href=\"relations.css\">\n",
    "<table width=\"350px\">\n",
    "<tr class=\"l\"><th>Equals</th><th>Symmetric, Transitive</th></tr>\n",
    "<td class=\"d\" colspan=\"2\">\n",
    "The interiors of <span class=\"a\">a</span> and <span class=\"b\">b</span> \n",
    "intersect and no part of the interior of one geometry intersects the exterior of the other.\n",
    "</td></tr>\n",
    "<tr><td colspan=\"2\">\n",
    "<img src=\"../../Images/Relationships/equals.png\" alt=\"Equals\">\n",
    "</td></tr></table>"
   ]
  },
  {
   "cell_type": "markdown",
   "metadata": {},
   "source": [
    "### Equal Spheres \n"
   ]
  },
  {
   "cell_type": "code",
   "execution_count": null,
   "metadata": {},
   "outputs": [],
   "source": [
    "def equal_spheres_example():\n",
    "    slice_spacing = 0.5\n",
    "    # Body structure defines slices in use\n",
    "    body = make_vertical_cylinder(roi_num=0, radius=20, length=10,\n",
    "                                  spacing=slice_spacing)\n",
    "\n",
    "    a_sphere6 = make_sphere(roi_num=1, radius=6,\n",
    "                                spacing=slice_spacing)\n",
    "    b_sphere6 = make_sphere(roi_num=2, radius=6,\n",
    "                                spacing=slice_spacing)\n",
    "\n",
    "    # combine the contours\n",
    "    slice_data = pd.concat([body, a_sphere6, b_sphere6])\n",
    "    # convert contour slice data into a table of slices and structures\n",
    "    slice_table = make_slice_table(slice_data, ignore_errors=True)\n",
    "    return slice_table\n"
   ]
  },
  {
   "cell_type": "code",
   "execution_count": null,
   "metadata": {},
   "outputs": [],
   "source": [
    "slice_table = equal_spheres_example()\n",
    "regions = generate_region_graph(slice_table)\n",
    "selected_roi = [1, 2]\n",
    "relation = find_relations(slice_table, regions, selected_roi)\n",
    "relation_type = relation.identify_relation()\n",
    "print(relation_type)\n",
    "assert relation_type == RelationshipType.EQUALS"
   ]
  },
  {
   "cell_type": "markdown",
   "metadata": {},
   "source": [
    "### Equal Boxes \n"
   ]
  },
  {
   "cell_type": "code",
   "execution_count": null,
   "metadata": {},
   "outputs": [],
   "source": [
    "def equal_boxes():\n",
    "    slice_spacing = 0.1\n",
    "    # Body structure defines slices in use\n",
    "    body = make_vertical_cylinder(roi_num=0, radius=10, length=1,\n",
    "                                spacing=slice_spacing)\n",
    "    # overlapping boxes    # 6 cm x 6 cm box\n",
    "    a_box6 = make_box(roi_num=1, width=0.6, spacing=slice_spacing)\n",
    "    b_box6 = make_box(roi_num=2, width=0.6, spacing=slice_spacing)\n",
    "    # combine the contours\n",
    "    slice_data = pd.concat([a_box6, b_box6, body])\n",
    "    # convert contour slice data into a table of slices and structures\n",
    "    slice_table = make_slice_table(slice_data, ignore_errors=True)\n",
    "    return slice_table\n"
   ]
  },
  {
   "cell_type": "code",
   "execution_count": null,
   "metadata": {},
   "outputs": [],
   "source": [
    "slice_table = equal_boxes()\n",
    "regions = generate_region_graph(slice_table)\n",
    "selected_roi = [1, 2]\n",
    "relation = find_relations(slice_table, regions, selected_roi)\n",
    "relation_type = relation.identify_relation()\n",
    "print(relation_type)\n",
    "assert relation_type == RelationshipType.EQUALS"
   ]
  },
  {
   "cell_type": "markdown",
   "metadata": {},
   "source": [
    "### Equal box created by cropping a larger box."
   ]
  },
  {
   "cell_type": "code",
   "execution_count": null,
   "metadata": {},
   "outputs": [],
   "source": [
    "def equal_boxes_by_crop():\n",
    "    def apply_crop(p):\n",
    "        # polygon made from offset boxed resulting in a 4x4 square hole in the\n",
    "        # middle.\n",
    "        left_xy_points = box_points(width=0.8, offset_x=0.6, offset_y=0)\n",
    "        left_crop = shapely.Polygon(left_xy_points)\n",
    "        right_xy_points = box_points(width=0.8, offset_x=-0.6, offset_y=0)\n",
    "        right_crop = shapely.Polygon(right_xy_points)\n",
    "        up_xy_points = box_points(width=0.8, offset_x=0, offset_y=0.6)\n",
    "        up_crop = shapely.Polygon(up_xy_points)\n",
    "        down_xy_points = box_points(width=0.8, offset_x=0, offset_y=-0.6)\n",
    "        down_crop = shapely.Polygon(down_xy_points)\n",
    "        crop_poly = shapely.union_all([left_crop, right_crop,\n",
    "                                       up_crop, down_crop])\n",
    "        cropped = p - crop_poly\n",
    "        return poly_round(cropped)\n",
    "\n",
    "    slice_spacing = 0.1\n",
    "    body = make_vertical_cylinder(roi_num=0, radius=10, length=1,\n",
    "                                  spacing=slice_spacing)\n",
    "    box8 = make_box(roi_num=1, width=0.8, spacing=slice_spacing)\n",
    "    box4 = make_box(roi_num=2, width=0.4, spacing=slice_spacing)\n",
    "\n",
    "    poly_a = box8.loc[(slice(None), slice(-0.2, 0.2)), :].copy()\n",
    "    poly_a.Contour = poly_a.Contour.apply(apply_crop)\n",
    "    slice_data = pd.concat([poly_a, box4, body])\n",
    "    slice_table = make_slice_table(slice_data, ignore_errors=True)\n",
    "    return slice_table\n"
   ]
  },
  {
   "cell_type": "code",
   "execution_count": null,
   "metadata": {},
   "outputs": [],
   "source": [
    "slice_table = equal_boxes_by_crop()\n",
    "regions = generate_region_graph(slice_table)\n",
    "selected_roi = [1, 2]\n",
    "relation = find_relations(slice_table, regions, selected_roi)\n",
    "relation_type = relation.identify_relation()\n",
    "print(relation_type)\n",
    "assert relation_type == RelationshipType.EQUALS"
   ]
  }
 ],
 "metadata": {
  "kernelspec": {
   "display_name": "StructureRelations",
   "language": "python",
   "name": "python3"
  },
  "language_info": {
   "codemirror_mode": {
    "name": "ipython",
    "version": 3
   },
   "file_extension": ".py",
   "mimetype": "text/x-python",
   "name": "python",
   "nbconvert_exporter": "python",
   "pygments_lexer": "ipython3",
   "version": "3.11.11"
  }
 },
 "nbformat": 4,
 "nbformat_minor": 4
}
