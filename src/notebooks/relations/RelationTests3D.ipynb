{
 "cells": [
  {
   "cell_type": "markdown",
   "metadata": {},
   "source": [
    "# 3D Relationship Testing\n",
    "\n",
    "Testing relationships between 3D structures defined using contours on multiple slices.\n"
   ]
  },
  {
   "cell_type": "code",
   "execution_count": 1,
   "metadata": {},
   "outputs": [],
   "source": [
    "import logging\n",
    "\n",
    "# Local functions and classes\n",
    "from types_and_classes import *\n",
    "from utilities import *\n",
    "from debug_tools import *\n",
    "from structure_set import *\n",
    "from relations import *"
   ]
  },
  {
   "cell_type": "markdown",
   "metadata": {},
   "source": [
    "### Global Settings"
   ]
  },
  {
   "cell_type": "code",
   "execution_count": 2,
   "metadata": {},
   "outputs": [],
   "source": [
    "PRECISION = 2"
   ]
  },
  {
   "cell_type": "code",
   "execution_count": 3,
   "metadata": {},
   "outputs": [],
   "source": [
    "%matplotlib inline"
   ]
  },
  {
   "cell_type": "markdown",
   "metadata": {},
   "source": [
    "## Relationship Tests by Relationship Type"
   ]
  },
  {
   "cell_type": "markdown",
   "metadata": {},
   "source": [
    "### Color Coding\n",
    "<table style=\"border: 2px solid black; width=50px;\"><tr><td>\n",
    "<ul style=\"font-weight: 900; font-size: 20px;\">\n",
    "<li style=\"color: blue;\">region a</li>\n",
    "<li style=\"color: green;\">region b</li>\n",
    "<li style=\"color: orange;\">intersection of a & b</li></ul>\n",
    "</tr></td></>"
   ]
  },
  {
   "cell_type": "markdown",
   "metadata": {},
   "source": [
    "## Contains"
   ]
  },
  {
   "cell_type": "markdown",
   "metadata": {},
   "source": [
    "<link rel=\"stylesheet\" href=\"relations.css\">\n",
    "<table width=\"350px\">\n",
    "<tr class=\"l\"><th>Contains</th><th>Transitive</th></tr>\n",
    "<td class=\"d\" colspan=\"2\">\n",
    "All points of <span class=\"b\">b</span> lie in the interior of <span class=\"a\">a</span>, no points of <span class=\"b\">b</span> lie in the exterior of <span class=\"a\">a</span>, some points in <span class=\"a\">a</span> are exterior to <span class=\"b\">b</span>, and the boundaries of <span class=\"a\">a</span> and <span class=\"b\">b</span> do not intersect.\n",
    "</td></tr>\n",
    "<tr><td colspan=\"2\">\n",
    "<img src=\"../../Images/Relationships/contains simple.png\" alt=\"Contains\">\n",
    "<img src=\"../../Images/Relationships/contains with hole.png\" alt=\"Contains With Hole\">\n",
    "</td></tr>\n",
    "</table></td></tr></table>"
   ]
  },
  {
   "cell_type": "markdown",
   "metadata": {},
   "source": [
    "### Contains"
   ]
  },
  {
   "cell_type": "markdown",
   "metadata": {},
   "source": [
    "#### Embedded Spheres\n",
    "![Embedded Spheres](<../../Images/FreeCAD Images/Embedded Spheres.png>)"
   ]
  },
  {
   "cell_type": "code",
   "execution_count": 4,
   "metadata": {},
   "outputs": [],
   "source": [
    "def embedded_spheres_example():\n",
    "    slice_spacing = 0.5\n",
    "    # Body structure defines slices in use\n",
    "    body = make_vertical_cylinder(roi_num=0, radius=20, length=30, offset_z=-15,\n",
    "                                spacing=slice_spacing)\n",
    "    # embedded boxes\n",
    "    sphere6 = make_sphere(roi_num=1, radius=3, spacing=slice_spacing)\n",
    "    sphere3 = make_sphere(roi_num=2, radius=1.5, spacing=slice_spacing)\n",
    "    # combine the contours\n",
    "    slice_data = sphere6 + sphere3 + body\n",
    "    return slice_data"
   ]
  },
  {
   "cell_type": "code",
   "execution_count": 5,
   "metadata": {},
   "outputs": [
    {
     "name": "stdout",
     "output_type": "stream",
     "text": [
      "Relationship: Contains\n"
     ]
    }
   ],
   "source": [
    "slice_data = embedded_spheres_example()\n",
    "structures = StructureSet(slice_data)\n",
    "structure_a = structures.structures[1]\n",
    "structure_b = structures.structures[2]\n",
    "relation = structure_a.relate(structure_b)\n",
    "relation_type = relation.identify_relation()\n",
    "print(relation_type)\n",
    "assert relation_type == RelationshipType.CONTAINS"
   ]
  },
  {
   "cell_type": "markdown",
   "metadata": {},
   "source": [
    "#### Concentric Cylinders\n",
    "![Concentric cylinders](<../../Images/FreeCAD Images/Concentric cylinders.png>)"
   ]
  },
  {
   "cell_type": "code",
   "execution_count": 6,
   "metadata": {},
   "outputs": [],
   "source": [
    "def simple_cylinders_example():\n",
    "    slice_spacing = 0.1\n",
    "    # Body structure defines slices in use\n",
    "    body = make_vertical_cylinder(roi_num=0, radius=12, length=1.0,\n",
    "                                  offset_z=0,\n",
    "                                  spacing=slice_spacing)\n",
    "    # Centred cylinder\n",
    "    primary_cylinder = make_vertical_cylinder(roi_num=1, radius=5, length=0.8,\n",
    "                                              offset_z=0,\n",
    "                                              spacing=slice_spacing)\n",
    "    # cylinder within primary\n",
    "    contained_cylinder = make_vertical_cylinder(roi_num=2, radius=3, length=0.6,\n",
    "                                                offset_x=0, offset_z=0,\n",
    "                                                spacing=slice_spacing)\n",
    "    # combine the contours\n",
    "    slice_data = body + primary_cylinder + contained_cylinder\n",
    "    return slice_data\n"
   ]
  },
  {
   "cell_type": "code",
   "execution_count": 7,
   "metadata": {},
   "outputs": [
    {
     "name": "stdout",
     "output_type": "stream",
     "text": [
      "Relationship: Contains\n"
     ]
    }
   ],
   "source": [
    "slice_data = simple_cylinders_example()\n",
    "structures = StructureSet(slice_data)\n",
    "structure_a = structures.structures[1]\n",
    "structure_b = structures.structures[2]\n",
    "relation = structure_a.relate(structure_b)\n",
    "relation_type = relation.identify_relation()\n",
    "print(relation_type)\n",
    "assert relation_type == RelationshipType.CONTAINS"
   ]
  },
  {
   "cell_type": "markdown",
   "metadata": {},
   "source": [
    "#### Embedded Boxes\n",
    "![Embedded Boxes](<../../Images/FreeCAD Images/Embedded Boxes.png>)"
   ]
  },
  {
   "cell_type": "code",
   "execution_count": 8,
   "metadata": {},
   "outputs": [],
   "source": [
    "def embedded_boxes_example():\n",
    "    slice_spacing = 0.5\n",
    "    # Body structure defines slices in use\n",
    "    body = make_vertical_cylinder(roi_num=0, radius=20, length=30, offset_z=0,\n",
    "                                  spacing=slice_spacing)\n",
    "    # embedded boxes\n",
    "    cube6 = make_box(roi_num=1, width=6, spacing=slice_spacing)\n",
    "    cube3 = make_box(roi_num=2, width=3, offset_z=0, spacing=slice_spacing)\n",
    "    # combine the contours\n",
    "    slice_data = cube6 + cube3 + body\n",
    "    return slice_data"
   ]
  },
  {
   "cell_type": "code",
   "execution_count": 9,
   "metadata": {},
   "outputs": [
    {
     "name": "stdout",
     "output_type": "stream",
     "text": [
      "Relationship: Contains\n"
     ]
    }
   ],
   "source": [
    "slice_data = embedded_boxes_example()\n",
    "structures = StructureSet(slice_data)\n",
    "structure_a = structures.structures[1]\n",
    "structure_b = structures.structures[2]\n",
    "relation = structure_a.relate(structure_b)\n",
    "relation_type = relation.identify_relation()\n",
    "print(relation_type)\n",
    "assert relation_type == RelationshipType.CONTAINS"
   ]
  },
  {
   "cell_type": "markdown",
   "metadata": {},
   "source": [
    "#### Parallel Cylinders\n",
    "- Concentric cylinders with interior cylinder ending inside the exterior cylinder by one slice\n",
    "\n",
    "![Parallel Cylinders](<../../Images/FreeCAD Images/Parallel Cylinders.png>)"
   ]
  },
  {
   "cell_type": "code",
   "execution_count": 10,
   "metadata": {},
   "outputs": [],
   "source": [
    "def parallel_cylinders_example():\n",
    "    slice_spacing = 1\n",
    "    # Body structure defines slices in use\n",
    "    body = make_vertical_cylinder(roi_num=0, radius=12, length=10, offset_z=0,\n",
    "                                  spacing=slice_spacing)\n",
    "    left_cylinder = make_vertical_cylinder(roi_num=1, radius=2, length=8,\n",
    "                                           offset_x=-2.5, offset_z=0,\n",
    "                                           spacing=slice_spacing)\n",
    "    right_cylinder = make_vertical_cylinder(roi_num=1, radius=2, length=8,\n",
    "                                            offset_x=2.5, offset_z=0,\n",
    "                                            spacing=slice_spacing)\n",
    "    right_middle_cylinder = make_vertical_cylinder(roi_num=2, radius=1,\n",
    "                                                   length=6,\n",
    "                                                   offset_x=2.5, offset_z=0,\n",
    "                                                   spacing=slice_spacing)\n",
    "    # combine the contours\n",
    "    slice_data = body + left_cylinder + right_cylinder + right_middle_cylinder\n",
    "    return slice_data\n"
   ]
  },
  {
   "cell_type": "code",
   "execution_count": 11,
   "metadata": {},
   "outputs": [
    {
     "name": "stdout",
     "output_type": "stream",
     "text": [
      "Relationship: Contains\n"
     ]
    }
   ],
   "source": [
    "slice_data = parallel_cylinders_example()\n",
    "structures = StructureSet(slice_data)\n",
    "structure_a = structures.structures[1]\n",
    "structure_b = structures.structures[2]\n",
    "relation = structure_a.relate(structure_b)\n",
    "relation_type = relation.identify_relation()\n",
    "print(relation_type)\n",
    "assert relation_type == RelationshipType.CONTAINS"
   ]
  },
  {
   "cell_type": "markdown",
   "metadata": {},
   "source": [
    "#### Sphere in Sphere in Sphere\n",
    "- Hollow spheres with an inner sphere and second structure inside the inner sphere.\n",
    "\n",
    "![Sphere in Sphere in Sphere](<../../Images/FreeCAD Images/Sphere in Spheres in Shell.png>)"
   ]
  },
  {
   "cell_type": "code",
   "execution_count": 12,
   "metadata": {},
   "outputs": [],
   "source": [
    "def nested_spheres_example():\n",
    "    slice_spacing = 1\n",
    "    # Body structure defines slices in use\n",
    "    body = make_vertical_cylinder(roi_num=0, radius=16, length=20, offset_z=0,\n",
    "                                  spacing=slice_spacing)\n",
    "    sphere12 = make_sphere(roi_num=1, radius=6, spacing=slice_spacing)\n",
    "    hole10 = make_sphere(roi_num=1, radius=5, spacing=slice_spacing)\n",
    "    sphere8 = make_sphere(roi_num=1, radius=4, spacing=slice_spacing)\n",
    "    sphere6 = make_sphere(roi_num=2, radius=3, spacing=slice_spacing)\n",
    "\n",
    "    # combine the contours\n",
    "    slice_data = body + sphere12 + hole10 + sphere8 + sphere6\n",
    "    return slice_data\n"
   ]
  },
  {
   "cell_type": "code",
   "execution_count": 13,
   "metadata": {},
   "outputs": [
    {
     "name": "stderr",
     "output_type": "stream",
     "text": [
      "d:\\.conda\\envs\\StructureRelations\\Lib\\site-packages\\shapely\\linear.py:203: RuntimeWarning: invalid value encountered in shortest_line\n",
      "  return lib.shortest_line(a, b, **kwargs)\n",
      "d:\\.conda\\envs\\StructureRelations\\Lib\\site-packages\\shapely\\linear.py:203: RuntimeWarning: invalid value encountered in shortest_line\n",
      "  return lib.shortest_line(a, b, **kwargs)\n",
      "d:\\.conda\\envs\\StructureRelations\\Lib\\site-packages\\shapely\\linear.py:203: RuntimeWarning: invalid value encountered in shortest_line\n",
      "  return lib.shortest_line(a, b, **kwargs)\n"
     ]
    },
    {
     "name": "stdout",
     "output_type": "stream",
     "text": [
      "Relationship: Contains\n"
     ]
    }
   ],
   "source": [
    "slice_data = nested_spheres_example()\n",
    "structures = StructureSet(slice_data)\n",
    "structure_a = structures.structures[1]\n",
    "structure_b = structures.structures[2]\n",
    "relation = structure_a.relate(structure_b)\n",
    "relation_type = relation.identify_relation()\n",
    "print(relation_type)\n",
    "assert relation_type == RelationshipType.CONTAINS"
   ]
  },
  {
   "cell_type": "markdown",
   "metadata": {},
   "source": [
    "## Surrounds"
   ]
  },
  {
   "cell_type": "markdown",
   "metadata": {},
   "source": [
    "<link rel=\"stylesheet\" href=\"relations.css\">\n",
    "<table width=\"350px\">\n",
    "<tr class=\"l\"><th>Surrounds</th><th>Transitive</t></tr>\n",
    "<td class=\"d\" colspan=\"2\">\n",
    "<span class=\"a\">a</span> and <span class=\"b\">b</span> have no points in common, but the Convex Hull of <span class=\"a\">a</span> contains <span class=\"b\">b</span>.\n",
    "</td></tr><tr><td colspan=\"2\">\n",
    "<img src=\"../../Images/Relationships/shelters.png\" alt=\"shelters\">\n",
    "</td></tr></table>\n"
   ]
  },
  {
   "cell_type": "markdown",
   "metadata": {},
   "source": [
    "#### Simple Surrounded Cylinders\n",
    "- Concentric hollow cylinders with an interior cylinder ending inside the outer cylinder's hole by one slice\n",
    "\n",
    "![Simple Surrounded Cylinders](<../../Images/FreeCAD Images/Surrounded cylinders.png>)"
   ]
  },
  {
   "cell_type": "code",
   "execution_count": 14,
   "metadata": {},
   "outputs": [],
   "source": [
    "def surrounded_cylinder_example():\n",
    "    slice_spacing = 1\n",
    "    # Body structure defines slices in use\n",
    "    body = make_vertical_cylinder(roi_num=0, radius=12, length=16, offset_z=0,\n",
    "                                  spacing=slice_spacing)\n",
    "    outer_cylinder = make_vertical_cylinder(roi_num=1, radius=6, length=10,\n",
    "                                            spacing=slice_spacing)\n",
    "    cylinder_hole = make_vertical_cylinder(roi_num=1, radius=5, length=8,\n",
    "                                           spacing=slice_spacing)\n",
    "    surrounded_cylinder = make_vertical_cylinder(roi_num=2, radius=3, length=6,\n",
    "                                                 spacing=slice_spacing)\n",
    "\n",
    "    # combine the contours\n",
    "    slice_data = body + outer_cylinder + cylinder_hole + surrounded_cylinder\n",
    "    return slice_data\n"
   ]
  },
  {
   "cell_type": "code",
   "execution_count": 15,
   "metadata": {},
   "outputs": [
    {
     "name": "stdout",
     "output_type": "stream",
     "text": [
      "Relationship: Surrounds\n"
     ]
    }
   ],
   "source": [
    "slice_data = surrounded_cylinder_example()\n",
    "structures = StructureSet(slice_data)\n",
    "structure_a = structures.structures[1]\n",
    "structure_b = structures.structures[2]\n",
    "relation = structure_a.relate(structure_b)\n",
    "relation_type = relation.identify_relation()\n",
    "print(relation_type)\n",
    "#assert relation_type == RelationshipType.SURROUNDS"
   ]
  },
  {
   "cell_type": "code",
   "execution_count": 16,
   "metadata": {},
   "outputs": [],
   "source": [
    "def shelters_open_cylinder_example():\n",
    "    slice_spacing = 1\n",
    "    # Body structure defines slices in use\n",
    "    body = make_vertical_cylinder(roi_num=0, radius=12, length=16, offset_z=0,\n",
    "                                  spacing=slice_spacing)\n",
    "    outer_cylinder = make_vertical_cylinder(roi_num=1, radius=6, length=8,\n",
    "                                            spacing=slice_spacing)\n",
    "    cylinder_hole = make_vertical_cylinder(roi_num=1, radius=5, length=8,\n",
    "                                           spacing=slice_spacing)\n",
    "    surrounded_cylinder = make_vertical_cylinder(roi_num=2, radius=3, length=6,\n",
    "                                                 spacing=slice_spacing)\n",
    "\n",
    "    # combine the contours\n",
    "    slice_data = body + outer_cylinder + cylinder_hole + surrounded_cylinder\n",
    "    return slice_data\n"
   ]
  },
  {
   "cell_type": "code",
   "execution_count": 17,
   "metadata": {},
   "outputs": [
    {
     "name": "stdout",
     "output_type": "stream",
     "text": [
      "Relationship: Shelters\n"
     ]
    }
   ],
   "source": [
    "slice_data = shelters_open_cylinder_example()\n",
    "structures = StructureSet(slice_data)\n",
    "structure_a = structures.structures[1]\n",
    "structure_b = structures.structures[2]\n",
    "relation = structure_a.relate(structure_b)\n",
    "relation_type = relation.identify_relation()\n",
    "print(relation_type)\n",
    "assert relation_type == RelationshipType.SHELTERS"
   ]
  },
  {
   "cell_type": "markdown",
   "metadata": {},
   "source": [
    "#### Horizontal Surrounded Cylinders\n",
    "- Concentric hollow cylinders with an interior cylinder ending inside the outer cylinder's hole by one slice\n",
    "\n",
    "![Horizontal Cylinders](<../../Images/FreeCAD Images/Horizontal Surrounded cylinders.png>)"
   ]
  },
  {
   "cell_type": "code",
   "execution_count": 18,
   "metadata": {},
   "outputs": [],
   "source": [
    "def surrounded_horizontal_cylinder_example():\n",
    "    slice_spacing = 1\n",
    "    # Body structure defines slices in use\n",
    "    body = make_vertical_cylinder(roi_num=0, radius=12, length=16, offset_z=0,\n",
    "                                  spacing=slice_spacing)\n",
    "    outer_cylinder = make_horizontal_cylinder(roi_num=1, radius=6, length=10,\n",
    "                                            spacing=slice_spacing)\n",
    "    cylinder_hole = make_horizontal_cylinder(roi_num=1, radius=5, length=8,\n",
    "                                           spacing=slice_spacing)\n",
    "    surrounded_cylinder = make_horizontal_cylinder(roi_num=2, radius=3, length=6,\n",
    "                                                 spacing=slice_spacing)\n",
    "\n",
    "    # combine the contours\n",
    "    slice_data = body + outer_cylinder + cylinder_hole + surrounded_cylinder\n",
    "    return slice_data\n"
   ]
  },
  {
   "cell_type": "code",
   "execution_count": 19,
   "metadata": {},
   "outputs": [],
   "source": [
    "slice_data = surrounded_horizontal_cylinder_example()\n",
    "structures = StructureSet(slice_data)\n",
    "structure_a = structures.structures[1]\n",
    "structure_b = structures.structures[2]\n"
   ]
  },
  {
   "cell_type": "code",
   "execution_count": 20,
   "metadata": {},
   "outputs": [],
   "source": [
    "relation = structure_a.relate(structure_b)"
   ]
  },
  {
   "cell_type": "code",
   "execution_count": 21,
   "metadata": {},
   "outputs": [
    {
     "data": {
      "image/png": "[encoded data removed]",
      "text/plain": [
       "<Figure size 400x200 with 1 Axes>"
      ]
     },
     "metadata": {},
     "output_type": "display_data"
    }
   ],
   "source": [
    "poly_a = structure_a.get_slice(3.5)\n",
    "poly_b = structure_b.get_slice(3.5)\n",
    "ax = plot_ab(poly_a, poly_b, add_axis=False)"
   ]
  },
  {
   "cell_type": "code",
   "execution_count": 22,
   "metadata": {},
   "outputs": [
    {
     "data": {
      "image/png": "[encoded data removed]",
      "text/plain": [
       "<Figure size 400x200 with 1 Axes>"
      ]
     },
     "metadata": {},
     "output_type": "display_data"
    }
   ],
   "source": [
    "poly_a = structure_a.get_slice(3.0)\n",
    "poly_b = structure_b.get_slice(3.0)\n",
    "ax = plot_ab(poly_a, poly_b, add_axis=False)"
   ]
  },
  {
   "cell_type": "code",
   "execution_count": 23,
   "metadata": {},
   "outputs": [
    {
     "data": {
      "image/png": "[encoded data removed]",
      "text/plain": [
       "<Figure size 400x200 with 1 Axes>"
      ]
     },
     "metadata": {},
     "output_type": "display_data"
    }
   ],
   "source": [
    "poly_a = structure_a.get_slice(0.0)\n",
    "poly_b = structure_b.get_slice(0.0)\n",
    "ax = plot_ab(poly_a, poly_b)"
   ]
  },
  {
   "cell_type": "code",
   "execution_count": 24,
   "metadata": {},
   "outputs": [
    {
     "data": {
      "application/vnd.microsoft.datawrangler.viewer.v0+json": {
       "columns": [
        {
         "name": "index",
         "rawType": "int64",
         "type": "integer"
        },
        {
         "name": "ROI",
         "rawType": "int64",
         "type": "integer"
        },
        {
         "name": "SliceIndex",
         "rawType": "float64",
         "type": "float"
        },
        {
         "name": "HoleType",
         "rawType": "category",
         "type": "unknown"
        },
        {
         "name": "Interpolated",
         "rawType": "bool",
         "type": "boolean"
        },
        {
         "name": "Boundary",
         "rawType": "bool",
         "type": "boolean"
        },
        {
         "name": "ContourIndex",
         "rawType": "int64",
         "type": "integer"
        },
        {
         "name": "RegionIndex",
         "rawType": "object",
         "type": "string"
        },
        {
         "name": "Label",
         "rawType": "object",
         "type": "unknown"
        }
       ],
       "ref": "43103758-1db8-4267-b5b6-a49498d2bb3b",
       "rows": [
        [
         "29",
         "1",
         "-6.5",
         "None",
         "True",
         "True",
         "530",
         "1A",
         "(np.int64(1), -6.5, 530)"
        ],
        [
         "0",
         "1",
         "-6.0",
         "None",
         "False",
         "False",
         "501",
         "1A",
         "(np.int64(1), -6.0, 501)"
        ],
        [
         "25",
         "1",
         "-5.5",
         "Closed",
         "True",
         "True",
         "526",
         "1B",
         "(np.int64(1), -5.5, 526)"
        ],
        [
         "26",
         "1",
         "-5.5",
         "None",
         "True",
         "False",
         "527",
         "1A",
         "(np.int64(1), -5.5, 527)"
        ],
        [
         "1",
         "1",
         "-5.0",
         "None",
         "False",
         "False",
         "502",
         "1A",
         "(np.int64(1), -5.0, 502)"
        ],
        [
         "2",
         "1",
         "-5.0",
         "Closed",
         "False",
         "False",
         "503",
         "1B",
         "(np.int64(1), -5.0, 503)"
        ],
        [
         "3",
         "1",
         "-4.0",
         "None",
         "False",
         "False",
         "504",
         "1A",
         "(np.int64(1), -4.0, 504)"
        ],
        [
         "4",
         "1",
         "-4.0",
         "Closed",
         "False",
         "False",
         "505",
         "1B",
         "(np.int64(1), -4.0, 505)"
        ],
        [
         "30",
         "1",
         "-3.5",
         "None",
         "True",
         "False",
         "546",
         "1A",
         "(np.int64(1), -3.5, 546)"
        ],
        [
         "31",
         "1",
         "-3.5",
         "Closed",
         "True",
         "False",
         "547",
         "1B",
         "(np.int64(1), -3.5, 547)"
        ],
        [
         "5",
         "1",
         "-3.0",
         "None",
         "False",
         "False",
         "506",
         "1A",
         "(np.int64(1), -3.0, 506)"
        ],
        [
         "6",
         "1",
         "-3.0",
         "Closed",
         "False",
         "False",
         "507",
         "1B",
         "(np.int64(1), -3.0, 507)"
        ],
        [
         "7",
         "1",
         "-2.0",
         "None",
         "False",
         "False",
         "508",
         "1A",
         "(np.int64(1), -2.0, 508)"
        ],
        [
         "8",
         "1",
         "-2.0",
         "Closed",
         "False",
         "False",
         "509",
         "1B",
         "(np.int64(1), -2.0, 509)"
        ],
        [
         "9",
         "1",
         "-1.0",
         "None",
         "False",
         "False",
         "510",
         "1A",
         "(np.int64(1), -1.0, 510)"
        ],
        [
         "10",
         "1",
         "-1.0",
         "Closed",
         "False",
         "False",
         "511",
         "1B",
         "(np.int64(1), -1.0, 511)"
        ],
        [
         "11",
         "1",
         "0.0",
         "None",
         "False",
         "False",
         "512",
         "1A",
         "(np.int64(1), 0.0, 512)"
        ],
        [
         "12",
         "1",
         "0.0",
         "Closed",
         "False",
         "False",
         "513",
         "1B",
         "(np.int64(1), 0.0, 513)"
        ],
        [
         "13",
         "1",
         "1.0",
         "None",
         "False",
         "False",
         "514",
         "1A",
         "(np.int64(1), 1.0, 514)"
        ],
        [
         "14",
         "1",
         "1.0",
         "Closed",
         "False",
         "False",
         "515",
         "1B",
         "(np.int64(1), 1.0, 515)"
        ],
        [
         "15",
         "1",
         "2.0",
         "None",
         "False",
         "False",
         "516",
         "1A",
         "(np.int64(1), 2.0, 516)"
        ],
        [
         "16",
         "1",
         "2.0",
         "Closed",
         "False",
         "False",
         "517",
         "1B",
         "(np.int64(1), 2.0, 517)"
        ],
        [
         "17",
         "1",
         "3.0",
         "None",
         "False",
         "False",
         "518",
         "1A",
         "(np.int64(1), 3.0, 518)"
        ],
        [
         "18",
         "1",
         "3.0",
         "Closed",
         "False",
         "False",
         "519",
         "1B",
         "(np.int64(1), 3.0, 519)"
        ],
        [
         "32",
         "1",
         "3.5",
         "None",
         "True",
         "False",
         "548",
         "1A",
         "(np.int64(1), 3.5, 548)"
        ],
        [
         "33",
         "1",
         "3.5",
         "Closed",
         "True",
         "False",
         "549",
         "1B",
         "(np.int64(1), 3.5, 549)"
        ],
        [
         "19",
         "1",
         "4.0",
         "None",
         "False",
         "False",
         "520",
         "1A",
         "(np.int64(1), 4.0, 520)"
        ],
        [
         "20",
         "1",
         "4.0",
         "Closed",
         "False",
         "False",
         "521",
         "1B",
         "(np.int64(1), 4.0, 521)"
        ],
        [
         "21",
         "1",
         "5.0",
         "None",
         "False",
         "False",
         "522",
         "1A",
         "(np.int64(1), 5.0, 522)"
        ],
        [
         "22",
         "1",
         "5.0",
         "Closed",
         "False",
         "False",
         "523",
         "1B",
         "(np.int64(1), 5.0, 523)"
        ],
        [
         "27",
         "1",
         "5.5",
         "Closed",
         "True",
         "True",
         "528",
         "1B",
         "(np.int64(1), 5.5, 528)"
        ],
        [
         "28",
         "1",
         "5.5",
         "None",
         "True",
         "False",
         "529",
         "1A",
         "(np.int64(1), 5.5, 529)"
        ],
        [
         "23",
         "1",
         "6.0",
         "None",
         "False",
         "False",
         "524",
         "1A",
         "(np.int64(1), 6.0, 524)"
        ],
        [
         "24",
         "1",
         "6.5",
         "None",
         "True",
         "True",
         "525",
         "1A",
         "(np.int64(1), 6.5, 525)"
        ]
       ],
       "shape": {
        "columns": 8,
        "rows": 34
       }
      },
      "text/html": [
       "<div>\n",
       "<style scoped>\n",
       "    .dataframe tbody tr th:only-of-type {\n",
       "        vertical-align: middle;\n",
       "    }\n",
       "\n",
       "    .dataframe tbody tr th {\n",
       "        vertical-align: top;\n",
       "    }\n",
       "\n",
       "    .dataframe thead th {\n",
       "        text-align: right;\n",
       "    }\n",
       "</style>\n",
       "<table border=\"1\" class=\"dataframe\">\n",
       "  <thead>\n",
       "    <tr style=\"text-align: right;\">\n",
       "      <th></th>\n",
       "      <th>ROI</th>\n",
       "      <th>SliceIndex</th>\n",
       "      <th>HoleType</th>\n",
       "      <th>Interpolated</th>\n",
       "      <th>Boundary</th>\n",
       "      <th>ContourIndex</th>\n",
       "      <th>RegionIndex</th>\n",
       "      <th>Label</th>\n",
       "    </tr>\n",
       "  </thead>\n",
       "  <tbody>\n",
       "    <tr>\n",
       "      <th>29</th>\n",
       "      <td>1</td>\n",
       "      <td>-6.5</td>\n",
       "      <td>None</td>\n",
       "      <td>True</td>\n",
       "      <td>True</td>\n",
       "      <td>530</td>\n",
       "      <td>1A</td>\n",
       "      <td>(1, -6.5, 530)</td>\n",
       "    </tr>\n",
       "    <tr>\n",
       "      <th>0</th>\n",
       "      <td>1</td>\n",
       "      <td>-6.0</td>\n",
       "      <td>None</td>\n",
       "      <td>False</td>\n",
       "      <td>False</td>\n",
       "      <td>501</td>\n",
       "      <td>1A</td>\n",
       "      <td>(1, -6.0, 501)</td>\n",
       "    </tr>\n",
       "    <tr>\n",
       "      <th>25</th>\n",
       "      <td>1</td>\n",
       "      <td>-5.5</td>\n",
       "      <td>Closed</td>\n",
       "      <td>True</td>\n",
       "      <td>True</td>\n",
       "      <td>526</td>\n",
       "      <td>1B</td>\n",
       "      <td>(1, -5.5, 526)</td>\n",
       "    </tr>\n",
       "    <tr>\n",
       "      <th>26</th>\n",
       "      <td>1</td>\n",
       "      <td>-5.5</td>\n",
       "      <td>None</td>\n",
       "      <td>True</td>\n",
       "      <td>False</td>\n",
       "      <td>527</td>\n",
       "      <td>1A</td>\n",
       "      <td>(1, -5.5, 527)</td>\n",
       "    </tr>\n",
       "    <tr>\n",
       "      <th>1</th>\n",
       "      <td>1</td>\n",
       "      <td>-5.0</td>\n",
       "      <td>None</td>\n",
       "      <td>False</td>\n",
       "      <td>False</td>\n",
       "      <td>502</td>\n",
       "      <td>1A</td>\n",
       "      <td>(1, -5.0, 502)</td>\n",
       "    </tr>\n",
       "    <tr>\n",
       "      <th>2</th>\n",
       "      <td>1</td>\n",
       "      <td>-5.0</td>\n",
       "      <td>Closed</td>\n",
       "      <td>False</td>\n",
       "      <td>False</td>\n",
       "      <td>503</td>\n",
       "      <td>1B</td>\n",
       "      <td>(1, -5.0, 503)</td>\n",
       "    </tr>\n",
       "    <tr>\n",
       "      <th>3</th>\n",
       "      <td>1</td>\n",
       "      <td>-4.0</td>\n",
       "      <td>None</td>\n",
       "      <td>False</td>\n",
       "      <td>False</td>\n",
       "      <td>504</td>\n",
       "      <td>1A</td>\n",
       "      <td>(1, -4.0, 504)</td>\n",
       "    </tr>\n",
       "    <tr>\n",
       "      <th>4</th>\n",
       "      <td>1</td>\n",
       "      <td>-4.0</td>\n",
       "      <td>Closed</td>\n",
       "      <td>False</td>\n",
       "      <td>False</td>\n",
       "      <td>505</td>\n",
       "      <td>1B</td>\n",
       "      <td>(1, -4.0, 505)</td>\n",
       "    </tr>\n",
       "    <tr>\n",
       "      <th>30</th>\n",
       "      <td>1</td>\n",
       "      <td>-3.5</td>\n",
       "      <td>None</td>\n",
       "      <td>True</td>\n",
       "      <td>False</td>\n",
       "      <td>546</td>\n",
       "      <td>1A</td>\n",
       "      <td>(1, -3.5, 546)</td>\n",
       "    </tr>\n",
       "    <tr>\n",
       "      <th>31</th>\n",
       "      <td>1</td>\n",
       "      <td>-3.5</td>\n",
       "      <td>Closed</td>\n",
       "      <td>True</td>\n",
       "      <td>False</td>\n",
       "      <td>547</td>\n",
       "      <td>1B</td>\n",
       "      <td>(1, -3.5, 547)</td>\n",
       "    </tr>\n",
       "    <tr>\n",
       "      <th>5</th>\n",
       "      <td>1</td>\n",
       "      <td>-3.0</td>\n",
       "      <td>None</td>\n",
       "      <td>False</td>\n",
       "      <td>False</td>\n",
       "      <td>506</td>\n",
       "      <td>1A</td>\n",
       "      <td>(1, -3.0, 506)</td>\n",
       "    </tr>\n",
       "    <tr>\n",
       "      <th>6</th>\n",
       "      <td>1</td>\n",
       "      <td>-3.0</td>\n",
       "      <td>Closed</td>\n",
       "      <td>False</td>\n",
       "      <td>False</td>\n",
       "      <td>507</td>\n",
       "      <td>1B</td>\n",
       "      <td>(1, -3.0, 507)</td>\n",
       "    </tr>\n",
       "    <tr>\n",
       "      <th>7</th>\n",
       "      <td>1</td>\n",
       "      <td>-2.0</td>\n",
       "      <td>None</td>\n",
       "      <td>False</td>\n",
       "      <td>False</td>\n",
       "      <td>508</td>\n",
       "      <td>1A</td>\n",
       "      <td>(1, -2.0, 508)</td>\n",
       "    </tr>\n",
       "    <tr>\n",
       "      <th>8</th>\n",
       "      <td>1</td>\n",
       "      <td>-2.0</td>\n",
       "      <td>Closed</td>\n",
       "      <td>False</td>\n",
       "      <td>False</td>\n",
       "      <td>509</td>\n",
       "      <td>1B</td>\n",
       "      <td>(1, -2.0, 509)</td>\n",
       "    </tr>\n",
       "    <tr>\n",
       "      <th>9</th>\n",
       "      <td>1</td>\n",
       "      <td>-1.0</td>\n",
       "      <td>None</td>\n",
       "      <td>False</td>\n",
       "      <td>False</td>\n",
       "      <td>510</td>\n",
       "      <td>1A</td>\n",
       "      <td>(1, -1.0, 510)</td>\n",
       "    </tr>\n",
       "    <tr>\n",
       "      <th>10</th>\n",
       "      <td>1</td>\n",
       "      <td>-1.0</td>\n",
       "      <td>Closed</td>\n",
       "      <td>False</td>\n",
       "      <td>False</td>\n",
       "      <td>511</td>\n",
       "      <td>1B</td>\n",
       "      <td>(1, -1.0, 511)</td>\n",
       "    </tr>\n",
       "    <tr>\n",
       "      <th>11</th>\n",
       "      <td>1</td>\n",
       "      <td>0.0</td>\n",
       "      <td>None</td>\n",
       "      <td>False</td>\n",
       "      <td>False</td>\n",
       "      <td>512</td>\n",
       "      <td>1A</td>\n",
       "      <td>(1, 0.0, 512)</td>\n",
       "    </tr>\n",
       "    <tr>\n",
       "      <th>12</th>\n",
       "      <td>1</td>\n",
       "      <td>0.0</td>\n",
       "      <td>Closed</td>\n",
       "      <td>False</td>\n",
       "      <td>False</td>\n",
       "      <td>513</td>\n",
       "      <td>1B</td>\n",
       "      <td>(1, 0.0, 513)</td>\n",
       "    </tr>\n",
       "    <tr>\n",
       "      <th>13</th>\n",
       "      <td>1</td>\n",
       "      <td>1.0</td>\n",
       "      <td>None</td>\n",
       "      <td>False</td>\n",
       "      <td>False</td>\n",
       "      <td>514</td>\n",
       "      <td>1A</td>\n",
       "      <td>(1, 1.0, 514)</td>\n",
       "    </tr>\n",
       "    <tr>\n",
       "      <th>14</th>\n",
       "      <td>1</td>\n",
       "      <td>1.0</td>\n",
       "      <td>Closed</td>\n",
       "      <td>False</td>\n",
       "      <td>False</td>\n",
       "      <td>515</td>\n",
       "      <td>1B</td>\n",
       "      <td>(1, 1.0, 515)</td>\n",
       "    </tr>\n",
       "    <tr>\n",
       "      <th>15</th>\n",
       "      <td>1</td>\n",
       "      <td>2.0</td>\n",
       "      <td>None</td>\n",
       "      <td>False</td>\n",
       "      <td>False</td>\n",
       "      <td>516</td>\n",
       "      <td>1A</td>\n",
       "      <td>(1, 2.0, 516)</td>\n",
       "    </tr>\n",
       "    <tr>\n",
       "      <th>16</th>\n",
       "      <td>1</td>\n",
       "      <td>2.0</td>\n",
       "      <td>Closed</td>\n",
       "      <td>False</td>\n",
       "      <td>False</td>\n",
       "      <td>517</td>\n",
       "      <td>1B</td>\n",
       "      <td>(1, 2.0, 517)</td>\n",
       "    </tr>\n",
       "    <tr>\n",
       "      <th>17</th>\n",
       "      <td>1</td>\n",
       "      <td>3.0</td>\n",
       "      <td>None</td>\n",
       "      <td>False</td>\n",
       "      <td>False</td>\n",
       "      <td>518</td>\n",
       "      <td>1A</td>\n",
       "      <td>(1, 3.0, 518)</td>\n",
       "    </tr>\n",
       "    <tr>\n",
       "      <th>18</th>\n",
       "      <td>1</td>\n",
       "      <td>3.0</td>\n",
       "      <td>Closed</td>\n",
       "      <td>False</td>\n",
       "      <td>False</td>\n",
       "      <td>519</td>\n",
       "      <td>1B</td>\n",
       "      <td>(1, 3.0, 519)</td>\n",
       "    </tr>\n",
       "    <tr>\n",
       "      <th>32</th>\n",
       "      <td>1</td>\n",
       "      <td>3.5</td>\n",
       "      <td>None</td>\n",
       "      <td>True</td>\n",
       "      <td>False</td>\n",
       "      <td>548</td>\n",
       "      <td>1A</td>\n",
       "      <td>(1, 3.5, 548)</td>\n",
       "    </tr>\n",
       "    <tr>\n",
       "      <th>33</th>\n",
       "      <td>1</td>\n",
       "      <td>3.5</td>\n",
       "      <td>Closed</td>\n",
       "      <td>True</td>\n",
       "      <td>False</td>\n",
       "      <td>549</td>\n",
       "      <td>1B</td>\n",
       "      <td>(1, 3.5, 549)</td>\n",
       "    </tr>\n",
       "    <tr>\n",
       "      <th>19</th>\n",
       "      <td>1</td>\n",
       "      <td>4.0</td>\n",
       "      <td>None</td>\n",
       "      <td>False</td>\n",
       "      <td>False</td>\n",
       "      <td>520</td>\n",
       "      <td>1A</td>\n",
       "      <td>(1, 4.0, 520)</td>\n",
       "    </tr>\n",
       "    <tr>\n",
       "      <th>20</th>\n",
       "      <td>1</td>\n",
       "      <td>4.0</td>\n",
       "      <td>Closed</td>\n",
       "      <td>False</td>\n",
       "      <td>False</td>\n",
       "      <td>521</td>\n",
       "      <td>1B</td>\n",
       "      <td>(1, 4.0, 521)</td>\n",
       "    </tr>\n",
       "    <tr>\n",
       "      <th>21</th>\n",
       "      <td>1</td>\n",
       "      <td>5.0</td>\n",
       "      <td>None</td>\n",
       "      <td>False</td>\n",
       "      <td>False</td>\n",
       "      <td>522</td>\n",
       "      <td>1A</td>\n",
       "      <td>(1, 5.0, 522)</td>\n",
       "    </tr>\n",
       "    <tr>\n",
       "      <th>22</th>\n",
       "      <td>1</td>\n",
       "      <td>5.0</td>\n",
       "      <td>Closed</td>\n",
       "      <td>False</td>\n",
       "      <td>False</td>\n",
       "      <td>523</td>\n",
       "      <td>1B</td>\n",
       "      <td>(1, 5.0, 523)</td>\n",
       "    </tr>\n",
       "    <tr>\n",
       "      <th>27</th>\n",
       "      <td>1</td>\n",
       "      <td>5.5</td>\n",
       "      <td>Closed</td>\n",
       "      <td>True</td>\n",
       "      <td>True</td>\n",
       "      <td>528</td>\n",
       "      <td>1B</td>\n",
       "      <td>(1, 5.5, 528)</td>\n",
       "    </tr>\n",
       "    <tr>\n",
       "      <th>28</th>\n",
       "      <td>1</td>\n",
       "      <td>5.5</td>\n",
       "      <td>None</td>\n",
       "      <td>True</td>\n",
       "      <td>False</td>\n",
       "      <td>529</td>\n",
       "      <td>1A</td>\n",
       "      <td>(1, 5.5, 529)</td>\n",
       "    </tr>\n",
       "    <tr>\n",
       "      <th>23</th>\n",
       "      <td>1</td>\n",
       "      <td>6.0</td>\n",
       "      <td>None</td>\n",
       "      <td>False</td>\n",
       "      <td>False</td>\n",
       "      <td>524</td>\n",
       "      <td>1A</td>\n",
       "      <td>(1, 6.0, 524)</td>\n",
       "    </tr>\n",
       "    <tr>\n",
       "      <th>24</th>\n",
       "      <td>1</td>\n",
       "      <td>6.5</td>\n",
       "      <td>None</td>\n",
       "      <td>True</td>\n",
       "      <td>True</td>\n",
       "      <td>525</td>\n",
       "      <td>1A</td>\n",
       "      <td>(1, 6.5, 525)</td>\n",
       "    </tr>\n",
       "  </tbody>\n",
       "</table>\n",
       "</div>"
      ],
      "text/plain": [
       "    ROI  SliceIndex HoleType  Interpolated  Boundary  ContourIndex  \\\n",
       "29    1        -6.5     None          True      True           530   \n",
       "0     1        -6.0     None         False     False           501   \n",
       "25    1        -5.5   Closed          True      True           526   \n",
       "26    1        -5.5     None          True     False           527   \n",
       "1     1        -5.0     None         False     False           502   \n",
       "2     1        -5.0   Closed         False     False           503   \n",
       "3     1        -4.0     None         False     False           504   \n",
       "4     1        -4.0   Closed         False     False           505   \n",
       "30    1        -3.5     None          True     False           546   \n",
       "31    1        -3.5   Closed          True     False           547   \n",
       "5     1        -3.0     None         False     False           506   \n",
       "6     1        -3.0   Closed         False     False           507   \n",
       "7     1        -2.0     None         False     False           508   \n",
       "8     1        -2.0   Closed         False     False           509   \n",
       "9     1        -1.0     None         False     False           510   \n",
       "10    1        -1.0   Closed         False     False           511   \n",
       "11    1         0.0     None         False     False           512   \n",
       "12    1         0.0   Closed         False     False           513   \n",
       "13    1         1.0     None         False     False           514   \n",
       "14    1         1.0   Closed         False     False           515   \n",
       "15    1         2.0     None         False     False           516   \n",
       "16    1         2.0   Closed         False     False           517   \n",
       "17    1         3.0     None         False     False           518   \n",
       "18    1         3.0   Closed         False     False           519   \n",
       "32    1         3.5     None          True     False           548   \n",
       "33    1         3.5   Closed          True     False           549   \n",
       "19    1         4.0     None         False     False           520   \n",
       "20    1         4.0   Closed         False     False           521   \n",
       "21    1         5.0     None         False     False           522   \n",
       "22    1         5.0   Closed         False     False           523   \n",
       "27    1         5.5   Closed          True      True           528   \n",
       "28    1         5.5     None          True     False           529   \n",
       "23    1         6.0     None         False     False           524   \n",
       "24    1         6.5     None          True      True           525   \n",
       "\n",
       "   RegionIndex           Label  \n",
       "29          1A  (1, -6.5, 530)  \n",
       "0           1A  (1, -6.0, 501)  \n",
       "25          1B  (1, -5.5, 526)  \n",
       "26          1A  (1, -5.5, 527)  \n",
       "1           1A  (1, -5.0, 502)  \n",
       "2           1B  (1, -5.0, 503)  \n",
       "3           1A  (1, -4.0, 504)  \n",
       "4           1B  (1, -4.0, 505)  \n",
       "30          1A  (1, -3.5, 546)  \n",
       "31          1B  (1, -3.5, 547)  \n",
       "5           1A  (1, -3.0, 506)  \n",
       "6           1B  (1, -3.0, 507)  \n",
       "7           1A  (1, -2.0, 508)  \n",
       "8           1B  (1, -2.0, 509)  \n",
       "9           1A  (1, -1.0, 510)  \n",
       "10          1B  (1, -1.0, 511)  \n",
       "11          1A   (1, 0.0, 512)  \n",
       "12          1B   (1, 0.0, 513)  \n",
       "13          1A   (1, 1.0, 514)  \n",
       "14          1B   (1, 1.0, 515)  \n",
       "15          1A   (1, 2.0, 516)  \n",
       "16          1B   (1, 2.0, 517)  \n",
       "17          1A   (1, 3.0, 518)  \n",
       "18          1B   (1, 3.0, 519)  \n",
       "32          1A   (1, 3.5, 548)  \n",
       "33          1B   (1, 3.5, 549)  \n",
       "19          1A   (1, 4.0, 520)  \n",
       "20          1B   (1, 4.0, 521)  \n",
       "21          1A   (1, 5.0, 522)  \n",
       "22          1B   (1, 5.0, 523)  \n",
       "27          1B   (1, 5.5, 528)  \n",
       "28          1A   (1, 5.5, 529)  \n",
       "23          1A   (1, 6.0, 524)  \n",
       "24          1A   (1, 6.5, 525)  "
      ]
     },
     "execution_count": 24,
     "metadata": {},
     "output_type": "execute_result"
    }
   ],
   "source": [
    "structure_a.contour_lookup"
   ]
  },
  {
   "cell_type": "code",
   "execution_count": 25,
   "metadata": {},
   "outputs": [
    {
     "data": {
      "image/png": "[encoded data removed]",
      "text/plain": [
       "<Figure size 400x200 with 1 Axes>"
      ]
     },
     "metadata": {},
     "output_type": "display_data"
    }
   ],
   "source": [
    "poly_a = structure_a.get_slice(4)\n",
    "poly_b = structure_b.get_slice(4)\n",
    "ax = plot_ab(poly_a, poly_b, add_axis=False)"
   ]
  },
  {
   "cell_type": "code",
   "execution_count": 26,
   "metadata": {},
   "outputs": [
    {
     "data": {
      "image/svg+xml": [
       "<svg xmlns=\"http://www.w3.org/2000/svg\" xmlns:xlink=\"http://www.w3.org/1999/xlink\" width=\"100.0\" height=\"100.0\" viewBox=\"-5.4 -2.636 10.8 5.272\" preserveAspectRatio=\"xMinYMin meet\"><g transform=\"matrix(1,0,0,-1,0,0.0)\"><g><path fill-rule=\"evenodd\" fill=\"#66cc99\" stroke=\"#555555\" stroke-width=\"0.21600000000000003\" opacity=\"0.6\" d=\"M -5.0,2.236 L 5.0,2.236 L 5.0,-2.236 L -5.0,-2.236 L -5.0,2.236 z M -4.0,1.5 L -4.0,-1.5 L 4.0,-1.5 L 4.0,1.5 L -4.0,1.5 z\" /></g></g></svg>"
      ],
      "text/plain": [
       "<MULTIPOLYGON Z (((-5 2.236 4, 5 2.236 4, 5 -2.236 4, -5 -2.236 4, -5 2.236 ...>"
      ]
     },
     "execution_count": 26,
     "metadata": {},
     "output_type": "execute_result"
    }
   ],
   "source": [
    "list(poly_a.regions.values())[0]"
   ]
  },
  {
   "cell_type": "code",
   "execution_count": 27,
   "metadata": {},
   "outputs": [
    {
     "data": {
      "application/vnd.microsoft.datawrangler.viewer.v0+json": {
       "columns": [
        {
         "name": "index",
         "rawType": "int64",
         "type": "integer"
        },
        {
         "name": "ROI",
         "rawType": "int64",
         "type": "integer"
        },
        {
         "name": "SliceIndex",
         "rawType": "float64",
         "type": "float"
        },
        {
         "name": "HoleType",
         "rawType": "category",
         "type": "unknown"
        },
        {
         "name": "Interpolated",
         "rawType": "bool",
         "type": "boolean"
        },
        {
         "name": "Boundary",
         "rawType": "bool",
         "type": "boolean"
        },
        {
         "name": "ContourIndex",
         "rawType": "int64",
         "type": "integer"
        },
        {
         "name": "RegionIndex",
         "rawType": "object",
         "type": "string"
        },
        {
         "name": "Label",
         "rawType": "object",
         "type": "unknown"
        }
       ],
       "ref": "c7030b64-1bee-4ff6-8063-d0f14ed5ff88",
       "rows": [
        [
         "7",
         "2",
         "-3.5",
         "None",
         "True",
         "True",
         "538",
         "2A",
         "(np.int64(2), -3.5, 538)"
        ],
        [
         "0",
         "2",
         "-3.0",
         "None",
         "False",
         "False",
         "531",
         "2A",
         "(np.int64(2), -3.0, 531)"
        ],
        [
         "1",
         "2",
         "-2.0",
         "None",
         "False",
         "False",
         "532",
         "2A",
         "(np.int64(2), -2.0, 532)"
        ],
        [
         "2",
         "2",
         "-1.0",
         "None",
         "False",
         "False",
         "533",
         "2A",
         "(np.int64(2), -1.0, 533)"
        ],
        [
         "3",
         "2",
         "0.0",
         "None",
         "False",
         "False",
         "534",
         "2A",
         "(np.int64(2), 0.0, 534)"
        ],
        [
         "4",
         "2",
         "1.0",
         "None",
         "False",
         "False",
         "535",
         "2A",
         "(np.int64(2), 1.0, 535)"
        ],
        [
         "5",
         "2",
         "2.0",
         "None",
         "False",
         "False",
         "536",
         "2A",
         "(np.int64(2), 2.0, 536)"
        ],
        [
         "6",
         "2",
         "3.0",
         "None",
         "False",
         "False",
         "537",
         "2A",
         "(np.int64(2), 3.0, 537)"
        ],
        [
         "8",
         "2",
         "3.5",
         "None",
         "True",
         "True",
         "539",
         "2A",
         "(np.int64(2), 3.5, 539)"
        ]
       ],
       "shape": {
        "columns": 8,
        "rows": 9
       }
      },
      "text/html": [
       "<div>\n",
       "<style scoped>\n",
       "    .dataframe tbody tr th:only-of-type {\n",
       "        vertical-align: middle;\n",
       "    }\n",
       "\n",
       "    .dataframe tbody tr th {\n",
       "        vertical-align: top;\n",
       "    }\n",
       "\n",
       "    .dataframe thead th {\n",
       "        text-align: right;\n",
       "    }\n",
       "</style>\n",
       "<table border=\"1\" class=\"dataframe\">\n",
       "  <thead>\n",
       "    <tr style=\"text-align: right;\">\n",
       "      <th></th>\n",
       "      <th>ROI</th>\n",
       "      <th>SliceIndex</th>\n",
       "      <th>HoleType</th>\n",
       "      <th>Interpolated</th>\n",
       "      <th>Boundary</th>\n",
       "      <th>ContourIndex</th>\n",
       "      <th>RegionIndex</th>\n",
       "      <th>Label</th>\n",
       "    </tr>\n",
       "  </thead>\n",
       "  <tbody>\n",
       "    <tr>\n",
       "      <th>7</th>\n",
       "      <td>2</td>\n",
       "      <td>-3.5</td>\n",
       "      <td>None</td>\n",
       "      <td>True</td>\n",
       "      <td>True</td>\n",
       "      <td>538</td>\n",
       "      <td>2A</td>\n",
       "      <td>(2, -3.5, 538)</td>\n",
       "    </tr>\n",
       "    <tr>\n",
       "      <th>0</th>\n",
       "      <td>2</td>\n",
       "      <td>-3.0</td>\n",
       "      <td>None</td>\n",
       "      <td>False</td>\n",
       "      <td>False</td>\n",
       "      <td>531</td>\n",
       "      <td>2A</td>\n",
       "      <td>(2, -3.0, 531)</td>\n",
       "    </tr>\n",
       "    <tr>\n",
       "      <th>1</th>\n",
       "      <td>2</td>\n",
       "      <td>-2.0</td>\n",
       "      <td>None</td>\n",
       "      <td>False</td>\n",
       "      <td>False</td>\n",
       "      <td>532</td>\n",
       "      <td>2A</td>\n",
       "      <td>(2, -2.0, 532)</td>\n",
       "    </tr>\n",
       "    <tr>\n",
       "      <th>2</th>\n",
       "      <td>2</td>\n",
       "      <td>-1.0</td>\n",
       "      <td>None</td>\n",
       "      <td>False</td>\n",
       "      <td>False</td>\n",
       "      <td>533</td>\n",
       "      <td>2A</td>\n",
       "      <td>(2, -1.0, 533)</td>\n",
       "    </tr>\n",
       "    <tr>\n",
       "      <th>3</th>\n",
       "      <td>2</td>\n",
       "      <td>0.0</td>\n",
       "      <td>None</td>\n",
       "      <td>False</td>\n",
       "      <td>False</td>\n",
       "      <td>534</td>\n",
       "      <td>2A</td>\n",
       "      <td>(2, 0.0, 534)</td>\n",
       "    </tr>\n",
       "    <tr>\n",
       "      <th>4</th>\n",
       "      <td>2</td>\n",
       "      <td>1.0</td>\n",
       "      <td>None</td>\n",
       "      <td>False</td>\n",
       "      <td>False</td>\n",
       "      <td>535</td>\n",
       "      <td>2A</td>\n",
       "      <td>(2, 1.0, 535)</td>\n",
       "    </tr>\n",
       "    <tr>\n",
       "      <th>5</th>\n",
       "      <td>2</td>\n",
       "      <td>2.0</td>\n",
       "      <td>None</td>\n",
       "      <td>False</td>\n",
       "      <td>False</td>\n",
       "      <td>536</td>\n",
       "      <td>2A</td>\n",
       "      <td>(2, 2.0, 536)</td>\n",
       "    </tr>\n",
       "    <tr>\n",
       "      <th>6</th>\n",
       "      <td>2</td>\n",
       "      <td>3.0</td>\n",
       "      <td>None</td>\n",
       "      <td>False</td>\n",
       "      <td>False</td>\n",
       "      <td>537</td>\n",
       "      <td>2A</td>\n",
       "      <td>(2, 3.0, 537)</td>\n",
       "    </tr>\n",
       "    <tr>\n",
       "      <th>8</th>\n",
       "      <td>2</td>\n",
       "      <td>3.5</td>\n",
       "      <td>None</td>\n",
       "      <td>True</td>\n",
       "      <td>True</td>\n",
       "      <td>539</td>\n",
       "      <td>2A</td>\n",
       "      <td>(2, 3.5, 539)</td>\n",
       "    </tr>\n",
       "  </tbody>\n",
       "</table>\n",
       "</div>"
      ],
      "text/plain": [
       "   ROI  SliceIndex HoleType  Interpolated  Boundary  ContourIndex RegionIndex  \\\n",
       "7    2        -3.5     None          True      True           538          2A   \n",
       "0    2        -3.0     None         False     False           531          2A   \n",
       "1    2        -2.0     None         False     False           532          2A   \n",
       "2    2        -1.0     None         False     False           533          2A   \n",
       "3    2         0.0     None         False     False           534          2A   \n",
       "4    2         1.0     None         False     False           535          2A   \n",
       "5    2         2.0     None         False     False           536          2A   \n",
       "6    2         3.0     None         False     False           537          2A   \n",
       "8    2         3.5     None          True      True           539          2A   \n",
       "\n",
       "            Label  \n",
       "7  (2, -3.5, 538)  \n",
       "0  (2, -3.0, 531)  \n",
       "1  (2, -2.0, 532)  \n",
       "2  (2, -1.0, 533)  \n",
       "3   (2, 0.0, 534)  \n",
       "4   (2, 1.0, 535)  \n",
       "5   (2, 2.0, 536)  \n",
       "6   (2, 3.0, 537)  \n",
       "8   (2, 3.5, 539)  "
      ]
     },
     "execution_count": 27,
     "metadata": {},
     "output_type": "execute_result"
    }
   ],
   "source": [
    "structure_b.contour_lookup"
   ]
  },
  {
   "cell_type": "code",
   "execution_count": 28,
   "metadata": {},
   "outputs": [
    {
     "name": "stdout",
     "output_type": "stream",
     "text": [
      "Relationship: Surrounds\n"
     ]
    }
   ],
   "source": [
    "relation_type = relation.identify_relation()\n",
    "print(relation_type)\n",
    "#assert relation_type == RelationshipType.SURROUNDS"
   ]
  },
  {
   "cell_type": "markdown",
   "metadata": {},
   "source": [
    "#### Sphere in Shell\n",
    "- Hollow sphere with the second structure as an inner sphere.\n",
    "\n",
    "![Sphere in Shell](<../../Images/FreeCAD Images/Sphere in Shell.png>)"
   ]
  },
  {
   "cell_type": "code",
   "execution_count": 29,
   "metadata": {},
   "outputs": [],
   "source": [
    "def sphere_in_shell_example():\n",
    "    slice_spacing = 1\n",
    "    # Body structure defines slices in use\n",
    "    body = make_vertical_cylinder(roi_num=0, radius=16, length=20, offset_z=0,\n",
    "                                  spacing=slice_spacing)\n",
    "    sphere12 = make_sphere(roi_num=1, radius=6, spacing=slice_spacing)\n",
    "    hole10 = make_sphere(roi_num=1, radius=5, spacing=slice_spacing)\n",
    "    sphere6 = make_sphere(roi_num=2, radius=3, spacing=slice_spacing)\n",
    "\n",
    "    # combine the contours\n",
    "    slice_data = body + sphere12 + hole10 + sphere6\n",
    "    return slice_data\n"
   ]
  },
  {
   "cell_type": "code",
   "execution_count": 30,
   "metadata": {},
   "outputs": [
    {
     "name": "stderr",
     "output_type": "stream",
     "text": [
      "d:\\.conda\\envs\\StructureRelations\\Lib\\site-packages\\shapely\\linear.py:203: RuntimeWarning: invalid value encountered in shortest_line\n",
      "  return lib.shortest_line(a, b, **kwargs)\n",
      "d:\\.conda\\envs\\StructureRelations\\Lib\\site-packages\\shapely\\linear.py:203: RuntimeWarning: invalid value encountered in shortest_line\n",
      "  return lib.shortest_line(a, b, **kwargs)\n"
     ]
    },
    {
     "name": "stdout",
     "output_type": "stream",
     "text": [
      "Relationship: Surrounds\n"
     ]
    }
   ],
   "source": [
    "slice_data = sphere_in_shell_example()\n",
    "structures = StructureSet(slice_data)\n",
    "structure_a = structures.structures[1]\n",
    "structure_b = structures.structures[2]\n",
    "relation = structure_a.relate(structure_b)\n",
    "relation_type = relation.identify_relation()\n",
    "print(relation_type)\n",
    "#assert relation_type == RelationshipType.SURROUNDS"
   ]
  },
  {
   "cell_type": "markdown",
   "metadata": {},
   "source": [
    "#### Sphere in Cylinder in Box\n",
    "![alt text](<../../Images/FreeCAD Images/Sphere in Cylinder in Box.png>)"
   ]
  },
  {
   "cell_type": "code",
   "execution_count": 31,
   "metadata": {},
   "outputs": [],
   "source": [
    "def surrounds_sphere_in_cylinders_in_box_example():\n",
    "    slice_spacing = 1\n",
    "    # Body structure defines slices in use\n",
    "    body = make_box(roi_num=0, width=20, offset_z=0,\n",
    "                                  spacing=slice_spacing)\n",
    "    # embedded boxes\n",
    "    cube6 = make_box(roi_num=1, width=10, length=10, height=10, spacing=slice_spacing)\n",
    "    left_cylinder = make_vertical_cylinder(roi_num=1, radius=2, length=8,\n",
    "                                           offset_x=-2.5, offset_z=0,\n",
    "                                           spacing=slice_spacing)\n",
    "    right_cylinder = make_vertical_cylinder(roi_num=1, radius=2, length=8,\n",
    "                                            offset_x=2.5, offset_z=0,\n",
    "                                            spacing=slice_spacing)\n",
    "    right_sphere = make_sphere(roi_num=2, radius=1,\n",
    "                               offset_x=2.5, offset_z=0,\n",
    "                               spacing=slice_spacing)\n",
    "    # combine the contours\n",
    "    slice_data = body + cube6 + left_cylinder + right_cylinder + right_sphere\n",
    "    return slice_data"
   ]
  },
  {
   "cell_type": "code",
   "execution_count": 32,
   "metadata": {},
   "outputs": [
    {
     "name": "stdout",
     "output_type": "stream",
     "text": [
      "Relationship: Surrounds\n"
     ]
    }
   ],
   "source": [
    "slice_data = surrounds_sphere_in_cylinders_in_box_example()\n",
    "structures = StructureSet(slice_data)\n",
    "structure_a = structures.structures[1]\n",
    "structure_b = structures.structures[2]\n",
    "relation = structure_a.relate(structure_b)\n",
    "relation_type = relation.identify_relation()\n",
    "print(relation_type)\n",
    "assert relation_type == RelationshipType.SURROUNDS"
   ]
  },
  {
   "cell_type": "markdown",
   "metadata": {},
   "source": [
    "## Shelters\n",
    "<link rel=\"stylesheet\" href=\"relations.css\">\n",
    "<table width=\"350px\">\n",
    "<tr class=\"l\"><th>Shelters</th><th>Transitive</t></tr>\n",
    "<td class=\"d\" colspan=\"2\">\n",
    "<span class=\"a\">a</span> and <span class=\"b\">b</span> have no points in common, but the Convex Hull of <span class=\"a\">a</span> contains <span class=\"b\">b</span>.\n",
    "</td></tr><tr><td colspan=\"2\">\n",
    "<img src=\"../../Images/Relationships/shelters.png\" alt=\"shelters\">\n",
    "</td></tr></table>\n",
    "\n",
    "- Surrounds geometry with hole opened to exterior\n"
   ]
  },
  {
   "cell_type": "code",
   "execution_count": 33,
   "metadata": {},
   "outputs": [],
   "source": [
    "def shelters_open_cylinder_example():\n",
    "    slice_spacing = 1\n",
    "    # Body structure defines slices in use\n",
    "    body = make_vertical_cylinder(roi_num=0, radius=12, length=16, offset_z=0,\n",
    "                                  spacing=slice_spacing)\n",
    "    outer_cylinder = make_vertical_cylinder(roi_num=1, radius=6, length=8,\n",
    "                                            spacing=slice_spacing)\n",
    "    cylinder_hole = make_vertical_cylinder(roi_num=1, radius=5, length=8,\n",
    "                                           spacing=slice_spacing)\n",
    "    surrounded_cylinder = make_vertical_cylinder(roi_num=2, radius=3, length=6,\n",
    "                                                 spacing=slice_spacing)\n",
    "\n",
    "    # combine the contours\n",
    "    slice_data = body + outer_cylinder + cylinder_hole + surrounded_cylinder\n",
    "    return slice_data\n"
   ]
  },
  {
   "cell_type": "code",
   "execution_count": 34,
   "metadata": {},
   "outputs": [
    {
     "name": "stdout",
     "output_type": "stream",
     "text": [
      "Relationship: Shelters\n"
     ]
    }
   ],
   "source": [
    "slice_data = shelters_open_cylinder_example()\n",
    "structures = StructureSet(slice_data)\n",
    "structure_a = structures.structures[1]\n",
    "structure_b = structures.structures[2]\n",
    "relation = structure_a.relate(structure_b)\n",
    "relation_type = relation.identify_relation()\n",
    "print(relation_type)\n",
    "assert relation_type == RelationshipType.SHELTERS"
   ]
  },
  {
   "cell_type": "code",
   "execution_count": 35,
   "metadata": {},
   "outputs": [],
   "source": [
    "def shelters_horizontal_cylinder_single_side_example():\n",
    "    slice_spacing = 1\n",
    "    # Body structure defines slices in use\n",
    "    body = make_vertical_cylinder(roi_num=0, radius=12, length=16, offset_z=0,\n",
    "                                  spacing=slice_spacing)\n",
    "    outer_cylinder = make_horizontal_cylinder(roi_num=1, radius=6, length=10,\n",
    "                                              spacing=slice_spacing)\n",
    "    cylinder_hole = make_horizontal_cylinder(roi_num=1, radius=4, length=8,\n",
    "                                             offset_x=1, offset_z=0,\n",
    "                                             spacing=slice_spacing)\n",
    "    surrounded_cylinder = make_horizontal_cylinder(roi_num=2, radius=3,\n",
    "                                                   length=6, offset_x=1,\n",
    "                                                   spacing=slice_spacing)\n",
    "\n",
    "    # combine the contours\n",
    "    slice_data = outer_cylinder + cylinder_hole + surrounded_cylinder\n",
    "    return slice_data\n"
   ]
  },
  {
   "cell_type": "code",
   "execution_count": 36,
   "metadata": {},
   "outputs": [
    {
     "name": "stdout",
     "output_type": "stream",
     "text": [
      "Relationship: Shelters\n"
     ]
    }
   ],
   "source": [
    "slice_data = shelters_horizontal_cylinder_single_side_example()\n",
    "structures = StructureSet(slice_data)\n",
    "structure_a = structures.structures[1]\n",
    "structure_b = structures.structures[2]\n",
    "relation = structure_a.relate(structure_b)\n",
    "relation_type = relation.identify_relation()\n",
    "print(relation_type)\n",
    "assert relation_type == RelationshipType.SHELTERS"
   ]
  },
  {
   "cell_type": "markdown",
   "metadata": {},
   "source": [
    "#### Horizontal Sheltered Cylinder\n",
    "- Cylindrical shell with an interior cylinder ending inside the outer cylinder\n",
    "\n",
    "![Sheltered Horizontal cylinder](<../../Images/FreeCAD Images/Sheltered Horizontal cylinder.png>)"
   ]
  },
  {
   "cell_type": "code",
   "execution_count": 37,
   "metadata": {},
   "outputs": [],
   "source": [
    "def shelters_horizontal_cylinder_example():\n",
    "    slice_spacing = 1\n",
    "    # Body structure defines slices in use\n",
    "    body = make_vertical_cylinder(roi_num=0, radius=12, length=16, offset_z=0,\n",
    "                                  spacing=slice_spacing)\n",
    "    outer_cylinder = make_horizontal_cylinder(roi_num=1, radius=6, length=10,\n",
    "                                            spacing=slice_spacing)\n",
    "    cylinder_hole = make_horizontal_cylinder(roi_num=1, radius=5, length=10,\n",
    "                                           spacing=slice_spacing)\n",
    "    surrounded_cylinder = make_horizontal_cylinder(roi_num=2, radius=3, length=6,\n",
    "                                                 spacing=slice_spacing)\n",
    "\n",
    "    # combine the contours\n",
    "    slice_data = outer_cylinder + cylinder_hole + surrounded_cylinder\n",
    "    return slice_data\n"
   ]
  },
  {
   "cell_type": "code",
   "execution_count": 38,
   "metadata": {},
   "outputs": [
    {
     "name": "stdout",
     "output_type": "stream",
     "text": [
      "Relationship: Shelters\n"
     ]
    }
   ],
   "source": [
    "slice_data = shelters_horizontal_cylinder_example()\n",
    "structures = StructureSet(slice_data)\n",
    "structure_a = structures.structures[1]\n",
    "structure_b = structures.structures[2]\n",
    "relation = structure_a.relate(structure_b)\n",
    "relation_type = relation.identify_relation()\n",
    "print(relation_type)\n",
    "assert relation_type == RelationshipType.SHELTERS"
   ]
  },
  {
   "cell_type": "markdown",
   "metadata": {},
   "source": [
    "#### Simple Sheltered Vertical Cylinder\n",
    "- Hollow cylindrical shell with an interior cylinder ending inside the shell\n",
    "\n",
    "![Sheltered cylinder](<../../Images/FreeCAD Images/Sheltered cylinder.png>)"
   ]
  },
  {
   "cell_type": "code",
   "execution_count": 39,
   "metadata": {},
   "outputs": [],
   "source": [
    "def shelters_cylinder_example():\n",
    "    slice_spacing = 1\n",
    "    # Body structure defines slices in use\n",
    "    body = make_vertical_cylinder(roi_num=0, radius=12, length=16, offset_z=0,\n",
    "                                  spacing=slice_spacing)\n",
    "    outer_cylinder = make_vertical_cylinder(roi_num=1, radius=6, length=10,\n",
    "                                            spacing=slice_spacing)\n",
    "    cylinder_hole = make_vertical_cylinder(roi_num=1, radius=5, length=10,\n",
    "                                           spacing=slice_spacing)\n",
    "    surrounded_cylinder = make_vertical_cylinder(roi_num=2, radius=3, length=6,\n",
    "                                                 spacing=slice_spacing)\n",
    "\n",
    "    # combine the contours\n",
    "    slice_data = body + outer_cylinder + cylinder_hole + surrounded_cylinder\n",
    "    return slice_data\n"
   ]
  },
  {
   "cell_type": "markdown",
   "metadata": {},
   "source": [
    "**Currently identified as _Surrounds_**"
   ]
  },
  {
   "cell_type": "code",
   "execution_count": 40,
   "metadata": {},
   "outputs": [
    {
     "name": "stdout",
     "output_type": "stream",
     "text": [
      "Relationship: Shelters\n"
     ]
    }
   ],
   "source": [
    "slice_data = shelters_cylinder_example()\n",
    "structures = StructureSet(slice_data)\n",
    "structure_a = structures.structures[1]\n",
    "structure_b = structures.structures[2]\n",
    "relation = structure_a.relate(structure_b)\n",
    "relation_type = relation.identify_relation()\n",
    "print(relation_type)\n",
    "#assert relation_type == RelationshipType.SURROUNDS"
   ]
  },
  {
   "cell_type": "markdown",
   "metadata": {},
   "source": [
    "#### Sphere in Cylinder in Box\n",
    "![alt text](<../../Images/FreeCAD Images/Sphere in Cylinder in Box.png>)"
   ]
  },
  {
   "cell_type": "code",
   "execution_count": 41,
   "metadata": {},
   "outputs": [],
   "source": [
    "def shelters_sphere_in_cylinders_in_box_example():\n",
    "    slice_spacing = 0.5\n",
    "    # Body structure defines slices in use\n",
    "    body = make_box(roi_num=0, width=12, offset_z=0,\n",
    "                                  spacing=slice_spacing)\n",
    "    # embedded boxes\n",
    "    cube6 = make_box(roi_num=1, width=10, length=10, height=8, spacing=slice_spacing)\n",
    "    left_cylinder = make_vertical_cylinder(roi_num=1, radius=2, length=8,\n",
    "                                           offset_x=-2.5, offset_z=0,\n",
    "                                           spacing=slice_spacing)\n",
    "    right_cylinder = make_vertical_cylinder(roi_num=1, radius=2, length=8,\n",
    "                                            offset_x=2.5, offset_z=0,\n",
    "                                            spacing=slice_spacing)\n",
    "    right_sphere = make_sphere(roi_num=2, radius=1,\n",
    "                               offset_x=2.5, offset_z=0,\n",
    "                               spacing=slice_spacing)\n",
    "    # combine the contours\n",
    "    slice_data = body + cube6 + left_cylinder + right_cylinder + right_sphere\n",
    "    return slice_data"
   ]
  },
  {
   "cell_type": "code",
   "execution_count": 42,
   "metadata": {},
   "outputs": [
    {
     "name": "stdout",
     "output_type": "stream",
     "text": [
      "Relationship: Shelters\n"
     ]
    }
   ],
   "source": [
    "slice_data = shelters_sphere_in_cylinders_in_box_example()\n",
    "structures = StructureSet(slice_data)\n",
    "structure_a = structures.structures[1]\n",
    "structure_b = structures.structures[2]\n",
    "relation = structure_a.relate(structure_b)\n",
    "relation_type = relation.identify_relation()\n",
    "print(relation_type)\n",
    "assert relation_type == RelationshipType.SHELTERS"
   ]
  },
  {
   "cell_type": "markdown",
   "metadata": {},
   "source": [
    "## Disjoint"
   ]
  },
  {
   "cell_type": "markdown",
   "metadata": {},
   "source": [
    "<link rel=\"stylesheet\" href=\"relations.css\">\n",
    "<table width=\"350px\">\n",
    "<tr class=\"l\"><th>Disjoint</th><th>Symmetric</th></tr>\n",
    "<td class=\"d\" colspan=\"2\">The Convex Hull of \n",
    "<span class=\"a\">a</span> has no points in common wuth <span class=\"b\">b</span>.</td></tr>\n",
    "<tr><td colspan=\"2\">\n",
    "<img src=\"../../Images/Relationships/disjoint.png\" alt=\"Disjoint\" style=\"width: 200px\">\n",
    "</td></tr></table>"
   ]
  },
  {
   "cell_type": "markdown",
   "metadata": {},
   "source": [
    "#### Disjoint Boxes\n",
    "![Disjoint Boxes](<../../Images/FreeCAD Images/Disjoint Boxes.png>)"
   ]
  },
  {
   "cell_type": "code",
   "execution_count": 43,
   "metadata": {},
   "outputs": [],
   "source": [
    "def disjoint_boxes_example():\n",
    "    slice_spacing = 0.1\n",
    "    # Body structure defines slices in use\n",
    "    body = make_vertical_cylinder(roi_num=0, radius=20, length=20, offset_z=0,\n",
    "                                  spacing=slice_spacing)\n",
    "    # embedded boxes\n",
    "    left_cube = make_box(roi_num=1, width=2, offset_x=-3,\n",
    "                         spacing=slice_spacing)\n",
    "    right_cube = make_box(roi_num=2, width=2, offset_x=3,\n",
    "                         spacing=slice_spacing)\n",
    "    # combine the contours\n",
    "    slice_data = left_cube + right_cube + body\n",
    "    return slice_data"
   ]
  },
  {
   "cell_type": "code",
   "execution_count": 44,
   "metadata": {},
   "outputs": [
    {
     "name": "stdout",
     "output_type": "stream",
     "text": [
      "Relationship: Disjoint\n"
     ]
    }
   ],
   "source": [
    "slice_data = disjoint_boxes_example()\n",
    "structures = StructureSet(slice_data)\n",
    "structure_a = structures.structures[1]\n",
    "structure_b = structures.structures[2]\n",
    "relation = structure_a.relate(structure_b)\n",
    "relation_type = relation.identify_relation()\n",
    "print(relation_type)\n",
    "assert relation_type == RelationshipType.DISJOINT"
   ]
  },
  {
   "cell_type": "markdown",
   "metadata": {},
   "source": [
    "#### Extended Inner Cylinder\n",
    "- Concentric hollow cylinder with an interior cylinder extending beyond the outer cylinder's hole by one slice\n",
    "\n",
    "![Extended Inner Cylinder](<../../Images/FreeCAD Images/Extended Inner cylinder.png>)"
   ]
  },
  {
   "cell_type": "code",
   "execution_count": 45,
   "metadata": {},
   "outputs": [],
   "source": [
    "def extended_inner_cylinder_example():\n",
    "    slice_spacing = 1\n",
    "    # Body structure defines slices in use\n",
    "    body = make_vertical_cylinder(roi_num=0, radius=12, length=16, offset_z=0,\n",
    "                                  spacing=slice_spacing)\n",
    "    outer_cylinder = make_vertical_cylinder(roi_num=1, radius=6, length=10,\n",
    "                                            spacing=slice_spacing)\n",
    "    cylinder_hole = make_vertical_cylinder(roi_num=1, radius=5, length=10,\n",
    "                                           spacing=slice_spacing)\n",
    "    inner_cylinder = make_vertical_cylinder(roi_num=2, radius=3, length=12,\n",
    "                                                 spacing=slice_spacing)\n",
    "\n",
    "    # combine the contours\n",
    "    slice_data = body + outer_cylinder + cylinder_hole + inner_cylinder\n",
    "    return slice_data\n"
   ]
  },
  {
   "cell_type": "code",
   "execution_count": 46,
   "metadata": {},
   "outputs": [
    {
     "name": "stdout",
     "output_type": "stream",
     "text": [
      "Relationship: Disjoint\n"
     ]
    }
   ],
   "source": [
    "slice_data = extended_inner_cylinder_example()\n",
    "structures = StructureSet(slice_data)\n",
    "structure_a = structures.structures[1]\n",
    "structure_b = structures.structures[2]\n",
    "relation = structure_a.relate(structure_b)\n",
    "relation_type = relation.identify_relation()\n",
    "print(relation_type)\n",
    "assert relation_type == RelationshipType.DISJOINT"
   ]
  },
  {
   "cell_type": "markdown",
   "metadata": {},
   "source": [
    "#### Horizontal Disjoint Cylinders\n",
    "- Same as above but with horizontal cylinders\n",
    "- Cylindrical shell with an interior cylinder ending outside the larger \n",
    "    diameter cylinder\n",
    "- The relationship is **Disjoint** because the Second cylinder extends beyond \n",
    "    the horizontal bounds of the First Structure, but doe not intersect the \n",
    "    First Structure."
   ]
  },
  {
   "cell_type": "code",
   "execution_count": 47,
   "metadata": {},
   "outputs": [],
   "source": [
    "def disjoint_horizontal_cylinder_example():\n",
    "    slice_spacing = 1\n",
    "    # Body structure defines slices in use\n",
    "    body = make_vertical_cylinder(roi_num=0, radius=12, length=16, offset_z=0,\n",
    "                                  spacing=slice_spacing)\n",
    "    outer_cylinder = make_horizontal_cylinder(roi_num=1, radius=6, length=10,\n",
    "                                              spacing=slice_spacing)\n",
    "    cylinder_hole = make_horizontal_cylinder(roi_num=1, radius=5, length=10,\n",
    "                                             spacing=slice_spacing)\n",
    "    surrounded_cylinder = make_horizontal_cylinder(roi_num=2, radius=3,\n",
    "                                                   length=12,\n",
    "                                                   spacing=slice_spacing)\n",
    "    # combine the contours\n",
    "    slice_data = body + outer_cylinder + cylinder_hole + surrounded_cylinder\n",
    "    return slice_data\n"
   ]
  },
  {
   "cell_type": "code",
   "execution_count": 48,
   "metadata": {},
   "outputs": [
    {
     "name": "stdout",
     "output_type": "stream",
     "text": [
      "Relationship: Disjoint\n"
     ]
    }
   ],
   "source": [
    "slice_data = disjoint_horizontal_cylinder_example()\n",
    "structures = StructureSet(slice_data)\n",
    "structure_a = structures.structures[1]\n",
    "structure_b = structures.structures[2]\n",
    "relation = structure_a.relate(structure_b)\n",
    "relation_type = relation.identify_relation()\n",
    "print(relation_type)\n",
    "assert relation_type == RelationshipType.DISJOINT"
   ]
  },
  {
   "cell_type": "markdown",
   "metadata": {},
   "source": [
    "#### Disjoint Parallel Cylinders\n",
    "- Concentric hollow cylinder surrounding one of two smaller cylinders\n",
    "- Second cylinder is parallel, but **Disjoint**.\n",
    "- The relationship is **Disjoint** because the Second cylinder is outside of the First Structure, but doe not intersect the First Structure.\n",
    "\n",
    "![Disjoint Parallel Cylinders](<../../Images/FreeCAD Images/Disjoint Parallel Cylinders.png>)"
   ]
  },
  {
   "cell_type": "code",
   "execution_count": 49,
   "metadata": {},
   "outputs": [],
   "source": [
    "def parallel_disjoint_cylinder_example():\n",
    "    slice_spacing = 1\n",
    "    # Body structure defines slices in use\n",
    "    body = make_vertical_cylinder(roi_num=0, radius=25, length=16, offset_z=0,\n",
    "                                  spacing=slice_spacing)\n",
    "    outer_cylinder = make_vertical_cylinder(roi_num=1, radius=6, length=10,\n",
    "                                            spacing=slice_spacing)\n",
    "    cylinder_hole = make_vertical_cylinder(roi_num=1, radius=5, length=8,\n",
    "                                           spacing=slice_spacing)\n",
    "    inner_cylinder = make_vertical_cylinder(roi_num=2, radius=3, length=6,\n",
    "                                                 spacing=slice_spacing)\n",
    "\n",
    "    disjoint_cylinder = make_vertical_cylinder(roi_num=2, radius=3, length=6,\n",
    "                                                 offset_x=10, spacing=slice_spacing)\n",
    "    # combine the contours\n",
    "    slice_data = body + outer_cylinder + cylinder_hole + inner_cylinder + disjoint_cylinder\n",
    "    return slice_data\n"
   ]
  },
  {
   "cell_type": "code",
   "execution_count": 50,
   "metadata": {},
   "outputs": [
    {
     "name": "stdout",
     "output_type": "stream",
     "text": [
      "Relationship: Disjoint\n"
     ]
    }
   ],
   "source": [
    "slice_data = parallel_disjoint_cylinder_example()\n",
    "structures = StructureSet(slice_data)\n",
    "structure_a = structures.structures[1]\n",
    "structure_b = structures.structures[2]\n",
    "relation = structure_a.relate(structure_b)\n",
    "relation_type = relation.identify_relation()\n",
    "print(relation_type)\n",
    "assert relation_type == RelationshipType.DISJOINT"
   ]
  },
  {
   "cell_type": "markdown",
   "metadata": {},
   "source": [
    "#### Disjoint Axial Cylinders\n",
    "- Concentric hollow cylinder surrounding one of two smaller cylinders\n",
    "- Second cylinder is on the same axis as the first, but above, making it **Disjoint**.\n",
    "- The relationship is **Disjoint** because the Second cylinder is outside of the First Structure.\n",
    "\n",
    "![Disjoint Parallel Cylinders](<../../Images/FreeCAD Images/Disjoint Axial Cylinders.png>)"
   ]
  },
  {
   "cell_type": "code",
   "execution_count": 51,
   "metadata": {},
   "outputs": [],
   "source": [
    "def axial_disjoint_cylinder_example():\n",
    "    slice_spacing = 1\n",
    "    # Body structure defines slices in use\n",
    "    body = make_vertical_cylinder(roi_num=0, radius=10, length=30, offset_z=0,\n",
    "                                  spacing=slice_spacing)\n",
    "    outer_cylinder = make_vertical_cylinder(roi_num=1, radius=6, length=10,\n",
    "                                            spacing=slice_spacing)\n",
    "    cylinder_hole = make_vertical_cylinder(roi_num=1, radius=5, length=8,\n",
    "                                           spacing=slice_spacing)\n",
    "    inner_cylinder = make_vertical_cylinder(roi_num=2, radius=3, length=6,\n",
    "                                                 spacing=slice_spacing)\n",
    "\n",
    "    disjoint_cylinder = make_vertical_cylinder(roi_num=2, radius=3, length=6,\n",
    "                                                 offset_z=12, spacing=slice_spacing)\n",
    "    # combine the contours\n",
    "    slice_data = body + outer_cylinder + cylinder_hole + inner_cylinder + disjoint_cylinder\n",
    "    return slice_data\n"
   ]
  },
  {
   "cell_type": "code",
   "execution_count": 52,
   "metadata": {},
   "outputs": [
    {
     "name": "stdout",
     "output_type": "stream",
     "text": [
      "Relationship: Disjoint\n"
     ]
    }
   ],
   "source": [
    "slice_data = axial_disjoint_cylinder_example()\n",
    "structures = StructureSet(slice_data)\n",
    "structure_a = structures.structures[1]\n",
    "structure_b = structures.structures[2]\n",
    "relation = structure_a.relate(structure_b)\n",
    "relation_type = relation.identify_relation()\n",
    "print(relation_type)\n",
    "assert relation_type == RelationshipType.DISJOINT"
   ]
  },
  {
   "cell_type": "markdown",
   "metadata": {},
   "source": [
    "#### Disjoint Concentric Cylinders\n",
    "- Centred vertical cylinder with two cylinders on the same axis, above and \n",
    "below the primary cylinder.\n",
    "\n",
    "![Disjoint Concentric Cylinders](<../../Images/FreeCAD Images/Disjoint Concentric Cylinders.png>)\n"
   ]
  },
  {
   "cell_type": "code",
   "execution_count": 53,
   "metadata": {},
   "outputs": [],
   "source": [
    "def disjoint_concentric_cylinders_example():\n",
    "    slice_spacing = 1\n",
    "    # Body structure defines slices in use\n",
    "    body = make_vertical_cylinder(roi_num=0, radius=12, length=10,\n",
    "                                  spacing=slice_spacing)\n",
    "    # Centred cylinder\n",
    "    primary_cylinder = make_vertical_cylinder(roi_num=1, radius=3, length=8,\n",
    "                                              offset_z=0,\n",
    "                                              spacing=slice_spacing)\n",
    "    # cylinder 2 slices above primary cylinder\n",
    "    upper_cylinder1 = make_vertical_cylinder(roi_num=2, radius=1, length=2,\n",
    "                                             offset_z=7,\n",
    "                                             spacing=slice_spacing)\n",
    "    # cylinder 2 slices below primary cylinder\n",
    "    lower_cylinder2 = make_vertical_cylinder(roi_num=2, radius=1, length=2,\n",
    "                                             offset_z=-7,\n",
    "                                             spacing=slice_spacing)\n",
    "    # combine the contours\n",
    "    slice_data = body + primary_cylinder + upper_cylinder1 + lower_cylinder2\n",
    "    return slice_data\n"
   ]
  },
  {
   "cell_type": "code",
   "execution_count": 54,
   "metadata": {},
   "outputs": [
    {
     "name": "stdout",
     "output_type": "stream",
     "text": [
      "Relationship: Disjoint\n"
     ]
    }
   ],
   "source": [
    "slice_data = disjoint_concentric_cylinders_example()\n",
    "structures = StructureSet(slice_data)\n",
    "structure_a = structures.structures[1]\n",
    "structure_b = structures.structures[2]\n",
    "relation = structure_a.relate(structure_b)\n",
    "relation_type = relation.identify_relation()\n",
    "print(relation_type)\n",
    "assert relation_type == RelationshipType.DISJOINT"
   ]
  },
  {
   "cell_type": "markdown",
   "metadata": {},
   "source": [
    "## Borders"
   ]
  },
  {
   "cell_type": "markdown",
   "metadata": {},
   "source": [
    "<link rel=\"stylesheet\" href=\"relations.css\">\n",
    "<table width=\"400px\">\n",
    "<tr class=\"l\"><th>Borders</th><th>Symmetric</th></tr>\n",
    "<td class=\"d\" colspan=\"2\">The exterior boundaries of \n",
    "<span class=\"a\">a</span> and <span class=\"b\">b</span> \n",
    "have more than one point in common, but their interiors do not intersect.\n",
    "</td></tr>\n",
    "<tr><td colspan=\"2\">\n",
    "<img src=\"../../Images/Relationships/borders.png\" alt=\"Borders\">\n",
    "<img src=\"../../Images/Relationships/Concave Borders.png\" alt=\"Concave Borders\">\n",
    "</td></tr></table>"
   ]
  },
  {
   "cell_type": "markdown",
   "metadata": {},
   "source": [
    "#### Bordering Concentric Cylinders\n",
    "- Centred vertical cylinder with two cylinders on the same axis, above and \n",
    "below the primary cylinder.\n",
    "\n",
    "![Bordering Concentric Cylinders](<../../Images/FreeCAD Images/Bordering  Concentric Cylinders.png>)"
   ]
  },
  {
   "cell_type": "code",
   "execution_count": 55,
   "metadata": {},
   "outputs": [],
   "source": [
    "def bordering_concentric_cylinders_example():\n",
    "    slice_spacing = 1\n",
    "    # Body structure defines slices in use\n",
    "    body = make_vertical_cylinder(roi_num=0, radius=12, length=10,\n",
    "                                  spacing=slice_spacing)\n",
    "    # Centred cylinder with two embedded cylinders\n",
    "    primary_cylinder = make_vertical_cylinder(roi_num=1, radius=3, length=8,\n",
    "                                              offset_z=0,\n",
    "                                              spacing=slice_spacing)\n",
    "    # cylinder bordering primary cylinder\n",
    "    bordering_cylinder1 = make_vertical_cylinder(roi_num=2, radius=1, length=2,\n",
    "                                             offset_z=6,\n",
    "                                             spacing=slice_spacing)\n",
    "    # cylinder bordering primary cylinder\n",
    "    bordering_cylinder2 = make_vertical_cylinder(roi_num=2, radius=1, length=2,\n",
    "                                             offset_z=-6,\n",
    "                                             spacing=slice_spacing)\n",
    "    # combine the contours\n",
    "    slice_data = body + primary_cylinder + bordering_cylinder1 + bordering_cylinder2\n",
    "    return slice_data\n"
   ]
  },
  {
   "cell_type": "code",
   "execution_count": 56,
   "metadata": {},
   "outputs": [
    {
     "name": "stdout",
     "output_type": "stream",
     "text": [
      "Relationship: Borders\n"
     ]
    }
   ],
   "source": [
    "slice_data = bordering_concentric_cylinders_example()\n",
    "structures = StructureSet(slice_data)\n",
    "structure_a = structures.structures[1]\n",
    "structure_b = structures.structures[2]\n",
    "relation = structure_a.relate(structure_b)\n",
    "relation_type = relation.identify_relation()\n",
    "print(relation_type)\n",
    "assert relation_type == RelationshipType.BORDERS"
   ]
  },
  {
   "cell_type": "markdown",
   "metadata": {},
   "source": [
    "#### Bordering Lateral Boxes\n",
    "- Cubes with 'x' faces touching.\n",
    "\n",
    "![Bordering Lateral Boxes](<../../Images/FreeCAD Images/Bordering Boxes.png>)\n"
   ]
  },
  {
   "cell_type": "code",
   "execution_count": 57,
   "metadata": {},
   "outputs": [],
   "source": [
    "def lateral_borders_boxes_example():\n",
    "    slice_spacing = 0.1\n",
    "    # Body structure defines slices in use\n",
    "    body = make_vertical_cylinder(roi_num=0, radius=20, length=20, offset_z=0,\n",
    "                                  spacing=slice_spacing)\n",
    "    # embedded boxes\n",
    "    left_cube = make_box(roi_num=1, width=2, offset_x=-1,\n",
    "                         spacing=slice_spacing)\n",
    "    right_cube = make_box(roi_num=2, width=2, offset_x=1,\n",
    "                         spacing=slice_spacing)\n",
    "    # combine the contours\n",
    "    slice_data = left_cube + right_cube + body\n",
    "    return slice_data"
   ]
  },
  {
   "cell_type": "code",
   "execution_count": 58,
   "metadata": {},
   "outputs": [
    {
     "name": "stdout",
     "output_type": "stream",
     "text": [
      "Relationship: Borders\n"
     ]
    }
   ],
   "source": [
    "slice_data = lateral_borders_boxes_example()\n",
    "structures = StructureSet(slice_data)\n",
    "structure_a = structures.structures[1]\n",
    "structure_b = structures.structures[2]\n",
    "relation = structure_a.relate(structure_b)\n",
    "relation_type = relation.identify_relation()\n",
    "print(relation_type)\n",
    "assert relation_type == RelationshipType.BORDERS"
   ]
  },
  {
   "cell_type": "markdown",
   "metadata": {},
   "source": [
    "#### Bordering Lateral Boxes With Disjoint Box\n",
    "- Cubes with one touching and one disjoint.\n",
    "\n",
    "![Bordering Lateral Boxes With Disjoint Box](<../../Images/FreeCAD Images/Bordering Boxes With Disjoint Box.png>)\n"
   ]
  },
  {
   "cell_type": "code",
   "execution_count": 59,
   "metadata": {},
   "outputs": [],
   "source": [
    "def lateral_borders_two_boxes_example():\n",
    "    slice_spacing = 0.1\n",
    "    # Body structure defines slices in use\n",
    "    body = make_vertical_cylinder(roi_num=0, radius=20, length=20, offset_z=0,\n",
    "                                  spacing=slice_spacing)\n",
    "    # embedded boxes\n",
    "    left_cube = make_box(roi_num=1, width=2, offset_x=-1,\n",
    "                         spacing=slice_spacing)\n",
    "    right_cube = make_box(roi_num=2, width=2, offset_x=1,\n",
    "                         spacing=slice_spacing)\n",
    "    disjoint_cube = make_box(roi_num=2, width=2, offset_x=-2,\n",
    "                         spacing=slice_spacing)\n",
    "    # combine the contours\n",
    "    slice_data = left_cube + right_cube + body\n",
    "    return slice_data"
   ]
  },
  {
   "cell_type": "code",
   "execution_count": 60,
   "metadata": {},
   "outputs": [
    {
     "name": "stdout",
     "output_type": "stream",
     "text": [
      "Relationship: Borders\n"
     ]
    }
   ],
   "source": [
    "slice_data = lateral_borders_two_boxes_example()\n",
    "structures = StructureSet(slice_data)\n",
    "structure_a = structures.structures[1]\n",
    "structure_b = structures.structures[2]\n",
    "relation = structure_a.relate(structure_b)\n",
    "relation_type = relation.identify_relation()\n",
    "print(relation_type)\n",
    "assert relation_type == RelationshipType.BORDERS"
   ]
  },
  {
   "cell_type": "markdown",
   "metadata": {},
   "source": [
    "### Bordering Concentric Cylinder SUP Offset\n",
    "  - Primary: Central Cylinder\n",
    "    - Secondary: one of:\n",
    "      - SUP cylinders with single slice gap at the SUP boundary of the central cylinder.\n",
    "\n",
    "      \n",
    "![Bordering Concentric Cylinder SUP Offset](<../../Images/FreeCAD Images/Bordering Concentric Cylinder SUP Offset.png>)\n",
    "![Exterior Border SUP](../../Images/Boundaries/ExteriorBorders2D_SUP.png)"
   ]
  },
  {
   "cell_type": "code",
   "execution_count": 61,
   "metadata": {},
   "outputs": [],
   "source": [
    "def concentric_cylinders_sup_offset_example():\n",
    "    slice_spacing = 0.1\n",
    "    # Body structure defines slices in use\n",
    "    body = make_vertical_cylinder(roi_num=0, radius=10, length=1, offset_z=-0.5,\n",
    "                                  spacing=slice_spacing)\n",
    "    # Two concentric cylinders different z offsets\n",
    "    primary_cylinder = make_vertical_cylinder(roi_num=1, radius=0.2, length=0.4,\n",
    "                                              offset_z=-0.5,\n",
    "                                              spacing=slice_spacing)\n",
    "    sup_cylinder = make_vertical_cylinder(roi_num=2, radius=0.2, length=0.4,\n",
    "                                          offset_z=0, spacing=slice_spacing)\n",
    "    # combine the contours\n",
    "    slice_data = body + primary_cylinder + sup_cylinder\n",
    "    return slice_data\n"
   ]
  },
  {
   "cell_type": "code",
   "execution_count": 62,
   "metadata": {},
   "outputs": [
    {
     "name": "stdout",
     "output_type": "stream",
     "text": [
      "Relationship: Borders\n"
     ]
    }
   ],
   "source": [
    "slice_data = concentric_cylinders_sup_offset_example()\n",
    "structures = StructureSet(slice_data)\n",
    "structure_a = structures.structures[1]\n",
    "structure_b = structures.structures[2]\n",
    "relation = structure_a.relate(structure_b)\n",
    "relation_type = relation.identify_relation()\n",
    "print(relation_type)\n",
    "assert relation_type == RelationshipType.BORDERS"
   ]
  },
  {
   "cell_type": "markdown",
   "metadata": {},
   "source": [
    "## Confines (Interior Borders) "
   ]
  },
  {
   "cell_type": "markdown",
   "metadata": {},
   "source": [
    "<link rel=\"stylesheet\" href=\"relations.css\">\n",
    "<table width=\"350px\">\n",
    "<tr class=\"l\"><th>Confines</th><th>Symmetric</th></tr>\n",
    "<td class=\"d\" colspan=\"2\">The interior boundary of \n",
    "<span class=\"a\">a</span> \n",
    "and the exterior boundary of <span class=\"b\">b</span> \n",
    "have more than one point in common, but their interiors do not intersect.\n",
    "\n",
    "For Interior Borders <span class=\"b\">b</span> \n",
    "Should be Within <span class=\"a\">a</span>.\n",
    "</td></tr>\n",
    "<tr><td colspan=\"2\">\n",
    "<img src=\"../../Images/Relationships/confines.png\" alt=\"Confines\">\n",
    "<img src=\"../../Images/Relationships/confines with island.png\" alt=\"Confines With Island\">\n",
    "</td></tr></table>"
   ]
  },
  {
   "cell_type": "markdown",
   "metadata": {},
   "source": [
    "### Confines Box embedded in Box\n",
    "\n",
    "![Box embedded in Box](<../../Images/FreeCAD Images/Confines Bordering Boxes.png>)"
   ]
  },
  {
   "cell_type": "code",
   "execution_count": 63,
   "metadata": {},
   "outputs": [],
   "source": [
    "def confined_bordering_boxes_example():\n",
    "    slice_spacing = 0.1\n",
    "    # Body structure defines slices in use\n",
    "    body = make_vertical_cylinder(roi_num=0, radius=10, length=1, offset_z=-0.2,\n",
    "                                spacing=slice_spacing)\n",
    "    # embedded boxes\n",
    "    box6 = make_box(roi_num=1, width=6, spacing=slice_spacing)\n",
    "    hole4 = make_box(roi_num=1, width=4,  spacing=slice_spacing)\n",
    "    Box4 = make_box(roi_num=2, width=4,  spacing=slice_spacing)\n",
    "\n",
    "    # combine the contours\n",
    "    slice_data = body + box6 + hole4 + Box4\n",
    "    return slice_data\n"
   ]
  },
  {
   "cell_type": "code",
   "execution_count": 64,
   "metadata": {},
   "outputs": [
    {
     "name": "stdout",
     "output_type": "stream",
     "text": [
      "Relationship: Confines\n"
     ]
    }
   ],
   "source": [
    "slice_data = confined_bordering_boxes_example()\n",
    "structures = StructureSet(slice_data)\n",
    "structure_a = structures.structures[1]\n",
    "structure_b = structures.structures[2]\n",
    "relation = structure_a.relate(structure_b)\n",
    "relation_type = relation.identify_relation()\n",
    "print(relation_type)\n",
    "assert relation_type == RelationshipType.CONFINES"
   ]
  },
  {
   "cell_type": "markdown",
   "metadata": {},
   "source": [
    "### Confines Cylinders\n",
    "\n",
    "![Confines cylinder](../../FreeCAD_Scripts/confines_cylinder.png)"
   ]
  },
  {
   "cell_type": "code",
   "execution_count": 65,
   "metadata": {},
   "outputs": [],
   "source": [
    "def confines_cylinder_example():\n",
    "    slice_spacing = 0.1\n",
    "    # Body structure defines slices in use\n",
    "    body = make_vertical_cylinder(roi_num=0, radius=12, length=1.2,\n",
    "                                    spacing=slice_spacing)\n",
    "    # Centred cylinder with two embedded cylinders\n",
    "    primary_cylinder = make_vertical_cylinder(roi_num=1, radius=5,\n",
    "                                                length=0.8,\n",
    "                                                spacing=slice_spacing)\n",
    "    left_hole = make_vertical_cylinder(roi_num=1, radius=2, length=0.6,\n",
    "                                        offset_x=-2.5, spacing=slice_spacing)\n",
    "    right_hole = make_vertical_cylinder(roi_num=1, radius=2, length=0.6,\n",
    "                                        offset_x=2.5, spacing=slice_spacing)\n",
    "    # cylinder with interior borders\n",
    "    confines_cylinder = make_vertical_cylinder(roi_num=2, radius=1,\n",
    "                                                length=0.6, offset_x=2.5,\n",
    "                                                spacing=slice_spacing)\n",
    "    # combine the contours\n",
    "    slice_data = body + confines_cylinder + primary_cylinder + left_hole + right_hole\n",
    "    return slice_data\n"
   ]
  },
  {
   "cell_type": "code",
   "execution_count": 66,
   "metadata": {},
   "outputs": [],
   "source": [
    "slice_data = confines_cylinder_example()\n"
   ]
  },
  {
   "cell_type": "code",
   "execution_count": 67,
   "metadata": {},
   "outputs": [
    {
     "name": "stdout",
     "output_type": "stream",
     "text": [
      "Relationship: Surrounds\n"
     ]
    },
    {
     "ename": "AssertionError",
     "evalue": "",
     "output_type": "error",
     "traceback": [
      "\u001b[1;31m---------------------------------------------------------------------------\u001b[0m",
      "\u001b[1;31mAssertionError\u001b[0m                            Traceback (most recent call last)",
      "Cell \u001b[1;32mIn[67], line 7\u001b[0m\n\u001b[0;32m      5\u001b[0m relation_type \u001b[38;5;241m=\u001b[39m relation\u001b[38;5;241m.\u001b[39midentify_relation()\n\u001b[0;32m      6\u001b[0m \u001b[38;5;28mprint\u001b[39m(relation_type)\n\u001b[1;32m----> 7\u001b[0m \u001b[38;5;28;01massert\u001b[39;00m relation_type \u001b[38;5;241m==\u001b[39m RelationshipType\u001b[38;5;241m.\u001b[39mCONFINES\n",
      "\u001b[1;31mAssertionError\u001b[0m: "
     ]
    }
   ],
   "source": [
    "structures = StructureSet(slice_data)\n",
    "structure_a = structures.structures[1]\n",
    "structure_b = structures.structures[2]\n",
    "relation = structure_a.relate(structure_b)\n",
    "relation_type = relation.identify_relation()\n",
    "print(relation_type)\n",
    "assert relation_type == RelationshipType.CONFINES"
   ]
  },
  {
   "cell_type": "code",
   "execution_count": 68,
   "metadata": {},
   "outputs": [
    {
     "name": "stderr",
     "output_type": "stream",
     "text": [
      "DEBUG:contour_graph:Building contour graph for ROI: 0\n",
      "DEBUG:contour_graph:Found 2 boundary contours to interpolate.\n",
      "DEBUG:contour_graph:Generating interpolated contour for ROI: 0 from slice: -0.6\n",
      "DEBUG:contour_graph:Using gap: 0.10 to create interpolated slice: -0.70\n",
      "DEBUG:contour_graph:Generating interpolated contour for ROI: 0 from slice: 0.6\n",
      "DEBUG:contour_graph:Using gap: -0.10 to create interpolated slice:  0.70\n",
      "DEBUG:contour_graph:Building contour graph for ROI: 1\n",
      "DEBUG:contour_graph:Found 6 boundary contours to interpolate.\n",
      "DEBUG:contour_graph:Generating interpolated contour for ROI: 1 from slice: 0.3\n",
      "DEBUG:contour_graph:Using slice:  0.40 for interpolation.\n",
      "DEBUG:contour_graph:Generating interpolated contour for ROI: 1 from slice: 0.3\n",
      "DEBUG:contour_graph:Generating interpolated contour for ROI: 1 from slice: 0.3\n",
      "DEBUG:contour_graph:Using slice:  0.40 for interpolation.\n",
      "DEBUG:contour_graph:Generating interpolated contour for ROI: 1 from slice: 0.3\n",
      "DEBUG:contour_graph:Generating interpolated contour for ROI: 1 from slice: -0.3\n",
      "DEBUG:contour_graph:Using slice: -0.40 for interpolation.\n",
      "DEBUG:contour_graph:Generating interpolated contour for ROI: 1 from slice: -0.3\n",
      "DEBUG:contour_graph:Generating interpolated contour for ROI: 1 from slice: -0.4\n",
      "DEBUG:contour_graph:Using slice: -0.50 for interpolation.\n",
      "DEBUG:contour_graph:Generating interpolated contour for ROI: 1 from slice: 0.4\n",
      "DEBUG:contour_graph:Using slice:  0.50 for interpolation.\n",
      "DEBUG:contour_graph:Generating interpolated contour for ROI: 1 from slice: -0.3\n",
      "DEBUG:contour_graph:Using slice: -0.40 for interpolation.\n",
      "DEBUG:contour_graph:Generating interpolated contour for ROI: 1 from slice: -0.3\n",
      "DEBUG:contour_graph:Building contour graph for ROI: 2\n",
      "DEBUG:contour_graph:Found 2 boundary contours to interpolate.\n",
      "DEBUG:contour_graph:Generating interpolated contour for ROI: 2 from slice: -0.3\n",
      "DEBUG:contour_graph:Using slice: -0.40 for interpolation.\n",
      "DEBUG:contour_graph:Generating interpolated contour for ROI: 2 from slice: 0.3\n",
      "DEBUG:contour_graph:Using slice:  0.40 for interpolation.\n"
     ]
    }
   ],
   "source": [
    "#logging.getLogger('structure_set').setLevel(logging.DEBUG)\n",
    "logging.getLogger('contour_graph').setLevel(logging.DEBUG)\n",
    "structures = StructureSet(slice_data)\n",
    "logging.getLogger('structure_set').setLevel(logging.INFO)\n",
    "#logging.getLogger('contour_graph').setLevel(logging.INFO)"
   ]
  },
  {
   "cell_type": "markdown",
   "metadata": {},
   "source": [
    "# ERROR: When structures have interleaved slices interpolation does not work.\n"
   ]
  },
  {
   "cell_type": "code",
   "execution_count": null,
   "metadata": {},
   "outputs": [
    {
     "name": "stderr",
     "output_type": "stream",
     "text": [
      "DEBUG:structure_set:Building structure for ROI: 0\n",
      "DEBUG:contour_graph:Building contour graph for ROI: 0\n",
      "DEBUG:contour_graph:Found 0 boundary contours to interpolate.\n",
      "DEBUG:structure_set:Slice sequence after ROI 0:\n",
      "           ThisSlice  NextSlice  PreviousSlice  Original\n",
      "ThisSlice                                               \n",
      "-2.0            -2.0       -1.5            NaN      True\n",
      "-1.5            -1.5       -1.0           -2.0      True\n",
      "-1.0            -1.0       -0.5           -1.5      True\n",
      "-0.5            -0.5        0.0           -1.0      True\n",
      " 0.0             0.0        0.5           -0.5      True\n",
      " 0.5             0.5        1.0            0.0      True\n",
      " 1.0             1.0        1.5            0.5      True\n",
      " 1.5             1.5        2.0            1.0      True\n",
      " 2.0             2.0        NaN            1.5      True\n",
      "DEBUG:structure_set:Building structure for ROI: 1\n",
      "DEBUG:contour_graph:Building contour graph for ROI: 1\n",
      "DEBUG:contour_graph:Found 0 boundary contours to interpolate.\n",
      "DEBUG:structure_set:Slice sequence after ROI 1:\n",
      "           ThisSlice  NextSlice  PreviousSlice  Original\n",
      "ThisSlice                                               \n",
      "-2.0            -2.0       -1.5            NaN      True\n",
      "-1.5            -1.5       -1.0           -2.0      True\n",
      "-1.0            -1.0       -0.5           -1.5      True\n",
      "-0.5            -0.5        0.0           -1.0      True\n",
      " 0.0             0.0        0.5           -0.5      True\n",
      " 0.5             0.5        1.0            0.0      True\n",
      " 1.0             1.0        1.5            0.5      True\n",
      " 1.5             1.5        2.0            1.0      True\n",
      " 2.0             2.0        NaN            1.5      True\n",
      "DEBUG:structure_set:Building structure for ROI: 2\n",
      "DEBUG:contour_graph:Building contour graph for ROI: 2\n",
      "DEBUG:contour_graph:Found 0 boundary contours to interpolate.\n",
      "DEBUG:structure_set:Slice sequence after ROI 2:\n",
      "           ThisSlice  NextSlice  PreviousSlice  Original\n",
      "ThisSlice                                               \n",
      "-2.0            -2.0       -1.5            NaN      True\n",
      "-1.5            -1.5       -1.0           -2.0      True\n",
      "-1.0            -1.0       -0.5           -1.5      True\n",
      "-0.5            -0.5        0.0           -1.0      True\n",
      " 0.0             0.0        0.5           -0.5      True\n",
      " 0.5             0.5        1.0            0.0      True\n",
      " 1.0             1.0        1.5            0.5      True\n",
      " 1.5             1.5        2.0            1.0      True\n",
      " 2.0             2.0        NaN            1.5      True\n"
     ]
    }
   ],
   "source": [
    "def irregular_slices_example():\n",
    "    slice_spacing = 1\n",
    "    # Body structure defines slices in use\n",
    "    body = make_vertical_cylinder(roi_num=0, radius=12, length=4,\n",
    "                                  spacing=slice_spacing)\n",
    "    # Centred cylinder with two embedded cylinders\n",
    "    primary_cylinder = make_vertical_cylinder(roi_num=1, radius=5, length=3,\n",
    "                                              spacing=slice_spacing)\n",
    "    left_hole = make_vertical_cylinder(roi_num=1, radius=2, length=3,\n",
    "                                       offset_x=-2.5, spacing=slice_spacing)\n",
    "    right_hole = make_vertical_cylinder(roi_num=1, radius=2, length=3,\n",
    "                                        offset_x=2.5, spacing=slice_spacing)\n",
    "    # cylinder with interior borders\n",
    "    confines_cylinder = make_vertical_cylinder(roi_num=2, radius=1, length=2,\n",
    "                                               offset_x=2.5,\n",
    "                                               spacing=slice_spacing)\n",
    "    # combine the contours\n",
    "    slice_data = body + primary_cylinder + confines_cylinder  # + left_hole + right_hole\n",
    "    return slice_data\n",
    "slice_data = irregular_slices_example()\n",
    "logging.getLogger('structure_set').setLevel(logging.DEBUG)\n",
    "logging.getLogger('contour_graph').setLevel(logging.DEBUG)\n",
    "structures = StructureSet(slice_data)\n",
    "logging.getLogger('structure_set').setLevel(logging.INFO)\n",
    "logging.getLogger('contour_graph').setLevel(logging.INFO)"
   ]
  },
  {
   "cell_type": "markdown",
   "metadata": {},
   "source": [
    "## Using just ROI 0\n",
    "\n",
    "(**slice_data = body**)\n",
    "\n",
    "- DEBUG:contour_graph:Building contour graph for ROI: 0\n",
    "- DEBUG:contour_graph:**Found 2 boundary contours to interpolate.**\n",
    "- DEBUG:contour_graph:Generating interpolated contour for **ROI: 0 from slice: -0.6**\n",
    "\n",
    "- *DEBUG:contour_graph:`Using gap: 0.10 to create interpolated slice: -0.70`*\n",
    "> **The above gap is not actually being used.**\n",
    "\n",
    "- DEBUG:contour_graph:Generating interpolated contour for **ROI: 0 from slice: 0.6**\n",
    "- *DEBUG:contour_graph:Using gap: -0.10 to create interpolated slice:  0.70*\n",
    "- DEBUG:structure_set:Slice sequence `after ROI 0`:\n",
    "\n",
    "|ThisSlice|ThisSlice|NextSlice|PreviousSlice|Original|\n",
    "|---------|---------|---------|-------------|--------|\n",
    "|-0.65    |   -0.65 |    -0.6 |         NaN |  False |\n",
    "|-0.60    |   -0.60 |    -0.5 |         NaN |   True |\n",
    "|-0.50    |   -0.50 |    -0.4 |        -0.6 |   True |\n",
    "|...      |         |         |             |        |\n",
    "| 0.50    |    0.50 |     0.6 |         0.4 |   True |\n",
    "| 0.60    |    0.60 |     NaN |         0.5 |   True |\n",
    "| 0.65    |    0.65 |     NaN |         0.6 |  False |"
   ]
  },
  {
   "cell_type": "markdown",
   "metadata": {},
   "source": [
    "## Using ROI 0 and ROI 2:\n",
    "\n",
    "(**slice_data = body + confines_cylinder**)\n",
    "\n",
    "- DEBUG:contour_graph:Building contour graph for ROI: 0\n",
    "- DEBUG:contour_graph:**Found 2 boundary contours to interpolate.**\n",
    "- DEBUG:contour_graph:Generating interpolated contour for **ROI: 0 from slice: 0.6**\n",
    "- DEBUG:contour_graph:*Using gap: -0.10 to create interpolated slice:  0.70*\n",
    "- DEBUG:contour_graph:Generating interpolated contour for **ROI: 0 from slice: -0.6**\n",
    "- DEBUG:contour_graph:*Using gap: 0.10 to create interpolated slice: -0.70*\n",
    "- DEBUG:structure_set:Slice sequence `after ROI 0`:\n",
    "\n",
    "|ThisSlice|ThisSlice|NextSlice|PreviousSlice|Original|\n",
    "|---------|---------|---------|-------------|--------|\n",
    "|-0.65    |   -0.65 |    -0.6 |         NaN |  False |\n",
    "|-0.60    |   -0.60 |    -0.5 |         NaN |   True |\n",
    "|...      |         |         |             |        |\n",
    "| 0.60    |    0.60 |     NaN |         0.5 |   True |\n",
    "| 0.65    |    0.65 |     NaN |         0.6 |  False |\n",
    "\n",
    "- DEBUG:contour_graph:Building contour graph for ROI: 2\n",
    "- DEBUG:contour_graph:**Found 2 boundary contours to interpolate.**\n",
    "- DEBUG:contour_graph:Generating interpolated contour for **ROI: 2 from slice: 0.3**\n",
    "- DEBUG:contour_graph:*Using slice:  0.40 for interpolation.*\n",
    "- DEBUG:contour_graph:Generating interpolated contour for **ROI: 2 from slice: -0.3**\n",
    "- DEBUG:contour_graph:*Using slice: -0.40 for interpolation.*\n",
    "- DEBUG:structure_set:Slice sequence `after ROI 2`:\n",
    "\n",
    "|ThisSlice|ThisSlice|NextSlice|PreviousSlice|Original|\n",
    "|---------|---------|---------|-------------|--------|\n",
    "|-0.65    |   -0.65 |    -0.6 |         NaN |  False |\n",
    "|-0.60    |   -0.60 |    -0.5 |         NaN |   True |\n",
    "|-0.50    |   -0.50 |    -0.4 |        -0.6 |   True |\n",
    "|-0.40    |   -0.40 |    -0.3 |        -0.5 |   True |\n",
    "|-0.35    |   -0.35 |    -0.3 |        -0.4 |  False |\n",
    "|-0.30    |   -0.30 |    -0.2 |        -0.4 |   True |\n",
    "|...      |         |         |             |        |\n",
    "| 0.30    |    0.30 |     0.4 |         0.2 |   True |\n",
    "| 0.35    |    0.35 |     0.4 |         0.3 |  False |\n",
    "| 0.40    |    0.40 |     0.5 |         0.3 |   True |\n",
    "| 0.50    |    0.50 |     0.6 |         0.4 |   True |\n",
    "| 0.60    |    0.60 |     NaN |         0.5 |   True |\n",
    "| 0.65    |    0.65 |     NaN |         0.6 |  False |\n"
   ]
  },
  {
   "cell_type": "markdown",
   "metadata": {},
   "source": [
    "## Using ROI 0, ROI 2 and part of ROI 1:\n",
    "\n",
    "(**slice_data = body + confines_cylinder + primary_cylinder**)\n",
    "\n",
    "- DEBUG:contour_graph:Building contour graph for ROI: 0\n",
    "- DEBUG:contour_graph:Found ***4 boundary contours to interpolate.***\n",
    "- DEBUG:contour_graph:Generating interpolated contour **for ROI: 0 from slice: 0.6**\n",
    "- DEBUG:contour_graph:*Using gap: -0.10 to create interpolated slice:  0.70*\n",
    "- DEBUG:contour_graph:Generating interpolated contour **for ROI: 0 from slice: -0.6**\n",
    "- DEBUG:contour_graph:*Using gap: 0.10 to create interpolated slice: -0.70*\n",
    "- DEBUG:contour_graph:Generating interpolated contour **for ROI: 0 from slice: 0.4**\n",
    "- DEBUG:contour_graph:*Using slice:  0.35 for interpolation.*\n",
    "- DEBUG:contour_graph:Generating interpolated contour **for ROI: 0 from slice: -0.4**\n",
    "- DEBUG:contour_graph:*Using slice: -0.35 for interpolation.*\n",
    "- DEBUG:structure_set:Slice sequence `after ROI 0`:\n",
    "\n",
    "|ThisSlice|ThisSlice|NextSlice|PreviousSlice|Original|\n",
    "|---------|---------|---------|-------------|--------|\n",
    "|-0.650   |   -0.650|    -0.6 |         NaN |  False |\n",
    "|-0.600   |   -0.600|    -0.5 |         NaN |   True |\n",
    "|-0.500   |   -0.500|    -0.4 |        -0.6 |   True |\n",
    "|-0.400   |   -0.400|    -0.35|        -0.5 |   True |\n",
    "|-0.375   |   -0.375|    -0.35|        -0.40|   False|\n",
    "|-0.350   |   -0.350|    -0.30|        -0.40|**True**|\n",
    "|-0.300   |   -0.300|    -0.25|        -0.35|   True |\n",
    "|...      |         |         |             |        |\n",
    "| 0.300   |    0.300|     0.35|         0.25|   True |\n",
    "| 0.350   |    0.350|     0.40|         0.30|**True**|\n",
    "| 0.375   |    0.375|     0.40|         0.35|   False|\n",
    "| 0.400   |    0.400|     0.50|         0.35|   True |\n",
    "| 0.500   |    0.500|     0.60|         0.40|   True |\n",
    "| 0.600   |    0.600|     NaN |         0.50|   True |\n",
    "| 0.650   |    0.650|     NaN |         0.60|   False|\n",
    "\n",
    "- DEBUG:structure_set:Building structure for ROI: 1\n",
    "- DEBUG:contour_graph:Building contour graph for ROI: 1\n",
    "- DEBUG:contour_graph:**Found 0 boundary contours to interpolate.**\n",
    "- DEBUG:structure_set:Slice sequence `after ROI 1`:\n",
    "\n",
    "|ThisSlice|ThisSlice|NextSlice|PreviousSlice|Original|\n",
    "|---------|---------|---------|-------------|--------|\n",
    "|-0.650   |   -0.650|    -0.6 |         NaN |  False |\n",
    "|-0.600   |   -0.600|    -0.5 |         NaN |   True |\n",
    "|-0.500   |   -0.500|    -0.4 |        -0.6 |   True |\n",
    "|-0.400   |   -0.400|    -0.35|        -0.5 |   True |\n",
    "|-0.375   |   -0.375|    -0.35|        -0.40|   False|\n",
    "|-0.350   |   -0.350|    -0.30|        -0.40|**True**|\n",
    "|-0.300   |   -0.300|    -0.25|        -0.35|   True |\n",
    "|...      |         |         |             |        |\n",
    "| 0.300   |    0.300|     0.35|         0.25|   True |\n",
    "| 0.350   |    0.350|     0.40|         0.30|**True**|\n",
    "| 0.375   |    0.375|     0.40|         0.35|   False|\n",
    "| 0.400   |    0.400|     0.50|         0.35|   True |\n",
    "| 0.500   |    0.500|     0.60|         0.40|   True |\n",
    "| 0.600   |    0.600|     NaN |         0.50|   True |\n",
    "| 0.650   |    0.650|     NaN |         0.60|   False|\n",
    "\n",
    "- DEBUG:contour_graph:Building contour graph for ROI: 2\n",
    "- DEBUG:contour_graph:**Found 0 boundary contours to interpolate.**\n",
    "- DEBUG:structure_set:Slice sequence `after ROI 2`:\n",
    "\n",
    "|ThisSlice|ThisSlice|NextSlice|PreviousSlice|Original|\n",
    "|---------|---------|---------|-------------|--------|\n",
    "|-0.650   |  -0.650 |   -0.60 |         NaN |  False |\n",
    "|-0.600   |  -0.600 |   -0.50 |         NaN |   True |\n",
    "|-0.500   |  -0.500 |   -0.40 |       -0.60 |   True |\n",
    "|-0.400   |  -0.400 |   -0.35 |       -0.50 |   True |\n",
    "|-0.375   |  -0.375 |   -0.35 |       -0.40 |  False |\n",
    "|-0.350   |  -0.350 |   -0.30 |       -0.40 |   True |\n",
    "|-0.300   |  -0.300 |   -0.25 |       -0.35 |   True |\n",
    "|...      |         |         |             |        |\n",
    "| 0.300   |   0.300 |    0.35 |        0.25 |   True |\n",
    "| 0.350   |   0.350 |    0.40 |        0.30 |   True |\n",
    "| 0.375   |   0.375 |    0.40 |        0.35 |  False |\n",
    "| 0.400   |   0.400 |    0.50 |        0.35 |   True |\n",
    "| 0.500   |   0.500 |    0.60 |        0.40 |   True |\n",
    "| 0.600   |   0.600 |     NaN |        0.50 |   True |\n",
    "| 0.650   |   0.650 |     NaN |        0.60 |  False |"
   ]
  },
  {
   "cell_type": "markdown",
   "metadata": {},
   "source": [
    "## Using ROI 0 and part of ROI 1:\n",
    "\n",
    "(**slice_data = body + primary_cylinder**)\n",
    "\n",
    "- DEBUG:contour_graph:Building contour graph for ROI: 0\n",
    "- DEBUG:contour_graph:**Found 4 boundary contours to interpolate.**\n",
    "- DEBUG:contour_graph:Generating interpolated contour **for ROI: 0 from slice: -0.4**\n",
    "- DEBUG:contour_graph:*Using slice: -0.35 for interpolation.*\n",
    "- DEBUG:contour_graph:Generating interpolated contour **for ROI: 0 from slice: 0.6**\n",
    "- DEBUG:contour_graph:*Using gap: -0.10 to create interpolated slice:  0.70*\n",
    "- DEBUG:contour_graph:Generating interpolated contour **for ROI: 0 from slice: -0.6**\n",
    "- DEBUG:contour_graph:*Using gap: 0.10 to create interpolated slice: -0.70*\n",
    "- DEBUG:contour_graph:Generating interpolated contour **for ROI: 0 from slice: 0.4**\n",
    "- DEBUG:contour_graph:*Using slice:  0.35 for interpolation.*\n",
    "- DEBUG:structure_set:Slice sequence `after ROI 0`:\n",
    "\n",
    "|ThisSlice|ThisSlice|NextSlice|PreviousSlice|Original|\n",
    "|---------|---------|---------|-------------|--------|\n",
    "|-0.650   |  -0.650 |   -0.60 |         NaN |  False |\n",
    "|-0.600   |  -0.600 |   -0.50 |         NaN |   True |\n",
    "|-0.500   |  -0.500 |   -0.40 |       -0.60 |   True |\n",
    "|-0.400   |  -0.400 |   -0.35 |       -0.50 |   True |\n",
    "|-0.375   |  -0.375 |   -0.35 |       -0.40 |  False |\n",
    "|-0.350   |  -0.350 |   -0.30 |       -0.40 |   True |\n",
    "|-0.300   |  -0.300 |   -0.25 |       -0.35 |   True |\n",
    "|...      |         |         |             |        |\n",
    "| 0.300   |   0.300 |    0.35 |        0.25 |   True |\n",
    "| 0.350   |   0.350 |    0.40 |        0.30 |   True |\n",
    "| 0.375   |   0.375 |    0.40 |        0.35 |  False |\n",
    "| 0.400   |   0.400 |    0.50 |        0.35 |   True |\n",
    "| 0.500   |   0.500 |    0.60 |        0.40 |   True |\n",
    "| 0.600   |   0.600 |     NaN |        0.50 |   True |\n",
    "| 0.650   |   0.650 |     NaN |        0.60 |  False |\n",
    "\n",
    "- DEBUG:contour_graph:Building contour graph for ROI: 1\n",
    "- DEBUG:contour_graph:**Found 0 boundary contours to interpolate.**\n",
    "- DEBUG:structure_set:Slice sequence `after ROI 1`:\n",
    "\n",
    "|ThisSlice|ThisSlice|NextSlice|PreviousSlice|Original|\n",
    "|---------|---------|---------|-------------|--------|\n",
    "|-0.650   |  -0.650 |   -0.60 |         NaN |  False |\n",
    "|-0.600   |  -0.600 |   -0.50 |         NaN |   True |\n",
    "|-0.500   |  -0.500 |   -0.40 |       -0.60 |   True |\n",
    "|-0.400   |  -0.400 |   -0.35 |       -0.50 |   True |\n",
    "|-0.375   |  -0.375 |   -0.35 |       -0.40 |  False |\n",
    "|-0.350   |  -0.350 |   -0.30 |       -0.40 |   True |\n",
    "|-0.300   |  -0.300 |   -0.25 |       -0.35 |   True |\n",
    "|...      |         |         |             |        |\n",
    "| 0.300   |   0.300 |    0.35 |        0.25 |   True |\n",
    "| 0.350   |   0.350 |    0.40 |        0.30 |   True |\n",
    "| 0.375   |   0.375 |    0.40 |        0.35 |  False |\n",
    "| 0.400   |   0.400 |    0.50 |        0.35 |   True |\n",
    "| 0.500   |   0.500 |    0.60 |        0.40 |   True |\n",
    "| 0.600   |   0.600 |     NaN |        0.50 |   True |\n",
    "| 0.650   |   0.650 |     NaN |        0.60 |  False |"
   ]
  },
  {
   "cell_type": "code",
   "execution_count": null,
   "metadata": {},
   "outputs": [
    {
     "data": {
      "image/png": "[encoded data removed]",
      "text/plain": [
       "<Figure size 640x480 with 1 Axes>"
      ]
     },
     "metadata": {},
     "output_type": "display_data"
    }
   ],
   "source": [
    "contour_graph = structures.structures[0].contour_graph\n",
    "nx.draw(\n",
    "    contour_graph,\n",
    "    with_labels=True,\n",
    "   # pos=nx.arf_layout(contour_graph)\n",
    "    )\n",
    "plt.show()"
   ]
  },
  {
   "cell_type": "code",
   "execution_count": null,
   "metadata": {},
   "outputs": [
    {
     "data": {
      "image/png": "[encoded data removed]",
      "text/plain": [
       "<Figure size 640x480 with 1 Axes>"
      ]
     },
     "metadata": {},
     "output_type": "display_data"
    }
   ],
   "source": [
    "contour_graph = structures.structures[2].contour_graph\n",
    "nx.draw(\n",
    "    contour_graph,\n",
    "    with_labels=True,\n",
    "   # pos=nx.arf_layout(contour_graph)\n",
    "    )\n",
    "plt.show()"
   ]
  },
  {
   "cell_type": "code",
   "execution_count": null,
   "metadata": {},
   "outputs": [
    {
     "data": {
      "image/png": "[encoded data removed]",
      "text/plain": [
       "<Figure size 640x480 with 1 Axes>"
      ]
     },
     "metadata": {},
     "output_type": "display_data"
    }
   ],
   "source": [
    "contour_graph = structures.structures[1].contour_graph\n",
    "nx.draw(\n",
    "    contour_graph,\n",
    "    with_labels=True,\n",
    "   # pos=nx.arf_layout(contour_graph)\n",
    "    )\n",
    "plt.show()"
   ]
  },
  {
   "cell_type": "markdown",
   "metadata": {},
   "source": [
    "# ERROR only ROI 0 is referenced\n",
    "- This is likely a labeling error because boundary slices for other ROIs are generated.\n",
    "# ERROR slice 0.30 is used for interpolation.\n",
    "- Should not be referencing 0.30, should be using gap for 0.35 and -0.35\n",
    "# ERROR gap should be 0.05 not 0.1\n",
    "- distance between slices should be divided by 2"
   ]
  },
  {
   "cell_type": "code",
   "execution_count": null,
   "metadata": {},
   "outputs": [
    {
     "name": "stderr",
     "output_type": "stream",
     "text": [
      "DEBUG:structures:SliceIndex: -0.45,\n",
      "RelationType: Relationship: Unknown\n",
      "Relation:\n",
      "|001|\t|001|\t|001|\n",
      "|001|\t|001|\t|001|\n",
      "|001|\t|001|\t|001|\n",
      "\n",
      "\n",
      "DEBUG:structures:SliceIndex: -0.4,\n",
      "RelationType: Relationship: Unknown\n",
      "Relation:\n",
      "|001|\t|001|\t|001|\n",
      "|001|\t|001|\t|001|\n",
      "|001|\t|001|\t|001|\n",
      "\n",
      "\n",
      "DEBUG:structures:SliceIndex: -0.35,\n",
      "RelationType: Relationship: Unknown\n",
      "Relation:\n",
      "|001|\t|000|\t|000|\n",
      "|001|\t|000|\t|000|\n",
      "|011|\t|000|\t|000|\n",
      "\n",
      "\n",
      "DEBUG:structures:SliceIndex: -0.3,\n",
      "RelationType: Relationship: Surrounds\n",
      "Relation:\n",
      "|001|\t|111|\t|111|\n",
      "|001|\t|001|\t|001|\n",
      "|111|\t|001|\t|001|\n",
      "\n",
      "\n",
      "DEBUG:structures:SliceIndex: -0.2,\n",
      "RelationType: Relationship: Surrounds\n",
      "Relation:\n",
      "|001|\t|111|\t|111|\n",
      "|001|\t|001|\t|001|\n",
      "|111|\t|001|\t|001|\n",
      "\n",
      "\n",
      "DEBUG:structures:SliceIndex: -0.1,\n",
      "RelationType: Relationship: Surrounds\n",
      "Relation:\n",
      "|001|\t|111|\t|111|\n",
      "|001|\t|001|\t|001|\n",
      "|111|\t|001|\t|001|\n",
      "\n",
      "\n",
      "DEBUG:structures:SliceIndex: 0.0,\n",
      "RelationType: Relationship: Surrounds\n",
      "Relation:\n",
      "|001|\t|111|\t|111|\n",
      "|001|\t|001|\t|001|\n",
      "|111|\t|001|\t|001|\n",
      "\n",
      "\n",
      "DEBUG:structures:SliceIndex: 0.1,\n",
      "RelationType: Relationship: Surrounds\n",
      "Relation:\n",
      "|001|\t|111|\t|111|\n",
      "|001|\t|001|\t|001|\n",
      "|111|\t|001|\t|001|\n",
      "\n",
      "\n",
      "DEBUG:structures:SliceIndex: 0.2,\n",
      "RelationType: Relationship: Surrounds\n",
      "Relation:\n",
      "|001|\t|111|\t|111|\n",
      "|001|\t|001|\t|001|\n",
      "|111|\t|001|\t|001|\n",
      "\n",
      "\n",
      "DEBUG:structures:SliceIndex: 0.3,\n",
      "RelationType: Relationship: Surrounds\n",
      "Relation:\n",
      "|001|\t|111|\t|111|\n",
      "|001|\t|001|\t|001|\n",
      "|111|\t|001|\t|001|\n",
      "\n",
      "\n",
      "DEBUG:structures:SliceIndex: 0.35,\n",
      "RelationType: Relationship: Unknown\n",
      "Relation:\n",
      "|001|\t|000|\t|000|\n",
      "|001|\t|000|\t|000|\n",
      "|011|\t|000|\t|000|\n",
      "\n",
      "\n",
      "DEBUG:structures:SliceIndex: 0.4,\n",
      "RelationType: Relationship: Unknown\n",
      "Relation:\n",
      "|001|\t|001|\t|001|\n",
      "|001|\t|001|\t|001|\n",
      "|001|\t|001|\t|001|\n",
      "\n",
      "\n",
      "DEBUG:structures:SliceIndex: 0.45,\n",
      "RelationType: Relationship: Unknown\n",
      "Relation:\n",
      "|001|\t|001|\t|001|\n",
      "|001|\t|001|\t|001|\n",
      "|001|\t|001|\t|001|\n",
      "\n",
      "\n"
     ]
    }
   ],
   "source": [
    "logging.getLogger('structures').setLevel(logging.DEBUG)\n",
    "\n",
    "relation = structure_a.relate(structure_b)\n",
    "\n",
    "logging.getLogger('structures').setLevel(logging.INFO)\n"
   ]
  },
  {
   "cell_type": "code",
   "execution_count": null,
   "metadata": {},
   "outputs": [
    {
     "name": "stdout",
     "output_type": "stream",
     "text": [
      "|111|\t|111|\t|111|\n",
      "|001|\t|001|\t|001|\n",
      "|001|\t|001|\t|001|\n",
      "\n"
     ]
    }
   ],
   "source": [
    "\n",
    "print(relation)"
   ]
  },
  {
   "cell_type": "markdown",
   "metadata": {},
   "source": [
    "    RelationshipTest(RelationshipType.CONFINES,\n",
    "                        0b100010000101000100000000000,\n",
    "                        0b000010000101000000000000000),\n",
    "```\n",
    "MASK:\n",
    "|100| |101| |000|\n",
    "|010| |000| |000|\n",
    "|000| |100| |000|\n",
    "\n",
    "VALUES:\n",
    "|000| |101| |000|\n",
    "|010| |000| |000|\n",
    "|000| |000| |000|\n",
    "\n"
   ]
  },
  {
   "cell_type": "markdown",
   "metadata": {},
   "source": [
    "```\n",
    "DEBUG:structures:SliceIndex: -0.35,\n",
    "RelationType: Relationship: Unknown\n",
    "Relation:\n",
    "|001|\t|000|\t|000|\n",
    "|001|\t|000|\t|000|\n",
    "|011|\t|000|\t|000|\n",
    "\n",
    "\n",
    "DEBUG:structures:SliceIndex: -0.3,\n",
    "RelationType: Relationship: Surrounds\n",
    "Relation:\n",
    "|001|\t|111|\t|111|\n",
    "|001|\t|001|\t|001|\n",
    "|111|\t|001|\t|001|\n",
    "\n",
    "\n",
    "...\n",
    "\n",
    "\n",
    "DEBUG:structures:SliceIndex: 0.35,\n",
    "RelationType: Relationship: Unknown\n",
    "Relation:\n",
    "|001|\t|000|\t|000|\n",
    "|001|\t|000|\t|000|\n",
    "|011|\t|000|\t|000|\n",
    "\n",
    "\n",
    "DEBUG:structures:SliceIndex: 0.4,\n",
    "RelationType: Relationship: Unknown\n",
    "Relation:\n",
    "|001|\t|001|\t|001|\n",
    "|001|\t|001|\t|001|\n",
    "|001|\t|001|\t|001|\n"
   ]
  },
  {
   "cell_type": "code",
   "execution_count": null,
   "metadata": {},
   "outputs": [
    {
     "data": {
      "text/html": [
       "<div>\n",
       "<style scoped>\n",
       "    .dataframe tbody tr th:only-of-type {\n",
       "        vertical-align: middle;\n",
       "    }\n",
       "\n",
       "    .dataframe tbody tr th {\n",
       "        vertical-align: top;\n",
       "    }\n",
       "\n",
       "    .dataframe thead th {\n",
       "        text-align: right;\n",
       "    }\n",
       "</style>\n",
       "<table border=\"1\" class=\"dataframe\">\n",
       "  <thead>\n",
       "    <tr style=\"text-align: right;\">\n",
       "      <th></th>\n",
       "      <th>ROI</th>\n",
       "      <th>SliceIndex</th>\n",
       "      <th>HoleType</th>\n",
       "      <th>Interpolated</th>\n",
       "      <th>Boundary</th>\n",
       "      <th>ContourIndex</th>\n",
       "      <th>RegionIndex</th>\n",
       "      <th>Label</th>\n",
       "    </tr>\n",
       "  </thead>\n",
       "  <tbody>\n",
       "    <tr>\n",
       "      <th>0</th>\n",
       "      <td>2</td>\n",
       "      <td>-0.3</td>\n",
       "      <td>None</td>\n",
       "      <td>False</td>\n",
       "      <td>False</td>\n",
       "      <td>2368</td>\n",
       "      <td>2A</td>\n",
       "      <td>(2, -0.3, 2368)</td>\n",
       "    </tr>\n",
       "    <tr>\n",
       "      <th>1</th>\n",
       "      <td>2</td>\n",
       "      <td>-0.2</td>\n",
       "      <td>None</td>\n",
       "      <td>False</td>\n",
       "      <td>False</td>\n",
       "      <td>2369</td>\n",
       "      <td>2B</td>\n",
       "      <td>(2, -0.2, 2369)</td>\n",
       "    </tr>\n",
       "    <tr>\n",
       "      <th>2</th>\n",
       "      <td>2</td>\n",
       "      <td>-0.1</td>\n",
       "      <td>None</td>\n",
       "      <td>False</td>\n",
       "      <td>False</td>\n",
       "      <td>2370</td>\n",
       "      <td>2C</td>\n",
       "      <td>(2, -0.1, 2370)</td>\n",
       "    </tr>\n",
       "    <tr>\n",
       "      <th>3</th>\n",
       "      <td>2</td>\n",
       "      <td>0.0</td>\n",
       "      <td>None</td>\n",
       "      <td>False</td>\n",
       "      <td>False</td>\n",
       "      <td>2371</td>\n",
       "      <td>2D</td>\n",
       "      <td>(2, 0.0, 2371)</td>\n",
       "    </tr>\n",
       "    <tr>\n",
       "      <th>4</th>\n",
       "      <td>2</td>\n",
       "      <td>0.1</td>\n",
       "      <td>None</td>\n",
       "      <td>False</td>\n",
       "      <td>False</td>\n",
       "      <td>2372</td>\n",
       "      <td>2E</td>\n",
       "      <td>(2, 0.1, 2372)</td>\n",
       "    </tr>\n",
       "    <tr>\n",
       "      <th>5</th>\n",
       "      <td>2</td>\n",
       "      <td>0.2</td>\n",
       "      <td>None</td>\n",
       "      <td>False</td>\n",
       "      <td>False</td>\n",
       "      <td>2373</td>\n",
       "      <td>2F</td>\n",
       "      <td>(2, 0.2, 2373)</td>\n",
       "    </tr>\n",
       "    <tr>\n",
       "      <th>6</th>\n",
       "      <td>2</td>\n",
       "      <td>0.3</td>\n",
       "      <td>None</td>\n",
       "      <td>False</td>\n",
       "      <td>False</td>\n",
       "      <td>2374</td>\n",
       "      <td>2G</td>\n",
       "      <td>(2, 0.3, 2374)</td>\n",
       "    </tr>\n",
       "  </tbody>\n",
       "</table>\n",
       "</div>"
      ],
      "text/plain": [
       "   ROI  SliceIndex HoleType  Interpolated  Boundary  ContourIndex RegionIndex  \\\n",
       "0    2        -0.3     None         False     False          2368          2A   \n",
       "1    2        -0.2     None         False     False          2369          2B   \n",
       "2    2        -0.1     None         False     False          2370          2C   \n",
       "3    2         0.0     None         False     False          2371          2D   \n",
       "4    2         0.1     None         False     False          2372          2E   \n",
       "5    2         0.2     None         False     False          2373          2F   \n",
       "6    2         0.3     None         False     False          2374          2G   \n",
       "\n",
       "             Label  \n",
       "0  (2, -0.3, 2368)  \n",
       "1  (2, -0.2, 2369)  \n",
       "2  (2, -0.1, 2370)  \n",
       "3   (2, 0.0, 2371)  \n",
       "4   (2, 0.1, 2372)  \n",
       "5   (2, 0.2, 2373)  \n",
       "6   (2, 0.3, 2374)  "
      ]
     },
     "execution_count": 69,
     "metadata": {},
     "output_type": "execute_result"
    }
   ],
   "source": [
    "structure_b.contour_lookup"
   ]
  },
  {
   "cell_type": "markdown",
   "metadata": {},
   "source": [
    "# ERROR: No Interpolated slices for ROI 2"
   ]
  },
  {
   "cell_type": "code",
   "execution_count": null,
   "metadata": {},
   "outputs": [
    {
     "data": {
      "text/html": [
       "<div>\n",
       "<style scoped>\n",
       "    .dataframe tbody tr th:only-of-type {\n",
       "        vertical-align: middle;\n",
       "    }\n",
       "\n",
       "    .dataframe tbody tr th {\n",
       "        vertical-align: top;\n",
       "    }\n",
       "\n",
       "    .dataframe thead th {\n",
       "        text-align: right;\n",
       "    }\n",
       "</style>\n",
       "<table border=\"1\" class=\"dataframe\">\n",
       "  <thead>\n",
       "    <tr style=\"text-align: right;\">\n",
       "      <th></th>\n",
       "      <th>ROI</th>\n",
       "      <th>SliceIndex</th>\n",
       "      <th>HoleType</th>\n",
       "      <th>Interpolated</th>\n",
       "      <th>Boundary</th>\n",
       "      <th>ContourIndex</th>\n",
       "      <th>RegionIndex</th>\n",
       "      <th>Label</th>\n",
       "    </tr>\n",
       "  </thead>\n",
       "  <tbody>\n",
       "    <tr>\n",
       "      <th>0</th>\n",
       "      <td>1</td>\n",
       "      <td>-0.350</td>\n",
       "      <td>None</td>\n",
       "      <td>False</td>\n",
       "      <td>False</td>\n",
       "      <td>2346</td>\n",
       "      <td>1A</td>\n",
       "      <td>(1, -0.35, 2346)</td>\n",
       "    </tr>\n",
       "    <tr>\n",
       "      <th>22</th>\n",
       "      <td>1</td>\n",
       "      <td>-0.325</td>\n",
       "      <td>None</td>\n",
       "      <td>True</td>\n",
       "      <td>False</td>\n",
       "      <td>2375</td>\n",
       "      <td>1A</td>\n",
       "      <td>(1, -0.325, 2375)</td>\n",
       "    </tr>\n",
       "    <tr>\n",
       "      <th>23</th>\n",
       "      <td>1</td>\n",
       "      <td>-0.325</td>\n",
       "      <td>None</td>\n",
       "      <td>True</td>\n",
       "      <td>False</td>\n",
       "      <td>2376</td>\n",
       "      <td>1A</td>\n",
       "      <td>(1, -0.325, 2376)</td>\n",
       "    </tr>\n",
       "    <tr>\n",
       "      <th>1</th>\n",
       "      <td>1</td>\n",
       "      <td>-0.300</td>\n",
       "      <td>None</td>\n",
       "      <td>False</td>\n",
       "      <td>False</td>\n",
       "      <td>2347</td>\n",
       "      <td>1A</td>\n",
       "      <td>(1, -0.3, 2347)</td>\n",
       "    </tr>\n",
       "    <tr>\n",
       "      <th>2</th>\n",
       "      <td>1</td>\n",
       "      <td>-0.300</td>\n",
       "      <td>None</td>\n",
       "      <td>False</td>\n",
       "      <td>False</td>\n",
       "      <td>2348</td>\n",
       "      <td>1A</td>\n",
       "      <td>(1, -0.3, 2348)</td>\n",
       "    </tr>\n",
       "    <tr>\n",
       "      <th>3</th>\n",
       "      <td>1</td>\n",
       "      <td>-0.250</td>\n",
       "      <td>None</td>\n",
       "      <td>False</td>\n",
       "      <td>False</td>\n",
       "      <td>2349</td>\n",
       "      <td>1A</td>\n",
       "      <td>(1, -0.25, 2349)</td>\n",
       "    </tr>\n",
       "    <tr>\n",
       "      <th>4</th>\n",
       "      <td>1</td>\n",
       "      <td>-0.200</td>\n",
       "      <td>None</td>\n",
       "      <td>False</td>\n",
       "      <td>False</td>\n",
       "      <td>2350</td>\n",
       "      <td>1A</td>\n",
       "      <td>(1, -0.2, 2350)</td>\n",
       "    </tr>\n",
       "    <tr>\n",
       "      <th>5</th>\n",
       "      <td>1</td>\n",
       "      <td>-0.200</td>\n",
       "      <td>None</td>\n",
       "      <td>False</td>\n",
       "      <td>False</td>\n",
       "      <td>2351</td>\n",
       "      <td>1A</td>\n",
       "      <td>(1, -0.2, 2351)</td>\n",
       "    </tr>\n",
       "    <tr>\n",
       "      <th>6</th>\n",
       "      <td>1</td>\n",
       "      <td>-0.150</td>\n",
       "      <td>None</td>\n",
       "      <td>False</td>\n",
       "      <td>False</td>\n",
       "      <td>2352</td>\n",
       "      <td>1A</td>\n",
       "      <td>(1, -0.15, 2352)</td>\n",
       "    </tr>\n",
       "    <tr>\n",
       "      <th>7</th>\n",
       "      <td>1</td>\n",
       "      <td>-0.100</td>\n",
       "      <td>None</td>\n",
       "      <td>False</td>\n",
       "      <td>False</td>\n",
       "      <td>2353</td>\n",
       "      <td>1A</td>\n",
       "      <td>(1, -0.1, 2353)</td>\n",
       "    </tr>\n",
       "    <tr>\n",
       "      <th>8</th>\n",
       "      <td>1</td>\n",
       "      <td>-0.100</td>\n",
       "      <td>None</td>\n",
       "      <td>False</td>\n",
       "      <td>False</td>\n",
       "      <td>2354</td>\n",
       "      <td>1A</td>\n",
       "      <td>(1, -0.1, 2354)</td>\n",
       "    </tr>\n",
       "    <tr>\n",
       "      <th>9</th>\n",
       "      <td>1</td>\n",
       "      <td>-0.050</td>\n",
       "      <td>None</td>\n",
       "      <td>False</td>\n",
       "      <td>False</td>\n",
       "      <td>2355</td>\n",
       "      <td>1A</td>\n",
       "      <td>(1, -0.05, 2355)</td>\n",
       "    </tr>\n",
       "    <tr>\n",
       "      <th>10</th>\n",
       "      <td>1</td>\n",
       "      <td>0.000</td>\n",
       "      <td>None</td>\n",
       "      <td>False</td>\n",
       "      <td>False</td>\n",
       "      <td>2356</td>\n",
       "      <td>1A</td>\n",
       "      <td>(1, 0.0, 2356)</td>\n",
       "    </tr>\n",
       "    <tr>\n",
       "      <th>11</th>\n",
       "      <td>1</td>\n",
       "      <td>0.000</td>\n",
       "      <td>None</td>\n",
       "      <td>False</td>\n",
       "      <td>False</td>\n",
       "      <td>2357</td>\n",
       "      <td>1A</td>\n",
       "      <td>(1, 0.0, 2357)</td>\n",
       "    </tr>\n",
       "    <tr>\n",
       "      <th>12</th>\n",
       "      <td>1</td>\n",
       "      <td>0.050</td>\n",
       "      <td>None</td>\n",
       "      <td>False</td>\n",
       "      <td>False</td>\n",
       "      <td>2358</td>\n",
       "      <td>1A</td>\n",
       "      <td>(1, 0.05, 2358)</td>\n",
       "    </tr>\n",
       "    <tr>\n",
       "      <th>13</th>\n",
       "      <td>1</td>\n",
       "      <td>0.100</td>\n",
       "      <td>None</td>\n",
       "      <td>False</td>\n",
       "      <td>False</td>\n",
       "      <td>2359</td>\n",
       "      <td>1A</td>\n",
       "      <td>(1, 0.1, 2359)</td>\n",
       "    </tr>\n",
       "    <tr>\n",
       "      <th>14</th>\n",
       "      <td>1</td>\n",
       "      <td>0.100</td>\n",
       "      <td>None</td>\n",
       "      <td>False</td>\n",
       "      <td>False</td>\n",
       "      <td>2360</td>\n",
       "      <td>1A</td>\n",
       "      <td>(1, 0.1, 2360)</td>\n",
       "    </tr>\n",
       "    <tr>\n",
       "      <th>15</th>\n",
       "      <td>1</td>\n",
       "      <td>0.150</td>\n",
       "      <td>None</td>\n",
       "      <td>False</td>\n",
       "      <td>False</td>\n",
       "      <td>2361</td>\n",
       "      <td>1A</td>\n",
       "      <td>(1, 0.15, 2361)</td>\n",
       "    </tr>\n",
       "    <tr>\n",
       "      <th>16</th>\n",
       "      <td>1</td>\n",
       "      <td>0.200</td>\n",
       "      <td>None</td>\n",
       "      <td>False</td>\n",
       "      <td>False</td>\n",
       "      <td>2362</td>\n",
       "      <td>1A</td>\n",
       "      <td>(1, 0.2, 2362)</td>\n",
       "    </tr>\n",
       "    <tr>\n",
       "      <th>17</th>\n",
       "      <td>1</td>\n",
       "      <td>0.200</td>\n",
       "      <td>None</td>\n",
       "      <td>False</td>\n",
       "      <td>False</td>\n",
       "      <td>2363</td>\n",
       "      <td>1A</td>\n",
       "      <td>(1, 0.2, 2363)</td>\n",
       "    </tr>\n",
       "    <tr>\n",
       "      <th>18</th>\n",
       "      <td>1</td>\n",
       "      <td>0.250</td>\n",
       "      <td>None</td>\n",
       "      <td>False</td>\n",
       "      <td>False</td>\n",
       "      <td>2364</td>\n",
       "      <td>1A</td>\n",
       "      <td>(1, 0.25, 2364)</td>\n",
       "    </tr>\n",
       "    <tr>\n",
       "      <th>19</th>\n",
       "      <td>1</td>\n",
       "      <td>0.300</td>\n",
       "      <td>None</td>\n",
       "      <td>False</td>\n",
       "      <td>False</td>\n",
       "      <td>2365</td>\n",
       "      <td>1A</td>\n",
       "      <td>(1, 0.3, 2365)</td>\n",
       "    </tr>\n",
       "    <tr>\n",
       "      <th>20</th>\n",
       "      <td>1</td>\n",
       "      <td>0.300</td>\n",
       "      <td>None</td>\n",
       "      <td>False</td>\n",
       "      <td>False</td>\n",
       "      <td>2366</td>\n",
       "      <td>1A</td>\n",
       "      <td>(1, 0.3, 2366)</td>\n",
       "    </tr>\n",
       "    <tr>\n",
       "      <th>24</th>\n",
       "      <td>1</td>\n",
       "      <td>0.325</td>\n",
       "      <td>None</td>\n",
       "      <td>True</td>\n",
       "      <td>False</td>\n",
       "      <td>2377</td>\n",
       "      <td>1A</td>\n",
       "      <td>(1, 0.325, 2377)</td>\n",
       "    </tr>\n",
       "    <tr>\n",
       "      <th>25</th>\n",
       "      <td>1</td>\n",
       "      <td>0.325</td>\n",
       "      <td>None</td>\n",
       "      <td>True</td>\n",
       "      <td>False</td>\n",
       "      <td>2378</td>\n",
       "      <td>1A</td>\n",
       "      <td>(1, 0.325, 2378)</td>\n",
       "    </tr>\n",
       "    <tr>\n",
       "      <th>21</th>\n",
       "      <td>1</td>\n",
       "      <td>0.350</td>\n",
       "      <td>None</td>\n",
       "      <td>False</td>\n",
       "      <td>False</td>\n",
       "      <td>2367</td>\n",
       "      <td>1A</td>\n",
       "      <td>(1, 0.35, 2367)</td>\n",
       "    </tr>\n",
       "  </tbody>\n",
       "</table>\n",
       "</div>"
      ],
      "text/plain": [
       "    ROI  SliceIndex HoleType  Interpolated  Boundary  ContourIndex  \\\n",
       "0     1      -0.350     None         False     False          2346   \n",
       "22    1      -0.325     None          True     False          2375   \n",
       "23    1      -0.325     None          True     False          2376   \n",
       "1     1      -0.300     None         False     False          2347   \n",
       "2     1      -0.300     None         False     False          2348   \n",
       "3     1      -0.250     None         False     False          2349   \n",
       "4     1      -0.200     None         False     False          2350   \n",
       "5     1      -0.200     None         False     False          2351   \n",
       "6     1      -0.150     None         False     False          2352   \n",
       "7     1      -0.100     None         False     False          2353   \n",
       "8     1      -0.100     None         False     False          2354   \n",
       "9     1      -0.050     None         False     False          2355   \n",
       "10    1       0.000     None         False     False          2356   \n",
       "11    1       0.000     None         False     False          2357   \n",
       "12    1       0.050     None         False     False          2358   \n",
       "13    1       0.100     None         False     False          2359   \n",
       "14    1       0.100     None         False     False          2360   \n",
       "15    1       0.150     None         False     False          2361   \n",
       "16    1       0.200     None         False     False          2362   \n",
       "17    1       0.200     None         False     False          2363   \n",
       "18    1       0.250     None         False     False          2364   \n",
       "19    1       0.300     None         False     False          2365   \n",
       "20    1       0.300     None         False     False          2366   \n",
       "24    1       0.325     None          True     False          2377   \n",
       "25    1       0.325     None          True     False          2378   \n",
       "21    1       0.350     None         False     False          2367   \n",
       "\n",
       "   RegionIndex              Label  \n",
       "0           1A   (1, -0.35, 2346)  \n",
       "22          1A  (1, -0.325, 2375)  \n",
       "23          1A  (1, -0.325, 2376)  \n",
       "1           1A    (1, -0.3, 2347)  \n",
       "2           1A    (1, -0.3, 2348)  \n",
       "3           1A   (1, -0.25, 2349)  \n",
       "4           1A    (1, -0.2, 2350)  \n",
       "5           1A    (1, -0.2, 2351)  \n",
       "6           1A   (1, -0.15, 2352)  \n",
       "7           1A    (1, -0.1, 2353)  \n",
       "8           1A    (1, -0.1, 2354)  \n",
       "9           1A   (1, -0.05, 2355)  \n",
       "10          1A     (1, 0.0, 2356)  \n",
       "11          1A     (1, 0.0, 2357)  \n",
       "12          1A    (1, 0.05, 2358)  \n",
       "13          1A     (1, 0.1, 2359)  \n",
       "14          1A     (1, 0.1, 2360)  \n",
       "15          1A    (1, 0.15, 2361)  \n",
       "16          1A     (1, 0.2, 2362)  \n",
       "17          1A     (1, 0.2, 2363)  \n",
       "18          1A    (1, 0.25, 2364)  \n",
       "19          1A     (1, 0.3, 2365)  \n",
       "20          1A     (1, 0.3, 2366)  \n",
       "24          1A   (1, 0.325, 2377)  \n",
       "25          1A   (1, 0.325, 2378)  \n",
       "21          1A    (1, 0.35, 2367)  "
      ]
     },
     "execution_count": 70,
     "metadata": {},
     "output_type": "execute_result"
    }
   ],
   "source": [
    "structure_a.contour_lookup"
   ]
  },
  {
   "cell_type": "markdown",
   "metadata": {},
   "source": [
    "### Confines Embedded Cylinders\n",
    "  - Primary: Central Cylinder\n",
    "  - Concentric shorter hole in the center of the primary cylinder\n",
    "  - Secondary same height as hole but narrower\n",
    "  - Interior borders at the and bottom of hole.\n",
    "  \n",
    "![Confines Embedded Cylinders](<../../Images/FreeCAD Images/Confines Embedded Cylinder.png>)"
   ]
  },
  {
   "cell_type": "code",
   "execution_count": null,
   "metadata": {},
   "outputs": [],
   "source": [
    "def embedded_cylinder_example():\n",
    "    slice_spacing = 0.1\n",
    "    # Body structure defines slices in use\n",
    "    body = make_vertical_cylinder(roi_num=0, radius=10, length=1, offset_z=-0.6,\n",
    "                                  spacing=slice_spacing)\n",
    "    primary_cylinder = make_vertical_cylinder(roi_num=1, radius=4, length=0.8,\n",
    "                                              offset_z=-0.3,\n",
    "                                              spacing=slice_spacing)\n",
    "    center_hole = make_vertical_cylinder(roi_num=1, radius=2, length=0.6,\n",
    "                                         offset_z=-0.2, spacing=slice_spacing)\n",
    "    # Two concentric cylinders different z offsets\n",
    "    middle_cylinder = make_vertical_cylinder(roi_num=2, radius=1, length=0.6,\n",
    "                                             offset_z=-0.2,\n",
    "                                             spacing=slice_spacing)\n",
    "    # combine the contours\n",
    "    slice_data = body + primary_cylinder + center_hole + middle_cylinder\n",
    "    return slice_data\n"
   ]
  },
  {
   "cell_type": "code",
   "execution_count": null,
   "metadata": {},
   "outputs": [],
   "source": [
    "slice_data = embedded_cylinder_example()\n",
    "structures = StructureSet(slice_data)\n",
    "structure_a = structures.structures[1]\n",
    "structure_b = structures.structures[2]\n",
    "relation = structure_a.relate(structure_b)\n",
    "relation_type = relation.identify_relation()\n",
    "print(relation_type)\n",
    "assert relation_type == RelationshipType.CONFINES"
   ]
  },
  {
   "cell_type": "markdown",
   "metadata": {},
   "source": [
    "### Confines Embedded Spheres\n",
    "   - concentric shells\n",
    "   - Sphere within shell with inner island\n",
    " \n",
    "![Confines Embedded Spheres](<../../Images/FreeCAD Images/Confines Embedded Spheres.png>)"
   ]
  },
  {
   "cell_type": "code",
   "execution_count": null,
   "metadata": {},
   "outputs": [],
   "source": [
    "def embedded_spheres_example():\n",
    "    slice_spacing = 0.1\n",
    "    # Body structure defines slices in use\n",
    "    body = make_vertical_cylinder(roi_num=0, radius=10, length=1, offset_z=-0.6,\n",
    "                                  spacing=slice_spacing)\n",
    "\n",
    "    sphere12 = make_sphere(roi_num=1, radius=6, spacing=slice_spacing)\n",
    "    hole10 = make_sphere(roi_num=1, radius=5, spacing=slice_spacing)\n",
    "    sphere8 = make_sphere(roi_num=1, radius=4, spacing=slice_spacing)\n",
    "\n",
    "    sphere10 = make_sphere(roi_num=2, radius=5, spacing=slice_spacing)\n",
    "    hole8 = make_sphere(roi_num=2, radius=4, spacing=slice_spacing)\n",
    "\n",
    "    # combine the contours\n",
    "    slice_data = body + sphere12 + hole10 + sphere8 + sphere10 + hole8\n",
    "    return slice_data\n"
   ]
  },
  {
   "cell_type": "code",
   "execution_count": null,
   "metadata": {},
   "outputs": [],
   "source": [
    "slice_data = embedded_spheres_example()\n",
    "structures = StructureSet(slice_data)\n",
    "structure_a = structures.structures[1]\n",
    "structure_b = structures.structures[2]\n",
    "relation = structure_a.relate(structure_b)\n",
    "relation_type = relation.identify_relation()\n",
    "print(relation_type)\n",
    "assert relation_type == RelationshipType.CONFINES"
   ]
  },
  {
   "cell_type": "markdown",
   "metadata": {},
   "source": [
    "### Confines Box in Box on z surface\n",
    " - Box in box, touching z plane hole surface only\n",
    " \n",
    "![Confines Box in Box on z surface](<../../Images/FreeCAD Images/Confines Box in Box on z surface.png>)"
   ]
  },
  {
   "cell_type": "code",
   "execution_count": null,
   "metadata": {},
   "outputs": [],
   "source": [
    "def confined_box_z_border_example():\n",
    "    slice_spacing = 0.1\n",
    "    # Body structure defines slices in use\n",
    "    body = make_vertical_cylinder(roi_num=0, radius=10, length=1, offset_z=-0.2,\n",
    "                                spacing=slice_spacing)\n",
    "    # embedded boxes\n",
    "    box6 = make_box(roi_num=1, width=6, spacing=slice_spacing)\n",
    "    hole4 = make_box(roi_num=1, width=4,  spacing=slice_spacing)\n",
    "    Box2 = make_box(roi_num=2, width=2, offset_z=1,  spacing=slice_spacing)\n",
    "\n",
    "    # combine the contours\n",
    "    slice_data = body + box6 + hole4 + Box2\n",
    "    return slice_data\n"
   ]
  },
  {
   "cell_type": "code",
   "execution_count": null,
   "metadata": {},
   "outputs": [],
   "source": [
    "slice_data = confined_box_z_border_example()\n",
    "structures = StructureSet(slice_data)\n",
    "structure_a = structures.structures[1]\n",
    "structure_b = structures.structures[2]\n",
    "relation = structure_a.relate(structure_b)\n",
    "relation_type = relation.identify_relation()\n",
    "print(relation_type)\n",
    "assert relation_type == RelationshipType.CONFINES"
   ]
  },
  {
   "cell_type": "markdown",
   "metadata": {},
   "source": [
    "### Confines Box in Box on Y surface\n",
    " - Box in box, touching Y plane hole surface only\n",
    " \n",
    "![Confines Box in Box on Y surface](<../../Images/FreeCAD Images/Confines Box in Box on y surface.png>)"
   ]
  },
  {
   "cell_type": "code",
   "execution_count": null,
   "metadata": {},
   "outputs": [],
   "source": [
    "def confined_box_y_border_example():\n",
    "    slice_spacing = 0.1\n",
    "    # Body structure defines slices in use\n",
    "    body = make_vertical_cylinder(roi_num=0, radius=10, length=1, offset_z=-0.2,\n",
    "                                spacing=slice_spacing)\n",
    "    # embedded boxes\n",
    "    box6 = make_box(roi_num=1, width=6, spacing=slice_spacing)\n",
    "    hole4 = make_box(roi_num=1, width=4,  spacing=slice_spacing)\n",
    "    Box2 = make_box(roi_num=2, width=2, offset_y=1,  spacing=slice_spacing)\n",
    "\n",
    "    # combine the contours\n",
    "    slice_data = body + box6 + hole4 + Box2\n",
    "    return slice_data\n"
   ]
  },
  {
   "cell_type": "code",
   "execution_count": null,
   "metadata": {},
   "outputs": [],
   "source": [
    "slice_data = confined_box_y_border_example()\n",
    "structures = StructureSet(slice_data)\n",
    "structure_a = structures.structures[1]\n",
    "structure_b = structures.structures[2]\n",
    "relation = structure_a.relate(structure_b)\n",
    "relation_type = relation.identify_relation()\n",
    "print(relation_type)\n",
    "assert relation_type == RelationshipType.CONFINES"
   ]
  },
  {
   "cell_type": "markdown",
   "metadata": {},
   "source": [
    "## Partition"
   ]
  },
  {
   "cell_type": "markdown",
   "metadata": {},
   "source": [
    "<link rel=\"stylesheet\" href=\"relations.css\">\n",
    "<table width=\"350px\">\n",
    "<tr class=\"l\"><th>Partition</th><th></th></tr>\n",
    "<td class=\"d\" colspan=\"2\">\n",
    "The boundaries of <span class=\"a\">a</span> and <span class=\"b\">b</span> have more than one point in common.\n",
    "No points of <span class=\"b\">b</span> are exterior to <span class=\"a\">a</span>, and some points in <span class=\"a\">a</span> are exterior to <span class=\"b\">b</span>.\n",
    "</td></tr>\n",
    "<tr><td colspan=\"2\">\n",
    "<img src=\"../../Images/Relationships/partitions simple.png\" alt=\"Partition\">\n",
    "<img src=\"../../Images/Relationships/partitions archipelago with island.png\" alt=\"Partition With Island\">\n",
    "<img src=\"../../Images/Relationships/partitions partial ring.png\" alt=\"Partition Ring\">\n",
    "</td></tr></table>"
   ]
  },
  {
   "cell_type": "markdown",
   "metadata": {},
   "source": [
    "**Partition**\n",
    "\n",
    "- half shell"
   ]
  },
  {
   "cell_type": "markdown",
   "metadata": {},
   "source": [
    "### Partition Box in Box on Y surface\n",
    " - Box part of box, touching Y plane surface only\n",
    " \n",
    "![Partition Box in Box on Y surface](<../../Images/FreeCAD Images/Partition Box in Box on y surface.png>)"
   ]
  },
  {
   "cell_type": "code",
   "execution_count": null,
   "metadata": {},
   "outputs": [],
   "source": [
    "def partition_embedded_box_on_y_surface():\n",
    "    slice_spacing = 0.5\n",
    "    # Body structure defines slices in use\n",
    "    body = make_vertical_cylinder(roi_num=0, radius=20, length=30, spacing=slice_spacing)\n",
    "    # embedded boxes    # 6 cm x 6 cm box\n",
    "    box6 = make_box(roi_num=1, width=6, spacing=slice_spacing)\n",
    "    box6_3 = make_box(roi_num=2, width=6, length=3, height=6, offset_y=1.5,\n",
    "                      spacing=slice_spacing)\n",
    "    # combine the contours\n",
    "    slice_data = box6 + box6_3 + body\n",
    "    return slice_data\n"
   ]
  },
  {
   "cell_type": "code",
   "execution_count": null,
   "metadata": {},
   "outputs": [],
   "source": [
    "slice_data = partition_embedded_box_on_y_surface()\n",
    "structures = StructureSet(slice_data)\n",
    "structure_a = structures.structures[1]\n",
    "structure_b = structures.structures[2]\n",
    "relation = structure_a.relate(structure_b)\n",
    "relation_type = relation.identify_relation()\n",
    "print(relation_type)\n",
    "assert relation_type == RelationshipType.PARTITION"
   ]
  },
  {
   "cell_type": "markdown",
   "metadata": {},
   "source": [
    "### Partition Box in Box on Z surface\n",
    " - Box part of box, touching Z plane surface only\n",
    " \n",
    "![Partition Box in Box on Z surface](<../../Images/FreeCAD Images/Partition Box in Box on z surface.png>)"
   ]
  },
  {
   "cell_type": "code",
   "execution_count": null,
   "metadata": {},
   "outputs": [],
   "source": [
    "def partition_embedded_box_on_z_surface():\n",
    "    slice_spacing = 0.5\n",
    "    # Body structure defines slices in use\n",
    "    body = make_vertical_cylinder(roi_num=0, radius=20, length=30,\n",
    "                                  spacing=slice_spacing)\n",
    "    # embedded boxes    # 6 cm x 6 cm box\n",
    "    box6 = make_box(roi_num=1, width=6, spacing=slice_spacing)\n",
    "    box6_3 = make_box(roi_num=2, width=6, length=6, height=3, offset_z=1.5,\n",
    "                      spacing=slice_spacing)\n",
    "    # combine the contours\n",
    "    slice_data = box6 + box6_3 + body\n",
    "    return slice_data\n"
   ]
  },
  {
   "cell_type": "code",
   "execution_count": null,
   "metadata": {},
   "outputs": [],
   "source": [
    "slice_data = partition_embedded_box_on_z_surface()\n",
    "structures = StructureSet(slice_data)\n",
    "structure_a = structures.structures[1]\n",
    "structure_b = structures.structures[2]\n",
    "relation = structure_a.relate(structure_b)\n",
    "relation_type = relation.identify_relation()\n",
    "print(relation_type)\n",
    "assert relation_type == RelationshipType.PARTITION"
   ]
  },
  {
   "cell_type": "markdown",
   "metadata": {},
   "source": [
    "#### Horizontal Cylinders\n",
    "\n",
    "![Horizontal Cylinders](../../Images/FreeCAD%20Images/HorizontalCylinders.png)"
   ]
  },
  {
   "cell_type": "code",
   "execution_count": null,
   "metadata": {},
   "outputs": [],
   "source": [
    "def horizontal_cylinders():\n",
    "    slice_spacing = 0.1\n",
    "    # Body structure defines slices in use\n",
    "    body = make_box(roi_num=0, width=6, length=6, height=8, offset_z=-4,\n",
    "                    spacing=slice_spacing)\n",
    "    cylinder2h = make_horizontal_cylinder(radius=2, length=5, roi_num=1,\n",
    "                                          spacing=slice_spacing)\n",
    "    cylinder1h = make_horizontal_cylinder(radius=1, length=5, roi_num=2,\n",
    "                                          spacing=slice_spacing)\n",
    "    # combine the contours\n",
    "    slice_data = body + cylinder1h + cylinder2h\n",
    "    return slice_data\n"
   ]
  },
  {
   "cell_type": "code",
   "execution_count": null,
   "metadata": {},
   "outputs": [],
   "source": [
    "slice_data = horizontal_cylinders()\n",
    "structures = StructureSet(slice_data)\n",
    "structure_a = structures.structures[1]\n",
    "structure_b = structures.structures[2]\n",
    "relation = structure_a.relate(structure_b)\n",
    "relation_type = relation.identify_relation()\n",
    "print(relation_type)\n",
    "assert relation_type == RelationshipType.PARTITION"
   ]
  },
  {
   "cell_type": "markdown",
   "metadata": {},
   "source": [
    " #### Vertical Concentric Cylinders\n",
    " \n",
    " ![Concentric Cylinders](../../Images/FreeCAD%20Images/ConcentricCylinders.png)"
   ]
  },
  {
   "cell_type": "code",
   "execution_count": null,
   "metadata": {},
   "outputs": [],
   "source": [
    "def vertical_concentric_cylinders():\n",
    "    slice_spacing = 0.5\n",
    "    # Body structure defines slices in use\n",
    "    body = make_vertical_cylinder(roi_num=0, radius=20, length=30, offset_z=-15,\n",
    "                                spacing=slice_spacing)\n",
    "    cylinder6 = make_vertical_cylinder(roi_num=1, radius=6, length=10,\n",
    "                                    spacing=slice_spacing)\n",
    "    cylinder4 = make_vertical_cylinder(roi_num=2, radius=4, length=10,\n",
    "                                    spacing=slice_spacing)\n",
    "    # combine the contours\n",
    "    slice_data = body + cylinder6 + cylinder4\n",
    "    return slice_data\n"
   ]
  },
  {
   "cell_type": "code",
   "execution_count": null,
   "metadata": {},
   "outputs": [],
   "source": [
    "slice_data = vertical_concentric_cylinders()\n",
    "structures = StructureSet(slice_data)\n",
    "structure_a = structures.structures[1]\n",
    "structure_b = structures.structures[2]\n",
    "relation = structure_a.relate(structure_b)\n",
    "relation_type = relation.identify_relation()\n",
    "print(relation_type)\n",
    "assert relation_type == RelationshipType.PARTITION"
   ]
  },
  {
   "cell_type": "markdown",
   "metadata": {},
   "source": [
    "#### Concentric cylinders starting on the same slice\n",
    "  \n",
    "<img src=\"../../Images\\Boundaries\\PartitionSup3D.png\" alt=\"PartitionSup3D\" style=\"height:50px;\">\n",
    "<img src=\"../../Images\\Boundaries\\PartitionSup2D.png\" alt=\"PartitionSup2D\" style=\"height:30px;\">"
   ]
  },
  {
   "cell_type": "code",
   "execution_count": null,
   "metadata": {},
   "outputs": [],
   "source": [
    "def concentric_cylinders_same_start():\n",
    "    slice_spacing = 0.5\n",
    "    # Body structure defines slices in use\n",
    "    body = make_vertical_cylinder(roi_num=0, radius=10, length=1,\n",
    "                                  spacing=slice_spacing)\n",
    "    # Concentric cylinders starting on the same slice\n",
    "    primary_cylinder = make_vertical_cylinder(roi_num=1, radius=2, length=7,\n",
    "                                              offset_z=-3.5,\n",
    "                                              spacing=slice_spacing)\n",
    "    sup_partition = make_vertical_cylinder(roi_num=2, radius=1, length=3.0,\n",
    "                                           offset_z=-1.5,\n",
    "                                           spacing=slice_spacing)\n",
    "    # combine the contours\n",
    "    slice_data = body + primary_cylinder + sup_partition\n",
    "    return slice_data\n"
   ]
  },
  {
   "cell_type": "code",
   "execution_count": null,
   "metadata": {},
   "outputs": [],
   "source": [
    "slice_data = concentric_cylinders_same_start()\n",
    "structures = StructureSet(slice_data)\n",
    "structure_a = structures.structures[1]\n",
    "structure_b = structures.structures[2]\n",
    "relation = structure_a.relate(structure_b)\n",
    "relation_type = relation.identify_relation()\n",
    "print(relation_type)\n",
    "assert relation_type == RelationshipType.PARTITION"
   ]
  },
  {
   "cell_type": "markdown",
   "metadata": {},
   "source": [
    "#### Concentric cylinders ending on the same slice.\n",
    "\n",
    "<img src=\"../../Images\\Boundaries\\PartitionInf3D.png\" alt=\"PartitionInf3D\" style=\"height:50px;\">\n",
    "<img src=\"../../Images\\Boundaries\\PartitionInf2D.png\" alt=\"PartitionInf2D\" style=\"height:30px;\">"
   ]
  },
  {
   "cell_type": "code",
   "execution_count": null,
   "metadata": {},
   "outputs": [],
   "source": [
    "def concentric_cylinders_same_end():\n",
    "    slice_spacing = 0.5\n",
    "    # Body structure defines slices in use\n",
    "    body = make_vertical_cylinder(roi_num=0, radius=10, length=10,\n",
    "                                  spacing=slice_spacing)\n",
    "    # Concentric cylinders ending on the same slice\n",
    "    primary_cylinder = make_vertical_cylinder(roi_num=1, radius=2, length=7.0,\n",
    "                                              offset_z=3.5,\n",
    "                                              spacing=slice_spacing)\n",
    "    inf_partition = make_vertical_cylinder(roi_num=2, radius=1, length=4,\n",
    "                                           offset_z=2, spacing=slice_spacing)\n",
    "    # combine the contours\n",
    "    slice_data = body + primary_cylinder + inf_partition\n",
    "    return slice_data\n"
   ]
  },
  {
   "cell_type": "code",
   "execution_count": null,
   "metadata": {},
   "outputs": [],
   "source": [
    "slice_data = concentric_cylinders_same_end()\n",
    "structures = StructureSet(slice_data)\n",
    "structure_a = structures.structures[1]\n",
    "structure_b = structures.structures[2]\n",
    "relation = structure_a.relate(structure_b)\n",
    "relation_type = relation.identify_relation()\n",
    "print(relation_type)\n",
    "assert relation_type == RelationshipType.PARTITION"
   ]
  },
  {
   "cell_type": "markdown",
   "metadata": {},
   "source": [
    "#### Concentric cylinders starting and ending on the same slice.\n",
    "\n",
    "<img src=\"../../Images\\Boundaries\\Partition3D.png\" alt=\"PartitionInf3D\" style=\"height:50px;\">\n",
    "<img src=\"../../Images\\Boundaries\\Partition2D.png\" alt=\"PartitionInf2D\" style=\"height:30px;\">"
   ]
  },
  {
   "cell_type": "code",
   "execution_count": null,
   "metadata": {},
   "outputs": [],
   "source": [
    "def concentric_cylinders_same_start_end():\n",
    "    slice_spacing = 0.05\n",
    "    # Body structure defines slices in use\n",
    "    body = make_vertical_cylinder(roi_num=0, radius=10, length=1,\n",
    "                                  spacing=slice_spacing)\n",
    "    # Concentric cylinders starting and ending on the same slice\n",
    "    primary_cylinder = make_vertical_cylinder(roi_num=1, radius=2, length=0.7,\n",
    "                                              offset_z=0.0,\n",
    "                                              spacing=slice_spacing)\n",
    "    mid_partition = make_vertical_cylinder(roi_num=2, radius=1, length=0.7,\n",
    "                                           offset_z=-0.0, spacing=slice_spacing)\n",
    "    # combine the contours\n",
    "    slice_data = body + primary_cylinder + mid_partition\n",
    "    return slice_data\n"
   ]
  },
  {
   "cell_type": "code",
   "execution_count": null,
   "metadata": {},
   "outputs": [],
   "source": [
    "slice_data = concentric_cylinders_same_start_end()\n",
    "structures = StructureSet(slice_data)\n",
    "structure_a = structures.structures[1]\n",
    "structure_b = structures.structures[2]\n",
    "relation = structure_a.relate(structure_b)\n",
    "relation_type = relation.identify_relation()\n",
    "print(relation_type)\n",
    "assert relation_type == RelationshipType.PARTITION"
   ]
  },
  {
   "cell_type": "markdown",
   "metadata": {},
   "source": [
    "### Partition Sphere Island\n",
    "   - concentric shells\n",
    "   - 2nd structure matches inner island\n",
    " \n",
    "![Partition Sphere Island](<../../Images/FreeCAD Images/Partition Sphere Island.png>)"
   ]
  },
  {
   "cell_type": "code",
   "execution_count": null,
   "metadata": {},
   "outputs": [],
   "source": [
    "def partition_sphere_island_example():\n",
    "    slice_spacing = 0.1\n",
    "    # Body structure defines slices in use\n",
    "    body = make_vertical_cylinder(roi_num=0, radius=10, length=1, offset_z=-0.6,\n",
    "                                  spacing=slice_spacing)\n",
    "\n",
    "    sphere12 = make_sphere(roi_num=1, radius=6, spacing=slice_spacing)\n",
    "    hole8 = make_sphere(roi_num=1, radius=4, spacing=slice_spacing)\n",
    "    sphere4 = make_sphere(roi_num=1, radius=2, spacing=slice_spacing)\n",
    "\n",
    "    sphere4_2 = make_sphere(roi_num=2, radius=2, spacing=slice_spacing)\n",
    "\n",
    "    # combine the contours\n",
    "    slice_data = body + sphere12 + hole8 + sphere4 + sphere4_2\n",
    "    return slice_data\n"
   ]
  },
  {
   "cell_type": "code",
   "execution_count": null,
   "metadata": {},
   "outputs": [],
   "source": [
    "slice_data = partition_sphere_island_example()\n",
    "structures = StructureSet(slice_data)\n",
    "structure_a = structures.structures[1]\n",
    "structure_b = structures.structures[2]\n",
    "relation = structure_a.relate(structure_b)\n",
    "relation_type = relation.identify_relation()\n",
    "print(relation_type)\n",
    "assert relation_type == RelationshipType.PARTITION"
   ]
  },
  {
   "cell_type": "markdown",
   "metadata": {},
   "source": [
    "## Overlaps"
   ]
  },
  {
   "cell_type": "markdown",
   "metadata": {
    "notebookRunGroups": {
     "groupValue": "2"
    }
   },
   "source": [
    "<link rel=\"stylesheet\" href=\"relations.css\">\n",
    "<table width=\"350px\">\n",
    "<tr class=\"l\"><th>Overlaps</th><th>Symmetric</th></tr>\n",
    "<td class=\"d\" colspan=\"2\">\n",
    "<span class=\"a\">a</span> and <span class=\"b\">b</span> \n",
    "have some but not all points in common.\n",
    "</td></tr>\n",
    "<tr><td colspan=\"2\">\n",
    "<img src=\"../../Images/Relationships/overlaps simple.png\" alt=\"Overlaps\">\n",
    "<img src=\"../../Images/Relationships/overlaps ring.png\" alt=\"Overlaps With Ring\">\n",
    "<img src=\"../../Images/Relationships/overlaps surounded.png\" alt=\"Overlaps Surrounded\">\n",
    "<img src=\"../../Images/Relationships/overlaps ring surrounds simple.png\" alt=\"Ring Overlaps Simple\">\n",
    "<img src=\"../../Images/Relationships/archipelago contains simple.png\" alt=\"Ring Overlaps Simple\">\n",
    "</td></tr></table>"
   ]
  },
  {
   "cell_type": "markdown",
   "metadata": {},
   "source": [
    "### Overlapping Spheres \n",
    "\n",
    "![Overlapping Spheres](<../../Images/FreeCAD Images/Overlapping Spheres.png>)"
   ]
  },
  {
   "cell_type": "code",
   "execution_count": null,
   "metadata": {},
   "outputs": [],
   "source": [
    "def overlapping_spheres_example():\n",
    "    slice_spacing = 0.5\n",
    "    # Body structure defines slices in use\n",
    "    body = make_vertical_cylinder(roi_num=0, radius=20, length=10,\n",
    "                                  spacing=slice_spacing)\n",
    "\n",
    "    right_sphere6 = make_sphere(roi_num=1, radius=6, offset_x=-2,\n",
    "                                spacing=slice_spacing)\n",
    "    left_sphere6 = make_sphere(roi_num=2, radius=6, offset_x=2,\n",
    "                                spacing=slice_spacing)\n",
    "\n",
    "    # combine the contours\n",
    "    slice_data = body + right_sphere6 + left_sphere6\n",
    "    return slice_data\n"
   ]
  },
  {
   "cell_type": "code",
   "execution_count": null,
   "metadata": {},
   "outputs": [],
   "source": [
    "slice_data = overlapping_spheres_example()\n",
    "structures = StructureSet(slice_data)\n",
    "structure_a = structures.structures[1]\n",
    "structure_b = structures.structures[2]\n",
    "relation = structure_a.relate(structure_b)\n",
    "relation_type = relation.identify_relation()\n",
    "print(relation_type)\n",
    "assert relation_type == RelationshipType.OVERLAPS"
   ]
  },
  {
   "cell_type": "markdown",
   "metadata": {},
   "source": [
    "### Overlapping Boxes in the Y Direction \n",
    "\n",
    "![Overlapping Boxes in the Y Direction](<../../Images/FreeCAD Images/Overlapping Boxes in Y direction.png>)"
   ]
  },
  {
   "cell_type": "code",
   "execution_count": null,
   "metadata": {},
   "outputs": [],
   "source": [
    "def overlapping_boxes_y():\n",
    "    slice_spacing = 0.1\n",
    "    # Body structure defines slices in use\n",
    "    body = make_vertical_cylinder(roi_num=0, radius=10, length=1,\n",
    "                                spacing=slice_spacing)\n",
    "    # overlapping boxes    # 6 cm x 6 cm box\n",
    "    box6 = make_box(roi_num=1, width=0.6, spacing=slice_spacing)\n",
    "    box6_y = make_box(roi_num=2, width=0.6, offset_y=0.2,\n",
    "                      spacing=slice_spacing)\n",
    "    # combine the contours\n",
    "    slice_data = box6 + box6_y + body\n",
    "    return slice_data\n"
   ]
  },
  {
   "cell_type": "code",
   "execution_count": null,
   "metadata": {},
   "outputs": [],
   "source": [
    "slice_data = overlapping_boxes_y()\n",
    "structures = StructureSet(slice_data)\n",
    "structure_a = structures.structures[1]\n",
    "structure_b = structures.structures[2]\n",
    "relation = structure_a.relate(structure_b)\n",
    "relation_type = relation.identify_relation()\n",
    "print(relation_type)\n",
    "assert relation_type == RelationshipType.OVERLAPS"
   ]
  },
  {
   "cell_type": "markdown",
   "metadata": {},
   "source": [
    "### Overlapping Boxes in the Z Direction \n",
    "\n",
    "![Overlapping Boxes in the Z Direction](<../../Images/FreeCAD Images/Overlapping Boxes in Z direction.png>)"
   ]
  },
  {
   "cell_type": "code",
   "execution_count": null,
   "metadata": {},
   "outputs": [],
   "source": [
    "def overlapping_boxes_z():\n",
    "    slice_spacing = 0.1\n",
    "    # Body structure defines slices in use\n",
    "    body = make_vertical_cylinder(roi_num=0, radius=10, length=1,\n",
    "                                spacing=slice_spacing)\n",
    "    # overlapping boxes    # 6 cm x 6 cm box\n",
    "    box6 = make_box(roi_num=1, width=0.6, spacing=slice_spacing)\n",
    "    box6_y = make_box(roi_num=2, width=0.6, offset_z=0.3,\n",
    "                      spacing=slice_spacing)\n",
    "    # combine the contours\n",
    "    slice_data = box6 + box6_y + body\n",
    "    return slice_data\n"
   ]
  },
  {
   "cell_type": "code",
   "execution_count": null,
   "metadata": {},
   "outputs": [],
   "source": [
    "slice_data = overlapping_boxes_z()\n",
    "structures = StructureSet(slice_data)\n",
    "structure_a = structures.structures[1]\n",
    "structure_b = structures.structures[2]\n",
    "relation = structure_a.relate(structure_b)\n",
    "relation_type = relation.identify_relation()\n",
    "print(relation_type)\n",
    "assert relation_type == RelationshipType.OVERLAPS"
   ]
  },
  {
   "cell_type": "markdown",
   "metadata": {},
   "source": [
    "### Stacked Boxes\n",
    "\n",
    "![Stacked Boxes](<../../Images/FreeCAD Images/Stacked Boxes.png>)"
   ]
  },
  {
   "cell_type": "code",
   "execution_count": null,
   "metadata": {},
   "outputs": [],
   "source": [
    "def stacked_boxes():\n",
    "    slice_spacing = 0.1\n",
    "    # Body structure defines slices in use\n",
    "    body = make_vertical_cylinder(roi_num=0, radius=10, length=1,\n",
    "                                spacing=slice_spacing)\n",
    "    # overlapping boxes    # 6 cm x 6 cm box\n",
    "    box6 = make_box(roi_num=1, width=0.6, spacing=slice_spacing)\n",
    "    box6_y = make_box(roi_num=2, width=0.6, offset_z=0.6,\n",
    "                      spacing=slice_spacing)\n",
    "    # combine the contours\n",
    "    slice_data = box6 + box6_y + body\n",
    "    return slice_data"
   ]
  },
  {
   "cell_type": "code",
   "execution_count": null,
   "metadata": {},
   "outputs": [],
   "source": [
    "slice_data = stacked_boxes()\n",
    "structures = StructureSet(slice_data)\n",
    "structure_a = structures.structures[1]\n",
    "structure_b = structures.structures[2]\n",
    "relation = structure_a.relate(structure_b)\n",
    "relation_type = relation.identify_relation()\n",
    "print(relation_type)\n",
    "assert relation_type == RelationshipType.OVERLAPS"
   ]
  },
  {
   "cell_type": "markdown",
   "metadata": {},
   "source": [
    "### Overlapping Concentric Cylinders\n",
    "- Centred vertical cylinder with two cylinders on the same axis, above and \n",
    "below the primary cylinder.\n",
    "\n",
    "- Cylinders are overlapping because they have a contour on the same slices (-0.4, and 0.4).\n",
    "\n",
    "![Overlapping Concentric Cylinders](<../../Images/FreeCAD Images/Overlapping Concentric Cylinders.png>)\n"
   ]
  },
  {
   "cell_type": "code",
   "execution_count": null,
   "metadata": {},
   "outputs": [],
   "source": [
    "def overlapping_concentric_cylinders_example():\n",
    "    slice_spacing = 1\n",
    "    # Body structure defines slices in use\n",
    "    body = make_vertical_cylinder(roi_num=0, radius=12, length=10,\n",
    "                                  spacing=slice_spacing)\n",
    "    # Centred cylinder with two embedded cylinders\n",
    "    primary_cylinder = make_vertical_cylinder(roi_num=1, radius=3, length=8,\n",
    "                                              offset_z=0,\n",
    "                                              spacing=slice_spacing)\n",
    "    # cylinder overlapping primary cylinder\n",
    "    overlapping_cylinder1 = make_vertical_cylinder(roi_num=2, radius=1, length=2,\n",
    "                                             offset_z=5,\n",
    "                                             spacing=slice_spacing)\n",
    "    # cylinder overlapping primary cylinder\n",
    "    overlapping_cylinder2 = make_vertical_cylinder(roi_num=2, radius=1, length=2,\n",
    "                                             offset_z=-5,\n",
    "                                             spacing=slice_spacing)\n",
    "    # combine the contours\n",
    "    slice_data = body + primary_cylinder + overlapping_cylinder1 + overlapping_cylinder2\n",
    "    return slice_data\n"
   ]
  },
  {
   "cell_type": "code",
   "execution_count": null,
   "metadata": {},
   "outputs": [],
   "source": [
    "slice_data = overlapping_concentric_cylinders_example()\n",
    "structures = StructureSet(slice_data)\n",
    "structure_a = structures.structures[1]\n",
    "structure_b = structures.structures[2]\n",
    "relation = structure_a.relate(structure_b)\n",
    "relation_type = relation.identify_relation()\n",
    "print(relation_type)\n",
    "assert relation_type == RelationshipType.OVERLAPS"
   ]
  },
  {
   "cell_type": "markdown",
   "metadata": {},
   "source": [
    "### Overlapping Cubes INF RT\n",
    "\n",
    "![Overlapping Cubes INF RT](<../../Images/FreeCAD Images/Overlapping Cubes INF RT.png>)"
   ]
  },
  {
   "cell_type": "code",
   "execution_count": null,
   "metadata": {},
   "outputs": [],
   "source": [
    "def overlapping_cubes_inf_rt():\n",
    "    slice_spacing = 0.5\n",
    "    # Body structure defines slices in use\n",
    "    body = make_vertical_cylinder(roi_num=0, radius=20, length=30, offset_z=-15,\n",
    "                                spacing=slice_spacing)\n",
    "    #\n",
    "    cube6 = make_box(roi_num=1, width=6, spacing=slice_spacing)\n",
    "    cube6_inf_rt = make_box(roi_num=2, width=6, offset_z=3, offset_x=3,\n",
    "                            offset_y=3, spacing=slice_spacing)\n",
    "    # combine the contours\n",
    "    slice_data = body + cube6 + cube6_inf_rt\n",
    "    return slice_data\n"
   ]
  },
  {
   "cell_type": "code",
   "execution_count": null,
   "metadata": {},
   "outputs": [],
   "source": [
    "slice_data = overlapping_cubes_inf_rt()\n",
    "structures = StructureSet(slice_data)\n",
    "structure_a = structures.structures[1]\n",
    "structure_b = structures.structures[2]\n",
    "relation = structure_a.relate(structure_b)\n",
    "relation_type = relation.identify_relation()\n",
    "print(relation_type)\n",
    "assert relation_type == RelationshipType.OVERLAPS"
   ]
  },
  {
   "cell_type": "markdown",
   "metadata": {},
   "source": [
    "### Overlapping Extended Cylinder\n",
    "\n",
    "![Overlapping Extended Cylinder](<../../Images/FreeCAD Images/Overlapping Extended Cylinder.png>)"
   ]
  },
  {
   "cell_type": "code",
   "execution_count": null,
   "metadata": {},
   "outputs": [],
   "source": [
    "def overlapping_extended_cylinder():\n",
    "    slice_spacing = 0.1\n",
    "    # Body structure defines slices in use\n",
    "    body = make_vertical_cylinder(roi_num=0, radius=12, length=1.1,\n",
    "                                  spacing=slice_spacing)\n",
    "    # Centred cylinder with two embedded cylinders\n",
    "    primary_cylinder = make_vertical_cylinder(roi_num=1, radius=5, length=0.7,\n",
    "                                              spacing=slice_spacing)\n",
    "    # cylinder with interior borders\n",
    "    overlapping_cylinder = make_vertical_cylinder(roi_num=2, radius=3,\n",
    "                                                  length=0.9,\n",
    "                                                  spacing=slice_spacing)\n",
    "\n",
    "    # combine the contours\n",
    "    slice_data = body + primary_cylinder + overlapping_cylinder\n",
    "    return slice_data\n"
   ]
  },
  {
   "cell_type": "code",
   "execution_count": null,
   "metadata": {},
   "outputs": [],
   "source": [
    "slice_data = overlapping_extended_cylinder()\n",
    "structures = StructureSet(slice_data)\n",
    "structure_a = structures.structures[1]\n",
    "structure_b = structures.structures[2]\n",
    "relation = structure_a.relate(structure_b)\n",
    "relation_type = relation.identify_relation()\n",
    "print(relation_type)\n",
    "assert relation_type == RelationshipType.OVERLAPS"
   ]
  },
  {
   "cell_type": "markdown",
   "metadata": {},
   "source": [
    "## Equals"
   ]
  },
  {
   "cell_type": "markdown",
   "metadata": {},
   "source": [
    "<link rel=\"stylesheet\" href=\"relations.css\">\n",
    "<table width=\"350px\">\n",
    "<tr class=\"l\"><th>Equals</th><th>Symmetric, Transitive</th></tr>\n",
    "<td class=\"d\" colspan=\"2\">\n",
    "The interiors of <span class=\"a\">a</span> and <span class=\"b\">b</span> \n",
    "intersect and no part of the interior of one geometry intersects the exterior of the other.\n",
    "</td></tr>\n",
    "<tr><td colspan=\"2\">\n",
    "<img src=\"../../Images/Relationships/equals.png\" alt=\"Equals\">\n",
    "</td></tr></table>"
   ]
  },
  {
   "cell_type": "markdown",
   "metadata": {},
   "source": [
    "### Equal Spheres \n"
   ]
  },
  {
   "cell_type": "code",
   "execution_count": null,
   "metadata": {},
   "outputs": [],
   "source": [
    "def equal_spheres_example():\n",
    "    slice_spacing = 0.5\n",
    "    # Body structure defines slices in use\n",
    "    body = make_vertical_cylinder(roi_num=0, radius=20, length=10,\n",
    "                                  spacing=slice_spacing)\n",
    "\n",
    "    a_sphere6 = make_sphere(roi_num=1, radius=6,\n",
    "                                spacing=slice_spacing)\n",
    "    b_sphere6 = make_sphere(roi_num=2, radius=6,\n",
    "                                spacing=slice_spacing)\n",
    "\n",
    "    # combine the contours\n",
    "    slice_data = body + a_sphere6 + b_sphere6\n",
    "    return slice_data\n"
   ]
  },
  {
   "cell_type": "code",
   "execution_count": null,
   "metadata": {},
   "outputs": [],
   "source": [
    "slice_data = equal_spheres_example()\n",
    "structures = StructureSet(slice_data)\n",
    "structure_a = structures.structures[1]\n",
    "structure_b = structures.structures[2]\n",
    "relation = structure_a.relate(structure_b)\n",
    "relation_type = relation.identify_relation()\n",
    "print(relation_type)\n",
    "assert relation_type == RelationshipType.EQUALS"
   ]
  },
  {
   "cell_type": "markdown",
   "metadata": {},
   "source": [
    "### Equal Boxes \n"
   ]
  },
  {
   "cell_type": "code",
   "execution_count": null,
   "metadata": {},
   "outputs": [],
   "source": [
    "def equal_boxes():\n",
    "    slice_spacing = 0.1\n",
    "    # Body structure defines slices in use\n",
    "    body = make_vertical_cylinder(roi_num=0, radius=10, length=1,\n",
    "                                spacing=slice_spacing)\n",
    "    # overlapping boxes    # 6 cm x 6 cm box\n",
    "    a_box6 = make_box(roi_num=1, width=0.6, spacing=slice_spacing)\n",
    "    b_box6 = make_box(roi_num=2, width=0.6, spacing=slice_spacing)\n",
    "    # combine the contours\n",
    "    slice_data = a_box6 + b_box6 + body\n",
    "    return slice_data\n"
   ]
  },
  {
   "cell_type": "code",
   "execution_count": null,
   "metadata": {},
   "outputs": [],
   "source": [
    "slice_data = equal_boxes()\n",
    "structures = StructureSet(slice_data)\n",
    "structure_a = structures.structures[1]\n",
    "structure_b = structures.structures[2]\n",
    "relation = structure_a.relate(structure_b)\n",
    "relation_type = relation.identify_relation()\n",
    "print(relation_type)\n",
    "assert relation_type == RelationshipType.EQUALS"
   ]
  },
  {
   "cell_type": "markdown",
   "metadata": {},
   "source": [
    "# Done To Here"
   ]
  },
  {
   "cell_type": "markdown",
   "metadata": {},
   "source": [
    "### Equal box created by cropping a larger box."
   ]
  },
  {
   "cell_type": "code",
   "execution_count": null,
   "metadata": {},
   "outputs": [],
   "source": [
    "def equal_boxes_by_crop():\n",
    "    def apply_crop(p):\n",
    "        # polygon made from offset boxed resulting in a 4x4 square hole in the\n",
    "        # middle.\n",
    "        left_xy_points = box_points(width=0.8, offset_x=0.6, offset_y=0)\n",
    "        left_crop = shapely.Polygon(left_xy_points)\n",
    "        right_xy_points = box_points(width=0.8, offset_x=-0.6, offset_y=0)\n",
    "        right_crop = shapely.Polygon(right_xy_points)\n",
    "        up_xy_points = box_points(width=0.8, offset_x=0, offset_y=0.6)\n",
    "        up_crop = shapely.Polygon(up_xy_points)\n",
    "        down_xy_points = box_points(width=0.8, offset_x=0, offset_y=-0.6)\n",
    "        down_crop = shapely.Polygon(down_xy_points)\n",
    "        crop_poly = shapely.union_all([left_crop, right_crop,\n",
    "                                       up_crop, down_crop])\n",
    "        cropped = p - crop_poly\n",
    "        return poly_round(cropped)\n",
    "\n",
    "    def get_cropped_box(box8):# -> List[Dict[str, Any]]:\n",
    "        cropped_box = []\n",
    "        for contour_slice in box8:\n",
    "            contour = contour_slice['Points']\n",
    "            poly = shapely.Polygon(contour)\n",
    "            cropped_poly = apply_crop(poly)\n",
    "            cropped_coords = list(cropped_poly.boundary.coords)\n",
    "            cropped_contour = {\n",
    "                'ROI': contour_slice['ROI'],\n",
    "                'Slice': contour_slice['Slice'],\n",
    "                'Points': cropped_coords,\n",
    "            }\n",
    "            cropped_box.append(cropped_contour)\n",
    "        return cropped_box\n",
    "    slice_spacing = 0.1\n",
    "    body = make_vertical_cylinder(roi_num=0, radius=10, length=1,\n",
    "                                  spacing=slice_spacing)\n",
    "    box8 = make_box(roi_num=1, width=0.8, spacing=slice_spacing)\n",
    "    box4 = make_box(roi_num=2, width=0.4, spacing=slice_spacing)\n",
    "    # apply the crop to box8 to create a copy of box4\n",
    "    cropped_box = get_cropped_box(box8)\n",
    "    slice_data = box4 + body + cropped_box\n",
    "    return slice_data\n"
   ]
  },
  {
   "cell_type": "code",
   "execution_count": null,
   "metadata": {},
   "outputs": [],
   "source": [
    "slice_data = equal_boxes_by_crop()\n",
    "structures = StructureSet(slice_data)\n",
    "structure_a = structures.structures[1]\n",
    "structure_b = structures.structures[2]\n",
    "relation = structure_a.relate(structure_b)\n",
    "relation_type = relation.identify_relation()\n",
    "print(relation_type)\n",
    "assert relation_type == RelationshipType.EQUALS"
   ]
  },
  {
   "cell_type": "markdown",
   "metadata": {},
   "source": [
    "# Misc. Debugging Code"
   ]
  },
  {
   "cell_type": "raw",
   "metadata": {},
   "source": [
    "\n",
    "\n",
    "#logging.getLogger('structures').setLevel(logging.DEBUG)\n",
    "\n",
    "relation = structure_a.relate(structure_b)\n",
    "#logging.getLogger('structures').setLevel(logging.INFO)\n",
    "\n",
    "print(relation)"
   ]
  },
  {
   "cell_type": "raw",
   "metadata": {},
   "source": [
    "poly_a = structure_a.get_slice(3.0)\n",
    "poly_b = structure_b.get_slice(3.0)\n",
    "ax = plot_ab(poly_a, poly_b)"
   ]
  },
  {
   "cell_type": "raw",
   "metadata": {},
   "source": [
    "poly_a = structure_a.get_slice(3.0)\n",
    "list(poly_a.regions.values())[0]"
   ]
  },
  {
   "cell_type": "raw",
   "metadata": {},
   "source": [
    "poly_a = structure_a.get_slice(3.5)\n",
    "poly_a.boundaries"
   ]
  },
  {
   "cell_type": "raw",
   "metadata": {},
   "source": [
    "poly_a = structure_a.get_slice(-3.5)\n",
    "poly_a.merge_regions()"
   ]
  },
  {
   "cell_type": "raw",
   "metadata": {},
   "source": [
    "structure_a.contour_lookup"
   ]
  },
  {
   "cell_type": "raw",
   "metadata": {},
   "source": [
    "idx = structure_a.contour_lookup.SliceIndex == 3.5\n",
    "contour_ref = structure_a.contour_lookup.Label[idx].values\n",
    "contours = structure_a.contour_graph.nodes.data('contour')\n",
    "c1 = contours[contour_ref[0]]\n",
    "print(c1.index)\n",
    "print(c1.is_hole)\n",
    "print(c1.related_contours)\n",
    "c1.poly_h\n"
   ]
  },
  {
   "cell_type": "raw",
   "metadata": {},
   "source": [
    "idx = structure_a.contour_lookup.SliceIndex == 3.0\n",
    "contour_ref = structure_a.contour_lookup.Label[idx].values\n",
    "contours = structure_a.contour_graph.nodes.data('contour')\n",
    "c1 = contours[contour_ref[0]]\n",
    "print(c1.index)\n",
    "print(c1.is_hole)\n",
    "print(c1.related_contours)\n",
    "c1.poly_h\n"
   ]
  },
  {
   "cell_type": "raw",
   "metadata": {},
   "source": [
    "poly_a = structure_a.get_slice(3.5)\n",
    "poly_a.merge_regions()\n",
    "poly_b = structure_b.get_slice(3.5)\n",
    "poly_b.merge_regions()\n",
    "ax = plot_ab(poly_a, poly_b)\n"
   ]
  },
  {
   "cell_type": "code",
   "execution_count": null,
   "metadata": {},
   "outputs": [],
   "source": [
    "logging.getLogger('structures').setLevel(logging.DEBUG)\n",
    "relation = structure_a.relate(structure_b)\n",
    "logging.getLogger('structures').setLevel(logging.INFO)\n",
    "\n",
    "print(relation)"
   ]
  },
  {
   "cell_type": "code",
   "execution_count": null,
   "metadata": {},
   "outputs": [],
   "source": [
    "relation = structure_a.relate(structure_b)\n",
    "print(relation)\n",
    "relation_type = relation.identify_relation()\n",
    "print(relation_type)"
   ]
  },
  {
   "cell_type": "code",
   "execution_count": null,
   "metadata": {},
   "outputs": [],
   "source": [
    "poly_a = structure_a.get_slice(0.0)\n",
    "poly_b = structure_b.get_slice(0.0)\n",
    "ax = plot_ab(poly_a, poly_b, add_axis=False)"
   ]
  },
  {
   "cell_type": "code",
   "execution_count": null,
   "metadata": {},
   "outputs": [],
   "source": [
    "poly_a = structure_a.get_slice(1.0)\n",
    "poly_b = structure_b.get_slice(1.0)\n",
    "ax = plot_ab(poly_a, poly_b, add_axis=False)"
   ]
  },
  {
   "cell_type": "code",
   "execution_count": null,
   "metadata": {},
   "outputs": [],
   "source": [
    "poly_a = structure_a.get_slice(1.5)\n",
    "poly_b = structure_b.get_slice(1.5)\n",
    "ax = plot_ab(poly_a, poly_b, add_axis=False)"
   ]
  },
  {
   "cell_type": "code",
   "execution_count": null,
   "metadata": {},
   "outputs": [],
   "source": [
    "slice_data = extended_inner_cylinder_example()\n",
    "structures = StructureSet(slice_data)\n",
    "structure_a = structures.structures[1]\n",
    "structure_b = structures.structures[2]\n",
    "\n",
    "poly_a = structure_a.get_slice(5.5)\n",
    "poly_b = structure_b.get_slice(5.5)\n",
    "plot_ab(poly_a, poly_b)\n",
    "structure_a.relate(structure_b)"
   ]
  },
  {
   "cell_type": "code",
   "execution_count": null,
   "metadata": {},
   "outputs": [],
   "source": [
    "poly_a = structure_a.get_slice(0)\n",
    "poly_b = structure_b.get_slice(0)\n",
    "plot_ab(poly_a, poly_b)"
   ]
  },
  {
   "cell_type": "code",
   "execution_count": null,
   "metadata": {},
   "outputs": [],
   "source": [
    "structure_a.contour_lookup"
   ]
  },
  {
   "cell_type": "code",
   "execution_count": null,
   "metadata": {},
   "outputs": [],
   "source": [
    "structure_a.get_contour((1,-5.5,43)).polygon - structure_a.get_contour((1,-5.5,44)).polygon"
   ]
  },
  {
   "cell_type": "code",
   "execution_count": null,
   "metadata": {},
   "outputs": [],
   "source": [
    "structure_a.get_contour((1,-5.0,19)).polygon.bounds"
   ]
  },
  {
   "cell_type": "code",
   "execution_count": null,
   "metadata": {},
   "outputs": [],
   "source": [
    "structure_a.get_contour((1,-5.5,43)).polygon.bounds"
   ]
  },
  {
   "cell_type": "markdown",
   "metadata": {},
   "source": [
    "## Results from individual slices\n",
    "```\n",
    "Slice Index: -6.0 Relationship: Disjoint \n",
    "|000|\t|000|\t|000|\n",
    "|000|\t|000|\t|000|\n",
    "|111|\t|111|\t|111|\n",
    "\n",
    "Slice Index: -5.5 Relationship: **Unknown** \n",
    "|000|\t|000|\t|000|\n",
    "|111|\t|000|\t|000|\n",
    "|111|\t|000|\t|000|\n",
    "\n",
    "Slice Index: -5.0 Relationship: Shelters \n",
    "|001|\t|001|\t|111|\n",
    "|001|\t|001|\t|001|\n",
    "|111|\t|111|\t|001|\n",
    "\n",
    "...\n",
    "\n",
    "Slice Index: 5.0 Relationship: Shelters \n",
    "|001|\t|001|\t|111|\n",
    "|001|\t|001|\t|001|\n",
    "|111|\t|111|\t|001|\n",
    "\n",
    "Slice Index: 5.5 Relationship: **Unknown** \n",
    "|000|\t|000|\t|000|\n",
    "|111|\t|000|\t|000|\n",
    "|111|\t|000|\t|000|\n",
    "\n",
    "Slice Index: 6.0 Relationship: Disjoint \n",
    "|000|\t|000|\t|000|\n",
    "|000|\t|000|\t|000|\n",
    "|111|\t|111|\t|111|\n",
    "\n",
    "```"
   ]
  },
  {
   "cell_type": "code",
   "execution_count": null,
   "metadata": {},
   "outputs": [],
   "source": [
    "relation = structure_a.relate(structure_b)\n",
    "print(relation.identify_relation())"
   ]
  },
  {
   "cell_type": "code",
   "execution_count": null,
   "metadata": {},
   "outputs": [],
   "source": [
    "r = DE27IM(structure_a,structure_b,slice_index=0)\n",
    "print(r.identify_relation())"
   ]
  },
  {
   "cell_type": "code",
   "execution_count": null,
   "metadata": {},
   "outputs": [],
   "source": [
    "def relation_example(structure_a,structure_b, slice_index):\n",
    "    poly_a = structure_a.get_contour(slice_index)\n",
    "    poly_b = structure_b.get_contour(slice_index)\n",
    "\n",
    "    r = DE27IM(poly_a, poly_b)\n",
    "    print('Relation Binary', r)\n",
    "    print('Relationship', r.identify_relation())\n",
    "    plot_ab(poly_a.contour, poly_b.contour)"
   ]
  },
  {
   "cell_type": "code",
   "execution_count": null,
   "metadata": {},
   "outputs": [],
   "source": [
    "relation_example(structure_a, structure_b,slice_index=0)"
   ]
  },
  {
   "cell_type": "code",
   "execution_count": null,
   "metadata": {},
   "outputs": [],
   "source": [
    "structure_a"
   ]
  },
  {
   "cell_type": "code",
   "execution_count": null,
   "metadata": {},
   "outputs": [],
   "source": [
    "relation = structure_a.relate(structure_b)\n",
    "relation_type = relation.identify_relation()\n",
    "print(relation_type)\n",
    "assert relation_type == RelationshipType.DISJOINT"
   ]
  }
 ],
 "metadata": {
  "kernelspec": {
   "display_name": "StructureRelations",
   "language": "python",
   "name": "python3"
  },
  "language_info": {
   "codemirror_mode": {
    "name": "ipython",
    "version": 3
   },
   "file_extension": ".py",
   "mimetype": "text/x-python",
   "name": "python",
   "nbconvert_exporter": "python",
   "pygments_lexer": "ipython3",
   "version": "3.11.13"
  }
 },
 "nbformat": 4,
 "nbformat_minor": 4
}
