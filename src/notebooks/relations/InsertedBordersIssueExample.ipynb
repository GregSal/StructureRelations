{
 "cells": [
  {
   "cell_type": "markdown",
   "metadata": {},
   "source": [
    "# Inserted Border Issue Example\n",
    "\n",
    "This notebook illustrates the known bug that a structure that borders another \n",
    "structure at the end of a hole within the first structure will not be correctly \n",
    "recognized as a *Borders* relationship.\n",
    "\n",
    "This is the result of the bug that an open hole that is open only on one end \n",
    "will be treated as open on both ends for the sake of boundary testing. \n"
   ]
  },
  {
   "cell_type": "markdown",
   "metadata": {},
   "source": [
    "## Setup"
   ]
  },
  {
   "cell_type": "code",
   "execution_count": 1,
   "metadata": {},
   "outputs": [],
   "source": [
    "import logging\n",
    "\n",
    "# Local functions and classes\n",
    "#from types_and_classes import *\n",
    "#from utilities import *\n",
    "from debug_tools import make_vertical_cylinder, plot_ab\n",
    "from structure_set import StructureSet\n",
    "from relations import DE27IM"
   ]
  },
  {
   "cell_type": "markdown",
   "metadata": {},
   "source": [
    "### Global Settings"
   ]
  },
  {
   "cell_type": "code",
   "execution_count": 2,
   "metadata": {},
   "outputs": [],
   "source": [
    "PRECISION = 2"
   ]
  },
  {
   "cell_type": "code",
   "execution_count": 3,
   "metadata": {},
   "outputs": [],
   "source": [
    "%matplotlib inline"
   ]
  },
  {
   "cell_type": "markdown",
   "metadata": {},
   "source": [
    "### Display Function"
   ]
  },
  {
   "cell_type": "code",
   "execution_count": 4,
   "metadata": {},
   "outputs": [],
   "source": [
    "def relation_example(structure_a,structure_b, slice_index):\n",
    "    poly_a = structure_a.get_slice(slice_index)\n",
    "    poly_b = structure_b.get_slice(slice_index)\n",
    "\n",
    "    r = DE27IM(poly_a, poly_b)\n",
    "    print('Relation Binary')\n",
    "    print(r)\n",
    "    print('Relationship', r.identify_relation())\n",
    "    plot_ab(poly_a.merge_regions(), poly_b.merge_regions())"
   ]
  },
  {
   "cell_type": "markdown",
   "metadata": {},
   "source": [
    "## Relationship Tests by Relationship Type"
   ]
  },
  {
   "cell_type": "markdown",
   "metadata": {},
   "source": [
    "### Color Coding\n",
    "<table style=\"border: 2px solid black; width=50px;\"><tr><td>\n",
    "<ul style=\"font-weight: 900; font-size: 20px;\">\n",
    "<li style=\"color: blue;\">region a</li>\n",
    "<li style=\"color: green;\">region b</li>\n",
    "<li style=\"color: orange;\">intersection of a & b</li></ul>\n",
    "</tr></td></>"
   ]
  },
  {
   "cell_type": "markdown",
   "metadata": {},
   "source": [
    "## Borders"
   ]
  },
  {
   "cell_type": "markdown",
   "metadata": {},
   "source": [
    "<link rel=\"stylesheet\" href=\"relations.css\">\n",
    "<table width=\"400px\">\n",
    "<tr class=\"l\"><th>Borders</th><th>Symmetric</th></tr>\n",
    "<td class=\"d\" colspan=\"2\">The exterior boundaries of \n",
    "<span class=\"a\">a</span> and <span class=\"b\">b</span> \n",
    "have more than one point in common, but their interiors do not intersect.\n",
    "</td></tr>\n",
    "<tr><td colspan=\"2\">\n",
    "<img src=\"../../Images/Relationships/borders.png\" alt=\"Borders\">\n",
    "<img src=\"../../Images/Relationships/Concave Borders.png\" alt=\"Concave Borders\">\n",
    "</td></tr></table>"
   ]
  },
  {
   "cell_type": "code",
   "execution_count": 5,
   "metadata": {},
   "outputs": [
    {
     "name": "stdout",
     "output_type": "stream",
     "text": [
      "RelationshipTest(Relationship: Borders\n",
      "  Mask:\n",
      "    |100| |000| |000|\n",
      "    |010| |000| |000|\n",
      "    |000| |100| |000|\n",
      "  Value\n",
      "    |000| |000| |000|\n",
      "    |010| |000| |000|\n",
      "    |000| |100| |000|\n",
      "\n",
      "\n"
     ]
    }
   ],
   "source": [
    "print(DE27IM.test_binaries[3])"
   ]
  },
  {
   "cell_type": "markdown",
   "metadata": {},
   "source": [
    "_**ERROR** A hole that is open only on one end is being subtracted at both boundaries._"
   ]
  },
  {
   "cell_type": "markdown",
   "metadata": {},
   "source": [
    "### Inserted Concentric Cylinder\n",
    "  - Primary: Central Hollow Cylinder closed at one end (A bucket like shape).\n",
    "  - Secondary: Concentric narrower cylinder fitting into the space created by the hole and ending on the same slice where the hole is closed. It also extends beyond the other end of the primary cylinder.\n",
    "- The boundary is with the closed end of the hollow cylinder.\n"
   ]
  },
  {
   "cell_type": "code",
   "execution_count": 6,
   "metadata": {},
   "outputs": [],
   "source": [
    "def inserted_cylinder_example():\n",
    "    '''Test cylinder inserted in open hole of first cylinder.'''\n",
    "    slice_spacing = 0.1\n",
    "    # Body structure defines slices in use\n",
    "    body = make_vertical_cylinder(roi_num=0, radius=10, length=1, offset_z=-0.6,\n",
    "                                spacing=slice_spacing)\n",
    "    primary_cylinder = make_vertical_cylinder(roi_num=1, radius=4, length=0.6,\n",
    "                                              offset_z=-0.3,\n",
    "                                              spacing=slice_spacing)\n",
    "    center_hole = make_vertical_cylinder(roi_num=1, radius=2, length=0.4,\n",
    "                                         offset_z=-0.4, spacing=slice_spacing)\n",
    "    # Two concentric cylinders different z offsets\n",
    "    middle_cylinder = make_vertical_cylinder(roi_num=2, radius=1, length=0.6,\n",
    "                                            offset_z=-0.5,\n",
    "                                            spacing=slice_spacing)\n",
    "    # combine the contours\n",
    "    slice_data = body + primary_cylinder + center_hole + middle_cylinder\n",
    "    return slice_data\n"
   ]
  },
  {
   "cell_type": "code",
   "execution_count": 7,
   "metadata": {},
   "outputs": [],
   "source": [
    "slice_data = inserted_cylinder_example()\n"
   ]
  },
  {
   "cell_type": "code",
   "execution_count": 8,
   "metadata": {},
   "outputs": [],
   "source": [
    "#logging.getLogger('structure_set').setLevel(logging.DEBUG)\n",
    "#logging.getLogger('contour_graph').setLevel(logging.DEBUG)\n",
    "structures = StructureSet(slice_data)\n",
    "#logging.getLogger('structure_set').setLevel(logging.INFO)\n",
    "#logging.getLogger('contour_graph').setLevel(logging.INFO)"
   ]
  },
  {
   "cell_type": "code",
   "execution_count": 9,
   "metadata": {},
   "outputs": [],
   "source": [
    "structure_a = structures.structures[1]\n",
    "structure_b = structures.structures[2]\n"
   ]
  },
  {
   "cell_type": "code",
   "execution_count": 10,
   "metadata": {},
   "outputs": [
    {
     "name": "stdout",
     "output_type": "stream",
     "text": [
      "Relation Binary\n",
      "|001| |000| |000|\n",
      "|001| |000| |000|\n",
      "|011| |000| |000|\n",
      "\n",
      "Relationship Relationship: Unknown\n"
     ]
    },
    {
     "data": {
      "image/png": "[encoded data removed]",
      "text/plain": [
       "<Figure size 400x200 with 1 Axes>"
      ]
     },
     "metadata": {},
     "output_type": "display_data"
    }
   ],
   "source": [
    "relation_example(structure_a, structure_b, slice_index=-0.15)"
   ]
  },
  {
   "cell_type": "code",
   "execution_count": 11,
   "metadata": {},
   "outputs": [
    {
     "name": "stderr",
     "output_type": "stream",
     "text": [
      "DEBUG:structures:SliceIndex: -0.85,\n",
      "RelationType: Relationship: Disjoint\n",
      "Relation:\n",
      "|000| |000| |000|\n",
      "|000| |000| |000|\n",
      "|111| |111| |111|\n",
      "\n",
      "\n",
      "DEBUG:structures:SliceIndex: -0.8,\n",
      "RelationType: Relationship: Disjoint\n",
      "Relation:\n",
      "|000| |000| |000|\n",
      "|000| |000| |000|\n",
      "|111| |111| |111|\n",
      "\n",
      "\n",
      "DEBUG:structures:SliceIndex: -0.7,\n",
      "RelationType: Relationship: Disjoint\n",
      "Relation:\n",
      "|000| |000| |000|\n",
      "|000| |000| |000|\n",
      "|111| |111| |111|\n",
      "\n",
      "\n",
      "DEBUG:structures:SliceIndex: -0.65,\n",
      "RelationType: Relationship: Unknown\n",
      "Relation:\n",
      "|000| |000| |000|\n",
      "|001| |000| |000|\n",
      "|111| |000| |000|\n",
      "\n",
      "\n",
      "DEBUG:structures:SliceIndex: -0.6,\n",
      "RelationType: Relationship: Shelters\n",
      "Relation:\n",
      "|001| |001| |111|\n",
      "|001| |001| |001|\n",
      "|111| |111| |001|\n",
      "\n",
      "\n",
      "DEBUG:structures:SliceIndex: -0.5,\n",
      "RelationType: Relationship: Shelters\n",
      "Relation:\n",
      "|001| |001| |111|\n",
      "|001| |001| |001|\n",
      "|111| |111| |001|\n",
      "\n",
      "\n",
      "DEBUG:structures:SliceIndex: -0.4,\n",
      "RelationType: Relationship: Shelters\n",
      "Relation:\n",
      "|001| |001| |111|\n",
      "|001| |001| |001|\n",
      "|111| |111| |001|\n",
      "\n",
      "\n",
      "DEBUG:structures:SliceIndex: -0.3,\n",
      "RelationType: Relationship: Shelters\n",
      "Relation:\n",
      "|001| |001| |111|\n",
      "|001| |001| |001|\n",
      "|111| |111| |001|\n",
      "\n",
      "\n",
      "DEBUG:structures:SliceIndex: -0.2,\n",
      "RelationType: Relationship: Shelters\n",
      "Relation:\n",
      "|001| |001| |111|\n",
      "|001| |001| |001|\n",
      "|111| |111| |001|\n",
      "\n",
      "\n",
      "DEBUG:structures:SliceIndex: -0.15,\n",
      "RelationType: Relationship: Unknown\n",
      "Relation:\n",
      "|001| |000| |000|\n",
      "|001| |000| |000|\n",
      "|011| |000| |000|\n",
      "\n",
      "\n",
      "DEBUG:structures:SliceIndex: -0.1,\n",
      "RelationType: Relationship: Unknown\n",
      "Relation:\n",
      "|001| |001| |001|\n",
      "|001| |001| |001|\n",
      "|001| |001| |001|\n",
      "\n",
      "\n",
      "DEBUG:structures:SliceIndex: -0.05,\n",
      "RelationType: Relationship: Unknown\n",
      "Relation:\n",
      "|001| |001| |001|\n",
      "|001| |001| |001|\n",
      "|001| |001| |001|\n",
      "\n",
      "\n",
      "DEBUG:structures:SliceIndex: 0.0,\n",
      "RelationType: Relationship: Unknown\n",
      "Relation:\n",
      "|001| |001| |001|\n",
      "|001| |001| |001|\n",
      "|001| |001| |001|\n",
      "\n",
      "\n",
      "DEBUG:structures:SliceIndex: 0.05,\n",
      "RelationType: Relationship: Unknown\n",
      "Relation:\n",
      "|001| |001| |001|\n",
      "|001| |001| |001|\n",
      "|001| |001| |001|\n",
      "\n",
      "\n"
     ]
    }
   ],
   "source": [
    "logging.getLogger('structures').setLevel(logging.DEBUG)\n",
    "relation = structure_a.relate(structure_b)\n",
    "logging.getLogger('structures').setLevel(logging.INFO)"
   ]
  },
  {
   "cell_type": "code",
   "execution_count": 12,
   "metadata": {},
   "outputs": [
    {
     "name": "stdout",
     "output_type": "stream",
     "text": [
      "|001| |001| |111|\n",
      "|001| |001| |001|\n",
      "|111| |111| |111|\n",
      "\n",
      "Relationship: Disjoint\n"
     ]
    }
   ],
   "source": [
    "print(relation)\n",
    "relation_type = relation.identify_relation()\n",
    "print(relation_type)"
   ]
  },
  {
   "cell_type": "code",
   "execution_count": 13,
   "metadata": {},
   "outputs": [
    {
     "name": "stdout",
     "output_type": "stream",
     "text": [
      "RelationshipTest(Relationship: Borders\n",
      "  Mask:\n",
      "    |100| |000| |000|\n",
      "    |010| |000| |000|\n",
      "    |000| |100| |000|\n",
      "  Value\n",
      "    |000| |000| |000|\n",
      "    |010| |000| |000|\n",
      "    |000| |100| |000|\n",
      "\n",
      "\n"
     ]
    }
   ],
   "source": [
    "print(DE27IM.test_binaries[3])"
   ]
  },
  {
   "cell_type": "code",
   "execution_count": 14,
   "metadata": {},
   "outputs": [],
   "source": [
    "#assert relation_type == RelationshipType.BORDERS"
   ]
  },
  {
   "cell_type": "code",
   "execution_count": 15,
   "metadata": {},
   "outputs": [
    {
     "name": "stdout",
     "output_type": "stream",
     "text": [
      "    SliceIndex HoleType  Interpolated  Boundary RegionIndex\n",
      "8        -0.20     None         False     False          1A\n",
      "9        -0.20     Open         False     False          1B\n",
      "15       -0.15     Open          True      True          1B\n",
      "16       -0.15     None          True     False          1A\n",
      "10       -0.10     None         False     False          1A\n",
      "17       -0.05     None          True     False          1A\n",
      "11        0.00     None         False     False          1A\n",
      "12        0.05     None          True      True          1A\n",
      "   SliceIndex HoleType  Interpolated  Boundary RegionIndex\n",
      "7       -0.85     None          True      True          2A\n",
      "0       -0.80     None         False     False          2A\n",
      "1       -0.70     None         False     False          2A\n",
      "9       -0.65     None          True     False          2A\n",
      "2       -0.60     None         False     False          2A\n",
      "3       -0.50     None         False     False          2A\n",
      "4       -0.40     None         False     False          2A\n",
      "5       -0.30     None         False     False          2A\n",
      "6       -0.20     None         False     False          2A\n",
      "8       -0.15     None          True      True          2A\n"
     ]
    }
   ],
   "source": [
    "selected_columns = ['SliceIndex', 'HoleType', 'Interpolated',\n",
    "                    'Boundary', 'RegionIndex']\n",
    "selected_rows = structure_a.contour_lookup.SliceIndex > -0.30\n",
    "print(structure_a.contour_lookup.loc[selected_rows,selected_columns])\n",
    "print(structure_b.contour_lookup[selected_columns])"
   ]
  },
  {
   "cell_type": "code",
   "execution_count": 16,
   "metadata": {},
   "outputs": [
    {
     "data": {
      "image/svg+xml": [
       "<svg xmlns=\"http://www.w3.org/2000/svg\" xmlns:xlink=\"http://www.w3.org/1999/xlink\" width=\"100.0\" height=\"100.0\" viewBox=\"-4.32 -4.32 8.64 8.64\" preserveAspectRatio=\"xMinYMin meet\"><g transform=\"matrix(1,0,0,-1,0,0.0)\"><path fill-rule=\"evenodd\" fill=\"#66cc99\" stroke=\"#555555\" stroke-width=\"0.1728\" opacity=\"0.6\" d=\"M 2.828,2.828 L 3.696,1.531 L 4.0,0.0 L 3.696,-1.531 L 2.828,-2.828 L 1.531,-3.696 L 0.0,-4.0 L -1.531,-3.696 L -2.828,-2.828 L -3.696,-1.531 L -4.0,0.0 L -3.696,1.531 L -2.828,2.828 L -1.531,3.696 L 0.0,4.0 L 1.531,3.696 L 2.828,2.828 z M -1.414,1.414 L -1.848,0.765 L -2.0,0.0 L -1.848,-0.765 L -1.414,-1.414 L -0.765,-1.848 L 0.0,-2.0 L 0.765,-1.848 L 1.414,-1.414 L 1.848,-0.765 L 2.0,0.0 L 1.848,0.765 L 1.414,1.414 L 0.765,1.848 L 0.0,2.0 L -0.765,1.848 L -1.414,1.414 z\" /></g></svg>"
      ],
      "text/plain": [
       "<POLYGON Z ((2.828 2.828 -0.2, 3.696 1.531 -0.2, 4 0 -0.2, 3.696 -1.531 -0.2...>"
      ]
     },
     "execution_count": 16,
     "metadata": {},
     "output_type": "execute_result"
    }
   ],
   "source": [
    "poly_a = structure_a.get_slice(-0.15)\n",
    "poly_a.merge_regions()"
   ]
  },
  {
   "cell_type": "code",
   "execution_count": 17,
   "metadata": {},
   "outputs": [
    {
     "name": "stdout",
     "output_type": "stream",
     "text": [
      "1\n"
     ]
    },
    {
     "data": {
      "image/svg+xml": [
       "<svg xmlns=\"http://www.w3.org/2000/svg\" xmlns:xlink=\"http://www.w3.org/1999/xlink\" width=\"100.0\" height=\"100.0\" viewBox=\"-4.32 -4.32 8.64 8.64\" preserveAspectRatio=\"xMinYMin meet\"><g transform=\"matrix(1,0,0,-1,0,0.0)\"><g><path fill-rule=\"evenodd\" fill=\"#66cc99\" stroke=\"#555555\" stroke-width=\"0.1728\" opacity=\"0.6\" d=\"M 2.828,2.828 L 3.696,1.531 L 4.0,0.0 L 3.696,-1.531 L 2.828,-2.828 L 1.531,-3.696 L 0.0,-4.0 L -1.531,-3.696 L -2.828,-2.828 L -3.696,-1.531 L -4.0,0.0 L -3.696,1.531 L -2.828,2.828 L -1.531,3.696 L 0.0,4.0 L 1.531,3.696 L 2.828,2.828 z M -1.414,1.414 L -1.848,0.765 L -2.0,0.0 L -1.848,-0.765 L -1.414,-1.414 L -0.765,-1.848 L 0.0,-2.0 L 0.765,-1.848 L 1.414,-1.414 L 1.848,-0.765 L 2.0,0.0 L 1.848,0.765 L 1.414,1.414 L 0.765,1.848 L 0.0,2.0 L -0.765,1.848 L -1.414,1.414 z\" /></g></g></svg>"
      ],
      "text/plain": [
       "<MULTIPOLYGON Z (((2.828 2.828 -0.2, 3.696 1.531 -0.2, 4 0 -0.2, 3.696 -1.53...>"
      ]
     },
     "execution_count": 17,
     "metadata": {},
     "output_type": "execute_result"
    }
   ],
   "source": [
    "print(len(poly_a.regions))\n",
    "rr = list(poly_a.regions.values())[0]\n",
    "rr"
   ]
  },
  {
   "cell_type": "code",
   "execution_count": 18,
   "metadata": {},
   "outputs": [
    {
     "data": {
      "text/plain": [
       "[<MULTIPOLYGON Z (((2.828 2.828 -0.2, 3.696 1.531 -0.2, 4 0 -0.2, 3.696 -1.53...>]"
      ]
     },
     "execution_count": 18,
     "metadata": {},
     "output_type": "execute_result"
    }
   ],
   "source": [
    "list(poly_a.regions.values())"
   ]
  },
  {
   "cell_type": "code",
   "execution_count": 19,
   "metadata": {},
   "outputs": [
    {
     "data": {
      "text/plain": [
       "[<MULTIPOLYGON EMPTY>]"
      ]
     },
     "execution_count": 19,
     "metadata": {},
     "output_type": "execute_result"
    }
   ],
   "source": [
    "list(poly_a.boundaries.values())"
   ]
  },
  {
   "cell_type": "code",
   "execution_count": 20,
   "metadata": {},
   "outputs": [
    {
     "name": "stdout",
     "output_type": "stream",
     "text": [
      "1\n"
     ]
    }
   ],
   "source": [
    "print(len(poly_a.boundaries))\n",
    "br = list(poly_a.boundaries.values())[0]\n",
    "# br"
   ]
  },
  {
   "cell_type": "code",
   "execution_count": 21,
   "metadata": {},
   "outputs": [],
   "source": [
    "# plot_ab(rr, br)"
   ]
  },
  {
   "cell_type": "code",
   "execution_count": 22,
   "metadata": {},
   "outputs": [
    {
     "data": {
      "image/svg+xml": [
       "<svg xmlns=\"http://www.w3.org/2000/svg\" xmlns:xlink=\"http://www.w3.org/1999/xlink\" width=\"100.0\" height=\"100.0\" viewBox=\"-1.08 -1.08 2.16 2.16\" preserveAspectRatio=\"xMinYMin meet\"><g transform=\"matrix(1,0,0,-1,0,0.0)\"><path fill-rule=\"evenodd\" fill=\"#66cc99\" stroke=\"#555555\" stroke-width=\"0.0432\" opacity=\"0.6\" d=\"M 0.0,1.0 L 0.383,0.924 L 0.707,0.707 L 0.924,0.383 L 1.0,0.0 L 0.924,-0.383 L 0.707,-0.707 L 0.383,-0.924 L 0.0,-1.0 L -0.383,-0.924 L -0.707,-0.707 L -0.924,-0.383 L -1.0,0.0 L -0.924,0.383 L -0.707,0.707 L -0.383,0.924 L 0.0,1.0 z\" /></g></svg>"
      ],
      "text/plain": [
       "<POLYGON Z ((0 1 -0.2, 0.4 0.9 -0.2, 0.7 0.7 -0.2, 0.9 0.4 -0.2, 1 0 -0.2, 0...>"
      ]
     },
     "execution_count": 22,
     "metadata": {},
     "output_type": "execute_result"
    }
   ],
   "source": [
    "poly_b = structure_b.get_slice(-0.15)\n",
    "poly_b.merge_regions()"
   ]
  },
  {
   "cell_type": "code",
   "execution_count": 23,
   "metadata": {},
   "outputs": [
    {
     "data": {
      "text/plain": [
       "[<MULTIPOLYGON Z (((0 1 -0.2, 0.4 0.9 -0.2, 0.7 0.7 -0.2, 0.9 0.4 -0.2, 1 0 -...>]"
      ]
     },
     "execution_count": 23,
     "metadata": {},
     "output_type": "execute_result"
    }
   ],
   "source": [
    "list(poly_b.boundaries.values())"
   ]
  },
  {
   "cell_type": "code",
   "execution_count": 24,
   "metadata": {},
   "outputs": [
    {
     "data": {
      "image/png": "[encoded data removed]",
      "text/plain": [
       "<Figure size 400x200 with 1 Axes>"
      ]
     },
     "metadata": {},
     "output_type": "display_data"
    },
    {
     "data": {
      "text/plain": [
       "<Axes: >"
      ]
     },
     "execution_count": 24,
     "metadata": {},
     "output_type": "execute_result"
    }
   ],
   "source": [
    "poly_b_b = list(poly_b.boundaries.values())[0]\n",
    "plot_ab(rr, poly_b_b)"
   ]
  },
  {
   "cell_type": "code",
   "execution_count": 25,
   "metadata": {},
   "outputs": [],
   "source": [
    "#plot_ab(br, poly_b_b)"
   ]
  },
  {
   "cell_type": "code",
   "execution_count": 26,
   "metadata": {},
   "outputs": [
    {
     "name": "stdout",
     "output_type": "stream",
     "text": [
      "2 [(np.int64(1), -0.15, 28) (np.int64(1), -0.15, 29)]\n",
      "(np.int64(1), -0.15, 28)\n",
      "True\n",
      "[(np.int64(1), -0.15, 29)]\n"
     ]
    },
    {
     "data": {
      "image/svg+xml": [
       "<svg xmlns=\"http://www.w3.org/2000/svg\" xmlns:xlink=\"http://www.w3.org/1999/xlink\" width=\"100.0\" height=\"100.0\" viewBox=\"-2.16 -2.16 4.32 4.32\" preserveAspectRatio=\"xMinYMin meet\"><g transform=\"matrix(1,0,0,-1,0,0.0)\"><path fill-rule=\"evenodd\" fill=\"#66cc99\" stroke=\"#555555\" stroke-width=\"0.0864\" opacity=\"0.6\" d=\"M 0.0,2.0 L 0.765,1.848 L 1.414,1.414 L 1.848,0.765 L 2.0,0.0 L 1.848,-0.765 L 1.414,-1.414 L 0.765,-1.848 L 0.0,-2.0 L -0.765,-1.848 L -1.414,-1.414 L -1.848,-0.765 L -2.0,0.0 L -1.848,0.765 L -1.414,1.414 L -0.765,1.848 L 0.0,2.0 z\" /></g></svg>"
      ],
      "text/plain": [
       "<POLYGON Z ((0 2 -0.2, 0.8 1.848 -0.2, 1.414 1.414 -0.2, 1.848 0.8 -0.2, 2 0...>"
      ]
     },
     "execution_count": 26,
     "metadata": {},
     "output_type": "execute_result"
    }
   ],
   "source": [
    "idx = structure_a.contour_lookup.SliceIndex == -0.15\n",
    "contour_ref = structure_a.contour_lookup.Label[idx].values\n",
    "print(len(contour_ref), contour_ref)\n",
    "contours = structure_a.contour_graph.nodes.data('contour')\n",
    "c1 = contours[contour_ref[0]]\n",
    "print(c1.index)\n",
    "print(c1.is_hole)\n",
    "print(c1.related_contours)\n",
    "c1.poly_h"
   ]
  },
  {
   "cell_type": "code",
   "execution_count": 27,
   "metadata": {},
   "outputs": [
    {
     "name": "stdout",
     "output_type": "stream",
     "text": [
      "(np.int64(1), -0.15, 29)\n",
      "False\n",
      "[(np.int64(1), -0.15, 28)]\n"
     ]
    },
    {
     "data": {
      "image/svg+xml": [
       "<svg xmlns=\"http://www.w3.org/2000/svg\" xmlns:xlink=\"http://www.w3.org/1999/xlink\" width=\"100.0\" height=\"100.0\" viewBox=\"-4.32 -4.32 8.64 8.64\" preserveAspectRatio=\"xMinYMin meet\"><g transform=\"matrix(1,0,0,-1,0,0.0)\"><path fill-rule=\"evenodd\" fill=\"#66cc99\" stroke=\"#555555\" stroke-width=\"0.1728\" opacity=\"0.6\" d=\"M 0.0,4.0 L 1.531,3.696 L 2.828,2.828 L 3.696,1.531 L 4.0,0.0 L 3.696,-1.531 L 2.828,-2.828 L 1.531,-3.696 L 0.0,-4.0 L -1.531,-3.696 L -2.828,-2.828 L -3.696,-1.531 L -4.0,0.0 L -3.696,1.531 L -2.828,2.828 L -1.531,3.696 L 0.0,4.0 z\" /></g></svg>"
      ],
      "text/plain": [
       "<POLYGON Z ((0 4 -0.2, 1.531 3.696 -0.2, 2.828 2.828 -0.2, 3.696 1.531 -0.2,...>"
      ]
     },
     "execution_count": 27,
     "metadata": {},
     "output_type": "execute_result"
    }
   ],
   "source": [
    "c2 = contours[contour_ref[1]]\n",
    "print(c2.index)\n",
    "print(c2.is_hole)\n",
    "print(c2.related_contours)\n",
    "c2.poly_h\n"
   ]
  }
 ],
 "metadata": {
  "kernelspec": {
   "display_name": "StructureRelations",
   "language": "python",
   "name": "python3"
  },
  "language_info": {
   "codemirror_mode": {
    "name": "ipython",
    "version": 3
   },
   "file_extension": ".py",
   "mimetype": "text/x-python",
   "name": "python",
   "nbconvert_exporter": "python",
   "pygments_lexer": "ipython3",
   "version": "3.11.9"
  }
 },
 "nbformat": 4,
 "nbformat_minor": 4
}
