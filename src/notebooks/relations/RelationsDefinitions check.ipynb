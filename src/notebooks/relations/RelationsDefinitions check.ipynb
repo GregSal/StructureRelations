{
 "cells": [
  {
   "cell_type": "markdown",
   "metadata": {},
   "source": [
    "# Relations Definition Check"
   ]
  },
  {
   "cell_type": "markdown",
   "metadata": {},
   "source": [
    "## Setup"
   ]
  },
  {
   "cell_type": "markdown",
   "metadata": {},
   "source": [
    "### Imports"
   ]
  },
  {
   "cell_type": "code",
   "execution_count": 2,
   "metadata": {},
   "outputs": [],
   "source": [
    "# Type imports\n",
    "from typing import Any, Dict, Tuple, List\n",
    "\n",
    "# Standard Libraries\n",
    "from enum import Enum, auto\n",
    "from pathlib import Path\n",
    "from math import sqrt, pi, sin, cos, tan, radians\n",
    "from statistics import mean\n",
    "from itertools import zip_longest\n",
    "from dataclasses import dataclass, field, asdict\n",
    "\n",
    "# Shared Packages\n",
    "import numpy as np\n",
    "import pandas as pd\n",
    "#import xlwings as xw\n",
    "import matplotlib.pyplot as plt\n",
    "#import PySimpleGUI as sg\n",
    "import pydicom\n",
    "import shapely\n",
    "from shapely.plotting import plot_polygon, plot_points\n",
    "\n",
    "# Local functions and classes\n",
    "from types_and_classes import *\n",
    "from utilities import *\n",
    "from metrics import *\n",
    "from relations import *\n",
    "from debug_tools import *\n"
   ]
  },
  {
   "cell_type": "markdown",
   "metadata": {},
   "source": [
    "### Global Settings"
   ]
  },
  {
   "cell_type": "code",
   "execution_count": 3,
   "metadata": {},
   "outputs": [],
   "source": [
    "PRECISION = 3\n"
   ]
  },
  {
   "cell_type": "code",
   "execution_count": 4,
   "metadata": {},
   "outputs": [],
   "source": [
    "%matplotlib inline"
   ]
  },
  {
   "cell_type": "markdown",
   "metadata": {},
   "source": [
    "# Structure Relationship Definitions"
   ]
  },
  {
   "cell_type": "markdown",
   "metadata": {},
   "source": [
    "## Color Coding\n",
    "<table style=\"border: 2px solid black; width=50px;\"><tr><td>\n",
    "<ul style=\"font-weight: 900; font-size: 20px;\">\n",
    "<li style=\"color: blue;\">region a</li>\n",
    "<li style=\"color: green;\">region b</li>\n",
    "<li style=\"color: orange;\">intersection of a & b</li></ul>\n",
    "</tr></td></>"
   ]
  },
  {
   "cell_type": "markdown",
   "metadata": {},
   "source": [
    "## Surrounds"
   ]
  },
  {
   "cell_type": "markdown",
   "metadata": {},
   "source": [
    "<link rel=\"stylesheet\" href=\"relations.css\">\n",
    "<table width=\"400px\">\n",
    "<tr class=\"l\"><th>Surrounds</th><th>Transitive</t></tr>\n",
    "<td class=\"d\" colspan=\"2\">\n",
    "<span class=\"a\">a</span> and <span class=\"b\">b</span> have no interior points in common, and with holes filled <span class=\"b\">b</span> lies in the interior of <span class=\"a\">a</span>.\n",
    "</td></tr><tr><td>\n",
    "<img src=\"../../Images/Relationships/surrounds simple.png\" alt=\"surrounds simple\">\n",
    "<img src=\"../../Images/Relationships/surrounds with ring.png\" alt=\"surrounds ring\">\n",
    "</td><td>\n",
    "<table class=\"f\">\n",
    "<tr><th/><th>Hull</th><th>Exterior</th><th>Region</th></tr>\n",
    "<tr><th>Matrix</th>\n",
    "<td class=\"na\">N/A</td>\n",
    "<td><table class=\"matrix\">        \n",
    "    <tr><td>2</td><td>*</td><td>*</td></tr>\n",
    "    <tr><td>*</td><td>F</td><td>*</td></tr>\n",
    "    <tr><td>F</td><td>F</td><td>*</td></tr>\n",
    "    </table>\n",
    "    </td>\n",
    "<td><table class=\"matrix\">        \n",
    "    <tr><td>F</td><td>F</td><td>*</td></tr>\n",
    "    <tr><td>F</td><td>F</td><td>*</td></tr>\n",
    "    <tr><td>*</td><td>*</td><td>*</td></tr>\n",
    "    </table>\n",
    "    </td>\n",
    "</tr><tr class=\"bin\">\n",
    "<th>Mask</th><td><span>000000000</span></td><td><span>100010110</span></td><td><span>110110000</span></td></tr>\n",
    "<tr class=\"bin\">\n",
    "<th>Value</th><td><span>000000000</span></td><td><span>100000000</span></td><td><span>000000000</span></td></tr>\n",
    "<tr class=\"bin\">\n",
    "<th>Definition</th><td>*********</td><td><b><i>T***F*FF*</i></b></td><td>FF*FF****</td></tr>\n",
    "</table></td></tr></table>\n"
   ]
  },
  {
   "cell_type": "code",
   "execution_count": 5,
   "metadata": {},
   "outputs": [
    {
     "data": {
      "text/plain": [
       "(RelationshipTest(Relationship: Surrounds\n",
       "     mask =  0b000000000100010110110110000\n",
       "     value = 0b000000000100000000000000000,)"
      ]
     },
     "execution_count": 5,
     "metadata": {},
     "output_type": "execute_result"
    }
   ],
   "source": [
    "surrounds_def = RelationshipTest(\n",
    "    RelationshipType.SURROUNDS,\n",
    "    0b000000000100010110110110000,\n",
    "    0b000000000100000000000000000)\n",
    "RelationshipTest(\n",
    "    RelationshipType.SURROUNDS,\n",
    "    0b000000000100010110110110000,\n",
    "    0b000000000100000000000000000),\n"
   ]
  },
  {
   "cell_type": "markdown",
   "metadata": {},
   "source": [
    "## Shelters"
   ]
  },
  {
   "cell_type": "markdown",
   "metadata": {},
   "source": [
    "<link rel=\"stylesheet\" href=\"relations.css\">\n",
    "<table width=\"400px\">\n",
    "<tr class=\"l\"><th>Shelters</th><th>Transitive</th></tr>\n",
    "<td class=\"d\" colspan=\"2\">\n",
    "<span class=\"a\">a</span> and <span class=\"b\">b</span> \n",
    "have no points in common, \n",
    "but the Convex Hull of <span class=\"a\">a</span> contains <span class=\"b\">b</span>.\n",
    "</td></tr>\n",
    "<tr><td>\n",
    "<img src=\"../../Images/Relationships/shelters.png\" alt=\"Shelters\">\n",
    "</td><td>\n",
    "<table class=\"f\">\n",
    "<tr><th/><th>Hull</th><th>Exterior</th><th>Region</th></tr>\n",
    "<tr><th>Matrix</th>\n",
    "<td><table class=\"matrix\">        \n",
    "    <tr><td>2</td><td>1</td><td>2</td></tr>\n",
    "    <tr><td>*</td><td>*</td><td>*</td></tr>\n",
    "    <tr><td>F</td><td>*</td><td>*</td></tr>\n",
    "    </table>\n",
    "    </td>\n",
    "<td><table class=\"matrix\">        \n",
    "    <tr><td>F</td><td>F</td><td>*</td></tr>\n",
    "    <tr><td>F</td><td>F</td><td>*</td></tr>\n",
    "    <tr><td>*</td><td>*</td><td>*</td></tr>\n",
    "    </table>\n",
    "    </td>\n",
    "<td><table class=\"matrix\">        \n",
    "    <tr><td>F</td><td>F</td><td>*</td></tr>\n",
    "    <tr><td>F</td><td>F</td><td>*</td></tr>\n",
    "    <tr><td>*</td><td>*</td><td>*</td></tr>\n",
    "    </table>\n",
    "    </td>\n",
    "</tr>\n",
    "</tr><tr class=\"bin\">\n",
    "<th>Mask</th><td><span>111000100</span></td><td><span>110110000</span></td><td><span>110110000</span></td></tr>\n",
    "<tr class=\"bin\">\n",
    "<th>Value</th><td><span>111000000</span></td><td><span>000000000</span></td><td><span>000000000</span></td></tr>\n",
    "<tr class=\"bin\">\n",
    "<th>Definition</th><td><b><i>TTT***F**</i></b></td><td>FF*FF****</td><td>FF*FF****</td></tr>\n",
    "</table></td></tr></table>"
   ]
  },
  {
   "cell_type": "code",
   "execution_count": 6,
   "metadata": {},
   "outputs": [
    {
     "data": {
      "text/plain": [
       "(RelationshipTest(Relationship: Shelters\n",
       "     mask =  0b111000100110110000110110000\n",
       "     value = 0b111000000000000000000000000,)"
      ]
     },
     "execution_count": 6,
     "metadata": {},
     "output_type": "execute_result"
    }
   ],
   "source": [
    "shelters_def = RelationshipTest(\n",
    "    RelationshipType.SHELTERS,\n",
    "    0b111000100110110000110110000,\n",
    "    0b111000000000000000000000000)\n",
    "RelationshipTest(\n",
    "    RelationshipType.SHELTERS,\n",
    "    0b111000100110110000110110000,\n",
    "    0b111000000000000000000000000),\n"
   ]
  },
  {
   "cell_type": "markdown",
   "metadata": {},
   "source": [
    "## Disjoint"
   ]
  },
  {
   "cell_type": "markdown",
   "metadata": {},
   "source": [
    "<link rel=\"stylesheet\" href=\"relations.css\">\n",
    "<table width=\"600px\">\n",
    "<tr class=\"l\"><th>Disjoint</th><th>Symmetric</th></tr>\n",
    "<td class=\"d\" colspan=\"2\">The Convex Hull of \n",
    "<span class=\"a\">a</span> has no points in common wuth <span class=\"b\">b</span>.</td></tr>\n",
    "<tr><td>\n",
    "<img src=\"../../Images/Relationships/disjoint.png\" alt=\"Disjoint\" style=\"width: 640px\">\n",
    "</td><td>\n",
    "<table class=\"f\">\n",
    "<tr><th/><th>Hull</th><th>Exterior</th><th>Region</th></tr>\n",
    "<tr><th>Matrix</th>\n",
    "<td><table class=\"matrix\">        \n",
    "    <tr><td>F</td><td>F</td><td>*</td></tr>\n",
    "    <tr><td>F</td><td>F</td><td>*</td></tr>\n",
    "    <tr><td>*</td><td>*</td><td>*</td></tr>\n",
    "    </table>\n",
    "    </td>\n",
    "<td><table class=\"matrix\">        \n",
    "    <tr><td>F</td><td>F</td><td>*</td></tr>\n",
    "    <tr><td>F</td><td>F</td><td>*</td></tr>\n",
    "    <tr><td>*</td><td>*</td><td>*</td></tr>\n",
    "    </table>\n",
    "    </td>\n",
    "<td><table class=\"matrix\">        \n",
    "    <tr><td>F</td><td>F</td><td>*</td></tr>\n",
    "    <tr><td>F</td><td>F</td><td>*</td></tr>\n",
    "    <tr><td>*</td><td>*</td><td>*</td></tr>\n",
    "    </table>\n",
    "    </td>\n",
    "</tr>\n",
    "</tr><tr class=\"bin\">\n",
    "<th>Mask</th><td><span>110110000</span></td><td><span>110110000</span></td><td><span>110110000</span></td></tr>\n",
    "<tr class=\"bin\">\n",
    "<th>Value</th><td><span>000000000</span></td><td><span>000000000</span></td><td><span>000000000</span></td></tr>\n",
    "<tr class=\"bin\">\n",
    "<th>Definition</th><td>FF*FF****</td><td>FF*FF****</td><td>FF*FF****</td></tr>\n",
    "</table></td></tr></table>"
   ]
  },
  {
   "cell_type": "code",
   "execution_count": 7,
   "metadata": {},
   "outputs": [
    {
     "data": {
      "text/plain": [
       "(RelationshipTest(Relationship: Disjoint\n",
       "     mask =  0b110110000110110000110110000\n",
       "     value = 0b000000000000000000000000000,)"
      ]
     },
     "execution_count": 7,
     "metadata": {},
     "output_type": "execute_result"
    }
   ],
   "source": [
    "disjoint_def = RelationshipTest(\n",
    "    RelationshipType.DISJOINT,\n",
    "    0b110110000110110000110110000,\n",
    "    0b000000000000000000000000000)\n",
    "RelationshipTest(\n",
    "    RelationshipType.DISJOINT,\n",
    "    0b110110000110110000110110000,\n",
    "    0b000000000000000000000000000),\n"
   ]
  },
  {
   "cell_type": "markdown",
   "metadata": {},
   "source": [
    "## Borders"
   ]
  },
  {
   "cell_type": "markdown",
   "metadata": {},
   "source": [
    "<link rel=\"stylesheet\" href=\"relations.css\">\n",
    "<table width=\"400px\">\n",
    "<tr class=\"l\"><th>Borders</th><th>Symmetric</th></tr>\n",
    "<td class=\"d\" colspan=\"2\">The exterior boundaries of \n",
    "<span class=\"a\">a</span> and <span class=\"b\">b</span> \n",
    "have more than one point in common, but their interiors do not intersect.\n",
    "</td></tr>\n",
    "<tr><td>\n",
    "<img src=\"../../Images/Relationships/borders.png\" alt=\"Borders\">\n",
    "<img src=\"../../Images/Relationships/Concave Borders.png\" alt=\"Concave Borders\">\n",
    "</td><td>\n",
    "<table class=\"f\">\n",
    "<tr><th/><th>Hull</th><th>Exterior</th><th>Region</th></tr>\n",
    "<tr><th>Matrix</th>\n",
    "<td class=\"na\">N/A</td>\n",
    "<td><table class=\"matrix\">        \n",
    "    <tr><td>*</td><td>*</td><td>2</td></tr>\n",
    "    <tr><td>*</td><td>*</td><td>1</td></tr>\n",
    "    <tr><td>2</td><td>1</td><td>*</td></tr>\n",
    "    </table>\n",
    "    </td>\n",
    "<td><table class=\"matrix\">        \n",
    "    <tr><td>F</td><td>F</td><td>*</td></tr>\n",
    "    <tr><td>F</td><td>1</td><td>*</td></tr>\n",
    "    <tr><td>*</td><td>*</td><td>*</td></tr>\n",
    "    </table>\n",
    "    </td>\n",
    "</tr>\n",
    "</tr><tr class=\"bin\">\n",
    "<th>Mask</th><td><span>000000000</span></td><td><span>001001110</span></td><td><span>110110000</span></td></tr>\n",
    "<tr class=\"bin\">\n",
    "<th>Value</th><td><span>000000000</span></td><td><span>001001110</span></td><td><span>000010000</span></td></tr>\n",
    "<tr class=\"bin\">\n",
    "<th>Definition</th><td>*********</td><td><b><i>**T**TTT*</i></b></td><td>FF*FT****</td></tr>\n",
    "</table></td></tr></table>"
   ]
  },
  {
   "cell_type": "code",
   "execution_count": 8,
   "metadata": {},
   "outputs": [
    {
     "data": {
      "text/plain": [
       "(RelationshipTest(Relationship: Borders\n",
       "     mask =  0b000000000001001110110110000\n",
       "     value = 0b000000000001001110000010000,)"
      ]
     },
     "execution_count": 8,
     "metadata": {},
     "output_type": "execute_result"
    }
   ],
   "source": [
    "borders_def = RelationshipTest(\n",
    "    RelationshipType.BORDERS,\n",
    "    0b000000000110110000110110000,\n",
    "    0b000000000000010000000010000)\n",
    "RelationshipTest(\n",
    "    RelationshipType.BORDERS,\n",
    "    0b000000000001001110110110000,\n",
    "    0b000000000001001110000010000),\n"
   ]
  },
  {
   "cell_type": "markdown",
   "metadata": {},
   "source": [
    "## Borders_Interior"
   ]
  },
  {
   "cell_type": "markdown",
   "metadata": {},
   "source": [
    "<link rel=\"stylesheet\" href=\"relations.css\">\n",
    "<table width=\"400px\">\n",
    "<tr class=\"l\"><th>Borders_Interior</th><th>Symmetric</th></tr>\n",
    "<td class=\"d\" colspan=\"2\">The interior boundary of <span class=\"a\">a</span> \n",
    "and the exterior boundary of <span class=\"b\">b</span> \n",
    "have more than one point in common, but their interiors do not intersect.\n",
    "</td></tr>\n",
    "<tr><td>\n",
    "<img src=\"../../Images/Relationships/confines.png\" alt=\"Confines\">\n",
    "<img src=\"../../Images/Relationships/confines with island.png\" alt=\"Confines With Island\">\n",
    "</td><td>\n",
    "<table class=\"f\">\n",
    "<tr><th/><th>Hull</th><th>Exterior</th><th>Region</th></tr>\n",
    "<tr><th>Matrix</th>\n",
    "<td><table class=\"matrix\">        \n",
    "    <tr><td>*</td><td>*</td><td>*</td></tr>\n",
    "    <tr><td>*</td><td>*</td><td>*</td></tr>\n",
    "    <tr><td>*</td><td>*</td><td>*</td></tr>\n",
    "    </table>\n",
    "    </td>\n",
    "<td><table class=\"matrix\">        \n",
    "    <tr><td>2</td><td>*</td><td>2</td></tr>\n",
    "    <tr><td>*</td><td>F</td><td>*</td></tr>\n",
    "    <tr><td>F</td><td>F</td><td>*</td></tr>\n",
    "    </table>\n",
    "    </td>\n",
    "<td><table class=\"matrix\">        \n",
    "    <tr><td>F</td><td>F</td><td>*</td></tr>\n",
    "    <tr><td>F</td><td>1</td><td>*</td></tr>\n",
    "    <tr><td>*</td><td>*</td><td>*</td></tr>\n",
    "    </table>\n",
    "    </td>\n",
    "</tr>\n",
    "</tr><tr class=\"bin\">\n",
    "<th>Mask</th><td><span>000000000</span></td><td><span>101010110</span></td><td><span>110110000</span></td></tr>\n",
    "<tr class=\"bin\">\n",
    "<th>Value</th><td><span>000000000</span></td><td><span>101000000</span></td><td><span>000010000</span></td></tr>\n",
    "<tr class=\"bin\">\n",
    "<th>Definition</th><td>*********</td><td><b><i>T*T*F*FF*</i></b></td><td>FF*FT****</td></tr>\n",
    "</table></td></tr></table>"
   ]
  },
  {
   "cell_type": "markdown",
   "metadata": {},
   "source": [
    "**For Interior Borders _b_ Should be Within _a_**"
   ]
  },
  {
   "cell_type": "code",
   "execution_count": 9,
   "metadata": {},
   "outputs": [
    {
     "data": {
      "text/plain": [
       "(RelationshipTest(Relationship: Borders_interior\n",
       "     mask =  0b000000000101010110110110000\n",
       "     value = 0b000000000101000000000010000,)"
      ]
     },
     "execution_count": 9,
     "metadata": {},
     "output_type": "execute_result"
    }
   ],
   "source": [
    "interior_borders_def = RelationshipTest(\n",
    "    RelationshipType.BORDERS_INTERIOR,\n",
    "    0b000000000101010110110110000,\n",
    "    0b000000000101000000000010000)\n",
    "RelationshipTest(\n",
    "    RelationshipType.BORDERS_INTERIOR,\n",
    "    0b000000000101010110110110000,\n",
    "    0b000000000101000000000010000),\n"
   ]
  },
  {
   "cell_type": "markdown",
   "metadata": {},
   "source": [
    "## Partition"
   ]
  },
  {
   "cell_type": "markdown",
   "metadata": {},
   "source": [
    "<link rel=\"stylesheet\" href=\"relations.css\">\n",
    "<table width=\"700px\">\n",
    "<tr class=\"l\"><th>Partition</th><th></th></tr>\n",
    "<td class=\"d\" colspan=\"2\">\n",
    "The boundaries of <span class=\"a\">a</span> and <span class=\"b\">b</span> have more than one point in common.\n",
    "No points of <span class=\"b\">b</span> are exterior to <span class=\"a\">a</span>, and some points in <span class=\"a\">a</span> are exterior to <span class=\"b\">b</span>.\n",
    "</td></tr>\n",
    "<tr><td width=300>\n",
    "<img src=\"../../Images/Relationships/partitions simple.png\" alt=\"Partition\">\n",
    "<img src=\"../../Images/Relationships/partitions archipelago with island.png\" alt=\"Partition With Island\">\n",
    "<img src=\"../../Images/Relationships/partitions partial ring.png\" alt=\"Partition Ring\">\n",
    "</td><td>\n",
    "<table class=\"f\">\n",
    "<tr><th/><th>Hull</th><th>Exterior</th><th>Region</th></tr>\n",
    "<tr><th>Matrix</th>\n",
    "<td class=\"na\">N/A</td>\n",
    "<td class=\"na\">N/A</td>\n",
    "<td><table class=\"matrix\">        \n",
    "    <tr><td>2</td><td>*</td><td>2</td></tr>\n",
    "    <tr><td>*</td><td>1</td><td>*</td></tr>\n",
    "    <tr><td>F</td><td>F</td><td>*</td></tr>\n",
    "    </table>\n",
    "    </td>\n",
    "</tr>\n",
    "</tr><tr class=\"bin\">\n",
    "<th>Mask</th><td><span>000000000</span></td><td><span>000000000</span></td><td><span>101010110</span></td></tr>\n",
    "<tr class=\"bin\">\n",
    "<th>Value</th><td><span>000000000</span></td><td><span>000000000</span></td><td><span>101010000</span></td></tr>\n",
    "<tr class=\"bin\">\n",
    "<th>Definition</th><td>*********</td><td>*********</td><td>T*T*T*FF*</td></tr>\n",
    "</table></td></tr></table>"
   ]
  },
  {
   "cell_type": "code",
   "execution_count": 10,
   "metadata": {},
   "outputs": [
    {
     "data": {
      "text/plain": [
       "(RelationshipTest(Relationship: Partition\n",
       "     mask =  0b000000000000000000101010110\n",
       "     value = 0b000000000000000000101010000,)"
      ]
     },
     "execution_count": 10,
     "metadata": {},
     "output_type": "execute_result"
    }
   ],
   "source": [
    "partition_def = RelationshipTest(\n",
    "    RelationshipType.PARTITION,\n",
    "    0b000000000000000000101010110,\n",
    "    0b000000000000000000101010000)\n",
    "RelationshipTest(\n",
    "    RelationshipType.PARTITION,\n",
    "    0b000000000000000000101010110,\n",
    "    0b000000000000000000101010000),\n"
   ]
  },
  {
   "cell_type": "markdown",
   "metadata": {},
   "source": [
    "## Contains"
   ]
  },
  {
   "cell_type": "markdown",
   "metadata": {},
   "source": [
    "<link rel=\"stylesheet\" href=\"relations.css\">\n",
    "<table width=\"400px\">\n",
    "<tr class=\"l\"><th>Contains</th><th>Transitive</th></tr>\n",
    "<td class=\"d\" colspan=\"2\">\n",
    "All points of <span class=\"b\">b</span> lie in the interior of <span class=\"a\">a</span>, no points of <span class=\"b\">b</span> lie in the exterior of <span class=\"a\">a</span>, some points in <span class=\"a\">a</span> are exterior to <span class=\"b\">b</span>, and the boundaries of <span class=\"a\">a</span> and <span class=\"b\">b</span> do not intersect.\n",
    "</td></tr>\n",
    "<tr><td width=300>\n",
    "<img src=\"../../Images/Relationships/contains simple.png\" alt=\"Contains\">\n",
    "<img src=\"../../Images/Relationships/contains with hole.png\" alt=\"Contains With Hole\">\n",
    "</td><td>\n",
    "<table class=\"f\">\n",
    "<tr><th/><th>Hull</th><th>Exterior</th><th>Region</th></tr>\n",
    "<tr><th>Matrix</th>\n",
    "<td class=\"na\">N/A</td>\n",
    "<td class=\"na\">N/A</td>\n",
    "<td><table class=\"matrix\">        \n",
    "    <tr><td>2</td><td>*</td><td>2</td></tr>\n",
    "    <tr><td>*</td><td>F</td><td>*</td></tr>\n",
    "    <tr><td>F</td><td>F</td><td>*</td></tr>\n",
    "    </table>\n",
    "    </td>\n",
    "</tr>\n",
    "</tr><tr class=\"bin\">\n",
    "<th>Mask</th><td><span>000000000</span></td><td><span>000000000</span></td><td><span>101010110</span></td></tr>\n",
    "<tr class=\"bin\">\n",
    "<th>Value</th><td><span>000000000</span></td><td><span>000000000</span></td><td><span>101000000</span></td></tr>\n",
    "<tr class=\"bin\">\n",
    "<th>Definition</th><td>*********</td><td>*********</td><td>T*T*F*FF*</td></tr>\n",
    "</table></td></tr></table>"
   ]
  },
  {
   "cell_type": "code",
   "execution_count": 11,
   "metadata": {},
   "outputs": [
    {
     "data": {
      "text/plain": [
       "(RelationshipTest(Relationship: Contains\n",
       "     mask =  0b000000000000000000101010110\n",
       "     value = 0b000000000000000000101000000,)"
      ]
     },
     "execution_count": 11,
     "metadata": {},
     "output_type": "execute_result"
    }
   ],
   "source": [
    "contains_def = RelationshipTest(\n",
    "    RelationshipType.CONTAINS,\n",
    "    0b000000000000000000101010110,\n",
    "    0b000000000000000000101000000)\n",
    "RelationshipTest(\n",
    "    RelationshipType.CONTAINS,\n",
    "    0b000000000000000000101010110,\n",
    "    0b000000000000000000101000000),\n"
   ]
  },
  {
   "cell_type": "markdown",
   "metadata": {},
   "source": [
    "## Overlaps"
   ]
  },
  {
   "cell_type": "markdown",
   "metadata": {},
   "source": [
    "<link rel=\"stylesheet\" href=\"relations.css\">\n",
    "<table width=\"760px\">\n",
    "<tr class=\"l\"><th>Overlaps</th><th>Symmetric</th></tr>\n",
    "<td class=\"d\" colspan=\"2\">\n",
    "<span class=\"a\">a</span> and <span class=\"b\">b</span> \n",
    "have some but not all points in common.\n",
    "</td></tr>\n",
    "<tr><td width=300>\n",
    "<img src=\"../../Images/Relationships/overlaps simple.png\" alt=\"Overlaps\">\n",
    "<img src=\"../../Images/Relationships/overlaps ring.png\" alt=\"Overlaps With Ring\">\n",
    "<img src=\"../../Images/Relationships/overlaps surounded.png\" alt=\"Overlaps Surrounded\">\n",
    "<img src=\"../../Images/Relationships/overlaps ring surrounds simple.png\" alt=\"Ring Overlaps Simple\">\n",
    "<img src=\"../../Images/Relationships/archipelago contains simple.png\" alt=\"Ring Overlaps Simple\">\n",
    "</td><td>\n",
    "<table class=\"f\">\n",
    "<tr><th/><th>Hull</th><th>Exterior</th><th>Region</th></tr>\n",
    "<tr><th>Matrix</th>\n",
    "<td class=\"na\">N/A</td>\n",
    "<td class=\"na\">N/A</td>\n",
    "<td><table class=\"matrix\">        \n",
    "    <tr><td>2</td><td>*</td><td>2</td></tr>\n",
    "    <tr><td>*</td><td>*</td><td>*</td></tr>\n",
    "    <tr><td>2</td><td>*</td><td>*</td></tr>\n",
    "    </table>\n",
    "    </td>\n",
    "</tr>\n",
    "</tr><tr class=\"bin\">\n",
    "<th>Mask</th><td><span>000000000</span></td><td><span>000000000</span></td><td><span>101000100</span></td></tr>\n",
    "<tr class=\"bin\">\n",
    "<th>Value</th><td><span>000000000</span></td><td><span>000000000</span></td><td><span>101000100</span></td></tr>\n",
    "<tr class=\"bin\">\n",
    "<th>Definition</th><td>*********</td><td>*********</td><td><b><i>T*T***T**</i></b></td></tr>\n",
    "</table></td></tr></table>"
   ]
  },
  {
   "cell_type": "code",
   "execution_count": 12,
   "metadata": {},
   "outputs": [
    {
     "data": {
      "text/plain": [
       "(RelationshipTest(Relationship: Overlaps\n",
       "     mask =  0b000000000000000000101000100\n",
       "     value = 0b000000000000000000101000100,)"
      ]
     },
     "execution_count": 12,
     "metadata": {},
     "output_type": "execute_result"
    }
   ],
   "source": [
    "overlaps_def = RelationshipTest(\n",
    "    RelationshipType.OVERLAPS,\n",
    "    0b000000000000000000101000100,\n",
    "    0b000000000000000000101000100)\n",
    "RelationshipTest(\n",
    "    RelationshipType.OVERLAPS,\n",
    "    0b000000000000000000101000100,\n",
    "    0b000000000000000000101000100),\n"
   ]
  },
  {
   "cell_type": "markdown",
   "metadata": {},
   "source": [
    "## Equals"
   ]
  },
  {
   "cell_type": "markdown",
   "metadata": {},
   "source": [
    "<link rel=\"stylesheet\" href=\"relations.css\">\n",
    "<table width=\"400px\">\n",
    "<tr class=\"l\"><th>Equals</th><th>Symmetric, Transitive</th></tr>\n",
    "<td class=\"d\" colspan=\"2\">\n",
    "The interiors of <span class=\"a\">a</span> and <span class=\"b\">b</span> \n",
    "intersect and no part of the interior of one geometry intersects the exterior of the other.\n",
    "</td></tr>\n",
    "<tr><td width=300>\n",
    "<img src=\"../../Images/Relationships/equals.png\" alt=\"Equals\">\n",
    "</td><td>\n",
    "<table class=\"f\">\n",
    "<tr><th/><th>Hull</th><th>Exterior</th><th>Region</th></tr>\n",
    "<tr><th>Matrix</th>\n",
    "<td class=\"na\">N/A</td>\n",
    "<td class=\"na\">N/A</td>\n",
    "<td><table class=\"matrix\">        \n",
    "    <tr><td>2</td><td>*</td><td>F</td></tr>\n",
    "    <tr><td>*</td><td>*</td><td>F</td></tr>\n",
    "    <tr><td>F</td><td>F</td><td>*</td></tr>\n",
    "    </table>\n",
    "    </td>\n",
    "</tr>\n",
    "</tr><tr class=\"bin\">\n",
    "<th>Mask</th><td><span>000000000</span></td><td><span>000000000</span></td><td><span>101001110</span></td></tr>\n",
    "<tr class=\"bin\">\n",
    "<th>Value</th><td><span>000000000</span></td><td><span>000000000</span></td><td><span>100000000</span></td></tr>\n",
    "<tr class=\"bin\">\n",
    "<th>Definition</th><td>*********</td><td>*********</td><td>T*F**FFF*</td></tr>\n",
    "</table></td></tr></table>"
   ]
  },
  {
   "cell_type": "code",
   "execution_count": 13,
   "metadata": {},
   "outputs": [
    {
     "data": {
      "text/plain": [
       "RelationshipTest(Relationship: Equals\n",
       "    mask =  0b000000000000000000101001110\n",
       "    value = 0b000000000000000000100000000"
      ]
     },
     "execution_count": 13,
     "metadata": {},
     "output_type": "execute_result"
    }
   ],
   "source": [
    "equals_def = RelationshipTest(\n",
    "    RelationshipType.EQUALS,\n",
    "    0b000000000000000000101001110,\n",
    "    0b000000000000000000100000000)\n",
    "RelationshipTest(\n",
    "    RelationshipType.EQUALS,\n",
    "    0b000000000000000000101001110,\n",
    "    0b000000000000000000100000000)\n"
   ]
  },
  {
   "cell_type": "markdown",
   "metadata": {},
   "source": [
    "# Slice boundary Definitions\n"
   ]
  },
  {
   "cell_type": "markdown",
   "metadata": {},
   "source": [
    "\n",
    "**These structures share a boundary**\n",
    "\n",
    "| Slice Index |    1    |     2   |\n",
    "|-------------|---------|---------|\n",
    "| -2          | contour |         |\n",
    "| -1.5        | contour |         |\n",
    "| -1          | contour |         |\n",
    "| -0.5        | contour |         |\n",
    "| 0           |         | contour |\n",
    "| 0.5         |         | contour |\n",
    "| 1           |         | contour |\n",
    "| 1.5         |         | contour |\n",
    "\n",
    "**These structures overlap**\n",
    "\n",
    "| Slice Index |    1    |     2   |\n",
    "|-------------|---------|---------|\n",
    "| -2          | contour |         |\n",
    "| -1.5        | contour |         |\n",
    "| -1          | contour |         |\n",
    "| -0.5        | contour | contour |\n",
    "| 0           |         | contour |\n",
    "| 0.5         |         | contour |\n",
    "| 1           |         | contour |\n",
    "\n"
   ]
  },
  {
   "cell_type": "markdown",
   "metadata": {},
   "source": [
    "**Boundary Check process**\n",
    "1. Build slice table (index= slice, columns = ROI, Data= StructureSlice)\n",
    "2. Select Primary & Secondary ROI\n",
    "\t- Slice range = Min(starting slice) to Max(ending slice)\n",
    "\t- Primary & secondary ROI as separate series\n",
    "3. Get next and previous for both ROIs using shift\n",
    "\t1. Identify primary slices missing a neighbour\n",
    "\t2. Send other slices for standard relation testing\n",
    "4. Select boundaries for testing current vs current\n",
    "\t- Both on current slice\n",
    "\t- Both missing from a neighbour slice\n",
    "5. Send these slices for standard relation testing and then apply boundary shift to results\n",
    "6. Select boundaries for testing current vs next\n",
    "\t- Secondary not on current slice\n",
    "\t- Not overlapping on a neighbour slice\n",
    "7. Identify neighbouring secondary slice that does not have a corresponding primary\n",
    "8. Match the secondary neighbour with the current primary, send this for standard relation testing and then apply boundary shift to results\n",
    "9. Send all remaining boundary slices for standard relation testing \n",
    "Merge all results and reduce to single relation"
   ]
  },
  {
   "cell_type": "markdown",
   "metadata": {},
   "source": [
    "## 3D Conversion\n",
    "\n",
    "For the beginning and ending slices of a structure the entire contour must be treated as a boundary.  The structure does not have an interior on these slices. In this case the “Interior” relations become “Boundary” relations.\n",
    "\n",
    "<link rel=\"stylesheet\" href=\"relations.css\">\n",
    "\n",
    "Structure <span class=\"b\">b</span> ends, but \n",
    "structure <span class=\"a\">a</span> continues.\n",
    "\n",
    "<img class=\"p\" src=\"../../Images/b interior to boundary.png\" alt=\"b interior to boundary\">\n",
    "\n",
    "<table class=\"f\">\n",
    "<tr><th>Mask</th><th>Shift</th></tr>\n",
    "<tr><td>\n",
    "<table class=\"matrix\">        \n",
    "    <tr><td>1</td><td>1</td><td>1</td></tr>\n",
    "    <tr><td>0</td><td>0</td><td>0</td></tr>\n",
    "    <tr><td>0</td><td>0</td><td>0</td></tr>\n",
    "    </table>\n",
    " </td><td>3</td></tr>\n",
    "<tr class=\"bin\">\n",
    "<td colspan=\"2\"><span>111000000111000000111000000</span></td>\n",
    "</tr></table>\n",
    "\n",
    "\n",
    "Structure <span class=\"a\">a</span> ends, but \n",
    "structure <span class=\"b\">b</span> continues.\n",
    "\n",
    "<img class=\"p\" src=\"../../Images/a interior to boundary.png\" alt=\"a interior to boundary\">\n",
    "\n",
    "<table class=\"f\">\n",
    "<tr><th>Mask</th><th>Shift</th></tr>\n",
    "<tr><td>\n",
    "<table class=\"matrix\">        \n",
    "    <tr><td>1</td><td>1</td><td>1</td></tr>\n",
    "    <tr><td>0</td><td>0</td><td>0</td></tr>\n",
    "    <tr><td>0</td><td>0</td><td>0</td></tr>\n",
    "    </table>\n",
    " </td><td>1</td></tr>\n",
    "<tr class=\"bin\">\n",
    "<td colspan=\"2\"><span>100100100100100100100100100</span></td></tr>\n",
    "</table>\n"
   ]
  },
  {
   "cell_type": "markdown",
   "metadata": {},
   "source": [
    "## Named Relationship Identification"
   ]
  },
  {
   "cell_type": "code",
   "execution_count": 14,
   "metadata": {},
   "outputs": [],
   "source": [
    "def relation_example(a, b, relation_test):\n",
    "    r = relate_contours(a,b)\n",
    "    print('Relation Binary', bin_format(r))\n",
    "    print('Relationship', relation_test.test(relate_contours(a,b)))\n",
    "    plot_ab(a.contour, b.contour)"
   ]
  },
  {
   "cell_type": "code",
   "execution_count": 15,
   "metadata": {},
   "outputs": [],
   "source": [
    "\n",
    "def surrounds_example1():\n",
    "    circle6 = shapely.Polygon(circle_points(3))\n",
    "    circle4 = shapely.Polygon(circle_points(2))\n",
    "    circle2 = shapely.Polygon(circle_points(1))\n",
    "\n",
    "    a = StructureSlice([circle6, circle4])\n",
    "    b = StructureSlice([circle2])\n",
    "    return a, b\n",
    "\n",
    "def surrounds_example2():\n",
    "    circle6 = shapely.Polygon(circle_points(3))\n",
    "    circle5 = shapely.Polygon(circle_points(2.5))\n",
    "    circle4 = shapely.Polygon(circle_points(2))\n",
    "    circle3 = shapely.Polygon(circle_points(1.5))\n",
    "    circle2 = shapely.Polygon(circle_points(1))\n",
    "\n",
    "    a = StructureSlice([circle6, circle5, circle2])\n",
    "    b = StructureSlice([circle4, circle3])\n",
    "    return a, b"
   ]
  },
  {
   "cell_type": "code",
   "execution_count": 16,
   "metadata": {},
   "outputs": [
    {
     "name": "stdout",
     "output_type": "stream",
     "text": [
      "Surounds Mask  000000000  |  100010110  |  110110000 \n",
      "Surounds Value  000000000  |  100000000  |  000000000 \n",
      "Relation Binary  111001001  |  111001001  |  001001111 \n",
      "Relationship Relationship: Surrounds\n"
     ]
    },
    {
     "data": {
      "image/png": "[encoded data removed]",
      "text/plain": [
       "<Figure size 400x200 with 1 Axes>"
      ]
     },
     "metadata": {},
     "output_type": "display_data"
    }
   ],
   "source": [
    "print('Surounds Mask', bin_format(surrounds_def.mask))\n",
    "print('Surounds Value', bin_format(surrounds_def.value))\n",
    "\n",
    "a, b = surrounds_example1()\n",
    "relation_example(a, b, surrounds_def)\n"
   ]
  },
  {
   "cell_type": "code",
   "execution_count": 17,
   "metadata": {},
   "outputs": [
    {
     "name": "stdout",
     "output_type": "stream",
     "text": [
      "Relation Binary  111001001  |  111001001  |  001001111 \n",
      "Relationship Relationship: Surrounds\n"
     ]
    },
    {
     "data": {
      "image/png": "[encoded data removed]",
      "text/plain": [
       "<Figure size 400x200 with 1 Axes>"
      ]
     },
     "metadata": {},
     "output_type": "display_data"
    }
   ],
   "source": [
    "a, b = surrounds_example2()\n",
    "relation_example(a, b, surrounds_def)"
   ]
  },
  {
   "cell_type": "markdown",
   "metadata": {},
   "source": [
    "### Shelters"
   ]
  },
  {
   "cell_type": "code",
   "execution_count": 18,
   "metadata": {},
   "outputs": [],
   "source": [
    "\n",
    "def shelters_example():\n",
    "    circle6 = shapely.Polygon(circle_points(3))\n",
    "    circle5 = shapely.Polygon(circle_points(2.5))\n",
    "    circle4_offset = shapely.Polygon(circle_points(2, offset_x=3.5))\n",
    "    shell = shapely.difference(circle6, circle5)\n",
    "    cove = shapely.difference(shell, circle4_offset)\n",
    "    circle2 = shapely.Polygon(circle_points(1, offset_x=1))\n",
    "\n",
    "    a = StructureSlice([cove])\n",
    "    b = StructureSlice([circle2])\n",
    "    return a, b\n"
   ]
  },
  {
   "cell_type": "code",
   "execution_count": 19,
   "metadata": {},
   "outputs": [
    {
     "name": "stdout",
     "output_type": "stream",
     "text": [
      "Shelters Mask  111000100  |  110110000  |  110110000 \n",
      "Shelters Value  111000000  |  000000000  |  000000000 \n",
      "Relation Binary  111001001  |  001001111  |  001001111 \n",
      "Relationship Relationship: Shelters\n"
     ]
    },
    {
     "data": {
      "image/png": "[encoded data removed]",
      "text/plain": [
       "<Figure size 400x200 with 1 Axes>"
      ]
     },
     "metadata": {},
     "output_type": "display_data"
    }
   ],
   "source": [
    "print('Shelters Mask', bin_format(shelters_def.mask))\n",
    "print('Shelters Value', bin_format(shelters_def.value))\n",
    "\n",
    "a, b = shelters_example()\n",
    "relation_example(a, b, shelters_def)"
   ]
  },
  {
   "cell_type": "markdown",
   "metadata": {},
   "source": [
    "### Disjoint"
   ]
  },
  {
   "cell_type": "code",
   "execution_count": 20,
   "metadata": {},
   "outputs": [],
   "source": [
    "\n",
    "def disjoint_example():\n",
    "    circle4_left = shapely.Polygon(circle_points(4, offset_x=-4.5))\n",
    "    circle4_right = shapely.Polygon(circle_points(4, offset_x=4.5))\n",
    "\n",
    "    a = StructureSlice([circle4_left])\n",
    "    b = StructureSlice([circle4_right])\n",
    "    return a, b\n"
   ]
  },
  {
   "cell_type": "code",
   "execution_count": 21,
   "metadata": {},
   "outputs": [
    {
     "name": "stdout",
     "output_type": "stream",
     "text": [
      "Disjoint Mask  110110000  |  110110000  |  110110000 \n",
      "Disjoint Value  000000000  |  000000000  |  000000000 \n",
      "Relation Binary  001001111  |  001001111  |  001001111 \n",
      "Relationship Relationship: Disjoint\n"
     ]
    },
    {
     "data": {
      "image/png": "[encoded data removed]",
      "text/plain": [
       "<Figure size 400x200 with 1 Axes>"
      ]
     },
     "metadata": {},
     "output_type": "display_data"
    }
   ],
   "source": [
    "print('Disjoint Mask', bin_format(disjoint_def.mask))\n",
    "print('Disjoint Value', bin_format(disjoint_def.value))\n",
    "\n",
    "a, b = disjoint_example()\n",
    "relation_example(a, b, disjoint_def)"
   ]
  },
  {
   "cell_type": "markdown",
   "metadata": {},
   "source": [
    "## Border Relations"
   ]
  },
  {
   "cell_type": "markdown",
   "metadata": {},
   "source": [
    "### Borders"
   ]
  },
  {
   "cell_type": "code",
   "execution_count": 22,
   "metadata": {},
   "outputs": [],
   "source": [
    "\n",
    "def borders_example1():\n",
    "    box4_left = shapely.Polygon(box_points(4, offset_x=-2))\n",
    "    box4_right = shapely.Polygon(box_points(4, offset_x=2))\n",
    "\n",
    "    a = StructureSlice([box4_left])\n",
    "    b = StructureSlice([box4_right])\n",
    "    return a, b\n",
    "\n",
    "def borders_example2():\n",
    "    box6 = shapely.Polygon(box_points(6))\n",
    "    box5_up = shapely.Polygon(box_points(5, offset_y=3))\n",
    "    box6_cropped = shapely.difference(box6, box5_up)\n",
    "\n",
    "    a = StructureSlice([box6_cropped])\n",
    "    b = StructureSlice([box5_up])\n",
    "    return a, b"
   ]
  },
  {
   "cell_type": "markdown",
   "metadata": {},
   "source": []
  },
  {
   "cell_type": "code",
   "execution_count": 23,
   "metadata": {},
   "outputs": [
    {
     "name": "stdout",
     "output_type": "stream",
     "text": [
      "Borders Mask  000000000  |  110110000  |  110110000 \n",
      "Borders Value  000000000  |  000010000  |  000010000 \n",
      "Relation Binary  001011111  |  001011111  |  001011111 \n",
      "Relationship Relationship: Borders\n"
     ]
    },
    {
     "data": {
      "image/png": "[encoded data removed]",
      "text/plain": [
       "<Figure size 400x200 with 1 Axes>"
      ]
     },
     "metadata": {},
     "output_type": "display_data"
    }
   ],
   "source": [
    "print('Borders Mask', bin_format(borders_def.mask))\n",
    "print('Borders Value', bin_format(borders_def.value))\n",
    "\n",
    "a, b = borders_example1()\n",
    "relation_example(a, b, borders_def)"
   ]
  },
  {
   "cell_type": "code",
   "execution_count": 24,
   "metadata": {},
   "outputs": [
    {
     "name": "stdout",
     "output_type": "stream",
     "text": [
      "Relation Binary  111101111  |  001011111  |  001011111 \n",
      "Relationship Relationship: Borders\n"
     ]
    },
    {
     "data": {
      "image/png": "[encoded data removed]",
      "text/plain": [
       "<Figure size 400x200 with 1 Axes>"
      ]
     },
     "metadata": {},
     "output_type": "display_data"
    }
   ],
   "source": [
    "a, b = borders_example2()\n",
    "relation_example(a, b, borders_def)"
   ]
  },
  {
   "cell_type": "markdown",
   "metadata": {},
   "source": [
    "### Interior Borders"
   ]
  },
  {
   "cell_type": "code",
   "execution_count": 25,
   "metadata": {},
   "outputs": [],
   "source": [
    "\n",
    "def interior_borders_example1():\n",
    "    circle6 = shapely.Polygon(circle_points(3))\n",
    "    circle4 = shapely.Polygon(circle_points(2))\n",
    "    box4_offset = shapely.Polygon(box_points(4, offset_x=2))\n",
    "    cropped_circle = shapely.difference(circle4, box4_offset)\n",
    "\n",
    "    a = StructureSlice([circle6, circle4])\n",
    "    b = StructureSlice([cropped_circle])\n",
    "    return a, b\n",
    "\n",
    "def interior_borders_example2():\n",
    "    circle6 = shapely.Polygon(circle_points(3))\n",
    "    circle4 = shapely.Polygon(circle_points(2))\n",
    "    circle2 = shapely.Polygon(circle_points(1))\n",
    "\n",
    "    # b has internal borders with the ring portion of a, but has an external\n",
    "    # border with the island part of a. The internal borders relation wins.\n",
    "    a = StructureSlice([circle6, circle4, circle2])\n",
    "    b = StructureSlice([circle4, circle2])\n",
    "    return a, b\n",
    "\n",
    "def interior_borders_example3():\n",
    "    # 6 cm x 6 cm box with 4cm x 4 cm hole\n",
    "    box6 = shapely.Polygon(box_points(6))\n",
    "    box4 = shapely.Polygon(box_points(4))\n",
    "    a = StructureSlice([box6, box4])\n",
    "    b = StructureSlice([box4])\n",
    "    return a, b"
   ]
  },
  {
   "cell_type": "code",
   "execution_count": 26,
   "metadata": {},
   "outputs": [
    {
     "name": "stdout",
     "output_type": "stream",
     "text": [
      "Interior Borders Mask  000000000  |  101010110  |  110110000 \n",
      "Interior Borders Value  000000000  |  101000000  |  000010000 \n",
      "Relation Binary  111001001  |  111001001  |  001011111 \n",
      "Relationship Relationship: Borders_interior\n"
     ]
    },
    {
     "data": {
      "image/png": "[encoded data removed]",
      "text/plain": [
       "<Figure size 400x200 with 1 Axes>"
      ]
     },
     "metadata": {},
     "output_type": "display_data"
    }
   ],
   "source": [
    "print('Interior Borders Mask', bin_format(interior_borders_def.mask))\n",
    "print('Interior Borders Value', bin_format(interior_borders_def.value))\n",
    "\n",
    "a, b = interior_borders_example1()\n",
    "relation_example(a, b, interior_borders_def)"
   ]
  },
  {
   "cell_type": "code",
   "execution_count": 27,
   "metadata": {},
   "outputs": [
    {
     "name": "stdout",
     "output_type": "stream",
     "text": [
      "Relation Binary  111001001  |  111001001  |  001011101 \n",
      "Relationship Relationship: Borders_interior\n"
     ]
    },
    {
     "data": {
      "image/png": "[encoded data removed]",
      "text/plain": [
       "<Figure size 400x200 with 1 Axes>"
      ]
     },
     "metadata": {},
     "output_type": "display_data"
    }
   ],
   "source": [
    "a, b = interior_borders_example2()\n",
    "relation_example(a, b, interior_borders_def)"
   ]
  },
  {
   "cell_type": "code",
   "execution_count": 28,
   "metadata": {},
   "outputs": [
    {
     "name": "stdout",
     "output_type": "stream",
     "text": [
      "Relation Binary  111001001  |  111001001  |  001011101 \n",
      "Relationship Relationship: Borders_interior\n"
     ]
    },
    {
     "data": {
      "image/png": "[encoded data removed]",
      "text/plain": [
       "<Figure size 400x200 with 1 Axes>"
      ]
     },
     "metadata": {},
     "output_type": "display_data"
    }
   ],
   "source": [
    "a, b = interior_borders_example3()\n",
    "relation_example(a, b, interior_borders_def)"
   ]
  },
  {
   "cell_type": "markdown",
   "metadata": {},
   "source": [
    "### Partition"
   ]
  },
  {
   "cell_type": "code",
   "execution_count": 29,
   "metadata": {},
   "outputs": [],
   "source": [
    "\n",
    "def partition_example1():\n",
    "    box6 = poly_round(shapely.Polygon(box_points(6)))\n",
    "    box4_offset = shapely.Polygon(box_points(4, offset_x=-1))\n",
    "    a = StructureSlice([box6])\n",
    "    b = StructureSlice([box4_offset])\n",
    "    return a, b\n",
    "\n",
    "def partition_example2():\n",
    "    # Rounding required because of floating point inaccuracies.\n",
    "    circle6 = poly_round(shapely.Polygon(circle_points(3)))\n",
    "    circle4_offset = shapely.Polygon(circle_points(2, offset_x=2))\n",
    "    cropped_circle = poly_round(shapely.intersection(circle6, circle4_offset))\n",
    "    a = StructureSlice([circle6])\n",
    "    b = StructureSlice([cropped_circle])\n",
    "    return a, b\n",
    "\n",
    "def partition_example3():\n",
    "    circle6 = shapely.Polygon(circle_points(3))\n",
    "    circle4 = shapely.Polygon(circle_points(2))\n",
    "    circle2 = shapely.Polygon(circle_points(1))\n",
    "    a = StructureSlice([circle6, circle4, circle2])\n",
    "    b = StructureSlice([circle2])\n",
    "    return a, b\n",
    "\n",
    "def partition_example4():\n",
    "    # Rounding required because of floating point inaccuracies.\n",
    "    circle6 = shapely.Polygon(circle_points(3))\n",
    "    circle4 = shapely.Polygon(circle_points(2))\n",
    "    box6_offset = shapely.Polygon(box_points(6, offset_x=2))\n",
    "    ring = shapely.difference(circle6, circle4)\n",
    "    cropped_ring = poly_round(shapely.difference(ring, box6_offset),PRECISION)\n",
    "    a = StructureSlice([circle6, circle4])\n",
    "    b = StructureSlice([cropped_ring])\n",
    "    return a, b"
   ]
  },
  {
   "cell_type": "code",
   "execution_count": 30,
   "metadata": {},
   "outputs": [
    {
     "name": "stdout",
     "output_type": "stream",
     "text": [
      "Partition Mask  000000000  |  000000000  |  101010110 \n",
      "Partition Value  000000000  |  000000000  |  101010000 \n",
      "Relation Binary  111011001  |  111011001  |  111011001 \n",
      "Relationship Relationship: Partition\n"
     ]
    },
    {
     "data": {
      "image/png": "[encoded data removed]",
      "text/plain": [
       "<Figure size 400x200 with 1 Axes>"
      ]
     },
     "metadata": {},
     "output_type": "display_data"
    }
   ],
   "source": [
    "print('Partition Mask', bin_format(partition_def.mask))\n",
    "print('Partition Value', bin_format(partition_def.value))\n",
    "\n",
    "a, b = partition_example1()\n",
    "relation_example(a, b, partition_def)"
   ]
  },
  {
   "cell_type": "code",
   "execution_count": 31,
   "metadata": {},
   "outputs": [
    {
     "name": "stdout",
     "output_type": "stream",
     "text": [
      "Relation Binary  111111111  |  111111111  |  111111111 \n",
      "Relationship None\n"
     ]
    },
    {
     "data": {
      "image/png": "[encoded data removed]",
      "text/plain": [
       "<Figure size 400x200 with 1 Axes>"
      ]
     },
     "metadata": {},
     "output_type": "display_data"
    }
   ],
   "source": [
    "a, b = partition_example2()\n",
    "relation_example(a, b, partition_def)"
   ]
  },
  {
   "cell_type": "code",
   "execution_count": 32,
   "metadata": {},
   "outputs": [
    {
     "name": "stdout",
     "output_type": "stream",
     "text": [
      "Relation Binary  111001001  |  111001001  |  101011001 \n",
      "Relationship Relationship: Partition\n"
     ]
    },
    {
     "data": {
      "image/png": "[encoded data removed]",
      "text/plain": [
       "<Figure size 400x200 with 1 Axes>"
      ]
     },
     "metadata": {},
     "output_type": "display_data"
    }
   ],
   "source": [
    "a, b = partition_example3()\n",
    "relation_example(a, b, partition_def)"
   ]
  },
  {
   "cell_type": "code",
   "execution_count": 33,
   "metadata": {},
   "outputs": [
    {
     "name": "stdout",
     "output_type": "stream",
     "text": [
      "Partition Mask  000000000  |  000000000  |  101010110 \n",
      "Partition Value  000000000  |  000000000  |  101010000 \n",
      "Relation Binary  111011001  |  111011001  |  111011001 \n",
      "Relationship Relationship: Partition\n"
     ]
    },
    {
     "data": {
      "image/png": "[encoded data removed]",
      "text/plain": [
       "<Figure size 400x200 with 1 Axes>"
      ]
     },
     "metadata": {},
     "output_type": "display_data"
    }
   ],
   "source": [
    "print('Partition Mask', bin_format(partition_def.mask))\n",
    "print('Partition Value', bin_format(partition_def.value))\n",
    "\n",
    "a, b = partition_example4()\n",
    "relation_example(a, b, partition_def)"
   ]
  },
  {
   "cell_type": "markdown",
   "metadata": {},
   "source": [
    "## Contains"
   ]
  },
  {
   "cell_type": "code",
   "execution_count": 34,
   "metadata": {},
   "outputs": [],
   "source": [
    "\n",
    "def contains_example1():\n",
    "    circle6 = shapely.Polygon(circle_points(3))\n",
    "    circle4 = shapely.Polygon(circle_points(2))\n",
    "    a = StructureSlice([circle6])\n",
    "    b = StructureSlice([circle4])\n",
    "    return a, b\n",
    "\n",
    "def contains_example2():\n",
    "    circle6 = shapely.Polygon(circle_points(3))\n",
    "    circle4 = shapely.Polygon(circle_points(2))\n",
    "    circle3 = shapely.Polygon(circle_points(1.5))\n",
    "    circle2 = shapely.Polygon(circle_points(1))\n",
    "    a = StructureSlice([circle6, circle4, circle3])\n",
    "    b = StructureSlice([circle2])\n",
    "    return a, b\n",
    "\n",
    "def contains_example3():\n",
    "    circle6 = shapely.Polygon(circle_points(3))\n",
    "    circle5 = shapely.Polygon(circle_points(2.5))\n",
    "    circle3 = shapely.Polygon(circle_points(1.5))\n",
    "    circle2 = shapely.Polygon(circle_points(1))\n",
    "    a = StructureSlice([circle6, circle2])\n",
    "    b = StructureSlice([circle5, circle3])\n",
    "    return a, b\n",
    "\n",
    "def contains_example4():\n",
    "    circle6 = shapely.Polygon(circle_points(3))\n",
    "    circle3_offset_x = shapely.Polygon(circle_points(1.5, offset_x=1.2))\n",
    "    a = StructureSlice([circle6])\n",
    "    b = StructureSlice([circle3_offset_x])\n",
    "    return a, b\n",
    "\n",
    "def contains_example5():\n",
    "    circle6 = shapely.Polygon(circle_points(3))\n",
    "    circle3_offset_y = shapely.Polygon(circle_points(1.5, offset_y=-1))\n",
    "    a = StructureSlice([circle6])\n",
    "    b = StructureSlice([circle3_offset_y])\n",
    "    return a, b\n",
    "\n",
    "def contains_example6():\n",
    "    circle4_left = shapely.Polygon(circle_points(2, offset_x=-3))\n",
    "    circle4_right = shapely.Polygon(circle_points(2, offset_x=3))\n",
    "    circle3_left = shapely.Polygon(circle_points(1.5, offset_x=-3))\n",
    "    circle3_right = shapely.Polygon(circle_points(1.5, offset_x=3))\n",
    "    circle5_up = shapely.Polygon(circle_points(2.5, offset_y=4))\n",
    "    circle2_up = shapely.Polygon(circle_points(1, offset_y=3))\n",
    "    circle3_down = shapely.Polygon(circle_points(1.5, offset_y=-2.5))\n",
    "    circle1_down = shapely.Polygon(circle_points(0.5, offset_y=-2))\n",
    "    a = StructureSlice([circle4_left, circle4_right, circle5_up, circle3_down])\n",
    "    b = StructureSlice([circle3_left, circle3_right, circle2_up, circle1_down])\n",
    "    return a, b\n"
   ]
  },
  {
   "cell_type": "code",
   "execution_count": 35,
   "metadata": {},
   "outputs": [
    {
     "name": "stdout",
     "output_type": "stream",
     "text": [
      "Contains Mask  000000000  |  000000000  |  101010110 \n",
      "Contains Value  000000000  |  000000000  |  101000000 \n",
      "Relation Binary  111001001  |  111001001  |  111001001 \n",
      "Relationship Relationship: Contains\n"
     ]
    },
    {
     "data": {
      "image/png": "[encoded data removed]",
      "text/plain": [
       "<Figure size 400x200 with 1 Axes>"
      ]
     },
     "metadata": {},
     "output_type": "display_data"
    }
   ],
   "source": [
    "print('Contains Mask', bin_format(contains_def.mask))\n",
    "print('Contains Value', bin_format(contains_def.value))\n",
    "\n",
    "a, b = contains_example1()\n",
    "relation_example(a, b, contains_def)"
   ]
  },
  {
   "cell_type": "code",
   "execution_count": 36,
   "metadata": {},
   "outputs": [
    {
     "name": "stdout",
     "output_type": "stream",
     "text": [
      "Relation Binary  111001001  |  111001001  |  111001001 \n",
      "Relationship Relationship: Contains\n"
     ]
    },
    {
     "data": {
      "image/png": "[encoded data removed]",
      "text/plain": [
       "<Figure size 400x200 with 1 Axes>"
      ]
     },
     "metadata": {},
     "output_type": "display_data"
    }
   ],
   "source": [
    "a, b = contains_example2()\n",
    "relation_example(a, b, contains_def)"
   ]
  },
  {
   "cell_type": "code",
   "execution_count": 37,
   "metadata": {},
   "outputs": [
    {
     "name": "stdout",
     "output_type": "stream",
     "text": [
      "Relation Binary  111001001  |  111001001  |  111001001 \n",
      "Relationship Relationship: Contains\n"
     ]
    },
    {
     "data": {
      "image/png": "[encoded data removed]",
      "text/plain": [
       "<Figure size 400x200 with 1 Axes>"
      ]
     },
     "metadata": {},
     "output_type": "display_data"
    }
   ],
   "source": [
    "a, b = contains_example3()\n",
    "relation_example(a, b, contains_def)"
   ]
  },
  {
   "cell_type": "code",
   "execution_count": 38,
   "metadata": {},
   "outputs": [
    {
     "name": "stdout",
     "output_type": "stream",
     "text": [
      "Relation Binary  111001001  |  111001001  |  111001001 \n",
      "Relationship Relationship: Contains\n"
     ]
    },
    {
     "data": {
      "image/png": "[encoded data removed]",
      "text/plain": [
       "<Figure size 400x200 with 1 Axes>"
      ]
     },
     "metadata": {},
     "output_type": "display_data"
    }
   ],
   "source": [
    "a, b = contains_example4()\n",
    "relation_example(a, b, contains_def)"
   ]
  },
  {
   "cell_type": "code",
   "execution_count": 39,
   "metadata": {},
   "outputs": [
    {
     "name": "stdout",
     "output_type": "stream",
     "text": [
      "Relation Binary  111001001  |  111001001  |  111001001 \n",
      "Relationship Relationship: Contains\n"
     ]
    },
    {
     "data": {
      "image/png": "[encoded data removed]",
      "text/plain": [
       "<Figure size 400x200 with 1 Axes>"
      ]
     },
     "metadata": {},
     "output_type": "display_data"
    }
   ],
   "source": [
    "a, b = contains_example5()\n",
    "relation_example(a, b, contains_def)"
   ]
  },
  {
   "cell_type": "code",
   "execution_count": 40,
   "metadata": {},
   "outputs": [
    {
     "name": "stdout",
     "output_type": "stream",
     "text": [
      "Relation Binary  111001001  |  111001001  |  111001001 \n",
      "Relationship Relationship: Contains\n"
     ]
    },
    {
     "data": {
      "image/png": "[encoded data removed]",
      "text/plain": [
       "<Figure size 400x200 with 1 Axes>"
      ]
     },
     "metadata": {},
     "output_type": "display_data"
    }
   ],
   "source": [
    "a, b = contains_example6()\n",
    "relation_example(a, b, contains_def)"
   ]
  },
  {
   "cell_type": "markdown",
   "metadata": {},
   "source": [
    "## Overlaps"
   ]
  },
  {
   "cell_type": "code",
   "execution_count": 41,
   "metadata": {},
   "outputs": [],
   "source": [
    "\n",
    "def overlaps_simple_example():\n",
    "    circle6 = shapely.Polygon(circle_points(3))\n",
    "    circle6_offset = shapely.Polygon(circle_points(3, offset_x=2))\n",
    "    box4_offset = shapely.Polygon(box_points(4, offset_x=2))\n",
    "\n",
    "    a = StructureSlice([circle6])\n",
    "    b = StructureSlice([circle6_offset])\n",
    "    return a, b\n",
    "\n",
    "def overlaps_ring_example():\n",
    "    circle6 = shapely.Polygon(circle_points(3))\n",
    "    circle4 = shapely.Polygon(circle_points(2))\n",
    "    circle6_offset = shapely.Polygon(circle_points(3, offset_x=2.5))\n",
    "\n",
    "    a = StructureSlice([circle6, circle4])\n",
    "    b = StructureSlice([circle6_offset])\n",
    "    return a, b\n",
    "\n",
    "def overlaps_surrounded_example():\n",
    "    circle6 = shapely.Polygon(circle_points(3))\n",
    "    circle4 = shapely.Polygon(circle_points(2))\n",
    "    circle2 = shapely.Polygon(circle_points(1.5, offset_x=1))\n",
    "\n",
    "    a = StructureSlice([circle6, circle4])\n",
    "    b = StructureSlice([circle2])\n",
    "    return a, b\n",
    "\n",
    "def overlaps_ring_surrounded_example():\n",
    "    circle6 = shapely.Polygon(circle_points(3))\n",
    "    circle3 = shapely.Polygon(circle_points(1.5))\n",
    "    circle4 = shapely.Polygon(circle_points(2))\n",
    "\n",
    "    a = StructureSlice([circle6, circle3])\n",
    "    b = StructureSlice([circle4])\n",
    "    return a, b\n",
    "\n",
    "def overlaps_archipelago_simple_example():\n",
    "    circle6 = shapely.Polygon(circle_points(3))\n",
    "    circle4 = shapely.Polygon(circle_points(2))\n",
    "    circle2 = shapely.Polygon(circle_points(1))\n",
    "\n",
    "    a = StructureSlice([circle6, circle4, circle2])\n",
    "    b = StructureSlice([circle4])\n",
    "    return a, b\n"
   ]
  },
  {
   "cell_type": "code",
   "execution_count": 42,
   "metadata": {},
   "outputs": [
    {
     "name": "stdout",
     "output_type": "stream",
     "text": [
      "Overlaps Mask  000000000  |  000000000  |  101000100 \n",
      "Overlaps Value  000000000  |  000000000  |  101000100 \n",
      "Relation Binary  111101111  |  111101111  |  111101111 \n",
      "Relationship Relationship: Overlaps\n"
     ]
    },
    {
     "data": {
      "image/png": "[encoded data removed]",
      "text/plain": [
       "<Figure size 400x200 with 1 Axes>"
      ]
     },
     "metadata": {},
     "output_type": "display_data"
    }
   ],
   "source": [
    "print('Overlaps Mask', bin_format(overlaps_def.mask))\n",
    "print('Overlaps Value', bin_format(overlaps_def.value))\n",
    "\n",
    "a, b = overlaps_simple_example()\n",
    "relation_example(a, b, overlaps_def)"
   ]
  },
  {
   "cell_type": "code",
   "execution_count": 43,
   "metadata": {},
   "outputs": [
    {
     "name": "stdout",
     "output_type": "stream",
     "text": [
      "Relation Binary  111101111  |  111101111  |  111101111 \n",
      "Relationship Relationship: Overlaps\n"
     ]
    },
    {
     "data": {
      "image/png": "[encoded data removed]",
      "text/plain": [
       "<Figure size 400x200 with 1 Axes>"
      ]
     },
     "metadata": {},
     "output_type": "display_data"
    }
   ],
   "source": [
    "a, b = overlaps_ring_example()\n",
    "relation_example(a, b, overlaps_def)"
   ]
  },
  {
   "cell_type": "code",
   "execution_count": 44,
   "metadata": {},
   "outputs": [
    {
     "name": "stdout",
     "output_type": "stream",
     "text": [
      "Relation Binary  111001001  |  111001001  |  111101111 \n",
      "Relationship Relationship: Overlaps\n"
     ]
    },
    {
     "data": {
      "image/png": "[encoded data removed]",
      "text/plain": [
       "<Figure size 400x200 with 1 Axes>"
      ]
     },
     "metadata": {},
     "output_type": "display_data"
    }
   ],
   "source": [
    "a, b = overlaps_surrounded_example()\n",
    "relation_example(a, b, overlaps_def)"
   ]
  },
  {
   "cell_type": "code",
   "execution_count": 45,
   "metadata": {},
   "outputs": [
    {
     "name": "stdout",
     "output_type": "stream",
     "text": [
      "Relation Binary  111001001  |  111001001  |  111101101 \n",
      "Relationship Relationship: Overlaps\n"
     ]
    },
    {
     "data": {
      "image/png": "[encoded data removed]",
      "text/plain": [
       "<Figure size 400x200 with 1 Axes>"
      ]
     },
     "metadata": {},
     "output_type": "display_data"
    }
   ],
   "source": [
    "a, b = overlaps_ring_surrounded_example()\n",
    "relation_example(a, b, overlaps_def)"
   ]
  },
  {
   "cell_type": "code",
   "execution_count": 46,
   "metadata": {},
   "outputs": [
    {
     "name": "stdout",
     "output_type": "stream",
     "text": [
      "Relation Binary  111001001  |  111001001  |  101111101 \n",
      "Relationship Relationship: Overlaps\n"
     ]
    },
    {
     "data": {
      "image/png": "[encoded data removed]",
      "text/plain": [
       "<Figure size 400x200 with 1 Axes>"
      ]
     },
     "metadata": {},
     "output_type": "display_data"
    }
   ],
   "source": [
    "a, b = overlaps_archipelago_simple_example()\n",
    "relation_example(a, b, overlaps_def)"
   ]
  },
  {
   "cell_type": "markdown",
   "metadata": {},
   "source": [
    "## Equals"
   ]
  },
  {
   "cell_type": "code",
   "execution_count": 47,
   "metadata": {},
   "outputs": [],
   "source": [
    "\n",
    "def equals_example1():\n",
    "    box6 = shapely.Polygon(box_points(6))\n",
    "    a = StructureSlice([box6])\n",
    "    b = StructureSlice([box6])\n",
    "    return a, b\n",
    "\n",
    "def equals_example2():\n",
    "    circle6 = shapely.Polygon(circle_points(3))\n",
    "    circle5 = shapely.Polygon(circle_points(2.5))\n",
    "    cropped_circle = shapely.intersection(circle6, circle5)\n",
    "    a = StructureSlice([circle5])\n",
    "    b = StructureSlice([cropped_circle])\n",
    "    return a, b\n"
   ]
  },
  {
   "cell_type": "code",
   "execution_count": 48,
   "metadata": {},
   "outputs": [
    {
     "name": "stdout",
     "output_type": "stream",
     "text": [
      "Equals Mask  000000000  |  000000000  |  101001110 \n",
      "Equals Value  000000000  |  000000000  |  100000000 \n",
      "Relation Binary  100010001  |  100010001  |  100010001 \n",
      "Relationship Relationship: Equals\n"
     ]
    },
    {
     "data": {
      "image/png": "[encoded data removed]",
      "text/plain": [
       "<Figure size 400x200 with 1 Axes>"
      ]
     },
     "metadata": {},
     "output_type": "display_data"
    }
   ],
   "source": [
    "print('Equals Mask', bin_format(equals_def.mask))\n",
    "print('Equals Value', bin_format(equals_def.value))\n",
    "\n",
    "a, b = equals_example1()\n",
    "relation_example(a, b, equals_def)"
   ]
  },
  {
   "cell_type": "code",
   "execution_count": 49,
   "metadata": {},
   "outputs": [
    {
     "name": "stdout",
     "output_type": "stream",
     "text": [
      "Relation Binary  100010001  |  100010001  |  100010001 \n",
      "Relationship Relationship: Equals\n"
     ]
    },
    {
     "data": {
      "image/png": "[encoded data removed]",
      "text/plain": [
       "<Figure size 400x200 with 1 Axes>"
      ]
     },
     "metadata": {},
     "output_type": "display_data"
    }
   ],
   "source": [
    "a, b = equals_example2()\n",
    "relation_example(a, b, equals_def)"
   ]
  },
  {
   "cell_type": "markdown",
   "metadata": {},
   "source": [
    "## Relationship Test Definitions"
   ]
  },
  {
   "cell_type": "code",
   "execution_count": 50,
   "metadata": {},
   "outputs": [],
   "source": [
    "surrounds_def = RelationshipTest(RelationshipType.SURROUNDS,\n",
    "                                 0b000000000100010110110110000,\n",
    "                                 0b000000000100000000000000000)\n",
    "shelters_def = RelationshipTest(RelationshipType.SHELTERS,\n",
    "                                0b111000100110110000110110000,\n",
    "                                0b111000000000000000000000000)\n",
    "disjoint_def = RelationshipTest(RelationshipType.DISJOINT,\n",
    "                                0b110110000110110000110110000,\n",
    "                                0b000000000000000000000000000)\n",
    "borders_def = RelationshipTest(RelationshipType.BORDERS,\n",
    "                               0b000000000001001110110110000,\n",
    "                               0b000000000001001110000010000)\n",
    "interior_borders_def = RelationshipTest(RelationshipType.BORDERS_INTERIOR,\n",
    "                                0b000000000101010110110110000,\n",
    "                                0b000000000101000000000010000)\n",
    "overlaps_def = RelationshipTest(RelationshipType.OVERLAPS,\n",
    "                                0b000000000000000000101000100,\n",
    "                                0b000000000000000000101000100)\n",
    "partition_def = RelationshipTest(RelationshipType.PARTITION,\n",
    "                                0b000000000000000000101010110,\n",
    "                                0b000000000000000000101010000)\n",
    "contains_def = RelationshipTest(RelationshipType.CONTAINS,\n",
    "                                0b000000000000000000101010110,\n",
    "                                0b000000000000000000101000000)\n",
    "equals_def = RelationshipTest(RelationshipType.EQUALS,\n",
    "                                0b000000000000000000101001110,\n",
    "                                0b000000000000000000100000000)\n"
   ]
  },
  {
   "cell_type": "code",
   "execution_count": 51,
   "metadata": {},
   "outputs": [],
   "source": [
    "test_binaries = [\n",
    "    disjoint_def,\n",
    "    shelters_def,\n",
    "    surrounds_def,\n",
    "    borders_def,\n",
    "    interior_borders_def,\n",
    "    overlaps_def,\n",
    "    partition_def,\n",
    "    contains_def,\n",
    "    equals_def\n",
    "    ]"
   ]
  },
  {
   "cell_type": "code",
   "execution_count": 52,
   "metadata": {},
   "outputs": [],
   "source": [
    "def find_type(relation_binary, test_binaries):\n",
    "    for rel_def in test_binaries:\n",
    "        result = rel_def.test(relation_binary)\n",
    "        if result:\n",
    "            return result\n",
    "    return RelationshipType.UNKNOWN"
   ]
  },
  {
   "cell_type": "code",
   "execution_count": 53,
   "metadata": {},
   "outputs": [],
   "source": [
    "test_relations = [\n",
    "    surrounds_example1,\n",
    "    surrounds_example2,\n",
    "    shelters_example,\n",
    "    disjoint_example,\n",
    "    borders_example1,\n",
    "    borders_example2,\n",
    "    interior_borders_example1,\n",
    "    interior_borders_example2,\n",
    "    overlaps_simple_example,\n",
    "    overlaps_ring_example,\n",
    "    overlaps_surrounded_example,\n",
    "    overlaps_ring_surrounded_example,\n",
    "    overlaps_archipelago_simple_example,\n",
    "    partition_example1,\n",
    "    partition_example2,\n",
    "    partition_example3,\n",
    "    partition_example4,\n",
    "    contains_example1,\n",
    "    contains_example2,\n",
    "    contains_example3,\n",
    "    equals_example1,\n",
    "    equals_example2\n",
    "]\n"
   ]
  },
  {
   "cell_type": "markdown",
   "metadata": {},
   "source": [
    "#### Testing identify_relation function"
   ]
  },
  {
   "cell_type": "code",
   "execution_count": 54,
   "metadata": {},
   "outputs": [
    {
     "ename": "NameError",
     "evalue": "name 'relate' is not defined",
     "output_type": "error",
     "traceback": [
      "\u001b[1;31m---------------------------------------------------------------------------\u001b[0m",
      "\u001b[1;31mNameError\u001b[0m                                 Traceback (most recent call last)",
      "Cell \u001b[1;32mIn[54], line 4\u001b[0m\n\u001b[0;32m      2\u001b[0m \u001b[38;5;28;01mfor\u001b[39;00m rel_test \u001b[38;5;129;01min\u001b[39;00m test_relations:\n\u001b[0;32m      3\u001b[0m     a, b \u001b[38;5;241m=\u001b[39m rel_test()\n\u001b[1;32m----> 4\u001b[0m     relation_binary \u001b[38;5;241m=\u001b[39m relate(a,b)\n\u001b[0;32m      5\u001b[0m     relation_name \u001b[38;5;241m=\u001b[39m identify_relation(relation_binary)\n\u001b[0;32m      6\u001b[0m     result \u001b[38;5;241m=\u001b[39m \u001b[38;5;124mf\u001b[39m\u001b[38;5;124m'\u001b[39m\u001b[38;5;132;01m{\u001b[39;00mrel_test\u001b[38;5;241m.\u001b[39m\u001b[38;5;18m__name__\u001b[39m\u001b[38;5;132;01m:\u001b[39;00m\u001b[38;5;124m>40s\u001b[39m\u001b[38;5;132;01m}\u001b[39;00m\u001b[38;5;130;01m\\t\u001b[39;00m\u001b[38;5;132;01m{\u001b[39;00mbin_format(relation_binary)\u001b[38;5;132;01m}\u001b[39;00m\u001b[38;5;130;01m\\t\u001b[39;00m\u001b[38;5;132;01m{\u001b[39;00m\u001b[38;5;28mstr\u001b[39m(relation_name)\u001b[38;5;132;01m}\u001b[39;00m\u001b[38;5;124m'\u001b[39m\n",
      "\u001b[1;31mNameError\u001b[0m: name 'relate' is not defined"
     ]
    }
   ],
   "source": [
    "results = []\n",
    "for rel_test in test_relations:\n",
    "    a, b = rel_test()\n",
    "    relation_binary = relate(a,b)\n",
    "    relation_name = identify_relation(relation_binary)\n",
    "    result = f'{rel_test.__name__:>40s}\\t{bin_format(relation_binary)}\\t{str(relation_name)}'\n",
    "    results.append(result)\n",
    "\n",
    "for r in results:\n",
    "    print(r)"
   ]
  },
  {
   "cell_type": "code",
   "execution_count": null,
   "metadata": {},
   "outputs": [],
   "source": [
    "def bin_2_test(rel_test: RelationshipTest) -> dict[str, str]:\n",
    "    def to_dict(test_str):\n",
    "        test_parts = test_str.split('|')\n",
    "        test_dict = {'Hull': test_parts[0].strip(),\n",
    "            'Exterior': test_parts[1].strip(),\n",
    "            'Region': test_parts[2].strip()}\n",
    "        return test_dict\n",
    "\n",
    "    # Set test values to True or False\n",
    "    value_str = bin_format(rel_test.value)\n",
    "    value_str = value_str.replace('0', 'F')\n",
    "    value_str = value_str.replace('1', 'T')\n",
    "    # Replace masked parts with '*'\n",
    "    mask = bin_format(rel_test.mask)\n",
    "    test_chars = []\n",
    "    for tst, msk in zip(value_str, mask):\n",
    "        if msk == '0':\n",
    "            chr = '*'\n",
    "        else:\n",
    "            chr = tst\n",
    "        test_chars.append(chr)\n",
    "    test_str = ''.join(test_chars)\n",
    "    # Create test dictionary item\n",
    "    labelled_test = {rel_test.relation_type.label: to_dict(test_str)}\n",
    "    return labelled_test"
   ]
  },
  {
   "cell_type": "code",
   "execution_count": null,
   "metadata": {},
   "outputs": [
    {
     "data": {
      "text/html": [
       "<div>\n",
       "<style scoped>\n",
       "    .dataframe tbody tr th:only-of-type {\n",
       "        vertical-align: middle;\n",
       "    }\n",
       "\n",
       "    .dataframe tbody tr th {\n",
       "        vertical-align: top;\n",
       "    }\n",
       "\n",
       "    .dataframe thead th {\n",
       "        text-align: right;\n",
       "    }\n",
       "</style>\n",
       "<table border=\"1\" class=\"dataframe\">\n",
       "  <thead>\n",
       "    <tr style=\"text-align: right;\">\n",
       "      <th></th>\n",
       "      <th>Hull</th>\n",
       "      <th>Exterior</th>\n",
       "      <th>Region</th>\n",
       "    </tr>\n",
       "  </thead>\n",
       "  <tbody>\n",
       "    <tr>\n",
       "      <th>Disjoint</th>\n",
       "      <td>FF*FF****</td>\n",
       "      <td>FF*FF****</td>\n",
       "      <td>FF*FF****</td>\n",
       "    </tr>\n",
       "    <tr>\n",
       "      <th>Shelters</th>\n",
       "      <td>TTT***F**</td>\n",
       "      <td>FF*FF****</td>\n",
       "      <td>FF*FF****</td>\n",
       "    </tr>\n",
       "    <tr>\n",
       "      <th>Surrounds</th>\n",
       "      <td>*********</td>\n",
       "      <td>T***F*FF*</td>\n",
       "      <td>FF*FF****</td>\n",
       "    </tr>\n",
       "    <tr>\n",
       "      <th>Borders</th>\n",
       "      <td>*********</td>\n",
       "      <td>**T**TTT*</td>\n",
       "      <td>FF*FT****</td>\n",
       "    </tr>\n",
       "    <tr>\n",
       "      <th>Borders_interior</th>\n",
       "      <td>*********</td>\n",
       "      <td>T*T*F*FF*</td>\n",
       "      <td>FF*FT****</td>\n",
       "    </tr>\n",
       "    <tr>\n",
       "      <th>Overlaps</th>\n",
       "      <td>*********</td>\n",
       "      <td>*********</td>\n",
       "      <td>T*T***T**</td>\n",
       "    </tr>\n",
       "    <tr>\n",
       "      <th>Partition</th>\n",
       "      <td>*********</td>\n",
       "      <td>*********</td>\n",
       "      <td>T*T*T*FF*</td>\n",
       "    </tr>\n",
       "    <tr>\n",
       "      <th>Contains</th>\n",
       "      <td>*********</td>\n",
       "      <td>*********</td>\n",
       "      <td>T*T*F*FF*</td>\n",
       "    </tr>\n",
       "    <tr>\n",
       "      <th>Equals</th>\n",
       "      <td>*********</td>\n",
       "      <td>*********</td>\n",
       "      <td>T*F**FFF*</td>\n",
       "    </tr>\n",
       "  </tbody>\n",
       "</table>\n",
       "</div>"
      ],
      "text/plain": [
       "                       Hull   Exterior     Region\n",
       "Disjoint          FF*FF****  FF*FF****  FF*FF****\n",
       "Shelters          TTT***F**  FF*FF****  FF*FF****\n",
       "Surrounds         *********  T***F*FF*  FF*FF****\n",
       "Borders           *********  **T**TTT*  FF*FT****\n",
       "Borders_interior  *********  T*T*F*FF*  FF*FT****\n",
       "Overlaps          *********  *********  T*T***T**\n",
       "Partition         *********  *********  T*T*T*FF*\n",
       "Contains          *********  *********  T*T*F*FF*\n",
       "Equals            *********  *********  T*F**FFF*"
      ]
     },
     "execution_count": 64,
     "metadata": {},
     "output_type": "execute_result"
    }
   ],
   "source": [
    "test_str_dict = {}\n",
    "for rel_test in test_binaries:\n",
    "    test_str_dict.update(bin_2_test(rel_test))\n",
    "pd.DataFrame(test_str_dict).T"
   ]
  },
  {
   "cell_type": "markdown",
   "metadata": {},
   "source": [
    "## Test Text\n",
    "Convert each relation `Value` and `Mask` pair into a test string:\n",
    "1. Convert `Value` integer into a binary string\n",
    "2. Replace `Value` *‘0’* with *‘F’*\n",
    "3. Replace `Value` *‘1’* with *‘T’*\n",
    "4. Replace `Value` with *'*'* where `Mask` is *'0'*\n"
   ]
  },
  {
   "cell_type": "markdown",
   "metadata": {},
   "source": [
    "## Mask Ranking"
   ]
  },
  {
   "cell_type": "code",
   "execution_count": null,
   "metadata": {},
   "outputs": [
    {
     "name": "stdout",
     "output_type": "stream",
     "text": [
      "SHELTERS           111000100  |  110110000  |  110110000  \t 111000000  |  000000000  |  000000000  \n",
      "DISJOINT           110110000  |  110110000  |  110110000  \t 000000000  |  000000000  |  000000000  \n",
      "BORDERS_INTERIOR   000000000  |  101010110  |  110110000  \t 000000000  |  101000000  |  000010000  \n",
      "SURROUNDS          000000000  |  100010110  |  110110000  \t 000000000  |  100000000  |  000000000  \n",
      "BORDERS            000000000  |  001001110  |  110110000  \t 000000000  |  001001110  |  000010000  \n",
      "PARTITION          000000000  |  000000000  |  101010110  \t 000000000  |  000000000  |  101010000  \n",
      "CONTAINS           000000000  |  000000000  |  101010110  \t 000000000  |  000000000  |  101000000  \n",
      "EQUALS             000000000  |  000000000  |  101001110  \t 000000000  |  000000000  |  100000000  \n",
      "OVERLAPS           000000000  |  000000000  |  101000100  \t 000000000  |  000000000  |  101000100  \n"
     ]
    }
   ],
   "source": [
    "test_binaries.sort(key=lambda x: x.mask, reverse=True)\n",
    "for test_bin in test_binaries:\n",
    "    print(f'{test_bin.relation_type.name:18s}{bin_format(test_bin.mask):40s}\\t{bin_format(test_bin.value):40s}')"
   ]
  }
 ],
 "metadata": {
  "kernelspec": {
   "display_name": "StructureRelations",
   "language": "python",
   "name": "python3"
  },
  "language_info": {
   "codemirror_mode": {
    "name": "ipython",
    "version": 3
   },
   "file_extension": ".py",
   "mimetype": "text/x-python",
   "name": "python",
   "nbconvert_exporter": "python",
   "pygments_lexer": "ipython3",
   "version": "3.11.9"
  }
 },
 "nbformat": 4,
 "nbformat_minor": 2
}
