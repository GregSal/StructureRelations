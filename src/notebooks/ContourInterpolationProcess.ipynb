{
 "cells": [
  {
   "cell_type": "markdown",
   "metadata": {},
   "source": [
    "# Contour Interpolation Notes\n",
    "The current interpolation method for polygons is linear interpolation. This means that the contour lines are drawn by connecting points that are linearly interpolated between the data points. This method is simple and efficient, but it can lead to jagged or non-smooth contour lines, especially in areas with rapid changes in data values or rotated polygons.\n",
    "\n",
    "However, it is good enough for most cases, and will be used for the time being. "
   ]
  },
  {
   "cell_type": "code",
   "execution_count": 1,
   "metadata": {},
   "outputs": [],
   "source": [
    "from collections import defaultdict\n",
    "\n",
    "import pandas as pd\n",
    "import numpy as np\n",
    "from shapely.geometry import Polygon\n",
    "import shapely\n",
    "\n",
    "from types_and_classes import SliceIndexSequenceType\n"
   ]
  },
  {
   "cell_type": "raw",
   "metadata": {
    "vscode": {
     "languageId": "raw"
    }
   },
   "source": [
    "# Local functions and classes\n",
    "from types_and_classes import *\n",
    "from utilities import *\n",
    "from contours import *\n",
    "from debug_tools import *\n",
    "from structures import *\n",
    "from region_slice import *\n",
    "#from structure_set import *\n",
    "#from relations import *\n"
   ]
  },
  {
   "cell_type": "markdown",
   "metadata": {},
   "source": [
    "### Global Settings"
   ]
  },
  {
   "cell_type": "code",
   "execution_count": 2,
   "metadata": {},
   "outputs": [],
   "source": [
    "PRECISION = 2"
   ]
  },
  {
   "cell_type": "code",
   "execution_count": 3,
   "metadata": {},
   "outputs": [],
   "source": [
    "%matplotlib inline"
   ]
  },
  {
   "cell_type": "markdown",
   "metadata": {},
   "source": [
    "### Create interpolated slices as needed for each contour graph\n",
    "1. Find all slice indexes that are not original\n",
    "2. For each slice index:\n",
    "    1. use contour_lookup to determine if that slice exists in the contour graph.'\n",
    "    2. If it does not exist, but the previous and next slices do, and have the same region index:\n",
    "        1. create an interpolated contour at the specified index.\n",
    "        2. set the IsInterpolated attribute to True.\n",
    "        3. set the region index to the region index of the previous slice.\n",
    "        4. set the IsBoundary attribute to False\n",
    "        4. add the interpolated contour to the contour graph.\n",
    "        5. Add edges to the contour graph between the interpolated contour and the previous and next slices.\n"
   ]
  },
  {
   "cell_type": "code",
   "execution_count": 4,
   "metadata": {},
   "outputs": [],
   "source": [
    "def calculate_new_slice_index(slices: SliceIndexSequenceType,\n",
    "                              precision=PRECISION) -> float:\n",
    "    '''Calculate the new z value based on the given slices.\n",
    "\n",
    "    Args:\n",
    "        slices (Union[List[SliceIndexType], SliceIndexType]): The slices to\n",
    "            calculate the new z value from.\n",
    "\n",
    "    Returns:\n",
    "        float: The calculated new z value.\n",
    "    '''\n",
    "    if isinstance(slices, (list, tuple)):\n",
    "        new_slice = round(np.mean(slices), precision)\n",
    "        min_slice = round(min(slices), precision)\n",
    "        max_slice = round(max(slices), precision)\n",
    "        if not (min_slice <= new_slice <= max_slice):\n",
    "            raise ValueError(\"Calculated slice is out of bounds after rounding.\")\n",
    "        return new_slice\n",
    "    else:\n",
    "        return slices\n"
   ]
  },
  {
   "cell_type": "code",
   "execution_count": 5,
   "metadata": {},
   "outputs": [],
   "source": [
    "def interpolate_polygon(slices: SliceIndexSequenceType, p1: shapely.Polygon,\n",
    "                        p2: shapely.Polygon = None) -> shapely.Polygon:\n",
    "    '''Interpolate a polygon between two polygons based on the given slices.\n",
    "\n",
    "    This function takes two polygons and interpolates a new polygon based on\n",
    "    the given slices. The new polygon is created by interpolating the\n",
    "    coordinates of the two polygons,\n",
    "\n",
    "    **any holes of the first polygon are also interpolated.**\n",
    "\n",
    "    The new polygon is then assigned a z value based on the given slices.\n",
    "    The function also handles the case where one of the polygons\n",
    "    is empty. The function raises a ValueError if either of the polygons are\n",
    "    multi-polygons.\n",
    "    The function also raises a ValueError if the first polygon is empty and no\n",
    "    second polygon is given.\n",
    "    Args:\n",
    "        slices (SliceIndexSequenceType): _description_\n",
    "        p1 (shapely.Polygon): _description_\n",
    "        p2 (shapely.Polygon, optional): _description_. Defaults to None.\n",
    "\n",
    "    Raises:\n",
    "        ValueError: When either of the polygons are multi-polygons\n",
    "        ValueError: When the first polygon is empty and no second polygon is\n",
    "            given.\n",
    "    Returns:\n",
    "        shapely.Polygon: _description_\n",
    "    '''\n",
    "    # TODO Use shapely.affinity.scale to interpolate polygons\n",
    "    def align_polygons(p1, p2):\n",
    "        # Get the point between the centroid of the first and second polygons.\n",
    "        cm_shift = ((p2.centroid.x - p1.centroid.x) / 2,\n",
    "                    (p2.centroid.y - p1.centroid.y) / 2)\n",
    "        # Shift the two polygons to the same mid point.\n",
    "        ctr_poly1 = shapely.affinity.translate(p1,\n",
    "                                               xoff=cm_shift[0],\n",
    "                                               yoff=cm_shift[1])\n",
    "        ctr_poly2 = shapely.affinity.translate(p2,\n",
    "                                               xoff=-cm_shift[0],\n",
    "                                               yoff=-cm_shift[1])\n",
    "        # get the scaling factors for the two polygons.\n",
    "        x_size1 = p1.bounds[2] - p1.bounds[0]\n",
    "        y_size1 = p1.bounds[3] - p1.bounds[1]\n",
    "        x_size2 = p2.bounds[2] - p2.bounds[0]\n",
    "        y_size2 = p2.bounds[3] - p2.bounds[1]\n",
    "        scale_x1 = (x_size1 + x_size2) /( 2 * x_size1)\n",
    "        scale_y1 = (y_size1 + y_size2) /( 2 * y_size1)\n",
    "        scale_x2 = (x_size1 + x_size2) /( 2 * x_size2)\n",
    "        scale_y2 = (y_size1 + y_size2) /( 2 * y_size2)\n",
    "        scale_poly1 = shapely.affinity.scale(ctr_poly1,\n",
    "                                             xfact=scale_x1,\n",
    "                                             yfact=scale_y1)\n",
    "        scale_poly2 = shapely.affinity.scale(ctr_poly2,\n",
    "                                             xfact=scale_x2,\n",
    "                                             yfact=scale_y2)\n",
    "        return scale_poly1, scale_poly2\n",
    "\n",
    "    def match_holes(p1, p2):\n",
    "        if p1.is_empty:\n",
    "            holes1 = []\n",
    "        else:\n",
    "            holes1 = list(p1.interiors)\n",
    "        # If no second polygon given, use the centroid of each first hole as the\n",
    "        # matching second hole boundary.\n",
    "        if p2 is None:\n",
    "            if holes1:\n",
    "                matched_holes = [(hole, hole.centroid) for hole in holes1]\n",
    "            else:\n",
    "                matched_holes = []\n",
    "            return matched_holes\n",
    "        # If the first polygon does not have any holes, and the second polygon\n",
    "        # does, use the centroid of the second hole as the matching first hole\n",
    "        # boundary.\n",
    "        holes2 =  list(p2.interiors)\n",
    "        if not holes1:\n",
    "            matched_holes = [(hole, hole.centroid) for hole in holes2]\n",
    "            return matched_holes\n",
    "        # If both polygons have holes, match the holes match the holes of the\n",
    "        # second polygon to the first polygon.\n",
    "        matched_holes = []\n",
    "        # set each second hole as not matched.\n",
    "        hole2_matched = {i: False for i in range(len(holes2))}\n",
    "        for hole1 in holes1:\n",
    "            matched1 = False  # set the first hole as not matched.\n",
    "            for idx, hole2 in enumerate(holes2):\n",
    "                if hole1.overlaps(hole2):\n",
    "                    matched_holes.append((hole1, hole2))\n",
    "                    matched1 = True # set the first hole as matched.\n",
    "                    hole2_matched[idx] = True  # set the second hole as matched.\n",
    "            # If the first hole is not matched, use the centroid of the first\n",
    "            # hole as the matching second hole boundary.\n",
    "            if not matched1:\n",
    "                matched_holes.append((hole1, hole1.centroid))\n",
    "        # Add any unmatched holes from the second polygon, using the centroid of\n",
    "        # the second hole as the matching first hole boundary.\n",
    "        for idx, hole2 in enumerate(holes2):\n",
    "            if not hole2_matched[idx]:\n",
    "                matched_holes.append((hole2, hole2.centroid))\n",
    "        return matched_holes\n",
    "\n",
    "    def interpolate_boundaries(boundary1, boundary2):\n",
    "        new_cords = []\n",
    "        for crd in boundary1.coords:\n",
    "            ln = shapely.shortest_line(shapely.Point(crd), boundary2)\n",
    "            ptn = ln.interpolate(0.5, normalized=True)\n",
    "            new_cords.append(ptn)\n",
    "        return new_cords\n",
    "\n",
    "    # Get the z value for the new polygon.\n",
    "    new_z = calculate_new_slice_index(slices)\n",
    "    # Error Checking\n",
    "    # If either of the polygons are multi-polygons, raise an error.\n",
    "    if isinstance(p1, shapely.MultiPolygon):\n",
    "        raise ValueError('Only single polygons are supported.')\n",
    "    if isinstance(p2, shapely.MultiPolygon):\n",
    "        raise ValueError('Only single polygons are supported.')\n",
    "    # Cannot interpolate two empty polygons.\n",
    "    if p1.is_empty & (p2 is None):\n",
    "        raise ValueError('No second polygon given and first polygon is empty.')\n",
    "\n",
    "    # If only one polygon is given, scale the polygon to half its size.\n",
    "    if p2 is None:\n",
    "        itp_poly = shapely.affinity.scale(p1, xfact=0.5, yfact=0.5)\n",
    "        itp_poly = shapely.force_3d(itp_poly, new_z)\n",
    "        return itp_poly\n",
    "    elif p1.is_empty:\n",
    "        itp_poly = shapely.affinity.scale(p2, xfact=0.5, yfact=0.5)\n",
    "        itp_poly = shapely.force_3d(itp_poly, new_z)\n",
    "        return itp_poly\n",
    "\n",
    "    # If two polygons given, align the polygons to the same center and size and\n",
    "    # then adjust the shape using a linear interpolation to the half way point\n",
    "    # between the two polygons.\n",
    "    # Align and scale the polygons to the same centre and size.\n",
    "    aligned_poly1, aligned_poly2 = align_polygons(p1, p2)\n",
    "    # Interpolate the new polygon coordinates as half way between the p1\n",
    "    # boundary and boundary 2.\n",
    "    boundary1 = aligned_poly1.exterior\n",
    "    boundary2 = aligned_poly2.exterior\n",
    "    new_cords = interpolate_boundaries(boundary1, boundary2)\n",
    "    # Add the holes to the new polygon.\n",
    "    new_holes = []\n",
    "    matched_holes = match_holes(p1, p2)\n",
    "    for hole1, hole2 in matched_holes:\n",
    "        new_hole = interpolate_boundaries(hole1, hole2)\n",
    "        new_holes.append(new_hole)\n",
    "    # Build the new polygon from the interpolated coordinates.\n",
    "    itp_poly = shapely.Polygon(new_cords, holes=new_holes)\n",
    "    # Add the z value to the polygon.\n",
    "    itp_poly = shapely.force_3d(itp_poly, new_z)\n",
    "    return itp_poly\n"
   ]
  },
  {
   "cell_type": "markdown",
   "metadata": {},
   "source": [
    "# Algorithm options for interpolating polygons\n",
    "- need to translate and scale the polygons before interpolating the coordinates otherwise there is a possibility that the coordinate pairs selected from the two polygons will not be correct when there is a significant difference in the size or position of the two polygons.\n",
    "\n",
    "For the translation, use the difference between the centres of the two polygons:\n",
    "> $\\Delta_x =  \\frac{(x2_c - x1_c)}{2}$<br><br>\n",
    "> $\\Delta_y =  \\frac{(y2_c - y1_c)}{2}$<br><br>\n",
    "\n",
    "For the scaling, use the ratio of the x and y bounds of the two polygons:\n",
    "> $Size_{x1} = bounds(P_1)_{+x} - bounds(P_1)_{-x}$<br>\n",
    "> $Size_{y1} = bounds(P_1)_{+y} - bounds(P_1)_{-y}$<br><br>\n",
    "> $\\Gamma_{x1} = \\frac{Size_{x1}+Size_{x2}}{2 \\times Size_{x1}}$<br><br>\n",
    "> $\\Gamma_{y1} = \\frac{Size_{y1}+Size_{y2}}{2 \\times Size_{y1}}$<br><br>\n",
    "> $P_1' = P_1 \\times (\\Gamma_{x1}, \\Gamma_{y1})$<br>"
   ]
  },
  {
   "cell_type": "code",
   "execution_count": 6,
   "metadata": {},
   "outputs": [],
   "source": [
    "def align_polygons(p1, p2):\n",
    "    # Get the point between the centroid of the first and second polygons.\n",
    "    cm_shift = ((p2.centroid.x - p1.centroid.x) / 2,\n",
    "                (p2.centroid.y - p1.centroid.y) / 2)\n",
    "    # Shift the two polygons to the same mid point.\n",
    "    ctr_poly1 = shapely.affinity.translate(p1,\n",
    "                                            xoff=cm_shift[0],\n",
    "                                            yoff=cm_shift[1])\n",
    "    ctr_poly2 = shapely.affinity.translate(p2,\n",
    "                                            xoff=-cm_shift[0],\n",
    "                                            yoff=-cm_shift[1])\n",
    "    # get the scaling factors for the two polygons.\n",
    "    x_size1 = p1.bounds[2] - p1.bounds[0]\n",
    "    y_size1 = p1.bounds[3] - p1.bounds[1]\n",
    "    x_size2 = p2.bounds[2] - p2.bounds[0]\n",
    "    y_size2 = p2.bounds[3] - p2.bounds[1]\n",
    "    scale_x1 = (x_size1 + x_size2) /( 2 * x_size1)\n",
    "    scale_y1 = (y_size1 + y_size2) /( 2 * y_size1)\n",
    "    scale_x2 = (x_size1 + x_size2) /( 2 * x_size2)\n",
    "    scale_y2 = (y_size1 + y_size2) /( 2 * y_size2)\n",
    "    scale_poly1 = shapely.affinity.scale(ctr_poly1,\n",
    "                                            xfact=scale_x1,\n",
    "                                            yfact=scale_y1)\n",
    "    scale_poly2 = shapely.affinity.scale(ctr_poly2,\n",
    "                                            xfact=scale_x2,\n",
    "                                            yfact=scale_y2)\n",
    "    return scale_poly1, scale_poly2"
   ]
  },
  {
   "cell_type": "code",
   "execution_count": 7,
   "metadata": {},
   "outputs": [
    {
     "name": "stdout",
     "output_type": "stream",
     "text": [
      "[(-0.5, -0.5, 0.5), (1.5, -0.5, 0.5), (1.5, 1.5, 0.5), (-0.5, 1.5, 0.5), (-0.5, -0.5, 0.5)]\n",
      "(-1.0, -1.0, 1.0, 1.0)\n",
      "(0.0, 0.0, 2.0, 2.0)\n",
      "(-0.5, -0.5, 1.5, 1.5)\n",
      "4.0\n",
      "4.0\n",
      "4.0\n"
     ]
    },
    {
     "data": {
      "image/svg+xml": [
       "<svg xmlns=\"http://www.w3.org/2000/svg\" xmlns:xlink=\"http://www.w3.org/1999/xlink\" width=\"100.0\" height=\"100.0\" viewBox=\"-1.08 -1.08 2.16 2.16\" preserveAspectRatio=\"xMinYMin meet\"><g transform=\"matrix(1,0,0,-1,0,0.0)\"><path fill-rule=\"evenodd\" fill=\"#66cc99\" stroke=\"#555555\" stroke-width=\"0.0432\" opacity=\"0.6\" d=\"M 1.0,-1.0 L -1.0,-1.0 L -1.0,1.0 L -0.5,1.0 L -0.5,-0.5 L 1.0,-0.5 L 1.0,-1.0 z\" /></g></svg>"
      ],
      "text/plain": [
       "<POLYGON Z ((1 -1 0.5, -1 -1 0.5, -1 1 0.5, -0.5 1 0.5, -0.5 -0.5 0.5, 1 -0....>"
      ]
     },
     "execution_count": 7,
     "metadata": {},
     "output_type": "execute_result"
    }
   ],
   "source": [
    "p1 = Polygon([(-1.0, -1.0), (1.0, -1.0), (1.0, 1.0), (-1.0, 1.0)])\n",
    "p2 = Polygon([(0.0, 0.0), (2.0, 0.0), (2.0, 2.0), (0.0, 2.0)])\n",
    "interpolated = interpolate_polygon([0, 1], p1, p2)\n",
    "print(list(interpolated.boundary.coords))\n",
    "print(p1.bounds)\n",
    "print(p2.bounds)\n",
    "print(interpolated.bounds)\n",
    "print(p1.area)\n",
    "print(p2.area)\n",
    "print(interpolated.area)\n",
    "p1 - interpolated"
   ]
  },
  {
   "cell_type": "code",
   "execution_count": 8,
   "metadata": {},
   "outputs": [
    {
     "data": {
      "image/svg+xml": [
       "<svg xmlns=\"http://www.w3.org/2000/svg\" xmlns:xlink=\"http://www.w3.org/1999/xlink\" width=\"100.0\" height=\"100.0\" viewBox=\"-0.08 -0.08 2.16 2.16\" preserveAspectRatio=\"xMinYMin meet\"><g transform=\"matrix(1,0,0,-1,0,2.0)\"><path fill-rule=\"evenodd\" fill=\"#66cc99\" stroke=\"#555555\" stroke-width=\"0.0432\" opacity=\"0.6\" d=\"M 0.0,2.0 L 2.0,2.0 L 2.0,0.0 L 1.5,0.0 L 1.5,1.5 L 0.0,1.5 L 0.0,2.0 z\" /></g></svg>"
      ],
      "text/plain": [
       "<POLYGON Z ((0 2 0.5, 2 2 0.5, 2 0 0.5, 1.5 0 0.5, 1.5 1.5 0.5, 0 1.5 0.5, 0...>"
      ]
     },
     "execution_count": 8,
     "metadata": {},
     "output_type": "execute_result"
    }
   ],
   "source": [
    "p2 - interpolated"
   ]
  },
  {
   "cell_type": "code",
   "execution_count": 9,
   "metadata": {},
   "outputs": [
    {
     "name": "stdout",
     "output_type": "stream",
     "text": [
      "[(-1.0, -1.0, 0.5), (1.0, -1.0, 0.5), (1.0, 1.0, 0.5), (-1.0, 1.0, 0.5), (-1.0, -1.0, 0.5)]\n",
      "(-0.5, -0.5, 0.5, 0.5)\n",
      "(-1.5, -1.5, 1.5, 1.5)\n",
      "(-1.0, -1.0, 1.0, 1.0)\n",
      "1.0\n",
      "9.0\n",
      "4.0\n",
      "POINT (0 0)\n",
      "POINT (0 0)\n",
      "POINT (0 0)\n"
     ]
    },
    {
     "data": {
      "image/svg+xml": [
       "<svg xmlns=\"http://www.w3.org/2000/svg\" xmlns:xlink=\"http://www.w3.org/1999/xlink\" width=\"100.0\" height=\"100.0\" viewBox=\"-1.62 -1.62 3.24 3.24\" preserveAspectRatio=\"xMinYMin meet\"><g transform=\"matrix(1,0,0,-1,0,0.0)\"><g><path fill-rule=\"evenodd\" fill=\"#66cc99\" stroke=\"#555555\" stroke-width=\"0.06480000000000001\" opacity=\"0.6\" d=\"M 1.5,1.5 L 1.5,-1.5 L -1.5,-1.5 L -1.5,1.5 L 1.5,1.5 z M 1.0,1.0 L -1.0,1.0 L -1.0,-1.0 L 1.0,-1.0 L 1.0,1.0 z\" /><path fill-rule=\"evenodd\" fill=\"#66cc99\" stroke=\"#555555\" stroke-width=\"0.06480000000000001\" opacity=\"0.6\" d=\"M -0.5,0.5 L 0.5,0.5 L 0.5,-0.5 L -0.5,-0.5 L -0.5,0.5 z\" /></g></g></svg>"
      ],
      "text/plain": [
       "<MULTIPOLYGON Z (((1.5 1.5 0.5, 1.5 -1.5 0.5, -1.5 -1.5 0.5, -1.5 1.5 0.5, 1...>"
      ]
     },
     "execution_count": 9,
     "metadata": {},
     "output_type": "execute_result"
    }
   ],
   "source": [
    "p1 = Polygon([(-0.5, -0.5), (0.5, -0.5), (0.5, 0.5), (-0.5, 0.5)])\n",
    "p2 = Polygon([(-1.5, -1.5), (1.5, -1.5), (1.5, 1.5), (-1.5, 1.5)])\n",
    "interpolated = interpolate_polygon([0, 1], p1, p2)\n",
    "print(list(interpolated.boundary.coords))\n",
    "print(p1.bounds)\n",
    "print(p2.bounds)\n",
    "print(interpolated.bounds)\n",
    "print(p1.area)\n",
    "print(p2.area)\n",
    "print(interpolated.area)\n",
    "print(p1.centroid)\n",
    "print(p2.centroid)\n",
    "print(interpolated.centroid)\n",
    "shapely.union(p2 - interpolated, p1)"
   ]
  },
  {
   "cell_type": "code",
   "execution_count": 10,
   "metadata": {},
   "outputs": [
    {
     "name": "stdout",
     "output_type": "stream",
     "text": [
      "[(0.0, 0.0, 0.5), (1.0, 0.0, 0.5), (1.0, 1.0, 0.5), (0.0, 1.0, 0.5), (0.0, 0.0, 0.5)]\n",
      "(-0.5, -0.5, 0.5, 0.5)\n",
      "(0.5, 0.5, 1.5, 1.5)\n",
      "(0.0, 0.0, 1.0, 1.0)\n",
      "1.0\n",
      "1.0\n",
      "1.0\n",
      "POINT (0 0)\n",
      "POINT (1 1)\n",
      "POINT (0.5 0.5)\n"
     ]
    },
    {
     "data": {
      "image/svg+xml": [
       "<svg xmlns=\"http://www.w3.org/2000/svg\" xmlns:xlink=\"http://www.w3.org/1999/xlink\" width=\"100.0\" height=\"100.0\" viewBox=\"-0.54 -0.54 1.08 1.08\" preserveAspectRatio=\"xMinYMin meet\"><g transform=\"matrix(1,0,0,-1,0,0.0)\"><path fill-rule=\"evenodd\" fill=\"#66cc99\" stroke=\"#555555\" stroke-width=\"0.0216\" opacity=\"0.6\" d=\"M 0.5,-0.5 L -0.5,-0.5 L -0.5,0.5 L 0.0,0.5 L 0.0,0.0 L 0.5,0.0 L 0.5,-0.5 z\" /></g></svg>"
      ],
      "text/plain": [
       "<POLYGON Z ((0.5 -0.5 0.5, -0.5 -0.5 0.5, -0.5 0.5 0.5, 0 0.5 0.5, 0 0 0.5, ...>"
      ]
     },
     "execution_count": 10,
     "metadata": {},
     "output_type": "execute_result"
    }
   ],
   "source": [
    "p1 = Polygon([(-0.5, -0.5), (0.5, -0.5), (0.5, 0.5), (-0.5, 0.5)])\n",
    "p2 = Polygon([(0.5, 0.5), (1.5, 0.5), (1.5, 1.5), (0.5, 1.5)])\n",
    "interpolated = interpolate_polygon([0, 1], p1, p2)\n",
    "print(list(interpolated.boundary.coords))\n",
    "print(p1.bounds)\n",
    "print(p2.bounds)\n",
    "print(interpolated.bounds)\n",
    "print(p1.area)\n",
    "print(p2.area)\n",
    "print(interpolated.area)\n",
    "print(p1.centroid)\n",
    "print(p2.centroid)\n",
    "print(interpolated.centroid)\n",
    "p1 - interpolated"
   ]
  },
  {
   "cell_type": "code",
   "execution_count": 11,
   "metadata": {},
   "outputs": [
    {
     "data": {
      "image/svg+xml": [
       "<svg xmlns=\"http://www.w3.org/2000/svg\" xmlns:xlink=\"http://www.w3.org/1999/xlink\" width=\"100.0\" height=\"100.0\" viewBox=\"0.46 0.46 1.08 1.08\" preserveAspectRatio=\"xMinYMin meet\"><g transform=\"matrix(1,0,0,-1,0,2.0)\"><path fill-rule=\"evenodd\" fill=\"#66cc99\" stroke=\"#555555\" stroke-width=\"0.0216\" opacity=\"0.6\" d=\"M 0.5,1.5 L 1.5,1.5 L 1.5,0.5 L 1.0,0.5 L 1.0,1.0 L 0.5,1.0 L 0.5,1.5 z\" /></g></svg>"
      ],
      "text/plain": [
       "<POLYGON Z ((0.5 1.5 0.5, 1.5 1.5 0.5, 1.5 0.5 0.5, 1 0.5 0.5, 1 1 0.5, 0.5 ...>"
      ]
     },
     "execution_count": 11,
     "metadata": {},
     "output_type": "execute_result"
    }
   ],
   "source": [
    "p2 - interpolated"
   ]
  },
  {
   "cell_type": "code",
   "execution_count": 12,
   "metadata": {},
   "outputs": [
    {
     "data": {
      "image/svg+xml": [
       "<svg xmlns=\"http://www.w3.org/2000/svg\" xmlns:xlink=\"http://www.w3.org/1999/xlink\" width=\"100.0\" height=\"100.0\" viewBox=\"-0.54 -0.3286751345948129 1.08 0.9460254037844388\" preserveAspectRatio=\"xMinYMin meet\"><g transform=\"matrix(1,0,0,-1,0,0.288675134594813)\"><path fill-rule=\"evenodd\" fill=\"#66cc99\" stroke=\"#555555\" stroke-width=\"0.0216\" opacity=\"0.6\" d=\"M 0.0,0.5773502691896258 L -0.5,-0.2886751345948129 L 0.5,-0.2886751345948129 L 0.0,0.5773502691896258 z\" /></g></svg>"
      ],
      "text/plain": [
       "<POLYGON ((0 0.577, -0.5 -0.289, 0.5 -0.289, 0 0.577))>"
      ]
     },
     "execution_count": 12,
     "metadata": {},
     "output_type": "execute_result"
    }
   ],
   "source": [
    "triangle = Polygon([\n",
    "    (0, 1 / (3**0.5)),  # Top vertex\n",
    "    (-0.5, -1 / (2 * (3**0.5))),  # Bottom-left vertex\n",
    "    (0.5, -1 / (2 * (3**0.5)))  # Bottom-right vertex\n",
    "    ])\n",
    "triangle"
   ]
  },
  {
   "cell_type": "code",
   "execution_count": 13,
   "metadata": {},
   "outputs": [
    {
     "data": {
      "image/svg+xml": [
       "<svg xmlns=\"http://www.w3.org/2000/svg\" xmlns:xlink=\"http://www.w3.org/1999/xlink\" width=\"100.0\" height=\"100.0\" viewBox=\"-0.4468853235154258 -0.596314568876768 1.043199892392194 1.043199892392194\" preserveAspectRatio=\"xMinYMin meet\"><g transform=\"matrix(1,0,0,-1,0,-0.14942924536134222)\"><path fill-rule=\"evenodd\" fill=\"#66cc99\" stroke=\"#555555\" stroke-width=\"0.020863997847843877\" opacity=\"0.6\" d=\"M -0.4082482904638631,0.4082482904638631 L -0.14942924536134225,-0.5576775358252053 L 0.5576775358252053,0.14942924536134225 L -0.4082482904638631,0.4082482904638631 z\" /></g></svg>"
      ],
      "text/plain": [
       "<POLYGON ((-0.408 0.408, -0.149 -0.558, 0.558 0.149, -0.408 0.408))>"
      ]
     },
     "execution_count": 13,
     "metadata": {},
     "output_type": "execute_result"
    }
   ],
   "source": [
    "shapely.affinity.rotate(triangle, angle=45, origin='centroid')"
   ]
  },
  {
   "cell_type": "code",
   "execution_count": 14,
   "metadata": {},
   "outputs": [
    {
     "data": {
      "image/svg+xml": [
       "<svg xmlns=\"http://www.w3.org/2000/svg\" xmlns:xlink=\"http://www.w3.org/1999/xlink\" width=\"100.0\" height=\"100.0\" viewBox=\"-0.6173502691896259 -0.54 0.9460254037844388 1.08\" preserveAspectRatio=\"xMinYMin meet\"><g transform=\"matrix(1,0,0,-1,0,0.0)\"><path fill-rule=\"evenodd\" fill=\"#66cc99\" stroke=\"#555555\" stroke-width=\"0.0216\" opacity=\"0.6\" d=\"M -0.5773502691896258,0.0 L 0.2886751345948129,-0.5 L 0.2886751345948129,0.5 L -0.5773502691896258,0.0 z\" /></g></svg>"
      ],
      "text/plain": [
       "<POLYGON ((-0.577 0, 0.289 -0.5, 0.289 0.5, -0.577 0))>"
      ]
     },
     "execution_count": 14,
     "metadata": {},
     "output_type": "execute_result"
    }
   ],
   "source": [
    "shapely.affinity.rotate(triangle, angle=90, origin='centroid')"
   ]
  },
  {
   "cell_type": "code",
   "execution_count": 15,
   "metadata": {},
   "outputs": [
    {
     "data": {
      "image/svg+xml": [
       "<svg xmlns=\"http://www.w3.org/2000/svg\" xmlns:xlink=\"http://www.w3.org/1999/xlink\" width=\"100.0\" height=\"100.0\" viewBox=\"-0.54 -0.3286751345948129 1.08 0.9460254037844388\" preserveAspectRatio=\"xMinYMin meet\"><g transform=\"matrix(1,0,0,-1,0,0.288675134594813)\"><g><path fill-rule=\"evenodd\" fill=\"#66cc99\" stroke=\"#555555\" stroke-width=\"0.0216\" opacity=\"0.6\" d=\"M 0.0,0.5773502691896258 L 0.16666666666666669,0.28867513459481287 L -0.16666666666666669,0.2886751345948129 L 0.0,0.5773502691896258 z\" /><path fill-rule=\"evenodd\" fill=\"#66cc99\" stroke=\"#555555\" stroke-width=\"0.0216\" opacity=\"0.6\" d=\"M -0.5,-0.2886751345948129 L -0.3333333333333333,2.7755575615628914e-17 L -0.16666666666666663,-0.2886751345948129 L -0.5,-0.2886751345948129 z\" /><path fill-rule=\"evenodd\" fill=\"#66cc99\" stroke=\"#555555\" stroke-width=\"0.0216\" opacity=\"0.6\" d=\"M 0.5,-0.2886751345948129 L 0.16666666666666663,-0.2886751345948129 L 0.33333333333333337,-7.437084071668732e-18 L 0.5,-0.2886751345948129 z\" /></g></g></svg>"
      ],
      "text/plain": [
       "<MULTIPOLYGON (((0 0.577, 0.167 0.289, -0.167 0.289, 0 0.577)), ((-0.5 -0.28...>"
      ]
     },
     "execution_count": 15,
     "metadata": {},
     "output_type": "execute_result"
    }
   ],
   "source": [
    "p1 = triangle\n",
    "p2 = shapely.affinity.rotate(triangle, angle=60, origin='centroid')\n",
    "p1-p2"
   ]
  },
  {
   "cell_type": "code",
   "execution_count": 16,
   "metadata": {},
   "outputs": [
    {
     "data": {
      "image/svg+xml": [
       "<svg xmlns=\"http://www.w3.org/2000/svg\" xmlns:xlink=\"http://www.w3.org/1999/xlink\" width=\"100.0\" height=\"100.0\" viewBox=\"-0.5461880215351701 -0.6235382907247958 1.0923760430703402 1.2470765814495919\" preserveAspectRatio=\"xMinYMin meet\"><g transform=\"matrix(1,0,0,-1,0,1.1102230246251565e-16)\"><path fill-rule=\"evenodd\" fill=\"#66cc99\" stroke=\"#555555\" stroke-width=\"0.024941531628991837\" opacity=\"0.6\" d=\"M 0.0,0.5773502691896258 L 0.16666666666666669,0.28867513459481287 L 0.5,0.2886751345948128 L 0.33333333333333337,-7.437084071668732e-18 L 0.5,-0.2886751345948129 L 0.16666666666666663,-0.2886751345948129 L -5.551115123125783e-17,-0.5773502691896257 L -0.16666666666666663,-0.2886751345948129 L -0.5,-0.2886751345948129 L -0.3333333333333333,2.7755575615628914e-17 L -0.5,0.288675134594813 L -0.16666666666666669,0.2886751345948129 L 0.0,0.5773502691896258 z\" /></g></svg>"
      ],
      "text/plain": [
       "<POLYGON ((0 0.577, 0.167 0.289, 0.5 0.289, 0.333 0, 0.5 -0.289, 0.167 -0.28...>"
      ]
     },
     "execution_count": 16,
     "metadata": {},
     "output_type": "execute_result"
    }
   ],
   "source": [
    "m = shapely.union(p1, p2)\n",
    "m"
   ]
  },
  {
   "cell_type": "code",
   "execution_count": 17,
   "metadata": {},
   "outputs": [
    {
     "name": "stdout",
     "output_type": "stream",
     "text": [
      "POINT (0 0)\n",
      "POINT (0 0)\n"
     ]
    }
   ],
   "source": [
    "print(p1.centroid)\n",
    "print(p2.centroid)"
   ]
  },
  {
   "cell_type": "code",
   "execution_count": 18,
   "metadata": {},
   "outputs": [],
   "source": [
    "interpolated = interpolate_polygon([0, 1], p1, p2)\n"
   ]
  },
  {
   "cell_type": "code",
   "execution_count": 19,
   "metadata": {},
   "outputs": [
    {
     "data": {
      "image/svg+xml": [
       "<svg xmlns=\"http://www.w3.org/2000/svg\" xmlns:xlink=\"http://www.w3.org/1999/xlink\" width=\"100.0\" height=\"100.0\" viewBox=\"-0.5461880215351701 -0.6235382907247958 1.0923760430703402 1.2470765814495919\" preserveAspectRatio=\"xMinYMin meet\"><g transform=\"matrix(1,0,0,-1,0,1.1102230246251565e-16)\"><path fill-rule=\"evenodd\" fill=\"#66cc99\" stroke=\"#555555\" stroke-width=\"0.024941531628991837\" opacity=\"0.6\" d=\"M 0.16666666666666669,0.28867513459481287 L 0.5,0.2886751345948128 L 0.33333333333333337,-7.437084071668732e-18 L 0.5,-0.2886751345948129 L 0.16666666666666663,-0.2886751345948129 L -5.551115123125783e-17,-0.5773502691896257 L -0.16666666666666663,-0.2886751345948129 L -0.5,-0.2886751345948129 L -0.3333333333333333,2.7755575615628914e-17 L -0.5,0.288675134594813 L -0.16666666666666669,0.2886751345948129 L 0.0,0.5773502691896258 L 0.16666666666666669,0.28867513459481287 z M -0.375,-0.2165063509461097 L 0.375,-0.2165063509461097 L -5.551115123125783e-17,0.4330127018922194 L -0.375,-0.2165063509461097 z\" /></g></svg>"
      ],
      "text/plain": [
       "<POLYGON Z ((0.167 0.289 0.5, 0.5 0.289 0.5, 0.333 0 0.5, 0.5 -0.289 0.5, 0....>"
      ]
     },
     "execution_count": 19,
     "metadata": {},
     "output_type": "execute_result"
    }
   ],
   "source": [
    "m - interpolated"
   ]
  },
  {
   "cell_type": "code",
   "execution_count": 20,
   "metadata": {},
   "outputs": [],
   "source": [
    "aligned_poly1, aligned_poly2 = align_polygons(p1, p2)"
   ]
  },
  {
   "cell_type": "code",
   "execution_count": 21,
   "metadata": {},
   "outputs": [
    {
     "data": {
      "image/svg+xml": [
       "<svg xmlns=\"http://www.w3.org/2000/svg\" xmlns:xlink=\"http://www.w3.org/1999/xlink\" width=\"100.0\" height=\"100.0\" viewBox=\"-0.5461880215351701 -0.6235382907247959 1.0923760430703402 1.2470765814495919\" preserveAspectRatio=\"xMinYMin meet\"><g transform=\"matrix(1,0,0,-1,0,0.0)\"><path fill-rule=\"evenodd\" fill=\"#66cc99\" stroke=\"#555555\" stroke-width=\"0.024941531628991837\" opacity=\"0.6\" d=\"M 0.0,0.5773502691896258 L 0.16666666666666663,0.2886751345948129 L 0.5,0.28867513459481287 L 0.33333333333333337,-1.1730886562432548e-17 L 0.5,-0.2886751345948129 L 0.16666666666666666,-0.2886751345948129 L -5.551115123125783e-17,-0.5773502691896258 L -0.16666666666666669,-0.2886751345948129 L -0.5,-0.2886751345948129 L -0.3333333333333333,2.718031516069947e-17 L -0.5,0.2886751345948131 L -0.1666666666666666,0.28867513459481303 L 0.0,0.5773502691896258 z\" /></g></svg>"
      ],
      "text/plain": [
       "<POLYGON ((0 0.577, 0.167 0.289, 0.5 0.289, 0.333 0, 0.5 -0.289, 0.167 -0.28...>"
      ]
     },
     "execution_count": 21,
     "metadata": {},
     "output_type": "execute_result"
    }
   ],
   "source": [
    "m = shapely.union(aligned_poly1, aligned_poly2)\n",
    "m"
   ]
  },
  {
   "cell_type": "code",
   "execution_count": 22,
   "metadata": {},
   "outputs": [],
   "source": [
    "boundary1 = aligned_poly1.exterior\n",
    "boundary2 = aligned_poly2.exterior"
   ]
  },
  {
   "cell_type": "code",
   "execution_count": 23,
   "metadata": {},
   "outputs": [
    {
     "data": {
      "text/plain": [
       "[(0.0, 0.5773502691896258),\n",
       " (-0.5, -0.2886751345948129),\n",
       " (0.5, -0.2886751345948129),\n",
       " (0.0, 0.5773502691896258)]"
      ]
     },
     "execution_count": 23,
     "metadata": {},
     "output_type": "execute_result"
    }
   ],
   "source": [
    "list(boundary1.coords)"
   ]
  },
  {
   "cell_type": "code",
   "execution_count": 24,
   "metadata": {},
   "outputs": [
    {
     "data": {
      "text/plain": [
       "[(-0.5, 0.2886751345948131),\n",
       " (-5.551115123125783e-17, -0.5773502691896258),\n",
       " (0.5, 0.28867513459481287),\n",
       " (-0.5, 0.2886751345948131)]"
      ]
     },
     "execution_count": 24,
     "metadata": {},
     "output_type": "execute_result"
    }
   ],
   "source": [
    "list(boundary2.coords)"
   ]
  },
  {
   "cell_type": "code",
   "execution_count": 25,
   "metadata": {},
   "outputs": [
    {
     "data": {
      "text/plain": [
       "[(0.0, 0.5773502691896258), (-1.1102230246251565e-16, 0.288675134594813)]"
      ]
     },
     "execution_count": 25,
     "metadata": {},
     "output_type": "execute_result"
    }
   ],
   "source": [
    "crd = boundary1.coords[0]\n",
    "ln = shapely.shortest_line(shapely.Point(crd), boundary2)\n",
    "list(ln.coords)"
   ]
  },
  {
   "cell_type": "code",
   "execution_count": 26,
   "metadata": {},
   "outputs": [
    {
     "data": {
      "image/svg+xml": [
       "<svg xmlns=\"http://www.w3.org/2000/svg\" xmlns:xlink=\"http://www.w3.org/1999/xlink\" width=\"100.0\" height=\"100.0\" viewBox=\"-0.5461880215351701 -0.6235382907247959 1.0923760430703402 1.2470765814495919\" preserveAspectRatio=\"xMinYMin meet\"><g transform=\"matrix(1,0,0,-1,0,0.0)\"><g><polyline fill=\"none\" stroke=\"#66cc99\" stroke-width=\"0.024941531628991837\" points=\"0.0,0.5773502691896258 -0.1666666666666666,0.28867513459481303\" opacity=\"0.8\" /><polyline fill=\"none\" stroke=\"#66cc99\" stroke-width=\"0.024941531628991837\" points=\"-0.1666666666666666,0.28867513459481303 -0.3333333333333333,2.718031516069947e-17\" opacity=\"0.8\" /><polyline fill=\"none\" stroke=\"#66cc99\" stroke-width=\"0.024941531628991837\" points=\"-0.3333333333333333,2.718031516069947e-17 -0.5,-0.2886751345948129\" opacity=\"0.8\" /><polyline fill=\"none\" stroke=\"#66cc99\" stroke-width=\"0.024941531628991837\" points=\"-0.5,-0.2886751345948129 -0.16666666666666669,-0.2886751345948129\" opacity=\"0.8\" /><polyline fill=\"none\" stroke=\"#66cc99\" stroke-width=\"0.024941531628991837\" points=\"-0.16666666666666669,-0.2886751345948129 0.16666666666666666,-0.2886751345948129\" opacity=\"0.8\" /><polyline fill=\"none\" stroke=\"#66cc99\" stroke-width=\"0.024941531628991837\" points=\"0.16666666666666666,-0.2886751345948129 0.5,-0.2886751345948129\" opacity=\"0.8\" /><polyline fill=\"none\" stroke=\"#66cc99\" stroke-width=\"0.024941531628991837\" points=\"0.5,-0.2886751345948129 0.33333333333333337,-1.1730886562432548e-17\" opacity=\"0.8\" /><polyline fill=\"none\" stroke=\"#66cc99\" stroke-width=\"0.024941531628991837\" points=\"0.33333333333333337,-1.1730886562432548e-17 0.16666666666666663,0.2886751345948129\" opacity=\"0.8\" /><polyline fill=\"none\" stroke=\"#66cc99\" stroke-width=\"0.024941531628991837\" points=\"0.16666666666666663,0.2886751345948129 0.0,0.5773502691896258\" opacity=\"0.8\" /><polyline fill=\"none\" stroke=\"#66cc99\" stroke-width=\"0.024941531628991837\" points=\"-0.5,0.2886751345948131 -0.3333333333333333,2.718031516069947e-17\" opacity=\"0.8\" /><polyline fill=\"none\" stroke=\"#66cc99\" stroke-width=\"0.024941531628991837\" points=\"-0.3333333333333333,2.718031516069947e-17 -0.16666666666666669,-0.2886751345948129\" opacity=\"0.8\" /><polyline fill=\"none\" stroke=\"#66cc99\" stroke-width=\"0.024941531628991837\" points=\"-0.16666666666666669,-0.2886751345948129 -5.551115123125783e-17,-0.5773502691896258 0.16666666666666666,-0.2886751345948129\" opacity=\"0.8\" /><polyline fill=\"none\" stroke=\"#66cc99\" stroke-width=\"0.024941531628991837\" points=\"0.16666666666666666,-0.2886751345948129 0.24999999999999997,-0.1443375672974065\" opacity=\"0.8\" /><polyline fill=\"none\" stroke=\"#66cc99\" stroke-width=\"0.024941531628991837\" points=\"0.24999999999999997,-0.1443375672974065 0.33333333333333337,-1.1730886562432548e-17\" opacity=\"0.8\" /><polyline fill=\"none\" stroke=\"#66cc99\" stroke-width=\"0.024941531628991837\" points=\"0.33333333333333337,-1.1730886562432548e-17 0.5,0.28867513459481287 0.16666666666666663,0.2886751345948129\" opacity=\"0.8\" /><polyline fill=\"none\" stroke=\"#66cc99\" stroke-width=\"0.024941531628991837\" points=\"0.16666666666666663,0.2886751345948129 -1.1102230246251565e-16,0.288675134594813\" opacity=\"0.8\" /><polyline fill=\"none\" stroke=\"#66cc99\" stroke-width=\"0.024941531628991837\" points=\"-1.1102230246251565e-16,0.288675134594813 -0.1666666666666666,0.28867513459481303\" opacity=\"0.8\" /><polyline fill=\"none\" stroke=\"#66cc99\" stroke-width=\"0.024941531628991837\" points=\"-0.1666666666666666,0.28867513459481303 -0.5,0.2886751345948131\" opacity=\"0.8\" /><polyline fill=\"none\" stroke=\"#66cc99\" stroke-width=\"0.024941531628991837\" points=\"0.0,0.5773502691896258 -1.1102230246251565e-16,0.288675134594813\" opacity=\"0.8\" /><polyline fill=\"none\" stroke=\"#66cc99\" stroke-width=\"0.024941531628991837\" points=\"-0.5,-0.2886751345948129 -0.25,-0.1443375672974065\" opacity=\"0.8\" /><polyline fill=\"none\" stroke=\"#66cc99\" stroke-width=\"0.024941531628991837\" points=\"0.5,-0.2886751345948129 0.24999999999999997,-0.1443375672974065\" opacity=\"0.8\" /><polyline fill=\"none\" stroke=\"#66cc99\" stroke-width=\"0.024941531628991837\" points=\"0.24999999999999997,-0.1443375672974065 0.24999999999999994,-0.1443375672974065\" opacity=\"0.8\" /></g></g></svg>"
      ],
      "text/plain": [
       "<MULTILINESTRING ((0 0.577, -0.167 0.289), (-0.167 0.289, -0.333 0), (-0.333...>"
      ]
     },
     "execution_count": 26,
     "metadata": {},
     "output_type": "execute_result"
    }
   ],
   "source": [
    "match_lines = []\n",
    "for crd in boundary1.coords:\n",
    "    ln = shapely.shortest_line(shapely.Point(crd), boundary2)\n",
    "    match_lines.append(ln)\n",
    "\n",
    "all_shapes = [boundary1, boundary2] + match_lines\n",
    "m = shapely.union_all(all_shapes)\n",
    "m"
   ]
  },
  {
   "cell_type": "markdown",
   "metadata": {},
   "source": [
    "# Ideas from DeepSeek"
   ]
  },
  {
   "cell_type": "markdown",
   "metadata": {},
   "source": [
    "**I have two polygons which represent axial cut-planes a specified distance apart through a 3D volume. I wish to generate an interpolated polygon half way between them. What is the best approach to use?**"
   ]
  },
  {
   "cell_type": "markdown",
   "metadata": {},
   "source": [
    "Okay, so I need to figure out how to interpolate a polygon halfway between two existing polygons that are axial cut-planes through a 3D volume. Let me start by understanding the problem better.\n",
    "\n",
    "First, these two polygons are slices taken at different positions along some axis, right? Let's say they're parallel to each other since they're axial cut-planes. The user wants a polygon that's halfway between them, probably in terms of position and shape. So interpolation here would mean creating a new polygon that's an average of the two original ones in some way.\n",
    "\n",
    "But wait, polygons can be complex. They might not have the same number of vertices, and their shapes could differ. If the two original polygons are similar in shape and vertex count, interpolation might be straightforward. But if they're different, like one is a square and the other is a triangle, how do you interpolate between them? The user didn't specify whether the polygons are corresponding in structure, so I need to consider a general approach.\n",
    "\n",
    "Hmm, maybe the first step is to ensure that both polygons have the same number of vertices. If they don't, I might need to resample one or both polygons to have matching vertex counts. For example, if one polygon has 4 vertices and the other has 5, I could add a vertex along a side of the 4-sided polygon to make it 5. But how to decide where to add the vertex? Maybe by parameterizing the perimeter and inserting points at appropriate intervals.\n"
   ]
  },
  {
   "cell_type": "markdown",
   "metadata": {},
   "source": [
    "Another approach is to use shape interpolation techniques. I remember that morphing between two shapes often involves establishing correspondences between points on the source and target shapes. If the polygons are not aligned or have different topologies, establishing these correspondences is crucial. But how to do that automatically?\n"
   ]
  },
  {
   "cell_type": "markdown",
   "metadata": {},
   "source": [
    "Alternatively, maybe the problem assumes that the two polygons are aligned along the same axis and are cross-sections of a 3D volume. In medical imaging, for example, when you have slices of an organ, you might interpolate between them to create intermediate slices. In such cases, the shapes might be similar but not identical. Techniques used there might include shape-based interpolation or image-based interpolation.\n"
   ]
  },
  {
   "cell_type": "markdown",
   "metadata": {},
   "source": [
    "Wait, the user mentioned \"*axial cut-planes a specified distance apart through a 3D volume*.\" So perhaps these are cross-sectional slices, like in medical imaging or geological layers. The goal is to create an intermediate slice halfway between them. In such contexts, common methods include shape-based interpolation, where corresponding points between the two slices are determined, and then their positions are averaged.\n",
    "\n",
    "But how do you handle different numbers of points? Let me think. Suppose Polygon $A$ has $N$ vertices and Polygon $B$ has $M$ vertices. To interpolate, you might need to resample both polygons to have the same number of vertices. For example, you can interpolate each polygon into $K$ points, where $K$ is the least common multiple of $N$ and $M$, or just choose a common number based on some criteria.\n"
   ]
  },
  {
   "cell_type": "markdown",
   "metadata": {},
   "source": [
    "Alternatively, you can parameterize each polygon by their arc length. For each polygon, you can create a parameterization where each vertex is assigned a value between 0 and 1 based on its position along the perimeter. Then, you can resample both polygons to have the same number of points at corresponding parameter positions. For instance, if you choose $K$ points for both, each point at position $\\frac{i}{K}$ along the perimeter. This way, even if the original polygons have different vertex counts, the resampled ones will have the same number, allowing for linear interpolation between corresponding points.\n"
   ]
  },
  {
   "cell_type": "markdown",
   "metadata": {},
   "source": [
    "But this assumes that the polygons are parameterized in a compatible way. If one polygon is, say, a square and the other is a circle, just resampling them to the same number of points won't necessarily align corresponding features. So maybe correspondence is an issue here. The user didn't mention anything about correspondence, so perhaps the polygons are already aligned in some way, maybe as adjacent slices in a volume where features change gradually.\n",
    "\n",
    "In that case, shape-based interpolation methods might work. One such method is to create a correspondence between the two polygons by finding a way to match vertices or points along their perimeters. This could be done by finding a common parameterization, like aligning the starting points and then matching points based on equal arc length fractions.\n",
    "\n",
    "Once correspondence is established, linear interpolation of vertex positions would give the intermediate polygon. For example, if a vertex in Polygon $A$ is at $(x1, y1)$ and the corresponding vertex in Polygon $B$ is at $(x2, y2)$, the interpolated vertex would be at $((x1+x2)/2, (y1+y2)/2)$ if halfway.\n"
   ]
  },
  {
   "cell_type": "markdown",
   "metadata": {},
   "source": [
    "But if the polygons are not convex, or have different topologies, this might not work. Another approach is to convert the polygons into implicit representations, like signed distance functions, and then interpolate those. For each polygon, compute a signed distance field on a grid, then average the two distance fields, and extract the zero level set as the interpolated polygon. This is more robust to topology changes and varying vertex counts but requires discretization and computational resources.\n",
    "\n",
    "Alternatively, using the sweep or lofting operation, where you create a surface that transitions from one polygon to the other. The halfway polygon would be the cross-section of this lofted surface at the midpoint. However, lofting typically requires correspondence as well.\n",
    "\n",
    "Another method is linear interpolation between corresponding points, but correspondence needs to be determined. If the polygons are slices of a 3D volume, perhaps there's a natural correspondence based on the structure of the volume. For instance, in voxel data, interpolating slices can be done via image interpolation, but here it's polygons, which are vector data."
   ]
  },
  {
   "cell_type": "markdown",
   "metadata": {},
   "source": [
    "Wait, maybe the best approach is to use the shape-based interpolation method as follows:\n",
    "\n",
    "1. Resample both polygons to have the same number of points, uniformly distributed along their perimeters.\n",
    "\n",
    "2. Align the polygons by finding a starting point correspondence (e.g., by minimizing some distance).\n",
    "\n",
    "3. Interpolate each pair of corresponding points linearly.\n",
    "\n",
    "But step 2 is crucial. If the starting points are not aligned, the interpolation might twist. For example, imagine two squares rotated relative to each other; interpolating vertex-wise without alignment would cause the intermediate square to twist. So, to avoid that, we need to find the optimal starting point alignment.\n"
   ]
  },
  {
   "cell_type": "markdown",
   "metadata": {},
   "source": [
    "Alternatively, using dynamic time warping or some method to non-rigidly align the points. But that might be complex.\n"
   ]
  },
  {
   "cell_type": "markdown",
   "metadata": {},
   "source": [
    "Another approach is to convert the polygons into a radial representation, where each point is represented by an angle and a radius from the centroid. Then, interpolating the radii at corresponding angles. But this works best for star-shaped polygons where the centroid is inside, and every radius from centroid intersects the polygon once.\n"
   ]
  },
  {
   "cell_type": "markdown",
   "metadata": {},
   "source": [
    "Alternatively, using the Skeletal Animation approach, where you create a skeleton or medial axis between the two polygons and interpolate based on that. But that seems complicated.\n"
   ]
  },
  {
   "cell_type": "markdown",
   "metadata": {},
   "source": [
    "Wait, the problem states that the polygons are \"axial cut-planes\" a specified distance apart. So maybe they are orthogonal to some axis, say the z-axis, and separated along z. So their x and y coordinates are in planes perpendicular to z. Then, the halfway polygon would be in the plane halfway along z between them.\n",
    "\n",
    "In such a case, the problem reduces to interpolating the shapes in the x-y plane between the two z-positions. If the volume between the two planes is continuous, then the interpolation should represent the halfway cross-section.\n",
    "\n",
    "In medical imaging, slice interpolation is a common problem. Methods include:\n",
    "\n",
    "- Nearest neighbor: just copy the nearest slice, but that's not interpolation.\n",
    "\n",
    "- Linear interpolation: for each pixel, interpolate between the two slices. But for vector polygons, this is more complex.\n",
    "\n",
    "- Shape-based interpolation: align the two shapes, establish correspondence, interpolate vertices.\n",
    "\n",
    "So for polygons, shape-based interpolation is likely the way to go. The steps would be:\n",
    "\n",
    "1. Resample both polygons to have the same number of vertices, uniformly along their perimeters.\n",
    "\n",
    "2. Align the polygons (rotation, starting point) to minimize distortion.\n",
    "\n",
    "3. Interpolate corresponding vertices linearly.\n",
    "\n",
    "But how to do the resampling and alignment?\n",
    "First, resampling: to resample a polygon with $N$ vertices into $K$ points, you can parameterize the polygon by its arc length. For each edge, compute its length, sum to get total perimeter. Then, for each resampled point, step around the perimeter by a fixed distance $(total\\ perimeter / K)$ and find the corresponding position on the edges.\n",
    "\n",
    "For example, if the original polygon has vertices $V_0, V_1, ..., V_{n-1}$, with edges between $V_i$ and $V_{i+1}$. Compute the cumulative perimeter distances, then for each of the $K$ new points, find which edge they land on and compute the position via linear interpolation along that edge.\n",
    "\n",
    "Once both polygons are resampled to $K$ points, the next step is to align them. The starting point can affect the correspondence. For instance, if one polygon's first vertex is at angle 0 degrees, and the other's is at 90 degrees, interpolating without adjusting the starting point would cause rotation. To align, you might need to find the optimal starting index for one polygon to minimize the total distance when compared to the other.\n",
    "\n",
    "This is similar to the problem of phase correlation in signal processing. For two polygons, you can compute the cross-correlation between their vertex sequences as you rotate one polygon relative to the other and choose the rotation (starting index) that gives the maximum correlation or minimum difference.\n"
   ]
  },
  {
   "cell_type": "markdown",
   "metadata": {},
   "source": [
    "Alternatively, you can use the Procrustes analysis to align the two polygons. Procrustes analysis involves translating, rotating, and scaling one shape to match another as closely as possible. However, since the polygons are in different planes along the axial direction, scaling might not be necessary, but rotation in the plane (around the axial axis) could be important.\n"
   ]
  },
  {
   "cell_type": "markdown",
   "metadata": {},
   "source": [
    "But wait, the polygons are in parallel planes, so their coordinate systems should be aligned already. The only difference might be in-plane rotation. If the volume is such that the cross-sections don't rotate along the axis, then the in-plane rotation between the two polygons should be zero, and alignment is already handled. But if there is a rotation, then we need to correct for that.\n",
    "\n",
    "Assuming that the polygons are aligned in terms of rotation (no in-plane rotation between them), then the starting point alignment is the main issue. For example, if both are squares but one is starting at a vertex and the other starts at the midpoint of an edge, their resampled points would be misaligned. To fix this, you can circularly shift the vertex list of one polygon to minimize the sum of distances between corresponding vertices.\n",
    "\n",
    "But how to automate this? One method is to compute the distance for all possible circular shifts and choose the one with the minimum total distance. For example, if Polygon $A$ has vertices $[A0, A1, ..., An-1]$ and Polygon $B$ has $[B0, B1, ..., Bn-1]$, then for each shift $k (from 0 \\to n-1)$, compute the sum of distances between $A_i$ and $B(i+k mod n)$, and choose the $k$ that minimizes this sum.\n",
    "\n",
    "Once the optimal shift is found, you can align the vertices accordingly.\n",
    "\n",
    "After resampling and alignment, linear interpolation of each corresponding vertex pair would give the intermediate polygon.\n",
    "\n",
    "But let's outline the steps clearly:\n",
    "\n",
    "1. **Resample Polygons**: Ensure both polygons have the same number of vertices, uniformly distributed along their perimeters.\n",
    "\n",
    "    - Compute the total perimeter of each polygon.\n",
    "\n",
    "    - For each polygon, determine the positions of $K$ new vertices such that the distance along the perimeter between consecutive points is equal.\n",
    "\n",
    "    - This can be done by walking around the polygon edges, keeping track of cumulative distance, and inserting points when the cumulative distance passes each threshold.\n",
    "\n",
    "2. **Align Polygons**: Adjust the starting vertex and orientation (if necessary) to establish correspondence between the vertices of the two polygons.\n",
    "\n",
    "    - If the polygons are not rotationally aligned, perform Procrustes analysis to rotate one to match the other.\n",
    "\n",
    "    - Determine the optimal circular shift of vertices to minimize the total distance between corresponding points.\n",
    "\n",
    "3. **Interpolate Vertices**: For each pair of corresponding vertices from the two polygons, compute the midpoint (if halfway) to get the vertices of the interpolated polygon.\n",
    "\n",
    "4. **Construct the Interpolated Polygon**: Connect the interpolated vertices in order to form the new polygon.\n"
   ]
  },
  {
   "cell_type": "markdown",
   "metadata": {},
   "source": [
    "But wait, there's a potential issue with Step 2: if the polygons are non-convex or have different topologies, aligning them via circular shifts might not be sufficient. For example, one polygon might have a \"dent\" while the other doesn't, leading to incorrect correspondences. However, if the polygons are cross-sections of a smoothly varying 3D volume, their topologies should be the same, and the main challenge is establishing point correspondences.\n"
   ]
  },
  {
   "cell_type": "markdown",
   "metadata": {},
   "source": [
    "Another thing to consider is that the polygons might need to be simplified or have their vertices adjusted to prevent self-intersections in the interpolated polygon. Linear interpolation between corresponding points can sometimes result in the intermediate polygon crossing over itself, especially if the two original polygons are significantly different.\n"
   ]
  },
  {
   "cell_type": "markdown",
   "metadata": {},
   "source": [
    "Alternatively, instead of interpolating vertices, interpolating the entire polygon as a shape. For example, using morphing techniques that blend the shapes based on their enclosed areas. However, this might require rasterizing the polygons and interpolating the images, which is more of a voxel approach and loses the vector nature.\n"
   ]
  },
  {
   "cell_type": "markdown",
   "metadata": {},
   "source": [
    "But the user mentioned polygons, so a vector-based approach is likely preferred. Hence, vertex interpolation with resampling and alignment seems the way to go.\n"
   ]
  },
  {
   "cell_type": "markdown",
   "metadata": {},
   "source": [
    "Another consideration is the coordinate systems of the two polygons. Since they're axial cut-planes, they might be in parallel planes, say $z = z_1$ and $z = z_2$. The halfway plane would be $z = (z_1 + z_2)/2$. The question is about interpolating their shapes in this intermediate plane. So geometrically, we can consider the problem as creating a polygon in the intermediate plane that is a blend of the two original polygons.\n",
    "\n",
    "If the 3D volume between the two planes is known, perhaps the interpolation could be informed by the structure of the volume. However, the user hasn't provided information about the volume itself, only the two polygons. So we have to work solely with the two polygons.\n",
    "\n",
    "In summary, the steps I think are necessary are:\n",
    "\n",
    "1. Resample both polygons to have the same number of vertices.\n",
    "\n",
    "2. Align the vertices to establish correspondence (rotationally and starting point).\n",
    "\n",
    "3. Linearly interpolate the positions of corresponding vertices.\n",
    "\n",
    "4. Ensure the resulting polygon is valid (no self-intersections, closed, etc.).\n",
    "\n",
    "Now, let's think about the implementation. For resampling, let's say we choose $K$ points. How to choose $K$? It could be the maximum of the two vertex counts, or a user-defined value. Alternatively, $K$ can be determined based on the complexity of the polygons. For simplicity, let's take $K$ as the average of the two vertex counts, but to ensure it's the same for both.\n"
   ]
  },
  {
   "cell_type": "markdown",
   "metadata": {},
   "source": [
    "Wait, but if one polygon is simple and the other is complex, maybe $K$ should be sufficiently large to capture the details of both. Alternatively, using dynamic resampling where each polygon is resampled to a number of points proportional to their original perimeter. For example, if Polygon $A$ has a perimeter of $P_a$ and Polygon $B$ has $P_b$, then the number of points could be proportional, but that complicates things. Maybe just choosing a sufficiently large $K$ for both, say 100 points, to capture details.\n"
   ]
  },
  {
   "cell_type": "markdown",
   "metadata": {},
   "source": [
    "But maybe the user wants a general solution without fixed parameters. Hmm.\n"
   ]
  },
  {
   "cell_type": "markdown",
   "metadata": {},
   "source": [
    "Alternatively, using the same number of vertices as the original polygons. If they have the same number, then resampling isn't needed. But if they differ, then resampling is necessary. So first, check if the polygons have the same number of vertices. If not, resample them to the same count.\n",
    "\n",
    "But even if they have the same count, the vertices might not correspond. For example, two squares with vertices ordered differently (e.g., starting at different corners). So alignment is still needed.\n",
    "\n",
    "So regardless of original vertex count, resampling to a common number and aligning is necessary.\n",
    "\n",
    "Let me look up some existing methods.\n"
   ]
  },
  {
   "cell_type": "markdown",
   "metadata": {},
   "source": [
    "Upon recalling, shape interpolation (or morphing) often uses these steps: correspondence, interpolation, and sometimes blending. For 2D polygons, a common approach is the *\"as-similar-as-possible\"* interpolation, which tries to preserve local shapes during interpolation. But that might be more complex.\n"
   ]
  },
  {
   "cell_type": "markdown",
   "metadata": {},
   "source": [
    "Alternatively, the linear interpolation approach, assuming correspondence is established, is straightforward.\n"
   ]
  },
  {
   "cell_type": "markdown",
   "metadata": {},
   "source": [
    "Another method is to use the barycentric coordinates or some other coordinate system to interpolate points. But that requires a common domain.\n"
   ]
  },
  {
   "cell_type": "markdown",
   "metadata": {},
   "source": [
    "Wait, another approach could be to compute the average of the two polygons' areas. If the polygons are convex, the Minkowski average could be used. The Minkowski sum of two sets $A$ and $B$ is $A + B = {a + b | a ∈ A, b ∈ B}$, and scaling by $0.5$ would give the average. However, the Minkowski average of two polygons is not necessarily a polygon with the same number of vertices, and computing it might be complex.\n"
   ]
  },
  {
   "cell_type": "markdown",
   "metadata": {},
   "source": [
    "Alternatively, using the convolution of the two polygons, but that's more an image processing approach.\n"
   ]
  },
  {
   "cell_type": "markdown",
   "metadata": {},
   "source": [
    "Alternatively, think of each polygon as a set of points and compute a 2D morph. But again, this is vague.\n"
   ]
  },
  {
   "cell_type": "markdown",
   "metadata": {},
   "source": [
    "Wait, perhaps the simplest method that could work is:\n",
    "\n",
    "1. For each polygon, create a dense set of points along their perimeter (resample to a high number of points, say 1000).\n",
    "\n",
    "2. Compute the centroid of each polygon.\n",
    "\n",
    "3. For each polygon, create a list of points as vectors from the centroid, sorted by their angle.\n",
    "\n",
    "4. Interpolate corresponding points (by angle) between the two polygons.\n",
    "\n",
    "But this assumes that the polygons are star-shaped with respect to their centroids, so that every angle from the centroid has exactly one intersection with the polygon. If the polygons are not star-shaped, this method could fail because a single angle might correspond to multiple radii.\n",
    "\n",
    "However, if the original polygons are cross-sections of a volume, they might be convex or at least star-shaped, making this feasible.\n",
    "\n",
    "If that's the case, then steps would be:\n",
    "\n",
    "1. Find the centroid of each polygon.\n",
    "\n",
    "2. For each polygon, convert to polar coordinates (angle, radius) relative to the centroid.\n",
    "\n",
    "3. Resample both polygons at the same set of angles (e.g., every 1 degree), interpolating the radius at each angle.\n",
    "\n",
    "4. For the intermediate polygon, take the average radius at each angle and convert back to Cartesian coordinates.\n",
    "\n",
    "But this requires that both polygons are star-shaped with respect to their centroids. If they have indentations or are non-star-shaped, some angles will have multiple radii, complicating the process.\n"
   ]
  },
  {
   "cell_type": "markdown",
   "metadata": {},
   "source": [
    "Alternatively, using a reference direction (e.g., the x-axis) and, for each polygon, finding the intersection points with a ray from the centroid at angle θ, for many θs. Then interpolate the radii.\n",
    "\n",
    "But again, this works best for star-shaped polygons.\n",
    "\n",
    "Given that the problem is about cross-sections of a 3D volume, it's possible that the polygons are convex or at least star-shaped. So this might be a viable approach.\n"
   ]
  },
  {
   "cell_type": "markdown",
   "metadata": {},
   "source": [
    "Alternatively, the user might not know the star-shaped condition, so a more general method is needed.\n",
    "\n",
    "Another approach is to use spherical parameterization, but in 2D, which is more like a circular parameterization. By mapping both polygons to a unit circle, establishing correspondences, and interpolating.\n",
    "\n",
    "But that's getting into more complex geometry processing.\n"
   ]
  },
  {
   "cell_type": "markdown",
   "metadata": {},
   "source": [
    "Alternatively, using the method of Optimal Transport to find a correspondence between the two polygons' perimeters that minimizes the work needed to \"morph\" one into the other, then interpolate based on that.\n",
    "\n",
    "But Optimal Transport is computationally intensive and might be overkill.\n"
   ]
  },
  {
   "cell_type": "markdown",
   "metadata": {},
   "source": [
    "Perhaps the most practical method, given the problem statement, is:\n",
    "\n",
    "1. Resample both polygons to have the same number of points, uniformly along their perimeter.\n",
    "\n",
    "2. Align the polygons by rotating one to minimize the sum of squared distances between corresponding points.\n",
    "\n",
    "3. Interpolate each pair of corresponding points.\n",
    "\n",
    "Now, let's delve into each step.\n",
    "\n",
    "**Step 1: Resample Polygons**\n",
    "\n",
    "To resample a polygon to $K$ points, we can use the following algorithm:\n",
    "\n",
    "- Calculate the total perimeter length $P$ by summing the lengths of all edges.\n",
    "\n",
    "- The spacing between points will be $P / K$.\n",
    "\n",
    "- Initialize a current distance tracker to 0.\n",
    "\n",
    "- For each edge in the polygon:\n",
    "\n",
    "- While the $current\\ distance\\ tracker + length\\ of\\ the\\ edge >= next\\ sample\\ distance$:\n",
    "\n",
    "- Compute the position along the edge where the sample occurs.\n",
    "\n",
    "- Add this point to the resampled polygon.\n",
    "\n",
    "- Increment the sample distance by $P / K$.\n",
    "\n",
    "- Subtract the length of the edge from the current distance tracker if the edge is completely traversed.\n",
    "\n",
    "This will give $K$ points spaced evenly along the perimeter.\n",
    "\n",
    "**Step 2: Align Polygons**\n",
    "\n",
    "Assuming the polygons are in the same plane (since they are axial cut-planes, they should be parallel, so we can project them onto a 2D plane).\n",
    "\n",
    "To align the resampled polygons:\n",
    "\n",
    "- Compute the centroid of each polygon.\n",
    "\n",
    "- Translate both polygons so their centroids are at the origin.\n",
    "\n",
    "- **Compute the principal axis (using PCA) of each polygon to determine their orientation.**\n",
    "\n",
    "- Rotate one polygon so that its principal axis aligns with the other's.\n",
    "\n",
    "Alternatively, for each polygon, compute the angle of the first principal component and rotate it to a standard direction (e.g., the x-axis). This corrects for in-plane rotation.\n"
   ]
  },
  {
   "cell_type": "markdown",
   "metadata": {},
   "source": [
    "Alternatively, if the polygons are not rotated relative to each other (as per the problem's axial nature), then the only alignment needed is the starting point.\n",
    "\n",
    "To find the optimal starting point:\n",
    "\n",
    "- For one polygon, keep its vertex order fixed.\n",
    "\n",
    "- For the other polygon, try all possible circular shifts of its vertex list.\n",
    "\n",
    "- For each shift, compute the sum of squared distances between corresponding vertices.\n",
    "\n",
    "- Choose the shift with the minimum sum.\n",
    "\n",
    "This is $O(K^2)$, which might be acceptable for small $K$.\n",
    "\n",
    "**Step 3: Interpolate Vertices**\n",
    "\n",
    "Once corresponding vertices are established, interpolate each pair.\n",
    "\n",
    "For the midpoint, take the average of each coordinate.\n"
   ]
  },
  {
   "cell_type": "markdown",
   "metadata": {},
   "source": [
    "But since the polygons are in different planes along the axial direction, do we need to consider their positions in 3D? The problem states that the interpolated polygon is halfway between them. So if the original polygons are at $z = z_1$ and $z = z_2$, the new polygon should be at $z = (z_1 + z_2)/2$. The x and y coordinates are interpolated in their respective planes.\n",
    "\n",
    "Wait, hold on. If the two polygons are in parallel planes (say, both perpendicular to the z-axis), separated by a distance $D$ along $z$, then halfway between them would be a plane at $z = z_1 + D/2$ (assuming the first is at $z_1$ and the second at $z_1 + D$).\n",
    "\n",
    "But the polygons themselves are 2D shapes in their respective planes. The interpolation of their shapes in the intermediate plane would depend on how the 3D volume transitions between them.\n",
    "\n",
    "But since we only have the two polygons as input, we have to infer the shape in between based on them.\n",
    "\n",
    "In this case, the interpolation is purely based on the two input polygons, with no information about the volume in between. So the approach would be to create a shape that is a blend of the two input polygons, positioned halfway along the axial direction.\n",
    "\n",
    "Therefore, the steps would be:\n",
    "\n",
    "1. For each polygon, project their vertices into a common coordinate system. Since they are in parallel planes, we can ignore the axial $(z)$ coordinate and treat them as 2D shapes.\n",
    "\n",
    "2. Resample both polygons to have the same number of vertices, uniformly along their perimeters.\n",
    "\n",
    "3. Align the polygons by rotating and shifting the starting vertex to establish correspondence.\n",
    "\n",
    "4. Interpolate each pair of corresponding vertices' $x$ and $y$ coordinates (since $z$ is fixed as the midpoint).\n",
    "\n",
    "But if the polygons are in different scales, we might need to scale them as well. However, the problem statement mentions they are a specified distance apart through a 3D volume, which might imply that scaling isn't required, just positional interpolation.\n"
   ]
  },
  {
   "cell_type": "markdown",
   "metadata": {},
   "source": [
    "Wait, actually, if the volume's cross-section changes shape between the two planes, the halfway polygon should reflect the average shape. So scaling might be necessary if one polygon is larger than the other. But the problem doesn't mention scaling; it's about positional interpolation. However, in reality, the shape could expand or contract between the slices, so scaling might be part of the interpolation.\n",
    "\n",
    "But perhaps the user just wants to linearly interpolate between the two polygon shapes. If one polygon is bigger, the interpolated one would be in between.\n",
    "\n",
    "So, assuming that the polygons are in planes parallel to each other, separated along an axis, and we need to create a polygon in the middle plane by interpolating the shapes.\n",
    "\n",
    "Therefore, the process is:\n",
    "\n",
    "- Treat the problem as 2D shape interpolation between the two input polygons, ignoring the axial coordinate since the output is in the middle plane.\n",
    "\n",
    "But how to handle the axial coordinate? Since the output is halfway, the $z$-coordinate is known, and we just need the $x$ and $y$ coordinates interpolated.\n",
    "\n",
    "Thus, the core of the problem is 2D shape interpolation.\n",
    "\n",
    "Given that, the steps as before: resample, align, interpolate.\n",
    "\n",
    "Now, in terms of implementing this, here's a more detailed breakdown:\n",
    "\n",
    "**Resampling:**\n",
    "\n",
    "For each polygon:\n",
    "\n",
    "1. Compute the perimeter by summing the lengths of all edges.\n",
    "\n",
    "2. Determine the number of resampled points, $K$. This could be the least common multiple of the original vertex counts or a fixed number like 100.\n",
    "\n",
    "3. For each edge, parameterize it and determine where the resampled points fall.\n",
    "\n",
    "For example, if the polygon has vertices $V0$, $V1$, $V2$, ..., $V_{n-1}$, edges are $V_0-V_1$, $V_1-V_2$, ..., $_{n-1}-V_0$.\n",
    "\n",
    "Compute the cumulative distance from $V0$ along each edge.\n",
    "\n",
    "The total perimeter is $P$.\n",
    "\n",
    "Each resampled point is at distance $(P/K)*i$ for $i = 0, 1, ..., K-1$.\n",
    "\n",
    "For each $i$, find which edge contains the $(P/K)*i$ distance and compute the point along that edge.\n",
    "\n",
    "**Alignment:**\n",
    "\n",
    "Assuming the polygons are centered around their centroids.\n",
    "\n",
    "1. Translate both polygons so their centroids are at the origin.\n",
    "\n",
    "2. Compute the orientation of each polygon using PCA or the first principal component.\n",
    "\n",
    "3. Rotate one polygon so that its principal axis aligns with the other's.\n",
    "\n",
    "Alternatively, compute the angle that minimizes the rotational difference.\n",
    "\n",
    "For rotational alignment:\n",
    "\n",
    "1. Compute the covariance matrix for each polygon.\n",
    "\n",
    "2. The principal axis is the eigenvector corresponding to the largest eigenvalue.\n",
    "\n",
    "3. Compute the angle between the principal axes of the two polygons.\n",
    "\n",
    "4. Rotate one polygon by this angle to align the principal axes.\n",
    "\n",
    "This should rotationally align the polygons.\n",
    "\n",
    "**Starting Point Alignment:**\n",
    "\n",
    "Even after rotational alignment, the starting point (which vertex is considered the first) can affect correspondence.\n",
    "\n",
    "To find the optimal starting point:\n",
    "\n",
    "1. For the second polygon, circularly shift the vertex list by $k$ positions.\n",
    "\n",
    "2. For each shift $k$, compute the sum of squared distances between the first polygon's vertices and the shifted second polygon's vertices.\n",
    "\n",
    "3. Choose the $k$ that gives the minimal sum.\n",
    "\n",
    "This ensures that the starting points are aligned optimally.\n",
    "\n",
    "**Interpolation:**\n",
    "\n",
    "Once the polygons are resampled, aligned rotationally, and starting points are matched, interpolate each corresponding vertex.\n",
    "\n",
    "For the midpoint, each interpolated vertex is the average of the corresponding vertices from the two polygons.\n",
    "\n",
    "After interpolation, the resulting polygon may need to be checked for self-intersections, especially if the original polygons are complex or the interpolation causes significant distortion. However, for smoothly varying cross-sections, this should not be a major issue.\n",
    "\n",
    "**Potential Issues:**\n",
    "\n",
    "- **Different Topologies**: If one polygon has a hole and the other doesn't, interpolation isn't straightforward. But the problem statement doesn't mention holes, so assuming simple polygons.\n",
    "\n",
    "- **Non-Convexity**: Interpolation might cause the intermediate polygon to self-intersect. If the original polygons are convex, the interpolated one will likely be convex as well. For non-convex, might need to check and adjust.\n",
    "\n",
    "- **Complex Alignment**: If the polygons have complex shapes, rotational and starting point alignment might not suffice. More sophisticated methods like dynamic time warping or non-rigid registration might be needed, but they are more complex.\n",
    "\n",
    "**Alternative Approach: Implicit Representation**\n",
    "\n",
    "If the polygons are complex, another approach is to rasterize them into binary images (masks) in their respective planes, interpolate the images (e.g., using linear interpolation), and then extract the contour of the interpolated image at the halfway point.\n",
    "\n",
    "Steps:\n",
    "\n",
    "1. Rasterize each polygon into a binary image (pixelated mask).\n",
    "\n",
    "2. For each pixel in the intermediate image, compute the average value from the two original images.\n",
    "\n",
    "3. Apply a threshold (e.g., 0.5) to binarize the interpolated image.\n",
    "\n",
    "4. Extract the contour of the resulting binary image to get the interpolated polygon.\n",
    "\n",
    "This method is robust to topology changes and doesn't require point correspondence. However, the result depends on the resolution of the rasterization and might not be as precise as a vector-based method. Also, extracting the contour accurately can be challenging.\n",
    "\n",
    "But given that the user asked for a polygon (vector graphics), the raster method might not be ideal, but it's a possible approach if the polygons are too complex for correspondence-based interpolation.\n",
    "\n",
    "**Conclusion:**\n",
    "\n",
    "The best approach depends on the nature of the input polygons. If they are simple, convex, and have corresponding features, then resampling, aligning, and interpolating vertices is suitable. If they are complex or have differing topologies, an implicit method like raster interpolation might be better.\n",
    "\n",
    "Given the problem statement's context of axial cut-planes through a 3D volume, it's reasonable to assume the polygons are cross-sections that change smoothly. Therefore, the vector-based approach with resampling, alignment, and linear interpolation is appropriate.\n",
    "\n",
    "So, step-by-step:\n",
    "\n",
    "1. **Resample both polygons** to have the same number of vertices, uniformly distributed along their perimeters.\n",
    "\n",
    "2. **Align rotationally** using principal component analysis to correct for any in-plane rotation.\n",
    "\n",
    "3. **Align starting points** by finding the optimal circular shift that minimizes the sum of distances between corresponding vertices.\n",
    "\n",
    "4. **Interpolate each corresponding vertex pair** by averaging their coordinates to get the midpoint polygon.\n",
    "\n",
    "5. **Validate the result** to ensure the polygon is closed and non-self-intersecting (if necessary).\n",
    "\n",
    "This method should generate a smooth interpolated polygon halfway between the two input polygons."
   ]
  },
  {
   "cell_type": "markdown",
   "metadata": {},
   "source": [
    "To generate an interpolated polygon halfway between two axial cut-planes, follow these steps:\n",
    "\n",
    "1. **Resample Polygons**:  \n",
    "   - Uniformly resample both polygons to have the same number of vertices. This ensures point correspondence.  \n",
    "   - Calculate each polygon's perimeter and distribute vertices evenly along the perimeter.\n",
    "\n",
    "2. **Align Rotation and Starting Point**:  \n",
    "   - **Rotational Alignment**: Use principal component analysis (PCA) to align the polygons' orientations.  \n",
    "   - **Starting Point Alignment**: Circularly shift one polygon's vertices to minimize the total distance to the other polygon's vertices.\n",
    "\n",
    "3. **Interpolate Vertices**:  \n",
    "   - For each pair of corresponding vertices from the two polygons, compute the midpoint coordinates.  \n",
    "   - This linearly interpolates the shape between the original polygons.\n",
    "\n",
    "4. **Construct the Interpolated Polygon**:  \n",
    "   - Connect the interpolated vertices to form the new polygon.  \n",
    "   - Ensure the polygon is closed and adjust for self-intersections if necessary.\n",
    "\n",
    "**Example Code Outline (Pseudocode):**\n",
    "\n",
    "```python\n",
    "import numpy as np\n",
    "from scipy.spatial import procrustes\n",
    "\n",
    "def resample_polygon(polygon, num_points):\n",
    "    # Calculate perimeter and resample to num_points\n",
    "    # Returns resampled polygon\n",
    "    pass\n",
    "\n",
    "def align_polygons(poly1, poly2):\n",
    "    # Translate centroids to origin\n",
    "    # Align using Procrustes analysis or PCA\n",
    "    # Find optimal starting point via circular shifts\n",
    "    pass\n",
    "\n",
    "# Input polygons as lists of (x, y) coordinates\n",
    "polygon1 = [...]  # Original polygon 1\n",
    "polygon2 = [...]  # Original polygon 2\n",
    "\n",
    "# Resample\n",
    "k = 100  # Target number of points\n",
    "resampled1 = resample_polygon(polygon1, k)\n",
    "resampled2 = resample_polygon(polygon2, k)\n",
    "\n",
    "# Align\n",
    "aligned1, aligned2 = align_polygons(resampled1, resampled2)\n",
    "\n",
    "# Interpolate midpoint\n",
    "mid_polygon = 0.5 * (aligned1 + aligned2)\n",
    "\n",
    "# Output mid_polygon as the interpolated result\n",
    "```\n",
    "\n",
    "**Final Answer:**  \n",
    "The optimal method is to **resample both polygons to have matching vertices, align their orientation and starting points, then linearly interpolate corresponding vertices**. This approach ensures a smooth, structurally consistent intermediate polygon. \n",
    "\n"
   ]
  },
  {
   "cell_type": "markdown",
   "metadata": {},
   "source": [
    "## Suggestions from CoPilot\n",
    "\n",
    "A solid approach is to find a good one‑to‑one correspondence between the polygon vertices and then perform a direct, linear interpolation on these points. One common method is as follows:\n",
    "\n",
    "1. Align and Preprocess If the polygons are not naturally aligned, first bring them into a common coordinate system. This usually means translating them so that their centroids match and (if needed) rotating them to ensure a consistent orientation.\n",
    "\n",
    "2. Reparameterize the Boundaries Parameterize each polygon by its arclength or by the angle relative to its centroid. This step allows you to treat each polygon as a continuous curve. Resample both polygons so that they have the same number of equally spaced points along their perimeters. This ensures you have a direct correspondence between points on one polygon and points on the other.\n",
    "\n",
    "3. Match Corresponding Vertices With both polygons reparameterized consistently, assume that each sampled point on one polygon corresponds to the point at the same parameter value on the other polygon. Even if the original polygons have different numbers of vertices, this reparameterization method guarantees that you match points in a way that respects the natural ordering of the boundary.\n",
    "\n",
    "4. Interpolate For each pair of corresponding points, compute the midpoint (or use any other interpolation weight if a different relative position is desired). This is done by taking the average of the coordinates of each pair of corresponding points. The resulting set of points defines your interpolated polygon, which should smoothly capture the “halfway” shape between the original cutplanes.\n",
    "\n",
    "This method is often referred to as morphing or shape interpolation by vertex correspondence. It works well when the two shapes are similar in topology and when you can assume a relatively smooth transition between the two contours. If the shapes differ significantly in structure, you might need a more advanced correspondence algorithm (such as using dynamic programming to minimize mismatch) or even consider spline-based interpolation methods that better handle non-linear changes along the boundary.\n",
    "\n",
    "Another variation might involve using the medial axis of each polygon to create a more robust interpolation, especially if the shapes have significant protrusions or indentations. However, for most applications involving axial cutplanes with similar structure, the method described above will be both efficient and effective.\n",
    "\n",
    "If you're interested, you could also leverage libraries in computational geometry or computer graphics (for example, Python's SciPy and OpenCV) that have built-in functions for contour reparameterization and interpolation, which can streamline your implementation.\n",
    "\n",
    "Would you like to explore more about the potential pitfalls of vertex correspondence in detail, or discuss examples of specific libraries and algorithms that implement these techniques?\n",
    "\n",
    "- What are other methods for polygon interpolation?\n",
    "- Can you suggest libraries for polygon interpolation?\n",
    "- What are common pitfalls when using vertex correspondence?\n"
   ]
  }
 ],
 "metadata": {
  "kernelspec": {
   "display_name": "StructureRelations",
   "language": "python",
   "name": "python3"
  },
  "language_info": {
   "codemirror_mode": {
    "name": "ipython",
    "version": 3
   },
   "file_extension": ".py",
   "mimetype": "text/x-python",
   "name": "python",
   "nbconvert_exporter": "python",
   "pygments_lexer": "ipython3",
   "version": "3.11.0"
  }
 },
 "nbformat": 4,
 "nbformat_minor": 4
}
