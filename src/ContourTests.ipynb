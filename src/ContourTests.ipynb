{
 "cells": [
  {
   "cell_type": "markdown",
   "metadata": {},
   "source": [
    "# Contour Tests"
   ]
  },
  {
   "cell_type": "code",
   "execution_count": 1,
   "metadata": {},
   "outputs": [],
   "source": [
    "# Type imports\n",
    "from typing import Any, Dict, List, Tuple\n",
    "\n",
    "# Standard Libraries\n",
    "from pathlib import Path\n",
    "from collections import Counter, defaultdict\n",
    "import math\n",
    "from math import sqrt, pi, sin, cos, tan, radians\n",
    "from statistics import mean\n",
    "from itertools import zip_longest\n",
    "\n",
    "# Shared Packages\n",
    "import pandas as pd\n",
    "import numpy as np\n",
    "import xlwings as xw\n",
    "\n",
    "import pygraphviz as pgv\n",
    "import networkx as nx"
   ]
  },
  {
   "cell_type": "code",
   "execution_count": 2,
   "metadata": {},
   "outputs": [],
   "source": [
    "from types_and_classes import *"
   ]
  },
  {
   "cell_type": "markdown",
   "metadata": {},
   "source": [
    "## functions for creating contours"
   ]
  },
  {
   "cell_type": "code",
   "execution_count": 3,
   "metadata": {},
   "outputs": [],
   "source": [
    "def circle_points(radius: float, offset_x: float = 0, offset_y: float = 0,\n",
    "                  num_points: int = 16, precision=3)->list[tuple[float, float]]:\n",
    "    deg_step = radians(360/num_points)\n",
    "    degree_points = np.arange(stop=radians(360), step=deg_step)\n",
    "    x_coord = np.array([round(radius*sin(d), precision) for d in degree_points])\n",
    "    y_coord = np.array([round(radius*cos(d), precision) for d in degree_points])\n",
    "\n",
    "    x_coord = x_coord + offset_x\n",
    "    y_coord = y_coord + offset_y\n",
    "    coords = [(x,y) for x,y in zip(x_coord,y_coord)]\n",
    "    return coords"
   ]
  },
  {
   "cell_type": "code",
   "execution_count": 4,
   "metadata": {},
   "outputs": [],
   "source": [
    "def box_points(width:float, height: float = None, offset_x: float = 0,\n",
    "               offset_y: float = 0) -> list[tuple[float, float]]:\n",
    "    x1_unit = width / 2\n",
    "    if not height:\n",
    "        y1_unit = x1_unit\n",
    "    else:\n",
    "        y1_unit = height / 2\n",
    "    coords = [\n",
    "        ( x1_unit + offset_x,  y1_unit + offset_y),\n",
    "        ( x1_unit + offset_x, -y1_unit + offset_y),\n",
    "        (-x1_unit + offset_x, -y1_unit + offset_y),\n",
    "        (-x1_unit + offset_x,  y1_unit + offset_y)\n",
    "        ]\n",
    "    return coords"
   ]
  },
  {
   "cell_type": "code",
   "execution_count": 5,
   "metadata": {},
   "outputs": [],
   "source": [
    "def make_contour_slices(roi_num: ROI_Num, slices: List[SliceIndex],\n",
    "                        structure_2d: StructureSlice):\n",
    "    data_list = []\n",
    "    for slice_idx in slices:\n",
    "        data_item = {\n",
    "            'ROI Num': roi_num,\n",
    "            'Slice Index': SliceIndex(slice_idx),\n",
    "            'Structure Slice': structure_2d\n",
    "            }\n",
    "        data_list.append(data_item)\n",
    "    slice_data = pd.DataFrame(data_list)\n",
    "    slice_data.set_index(['ROI Num', 'Slice Index'], inplace=True)\n",
    "    return slice_data"
   ]
  },
  {
   "cell_type": "code",
   "execution_count": 6,
   "metadata": {},
   "outputs": [],
   "source": [
    "def make_slice_list(number: int, start: float = 0.0, spacing: float = 0.1):\n",
    "    slices = [round(SliceIndex(num*spacing + start), PRECISION)\n",
    "              for num in range(number)]\n",
    "    return slices\n"
   ]
  },
  {
   "cell_type": "code",
   "execution_count": 7,
   "metadata": {},
   "outputs": [],
   "source": [
    "def get_exterior(poly: shapely.MultiPolygon)-> shapely.MultiPolygon:\n",
    "    polygons = [shapely.Polygon(bdr) for bdr in poly.boundary.geoms]\n",
    "    return shapely.MultiPolygon(polygons)"
   ]
  },
  {
   "cell_type": "code",
   "execution_count": 8,
   "metadata": {},
   "outputs": [],
   "source": [
    "def get_hull(poly: shapely.MultiPolygon)-> shapely.MultiPolygon:\n",
    "    hulls = [shapely.convex_hull(p) for p in poly.geoms]\n",
    "    return shapely.MultiPolygon(polygons)"
   ]
  },
  {
   "cell_type": "code",
   "execution_count": 46,
   "metadata": {},
   "outputs": [],
   "source": [
    "def make_slice_table(slice_data: pd.DataFrame)->pd.DataFrame:\n",
    "    slice_table = slice_data.unstack('ROI Num')\n",
    "    #slice_table.columns = slice_table.columns.droplevel()\n",
    "    slice_table = slice_table.swaplevel(axis='columns')\n",
    "\n",
    "    return slice_table"
   ]
  },
  {
   "cell_type": "code",
   "execution_count": null,
   "metadata": {},
   "outputs": [],
   "source": [
    "def relate_structs(slice_table: pd.DataFrame, struct_num: ROI_Num,\n",
    "                   other_struct_num: ROI_Num):\n",
    "\n",
    "    def compare(mpoly1, mpoly2):\n",
    "        relation_str = shapely.relate(mpoly1, mpoly2)\n",
    "        # Convert relationship string in the form '212FF1FF2' into a boolean string.\n",
    "        relation_bool = relation_str.replace('F','0').replace('2','1')\n",
    "        return relation_bool\n",
    "\n",
    "    def relate(slice_structures: pd.Series, struct_num: ROI_Num,\n",
    "            other_struct_num: ROI_Num):\n",
    "        other_structure = slice_structures[(other_struct_num, 'Structure Slice')]\n",
    "        if other_structure is None:\n",
    "            return None\n",
    "        primary_structure = slice_structures[(struct_num, 'Structure Slice')]\n",
    "        if primary_structure is None:\n",
    "            return None\n",
    "        primary_relation = compare(primary_structure, other_structure)\n",
    "        external_structure = slice_structures[(struct_num, 'Exterior')]\n",
    "        external_relation = compare(external_structure, other_structure)\n",
    "        convex_hull_structure = slice_structures[(struct_num, 'Hull')]\n",
    "        convex_hull_relation = compare(convex_hull_structure, other_structure)\n",
    "\n",
    "        full_relation = ''.join([convex_hull_relation,\n",
    "                                external_relation,\n",
    "                                primary_relation])\n",
    "        binary_relation = int(full_relation, base=2)\n",
    "        return bin(binary_relation)\n",
    "\n",
    "    slice_structures = slice_table.loc[:, [struct_num, other_struct_num]]\n",
    "    slice_structures.dropna(inplace=True)\n",
    "    relation_binary = slice_structures.agg(relate, axis='columns',\n",
    "                                           struct_num=struct_num,\n",
    "                                           other_struct_num=other_struct_num)\n",
    "    return relation_binary"
   ]
  },
  {
   "cell_type": "code",
   "execution_count": 10,
   "metadata": {},
   "outputs": [],
   "source": [
    "def slice_spacing(contour):\n",
    "    # Index is the slice position of all slices in the image set\n",
    "    # Columns are structure IDs\n",
    "    # Values are the distance (INF) to the next contour\n",
    "    inf = contour.dropna().index.min()\n",
    "    sup = contour.dropna().index.max()\n",
    "    contour_range = (contour.index <= sup) & (contour.index >= inf)\n",
    "    slices = contour.loc[contour_range].dropna().index.to_series()\n",
    "    gaps = slices.shift(-1) - slices\n",
    "    return gaps"
   ]
  },
  {
   "cell_type": "markdown",
   "metadata": {},
   "source": [
    "### Make test structures"
   ]
  },
  {
   "cell_type": "code",
   "execution_count": 11,
   "metadata": {},
   "outputs": [],
   "source": [
    "# 6 cm x 6 cm box\n",
    "box6 = shapely.MultiPolygon([\n",
    "    shapely.Polygon(box_points(6\n",
    "                               ))])\n",
    "slices = make_slice_list(5)\n",
    "slices_1 = make_contour_slices(1, slices, box6)\n",
    "\n",
    "# 4 cm x 4 cm box\n",
    "box4 = shapely.MultiPolygon([\n",
    "    shapely.Polygon(box_points(4))\n",
    "    ])\n",
    "slices = make_slice_list(5)\n",
    "#slices = make_slice_list(5, start=0.2, spacing=0.2)\n",
    "slices_2 = make_contour_slices(2, slices, box4)\n",
    "\n",
    "# 6 cm x 6 cm box offset right by 3 cm\n",
    "offset_box6 = shapely.MultiPolygon([\n",
    "    shapely.Polygon(box_points(6, offset_x=3))\n",
    "    ])\n",
    "slices = make_slice_list(5)\n",
    "#slices = make_slice_list(5, start=0.2, spacing=0.2)\n",
    "slices_3 = make_contour_slices(3, slices, offset_box6)\n",
    "\n",
    "# 6 cm x 6 cm box with 4cm x 4 cm hole\n",
    "box6 = shapely.Polygon(box_points(6))\n",
    "box4 = shapely.Polygon(box_points(4))\n",
    "hollow_box = shapely.MultiPolygon([shapely.difference(box6, box4)])\n",
    "slices = make_slice_list(5, start=0.2)\n",
    "slices_4 = make_contour_slices(4, slices, hollow_box)\n",
    "\n",
    "# 2 2x2 boxes\n",
    "box2a = shapely.Polygon(box_points(4, offset_x=-3))\n",
    "box2b = shapely.Polygon(box_points(4, offset_x=3))\n",
    "box_pair = shapely.MultiPolygon([box2a, box2b])\n",
    "slices = make_slice_list(5)\n",
    "#slices = make_slice_list(5, start=0.2, spacing=0.2)\n",
    "slices_5 = make_contour_slices(5, slices, box_pair)\n"
   ]
  },
  {
   "cell_type": "code",
   "execution_count": 12,
   "metadata": {},
   "outputs": [],
   "source": [
    "# combine the slice data\n",
    "slice_data = pd.concat([slices_1, slices_2, slices_3, slices_4, slices_5])\n",
    "\n",
    "exterior_contours = slice_data['Structure Slice'].apply(get_exterior)\n",
    "exterior_contours.name = 'Exterior'\n",
    "hull_contours = slice_data['Structure Slice'].apply(shapely.convex_hull)\n",
    "hull_contours.name = 'Hull'\n",
    "\n",
    "slice_data = pd.concat([slice_data, exterior_contours, hull_contours],\n",
    "                       axis='columns')\n",
    "# convert slice data into a table of slices and structures\n",
    "slice_table = make_slice_table(slice_data)"
   ]
  },
  {
   "cell_type": "code",
   "execution_count": 123,
   "metadata": {},
   "outputs": [
    {
     "data": {
      "text/plain": [
       "Slice Index\n",
       "0.0    0b111001001111001001111001001\n",
       "0.1    0b111001001111001001111001001\n",
       "0.2    0b111001001111001001111001001\n",
       "0.3    0b111001001111001001111001001\n",
       "0.4    0b111001001111001001111001001\n",
       "dtype: object"
      ]
     },
     "execution_count": 123,
     "metadata": {},
     "output_type": "execute_result"
    }
   ],
   "source": [
    "relate_structs(slice_table, 1, 2)"
   ]
  },
  {
   "cell_type": "code",
   "execution_count": 116,
   "metadata": {},
   "outputs": [
    {
     "data": {
      "text/plain": [
       "'212FF1FF2'"
      ]
     },
     "execution_count": 116,
     "metadata": {},
     "output_type": "execute_result"
    }
   ],
   "source": [
    "a = shapely.relate(slice_table.at[0, (1, 'Structure Slice')], slice_table.at[0, (2, 'Structure Slice')])\n",
    "a"
   ]
  },
  {
   "cell_type": "code",
   "execution_count": null,
   "metadata": {},
   "outputs": [],
   "source": [
    "b = a.replace('F','0').replace('2','1')\n",
    "c = int(b, base=2)\n",
    "bin(c)"
   ]
  },
  {
   "cell_type": "code",
   "execution_count": null,
   "metadata": {},
   "outputs": [
    {
     "data": {
      "text/plain": [
       "342"
      ]
     },
     "metadata": {},
     "output_type": "display_data"
    }
   ],
   "source": [
    "mask = 0b101010110\n",
    "mask"
   ]
  },
  {
   "cell_type": "code",
   "execution_count": 112,
   "metadata": {},
   "outputs": [],
   "source": [
    "value = 0b101000000"
   ]
  },
  {
   "cell_type": "code",
   "execution_count": 113,
   "metadata": {},
   "outputs": [
    {
     "data": {
      "text/plain": [
       "True"
      ]
     },
     "execution_count": 113,
     "metadata": {},
     "output_type": "execute_result"
    }
   ],
   "source": [
    "(c & mask) == value"
   ]
  },
  {
   "cell_type": "code",
   "execution_count": 106,
   "metadata": {},
   "outputs": [
    {
     "data": {
      "text/plain": [
       "457"
      ]
     },
     "execution_count": 106,
     "metadata": {},
     "output_type": "execute_result"
    }
   ],
   "source": [
    "int(b, base=2)"
   ]
  },
  {
   "cell_type": "code",
   "execution_count": 107,
   "metadata": {},
   "outputs": [
    {
     "data": {
      "text/plain": [
       "'0b111001001'"
      ]
     },
     "execution_count": 107,
     "metadata": {},
     "output_type": "execute_result"
    }
   ],
   "source": [
    "bin(int(b, base=2))"
   ]
  },
  {
   "cell_type": "code",
   "execution_count": 60,
   "metadata": {},
   "outputs": [],
   "source": [
    "slice_table = slice_data.index.to_frame()\n",
    "slice_table = slice_table['Slice Index'].unstack('ROI Num')\n",
    "contour_slices = slice_table.apply(slice_spacing)"
   ]
  },
  {
   "cell_type": "markdown",
   "metadata": {},
   "source": [
    "## Create slice index\n"
   ]
  },
  {
   "cell_type": "code",
   "execution_count": 11,
   "metadata": {},
   "outputs": [
    {
     "data": {
      "text/plain": [
       "38"
      ]
     },
     "execution_count": 11,
     "metadata": {},
     "output_type": "execute_result"
    }
   ],
   "source": [
    "def build_slice_table(contour_sets)->pd.DataFrame:\n",
    "    def form_table(slice_index):\n",
    "        slice_index.reset_index(inplace=True)\n",
    "        slice_index.sort_values('Slice', inplace=True)\n",
    "        slice_index.set_index(['Slice','StructureID'], inplace=True)\n",
    "        slice_table = slice_index.unstack()\n",
    "        slice_table.columns = slice_table.columns.droplevel()\n",
    "        return slice_table\n",
    "\n",
    "    slice_index = build_contour_index(contour_sets)\n",
    "    slice_table = form_table(slice_index)\n",
    "    contour_slices = slice_table.apply(slice_spacing)\n",
    "    return contour_slices"
   ]
  },
  {
   "cell_type": "code",
   "execution_count": null,
   "metadata": {},
   "outputs": [],
   "source": [
    "def build_contour_index(contour_sets: Dict[int, ContourSet])->pd.DataFrame:\n",
    "    '''Build an index of structures in a contour set.\n",
    "\n",
    "    The table columns contain the structure names, the ROI number, and the\n",
    "    slice positions where the contours for that structure are located.  There\n",
    "    is one row for each slice and structure on that slice.  Multiple contours\n",
    "    for a single structure on a given slice, have only one row in teh contour\n",
    "    index\n",
    "\n",
    "    Args:\n",
    "        contour_sets (Dict[int, RS_DICOM_Utilities.ContourSet]): A dictionary\n",
    "            of structure data.\n",
    "\n",
    "    Returns:\n",
    "        pd.DataFrame: An index of structures in a contour set indication which\n",
    "            slices contains contours for each structure.\n",
    "    '''\n",
    "    slice_ref = {}\n",
    "    name_ref = {}\n",
    "    for structure in contour_sets.values():\n",
    "        slice_ref[structure.roi_num] = list(structure.contours.keys())\n",
    "        name_ref[structure.roi_num] = structure.structure_id\n",
    "    slice_seq = pd.Series(slice_ref).explode()\n",
    "    slice_seq.name = 'Slice'\n",
    "    name_lookup = pd.Series(name_ref)\n",
    "    name_lookup.name = 'StructureID'\n",
    "    slice_lookup = pd.DataFrame(name_lookup).join(slice_seq, how='outer')\n",
    "    return slice_lookup"
   ]
  },
  {
   "cell_type": "code",
   "execution_count": null,
   "metadata": {},
   "outputs": [],
   "source": [
    "structure_2d: StructureSlice = shapely.MultiPolygon([hollow_box])"
   ]
  },
  {
   "cell_type": "markdown",
   "metadata": {},
   "source": [
    "ContourData: Table\n",
    "\tIndex: AutoInteger\n",
    "\tColumns:\n",
    "\t\tROI_Num,\n",
    "\t\tSliceIndex,\n",
    "\t\tArea,\n",
    "\t\tContour\n",
    "Generated by: Read Contour Data\n",
    "\n",
    "StructureData: Series:\n",
    "\tIndex: ROI_Num, SliceIndex\n",
    "\tValues: StructureSlice\n",
    "Generated by: Build StructureSet\n"
   ]
  },
  {
   "cell_type": "code",
   "execution_count": null,
   "metadata": {},
   "outputs": [],
   "source": [
    "box1_def = {\n",
    "        'struct_id': 'GTV',\n",
    "        'roi': 38,\n",
    "        'structure_type': 'GTV',\n",
    "        'structure_code': 'GTVp',\n",
    "        'structure_code_meaning': 'Primary Gross Tumor Volume',\n",
    "        'structure_code_scheme': '99VMS_STRUCTCODE',\n",
    "        'color': (255, 0, 0),\n",
    "        'volume': 8.03,\n",
    "        'length': 2.6,\n",
    "        'sup_slice': -0.4,\n",
    "        'inf_slice': -3,\n",
    "        'center_of_mass': (-5.36,  9.71, -1.63)\n",
    "        }\n",
    "\n",
    "structure_def = Structure(**box1_def)\n"
   ]
  },
  {
   "cell_type": "code",
   "execution_count": null,
   "metadata": {},
   "outputs": [],
   "source": [
    "structure_def = [\n",
    "    {\n",
    "        'struct_id': 'GTV',\n",
    "        'roi': 38,\n",
    "        'structure_type': 'GTV',\n",
    "        'structure_code': 'GTVp',\n",
    "        'structure_code_meaning': 'Primary Gross Tumor Volume',\n",
    "        'structure_code_scheme': '99VMS_STRUCTCODE',\n",
    "        'color': (255, 0, 0),\n",
    "        'volume': 8.03,\n",
    "        'length': 2.6,\n",
    "        'sup_slice': -0.4,\n",
    "        'inf_slice': -3,\n",
    "        'center_of_mass': (-5.36,  9.71, -1.63)\n",
    "        },{\n",
    "        'struct_id': 'CTV',\n",
    "        'roi': 24,\n",
    "        'structure_type': 'GTV',\n",
    "        'structure_code': 'ITV',\n",
    "        'structure_code_meaning': 'Internal Target Volume',\n",
    "        'structure_code_scheme': '99VMS_STRUCTCODE',\n",
    "        'color': (255, 255, 0),\n",
    "        'volume': 34.45,\n",
    "        'length': 3.6,\n",
    "        'sup_slice': 0,\n",
    "        'inf_slice': -3.6,\n",
    "        'center_of_mass': (-5.34,  9.79, -1.61)\n",
    "        },{\n",
    "        'struct_id': 'PTV',\n",
    "        'roi': 30,\n",
    "        'structure_type': 'PTV',\n",
    "        'structure_code': 'PTVp',\n",
    "        'structure_code_meaning': 'Primary Planning Target Volume',\n",
    "        'structure_code_scheme': '99VMS_STRUCTCODE',\n",
    "        'color': (0, 255, 255),\n",
    "        'volume': 74.649,\n",
    "        'length': 4.6,\n",
    "        'sup_slice': 0.6,\n",
    "        'inf_slice': -4.0,\n",
    "        'center_of_mass': (-5.36,  9.78, -1.59)\n",
    "        },{\n",
    "        'struct_id': 'eval PTV',\n",
    "        'roi': 41,\n",
    "        'structure_type': 'PTV',\n",
    "        'structure_code': 'PTVp',\n",
    "        'structure_code_meaning': 'Primary Planning Target Volume',\n",
    "        'structure_code_scheme': '99VMS_STRUCTCODE',\n",
    "        'color': (0, 255, 255),\n",
    "        'volume': 74.649,\n",
    "        'length': 4.6,\n",
    "        'sup_slice': 0.6,\n",
    "        'inf_slice': -4.0,\n",
    "        'center_of_mass': (-5.36,  9.78, -1.59)\n",
    "        },{\n",
    "        'struct_id': 'BODY',\n",
    "        'roi': 1,\n",
    "        'structure_type': 'EXTERNAL',\n",
    "        'structure_code': 'BODY',\n",
    "        'structure_code_meaning': 'Body',\n",
    "        'structure_code_scheme': '99VMS_STRUCTCODE',\n",
    "        'color': (0, 255, 0),\n",
    "        'volume': 28951.626,\n",
    "        'length': 33.8,\n",
    "        'sup_slice': 10.6,\n",
    "        'inf_slice': -23.2,\n",
    "        'center_of_mass': (-0.95,  9.73, -6.76)\n",
    "        },{\n",
    "        'struct_id': 'Lung L',\n",
    "        'roi': 26,\n",
    "        'structure_type': 'ORGAN',\n",
    "        'structure_code': '7310',\n",
    "        'structure_code_meaning': 'Left lung',\n",
    "        'structure_code_scheme': 'FMA',\n",
    "        'color': (224, 255, 255),\n",
    "        'volume': 1776,\n",
    "        'length': 24.2,\n",
    "        'sup_slice': 5.8,\n",
    "        'inf_slice': -18.4,\n",
    "        'center_of_mass': (7.08, 10.61, -6.28)\n",
    "        },{\n",
    "        'struct_id': 'Lung R',\n",
    "        'roi': 27,\n",
    "        'structure_type': 'ORGAN',\n",
    "        'structure_code': '7309',\n",
    "        'structure_code_meaning': 'Right lung',\n",
    "        'structure_code_scheme': 'FMA',\n",
    "        'color': (255, 218, 185),\n",
    "        'volume': 2556.676,\n",
    "        'length': 23.8,\n",
    "        'sup_slice': 6.6,\n",
    "        'inf_slice': -17.2,\n",
    "        'center_of_mass': (-8.09,  8.77, -5.57)\n",
    "        },{\n",
    "        'struct_id': 'Lung B',\n",
    "        'roi': 25,\n",
    "        'structure_type': 'ORGAN',\n",
    "        'structure_code': '68877',\n",
    "        'structure_code_meaning': 'Pair of lungs',\n",
    "        'structure_code_scheme': 'FMA',\n",
    "        'color': (218, 165, 32),\n",
    "        'volume': 4332.676,\n",
    "        'length': 25,\n",
    "        'sup_slice': 6.6,\n",
    "        'inf_slice': -18.4,\n",
    "        'center_of_mass': (-1.87,  9.52, -5.86)\n",
    "        },{\n",
    "        'struct_id': 'Skin',\n",
    "        'roi': 2,\n",
    "        'structure_type': 'ORGAN',\n",
    "        'structure_code': '7163',\n",
    "        'structure_code_meaning': 'Skin',\n",
    "        'structure_code_scheme': 'FMA',\n",
    "        'color': (240, 255, 240),\n",
    "        'volume': 1726.808,\n",
    "        'length': 33.8,\n",
    "        'sup_slice': 10.6,\n",
    "        'inf_slice': -23.2,\n",
    "        'center_of_mass': (-0.95,  9.73, -6.76),\n",
    "        'show': False\n",
    "        }\n",
    "    ]\n",
    "\n",
    "structure_list = []\n",
    "\n",
    "for node_dict in structure_def:\n",
    "    roi = node_dict['roi']\n",
    "    struct_id = node_dict['struct_id']\n",
    "    structure_ref = {'roi': roi, 'struct_id': struct_id,\n",
    "                     'Structure': Structure(**node_dict)}\n",
    "    structure_list.append(structure_ref)\n",
    "\n",
    "structure_table = pd.DataFrame(structure_list)\n",
    "structure_table.set_index('roi', inplace=True)"
   ]
  },
  {
   "cell_type": "code",
   "execution_count": null,
   "metadata": {},
   "outputs": [],
   "source": [
    "edge_def = [\n",
    "    {'structures': (1, 2),   'relationship': 'CONFINES',      'is_logical': False, 'show': True},\n",
    "    {'structures': (1, 25),  'relationship': 'CONTAINS',      'is_logical': True , 'show': True},\n",
    "    {'structures': (1, 27),  'relationship': 'CONTAINS',      'is_logical': True , 'show': False},\n",
    "    {'structures': (1, 26),  'relationship': 'CONTAINS',      'is_logical': True , 'show': False},\n",
    "    {'structures': (1, 30),  'relationship': 'CONTAINS',      'is_logical': True , 'show': True},\n",
    "    {'structures': (1, 41),  'relationship': 'CONTAINS',      'is_logical': True , 'show': False},\n",
    "    {'structures': (1, 24),  'relationship': 'CONTAINS',      'is_logical': True , 'show': False},\n",
    "    {'structures': (1, 38),  'relationship': 'CONTAINS',      'is_logical': True , 'show': False},\n",
    "    {'structures': (2, 25),  'relationship': 'DISJOINT',      'is_logical': False, 'show': True},\n",
    "    {'structures': (2, 27),  'relationship': 'DISJOINT',      'is_logical': False, 'show': False},\n",
    "    {'structures': (2, 26),  'relationship': 'DISJOINT',      'is_logical': False, 'show': False},\n",
    "    {'structures': (2, 30),  'relationship': 'SURROUNDS',     'is_logical': False, 'show': False},\n",
    "    {'structures': (2, 41),  'relationship': 'SURROUNDS',     'is_logical': True , 'show': True},\n",
    "    {'structures': (2, 24),  'relationship': 'SURROUNDS',     'is_logical': True , 'show': False},\n",
    "    {'structures': (2, 38),  'relationship': 'SURROUNDS',     'is_logical': True , 'show': False},\n",
    "    {'structures': (25, 27), 'relationship': 'CONTAINS',      'is_logical': False, 'show': True},\n",
    "    {'structures': (25, 26), 'relationship': 'CONTAINS',      'is_logical': False, 'show': True},\n",
    "    {'structures': (25, 30), 'relationship': 'OVERLAPS',      'is_logical': True , 'show': False},\n",
    "    {'structures': (25, 41), 'relationship': 'CONTAINS',      'is_logical': True , 'show': False},\n",
    "    {'structures': (25, 24), 'relationship': 'CONTAINS',      'is_logical': True , 'show': False},\n",
    "    {'structures': (25, 38), 'relationship': 'CONTAINS',      'is_logical': True , 'show': False},\n",
    "    {'structures': (27, 26), 'relationship': 'DISJOINT',      'is_logical': False, 'show': False},\n",
    "    {'structures': (27, 30), 'relationship': 'DISJOINT',      'is_logical': False, 'show': False},\n",
    "    {'structures': (27, 41), 'relationship': 'DISJOINT',      'is_logical': False, 'show': False},\n",
    "    {'structures': (27, 24), 'relationship': 'DISJOINT',      'is_logical': False, 'show': False},\n",
    "    {'structures': (27, 38), 'relationship': 'DISJOINT',      'is_logical': False, 'show': False},\n",
    "    {'structures': (26, 30), 'relationship': 'OVERLAPS',      'is_logical': False, 'show': True},\n",
    "    {'structures': (26, 41), 'relationship': 'INCORPORATES',  'is_logical': True , 'show': True},\n",
    "    {'structures': (26, 24), 'relationship': 'CONTAINS',      'is_logical': True , 'show': False},\n",
    "    {'structures': (26, 38), 'relationship': 'CONTAINS',      'is_logical': True , 'show': False},\n",
    "    {'structures': (30, 41), 'relationship': 'INCORPORATES',  'is_logical': False, 'show': True},\n",
    "    {'structures': (30, 24), 'relationship': 'CONTAINS',      'is_logical': True , 'show': True},\n",
    "    {'structures': (30, 38), 'relationship': 'CONTAINS',      'is_logical': True , 'show': True},\n",
    "    {'structures': (41, 24), 'relationship': 'CONTAINS',      'is_logical': False, 'show': True},\n",
    "    {'structures': (41, 38), 'relationship': 'CONTAINS',      'is_logical': True , 'show': True},\n",
    "    {'structures': (24, 38), 'relationship': 'CONTAINS',      'is_logical': False, 'show': True},\n",
    "    ]\n",
    "\n",
    "\n",
    "relationship_list = []\n",
    "\n",
    "for edge_dict in edge_def:\n",
    "    relationship = Relationship(**edge_dict)\n",
    "    relationship_type = edge_dict['relationship']\n",
    "    edge = list(edge_dict['structures']) + [relationship_type, relationship]\n",
    "    relationship_list.append(edge)\n",
    "relationship_table = pd.DataFrame(relationship_list)\n",
    "relationship_table.columns = ['ROI_1', 'ROI_2', 'Relationship Type',\n",
    "                              'Relationship']\n",
    "relationship_table.set_index(['ROI_1', 'ROI_2'], inplace=True)"
   ]
  }
 ],
 "metadata": {
  "kernelspec": {
   "display_name": "StructureRelations",
   "language": "python",
   "name": "python3"
  },
  "language_info": {
   "codemirror_mode": {
    "name": "ipython",
    "version": 3
   },
   "file_extension": ".py",
   "mimetype": "text/x-python",
   "name": "python",
   "nbconvert_exporter": "python",
   "pygments_lexer": "ipython3",
   "version": "3.11.9"
  }
 },
 "nbformat": 4,
 "nbformat_minor": 2
}
