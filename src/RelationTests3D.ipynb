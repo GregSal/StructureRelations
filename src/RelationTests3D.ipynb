{
 "cells": [
  {
   "cell_type": "markdown",
   "metadata": {},
   "source": [
    "# 3D Relationship Testing\n",
    "\n",
    "Testing relationships between 3D structures defined using contours on multiple slices.\n"
   ]
  },
  {
   "cell_type": "code",
   "execution_count": 1,
   "metadata": {},
   "outputs": [],
   "source": [
    "# Local functions and classes\n",
    "from types_and_classes import *\n",
    "from utilities import *\n",
    "from debug_tools import *\n",
    "from structure_slice import *\n",
    "from structure_set import *\n",
    "from relations import *"
   ]
  },
  {
   "cell_type": "markdown",
   "metadata": {},
   "source": [
    "### Global Settings"
   ]
  },
  {
   "cell_type": "code",
   "execution_count": 2,
   "metadata": {},
   "outputs": [],
   "source": [
    "PRECISION = 2"
   ]
  },
  {
   "cell_type": "code",
   "execution_count": 3,
   "metadata": {},
   "outputs": [],
   "source": [
    "%matplotlib inline"
   ]
  },
  {
   "cell_type": "markdown",
   "metadata": {},
   "source": [
    "## Relationship Tests by Relationship Type"
   ]
  },
  {
   "cell_type": "markdown",
   "metadata": {},
   "source": [
    "### Color Coding\n",
    "<table style=\"border: 2px solid black; width=50px;\"><tr><td>\n",
    "<ul style=\"font-weight: 900; font-size: 20px;\">\n",
    "<li style=\"color: blue;\">region a</li>\n",
    "<li style=\"color: green;\">region b</li>\n",
    "<li style=\"color: orange;\">intersection of a & b</li></ul>\n",
    "</tr></td></>"
   ]
  },
  {
   "cell_type": "markdown",
   "metadata": {},
   "source": [
    "## Contains"
   ]
  },
  {
   "cell_type": "markdown",
   "metadata": {},
   "source": [
    "<link rel=\"stylesheet\" href=\"relations.css\">\n",
    "<table width=\"350px\">\n",
    "<tr class=\"l\"><th>Contains</th><th>Transitive</th></tr>\n",
    "<td class=\"d\" colspan=\"2\">\n",
    "All points of <span class=\"b\">b</span> lie in the interior of <span class=\"a\">a</span>, no points of <span class=\"b\">b</span> lie in the exterior of <span class=\"a\">a</span>, some points in <span class=\"a\">a</span> are exterior to <span class=\"b\">b</span>, and the boundaries of <span class=\"a\">a</span> and <span class=\"b\">b</span> do not intersect.\n",
    "</td></tr>\n",
    "<tr><td colspan=\"2\">\n",
    "<img src=\"Images/Relationships/contains simple.png\" alt=\"Contains\">\n",
    "<img src=\"Images/Relationships/contains with hole.png\" alt=\"Contains With Hole\">\n",
    "</td></tr>\n",
    "</table></td></tr></table>"
   ]
  },
  {
   "cell_type": "markdown",
   "metadata": {},
   "source": [
    "### Contains"
   ]
  },
  {
   "cell_type": "markdown",
   "metadata": {},
   "source": [
    "#### Embedded Spheres\n",
    "![Embedded Spheres](<Images/FreeCAD Images/Embedded Spheres.png>)"
   ]
  },
  {
   "cell_type": "code",
   "execution_count": 4,
   "metadata": {},
   "outputs": [],
   "source": [
    "def embedded_spheres_example():\n",
    "    slice_spacing = 0.5\n",
    "    # Body structure defines slices in use\n",
    "    body = make_vertical_cylinder(roi_num=0, radius=20, length=30, offset_z=-15,\n",
    "                                spacing=slice_spacing)\n",
    "    # embedded boxes\n",
    "    sphere6 = make_sphere(roi_num=1, radius=3, spacing=slice_spacing)\n",
    "    sphere3 = make_sphere(roi_num=2, radius=1.5, spacing=slice_spacing)\n",
    "    # combine the contours\n",
    "    slice_data = pd.concat([sphere6, sphere3, body])\n",
    "    # convert contour slice data into a table of slices and structures\n",
    "    slice_table = make_slice_table(slice_data, ignore_errors=True)\n",
    "    return slice_table"
   ]
  },
  {
   "cell_type": "code",
   "execution_count": 5,
   "metadata": {},
   "outputs": [
    {
     "name": "stdout",
     "output_type": "stream",
     "text": [
      "Relationship: Contains\n"
     ]
    }
   ],
   "source": [
    "slice_table = embedded_spheres_example()\n",
    "regions = generate_region_graph(slice_table)\n",
    "selected_roi = [1, 2]\n",
    "relation = find_relations(slice_table, regions, selected_roi)\n",
    "relation_type = relation.identify_relation()\n",
    "print(relation_type)\n",
    "assert relation_type == RelationshipType.CONTAINS"
   ]
  },
  {
   "cell_type": "markdown",
   "metadata": {},
   "source": [
    "#### Concentric Cylinders\n",
    "![Concentric cylinders](<Images/FreeCAD Images/Concentric cylinders.png>)"
   ]
  },
  {
   "cell_type": "code",
   "execution_count": 6,
   "metadata": {},
   "outputs": [],
   "source": [
    "def simple_cylinders_example():\n",
    "    slice_spacing = 0.1\n",
    "    # Body structure defines slices in use\n",
    "    body = make_vertical_cylinder(roi_num=0, radius=12, length=1.0,\n",
    "                                  offset_z=0,\n",
    "                                  spacing=slice_spacing)\n",
    "    # Centred cylinder\n",
    "    primary_cylinder = make_vertical_cylinder(roi_num=1, radius=5, length=0.8,\n",
    "                                              offset_z=0,\n",
    "                                              spacing=slice_spacing)\n",
    "    # cylinder within primary\n",
    "    contained_cylinder = make_vertical_cylinder(roi_num=2, radius=3, length=0.6,\n",
    "                                                offset_x=0, offset_z=0,\n",
    "                                                spacing=slice_spacing)\n",
    "    # combine the contours\n",
    "    slice_data = pd.concat([body, primary_cylinder, contained_cylinder])\n",
    "    # convert contour slice data into a table of slices and structures\n",
    "    slice_table = make_slice_table(slice_data, ignore_errors=True)\n",
    "    return slice_table\n"
   ]
  },
  {
   "cell_type": "code",
   "execution_count": 7,
   "metadata": {},
   "outputs": [
    {
     "name": "stdout",
     "output_type": "stream",
     "text": [
      "Relationship: Contains\n"
     ]
    }
   ],
   "source": [
    "slice_table = simple_cylinders_example()\n",
    "regions = generate_region_graph(slice_table)\n",
    "selected_roi = [1, 2]\n",
    "\n",
    "relation = find_relations(slice_table, regions, selected_roi)\n",
    "relation_type = relation.identify_relation()\n",
    "print(relation_type)\n",
    "assert relation_type == RelationshipType.CONTAINS"
   ]
  },
  {
   "cell_type": "markdown",
   "metadata": {},
   "source": [
    "#### Embedded Boxes\n",
    "![Embedded Boxes](<Images/FreeCAD Images/Embedded Boxes.png>)"
   ]
  },
  {
   "cell_type": "code",
   "execution_count": 8,
   "metadata": {},
   "outputs": [],
   "source": [
    "def embedded_boxes_example():\n",
    "    slice_spacing = 0.5\n",
    "    # Body structure defines slices in use\n",
    "    body = make_vertical_cylinder(roi_num=0, radius=20, length=30, offset_z=0,\n",
    "                                  spacing=slice_spacing)\n",
    "    # embedded boxes\n",
    "    cube6 = make_box(roi_num=1, width=6, spacing=slice_spacing)\n",
    "    cube3 = make_box(roi_num=2, width=3, offset_z=0, spacing=slice_spacing)\n",
    "    # combine the contours\n",
    "    slice_data = pd.concat([cube6, cube3, body])\n",
    "    # convert contour slice data into a table of slices and structures\n",
    "    slice_table = make_slice_table(slice_data, ignore_errors=True)\n",
    "    return slice_table"
   ]
  },
  {
   "cell_type": "code",
   "execution_count": 9,
   "metadata": {},
   "outputs": [
    {
     "name": "stdout",
     "output_type": "stream",
     "text": [
      "Relationship: Contains\n"
     ]
    }
   ],
   "source": [
    "slice_table = embedded_boxes_example()\n",
    "regions = generate_region_graph(slice_table)\n",
    "selected_roi = [1, 2]\n",
    "relation = find_relations(slice_table, regions, selected_roi)\n",
    "relation_type = relation.identify_relation()\n",
    "print(relation_type)\n",
    "assert relation_type == RelationshipType.CONTAINS"
   ]
  },
  {
   "cell_type": "markdown",
   "metadata": {},
   "source": [
    "#### Parallel Cylinders\n",
    "- Concentric cylinders with interior cylinder ending inside the exterior cylinder by one slice\n",
    "\n",
    "![Parallel Cylinders](<Images/FreeCAD Images/Parallel Cylinders.png>)"
   ]
  },
  {
   "cell_type": "code",
   "execution_count": 10,
   "metadata": {},
   "outputs": [],
   "source": [
    "def parallel_cylinders_example():\n",
    "    slice_spacing = 1\n",
    "    # Body structure defines slices in use\n",
    "    body = make_vertical_cylinder(roi_num=0, radius=12, length=10, offset_z=0,\n",
    "                                  spacing=slice_spacing)\n",
    "    left_cylinder = make_vertical_cylinder(roi_num=1, radius=2, length=8,\n",
    "                                           offset_x=-2.5, offset_z=0,\n",
    "                                           spacing=slice_spacing)\n",
    "    right_cylinder = make_vertical_cylinder(roi_num=1, radius=2, length=8,\n",
    "                                            offset_x=2.5, offset_z=0,\n",
    "                                            spacing=slice_spacing)\n",
    "    right_middle_cylinder = make_vertical_cylinder(roi_num=2, radius=1,\n",
    "                                                   length=6,\n",
    "                                                   offset_x=2.5, offset_z=0,\n",
    "                                                   spacing=slice_spacing)\n",
    "    # combine the contours\n",
    "    slice_data = pd.concat([body, left_cylinder, right_cylinder,\n",
    "                            right_middle_cylinder])\n",
    "    # convert contour slice data into a table of slices and structures\n",
    "    slice_table = make_slice_table(slice_data, ignore_errors=True)\n",
    "    return slice_table\n"
   ]
  },
  {
   "cell_type": "code",
   "execution_count": 11,
   "metadata": {},
   "outputs": [
    {
     "name": "stdout",
     "output_type": "stream",
     "text": [
      "Relationship: Contains\n"
     ]
    }
   ],
   "source": [
    "slice_table = parallel_cylinders_example()\n",
    "regions = generate_region_graph(slice_table)\n",
    "selected_roi = [1, 2]\n",
    "relation = find_relations(slice_table, regions, selected_roi)\n",
    "relation_type = relation.identify_relation()\n",
    "print(relation_type)\n",
    "assert relation_type == RelationshipType.CONTAINS"
   ]
  },
  {
   "cell_type": "markdown",
   "metadata": {},
   "source": [
    "#### Sphere in Sphere in Sphere\n",
    "- Hollow spheres with an inner sphere and second structure inside the inner sphere.\n",
    "\n",
    "![Sphere in Sphere in Sphere](<Images/FreeCAD Images/Sphere in Spheres in Shell.png>)"
   ]
  },
  {
   "cell_type": "code",
   "execution_count": 12,
   "metadata": {},
   "outputs": [],
   "source": [
    "def nested_spheres_example():\n",
    "    slice_spacing = 1\n",
    "    # Body structure defines slices in use\n",
    "    body = make_vertical_cylinder(roi_num=0, radius=16, length=20, offset_z=0,\n",
    "                                  spacing=slice_spacing)\n",
    "    sphere12 = make_sphere(roi_num=1, radius=6, spacing=slice_spacing)\n",
    "    hole10 = make_sphere(roi_num=1, radius=5, spacing=slice_spacing)\n",
    "    sphere8 = make_sphere(roi_num=1, radius=4, spacing=slice_spacing)\n",
    "    sphere6 = make_sphere(roi_num=2, radius=3, spacing=slice_spacing)\n",
    "\n",
    "    # combine the contours\n",
    "    slice_data = pd.concat([body, sphere12, hole10, sphere8, sphere6])\n",
    "    # convert contour slice data into a table of slices and structures\n",
    "    slice_table = make_slice_table(slice_data, ignore_errors=True)\n",
    "    return slice_table\n"
   ]
  },
  {
   "cell_type": "code",
   "execution_count": 13,
   "metadata": {},
   "outputs": [
    {
     "name": "stdout",
     "output_type": "stream",
     "text": [
      "Relationship: Contains\n"
     ]
    }
   ],
   "source": [
    "slice_table = nested_spheres_example()\n",
    "regions = generate_region_graph(slice_table)\n",
    "selected_roi = [1, 2]\n",
    "relation = find_relations(slice_table, regions, selected_roi)\n",
    "relation_type = relation.identify_relation()\n",
    "print(relation_type)\n",
    "assert relation_type == RelationshipType.CONTAINS"
   ]
  },
  {
   "cell_type": "markdown",
   "metadata": {},
   "source": [
    "## Surrounds"
   ]
  },
  {
   "cell_type": "markdown",
   "metadata": {},
   "source": [
    "<link rel=\"stylesheet\" href=\"relations.css\">\n",
    "<table width=\"350px\">\n",
    "<tr class=\"l\"><th>Surrounds</th><th>Transitive</t></tr>\n",
    "<td class=\"d\" colspan=\"2\">\n",
    "<span class=\"a\">a</span> and <span class=\"b\">b</span> have no points in common, but the Convex Hull of <span class=\"a\">a</span> contains <span class=\"b\">b</span>.\n",
    "</td></tr><tr><td colspan=\"2\">\n",
    "<img src=\"Images/Relationships/shelters.png\" alt=\"shelters\">\n",
    "</td></tr></table>\n"
   ]
  },
  {
   "cell_type": "markdown",
   "metadata": {},
   "source": [
    "#### Simple Surrounded Cylinders\n",
    "- Concentric hollow cylinders with an interior cylinder ending inside the outer cylinder's hole by one slice\n",
    "\n",
    "![Simple Surrounded Cylinders](<Images/FreeCAD Images/Surrounded cylinders.png>)"
   ]
  },
  {
   "cell_type": "code",
   "execution_count": 14,
   "metadata": {},
   "outputs": [],
   "source": [
    "def surrounded_cylinder_example():\n",
    "    slice_spacing = 1\n",
    "    # Body structure defines slices in use\n",
    "    body = make_vertical_cylinder(roi_num=0, radius=12, length=16, offset_z=0,\n",
    "                                  spacing=slice_spacing)\n",
    "    outer_cylinder = make_vertical_cylinder(roi_num=1, radius=6, length=10,\n",
    "                                            spacing=slice_spacing)\n",
    "    cylinder_hole = make_vertical_cylinder(roi_num=1, radius=5, length=8,\n",
    "                                           spacing=slice_spacing)\n",
    "    surrounded_cylinder = make_vertical_cylinder(roi_num=2, radius=3, length=6,\n",
    "                                                 spacing=slice_spacing)\n",
    "\n",
    "    # combine the contours\n",
    "    slice_data = pd.concat([body, outer_cylinder, cylinder_hole,\n",
    "                            surrounded_cylinder])\n",
    "    # convert contour slice data into a table of slices and structures\n",
    "    slice_table = make_slice_table(slice_data, ignore_errors=True)\n",
    "    return slice_table\n"
   ]
  },
  {
   "cell_type": "code",
   "execution_count": 15,
   "metadata": {},
   "outputs": [
    {
     "name": "stdout",
     "output_type": "stream",
     "text": [
      "Relationship: Surrounds\n"
     ]
    }
   ],
   "source": [
    "slice_table = surrounded_cylinder_example()\n",
    "regions = generate_region_graph(slice_table)\n",
    "selected_roi = [1, 2]\n",
    "relation = find_relations(slice_table, regions, selected_roi)\n",
    "relation_type = relation.identify_relation()\n",
    "print(relation_type)\n",
    "assert relation_type == RelationshipType.SURROUNDS"
   ]
  },
  {
   "cell_type": "markdown",
   "metadata": {},
   "source": [
    "#### Horizontal Surrounded Cylinders\n",
    "- Concentric hollow cylinders with an interior cylinder ending inside the outer cylinder's hole by one slice\n",
    "\n",
    "![Horizontal Cylinders](<Images/FreeCAD Images/Horizontal Surrounded cylinders.png>)"
   ]
  },
  {
   "cell_type": "code",
   "execution_count": 16,
   "metadata": {},
   "outputs": [],
   "source": [
    "def surrounded_horizontal_cylinder_example():\n",
    "    slice_spacing = 1\n",
    "    # Body structure defines slices in use\n",
    "    body = make_vertical_cylinder(roi_num=0, radius=12, length=16, offset_z=0,\n",
    "                                  spacing=slice_spacing)\n",
    "    outer_cylinder = make_horizontal_cylinder(roi_num=1, radius=6, length=10,\n",
    "                                            spacing=slice_spacing)\n",
    "    cylinder_hole = make_horizontal_cylinder(roi_num=1, radius=5, length=8,\n",
    "                                           spacing=slice_spacing)\n",
    "    surrounded_cylinder = make_horizontal_cylinder(roi_num=2, radius=3, length=6,\n",
    "                                                 spacing=slice_spacing)\n",
    "\n",
    "    # combine the contours\n",
    "    slice_data = pd.concat([body, outer_cylinder, cylinder_hole,\n",
    "                            surrounded_cylinder])\n",
    "    # convert contour slice data into a table of slices and structures\n",
    "    slice_table = make_slice_table(slice_data, ignore_errors=True)\n",
    "    return slice_table\n"
   ]
  },
  {
   "cell_type": "code",
   "execution_count": 17,
   "metadata": {},
   "outputs": [
    {
     "name": "stdout",
     "output_type": "stream",
     "text": [
      "Relationship: Surrounds\n"
     ]
    }
   ],
   "source": [
    "slice_table = surrounded_horizontal_cylinder_example()\n",
    "regions = generate_region_graph(slice_table)\n",
    "selected_roi = [1, 2]\n",
    "relation = find_relations(slice_table, regions, selected_roi)\n",
    "relation_type = relation.identify_relation()\n",
    "print(relation_type)\n",
    "assert relation_type == RelationshipType.SURROUNDS"
   ]
  },
  {
   "cell_type": "markdown",
   "metadata": {},
   "source": [
    "#### Sphere in Shell\n",
    "- Hollow sphere with the second structure as an inner sphere.\n",
    "\n",
    "![Sphere in Shell](<Images/FreeCAD Images/Sphere in Shell.png>)"
   ]
  },
  {
   "cell_type": "code",
   "execution_count": 18,
   "metadata": {},
   "outputs": [],
   "source": [
    "def sphere_in_shell_example():\n",
    "    slice_spacing = 1\n",
    "    # Body structure defines slices in use\n",
    "    body = make_vertical_cylinder(roi_num=0, radius=16, length=20, offset_z=0,\n",
    "                                  spacing=slice_spacing)\n",
    "    sphere12 = make_sphere(roi_num=1, radius=6, spacing=slice_spacing)\n",
    "    hole10 = make_sphere(roi_num=1, radius=5, spacing=slice_spacing)\n",
    "    sphere6 = make_sphere(roi_num=2, radius=3, spacing=slice_spacing)\n",
    "\n",
    "    # combine the contours\n",
    "    slice_data = pd.concat([body, sphere12, hole10, sphere6])\n",
    "    # convert contour slice data into a table of slices and structures\n",
    "    slice_table = make_slice_table(slice_data, ignore_errors=True)\n",
    "    return slice_table\n"
   ]
  },
  {
   "cell_type": "code",
   "execution_count": 19,
   "metadata": {},
   "outputs": [
    {
     "name": "stdout",
     "output_type": "stream",
     "text": [
      "Relationship: Surrounds\n"
     ]
    }
   ],
   "source": [
    "slice_table = sphere_in_shell_example()\n",
    "regions = generate_region_graph(slice_table)\n",
    "selected_roi = [1, 2]\n",
    "relation = find_relations(slice_table, regions, selected_roi)\n",
    "relation_type = relation.identify_relation()\n",
    "print(relation_type)\n",
    "assert relation_type == RelationshipType.SURROUNDS"
   ]
  },
  {
   "cell_type": "markdown",
   "metadata": {},
   "source": [
    "#### Sphere in Cylinder in Box\n",
    "![alt text](<Images/FreeCAD Images/Sphere in Cylinder in Box.png>)"
   ]
  },
  {
   "cell_type": "code",
   "execution_count": 20,
   "metadata": {},
   "outputs": [],
   "source": [
    "def sphere_in_cylinders_in_box_example():\n",
    "    slice_spacing = 1\n",
    "    # Body structure defines slices in use\n",
    "    body = make_box(roi_num=0, width=20, offset_z=0,\n",
    "                                  spacing=slice_spacing)\n",
    "    # embedded boxes\n",
    "    cube6 = make_box(roi_num=1, width=10, length=10, height=10, spacing=slice_spacing)\n",
    "    left_cylinder = make_vertical_cylinder(roi_num=1, radius=2, length=8,\n",
    "                                           offset_x=-2.5, offset_z=0,\n",
    "                                           spacing=slice_spacing)\n",
    "    right_cylinder = make_vertical_cylinder(roi_num=1, radius=2, length=8,\n",
    "                                            offset_x=2.5, offset_z=0,\n",
    "                                            spacing=slice_spacing)\n",
    "    right_sphere = make_sphere(roi_num=2, radius=1,\n",
    "                               offset_x=2.5, offset_z=0,\n",
    "                               spacing=slice_spacing)\n",
    "    # combine the contours\n",
    "    slice_data = pd.concat([body, cube6, left_cylinder, right_cylinder,\n",
    "                            right_sphere])\n",
    "    # convert contour slice data into a table of slices and structures\n",
    "    slice_table = make_slice_table(slice_data, ignore_errors=True)\n",
    "    return slice_table"
   ]
  },
  {
   "cell_type": "code",
   "execution_count": 21,
   "metadata": {},
   "outputs": [
    {
     "name": "stdout",
     "output_type": "stream",
     "text": [
      "Relationship: Surrounds\n"
     ]
    }
   ],
   "source": [
    "slice_table = sphere_in_cylinders_in_box_example()\n",
    "regions = generate_region_graph(slice_table)\n",
    "selected_roi = [1, 2]\n",
    "relation = find_relations(slice_table, regions, selected_roi)\n",
    "relation_type = relation.identify_relation()\n",
    "print(relation_type)\n",
    "assert relation_type == RelationshipType.SURROUNDS"
   ]
  },
  {
   "cell_type": "markdown",
   "metadata": {},
   "source": [
    "## Shelters\n",
    "<link rel=\"stylesheet\" href=\"relations.css\">\n",
    "<table width=\"350px\">\n",
    "<tr class=\"l\"><th>Shelters</th><th>Transitive</t></tr>\n",
    "<td class=\"d\" colspan=\"2\">\n",
    "<span class=\"a\">a</span> and <span class=\"b\">b</span> have no points in common, but the Convex Hull of <span class=\"a\">a</span> contains <span class=\"b\">b</span>.\n",
    "</td></tr><tr><td colspan=\"2\">\n",
    "<img src=\"Images/Relationships/shelters.png\" alt=\"shelters\">\n",
    "</td></tr></table>\n",
    "\n",
    "- Surrounds geometry with hole opened to exterior\n"
   ]
  },
  {
   "cell_type": "markdown",
   "metadata": {},
   "source": [
    "#### Horizontal Sheltered Cylinder\n",
    "- Cylindrical shell with an interior cylinder ending inside the outer cylinder\n",
    "\n",
    "![Sheltered Horizontal cylinder](<Images/FreeCAD Images/Sheltered Horizontal cylinder.png>)"
   ]
  },
  {
   "cell_type": "code",
   "execution_count": 22,
   "metadata": {},
   "outputs": [],
   "source": [
    "def shelters_horizontal_cylinder_example():\n",
    "    slice_spacing = 1\n",
    "    # Body structure defines slices in use\n",
    "    body = make_vertical_cylinder(roi_num=0, radius=12, length=16, offset_z=0,\n",
    "                                  spacing=slice_spacing)\n",
    "    outer_cylinder = make_horizontal_cylinder(roi_num=1, radius=6, length=10,\n",
    "                                            spacing=slice_spacing)\n",
    "    cylinder_hole = make_horizontal_cylinder(roi_num=1, radius=5, length=10,\n",
    "                                           spacing=slice_spacing)\n",
    "    surrounded_cylinder = make_horizontal_cylinder(roi_num=2, radius=3, length=6,\n",
    "                                                 spacing=slice_spacing)\n",
    "\n",
    "    # combine the contours\n",
    "    slice_data = pd.concat([outer_cylinder, cylinder_hole,\n",
    "                            surrounded_cylinder])\n",
    "    # convert contour slice data into a table of slices and structures\n",
    "    slice_table = make_slice_table(slice_data, ignore_errors=True)\n",
    "    return slice_table\n"
   ]
  },
  {
   "cell_type": "markdown",
   "metadata": {},
   "source": [
    "**Currently identified as _Disjoint_**"
   ]
  },
  {
   "cell_type": "code",
   "execution_count": 23,
   "metadata": {},
   "outputs": [
    {
     "name": "stdout",
     "output_type": "stream",
     "text": [
      "Relationship: Disjoint\n"
     ]
    }
   ],
   "source": [
    "slice_table = shelters_horizontal_cylinder_example()\n",
    "regions = generate_region_graph(slice_table)\n",
    "selected_roi = [1, 2]\n",
    "relation = find_relations(slice_table, regions, selected_roi)\n",
    "relation_type = relation.identify_relation()\n",
    "print(relation_type)\n",
    "#assert relation_type == RelationshipType.SHELTERS"
   ]
  },
  {
   "cell_type": "markdown",
   "metadata": {},
   "source": [
    "#### Simple Sheltered Vertical Cylinder\n",
    "- Hollow cylindrical shell with an interior cylinder ending inside the shell\n",
    "\n",
    "![Sheltered cylinder](<Images/FreeCAD Images/Sheltered cylinder.png>)"
   ]
  },
  {
   "cell_type": "code",
   "execution_count": 24,
   "metadata": {},
   "outputs": [],
   "source": [
    "def shelters_cylinder_example():\n",
    "    slice_spacing = 1\n",
    "    # Body structure defines slices in use\n",
    "    body = make_vertical_cylinder(roi_num=0, radius=12, length=16, offset_z=0,\n",
    "                                  spacing=slice_spacing)\n",
    "    outer_cylinder = make_vertical_cylinder(roi_num=1, radius=6, length=10,\n",
    "                                            spacing=slice_spacing)\n",
    "    cylinder_hole = make_vertical_cylinder(roi_num=1, radius=5, length=10,\n",
    "                                           spacing=slice_spacing)\n",
    "    surrounded_cylinder = make_vertical_cylinder(roi_num=2, radius=3, length=6,\n",
    "                                                 spacing=slice_spacing)\n",
    "\n",
    "    # combine the contours\n",
    "    slice_data = pd.concat([body, outer_cylinder, cylinder_hole,\n",
    "                            surrounded_cylinder])\n",
    "    # convert contour slice data into a table of slices and structures\n",
    "    slice_table = make_slice_table(slice_data, ignore_errors=True)\n",
    "    return slice_table\n"
   ]
  },
  {
   "cell_type": "markdown",
   "metadata": {},
   "source": [
    "**Currently identified as _Surrounds_**"
   ]
  },
  {
   "cell_type": "code",
   "execution_count": 25,
   "metadata": {},
   "outputs": [
    {
     "name": "stdout",
     "output_type": "stream",
     "text": [
      "Relationship: Surrounds\n"
     ]
    }
   ],
   "source": [
    "slice_table = shelters_cylinder_example()\n",
    "regions = generate_region_graph(slice_table)\n",
    "selected_roi = [1, 2]\n",
    "relation = find_relations(slice_table, regions, selected_roi)\n",
    "relation_type = relation.identify_relation()\n",
    "print(relation_type)\n",
    "#assert relation_type == RelationshipType.SHELTERS"
   ]
  },
  {
   "cell_type": "markdown",
   "metadata": {},
   "source": [
    "#### Sphere in Cylinder in Box\n",
    "![alt text](<Images/FreeCAD Images/Sphere in Cylinder in Box.png>)"
   ]
  },
  {
   "cell_type": "code",
   "execution_count": 26,
   "metadata": {},
   "outputs": [],
   "source": [
    "def sphere_in_cylinders_in_box_example():\n",
    "    slice_spacing = 1\n",
    "    # Body structure defines slices in use\n",
    "    body = make_box(roi_num=0, width=12, offset_z=0,\n",
    "                                  spacing=slice_spacing)\n",
    "    # embedded boxes\n",
    "    cube6 = make_box(roi_num=1, width=10, length=10, height=8, spacing=slice_spacing)\n",
    "    left_cylinder = make_vertical_cylinder(roi_num=1, radius=2, length=8,\n",
    "                                           offset_x=-2.5, offset_z=0,\n",
    "                                           spacing=slice_spacing)\n",
    "    right_cylinder = make_vertical_cylinder(roi_num=1, radius=2, length=8,\n",
    "                                            offset_x=2.5, offset_z=0,\n",
    "                                            spacing=slice_spacing)\n",
    "    right_sphere = make_sphere(roi_num=2, radius=1,\n",
    "                               offset_x=2.5, offset_z=0,\n",
    "                               spacing=slice_spacing)\n",
    "    # combine the contours\n",
    "    slice_data = pd.concat([body, cube6, left_cylinder, right_cylinder,\n",
    "                            right_sphere])\n",
    "    # convert contour slice data into a table of slices and structures\n",
    "    slice_table = make_slice_table(slice_data, ignore_errors=True)\n",
    "    return slice_table"
   ]
  },
  {
   "cell_type": "markdown",
   "metadata": {},
   "source": [
    "**Currently identified as _Surrounds_**"
   ]
  },
  {
   "cell_type": "code",
   "execution_count": 28,
   "metadata": {},
   "outputs": [
    {
     "name": "stdout",
     "output_type": "stream",
     "text": [
      "Relationship: Surrounds\n"
     ]
    }
   ],
   "source": [
    "slice_table = sphere_in_cylinders_in_box_example()\n",
    "regions = generate_region_graph(slice_table)\n",
    "selected_roi = [1, 2]\n",
    "relation = find_relations(slice_table, regions, selected_roi)\n",
    "relation_type = relation.identify_relation()\n",
    "print(relation_type)\n",
    "#assert relation_type == RelationshipType.SHELTERS"
   ]
  },
  {
   "cell_type": "markdown",
   "metadata": {},
   "source": [
    "## Disjoint"
   ]
  },
  {
   "cell_type": "markdown",
   "metadata": {},
   "source": [
    "<link rel=\"stylesheet\" href=\"relations.css\">\n",
    "<table width=\"350px\">\n",
    "<tr class=\"l\"><th>Disjoint</th><th>Symmetric</th></tr>\n",
    "<td class=\"d\" colspan=\"2\">The Convex Hull of \n",
    "<span class=\"a\">a</span> has no points in common wuth <span class=\"b\">b</span>.</td></tr>\n",
    "<tr><td colspan=\"2\">\n",
    "<img src=\"Images/Relationships/disjoint.png\" alt=\"Disjoint\" style=\"width: 200px\">\n",
    "</td></tr></table>"
   ]
  },
  {
   "cell_type": "markdown",
   "metadata": {},
   "source": [
    "#### Disjoint Boxes\n",
    "![Disjoint Boxes](<Images/FreeCAD Images/Disjoint Boxes.png>)"
   ]
  },
  {
   "cell_type": "code",
   "execution_count": 29,
   "metadata": {},
   "outputs": [],
   "source": [
    "def disjoint_boxes_example():\n",
    "    slice_spacing = 0.1\n",
    "    # Body structure defines slices in use\n",
    "    body = make_vertical_cylinder(roi_num=0, radius=20, length=20, offset_z=0,\n",
    "                                  spacing=slice_spacing)\n",
    "    # embedded boxes\n",
    "    left_cube = make_box(roi_num=1, width=2, offset_x=-3,\n",
    "                         spacing=slice_spacing)\n",
    "    right_cube = make_box(roi_num=2, width=2, offset_x=3,\n",
    "                         spacing=slice_spacing)\n",
    "    # combine the contours\n",
    "    slice_data = pd.concat([left_cube, right_cube, body])\n",
    "    # convert contour slice data into a table of slices and structures\n",
    "    slice_table = make_slice_table(slice_data, ignore_errors=True)\n",
    "    return slice_table"
   ]
  },
  {
   "cell_type": "code",
   "execution_count": 30,
   "metadata": {},
   "outputs": [
    {
     "name": "stdout",
     "output_type": "stream",
     "text": [
      "Relationship: Disjoint\n"
     ]
    }
   ],
   "source": [
    "slice_table = disjoint_boxes_example()\n",
    "regions = generate_region_graph(slice_table)\n",
    "selected_roi = [1, 2]\n",
    "relation = find_relations(slice_table, regions, selected_roi)\n",
    "relation_type = relation.identify_relation()\n",
    "print(relation_type)\n",
    "assert relation_type == RelationshipType.DISJOINT"
   ]
  },
  {
   "cell_type": "markdown",
   "metadata": {},
   "source": [
    "#### Extended Inner Cylinder\n",
    "- Concentric hollow cylinder with an interior cylinder extending beyond the outer cylinder's hole by one slice\n",
    "\n",
    "![Extended Inner Cylinder](<Images/FreeCAD Images/Extended Inner cylinder.png>)"
   ]
  },
  {
   "cell_type": "code",
   "execution_count": 31,
   "metadata": {},
   "outputs": [],
   "source": [
    "def extended_inner_cylinder_example():\n",
    "    slice_spacing = 1\n",
    "    # Body structure defines slices in use\n",
    "    body = make_vertical_cylinder(roi_num=0, radius=12, length=16, offset_z=0,\n",
    "                                  spacing=slice_spacing)\n",
    "    outer_cylinder = make_vertical_cylinder(roi_num=1, radius=6, length=10,\n",
    "                                            spacing=slice_spacing)\n",
    "    cylinder_hole = make_vertical_cylinder(roi_num=1, radius=5, length=10,\n",
    "                                           spacing=slice_spacing)\n",
    "    inner_cylinder = make_vertical_cylinder(roi_num=2, radius=3, length=12,\n",
    "                                                 spacing=slice_spacing)\n",
    "\n",
    "    # combine the contours\n",
    "    slice_data = pd.concat([body, outer_cylinder, cylinder_hole,\n",
    "                            inner_cylinder])\n",
    "    # convert contour slice data into a table of slices and structures\n",
    "    slice_table = make_slice_table(slice_data, ignore_errors=True)\n",
    "    return slice_table\n"
   ]
  },
  {
   "cell_type": "code",
   "execution_count": 32,
   "metadata": {},
   "outputs": [
    {
     "name": "stdout",
     "output_type": "stream",
     "text": [
      "Relationship: Surrounds\n"
     ]
    }
   ],
   "source": [
    "slice_table = extended_inner_cylinder_example()\n",
    "regions = generate_region_graph(slice_table)\n",
    "selected_roi = [1, 2]\n",
    "relation = find_relations(slice_table, regions, selected_roi)\n",
    "relation_type = relation.identify_relation()\n",
    "print(relation_type)\n",
    "#assert relation_type == RelationshipType.DISJOINT"
   ]
  },
  {
   "cell_type": "markdown",
   "metadata": {},
   "source": [
    "# Add Extended Inner Horizontal Cylinder\n",
    "- Same as above but with horizontal cylinders\n",
    "\n",
    "***To Be Done***"
   ]
  },
  {
   "cell_type": "markdown",
   "metadata": {},
   "source": [
    "#### Disjoint Parallel Cylinders\n",
    "- Concentric hollow cylinder surrounding one of two smaller cylinders\n",
    "- Second cylinder is parallel, but **Disjoint**.\n",
    "- The relationship is **Disjoint** because the Second cylinder is outside of the First Structure.\n",
    "\n",
    "![Disjoint Parallel Cylinders](<Images/FreeCAD Images/Disjoint Parallel Cylinders.png>)"
   ]
  },
  {
   "cell_type": "code",
   "execution_count": 33,
   "metadata": {},
   "outputs": [],
   "source": [
    "def parallel_disjoint_cylinder_example():\n",
    "    slice_spacing = 1\n",
    "    # Body structure defines slices in use\n",
    "    body = make_vertical_cylinder(roi_num=0, radius=25, length=16, offset_z=0,\n",
    "                                  spacing=slice_spacing)\n",
    "    outer_cylinder = make_vertical_cylinder(roi_num=1, radius=6, length=10,\n",
    "                                            spacing=slice_spacing)\n",
    "    cylinder_hole = make_vertical_cylinder(roi_num=1, radius=5, length=8,\n",
    "                                           spacing=slice_spacing)\n",
    "    inner_cylinder = make_vertical_cylinder(roi_num=2, radius=3, length=6,\n",
    "                                                 spacing=slice_spacing)\n",
    "\n",
    "    disjoint_cylinder = make_vertical_cylinder(roi_num=2, radius=3, length=6,\n",
    "                                                 offset_x=10, spacing=slice_spacing)\n",
    "\n",
    "    # combine the contours\n",
    "    slice_data = pd.concat([body, outer_cylinder, cylinder_hole,\n",
    "                            inner_cylinder, disjoint_cylinder])\n",
    "    # convert contour slice data into a table of slices and structures\n",
    "    slice_table = make_slice_table(slice_data, ignore_errors=True)\n",
    "    return slice_table\n"
   ]
  },
  {
   "cell_type": "code",
   "execution_count": 34,
   "metadata": {},
   "outputs": [
    {
     "name": "stdout",
     "output_type": "stream",
     "text": [
      "Relationship: Surrounds\n"
     ]
    }
   ],
   "source": [
    "slice_table = extended_inner_cylinder_example()\n",
    "regions = generate_region_graph(slice_table)\n",
    "selected_roi = [1, 2]\n",
    "relation = find_relations(slice_table, regions, selected_roi)\n",
    "relation_type = relation.identify_relation()\n",
    "print(relation_type)\n",
    "#assert relation_type == RelationshipType.DISJOINT"
   ]
  },
  {
   "cell_type": "markdown",
   "metadata": {},
   "source": [
    "#### Disjoint Axial Cylinders\n",
    "- Concentric hollow cylinder surrounding one of two smaller cylinders\n",
    "- Second cylinder is on the same axis as the first, but above, making it **Disjoint**.\n",
    "- The relationship is **Disjoint** because the Second cylinder is outside of the First Structure.\n",
    "\n",
    "![Disjoint Parallel Cylinders](<Images/FreeCAD Images/Disjoint Axial Cylinders.png>)"
   ]
  },
  {
   "cell_type": "code",
   "execution_count": 35,
   "metadata": {},
   "outputs": [],
   "source": [
    "def axial_disjoint_cylinder_example():\n",
    "    slice_spacing = 1\n",
    "    # Body structure defines slices in use\n",
    "    body = make_vertical_cylinder(roi_num=0, radius=10, length=30, offset_z=0,\n",
    "                                  spacing=slice_spacing)\n",
    "    outer_cylinder = make_vertical_cylinder(roi_num=1, radius=6, length=10,\n",
    "                                            spacing=slice_spacing)\n",
    "    cylinder_hole = make_vertical_cylinder(roi_num=1, radius=5, length=8,\n",
    "                                           spacing=slice_spacing)\n",
    "    inner_cylinder = make_vertical_cylinder(roi_num=2, radius=3, length=6,\n",
    "                                                 spacing=slice_spacing)\n",
    "\n",
    "    disjoint_cylinder = make_vertical_cylinder(roi_num=2, radius=3, length=6,\n",
    "                                                 offset_z=12, spacing=slice_spacing)\n",
    "\n",
    "    # combine the contours\n",
    "    slice_data = pd.concat([body, outer_cylinder, cylinder_hole,\n",
    "                            inner_cylinder, disjoint_cylinder])\n",
    "    # convert contour slice data into a table of slices and structures\n",
    "    slice_table = make_slice_table(slice_data, ignore_errors=True)\n",
    "    return slice_table\n"
   ]
  },
  {
   "cell_type": "code",
   "execution_count": 36,
   "metadata": {},
   "outputs": [
    {
     "name": "stdout",
     "output_type": "stream",
     "text": [
      "Relationship: Surrounds\n"
     ]
    }
   ],
   "source": [
    "slice_table = extended_inner_cylinder_example()\n",
    "regions = generate_region_graph(slice_table)\n",
    "selected_roi = [1, 2]\n",
    "relation = find_relations(slice_table, regions, selected_roi)\n",
    "relation_type = relation.identify_relation()\n",
    "print(relation_type)\n",
    "#assert relation_type == RelationshipType.DISJOINT"
   ]
  },
  {
   "cell_type": "markdown",
   "metadata": {},
   "source": [
    "#### Disjoint Concentric Cylinders\n",
    "- Centred vertical cylinder with two cylinders on the same axis, above and \n",
    "below the primary cylinder.\n",
    "\n",
    "![Disjoint Concentric Cylinders](<Images/FreeCAD Images/Disjoint Concentric Cylinders.png>)\n"
   ]
  },
  {
   "cell_type": "code",
   "execution_count": 57,
   "metadata": {},
   "outputs": [],
   "source": [
    "def disjoint_concentric_cylinders_example():\n",
    "    slice_spacing = 1\n",
    "    # Body structure defines slices in use\n",
    "    body = make_vertical_cylinder(roi_num=0, radius=12, length=10,\n",
    "                                  spacing=slice_spacing)\n",
    "    # Centred cylinder\n",
    "    primary_cylinder = make_vertical_cylinder(roi_num=1, radius=3, length=8,\n",
    "                                              offset_z=0,\n",
    "                                              spacing=slice_spacing)\n",
    "    # cylinder 2 slices above primary cylinder\n",
    "    upper_cylinder1 = make_vertical_cylinder(roi_num=2, radius=1, length=2,\n",
    "                                             offset_z=7,\n",
    "                                             spacing=slice_spacing)\n",
    "    # cylinder 2 slices below primary cylinder\n",
    "    lower_cylinder2 = make_vertical_cylinder(roi_num=2, radius=1, length=2,\n",
    "                                             offset_z=-7,\n",
    "                                             spacing=slice_spacing)\n",
    "    # combine the contours\n",
    "    slice_data = pd.concat([body, primary_cylinder, upper_cylinder1,\n",
    "                            lower_cylinder2])\n",
    "    # convert contour slice data into a table of slices and structures\n",
    "    slice_table = make_slice_table(slice_data, ignore_errors=True)\n",
    "    return slice_table\n"
   ]
  },
  {
   "cell_type": "markdown",
   "metadata": {},
   "source": [
    "# Error: Bug in `find_relations`"
   ]
  },
  {
   "cell_type": "code",
   "execution_count": 58,
   "metadata": {},
   "outputs": [
    {
     "ename": "ValueError",
     "evalue": "Must supply either StructureSlices or a relationship string to create a DE27IM object.",
     "output_type": "error",
     "traceback": [
      "\u001b[1;31m---------------------------------------------------------------------------\u001b[0m",
      "\u001b[1;31mValueError\u001b[0m                                Traceback (most recent call last)",
      "Cell \u001b[1;32mIn[58], line 4\u001b[0m\n\u001b[0;32m      2\u001b[0m regions \u001b[38;5;241m=\u001b[39m generate_region_graph(slice_table)\n\u001b[0;32m      3\u001b[0m selected_roi \u001b[38;5;241m=\u001b[39m [\u001b[38;5;241m1\u001b[39m, \u001b[38;5;241m2\u001b[39m]\n\u001b[1;32m----> 4\u001b[0m relation \u001b[38;5;241m=\u001b[39m find_relations(slice_table, regions, selected_roi)\n\u001b[0;32m      5\u001b[0m relation_type \u001b[38;5;241m=\u001b[39m relation\u001b[38;5;241m.\u001b[39midentify_relation()\n\u001b[0;32m      6\u001b[0m \u001b[38;5;28mprint\u001b[39m(relation_type)\n",
      "File \u001b[1;32mD:\\OneDrive - Queen's University\\Python\\Projects\\StructureRelations\\src\\relations.py:878\u001b[0m, in \u001b[0;36mfind_relations\u001b[1;34m(slice_table, regions, selected_roi)\u001b[0m\n\u001b[0;32m    875\u001b[0m selected_slices \u001b[38;5;241m=\u001b[39m select_slices(slice_table, selected_roi)\n\u001b[0;32m    876\u001b[0m \u001b[38;5;66;03m# Send all slices with both Primary and Secondary contours for standard\u001b[39;00m\n\u001b[0;32m    877\u001b[0m \u001b[38;5;66;03m# relation testing\u001b[39;00m\n\u001b[1;32m--> 878\u001b[0m mid_relations \u001b[38;5;241m=\u001b[39m \u001b[38;5;28mlist\u001b[39m(selected_slices\u001b[38;5;241m.\u001b[39magg(relate_structures,\n\u001b[0;32m    879\u001b[0m                                          structures\u001b[38;5;241m=\u001b[39mselected_roi,\n\u001b[0;32m    880\u001b[0m                                          axis\u001b[38;5;241m=\u001b[39m\u001b[38;5;124m'\u001b[39m\u001b[38;5;124mcolumns\u001b[39m\u001b[38;5;124m'\u001b[39m))\n\u001b[0;32m    881\u001b[0m boundary_relations \u001b[38;5;241m=\u001b[39m get_boundary_relations(regions, selected_roi)\n\u001b[0;32m    882\u001b[0m mid_relations\u001b[38;5;241m.\u001b[39mextend(boundary_relations)\n",
      "File \u001b[1;32md:\\.conda\\envs\\StructureRelations\\Lib\\site-packages\\pandas\\core\\frame.py:10149\u001b[0m, in \u001b[0;36mDataFrame.aggregate\u001b[1;34m(self, func, axis, *args, **kwargs)\u001b[0m\n\u001b[0;32m  10146\u001b[0m axis \u001b[38;5;241m=\u001b[39m \u001b[38;5;28mself\u001b[39m\u001b[38;5;241m.\u001b[39m_get_axis_number(axis)\n\u001b[0;32m  10148\u001b[0m op \u001b[38;5;241m=\u001b[39m frame_apply(\u001b[38;5;28mself\u001b[39m, func\u001b[38;5;241m=\u001b[39mfunc, axis\u001b[38;5;241m=\u001b[39maxis, args\u001b[38;5;241m=\u001b[39margs, kwargs\u001b[38;5;241m=\u001b[39mkwargs)\n\u001b[1;32m> 10149\u001b[0m result \u001b[38;5;241m=\u001b[39m op\u001b[38;5;241m.\u001b[39magg()\n\u001b[0;32m  10150\u001b[0m result \u001b[38;5;241m=\u001b[39m reconstruct_and_relabel_result(result, func, \u001b[38;5;241m*\u001b[39m\u001b[38;5;241m*\u001b[39mkwargs)\n\u001b[0;32m  10151\u001b[0m \u001b[38;5;28;01mreturn\u001b[39;00m result\n",
      "File \u001b[1;32md:\\.conda\\envs\\StructureRelations\\Lib\\site-packages\\pandas\\core\\apply.py:937\u001b[0m, in \u001b[0;36mFrameApply.agg\u001b[1;34m(self)\u001b[0m\n\u001b[0;32m    934\u001b[0m     result \u001b[38;5;241m=\u001b[39m result\u001b[38;5;241m.\u001b[39mT \u001b[38;5;28;01mif\u001b[39;00m result \u001b[38;5;129;01mis\u001b[39;00m \u001b[38;5;129;01mnot\u001b[39;00m \u001b[38;5;28;01mNone\u001b[39;00m \u001b[38;5;28;01melse\u001b[39;00m result\n\u001b[0;32m    936\u001b[0m \u001b[38;5;28;01mif\u001b[39;00m result \u001b[38;5;129;01mis\u001b[39;00m \u001b[38;5;28;01mNone\u001b[39;00m:\n\u001b[1;32m--> 937\u001b[0m     result \u001b[38;5;241m=\u001b[39m \u001b[38;5;28mself\u001b[39m\u001b[38;5;241m.\u001b[39mobj\u001b[38;5;241m.\u001b[39mapply(\u001b[38;5;28mself\u001b[39m\u001b[38;5;241m.\u001b[39mfunc, axis, args\u001b[38;5;241m=\u001b[39m\u001b[38;5;28mself\u001b[39m\u001b[38;5;241m.\u001b[39margs, \u001b[38;5;241m*\u001b[39m\u001b[38;5;241m*\u001b[39m\u001b[38;5;28mself\u001b[39m\u001b[38;5;241m.\u001b[39mkwargs)\n\u001b[0;32m    939\u001b[0m \u001b[38;5;28;01mreturn\u001b[39;00m result\n",
      "File \u001b[1;32md:\\.conda\\envs\\StructureRelations\\Lib\\site-packages\\pandas\\core\\frame.py:10374\u001b[0m, in \u001b[0;36mDataFrame.apply\u001b[1;34m(self, func, axis, raw, result_type, args, by_row, engine, engine_kwargs, **kwargs)\u001b[0m\n\u001b[0;32m  10360\u001b[0m \u001b[38;5;28;01mfrom\u001b[39;00m \u001b[38;5;21;01mpandas\u001b[39;00m\u001b[38;5;21;01m.\u001b[39;00m\u001b[38;5;21;01mcore\u001b[39;00m\u001b[38;5;21;01m.\u001b[39;00m\u001b[38;5;21;01mapply\u001b[39;00m \u001b[38;5;28;01mimport\u001b[39;00m frame_apply\n\u001b[0;32m  10362\u001b[0m op \u001b[38;5;241m=\u001b[39m frame_apply(\n\u001b[0;32m  10363\u001b[0m     \u001b[38;5;28mself\u001b[39m,\n\u001b[0;32m  10364\u001b[0m     func\u001b[38;5;241m=\u001b[39mfunc,\n\u001b[1;32m   (...)\u001b[0m\n\u001b[0;32m  10372\u001b[0m     kwargs\u001b[38;5;241m=\u001b[39mkwargs,\n\u001b[0;32m  10373\u001b[0m )\n\u001b[1;32m> 10374\u001b[0m \u001b[38;5;28;01mreturn\u001b[39;00m op\u001b[38;5;241m.\u001b[39mapply()\u001b[38;5;241m.\u001b[39m__finalize__(\u001b[38;5;28mself\u001b[39m, method\u001b[38;5;241m=\u001b[39m\u001b[38;5;124m\"\u001b[39m\u001b[38;5;124mapply\u001b[39m\u001b[38;5;124m\"\u001b[39m)\n",
      "File \u001b[1;32md:\\.conda\\envs\\StructureRelations\\Lib\\site-packages\\pandas\\core\\apply.py:916\u001b[0m, in \u001b[0;36mFrameApply.apply\u001b[1;34m(self)\u001b[0m\n\u001b[0;32m    913\u001b[0m \u001b[38;5;28;01melif\u001b[39;00m \u001b[38;5;28mself\u001b[39m\u001b[38;5;241m.\u001b[39mraw:\n\u001b[0;32m    914\u001b[0m     \u001b[38;5;28;01mreturn\u001b[39;00m \u001b[38;5;28mself\u001b[39m\u001b[38;5;241m.\u001b[39mapply_raw(engine\u001b[38;5;241m=\u001b[39m\u001b[38;5;28mself\u001b[39m\u001b[38;5;241m.\u001b[39mengine, engine_kwargs\u001b[38;5;241m=\u001b[39m\u001b[38;5;28mself\u001b[39m\u001b[38;5;241m.\u001b[39mengine_kwargs)\n\u001b[1;32m--> 916\u001b[0m \u001b[38;5;28;01mreturn\u001b[39;00m \u001b[38;5;28mself\u001b[39m\u001b[38;5;241m.\u001b[39mapply_standard()\n",
      "File \u001b[1;32md:\\.conda\\envs\\StructureRelations\\Lib\\site-packages\\pandas\\core\\apply.py:1063\u001b[0m, in \u001b[0;36mFrameApply.apply_standard\u001b[1;34m(self)\u001b[0m\n\u001b[0;32m   1061\u001b[0m \u001b[38;5;28;01mdef\u001b[39;00m \u001b[38;5;21mapply_standard\u001b[39m(\u001b[38;5;28mself\u001b[39m):\n\u001b[0;32m   1062\u001b[0m     \u001b[38;5;28;01mif\u001b[39;00m \u001b[38;5;28mself\u001b[39m\u001b[38;5;241m.\u001b[39mengine \u001b[38;5;241m==\u001b[39m \u001b[38;5;124m\"\u001b[39m\u001b[38;5;124mpython\u001b[39m\u001b[38;5;124m\"\u001b[39m:\n\u001b[1;32m-> 1063\u001b[0m         results, res_index \u001b[38;5;241m=\u001b[39m \u001b[38;5;28mself\u001b[39m\u001b[38;5;241m.\u001b[39mapply_series_generator()\n\u001b[0;32m   1064\u001b[0m     \u001b[38;5;28;01melse\u001b[39;00m:\n\u001b[0;32m   1065\u001b[0m         results, res_index \u001b[38;5;241m=\u001b[39m \u001b[38;5;28mself\u001b[39m\u001b[38;5;241m.\u001b[39mapply_series_numba()\n",
      "File \u001b[1;32md:\\.conda\\envs\\StructureRelations\\Lib\\site-packages\\pandas\\core\\apply.py:1081\u001b[0m, in \u001b[0;36mFrameApply.apply_series_generator\u001b[1;34m(self)\u001b[0m\n\u001b[0;32m   1078\u001b[0m \u001b[38;5;28;01mwith\u001b[39;00m option_context(\u001b[38;5;124m\"\u001b[39m\u001b[38;5;124mmode.chained_assignment\u001b[39m\u001b[38;5;124m\"\u001b[39m, \u001b[38;5;28;01mNone\u001b[39;00m):\n\u001b[0;32m   1079\u001b[0m     \u001b[38;5;28;01mfor\u001b[39;00m i, v \u001b[38;5;129;01min\u001b[39;00m \u001b[38;5;28menumerate\u001b[39m(series_gen):\n\u001b[0;32m   1080\u001b[0m         \u001b[38;5;66;03m# ignore SettingWithCopy here in case the user mutates\u001b[39;00m\n\u001b[1;32m-> 1081\u001b[0m         results[i] \u001b[38;5;241m=\u001b[39m \u001b[38;5;28mself\u001b[39m\u001b[38;5;241m.\u001b[39mfunc(v, \u001b[38;5;241m*\u001b[39m\u001b[38;5;28mself\u001b[39m\u001b[38;5;241m.\u001b[39margs, \u001b[38;5;241m*\u001b[39m\u001b[38;5;241m*\u001b[39m\u001b[38;5;28mself\u001b[39m\u001b[38;5;241m.\u001b[39mkwargs)\n\u001b[0;32m   1082\u001b[0m         \u001b[38;5;28;01mif\u001b[39;00m \u001b[38;5;28misinstance\u001b[39m(results[i], ABCSeries):\n\u001b[0;32m   1083\u001b[0m             \u001b[38;5;66;03m# If we have a view on v, we need to make a copy because\u001b[39;00m\n\u001b[0;32m   1084\u001b[0m             \u001b[38;5;66;03m#  series_generator will swap out the underlying data\u001b[39;00m\n\u001b[0;32m   1085\u001b[0m             results[i] \u001b[38;5;241m=\u001b[39m results[i]\u001b[38;5;241m.\u001b[39mcopy(deep\u001b[38;5;241m=\u001b[39m\u001b[38;5;28;01mFalse\u001b[39;00m)\n",
      "File \u001b[1;32mD:\\OneDrive - Queen's University\\Python\\Projects\\StructureRelations\\src\\relations.py:686\u001b[0m, in \u001b[0;36mrelate_structures\u001b[1;34m(slice_structures, structures)\u001b[0m\n\u001b[0;32m    684\u001b[0m \u001b[38;5;28;01mif\u001b[39;00m empty_structure(other_contour):\n\u001b[0;32m    685\u001b[0m     other_contour \u001b[38;5;241m=\u001b[39m \u001b[38;5;28;01mNone\u001b[39;00m\n\u001b[1;32m--> 686\u001b[0m relation \u001b[38;5;241m=\u001b[39m DE27IM(structure, other_contour)\n\u001b[0;32m    687\u001b[0m \u001b[38;5;28;01mreturn\u001b[39;00m relation\n",
      "File \u001b[1;32mD:\\OneDrive - Queen's University\\Python\\Projects\\StructureRelations\\src\\relations.py:445\u001b[0m, in \u001b[0;36mDE27IM.__init__\u001b[1;34m(self, contour_a, contour_b, relation_str, relation_int, adjustments)\u001b[0m\n\u001b[0;32m    443\u001b[0m     \u001b[38;5;28mself\u001b[39m\u001b[38;5;241m.\u001b[39mrelation \u001b[38;5;241m=\u001b[39m \u001b[38;5;28mself\u001b[39m\u001b[38;5;241m.\u001b[39mto_str(relation_int)\n\u001b[0;32m    444\u001b[0m \u001b[38;5;28;01melse\u001b[39;00m:\n\u001b[1;32m--> 445\u001b[0m     \u001b[38;5;28;01mraise\u001b[39;00m \u001b[38;5;167;01mValueError\u001b[39;00m(\u001b[38;5;124m'\u001b[39m\u001b[38;5;124m'\u001b[39m\u001b[38;5;241m.\u001b[39mjoin([\n\u001b[0;32m    446\u001b[0m         \u001b[38;5;124m'\u001b[39m\u001b[38;5;124mMust supply either StructureSlices or a relationship string \u001b[39m\u001b[38;5;124m'\u001b[39m,\n\u001b[0;32m    447\u001b[0m         \u001b[38;5;124m'\u001b[39m\u001b[38;5;124mto create a DE27IM object.\u001b[39m\u001b[38;5;124m'\u001b[39m\n\u001b[0;32m    448\u001b[0m         ]))\n",
      "\u001b[1;31mValueError\u001b[0m: Must supply either StructureSlices or a relationship string to create a DE27IM object."
     ]
    }
   ],
   "source": [
    "slice_table = disjoint_concentric_cylinders_example()\n",
    "regions = generate_region_graph(slice_table)\n",
    "selected_roi = [1, 2]\n",
    "relation = find_relations(slice_table, regions, selected_roi)\n",
    "relation_type = relation.identify_relation()\n",
    "print(relation_type)\n",
    "assert relation_type == RelationshipType.DISJOINT"
   ]
  },
  {
   "cell_type": "markdown",
   "metadata": {},
   "source": [
    "## Borders"
   ]
  },
  {
   "cell_type": "markdown",
   "metadata": {},
   "source": [
    "<link rel=\"stylesheet\" href=\"relations.css\">\n",
    "<table width=\"400px\">\n",
    "<tr class=\"l\"><th>Borders</th><th>Symmetric</th></tr>\n",
    "<td class=\"d\" colspan=\"2\">The exterior boundaries of \n",
    "<span class=\"a\">a</span> and <span class=\"b\">b</span> \n",
    "have more than one point in common, but their interiors do not intersect.\n",
    "</td></tr>\n",
    "<tr><td colspan=\"2\">\n",
    "<img src=\"Images/Relationships/borders.png\" alt=\"Borders\">\n",
    "<img src=\"Images/Relationships/Concave Borders.png\" alt=\"Concave Borders\">\n",
    "</td></tr></table>"
   ]
  },
  {
   "cell_type": "markdown",
   "metadata": {},
   "source": [
    "**Boundaries**\n",
    "- Simple Box boundary on Z\n",
    "- 2 regions with boundaries on +Y and -Y\n",
    "- 2 regions with boundaries on +Z and -Z\n",
    "- 2 regions with boundaries on +X and -Z\n",
    "- 2 regions one with boundaries on +Z and one disjoint\n"
   ]
  },
  {
   "cell_type": "markdown",
   "metadata": {},
   "source": [
    "#### Bordering Concentric Cylinders\n",
    "- Centred vertical cylinder with two cylinders on the same axis, above and \n",
    "below the primary cylinder.\n",
    "\n",
    "![Bordering Concentric Cylinders](<Images/FreeCAD Images/Bordering  Concentric Cylinders.png>)"
   ]
  },
  {
   "cell_type": "code",
   "execution_count": 43,
   "metadata": {},
   "outputs": [],
   "source": [
    "def bordering_concentric_cylinders_example():\n",
    "    slice_spacing = 1\n",
    "    # Body structure defines slices in use\n",
    "    body = make_vertical_cylinder(roi_num=0, radius=12, length=10,\n",
    "                                  spacing=slice_spacing)\n",
    "    # Centred cylinder with two embedded cylinders\n",
    "    primary_cylinder = make_vertical_cylinder(roi_num=1, radius=3, length=8,\n",
    "                                              offset_z=0,\n",
    "                                              spacing=slice_spacing)\n",
    "    # cylinder bordering primary cylinder\n",
    "    bordering_cylinder1 = make_vertical_cylinder(roi_num=2, radius=1, length=2,\n",
    "                                             offset_z=6,\n",
    "                                             spacing=slice_spacing)\n",
    "    # cylinder bordering primary cylinder\n",
    "    bordering_cylinder2 = make_vertical_cylinder(roi_num=2, radius=1, length=2,\n",
    "                                             offset_z=-6,\n",
    "                                             spacing=slice_spacing)\n",
    "    # combine the contours\n",
    "    slice_data = pd.concat([body, primary_cylinder, bordering_cylinder1,\n",
    "                            bordering_cylinder2])\n",
    "    # convert contour slice data into a table of slices and structures\n",
    "    slice_table = make_slice_table(slice_data, ignore_errors=True)\n",
    "    return slice_table\n"
   ]
  },
  {
   "cell_type": "code",
   "execution_count": 45,
   "metadata": {},
   "outputs": [
    {
     "name": "stdout",
     "output_type": "stream",
     "text": [
      "Relationship: Borders\n"
     ]
    }
   ],
   "source": [
    "slice_table = bordering_concentric_cylinders_example()\n",
    "regions = generate_region_graph(slice_table)\n",
    "selected_roi = [1, 2]\n",
    "relation = find_relations(slice_table, regions, selected_roi)\n",
    "relation_type = relation.identify_relation()\n",
    "print(relation_type)\n",
    "assert relation_type == RelationshipType.BORDERS"
   ]
  },
  {
   "cell_type": "markdown",
   "metadata": {},
   "source": [
    "#### Bordering Lateral Boxes\n",
    "- Cubes with 'x' faces touching.\n",
    "\n",
    "![Bordering Lateral Boxes](<Images/FreeCAD Images/Bordering Boxes.png>)\n"
   ]
  },
  {
   "cell_type": "code",
   "execution_count": 62,
   "metadata": {},
   "outputs": [],
   "source": [
    "def lateral_borders_boxes_example():\n",
    "    slice_spacing = 0.1\n",
    "    # Body structure defines slices in use\n",
    "    body = make_vertical_cylinder(roi_num=0, radius=20, length=20, offset_z=0,\n",
    "                                  spacing=slice_spacing)\n",
    "    # embedded boxes\n",
    "    left_cube = make_box(roi_num=1, width=2, offset_x=-1,\n",
    "                         spacing=slice_spacing)\n",
    "    right_cube = make_box(roi_num=2, width=2, offset_x=1,\n",
    "                         spacing=slice_spacing)\n",
    "    # combine the contours\n",
    "    slice_data = pd.concat([left_cube, right_cube, body])\n",
    "    # convert contour slice data into a table of slices and structures\n",
    "    slice_table = make_slice_table(slice_data, ignore_errors=True)\n",
    "    return slice_table"
   ]
  },
  {
   "cell_type": "code",
   "execution_count": 63,
   "metadata": {},
   "outputs": [
    {
     "name": "stdout",
     "output_type": "stream",
     "text": [
      "Relationship: Borders\n"
     ]
    }
   ],
   "source": [
    "slice_table = lateral_borders_boxes_example()\n",
    "regions = generate_region_graph(slice_table)\n",
    "selected_roi = [1, 2]\n",
    "relation = find_relations(slice_table, regions, selected_roi)\n",
    "relation_type = relation.identify_relation()\n",
    "print(relation_type)\n",
    "assert relation_type == RelationshipType.BORDERS"
   ]
  },
  {
   "cell_type": "markdown",
   "metadata": {},
   "source": [
    "# Done to Here"
   ]
  },
  {
   "cell_type": "markdown",
   "metadata": {},
   "source": [
    "### Exterior Borders\n",
    "  - Primary: Central Cylinder\n",
    "    - Secondary: one of:\n",
    "      - SUP Cylinder\n",
    "      - INF Cylinder\n",
    "      - Combined SUP & INF cylinders in one structure with single slice gap at the SUP/INF boundary of the central cylinder.\n",
    "\n",
    "      \n",
    "![Exterior Border SUP](Images/Boundaries/ExteriorBorders2D_SUP.png)\n",
    "![Exterior Border INF](Images/Boundaries/ExteriorBorders2D_INF.png)"
   ]
  },
  {
   "cell_type": "code",
   "execution_count": 48,
   "metadata": {},
   "outputs": [],
   "source": [
    "def concentric_cylinders_inf_offset():\n",
    "    slice_spacing = 0.1\n",
    "    # Body structure defines slices in use\n",
    "    body = make_vertical_cylinder(roi_num=0, radius=10, length=1, offset_z=-0.5,\n",
    "                                  spacing=slice_spacing)\n",
    "    # Two concentric cylinders different z offsets\n",
    "    primary_cylinder = make_vertical_cylinder(roi_num=1, radius=2, length=0.4,\n",
    "                                              offset_z=-0.4,\n",
    "                                              spacing=slice_spacing)\n",
    "    inf_cylinder = make_vertical_cylinder(roi_num=2, radius=1, length=0.4,\n",
    "                                          offset_z=0, spacing=slice_spacing)\n",
    "    # combine the contours\n",
    "    slice_data = pd.concat([body, primary_cylinder, inf_cylinder])\n",
    "    # convert contour slice data into a table of slices and structures\n",
    "    slice_table = make_slice_table(slice_data, ignore_errors=True)\n",
    "    return slice_table\n"
   ]
  },
  {
   "cell_type": "code",
   "execution_count": 49,
   "metadata": {},
   "outputs": [
    {
     "name": "stdout",
     "output_type": "stream",
     "text": [
      "Relationship: Overlaps\n"
     ]
    },
    {
     "ename": "AssertionError",
     "evalue": "",
     "output_type": "error",
     "traceback": [
      "\u001b[1;31m---------------------------------------------------------------------------\u001b[0m",
      "\u001b[1;31mAssertionError\u001b[0m                            Traceback (most recent call last)",
      "Cell \u001b[1;32mIn[49], line 7\u001b[0m\n\u001b[0;32m      5\u001b[0m relation_type \u001b[38;5;241m=\u001b[39m relation\u001b[38;5;241m.\u001b[39midentify_relation()\n\u001b[0;32m      6\u001b[0m \u001b[38;5;28mprint\u001b[39m(relation_type)\n\u001b[1;32m----> 7\u001b[0m \u001b[38;5;28;01massert\u001b[39;00m relation_type \u001b[38;5;241m==\u001b[39m RelationshipType\u001b[38;5;241m.\u001b[39mBORDERS\n",
      "\u001b[1;31mAssertionError\u001b[0m: "
     ]
    }
   ],
   "source": [
    "slice_table = concentric_cylinders_inf_offset()\n",
    "regions = generate_region_graph(slice_table)\n",
    "selected_roi = [1, 2]\n",
    "relation = find_relations(slice_table, regions, selected_roi)\n",
    "relation_type = relation.identify_relation()\n",
    "print(relation_type)\n",
    "assert relation_type == RelationshipType.BORDERS"
   ]
  },
  {
   "cell_type": "markdown",
   "metadata": {},
   "source": [
    "## Confines (Interior Borders) "
   ]
  },
  {
   "cell_type": "markdown",
   "metadata": {},
   "source": [
    "<link rel=\"stylesheet\" href=\"relations.css\">\n",
    "<table width=\"350px\">\n",
    "<tr class=\"l\"><th>Confines</th><th>Symmetric</th></tr>\n",
    "<td class=\"d\" colspan=\"2\">The interior boundary of \n",
    "<span class=\"a\">a</span> \n",
    "and the exterior boundary of <span class=\"b\">b</span> \n",
    "have more than one point in common, but their interiors do not intersect.\n",
    "\n",
    "For Interior Borders <span class=\"b\">b</span> \n",
    "Should be Within <span class=\"a\">a</span>.\n",
    "</td></tr>\n",
    "<tr><td colspan=\"2\">\n",
    "<img src=\"Images/Relationships/confines.png\" alt=\"Confines\">\n",
    "<img src=\"Images/Relationships/confines with island.png\" alt=\"Confines With Island\">\n",
    "</td></tr></table>"
   ]
  },
  {
   "cell_type": "code",
   "execution_count": null,
   "metadata": {},
   "outputs": [],
   "source": [
    "def bordering_boxes():\n",
    "    slice_spacing = 0.1\n",
    "    # Body structure defines slices in use\n",
    "    body = make_vertical_cylinder(roi_num=0, radius=10, length=1, offset_z=-0.2,\n",
    "                                spacing=slice_spacing)\n",
    "    # 4 cm x 4 cm box\n",
    "    box4 = shapely.Polygon(box_points(4))\n",
    "    slices_2 = make_contour_slices(roi_num=2, shape=box4, number_slices=5)\n",
    "    # 6 cm x 6 cm box with 4cm x 4 cm hole\n",
    "    box6 = shapely.Polygon(box_points(6))\n",
    "    box4 = shapely.Polygon(box_points(4))\n",
    "    slices = make_slice_list(5, start=0.2)\n",
    "    slices_4a = make_contour_slices(roi_num=4, shape=box6, number_slices=5,\n",
    "                                    offset_z=0.2)\n",
    "    slices_4b = make_contour_slices(roi_num=4, shape=box4, number_slices=5,\n",
    "                                    offset_z=0.2)\n",
    "    # combine the contours\n",
    "    slice_data = pd.concat([slices_2, slices_4a, slices_4b, body])\n",
    "    # convert contour slice data into a table of slices and structures\n",
    "    slice_table = make_slice_table(slice_data, ignore_errors=True)\n",
    "    return slice_table\n"
   ]
  },
  {
   "cell_type": "code",
   "execution_count": null,
   "metadata": {},
   "outputs": [
    {
     "name": "stdout",
     "output_type": "stream",
     "text": [
      "Relationship: Confines\n"
     ]
    }
   ],
   "source": [
    "slice_table = bordering_boxes()\n",
    "regions = generate_region_graph(slice_table)\n",
    "selected_roi = [4, 2]\n",
    "relation = find_relations(slice_table, regions, selected_roi)\n",
    "print(relation.identify_relation())"
   ]
  },
  {
   "cell_type": "markdown",
   "metadata": {},
   "source": [
    "#### Confines Cylinders\n",
    "- Identify the boundary slices of the Primary and the neighbouring slice(s) that do not have a primary.\n",
    "- For each of these neighbouring slices, if the slice does not have a Secondary contour, but there is a Secondary contour on the same slice as the Primary boundary, select that Secondary slice.\n",
    "\n",
    "  \n",
    "![Confines cylinder](FreeCAD_Scripts/confines_cylinder.png)"
   ]
  },
  {
   "cell_type": "markdown",
   "metadata": {},
   "source": [
    "\n",
    "\n",
    "5. Match hole boundary slices for boundary tests:\n",
    "   - For each hole boundary slice of the Primary ROI, if the slice has a Secondary contour, select that contour for comparison.\n",
    "   - If the slice does not have a Secondary contour, identify the neighbouring slice that also has a hole.\n",
    "   - If the neighbouring slice has a Secondary contour, select that contour.\n",
    "   - If the neighbouring slice does not have a Secondary contour, boundary testing is not required.\n",
    "\n",
    "\n",
    "  "
   ]
  },
  {
   "cell_type": "code",
   "execution_count": null,
   "metadata": {},
   "outputs": [],
   "source": [
    "def confines_cylinder():\n",
    "    slice_spacing = 0.1\n",
    "    # Body structure defines slices in use\n",
    "    body = make_vertical_cylinder(roi_num=0, radius=12, length=1.1, offset_z=-0.5,\n",
    "                                  spacing=slice_spacing)\n",
    "    # Centred cylinder with two embedded cylinders\n",
    "    primary_cylinder = make_vertical_cylinder(roi_num=1, radius=5, length=0.7,\n",
    "                                              offset_z=-0.3,\n",
    "                                              spacing=slice_spacing)\n",
    "    left_hole = make_vertical_cylinder(roi_num=1, radius=2, length=0.5,\n",
    "                                       offset_x=-2.5, offset_z=-0.2,\n",
    "                                       spacing=slice_spacing)\n",
    "    right_hole = make_vertical_cylinder(roi_num=1, radius=2, length=0.5,\n",
    "                                       offset_x=2.5, offset_z=-0.2,\n",
    "                                       spacing=slice_spacing)\n",
    "    # cylinder with interior borders\n",
    "    confines_cylinder = make_vertical_cylinder(roi_num=2, radius=1, length=0.5,\n",
    "                                             offset_x=2.5, offset_z=-0.2,\n",
    "                                             spacing=slice_spacing)\n",
    "\n",
    "    # combine the contours\n",
    "    slice_data = pd.concat([body, primary_cylinder, left_hole, right_hole,\n",
    "                            confines_cylinder])\n",
    "    # convert contour slice data into a table of slices and structures\n",
    "    slice_table = make_slice_table(slice_data, ignore_errors=True)\n",
    "    return slice_table\n"
   ]
  },
  {
   "cell_type": "markdown",
   "metadata": {},
   "source": [
    "### Interior Borders\n",
    "  - Primary: Central Cylinder\n",
    "  - Concentric shorter hole in the center of the primary cylinder\n",
    "  - Secondary same height as hole but narrower\n",
    "  - Interior borders at the and bottom of hole.\n",
    "  \n",
    "![image.png](attachment:image.png)\n",
    "![image-2.png](attachment:image-2.png)"
   ]
  },
  {
   "cell_type": "code",
   "execution_count": null,
   "metadata": {},
   "outputs": [],
   "source": [
    "def embedded_cylinder():\n",
    "    slice_spacing = 0.1\n",
    "    # Body structure defines slices in use\n",
    "    body = make_vertical_cylinder(roi_num=0, radius=10, length=1, offset_z=-0.5,\n",
    "                                  spacing=slice_spacing)\n",
    "    primary_cylinder = make_vertical_cylinder(roi_num=9, radius=4, length=0.7,\n",
    "                                              offset_z=-0.3,\n",
    "                                              spacing=slice_spacing)\n",
    "    center_hole = make_vertical_cylinder(roi_num=9, radius=2, length=0.5,\n",
    "                                         offset_z=-0.2, spacing=slice_spacing)\n",
    "    # Two concentric cylinders different z offsets\n",
    "    middle_cylinder = make_vertical_cylinder(roi_num=10, radius=1, length=0.5,\n",
    "                                             offset_z=-0.2,\n",
    "                                             spacing=slice_spacing)\n",
    "    reference = make_vertical_cylinder(roi_num=11, radius=2, length=0.5,\n",
    "                                         offset_z=-0.2, spacing=slice_spacing)\n",
    "    # combine the contours\n",
    "    slice_data = pd.concat([body, primary_cylinder, center_hole, middle_cylinder, reference])\n",
    "    # convert contour slice data into a table of slices and structures\n",
    "    slice_table = make_slice_table(slice_data, ignore_errors=True)\n",
    "    return slice_table\n"
   ]
  },
  {
   "cell_type": "markdown",
   "metadata": {},
   "source": [
    "**Confines**\n",
    " - Sphere within shell\n",
    " - Box in box, touching z plane hole surface only\n",
    " - Box in box, touching x plane hole surface only\n",
    " - concentric shells"
   ]
  },
  {
   "cell_type": "markdown",
   "metadata": {},
   "source": [
    "## Partition"
   ]
  },
  {
   "cell_type": "markdown",
   "metadata": {},
   "source": [
    "<link rel=\"stylesheet\" href=\"relations.css\">\n",
    "<table width=\"350px\">\n",
    "<tr class=\"l\"><th>Partition</th><th></th></tr>\n",
    "<td class=\"d\" colspan=\"2\">\n",
    "The boundaries of <span class=\"a\">a</span> and <span class=\"b\">b</span> have more than one point in common.\n",
    "No points of <span class=\"b\">b</span> are exterior to <span class=\"a\">a</span>, and some points in <span class=\"a\">a</span> are exterior to <span class=\"b\">b</span>.\n",
    "</td></tr>\n",
    "<tr><td colspan=\"2\">\n",
    "<img src=\"Images/Relationships/partitions simple.png\" alt=\"Partition\">\n",
    "<img src=\"Images/Relationships/partitions archipelago with island.png\" alt=\"Partition With Island\">\n",
    "<img src=\"Images/Relationships/partitions partial ring.png\" alt=\"Partition Ring\">\n",
    "</td></tr></table>"
   ]
  },
  {
   "cell_type": "markdown",
   "metadata": {},
   "source": [
    "**Partition**\n",
    "  - Concentric cylinders ending on the same slice.\n",
    "  - Concentric cylinders starting on the same slice\n",
    "  - Primary: Central Cylinder\n",
    "    - Single Secondary slice with circular contour on the SUP/INF slice of the Primary cylinder.\n",
    "  - Single Primary slice with circular contour\n",
    "    - Secondary: one of:\n",
    "      - SUP Cylinder ending on the same slice.\n",
    "      - INF Cylinder ending on the same slice.\n",
    "\n"
   ]
  },
  {
   "cell_type": "code",
   "execution_count": null,
   "metadata": {},
   "outputs": [],
   "source": [
    "def embedded_boxes_same_start():\n",
    "    slice_spacing = 0.5\n",
    "    # Body structure defines slices in use\n",
    "    body = make_vertical_cylinder(roi_num=0, radius=20, length=30, offset_z=-15,\n",
    "                                spacing=slice_spacing)\n",
    "    # embedded boxes    # 6 cm x 6 cm box\n",
    "    box6 = shapely.Polygon(box_points(6))\n",
    "    slices_1 = make_contour_slices(roi_num=1, shape=box6, number_slices=5)\n",
    "    # 4 cm x 4 cm box\n",
    "    box4 = shapely.Polygon(box_points(4))\n",
    "    slices_2 = make_contour_slices(roi_num=2, shape=box4, number_slices=5)\n",
    "    # combine the contours\n",
    "    slice_data = pd.concat([slices_1, slices_2, body])\n",
    "    # convert contour slice data into a table of slices and structures\n",
    "    slice_table = make_slice_table(slice_data, ignore_errors=True)\n",
    "    return slice_table\n"
   ]
  },
  {
   "cell_type": "code",
   "execution_count": null,
   "metadata": {},
   "outputs": [
    {
     "name": "stdout",
     "output_type": "stream",
     "text": [
      "Relationship: Partition\n"
     ]
    }
   ],
   "source": [
    "slice_table = embedded_boxes_same_start()\n",
    "regions = generate_region_graph(slice_table)\n",
    "selected_roi = [1, 2]\n",
    "relation = find_relations(slice_table, regions, selected_roi)\n",
    "print(relation.identify_relation())"
   ]
  },
  {
   "cell_type": "code",
   "execution_count": null,
   "metadata": {},
   "outputs": [],
   "source": [
    "def partitions_cylinder():\n",
    "    slice_spacing = 0.1\n",
    "    # Body structure defines slices in use\n",
    "    body = make_vertical_cylinder(roi_num=0, radius=12, length=1.1, offset_z=-0.5,\n",
    "                                  spacing=slice_spacing)\n",
    "    # Centred cylinder with two embedded cylinders\n",
    "    primary_cylinder = make_vertical_cylinder(roi_num=1, radius=5, length=0.7,\n",
    "                                              offset_z=-0.3,\n",
    "                                              spacing=slice_spacing)\n",
    "    # cylinder with interior borders\n",
    "    partitioning_cylinder = make_vertical_cylinder(roi_num=3, radius=3, length=0.7,\n",
    "                                             offset_x=0, offset_z=-0.3,\n",
    "                                             spacing=slice_spacing)\n",
    "\n",
    "    # combine the contours\n",
    "    slice_data = pd.concat([body, primary_cylinder, partitioning_cylinder])\n",
    "    # convert contour slice data into a table of slices and structures\n",
    "    slice_table = make_slice_table(slice_data, ignore_errors=True)\n",
    "    return slice_table\n"
   ]
  },
  {
   "cell_type": "code",
   "execution_count": null,
   "metadata": {},
   "outputs": [
    {
     "name": "stdout",
     "output_type": "stream",
     "text": [
      "Relationship: Partition\n"
     ]
    }
   ],
   "source": [
    "slice_table = partitions_cylinder()\n",
    "regions = generate_region_graph(slice_table)\n",
    "selected_roi = [1, 3]\n",
    "relation = find_relations(slice_table, regions, selected_roi)\n",
    "print(relation.identify_relation())"
   ]
  },
  {
   "cell_type": "markdown",
   "metadata": {},
   "source": [
    "#### Partition Cylinders\n",
    "- Identify the boundary slices of the Primary and the neighbouring slice(s) that do not have a primary.\n",
    "- For each of these neighbouring slices, if the slice does not have a Secondary contour, but there is a Secondary contour on the same slice as the Primary boundary, select that Secondary slice.\n"
   ]
  },
  {
   "cell_type": "code",
   "execution_count": null,
   "metadata": {},
   "outputs": [],
   "source": [
    "def embedded_cylinder():\n",
    "    slice_spacing = 0.1\n",
    "    # Body structure defines slices in use\n",
    "    body = make_vertical_cylinder(roi_num=0, radius=10, length=1, offset_z=-0.5,\n",
    "                                  spacing=slice_spacing)\n",
    "    primary_cylinder = make_vertical_cylinder(roi_num=9, radius=6, length=0.7,\n",
    "                                              offset_z=-0.3,\n",
    "                                              spacing=slice_spacing)\n",
    "    center_hole = make_vertical_cylinder(roi_num=9, radius=4, length=0.5,\n",
    "                                         offset_z=-0.2, spacing=slice_spacing)\n",
    "    # Two concentric cylinders different z offsets\n",
    "    confines_cylinder = make_vertical_cylinder(roi_num=10, radius=3, length=0.5,\n",
    "                                             offset_z=-0.2,\n",
    "                                             spacing=slice_spacing)\n",
    "    surrounds_cylinder = make_vertical_cylinder(roi_num=11, radius=2, length=0.3,\n",
    "                                         offset_z=-0.1, spacing=slice_spacing)\n",
    "    # combine the contours\n",
    "    slice_data = pd.concat([body, primary_cylinder, center_hole,\n",
    "                            confines_cylinder, surrounds_cylinder])\n",
    "    # convert contour slice data into a table of slices and structures\n",
    "    slice_table = make_slice_table(slice_data, ignore_errors=True)\n",
    "    return slice_table\n",
    "\n",
    "\n",
    "#print(find_relationship(embedded_cylinder(), [9, 10]))\n"
   ]
  },
  {
   "cell_type": "markdown",
   "metadata": {},
   "source": [
    "#### Horizontal Cylinders\n",
    "\n",
    "![Horizontal Cylinders](./Images/FreeCAD%20Images/HorizontalCylinders.png)"
   ]
  },
  {
   "cell_type": "code",
   "execution_count": null,
   "metadata": {},
   "outputs": [],
   "source": [
    "def horizontal_cylinders():\n",
    "    slice_spacing = 0.1\n",
    "    # Body structure defines slices in use\n",
    "    body = make_box(roi_num=0, width=6, length=6, height=8, offset_z=-4,\n",
    "                    spacing=slice_spacing)\n",
    "    cylinder2h = make_horizontal_cylinder(radius=2, length=5, roi_num=1,\n",
    "                                          spacing=slice_spacing)\n",
    "    cylinder1h = make_horizontal_cylinder(radius=1, length=5, roi_num=2,\n",
    "                                          spacing=slice_spacing)\n",
    "    # combine the contours\n",
    "    slice_data = pd.concat([body, cylinder1h, cylinder2h])\n",
    "    # convert contour slice data into a table of slices and structures\n",
    "    slice_table = make_slice_table(slice_data, ignore_errors=True)\n",
    "    return slice_table\n"
   ]
  },
  {
   "cell_type": "code",
   "execution_count": null,
   "metadata": {},
   "outputs": [
    {
     "name": "stdout",
     "output_type": "stream",
     "text": [
      "Relationship: Partition\n"
     ]
    }
   ],
   "source": [
    "slice_table = horizontal_cylinders()\n",
    "regions = generate_region_graph(slice_table)\n",
    "selected_roi = [1, 2]\n",
    "relation = find_relations(slice_table, regions, selected_roi)\n",
    "print(relation.identify_relation())"
   ]
  },
  {
   "cell_type": "markdown",
   "metadata": {},
   "source": [
    " #### Vertical Concentric Cylinders\n",
    " \n",
    " ![Concentric Cylinders](./Images/FreeCAD%20Images/ConcentricCylinders.png)"
   ]
  },
  {
   "cell_type": "code",
   "execution_count": null,
   "metadata": {},
   "outputs": [],
   "source": [
    "def vertical_concentric_cylinders():\n",
    "    slice_spacing = 0.5\n",
    "    # Body structure defines slices in use\n",
    "    body = make_vertical_cylinder(roi_num=0, radius=20, length=30, offset_z=-15,\n",
    "                                spacing=slice_spacing)\n",
    "    cylinder6 = make_vertical_cylinder(roi_num=1, radius=6, length=10,\n",
    "                                    spacing=slice_spacing)\n",
    "    cylinder4 = make_vertical_cylinder(roi_num=2, radius=4, length=10,\n",
    "                                    spacing=slice_spacing)\n",
    "    # combine the contours\n",
    "    slice_data = pd.concat([body, cylinder6, cylinder4])\n",
    "    # convert contour slice data into a table of slices and structures\n",
    "    slice_table = make_slice_table(slice_data, ignore_errors=True)\n",
    "    return slice_table\n"
   ]
  },
  {
   "cell_type": "code",
   "execution_count": null,
   "metadata": {},
   "outputs": [
    {
     "name": "stdout",
     "output_type": "stream",
     "text": [
      "Relationship: Partition\n"
     ]
    }
   ],
   "source": [
    "slice_table = vertical_concentric_cylinders()\n",
    "regions = generate_region_graph(slice_table)\n",
    "selected_roi = [1, 2]\n",
    "relation = find_relations(slice_table, regions, selected_roi)\n",
    "print(relation.identify_relation())"
   ]
  },
  {
   "cell_type": "markdown",
   "metadata": {},
   "source": [
    "#### Concentric cylinders starting on the same slice\n",
    "  \n",
    "<img src=\"Images\\Boundaries\\PartitionSup3D.png\" alt=\"PartitionSup3D\" style=\"height:50px;\">\n",
    "<img src=\"Images\\Boundaries\\PartitionSup2D.png\" alt=\"PartitionSup2D\" style=\"height:30px;\">"
   ]
  },
  {
   "cell_type": "code",
   "execution_count": null,
   "metadata": {},
   "outputs": [],
   "source": [
    "def concentric_cylinders_same_start():\n",
    "    slice_spacing = 0.1\n",
    "    # Body structure defines slices in use\n",
    "    body = make_vertical_cylinder(roi_num=0, radius=10, length=1, offset_z=-0.5,\n",
    "                                  spacing=slice_spacing)\n",
    "    # Concentric cylinders starting on the same slice\n",
    "    primary_cylinder = make_vertical_cylinder(roi_num=1, radius=2, length=0.7,\n",
    "                                              offset_z=-0.3,\n",
    "                                              spacing=slice_spacing)\n",
    "    sup_partition = make_vertical_cylinder(roi_num=2, radius=1, length=0.4,\n",
    "                                           offset_z=-0.3,\n",
    "                                           spacing=slice_spacing)\n",
    "    # combine the contours\n",
    "    slice_data = pd.concat([body, primary_cylinder, sup_partition])\n",
    "    # convert contour slice data into a table of slices and structures\n",
    "    slice_table = make_slice_table(slice_data, ignore_errors=True)\n",
    "    return slice_table\n"
   ]
  },
  {
   "cell_type": "code",
   "execution_count": null,
   "metadata": {},
   "outputs": [],
   "source": [
    "slice_table = concentric_cylinders_same_start()\n",
    "regions = generate_region_graph(slice_table)\n",
    "selected_roi = [1, 2]\n",
    "relation = find_relations(slice_table, regions, selected_roi)\n",
    "print(relation.identify_relation())"
   ]
  },
  {
   "cell_type": "markdown",
   "metadata": {},
   "source": [
    "#### Concentric cylinders ending on the same slice.\n",
    "\n",
    "<img src=\"Images\\Boundaries\\PartitionInf3D.png\" alt=\"PartitionInf3D\" style=\"height:50px;\">\n",
    "<img src=\"Images\\Boundaries\\PartitionInf2D.png\" alt=\"PartitionInf2D\" style=\"height:30px;\">"
   ]
  },
  {
   "cell_type": "code",
   "execution_count": null,
   "metadata": {},
   "outputs": [],
   "source": [
    "def concentric_cylinders_same_end():\n",
    "    slice_spacing = 0.1\n",
    "    # Body structure defines slices in use\n",
    "    body = make_vertical_cylinder(roi_num=0, radius=10, length=1, offset_z=-0.5,\n",
    "                                  spacing=slice_spacing)\n",
    "    # Concentric cylinders ending on the same slice\n",
    "    primary_cylinder = make_vertical_cylinder(roi_num=1, radius=2, length=0.7,\n",
    "                                              offset_z=-0.3,\n",
    "                                              spacing=slice_spacing)\n",
    "    inf_partition = make_vertical_cylinder(roi_num=3, radius=1, length=0.4,\n",
    "                                           offset_z=0, spacing=slice_spacing)\n",
    "    # combine the contours\n",
    "    slice_data = pd.concat([body, primary_cylinder, inf_partition])\n",
    "    # convert contour slice data into a table of slices and structures\n",
    "    slice_table = make_slice_table(slice_data, ignore_errors=True)\n",
    "    return slice_table\n"
   ]
  },
  {
   "cell_type": "code",
   "execution_count": null,
   "metadata": {},
   "outputs": [
    {
     "name": "stdout",
     "output_type": "stream",
     "text": [
      "Relationship: Partition\n"
     ]
    }
   ],
   "source": [
    "slice_table = concentric_cylinders_same_end()\n",
    "selected_roi = [1, 3]\n",
    "\n",
    "relation = find_relations(slice_table, selected_roi)\n",
    "print(relation.identify_relation())"
   ]
  },
  {
   "cell_type": "markdown",
   "metadata": {},
   "source": [
    "#### Concentric cylinders starting and ending on the same slice.\n",
    "\n",
    "<img src=\"Images\\Boundaries\\Partition3D.png\" alt=\"PartitionInf3D\" style=\"height:50px;\">\n",
    "<img src=\"Images\\Boundaries\\Partition2D.png\" alt=\"PartitionInf2D\" style=\"height:30px;\">"
   ]
  },
  {
   "cell_type": "code",
   "execution_count": null,
   "metadata": {},
   "outputs": [],
   "source": [
    "def concentric_cylinders_same_start_end():\n",
    "    slice_spacing = 0.1\n",
    "    # Body structure defines slices in use\n",
    "    body = make_vertical_cylinder(roi_num=0, radius=10, length=1, offset_z=-0.5,\n",
    "                                  spacing=slice_spacing)\n",
    "    # Concentric cylinders starting and ending on the same slice\n",
    "    primary_cylinder = make_vertical_cylinder(roi_num=1, radius=2, length=0.7,\n",
    "                                              offset_z=-0.3,\n",
    "                                              spacing=slice_spacing)\n",
    "    mid_partition = make_vertical_cylinder(roi_num=4, radius=1, length=0.7,\n",
    "                                           offset_z=-0.3, spacing=slice_spacing)\n",
    "    # combine the contours\n",
    "    slice_data = pd.concat([body, primary_cylinder, mid_partition])\n",
    "    # convert contour slice data into a table of slices and structures\n",
    "    slice_table = make_slice_table(slice_data, ignore_errors=True)\n",
    "    return slice_table\n"
   ]
  },
  {
   "cell_type": "code",
   "execution_count": null,
   "metadata": {},
   "outputs": [
    {
     "name": "stdout",
     "output_type": "stream",
     "text": [
      "Relationship: Partition\n"
     ]
    }
   ],
   "source": [
    "slice_table = concentric_cylinders_same_start_end()\n",
    "selected_roi = [1, 4]\n",
    "\n",
    "relation = find_relations(slice_table, selected_roi)\n",
    "print(relation.identify_relation())"
   ]
  },
  {
   "cell_type": "markdown",
   "metadata": {},
   "source": [
    "## Overlaps"
   ]
  },
  {
   "cell_type": "markdown",
   "metadata": {
    "notebookRunGroups": {
     "groupValue": "2"
    }
   },
   "source": [
    "<link rel=\"stylesheet\" href=\"relations.css\">\n",
    "<table width=\"350px\">\n",
    "<tr class=\"l\"><th>Overlaps</th><th>Symmetric</th></tr>\n",
    "<td class=\"d\" colspan=\"2\">\n",
    "<span class=\"a\">a</span> and <span class=\"b\">b</span> \n",
    "have some but not all points in common.\n",
    "</td></tr>\n",
    "<tr><td colspan=\"2\">\n",
    "<img src=\"Images/Relationships/overlaps simple.png\" alt=\"Overlaps\">\n",
    "<img src=\"Images/Relationships/overlaps ring.png\" alt=\"Overlaps With Ring\">\n",
    "<img src=\"Images/Relationships/overlaps surounded.png\" alt=\"Overlaps Surrounded\">\n",
    "<img src=\"Images/Relationships/overlaps ring surrounds simple.png\" alt=\"Ring Overlaps Simple\">\n",
    "<img src=\"Images/Relationships/archipelago contains simple.png\" alt=\"Ring Overlaps Simple\">\n",
    "</td></tr></table>"
   ]
  },
  {
   "cell_type": "markdown",
   "metadata": {},
   "source": [
    "#### Overlapping Concentric Cylinders\n",
    "- Centred vertical cylinder with two cylinders on the same axis, above and \n",
    "below the primary cylinder.\n",
    "\n",
    "![Overlapping Concentric Cylinders](<Images/FreeCAD Images/Overlapping Concentric Cylinders.png>)\n"
   ]
  },
  {
   "cell_type": "code",
   "execution_count": 59,
   "metadata": {},
   "outputs": [],
   "source": [
    "def overlapping_concentric_cylinders_example():\n",
    "    slice_spacing = 1\n",
    "    # Body structure defines slices in use\n",
    "    body = make_vertical_cylinder(roi_num=0, radius=12, length=10,\n",
    "                                  spacing=slice_spacing)\n",
    "    # Centred cylinder with two embedded cylinders\n",
    "    primary_cylinder = make_vertical_cylinder(roi_num=1, radius=3, length=8,\n",
    "                                              offset_z=0,\n",
    "                                              spacing=slice_spacing)\n",
    "    # cylinder overlapping primary cylinder\n",
    "    overlapping_cylinder1 = make_vertical_cylinder(roi_num=2, radius=1, length=2,\n",
    "                                             offset_z=5,\n",
    "                                             spacing=slice_spacing)\n",
    "    # cylinder overlapping primary cylinder\n",
    "    overlapping_cylinder2 = make_vertical_cylinder(roi_num=2, radius=1, length=2,\n",
    "                                             offset_z=-5,\n",
    "                                             spacing=slice_spacing)\n",
    "    # combine the contours\n",
    "    slice_data = pd.concat([body, primary_cylinder, overlapping_cylinder1,\n",
    "                            overlapping_cylinder2])\n",
    "    # convert contour slice data into a table of slices and structures\n",
    "    slice_table = make_slice_table(slice_data, ignore_errors=True)\n",
    "    return slice_table\n"
   ]
  },
  {
   "cell_type": "code",
   "execution_count": 61,
   "metadata": {},
   "outputs": [
    {
     "name": "stdout",
     "output_type": "stream",
     "text": [
      "Relationship: Overlaps\n"
     ]
    }
   ],
   "source": [
    "slice_table = overlapping_concentric_cylinders_example()\n",
    "regions = generate_region_graph(slice_table)\n",
    "selected_roi = [1, 2]\n",
    "relation = find_relations(slice_table, regions, selected_roi)\n",
    "relation_type = relation.identify_relation()\n",
    "print(relation_type)\n",
    "assert relation_type == RelationshipType.OVERLAPS"
   ]
  },
  {
   "cell_type": "code",
   "execution_count": null,
   "metadata": {},
   "outputs": [],
   "source": [
    "def overlapping_boxes():\n",
    "    slice_spacing = 0.1\n",
    "    # Body structure defines slices in use\n",
    "    body = make_vertical_cylinder(roi_num=0, radius=10, length=1, offset_z=-0.5,\n",
    "                                spacing=slice_spacing)\n",
    "    # embedded boxes    # 6 cm x 6 cm box\n",
    "    box6 = shapely.P`olygon(box_points(6))\n",
    "    slices_1 = make_contour_slices(roi_num=1, shape=box6, number_slices=5,\n",
    "                                spacing=slice_spacing)\n",
    "    # 6 cm x 6 cm box offset right by 3 cm\n",
    "    offset_box6 = shapely.Polygon(box_points(2, offset_x=3))\n",
    "    # 2 cm x 2 cm box offset inf by 0.3 cm\n",
    "    slices_6 = make_contour_slices(roi_num=6, shape=offset_box6,\n",
    "                                   number_slices=5, offset_z=-0.3,\n",
    "                                spacing=slice_spacing)\n",
    "    # combine the contours\n",
    "    slice_data = pd.concat([slices_1, slices_6, body])\n",
    "    # convert contour slice data into a table of slices and structures\n",
    "    slice_table = make_slice_table(slice_data, ignore_errors=True)\n",
    "    return slice_table\n"
   ]
  },
  {
   "cell_type": "code",
   "execution_count": null,
   "metadata": {},
   "outputs": [
    {
     "name": "stdout",
     "output_type": "stream",
     "text": [
      "Relationship: Overlaps\n"
     ]
    }
   ],
   "source": [
    "slice_table = overlapping_boxes()\n",
    "regions = generate_region_graph(slice_table)\n",
    "\n",
    "selected_roi = [1, 6]\n",
    "relation = find_relations(slice_table, regions, selected_roi)\n",
    "print(relation.identify_relation())"
   ]
  },
  {
   "cell_type": "code",
   "execution_count": null,
   "metadata": {},
   "outputs": [],
   "source": [
    "def stacked_boxes():\n",
    "    slice_spacing = 0.5\n",
    "    # Body structure defines slices in use\n",
    "    body = make_vertical_cylinder(roi_num=0, radius=10, length=10, offset_z=-5,\n",
    "                                spacing=slice_spacing)\n",
    "    # 4 cm x 4 cm box\n",
    "    box4 = shapely.Polygon(box_points(4))\n",
    "    # Stacked Boxes\n",
    "    slices_7 = make_contour_slices(roi_num=7, shape=box4, height=4, spacing=0.5, offset_z=0)\n",
    "    slices_8 = make_contour_slices(roi_num=8, shape=box4, height=4, spacing=0.5, offset_z=-4)\n",
    "    # combine the contours\n",
    "    slice_data = pd.concat([slices_7, slices_8, body])\n",
    "    # convert contour slice data into a table of slices and structures\n",
    "    slice_table = make_slice_table(slice_data, ignore_errors=True)\n",
    "    return slice_table\n"
   ]
  },
  {
   "cell_type": "code",
   "execution_count": null,
   "metadata": {},
   "outputs": [
    {
     "name": "stdout",
     "output_type": "stream",
     "text": [
      "Relationship: Overlaps\n"
     ]
    }
   ],
   "source": [
    "slice_table = stacked_boxes()\n",
    "regions = generate_region_graph(slice_table)\n",
    "selected_roi = [7, 8]\n",
    "relation = find_relations(slice_table, regions, selected_roi)\n",
    "print(relation.identify_relation())"
   ]
  },
  {
   "cell_type": "markdown",
   "metadata": {},
   "source": [
    "#### Overlaps"
   ]
  },
  {
   "cell_type": "code",
   "execution_count": null,
   "metadata": {},
   "outputs": [],
   "source": [
    "def overlapping_cubes_left():\n",
    "    slice_spacing = 0.5\n",
    "    # Body structure defines slices in use\n",
    "    body = make_vertical_cylinder(roi_num=0, radius=20, length=30, offset_z=-15,\n",
    "                                spacing=slice_spacing)\n",
    "    #\n",
    "    cube6 = make_box(roi_num=1, width=6, spacing=slice_spacing)\n",
    "    cube6_left = make_box(roi_num=2, width=6, offset_x=3, spacing=slice_spacing)\n",
    "    # combine the contours\n",
    "    slice_data = pd.concat([body, cube6, cube6_left])\n",
    "    # convert contour slice data into a table of slices and structures\n",
    "    slice_table = make_slice_table(slice_data, ignore_errors=True)\n",
    "    return slice_table\n"
   ]
  },
  {
   "cell_type": "code",
   "execution_count": null,
   "metadata": {},
   "outputs": [
    {
     "name": "stdout",
     "output_type": "stream",
     "text": [
      "Relationship: Overlaps\n"
     ]
    }
   ],
   "source": [
    "slice_table = overlapping_cubes_left()\n",
    "regions = generate_region_graph(slice_table)\n",
    "selected_roi = [1, 2]\n",
    "relation = find_relations(slice_table, regions, selected_roi)\n",
    "print(relation.identify_relation())"
   ]
  },
  {
   "cell_type": "code",
   "execution_count": null,
   "metadata": {},
   "outputs": [],
   "source": [
    "def overlapping_cubes_inf():\n",
    "    slice_spacing = 0.5\n",
    "    # Body structure defines slices in use\n",
    "    body = make_vertical_cylinder(roi_num=0, radius=20, length=30, offset_z=-15,\n",
    "                                spacing=slice_spacing)\n",
    "    #\n",
    "    cube6 = make_box(roi_num=1, width=6, spacing=slice_spacing)\n",
    "    cube6_inf = make_box(roi_num=3, width=6, offset_z=3, spacing=slice_spacing)\n",
    "    # combine the contours\n",
    "    slice_data = pd.concat([body, cube6, cube6_inf])\n",
    "    # convert contour slice data into a table of slices and structures\n",
    "    slice_table = make_slice_table(slice_data, ignore_errors=True)\n",
    "    return slice_table\n"
   ]
  },
  {
   "cell_type": "code",
   "execution_count": null,
   "metadata": {},
   "outputs": [
    {
     "name": "stdout",
     "output_type": "stream",
     "text": [
      "Relationship: Overlaps\n"
     ]
    }
   ],
   "source": [
    "slice_table = overlapping_cubes_inf()\n",
    "regions = generate_region_graph(slice_table)\n",
    "selected_roi = [1, 3]\n",
    "relation = find_relations(slice_table, regions, selected_roi)\n",
    "print(relation.identify_relation())"
   ]
  },
  {
   "cell_type": "code",
   "execution_count": null,
   "metadata": {},
   "outputs": [],
   "source": [
    "def overlapping_cubes_sup():\n",
    "    slice_spacing = 0.5\n",
    "    # Body structure defines slices in use\n",
    "    body = make_vertical_cylinder(roi_num=0, radius=20, length=30, offset_z=-15,\n",
    "                                spacing=slice_spacing)\n",
    "    #\n",
    "    cube6 = make_box(roi_num=1, width=6, spacing=slice_spacing)\n",
    "    cube3_sup = make_box(roi_num=4, width=3, offset_z=-2.5,\n",
    "                         spacing=slice_spacing)\n",
    "    # combine the contours\n",
    "    slice_data = pd.concat([body, cube6, cube3_sup])\n",
    "    # convert contour slice data into a table of slices and structures\n",
    "    slice_table = make_slice_table(slice_data, ignore_errors=True)\n",
    "    return slice_table\n"
   ]
  },
  {
   "cell_type": "code",
   "execution_count": null,
   "metadata": {},
   "outputs": [
    {
     "name": "stdout",
     "output_type": "stream",
     "text": [
      "Relationship: Overlaps\n"
     ]
    }
   ],
   "source": [
    "slice_table = overlapping_cubes_sup()\n",
    "regions = generate_region_graph(slice_table)\n",
    "selected_roi = [1, 4]\n",
    "relation = find_relations(slice_table, regions, selected_roi)\n",
    "print(relation.identify_relation())"
   ]
  },
  {
   "cell_type": "code",
   "execution_count": null,
   "metadata": {},
   "outputs": [],
   "source": [
    "def overlapping_cubes_inf_rt():\n",
    "    slice_spacing = 0.5\n",
    "    # Body structure defines slices in use\n",
    "    body = make_vertical_cylinder(roi_num=0, radius=20, length=30, offset_z=-15,\n",
    "                                spacing=slice_spacing)\n",
    "    #\n",
    "    cube6 = make_box(roi_num=1, width=6, spacing=slice_spacing)\n",
    "    cube6_inf_rt = make_box(roi_num=5, width=6, offset_z=3, offset_x=3,\n",
    "                            offset_y=3, spacing=slice_spacing)\n",
    "    # combine the contours\n",
    "    slice_data = pd.concat([body, cube6, cube6_inf_rt])\n",
    "    # convert contour slice data into a table of slices and structures\n",
    "    slice_table = make_slice_table(slice_data, ignore_errors=True)\n",
    "    return slice_table\n"
   ]
  },
  {
   "cell_type": "code",
   "execution_count": null,
   "metadata": {},
   "outputs": [
    {
     "name": "stdout",
     "output_type": "stream",
     "text": [
      "Relationship: Overlaps\n"
     ]
    }
   ],
   "source": [
    "slice_table = overlapping_cubes_inf_rt()\n",
    "regions = generate_region_graph(slice_table)\n",
    "selected_roi = [1, 5]\n",
    "relation = find_relations(slice_table, regions, selected_roi)\n",
    "print(relation.identify_relation())"
   ]
  },
  {
   "cell_type": "code",
   "execution_count": null,
   "metadata": {},
   "outputs": [],
   "source": [
    "def overlapping_cylinder():\n",
    "    slice_spacing = 0.1\n",
    "    # Body structure defines slices in use\n",
    "    body = make_vertical_cylinder(roi_num=0, radius=12, length=1.1, offset_z=-0.5,\n",
    "                                  spacing=slice_spacing)\n",
    "    # Centred cylinder with two embedded cylinders\n",
    "    primary_cylinder = make_vertical_cylinder(roi_num=1, radius=5, length=0.7,\n",
    "                                              offset_z=-0.3,\n",
    "                                              spacing=slice_spacing)\n",
    "    # cylinder with interior borders\n",
    "    overlapping_cylinder = make_vertical_cylinder(roi_num=5, radius=3, length=0.9,\n",
    "                                             offset_x=0, offset_z=-0.3,\n",
    "                                             spacing=slice_spacing)\n",
    "\n",
    "    # combine the contours\n",
    "    slice_data = pd.concat([body, primary_cylinder, overlapping_cylinder])\n",
    "    # convert contour slice data into a table of slices and structures\n",
    "    slice_table = make_slice_table(slice_data, ignore_errors=True)\n",
    "    return slice_table\n"
   ]
  },
  {
   "cell_type": "markdown",
   "metadata": {},
   "source": [
    "Boxes are overlapping because they have a contour on the same slice (-0.5)"
   ]
  },
  {
   "cell_type": "code",
   "execution_count": null,
   "metadata": {},
   "outputs": [],
   "source": [
    "def overlapping_boxes():\n",
    "    slice_spacing = 0.5\n",
    "    # Body structure defines slices in use\n",
    "    body = make_vertical_cylinder(roi_num=0, radius=20, length=5, offset_z=-3,\n",
    "                                spacing=slice_spacing)\n",
    "    # overlapping boxes\n",
    "    cube4_sup = make_box(roi_num=1, width=2, offset_z=-1, spacing=slice_spacing)\n",
    "    cube4_inf = make_box(roi_num=2, width=2, offset_z= .5, spacing=slice_spacing)\n",
    "    # combine the contours\n",
    "    slice_data = pd.concat([body, cube4_sup, cube4_inf])\n",
    "    # convert contour slice data into a table of slices and structures\n",
    "    slice_table = make_slice_table(slice_data, ignore_errors=True)\n",
    "    return slice_table\n"
   ]
  },
  {
   "cell_type": "code",
   "execution_count": null,
   "metadata": {},
   "outputs": [
    {
     "name": "stdout",
     "output_type": "stream",
     "text": [
      "Relationship: Partition\n"
     ]
    }
   ],
   "source": [
    "slice_table = overlapping_boxes()\n",
    "selected_roi = [1, 2]\n",
    "\n",
    "relation = find_relations(slice_table, selected_roi)\n",
    "print(relation.identify_relation())"
   ]
  },
  {
   "cell_type": "markdown",
   "metadata": {},
   "source": [
    "## Equals"
   ]
  },
  {
   "cell_type": "markdown",
   "metadata": {},
   "source": [
    "<link rel=\"stylesheet\" href=\"relations.css\">\n",
    "<table width=\"350px\">\n",
    "<tr class=\"l\"><th>Equals</th><th>Symmetric, Transitive</th></tr>\n",
    "<td class=\"d\" colspan=\"2\">\n",
    "The interiors of <span class=\"a\">a</span> and <span class=\"b\">b</span> \n",
    "intersect and no part of the interior of one geometry intersects the exterior of the other.\n",
    "</td></tr>\n",
    "<tr><td colspan=\"2\">\n",
    "<img src=\"Images/Relationships/equals.png\" alt=\"Equals\">\n",
    "</td></tr></table>"
   ]
  },
  {
   "cell_type": "markdown",
   "metadata": {},
   "source": [
    "# More Tests Needed"
   ]
  },
  {
   "cell_type": "markdown",
   "metadata": {},
   "source": [
    "  - Primary: Central Cylinder\n",
    "    - Secondary: one of:\n",
    "      - SUP Cylinder\n",
    "      - INF Cylinder\n",
    "      - Combined SUP & INF cylinders in one structure with single slice gap at the SUP/INF boundary of the central cylinder.\n",
    "  - Single Primary slice with circular contour.\n",
    "    - Secondary: one of:\n",
    "      - SUP Cylinder\n",
    "      - INF Cylinder\n",
    "      - Combined SUP & INF Cylinders in one structure with single slice gap at level of the primary slice. \n"
   ]
  },
  {
   "cell_type": "code",
   "execution_count": null,
   "metadata": {},
   "outputs": [],
   "source": [
    "# 6 cm x 6 cm box\n",
    "box6 = shapely.Polygon(box_points(6))\n",
    "slices_1 = make_contour_slices(roi_num=1, shape=box6, number_slices=5)\n",
    "\n",
    "# 4 cm x 4 cm box\n",
    "box4 = shapely.Polygon(box_points(4))\n",
    "slices_2 = make_contour_slices(roi_num=2, shape=box4, number_slices=5)\n",
    "\n",
    "# 6 cm x 6 cm box offset right by 3 cm\n",
    "offset_box6 = shapely.Polygon(box_points(6, offset_x=3))\n",
    "slices_3 = make_contour_slices(roi_num=3, shape=offset_box6, number_slices=5)\n",
    "\n",
    "# 6 cm x 6 cm box with 4cm x 4 cm hole\n",
    "box6 = shapely.Polygon(box_points(6))\n",
    "box4 = shapely.Polygon(box_points(4))\n",
    "slices = make_slice_list(5, start=0.2)\n",
    "slices_4a = make_contour_slices(roi_num=4, shape=box6, number_slices=5,\n",
    "                                offset_z=0.2)\n",
    "slices_4b = make_contour_slices(roi_num=4, shape=box4, number_slices=5,\n",
    "                                offset_z=0.2)\n",
    "\n",
    "# 2 2x2 boxes\n",
    "box2a = shapely.Polygon(box_points(2, offset_x=-3))\n",
    "box2b = shapely.Polygon(box_points(2, offset_x=3))\n",
    "slices_5a = make_contour_slices(roi_num=5, shape=box2a, number_slices=5)\n",
    "slices_5b = make_contour_slices(roi_num=5, shape=box2b, number_slices=5)\n",
    "\n",
    "# 2 cm x 2 cm box offset inf by 0.3 cm\n",
    "slices_6 = make_contour_slices(roi_num=6, shape=offset_box6, number_slices=5,\n",
    "                               offset_z=-0.3)\n",
    "\n",
    "# Stacked Boxes\n",
    "slices_7 = make_contour_slices(roi_num=7, shape=box4, height=4, spacing=0.5,\n",
    "                               offset_z=2)\n",
    "slices_8 = make_contour_slices(roi_num=8, shape=box4, height=4, spacing=0.5,\n",
    "                               offset_z=-1.5)\n",
    "\n",
    "\n",
    "# combine the slice data\n",
    "slice_data = pd.concat([slices_1, slices_2, slices_3, slices_4a, slices_4b,\n",
    "                        slices_5a, slices_5b, slices_6, slices_7, slices_8])\n",
    "# convert slice data into a table of slices and structures\n",
    "slice_table = make_slice_table(slice_data)"
   ]
  },
  {
   "cell_type": "code",
   "execution_count": null,
   "metadata": {},
   "outputs": [],
   "source": [
    "def dual_embedded_cylinder():\n",
    "    slice_spacing = 0.1\n",
    "    # Body structure defines slices in use\n",
    "    body = make_vertical_cylinder(roi_num=0, radius=12, length=1.5, offset_z=-0.8,\n",
    "                                  spacing=slice_spacing)\n",
    "    # Centred cylinder with two embedded cylinders\n",
    "    primary_cylinder = make_vertical_cylinder(roi_num=1, radius=5, length=0.9,\n",
    "                                              offset_z=-0.5,\n",
    "                                              spacing=slice_spacing)\n",
    "    left_hole = make_vertical_cylinder(roi_num=1, radius=2, length=0.7,\n",
    "                                       offset_x=-2.5, offset_z=-0.4,\n",
    "                                       spacing=slice_spacing)\n",
    "    right_hole = make_vertical_cylinder(roi_num=1, radius=2, length=0.7,\n",
    "                                       offset_x=2.5, offset_z=-0.4,\n",
    "                                       spacing=slice_spacing)\n",
    "    # cylinder with interior borders\n",
    "    confines_cylinder = make_vertical_cylinder(roi_num=2, radius=1, length=0.7,\n",
    "                                             offset_x=2.5, offset_z=-0.4,\n",
    "                                             spacing=slice_spacing)\n",
    "\n",
    "    # cylinder completely inside of a hole\n",
    "    surrounds_cylinder = make_vertical_cylinder(roi_num=3, radius=1, length=0.3,\n",
    "                                             offset_x=-2.5, offset_z=-0.2,\n",
    "                                             spacing=slice_spacing)\n",
    "    # cylinder bordering primary cylinder\n",
    "    bordering_cylinder1 = make_vertical_cylinder(roi_num=4, radius=3, length=0.2,\n",
    "                                             offset_x=0, offset_z=-0.7,\n",
    "                                             spacing=slice_spacing)\n",
    "    # cylinder bordering primary cylinder\n",
    "    bordering_cylinder2 = make_vertical_cylinder(roi_num=4, radius=3, length=0.2,\n",
    "                                             offset_x=0, offset_z=0.4,\n",
    "                                             spacing=slice_spacing)\n",
    "    # combine the contours\n",
    "    slice_data = pd.concat([body, primary_cylinder, left_hole, right_hole,\n",
    "                            confines_cylinder, surrounds_cylinder,\n",
    "                            bordering_cylinder1, bordering_cylinder2])\n",
    "    # convert contour slice data into a table of slices and structures\n",
    "    slice_table = make_slice_table(slice_data, ignore_errors=True)\n",
    "    return slice_table\n"
   ]
  },
  {
   "cell_type": "code",
   "execution_count": null,
   "metadata": {},
   "outputs": [],
   "source": [
    "def cylinders():\n",
    "    slice_spacing = 0.1\n",
    "    # Body structure defines slices in use\n",
    "    body = make_vertical_cylinder(roi_num=0, radius=12, length=1.1,\n",
    "                                  offset_z=-0.5,\n",
    "                                  spacing=slice_spacing)\n",
    "    # Centred cylinder\n",
    "    primary_cylinder = make_vertical_cylinder(roi_num=1, radius=5, length=0.7,\n",
    "                                              offset_z=-0.3,\n",
    "                                              spacing=slice_spacing)\n",
    "    # cylinder within primary\n",
    "    contained_cylinder = make_vertical_cylinder(roi_num=2, radius=3, length=0.5,\n",
    "                                             offset_x=0, offset_z=-0.2,\n",
    "                                             spacing=slice_spacing)\n",
    "    # cylinder with matching borders\n",
    "    partitioning_cylinder = make_vertical_cylinder(roi_num=3, radius=3, length=0.7,\n",
    "                                             offset_x=0, offset_z=-0.3,\n",
    "                                             spacing=slice_spacing)\n",
    "    # cylinder bordering primary cylinder\n",
    "    bordering_cylinder1 = make_vertical_cylinder(roi_num=4, radius=3, length=0.2,\n",
    "                                             offset_x=0, offset_z=-0.5,\n",
    "                                             spacing=slice_spacing)\n",
    "    # cylinder bordering primary cylinder\n",
    "    bordering_cylinder2 = make_vertical_cylinder(roi_num=4, radius=3, length=0.2,\n",
    "                                             offset_x=0, offset_z=0.4,\n",
    "                                             spacing=slice_spacing)\n",
    "    # cylinder overlapping positive\n",
    "    overlapping_cylinder = make_vertical_cylinder(roi_num=5, radius=3, length=0.8,\n",
    "                                             offset_x=0, offset_z=-0.3,\n",
    "                                             spacing=slice_spacing)\n",
    "    # combine the contours\n",
    "    slice_data = pd.concat([body, primary_cylinder, contained_cylinder,\n",
    "                            partitioning_cylinder,\n",
    "                            bordering_cylinder1, bordering_cylinder2,\n",
    "                            overlapping_cylinder])\n",
    "    # convert contour slice data into a table of slices and structures\n",
    "    slice_table = make_slice_table(slice_data, ignore_errors=True)\n",
    "    return slice_table\n"
   ]
  },
  {
   "cell_type": "code",
   "execution_count": null,
   "metadata": {},
   "outputs": [],
   "source": [
    "    # 6 cm x 6 cm box offset right by 3 cm\n",
    "    offset_box6 = shapely.Polygon(box_points(6, offset_x=3))\n",
    "    slices_3 = make_contour_slices(roi_num=3, shape=offset_box6, number_slices=5)\n",
    "\n",
    "\n",
    "\n",
    "# 2 2x2 boxes\n",
    "box2a = shapely.Polygon(box_points(2, offset_x=-3))\n",
    "box2b = shapely.Polygon(box_points(2, offset_x=3))\n",
    "slices_5a = make_contour_slices(roi_num=5, shape=box2a, number_slices=5)\n",
    "slices_5b = make_contour_slices(roi_num=5, shape=box2b, number_slices=5)\n",
    "\n",
    "\n",
    "\n",
    "# Stacked Boxes\n",
    "slices_7 = make_contour_slices(roi_num=7, shape=box4, height=4, spacing=0.5,\n",
    "                               offset_z=2)\n",
    "slices_8 = make_contour_slices(roi_num=8, shape=box4, height=4, spacing=0.5,\n",
    "                               offset_z=-1.5)\n",
    "\n",
    "\n",
    "# combine the slice data\n",
    "slice_data = pd.concat([slices_1, slices_2, slices_3, slices_4a, slices_4b,\n",
    "                        slices_5a, slices_5b, slices_6, slices_7, slices_8])\n",
    "# convert slice data into a table of slices and structures\n",
    "slice_table = make_slice_table(slice_data)"
   ]
  },
  {
   "cell_type": "code",
   "execution_count": null,
   "metadata": {},
   "outputs": [],
   "source": [
    "# 6 cm x 6 cm box\n",
    "box6 = shapely.Polygon(box_points(6))\n",
    "slices_1 = make_contour_slices(roi_num=1, shape=box6, number_slices=5)\n",
    "\n",
    "# 4 cm x 4 cm box\n",
    "box4 = shapely.Polygon(box_points(4))\n",
    "slices_2 = make_contour_slices(roi_num=2, shape=box4, number_slices=5)\n",
    "\n",
    "# 6 cm x 6 cm box offset right by 3 cm\n",
    "offset_box6 = shapely.Polygon(box_points(6, offset_x=3))\n",
    "slices_3 = make_contour_slices(roi_num=3, shape=offset_box6, number_slices=5)\n",
    "\n",
    "# 6 cm x 6 cm box with 4cm x 4 cm hole\n",
    "box6 = shapely.Polygon(box_points(6))\n",
    "box4 = shapely.Polygon(box_points(4))\n",
    "slices = make_slice_list(5, start=0.2)\n",
    "slices_4a = make_contour_slices(roi_num=4, shape=box6, number_slices=5,\n",
    "                                offset_z=0.2)\n",
    "slices_4b = make_contour_slices(roi_num=4, shape=box4, number_slices=5,\n",
    "                                offset_z=0.2)\n",
    "\n",
    "# 2 2x2 boxes\n",
    "box2a = shapely.Polygon(box_points(2, offset_x=-3))\n",
    "box2b = shapely.Polygon(box_points(2, offset_x=3))\n",
    "slices_5a = make_contour_slices(roi_num=5, shape=box2a, number_slices=5)\n",
    "slices_5b = make_contour_slices(roi_num=5, shape=box2b, number_slices=5)\n",
    "\n",
    "# 2 cm x 2 cm box offset inf by 0.3 cm\n",
    "slices_6 = make_contour_slices(roi_num=6, shape=offset_box6, number_slices=5,\n",
    "                               offset_z=-0.3)\n",
    "\n",
    "# Stacked Boxes\n",
    "slices_7 = make_contour_slices(roi_num=7, shape=box4, height=4, spacing=0.5,\n",
    "                               offset_z=2)\n",
    "slices_8 = make_contour_slices(roi_num=8, shape=box4, height=4, spacing=0.5,\n",
    "                               offset_z=-1.5)\n",
    "\n",
    "\n",
    "# combine the slice data\n",
    "slice_data = pd.concat([slices_1, slices_2, slices_3, slices_4a, slices_4b,\n",
    "                        slices_5a, slices_5b, slices_6, slices_7, slices_8])\n",
    "# convert slice data into a table of slices and structures\n",
    "slice_table = make_slice_table(slice_data)"
   ]
  }
 ],
 "metadata": {
  "kernelspec": {
   "display_name": "StructureRelations",
   "language": "python",
   "name": "python3"
  },
  "language_info": {
   "codemirror_mode": {
    "name": "ipython",
    "version": 3
   },
   "file_extension": ".py",
   "mimetype": "text/x-python",
   "name": "python",
   "nbconvert_exporter": "python",
   "pygments_lexer": "ipython3",
   "version": "3.11.9"
  }
 },
 "nbformat": 4,
 "nbformat_minor": 4
}
