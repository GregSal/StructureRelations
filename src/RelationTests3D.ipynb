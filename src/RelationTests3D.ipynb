{
 "cells": [
  {
   "cell_type": "markdown",
   "metadata": {},
   "source": [
    "# 3D Relationship Testing\n",
    "\n",
    "Testing relationships between 3D structures defined using contours on multiple slices.\n"
   ]
  },
  {
   "cell_type": "code",
   "execution_count": 1,
   "metadata": {},
   "outputs": [],
   "source": [
    "# Local functions and classes\n",
    "from types_and_classes import *\n",
    "from utilities import *\n",
    "from debug_tools import *\n",
    "from structure_slice import *\n",
    "from structure_set import *\n",
    "from relations import *"
   ]
  },
  {
   "cell_type": "markdown",
   "metadata": {},
   "source": [
    "## Contains"
   ]
  },
  {
   "cell_type": "markdown",
   "metadata": {},
   "source": [
    "### Embedded Spheres\n",
    "![Embedded Spheres](<Images/FreeCAD Images/Embedded Spheres.png>)"
   ]
  },
  {
   "cell_type": "code",
   "execution_count": 2,
   "metadata": {},
   "outputs": [],
   "source": [
    "def embedded_spheres():\n",
    "    slice_spacing = 0.5\n",
    "    # Body structure defines slices in use\n",
    "    body = make_vertical_cylinder(roi_num=0, radius=20, length=30, offset_z=-15,\n",
    "                                spacing=slice_spacing)\n",
    "    # embedded boxes\n",
    "    sphere6 = make_sphere(roi_num=1, radius=3, spacing=slice_spacing)\n",
    "    sphere3 = make_sphere(roi_num=2, radius=1.5, spacing=slice_spacing)\n",
    "    # combine the contours\n",
    "    slice_data = pd.concat([sphere6, sphere3, body])\n",
    "    # convert contour slice data into a table of slices and structures\n",
    "    slice_table = make_slice_table(slice_data, ignore_errors=True)\n",
    "    return slice_table"
   ]
  },
  {
   "cell_type": "code",
   "execution_count": 3,
   "metadata": {},
   "outputs": [
    {
     "name": "stdout",
     "output_type": "stream",
     "text": [
      "Relationship: Contains\n"
     ]
    }
   ],
   "source": [
    "slice_table = embedded_spheres()\n",
    "regions = generate_region_graph(slice_table)\n",
    "selected_roi = [1, 2]\n",
    "relation = find_relations(slice_table, regions, selected_roi)\n",
    "print(relation.identify_relation())"
   ]
  },
  {
   "cell_type": "markdown",
   "metadata": {},
   "source": [
    "### Concentric Cylinders\n",
    "![Concentric cylinders](<Images/FreeCAD Images/Concentric cylinders.png>)"
   ]
  },
  {
   "cell_type": "code",
   "execution_count": 4,
   "metadata": {},
   "outputs": [],
   "source": [
    "def simple_cylinders():\n",
    "    slice_spacing = 0.1\n",
    "    # Body structure defines slices in use\n",
    "    body = make_vertical_cylinder(roi_num=0, radius=12, length=1.1,\n",
    "                                  offset_z=-0.5,\n",
    "                                  spacing=slice_spacing)\n",
    "    # Centred cylinder\n",
    "    primary_cylinder = make_vertical_cylinder(roi_num=1, radius=5, length=0.7,\n",
    "                                              offset_z=0,\n",
    "                                              spacing=slice_spacing)\n",
    "    # cylinder within primary\n",
    "    contained_cylinder = make_vertical_cylinder(roi_num=2, radius=3, length=0.5,\n",
    "                                             offset_x=0, offset_z=0,\n",
    "                                             spacing=slice_spacing)\n",
    "    # combine the contours\n",
    "    slice_data = pd.concat([body, primary_cylinder, contained_cylinder])\n",
    "    # convert contour slice data into a table of slices and structures\n",
    "    slice_table = make_slice_table(slice_data, ignore_errors=True)\n",
    "    return slice_table\n"
   ]
  },
  {
   "cell_type": "code",
   "execution_count": 5,
   "metadata": {},
   "outputs": [
    {
     "ename": "StopIteration",
     "evalue": "",
     "output_type": "error",
     "traceback": [
      "\u001b[1;31m---------------------------------------------------------------------------\u001b[0m",
      "\u001b[1;31mStopIteration\u001b[0m                             Traceback (most recent call last)",
      "Cell \u001b[1;32mIn[5], line 4\u001b[0m\n\u001b[0;32m      2\u001b[0m regions \u001b[38;5;241m=\u001b[39m generate_region_graph(slice_table)\n\u001b[0;32m      3\u001b[0m selected_roi \u001b[38;5;241m=\u001b[39m [\u001b[38;5;241m1\u001b[39m, \u001b[38;5;241m2\u001b[39m]\n\u001b[1;32m----> 4\u001b[0m relation \u001b[38;5;241m=\u001b[39m find_relations(slice_table, regions, selected_roi)\n\u001b[0;32m      5\u001b[0m \u001b[38;5;28mprint\u001b[39m(relation\u001b[38;5;241m.\u001b[39midentify_relation())\n",
      "File \u001b[1;32mD:\\OneDrive - Queen's University\\Python\\Projects\\StructureRelations\\src\\relations.py:871\u001b[0m, in \u001b[0;36mfind_relations\u001b[1;34m(slice_table, regions, selected_roi)\u001b[0m\n\u001b[0;32m    866\u001b[0m \u001b[38;5;66;03m# Send all slices with both Primary and Secondary contours for standard\u001b[39;00m\n\u001b[0;32m    867\u001b[0m \u001b[38;5;66;03m# relation testing\u001b[39;00m\n\u001b[0;32m    868\u001b[0m mid_relations \u001b[38;5;241m=\u001b[39m \u001b[38;5;28mlist\u001b[39m(selected_slices\u001b[38;5;241m.\u001b[39magg(relate_structures,\n\u001b[0;32m    869\u001b[0m                                          structures\u001b[38;5;241m=\u001b[39mselected_roi,\n\u001b[0;32m    870\u001b[0m                                          axis\u001b[38;5;241m=\u001b[39m\u001b[38;5;124m'\u001b[39m\u001b[38;5;124mcolumns\u001b[39m\u001b[38;5;124m'\u001b[39m))\n\u001b[1;32m--> 871\u001b[0m boundary_relations \u001b[38;5;241m=\u001b[39m get_boundary_relations(regions, selected_roi)\n\u001b[0;32m    872\u001b[0m mid_relations\u001b[38;5;241m.\u001b[39mextend(boundary_relations)\n\u001b[0;32m    873\u001b[0m relation \u001b[38;5;241m=\u001b[39m  merged_relations(mid_relations)\n",
      "File \u001b[1;32mD:\\OneDrive - Queen's University\\Python\\Projects\\StructureRelations\\src\\relations.py:849\u001b[0m, in \u001b[0;36mget_boundary_relations\u001b[1;34m(region_graph, selected_roi)\u001b[0m\n\u001b[0;32m    846\u001b[0m done \u001b[38;5;241m=\u001b[39m \u001b[38;5;28mlen\u001b[39m(sub_graph) \u001b[38;5;241m==\u001b[39m \u001b[38;5;241m0\u001b[39m\n\u001b[0;32m    847\u001b[0m \u001b[38;5;28;01mwhile\u001b[39;00m \u001b[38;5;129;01mnot\u001b[39;00m done:\n\u001b[0;32m    848\u001b[0m     \u001b[38;5;66;03m# interpolate each relevant region to match the boundary slice.\u001b[39;00m\n\u001b[1;32m--> 849\u001b[0m     region2 \u001b[38;5;241m=\u001b[39m get_interpolated_region(sub_graph)\n\u001b[0;32m    850\u001b[0m     relation \u001b[38;5;241m=\u001b[39m get_relation(region1, region2, selected_roi)\n\u001b[0;32m    851\u001b[0m     boundary_relations\u001b[38;5;241m.\u001b[39mappend(relation)\n",
      "File \u001b[1;32mD:\\OneDrive - Queen's University\\Python\\Projects\\StructureRelations\\src\\relations.py:788\u001b[0m, in \u001b[0;36mget_interpolated_region\u001b[1;34m(sub_graph)\u001b[0m\n\u001b[0;32m    786\u001b[0m first_node \u001b[38;5;241m=\u001b[39m sub_graph\u001b[38;5;241m.\u001b[39mnodes[first_node_label]\n\u001b[0;32m    787\u001b[0m \u001b[38;5;66;03m# Select the first node's neighbour as the second node,\u001b[39;00m\n\u001b[1;32m--> 788\u001b[0m neighbour_node \u001b[38;5;241m=\u001b[39m \u001b[38;5;28mnext\u001b[39m(sub_graph\u001b[38;5;241m.\u001b[39mneighbors(first_node_label))\n\u001b[0;32m    789\u001b[0m second_node \u001b[38;5;241m=\u001b[39m sub_graph\u001b[38;5;241m.\u001b[39mnodes[neighbour_node]\n\u001b[0;32m    790\u001b[0m \u001b[38;5;66;03m# Get the slice indexes for the two nodes\u001b[39;00m\n",
      "\u001b[1;31mStopIteration\u001b[0m: "
     ]
    }
   ],
   "source": [
    "slice_table = simple_cylinders()\n",
    "regions = generate_region_graph(slice_table)\n",
    "selected_roi = [1, 2]\n",
    "relation = find_relations(slice_table, regions, selected_roi)\n",
    "print(relation.identify_relation())"
   ]
  },
  {
   "cell_type": "code",
   "execution_count": 8,
   "metadata": {},
   "outputs": [
    {
     "ename": "AttributeError",
     "evalue": "module 'networkx' has no attribute 'forceatlas2_layout'",
     "output_type": "error",
     "traceback": [
      "\u001b[1;31m---------------------------------------------------------------------------\u001b[0m",
      "\u001b[1;31mAttributeError\u001b[0m                            Traceback (most recent call last)",
      "Cell \u001b[1;32mIn[8], line 2\u001b[0m\n\u001b[0;32m      1\u001b[0m pos \u001b[38;5;241m=\u001b[39m nx\u001b[38;5;241m.\u001b[39mmultipartite_layout(regions, subset_key\u001b[38;5;241m=\u001b[39m\u001b[38;5;124m'\u001b[39m\u001b[38;5;124mroi\u001b[39m\u001b[38;5;124m'\u001b[39m)\n\u001b[1;32m----> 2\u001b[0m pos \u001b[38;5;241m=\u001b[39m nx\u001b[38;5;241m.\u001b[39mforceatlas2_layout(regions, pos\u001b[38;5;241m=\u001b[39mpos)\n",
      "\u001b[1;31mAttributeError\u001b[0m: module 'networkx' has no attribute 'forceatlas2_layout'"
     ]
    }
   ],
   "source": [
    "pos = nx.multipartite_layout(regions, subset_key='roi')\n",
    "pos = nx.forceatlas2_layout(regions, pos=pos)\n"
   ]
  },
  {
   "cell_type": "code",
   "execution_count": 9,
   "metadata": {},
   "outputs": [
    {
     "data": {
      "image/png": "[encoded data removed]",
      "text/plain": [
       "<Figure size 640x480 with 1 Axes>"
      ]
     },
     "metadata": {},
     "output_type": "display_data"
    }
   ],
   "source": [
    "nx.draw(regions, pos=pos, with_labels=True)"
   ]
  },
  {
   "cell_type": "code",
   "execution_count": null,
   "metadata": {},
   "outputs": [],
   "source": [
    "slice_spacing = 0.1\n",
    "# Body structure defines slices in use\n",
    "body = make_vertical_cylinder(roi_num=0, radius=10, length=30, offset_z=-15,\n",
    "                            spacing=slice_spacing)\n",
    "\n",
    "center_sphere = make_sphere(radius=1, offset_x=0, offset_y=0, offset_z=0,\n",
    "                            spacing=slice_spacing, roi_num=1)\n",
    "sup_sphere = make_sphere(radius=1, spacing=slice_spacing,\n",
    "                            offset_x=0, offset_y=0, offset_z=3, roi_num=14)\n",
    "# combine the contours\n",
    "slice_data = pd.concat([center_sphere, sup_sphere, body])\n",
    "# convert contour slice data into a table of slices and structures\n",
    "slice_table = make_slice_table(slice_data, ignore_errors=True)\n",
    "regions = generate_region_graph(slice_table)\n"
   ]
  },
  {
   "cell_type": "code",
   "execution_count": null,
   "metadata": {},
   "outputs": [],
   "source": [
    "selected_roi = [1, 2]\n",
    "relation = find_relations(slice_table, regions, selected_roi)\n",
    "print(relation.identify_relation())"
   ]
  },
  {
   "cell_type": "markdown",
   "metadata": {},
   "source": [
    "## Relationship Tests by Relationship Type"
   ]
  },
  {
   "cell_type": "markdown",
   "metadata": {},
   "source": [
    "### Color Coding\n",
    "<table style=\"border: 2px solid black; width=50px;\"><tr><td>\n",
    "<ul style=\"font-weight: 900; font-size: 20px;\">\n",
    "<li style=\"color: blue;\">region a</li>\n",
    "<li style=\"color: green;\">region b</li>\n",
    "<li style=\"color: orange;\">intersection of a & b</li></ul>\n",
    "</tr></td></>"
   ]
  },
  {
   "cell_type": "markdown",
   "metadata": {},
   "source": [
    "## Contains"
   ]
  },
  {
   "cell_type": "markdown",
   "metadata": {},
   "source": [
    "### Make test structures"
   ]
  },
  {
   "cell_type": "code",
   "execution_count": 2,
   "metadata": {},
   "outputs": [],
   "source": [
    "def embedded_boxes():\n",
    "    slice_spacing = 0.5\n",
    "    # Body structure defines slices in use\n",
    "    body = make_vertical_cylinder(roi_num=0, radius=20, length=30, offset_z=-15,\n",
    "                                spacing=slice_spacing)\n",
    "    # embedded boxes\n",
    "    cube6 = make_box(roi_num=1, width=6, spacing=slice_spacing)\n",
    "    cube3 = make_box(roi_num=2, width=3, offset_z=0, spacing=slice_spacing)\n",
    "    # combine the contours\n",
    "    slice_data = pd.concat([cube6, cube3, body])\n",
    "    # convert contour slice data into a table of slices and structures\n",
    "    slice_table = make_slice_table(slice_data, ignore_errors=True)\n",
    "    return slice_table"
   ]
  },
  {
   "cell_type": "code",
   "execution_count": 3,
   "metadata": {},
   "outputs": [
    {
     "name": "stdout",
     "output_type": "stream",
     "text": [
      "Relationship: Contains\n"
     ]
    }
   ],
   "source": [
    "slice_table = embedded_boxes()\n",
    "regions = generate_region_graph(slice_table)\n",
    "selected_roi = [1, 2]\n",
    "relation = find_relations(slice_table, regions, selected_roi)\n",
    "print(relation.identify_relation())"
   ]
  },
  {
   "cell_type": "code",
   "execution_count": null,
   "metadata": {},
   "outputs": [],
   "source": [
    "# 6 cm x 6 cm box\n",
    "box6 = shapely.Polygon(box_points(6))\n",
    "slices_1 = make_contour_slices(roi_num=1, shape=box6, number_slices=5)\n",
    "\n",
    "# 4 cm x 4 cm box\n",
    "box4 = shapely.Polygon(box_points(4))\n",
    "slices_2 = make_contour_slices(roi_num=2, shape=box4, number_slices=5)\n",
    "\n",
    "# 6 cm x 6 cm box offset right by 3 cm\n",
    "offset_box6 = shapely.Polygon(box_points(6, offset_x=3))\n",
    "slices_3 = make_contour_slices(roi_num=3, shape=offset_box6, number_slices=5)\n",
    "\n",
    "# 6 cm x 6 cm box with 4cm x 4 cm hole\n",
    "box6 = shapely.Polygon(box_points(6))\n",
    "box4 = shapely.Polygon(box_points(4))\n",
    "slices = make_slice_list(5, start=0.2)\n",
    "slices_4a = make_contour_slices(roi_num=4, shape=box6, number_slices=5,\n",
    "                                offset_z=0.2)\n",
    "slices_4b = make_contour_slices(roi_num=4, shape=box4, number_slices=5,\n",
    "                                offset_z=0.2)\n",
    "\n",
    "# 2 2x2 boxes\n",
    "box2a = shapely.Polygon(box_points(2, offset_x=-3))\n",
    "box2b = shapely.Polygon(box_points(2, offset_x=3))\n",
    "slices_5a = make_contour_slices(roi_num=5, shape=box2a, number_slices=5)\n",
    "slices_5b = make_contour_slices(roi_num=5, shape=box2b, number_slices=5)\n",
    "\n",
    "# 2 cm x 2 cm box offset inf by 0.3 cm\n",
    "slices_6 = make_contour_slices(roi_num=6, shape=offset_box6, number_slices=5,\n",
    "                               offset_z=-0.3)\n",
    "\n",
    "# Stacked Boxes\n",
    "slices_7 = make_contour_slices(roi_num=7, shape=box4, height=4, spacing=0.5,\n",
    "                               offset_z=2)\n",
    "slices_8 = make_contour_slices(roi_num=8, shape=box4, height=4, spacing=0.5,\n",
    "                               offset_z=-1.5)\n",
    "\n",
    "\n",
    "# combine the slice data\n",
    "slice_data = pd.concat([slices_1, slices_2, slices_3, slices_4a, slices_4b,\n",
    "                        slices_5a, slices_5b, slices_6, slices_7, slices_8])\n",
    "# convert slice data into a table of slices and structures\n",
    "slice_table = make_slice_table(slice_data)"
   ]
  },
  {
   "cell_type": "code",
   "execution_count": 4,
   "metadata": {},
   "outputs": [],
   "source": [
    "def embedded_boxes_same_start():\n",
    "    slice_spacing = 0.5\n",
    "    # Body structure defines slices in use\n",
    "    body = make_vertical_cylinder(roi_num=0, radius=20, length=30, offset_z=-15,\n",
    "                                spacing=slice_spacing)\n",
    "    # embedded boxes    # 6 cm x 6 cm box\n",
    "    box6 = shapely.Polygon(box_points(6))\n",
    "    slices_1 = make_contour_slices(roi_num=1, shape=box6, number_slices=5)\n",
    "    # 4 cm x 4 cm box\n",
    "    box4 = shapely.Polygon(box_points(4))\n",
    "    slices_2 = make_contour_slices(roi_num=2, shape=box4, number_slices=5)\n",
    "    # combine the contours\n",
    "    slice_data = pd.concat([slices_1, slices_2, body])\n",
    "    # convert contour slice data into a table of slices and structures\n",
    "    slice_table = make_slice_table(slice_data, ignore_errors=True)\n",
    "    return slice_table\n"
   ]
  },
  {
   "cell_type": "code",
   "execution_count": 5,
   "metadata": {},
   "outputs": [
    {
     "name": "stdout",
     "output_type": "stream",
     "text": [
      "Relationship: Partition\n"
     ]
    }
   ],
   "source": [
    "slice_table = embedded_boxes_same_start()\n",
    "regions = generate_region_graph(slice_table)\n",
    "selected_roi = [1, 2]\n",
    "relation = find_relations(slice_table, regions, selected_roi)\n",
    "print(relation.identify_relation())"
   ]
  },
  {
   "cell_type": "code",
   "execution_count": 6,
   "metadata": {},
   "outputs": [],
   "source": [
    "def overlapping_boxes():\n",
    "    slice_spacing = 0.1\n",
    "    # Body structure defines slices in use\n",
    "    body = make_vertical_cylinder(roi_num=0, radius=10, length=1, offset_z=-0.5,\n",
    "                                spacing=slice_spacing)\n",
    "    # embedded boxes    # 6 cm x 6 cm box\n",
    "    box6 = shapely.Polygon(box_points(6))\n",
    "    slices_1 = make_contour_slices(roi_num=1, shape=box6, number_slices=5,\n",
    "                                spacing=slice_spacing)\n",
    "    # 6 cm x 6 cm box offset right by 3 cm\n",
    "    offset_box6 = shapely.Polygon(box_points(2, offset_x=3))\n",
    "    # 2 cm x 2 cm box offset inf by 0.3 cm\n",
    "    slices_6 = make_contour_slices(roi_num=6, shape=offset_box6,\n",
    "                                   number_slices=5, offset_z=-0.3,\n",
    "                                spacing=slice_spacing)\n",
    "    # combine the contours\n",
    "    slice_data = pd.concat([slices_1, slices_6, body])\n",
    "    # convert contour slice data into a table of slices and structures\n",
    "    slice_table = make_slice_table(slice_data, ignore_errors=True)\n",
    "    return slice_table\n"
   ]
  },
  {
   "cell_type": "code",
   "execution_count": 7,
   "metadata": {},
   "outputs": [
    {
     "name": "stdout",
     "output_type": "stream",
     "text": [
      "Relationship: Overlaps\n"
     ]
    }
   ],
   "source": [
    "slice_table = overlapping_boxes()\n",
    "regions = generate_region_graph(slice_table)\n",
    "\n",
    "selected_roi = [1, 6]\n",
    "relation = find_relations(slice_table, regions, selected_roi)\n",
    "print(relation.identify_relation())"
   ]
  },
  {
   "cell_type": "code",
   "execution_count": 8,
   "metadata": {},
   "outputs": [],
   "source": [
    "def bordering_boxes():\n",
    "    slice_spacing = 0.1\n",
    "    # Body structure defines slices in use\n",
    "    body = make_vertical_cylinder(roi_num=0, radius=10, length=1, offset_z=-0.2,\n",
    "                                spacing=slice_spacing)\n",
    "    # 4 cm x 4 cm box\n",
    "    box4 = shapely.Polygon(box_points(4))\n",
    "    slices_2 = make_contour_slices(roi_num=2, shape=box4, number_slices=5)\n",
    "    # 6 cm x 6 cm box with 4cm x 4 cm hole\n",
    "    box6 = shapely.Polygon(box_points(6))\n",
    "    box4 = shapely.Polygon(box_points(4))\n",
    "    slices = make_slice_list(5, start=0.2)\n",
    "    slices_4a = make_contour_slices(roi_num=4, shape=box6, number_slices=5,\n",
    "                                    offset_z=0.2)\n",
    "    slices_4b = make_contour_slices(roi_num=4, shape=box4, number_slices=5,\n",
    "                                    offset_z=0.2)\n",
    "    # combine the contours\n",
    "    slice_data = pd.concat([slices_2, slices_4a, slices_4b, body])\n",
    "    # convert contour slice data into a table of slices and structures\n",
    "    slice_table = make_slice_table(slice_data, ignore_errors=True)\n",
    "    return slice_table\n"
   ]
  },
  {
   "cell_type": "code",
   "execution_count": 9,
   "metadata": {},
   "outputs": [
    {
     "name": "stdout",
     "output_type": "stream",
     "text": [
      "Relationship: Confines\n"
     ]
    }
   ],
   "source": [
    "slice_table = bordering_boxes()\n",
    "regions = generate_region_graph(slice_table)\n",
    "selected_roi = [4, 2]\n",
    "relation = find_relations(slice_table, regions, selected_roi)\n",
    "print(relation.identify_relation())"
   ]
  },
  {
   "cell_type": "code",
   "execution_count": 10,
   "metadata": {},
   "outputs": [],
   "source": [
    "def stacked_boxes():\n",
    "    slice_spacing = 0.5\n",
    "    # Body structure defines slices in use\n",
    "    body = make_vertical_cylinder(roi_num=0, radius=10, length=10, offset_z=-5,\n",
    "                                spacing=slice_spacing)\n",
    "    # 4 cm x 4 cm box\n",
    "    box4 = shapely.Polygon(box_points(4))\n",
    "    # Stacked Boxes\n",
    "    slices_7 = make_contour_slices(roi_num=7, shape=box4, height=4, spacing=0.5, offset_z=0)\n",
    "    slices_8 = make_contour_slices(roi_num=8, shape=box4, height=4, spacing=0.5, offset_z=-4)\n",
    "    # combine the contours\n",
    "    slice_data = pd.concat([slices_7, slices_8, body])\n",
    "    # convert contour slice data into a table of slices and structures\n",
    "    slice_table = make_slice_table(slice_data, ignore_errors=True)\n",
    "    return slice_table\n"
   ]
  },
  {
   "cell_type": "code",
   "execution_count": 11,
   "metadata": {},
   "outputs": [
    {
     "name": "stdout",
     "output_type": "stream",
     "text": [
      "Relationship: Borders\n"
     ]
    }
   ],
   "source": [
    "slice_table = stacked_boxes()\n",
    "regions = generate_region_graph(slice_table)\n",
    "selected_roi = [7, 8]\n",
    "relation = find_relations(slice_table, regions, selected_roi)\n",
    "print(relation.identify_relation())"
   ]
  },
  {
   "cell_type": "code",
   "execution_count": null,
   "metadata": {},
   "outputs": [],
   "source": [
    "def simple_cylinders():\n",
    "    slice_spacing = 0.1\n",
    "    # Body structure defines slices in use\n",
    "    body = make_vertical_cylinder(roi_num=0, radius=12, length=1.1,\n",
    "                                  offset_z=-0.5,\n",
    "                                  spacing=slice_spacing)\n",
    "    # Centred cylinder\n",
    "    primary_cylinder = make_vertical_cylinder(roi_num=1, radius=5, length=0.7,\n",
    "                                              offset_z=-0.3,\n",
    "                                              spacing=slice_spacing)\n",
    "    # cylinder within primary\n",
    "    contained_cylinder = make_vertical_cylinder(roi_num=2, radius=3, length=0.5,\n",
    "                                             offset_x=0, offset_z=-0.2,\n",
    "                                             spacing=slice_spacing)\n",
    "    # combine the contours\n",
    "    slice_data = pd.concat([body, primary_cylinder, contained_cylinder])\n",
    "    # convert contour slice data into a table of slices and structures\n",
    "    slice_table = make_slice_table(slice_data, ignore_errors=True)\n",
    "    return slice_table\n"
   ]
  },
  {
   "cell_type": "code",
   "execution_count": null,
   "metadata": {},
   "outputs": [],
   "source": [
    "def parallel_cylinders():\n",
    "    slice_spacing = 0.1\n",
    "    # Body structure defines slices in use\n",
    "    body = make_vertical_cylinder(roi_num=0, radius=12, length=1, offset_z=-0.5,\n",
    "                                  spacing=slice_spacing)\n",
    "    left_cylinder = make_vertical_cylinder(roi_num=1, radius=2, length=0.5,\n",
    "                                       offset_x=-2.5, offset_z=-0.2,\n",
    "                                       spacing=slice_spacing)\n",
    "    right_cylinder = make_vertical_cylinder(roi_num=1, radius=2, length=0.5,\n",
    "                                       offset_x=2.5, offset_z=-0.2,\n",
    "                                       spacing=slice_spacing)\n",
    "    # Two concentric cylinders different z offsets\n",
    "    right_middle_cylinder = make_vertical_cylinder(roi_num=2, radius=1, length=0.5,\n",
    "                                             offset_x=2.5, offset_z=-0.2,\n",
    "                                             spacing=slice_spacing)\n",
    "    left_boundary_cylinder1 = make_vertical_cylinder(roi_num=3, radius=1, length=0.2,\n",
    "                                             offset_x=-2.5, offset_z=-0.4,\n",
    "                                             spacing=slice_spacing)\n",
    "    left_boundary_cylinder2 = make_vertical_cylinder(roi_num=3, radius=1, length=0.2,\n",
    "                                             offset_x=-2.5, offset_z=0.3,\n",
    "                                             spacing=slice_spacing)\n",
    "    # combine the contours\n",
    "    slice_data = pd.concat([body, left_cylinder, right_cylinder,\n",
    "                            right_middle_cylinder,\n",
    "                            left_boundary_cylinder1,left_boundary_cylinder2])\n",
    "    # convert contour slice data into a table of slices and structures\n",
    "    slice_table = make_slice_table(slice_data, ignore_errors=True)\n",
    "    return slice_table\n"
   ]
  },
  {
   "cell_type": "markdown",
   "metadata": {},
   "source": [
    "#### Bordering Cylinders\n",
    "- Identify the boundary slices of the Primary and the neighbouring slice(s) that do not have a primary.\n",
    "- For each of these neighbouring slices, if the slice has a Secondary contour, select that Secondary slice.\n",
    "\n",
    "![Bordering cylinders](FreeCAD_Scripts/BorderingCylinders.png)"
   ]
  },
  {
   "cell_type": "code",
   "execution_count": null,
   "metadata": {},
   "outputs": [],
   "source": [
    "def bordering_cylinders():\n",
    "    slice_spacing = 0.1\n",
    "    # Body structure defines slices in use\n",
    "    body = make_vertical_cylinder(roi_num=0, radius=12, length=1.1, offset_z=-0.5,\n",
    "                                  spacing=slice_spacing)\n",
    "    # Centred cylinder with two embedded cylinders\n",
    "    primary_cylinder = make_vertical_cylinder(roi_num=1, radius=5, length=0.7,\n",
    "                                              offset_z=-0.3,\n",
    "                                              spacing=slice_spacing)\n",
    "    # cylinder bordering primary cylinder\n",
    "    bordering_cylinder1 = make_vertical_cylinder(roi_num=4, radius=3, length=0.2,\n",
    "                                             offset_x=0, offset_z=-0.5,\n",
    "                                             spacing=slice_spacing)\n",
    "    # cylinder bordering primary cylinder\n",
    "    bordering_cylinder2 = make_vertical_cylinder(roi_num=4, radius=3, length=0.2,\n",
    "                                             offset_x=0, offset_z=0.4,\n",
    "                                             spacing=slice_spacing)\n",
    "    # combine the contours\n",
    "    slice_data = pd.concat([body, primary_cylinder, bordering_cylinder1,\n",
    "                            bordering_cylinder2])\n",
    "    # convert contour slice data into a table of slices and structures\n",
    "    slice_table = make_slice_table(slice_data, ignore_errors=True)\n",
    "    return slice_table\n"
   ]
  },
  {
   "cell_type": "markdown",
   "metadata": {},
   "source": [
    "#### Partition Cylinders\n",
    "- Identify the boundary slices of the Primary and the neighbouring slice(s) that do not have a primary.\n",
    "- For each of these neighbouring slices, if the slice does not have a Secondary contour, but there is a Secondary contour on the same slice as the Primary boundary, select that Secondary slice.\n"
   ]
  },
  {
   "cell_type": "code",
   "execution_count": null,
   "metadata": {},
   "outputs": [],
   "source": [
    "def partitions_cylinder():\n",
    "    slice_spacing = 0.1\n",
    "    # Body structure defines slices in use\n",
    "    body = make_vertical_cylinder(roi_num=0, radius=12, length=1.1, offset_z=-0.5,\n",
    "                                  spacing=slice_spacing)\n",
    "    # Centred cylinder with two embedded cylinders\n",
    "    primary_cylinder = make_vertical_cylinder(roi_num=1, radius=5, length=0.7,\n",
    "                                              offset_z=-0.3,\n",
    "                                              spacing=slice_spacing)\n",
    "    # cylinder with interior borders\n",
    "    partitioning_cylinder = make_vertical_cylinder(roi_num=3, radius=3, length=0.7,\n",
    "                                             offset_x=0, offset_z=-0.3,\n",
    "                                             spacing=slice_spacing)\n",
    "\n",
    "    # combine the contours\n",
    "    slice_data = pd.concat([body, primary_cylinder, partitioning_cylinder])\n",
    "    # convert contour slice data into a table of slices and structures\n",
    "    slice_table = make_slice_table(slice_data, ignore_errors=True)\n",
    "    return slice_table\n"
   ]
  },
  {
   "cell_type": "code",
   "execution_count": null,
   "metadata": {},
   "outputs": [
    {
     "name": "stdout",
     "output_type": "stream",
     "text": [
      "Relationship: Partition\n"
     ]
    }
   ],
   "source": [
    "slice_table = partitions_cylinder()\n",
    "regions = generate_region_graph(slice_table)\n",
    "selected_roi = [1, 3]\n",
    "relation = find_relations(slice_table, regions, selected_roi)\n",
    "print(relation.identify_relation())"
   ]
  },
  {
   "cell_type": "code",
   "execution_count": null,
   "metadata": {},
   "outputs": [],
   "source": [
    "def embedded_cylinder():\n",
    "    slice_spacing = 0.1\n",
    "    # Body structure defines slices in use\n",
    "    body = make_vertical_cylinder(roi_num=0, radius=10, length=1, offset_z=-0.5,\n",
    "                                  spacing=slice_spacing)\n",
    "    primary_cylinder = make_vertical_cylinder(roi_num=9, radius=6, length=0.7,\n",
    "                                              offset_z=-0.3,\n",
    "                                              spacing=slice_spacing)\n",
    "    center_hole = make_vertical_cylinder(roi_num=9, radius=4, length=0.5,\n",
    "                                         offset_z=-0.2, spacing=slice_spacing)\n",
    "    # Two concentric cylinders different z offsets\n",
    "    confines_cylinder = make_vertical_cylinder(roi_num=10, radius=3, length=0.5,\n",
    "                                             offset_z=-0.2,\n",
    "                                             spacing=slice_spacing)\n",
    "    surrounds_cylinder = make_vertical_cylinder(roi_num=11, radius=2, length=0.3,\n",
    "                                         offset_z=-0.1, spacing=slice_spacing)\n",
    "    # combine the contours\n",
    "    slice_data = pd.concat([body, primary_cylinder, center_hole,\n",
    "                            confines_cylinder, surrounds_cylinder])\n",
    "    # convert contour slice data into a table of slices and structures\n",
    "    slice_table = make_slice_table(slice_data, ignore_errors=True)\n",
    "    return slice_table\n",
    "\n",
    "\n",
    "#print(find_relationship(embedded_cylinder(), [9, 10]))\n"
   ]
  },
  {
   "cell_type": "markdown",
   "metadata": {},
   "source": [
    "#### Horizontal Cylinders\n",
    "\n",
    "![Horizontal Cylinders](./Images/FreeCAD%20Images/HorizontalCylinders.png)"
   ]
  },
  {
   "cell_type": "code",
   "execution_count": 12,
   "metadata": {},
   "outputs": [],
   "source": [
    "def horizontal_cylinders():\n",
    "    slice_spacing = 0.1\n",
    "    # Body structure defines slices in use\n",
    "    body = make_box(roi_num=0, width=6, length=6, height=8, offset_z=-4,\n",
    "                    spacing=slice_spacing)\n",
    "    cylinder2h = make_horizontal_cylinder(radius=2, length=5, roi_num=1,\n",
    "                                          spacing=slice_spacing)\n",
    "    cylinder1h = make_horizontal_cylinder(radius=1, length=5, roi_num=2,\n",
    "                                          spacing=slice_spacing)\n",
    "    # combine the contours\n",
    "    slice_data = pd.concat([body, cylinder1h, cylinder2h])\n",
    "    # convert contour slice data into a table of slices and structures\n",
    "    slice_table = make_slice_table(slice_data, ignore_errors=True)\n",
    "    return slice_table\n"
   ]
  },
  {
   "cell_type": "code",
   "execution_count": 13,
   "metadata": {},
   "outputs": [
    {
     "name": "stdout",
     "output_type": "stream",
     "text": [
      "Relationship: Partition\n"
     ]
    }
   ],
   "source": [
    "slice_table = horizontal_cylinders()\n",
    "regions = generate_region_graph(slice_table)\n",
    "selected_roi = [1, 2]\n",
    "relation = find_relations(slice_table, regions, selected_roi)\n",
    "print(relation.identify_relation())"
   ]
  },
  {
   "cell_type": "markdown",
   "metadata": {},
   "source": [
    " #### Vertical Concentric Cylinders\n",
    " \n",
    " ![Concentric Cylinders](./Images/FreeCAD%20Images/ConcentricCylinders.png)"
   ]
  },
  {
   "cell_type": "code",
   "execution_count": 14,
   "metadata": {},
   "outputs": [],
   "source": [
    "def vertical_concentric_cylinders():\n",
    "    slice_spacing = 0.5\n",
    "    # Body structure defines slices in use\n",
    "    body = make_vertical_cylinder(roi_num=0, radius=20, length=30, offset_z=-15,\n",
    "                                spacing=slice_spacing)\n",
    "    cylinder6 = make_vertical_cylinder(roi_num=1, radius=6, length=10,\n",
    "                                    spacing=slice_spacing)\n",
    "    cylinder4 = make_vertical_cylinder(roi_num=2, radius=4, length=10,\n",
    "                                    spacing=slice_spacing)\n",
    "    # combine the contours\n",
    "    slice_data = pd.concat([body, cylinder6, cylinder4])\n",
    "    # convert contour slice data into a table of slices and structures\n",
    "    slice_table = make_slice_table(slice_data, ignore_errors=True)\n",
    "    return slice_table\n"
   ]
  },
  {
   "cell_type": "code",
   "execution_count": 15,
   "metadata": {},
   "outputs": [
    {
     "name": "stdout",
     "output_type": "stream",
     "text": [
      "Relationship: Partition\n"
     ]
    }
   ],
   "source": [
    "slice_table = vertical_concentric_cylinders()\n",
    "regions = generate_region_graph(slice_table)\n",
    "selected_roi = [1, 2]\n",
    "relation = find_relations(slice_table, regions, selected_roi)\n",
    "print(relation.identify_relation())"
   ]
  },
  {
   "cell_type": "markdown",
   "metadata": {},
   "source": [
    "#### Overlaps"
   ]
  },
  {
   "cell_type": "code",
   "execution_count": 16,
   "metadata": {},
   "outputs": [],
   "source": [
    "def overlapping_cubes_left():\n",
    "    slice_spacing = 0.5\n",
    "    # Body structure defines slices in use\n",
    "    body = make_vertical_cylinder(roi_num=0, radius=20, length=30, offset_z=-15,\n",
    "                                spacing=slice_spacing)\n",
    "    #\n",
    "    cube6 = make_box(roi_num=1, width=6, spacing=slice_spacing)\n",
    "    cube6_left = make_box(roi_num=2, width=6, offset_x=3, spacing=slice_spacing)\n",
    "    # combine the contours\n",
    "    slice_data = pd.concat([body, cube6, cube6_left])\n",
    "    # convert contour slice data into a table of slices and structures\n",
    "    slice_table = make_slice_table(slice_data, ignore_errors=True)\n",
    "    return slice_table\n"
   ]
  },
  {
   "cell_type": "code",
   "execution_count": 17,
   "metadata": {},
   "outputs": [
    {
     "name": "stdout",
     "output_type": "stream",
     "text": [
      "Relationship: Overlaps\n"
     ]
    }
   ],
   "source": [
    "slice_table = overlapping_cubes_left()\n",
    "regions = generate_region_graph(slice_table)\n",
    "selected_roi = [1, 2]\n",
    "relation = find_relations(slice_table, regions, selected_roi)\n",
    "print(relation.identify_relation())"
   ]
  },
  {
   "cell_type": "code",
   "execution_count": 18,
   "metadata": {},
   "outputs": [],
   "source": [
    "def overlapping_cubes_inf():\n",
    "    slice_spacing = 0.5\n",
    "    # Body structure defines slices in use\n",
    "    body = make_vertical_cylinder(roi_num=0, radius=20, length=30, offset_z=-15,\n",
    "                                spacing=slice_spacing)\n",
    "    #\n",
    "    cube6 = make_box(roi_num=1, width=6, spacing=slice_spacing)\n",
    "    cube6_inf = make_box(roi_num=3, width=6, offset_z=3, spacing=slice_spacing)\n",
    "    # combine the contours\n",
    "    slice_data = pd.concat([body, cube6, cube6_inf])\n",
    "    # convert contour slice data into a table of slices and structures\n",
    "    slice_table = make_slice_table(slice_data, ignore_errors=True)\n",
    "    return slice_table\n"
   ]
  },
  {
   "cell_type": "code",
   "execution_count": 19,
   "metadata": {},
   "outputs": [
    {
     "name": "stdout",
     "output_type": "stream",
     "text": [
      "Relationship: Overlaps\n"
     ]
    }
   ],
   "source": [
    "slice_table = overlapping_cubes_inf()\n",
    "regions = generate_region_graph(slice_table)\n",
    "selected_roi = [1, 3]\n",
    "relation = find_relations(slice_table, regions, selected_roi)\n",
    "print(relation.identify_relation())"
   ]
  },
  {
   "cell_type": "code",
   "execution_count": 20,
   "metadata": {},
   "outputs": [],
   "source": [
    "def overlapping_cubes_sup():\n",
    "    slice_spacing = 0.5\n",
    "    # Body structure defines slices in use\n",
    "    body = make_vertical_cylinder(roi_num=0, radius=20, length=30, offset_z=-15,\n",
    "                                spacing=slice_spacing)\n",
    "    #\n",
    "    cube6 = make_box(roi_num=1, width=6, spacing=slice_spacing)\n",
    "    cube3_sup = make_box(roi_num=4, width=3, offset_z=-2.5,\n",
    "                         spacing=slice_spacing)\n",
    "    # combine the contours\n",
    "    slice_data = pd.concat([body, cube6, cube3_sup])\n",
    "    # convert contour slice data into a table of slices and structures\n",
    "    slice_table = make_slice_table(slice_data, ignore_errors=True)\n",
    "    return slice_table\n"
   ]
  },
  {
   "cell_type": "code",
   "execution_count": 21,
   "metadata": {},
   "outputs": [
    {
     "name": "stdout",
     "output_type": "stream",
     "text": [
      "Relationship: Overlaps\n"
     ]
    }
   ],
   "source": [
    "slice_table = overlapping_cubes_sup()\n",
    "regions = generate_region_graph(slice_table)\n",
    "selected_roi = [1, 4]\n",
    "relation = find_relations(slice_table, regions, selected_roi)\n",
    "print(relation.identify_relation())"
   ]
  },
  {
   "cell_type": "code",
   "execution_count": 22,
   "metadata": {},
   "outputs": [],
   "source": [
    "def overlapping_cubes_inf_rt():\n",
    "    slice_spacing = 0.5\n",
    "    # Body structure defines slices in use\n",
    "    body = make_vertical_cylinder(roi_num=0, radius=20, length=30, offset_z=-15,\n",
    "                                spacing=slice_spacing)\n",
    "    #\n",
    "    cube6 = make_box(roi_num=1, width=6, spacing=slice_spacing)\n",
    "    cube6_inf_rt = make_box(roi_num=5, width=6, offset_z=3, offset_x=3,\n",
    "                            offset_y=3, spacing=slice_spacing)\n",
    "    # combine the contours\n",
    "    slice_data = pd.concat([body, cube6, cube6_inf_rt])\n",
    "    # convert contour slice data into a table of slices and structures\n",
    "    slice_table = make_slice_table(slice_data, ignore_errors=True)\n",
    "    return slice_table\n"
   ]
  },
  {
   "cell_type": "code",
   "execution_count": 23,
   "metadata": {},
   "outputs": [
    {
     "name": "stdout",
     "output_type": "stream",
     "text": [
      "Relationship: Overlaps\n"
     ]
    }
   ],
   "source": [
    "slice_table = overlapping_cubes_inf_rt()\n",
    "regions = generate_region_graph(slice_table)\n",
    "selected_roi = [1, 5]\n",
    "relation = find_relations(slice_table, regions, selected_roi)\n",
    "print(relation.identify_relation())"
   ]
  },
  {
   "cell_type": "code",
   "execution_count": null,
   "metadata": {},
   "outputs": [],
   "source": [
    "def dual_embedded_cylinder():\n",
    "    slice_spacing = 0.1\n",
    "    # Body structure defines slices in use\n",
    "    body = make_vertical_cylinder(roi_num=0, radius=12, length=1.5, offset_z=-0.8,\n",
    "                                  spacing=slice_spacing)\n",
    "    # Centred cylinder with two embedded cylinders\n",
    "    primary_cylinder = make_vertical_cylinder(roi_num=1, radius=5, length=0.9,\n",
    "                                              offset_z=-0.5,\n",
    "                                              spacing=slice_spacing)\n",
    "    left_hole = make_vertical_cylinder(roi_num=1, radius=2, length=0.7,\n",
    "                                       offset_x=-2.5, offset_z=-0.4,\n",
    "                                       spacing=slice_spacing)\n",
    "    right_hole = make_vertical_cylinder(roi_num=1, radius=2, length=0.7,\n",
    "                                       offset_x=2.5, offset_z=-0.4,\n",
    "                                       spacing=slice_spacing)\n",
    "    # cylinder with interior borders\n",
    "    confines_cylinder = make_vertical_cylinder(roi_num=2, radius=1, length=0.7,\n",
    "                                             offset_x=2.5, offset_z=-0.4,\n",
    "                                             spacing=slice_spacing)\n",
    "\n",
    "    # cylinder completely inside of a hole\n",
    "    surrounds_cylinder = make_vertical_cylinder(roi_num=3, radius=1, length=0.3,\n",
    "                                             offset_x=-2.5, offset_z=-0.2,\n",
    "                                             spacing=slice_spacing)\n",
    "    # cylinder bordering primary cylinder\n",
    "    bordering_cylinder1 = make_vertical_cylinder(roi_num=4, radius=3, length=0.2,\n",
    "                                             offset_x=0, offset_z=-0.7,\n",
    "                                             spacing=slice_spacing)\n",
    "    # cylinder bordering primary cylinder\n",
    "    bordering_cylinder2 = make_vertical_cylinder(roi_num=4, radius=3, length=0.2,\n",
    "                                             offset_x=0, offset_z=0.4,\n",
    "                                             spacing=slice_spacing)\n",
    "    # combine the contours\n",
    "    slice_data = pd.concat([body, primary_cylinder, left_hole, right_hole,\n",
    "                            confines_cylinder, surrounds_cylinder,\n",
    "                            bordering_cylinder1, bordering_cylinder2])\n",
    "    # convert contour slice data into a table of slices and structures\n",
    "    slice_table = make_slice_table(slice_data, ignore_errors=True)\n",
    "    return slice_table\n"
   ]
  },
  {
   "cell_type": "markdown",
   "metadata": {},
   "source": [
    "#### Concentric cylinders starting on the same slice\n",
    "  \n",
    "<img src=\"Images\\Boundaries\\PartitionSup3D.png\" alt=\"PartitionSup3D\" style=\"height:50px;\">\n",
    "<img src=\"Images\\Boundaries\\PartitionSup2D.png\" alt=\"PartitionSup2D\" style=\"height:30px;\">"
   ]
  },
  {
   "cell_type": "code",
   "execution_count": 24,
   "metadata": {},
   "outputs": [],
   "source": [
    "def concentric_cylinders_same_start():\n",
    "    slice_spacing = 0.1\n",
    "    # Body structure defines slices in use\n",
    "    body = make_vertical_cylinder(roi_num=0, radius=10, length=1, offset_z=-0.5,\n",
    "                                  spacing=slice_spacing)\n",
    "    # Concentric cylinders starting on the same slice\n",
    "    primary_cylinder = make_vertical_cylinder(roi_num=1, radius=2, length=0.7,\n",
    "                                              offset_z=-0.3,\n",
    "                                              spacing=slice_spacing)\n",
    "    sup_partition = make_vertical_cylinder(roi_num=2, radius=1, length=0.4,\n",
    "                                           offset_z=-0.3,\n",
    "                                           spacing=slice_spacing)\n",
    "    # combine the contours\n",
    "    slice_data = pd.concat([body, primary_cylinder, sup_partition])\n",
    "    # convert contour slice data into a table of slices and structures\n",
    "    slice_table = make_slice_table(slice_data, ignore_errors=True)\n",
    "    return slice_table\n"
   ]
  },
  {
   "cell_type": "code",
   "execution_count": 26,
   "metadata": {},
   "outputs": [
    {
     "name": "stdout",
     "output_type": "stream",
     "text": [
      "Relationship: Partition\n"
     ]
    }
   ],
   "source": [
    "slice_table = concentric_cylinders_same_start()\n",
    "regions = generate_region_graph(slice_table)\n",
    "selected_roi = [1, 2]\n",
    "relation = find_relations(slice_table, regions, selected_roi)\n",
    "print(relation.identify_relation())"
   ]
  },
  {
   "cell_type": "markdown",
   "metadata": {},
   "source": [
    "# Done To Here"
   ]
  },
  {
   "cell_type": "markdown",
   "metadata": {},
   "source": [
    "#### Concentric cylinders ending on the same slice.\n",
    "\n",
    "<img src=\"Images\\Boundaries\\PartitionInf3D.png\" alt=\"PartitionInf3D\" style=\"height:50px;\">\n",
    "<img src=\"Images\\Boundaries\\PartitionInf2D.png\" alt=\"PartitionInf2D\" style=\"height:30px;\">"
   ]
  },
  {
   "cell_type": "code",
   "execution_count": 30,
   "metadata": {},
   "outputs": [],
   "source": [
    "def concentric_cylinders_same_end():\n",
    "    slice_spacing = 0.1\n",
    "    # Body structure defines slices in use\n",
    "    body = make_vertical_cylinder(roi_num=0, radius=10, length=1, offset_z=-0.5,\n",
    "                                  spacing=slice_spacing)\n",
    "    # Concentric cylinders ending on the same slice\n",
    "    primary_cylinder = make_vertical_cylinder(roi_num=1, radius=2, length=0.7,\n",
    "                                              offset_z=-0.3,\n",
    "                                              spacing=slice_spacing)\n",
    "    inf_partition = make_vertical_cylinder(roi_num=3, radius=1, length=0.4,\n",
    "                                           offset_z=0, spacing=slice_spacing)\n",
    "    # combine the contours\n",
    "    slice_data = pd.concat([body, primary_cylinder, inf_partition])\n",
    "    # convert contour slice data into a table of slices and structures\n",
    "    slice_table = make_slice_table(slice_data, ignore_errors=True)\n",
    "    return slice_table\n"
   ]
  },
  {
   "cell_type": "code",
   "execution_count": 31,
   "metadata": {},
   "outputs": [
    {
     "name": "stdout",
     "output_type": "stream",
     "text": [
      "Relationship: Partition\n"
     ]
    }
   ],
   "source": [
    "slice_table = concentric_cylinders_same_end()\n",
    "selected_roi = [1, 3]\n",
    "\n",
    "relation = find_relations(slice_table, selected_roi)\n",
    "print(relation.identify_relation())"
   ]
  },
  {
   "cell_type": "markdown",
   "metadata": {},
   "source": [
    "#### Concentric cylinders starting and ending on the same slice.\n",
    "\n",
    "<img src=\"Images\\Boundaries\\Partition3D.png\" alt=\"PartitionInf3D\" style=\"height:50px;\">\n",
    "<img src=\"Images\\Boundaries\\Partition2D.png\" alt=\"PartitionInf2D\" style=\"height:30px;\">"
   ]
  },
  {
   "cell_type": "code",
   "execution_count": 32,
   "metadata": {},
   "outputs": [],
   "source": [
    "def concentric_cylinders_same_start_end():\n",
    "    slice_spacing = 0.1\n",
    "    # Body structure defines slices in use\n",
    "    body = make_vertical_cylinder(roi_num=0, radius=10, length=1, offset_z=-0.5,\n",
    "                                  spacing=slice_spacing)\n",
    "    # Concentric cylinders starting and ending on the same slice\n",
    "    primary_cylinder = make_vertical_cylinder(roi_num=1, radius=2, length=0.7,\n",
    "                                              offset_z=-0.3,\n",
    "                                              spacing=slice_spacing)\n",
    "    mid_partition = make_vertical_cylinder(roi_num=4, radius=1, length=0.7,\n",
    "                                           offset_z=-0.3, spacing=slice_spacing)\n",
    "    # combine the contours\n",
    "    slice_data = pd.concat([body, primary_cylinder, mid_partition])\n",
    "    # convert contour slice data into a table of slices and structures\n",
    "    slice_table = make_slice_table(slice_data, ignore_errors=True)\n",
    "    return slice_table\n"
   ]
  },
  {
   "cell_type": "code",
   "execution_count": 33,
   "metadata": {},
   "outputs": [
    {
     "name": "stdout",
     "output_type": "stream",
     "text": [
      "Relationship: Partition\n"
     ]
    }
   ],
   "source": [
    "slice_table = concentric_cylinders_same_start_end()\n",
    "selected_roi = [1, 4]\n",
    "\n",
    "relation = find_relations(slice_table, selected_roi)\n",
    "print(relation.identify_relation())"
   ]
  },
  {
   "cell_type": "markdown",
   "metadata": {},
   "source": [
    "### Exterior Borders\n",
    "  - Primary: Central Cylinder\n",
    "    - Secondary: one of:\n",
    "      - SUP Cylinder\n",
    "      - INF Cylinder\n",
    "      - Combined SUP & INF cylinders in one structure with single slice gap at the SUP/INF boundary of the central cylinder.\n",
    "\n",
    "      \n",
    "![Exterior Border SUP](Images/Boundaries/ExteriorBorders2D_SUP.png)\n",
    "![Exterior Border INF](Images/Boundaries/ExteriorBorders2D_INF.png)"
   ]
  },
  {
   "cell_type": "code",
   "execution_count": 34,
   "metadata": {},
   "outputs": [],
   "source": [
    "def concentric_cylinders_inf_offset():\n",
    "    slice_spacing = 0.1\n",
    "    # Body structure defines slices in use\n",
    "    body = make_vertical_cylinder(roi_num=0, radius=10, length=1, offset_z=-0.5,\n",
    "                                  spacing=slice_spacing)\n",
    "    # Two concentric cylinders different z offsets\n",
    "    primary_cylinder = make_vertical_cylinder(roi_num=5, radius=2, length=0.4,\n",
    "                                              offset_z=-0.4,\n",
    "                                              spacing=slice_spacing)\n",
    "    inf_cylinder = make_vertical_cylinder(roi_num=6, radius=1, length=0.4,\n",
    "                                          offset_z=0, spacing=slice_spacing)\n",
    "    # combine the contours\n",
    "    slice_data = pd.concat([body, primary_cylinder, inf_cylinder])\n",
    "    # convert contour slice data into a table of slices and structures\n",
    "    slice_table = make_slice_table(slice_data, ignore_errors=True)\n",
    "    return slice_table\n"
   ]
  },
  {
   "cell_type": "code",
   "execution_count": 35,
   "metadata": {},
   "outputs": [
    {
     "name": "stdout",
     "output_type": "stream",
     "text": [
      "Relationship: Borders\n"
     ]
    }
   ],
   "source": [
    "slice_table = concentric_cylinders_inf_offset()\n",
    "selected_roi = [5, 6]\n",
    "\n",
    "relation = find_relations(slice_table, selected_roi)\n",
    "print(relation.identify_relation())"
   ]
  },
  {
   "cell_type": "markdown",
   "metadata": {},
   "source": [
    "#### Confines Cylinders\n",
    "- Identify the boundary slices of the Primary and the neighbouring slice(s) that do not have a primary.\n",
    "- For each of these neighbouring slices, if the slice does not have a Secondary contour, but there is a Secondary contour on the same slice as the Primary boundary, select that Secondary slice.\n",
    "\n",
    "  \n",
    "![Confines cylinder](FreeCAD_Scripts/confines_cylinder.png)"
   ]
  },
  {
   "cell_type": "markdown",
   "metadata": {},
   "source": [
    "\n",
    "\n",
    "5. Match hole boundary slices for boundary tests:\n",
    "   - For each hole boundary slice of the Primary ROI, if the slice has a Secondary contour, select that contour for comparison.\n",
    "   - If the slice does not have a Secondary contour, identify the neighbouring slice that also has a hole.\n",
    "   - If the neighbouring slice has a Secondary contour, select that contour.\n",
    "   - If the neighbouring slice does not have a Secondary contour, boundary testing is not required.\n",
    "\n",
    "\n",
    "  "
   ]
  },
  {
   "cell_type": "code",
   "execution_count": null,
   "metadata": {},
   "outputs": [],
   "source": [
    "def confines_cylinder():\n",
    "    slice_spacing = 0.1\n",
    "    # Body structure defines slices in use\n",
    "    body = make_vertical_cylinder(roi_num=0, radius=12, length=1.1, offset_z=-0.5,\n",
    "                                  spacing=slice_spacing)\n",
    "    # Centred cylinder with two embedded cylinders\n",
    "    primary_cylinder = make_vertical_cylinder(roi_num=1, radius=5, length=0.7,\n",
    "                                              offset_z=-0.3,\n",
    "                                              spacing=slice_spacing)\n",
    "    left_hole = make_vertical_cylinder(roi_num=1, radius=2, length=0.5,\n",
    "                                       offset_x=-2.5, offset_z=-0.2,\n",
    "                                       spacing=slice_spacing)\n",
    "    right_hole = make_vertical_cylinder(roi_num=1, radius=2, length=0.5,\n",
    "                                       offset_x=2.5, offset_z=-0.2,\n",
    "                                       spacing=slice_spacing)\n",
    "    # cylinder with interior borders\n",
    "    confines_cylinder = make_vertical_cylinder(roi_num=2, radius=1, length=0.5,\n",
    "                                             offset_x=2.5, offset_z=-0.2,\n",
    "                                             spacing=slice_spacing)\n",
    "\n",
    "    # combine the contours\n",
    "    slice_data = pd.concat([body, primary_cylinder, left_hole, right_hole,\n",
    "                            confines_cylinder])\n",
    "    # convert contour slice data into a table of slices and structures\n",
    "    slice_table = make_slice_table(slice_data, ignore_errors=True)\n",
    "    return slice_table\n"
   ]
  },
  {
   "cell_type": "markdown",
   "metadata": {},
   "source": [
    "### Interior Borders\n",
    "  - Primary: Central Cylinder\n",
    "  - Concentric shorter hole in the center of the primary cylinder\n",
    "  - Secondary same height as hole but narrower\n",
    "  - Interior borders at the and bottom of hole.\n",
    "  \n",
    "![image.png](attachment:image.png)\n",
    "![image-2.png](attachment:image-2.png)"
   ]
  },
  {
   "cell_type": "code",
   "execution_count": null,
   "metadata": {},
   "outputs": [],
   "source": [
    "def embedded_cylinder():\n",
    "    slice_spacing = 0.1\n",
    "    # Body structure defines slices in use\n",
    "    body = make_vertical_cylinder(roi_num=0, radius=10, length=1, offset_z=-0.5,\n",
    "                                  spacing=slice_spacing)\n",
    "    primary_cylinder = make_vertical_cylinder(roi_num=9, radius=4, length=0.7,\n",
    "                                              offset_z=-0.3,\n",
    "                                              spacing=slice_spacing)\n",
    "    center_hole = make_vertical_cylinder(roi_num=9, radius=2, length=0.5,\n",
    "                                         offset_z=-0.2, spacing=slice_spacing)\n",
    "    # Two concentric cylinders different z offsets\n",
    "    middle_cylinder = make_vertical_cylinder(roi_num=10, radius=1, length=0.5,\n",
    "                                             offset_z=-0.2,\n",
    "                                             spacing=slice_spacing)\n",
    "    reference = make_vertical_cylinder(roi_num=11, radius=2, length=0.5,\n",
    "                                         offset_z=-0.2, spacing=slice_spacing)\n",
    "    # combine the contours\n",
    "    slice_data = pd.concat([body, primary_cylinder, center_hole, middle_cylinder, reference])\n",
    "    # convert contour slice data into a table of slices and structures\n",
    "    slice_table = make_slice_table(slice_data, ignore_errors=True)\n",
    "    return slice_table\n"
   ]
  },
  {
   "cell_type": "code",
   "execution_count": null,
   "metadata": {},
   "outputs": [],
   "source": [
    "def overlapping_cylinder():\n",
    "    slice_spacing = 0.1\n",
    "    # Body structure defines slices in use\n",
    "    body = make_vertical_cylinder(roi_num=0, radius=12, length=1.1, offset_z=-0.5,\n",
    "                                  spacing=slice_spacing)\n",
    "    # Centred cylinder with two embedded cylinders\n",
    "    primary_cylinder = make_vertical_cylinder(roi_num=1, radius=5, length=0.7,\n",
    "                                              offset_z=-0.3,\n",
    "                                              spacing=slice_spacing)\n",
    "    # cylinder with interior borders\n",
    "    overlapping_cylinder = make_vertical_cylinder(roi_num=5, radius=3, length=0.9,\n",
    "                                             offset_x=0, offset_z=-0.3,\n",
    "                                             spacing=slice_spacing)\n",
    "\n",
    "    # combine the contours\n",
    "    slice_data = pd.concat([body, primary_cylinder, overlapping_cylinder])\n",
    "    # convert contour slice data into a table of slices and structures\n",
    "    slice_table = make_slice_table(slice_data, ignore_errors=True)\n",
    "    return slice_table\n"
   ]
  },
  {
   "cell_type": "code",
   "execution_count": null,
   "metadata": {},
   "outputs": [],
   "source": [
    "def cylinders():\n",
    "    slice_spacing = 0.1\n",
    "    # Body structure defines slices in use\n",
    "    body = make_vertical_cylinder(roi_num=0, radius=12, length=1.1,\n",
    "                                  offset_z=-0.5,\n",
    "                                  spacing=slice_spacing)\n",
    "    # Centred cylinder\n",
    "    primary_cylinder = make_vertical_cylinder(roi_num=1, radius=5, length=0.7,\n",
    "                                              offset_z=-0.3,\n",
    "                                              spacing=slice_spacing)\n",
    "    # cylinder within primary\n",
    "    contained_cylinder = make_vertical_cylinder(roi_num=2, radius=3, length=0.5,\n",
    "                                             offset_x=0, offset_z=-0.2,\n",
    "                                             spacing=slice_spacing)\n",
    "    # cylinder with matching borders\n",
    "    partitioning_cylinder = make_vertical_cylinder(roi_num=3, radius=3, length=0.7,\n",
    "                                             offset_x=0, offset_z=-0.3,\n",
    "                                             spacing=slice_spacing)\n",
    "    # cylinder bordering primary cylinder\n",
    "    bordering_cylinder1 = make_vertical_cylinder(roi_num=4, radius=3, length=0.2,\n",
    "                                             offset_x=0, offset_z=-0.5,\n",
    "                                             spacing=slice_spacing)\n",
    "    # cylinder bordering primary cylinder\n",
    "    bordering_cylinder2 = make_vertical_cylinder(roi_num=4, radius=3, length=0.2,\n",
    "                                             offset_x=0, offset_z=0.4,\n",
    "                                             spacing=slice_spacing)\n",
    "    # cylinder overlapping positive\n",
    "    overlapping_cylinder = make_vertical_cylinder(roi_num=5, radius=3, length=0.8,\n",
    "                                             offset_x=0, offset_z=-0.3,\n",
    "                                             spacing=slice_spacing)\n",
    "    # combine the contours\n",
    "    slice_data = pd.concat([body, primary_cylinder, contained_cylinder,\n",
    "                            partitioning_cylinder,\n",
    "                            bordering_cylinder1, bordering_cylinder2,\n",
    "                            overlapping_cylinder])\n",
    "    # convert contour slice data into a table of slices and structures\n",
    "    slice_table = make_slice_table(slice_data, ignore_errors=True)\n",
    "    return slice_table\n"
   ]
  },
  {
   "cell_type": "markdown",
   "metadata": {},
   "source": [
    "# ERROR Why are these structures Partition?"
   ]
  },
  {
   "cell_type": "code",
   "execution_count": 38,
   "metadata": {},
   "outputs": [],
   "source": [
    "def overlapping_boxes():\n",
    "    slice_spacing = 0.5\n",
    "    # Body structure defines slices in use\n",
    "    body = make_vertical_cylinder(roi_num=0, radius=20, length=5, offset_z=-3,\n",
    "                                spacing=slice_spacing)\n",
    "    # overlapping boxes\n",
    "    cube4_sup = make_box(roi_num=1, width=2, offset_z=-1, spacing=slice_spacing)\n",
    "    cube4_inf = make_box(roi_num=2, width=2, offset_z= .5, spacing=slice_spacing)\n",
    "    # combine the contours\n",
    "    slice_data = pd.concat([body, cube4_sup, cube4_inf])\n",
    "    # convert contour slice data into a table of slices and structures\n",
    "    slice_table = make_slice_table(slice_data, ignore_errors=True)\n",
    "    return slice_table\n"
   ]
  },
  {
   "cell_type": "code",
   "execution_count": 39,
   "metadata": {},
   "outputs": [
    {
     "name": "stdout",
     "output_type": "stream",
     "text": [
      "Relationship: Partition\n"
     ]
    }
   ],
   "source": [
    "slice_table = overlapping_boxes()\n",
    "selected_roi = [1, 2]\n",
    "\n",
    "relation = find_relations(slice_table, selected_roi)\n",
    "print(relation.identify_relation())"
   ]
  },
  {
   "cell_type": "markdown",
   "metadata": {},
   "source": [
    "Boxes are overlapping because they have a contour on the same slice (-0.5)"
   ]
  },
  {
   "cell_type": "code",
   "execution_count": 40,
   "metadata": {},
   "outputs": [
    {
     "data": {
      "text/html": [
       "<div>\n",
       "<style scoped>\n",
       "    .dataframe tbody tr th:only-of-type {\n",
       "        vertical-align: middle;\n",
       "    }\n",
       "\n",
       "    .dataframe tbody tr th {\n",
       "        vertical-align: top;\n",
       "    }\n",
       "\n",
       "    .dataframe thead th {\n",
       "        text-align: right;\n",
       "    }\n",
       "</style>\n",
       "<table border=\"1\" class=\"dataframe\">\n",
       "  <thead>\n",
       "    <tr style=\"text-align: right;\">\n",
       "      <th></th>\n",
       "      <th>Body</th>\n",
       "      <th>Sup Box</th>\n",
       "      <th>Inf Box</th>\n",
       "    </tr>\n",
       "    <tr>\n",
       "      <th>Slice Index</th>\n",
       "      <th></th>\n",
       "      <th></th>\n",
       "      <th></th>\n",
       "    </tr>\n",
       "  </thead>\n",
       "  <tbody>\n",
       "    <tr>\n",
       "      <th>-3.0</th>\n",
       "      <td>contour</td>\n",
       "      <td></td>\n",
       "      <td></td>\n",
       "    </tr>\n",
       "    <tr>\n",
       "      <th>-2.5</th>\n",
       "      <td>contour</td>\n",
       "      <td></td>\n",
       "      <td></td>\n",
       "    </tr>\n",
       "    <tr>\n",
       "      <th>-2.0</th>\n",
       "      <td>contour</td>\n",
       "      <td>contour</td>\n",
       "      <td></td>\n",
       "    </tr>\n",
       "    <tr>\n",
       "      <th>-1.5</th>\n",
       "      <td>contour</td>\n",
       "      <td>contour</td>\n",
       "      <td></td>\n",
       "    </tr>\n",
       "    <tr>\n",
       "      <th>-1.0</th>\n",
       "      <td>contour</td>\n",
       "      <td>contour</td>\n",
       "      <td></td>\n",
       "    </tr>\n",
       "    <tr>\n",
       "      <th>-0.5</th>\n",
       "      <td>contour</td>\n",
       "      <td>contour</td>\n",
       "      <td>contour</td>\n",
       "    </tr>\n",
       "    <tr>\n",
       "      <th>0.0</th>\n",
       "      <td>contour</td>\n",
       "      <td></td>\n",
       "      <td>contour</td>\n",
       "    </tr>\n",
       "    <tr>\n",
       "      <th>0.5</th>\n",
       "      <td>contour</td>\n",
       "      <td></td>\n",
       "      <td>contour</td>\n",
       "    </tr>\n",
       "    <tr>\n",
       "      <th>1.0</th>\n",
       "      <td>contour</td>\n",
       "      <td></td>\n",
       "      <td>contour</td>\n",
       "    </tr>\n",
       "    <tr>\n",
       "      <th>1.5</th>\n",
       "      <td>contour</td>\n",
       "      <td></td>\n",
       "      <td></td>\n",
       "    </tr>\n",
       "  </tbody>\n",
       "</table>\n",
       "</div>"
      ],
      "text/plain": [
       "                Body  Sup Box  Inf Box\n",
       "Slice Index                           \n",
       "-3.0         contour                  \n",
       "-2.5         contour                  \n",
       "-2.0         contour  contour         \n",
       "-1.5         contour  contour         \n",
       "-1.0         contour  contour         \n",
       "-0.5         contour  contour  contour\n",
       " 0.0         contour           contour\n",
       " 0.5         contour           contour\n",
       " 1.0         contour           contour\n",
       " 1.5         contour                  "
      ]
     },
     "execution_count": 40,
     "metadata": {},
     "output_type": "execute_result"
    }
   ],
   "source": [
    "def has_contour(slice):\n",
    "    if isinstance(slice, StructureSlice):\n",
    "        return 'contour'\n",
    "    return ''\n",
    "\n",
    "slice_table = overlapping_boxes()\n",
    "slices = slice_table.map(has_contour)\n",
    "slices.columns = ['Body', 'Sup Box', 'Inf Box']\n",
    "slices"
   ]
  },
  {
   "cell_type": "markdown",
   "metadata": {},
   "source": [
    "# More Tests Needed"
   ]
  },
  {
   "cell_type": "markdown",
   "metadata": {},
   "source": [
    "  - Single Primary slice with circular contour.\n",
    "    - Secondary: one of:\n",
    "      - SUP Cylinder\n",
    "      - INF Cylinder\n",
    "      - Combined SUP & INF Cylinders in one structure with single slice gap at level of the primary slice. \n",
    "- **Partition**\n",
    "  - Concentric cylinders ending on the same slice.\n",
    "  - Concentric cylinders starting on the same slice\n",
    "  - Primary: Central Cylinder\n",
    "    - Single Secondary slice with circular contour on the SUP/INF slice of the Primary cylinder.\n",
    "  - Single Primary slice with circular contour\n",
    "    - Secondary: one of:\n",
    "      - SUP Cylinder ending on the same slice.\n",
    "      - INF Cylinder ending on the same slice.\n",
    "- **CONTAINS**\n",
    "  - Concentric cylinders with interior cylinder ending inside the exterior cylinder by one slice\n",
    "**OVERLAPS**\n",
    "  - Concentric cylinders with interior cylinder ending outside the exterior cylinder by one slice\n",
    "  - Concentric cylinders with interior cylinder consisting of single slice ending inside the exterior cylinder by one slice\n"
   ]
  },
  {
   "cell_type": "code",
   "execution_count": null,
   "metadata": {},
   "outputs": [],
   "source": [
    "    # 6 cm x 6 cm box offset right by 3 cm\n",
    "    offset_box6 = shapely.Polygon(box_points(6, offset_x=3))\n",
    "    slices_3 = make_contour_slices(roi_num=3, shape=offset_box6, number_slices=5)\n",
    "\n",
    "\n",
    "\n",
    "# 2 2x2 boxes\n",
    "box2a = shapely.Polygon(box_points(2, offset_x=-3))\n",
    "box2b = shapely.Polygon(box_points(2, offset_x=3))\n",
    "slices_5a = make_contour_slices(roi_num=5, shape=box2a, number_slices=5)\n",
    "slices_5b = make_contour_slices(roi_num=5, shape=box2b, number_slices=5)\n",
    "\n",
    "\n",
    "\n",
    "# Stacked Boxes\n",
    "slices_7 = make_contour_slices(roi_num=7, shape=box4, height=4, spacing=0.5,\n",
    "                               offset_z=2)\n",
    "slices_8 = make_contour_slices(roi_num=8, shape=box4, height=4, spacing=0.5,\n",
    "                               offset_z=-1.5)\n",
    "\n",
    "\n",
    "# combine the slice data\n",
    "slice_data = pd.concat([slices_1, slices_2, slices_3, slices_4a, slices_4b,\n",
    "                        slices_5a, slices_5b, slices_6, slices_7, slices_8])\n",
    "# convert slice data into a table of slices and structures\n",
    "slice_table = make_slice_table(slice_data)"
   ]
  },
  {
   "cell_type": "code",
   "execution_count": null,
   "metadata": {},
   "outputs": [],
   "source": [
    "# 6 cm x 6 cm box\n",
    "box6 = shapely.Polygon(box_points(6))\n",
    "slices_1 = make_contour_slices(roi_num=1, shape=box6, number_slices=5)\n",
    "\n",
    "# 4 cm x 4 cm box\n",
    "box4 = shapely.Polygon(box_points(4))\n",
    "slices_2 = make_contour_slices(roi_num=2, shape=box4, number_slices=5)\n",
    "\n",
    "# 6 cm x 6 cm box offset right by 3 cm\n",
    "offset_box6 = shapely.Polygon(box_points(6, offset_x=3))\n",
    "slices_3 = make_contour_slices(roi_num=3, shape=offset_box6, number_slices=5)\n",
    "\n",
    "# 6 cm x 6 cm box with 4cm x 4 cm hole\n",
    "box6 = shapely.Polygon(box_points(6))\n",
    "box4 = shapely.Polygon(box_points(4))\n",
    "slices = make_slice_list(5, start=0.2)\n",
    "slices_4a = make_contour_slices(roi_num=4, shape=box6, number_slices=5,\n",
    "                                offset_z=0.2)\n",
    "slices_4b = make_contour_slices(roi_num=4, shape=box4, number_slices=5,\n",
    "                                offset_z=0.2)\n",
    "\n",
    "# 2 2x2 boxes\n",
    "box2a = shapely.Polygon(box_points(2, offset_x=-3))\n",
    "box2b = shapely.Polygon(box_points(2, offset_x=3))\n",
    "slices_5a = make_contour_slices(roi_num=5, shape=box2a, number_slices=5)\n",
    "slices_5b = make_contour_slices(roi_num=5, shape=box2b, number_slices=5)\n",
    "\n",
    "# 2 cm x 2 cm box offset inf by 0.3 cm\n",
    "slices_6 = make_contour_slices(roi_num=6, shape=offset_box6, number_slices=5,\n",
    "                               offset_z=-0.3)\n",
    "\n",
    "# Stacked Boxes\n",
    "slices_7 = make_contour_slices(roi_num=7, shape=box4, height=4, spacing=0.5,\n",
    "                               offset_z=2)\n",
    "slices_8 = make_contour_slices(roi_num=8, shape=box4, height=4, spacing=0.5,\n",
    "                               offset_z=-1.5)\n",
    "\n",
    "\n",
    "# combine the slice data\n",
    "slice_data = pd.concat([slices_1, slices_2, slices_3, slices_4a, slices_4b,\n",
    "                        slices_5a, slices_5b, slices_6, slices_7, slices_8])\n",
    "# convert slice data into a table of slices and structures\n",
    "slice_table = make_slice_table(slice_data)"
   ]
  },
  {
   "cell_type": "markdown",
   "metadata": {},
   "source": [
    "  - Single Primary slice with circular contour.\n",
    "    - Secondary: one of:\n",
    "      - SUP Cylinder\n",
    "      - INF Cylinder\n",
    "      - Combined SUP & INF Cylinders in one structure with single slice gap at level of the primary slice. \n",
    "- **Partition**\n",
    "  - Concentric cylinders ending on the same slice.\n",
    "  - Concentric cylinders starting on the same slice\n",
    "  - Primary: Central Cylinder\n",
    "    - Single Secondary slice with circular contour on the SUP/INF slice of the Primary cylinder.\n",
    "  - Single Primary slice with circular contour\n",
    "    - Secondary: one of:\n",
    "      - SUP Cylinder ending on the same slice.\n",
    "      - INF Cylinder ending on the same slice.\n",
    "- **CONTAINS**\n",
    "  - Concentric cylinders with interior cylinder ending inside the exterior cylinder by one slice\n",
    "**OVERLAPS**\n",
    "  - Concentric cylinders with interior cylinder ending outside the exterior cylinder by one slice\n",
    "  - Concentric cylinders with interior cylinder consisting of single slice ending inside the exterior cylinder by one slice\n"
   ]
  },
  {
   "cell_type": "markdown",
   "metadata": {},
   "source": [
    "  - Primary: Central Cylinder\n",
    "    - Secondary: one of:\n",
    "      - SUP Cylinder\n",
    "      - INF Cylinder\n",
    "      - Combined SUP & INF cylinders in one structure with single slice gap at the SUP/INF boundary of the central cylinder.\n",
    "  - Single Primary slice with circular contour.\n",
    "    - Secondary: one of:\n",
    "      - SUP Cylinder\n",
    "      - INF Cylinder\n",
    "      - Combined SUP & INF Cylinders in one structure with single slice gap at level of the primary slice. \n"
   ]
  }
 ],
 "metadata": {
  "kernelspec": {
   "display_name": "StructureRelations",
   "language": "python",
   "name": "python3"
  },
  "language_info": {
   "codemirror_mode": {
    "name": "ipython",
    "version": 3
   },
   "file_extension": ".py",
   "mimetype": "text/x-python",
   "name": "python",
   "nbconvert_exporter": "python",
   "pygments_lexer": "ipython3",
   "version": "3.11.9"
  }
 },
 "nbformat": 4,
 "nbformat_minor": 4
}
