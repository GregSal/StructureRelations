{
 "cells": [
  {
   "cell_type": "markdown",
   "metadata": {},
   "source": [
    "# 3D Relationship Testing\n",
    "\n",
    "Testing relationships between 3D structures defined using contours on multiple slices.\n"
   ]
  },
  {
   "cell_type": "code",
   "execution_count": 1,
   "metadata": {},
   "outputs": [],
   "source": [
    "# Local functions and classes\n",
    "from types_and_classes import *\n",
    "from utilities import *\n",
    "from debug_tools import *\n",
    "from structure_slice import *\n",
    "from structure_set import *\n",
    "from relations import *"
   ]
  },
  {
   "cell_type": "markdown",
   "metadata": {},
   "source": [
    "### Global Settings"
   ]
  },
  {
   "cell_type": "code",
   "execution_count": 2,
   "metadata": {},
   "outputs": [],
   "source": [
    "PRECISION = 2"
   ]
  },
  {
   "cell_type": "code",
   "execution_count": 3,
   "metadata": {},
   "outputs": [],
   "source": [
    "%matplotlib inline"
   ]
  },
  {
   "cell_type": "markdown",
   "metadata": {},
   "source": [
    "## Relationship Tests by Relationship Type"
   ]
  },
  {
   "cell_type": "markdown",
   "metadata": {},
   "source": [
    "### Color Coding\n",
    "<table style=\"border: 2px solid black; width=50px;\"><tr><td>\n",
    "<ul style=\"font-weight: 900; font-size: 20px;\">\n",
    "<li style=\"color: blue;\">region a</li>\n",
    "<li style=\"color: green;\">region b</li>\n",
    "<li style=\"color: orange;\">intersection of a & b</li></ul>\n",
    "</tr></td></>"
   ]
  },
  {
   "cell_type": "markdown",
   "metadata": {},
   "source": [
    "## Contains"
   ]
  },
  {
   "cell_type": "markdown",
   "metadata": {},
   "source": [
    "<link rel=\"stylesheet\" href=\"relations.css\">\n",
    "<table width=\"350px\">\n",
    "<tr class=\"l\"><th>Contains</th><th>Transitive</th></tr>\n",
    "<td class=\"d\" colspan=\"2\">\n",
    "All points of <span class=\"b\">b</span> lie in the interior of <span class=\"a\">a</span>, no points of <span class=\"b\">b</span> lie in the exterior of <span class=\"a\">a</span>, some points in <span class=\"a\">a</span> are exterior to <span class=\"b\">b</span>, and the boundaries of <span class=\"a\">a</span> and <span class=\"b\">b</span> do not intersect.\n",
    "</td></tr>\n",
    "<tr><td colspan=\"2\">\n",
    "<img src=\"Images/Relationships/contains simple.png\" alt=\"Contains\">\n",
    "<img src=\"Images/Relationships/contains with hole.png\" alt=\"Contains With Hole\">\n",
    "</td></tr>\n",
    "</table></td></tr></table>"
   ]
  },
  {
   "cell_type": "markdown",
   "metadata": {},
   "source": [
    "### Contains"
   ]
  },
  {
   "cell_type": "markdown",
   "metadata": {},
   "source": [
    "#### Embedded Spheres\n",
    "![Embedded Spheres](<Images/FreeCAD Images/Embedded Spheres.png>)"
   ]
  },
  {
   "cell_type": "code",
   "execution_count": 4,
   "metadata": {},
   "outputs": [],
   "source": [
    "def embedded_spheres_example():\n",
    "    slice_spacing = 0.5\n",
    "    # Body structure defines slices in use\n",
    "    body = make_vertical_cylinder(roi_num=0, radius=20, length=30, offset_z=-15,\n",
    "                                spacing=slice_spacing)\n",
    "    # embedded boxes\n",
    "    sphere6 = make_sphere(roi_num=1, radius=3, spacing=slice_spacing)\n",
    "    sphere3 = make_sphere(roi_num=2, radius=1.5, spacing=slice_spacing)\n",
    "    # combine the contours\n",
    "    slice_data = pd.concat([sphere6, sphere3, body])\n",
    "    # convert contour slice data into a table of slices and structures\n",
    "    slice_table = make_slice_table(slice_data, ignore_errors=True)\n",
    "    return slice_table"
   ]
  },
  {
   "cell_type": "code",
   "execution_count": 5,
   "metadata": {},
   "outputs": [
    {
     "name": "stdout",
     "output_type": "stream",
     "text": [
      "Relationship: Contains\n"
     ]
    }
   ],
   "source": [
    "slice_table = embedded_spheres_example()\n",
    "regions = generate_region_graph(slice_table)\n",
    "selected_roi = [1, 2]\n",
    "relation = find_relations(slice_table, regions, selected_roi)\n",
    "relation_type = relation.identify_relation()\n",
    "print(relation_type)\n",
    "assert relation_type == RelationshipType.CONTAINS"
   ]
  },
  {
   "cell_type": "markdown",
   "metadata": {},
   "source": [
    "#### Concentric Cylinders\n",
    "![Concentric cylinders](<Images/FreeCAD Images/Concentric cylinders.png>)"
   ]
  },
  {
   "cell_type": "code",
   "execution_count": 6,
   "metadata": {},
   "outputs": [],
   "source": [
    "def simple_cylinders_example():\n",
    "    slice_spacing = 0.1\n",
    "    # Body structure defines slices in use\n",
    "    body = make_vertical_cylinder(roi_num=0, radius=12, length=1.0,\n",
    "                                  offset_z=0,\n",
    "                                  spacing=slice_spacing)\n",
    "    # Centred cylinder\n",
    "    primary_cylinder = make_vertical_cylinder(roi_num=1, radius=5, length=0.8,\n",
    "                                              offset_z=0,\n",
    "                                              spacing=slice_spacing)\n",
    "    # cylinder within primary\n",
    "    contained_cylinder = make_vertical_cylinder(roi_num=2, radius=3, length=0.6,\n",
    "                                                offset_x=0, offset_z=0,\n",
    "                                                spacing=slice_spacing)\n",
    "    # combine the contours\n",
    "    slice_data = pd.concat([body, primary_cylinder, contained_cylinder])\n",
    "    # convert contour slice data into a table of slices and structures\n",
    "    slice_table = make_slice_table(slice_data, ignore_errors=True)\n",
    "    return slice_table\n"
   ]
  },
  {
   "cell_type": "code",
   "execution_count": 7,
   "metadata": {},
   "outputs": [
    {
     "name": "stdout",
     "output_type": "stream",
     "text": [
      "Relationship: Contains\n"
     ]
    }
   ],
   "source": [
    "slice_table = simple_cylinders_example()\n",
    "regions = generate_region_graph(slice_table)\n",
    "selected_roi = [1, 2]\n",
    "\n",
    "relation = find_relations(slice_table, regions, selected_roi)\n",
    "relation_type = relation.identify_relation()\n",
    "print(relation_type)\n",
    "assert relation_type == RelationshipType.CONTAINS"
   ]
  },
  {
   "cell_type": "markdown",
   "metadata": {},
   "source": [
    "#### Embedded Boxes\n",
    "![Embedded Boxes](<Images/FreeCAD Images/Embedded Boxes.png>)"
   ]
  },
  {
   "cell_type": "code",
   "execution_count": 8,
   "metadata": {},
   "outputs": [],
   "source": [
    "def embedded_boxes_example():\n",
    "    slice_spacing = 0.5\n",
    "    # Body structure defines slices in use\n",
    "    body = make_vertical_cylinder(roi_num=0, radius=20, length=30, offset_z=0,\n",
    "                                  spacing=slice_spacing)\n",
    "    # embedded boxes\n",
    "    cube6 = make_box(roi_num=1, width=6, spacing=slice_spacing)\n",
    "    cube3 = make_box(roi_num=2, width=3, offset_z=0, spacing=slice_spacing)\n",
    "    # combine the contours\n",
    "    slice_data = pd.concat([cube6, cube3, body])\n",
    "    # convert contour slice data into a table of slices and structures\n",
    "    slice_table = make_slice_table(slice_data, ignore_errors=True)\n",
    "    return slice_table"
   ]
  },
  {
   "cell_type": "code",
   "execution_count": 9,
   "metadata": {},
   "outputs": [
    {
     "name": "stdout",
     "output_type": "stream",
     "text": [
      "Relationship: Contains\n"
     ]
    }
   ],
   "source": [
    "slice_table = embedded_boxes_example()\n",
    "regions = generate_region_graph(slice_table)\n",
    "selected_roi = [1, 2]\n",
    "relation = find_relations(slice_table, regions, selected_roi)\n",
    "relation_type = relation.identify_relation()\n",
    "print(relation_type)\n",
    "assert relation_type == RelationshipType.CONTAINS"
   ]
  },
  {
   "cell_type": "markdown",
   "metadata": {},
   "source": [
    "#### Parallel Cylinders\n",
    "- Concentric cylinders with interior cylinder ending inside the exterior cylinder by one slice\n",
    "\n",
    "![Parallel Cylinders](<Images/FreeCAD Images/Parallel Cylinders.png>)"
   ]
  },
  {
   "cell_type": "code",
   "execution_count": 10,
   "metadata": {},
   "outputs": [],
   "source": [
    "def parallel_cylinders_example():\n",
    "    slice_spacing = 1\n",
    "    # Body structure defines slices in use\n",
    "    body = make_vertical_cylinder(roi_num=0, radius=12, length=10, offset_z=0,\n",
    "                                  spacing=slice_spacing)\n",
    "    left_cylinder = make_vertical_cylinder(roi_num=1, radius=2, length=8,\n",
    "                                           offset_x=-2.5, offset_z=0,\n",
    "                                           spacing=slice_spacing)\n",
    "    right_cylinder = make_vertical_cylinder(roi_num=1, radius=2, length=8,\n",
    "                                            offset_x=2.5, offset_z=0,\n",
    "                                            spacing=slice_spacing)\n",
    "    right_middle_cylinder = make_vertical_cylinder(roi_num=2, radius=1,\n",
    "                                                   length=6,\n",
    "                                                   offset_x=2.5, offset_z=0,\n",
    "                                                   spacing=slice_spacing)\n",
    "    # combine the contours\n",
    "    slice_data = pd.concat([body, left_cylinder, right_cylinder,\n",
    "                            right_middle_cylinder])\n",
    "    # convert contour slice data into a table of slices and structures\n",
    "    slice_table = make_slice_table(slice_data, ignore_errors=True)\n",
    "    return slice_table\n"
   ]
  },
  {
   "cell_type": "code",
   "execution_count": 11,
   "metadata": {},
   "outputs": [
    {
     "name": "stdout",
     "output_type": "stream",
     "text": [
      "Relationship: Contains\n"
     ]
    }
   ],
   "source": [
    "slice_table = parallel_cylinders_example()\n",
    "regions = generate_region_graph(slice_table)\n",
    "selected_roi = [1, 2]\n",
    "relation = find_relations(slice_table, regions, selected_roi)\n",
    "relation_type = relation.identify_relation()\n",
    "print(relation_type)\n",
    "assert relation_type == RelationshipType.CONTAINS"
   ]
  },
  {
   "cell_type": "markdown",
   "metadata": {},
   "source": [
    "#### Sphere in Sphere in Sphere\n",
    "- Hollow spheres with an inner sphere and second structure inside the inner sphere.\n",
    "\n",
    "![Sphere in Sphere in Sphere](<Images/FreeCAD Images/Sphere in Spheres in Shell.png>)"
   ]
  },
  {
   "cell_type": "code",
   "execution_count": 12,
   "metadata": {},
   "outputs": [],
   "source": [
    "def nested_spheres_example():\n",
    "    slice_spacing = 1\n",
    "    # Body structure defines slices in use\n",
    "    body = make_vertical_cylinder(roi_num=0, radius=16, length=20, offset_z=0,\n",
    "                                  spacing=slice_spacing)\n",
    "    sphere12 = make_sphere(roi_num=1, radius=6, spacing=slice_spacing)\n",
    "    hole10 = make_sphere(roi_num=1, radius=5, spacing=slice_spacing)\n",
    "    sphere8 = make_sphere(roi_num=1, radius=4, spacing=slice_spacing)\n",
    "    sphere6 = make_sphere(roi_num=2, radius=3, spacing=slice_spacing)\n",
    "\n",
    "    # combine the contours\n",
    "    slice_data = pd.concat([body, sphere12, hole10, sphere8, sphere6])\n",
    "    # convert contour slice data into a table of slices and structures\n",
    "    slice_table = make_slice_table(slice_data, ignore_errors=True)\n",
    "    return slice_table\n"
   ]
  },
  {
   "cell_type": "code",
   "execution_count": 13,
   "metadata": {},
   "outputs": [
    {
     "name": "stdout",
     "output_type": "stream",
     "text": [
      "Relationship: Contains\n"
     ]
    }
   ],
   "source": [
    "slice_table = nested_spheres_example()\n",
    "regions = generate_region_graph(slice_table)\n",
    "selected_roi = [1, 2]\n",
    "relation = find_relations(slice_table, regions, selected_roi)\n",
    "relation_type = relation.identify_relation()\n",
    "print(relation_type)\n",
    "assert relation_type == RelationshipType.CONTAINS"
   ]
  },
  {
   "cell_type": "markdown",
   "metadata": {},
   "source": [
    "## Surrounds"
   ]
  },
  {
   "cell_type": "markdown",
   "metadata": {},
   "source": [
    "<link rel=\"stylesheet\" href=\"relations.css\">\n",
    "<table width=\"350px\">\n",
    "<tr class=\"l\"><th>Surrounds</th><th>Transitive</t></tr>\n",
    "<td class=\"d\" colspan=\"2\">\n",
    "<span class=\"a\">a</span> and <span class=\"b\">b</span> have no points in common, but the Convex Hull of <span class=\"a\">a</span> contains <span class=\"b\">b</span>.\n",
    "</td></tr><tr><td colspan=\"2\">\n",
    "<img src=\"Images/Relationships/shelters.png\" alt=\"shelters\">\n",
    "</td></tr></table>\n"
   ]
  },
  {
   "cell_type": "markdown",
   "metadata": {},
   "source": [
    "#### Simple Surrounded Cylinders\n",
    "- Concentric hollow cylinders with an interior cylinder ending inside the outer cylinder's hole by one slice\n",
    "\n",
    "![Simple Surrounded Cylinders](<Images/FreeCAD Images/Surrounded cylinders.png>)"
   ]
  },
  {
   "cell_type": "code",
   "execution_count": 14,
   "metadata": {},
   "outputs": [],
   "source": [
    "def surrounded_cylinder_example():\n",
    "    slice_spacing = 1\n",
    "    # Body structure defines slices in use\n",
    "    body = make_vertical_cylinder(roi_num=0, radius=12, length=16, offset_z=0,\n",
    "                                  spacing=slice_spacing)\n",
    "    outer_cylinder = make_vertical_cylinder(roi_num=1, radius=6, length=10,\n",
    "                                            spacing=slice_spacing)\n",
    "    cylinder_hole = make_vertical_cylinder(roi_num=1, radius=5, length=8,\n",
    "                                           spacing=slice_spacing)\n",
    "    surrounded_cylinder = make_vertical_cylinder(roi_num=2, radius=3, length=6,\n",
    "                                                 spacing=slice_spacing)\n",
    "\n",
    "    # combine the contours\n",
    "    slice_data = pd.concat([body, outer_cylinder, cylinder_hole,\n",
    "                            surrounded_cylinder])\n",
    "    # convert contour slice data into a table of slices and structures\n",
    "    slice_table = make_slice_table(slice_data, ignore_errors=True)\n",
    "    return slice_table\n"
   ]
  },
  {
   "cell_type": "code",
   "execution_count": 15,
   "metadata": {},
   "outputs": [
    {
     "name": "stdout",
     "output_type": "stream",
     "text": [
      "Relationship: Surrounds\n"
     ]
    }
   ],
   "source": [
    "slice_table = surrounded_cylinder_example()\n",
    "regions = generate_region_graph(slice_table)\n",
    "selected_roi = [1, 2]\n",
    "relation = find_relations(slice_table, regions, selected_roi)\n",
    "relation_type = relation.identify_relation()\n",
    "print(relation_type)\n",
    "assert relation_type == RelationshipType.SURROUNDS"
   ]
  },
  {
   "cell_type": "markdown",
   "metadata": {},
   "source": [
    "#### Horizontal Surrounded Cylinders\n",
    "- Concentric hollow cylinders with an interior cylinder ending inside the outer cylinder's hole by one slice\n",
    "\n",
    "![Horizontal Cylinders](<Images/FreeCAD Images/Horizontal Surrounded cylinders.png>)"
   ]
  },
  {
   "cell_type": "code",
   "execution_count": 16,
   "metadata": {},
   "outputs": [],
   "source": [
    "def surrounded_horizontal_cylinder_example():\n",
    "    slice_spacing = 1\n",
    "    # Body structure defines slices in use\n",
    "    body = make_vertical_cylinder(roi_num=0, radius=12, length=16, offset_z=0,\n",
    "                                  spacing=slice_spacing)\n",
    "    outer_cylinder = make_horizontal_cylinder(roi_num=1, radius=6, length=10,\n",
    "                                            spacing=slice_spacing)\n",
    "    cylinder_hole = make_horizontal_cylinder(roi_num=1, radius=5, length=8,\n",
    "                                           spacing=slice_spacing)\n",
    "    surrounded_cylinder = make_horizontal_cylinder(roi_num=2, radius=3, length=6,\n",
    "                                                 spacing=slice_spacing)\n",
    "\n",
    "    # combine the contours\n",
    "    slice_data = pd.concat([body, outer_cylinder, cylinder_hole,\n",
    "                            surrounded_cylinder])\n",
    "    # convert contour slice data into a table of slices and structures\n",
    "    slice_table = make_slice_table(slice_data, ignore_errors=True)\n",
    "    return slice_table\n"
   ]
  },
  {
   "cell_type": "code",
   "execution_count": 17,
   "metadata": {},
   "outputs": [
    {
     "name": "stdout",
     "output_type": "stream",
     "text": [
      "Relationship: Surrounds\n"
     ]
    }
   ],
   "source": [
    "slice_table = surrounded_horizontal_cylinder_example()\n",
    "regions = generate_region_graph(slice_table)\n",
    "selected_roi = [1, 2]\n",
    "relation = find_relations(slice_table, regions, selected_roi)\n",
    "relation_type = relation.identify_relation()\n",
    "print(relation_type)\n",
    "assert relation_type == RelationshipType.SURROUNDS"
   ]
  },
  {
   "cell_type": "markdown",
   "metadata": {},
   "source": [
    "#### Sphere in Shell\n",
    "- Hollow sphere with the second structure as an inner sphere.\n",
    "\n",
    "![Sphere in Shell](<Images/FreeCAD Images/Sphere in Shell.png>)"
   ]
  },
  {
   "cell_type": "code",
   "execution_count": 18,
   "metadata": {},
   "outputs": [],
   "source": [
    "def sphere_in_shell_example():\n",
    "    slice_spacing = 1\n",
    "    # Body structure defines slices in use\n",
    "    body = make_vertical_cylinder(roi_num=0, radius=16, length=20, offset_z=0,\n",
    "                                  spacing=slice_spacing)\n",
    "    sphere12 = make_sphere(roi_num=1, radius=6, spacing=slice_spacing)\n",
    "    hole10 = make_sphere(roi_num=1, radius=5, spacing=slice_spacing)\n",
    "    sphere6 = make_sphere(roi_num=2, radius=3, spacing=slice_spacing)\n",
    "\n",
    "    # combine the contours\n",
    "    slice_data = pd.concat([body, sphere12, hole10, sphere6])\n",
    "    # convert contour slice data into a table of slices and structures\n",
    "    slice_table = make_slice_table(slice_data, ignore_errors=True)\n",
    "    return slice_table\n"
   ]
  },
  {
   "cell_type": "code",
   "execution_count": 19,
   "metadata": {},
   "outputs": [
    {
     "name": "stdout",
     "output_type": "stream",
     "text": [
      "Relationship: Surrounds\n"
     ]
    }
   ],
   "source": [
    "slice_table = sphere_in_shell_example()\n",
    "regions = generate_region_graph(slice_table)\n",
    "selected_roi = [1, 2]\n",
    "relation = find_relations(slice_table, regions, selected_roi)\n",
    "relation_type = relation.identify_relation()\n",
    "print(relation_type)\n",
    "assert relation_type == RelationshipType.SURROUNDS"
   ]
  },
  {
   "cell_type": "markdown",
   "metadata": {},
   "source": [
    "#### Sphere in Cylinder in Box\n",
    "![alt text](<Images/FreeCAD Images/Sphere in Cylinder in Box.png>)"
   ]
  },
  {
   "cell_type": "code",
   "execution_count": 20,
   "metadata": {},
   "outputs": [],
   "source": [
    "def sphere_in_cylinders_in_box_example():\n",
    "    slice_spacing = 1\n",
    "    # Body structure defines slices in use\n",
    "    body = make_box(roi_num=0, width=20, offset_z=0,\n",
    "                                  spacing=slice_spacing)\n",
    "    # embedded boxes\n",
    "    cube6 = make_box(roi_num=1, width=10, length=10, height=10, spacing=slice_spacing)\n",
    "    left_cylinder = make_vertical_cylinder(roi_num=1, radius=2, length=8,\n",
    "                                           offset_x=-2.5, offset_z=0,\n",
    "                                           spacing=slice_spacing)\n",
    "    right_cylinder = make_vertical_cylinder(roi_num=1, radius=2, length=8,\n",
    "                                            offset_x=2.5, offset_z=0,\n",
    "                                            spacing=slice_spacing)\n",
    "    right_sphere = make_sphere(roi_num=2, radius=1,\n",
    "                               offset_x=2.5, offset_z=0,\n",
    "                               spacing=slice_spacing)\n",
    "    # combine the contours\n",
    "    slice_data = pd.concat([body, cube6, left_cylinder, right_cylinder,\n",
    "                            right_sphere])\n",
    "    # convert contour slice data into a table of slices and structures\n",
    "    slice_table = make_slice_table(slice_data, ignore_errors=True)\n",
    "    return slice_table"
   ]
  },
  {
   "cell_type": "code",
   "execution_count": 21,
   "metadata": {},
   "outputs": [
    {
     "name": "stdout",
     "output_type": "stream",
     "text": [
      "Relationship: Surrounds\n"
     ]
    }
   ],
   "source": [
    "slice_table = sphere_in_cylinders_in_box_example()\n",
    "regions = generate_region_graph(slice_table)\n",
    "selected_roi = [1, 2]\n",
    "relation = find_relations(slice_table, regions, selected_roi)\n",
    "relation_type = relation.identify_relation()\n",
    "print(relation_type)\n",
    "assert relation_type == RelationshipType.SURROUNDS"
   ]
  },
  {
   "cell_type": "markdown",
   "metadata": {},
   "source": [
    "## Shelters\n",
    "<link rel=\"stylesheet\" href=\"relations.css\">\n",
    "<table width=\"350px\">\n",
    "<tr class=\"l\"><th>Shelters</th><th>Transitive</t></tr>\n",
    "<td class=\"d\" colspan=\"2\">\n",
    "<span class=\"a\">a</span> and <span class=\"b\">b</span> have no points in common, but the Convex Hull of <span class=\"a\">a</span> contains <span class=\"b\">b</span>.\n",
    "</td></tr><tr><td colspan=\"2\">\n",
    "<img src=\"Images/Relationships/shelters.png\" alt=\"shelters\">\n",
    "</td></tr></table>\n",
    "\n",
    "- Surrounds geometry with hole opened to exterior\n"
   ]
  },
  {
   "cell_type": "markdown",
   "metadata": {},
   "source": [
    "# Error Recognizing Shelters\n",
    "- When a hole is opened to the exterior in the z direction, the 2D relations \n",
    "  thinks that it is surrounds.\n",
    "- When a slice contains two distinct contours for the same region, the hull test \n",
    " currently does not encompass both contours."
   ]
  },
  {
   "cell_type": "markdown",
   "metadata": {},
   "source": [
    "#### Horizontal Sheltered Cylinder Single Sided\n",
    "- Cylindrical cup with an interior cylinder ending inside the outer cylinder\n",
    "\n",
    "![Horizontal Sheltered Cylinder Single Sided](<Images/FreeCAD Images/Horizontal Sheltered Cylinder Single Sided.png>)"
   ]
  },
  {
   "cell_type": "code",
   "execution_count": 9,
   "metadata": {},
   "outputs": [],
   "source": [
    "def shelters_horizontal_cylinder_single_side_example():\n",
    "    slice_spacing = 1\n",
    "    # Body structure defines slices in use\n",
    "    body = make_vertical_cylinder(roi_num=0, radius=12, length=16, offset_z=0,\n",
    "                                  spacing=slice_spacing)\n",
    "    outer_cylinder = make_horizontal_cylinder(roi_num=1, radius=6, length=10,\n",
    "                                              spacing=slice_spacing)\n",
    "    cylinder_hole = make_horizontal_cylinder(roi_num=1, radius=4, length=8,\n",
    "                                             offset_x=1, offset_z=0,\n",
    "                                             spacing=slice_spacing)\n",
    "    surrounded_cylinder = make_horizontal_cylinder(roi_num=2, radius=3,\n",
    "                                                   length=6, offset_x=1,\n",
    "                                                   spacing=slice_spacing)\n",
    "\n",
    "    # combine the contours\n",
    "    slice_data = pd.concat([outer_cylinder, cylinder_hole,\n",
    "                            surrounded_cylinder])\n",
    "    # convert contour slice data into a table of slices and structures\n",
    "    slice_table = make_slice_table(slice_data, ignore_errors=True)\n",
    "    return slice_table\n"
   ]
  },
  {
   "cell_type": "markdown",
   "metadata": {},
   "source": [
    "**Currently identified as _Contains_**"
   ]
  },
  {
   "cell_type": "code",
   "execution_count": 10,
   "metadata": {},
   "outputs": [
    {
     "name": "stdout",
     "output_type": "stream",
     "text": [
      "Relationship: Shelters\n"
     ]
    }
   ],
   "source": [
    "slice_table = shelters_horizontal_cylinder_single_side_example()\n",
    "regions = generate_region_graph(slice_table)\n",
    "selected_roi = [1, 2]\n",
    "relation = find_relations(slice_table, regions, selected_roi)\n",
    "relation_type = relation.identify_relation()\n",
    "print(relation_type)\n",
    "#assert relation_type == RelationshipType.SHELTERS"
   ]
  },
  {
   "cell_type": "markdown",
   "metadata": {},
   "source": [
    "#### Horizontal Sheltered Cylinder\n",
    "- Cylindrical shell with an interior cylinder ending inside the outer cylinder\n",
    "\n",
    "![Sheltered Horizontal cylinder](<Images/FreeCAD Images/Sheltered Horizontal cylinder.png>)"
   ]
  },
  {
   "cell_type": "code",
   "execution_count": 22,
   "metadata": {},
   "outputs": [],
   "source": [
    "def shelters_horizontal_cylinder_example():\n",
    "    slice_spacing = 1\n",
    "    # Body structure defines slices in use\n",
    "    body = make_vertical_cylinder(roi_num=0, radius=12, length=16, offset_z=0,\n",
    "                                  spacing=slice_spacing)\n",
    "    outer_cylinder = make_horizontal_cylinder(roi_num=1, radius=6, length=10,\n",
    "                                            spacing=slice_spacing)\n",
    "    cylinder_hole = make_horizontal_cylinder(roi_num=1, radius=5, length=10,\n",
    "                                           spacing=slice_spacing)\n",
    "    surrounded_cylinder = make_horizontal_cylinder(roi_num=2, radius=3, length=6,\n",
    "                                                 spacing=slice_spacing)\n",
    "\n",
    "    # combine the contours\n",
    "    slice_data = pd.concat([outer_cylinder, cylinder_hole,\n",
    "                            surrounded_cylinder])\n",
    "    # convert contour slice data into a table of slices and structures\n",
    "    slice_table = make_slice_table(slice_data, ignore_errors=True)\n",
    "    return slice_table\n"
   ]
  },
  {
   "cell_type": "markdown",
   "metadata": {},
   "source": [
    "**Currently identified as _Disjoint_**"
   ]
  },
  {
   "cell_type": "code",
   "execution_count": 23,
   "metadata": {},
   "outputs": [
    {
     "name": "stdout",
     "output_type": "stream",
     "text": [
      "Relationship: Disjoint\n"
     ]
    }
   ],
   "source": [
    "slice_table = shelters_horizontal_cylinder_example()\n",
    "regions = generate_region_graph(slice_table)\n",
    "selected_roi = [1, 2]\n",
    "relation = find_relations(slice_table, regions, selected_roi)\n",
    "relation_type = relation.identify_relation()\n",
    "print(relation_type)\n",
    "#assert relation_type == RelationshipType.SHELTERS"
   ]
  },
  {
   "cell_type": "markdown",
   "metadata": {},
   "source": [
    "#### Simple Sheltered Vertical Cylinder\n",
    "- Hollow cylindrical shell with an interior cylinder ending inside the shell\n",
    "\n",
    "![Sheltered cylinder](<Images/FreeCAD Images/Sheltered cylinder.png>)"
   ]
  },
  {
   "cell_type": "code",
   "execution_count": 24,
   "metadata": {},
   "outputs": [],
   "source": [
    "def shelters_cylinder_example():\n",
    "    slice_spacing = 1\n",
    "    # Body structure defines slices in use\n",
    "    body = make_vertical_cylinder(roi_num=0, radius=12, length=16, offset_z=0,\n",
    "                                  spacing=slice_spacing)\n",
    "    outer_cylinder = make_vertical_cylinder(roi_num=1, radius=6, length=10,\n",
    "                                            spacing=slice_spacing)\n",
    "    cylinder_hole = make_vertical_cylinder(roi_num=1, radius=5, length=10,\n",
    "                                           spacing=slice_spacing)\n",
    "    surrounded_cylinder = make_vertical_cylinder(roi_num=2, radius=3, length=6,\n",
    "                                                 spacing=slice_spacing)\n",
    "\n",
    "    # combine the contours\n",
    "    slice_data = pd.concat([body, outer_cylinder, cylinder_hole,\n",
    "                            surrounded_cylinder])\n",
    "    # convert contour slice data into a table of slices and structures\n",
    "    slice_table = make_slice_table(slice_data, ignore_errors=True)\n",
    "    return slice_table\n"
   ]
  },
  {
   "cell_type": "markdown",
   "metadata": {},
   "source": [
    "**Currently identified as _Surrounds_**"
   ]
  },
  {
   "cell_type": "code",
   "execution_count": 25,
   "metadata": {},
   "outputs": [
    {
     "name": "stdout",
     "output_type": "stream",
     "text": [
      "Relationship: Surrounds\n"
     ]
    }
   ],
   "source": [
    "slice_table = shelters_cylinder_example()\n",
    "regions = generate_region_graph(slice_table)\n",
    "selected_roi = [1, 2]\n",
    "relation = find_relations(slice_table, regions, selected_roi)\n",
    "relation_type = relation.identify_relation()\n",
    "print(relation_type)\n",
    "#assert relation_type == RelationshipType.SHELTERS"
   ]
  },
  {
   "cell_type": "markdown",
   "metadata": {},
   "source": [
    "#### Sphere in Cylinder in Box\n",
    "![alt text](<Images/FreeCAD Images/Sphere in Cylinder in Box.png>)"
   ]
  },
  {
   "cell_type": "code",
   "execution_count": 26,
   "metadata": {},
   "outputs": [],
   "source": [
    "def sphere_in_cylinders_in_box_example():\n",
    "    slice_spacing = 1\n",
    "    # Body structure defines slices in use\n",
    "    body = make_box(roi_num=0, width=12, offset_z=0,\n",
    "                                  spacing=slice_spacing)\n",
    "    # embedded boxes\n",
    "    cube6 = make_box(roi_num=1, width=10, length=10, height=8, spacing=slice_spacing)\n",
    "    left_cylinder = make_vertical_cylinder(roi_num=1, radius=2, length=8,\n",
    "                                           offset_x=-2.5, offset_z=0,\n",
    "                                           spacing=slice_spacing)\n",
    "    right_cylinder = make_vertical_cylinder(roi_num=1, radius=2, length=8,\n",
    "                                            offset_x=2.5, offset_z=0,\n",
    "                                            spacing=slice_spacing)\n",
    "    right_sphere = make_sphere(roi_num=2, radius=1,\n",
    "                               offset_x=2.5, offset_z=0,\n",
    "                               spacing=slice_spacing)\n",
    "    # combine the contours\n",
    "    slice_data = pd.concat([body, cube6, left_cylinder, right_cylinder,\n",
    "                            right_sphere])\n",
    "    # convert contour slice data into a table of slices and structures\n",
    "    slice_table = make_slice_table(slice_data, ignore_errors=True)\n",
    "    return slice_table"
   ]
  },
  {
   "cell_type": "markdown",
   "metadata": {},
   "source": [
    "**Currently identified as _Surrounds_**"
   ]
  },
  {
   "cell_type": "code",
   "execution_count": 27,
   "metadata": {},
   "outputs": [
    {
     "name": "stdout",
     "output_type": "stream",
     "text": [
      "Relationship: Surrounds\n"
     ]
    }
   ],
   "source": [
    "slice_table = sphere_in_cylinders_in_box_example()\n",
    "regions = generate_region_graph(slice_table)\n",
    "selected_roi = [1, 2]\n",
    "relation = find_relations(slice_table, regions, selected_roi)\n",
    "relation_type = relation.identify_relation()\n",
    "print(relation_type)\n",
    "#assert relation_type == RelationshipType.SHELTERS"
   ]
  },
  {
   "cell_type": "markdown",
   "metadata": {},
   "source": [
    "## Disjoint"
   ]
  },
  {
   "cell_type": "markdown",
   "metadata": {},
   "source": [
    "<link rel=\"stylesheet\" href=\"relations.css\">\n",
    "<table width=\"350px\">\n",
    "<tr class=\"l\"><th>Disjoint</th><th>Symmetric</th></tr>\n",
    "<td class=\"d\" colspan=\"2\">The Convex Hull of \n",
    "<span class=\"a\">a</span> has no points in common wuth <span class=\"b\">b</span>.</td></tr>\n",
    "<tr><td colspan=\"2\">\n",
    "<img src=\"Images/Relationships/disjoint.png\" alt=\"Disjoint\" style=\"width: 200px\">\n",
    "</td></tr></table>"
   ]
  },
  {
   "cell_type": "markdown",
   "metadata": {},
   "source": [
    "#### Disjoint Boxes\n",
    "![Disjoint Boxes](<Images/FreeCAD Images/Disjoint Boxes.png>)"
   ]
  },
  {
   "cell_type": "code",
   "execution_count": 28,
   "metadata": {},
   "outputs": [],
   "source": [
    "def disjoint_boxes_example():\n",
    "    slice_spacing = 0.1\n",
    "    # Body structure defines slices in use\n",
    "    body = make_vertical_cylinder(roi_num=0, radius=20, length=20, offset_z=0,\n",
    "                                  spacing=slice_spacing)\n",
    "    # embedded boxes\n",
    "    left_cube = make_box(roi_num=1, width=2, offset_x=-3,\n",
    "                         spacing=slice_spacing)\n",
    "    right_cube = make_box(roi_num=2, width=2, offset_x=3,\n",
    "                         spacing=slice_spacing)\n",
    "    # combine the contours\n",
    "    slice_data = pd.concat([left_cube, right_cube, body])\n",
    "    # convert contour slice data into a table of slices and structures\n",
    "    slice_table = make_slice_table(slice_data, ignore_errors=True)\n",
    "    return slice_table"
   ]
  },
  {
   "cell_type": "code",
   "execution_count": 29,
   "metadata": {},
   "outputs": [
    {
     "name": "stdout",
     "output_type": "stream",
     "text": [
      "Relationship: Disjoint\n"
     ]
    }
   ],
   "source": [
    "slice_table = disjoint_boxes_example()\n",
    "regions = generate_region_graph(slice_table)\n",
    "selected_roi = [1, 2]\n",
    "relation = find_relations(slice_table, regions, selected_roi)\n",
    "relation_type = relation.identify_relation()\n",
    "print(relation_type)\n",
    "assert relation_type == RelationshipType.DISJOINT"
   ]
  },
  {
   "cell_type": "markdown",
   "metadata": {},
   "source": [
    "# Error Recognizing disjoint vs surrounds\n",
    "\n",
    "- When only one structure is present on a slice that structure is external to \n",
    "the other.\n",
    "- Appropriate External and Hull relations must be passed to the relationship.\n",
    "- Holes that are open to the exterior need to be identified and adjusted appropriately\n"
   ]
  },
  {
   "cell_type": "markdown",
   "metadata": {},
   "source": [
    "#### Extended Inner Cylinder\n",
    "- Concentric hollow cylinder with an interior cylinder extending beyond the outer cylinder's hole by one slice\n",
    "\n",
    "![Extended Inner Cylinder](<Images/FreeCAD Images/Extended Inner cylinder.png>)"
   ]
  },
  {
   "cell_type": "code",
   "execution_count": 70,
   "metadata": {},
   "outputs": [],
   "source": [
    "def extended_inner_cylinder_example():\n",
    "    slice_spacing = 1\n",
    "    # Body structure defines slices in use\n",
    "    body = make_vertical_cylinder(roi_num=0, radius=12, length=16, offset_z=0,\n",
    "                                  spacing=slice_spacing)\n",
    "    outer_cylinder = make_vertical_cylinder(roi_num=1, radius=6, length=10,\n",
    "                                            spacing=slice_spacing)\n",
    "    cylinder_hole = make_vertical_cylinder(roi_num=1, radius=5, length=10,\n",
    "                                           spacing=slice_spacing)\n",
    "    inner_cylinder = make_vertical_cylinder(roi_num=2, radius=3, length=12,\n",
    "                                                 spacing=slice_spacing)\n",
    "\n",
    "    # combine the contours\n",
    "    slice_data = pd.concat([body, outer_cylinder, cylinder_hole,\n",
    "                            inner_cylinder])\n",
    "    # convert contour slice data into a table of slices and structures\n",
    "    slice_table = make_slice_table(slice_data, ignore_errors=True)\n",
    "    return slice_table\n"
   ]
  },
  {
   "cell_type": "code",
   "execution_count": 71,
   "metadata": {},
   "outputs": [
    {
     "name": "stdout",
     "output_type": "stream",
     "text": [
      "Relationship: Surrounds\n"
     ]
    }
   ],
   "source": [
    "slice_table = extended_inner_cylinder_example()\n",
    "regions = generate_region_graph(slice_table)\n",
    "selected_roi = [1, 2]\n",
    "relation = find_relations(slice_table, regions, selected_roi)\n",
    "relation_type = relation.identify_relation()\n",
    "print(relation_type)\n",
    "#assert relation_type == RelationshipType.DISJOINT"
   ]
  },
  {
   "cell_type": "code",
   "execution_count": 72,
   "metadata": {},
   "outputs": [
    {
     "data": {
      "text/plain": [
       "[<RelationshipType.DISJOINT: 1>,\n",
       " <RelationshipType.SURROUNDS: 2>,\n",
       " <RelationshipType.SURROUNDS: 2>,\n",
       " <RelationshipType.SURROUNDS: 2>,\n",
       " <RelationshipType.SURROUNDS: 2>,\n",
       " <RelationshipType.SURROUNDS: 2>,\n",
       " <RelationshipType.SURROUNDS: 2>,\n",
       " <RelationshipType.SURROUNDS: 2>,\n",
       " <RelationshipType.SURROUNDS: 2>,\n",
       " <RelationshipType.SURROUNDS: 2>,\n",
       " <RelationshipType.SURROUNDS: 2>,\n",
       " <RelationshipType.SURROUNDS: 2>,\n",
       " <RelationshipType.DISJOINT: 1>]"
      ]
     },
     "execution_count": 72,
     "metadata": {},
     "output_type": "execute_result"
    }
   ],
   "source": [
    "selected_slices = slice_table[selected_roi].dropna(how='all')\n",
    "# Send all slices with both Primary and Secondary contours for standard\n",
    "# relation testing\n",
    "mid_relations = list(selected_slices.agg(relate_structures,\n",
    "                                            structures=selected_roi,\n",
    "                                            axis='columns'))\n",
    "[r.identify_relation() for r in mid_relations]"
   ]
  },
  {
   "cell_type": "code",
   "execution_count": 73,
   "metadata": {},
   "outputs": [
    {
     "name": "stdout",
     "output_type": "stream",
     "text": [
      "|000|\t|000|\t|000|\n",
      "|000|\t|000|\t|000|\n",
      "|111|\t|111|\t|111|\n",
      "\n"
     ]
    }
   ],
   "source": [
    "print(mid_relations[0])"
   ]
  },
  {
   "cell_type": "code",
   "execution_count": 74,
   "metadata": {},
   "outputs": [
    {
     "name": "stdout",
     "output_type": "stream",
     "text": [
      "|001|\t|111|\t|111|\n",
      "|001|\t|001|\t|001|\n",
      "|111|\t|001|\t|001|\n",
      "\n"
     ]
    }
   ],
   "source": [
    "print(mid_relations[5])"
   ]
  },
  {
   "cell_type": "markdown",
   "metadata": {},
   "source": [
    "##### Merged Mid relations"
   ]
  },
  {
   "cell_type": "markdown",
   "metadata": {},
   "source": [
    "> **Surrounds Trumps Disjoint**"
   ]
  },
  {
   "cell_type": "code",
   "execution_count": 75,
   "metadata": {},
   "outputs": [
    {
     "name": "stdout",
     "output_type": "stream",
     "text": [
      "|001|\t|111|\t|111|\n",
      "|001|\t|001|\t|001|\n",
      "|111|\t|111|\t|111|\n",
      "\n"
     ]
    }
   ],
   "source": [
    "print(merged_relations(mid_relations))\n"
   ]
  },
  {
   "cell_type": "code",
   "execution_count": 82,
   "metadata": {},
   "outputs": [
    {
     "name": "stdout",
     "output_type": "stream",
     "text": [
      "Relationship: Surrounds\n"
     ]
    }
   ],
   "source": [
    "print(merged_relations(mid_relations).identify_relation())\n"
   ]
  },
  {
   "cell_type": "markdown",
   "metadata": {},
   "source": [
    "##### Boundary relations"
   ]
  },
  {
   "cell_type": "code",
   "execution_count": 76,
   "metadata": {},
   "outputs": [
    {
     "data": {
      "text/plain": [
       "[<RelationshipType.DISJOINT: 1>,\n",
       " <RelationshipType.DISJOINT: 1>,\n",
       " <RelationshipType.DISJOINT: 1>,\n",
       " <RelationshipType.DISJOINT: 1>,\n",
       " <RelationshipType.DISJOINT: 1>,\n",
       " <RelationshipType.DISJOINT: 1>]"
      ]
     },
     "execution_count": 76,
     "metadata": {},
     "output_type": "execute_result"
    }
   ],
   "source": [
    "boundary_relations = get_boundary_relations(regions, selected_roi)\n",
    "[r.identify_relation() for r in boundary_relations]"
   ]
  },
  {
   "cell_type": "code",
   "execution_count": 77,
   "metadata": {},
   "outputs": [
    {
     "name": "stdout",
     "output_type": "stream",
     "text": [
      "|000|\t|000|\t|000|\n",
      "|000|\t|000|\t|000|\n",
      "|011|\t|011|\t|011|\n",
      "\n"
     ]
    }
   ],
   "source": [
    "print(boundary_relations[0])"
   ]
  },
  {
   "cell_type": "code",
   "execution_count": 78,
   "metadata": {},
   "outputs": [
    {
     "name": "stdout",
     "output_type": "stream",
     "text": [
      "|000|\t|000|\t|000|\n",
      "|001|\t|001|\t|001|\n",
      "|001|\t|001|\t|001|\n",
      "\n"
     ]
    }
   ],
   "source": [
    "print(boundary_relations[1])"
   ]
  },
  {
   "cell_type": "code",
   "execution_count": 79,
   "metadata": {},
   "outputs": [
    {
     "name": "stdout",
     "output_type": "stream",
     "text": [
      "|000|\t|000|\t|000|\n",
      "|001|\t|000|\t|000|\n",
      "|000|\t|000|\t|000|\n",
      "\n"
     ]
    }
   ],
   "source": [
    "print(boundary_relations[2])"
   ]
  },
  {
   "cell_type": "code",
   "execution_count": 80,
   "metadata": {},
   "outputs": [
    {
     "name": "stdout",
     "output_type": "stream",
     "text": [
      "|000|\t|000|\t|000|\n",
      "|001|\t|001|\t|001|\n",
      "|001|\t|001|\t|001|\n",
      "\n"
     ]
    }
   ],
   "source": [
    "print(boundary_relations[3])"
   ]
  },
  {
   "cell_type": "markdown",
   "metadata": {},
   "source": [
    "##### Merged All relations"
   ]
  },
  {
   "cell_type": "markdown",
   "metadata": {},
   "source": [
    "> **Boundary Relations are not affecting the outcome**"
   ]
  },
  {
   "cell_type": "code",
   "execution_count": 81,
   "metadata": {},
   "outputs": [
    {
     "name": "stdout",
     "output_type": "stream",
     "text": [
      "|001|\t|111|\t|111|\n",
      "|001|\t|001|\t|001|\n",
      "|111|\t|111|\t|111|\n",
      "\n"
     ]
    }
   ],
   "source": [
    "all_relations = mid_relations.copy()\n",
    "all_relations.extend(boundary_relations)\n",
    "relation =  merged_relations(all_relations)\n",
    "print(relation)"
   ]
  },
  {
   "cell_type": "markdown",
   "metadata": {},
   "source": [
    "### Add Extended Inner Horizontal Cylinder\n",
    "- Same as above but with horizontal cylinders\n",
    "\n",
    "***To Be Done***"
   ]
  },
  {
   "cell_type": "markdown",
   "metadata": {},
   "source": [
    "#### Disjoint Parallel Cylinders\n",
    "- Concentric hollow cylinder surrounding one of two smaller cylinders\n",
    "- Second cylinder is parallel, but **Disjoint**.\n",
    "- The relationship is **Disjoint** because the Second cylinder is outside of the First Structure.\n",
    "\n",
    "![Disjoint Parallel Cylinders](<Images/FreeCAD Images/Disjoint Parallel Cylinders.png>)"
   ]
  },
  {
   "cell_type": "code",
   "execution_count": 93,
   "metadata": {},
   "outputs": [],
   "source": [
    "def parallel_disjoint_cylinder_example():\n",
    "    slice_spacing = 1\n",
    "    # Body structure defines slices in use\n",
    "    body = make_vertical_cylinder(roi_num=0, radius=25, length=16, offset_z=0,\n",
    "                                  spacing=slice_spacing)\n",
    "    outer_cylinder = make_vertical_cylinder(roi_num=1, radius=6, length=10,\n",
    "                                            spacing=slice_spacing)\n",
    "    cylinder_hole = make_vertical_cylinder(roi_num=1, radius=5, length=8,\n",
    "                                           spacing=slice_spacing)\n",
    "    inner_cylinder = make_vertical_cylinder(roi_num=2, radius=3, length=6,\n",
    "                                                 spacing=slice_spacing)\n",
    "\n",
    "    disjoint_cylinder = make_vertical_cylinder(roi_num=2, radius=3, length=6,\n",
    "                                                 offset_x=10, spacing=slice_spacing)\n",
    "\n",
    "    # combine the contours\n",
    "    slice_data = pd.concat([body, outer_cylinder, cylinder_hole,\n",
    "                            inner_cylinder, disjoint_cylinder])\n",
    "    # convert contour slice data into a table of slices and structures\n",
    "    slice_table = make_slice_table(slice_data, ignore_errors=True)\n",
    "    return slice_table\n"
   ]
  },
  {
   "cell_type": "code",
   "execution_count": 94,
   "metadata": {},
   "outputs": [
    {
     "name": "stdout",
     "output_type": "stream",
     "text": [
      "Relationship: Surrounds\n"
     ]
    }
   ],
   "source": [
    "slice_table = extended_inner_cylinder_example()\n",
    "regions = generate_region_graph(slice_table)\n",
    "selected_roi = [1, 2]\n",
    "relation = find_relations(slice_table, regions, selected_roi)\n",
    "relation_type = relation.identify_relation()\n",
    "print(relation_type)\n",
    "#assert relation_type == RelationshipType.DISJOINT"
   ]
  },
  {
   "cell_type": "code",
   "execution_count": 95,
   "metadata": {},
   "outputs": [
    {
     "data": {
      "text/plain": [
       "[<RelationshipType.DISJOINT: 1>,\n",
       " <RelationshipType.SURROUNDS: 2>,\n",
       " <RelationshipType.SURROUNDS: 2>,\n",
       " <RelationshipType.SURROUNDS: 2>,\n",
       " <RelationshipType.SURROUNDS: 2>,\n",
       " <RelationshipType.SURROUNDS: 2>,\n",
       " <RelationshipType.SURROUNDS: 2>,\n",
       " <RelationshipType.SURROUNDS: 2>,\n",
       " <RelationshipType.SURROUNDS: 2>,\n",
       " <RelationshipType.SURROUNDS: 2>,\n",
       " <RelationshipType.SURROUNDS: 2>,\n",
       " <RelationshipType.SURROUNDS: 2>,\n",
       " <RelationshipType.DISJOINT: 1>]"
      ]
     },
     "execution_count": 95,
     "metadata": {},
     "output_type": "execute_result"
    }
   ],
   "source": [
    "selected_slices = slice_table[selected_roi].dropna(how='all')\n",
    "# Send all slices with both Primary and Secondary contours for standard\n",
    "# relation testing\n",
    "mid_relations = list(selected_slices.agg(relate_structures,\n",
    "                                            structures=selected_roi,\n",
    "                                            axis='columns'))\n",
    "[r.identify_relation() for r in mid_relations]"
   ]
  },
  {
   "cell_type": "code",
   "execution_count": 92,
   "metadata": {},
   "outputs": [
    {
     "data": {
      "image/png": "[encoded data removed]",
      "text/plain": [
       "<Figure size 400x200 with 1 Axes>"
      ]
     },
     "metadata": {},
     "output_type": "display_data"
    },
    {
     "data": {
      "text/plain": [
       "<Axes: >"
      ]
     },
     "execution_count": 92,
     "metadata": {},
     "output_type": "execute_result"
    }
   ],
   "source": [
    "a = selected_slices.at[0,1].contour\n",
    "b = selected_slices.at[0,2].contour\n",
    "plot_ab(a,b)"
   ]
  },
  {
   "cell_type": "code",
   "execution_count": 99,
   "metadata": {},
   "outputs": [
    {
     "data": {
      "image/svg+xml": [
       "<svg xmlns=\"http://www.w3.org/2000/svg\" xmlns:xlink=\"http://www.w3.org/1999/xlink\" width=\"100.0\" height=\"100.0\" viewBox=\"-3.24 -3.24 6.48 6.48\" preserveAspectRatio=\"xMinYMin meet\"><g transform=\"matrix(1,0,0,-1,0,0.0)\"><g><path fill-rule=\"evenodd\" fill=\"#66cc99\" stroke=\"#555555\" stroke-width=\"0.12960000000000002\" opacity=\"0.6\" d=\"M 0.0,3.0 L 1.148,2.772 L 2.121,2.121 L 2.772,1.148 L 3.0,0.0 L 2.772,-1.148 L 2.121,-2.121 L 1.148,-2.772 L 0.0,-3.0 L -1.148,-2.772 L -2.121,-2.121 L -2.772,-1.148 L -3.0,0.0 L -2.772,1.148 L -2.121,2.121 L -1.148,2.772 L 0.0,3.0 z\" /></g></g></svg>"
      ],
      "text/plain": [
       "<MULTIPOLYGON (((0 3, 1.15 2.77, 2.12 2.12, 2.77 1.15, 3 0, 2.77 -1.15, 2.12...>"
      ]
     },
     "execution_count": 99,
     "metadata": {},
     "output_type": "execute_result"
    }
   ],
   "source": [
    "slice_table.at[0,2].contour"
   ]
  },
  {
   "cell_type": "code",
   "execution_count": 100,
   "metadata": {},
   "outputs": [
    {
     "data": {
      "text/plain": [
       "structure_slice.StructureSlice"
      ]
     },
     "execution_count": 100,
     "metadata": {},
     "output_type": "execute_result"
    }
   ],
   "source": [
    "type(slice_table.at[0,2])"
   ]
  },
  {
   "cell_type": "code",
   "execution_count": 101,
   "metadata": {},
   "outputs": [
    {
     "data": {
      "text/plain": [
       "shapely.geometry.multipolygon.MultiPolygon"
      ]
     },
     "execution_count": 101,
     "metadata": {},
     "output_type": "execute_result"
    }
   ],
   "source": [
    "type(slice_table.at[0,2].contour)"
   ]
  },
  {
   "cell_type": "code",
   "execution_count": 103,
   "metadata": {},
   "outputs": [
    {
     "data": {
      "text/plain": [
       "1"
      ]
     },
     "execution_count": 103,
     "metadata": {},
     "output_type": "execute_result"
    }
   ],
   "source": [
    "len(slice_table.at[0,2].contour.geoms)"
   ]
  },
  {
   "cell_type": "markdown",
   "metadata": {},
   "source": [
    "> **Missing second disjoint cylinder**"
   ]
  },
  {
   "cell_type": "markdown",
   "metadata": {},
   "source": [
    "#### Disjoint Axial Cylinders\n",
    "- Concentric hollow cylinder surrounding one of two smaller cylinders\n",
    "- Second cylinder is on the same axis as the first, but above, making it **Disjoint**.\n",
    "- The relationship is **Disjoint** because the Second cylinder is outside of the First Structure.\n",
    "\n",
    "![Disjoint Parallel Cylinders](<Images/FreeCAD Images/Disjoint Axial Cylinders.png>)"
   ]
  },
  {
   "cell_type": "code",
   "execution_count": 34,
   "metadata": {},
   "outputs": [],
   "source": [
    "def axial_disjoint_cylinder_example():\n",
    "    slice_spacing = 1\n",
    "    # Body structure defines slices in use\n",
    "    body = make_vertical_cylinder(roi_num=0, radius=10, length=30, offset_z=0,\n",
    "                                  spacing=slice_spacing)\n",
    "    outer_cylinder = make_vertical_cylinder(roi_num=1, radius=6, length=10,\n",
    "                                            spacing=slice_spacing)\n",
    "    cylinder_hole = make_vertical_cylinder(roi_num=1, radius=5, length=8,\n",
    "                                           spacing=slice_spacing)\n",
    "    inner_cylinder = make_vertical_cylinder(roi_num=2, radius=3, length=6,\n",
    "                                                 spacing=slice_spacing)\n",
    "\n",
    "    disjoint_cylinder = make_vertical_cylinder(roi_num=2, radius=3, length=6,\n",
    "                                                 offset_z=12, spacing=slice_spacing)\n",
    "\n",
    "    # combine the contours\n",
    "    slice_data = pd.concat([body, outer_cylinder, cylinder_hole,\n",
    "                            inner_cylinder, disjoint_cylinder])\n",
    "    # convert contour slice data into a table of slices and structures\n",
    "    slice_table = make_slice_table(slice_data, ignore_errors=True)\n",
    "    return slice_table\n"
   ]
  },
  {
   "cell_type": "code",
   "execution_count": 35,
   "metadata": {},
   "outputs": [
    {
     "name": "stdout",
     "output_type": "stream",
     "text": [
      "Relationship: Surrounds\n"
     ]
    }
   ],
   "source": [
    "slice_table = extended_inner_cylinder_example()\n",
    "regions = generate_region_graph(slice_table)\n",
    "selected_roi = [1, 2]\n",
    "relation = find_relations(slice_table, regions, selected_roi)\n",
    "relation_type = relation.identify_relation()\n",
    "print(relation_type)\n",
    "#assert relation_type == RelationshipType.DISJOINT"
   ]
  },
  {
   "cell_type": "markdown",
   "metadata": {},
   "source": [
    "#### Disjoint Concentric Cylinders\n",
    "- Centred vertical cylinder with two cylinders on the same axis, above and \n",
    "below the primary cylinder.\n",
    "\n",
    "![Disjoint Concentric Cylinders](<Images/FreeCAD Images/Disjoint Concentric Cylinders.png>)\n"
   ]
  },
  {
   "cell_type": "code",
   "execution_count": 36,
   "metadata": {},
   "outputs": [],
   "source": [
    "def disjoint_concentric_cylinders_example():\n",
    "    slice_spacing = 1\n",
    "    # Body structure defines slices in use\n",
    "    body = make_vertical_cylinder(roi_num=0, radius=12, length=10,\n",
    "                                  spacing=slice_spacing)\n",
    "    # Centred cylinder\n",
    "    primary_cylinder = make_vertical_cylinder(roi_num=1, radius=3, length=8,\n",
    "                                              offset_z=0,\n",
    "                                              spacing=slice_spacing)\n",
    "    # cylinder 2 slices above primary cylinder\n",
    "    upper_cylinder1 = make_vertical_cylinder(roi_num=2, radius=1, length=2,\n",
    "                                             offset_z=7,\n",
    "                                             spacing=slice_spacing)\n",
    "    # cylinder 2 slices below primary cylinder\n",
    "    lower_cylinder2 = make_vertical_cylinder(roi_num=2, radius=1, length=2,\n",
    "                                             offset_z=-7,\n",
    "                                             spacing=slice_spacing)\n",
    "    # combine the contours\n",
    "    slice_data = pd.concat([body, primary_cylinder, upper_cylinder1,\n",
    "                            lower_cylinder2])\n",
    "    # convert contour slice data into a table of slices and structures\n",
    "    slice_table = make_slice_table(slice_data, ignore_errors=True)\n",
    "    return slice_table\n"
   ]
  },
  {
   "cell_type": "code",
   "execution_count": 37,
   "metadata": {},
   "outputs": [
    {
     "name": "stdout",
     "output_type": "stream",
     "text": [
      "Relationship: Disjoint\n"
     ]
    }
   ],
   "source": [
    "slice_table = disjoint_concentric_cylinders_example()\n",
    "regions = generate_region_graph(slice_table)\n",
    "selected_roi = [1, 2]\n",
    "relation = find_relations(slice_table, regions, selected_roi)\n",
    "relation_type = relation.identify_relation()\n",
    "print(relation_type)\n",
    "assert relation_type == RelationshipType.DISJOINT"
   ]
  },
  {
   "cell_type": "markdown",
   "metadata": {},
   "source": [
    "## Borders"
   ]
  },
  {
   "cell_type": "markdown",
   "metadata": {},
   "source": [
    "<link rel=\"stylesheet\" href=\"relations.css\">\n",
    "<table width=\"400px\">\n",
    "<tr class=\"l\"><th>Borders</th><th>Symmetric</th></tr>\n",
    "<td class=\"d\" colspan=\"2\">The exterior boundaries of \n",
    "<span class=\"a\">a</span> and <span class=\"b\">b</span> \n",
    "have more than one point in common, but their interiors do not intersect.\n",
    "</td></tr>\n",
    "<tr><td colspan=\"2\">\n",
    "<img src=\"Images/Relationships/borders.png\" alt=\"Borders\">\n",
    "<img src=\"Images/Relationships/Concave Borders.png\" alt=\"Concave Borders\">\n",
    "</td></tr></table>"
   ]
  },
  {
   "cell_type": "markdown",
   "metadata": {},
   "source": [
    "#### Bordering Concentric Cylinders\n",
    "- Centred vertical cylinder with two cylinders on the same axis, above and \n",
    "below the primary cylinder.\n",
    "\n",
    "![Bordering Concentric Cylinders](<Images/FreeCAD Images/Bordering  Concentric Cylinders.png>)"
   ]
  },
  {
   "cell_type": "code",
   "execution_count": 38,
   "metadata": {},
   "outputs": [],
   "source": [
    "def bordering_concentric_cylinders_example():\n",
    "    slice_spacing = 1\n",
    "    # Body structure defines slices in use\n",
    "    body = make_vertical_cylinder(roi_num=0, radius=12, length=10,\n",
    "                                  spacing=slice_spacing)\n",
    "    # Centred cylinder with two embedded cylinders\n",
    "    primary_cylinder = make_vertical_cylinder(roi_num=1, radius=3, length=8,\n",
    "                                              offset_z=0,\n",
    "                                              spacing=slice_spacing)\n",
    "    # cylinder bordering primary cylinder\n",
    "    bordering_cylinder1 = make_vertical_cylinder(roi_num=2, radius=1, length=2,\n",
    "                                             offset_z=6,\n",
    "                                             spacing=slice_spacing)\n",
    "    # cylinder bordering primary cylinder\n",
    "    bordering_cylinder2 = make_vertical_cylinder(roi_num=2, radius=1, length=2,\n",
    "                                             offset_z=-6,\n",
    "                                             spacing=slice_spacing)\n",
    "    # combine the contours\n",
    "    slice_data = pd.concat([body, primary_cylinder, bordering_cylinder1,\n",
    "                            bordering_cylinder2])\n",
    "    # convert contour slice data into a table of slices and structures\n",
    "    slice_table = make_slice_table(slice_data, ignore_errors=True)\n",
    "    return slice_table\n"
   ]
  },
  {
   "cell_type": "code",
   "execution_count": 39,
   "metadata": {},
   "outputs": [
    {
     "name": "stdout",
     "output_type": "stream",
     "text": [
      "Relationship: Borders\n"
     ]
    }
   ],
   "source": [
    "slice_table = bordering_concentric_cylinders_example()\n",
    "regions = generate_region_graph(slice_table)\n",
    "selected_roi = [1, 2]\n",
    "relation = find_relations(slice_table, regions, selected_roi)\n",
    "relation_type = relation.identify_relation()\n",
    "print(relation_type)\n",
    "assert relation_type == RelationshipType.BORDERS"
   ]
  },
  {
   "cell_type": "markdown",
   "metadata": {},
   "source": [
    "#### Bordering Lateral Boxes\n",
    "- Cubes with 'x' faces touching.\n",
    "\n",
    "![Bordering Lateral Boxes](<Images/FreeCAD Images/Bordering Boxes.png>)\n"
   ]
  },
  {
   "cell_type": "code",
   "execution_count": 40,
   "metadata": {},
   "outputs": [],
   "source": [
    "def lateral_borders_boxes_example():\n",
    "    slice_spacing = 0.1\n",
    "    # Body structure defines slices in use\n",
    "    body = make_vertical_cylinder(roi_num=0, radius=20, length=20, offset_z=0,\n",
    "                                  spacing=slice_spacing)\n",
    "    # embedded boxes\n",
    "    left_cube = make_box(roi_num=1, width=2, offset_x=-1,\n",
    "                         spacing=slice_spacing)\n",
    "    right_cube = make_box(roi_num=2, width=2, offset_x=1,\n",
    "                         spacing=slice_spacing)\n",
    "    # combine the contours\n",
    "    slice_data = pd.concat([left_cube, right_cube, body])\n",
    "    # convert contour slice data into a table of slices and structures\n",
    "    slice_table = make_slice_table(slice_data, ignore_errors=True)\n",
    "    return slice_table"
   ]
  },
  {
   "cell_type": "code",
   "execution_count": 41,
   "metadata": {},
   "outputs": [
    {
     "name": "stdout",
     "output_type": "stream",
     "text": [
      "Relationship: Borders\n"
     ]
    }
   ],
   "source": [
    "slice_table = lateral_borders_boxes_example()\n",
    "regions = generate_region_graph(slice_table)\n",
    "selected_roi = [1, 2]\n",
    "relation = find_relations(slice_table, regions, selected_roi)\n",
    "relation_type = relation.identify_relation()\n",
    "print(relation_type)\n",
    "assert relation_type == RelationshipType.BORDERS"
   ]
  },
  {
   "cell_type": "markdown",
   "metadata": {},
   "source": [
    "#### Bordering Lateral Boxes With Disjoint Box\n",
    "- Cubes with one touching and one disjoint.\n",
    "\n",
    "![Bordering Lateral Boxes With Disjoint Box](<Images/FreeCAD Images/Bordering Boxes With Disjoint Box.png>)\n"
   ]
  },
  {
   "cell_type": "code",
   "execution_count": 42,
   "metadata": {},
   "outputs": [],
   "source": [
    "def lateral_borders_two_boxes_example():\n",
    "    slice_spacing = 0.1\n",
    "    # Body structure defines slices in use\n",
    "    body = make_vertical_cylinder(roi_num=0, radius=20, length=20, offset_z=0,\n",
    "                                  spacing=slice_spacing)\n",
    "    # embedded boxes\n",
    "    left_cube = make_box(roi_num=1, width=2, offset_x=-1,\n",
    "                         spacing=slice_spacing)\n",
    "    right_cube = make_box(roi_num=2, width=2, offset_x=1,\n",
    "                         spacing=slice_spacing)\n",
    "    disjoint_cube = make_box(roi_num=2, width=2, offset_x=-2,\n",
    "                         spacing=slice_spacing)\n",
    "    # combine the contours\n",
    "    slice_data = pd.concat([left_cube, right_cube, body])\n",
    "    # convert contour slice data into a table of slices and structures\n",
    "    slice_table = make_slice_table(slice_data, ignore_errors=True)\n",
    "    return slice_table"
   ]
  },
  {
   "cell_type": "code",
   "execution_count": 43,
   "metadata": {},
   "outputs": [
    {
     "name": "stdout",
     "output_type": "stream",
     "text": [
      "Relationship: Borders\n"
     ]
    }
   ],
   "source": [
    "slice_table = lateral_borders_two_boxes_example()\n",
    "regions = generate_region_graph(slice_table)\n",
    "selected_roi = [1, 2]\n",
    "relation = find_relations(slice_table, regions, selected_roi)\n",
    "relation_type = relation.identify_relation()\n",
    "print(relation_type)\n",
    "assert relation_type == RelationshipType.BORDERS"
   ]
  },
  {
   "cell_type": "markdown",
   "metadata": {},
   "source": [
    "### Bordering Concentric Cylinder SUP Offset\n",
    "  - Primary: Central Cylinder\n",
    "    - Secondary: one of:\n",
    "      - SUP cylinders with single slice gap at the SUP boundary of the central cylinder.\n",
    "\n",
    "      \n",
    "![Bordering Concentric Cylinder SUP Offset](<Images/FreeCAD Images/Bordering Concentric Cylinder SUP Offset.png>)\n",
    "![Exterior Border SUP](Images/Boundaries/ExteriorBorders2D_SUP.png)"
   ]
  },
  {
   "cell_type": "code",
   "execution_count": 44,
   "metadata": {},
   "outputs": [],
   "source": [
    "def concentric_cylinders_sup_offset_example():\n",
    "    slice_spacing = 0.1\n",
    "    # Body structure defines slices in use\n",
    "    body = make_vertical_cylinder(roi_num=0, radius=10, length=1, offset_z=-0.5,\n",
    "                                  spacing=slice_spacing)\n",
    "    # Two concentric cylinders different z offsets\n",
    "    primary_cylinder = make_vertical_cylinder(roi_num=1, radius=0.2, length=0.4,\n",
    "                                              offset_z=-0.5,\n",
    "                                              spacing=slice_spacing)\n",
    "    sup_cylinder = make_vertical_cylinder(roi_num=2, radius=0.2, length=0.4,\n",
    "                                          offset_z=0, spacing=slice_spacing)\n",
    "    # combine the contours\n",
    "    slice_data = pd.concat([body, primary_cylinder, sup_cylinder])\n",
    "    # convert contour slice data into a table of slices and structures\n",
    "    slice_table = make_slice_table(slice_data, ignore_errors=True)\n",
    "    return slice_table\n"
   ]
  },
  {
   "cell_type": "code",
   "execution_count": 45,
   "metadata": {},
   "outputs": [
    {
     "name": "stdout",
     "output_type": "stream",
     "text": [
      "Relationship: Borders\n"
     ]
    }
   ],
   "source": [
    "slice_table = concentric_cylinders_sup_offset_example()\n",
    "regions = generate_region_graph(slice_table)\n",
    "selected_roi = [1, 2]\n",
    "relation = find_relations(slice_table, regions, selected_roi)\n",
    "relation_type = relation.identify_relation()\n",
    "print(relation_type)\n",
    "assert relation_type == RelationshipType.BORDERS"
   ]
  },
  {
   "cell_type": "markdown",
   "metadata": {},
   "source": [
    "## Confines (Interior Borders) "
   ]
  },
  {
   "cell_type": "markdown",
   "metadata": {},
   "source": [
    "<link rel=\"stylesheet\" href=\"relations.css\">\n",
    "<table width=\"350px\">\n",
    "<tr class=\"l\"><th>Confines</th><th>Symmetric</th></tr>\n",
    "<td class=\"d\" colspan=\"2\">The interior boundary of \n",
    "<span class=\"a\">a</span> \n",
    "and the exterior boundary of <span class=\"b\">b</span> \n",
    "have more than one point in common, but their interiors do not intersect.\n",
    "\n",
    "For Interior Borders <span class=\"b\">b</span> \n",
    "Should be Within <span class=\"a\">a</span>.\n",
    "</td></tr>\n",
    "<tr><td colspan=\"2\">\n",
    "<img src=\"Images/Relationships/confines.png\" alt=\"Confines\">\n",
    "<img src=\"Images/Relationships/confines with island.png\" alt=\"Confines With Island\">\n",
    "</td></tr></table>"
   ]
  },
  {
   "cell_type": "markdown",
   "metadata": {},
   "source": [
    "### Confines Box embedded in Box\n",
    "\n",
    "![Box embedded in Box](<Images/FreeCAD Images/Confines Bordering Boxes.png>)"
   ]
  },
  {
   "cell_type": "code",
   "execution_count": 46,
   "metadata": {},
   "outputs": [],
   "source": [
    "def confined_bordering_boxes_example():\n",
    "    slice_spacing = 0.1\n",
    "    # Body structure defines slices in use\n",
    "    body = make_vertical_cylinder(roi_num=0, radius=10, length=1, offset_z=-0.2,\n",
    "                                spacing=slice_spacing)\n",
    "    # embedded boxes\n",
    "    box6 = make_box(roi_num=1, width=6, spacing=slice_spacing)\n",
    "    hole4 = make_box(roi_num=1, width=4,  spacing=slice_spacing)\n",
    "    Box4 = make_box(roi_num=2, width=4,  spacing=slice_spacing)\n",
    "\n",
    "    # combine the contours\n",
    "    slice_data = pd.concat([body, box6, hole4, Box4])\n",
    "    # convert contour slice data into a table of slices and structures\n",
    "    slice_table = make_slice_table(slice_data, ignore_errors=True)\n",
    "    return slice_table\n"
   ]
  },
  {
   "cell_type": "code",
   "execution_count": 47,
   "metadata": {},
   "outputs": [
    {
     "name": "stdout",
     "output_type": "stream",
     "text": [
      "Relationship: Confines\n"
     ]
    }
   ],
   "source": [
    "slice_table = confined_bordering_boxes_example()\n",
    "regions = generate_region_graph(slice_table)\n",
    "selected_roi = [1, 2]\n",
    "relation = find_relations(slice_table, regions, selected_roi)\n",
    "relation_type = relation.identify_relation()\n",
    "print(relation_type)\n",
    "assert relation_type == RelationshipType.CONFINES"
   ]
  },
  {
   "cell_type": "markdown",
   "metadata": {},
   "source": [
    "### Confines Cylinders\n",
    "\n",
    "![Confines cylinder](FreeCAD_Scripts/confines_cylinder.png)"
   ]
  },
  {
   "cell_type": "code",
   "execution_count": 48,
   "metadata": {},
   "outputs": [],
   "source": [
    "def confines_cylinder_example():\n",
    "    slice_spacing = 0.1\n",
    "    # Body structure defines slices in use\n",
    "    body = make_vertical_cylinder(roi_num=0, radius=12, length=1.1,\n",
    "                                    spacing=slice_spacing)\n",
    "    # Centred cylinder with two embedded cylinders\n",
    "    primary_cylinder = make_vertical_cylinder(roi_num=1, radius=5,\n",
    "                                                length=0.7,\n",
    "                                                spacing=slice_spacing)\n",
    "    left_hole = make_vertical_cylinder(roi_num=1, radius=2, length=0.5,\n",
    "                                        offset_x=-2.5, spacing=slice_spacing)\n",
    "    right_hole = make_vertical_cylinder(roi_num=1, radius=2, length=0.5,\n",
    "                                        offset_x=2.5, spacing=slice_spacing)\n",
    "    # cylinder with interior borders\n",
    "    confines_cylinder = make_vertical_cylinder(roi_num=2, radius=1,\n",
    "                                                length=0.5, offset_x=2.5,\n",
    "                                                spacing=slice_spacing)\n",
    "    # combine the contours\n",
    "    slice_data = pd.concat([body, primary_cylinder, left_hole, right_hole,\n",
    "                            confines_cylinder])\n",
    "    # convert contour slice data into a table of slices and structures\n",
    "    slice_table = make_slice_table(slice_data, ignore_errors=True)\n",
    "    return slice_table\n"
   ]
  },
  {
   "cell_type": "code",
   "execution_count": 49,
   "metadata": {},
   "outputs": [
    {
     "name": "stdout",
     "output_type": "stream",
     "text": [
      "Relationship: Confines\n"
     ]
    }
   ],
   "source": [
    "slice_table = confines_cylinder_example()\n",
    "regions = generate_region_graph(slice_table)\n",
    "selected_roi = [1, 2]\n",
    "relation = find_relations(slice_table, regions, selected_roi)\n",
    "relation_type = relation.identify_relation()\n",
    "print(relation_type)\n",
    "assert relation_type == RelationshipType.CONFINES"
   ]
  },
  {
   "cell_type": "markdown",
   "metadata": {},
   "source": [
    "### Confines Embedded Cylinders\n",
    "  - Primary: Central Cylinder\n",
    "  - Concentric shorter hole in the center of the primary cylinder\n",
    "  - Secondary same height as hole but narrower\n",
    "  - Interior borders at the and bottom of hole.\n",
    "  \n",
    "![Confines Embedded Cylinders](<Images/FreeCAD Images/Confines Embedded Cylinder.png>)"
   ]
  },
  {
   "cell_type": "code",
   "execution_count": 50,
   "metadata": {},
   "outputs": [],
   "source": [
    "def embedded_cylinder_example():\n",
    "    slice_spacing = 0.1\n",
    "    # Body structure defines slices in use\n",
    "    body = make_vertical_cylinder(roi_num=0, radius=10, length=1, offset_z=-0.6,\n",
    "                                  spacing=slice_spacing)\n",
    "    primary_cylinder = make_vertical_cylinder(roi_num=1, radius=4, length=0.8,\n",
    "                                              offset_z=-0.3,\n",
    "                                              spacing=slice_spacing)\n",
    "    center_hole = make_vertical_cylinder(roi_num=1, radius=2, length=0.6,\n",
    "                                         offset_z=-0.2, spacing=slice_spacing)\n",
    "    # Two concentric cylinders different z offsets\n",
    "    middle_cylinder = make_vertical_cylinder(roi_num=2, radius=1, length=0.6,\n",
    "                                             offset_z=-0.2,\n",
    "                                             spacing=slice_spacing)\n",
    "    # combine the contours\n",
    "    slice_data = pd.concat([body, primary_cylinder, center_hole, middle_cylinder])\n",
    "    # convert contour slice data into a table of slices and structures\n",
    "    slice_table = make_slice_table(slice_data, ignore_errors=True)\n",
    "    return slice_table\n"
   ]
  },
  {
   "cell_type": "code",
   "execution_count": 51,
   "metadata": {},
   "outputs": [
    {
     "name": "stdout",
     "output_type": "stream",
     "text": [
      "Relationship: Confines\n"
     ]
    }
   ],
   "source": [
    "slice_table = embedded_cylinder_example()\n",
    "regions = generate_region_graph(slice_table)\n",
    "selected_roi = [1, 2]\n",
    "relation = find_relations(slice_table, regions, selected_roi)\n",
    "relation_type = relation.identify_relation()\n",
    "print(relation_type)\n",
    "assert relation_type == RelationshipType.CONFINES"
   ]
  },
  {
   "cell_type": "markdown",
   "metadata": {},
   "source": [
    "### Confines Embedded Spheres\n",
    "   - concentric shells\n",
    "   - Sphere within shell with inner island\n",
    " \n",
    "![Confines Embedded Spheres](<Images/FreeCAD Images/Confines Embedded Spheres.png>)"
   ]
  },
  {
   "cell_type": "code",
   "execution_count": 52,
   "metadata": {},
   "outputs": [],
   "source": [
    "def embedded_spheres_example():\n",
    "    slice_spacing = 0.1\n",
    "    # Body structure defines slices in use\n",
    "    body = make_vertical_cylinder(roi_num=0, radius=10, length=1, offset_z=-0.6,\n",
    "                                  spacing=slice_spacing)\n",
    "\n",
    "    sphere12 = make_sphere(roi_num=1, radius=6, spacing=slice_spacing)\n",
    "    hole10 = make_sphere(roi_num=1, radius=5, spacing=slice_spacing)\n",
    "    sphere8 = make_sphere(roi_num=1, radius=4, spacing=slice_spacing)\n",
    "\n",
    "    sphere10 = make_sphere(roi_num=2, radius=5, spacing=slice_spacing)\n",
    "    hole8 = make_sphere(roi_num=2, radius=4, spacing=slice_spacing)\n",
    "\n",
    "    # combine the contours\n",
    "    slice_data = pd.concat([body, sphere12, hole10, sphere8, sphere10, hole8])\n",
    "    # convert contour slice data into a table of slices and structures\n",
    "    slice_table = make_slice_table(slice_data, ignore_errors=True)\n",
    "    return slice_table\n"
   ]
  },
  {
   "cell_type": "code",
   "execution_count": 53,
   "metadata": {},
   "outputs": [
    {
     "name": "stdout",
     "output_type": "stream",
     "text": [
      "Relationship: Confines\n"
     ]
    }
   ],
   "source": [
    "slice_table = embedded_cylinder_example()\n",
    "regions = generate_region_graph(slice_table)\n",
    "selected_roi = [1, 2]\n",
    "relation = find_relations(slice_table, regions, selected_roi)\n",
    "relation_type = relation.identify_relation()\n",
    "print(relation_type)\n",
    "assert relation_type == RelationshipType.CONFINES"
   ]
  },
  {
   "cell_type": "markdown",
   "metadata": {},
   "source": [
    "### Confines Box in Box on z surface\n",
    " - Box in box, touching z plane hole surface only\n",
    " \n",
    "![Confines Box in Box on z surface](<Images/FreeCAD Images/Confines Box in Box on z surface.png>)"
   ]
  },
  {
   "cell_type": "code",
   "execution_count": 54,
   "metadata": {},
   "outputs": [],
   "source": [
    "def confined_box_z_border_example():\n",
    "    slice_spacing = 0.1\n",
    "    # Body structure defines slices in use\n",
    "    body = make_vertical_cylinder(roi_num=0, radius=10, length=1, offset_z=-0.2,\n",
    "                                spacing=slice_spacing)\n",
    "    # embedded boxes\n",
    "    box6 = make_box(roi_num=1, width=6, spacing=slice_spacing)\n",
    "    hole4 = make_box(roi_num=1, width=4,  spacing=slice_spacing)\n",
    "    Box2 = make_box(roi_num=2, width=2, offset_z=1,  spacing=slice_spacing)\n",
    "\n",
    "    # combine the contours\n",
    "    slice_data = pd.concat([body, box6, hole4, Box2])\n",
    "    # convert contour slice data into a table of slices and structures\n",
    "    slice_table = make_slice_table(slice_data, ignore_errors=True)\n",
    "    return slice_table\n"
   ]
  },
  {
   "cell_type": "code",
   "execution_count": 55,
   "metadata": {},
   "outputs": [
    {
     "name": "stdout",
     "output_type": "stream",
     "text": [
      "Relationship: Confines\n"
     ]
    }
   ],
   "source": [
    "slice_table = confined_box_z_border_example()\n",
    "regions = generate_region_graph(slice_table)\n",
    "selected_roi = [1, 2]\n",
    "relation = find_relations(slice_table, regions, selected_roi)\n",
    "relation_type = relation.identify_relation()\n",
    "print(relation_type)\n",
    "assert relation_type == RelationshipType.CONFINES"
   ]
  },
  {
   "cell_type": "markdown",
   "metadata": {},
   "source": [
    "### Confines Box in Box on Y surface\n",
    " - Box in box, touching Y plane hole surface only\n",
    " \n",
    "![Confines Box in Box on Y surface](<Images/FreeCAD Images/Confines Box in Box on y surface.png>)"
   ]
  },
  {
   "cell_type": "code",
   "execution_count": 56,
   "metadata": {},
   "outputs": [],
   "source": [
    "def confined_box_y_border_example():\n",
    "    slice_spacing = 0.1\n",
    "    # Body structure defines slices in use\n",
    "    body = make_vertical_cylinder(roi_num=0, radius=10, length=1, offset_z=-0.2,\n",
    "                                spacing=slice_spacing)\n",
    "    # embedded boxes\n",
    "    box6 = make_box(roi_num=1, width=6, spacing=slice_spacing)\n",
    "    hole4 = make_box(roi_num=1, width=4,  spacing=slice_spacing)\n",
    "    Box2 = make_box(roi_num=2, width=2, offset_y=1,  spacing=slice_spacing)\n",
    "\n",
    "    # combine the contours\n",
    "    slice_data = pd.concat([body, box6, hole4, Box2])\n",
    "    # convert contour slice data into a table of slices and structures\n",
    "    slice_table = make_slice_table(slice_data, ignore_errors=True)\n",
    "    return slice_table\n"
   ]
  },
  {
   "cell_type": "code",
   "execution_count": 57,
   "metadata": {},
   "outputs": [
    {
     "name": "stdout",
     "output_type": "stream",
     "text": [
      "Relationship: Confines\n"
     ]
    }
   ],
   "source": [
    "slice_table = confined_box_y_border_example()\n",
    "regions = generate_region_graph(slice_table)\n",
    "selected_roi = [1, 2]\n",
    "relation = find_relations(slice_table, regions, selected_roi)\n",
    "relation_type = relation.identify_relation()\n",
    "print(relation_type)\n",
    "assert relation_type == RelationshipType.CONFINES"
   ]
  },
  {
   "cell_type": "markdown",
   "metadata": {},
   "source": [
    "## Partition"
   ]
  },
  {
   "cell_type": "markdown",
   "metadata": {},
   "source": [
    "<link rel=\"stylesheet\" href=\"relations.css\">\n",
    "<table width=\"350px\">\n",
    "<tr class=\"l\"><th>Partition</th><th></th></tr>\n",
    "<td class=\"d\" colspan=\"2\">\n",
    "The boundaries of <span class=\"a\">a</span> and <span class=\"b\">b</span> have more than one point in common.\n",
    "No points of <span class=\"b\">b</span> are exterior to <span class=\"a\">a</span>, and some points in <span class=\"a\">a</span> are exterior to <span class=\"b\">b</span>.\n",
    "</td></tr>\n",
    "<tr><td colspan=\"2\">\n",
    "<img src=\"Images/Relationships/partitions simple.png\" alt=\"Partition\">\n",
    "<img src=\"Images/Relationships/partitions archipelago with island.png\" alt=\"Partition With Island\">\n",
    "<img src=\"Images/Relationships/partitions partial ring.png\" alt=\"Partition Ring\">\n",
    "</td></tr></table>"
   ]
  },
  {
   "cell_type": "markdown",
   "metadata": {},
   "source": [
    "**Partition**\n",
    "\n",
    "- half shell"
   ]
  },
  {
   "cell_type": "markdown",
   "metadata": {},
   "source": [
    "### Partition Box in Box on Y surface\n",
    " - Box part of box, touching Y plane surface only\n",
    " \n",
    "![Partition Box in Box on Y surface](<Images/FreeCAD Images/Partition Box in Box on y surface.png>)"
   ]
  },
  {
   "cell_type": "code",
   "execution_count": 58,
   "metadata": {},
   "outputs": [],
   "source": [
    "def partition_embedded_box_on_y_surface():\n",
    "    slice_spacing = 0.5\n",
    "    # Body structure defines slices in use\n",
    "    body = make_vertical_cylinder(roi_num=0, radius=20, length=30, spacing=slice_spacing)\n",
    "    # embedded boxes    # 6 cm x 6 cm box\n",
    "    box6 = make_box(roi_num=1, width=6, spacing=slice_spacing)\n",
    "    box6_3 = make_box(roi_num=2, width=6, length=3, height=6, offset_y=1.5,\n",
    "                      spacing=slice_spacing)\n",
    "    # combine the contours\n",
    "    slice_data = pd.concat([box6, box6_3, body])\n",
    "    # convert contour slice data into a table of slices and structures\n",
    "    slice_table = make_slice_table(slice_data, ignore_errors=True)\n",
    "    return slice_table\n"
   ]
  },
  {
   "cell_type": "code",
   "execution_count": 59,
   "metadata": {},
   "outputs": [
    {
     "name": "stdout",
     "output_type": "stream",
     "text": [
      "Relationship: Partition\n"
     ]
    }
   ],
   "source": [
    "slice_table = partition_embedded_box_on_y_surface()\n",
    "regions = generate_region_graph(slice_table)\n",
    "selected_roi = [1, 2]\n",
    "relation = find_relations(slice_table, regions, selected_roi)\n",
    "relation_type = relation.identify_relation()\n",
    "print(relation_type)\n",
    "assert relation_type == RelationshipType.PARTITION"
   ]
  },
  {
   "cell_type": "markdown",
   "metadata": {},
   "source": [
    "### Partition Box in Box on Z surface\n",
    " - Box part of box, touching Z plane surface only\n",
    " \n",
    "![Partition Box in Box on Z surface](<Images/FreeCAD Images/Partition Box in Box on z surface.png>)"
   ]
  },
  {
   "cell_type": "code",
   "execution_count": 60,
   "metadata": {},
   "outputs": [],
   "source": [
    "def partition_embedded_box_on_z_surface():\n",
    "    slice_spacing = 0.5\n",
    "    # Body structure defines slices in use\n",
    "    body = make_vertical_cylinder(roi_num=0, radius=20, length=30,\n",
    "                                  spacing=slice_spacing)\n",
    "    # embedded boxes    # 6 cm x 6 cm box\n",
    "    box6 = make_box(roi_num=1, width=6, spacing=slice_spacing)\n",
    "    box6_3 = make_box(roi_num=2, width=6, length=6, height=3, offset_z=1.5,\n",
    "                      spacing=slice_spacing)\n",
    "    # combine the contours\n",
    "    slice_data = pd.concat([box6, box6_3, body])\n",
    "    # convert contour slice data into a table of slices and structures\n",
    "    slice_table = make_slice_table(slice_data, ignore_errors=True)\n",
    "    return slice_table\n"
   ]
  },
  {
   "cell_type": "code",
   "execution_count": 61,
   "metadata": {},
   "outputs": [
    {
     "name": "stdout",
     "output_type": "stream",
     "text": [
      "Relationship: Partition\n"
     ]
    }
   ],
   "source": [
    "slice_table = partition_embedded_box_on_z_surface()\n",
    "regions = generate_region_graph(slice_table)\n",
    "selected_roi = [1, 2]\n",
    "relation = find_relations(slice_table, regions, selected_roi)\n",
    "relation_type = relation.identify_relation()\n",
    "print(relation_type)\n",
    "assert relation_type == RelationshipType.PARTITION"
   ]
  },
  {
   "cell_type": "markdown",
   "metadata": {},
   "source": [
    "#### Horizontal Cylinders\n",
    "\n",
    "![Horizontal Cylinders](./Images/FreeCAD%20Images/HorizontalCylinders.png)"
   ]
  },
  {
   "cell_type": "code",
   "execution_count": 62,
   "metadata": {},
   "outputs": [],
   "source": [
    "def horizontal_cylinders():\n",
    "    slice_spacing = 0.1\n",
    "    # Body structure defines slices in use\n",
    "    body = make_box(roi_num=0, width=6, length=6, height=8, offset_z=-4,\n",
    "                    spacing=slice_spacing)\n",
    "    cylinder2h = make_horizontal_cylinder(radius=2, length=5, roi_num=1,\n",
    "                                          spacing=slice_spacing)\n",
    "    cylinder1h = make_horizontal_cylinder(radius=1, length=5, roi_num=2,\n",
    "                                          spacing=slice_spacing)\n",
    "    # combine the contours\n",
    "    slice_data = pd.concat([body, cylinder1h, cylinder2h])\n",
    "    # convert contour slice data into a table of slices and structures\n",
    "    slice_table = make_slice_table(slice_data, ignore_errors=True)\n",
    "    return slice_table\n"
   ]
  },
  {
   "cell_type": "code",
   "execution_count": 63,
   "metadata": {},
   "outputs": [
    {
     "name": "stdout",
     "output_type": "stream",
     "text": [
      "Relationship: Partition\n"
     ]
    }
   ],
   "source": [
    "slice_table = horizontal_cylinders()\n",
    "regions = generate_region_graph(slice_table)\n",
    "selected_roi = [1, 2]\n",
    "relation = find_relations(slice_table, regions, selected_roi)\n",
    "relation_type = relation.identify_relation()\n",
    "print(relation_type)\n",
    "assert relation_type == RelationshipType.PARTITION"
   ]
  },
  {
   "cell_type": "markdown",
   "metadata": {},
   "source": [
    " #### Vertical Concentric Cylinders\n",
    " \n",
    " ![Concentric Cylinders](./Images/FreeCAD%20Images/ConcentricCylinders.png)"
   ]
  },
  {
   "cell_type": "code",
   "execution_count": 64,
   "metadata": {},
   "outputs": [],
   "source": [
    "def vertical_concentric_cylinders():\n",
    "    slice_spacing = 0.5\n",
    "    # Body structure defines slices in use\n",
    "    body = make_vertical_cylinder(roi_num=0, radius=20, length=30, offset_z=-15,\n",
    "                                spacing=slice_spacing)\n",
    "    cylinder6 = make_vertical_cylinder(roi_num=1, radius=6, length=10,\n",
    "                                    spacing=slice_spacing)\n",
    "    cylinder4 = make_vertical_cylinder(roi_num=2, radius=4, length=10,\n",
    "                                    spacing=slice_spacing)\n",
    "    # combine the contours\n",
    "    slice_data = pd.concat([body, cylinder6, cylinder4])\n",
    "    # convert contour slice data into a table of slices and structures\n",
    "    slice_table = make_slice_table(slice_data, ignore_errors=True)\n",
    "    return slice_table\n"
   ]
  },
  {
   "cell_type": "code",
   "execution_count": 65,
   "metadata": {},
   "outputs": [
    {
     "name": "stdout",
     "output_type": "stream",
     "text": [
      "Relationship: Partition\n"
     ]
    }
   ],
   "source": [
    "slice_table = vertical_concentric_cylinders()\n",
    "regions = generate_region_graph(slice_table)\n",
    "selected_roi = [1, 2]\n",
    "relation = find_relations(slice_table, regions, selected_roi)\n",
    "relation_type = relation.identify_relation()\n",
    "print(relation_type)\n",
    "assert relation_type == RelationshipType.PARTITION"
   ]
  },
  {
   "cell_type": "markdown",
   "metadata": {},
   "source": [
    "#### Concentric cylinders starting on the same slice\n",
    "  \n",
    "<img src=\"Images\\Boundaries\\PartitionSup3D.png\" alt=\"PartitionSup3D\" style=\"height:50px;\">\n",
    "<img src=\"Images\\Boundaries\\PartitionSup2D.png\" alt=\"PartitionSup2D\" style=\"height:30px;\">"
   ]
  },
  {
   "cell_type": "code",
   "execution_count": 66,
   "metadata": {},
   "outputs": [],
   "source": [
    "def concentric_cylinders_same_start():\n",
    "    slice_spacing = 0.5\n",
    "    # Body structure defines slices in use\n",
    "    body = make_vertical_cylinder(roi_num=0, radius=10, length=1,\n",
    "                                  spacing=slice_spacing)\n",
    "    # Concentric cylinders starting on the same slice\n",
    "    primary_cylinder = make_vertical_cylinder(roi_num=1, radius=2, length=7,\n",
    "                                              offset_z=-3.5,\n",
    "                                              spacing=slice_spacing)\n",
    "    sup_partition = make_vertical_cylinder(roi_num=2, radius=1, length=3.0,\n",
    "                                           offset_z=-1.5,\n",
    "                                           spacing=slice_spacing)\n",
    "    # combine the contours\n",
    "    slice_data = pd.concat([body, primary_cylinder, sup_partition])\n",
    "    # convert contour slice data into a table of slices and structures\n",
    "    slice_table = make_slice_table(slice_data, ignore_errors=True)\n",
    "    return slice_table\n"
   ]
  },
  {
   "cell_type": "code",
   "execution_count": 67,
   "metadata": {},
   "outputs": [
    {
     "name": "stdout",
     "output_type": "stream",
     "text": [
      "Relationship: Partition\n"
     ]
    }
   ],
   "source": [
    "slice_table = concentric_cylinders_same_start()\n",
    "regions = generate_region_graph(slice_table)\n",
    "selected_roi = [1, 2]\n",
    "relation = find_relations(slice_table, regions, selected_roi)\n",
    "relation_type = relation.identify_relation()\n",
    "print(relation_type)\n",
    "assert relation_type == RelationshipType.PARTITION"
   ]
  },
  {
   "cell_type": "markdown",
   "metadata": {},
   "source": [
    "#### Concentric cylinders ending on the same slice.\n",
    "\n",
    "<img src=\"Images\\Boundaries\\PartitionInf3D.png\" alt=\"PartitionInf3D\" style=\"height:50px;\">\n",
    "<img src=\"Images\\Boundaries\\PartitionInf2D.png\" alt=\"PartitionInf2D\" style=\"height:30px;\">"
   ]
  },
  {
   "cell_type": "code",
   "execution_count": 68,
   "metadata": {},
   "outputs": [],
   "source": [
    "def concentric_cylinders_same_end():\n",
    "    slice_spacing = 0.5\n",
    "    # Body structure defines slices in use\n",
    "    body = make_vertical_cylinder(roi_num=0, radius=10, length=10,\n",
    "                                  spacing=slice_spacing)\n",
    "    # Concentric cylinders ending on the same slice\n",
    "    primary_cylinder = make_vertical_cylinder(roi_num=1, radius=2, length=7.0,\n",
    "                                              offset_z=3.5,\n",
    "                                              spacing=slice_spacing)\n",
    "    inf_partition = make_vertical_cylinder(roi_num=2, radius=1, length=4,\n",
    "                                           offset_z=2, spacing=slice_spacing)\n",
    "    # combine the contours\n",
    "    slice_data = pd.concat([body, primary_cylinder, inf_partition])\n",
    "    # convert contour slice data into a table of slices and structures\n",
    "    slice_table = make_slice_table(slice_data, ignore_errors=True)\n",
    "    return slice_table\n"
   ]
  },
  {
   "cell_type": "code",
   "execution_count": 69,
   "metadata": {},
   "outputs": [
    {
     "name": "stdout",
     "output_type": "stream",
     "text": [
      "Relationship: Partition\n"
     ]
    }
   ],
   "source": [
    "slice_table = concentric_cylinders_same_end()\n",
    "regions = generate_region_graph(slice_table)\n",
    "selected_roi = [1, 2]\n",
    "relation = find_relations(slice_table, regions, selected_roi)\n",
    "relation_type = relation.identify_relation()\n",
    "print(relation_type)\n",
    "assert relation_type == RelationshipType.PARTITION"
   ]
  },
  {
   "cell_type": "markdown",
   "metadata": {},
   "source": [
    "#### Concentric cylinders starting and ending on the same slice.\n",
    "\n",
    "<img src=\"Images\\Boundaries\\Partition3D.png\" alt=\"PartitionInf3D\" style=\"height:50px;\">\n",
    "<img src=\"Images\\Boundaries\\Partition2D.png\" alt=\"PartitionInf2D\" style=\"height:30px;\">"
   ]
  },
  {
   "cell_type": "code",
   "execution_count": 70,
   "metadata": {},
   "outputs": [],
   "source": [
    "def concentric_cylinders_same_start_end():\n",
    "    slice_spacing = 0.05\n",
    "    # Body structure defines slices in use\n",
    "    body = make_vertical_cylinder(roi_num=0, radius=10, length=1,\n",
    "                                  spacing=slice_spacing)\n",
    "    # Concentric cylinders starting and ending on the same slice\n",
    "    primary_cylinder = make_vertical_cylinder(roi_num=1, radius=2, length=0.7,\n",
    "                                              offset_z=0.0,\n",
    "                                              spacing=slice_spacing)\n",
    "    mid_partition = make_vertical_cylinder(roi_num=2, radius=1, length=0.7,\n",
    "                                           offset_z=-0.0, spacing=slice_spacing)\n",
    "    # combine the contours\n",
    "    slice_data = pd.concat([body, primary_cylinder, mid_partition])\n",
    "    # convert contour slice data into a table of slices and structures\n",
    "    slice_table = make_slice_table(slice_data, ignore_errors=True)\n",
    "    return slice_table\n"
   ]
  },
  {
   "cell_type": "code",
   "execution_count": 71,
   "metadata": {},
   "outputs": [
    {
     "name": "stdout",
     "output_type": "stream",
     "text": [
      "Relationship: Partition\n"
     ]
    }
   ],
   "source": [
    "slice_table = concentric_cylinders_same_start_end()\n",
    "regions = generate_region_graph(slice_table)\n",
    "selected_roi = [1, 2]\n",
    "relation = find_relations(slice_table, regions, selected_roi)\n",
    "relation_type = relation.identify_relation()\n",
    "print(relation_type)\n",
    "assert relation_type == RelationshipType.PARTITION"
   ]
  },
  {
   "cell_type": "markdown",
   "metadata": {},
   "source": [
    "### Partition Sphere Island\n",
    "   - concentric shells\n",
    "   - 2nd structure matches inner island\n",
    " \n",
    "![Partition Sphere Island](<Images/FreeCAD Images/Partition Sphere Island.png>)"
   ]
  },
  {
   "cell_type": "code",
   "execution_count": 72,
   "metadata": {},
   "outputs": [],
   "source": [
    "def partition_sphere_island_example():\n",
    "    slice_spacing = 0.1\n",
    "    # Body structure defines slices in use\n",
    "    body = make_vertical_cylinder(roi_num=0, radius=10, length=1, offset_z=-0.6,\n",
    "                                  spacing=slice_spacing)\n",
    "\n",
    "    sphere12 = make_sphere(roi_num=1, radius=6, spacing=slice_spacing)\n",
    "    hole8 = make_sphere(roi_num=1, radius=4, spacing=slice_spacing)\n",
    "    sphere4 = make_sphere(roi_num=1, radius=2, spacing=slice_spacing)\n",
    "\n",
    "    sphere4_2 = make_sphere(roi_num=2, radius=2, spacing=slice_spacing)\n",
    "\n",
    "    # combine the contours\n",
    "    slice_data = pd.concat([body, sphere12, hole8, sphere4, sphere4_2])\n",
    "    # convert contour slice data into a table of slices and structures\n",
    "    slice_table = make_slice_table(slice_data, ignore_errors=True)\n",
    "    return slice_table\n"
   ]
  },
  {
   "cell_type": "code",
   "execution_count": 73,
   "metadata": {},
   "outputs": [
    {
     "name": "stdout",
     "output_type": "stream",
     "text": [
      "Relationship: Partition\n"
     ]
    }
   ],
   "source": [
    "slice_table = partition_sphere_island_example()\n",
    "regions = generate_region_graph(slice_table)\n",
    "selected_roi = [1, 2]\n",
    "relation = find_relations(slice_table, regions, selected_roi)\n",
    "relation_type = relation.identify_relation()\n",
    "print(relation_type)\n",
    "assert relation_type == RelationshipType.PARTITION"
   ]
  },
  {
   "cell_type": "markdown",
   "metadata": {},
   "source": [
    "## Overlaps"
   ]
  },
  {
   "cell_type": "markdown",
   "metadata": {
    "notebookRunGroups": {
     "groupValue": "2"
    }
   },
   "source": [
    "<link rel=\"stylesheet\" href=\"relations.css\">\n",
    "<table width=\"350px\">\n",
    "<tr class=\"l\"><th>Overlaps</th><th>Symmetric</th></tr>\n",
    "<td class=\"d\" colspan=\"2\">\n",
    "<span class=\"a\">a</span> and <span class=\"b\">b</span> \n",
    "have some but not all points in common.\n",
    "</td></tr>\n",
    "<tr><td colspan=\"2\">\n",
    "<img src=\"Images/Relationships/overlaps simple.png\" alt=\"Overlaps\">\n",
    "<img src=\"Images/Relationships/overlaps ring.png\" alt=\"Overlaps With Ring\">\n",
    "<img src=\"Images/Relationships/overlaps surounded.png\" alt=\"Overlaps Surrounded\">\n",
    "<img src=\"Images/Relationships/overlaps ring surrounds simple.png\" alt=\"Ring Overlaps Simple\">\n",
    "<img src=\"Images/Relationships/archipelago contains simple.png\" alt=\"Ring Overlaps Simple\">\n",
    "</td></tr></table>"
   ]
  },
  {
   "cell_type": "markdown",
   "metadata": {},
   "source": [
    "### Overlapping Spheres \n",
    "\n",
    "![Overlapping Spheres](<Images/FreeCAD Images/Overlapping Spheres.png>)"
   ]
  },
  {
   "cell_type": "code",
   "execution_count": 74,
   "metadata": {},
   "outputs": [],
   "source": [
    "def overlapping_spheres_example():\n",
    "    slice_spacing = 0.5\n",
    "    # Body structure defines slices in use\n",
    "    body = make_vertical_cylinder(roi_num=0, radius=20, length=10,\n",
    "                                  spacing=slice_spacing)\n",
    "\n",
    "    right_sphere6 = make_sphere(roi_num=1, radius=6, offset_x=-2,\n",
    "                                spacing=slice_spacing)\n",
    "    left_sphere6 = make_sphere(roi_num=2, radius=6, offset_x=2,\n",
    "                                spacing=slice_spacing)\n",
    "\n",
    "    # combine the contours\n",
    "    slice_data = pd.concat([body, right_sphere6, left_sphere6])\n",
    "    # convert contour slice data into a table of slices and structures\n",
    "    slice_table = make_slice_table(slice_data, ignore_errors=True)\n",
    "    return slice_table\n"
   ]
  },
  {
   "cell_type": "code",
   "execution_count": 75,
   "metadata": {},
   "outputs": [
    {
     "name": "stdout",
     "output_type": "stream",
     "text": [
      "Relationship: Overlaps\n"
     ]
    }
   ],
   "source": [
    "slice_table = overlapping_spheres_example()\n",
    "regions = generate_region_graph(slice_table)\n",
    "selected_roi = [1, 2]\n",
    "relation = find_relations(slice_table, regions, selected_roi)\n",
    "relation_type = relation.identify_relation()\n",
    "print(relation_type)\n",
    "assert relation_type == RelationshipType.OVERLAPS"
   ]
  },
  {
   "cell_type": "markdown",
   "metadata": {},
   "source": [
    "### Overlapping Boxes in the Y Direction \n",
    "\n",
    "![Overlapping Boxes in the Y Direction](<Images/FreeCAD Images/Overlapping Boxes in Y direction.png>)"
   ]
  },
  {
   "cell_type": "code",
   "execution_count": 76,
   "metadata": {},
   "outputs": [],
   "source": [
    "def overlapping_boxes_y():\n",
    "    slice_spacing = 0.1\n",
    "    # Body structure defines slices in use\n",
    "    body = make_vertical_cylinder(roi_num=0, radius=10, length=1,\n",
    "                                spacing=slice_spacing)\n",
    "    # overlapping boxes    # 6 cm x 6 cm box\n",
    "    box6 = make_box(roi_num=1, width=0.6, spacing=slice_spacing)\n",
    "    box6_y = make_box(roi_num=2, width=0.6, offset_y=0.2,\n",
    "                      spacing=slice_spacing)\n",
    "    # combine the contours\n",
    "    slice_data = pd.concat([box6, box6_y, body])\n",
    "    # convert contour slice data into a table of slices and structures\n",
    "    slice_table = make_slice_table(slice_data, ignore_errors=True)\n",
    "    return slice_table\n"
   ]
  },
  {
   "cell_type": "code",
   "execution_count": 77,
   "metadata": {},
   "outputs": [
    {
     "name": "stdout",
     "output_type": "stream",
     "text": [
      "Relationship: Overlaps\n"
     ]
    }
   ],
   "source": [
    "slice_table = overlapping_boxes_y()\n",
    "regions = generate_region_graph(slice_table)\n",
    "selected_roi = [1, 2]\n",
    "relation = find_relations(slice_table, regions, selected_roi)\n",
    "relation_type = relation.identify_relation()\n",
    "print(relation_type)\n",
    "assert relation_type == RelationshipType.OVERLAPS"
   ]
  },
  {
   "cell_type": "markdown",
   "metadata": {},
   "source": [
    "### Overlapping Boxes in the Z Direction \n",
    "\n",
    "![Overlapping Boxes in the Z Direction](<Images/FreeCAD Images/Overlapping Boxes in Z direction.png>)"
   ]
  },
  {
   "cell_type": "code",
   "execution_count": 78,
   "metadata": {},
   "outputs": [],
   "source": [
    "def overlapping_boxes_z():\n",
    "    slice_spacing = 0.1\n",
    "    # Body structure defines slices in use\n",
    "    body = make_vertical_cylinder(roi_num=0, radius=10, length=1,\n",
    "                                spacing=slice_spacing)\n",
    "    # overlapping boxes    # 6 cm x 6 cm box\n",
    "    box6 = make_box(roi_num=1, width=0.6, spacing=slice_spacing)\n",
    "    box6_y = make_box(roi_num=2, width=0.6, offset_z=0.3,\n",
    "                      spacing=slice_spacing)\n",
    "    # combine the contours\n",
    "    slice_data = pd.concat([box6, box6_y, body])\n",
    "    # convert contour slice data into a table of slices and structures\n",
    "    slice_table = make_slice_table(slice_data, ignore_errors=True)\n",
    "    return slice_table\n"
   ]
  },
  {
   "cell_type": "code",
   "execution_count": 79,
   "metadata": {},
   "outputs": [
    {
     "name": "stdout",
     "output_type": "stream",
     "text": [
      "Relationship: Overlaps\n"
     ]
    }
   ],
   "source": [
    "slice_table = overlapping_boxes_z()\n",
    "regions = generate_region_graph(slice_table)\n",
    "selected_roi = [1, 2]\n",
    "relation = find_relations(slice_table, regions, selected_roi)\n",
    "relation_type = relation.identify_relation()\n",
    "print(relation_type)\n",
    "assert relation_type == RelationshipType.OVERLAPS"
   ]
  },
  {
   "cell_type": "markdown",
   "metadata": {},
   "source": [
    "### Stacked Boxes\n",
    "\n",
    "![Stacked Boxes](<Images/FreeCAD Images/Stacked Boxes.png>)"
   ]
  },
  {
   "cell_type": "code",
   "execution_count": 80,
   "metadata": {},
   "outputs": [],
   "source": [
    "def stacked_boxes():\n",
    "    slice_spacing = 0.1\n",
    "    # Body structure defines slices in use\n",
    "    body = make_vertical_cylinder(roi_num=0, radius=10, length=1,\n",
    "                                spacing=slice_spacing)\n",
    "    # overlapping boxes    # 6 cm x 6 cm box\n",
    "    box6 = make_box(roi_num=1, width=0.6, spacing=slice_spacing)\n",
    "    box6_y = make_box(roi_num=2, width=0.6, offset_z=0.6,\n",
    "                      spacing=slice_spacing)\n",
    "    # combine the contours\n",
    "    slice_data = pd.concat([box6, box6_y, body])\n",
    "    # convert contour slice data into a table of slices and structures\n",
    "    slice_table = make_slice_table(slice_data, ignore_errors=True)\n",
    "    return slice_table"
   ]
  },
  {
   "cell_type": "code",
   "execution_count": 81,
   "metadata": {},
   "outputs": [
    {
     "name": "stdout",
     "output_type": "stream",
     "text": [
      "Relationship: Overlaps\n"
     ]
    }
   ],
   "source": [
    "slice_table = stacked_boxes()\n",
    "regions = generate_region_graph(slice_table)\n",
    "selected_roi = [1, 2]\n",
    "relation = find_relations(slice_table, regions, selected_roi)\n",
    "relation_type = relation.identify_relation()\n",
    "print(relation_type)\n",
    "assert relation_type == RelationshipType.OVERLAPS"
   ]
  },
  {
   "cell_type": "markdown",
   "metadata": {},
   "source": [
    "### Overlapping Concentric Cylinders\n",
    "- Centred vertical cylinder with two cylinders on the same axis, above and \n",
    "below the primary cylinder.\n",
    "\n",
    "- Cylinders are overlapping because they have a contour on the same slices (-0.4, and 0.4).\n",
    "\n",
    "![Overlapping Concentric Cylinders](<Images/FreeCAD Images/Overlapping Concentric Cylinders.png>)\n"
   ]
  },
  {
   "cell_type": "code",
   "execution_count": 82,
   "metadata": {},
   "outputs": [],
   "source": [
    "def overlapping_concentric_cylinders_example():\n",
    "    slice_spacing = 1\n",
    "    # Body structure defines slices in use\n",
    "    body = make_vertical_cylinder(roi_num=0, radius=12, length=10,\n",
    "                                  spacing=slice_spacing)\n",
    "    # Centred cylinder with two embedded cylinders\n",
    "    primary_cylinder = make_vertical_cylinder(roi_num=1, radius=3, length=8,\n",
    "                                              offset_z=0,\n",
    "                                              spacing=slice_spacing)\n",
    "    # cylinder overlapping primary cylinder\n",
    "    overlapping_cylinder1 = make_vertical_cylinder(roi_num=2, radius=1, length=2,\n",
    "                                             offset_z=5,\n",
    "                                             spacing=slice_spacing)\n",
    "    # cylinder overlapping primary cylinder\n",
    "    overlapping_cylinder2 = make_vertical_cylinder(roi_num=2, radius=1, length=2,\n",
    "                                             offset_z=-5,\n",
    "                                             spacing=slice_spacing)\n",
    "    # combine the contours\n",
    "    slice_data = pd.concat([body, primary_cylinder, overlapping_cylinder1,\n",
    "                            overlapping_cylinder2])\n",
    "    # convert contour slice data into a table of slices and structures\n",
    "    slice_table = make_slice_table(slice_data, ignore_errors=True)\n",
    "    return slice_table\n"
   ]
  },
  {
   "cell_type": "code",
   "execution_count": 83,
   "metadata": {},
   "outputs": [
    {
     "name": "stdout",
     "output_type": "stream",
     "text": [
      "Relationship: Overlaps\n"
     ]
    }
   ],
   "source": [
    "slice_table = overlapping_concentric_cylinders_example()\n",
    "regions = generate_region_graph(slice_table)\n",
    "selected_roi = [1, 2]\n",
    "relation = find_relations(slice_table, regions, selected_roi)\n",
    "relation_type = relation.identify_relation()\n",
    "print(relation_type)\n",
    "assert relation_type == RelationshipType.OVERLAPS"
   ]
  },
  {
   "cell_type": "markdown",
   "metadata": {},
   "source": [
    "### Overlapping Cubes INF RT\n",
    "\n",
    "![Overlapping Cubes INF RT](<Images/FreeCAD Images/Overlapping Cubes INF RT.png>)"
   ]
  },
  {
   "cell_type": "code",
   "execution_count": 84,
   "metadata": {},
   "outputs": [],
   "source": [
    "def overlapping_cubes_inf_rt():\n",
    "    slice_spacing = 0.5\n",
    "    # Body structure defines slices in use\n",
    "    body = make_vertical_cylinder(roi_num=0, radius=20, length=30, offset_z=-15,\n",
    "                                spacing=slice_spacing)\n",
    "    #\n",
    "    cube6 = make_box(roi_num=1, width=6, spacing=slice_spacing)\n",
    "    cube6_inf_rt = make_box(roi_num=2, width=6, offset_z=3, offset_x=3,\n",
    "                            offset_y=3, spacing=slice_spacing)\n",
    "    # combine the contours\n",
    "    slice_data = pd.concat([body, cube6, cube6_inf_rt])\n",
    "    # convert contour slice data into a table of slices and structures\n",
    "    slice_table = make_slice_table(slice_data, ignore_errors=True)\n",
    "    return slice_table\n"
   ]
  },
  {
   "cell_type": "code",
   "execution_count": 85,
   "metadata": {},
   "outputs": [
    {
     "name": "stdout",
     "output_type": "stream",
     "text": [
      "Relationship: Overlaps\n"
     ]
    }
   ],
   "source": [
    "slice_table = overlapping_cubes_inf_rt()\n",
    "regions = generate_region_graph(slice_table)\n",
    "selected_roi = [1, 2]\n",
    "relation = find_relations(slice_table, regions, selected_roi)\n",
    "relation_type = relation.identify_relation()\n",
    "print(relation_type)\n",
    "assert relation_type == RelationshipType.OVERLAPS"
   ]
  },
  {
   "cell_type": "markdown",
   "metadata": {},
   "source": [
    "### Overlapping Extended Cylinder\n",
    "\n",
    "![Overlapping Extended Cylinder](<Images/FreeCAD Images/Overlapping Extended Cylinder.png>)"
   ]
  },
  {
   "cell_type": "code",
   "execution_count": 97,
   "metadata": {},
   "outputs": [],
   "source": [
    "def overlapping_extended_cylinder():\n",
    "    slice_spacing = 0.1\n",
    "    # Body structure defines slices in use\n",
    "    body = make_vertical_cylinder(roi_num=0, radius=12, length=1.1,\n",
    "                                  spacing=slice_spacing)\n",
    "    # Centred cylinder with two embedded cylinders\n",
    "    primary_cylinder = make_vertical_cylinder(roi_num=1, radius=5, length=0.7,\n",
    "                                              spacing=slice_spacing)\n",
    "    # cylinder with interior borders\n",
    "    overlapping_cylinder = make_vertical_cylinder(roi_num=2, radius=3,\n",
    "                                                  length=0.9,\n",
    "                                                  spacing=slice_spacing)\n",
    "\n",
    "    # combine the contours\n",
    "    slice_data = pd.concat([body, primary_cylinder, overlapping_cylinder])\n",
    "    # convert contour slice data into a table of slices and structures\n",
    "    slice_table = make_slice_table(slice_data, ignore_errors=True)\n",
    "    return slice_table\n"
   ]
  },
  {
   "cell_type": "code",
   "execution_count": null,
   "metadata": {},
   "outputs": [
    {
     "name": "stdout",
     "output_type": "stream",
     "text": [
      "Relationship: Overlaps\n"
     ]
    }
   ],
   "source": [
    "slice_table = overlapping_extended_cylinder()\n",
    "regions = generate_region_graph(slice_table)\n",
    "selected_roi = [1, 2]\n",
    "relation = find_relations(slice_table, regions, selected_roi)\n",
    "relation_type = relation.identify_relation()\n",
    "print(relation_type)\n",
    "assert relation_type == RelationshipType.OVERLAPS"
   ]
  },
  {
   "cell_type": "markdown",
   "metadata": {},
   "source": [
    "# Done to Here"
   ]
  },
  {
   "cell_type": "markdown",
   "metadata": {},
   "source": [
    "## Equals"
   ]
  },
  {
   "cell_type": "markdown",
   "metadata": {},
   "source": [
    "<link rel=\"stylesheet\" href=\"relations.css\">\n",
    "<table width=\"350px\">\n",
    "<tr class=\"l\"><th>Equals</th><th>Symmetric, Transitive</th></tr>\n",
    "<td class=\"d\" colspan=\"2\">\n",
    "The interiors of <span class=\"a\">a</span> and <span class=\"b\">b</span> \n",
    "intersect and no part of the interior of one geometry intersects the exterior of the other.\n",
    "</td></tr>\n",
    "<tr><td colspan=\"2\">\n",
    "<img src=\"Images/Relationships/equals.png\" alt=\"Equals\">\n",
    "</td></tr></table>"
   ]
  },
  {
   "cell_type": "markdown",
   "metadata": {},
   "source": [
    "### Equal Spheres \n"
   ]
  },
  {
   "cell_type": "code",
   "execution_count": 101,
   "metadata": {},
   "outputs": [],
   "source": [
    "def equal_spheres_example():\n",
    "    slice_spacing = 0.5\n",
    "    # Body structure defines slices in use\n",
    "    body = make_vertical_cylinder(roi_num=0, radius=20, length=10,\n",
    "                                  spacing=slice_spacing)\n",
    "\n",
    "    a_sphere6 = make_sphere(roi_num=1, radius=6,\n",
    "                                spacing=slice_spacing)\n",
    "    b_sphere6 = make_sphere(roi_num=2, radius=6,\n",
    "                                spacing=slice_spacing)\n",
    "\n",
    "    # combine the contours\n",
    "    slice_data = pd.concat([body, a_sphere6, b_sphere6])\n",
    "    # convert contour slice data into a table of slices and structures\n",
    "    slice_table = make_slice_table(slice_data, ignore_errors=True)\n",
    "    return slice_table\n"
   ]
  },
  {
   "cell_type": "code",
   "execution_count": 102,
   "metadata": {},
   "outputs": [
    {
     "name": "stdout",
     "output_type": "stream",
     "text": [
      "Relationship: Equals\n"
     ]
    }
   ],
   "source": [
    "slice_table = equal_spheres_example()\n",
    "regions = generate_region_graph(slice_table)\n",
    "selected_roi = [1, 2]\n",
    "relation = find_relations(slice_table, regions, selected_roi)\n",
    "relation_type = relation.identify_relation()\n",
    "print(relation_type)\n",
    "assert relation_type == RelationshipType.EQUALS"
   ]
  },
  {
   "cell_type": "markdown",
   "metadata": {},
   "source": [
    "### Equal Boxes \n"
   ]
  },
  {
   "cell_type": "code",
   "execution_count": 268,
   "metadata": {},
   "outputs": [],
   "source": [
    "def equal_boxes():\n",
    "    slice_spacing = 0.1\n",
    "    # Body structure defines slices in use\n",
    "    body = make_vertical_cylinder(roi_num=0, radius=10, length=1,\n",
    "                                spacing=slice_spacing)\n",
    "    # overlapping boxes    # 6 cm x 6 cm box\n",
    "    a_box6 = make_box(roi_num=1, width=0.6, spacing=slice_spacing)\n",
    "    b_box6 = make_box(roi_num=2, width=0.6, spacing=slice_spacing)\n",
    "    # combine the contours\n",
    "    slice_data = pd.concat([a_box6, b_box6, body])\n",
    "    # convert contour slice data into a table of slices and structures\n",
    "    slice_table = make_slice_table(slice_data, ignore_errors=True)\n",
    "    return slice_table\n"
   ]
  },
  {
   "cell_type": "code",
   "execution_count": 269,
   "metadata": {},
   "outputs": [
    {
     "name": "stdout",
     "output_type": "stream",
     "text": [
      "Relationship: Equals\n"
     ]
    }
   ],
   "source": [
    "slice_table = equal_boxes()\n",
    "regions = generate_region_graph(slice_table)\n",
    "selected_roi = [1, 2]\n",
    "relation = find_relations(slice_table, regions, selected_roi)\n",
    "relation_type = relation.identify_relation()\n",
    "print(relation_type)\n",
    "assert relation_type == RelationshipType.EQUALS"
   ]
  },
  {
   "cell_type": "markdown",
   "metadata": {},
   "source": [
    "### Equal box created by cropping a larger box."
   ]
  },
  {
   "cell_type": "code",
   "execution_count": 326,
   "metadata": {},
   "outputs": [],
   "source": [
    "def equal_boxes_by_crop():\n",
    "    def apply_crop(p):\n",
    "        # polygon made from offset boxed resulting in a 4x4 square hole in the\n",
    "        # middle.\n",
    "        left_xy_points = box_points(width=0.8, offset_x=0.6, offset_y=0)\n",
    "        left_crop = shapely.Polygon(left_xy_points)\n",
    "        right_xy_points = box_points(width=0.8, offset_x=-0.6, offset_y=0)\n",
    "        right_crop = shapely.Polygon(right_xy_points)\n",
    "        up_xy_points = box_points(width=0.8, offset_x=0, offset_y=0.6)\n",
    "        up_crop = shapely.Polygon(up_xy_points)\n",
    "        down_xy_points = box_points(width=0.8, offset_x=0, offset_y=-0.6)\n",
    "        down_crop = shapely.Polygon(down_xy_points)\n",
    "        crop_poly = shapely.union_all([left_crop, right_crop,\n",
    "                                       up_crop, down_crop])\n",
    "        cropped = p - crop_poly\n",
    "        return poly_round(cropped)\n",
    "\n",
    "    slice_spacing = 0.1\n",
    "    body = make_vertical_cylinder(roi_num=0, radius=10, length=1,\n",
    "                                  spacing=slice_spacing)\n",
    "    box8 = make_box(roi_num=1, width=0.8, spacing=slice_spacing)\n",
    "    box4 = make_box(roi_num=2, width=0.4, spacing=slice_spacing)\n",
    "\n",
    "    poly_a = box8.loc[(slice(None), slice(-0.2, 0.2)), :].copy()\n",
    "    poly_a.Contour = poly_a.Contour.apply(apply_crop)\n",
    "    slice_data = pd.concat([poly_a, box4, body])\n",
    "    slice_table = make_slice_table(slice_data, ignore_errors=True)\n",
    "    return slice_table\n"
   ]
  },
  {
   "cell_type": "code",
   "execution_count": 327,
   "metadata": {},
   "outputs": [
    {
     "name": "stdout",
     "output_type": "stream",
     "text": [
      "Relationship: Equals\n"
     ]
    }
   ],
   "source": [
    "slice_table = equal_boxes_by_crop()\n",
    "regions = generate_region_graph(slice_table)\n",
    "selected_roi = [1, 2]\n",
    "relation = find_relations(slice_table, regions, selected_roi)\n",
    "relation_type = relation.identify_relation()\n",
    "print(relation_type)\n",
    "assert relation_type == RelationshipType.EQUALS"
   ]
  }
 ],
 "metadata": {
  "kernelspec": {
   "display_name": "StructureRelations",
   "language": "python",
   "name": "python3"
  },
  "language_info": {
   "codemirror_mode": {
    "name": "ipython",
    "version": 3
   },
   "file_extension": ".py",
   "mimetype": "text/x-python",
   "name": "python",
   "nbconvert_exporter": "python",
   "pygments_lexer": "ipython3",
   "version": "3.11.9"
  }
 },
 "nbformat": 4,
 "nbformat_minor": 4
}
