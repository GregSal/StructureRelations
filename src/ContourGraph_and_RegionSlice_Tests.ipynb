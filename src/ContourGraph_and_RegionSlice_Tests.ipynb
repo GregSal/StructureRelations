{
 "cells": [
  {
   "cell_type": "markdown",
   "metadata": {},
   "source": [
    "# Temporary Notebook for testing ContourGraph and RegionSlice creation\n"
   ]
  },
  {
   "cell_type": "code",
   "execution_count": 1,
   "metadata": {},
   "outputs": [],
   "source": [
    "from collections import defaultdict\n",
    "from collections import Counter\n",
    "\n",
    "import pandas as pd\n",
    "from shapely.geometry import Polygon\n"
   ]
  },
  {
   "cell_type": "code",
   "execution_count": 2,
   "metadata": {},
   "outputs": [],
   "source": [
    "# Local functions and classes\n",
    "from types_and_classes import *\n",
    "from utilities import *\n",
    "from contours import *\n",
    "from contour_graph import *\n",
    "from debug_tools import *\n",
    "#from structures import *\n",
    "from region_slice import *\n",
    "#from structure_set import *\n",
    "from relations import *\n"
   ]
  },
  {
   "cell_type": "markdown",
   "metadata": {},
   "source": [
    "### Global Settings"
   ]
  },
  {
   "cell_type": "code",
   "execution_count": 3,
   "metadata": {},
   "outputs": [],
   "source": [
    "PRECISION = 2"
   ]
  },
  {
   "cell_type": "code",
   "execution_count": 4,
   "metadata": {},
   "outputs": [],
   "source": [
    "%matplotlib inline"
   ]
  },
  {
   "cell_type": "markdown",
   "metadata": {},
   "source": [
    "# RegionSlice Not Including Island"
   ]
  },
  {
   "cell_type": "code",
   "execution_count": 5,
   "metadata": {},
   "outputs": [],
   "source": [
    "box10x5 = box_points(10,5)\n",
    "circle4_left = circle_points(2, offset_x=-3)\n",
    "circle3_right = circle_points(1.5, offset_x=3)\n",
    "circle2_left = circle_points(1, offset_x=-3, offset_y=0.5)\n",
    "circle2_right = circle_points(1, offset_x=3)\n",
    "slice_data = [\n",
    "    ContourPoints(box10x5, roi=0, slice_index=1.0),\n",
    "    ContourPoints(circle4_left, roi=0, slice_index=1.0),\n",
    "    ContourPoints(circle3_right, roi=0, slice_index=1.0),\n",
    "    ContourPoints(circle2_right, roi=0, slice_index=1.0),\n",
    "    ContourPoints(circle2_left, roi=1, slice_index=1.0)\n",
    "    ]\n",
    "contour_table, slice_sequence = build_contour_table(slice_data)\n",
    "contour_graph_a, slice_sequence = build_contour_graph(contour_table,\n",
    "                                                    slice_sequence,\n",
    "                                                    roi=0)\n",
    "contour_graph_b, slice_sequence = build_contour_graph(contour_table,\n",
    "                                                    slice_sequence,\n",
    "                                                    roi=1)\n"
   ]
  },
  {
   "cell_type": "code",
   "execution_count": 6,
   "metadata": {},
   "outputs": [
    {
     "data": {
      "application/vnd.microsoft.datawrangler.viewer.v0+json": {
       "columns": [
        {
         "name": "index",
         "rawType": "int64",
         "type": "integer"
        },
        {
         "name": "SliceIndex",
         "rawType": "float64",
         "type": "float"
        },
        {
         "name": "HoleType",
         "rawType": "category",
         "type": "unknown"
        },
        {
         "name": "Label",
         "rawType": "object",
         "type": "unknown"
        }
       ],
       "ref": "35541d97-d0a2-4fcc-b7d5-c77904600a49",
       "rows": [
        [
         "0",
         "1.0",
         "None",
         "(0, 1.0, 0)"
        ],
        [
         "1",
         "1.0",
         "Unknown",
         "(0, 1.0, 1)"
        ],
        [
         "2",
         "1.0",
         "Unknown",
         "(0, 1.0, 2)"
        ],
        [
         "3",
         "1.0",
         "None",
         "(0, 1.0, 3)"
        ]
       ],
       "shape": {
        "columns": 3,
        "rows": 4
       }
      },
      "text/html": [
       "<div>\n",
       "<style scoped>\n",
       "    .dataframe tbody tr th:only-of-type {\n",
       "        vertical-align: middle;\n",
       "    }\n",
       "\n",
       "    .dataframe tbody tr th {\n",
       "        vertical-align: top;\n",
       "    }\n",
       "\n",
       "    .dataframe thead th {\n",
       "        text-align: right;\n",
       "    }\n",
       "</style>\n",
       "<table border=\"1\" class=\"dataframe\">\n",
       "  <thead>\n",
       "    <tr style=\"text-align: right;\">\n",
       "      <th></th>\n",
       "      <th>SliceIndex</th>\n",
       "      <th>HoleType</th>\n",
       "      <th>Label</th>\n",
       "    </tr>\n",
       "  </thead>\n",
       "  <tbody>\n",
       "    <tr>\n",
       "      <th>0</th>\n",
       "      <td>1.0</td>\n",
       "      <td>None</td>\n",
       "      <td>(0, 1.0, 0)</td>\n",
       "    </tr>\n",
       "    <tr>\n",
       "      <th>1</th>\n",
       "      <td>1.0</td>\n",
       "      <td>Unknown</td>\n",
       "      <td>(0, 1.0, 1)</td>\n",
       "    </tr>\n",
       "    <tr>\n",
       "      <th>2</th>\n",
       "      <td>1.0</td>\n",
       "      <td>Unknown</td>\n",
       "      <td>(0, 1.0, 2)</td>\n",
       "    </tr>\n",
       "    <tr>\n",
       "      <th>3</th>\n",
       "      <td>1.0</td>\n",
       "      <td>None</td>\n",
       "      <td>(0, 1.0, 3)</td>\n",
       "    </tr>\n",
       "  </tbody>\n",
       "</table>\n",
       "</div>"
      ],
      "text/plain": [
       "   SliceIndex HoleType        Label\n",
       "0         1.0     None  (0, 1.0, 0)\n",
       "1         1.0  Unknown  (0, 1.0, 1)\n",
       "2         1.0  Unknown  (0, 1.0, 2)\n",
       "3         1.0     None  (0, 1.0, 3)"
      ]
     },
     "execution_count": 6,
     "metadata": {},
     "output_type": "execute_result"
    }
   ],
   "source": [
    "contour_lookup = build_contour_lookup(contour_graph_a)\n",
    "\n",
    "contour_lookup.loc[contour_lookup.ROI==0, ['SliceIndex', 'HoleType', 'Label']]"
   ]
  },
  {
   "cell_type": "code",
   "execution_count": 7,
   "metadata": {},
   "outputs": [
    {
     "data": {
      "image/svg+xml": [
       "<svg xmlns=\"http://www.w3.org/2000/svg\" xmlns:xlink=\"http://www.w3.org/1999/xlink\" width=\"100.0\" height=\"100.0\" viewBox=\"-5.4 -2.9 10.8 5.8\" preserveAspectRatio=\"xMinYMin meet\"><g transform=\"matrix(1,0,0,-1,0,0.0)\"><path fill-rule=\"evenodd\" fill=\"#66cc99\" stroke=\"#555555\" stroke-width=\"0.21600000000000003\" opacity=\"0.6\" d=\"M -5.0,0.0 L -5.0,2.5 L 5.0,2.5 L 5.0,-2.5 L -5.0,-2.5 L -5.0,0.0 z M -4.848,-0.765 L -4.414,-1.414 L -3.765,-1.848 L -3.0,-2.0 L -2.235,-1.848 L -1.586,-1.414 L -1.152,-0.765 L -1.0,0.0 L -1.152,0.765 L -1.586,1.414 L -2.235,1.848 L -3.0,2.0 L -3.765,1.848 L -4.414,1.414 L -4.848,0.765 L -5.0,0.0 L -4.848,-0.765 z M 1.939,1.061 L 1.614,0.574 L 1.5,0.0 L 1.614,-0.574 L 1.939,-1.061 L 2.426,-1.386 L 3.0,-1.5 L 3.574,-1.386 L 4.061,-1.061 L 4.386,-0.574 L 4.5,0.0 L 4.386,0.574 L 4.061,1.061 L 3.574,1.386 L 3.0,1.5 L 2.426,1.386 L 1.939,1.061 z\" /></g></svg>"
      ],
      "text/plain": [
       "<POLYGON Z ((-5 0 1, -5 2.5 1, 5 2.5 1, 5 -2.5 1, -5 -2.5 1, -5 0 1), (-4.84...>"
      ]
     },
     "execution_count": 7,
     "metadata": {},
     "output_type": "execute_result"
    }
   ],
   "source": [
    "selected_label = contour_lookup.Label.iloc[0]\n",
    "this_contour = contour_graph_a.nodes(data=True)[selected_label]['contour']\n",
    "this_contour.polygon_with_holes"
   ]
  },
  {
   "cell_type": "code",
   "execution_count": 8,
   "metadata": {},
   "outputs": [
    {
     "data": {
      "image/svg+xml": [
       "<svg xmlns=\"http://www.w3.org/2000/svg\" xmlns:xlink=\"http://www.w3.org/1999/xlink\" width=\"100.0\" height=\"100.0\" viewBox=\"1.92 -1.08 2.16 2.16\" preserveAspectRatio=\"xMinYMin meet\"><g transform=\"matrix(1,0,0,-1,0,0.0)\"><path fill-rule=\"evenodd\" fill=\"#66cc99\" stroke=\"#555555\" stroke-width=\"0.0432\" opacity=\"0.6\" d=\"M 3.0,1.0 L 3.383,0.924 L 3.707,0.707 L 3.924,0.383 L 4.0,0.0 L 3.924,-0.383 L 3.707,-0.707 L 3.383,-0.924 L 3.0,-1.0 L 2.617,-0.924 L 2.293,-0.707 L 2.076,-0.383 L 2.0,0.0 L 2.076,0.383 L 2.293,0.707 L 2.617,0.924 L 3.0,1.0 z\" /></g></svg>"
      ],
      "text/plain": [
       "<POLYGON Z ((3 1 1, 3.383 0.9 1, 3.707 0.7 1, 3.924 0.4 1, 4 0 1, 3.924 -0.4...>"
      ]
     },
     "execution_count": 8,
     "metadata": {},
     "output_type": "execute_result"
    }
   ],
   "source": [
    "island_contour = contour_graph_a.nodes(data=True)[contour_lookup.Label.iloc[3]]['contour']\n",
    "island_contour.polygon_with_holes"
   ]
  },
  {
   "cell_type": "code",
   "execution_count": 9,
   "metadata": {},
   "outputs": [
    {
     "data": {
      "image/svg+xml": [
       "<svg xmlns=\"http://www.w3.org/2000/svg\" xmlns:xlink=\"http://www.w3.org/1999/xlink\" width=\"100.0\" height=\"100.0\" viewBox=\"-5.4 -2.9 10.8 5.8\" preserveAspectRatio=\"xMinYMin meet\"><g transform=\"matrix(1,0,0,-1,0,0.0)\"><g><path fill-rule=\"evenodd\" fill=\"#66cc99\" stroke=\"#555555\" stroke-width=\"0.21600000000000003\" opacity=\"0.6\" d=\"M -5.0,2.5 L 5.0,2.5 L 5.0,-2.5 L -5.0,-2.5 L -5.0,0.0 L -5.0,2.5 z M -4.848,-0.765 L -4.414,-1.414 L -3.765,-1.848 L -3.0,-2.0 L -2.235,-1.848 L -1.586,-1.414 L -1.152,-0.765 L -1.0,0.0 L -1.152,0.765 L -1.586,1.414 L -2.235,1.848 L -3.0,2.0 L -3.765,1.848 L -4.414,1.414 L -4.848,0.765 L -5.0,0.0 L -4.848,-0.765 z M 1.614,0.574 L 1.5,0.0 L 1.614,-0.574 L 1.939,-1.061 L 2.426,-1.386 L 3.0,-1.5 L 3.574,-1.386 L 4.061,-1.061 L 4.386,-0.574 L 4.5,0.0 L 4.386,0.574 L 4.061,1.061 L 3.574,1.386 L 3.0,1.5 L 2.426,1.386 L 1.939,1.061 L 1.614,0.574 z\" /><path fill-rule=\"evenodd\" fill=\"#66cc99\" stroke=\"#555555\" stroke-width=\"0.21600000000000003\" opacity=\"0.6\" d=\"M 3.383,0.924 L 3.707,0.707 L 3.924,0.383 L 4.0,0.0 L 3.924,-0.383 L 3.707,-0.707 L 3.383,-0.924 L 3.0,-1.0 L 2.617,-0.924 L 2.293,-0.707 L 2.076,-0.383 L 2.0,0.0 L 2.076,0.383 L 2.293,0.707 L 2.617,0.924 L 3.0,1.0 L 3.383,0.924 z\" /></g></g></svg>"
      ],
      "text/plain": [
       "<MULTIPOLYGON Z (((-5 2.5 1, 5 2.5 1, 5 -2.5 1, -5 -2.5 1, -5 0 1, -5 2.5 1)...>"
      ]
     },
     "execution_count": 9,
     "metadata": {},
     "output_type": "execute_result"
    }
   ],
   "source": [
    "shapely.union_all([this_contour.polygon_with_holes, island_contour.polygon_with_holes])"
   ]
  },
  {
   "cell_type": "code",
   "execution_count": 10,
   "metadata": {},
   "outputs": [
    {
     "data": {
      "image/png": "[encoded data removed]",
      "text/plain": [
       "<Figure size 400x200 with 1 Axes>"
      ]
     },
     "metadata": {},
     "output_type": "display_data"
    }
   ],
   "source": [
    "a = RegionSlice(contour_graph_a, slice_index=1.0)\n",
    "b = RegionSlice(contour_graph_b, slice_index=1.0)\n",
    "ax = plot_ab(a.regions['0A'], b.regions['1A'])\n",
    "plt.show()"
   ]
  },
  {
   "cell_type": "code",
   "execution_count": 11,
   "metadata": {},
   "outputs": [
    {
     "data": {
      "text/plain": [
       "1"
      ]
     },
     "execution_count": 11,
     "metadata": {},
     "output_type": "execute_result"
    }
   ],
   "source": [
    "len(a.regions)"
   ]
  },
  {
   "cell_type": "code",
   "execution_count": 12,
   "metadata": {},
   "outputs": [
    {
     "data": {
      "image/svg+xml": [
       "<svg xmlns=\"http://www.w3.org/2000/svg\" xmlns:xlink=\"http://www.w3.org/1999/xlink\" width=\"100.0\" height=\"100.0\" viewBox=\"-5.4 -2.9 10.8 5.8\" preserveAspectRatio=\"xMinYMin meet\"><g transform=\"matrix(1,0,0,-1,0,0.0)\"><g><path fill-rule=\"evenodd\" fill=\"#66cc99\" stroke=\"#555555\" stroke-width=\"0.21600000000000003\" opacity=\"0.6\" d=\"M -5.0,-2.5 L -5.0,0.0 L -5.0,2.5 L 5.0,2.5 L 5.0,-2.5 L -5.0,-2.5 z M -4.848,-0.765 L -4.414,-1.414 L -3.765,-1.848 L -3.0,-2.0 L -2.235,-1.848 L -1.586,-1.414 L -1.152,-0.765 L -1.0,0.0 L -1.152,0.765 L -1.586,1.414 L -2.235,1.848 L -3.0,2.0 L -3.765,1.848 L -4.414,1.414 L -4.848,0.765 L -5.0,0.0 L -4.848,-0.765 z\" /></g></g></svg>"
      ],
      "text/plain": [
       "<MULTIPOLYGON Z (((-5 -2.5 1, -5 0 1, -5 2.5 1, 5 2.5 1, 5 -2.5 1, -5 -2.5 1...>"
      ]
     },
     "execution_count": 12,
     "metadata": {},
     "output_type": "execute_result"
    }
   ],
   "source": [
    "[r for r in a.regions.values()][0]"
   ]
  },
  {
   "cell_type": "code",
   "execution_count": 13,
   "metadata": {},
   "outputs": [],
   "source": [
    "c_list = [r for r in a.embedded_regions.values()][0]\n",
    "#c_list\n"
   ]
  },
  {
   "cell_type": "code",
   "execution_count": 14,
   "metadata": {},
   "outputs": [],
   "source": [
    "poly_list = [c.polygon for c in c_list]\n",
    "#poly_list"
   ]
  },
  {
   "cell_type": "code",
   "execution_count": 15,
   "metadata": {},
   "outputs": [
    {
     "data": {
      "image/svg+xml": [
       "<svg xmlns=\"http://www.w3.org/2000/svg\" xmlns:xlink=\"http://www.w3.org/1999/xlink\" width=\"100.0\" height=\"100.0\" viewBox=\"-5.16 -2.16 4.32 4.32\" preserveAspectRatio=\"xMinYMin meet\"><g transform=\"matrix(1,0,0,-1,0,0.0)\"><path fill-rule=\"evenodd\" fill=\"#66cc99\" stroke=\"#555555\" stroke-width=\"0.0864\" opacity=\"0.6\" d=\"M -3.0,2.0 L -2.235,1.848 L -1.586,1.414 L -1.152,0.765 L -1.0,0.0 L -1.152,-0.765 L -1.586,-1.414 L -2.235,-1.848 L -3.0,-2.0 L -3.765,-1.848 L -4.414,-1.414 L -4.848,-0.765 L -5.0,0.0 L -4.848,0.765 L -4.414,1.414 L -3.765,1.848 L -3.0,2.0 z\" /></g></svg>"
      ],
      "text/plain": [
       "<POLYGON Z ((-3 2 1, -2.235 1.848 1, -1.586 1.414 1, -1.152 0.8 1, -1 0 1, -...>"
      ]
     },
     "execution_count": 15,
     "metadata": {},
     "output_type": "execute_result"
    }
   ],
   "source": [
    "shapely.union_all(poly_list)"
   ]
  },
  {
   "cell_type": "code",
   "execution_count": null,
   "metadata": {},
   "outputs": [],
   "source": [
    "def get_region_contours(contour_graph: nx.Graph,\n",
    "                        contour_reference: pd.DataFrame,\n",
    "                        related_regions: List[RegionIndex])->List[Contour]:\n",
    "    '''Return the contours for the specified regions.'''\n",
    "    region_selection = contour_reference['RegionIndex'].isin(related_regions)\n",
    "    region_reference = contour_reference.loc[region_selection]\n",
    "    contour_labels = region_reference['Label'].tolist()\n",
    "    contour_data = dict(contour_graph.nodes.data('contour'))\n",
    "    region_contours = [contour_data[label] for label in contour_labels]\n",
    "    return region_contours"
   ]
  },
  {
   "cell_type": "code",
   "execution_count": 17,
   "metadata": {},
   "outputs": [],
   "source": [
    "slice_index = 1.0\n",
    "selected_contours = contour_lookup['SliceIndex'] == slice_index\n",
    "reference_columns = ['Label', 'RegionIndex',\n",
    "                        'HoleType', 'Interpolated', 'Boundary']\n",
    "contour_reference = contour_lookup.loc[selected_contours,\n",
    "                                        reference_columns]\n",
    "region_set = set(contour_reference.RegionIndex)"
   ]
  },
  {
   "cell_type": "code",
   "execution_count": 18,
   "metadata": {},
   "outputs": [
    {
     "data": {
      "text/plain": [
       "{'0A', '0B', '0C', '0D'}"
      ]
     },
     "execution_count": 18,
     "metadata": {},
     "output_type": "execute_result"
    }
   ],
   "source": [
    "region_set"
   ]
  },
  {
   "cell_type": "markdown",
   "metadata": {},
   "source": [
    "- `pop()` from list seems to always take the first `list` element, but and arbitrary `set` element.\n",
    "- Does order matter?"
   ]
  },
  {
   "cell_type": "code",
   "execution_count": 19,
   "metadata": {},
   "outputs": [
    {
     "data": {
      "text/plain": [
       "'0A'"
      ]
     },
     "execution_count": 19,
     "metadata": {},
     "output_type": "execute_result"
    }
   ],
   "source": [
    "list(region_set).pop()"
   ]
  },
  {
   "cell_type": "code",
   "execution_count": 20,
   "metadata": {},
   "outputs": [
    {
     "data": {
      "text/plain": [
       "'0C'"
      ]
     },
     "execution_count": 20,
     "metadata": {},
     "output_type": "execute_result"
    }
   ],
   "source": [
    "region_index = region_set.pop()\n",
    "region_index"
   ]
  },
  {
   "cell_type": "code",
   "execution_count": null,
   "metadata": {},
   "outputs": [
    {
     "data": {
      "text/plain": [
       "[<contours.Contour at 0x246916c5550>]"
      ]
     },
     "execution_count": 21,
     "metadata": {},
     "output_type": "execute_result"
    }
   ],
   "source": [
    "region_contours = get_region_contours(contour_graph_a, contour_reference,\n",
    "                                      [region_index])\n",
    "region_contours"
   ]
  },
  {
   "cell_type": "code",
   "execution_count": 22,
   "metadata": {},
   "outputs": [
    {
     "data": {
      "image/svg+xml": [
       "<svg xmlns=\"http://www.w3.org/2000/svg\" xmlns:xlink=\"http://www.w3.org/1999/xlink\" width=\"100.0\" height=\"100.0\" viewBox=\"1.38 -1.62 3.24 3.24\" preserveAspectRatio=\"xMinYMin meet\"><g transform=\"matrix(1,0,0,-1,0,0.0)\"><path fill-rule=\"evenodd\" fill=\"#66cc99\" stroke=\"#555555\" stroke-width=\"0.06480000000000001\" opacity=\"0.6\" d=\"M 3.0,1.5 L 3.574,1.386 L 4.061,1.061 L 4.386,0.574 L 4.5,0.0 L 4.386,-0.574 L 4.061,-1.061 L 3.574,-1.386 L 3.0,-1.5 L 2.426,-1.386 L 1.939,-1.061 L 1.614,-0.574 L 1.5,0.0 L 1.614,0.574 L 1.939,1.061 L 2.426,1.386 L 3.0,1.5 z\" /></g></svg>"
      ],
      "text/plain": [
       "<POLYGON Z ((3 1.5 1, 3.574 1.386 1, 4.061 1.061 1, 4.386 0.6 1, 4.5 0 1, 4....>"
      ]
     },
     "execution_count": 22,
     "metadata": {},
     "output_type": "execute_result"
    }
   ],
   "source": [
    "region_contours[0].polygon"
   ]
  },
  {
   "cell_type": "code",
   "execution_count": 23,
   "metadata": {},
   "outputs": [
    {
     "data": {
      "text/plain": [
       "True"
      ]
     },
     "execution_count": 23,
     "metadata": {},
     "output_type": "execute_result"
    }
   ],
   "source": [
    "region_contours[0].is_hole"
   ]
  },
  {
   "cell_type": "code",
   "execution_count": 24,
   "metadata": {},
   "outputs": [
    {
     "data": {
      "text/plain": [
       "{(0, 1.0, 0), (0, 1.0, 3)}"
      ]
     },
     "execution_count": 24,
     "metadata": {},
     "output_type": "execute_result"
    }
   ],
   "source": [
    "related_contours_indexes = set()\n",
    "for contour in region_contours:\n",
    "    related_contours_indexes.update(set(contour.related_contours))\n",
    "related_contours_indexes"
   ]
  },
  {
   "cell_type": "raw",
   "metadata": {
    "vscode": {
     "languageId": "raw"
    }
   },
   "source": [
    "r = DE27IM(a,b)\n",
    "\n",
    "print(str(r))\n",
    "print(r.identify_relation())"
   ]
  },
  {
   "cell_type": "raw",
   "metadata": {
    "vscode": {
     "languageId": "raw"
    }
   },
   "source": [
    "box10x5 = box_points(10,5)\n",
    "slice_data = [ContourPoints(box10x5, roi=0, slice_index=1.0)]\n",
    "contour_table, slice_sequence = build_contour_table(slice_data)\n",
    "\n",
    "graph_a, slice_sequence = build_contour_graph(contour_table,\n",
    "                                                    slice_sequence,\n",
    "                                                    roi=1)"
   ]
  },
  {
   "cell_type": "raw",
   "metadata": {
    "vscode": {
     "languageId": "raw"
    }
   },
   "source": [
    "def surrounds_example3():\n",
    "    box10x5 = box_points(10,5)\n",
    "    circle4_left = circle_points(2, offset_x=-3)\n",
    "    circle3_right = circle_points(1.5, offset_x=3)\n",
    "    circle2_left = circle_points(1, offset_x=-3, offset_y=0.5)\n",
    "    circle2_right = circle_points(1, offset_x=3)\n",
    "    slice_data = [\n",
    "        ContourPoints(box10x5, roi=0, slice_index=1.0),\n",
    "        ContourPoints(circle4_left, roi=0, slice_index=1.0),\n",
    "        ContourPoints(circle3_right, roi=0, slice_index=1.0),\n",
    "        ContourPoints(circle2_right, roi=0, slice_index=1.0),\n",
    "        ContourPoints(circle2_left, roi=1, slice_index=1.0),\n",
    "        ]\n",
    "    contour_table, slice_sequence = build_contour_table(slice_data)\n",
    "    contour_graph_a, slice_sequence = build_contour_graph(contour_table,\n",
    "                                                        slice_sequence,\n",
    "                                                        roi=0)\n",
    "    contour_graph_b, slice_sequence = build_contour_graph(contour_table,\n",
    "                                                        slice_sequence,\n",
    "                                                        roi=1)\n",
    "    region_slice_a = RegionSlice(contour_graph_a, slice_index=1.0)\n",
    "    region_slice_b = RegionSlice(contour_graph_b, slice_index=1.0)\n",
    "    return region_slice_a, region_slice_b\n",
    "\n",
    "\n",
    "a, b = surrounds_example3()\n",
    "ax = plot_ab(a.regions['0A'], b.regions['1A'])\n",
    "plt.show()\n",
    "\n",
    "r = DE27IM(a,b)\n",
    "\n",
    "print(str(r))\n",
    "print(r.identify_relation())"
   ]
  },
  {
   "cell_type": "raw",
   "metadata": {
    "vscode": {
     "languageId": "raw"
    }
   },
   "source": [
    "lookup = build_contour_lookup(contour_graph_a)\n",
    "lookup"
   ]
  },
  {
   "cell_type": "raw",
   "metadata": {
    "vscode": {
     "languageId": "raw"
    }
   },
   "source": [
    "box10x5 = box_points(10,5)\n",
    "circle4_left = circle_points(2, offset_x=-3)\n",
    "circle3_right = circle_points(1.5, offset_x=3)\n",
    "circle2_left = circle_points(1, offset_x=-3, offset_y=0.5)\n",
    "circle2_right = circle_points(1, offset_x=3)\n",
    "slice_data = [\n",
    "    ContourPoints(box10x5, roi=0, slice_index=0.0),\n",
    "    ContourPoints(box10x5, roi=0, slice_index=1.0),\n",
    "    ContourPoints(box10x5, roi=0, slice_index=2.0),\n",
    "\n",
    "    ContourPoints(circle4_left, roi=0, slice_index=0.0),\n",
    "    ContourPoints(circle4_left, roi=0, slice_index=1.0),\n",
    "    ContourPoints(circle4_left, roi=0, slice_index=2.0),\n",
    "\n",
    "    ContourPoints(circle3_right, roi=0, slice_index=0.0),\n",
    "    ContourPoints(circle3_right, roi=0, slice_index=1.0),\n",
    "    ContourPoints(circle3_right, roi=0, slice_index=2.0),\n",
    "\n",
    "    ContourPoints(circle2_right, roi=0, slice_index=0.0),\n",
    "    ContourPoints(circle2_right, roi=0, slice_index=1.0),\n",
    "    ContourPoints(circle2_right, roi=0, slice_index=2.0),\n",
    "\n",
    "    ContourPoints(circle2_left, roi=1, slice_index=0.0),\n",
    "    ContourPoints(circle2_left, roi=1, slice_index=1.0),\n",
    "    ContourPoints(circle2_left, roi=1, slice_index=2.0)\n",
    "\n",
    "]\n",
    "\n",
    "contour_table, slice_sequence = build_contour_table(slice_data)\n",
    "\n",
    "contour_graph = nx.Graph()\n",
    "roi=0\n",
    "contour_by_slice = build_contours(contour_table, roi)\n",
    "for contour_data in contour_by_slice.values():\n",
    "        for contour in contour_data:\n",
    "            contour_label = contour.index\n",
    "            contour_graph.add_node(contour_label, contour=contour)\n",
    "contour_graph = add_graph_edges(contour_graph, slice_sequence)"
   ]
  },
  {
   "cell_type": "raw",
   "metadata": {
    "vscode": {
     "languageId": "raw"
    }
   },
   "source": [
    "nx.draw(contour_graph, with_labels=True,\n",
    "           pos=nx.arf_layout(contour_graph))\n",
    "plt.show()"
   ]
  },
  {
   "cell_type": "raw",
   "metadata": {
    "vscode": {
     "languageId": "raw"
    }
   },
   "source": [
    "contour_lookup = build_contour_lookup(contour_graph)\n",
    "\n",
    "contour_lookup.loc[contour_lookup.ROI==0, ['SliceIndex', 'HoleType', 'Label']]"
   ]
  },
  {
   "cell_type": "markdown",
   "metadata": {},
   "source": [
    "# ERROR Using degree = 1 to identify boundaries will miss cases where there is a bifurcation in the contour."
   ]
  },
  {
   "cell_type": "raw",
   "metadata": {
    "vscode": {
     "languageId": "raw"
    }
   },
   "source": [
    "[(node, degree) for node, degree in contour_graph.degree()]"
   ]
  },
  {
   "cell_type": "raw",
   "metadata": {
    "vscode": {
     "languageId": "raw"
    }
   },
   "source": [
    "boundary_nodes = {node for node, degree in contour_graph.degree()\n",
    "                    if degree == 1}\n",
    "boundary_nodes"
   ]
  },
  {
   "cell_type": "markdown",
   "metadata": {},
   "source": [
    "- Crashing here because a boundary contour was already created for a contour and then it tries to create a second boundary contour for the same contour."
   ]
  },
  {
   "cell_type": "raw",
   "metadata": {
    "vscode": {
     "languageId": "raw"
    }
   },
   "source": [
    "contour_graph_a, slice_sequence = build_contour_graph(contour_table,\n",
    "                                                    slice_sequence,\n",
    "                                                    roi=0)"
   ]
  },
  {
   "cell_type": "raw",
   "metadata": {
    "vscode": {
     "languageId": "raw"
    }
   },
   "source": [
    "contour_graph_b, slice_sequence = build_contour_graph(contour_table,\n",
    "                                                    slice_sequence,\n",
    "                                                    roi=1)\n",
    "a = RegionSlice(contour_graph_a, slice_index=1.0)\n",
    "b = RegionSlice(contour_graph_b, slice_index=1.0)\n"
   ]
  },
  {
   "cell_type": "raw",
   "metadata": {
    "vscode": {
     "languageId": "raw"
    }
   },
   "source": [
    "ax = plot_ab(a.regions['0A'], b.regions['1A'])"
   ]
  },
  {
   "cell_type": "raw",
   "metadata": {
    "vscode": {
     "languageId": "raw"
    }
   },
   "source": [
    "a, b = surrounds_example3()"
   ]
  },
  {
   "cell_type": "raw",
   "metadata": {
    "vscode": {
     "languageId": "raw"
    }
   },
   "source": [
    "a.regions"
   ]
  },
  {
   "cell_type": "raw",
   "metadata": {
    "vscode": {
     "languageId": "raw"
    }
   },
   "source": [
    "\n",
    "circle6 = circle_points(3)\n",
    "circle5 = circle_points(2.5)\n",
    "circle4 = circle_points(2)\n",
    "circle3 = circle_points(1.5)\n",
    "circle2 = circle_points(1)\n",
    "slice_data = [\n",
    "    ContourPoints(circle6, roi=0, slice_index=0.0),\n",
    "    ContourPoints(circle6, roi=0, slice_index=1.0),\n",
    "    ContourPoints(circle6, roi=0, slice_index=2.0),\n",
    "    ContourPoints(circle5, roi=0, slice_index=0.0),\n",
    "    ContourPoints(circle5, roi=0, slice_index=1.0),\n",
    "    ContourPoints(circle5, roi=0, slice_index=2.0),\n",
    "    ContourPoints(circle2, roi=0, slice_index=0.0),\n",
    "    ContourPoints(circle2, roi=0, slice_index=1.0),\n",
    "    ContourPoints(circle2, roi=0, slice_index=2.0),\n",
    "    ContourPoints(circle4, roi=1, slice_index=0.0),\n",
    "    ContourPoints(circle4, roi=1, slice_index=1.0),\n",
    "    ContourPoints(circle4, roi=1, slice_index=2.0),\n",
    "    ContourPoints(circle3, roi=1, slice_index=0.0),\n",
    "    ContourPoints(circle3, roi=1, slice_index=1.0),\n",
    "    ContourPoints(circle3, roi=1, slice_index=2.0),\n",
    "]\n",
    "contour_table, slice_sequence = build_contour_table(slice_data)\n",
    "contour_graph_a, slice_sequence = build_contour_graph(contour_table,\n",
    "                                                    slice_sequence,\n",
    "                                                    roi=0)\n",
    "contour_graph_b, slice_sequence = build_contour_graph(contour_table,\n",
    "                                                    slice_sequence,\n",
    "                                                    roi=1)\n",
    "a = RegionSlice(contour_graph_a, slice_index=1.0)\n",
    "b = RegionSlice(contour_graph_b, slice_index=1.0)\n"
   ]
  },
  {
   "cell_type": "raw",
   "metadata": {
    "vscode": {
     "languageId": "raw"
    }
   },
   "source": [
    "ax = plot_ab(a.regions['0A'], b.regions['1A'])\n"
   ]
  },
  {
   "cell_type": "raw",
   "metadata": {
    "vscode": {
     "languageId": "raw"
    }
   },
   "source": [
    "\n",
    "r = DE27IM(a,b)\n",
    "\n",
    "print(str(r))\n",
    "print(r.identify_relation())\n"
   ]
  }
 ],
 "metadata": {
  "kernelspec": {
   "display_name": "StructureRelations",
   "language": "python",
   "name": "python3"
  },
  "language_info": {
   "codemirror_mode": {
    "name": "ipython",
    "version": 3
   },
   "file_extension": ".py",
   "mimetype": "text/x-python",
   "name": "python",
   "nbconvert_exporter": "python",
   "pygments_lexer": "ipython3",
   "version": "3.11.9"
  }
 },
 "nbformat": 4,
 "nbformat_minor": 4
}
