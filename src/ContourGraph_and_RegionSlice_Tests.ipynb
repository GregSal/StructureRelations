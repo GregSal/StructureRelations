{
 "cells": [
  {
   "cell_type": "markdown",
   "metadata": {},
   "source": [
    "# Temporary Notebook for testing ContourGraph and RegionSlice creation\n"
   ]
  },
  {
   "cell_type": "code",
   "execution_count": 1,
   "metadata": {},
   "outputs": [],
   "source": [
    "from collections import defaultdict\n",
    "from collections import Counter\n",
    "\n",
    "import pandas as pd\n",
    "from shapely.geometry import Polygon\n"
   ]
  },
  {
   "cell_type": "code",
   "execution_count": 2,
   "metadata": {},
   "outputs": [],
   "source": [
    "# Local functions and classes\n",
    "from types_and_classes import *\n",
    "from utilities import *\n",
    "from contours import *\n",
    "from contour_graph import *\n",
    "from debug_tools import *\n",
    "#from structures import *\n",
    "from region_slice import *\n",
    "#from structure_set import *\n",
    "from relations import *\n"
   ]
  },
  {
   "cell_type": "markdown",
   "metadata": {},
   "source": [
    "### Global Settings"
   ]
  },
  {
   "cell_type": "code",
   "execution_count": 3,
   "metadata": {},
   "outputs": [],
   "source": [
    "PRECISION = 2"
   ]
  },
  {
   "cell_type": "code",
   "execution_count": 4,
   "metadata": {},
   "outputs": [],
   "source": [
    "%matplotlib inline"
   ]
  },
  {
   "cell_type": "markdown",
   "metadata": {},
   "source": [
    "# RegionSlice requirements\n",
    "- The RegionIndexes used as keys in the dictionary attributes should match across slices as much as possible.\n",
    "- region MultiPolygons should include islands or relations might mistakenly identify a ring as overlapping whin it is interior to a shell, but exterior to an island.\n",
    "- boundaries must be kept separate even if they are related to the same region.\n",
    "- every contour of a given ROI on the same slice should be in the same RegionSlice"
   ]
  },
  {
   "cell_type": "code",
   "execution_count": 5,
   "metadata": {},
   "outputs": [
    {
     "data": {
      "image/png": "[encoded data removed]",
      "text/plain": [
       "<Figure size 400x200 with 1 Axes>"
      ]
     },
     "metadata": {},
     "output_type": "display_data"
    },
    {
     "name": "stdout",
     "output_type": "stream",
     "text": [
      "|001|\t|111|\t|111|\n",
      "|001|\t|001|\t|001|\n",
      "|111|\t|001|\t|001|\n",
      "\n",
      "Relationship: Surrounds\n"
     ]
    }
   ],
   "source": [
    "def surrounds_example3():\n",
    "    box10x5 = box_points(10,5)\n",
    "    circle4_left = circle_points(2, offset_x=-3)\n",
    "    circle3_right = circle_points(1.5, offset_x=3)\n",
    "    circle2_left = circle_points(1, offset_x=-3, offset_y=0.5)\n",
    "    circle2_right = circle_points(1, offset_x=3)\n",
    "    slice_data = [\n",
    "        ContourPoints(box10x5, roi=0, slice_index=1.0),\n",
    "        ContourPoints(circle4_left, roi=0, slice_index=1.0),\n",
    "        ContourPoints(circle3_right, roi=0, slice_index=1.0),\n",
    "        ContourPoints(circle2_right, roi=0, slice_index=1.0),\n",
    "        ContourPoints(circle2_left, roi=1, slice_index=1.0),\n",
    "        ]\n",
    "    contour_table, slice_sequence = build_contour_table(slice_data)\n",
    "    contour_graph_a, slice_sequence = build_contour_graph(contour_table,\n",
    "                                                        slice_sequence,\n",
    "                                                        roi=0)\n",
    "    contour_graph_b, slice_sequence = build_contour_graph(contour_table,\n",
    "                                                        slice_sequence,\n",
    "                                                        roi=1)\n",
    "    region_slice_a = RegionSlice(contour_graph_a, slice_index=1.0)\n",
    "    region_slice_b = RegionSlice(contour_graph_b, slice_index=1.0)\n",
    "    return region_slice_a, region_slice_b\n",
    "\n",
    "\n",
    "a, b = surrounds_example3()\n",
    "ax = plot_ab(a.regions['0A'], b.regions['1A'])\n",
    "plt.show()\n",
    "\n",
    "r = DE27IM(a,b)\n",
    "\n",
    "print(str(r))\n",
    "print(r.identify_relation())"
   ]
  },
  {
   "cell_type": "code",
   "execution_count": 6,
   "metadata": {},
   "outputs": [],
   "source": [
    "box10x5 = box_points(10,5)\n",
    "circle4_left = circle_points(2, offset_x=-3)\n",
    "circle3_right = circle_points(1.5, offset_x=3)\n",
    "circle2_left = circle_points(1, offset_x=-3, offset_y=0.5)\n",
    "circle2_right = circle_points(1, offset_x=3)\n",
    "slice_data = [\n",
    "    ContourPoints(box10x5, roi=0, slice_index=0.0),\n",
    "    ContourPoints(box10x5, roi=0, slice_index=1.0),\n",
    "    ContourPoints(box10x5, roi=0, slice_index=2.0),\n",
    "\n",
    "    ContourPoints(circle4_left, roi=0, slice_index=0.0),\n",
    "    ContourPoints(circle4_left, roi=0, slice_index=1.0),\n",
    "    ContourPoints(circle4_left, roi=0, slice_index=2.0),\n",
    "\n",
    "    ContourPoints(circle3_right, roi=0, slice_index=0.0),\n",
    "    ContourPoints(circle3_right, roi=0, slice_index=1.0),\n",
    "    ContourPoints(circle3_right, roi=0, slice_index=2.0),\n",
    "\n",
    "    ContourPoints(circle2_right, roi=0, slice_index=0.0),\n",
    "    ContourPoints(circle2_right, roi=0, slice_index=1.0),\n",
    "    ContourPoints(circle2_right, roi=0, slice_index=2.0),\n",
    "\n",
    "    ContourPoints(circle2_left, roi=1, slice_index=0.0),\n",
    "    ContourPoints(circle2_left, roi=1, slice_index=1.0),\n",
    "    ContourPoints(circle2_left, roi=1, slice_index=2.0)\n",
    "\n",
    "]\n",
    "\n",
    "contour_table, slice_sequence = build_contour_table(slice_data)\n",
    "\n",
    "contour_graph = nx.Graph()\n",
    "roi=0\n",
    "contour_by_slice = build_contours(contour_table, roi)\n",
    "for contour_data in contour_by_slice.values():\n",
    "        for contour in contour_data:\n",
    "            contour_label = contour.index\n",
    "            contour_graph.add_node(contour_label, contour=contour)\n",
    "contour_graph = add_graph_edges(contour_graph, slice_sequence)"
   ]
  },
  {
   "cell_type": "markdown",
   "metadata": {},
   "source": [
    "- Crashing here because a boundary contour was already created for a contour and then it tries to create a second boundary contour for the same contour."
   ]
  },
  {
   "cell_type": "code",
   "execution_count": 7,
   "metadata": {},
   "outputs": [
    {
     "ename": "InvalidSlice",
     "evalue": "Without interpolated_slice, starting_contour must reference a boundary slice.",
     "output_type": "error",
     "traceback": [
      "\u001b[1;31m---------------------------------------------------------------------------\u001b[0m",
      "\u001b[1;31mInvalidSlice\u001b[0m                              Traceback (most recent call last)",
      "Cell \u001b[1;32mIn[7], line 1\u001b[0m\n\u001b[1;32m----> 1\u001b[0m contour_graph_a, slice_sequence \u001b[38;5;241m=\u001b[39m build_contour_graph(contour_table,\n\u001b[0;32m      2\u001b[0m                                                     slice_sequence,\n\u001b[0;32m      3\u001b[0m                                                     roi\u001b[38;5;241m=\u001b[39m\u001b[38;5;241m0\u001b[39m)\n",
      "File \u001b[1;32mD:\\OneDrive - Queen's University\\Python\\Projects\\StructureRelations\\src\\contour_graph.py:647\u001b[0m, in \u001b[0;36mbuild_contour_graph\u001b[1;34m(contour_table, slice_sequence, roi)\u001b[0m\n\u001b[0;32m    645\u001b[0m contour_graph \u001b[38;5;241m=\u001b[39m add_graph_edges(contour_graph, slice_sequence)\n\u001b[0;32m    646\u001b[0m \u001b[38;5;66;03m# Add the boundary contours to the graph\u001b[39;00m\n\u001b[1;32m--> 647\u001b[0m contour_graph, slice_sequence \u001b[38;5;241m=\u001b[39m add_boundary_contours(contour_graph,\n\u001b[0;32m    648\u001b[0m                                                       slice_sequence)\n\u001b[0;32m    649\u001b[0m \u001b[38;5;66;03m# Identify the distinct regions in the graph\u001b[39;00m\n\u001b[0;32m    650\u001b[0m \u001b[38;5;66;03m# and assign the region index to each contour\u001b[39;00m\n\u001b[0;32m    651\u001b[0m contour_graph \u001b[38;5;241m=\u001b[39m set_enclosed_regions(contour_graph)\n",
      "File \u001b[1;32mD:\\OneDrive - Queen's University\\Python\\Projects\\StructureRelations\\src\\contour_graph.py:422\u001b[0m, in \u001b[0;36madd_boundary_contours\u001b[1;34m(contour_graph, slice_sequence)\u001b[0m\n\u001b[0;32m    413\u001b[0m \u001b[38;5;66;03m# Generate the interpolated contour for the related contour\u001b[39;00m\n\u001b[0;32m    414\u001b[0m related_parameters \u001b[38;5;241m=\u001b[39m {\n\u001b[0;32m    415\u001b[0m     \u001b[38;5;124m'\u001b[39m\u001b[38;5;124mcontour_graph\u001b[39m\u001b[38;5;124m'\u001b[39m: contour_graph,\n\u001b[0;32m    416\u001b[0m     \u001b[38;5;124m'\u001b[39m\u001b[38;5;124mslice_sequence\u001b[39m\u001b[38;5;124m'\u001b[39m: slice_sequence,\n\u001b[1;32m   (...)\u001b[0m\n\u001b[0;32m    420\u001b[0m     \u001b[38;5;124m'\u001b[39m\u001b[38;5;124mis_boundary\u001b[39m\u001b[38;5;124m'\u001b[39m: is_boundary\n\u001b[0;32m    421\u001b[0m }\n\u001b[1;32m--> 422\u001b[0m interpolation \u001b[38;5;241m=\u001b[39m generate_interpolated_contours(\u001b[38;5;241m*\u001b[39m\u001b[38;5;241m*\u001b[39mrelated_parameters)\n\u001b[0;32m    423\u001b[0m \u001b[38;5;66;03m# Unpack the interpolation result\u001b[39;00m\n\u001b[0;32m    424\u001b[0m contour_graph, slice_sequence, related_idx \u001b[38;5;241m=\u001b[39m interpolation\n",
      "File \u001b[1;32mD:\\OneDrive - Queen's University\\Python\\Projects\\StructureRelations\\src\\contour_graph.py:237\u001b[0m, in \u001b[0;36mgenerate_interpolated_contours\u001b[1;34m(contour_graph, slice_sequence, starting_contour, interpolated_slice, **contour_parameters)\u001b[0m\n\u001b[0;32m    202\u001b[0m \u001b[38;5;250m\u001b[39m\u001b[38;5;124;03m'''Generate an interpolated contour for a given starting contour in the\u001b[39;00m\n\u001b[0;32m    203\u001b[0m \u001b[38;5;124;03mcontour graph.\u001b[39;00m\n\u001b[0;32m    204\u001b[0m \n\u001b[1;32m   (...)\u001b[0m\n\u001b[0;32m    234\u001b[0m \n\u001b[0;32m    235\u001b[0m \u001b[38;5;124;03m'''\u001b[39;00m\n\u001b[0;32m    236\u001b[0m \u001b[38;5;66;03m# Generate the interpolated polygon\u001b[39;00m\n\u001b[1;32m--> 237\u001b[0m interpolated_polygon \u001b[38;5;241m=\u001b[39m generate_interpolated_polygon(contour_graph,\n\u001b[0;32m    238\u001b[0m                                                slice_sequence,\n\u001b[0;32m    239\u001b[0m                                                starting_contour,\n\u001b[0;32m    240\u001b[0m                                                interpolated_slice)\n\u001b[0;32m    241\u001b[0m \u001b[38;5;66;03m# Get the interpolated slice index\u001b[39;00m\n\u001b[0;32m    242\u001b[0m interpolated_slice_index \u001b[38;5;241m=\u001b[39m interpolated_polygon\u001b[38;5;241m.\u001b[39mboundary\u001b[38;5;241m.\u001b[39mcoords[\u001b[38;5;241m0\u001b[39m][\u001b[38;5;241m2\u001b[39m]\n",
      "File \u001b[1;32mD:\\OneDrive - Queen's University\\Python\\Projects\\StructureRelations\\src\\contour_graph.py:176\u001b[0m, in \u001b[0;36mgenerate_interpolated_polygon\u001b[1;34m(contour_graph, slice_sequence, starting_contour, interpolated_slice)\u001b[0m\n\u001b[0;32m    168\u001b[0m \u001b[38;5;66;03m# if no interpolated slice is provided, or if the interpolated slice is not\u001b[39;00m\n\u001b[0;32m    169\u001b[0m \u001b[38;5;66;03m# a neighbour of the starting contour (e.g. first or last slice), or the\u001b[39;00m\n\u001b[0;32m    170\u001b[0m \u001b[38;5;66;03m# contour does not have any matched contours on the relevant neighbouring\u001b[39;00m\n\u001b[1;32m   (...)\u001b[0m\n\u001b[0;32m    173\u001b[0m \u001b[38;5;66;03m# that is not matched to the boundary contour.  Generate the interpolated\u001b[39;00m\n\u001b[0;32m    174\u001b[0m \u001b[38;5;66;03m# contour using only the boundary contour.\u001b[39;00m\n\u001b[0;32m    175\u001b[0m \u001b[38;5;28;01mif\u001b[39;00m \u001b[38;5;28mlen\u001b[39m(matched_slices) \u001b[38;5;241m>\u001b[39m \u001b[38;5;241m1\u001b[39m:\n\u001b[1;32m--> 176\u001b[0m     \u001b[38;5;28;01mraise\u001b[39;00m InvalidSlice(\u001b[38;5;124m\"\u001b[39m\u001b[38;5;124mWithout interpolated_slice, starting_contour \u001b[39m\u001b[38;5;124m\"\u001b[39m\n\u001b[0;32m    177\u001b[0m                         \u001b[38;5;124m\"\u001b[39m\u001b[38;5;124mmust reference a boundary slice.\u001b[39m\u001b[38;5;124m\"\u001b[39m)\n\u001b[0;32m    178\u001b[0m \u001b[38;5;66;03m# Determine the slice index that is not matched to the boundary contour.\u001b[39;00m\n\u001b[0;32m    179\u001b[0m \u001b[38;5;66;03m# (This is the slice index that will be used to set the interpolated\u001b[39;00m\n\u001b[0;32m    180\u001b[0m \u001b[38;5;66;03m# slice index.)\u001b[39;00m\n\u001b[0;32m    181\u001b[0m neighbour_slices \u001b[38;5;241m=\u001b[39m \u001b[38;5;28mset\u001b[39m(neighbors\u001b[38;5;241m.\u001b[39mneighbour_list())\n",
      "\u001b[1;31mInvalidSlice\u001b[0m: Without interpolated_slice, starting_contour must reference a boundary slice."
     ]
    }
   ],
   "source": [
    "contour_graph_a, slice_sequence = build_contour_graph(contour_table,\n",
    "                                                    slice_sequence,\n",
    "                                                    roi=0)"
   ]
  },
  {
   "cell_type": "code",
   "execution_count": 22,
   "metadata": {},
   "outputs": [
    {
     "data": {
      "image/png": "[encoded data removed]",
      "text/plain": [
       "<Figure size 640x480 with 1 Axes>"
      ]
     },
     "metadata": {},
     "output_type": "display_data"
    }
   ],
   "source": [
    "nx.draw(contour_graph, with_labels=True,\n",
    "           pos=nx.arf_layout(contour_graph))\n",
    "plt.show()"
   ]
  },
  {
   "cell_type": "code",
   "execution_count": 23,
   "metadata": {},
   "outputs": [
    {
     "data": {
      "application/vnd.microsoft.datawrangler.viewer.v0+json": {
       "columns": [
        {
         "name": "index",
         "rawType": "int64",
         "type": "integer"
        },
        {
         "name": "SliceIndex",
         "rawType": "float64",
         "type": "float"
        },
        {
         "name": "HoleType",
         "rawType": "category",
         "type": "unknown"
        },
        {
         "name": "Label",
         "rawType": "object",
         "type": "unknown"
        }
       ],
       "ref": "ce35b4c6-a884-48e1-9641-8e84bedbc35e",
       "rows": [
        [
         "0",
         "0.0",
         "None",
         "(0, 0.0, 15)"
        ],
        [
         "1",
         "0.0",
         "Unknown",
         "(0, 0.0, 16)"
        ],
        [
         "2",
         "0.0",
         "Unknown",
         "(0, 0.0, 17)"
        ],
        [
         "3",
         "0.0",
         "None",
         "(0, 0.0, 18)"
        ],
        [
         "4",
         "1.0",
         "None",
         "(0, 1.0, 19)"
        ],
        [
         "5",
         "1.0",
         "Unknown",
         "(0, 1.0, 20)"
        ],
        [
         "6",
         "1.0",
         "Unknown",
         "(0, 1.0, 21)"
        ],
        [
         "7",
         "1.0",
         "None",
         "(0, 1.0, 22)"
        ],
        [
         "8",
         "2.0",
         "None",
         "(0, 2.0, 23)"
        ],
        [
         "9",
         "2.0",
         "Unknown",
         "(0, 2.0, 24)"
        ],
        [
         "10",
         "2.0",
         "Unknown",
         "(0, 2.0, 25)"
        ],
        [
         "11",
         "2.0",
         "None",
         "(0, 2.0, 26)"
        ]
       ],
       "shape": {
        "columns": 3,
        "rows": 12
       }
      },
      "text/html": [
       "<div>\n",
       "<style scoped>\n",
       "    .dataframe tbody tr th:only-of-type {\n",
       "        vertical-align: middle;\n",
       "    }\n",
       "\n",
       "    .dataframe tbody tr th {\n",
       "        vertical-align: top;\n",
       "    }\n",
       "\n",
       "    .dataframe thead th {\n",
       "        text-align: right;\n",
       "    }\n",
       "</style>\n",
       "<table border=\"1\" class=\"dataframe\">\n",
       "  <thead>\n",
       "    <tr style=\"text-align: right;\">\n",
       "      <th></th>\n",
       "      <th>SliceIndex</th>\n",
       "      <th>HoleType</th>\n",
       "      <th>Label</th>\n",
       "    </tr>\n",
       "  </thead>\n",
       "  <tbody>\n",
       "    <tr>\n",
       "      <th>0</th>\n",
       "      <td>0.0</td>\n",
       "      <td>None</td>\n",
       "      <td>(0, 0.0, 15)</td>\n",
       "    </tr>\n",
       "    <tr>\n",
       "      <th>1</th>\n",
       "      <td>0.0</td>\n",
       "      <td>Unknown</td>\n",
       "      <td>(0, 0.0, 16)</td>\n",
       "    </tr>\n",
       "    <tr>\n",
       "      <th>2</th>\n",
       "      <td>0.0</td>\n",
       "      <td>Unknown</td>\n",
       "      <td>(0, 0.0, 17)</td>\n",
       "    </tr>\n",
       "    <tr>\n",
       "      <th>3</th>\n",
       "      <td>0.0</td>\n",
       "      <td>None</td>\n",
       "      <td>(0, 0.0, 18)</td>\n",
       "    </tr>\n",
       "    <tr>\n",
       "      <th>4</th>\n",
       "      <td>1.0</td>\n",
       "      <td>None</td>\n",
       "      <td>(0, 1.0, 19)</td>\n",
       "    </tr>\n",
       "    <tr>\n",
       "      <th>5</th>\n",
       "      <td>1.0</td>\n",
       "      <td>Unknown</td>\n",
       "      <td>(0, 1.0, 20)</td>\n",
       "    </tr>\n",
       "    <tr>\n",
       "      <th>6</th>\n",
       "      <td>1.0</td>\n",
       "      <td>Unknown</td>\n",
       "      <td>(0, 1.0, 21)</td>\n",
       "    </tr>\n",
       "    <tr>\n",
       "      <th>7</th>\n",
       "      <td>1.0</td>\n",
       "      <td>None</td>\n",
       "      <td>(0, 1.0, 22)</td>\n",
       "    </tr>\n",
       "    <tr>\n",
       "      <th>8</th>\n",
       "      <td>2.0</td>\n",
       "      <td>None</td>\n",
       "      <td>(0, 2.0, 23)</td>\n",
       "    </tr>\n",
       "    <tr>\n",
       "      <th>9</th>\n",
       "      <td>2.0</td>\n",
       "      <td>Unknown</td>\n",
       "      <td>(0, 2.0, 24)</td>\n",
       "    </tr>\n",
       "    <tr>\n",
       "      <th>10</th>\n",
       "      <td>2.0</td>\n",
       "      <td>Unknown</td>\n",
       "      <td>(0, 2.0, 25)</td>\n",
       "    </tr>\n",
       "    <tr>\n",
       "      <th>11</th>\n",
       "      <td>2.0</td>\n",
       "      <td>None</td>\n",
       "      <td>(0, 2.0, 26)</td>\n",
       "    </tr>\n",
       "  </tbody>\n",
       "</table>\n",
       "</div>"
      ],
      "text/plain": [
       "    SliceIndex HoleType         Label\n",
       "0          0.0     None  (0, 0.0, 15)\n",
       "1          0.0  Unknown  (0, 0.0, 16)\n",
       "2          0.0  Unknown  (0, 0.0, 17)\n",
       "3          0.0     None  (0, 0.0, 18)\n",
       "4          1.0     None  (0, 1.0, 19)\n",
       "5          1.0  Unknown  (0, 1.0, 20)\n",
       "6          1.0  Unknown  (0, 1.0, 21)\n",
       "7          1.0     None  (0, 1.0, 22)\n",
       "8          2.0     None  (0, 2.0, 23)\n",
       "9          2.0  Unknown  (0, 2.0, 24)\n",
       "10         2.0  Unknown  (0, 2.0, 25)\n",
       "11         2.0     None  (0, 2.0, 26)"
      ]
     },
     "execution_count": 23,
     "metadata": {},
     "output_type": "execute_result"
    }
   ],
   "source": [
    "contour_lookup = build_contour_lookup(contour_graph)\n",
    "\n",
    "contour_lookup.loc[contour_lookup.ROI==0, ['SliceIndex', 'HoleType', 'Label']]"
   ]
  },
  {
   "cell_type": "markdown",
   "metadata": {},
   "source": [
    "# ERROR Using degree = 1 to identify boundaries will miss some boundaries\n",
    "- If there is a bifurcation in the contour on the slice before the boundary the degree will be 2, for a boundary contour.\n",
    "- degree = 1 is a sufficient to identify boundaries, but not a necessary condition for a boundary.\n",
    "- if degree > 1, but all edges point in the same (SliceIndex) direction, then it is also a boundary."
   ]
  },
  {
   "cell_type": "code",
   "execution_count": 24,
   "metadata": {},
   "outputs": [
    {
     "data": {
      "text/plain": [
       "[((0, 0.0, 15), 1),\n",
       " ((0, 0.0, 16), 1),\n",
       " ((0, 0.0, 17), 1),\n",
       " ((0, 0.0, 18), 1),\n",
       " ((0, 1.0, 19), 2),\n",
       " ((0, 1.0, 20), 2),\n",
       " ((0, 1.0, 21), 2),\n",
       " ((0, 1.0, 22), 2),\n",
       " ((0, 2.0, 23), 1),\n",
       " ((0, 2.0, 24), 1),\n",
       " ((0, 2.0, 25), 1),\n",
       " ((0, 2.0, 26), 1)]"
      ]
     },
     "execution_count": 24,
     "metadata": {},
     "output_type": "execute_result"
    }
   ],
   "source": [
    "[(node, degree) for node, degree in contour_graph.degree()]"
   ]
  },
  {
   "cell_type": "code",
   "execution_count": 25,
   "metadata": {},
   "outputs": [
    {
     "data": {
      "text/plain": [
       "{(0, 0.0, 15),\n",
       " (0, 0.0, 16),\n",
       " (0, 0.0, 17),\n",
       " (0, 0.0, 18),\n",
       " (0, 2.0, 23),\n",
       " (0, 2.0, 24),\n",
       " (0, 2.0, 25),\n",
       " (0, 2.0, 26)}"
      ]
     },
     "execution_count": 25,
     "metadata": {},
     "output_type": "execute_result"
    }
   ],
   "source": [
    "boundary_nodes = {node for node, degree in contour_graph.degree()\n",
    "                    if degree == 1}\n",
    "boundary_nodes"
   ]
  },
  {
   "cell_type": "code",
   "execution_count": 27,
   "metadata": {},
   "outputs": [],
   "source": [
    "contour_graph_b, slice_sequence = build_contour_graph(contour_table,\n",
    "                                                    slice_sequence,\n",
    "                                                    roi=1)\n",
    "a = RegionSlice(contour_graph_a, slice_index=1.0)\n",
    "b = RegionSlice(contour_graph_b, slice_index=1.0)\n"
   ]
  },
  {
   "cell_type": "code",
   "execution_count": 28,
   "metadata": {},
   "outputs": [
    {
     "data": {
      "image/png": "[encoded data removed]",
      "text/plain": [
       "<Figure size 400x200 with 1 Axes>"
      ]
     },
     "metadata": {},
     "output_type": "display_data"
    }
   ],
   "source": [
    "ax = plot_ab(a.regions['0A'], b.regions['1A'])"
   ]
  },
  {
   "cell_type": "code",
   "execution_count": 29,
   "metadata": {},
   "outputs": [],
   "source": [
    "a, b = surrounds_example3()"
   ]
  },
  {
   "cell_type": "code",
   "execution_count": 30,
   "metadata": {},
   "outputs": [
    {
     "data": {
      "text/plain": [
       "{'0A': <MULTIPOLYGON Z (((5 2.5 1, 5 -2.5 1, -5 -2.5 1, -5 0 1, -5 2.5 1, 5 2.5 1),...>}"
      ]
     },
     "execution_count": 30,
     "metadata": {},
     "output_type": "execute_result"
    }
   ],
   "source": [
    "a.regions"
   ]
  },
  {
   "cell_type": "code",
   "execution_count": 31,
   "metadata": {},
   "outputs": [],
   "source": [
    "\n",
    "circle6 = circle_points(3)\n",
    "circle5 = circle_points(2.5)\n",
    "circle4 = circle_points(2)\n",
    "circle3 = circle_points(1.5)\n",
    "circle2 = circle_points(1)\n",
    "slice_data = [\n",
    "    ContourPoints(circle6, roi=0, slice_index=0.0),\n",
    "    ContourPoints(circle6, roi=0, slice_index=1.0),\n",
    "    ContourPoints(circle6, roi=0, slice_index=2.0),\n",
    "    ContourPoints(circle5, roi=0, slice_index=0.0),\n",
    "    ContourPoints(circle5, roi=0, slice_index=1.0),\n",
    "    ContourPoints(circle5, roi=0, slice_index=2.0),\n",
    "    ContourPoints(circle2, roi=0, slice_index=0.0),\n",
    "    ContourPoints(circle2, roi=0, slice_index=1.0),\n",
    "    ContourPoints(circle2, roi=0, slice_index=2.0),\n",
    "    ContourPoints(circle4, roi=1, slice_index=0.0),\n",
    "    ContourPoints(circle4, roi=1, slice_index=1.0),\n",
    "    ContourPoints(circle4, roi=1, slice_index=2.0),\n",
    "    ContourPoints(circle3, roi=1, slice_index=0.0),\n",
    "    ContourPoints(circle3, roi=1, slice_index=1.0),\n",
    "    ContourPoints(circle3, roi=1, slice_index=2.0),\n",
    "]\n",
    "contour_table, slice_sequence = build_contour_table(slice_data)\n",
    "contour_graph_a, slice_sequence = build_contour_graph(contour_table,\n",
    "                                                    slice_sequence,\n",
    "                                                    roi=0)\n",
    "contour_graph_b, slice_sequence = build_contour_graph(contour_table,\n",
    "                                                    slice_sequence,\n",
    "                                                    roi=1)\n",
    "a = RegionSlice(contour_graph_a, slice_index=1.0)\n",
    "b = RegionSlice(contour_graph_b, slice_index=1.0)\n"
   ]
  },
  {
   "cell_type": "code",
   "execution_count": 32,
   "metadata": {},
   "outputs": [
    {
     "data": {
      "image/png": "[encoded data removed]",
      "text/plain": [
       "<Figure size 400x200 with 1 Axes>"
      ]
     },
     "metadata": {},
     "output_type": "display_data"
    }
   ],
   "source": [
    "ax = plot_ab(a.regions['0A'], b.regions['1A'])\n"
   ]
  },
  {
   "cell_type": "code",
   "execution_count": 33,
   "metadata": {},
   "outputs": [
    {
     "name": "stdout",
     "output_type": "stream",
     "text": [
      "|001|\t|001|\t|111|\n",
      "|001|\t|001|\t|001|\n",
      "|111|\t|111|\t|001|\n",
      "\n",
      "Relationship: Shelters\n"
     ]
    }
   ],
   "source": [
    "\n",
    "r = DE27IM(a,b)\n",
    "\n",
    "print(str(r))\n",
    "print(r.identify_relation())\n"
   ]
  }
 ],
 "metadata": {
  "kernelspec": {
   "display_name": "StructureRelations",
   "language": "python",
   "name": "python3"
  },
  "language_info": {
   "codemirror_mode": {
    "name": "ipython",
    "version": 3
   },
   "file_extension": ".py",
   "mimetype": "text/x-python",
   "name": "python",
   "nbconvert_exporter": "python",
   "pygments_lexer": "ipython3",
   "version": "3.11.0"
  }
 },
 "nbformat": 4,
 "nbformat_minor": 4
}
