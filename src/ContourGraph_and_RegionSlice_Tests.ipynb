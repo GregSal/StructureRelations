{
 "cells": [
  {
   "cell_type": "markdown",
   "metadata": {},
   "source": [
    "# Temporary Notebook for testing ContourGraph and RegionSlice creation\n"
   ]
  },
  {
   "cell_type": "code",
   "execution_count": 1,
   "metadata": {},
   "outputs": [],
   "source": [
    "from collections import defaultdict\n",
    "from collections import Counter\n",
    "\n",
    "import pandas as pd\n",
    "from shapely.geometry import Polygon\n"
   ]
  },
  {
   "cell_type": "code",
   "execution_count": 2,
   "metadata": {},
   "outputs": [],
   "source": [
    "# Local functions and classes\n",
    "from types_and_classes import *\n",
    "from utilities import *\n",
    "from contours import *\n",
    "from contour_graph import *\n",
    "from debug_tools import *\n",
    "#from structures import *\n",
    "from region_slice import *\n",
    "#from structure_set import *\n",
    "from relations import *\n"
   ]
  },
  {
   "cell_type": "markdown",
   "metadata": {},
   "source": [
    "### Global Settings"
   ]
  },
  {
   "cell_type": "code",
   "execution_count": 3,
   "metadata": {},
   "outputs": [],
   "source": [
    "PRECISION = 2"
   ]
  },
  {
   "cell_type": "code",
   "execution_count": 4,
   "metadata": {},
   "outputs": [],
   "source": [
    "%matplotlib inline"
   ]
  },
  {
   "cell_type": "markdown",
   "metadata": {},
   "source": [
    "# RegionSlice requirements\n",
    "- The RegionIndexes used as keys in the dictionary attributes should match across slices as much as possible.\n",
    "- region MultiPolygons should include islands or relations might mistakenly identify a ring as overlapping whin it is interior to a shell, but exterior to an island.\n",
    "- boundaries must be kept separate even if they are related to the same region.\n",
    "- every contour of a given ROI on the same slice should be in the same RegionSlice"
   ]
  },
  {
   "cell_type": "code",
   "execution_count": 5,
   "metadata": {},
   "outputs": [],
   "source": [
    "def surrounds_example3():\n",
    "    box10x5 = box_points(10,5)\n",
    "    circle4_left = circle_points(2, offset_x=-3)\n",
    "    circle3_right = circle_points(1.5, offset_x=3)\n",
    "    circle2_left = circle_points(1, offset_x=-3, offset_y=0.5)\n",
    "    circle2_right = circle_points(1, offset_x=3)\n",
    "    slice_data = [\n",
    "        ContourPoints(box10x5, roi=0, slice_index=1.0),\n",
    "        ContourPoints(circle4_left, roi=0, slice_index=1.0),\n",
    "        ContourPoints(circle3_right, roi=0, slice_index=1.0),\n",
    "        ContourPoints(circle2_right, roi=0, slice_index=1.0),\n",
    "        ContourPoints(circle2_left, roi=1, slice_index=1.0),\n",
    "        ]\n",
    "    contour_table, slice_sequence = build_contour_table(slice_data)\n",
    "    contour_graph_a, slice_sequence = build_contour_graph(contour_table,\n",
    "                                                        slice_sequence,\n",
    "                                                        roi=0)\n",
    "    contour_graph_b, slice_sequence = build_contour_graph(contour_table,\n",
    "                                                        slice_sequence,\n",
    "                                                        roi=1)\n",
    "    region_slice_a = RegionSlice(contour_graph_a, slice_index=1.0)\n",
    "    region_slice_b = RegionSlice(contour_graph_b, slice_index=1.0)\n",
    "    return region_slice_a, region_slice_b\n"
   ]
  },
  {
   "cell_type": "code",
   "execution_count": 6,
   "metadata": {},
   "outputs": [
    {
     "data": {
      "image/png": "[encoded data removed]",
      "text/plain": [
       "<Figure size 400x200 with 1 Axes>"
      ]
     },
     "metadata": {},
     "output_type": "display_data"
    },
    {
     "name": "stdout",
     "output_type": "stream",
     "text": [
      "|001|\t|111|\t|111|\n",
      "|001|\t|001|\t|001|\n",
      "|111|\t|001|\t|001|\n",
      "\n",
      "Relationship: Surrounds\n"
     ]
    }
   ],
   "source": [
    "\n",
    "a, b = surrounds_example3()\n",
    "ax = plot_ab(a.regions['0A'], b.regions['1A'])\n",
    "plt.show()\n",
    "\n",
    "r = DE27IM(a,b)\n",
    "\n",
    "print(str(r))\n",
    "print(r.identify_relation())"
   ]
  },
  {
   "cell_type": "markdown",
   "metadata": {},
   "source": [
    "## *Surrounds* vs *Shelters* \n",
    "- This one is *Surrounds* because the holes are closed."
   ]
  },
  {
   "cell_type": "code",
   "execution_count": null,
   "metadata": {},
   "outputs": [],
   "source": [
    "box10x5 = box_points(10,5)\n",
    "circle4_left = circle_points(2, offset_x=-3)\n",
    "circle3_right = circle_points(1.5, offset_x=3)\n",
    "circle2_left = circle_points(1, offset_x=-3, offset_y=0.5)\n",
    "circle2_right = circle_points(1, offset_x=3)\n",
    "slice_data = [\n",
    "    ContourPoints(box10x5, roi=0, slice_index=-2.0),\n",
    "    ContourPoints(box10x5, roi=0, slice_index=-1.0),\n",
    "    ContourPoints(box10x5, roi=0, slice_index=0.0),\n",
    "    ContourPoints(box10x5, roi=0, slice_index=1.0),\n",
    "    ContourPoints(box10x5, roi=0, slice_index=2.0),\n",
    "    ContourPoints(box10x5, roi=0, slice_index=3.0),\n",
    "    ContourPoints(box10x5, roi=0, slice_index=4.0),\n",
    "\n",
    "    ContourPoints(circle4_left, roi=0, slice_index=0.0),\n",
    "    ContourPoints(circle4_left, roi=0, slice_index=1.0),\n",
    "    ContourPoints(circle4_left, roi=0, slice_index=2.0),\n",
    "\n",
    "    ContourPoints(circle3_right, roi=0, slice_index=0.0),\n",
    "    ContourPoints(circle3_right, roi=0, slice_index=1.0),\n",
    "    ContourPoints(circle3_right, roi=0, slice_index=2.0),\n",
    "\n",
    "    ContourPoints(circle2_right, roi=0, slice_index=0.0),\n",
    "    ContourPoints(circle2_right, roi=0, slice_index=1.0),\n",
    "    ContourPoints(circle2_right, roi=0, slice_index=2.0),\n",
    "\n",
    "    ContourPoints(circle2_left, roi=1, slice_index=0.0),\n",
    "    ContourPoints(circle2_left, roi=1, slice_index=1.0),\n",
    "    ContourPoints(circle2_left, roi=1, slice_index=2.0)\n",
    "\n",
    "]\n",
    "\n",
    "contour_table, slice_sequence = build_contour_table(slice_data)\n"
   ]
  },
  {
   "cell_type": "markdown",
   "metadata": {},
   "source": [
    "#### Patch Note: \n",
    "- Was crashing here because a boundary contour was already created for a contour and then it tries to create a second boundary contour for the same contour.\n",
    "- Added a try/except to handle this case.\n",
    "- This is a temporary fix, but it should be removed once the boundary identification is fixed."
   ]
  },
  {
   "cell_type": "code",
   "execution_count": 8,
   "metadata": {},
   "outputs": [],
   "source": [
    "contour_graph_a, slice_sequence = build_contour_graph(contour_table,\n",
    "                                                    slice_sequence,\n",
    "                                                    roi=0)\n",
    "contour_graph_b, slice_sequence = build_contour_graph(contour_table,\n",
    "                                                    slice_sequence,\n",
    "                                                    roi=1)"
   ]
  },
  {
   "cell_type": "code",
   "execution_count": 9,
   "metadata": {},
   "outputs": [],
   "source": [
    "a = RegionSlice(contour_graph_a, slice_index=1.0)\n",
    "b = RegionSlice(contour_graph_b, slice_index=1.0)"
   ]
  },
  {
   "cell_type": "code",
   "execution_count": 10,
   "metadata": {},
   "outputs": [
    {
     "data": {
      "image/png": "[encoded data removed]",
      "text/plain": [
       "<Figure size 400x200 with 1 Axes>"
      ]
     },
     "metadata": {},
     "output_type": "display_data"
    },
    {
     "name": "stdout",
     "output_type": "stream",
     "text": [
      "|001|\t|111|\t|111|\n",
      "|001|\t|001|\t|001|\n",
      "|111|\t|001|\t|001|\n",
      "\n",
      "Relationship: Surrounds\n"
     ]
    }
   ],
   "source": [
    "ax = plot_ab(a.regions['0A'], b.regions['1A'])\n",
    "\n",
    "r = DE27IM(a,b)\n",
    "\n",
    "print(str(r))\n",
    "print(r.identify_relation())"
   ]
  },
  {
   "cell_type": "markdown",
   "metadata": {},
   "source": [
    "- This one is *Shelters* because the holes are open."
   ]
  },
  {
   "cell_type": "code",
   "execution_count": null,
   "metadata": {},
   "outputs": [],
   "source": [
    "box10x5 = box_points(10,5)\n",
    "circle4_left = circle_points(2, offset_x=-3)\n",
    "circle3_right = circle_points(1.5, offset_x=3)\n",
    "circle2_left = circle_points(1, offset_x=-3, offset_y=0.5)\n",
    "circle2_right = circle_points(1, offset_x=3)\n",
    "slice_data = [\n",
    "    ContourPoints(box10x5, roi=0, slice_index=0.0),\n",
    "    ContourPoints(box10x5, roi=0, slice_index=1.0),\n",
    "    ContourPoints(box10x5, roi=0, slice_index=2.0),\n",
    "\n",
    "    ContourPoints(circle4_left, roi=0, slice_index=0.0),\n",
    "    ContourPoints(circle4_left, roi=0, slice_index=1.0),\n",
    "    ContourPoints(circle4_left, roi=0, slice_index=2.0),\n",
    "\n",
    "    ContourPoints(circle3_right, roi=0, slice_index=0.0),\n",
    "    ContourPoints(circle3_right, roi=0, slice_index=1.0),\n",
    "    ContourPoints(circle3_right, roi=0, slice_index=2.0),\n",
    "\n",
    "    ContourPoints(circle2_right, roi=0, slice_index=0.0),\n",
    "    ContourPoints(circle2_right, roi=0, slice_index=1.0),\n",
    "    ContourPoints(circle2_right, roi=0, slice_index=2.0),\n",
    "\n",
    "    ContourPoints(circle2_left, roi=1, slice_index=0.0),\n",
    "    ContourPoints(circle2_left, roi=1, slice_index=1.0),\n",
    "    ContourPoints(circle2_left, roi=1, slice_index=2.0)\n",
    "\n",
    "]\n",
    "\n",
    "contour_table, slice_sequence = build_contour_table(slice_data)\n"
   ]
  },
  {
   "cell_type": "code",
   "execution_count": 12,
   "metadata": {},
   "outputs": [
    {
     "data": {
      "image/png": "[encoded data removed]",
      "text/plain": [
       "<Figure size 400x200 with 1 Axes>"
      ]
     },
     "metadata": {},
     "output_type": "display_data"
    },
    {
     "name": "stdout",
     "output_type": "stream",
     "text": [
      "|001|\t|001|\t|111|\n",
      "|001|\t|001|\t|001|\n",
      "|111|\t|111|\t|001|\n",
      "\n",
      "Relationship: Shelters\n"
     ]
    }
   ],
   "source": [
    "contour_graph_a, slice_sequence = build_contour_graph(contour_table,\n",
    "                                                    slice_sequence,\n",
    "                                                    roi=0)\n",
    "contour_graph_b, slice_sequence = build_contour_graph(contour_table,\n",
    "                                                    slice_sequence,\n",
    "                                                    roi=1)\n",
    "a = RegionSlice(contour_graph_a, slice_index=1.0)\n",
    "b = RegionSlice(contour_graph_b, slice_index=1.0)\n",
    "ax = plot_ab(a.regions['0A'], b.regions['1A'])\n",
    "\n",
    "r = DE27IM(a,b)\n",
    "\n",
    "print(str(r))\n",
    "print(r.identify_relation())"
   ]
  },
  {
   "cell_type": "markdown",
   "metadata": {},
   "source": [
    "# Using degree = 1 to identify boundaries will miss some boundaries\n",
    "- If there is a bifurcation in the contour on the slice before the boundary the degree will be 2, for a boundary contour.\n",
    "- degree = 1 is a sufficient to identify boundaries, but not a necessary condition for a boundary.\n",
    "- if degree > 1, but all edges point in the same (SliceIndex) direction, then it is also a boundary."
   ]
  },
  {
   "cell_type": "code",
   "execution_count": 15,
   "metadata": {},
   "outputs": [
    {
     "data": {
      "image/png": "[encoded data removed]",
      "text/plain": [
       "<Figure size 640x480 with 1 Axes>"
      ]
     },
     "metadata": {},
     "output_type": "display_data"
    }
   ],
   "source": [
    "contour_graph = nx.Graph()\n",
    "roi=0\n",
    "contour_by_slice = build_contours(contour_table, roi)\n",
    "for contour_data in contour_by_slice.values():\n",
    "        for contour in contour_data:\n",
    "            contour_label = contour.index\n",
    "            contour_graph.add_node(contour_label, contour=contour)\n",
    "contour_graph = add_graph_edges(contour_graph, slice_sequence)\n",
    "\n",
    "nx.draw(contour_graph, with_labels=True,\n",
    "           pos=nx.arf_layout(contour_graph))\n",
    "plt.show()"
   ]
  },
  {
   "cell_type": "code",
   "execution_count": 16,
   "metadata": {},
   "outputs": [
    {
     "data": {
      "application/vnd.microsoft.datawrangler.viewer.v0+json": {
       "columns": [
        {
         "name": "index",
         "rawType": "int64",
         "type": "integer"
        },
        {
         "name": "SliceIndex",
         "rawType": "float64",
         "type": "float"
        },
        {
         "name": "HoleType",
         "rawType": "category",
         "type": "unknown"
        },
        {
         "name": "Label",
         "rawType": "object",
         "type": "unknown"
        }
       ],
       "ref": "0457c5c0-013d-48e6-9396-dfd10a7f73e6",
       "rows": [
        [
         "0",
         "-2.0",
         "None",
         "(0, -2.0, 94)"
        ],
        [
         "1",
         "-1.0",
         "None",
         "(0, -1.0, 95)"
        ],
        [
         "2",
         "0.0",
         "None",
         "(0, 0.0, 96)"
        ],
        [
         "3",
         "0.0",
         "Unknown",
         "(0, 0.0, 97)"
        ],
        [
         "4",
         "0.0",
         "None",
         "(0, 0.0, 98)"
        ],
        [
         "5",
         "1.0",
         "None",
         "(0, 1.0, 99)"
        ],
        [
         "6",
         "1.0",
         "Unknown",
         "(0, 1.0, 100)"
        ],
        [
         "7",
         "1.0",
         "None",
         "(0, 1.0, 101)"
        ],
        [
         "8",
         "2.0",
         "None",
         "(0, 2.0, 102)"
        ],
        [
         "9",
         "2.0",
         "Unknown",
         "(0, 2.0, 103)"
        ],
        [
         "10",
         "2.0",
         "None",
         "(0, 2.0, 104)"
        ],
        [
         "11",
         "3.0",
         "None",
         "(0, 3.0, 105)"
        ],
        [
         "12",
         "4.0",
         "None",
         "(0, 4.0, 106)"
        ]
       ],
       "shape": {
        "columns": 3,
        "rows": 13
       }
      },
      "text/html": [
       "<div>\n",
       "<style scoped>\n",
       "    .dataframe tbody tr th:only-of-type {\n",
       "        vertical-align: middle;\n",
       "    }\n",
       "\n",
       "    .dataframe tbody tr th {\n",
       "        vertical-align: top;\n",
       "    }\n",
       "\n",
       "    .dataframe thead th {\n",
       "        text-align: right;\n",
       "    }\n",
       "</style>\n",
       "<table border=\"1\" class=\"dataframe\">\n",
       "  <thead>\n",
       "    <tr style=\"text-align: right;\">\n",
       "      <th></th>\n",
       "      <th>SliceIndex</th>\n",
       "      <th>HoleType</th>\n",
       "      <th>Label</th>\n",
       "    </tr>\n",
       "  </thead>\n",
       "  <tbody>\n",
       "    <tr>\n",
       "      <th>0</th>\n",
       "      <td>-2.0</td>\n",
       "      <td>None</td>\n",
       "      <td>(0, -2.0, 94)</td>\n",
       "    </tr>\n",
       "    <tr>\n",
       "      <th>1</th>\n",
       "      <td>-1.0</td>\n",
       "      <td>None</td>\n",
       "      <td>(0, -1.0, 95)</td>\n",
       "    </tr>\n",
       "    <tr>\n",
       "      <th>2</th>\n",
       "      <td>0.0</td>\n",
       "      <td>None</td>\n",
       "      <td>(0, 0.0, 96)</td>\n",
       "    </tr>\n",
       "    <tr>\n",
       "      <th>3</th>\n",
       "      <td>0.0</td>\n",
       "      <td>Unknown</td>\n",
       "      <td>(0, 0.0, 97)</td>\n",
       "    </tr>\n",
       "    <tr>\n",
       "      <th>4</th>\n",
       "      <td>0.0</td>\n",
       "      <td>None</td>\n",
       "      <td>(0, 0.0, 98)</td>\n",
       "    </tr>\n",
       "    <tr>\n",
       "      <th>5</th>\n",
       "      <td>1.0</td>\n",
       "      <td>None</td>\n",
       "      <td>(0, 1.0, 99)</td>\n",
       "    </tr>\n",
       "    <tr>\n",
       "      <th>6</th>\n",
       "      <td>1.0</td>\n",
       "      <td>Unknown</td>\n",
       "      <td>(0, 1.0, 100)</td>\n",
       "    </tr>\n",
       "    <tr>\n",
       "      <th>7</th>\n",
       "      <td>1.0</td>\n",
       "      <td>None</td>\n",
       "      <td>(0, 1.0, 101)</td>\n",
       "    </tr>\n",
       "    <tr>\n",
       "      <th>8</th>\n",
       "      <td>2.0</td>\n",
       "      <td>None</td>\n",
       "      <td>(0, 2.0, 102)</td>\n",
       "    </tr>\n",
       "    <tr>\n",
       "      <th>9</th>\n",
       "      <td>2.0</td>\n",
       "      <td>Unknown</td>\n",
       "      <td>(0, 2.0, 103)</td>\n",
       "    </tr>\n",
       "    <tr>\n",
       "      <th>10</th>\n",
       "      <td>2.0</td>\n",
       "      <td>None</td>\n",
       "      <td>(0, 2.0, 104)</td>\n",
       "    </tr>\n",
       "    <tr>\n",
       "      <th>11</th>\n",
       "      <td>3.0</td>\n",
       "      <td>None</td>\n",
       "      <td>(0, 3.0, 105)</td>\n",
       "    </tr>\n",
       "    <tr>\n",
       "      <th>12</th>\n",
       "      <td>4.0</td>\n",
       "      <td>None</td>\n",
       "      <td>(0, 4.0, 106)</td>\n",
       "    </tr>\n",
       "  </tbody>\n",
       "</table>\n",
       "</div>"
      ],
      "text/plain": [
       "    SliceIndex HoleType          Label\n",
       "0         -2.0     None  (0, -2.0, 94)\n",
       "1         -1.0     None  (0, -1.0, 95)\n",
       "2          0.0     None   (0, 0.0, 96)\n",
       "3          0.0  Unknown   (0, 0.0, 97)\n",
       "4          0.0     None   (0, 0.0, 98)\n",
       "5          1.0     None   (0, 1.0, 99)\n",
       "6          1.0  Unknown  (0, 1.0, 100)\n",
       "7          1.0     None  (0, 1.0, 101)\n",
       "8          2.0     None  (0, 2.0, 102)\n",
       "9          2.0  Unknown  (0, 2.0, 103)\n",
       "10         2.0     None  (0, 2.0, 104)\n",
       "11         3.0     None  (0, 3.0, 105)\n",
       "12         4.0     None  (0, 4.0, 106)"
      ]
     },
     "execution_count": 16,
     "metadata": {},
     "output_type": "execute_result"
    }
   ],
   "source": [
    "contour_lookup = build_contour_lookup(contour_graph)\n",
    "\n",
    "contour_lookup.loc[contour_lookup.ROI==0, ['SliceIndex', 'HoleType', 'Label']]"
   ]
  },
  {
   "cell_type": "code",
   "execution_count": 17,
   "metadata": {},
   "outputs": [
    {
     "data": {
      "text/plain": [
       "[((0, -2.0, 94), 1),\n",
       " ((0, -1.0, 95), 3),\n",
       " ((0, 0.0, 96), 2),\n",
       " ((0, 0.0, 97), 1),\n",
       " ((0, 0.0, 98), 2),\n",
       " ((0, 1.0, 99), 2),\n",
       " ((0, 1.0, 100), 2),\n",
       " ((0, 1.0, 101), 2),\n",
       " ((0, 2.0, 102), 2),\n",
       " ((0, 2.0, 103), 1),\n",
       " ((0, 2.0, 104), 2),\n",
       " ((0, 3.0, 105), 3),\n",
       " ((0, 4.0, 106), 1)]"
      ]
     },
     "execution_count": 17,
     "metadata": {},
     "output_type": "execute_result"
    }
   ],
   "source": [
    "[(node, degree) for node, degree in contour_graph.degree()]"
   ]
  },
  {
   "cell_type": "code",
   "execution_count": 18,
   "metadata": {},
   "outputs": [
    {
     "data": {
      "text/plain": [
       "{(0, -2.0, 94), (0, 0.0, 97), (0, 2.0, 103), (0, 4.0, 106)}"
      ]
     },
     "execution_count": 18,
     "metadata": {},
     "output_type": "execute_result"
    }
   ],
   "source": [
    "boundary_nodes = {node for node, degree in contour_graph.degree()\n",
    "                    if degree == 1}\n",
    "boundary_nodes"
   ]
  },
  {
   "cell_type": "markdown",
   "metadata": {},
   "source": [
    "# ValueError: setting an array element with a sequence. \n",
    "- The requested array has an inhomogeneous shape after 1 dimensions. The detected shape was (17,) + inhomogeneous part."
   ]
  },
  {
   "cell_type": "code",
   "execution_count": null,
   "metadata": {},
   "outputs": [],
   "source": [
    "box10x5 = box_points(10,5)\n",
    "\n",
    "circle6 = circle_points(3)\n",
    "circle5 = circle_points(2.5)\n",
    "circle4 = circle_points(2)\n",
    "circle3 = circle_points(1.5)\n",
    "circle2 = circle_points(1)\n",
    "slice_data = [\n",
    "    # Adding this contour triggers the error\n",
    "    #ContourPoints(circle6, roi=0, slice_index=-1.0),\n",
    "\n",
    "    # Adding this contour DOES NOT trigger the error\n",
    "    #ContourPoints(circle2, roi=0, slice_index=-1.0),\n",
    "\n",
    "    # Adding this contour DOES NOT trigger the error\n",
    "    #ContourPoints(box10x5, roi=0, slice_index=-1.0),\n",
    "\n",
    "    # Adding both contours DOES NOT trigger the error\n",
    "    #ContourPoints(circle5, roi=0, slice_index=-1.0),\n",
    "\n",
    "    # Adding this contour triggers the error\n",
    "    #ContourPoints(circle5, roi=0, slice_index=-1.0),\n",
    "\n",
    "    ContourPoints(circle6, roi=0, slice_index=0.0),\n",
    "    ContourPoints(circle6, roi=0, slice_index=1.0),\n",
    "    ContourPoints(circle6, roi=0, slice_index=2.0),\n",
    "\n",
    "    # Adding this contour triggers the error\n",
    "    #ContourPoints(circle6, roi=0, slice_index=3.0),\n",
    "\n",
    "\n",
    "    #ContourPoints(circle6, roi=0, slice_index=4.0),\n",
    "\n",
    "    ContourPoints(circle5, roi=0, slice_index=0.0),\n",
    "    ContourPoints(circle5, roi=0, slice_index=1.0),\n",
    "    ContourPoints(circle5, roi=0, slice_index=2.0),\n",
    "\n",
    "    ContourPoints(circle2, roi=0, slice_index=0.0),\n",
    "    ContourPoints(circle2, roi=0, slice_index=1.0),\n",
    "    ContourPoints(circle2, roi=0, slice_index=2.0),\n",
    "\n",
    "    ContourPoints(circle4, roi=1, slice_index=0.0),\n",
    "    ContourPoints(circle4, roi=1, slice_index=1.0),\n",
    "    ContourPoints(circle4, roi=1, slice_index=2.0),\n",
    "\n",
    "    ContourPoints(circle3, roi=1, slice_index=0.0),\n",
    "    ContourPoints(circle3, roi=1, slice_index=1.0),\n",
    "    ContourPoints(circle3, roi=1, slice_index=2.0),\n",
    "]\n",
    "contour_table, slice_sequence = build_contour_table(slice_data)\n",
    "contour_graph_a, slice_sequence = build_contour_graph(contour_table,\n",
    "                                                    slice_sequence,\n",
    "                                                    roi=0)\n",
    "contour_graph_b, slice_sequence = build_contour_graph(contour_table,\n",
    "                                                    slice_sequence,\n",
    "                                                    roi=1)\n",
    "a = RegionSlice(contour_graph_a, slice_index=1.0)\n",
    "b = RegionSlice(contour_graph_b, slice_index=1.0)\n"
   ]
  },
  {
   "cell_type": "code",
   "execution_count": 16,
   "metadata": {},
   "outputs": [
    {
     "data": {
      "image/png": "[encoded data removed]",
      "text/plain": [
       "<Figure size 400x200 with 1 Axes>"
      ]
     },
     "metadata": {},
     "output_type": "display_data"
    }
   ],
   "source": [
    "ax = plot_ab(a.regions['0A'], b.regions['1A'])\n"
   ]
  },
  {
   "cell_type": "code",
   "execution_count": 17,
   "metadata": {},
   "outputs": [
    {
     "name": "stdout",
     "output_type": "stream",
     "text": [
      "|001|\t|001|\t|111|\n",
      "|001|\t|001|\t|001|\n",
      "|111|\t|111|\t|001|\n",
      "\n",
      "Relationship: Shelters\n"
     ]
    }
   ],
   "source": [
    "\n",
    "r = DE27IM(a,b)\n",
    "\n",
    "print(str(r))\n",
    "print(r.identify_relation())\n"
   ]
  }
 ],
 "metadata": {
  "kernelspec": {
   "display_name": "StructureRelations",
   "language": "python",
   "name": "python3"
  },
  "language_info": {
   "codemirror_mode": {
    "name": "ipython",
    "version": 3
   },
   "file_extension": ".py",
   "mimetype": "text/x-python",
   "name": "python",
   "nbconvert_exporter": "python",
   "pygments_lexer": "ipython3",
   "version": "3.11.0"
  }
 },
 "nbformat": 4,
 "nbformat_minor": 4
}
