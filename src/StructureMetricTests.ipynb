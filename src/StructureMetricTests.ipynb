{
 "cells": [
  {
   "cell_type": "markdown",
   "metadata": {},
   "source": [
    "# Shapley Tests"
   ]
  },
  {
   "cell_type": "markdown",
   "metadata": {},
   "source": [
    "## Setup"
   ]
  },
  {
   "cell_type": "markdown",
   "metadata": {},
   "source": [
    "### Imports"
   ]
  },
  {
   "cell_type": "code",
   "execution_count": 81,
   "metadata": {},
   "outputs": [],
   "source": [
    "# Type imports\n",
    "from typing import Any, Dict, Tuple, List\n",
    "\n",
    "# Standard Libraries\n",
    "from enum import Enum, auto\n",
    "from pathlib import Path\n",
    "from math import sqrt, pi, sin, cos, tan, radians, acos\n",
    "from math import isnan\n",
    "from statistics import mean\n",
    "from collections import Counter, defaultdict\n",
    "from dataclasses import dataclass, field, asdict\n",
    "from itertools import zip_longest\n",
    "\n",
    "from pprint import pprint\n",
    "\n",
    "# Shared Packages\n",
    "import numpy as np\n",
    "import pandas as pd\n",
    "import xlwings as xw\n",
    "import matplotlib.pyplot as plt\n",
    "#import PySimpleGUI as sg\n",
    "import networkx as nx\n",
    "import pydicom\n",
    "import shapely\n",
    "from shapely.plotting import plot_polygon, plot_points\n",
    "\n",
    "# Local functions and classes\n",
    "from utilities import *\n",
    "from types_and_classes import *\n"
   ]
  },
  {
   "cell_type": "markdown",
   "metadata": {},
   "source": [
    "### Global Settings"
   ]
  },
  {
   "cell_type": "code",
   "execution_count": 82,
   "metadata": {},
   "outputs": [],
   "source": [
    "PRECISION = 2\n"
   ]
  },
  {
   "cell_type": "code",
   "execution_count": 83,
   "metadata": {},
   "outputs": [],
   "source": [
    "%matplotlib inline"
   ]
  },
  {
   "cell_type": "markdown",
   "metadata": {},
   "source": [
    "# Test structures\n",
    "- **CONTAINS**\n",
    "  - Concentric spheres\n",
    "  - Concentric embedded Rings\n",
    "  - Concentric spheres with centres offset\n",
    "  - Parallel Cylinders for 1st structure containing cylinder in 1 of them\n",
    "- **SHELTERS**\n",
    "  - Half box sheltering box\n",
    "  - Vertical open box sheltering box\n",
    "- **SURROUNDS**\n",
    "  - Concentric hollow spheres\n",
    "  - Concentric Rings\n",
    "  - Offset hollow boxes\n",
    "- **OVERLAPS**\n",
    "  - Overlapping Boxes Lateral\n",
    "  - Overlapping Boxes Vertical\n",
    "- "
   ]
  },
  {
   "cell_type": "markdown",
   "metadata": {},
   "source": [
    "## Margins\n",
    "- $Margin_\\perp = bounds(a) − bounds(b)$\n",
    "\n",
    "- $Margin_{min} = distance(a,b)$\n",
    "\n",
    "- $Margin_{max} = distance_{housdorff}(a,b)$\n",
    "\n",
    "**Used By:**\n",
    "- Contains\n",
    "- Surrounds\n",
    "- Shelters (Does not use $Margin_{max}$)\n"
   ]
  },
  {
   "cell_type": "code",
   "execution_count": 84,
   "metadata": {},
   "outputs": [],
   "source": [
    "def make_slice_table(slice_data: pd.DataFrame)->pd.DataFrame:\n",
    "    def merge_contours(slice_contours: pd.DataFrame):\n",
    "        ranked_contours = slice_contours.sort_values('Area', ascending=False)\n",
    "        return StructureSlice(list(ranked_contours.Contour))\n",
    "\n",
    "    slice_data.sort_index(level=['Slice Index', 'ROI Num'], inplace=True)\n",
    "    slice_data['Area'] = slice_data.map(lambda x: x.area)\n",
    "    structure_group = slice_data.groupby(level=['Slice Index', 'ROI Num'])\n",
    "    structure_data = structure_group.apply(merge_contours)\n",
    "    slice_table = structure_data.unstack('ROI Num')\n",
    "    return slice_table\n"
   ]
  },
  {
   "cell_type": "code",
   "execution_count": 85,
   "metadata": {},
   "outputs": [],
   "source": [
    "def structure_metrics(slice_structures: pd.Series,\n",
    "                      relation: RelationshipType):\n",
    "    margin_table = margins(slice_structures.iloc[0],\n",
    "                           slice_structures.iloc[1],\n",
    "                           relation)\n",
    "    return margin_table"
   ]
  },
  {
   "cell_type": "code",
   "execution_count": 86,
   "metadata": {},
   "outputs": [],
   "source": [
    "def get_metrics(structures, slice_table):\n",
    "    relation = Relationship(structures, slice_table).relationship_type\n",
    "    slice_structures = slice_table.loc[:, [structures[0], structures[1]]]\n",
    "    # Remove Slices that have neither structure.\n",
    "    slice_structures.dropna(how='all', inplace=True)\n",
    "    # For slices that have only one of the two structures, replace the nan\n",
    "    # values with empty polygons for duck typing.\n",
    "    slice_structures.fillna(StructureSlice([]), inplace=True)\n",
    "    # Get the relationships between the two structures for all slices.\n",
    "    metric_seq = slice_structures.apply(structure_metrics, axis='columns',\n",
    "                                        result_type='expand', relation=relation)\n",
    "    return agg_margins(metric_seq)"
   ]
  },
  {
   "cell_type": "markdown",
   "metadata": {},
   "source": [
    "### Make test structures"
   ]
  },
  {
   "cell_type": "code",
   "execution_count": 87,
   "metadata": {},
   "outputs": [],
   "source": [
    "cylinder6 = make_vertical_cylinder(radius=6, length=10, spacing=0.5, roi_num=1)\n",
    "cylinder4 = make_vertical_cylinder(radius=4, length=10, spacing=0.5, roi_num=2)\n",
    "sphere5 = make_sphere(radius=5, spacing=0.5, roi_num=3)\n",
    "sphere2 = make_sphere(radius=2, spacing=0.5, roi_num=4)\n",
    "sphere6 = make_sphere(radius=6, spacing=0.5, roi_num=5)\n",
    "sphere4 = make_sphere(radius=4, spacing=0.5, roi_num=5)\n",
    "sphere3 = make_sphere(radius=3, spacing=0.5, roi_num=5)\n",
    "# combine the contours\n",
    "slice_data = pd.concat([cylinder6, cylinder4, sphere5, sphere2,\n",
    "                        sphere6, sphere4, sphere3])\n",
    "\n",
    "# convert contour slice data into a table of slices and structures\n",
    "slice_table = make_slice_table(slice_data)"
   ]
  },
  {
   "cell_type": "code",
   "execution_count": 88,
   "metadata": {},
   "outputs": [
    {
     "name": "stdout",
     "output_type": "stream",
     "text": [
      "Relationship: Contains\n"
     ]
    }
   ],
   "source": [
    "structures = tuple([1, 2])\n",
    "relation = Relationship(structures, slice_table).relationship_type\n",
    "print(relation)"
   ]
  },
  {
   "cell_type": "code",
   "execution_count": 89,
   "metadata": {},
   "outputs": [
    {
     "name": "stdout",
     "output_type": "stream",
     "text": [
      "Expected Margins: 2 cm in all directions.\n"
     ]
    },
    {
     "data": {
      "text/plain": [
       "x_neg    2.00\n",
       "y_neg    2.00\n",
       "x_pos    2.00\n",
       "y_pos    2.00\n",
       "max      2.00\n",
       "min      1.96\n",
       "dtype: float64"
      ]
     },
     "execution_count": 89,
     "metadata": {},
     "output_type": "execute_result"
    }
   ],
   "source": [
    "print('Expected Margins: 2 cm in all directions.')\n",
    "get_metrics(structures, slice_table)\n"
   ]
  },
  {
   "cell_type": "code",
   "execution_count": 90,
   "metadata": {},
   "outputs": [
    {
     "ename": "TypeError",
     "evalue": "'Point' object is not subscriptable",
     "output_type": "error",
     "traceback": [
      "\u001b[1;31m---------------------------------------------------------------------------\u001b[0m",
      "\u001b[1;31mTypeError\u001b[0m                                 Traceback (most recent call last)",
      "Cell \u001b[1;32mIn[90], line 2\u001b[0m\n\u001b[0;32m      1\u001b[0m structures \u001b[38;5;241m=\u001b[39m \u001b[38;5;28mtuple\u001b[39m([\u001b[38;5;241m5\u001b[39m, \u001b[38;5;241m4\u001b[39m])\n\u001b[1;32m----> 2\u001b[0m relation \u001b[38;5;241m=\u001b[39m Relationship(structures, slice_table)\u001b[38;5;241m.\u001b[39mrelationship_type\n\u001b[0;32m      3\u001b[0m \u001b[38;5;28mprint\u001b[39m(relation)\n",
      "File \u001b[1;32mD:\\OneDrive - Queen's University\\Python\\Projects\\StructureRelations\\src\\types_and_classes.py:1070\u001b[0m, in \u001b[0;36mRelationship.__init__\u001b[1;34m(self, structures, slice_table, **kwargs)\u001b[0m\n\u001b[0;32m   1068\u001b[0m     \u001b[38;5;28mself\u001b[39m\u001b[38;5;241m.\u001b[39mrelationship_type \u001b[38;5;241m=\u001b[39m RelationshipType[kwargs[\u001b[38;5;124m'\u001b[39m\u001b[38;5;124mrelationship\u001b[39m\u001b[38;5;124m'\u001b[39m]]\n\u001b[0;32m   1069\u001b[0m \u001b[38;5;28;01melse\u001b[39;00m:\n\u001b[1;32m-> 1070\u001b[0m     \u001b[38;5;28mself\u001b[39m\u001b[38;5;241m.\u001b[39midentify_relationship(slice_table)\n\u001b[0;32m   1071\u001b[0m \u001b[38;5;28mself\u001b[39m\u001b[38;5;241m.\u001b[39mget_metric()\n",
      "File \u001b[1;32mD:\\OneDrive - Queen's University\\Python\\Projects\\StructureRelations\\src\\types_and_classes.py:1125\u001b[0m, in \u001b[0;36mRelationship.identify_relationship\u001b[1;34m(self, slice_table)\u001b[0m\n\u001b[0;32m   1123\u001b[0m slice_structures\u001b[38;5;241m.\u001b[39mfillna(StructureSlice([]), inplace\u001b[38;5;241m=\u001b[39m\u001b[38;5;28;01mTrue\u001b[39;00m)\n\u001b[0;32m   1124\u001b[0m \u001b[38;5;66;03m# Get the relationships between the two structures for all slices.\u001b[39;00m\n\u001b[1;32m-> 1125\u001b[0m relation_seq \u001b[38;5;241m=\u001b[39m slice_structures\u001b[38;5;241m.\u001b[39magg(relate_structures, structures\u001b[38;5;241m=\u001b[39m\u001b[38;5;28mself\u001b[39m\u001b[38;5;241m.\u001b[39mstructures,\n\u001b[0;32m   1126\u001b[0m                                     axis\u001b[38;5;241m=\u001b[39m\u001b[38;5;124m'\u001b[39m\u001b[38;5;124mcolumns\u001b[39m\u001b[38;5;124m'\u001b[39m)\n\u001b[0;32m   1127\u001b[0m \u001b[38;5;66;03m# Get the overall relationship for the two structures by merging the\u001b[39;00m\n\u001b[0;32m   1128\u001b[0m \u001b[38;5;66;03m# relationships for the individual slices.\u001b[39;00m\n\u001b[0;32m   1129\u001b[0m relation_binary \u001b[38;5;241m=\u001b[39m merge_rel(relation_seq)\n",
      "File \u001b[1;32md:\\.conda\\envs\\StructureRelations\\Lib\\site-packages\\pandas\\core\\frame.py:10149\u001b[0m, in \u001b[0;36mDataFrame.aggregate\u001b[1;34m(self, func, axis, *args, **kwargs)\u001b[0m\n\u001b[0;32m  10146\u001b[0m axis \u001b[38;5;241m=\u001b[39m \u001b[38;5;28mself\u001b[39m\u001b[38;5;241m.\u001b[39m_get_axis_number(axis)\n\u001b[0;32m  10148\u001b[0m op \u001b[38;5;241m=\u001b[39m frame_apply(\u001b[38;5;28mself\u001b[39m, func\u001b[38;5;241m=\u001b[39mfunc, axis\u001b[38;5;241m=\u001b[39maxis, args\u001b[38;5;241m=\u001b[39margs, kwargs\u001b[38;5;241m=\u001b[39mkwargs)\n\u001b[1;32m> 10149\u001b[0m result \u001b[38;5;241m=\u001b[39m op\u001b[38;5;241m.\u001b[39magg()\n\u001b[0;32m  10150\u001b[0m result \u001b[38;5;241m=\u001b[39m reconstruct_and_relabel_result(result, func, \u001b[38;5;241m*\u001b[39m\u001b[38;5;241m*\u001b[39mkwargs)\n\u001b[0;32m  10151\u001b[0m \u001b[38;5;28;01mreturn\u001b[39;00m result\n",
      "File \u001b[1;32md:\\.conda\\envs\\StructureRelations\\Lib\\site-packages\\pandas\\core\\apply.py:937\u001b[0m, in \u001b[0;36mFrameApply.agg\u001b[1;34m(self)\u001b[0m\n\u001b[0;32m    934\u001b[0m     result \u001b[38;5;241m=\u001b[39m result\u001b[38;5;241m.\u001b[39mT \u001b[38;5;28;01mif\u001b[39;00m result \u001b[38;5;129;01mis\u001b[39;00m \u001b[38;5;129;01mnot\u001b[39;00m \u001b[38;5;28;01mNone\u001b[39;00m \u001b[38;5;28;01melse\u001b[39;00m result\n\u001b[0;32m    936\u001b[0m \u001b[38;5;28;01mif\u001b[39;00m result \u001b[38;5;129;01mis\u001b[39;00m \u001b[38;5;28;01mNone\u001b[39;00m:\n\u001b[1;32m--> 937\u001b[0m     result \u001b[38;5;241m=\u001b[39m \u001b[38;5;28mself\u001b[39m\u001b[38;5;241m.\u001b[39mobj\u001b[38;5;241m.\u001b[39mapply(\u001b[38;5;28mself\u001b[39m\u001b[38;5;241m.\u001b[39mfunc, axis, args\u001b[38;5;241m=\u001b[39m\u001b[38;5;28mself\u001b[39m\u001b[38;5;241m.\u001b[39margs, \u001b[38;5;241m*\u001b[39m\u001b[38;5;241m*\u001b[39m\u001b[38;5;28mself\u001b[39m\u001b[38;5;241m.\u001b[39mkwargs)\n\u001b[0;32m    939\u001b[0m \u001b[38;5;28;01mreturn\u001b[39;00m result\n",
      "File \u001b[1;32md:\\.conda\\envs\\StructureRelations\\Lib\\site-packages\\pandas\\core\\frame.py:10374\u001b[0m, in \u001b[0;36mDataFrame.apply\u001b[1;34m(self, func, axis, raw, result_type, args, by_row, engine, engine_kwargs, **kwargs)\u001b[0m\n\u001b[0;32m  10360\u001b[0m \u001b[38;5;28;01mfrom\u001b[39;00m \u001b[38;5;21;01mpandas\u001b[39;00m\u001b[38;5;21;01m.\u001b[39;00m\u001b[38;5;21;01mcore\u001b[39;00m\u001b[38;5;21;01m.\u001b[39;00m\u001b[38;5;21;01mapply\u001b[39;00m \u001b[38;5;28;01mimport\u001b[39;00m frame_apply\n\u001b[0;32m  10362\u001b[0m op \u001b[38;5;241m=\u001b[39m frame_apply(\n\u001b[0;32m  10363\u001b[0m     \u001b[38;5;28mself\u001b[39m,\n\u001b[0;32m  10364\u001b[0m     func\u001b[38;5;241m=\u001b[39mfunc,\n\u001b[1;32m   (...)\u001b[0m\n\u001b[0;32m  10372\u001b[0m     kwargs\u001b[38;5;241m=\u001b[39mkwargs,\n\u001b[0;32m  10373\u001b[0m )\n\u001b[1;32m> 10374\u001b[0m \u001b[38;5;28;01mreturn\u001b[39;00m op\u001b[38;5;241m.\u001b[39mapply()\u001b[38;5;241m.\u001b[39m__finalize__(\u001b[38;5;28mself\u001b[39m, method\u001b[38;5;241m=\u001b[39m\u001b[38;5;124m\"\u001b[39m\u001b[38;5;124mapply\u001b[39m\u001b[38;5;124m\"\u001b[39m)\n",
      "File \u001b[1;32md:\\.conda\\envs\\StructureRelations\\Lib\\site-packages\\pandas\\core\\apply.py:916\u001b[0m, in \u001b[0;36mFrameApply.apply\u001b[1;34m(self)\u001b[0m\n\u001b[0;32m    913\u001b[0m \u001b[38;5;28;01melif\u001b[39;00m \u001b[38;5;28mself\u001b[39m\u001b[38;5;241m.\u001b[39mraw:\n\u001b[0;32m    914\u001b[0m     \u001b[38;5;28;01mreturn\u001b[39;00m \u001b[38;5;28mself\u001b[39m\u001b[38;5;241m.\u001b[39mapply_raw(engine\u001b[38;5;241m=\u001b[39m\u001b[38;5;28mself\u001b[39m\u001b[38;5;241m.\u001b[39mengine, engine_kwargs\u001b[38;5;241m=\u001b[39m\u001b[38;5;28mself\u001b[39m\u001b[38;5;241m.\u001b[39mengine_kwargs)\n\u001b[1;32m--> 916\u001b[0m \u001b[38;5;28;01mreturn\u001b[39;00m \u001b[38;5;28mself\u001b[39m\u001b[38;5;241m.\u001b[39mapply_standard()\n",
      "File \u001b[1;32md:\\.conda\\envs\\StructureRelations\\Lib\\site-packages\\pandas\\core\\apply.py:1063\u001b[0m, in \u001b[0;36mFrameApply.apply_standard\u001b[1;34m(self)\u001b[0m\n\u001b[0;32m   1061\u001b[0m \u001b[38;5;28;01mdef\u001b[39;00m \u001b[38;5;21mapply_standard\u001b[39m(\u001b[38;5;28mself\u001b[39m):\n\u001b[0;32m   1062\u001b[0m     \u001b[38;5;28;01mif\u001b[39;00m \u001b[38;5;28mself\u001b[39m\u001b[38;5;241m.\u001b[39mengine \u001b[38;5;241m==\u001b[39m \u001b[38;5;124m\"\u001b[39m\u001b[38;5;124mpython\u001b[39m\u001b[38;5;124m\"\u001b[39m:\n\u001b[1;32m-> 1063\u001b[0m         results, res_index \u001b[38;5;241m=\u001b[39m \u001b[38;5;28mself\u001b[39m\u001b[38;5;241m.\u001b[39mapply_series_generator()\n\u001b[0;32m   1064\u001b[0m     \u001b[38;5;28;01melse\u001b[39;00m:\n\u001b[0;32m   1065\u001b[0m         results, res_index \u001b[38;5;241m=\u001b[39m \u001b[38;5;28mself\u001b[39m\u001b[38;5;241m.\u001b[39mapply_series_numba()\n",
      "File \u001b[1;32md:\\.conda\\envs\\StructureRelations\\Lib\\site-packages\\pandas\\core\\apply.py:1081\u001b[0m, in \u001b[0;36mFrameApply.apply_series_generator\u001b[1;34m(self)\u001b[0m\n\u001b[0;32m   1078\u001b[0m \u001b[38;5;28;01mwith\u001b[39;00m option_context(\u001b[38;5;124m\"\u001b[39m\u001b[38;5;124mmode.chained_assignment\u001b[39m\u001b[38;5;124m\"\u001b[39m, \u001b[38;5;28;01mNone\u001b[39;00m):\n\u001b[0;32m   1079\u001b[0m     \u001b[38;5;28;01mfor\u001b[39;00m i, v \u001b[38;5;129;01min\u001b[39;00m \u001b[38;5;28menumerate\u001b[39m(series_gen):\n\u001b[0;32m   1080\u001b[0m         \u001b[38;5;66;03m# ignore SettingWithCopy here in case the user mutates\u001b[39;00m\n\u001b[1;32m-> 1081\u001b[0m         results[i] \u001b[38;5;241m=\u001b[39m \u001b[38;5;28mself\u001b[39m\u001b[38;5;241m.\u001b[39mfunc(v, \u001b[38;5;241m*\u001b[39m\u001b[38;5;28mself\u001b[39m\u001b[38;5;241m.\u001b[39margs, \u001b[38;5;241m*\u001b[39m\u001b[38;5;241m*\u001b[39m\u001b[38;5;28mself\u001b[39m\u001b[38;5;241m.\u001b[39mkwargs)\n\u001b[0;32m   1082\u001b[0m         \u001b[38;5;28;01mif\u001b[39;00m \u001b[38;5;28misinstance\u001b[39m(results[i], ABCSeries):\n\u001b[0;32m   1083\u001b[0m             \u001b[38;5;66;03m# If we have a view on v, we need to make a copy because\u001b[39;00m\n\u001b[0;32m   1084\u001b[0m             \u001b[38;5;66;03m#  series_generator will swap out the underlying data\u001b[39;00m\n\u001b[0;32m   1085\u001b[0m             results[i] \u001b[38;5;241m=\u001b[39m results[i]\u001b[38;5;241m.\u001b[39mcopy(deep\u001b[38;5;241m=\u001b[39m\u001b[38;5;28;01mFalse\u001b[39;00m)\n",
      "File \u001b[1;32mD:\\OneDrive - Queen's University\\Python\\Projects\\StructureRelations\\src\\types_and_classes.py:503\u001b[0m, in \u001b[0;36mrelate_structures\u001b[1;34m(slice_structures, structures)\u001b[0m\n\u001b[0;32m    501\u001b[0m structure \u001b[38;5;241m=\u001b[39m slice_structures[structures[\u001b[38;5;241m0\u001b[39m]]\n\u001b[0;32m    502\u001b[0m other_contour \u001b[38;5;241m=\u001b[39m slice_structures[structures[\u001b[38;5;241m1\u001b[39m]]\n\u001b[1;32m--> 503\u001b[0m binary_relation \u001b[38;5;241m=\u001b[39m relate(structure, other_contour)\n\u001b[0;32m    504\u001b[0m \u001b[38;5;28;01mreturn\u001b[39;00m binary_relation\n",
      "File \u001b[1;32mD:\\OneDrive - Queen's University\\Python\\Projects\\StructureRelations\\src\\types_and_classes.py:476\u001b[0m, in \u001b[0;36mrelate\u001b[1;34m(contour1, contour2)\u001b[0m\n\u001b[0;32m    474\u001b[0m primary_relation \u001b[38;5;241m=\u001b[39m compare(contour1\u001b[38;5;241m.\u001b[39mcontour, contour2\u001b[38;5;241m.\u001b[39mcontour)\n\u001b[0;32m    475\u001b[0m external_relation \u001b[38;5;241m=\u001b[39m compare(contour1\u001b[38;5;241m.\u001b[39mexterior, contour2\u001b[38;5;241m.\u001b[39mcontour)\n\u001b[1;32m--> 476\u001b[0m convex_hull_relation \u001b[38;5;241m=\u001b[39m compare(contour1\u001b[38;5;241m.\u001b[39mhull, contour2\u001b[38;5;241m.\u001b[39mcontour)\n\u001b[0;32m    477\u001b[0m full_relation \u001b[38;5;241m=\u001b[39m \u001b[38;5;124m'\u001b[39m\u001b[38;5;124m'\u001b[39m\u001b[38;5;241m.\u001b[39mjoin([convex_hull_relation,\n\u001b[0;32m    478\u001b[0m                             external_relation,\n\u001b[0;32m    479\u001b[0m                             primary_relation])\n\u001b[0;32m    480\u001b[0m binary_relation \u001b[38;5;241m=\u001b[39m \u001b[38;5;28mint\u001b[39m(full_relation, base\u001b[38;5;241m=\u001b[39m\u001b[38;5;241m2\u001b[39m)\n",
      "File \u001b[1;32mD:\\OneDrive - Queen's University\\Python\\Projects\\StructureRelations\\src\\types_and_classes.py:190\u001b[0m, in \u001b[0;36mStructureSlice.hull\u001b[1;34m(self)\u001b[0m\n\u001b[0;32m    180\u001b[0m \u001b[38;5;250m\u001b[39m\u001b[38;5;124;03m'''A bounding contour generated from the entire contour MultiPolygon.\u001b[39;00m\n\u001b[0;32m    181\u001b[0m \n\u001b[0;32m    182\u001b[0m \u001b[38;5;124;03mA convex hull can be pictures as an elastic band stretched around the\u001b[39;00m\n\u001b[1;32m   (...)\u001b[0m\n\u001b[0;32m    187\u001b[0m \u001b[38;5;124;03m        MultiPolygon.\u001b[39;00m\n\u001b[0;32m    188\u001b[0m \u001b[38;5;124;03m'''\u001b[39;00m\n\u001b[0;32m    189\u001b[0m hull \u001b[38;5;241m=\u001b[39m shapely\u001b[38;5;241m.\u001b[39mconvex_hull(\u001b[38;5;28mself\u001b[39m\u001b[38;5;241m.\u001b[39mcontour)\n\u001b[1;32m--> 190\u001b[0m \u001b[38;5;28;01mreturn\u001b[39;00m shapely\u001b[38;5;241m.\u001b[39mMultiPolygon([hull])\n",
      "File \u001b[1;32md:\\.conda\\envs\\StructureRelations\\Lib\\site-packages\\shapely\\geometry\\multipolygon.py:79\u001b[0m, in \u001b[0;36mMultiPolygon.__new__\u001b[1;34m(self, polygons)\u001b[0m\n\u001b[0;32m     77\u001b[0m ob \u001b[38;5;241m=\u001b[39m polygons[i]\n\u001b[0;32m     78\u001b[0m \u001b[38;5;28;01mif\u001b[39;00m \u001b[38;5;129;01mnot\u001b[39;00m \u001b[38;5;28misinstance\u001b[39m(ob, polygon\u001b[38;5;241m.\u001b[39mPolygon):\n\u001b[1;32m---> 79\u001b[0m     shell \u001b[38;5;241m=\u001b[39m ob[\u001b[38;5;241m0\u001b[39m]\n\u001b[0;32m     80\u001b[0m     holes \u001b[38;5;241m=\u001b[39m ob[\u001b[38;5;241m1\u001b[39m]\n\u001b[0;32m     81\u001b[0m     p \u001b[38;5;241m=\u001b[39m polygon\u001b[38;5;241m.\u001b[39mPolygon(shell, holes)\n",
      "\u001b[1;31mTypeError\u001b[0m: 'Point' object is not subscriptable"
     ]
    }
   ],
   "source": [
    "structures = tuple([5, 4])\n",
    "relation = Relationship(structures, slice_table).relationship_type\n",
    "print(relation)"
   ]
  },
  {
   "cell_type": "markdown",
   "metadata": {},
   "source": [
    "# **FIXME** `StructureSlice` must test for valid polygons."
   ]
  },
  {
   "cell_type": "code",
   "execution_count": 36,
   "metadata": {},
   "outputs": [],
   "source": [
    "slice_structures = slice_table.loc[:, [structures[0], structures[1]]]\n",
    "a = slice_structures.iloc[0,:]\n",
    "b = structure_metrics(a, relation=relation)"
   ]
  },
  {
   "cell_type": "code",
   "execution_count": null,
   "metadata": {},
   "outputs": [],
   "source": [
    "def contains_example2():\n",
    "    circle6 = shapely.Polygon(circle_points(3))\n",
    "    circle4 = shapely.Polygon(circle_points(2))\n",
    "    circle3 = shapely.Polygon(circle_points(1.5))\n",
    "    circle2 = shapely.Polygon(circle_points(1))\n",
    "    a = StructureSlice([circle6, circle4, circle3])\n",
    "    b = StructureSlice([circle2])\n",
    "    print('Expected Margins: 0.5 cm in all directions.', )\n",
    "    return a, b"
   ]
  },
  {
   "cell_type": "code",
   "execution_count": null,
   "metadata": {},
   "outputs": [],
   "source": [
    "# 6 cm x 6 cm box\n",
    "box6 = shapely.Polygon(box_points(6))\n",
    "slices = make_slice_list(5)\n",
    "slices_1 = make_contour_slices(1, slices, [box6])\n",
    "\n",
    "# 4 cm x 4 cm box\n",
    "box4 = shapely.Polygon(box_points(4))\n",
    "slices = make_slice_list(5)\n",
    "#slices = make_slice_list(5, start=0.2, spacing=0.2)\n",
    "slices_2 = make_contour_slices(2, slices, [box4])\n",
    "\n",
    "# 6 cm x 6 cm box offset right by 3 cm\n",
    "offset_box6 = shapely.Polygon(box_points(6, offset_x=3))\n",
    "slices = make_slice_list(5)\n",
    "#slices = make_slice_list(5, start=0.2, spacing=0.2)\n",
    "slices_3 = make_contour_slices(3, slices, [offset_box6])\n",
    "\n",
    "# 6 cm x 6 cm box with 4cm x 4 cm hole\n",
    "box6 = shapely.Polygon(box_points(6))\n",
    "box4 = shapely.Polygon(box_points(4))\n",
    "slices = make_slice_list(5, start=0.2)\n",
    "slices_4 = make_contour_slices(4, slices, [box6, box4])\n",
    "\n",
    "# 2 2x2 boxes\n",
    "box2a = shapely.Polygon(box_points(2, offset_x=-3))\n",
    "box2b = shapely.Polygon(box_points(2, offset_x=3))\n",
    "slices = make_slice_list(5)\n",
    "#slices = make_slice_list(5, start=0.2, spacing=0.2)\n",
    "slices_5 = make_contour_slices(5, slices, [box2a, box2b])\n",
    "\n",
    "# 2 cm x 2 cm box offset inf by 0.3 cm\n",
    "slices = make_slice_list(5, start=-0.3)\n",
    "slices_6 = make_contour_slices(6, slices, [offset_box6])\n"
   ]
  },
  {
   "cell_type": "code",
   "execution_count": null,
   "metadata": {},
   "outputs": [],
   "source": [
    "spacing: float = 0.1\n",
    "radius: float = 1\n",
    "number_slices = ceil(radius * 2 / spacing) + 1\n",
    "start_slice = - radius\n",
    "z_coord = make_slice_list(number_slices, start_slice, spacing)\n",
    "r_coord = circle_x_points(radius, z_coord)\n"
   ]
  },
  {
   "cell_type": "code",
   "execution_count": null,
   "metadata": {},
   "outputs": [
    {
     "data": {
      "image/png": "[encoded data removed]",
      "text/plain": [
       "<Figure size 640x480 with 1 Axes>"
      ]
     },
     "metadata": {},
     "output_type": "display_data"
    }
   ],
   "source": [
    "slice_points = []\n",
    "for slice, xy_points in sphere_points(1).items():\n",
    "    xy = np.array(xy_points)\n",
    "    z = np.ones((np.size(xy ,0), 1)) * slice\n",
    "    xyz = np.concatenate([xy, z], axis=1)\n",
    "    slice_points.append(xyz)\n",
    "sphere = np.concatenate(slice_points)\n",
    "\n",
    "fig = plt.figure()\n",
    "ax = fig.add_subplot(projection='3d')\n",
    "ax.plot(sphere[:,0], sphere[:,1], sphere[:,2], marker='.', linestyle='none', color='red')\n",
    "ax.set_aspect('equal')\n",
    "plt.show()"
   ]
  },
  {
   "cell_type": "code",
   "execution_count": null,
   "metadata": {},
   "outputs": [
    {
     "data": {
      "image/png": "[encoded data removed]",
      "text/plain": [
       "<Figure size 640x480 with 1 Axes>"
      ]
     },
     "metadata": {},
     "output_type": "display_data"
    }
   ],
   "source": [
    "a = make_sphere(radius=2, spacing=0.1, roi_num=0)\n",
    "b = make_sphere(radius=1, spacing=0.1, roi_num=1)\n",
    "slice_data = pd.concat([a, b])\n",
    "slice_table = make_slice_table(slice_data)\n",
    "plot_roi(slice_table, [0,1])"
   ]
  },
  {
   "cell_type": "code",
   "execution_count": null,
   "metadata": {},
   "outputs": [
    {
     "data": {
      "image/png": "[encoded data removed]",
      "text/plain": [
       "<Figure size 640x480 with 1 Axes>"
      ]
     },
     "metadata": {},
     "output_type": "display_data"
    }
   ],
   "source": [
    "a = make_vertical_cylinder(radius=2, length= 5, spacing=0.1, roi_num=0)\n",
    "b = make_vertical_cylinder(radius=1, length= 5, spacing=0.1, roi_num=1)\n",
    "slice_data = pd.concat([a, b])\n",
    "slice_table = make_slice_table(slice_data)\n",
    "plot_roi(slice_table, [0,1])"
   ]
  },
  {
   "cell_type": "markdown",
   "metadata": {},
   "source": [
    "### Margin Tests"
   ]
  },
  {
   "cell_type": "markdown",
   "metadata": {},
   "source": [
    "#### Contains"
   ]
  },
  {
   "cell_type": "markdown",
   "metadata": {},
   "source": [
    "<link rel=\"stylesheet\" href=\"relations.css\">\n",
    "<table width=\"400px\">\n",
    "<tr class=\"l\"><th>Contains</th><th>Transitive</th></tr>\n",
    "<td class=\"d\" colspan=\"2\">\n",
    "All points of <span class=\"b\">b</span> lie in the interior of <span class=\"a\">a</span>, no points of <span class=\"b\">b</span> lie in the exterior of <span class=\"a\">a</span>, some points in <span class=\"a\">a</span> are exterior to <span class=\"b\">b</span>, and the boundaries of <span class=\"a\">a</span> and <span class=\"b\">b</span> do not intersect.\n",
    "</td></tr>\n",
    "<tr><td colspan=\"2\">\n",
    "<img src=\"Images/Relationships/contains simple.png\" alt=\"Contains\">\n",
    "<img src=\"Images/Relationships/contains with hole.png\" alt=\"Contains With Hole\">\n",
    "</td></tr>\n",
    "</table></td></tr></table>"
   ]
  },
  {
   "cell_type": "code",
   "execution_count": 10,
   "metadata": {},
   "outputs": [],
   "source": [
    "def contains_example1():\n",
    "    circle6 = shapely.Polygon(circle_points(3))\n",
    "    circle4 = shapely.Polygon(circle_points(2))\n",
    "    a = StructureSlice([circle6])\n",
    "    b = StructureSlice([circle4])\n",
    "    print('Expected Margins: 1 cm in all directions.', )\n",
    "    return a, b\n",
    "\n",
    "def contains_example2():\n",
    "    circle6 = shapely.Polygon(circle_points(3))\n",
    "    circle4 = shapely.Polygon(circle_points(2))\n",
    "    circle3 = shapely.Polygon(circle_points(1.5))\n",
    "    circle2 = shapely.Polygon(circle_points(1))\n",
    "    a = StructureSlice([circle6, circle4, circle3])\n",
    "    b = StructureSlice([circle2])\n",
    "    print('Expected Margins: 0.5 cm in all directions.', )\n",
    "    return a, b\n",
    "\n",
    "def contains_example3():\n",
    "    circle6 = shapely.Polygon(circle_points(3))\n",
    "    circle5 = shapely.Polygon(circle_points(2.5))\n",
    "    circle3 = shapely.Polygon(circle_points(1.5))\n",
    "    circle2 = shapely.Polygon(circle_points(1))\n",
    "    a = StructureSlice([circle6, circle2])\n",
    "    b = StructureSlice([circle5, circle3])\n",
    "    print('Expected Margins: 0.5 cm in all directions.', )\n",
    "    return a, b\n",
    "\n",
    "def contains_example4():\n",
    "    circle6 = shapely.Polygon(circle_points(3))\n",
    "    circle3_offset_x = shapely.Polygon(circle_points(1.5, offset_x=1.2))\n",
    "    a = StructureSlice([circle6])\n",
    "    b = StructureSlice([circle3_offset_x])\n",
    "    print('Expected Margins:\\n\\t-X: 2.7\\t+X: 0.3\\ty: < 1.5', )\n",
    "    return a, b\n",
    "\n",
    "def contains_example5():\n",
    "    circle6_offset = shapely.Polygon(circle_points(3, offset_y=-1))\n",
    "    circle3_offset = shapely.Polygon(circle_points(1.5,\n",
    "                                                     offset_x=0.5,\n",
    "                                                     offset_y=-2))\n",
    "    a = StructureSlice([circle6_offset])\n",
    "    b = StructureSlice([circle3_offset])\n",
    "    print('Expected Margins:\\n\\t-X: 2.0<1.0\\t+X: <1.0\\t-y: < 2.5\\t+y: < 0.5', )\n",
    "    return a, b\n",
    "\n",
    "def contains_example6():\n",
    "    circle4_left = shapely.Polygon(circle_points(2, offset_x=-3))\n",
    "    circle4_right = shapely.Polygon(circle_points(2, offset_x=3))\n",
    "    circle3_left = shapely.Polygon(circle_points(1.5, offset_x=-3))\n",
    "    circle3_right = shapely.Polygon(circle_points(1.5, offset_x=3))\n",
    "    circle5_up = shapely.Polygon(circle_points(2.5, offset_y=4))\n",
    "    circle2_up = shapely.Polygon(circle_points(1, offset_y=3))\n",
    "    circle3_down = shapely.Polygon(circle_points(1.5, offset_y=-2.5))\n",
    "    circle1_down = shapely.Polygon(circle_points(0.5, offset_y=-2))\n",
    "    a = StructureSlice([circle4_left, circle4_right, circle5_up, circle3_down])\n",
    "    b = StructureSlice([circle3_left, circle3_right, circle2_up, circle1_down])\n",
    "    print('Expected Margins:\\n','\\n'.join([\n",
    "        '\\t-X:  0.5\\t+X:  0.5  \\t-y: 0.5  \\t+y: 0.5\\t',\n",
    "        '\\t-X:  0.5\\t+X:  0.5  \\t-y: 0.5  \\t+y: 0.5\\t',\n",
    "        '\\t-X: <1.5\\t+X: <1.5  \\t-y: 0.5  \\t+y: 2.5\\t',\n",
    "        '\\t-X: <1.0\\t+X: <1.0  \\t-y: 1.5  \\t+y: 0.5\\t'\n",
    "        ]))\n",
    "    return a, b"
   ]
  },
  {
   "cell_type": "code",
   "execution_count": 11,
   "metadata": {},
   "outputs": [
    {
     "name": "stdout",
     "output_type": "stream",
     "text": [
      "Expected Margins: 1 cm in all directions.\n"
     ]
    },
    {
     "data": {
      "image/png": "[encoded data removed]",
      "text/plain": [
       "<Figure size 400x200 with 1 Axes>"
      ]
     },
     "metadata": {},
     "output_type": "display_data"
    },
    {
     "data": {
      "text/html": [
       "<div>\n",
       "<style scoped>\n",
       "    .dataframe tbody tr th:only-of-type {\n",
       "        vertical-align: middle;\n",
       "    }\n",
       "\n",
       "    .dataframe tbody tr th {\n",
       "        vertical-align: top;\n",
       "    }\n",
       "\n",
       "    .dataframe thead th {\n",
       "        text-align: right;\n",
       "    }\n",
       "</style>\n",
       "<table border=\"1\" class=\"dataframe\">\n",
       "  <thead>\n",
       "    <tr style=\"text-align: right;\">\n",
       "      <th></th>\n",
       "      <th>x_min</th>\n",
       "      <th>y_min</th>\n",
       "      <th>x_max</th>\n",
       "      <th>y_max</th>\n",
       "      <th>max</th>\n",
       "      <th>min</th>\n",
       "    </tr>\n",
       "  </thead>\n",
       "  <tbody>\n",
       "    <tr>\n",
       "      <th>0</th>\n",
       "      <td>1.0</td>\n",
       "      <td>1.0</td>\n",
       "      <td>1.0</td>\n",
       "      <td>1.0</td>\n",
       "      <td>1.0</td>\n",
       "      <td>0.98</td>\n",
       "    </tr>\n",
       "  </tbody>\n",
       "</table>\n",
       "</div>"
      ],
      "text/plain": [
       "   x_min  y_min  x_max  y_max  max   min\n",
       "0    1.0    1.0    1.0    1.0  1.0  0.98"
      ]
     },
     "execution_count": 11,
     "metadata": {},
     "output_type": "execute_result"
    }
   ],
   "source": [
    "a, b = contains_example1()\n",
    "ax = plot_ab(a.contour, b.contour)\n",
    "relation_binary = relate(a,b)\n",
    "relation = identify_relation(relation_binary)\n",
    "margins(a, b, relation)\n"
   ]
  },
  {
   "cell_type": "code",
   "execution_count": 12,
   "metadata": {},
   "outputs": [
    {
     "name": "stdout",
     "output_type": "stream",
     "text": [
      "Expected Margins: 0.5 cm in all directions.\n"
     ]
    },
    {
     "data": {
      "image/png": "[encoded data removed]",
      "text/plain": [
       "<Figure size 400x200 with 1 Axes>"
      ]
     },
     "metadata": {},
     "output_type": "display_data"
    },
    {
     "data": {
      "text/html": [
       "<div>\n",
       "<style scoped>\n",
       "    .dataframe tbody tr th:only-of-type {\n",
       "        vertical-align: middle;\n",
       "    }\n",
       "\n",
       "    .dataframe tbody tr th {\n",
       "        vertical-align: top;\n",
       "    }\n",
       "\n",
       "    .dataframe thead th {\n",
       "        text-align: right;\n",
       "    }\n",
       "</style>\n",
       "<table border=\"1\" class=\"dataframe\">\n",
       "  <thead>\n",
       "    <tr style=\"text-align: right;\">\n",
       "      <th></th>\n",
       "      <th>x_min</th>\n",
       "      <th>y_min</th>\n",
       "      <th>x_max</th>\n",
       "      <th>y_max</th>\n",
       "      <th>max</th>\n",
       "      <th>min</th>\n",
       "    </tr>\n",
       "  </thead>\n",
       "  <tbody>\n",
       "    <tr>\n",
       "      <th>0</th>\n",
       "      <td>0.5</td>\n",
       "      <td>0.5</td>\n",
       "      <td>0.5</td>\n",
       "      <td>0.5</td>\n",
       "      <td>0.51</td>\n",
       "      <td>0.49</td>\n",
       "    </tr>\n",
       "  </tbody>\n",
       "</table>\n",
       "</div>"
      ],
      "text/plain": [
       "   x_min  y_min  x_max  y_max   max   min\n",
       "0    0.5    0.5    0.5    0.5  0.51  0.49"
      ]
     },
     "execution_count": 12,
     "metadata": {},
     "output_type": "execute_result"
    }
   ],
   "source": [
    "a, b = contains_example2()\n",
    "ax = plot_ab(a.contour, b.contour)\n",
    "relation_binary = relate(a,b)\n",
    "relation = identify_relation(relation_binary)\n",
    "margins(a, b, relation)"
   ]
  },
  {
   "cell_type": "code",
   "execution_count": 13,
   "metadata": {},
   "outputs": [
    {
     "name": "stdout",
     "output_type": "stream",
     "text": [
      "Expected Margins: 0.5 cm in all directions.\n"
     ]
    },
    {
     "data": {
      "image/png": "[encoded data removed]",
      "text/plain": [
       "<Figure size 400x200 with 1 Axes>"
      ]
     },
     "metadata": {},
     "output_type": "display_data"
    },
    {
     "data": {
      "text/html": [
       "<div>\n",
       "<style scoped>\n",
       "    .dataframe tbody tr th:only-of-type {\n",
       "        vertical-align: middle;\n",
       "    }\n",
       "\n",
       "    .dataframe tbody tr th {\n",
       "        vertical-align: top;\n",
       "    }\n",
       "\n",
       "    .dataframe thead th {\n",
       "        text-align: right;\n",
       "    }\n",
       "</style>\n",
       "<table border=\"1\" class=\"dataframe\">\n",
       "  <thead>\n",
       "    <tr style=\"text-align: right;\">\n",
       "      <th></th>\n",
       "      <th>x_min</th>\n",
       "      <th>y_min</th>\n",
       "      <th>x_max</th>\n",
       "      <th>y_max</th>\n",
       "      <th>max</th>\n",
       "      <th>min</th>\n",
       "    </tr>\n",
       "  </thead>\n",
       "  <tbody>\n",
       "    <tr>\n",
       "      <th>0</th>\n",
       "      <td>0.5</td>\n",
       "      <td>0.5</td>\n",
       "      <td>0.5</td>\n",
       "      <td>0.5</td>\n",
       "      <td>0.5</td>\n",
       "      <td>0.49</td>\n",
       "    </tr>\n",
       "  </tbody>\n",
       "</table>\n",
       "</div>"
      ],
      "text/plain": [
       "   x_min  y_min  x_max  y_max  max   min\n",
       "0    0.5    0.5    0.5    0.5  0.5  0.49"
      ]
     },
     "execution_count": 13,
     "metadata": {},
     "output_type": "execute_result"
    }
   ],
   "source": [
    "a, b = contains_example3()\n",
    "ax = plot_ab(a.contour, b.contour)\n",
    "relation_binary = relate(a,b)\n",
    "relation = identify_relation(relation_binary)\n",
    "margins(a, b, relation)"
   ]
  },
  {
   "cell_type": "code",
   "execution_count": 14,
   "metadata": {},
   "outputs": [
    {
     "name": "stdout",
     "output_type": "stream",
     "text": [
      "Expected Margins:\n",
      "\t-X: 2.7\t+X: 0.3\ty: < 1.5\n"
     ]
    },
    {
     "data": {
      "image/png": "[encoded data removed]",
      "text/plain": [
       "<Figure size 400x200 with 1 Axes>"
      ]
     },
     "metadata": {},
     "output_type": "display_data"
    },
    {
     "data": {
      "text/html": [
       "<div>\n",
       "<style scoped>\n",
       "    .dataframe tbody tr th:only-of-type {\n",
       "        vertical-align: middle;\n",
       "    }\n",
       "\n",
       "    .dataframe tbody tr th {\n",
       "        vertical-align: top;\n",
       "    }\n",
       "\n",
       "    .dataframe thead th {\n",
       "        text-align: right;\n",
       "    }\n",
       "</style>\n",
       "<table border=\"1\" class=\"dataframe\">\n",
       "  <thead>\n",
       "    <tr style=\"text-align: right;\">\n",
       "      <th></th>\n",
       "      <th>x_min</th>\n",
       "      <th>y_min</th>\n",
       "      <th>x_max</th>\n",
       "      <th>y_max</th>\n",
       "      <th>max</th>\n",
       "      <th>min</th>\n",
       "    </tr>\n",
       "  </thead>\n",
       "  <tbody>\n",
       "    <tr>\n",
       "      <th>0</th>\n",
       "      <td>2.7</td>\n",
       "      <td>1.24</td>\n",
       "      <td>0.3</td>\n",
       "      <td>1.24</td>\n",
       "      <td>2.7</td>\n",
       "      <td>0.29</td>\n",
       "    </tr>\n",
       "  </tbody>\n",
       "</table>\n",
       "</div>"
      ],
      "text/plain": [
       "   x_min  y_min  x_max  y_max  max   min\n",
       "0    2.7   1.24    0.3   1.24  2.7  0.29"
      ]
     },
     "execution_count": 14,
     "metadata": {},
     "output_type": "execute_result"
    }
   ],
   "source": [
    "a, b = contains_example4()\n",
    "ax = plot_ab(a.contour, b.contour)\n",
    "relation_binary = relate(a,b)\n",
    "relation = identify_relation(relation_binary)\n",
    "margins(a, b, relation)"
   ]
  },
  {
   "cell_type": "code",
   "execution_count": 15,
   "metadata": {},
   "outputs": [
    {
     "name": "stdout",
     "output_type": "stream",
     "text": [
      "Expected Margins:\n",
      "\t-X: 2.0<1.0\t+X: <1.0\t-y: < 2.5\t+y: < 0.5\n"
     ]
    },
    {
     "data": {
      "image/png": "[encoded data removed]",
      "text/plain": [
       "<Figure size 400x200 with 1 Axes>"
      ]
     },
     "metadata": {},
     "output_type": "display_data"
    },
    {
     "data": {
      "text/html": [
       "<div>\n",
       "<style scoped>\n",
       "    .dataframe tbody tr th:only-of-type {\n",
       "        vertical-align: middle;\n",
       "    }\n",
       "\n",
       "    .dataframe tbody tr th {\n",
       "        vertical-align: top;\n",
       "    }\n",
       "\n",
       "    .dataframe thead th {\n",
       "        text-align: right;\n",
       "    }\n",
       "</style>\n",
       "<table border=\"1\" class=\"dataframe\">\n",
       "  <thead>\n",
       "    <tr style=\"text-align: right;\">\n",
       "      <th></th>\n",
       "      <th>x_min</th>\n",
       "      <th>y_min</th>\n",
       "      <th>x_max</th>\n",
       "      <th>y_max</th>\n",
       "      <th>max</th>\n",
       "      <th>min</th>\n",
       "    </tr>\n",
       "  </thead>\n",
       "  <tbody>\n",
       "    <tr>\n",
       "      <th>0</th>\n",
       "      <td>1.8</td>\n",
       "      <td>0.4</td>\n",
       "      <td>0.8</td>\n",
       "      <td>2.4</td>\n",
       "      <td>2.61</td>\n",
       "      <td>0.36</td>\n",
       "    </tr>\n",
       "  </tbody>\n",
       "</table>\n",
       "</div>"
      ],
      "text/plain": [
       "   x_min  y_min  x_max  y_max   max   min\n",
       "0    1.8    0.4    0.8    2.4  2.61  0.36"
      ]
     },
     "execution_count": 15,
     "metadata": {},
     "output_type": "execute_result"
    }
   ],
   "source": [
    "a, b = contains_example5()\n",
    "ax = plot_ab(a.contour, b.contour)\n",
    "relation_binary = relate(a,b)\n",
    "relation = identify_relation(relation_binary)\n",
    "margins(a, b, relation)"
   ]
  },
  {
   "cell_type": "code",
   "execution_count": 16,
   "metadata": {},
   "outputs": [
    {
     "name": "stdout",
     "output_type": "stream",
     "text": [
      "Expected Margins:\n",
      " \t-X:  0.5\t+X:  0.5  \t-y: 0.5  \t+y: 0.5\t\n",
      "\t-X:  0.5\t+X:  0.5  \t-y: 0.5  \t+y: 0.5\t\n",
      "\t-X: <1.5\t+X: <1.5  \t-y: 0.5  \t+y: 2.5\t\n",
      "\t-X: <1.0\t+X: <1.0  \t-y: 1.5  \t+y: 0.5\t\n"
     ]
    },
    {
     "data": {
      "image/png": "[encoded data removed]",
      "text/plain": [
       "<Figure size 400x200 with 1 Axes>"
      ]
     },
     "metadata": {},
     "output_type": "display_data"
    },
    {
     "data": {
      "text/html": [
       "<div>\n",
       "<style scoped>\n",
       "    .dataframe tbody tr th:only-of-type {\n",
       "        vertical-align: middle;\n",
       "    }\n",
       "\n",
       "    .dataframe tbody tr th {\n",
       "        vertical-align: top;\n",
       "    }\n",
       "\n",
       "    .dataframe thead th {\n",
       "        text-align: right;\n",
       "    }\n",
       "</style>\n",
       "<table border=\"1\" class=\"dataframe\">\n",
       "  <thead>\n",
       "    <tr style=\"text-align: right;\">\n",
       "      <th></th>\n",
       "      <th>x_min</th>\n",
       "      <th>y_min</th>\n",
       "      <th>x_max</th>\n",
       "      <th>y_max</th>\n",
       "      <th>max</th>\n",
       "      <th>min</th>\n",
       "    </tr>\n",
       "  </thead>\n",
       "  <tbody>\n",
       "    <tr>\n",
       "      <th>0</th>\n",
       "      <td>0.50</td>\n",
       "      <td>0.5</td>\n",
       "      <td>0.50</td>\n",
       "      <td>0.5</td>\n",
       "      <td>0.5</td>\n",
       "      <td>0.49</td>\n",
       "    </tr>\n",
       "    <tr>\n",
       "      <th>1</th>\n",
       "      <td>0.50</td>\n",
       "      <td>0.5</td>\n",
       "      <td>0.50</td>\n",
       "      <td>0.5</td>\n",
       "      <td>0.5</td>\n",
       "      <td>0.49</td>\n",
       "    </tr>\n",
       "    <tr>\n",
       "      <th>2</th>\n",
       "      <td>1.28</td>\n",
       "      <td>0.5</td>\n",
       "      <td>1.28</td>\n",
       "      <td>2.5</td>\n",
       "      <td>2.5</td>\n",
       "      <td>0.49</td>\n",
       "    </tr>\n",
       "    <tr>\n",
       "      <th>3</th>\n",
       "      <td>0.90</td>\n",
       "      <td>1.5</td>\n",
       "      <td>0.90</td>\n",
       "      <td>0.5</td>\n",
       "      <td>1.5</td>\n",
       "      <td>0.49</td>\n",
       "    </tr>\n",
       "  </tbody>\n",
       "</table>\n",
       "</div>"
      ],
      "text/plain": [
       "   x_min  y_min  x_max  y_max  max   min\n",
       "0   0.50    0.5   0.50    0.5  0.5  0.49\n",
       "1   0.50    0.5   0.50    0.5  0.5  0.49\n",
       "2   1.28    0.5   1.28    2.5  2.5  0.49\n",
       "3   0.90    1.5   0.90    0.5  1.5  0.49"
      ]
     },
     "execution_count": 16,
     "metadata": {},
     "output_type": "execute_result"
    }
   ],
   "source": [
    "a, b = contains_example6()\n",
    "ax = plot_ab(a.contour, b.contour)\n",
    "relation_binary = relate(a,b)\n",
    "relation = identify_relation(relation_binary)\n",
    "margins(a, b, relation)"
   ]
  },
  {
   "cell_type": "markdown",
   "metadata": {},
   "source": [
    "#### Surrounds"
   ]
  },
  {
   "cell_type": "markdown",
   "metadata": {},
   "source": [
    "<link rel=\"stylesheet\" href=\"relations.css\">\n",
    "<table width=\"400px\">\n",
    "<tr class=\"l\"><th>Surrounds</th><th>Transitive</t></tr>\n",
    "<td class=\"d\" colspan=\"2\">\n",
    "<span class=\"a\">a</span> and <span class=\"b\">b</span> have no interior points in common, and with holes filled <span class=\"b\">b</span> lies in the interior of <span class=\"a\">a</span>.\n",
    "</td></tr><tr><td colspan=\"2\">\n",
    "<img src=\"Images/Relationships/surrounds simple.png\" alt=\"surrounds simple\">\n",
    "<img src=\"Images/Relationships/surrounds with ring.png\" alt=\"surrounds ring\">\n",
    "</td></tr>\n",
    "</table></td></tr></table>\n"
   ]
  },
  {
   "cell_type": "code",
   "execution_count": 17,
   "metadata": {},
   "outputs": [],
   "source": [
    "def surrounds_example1():\n",
    "    circle6 = shapely.Polygon(circle_points(3))\n",
    "    circle4 = shapely.Polygon(circle_points(2))\n",
    "    circle2 = shapely.Polygon(circle_points(1))\n",
    "\n",
    "    a = StructureSlice([circle6, circle4])\n",
    "    b = StructureSlice([circle2])\n",
    "    print('Expected Margins: 1 cm in all directions.', )\n",
    "    return a, b\n",
    "\n",
    "def surrounds_example2():\n",
    "    circle6 = shapely.Polygon(circle_points(3))\n",
    "    circle5 = shapely.Polygon(circle_points(2.5))\n",
    "    circle4 = shapely.Polygon(circle_points(2))\n",
    "    circle3 = shapely.Polygon(circle_points(1.5))\n",
    "    circle2 = shapely.Polygon(circle_points(1))\n",
    "\n",
    "    a = StructureSlice([circle6, circle5, circle2])\n",
    "    b = StructureSlice([circle4, circle3])\n",
    "    print('Expected Margins: 0.5 cm in all directions.', )\n",
    "    return a, b\n",
    "\n",
    "def surrounds_example3():\n",
    "    box10x5 = shapely.Polygon(box_points(10,5))\n",
    "    circle4_left = shapely.Polygon(circle_points(2, offset_x=-3))\n",
    "    circle3_right = shapely.Polygon(circle_points(1.5, offset_x=3))\n",
    "    circle2_left = shapely.Polygon(circle_points(1, offset_x=-3, offset_y=0.5))\n",
    "    circle2_right = shapely.Polygon(circle_points(1, offset_x=3))\n",
    "    a = StructureSlice([box10x5, circle4_left, circle3_right, circle2_right])\n",
    "    b = StructureSlice([circle2_left])\n",
    "    print('Expected Margins:\\n\\tX: < 1.0\\t-Y: 1.5  \\t+y: < 0.5', )\n",
    "    return a, b"
   ]
  },
  {
   "cell_type": "code",
   "execution_count": 18,
   "metadata": {},
   "outputs": [
    {
     "name": "stdout",
     "output_type": "stream",
     "text": [
      "Expected Margins: 1 cm in all directions.\n"
     ]
    },
    {
     "data": {
      "image/png": "[encoded data removed]",
      "text/plain": [
       "<Figure size 400x200 with 1 Axes>"
      ]
     },
     "metadata": {},
     "output_type": "display_data"
    },
    {
     "data": {
      "text/html": [
       "<div>\n",
       "<style scoped>\n",
       "    .dataframe tbody tr th:only-of-type {\n",
       "        vertical-align: middle;\n",
       "    }\n",
       "\n",
       "    .dataframe tbody tr th {\n",
       "        vertical-align: top;\n",
       "    }\n",
       "\n",
       "    .dataframe thead th {\n",
       "        text-align: right;\n",
       "    }\n",
       "</style>\n",
       "<table border=\"1\" class=\"dataframe\">\n",
       "  <thead>\n",
       "    <tr style=\"text-align: right;\">\n",
       "      <th></th>\n",
       "      <th>x_min</th>\n",
       "      <th>y_min</th>\n",
       "      <th>x_max</th>\n",
       "      <th>y_max</th>\n",
       "      <th>max</th>\n",
       "      <th>min</th>\n",
       "    </tr>\n",
       "  </thead>\n",
       "  <tbody>\n",
       "    <tr>\n",
       "      <th>0</th>\n",
       "      <td>1.0</td>\n",
       "      <td>1.0</td>\n",
       "      <td>1.0</td>\n",
       "      <td>1.0</td>\n",
       "      <td>1.0</td>\n",
       "      <td>0.97</td>\n",
       "    </tr>\n",
       "  </tbody>\n",
       "</table>\n",
       "</div>"
      ],
      "text/plain": [
       "   x_min  y_min  x_max  y_max  max   min\n",
       "0    1.0    1.0    1.0    1.0  1.0  0.97"
      ]
     },
     "execution_count": 18,
     "metadata": {},
     "output_type": "execute_result"
    }
   ],
   "source": [
    "a, b = surrounds_example1()\n",
    "ax = plot_ab(a.contour, b.contour)\n",
    "relation_binary = relate(a,b)\n",
    "relation = identify_relation(relation_binary)\n",
    "margins(a, b, relation)\n"
   ]
  },
  {
   "cell_type": "code",
   "execution_count": 19,
   "metadata": {},
   "outputs": [
    {
     "name": "stdout",
     "output_type": "stream",
     "text": [
      "Expected Margins: 0.5 cm in all directions.\n"
     ]
    },
    {
     "data": {
      "image/png": "[encoded data removed]",
      "text/plain": [
       "<Figure size 400x200 with 1 Axes>"
      ]
     },
     "metadata": {},
     "output_type": "display_data"
    },
    {
     "data": {
      "text/html": [
       "<div>\n",
       "<style scoped>\n",
       "    .dataframe tbody tr th:only-of-type {\n",
       "        vertical-align: middle;\n",
       "    }\n",
       "\n",
       "    .dataframe tbody tr th {\n",
       "        vertical-align: top;\n",
       "    }\n",
       "\n",
       "    .dataframe thead th {\n",
       "        text-align: right;\n",
       "    }\n",
       "</style>\n",
       "<table border=\"1\" class=\"dataframe\">\n",
       "  <thead>\n",
       "    <tr style=\"text-align: right;\">\n",
       "      <th></th>\n",
       "      <th>x_min</th>\n",
       "      <th>y_min</th>\n",
       "      <th>x_max</th>\n",
       "      <th>y_max</th>\n",
       "      <th>max</th>\n",
       "      <th>min</th>\n",
       "    </tr>\n",
       "  </thead>\n",
       "  <tbody>\n",
       "    <tr>\n",
       "      <th>0</th>\n",
       "      <td>0.5</td>\n",
       "      <td>0.5</td>\n",
       "      <td>0.5</td>\n",
       "      <td>0.5</td>\n",
       "      <td>0.51</td>\n",
       "      <td>0.49</td>\n",
       "    </tr>\n",
       "  </tbody>\n",
       "</table>\n",
       "</div>"
      ],
      "text/plain": [
       "   x_min  y_min  x_max  y_max   max   min\n",
       "0    0.5    0.5    0.5    0.5  0.51  0.49"
      ]
     },
     "execution_count": 19,
     "metadata": {},
     "output_type": "execute_result"
    }
   ],
   "source": [
    "a, b = surrounds_example2()\n",
    "ax = plot_ab(a.contour, b.contour)\n",
    "relation_binary = relate(a,b)\n",
    "relation = identify_relation(relation_binary)\n",
    "margins(a, b, relation)"
   ]
  },
  {
   "cell_type": "code",
   "execution_count": 20,
   "metadata": {},
   "outputs": [
    {
     "name": "stdout",
     "output_type": "stream",
     "text": [
      "Expected Margins:\n",
      "\tX: < 1.0\t-Y: 1.5  \t+y: < 0.5\n"
     ]
    },
    {
     "data": {
      "image/png": "[encoded data removed]",
      "text/plain": [
       "<Figure size 400x200 with 1 Axes>"
      ]
     },
     "metadata": {},
     "output_type": "display_data"
    },
    {
     "data": {
      "text/html": [
       "<div>\n",
       "<style scoped>\n",
       "    .dataframe tbody tr th:only-of-type {\n",
       "        vertical-align: middle;\n",
       "    }\n",
       "\n",
       "    .dataframe tbody tr th {\n",
       "        vertical-align: top;\n",
       "    }\n",
       "\n",
       "    .dataframe thead th {\n",
       "        text-align: right;\n",
       "    }\n",
       "</style>\n",
       "<table border=\"1\" class=\"dataframe\">\n",
       "  <thead>\n",
       "    <tr style=\"text-align: right;\">\n",
       "      <th></th>\n",
       "      <th>x_min</th>\n",
       "      <th>y_min</th>\n",
       "      <th>x_max</th>\n",
       "      <th>y_max</th>\n",
       "      <th>max</th>\n",
       "      <th>min</th>\n",
       "    </tr>\n",
       "  </thead>\n",
       "  <tbody>\n",
       "    <tr>\n",
       "      <th>0</th>\n",
       "      <td>0.9</td>\n",
       "      <td>1.5</td>\n",
       "      <td>0.9</td>\n",
       "      <td>0.5</td>\n",
       "      <td>1.5</td>\n",
       "      <td>0.49</td>\n",
       "    </tr>\n",
       "  </tbody>\n",
       "</table>\n",
       "</div>"
      ],
      "text/plain": [
       "   x_min  y_min  x_max  y_max  max   min\n",
       "0    0.9    1.5    0.9    0.5  1.5  0.49"
      ]
     },
     "execution_count": 20,
     "metadata": {},
     "output_type": "execute_result"
    }
   ],
   "source": [
    "a, b = surrounds_example3()\n",
    "ax = plot_ab(a.contour, b.contour)\n",
    "relation_binary = relate(a,b)\n",
    "relation = identify_relation(relation_binary)\n",
    "margins(a, b, relation)"
   ]
  },
  {
   "cell_type": "markdown",
   "metadata": {},
   "source": [
    "#### Shelters"
   ]
  },
  {
   "cell_type": "markdown",
   "metadata": {},
   "source": [
    "<link rel=\"stylesheet\" href=\"relations.css\">\n",
    "<table width=\"400px\">\n",
    "<tr class=\"l\"><th>Shelters</th><th>Transitive</th></tr>\n",
    "<td class=\"d\" colspan=\"2\">\n",
    "<span class=\"a\">a</span> and <span class=\"b\">b</span> \n",
    "have no points in common, \n",
    "but the Convex Hull of <span class=\"a\">a</span> contains <span class=\"b\">b</span>.\n",
    "</td></tr>\n",
    "<tr><td colspan=\"2\">\n",
    "<img src=\"Images/Relationships/shelters.png\" alt=\"Shelters\">\n",
    "</td></tr>\n",
    "</table></td></tr></table>"
   ]
  },
  {
   "cell_type": "code",
   "execution_count": 21,
   "metadata": {},
   "outputs": [],
   "source": [
    "def shelters_example():\n",
    "    circle6 = shapely.Polygon(circle_points(3))\n",
    "    circle5 = shapely.Polygon(circle_points(2.5))\n",
    "    circle4_offset = shapely.Polygon(circle_points(2, offset_x=3.5))\n",
    "    shell = shapely.difference(circle6, circle5)\n",
    "    cove = shapely.difference(shell, circle4_offset)\n",
    "    circle2 = shapely.Polygon(circle_points(1, offset_x=1))\n",
    "\n",
    "    x_min_margin = 5.0/2 - 2.0/2 + 1.0   # Margin to contour\n",
    "    cove_edge = cove.bounds[2]\n",
    "    x_max_margin = cove_edge - 2.0/2 - 1.0   # Margin to Hull\n",
    "    y_edge = sqrt(2.5*2.5 - 1)\n",
    "    y_margin = y_edge - 2.0/2\n",
    "    print(''.join([\n",
    "        f'Expected Margins:\\n\\t',\n",
    "        f'-X: {x_min_margin:3.2f}  ',\n",
    "        f'+X:{x_max_margin:3.2f}  ',\n",
    "        f'Y: {y_margin:3.2f}'\n",
    "        ]))\n",
    "\n",
    "    a = StructureSlice([cove])\n",
    "    b = StructureSlice([circle2])\n",
    "\n",
    "    return a, b\n"
   ]
  },
  {
   "cell_type": "code",
   "execution_count": 22,
   "metadata": {},
   "outputs": [
    {
     "name": "stdout",
     "output_type": "stream",
     "text": [
      "Expected Margins:\n",
      "\t-X: 2.50  +X:0.44  Y: 1.29\n"
     ]
    },
    {
     "data": {
      "image/png": "[encoded data removed]",
      "text/plain": [
       "<Figure size 400x200 with 1 Axes>"
      ]
     },
     "metadata": {},
     "output_type": "display_data"
    },
    {
     "data": {
      "text/html": [
       "<div>\n",
       "<style scoped>\n",
       "    .dataframe tbody tr th:only-of-type {\n",
       "        vertical-align: middle;\n",
       "    }\n",
       "\n",
       "    .dataframe tbody tr th {\n",
       "        vertical-align: top;\n",
       "    }\n",
       "\n",
       "    .dataframe thead th {\n",
       "        text-align: right;\n",
       "    }\n",
       "</style>\n",
       "<table border=\"1\" class=\"dataframe\">\n",
       "  <thead>\n",
       "    <tr style=\"text-align: right;\">\n",
       "      <th></th>\n",
       "      <th>x_min</th>\n",
       "      <th>y_min</th>\n",
       "      <th>x_max</th>\n",
       "      <th>y_max</th>\n",
       "      <th>max</th>\n",
       "      <th>min</th>\n",
       "    </tr>\n",
       "  </thead>\n",
       "  <tbody>\n",
       "    <tr>\n",
       "      <th>0</th>\n",
       "      <td>2.5</td>\n",
       "      <td>1.28</td>\n",
       "      <td>0.44</td>\n",
       "      <td>1.28</td>\n",
       "      <td>2.5</td>\n",
       "      <td>0.44</td>\n",
       "    </tr>\n",
       "  </tbody>\n",
       "</table>\n",
       "</div>"
      ],
      "text/plain": [
       "   x_min  y_min  x_max  y_max  max   min\n",
       "0    2.5   1.28   0.44   1.28  2.5  0.44"
      ]
     },
     "execution_count": 22,
     "metadata": {},
     "output_type": "execute_result"
    }
   ],
   "source": [
    "a, b = shelters_example()\n",
    "ax = plot_ab(a.contour, b.contour)\n",
    "relation_binary = relate(a,b)\n",
    "relation = identify_relation(relation_binary)\n",
    "margins(a, b, relation)"
   ]
  },
  {
   "cell_type": "markdown",
   "metadata": {},
   "source": [
    "## Distance\n",
    "- $Distance = distance(a,b)$\n",
    "\n",
    "**Used By:**\n",
    "- Disjoint\n"
   ]
  },
  {
   "cell_type": "code",
   "execution_count": 23,
   "metadata": {},
   "outputs": [],
   "source": [
    "def distances(poly_a: StructureSlice, poly_b: StructureSlice,\n",
    "              relation: RelationshipType,\n",
    "              precision: int = PRECISION)->pd.DataFrame:\n",
    "    distance_list = []\n",
    "    # Compare all polygons on the same slice\n",
    "    for polygon_a, polygon_b in product(poly_a.contour.geoms,\n",
    "                                        poly_b.contour.geoms):\n",
    "        boundary_a = polygon_a.exterior\n",
    "        boundary_b = polygon_b.exterior\n",
    "        distance = boundary_a.distance(boundary_b)\n",
    "        rounded_distance = round(distance, precision)\n",
    "        distance_dict = {'distance': rounded_distance}\n",
    "        distance_list.append(distance_dict)\n",
    "    if distance_list:\n",
    "        return pd.DataFrame(distance_list)\n",
    "    return pd.DataFrame()"
   ]
  },
  {
   "cell_type": "markdown",
   "metadata": {},
   "source": [
    "### Distance Tests\n",
    "\n",
    "#### Disjoint"
   ]
  },
  {
   "cell_type": "markdown",
   "metadata": {},
   "source": [
    "<link rel=\"stylesheet\" href=\"relations.css\">\n",
    "<table width=\"300px\">\n",
    "<tr class=\"l\"><th>Disjoint</th><th>Symmetric</th></tr>\n",
    "<td class=\"d\" colspan=\"2\">The Convex Hull of \n",
    "<span class=\"a\">a</span> has no points in common with <span class=\"b\">b</span>.</td></tr>\n",
    "<tr><td colspan=\"2\">\n",
    "<img src=\"Images/Relationships/disjoint.png\" alt=\"Disjoint\" style=\"width: 200px\">\n",
    "</td></tr></table>"
   ]
  },
  {
   "cell_type": "code",
   "execution_count": 24,
   "metadata": {},
   "outputs": [],
   "source": [
    "def disjoint_example():\n",
    "    circle4_left = shapely.Polygon(circle_points(4, offset_x=-4.5))\n",
    "    circle4_right = shapely.Polygon(circle_points(4, offset_x=4.5))\n",
    "\n",
    "    a = StructureSlice([circle4_left])\n",
    "    b = StructureSlice([circle4_right])\n",
    "    print('Expected Distance: 1.0')\n",
    "    return a, b\n"
   ]
  },
  {
   "cell_type": "code",
   "execution_count": 25,
   "metadata": {},
   "outputs": [
    {
     "name": "stdout",
     "output_type": "stream",
     "text": [
      "Expected Distance: 1.0\n"
     ]
    },
    {
     "data": {
      "image/png": "[encoded data removed]",
      "text/plain": [
       "<Figure size 400x200 with 1 Axes>"
      ]
     },
     "metadata": {},
     "output_type": "display_data"
    },
    {
     "data": {
      "text/html": [
       "<div>\n",
       "<style scoped>\n",
       "    .dataframe tbody tr th:only-of-type {\n",
       "        vertical-align: middle;\n",
       "    }\n",
       "\n",
       "    .dataframe tbody tr th {\n",
       "        vertical-align: top;\n",
       "    }\n",
       "\n",
       "    .dataframe thead th {\n",
       "        text-align: right;\n",
       "    }\n",
       "</style>\n",
       "<table border=\"1\" class=\"dataframe\">\n",
       "  <thead>\n",
       "    <tr style=\"text-align: right;\">\n",
       "      <th></th>\n",
       "      <th>distance</th>\n",
       "    </tr>\n",
       "  </thead>\n",
       "  <tbody>\n",
       "    <tr>\n",
       "      <th>0</th>\n",
       "      <td>1.0</td>\n",
       "    </tr>\n",
       "  </tbody>\n",
       "</table>\n",
       "</div>"
      ],
      "text/plain": [
       "   distance\n",
       "0       1.0"
      ]
     },
     "execution_count": 25,
     "metadata": {},
     "output_type": "execute_result"
    }
   ],
   "source": [
    "a, b = disjoint_example()\n",
    "ax = plot_ab(a.contour, b.contour)\n",
    "relation_binary = relate(a,b)\n",
    "relation = identify_relation(relation_binary)\n",
    "distances(a, b, relation)"
   ]
  },
  {
   "cell_type": "markdown",
   "metadata": {},
   "source": [
    "## Ratio of Volumes\n",
    "\n",
    "Ratio of the overlapping volume to the average or larger volume.\n",
    "$R_V =\\frac{V( a \\cap b )}{\\overline{V_{a,b}}}$\n",
    "\n",
    "Since the structures are compared slice by slice, the Volume function can be written as:<br>\n",
    "$V(x) = t \\times \\operatorname{area} ( x )$,<br>\n",
    "where $t$ is the slice thickness. \n",
    "\n",
    "When calculating the ratio, slice thickness is a constant, so the Volume ratio is equal to the ratio sums of the areas over all slices:\n",
    "  \n",
    "$R_V =\\frac{\\sum_s \\operatorname{area}( a \\cap b )}{\\sum_s \\overline{\\operatorname{area}_{a,b}}}$\n",
    "\n",
    "*Used By:*\n",
    "\n",
    "- **Overlaps**\n",
    "> - Ratio of the volume of overlap to the average volume of $a$ and $b$:\n",
    "> - $R_v =\\frac{\\sum_s \\left[ 2 \\times \\operatorname{area}( a \\cap b ) \\right] }{\\sum_s \\left[ \\operatorname{area}( a ) + \\operatorname{area}( b ) \\right] }$\n",
    "\n",
    "\n",
    "- **Partition**\n",
    "> - Ratio of the volume of the overlap to the volume of the larger structure ($a$):\n",
    "> - $R_V =\\frac{\\sum_s \\operatorname{area}( a \\cap b )}{\\sum_s \\operatorname{area}( a )}$\n"
   ]
  },
  {
   "cell_type": "code",
   "execution_count": 26,
   "metadata": {},
   "outputs": [],
   "source": [
    "def related_areas(poly_a: StructureSlice,\n",
    "                  poly_b: StructureSlice)->Dict[str, float]:\n",
    "    # Total areas of the two Structure Slices\n",
    "    area_a = sum(poly.area for poly in poly_a.contour.geoms)\n",
    "    area_b = sum(poly.area for poly in poly_b.contour.geoms)\n",
    "    # Calculate overlap by comparing all polygons in a with all polygons in b\n",
    "    overlap_area_list = []\n",
    "    for polygon_a, polygon_b in product(poly_a.contour.geoms,\n",
    "                                        poly_b.contour.geoms):\n",
    "        overlap_region = shapely.intersection(polygon_a, polygon_b)\n",
    "        overlap_area_list.append(overlap_region.area)\n",
    "    overlap_area = sum(overlap_area_list)\n",
    "    areas = {'poly_a': area_a,\n",
    "             'poly_b': area_b,\n",
    "             'overlap': overlap_area}\n",
    "    return areas"
   ]
  },
  {
   "cell_type": "code",
   "execution_count": 27,
   "metadata": {},
   "outputs": [],
   "source": [
    "# For full structure this will convert to a loop over all slices\n",
    "# results in list of dict -> DataFrame ->  sum columns\n",
    "def volume_ratio(poly_a: StructureSlice, poly_b: StructureSlice,\n",
    "                 relation: RelationshipType,\n",
    "                 precision: int = PRECISION)->pd.DataFrame:\n",
    "\n",
    "    def average_volume_ratio(areas: pd.DataFrame,\n",
    "                             precision: int = PRECISION)->pd.DataFrame:\n",
    "        average_volume = (areas['poly_a'] + areas['poly_b']) / 2.0\n",
    "        ratio = areas['overlap'] / average_volume\n",
    "        rounded_ratio = round(ratio, precision)\n",
    "        return rounded_ratio\n",
    "\n",
    "    def larger_area_ratio(areas: pd.DataFrame,\n",
    "                          precision: int = PRECISION)->pd.DataFrame:\n",
    "        ratio = areas['overlap'] / areas['poly_a']\n",
    "        rounded_ratio = round(ratio, precision)\n",
    "        return rounded_ratio\n",
    "\n",
    "    areas = related_areas(poly_a, poly_b)\n",
    "    if relation == RelationshipType.OVERLAPS:\n",
    "        ratio = average_volume_ratio(areas, precision)\n",
    "    elif relation == RelationshipType.PARTITION:\n",
    "        ratio = larger_area_ratio(areas, precision)\n",
    "    else:\n",
    "        ratio = np.nan\n",
    "    return ratio"
   ]
  },
  {
   "cell_type": "markdown",
   "metadata": {},
   "source": [
    "<link rel=\"stylesheet\" href=\"relations.css\">\n",
    "<table width=\"400px\">\n",
    "<tr class=\"l\"><th>Overlaps</th><th>Symmetric</th></tr>\n",
    "<td class=\"d\" colspan=\"2\">\n",
    "<span class=\"a\">a</span> and <span class=\"b\">b</span> \n",
    "have some but not all points in common.\n",
    "</td></tr>\n",
    "<tr><td colspan=\"2\">\n",
    "<img src=\"Images/Relationships/overlaps simple.png\" alt=\"Overlaps\">\n",
    "<img src=\"Images/Relationships/overlaps ring.png\" alt=\"Overlaps With Ring\">\n",
    "<img src=\"Images/Relationships/overlaps surounded.png\" alt=\"Overlaps Surrounded\">\n",
    "<img src=\"Images/Relationships/overlaps ring surrounds simple.png\" alt=\"Ring Overlaps Simple\">\n",
    "<img src=\"Images/Relationships/archipelago contains simple.png\" alt=\"Ring Overlaps Simple\">\n",
    "</td></tr></table>"
   ]
  },
  {
   "cell_type": "code",
   "execution_count": 28,
   "metadata": {},
   "outputs": [],
   "source": [
    "def overlaps_box_example():\n",
    "    box4 = shapely.Polygon(box_points(4))\n",
    "    box4_offset = shapely.Polygon(box_points(4, offset_x=2))\n",
    "\n",
    "    area_a = 4 * 4\n",
    "    area_b = 4 * 4\n",
    "    average_area = (area_a + area_b) / 2\n",
    "    overlapping_area = 4 * 2\n",
    "    ratio = overlapping_area / average_area\n",
    "    print(f'Expected Ratio: {ratio:3.2f}')\n",
    "\n",
    "    a = StructureSlice([box4])\n",
    "    b = StructureSlice([box4_offset])\n",
    "    return a, b\n",
    "\n",
    "def overlaps_simple_example():\n",
    "    circle6 = shapely.Polygon(circle_points(3))\n",
    "    box6_offset = shapely.Polygon(box_points(6, offset_x=3))\n",
    "\n",
    "    area_a = pi * 3**2\n",
    "    area_b = 6 * 6\n",
    "    average_area = (area_a + area_b) / 2\n",
    "    overlapping_area = area_a / 2\n",
    "    ratio = overlapping_area / average_area\n",
    "    print(f'Expected Ratio: {ratio:3.2f}')\n",
    "\n",
    "    a = StructureSlice([circle6])\n",
    "    b = StructureSlice([box6_offset])\n",
    "    return a, b\n",
    "\n",
    "def overlaps_ring_example():\n",
    "    circle6 = shapely.Polygon(circle_points(3))\n",
    "    circle4 = shapely.Polygon(circle_points(2))\n",
    "    box6_offset = shapely.Polygon(box_points(6, offset_x=3))\n",
    "\n",
    "    area_a = pi * (3**2 - 2**2)\n",
    "    area_b = 6 * 6\n",
    "    average_area = (area_a + area_b) / 2\n",
    "    overlapping_area = area_a / 2\n",
    "    ratio = overlapping_area / average_area\n",
    "    print(f'Expected Ratio: {ratio:3.2f}')\n",
    "\n",
    "    a = StructureSlice([circle6, circle4])\n",
    "    b = StructureSlice([box6_offset])\n",
    "    return a, b\n",
    "\n",
    "def overlaps_surrounded_example():\n",
    "    circle6 = shapely.Polygon(circle_points(3))\n",
    "    circle4 = shapely.Polygon(circle_points(2))\n",
    "    circle3_offset = shapely.Polygon(circle_points(1.5, offset_x=1))\n",
    "\n",
    "    area_a = pi * (3**2 - 2**2)\n",
    "    area_b = pi * ((3 / 2) ** 2)\n",
    "    average_area = (area_a + area_b) / 2\n",
    "    overlapping_area = area_b / 5  # Estimated 1/5 of smaller circle overlaps\n",
    "    ratio = overlapping_area / average_area\n",
    "    print(f'Estimated Ratio: {ratio:3.2f}')\n",
    "\n",
    "    a = StructureSlice([circle6, circle4])\n",
    "    b = StructureSlice([circle3_offset])\n",
    "    return a, b\n",
    "\n",
    "def overlaps_surrounded_box_example():\n",
    "    box6 = shapely.Polygon(box_points(6))\n",
    "    box4 = shapely.Polygon(box_points(4))\n",
    "    box3 = shapely.Polygon(box_points(3, offset_x=1))\n",
    "\n",
    "    area_a = 6*6 - 4*4\n",
    "    area_b = 3 * 3\n",
    "    average_area = (area_a + area_b) / 2\n",
    "    overlapping_area = 3 * (3/2 -1)\n",
    "    ratio = overlapping_area / average_area\n",
    "    print(f'Expected Ratio: {ratio:3.2f}')\n",
    "\n",
    "    a = StructureSlice([box6, box4])\n",
    "    b = StructureSlice([box3])\n",
    "    return a, b\n",
    "\n",
    "def overlaps_ring_surrounded_example():\n",
    "    circle6 = shapely.Polygon(circle_points(3))\n",
    "    circle3 = shapely.Polygon(circle_points(1.5))\n",
    "    circle4 = shapely.Polygon(circle_points(2))\n",
    "\n",
    "    area_a = pi * (3**2 - 1.5**2)\n",
    "    area_b = pi * 2**2\n",
    "    average_area = (area_a + area_b) / 2\n",
    "    overlapping_area = pi * (2**2 - 1.5**2)\n",
    "    ratio = overlapping_area / average_area\n",
    "    print(f'Expected Ratio: {ratio:3.2f}')\n",
    "\n",
    "    a = StructureSlice([circle6, circle3])\n",
    "    b = StructureSlice([circle4])\n",
    "    return a, b\n",
    "\n",
    "def overlaps_archipelago_simple_example1():\n",
    "    circle6 = shapely.Polygon(circle_points(3))\n",
    "    circle4 = shapely.Polygon(circle_points(2))\n",
    "    circle3 = shapely.Polygon(circle_points(1.5))\n",
    "    circle2 = shapely.Polygon(circle_points(1))\n",
    "\n",
    "    area_a = pi * (3**2 - 2**2 + 1**2)\n",
    "    area_b = pi * 2**2\n",
    "    average_area = (area_a + area_b) / 2\n",
    "    overlapping_area = pi * (2**2 - 2**2 + 1**2)\n",
    "    ratio = overlapping_area / average_area\n",
    "    print(f'Expected Ratio: {ratio:3.2f}')\n",
    "\n",
    "    a = StructureSlice([circle6, circle4, circle2])\n",
    "    b = StructureSlice([circle4])\n",
    "    return a, b\n",
    "\n",
    "def overlaps_archipelago_simple_example2():\n",
    "    circle6 = shapely.Polygon(circle_points(3))\n",
    "    circle4 = shapely.Polygon(circle_points(2))\n",
    "    circle3 = shapely.Polygon(circle_points(1.5))\n",
    "    circle2 = shapely.Polygon(circle_points(1))\n",
    "\n",
    "    area_a = pi * (3**2 - 1.5**2 + 1**2)\n",
    "    area_b = pi * 2**2\n",
    "    average_area = (area_a + area_b) / 2\n",
    "    overlapping_area = pi * (2**2 - 1.5**2 + 1**2)\n",
    "    ratio = overlapping_area / average_area\n",
    "    print(f'Expected Ratio: {ratio:3.2f}')\n",
    "\n",
    "    a = StructureSlice([circle6, circle3, circle2])\n",
    "    b = StructureSlice([circle4])\n",
    "    return a, b"
   ]
  },
  {
   "cell_type": "code",
   "execution_count": 29,
   "metadata": {},
   "outputs": [
    {
     "name": "stdout",
     "output_type": "stream",
     "text": [
      "Expected Ratio: 0.20\n"
     ]
    },
    {
     "data": {
      "image/png": "[encoded data removed]",
      "text/plain": [
       "<Figure size 400x200 with 1 Axes>"
      ]
     },
     "metadata": {},
     "output_type": "display_data"
    },
    {
     "name": "stdout",
     "output_type": "stream",
     "text": [
      "0.2\n"
     ]
    }
   ],
   "source": [
    "a, b = overlaps_archipelago_simple_example1()\n",
    "ax = plot_ab(a.contour, b.contour)\n",
    "relation_binary = relate(a,b)\n",
    "relation = identify_relation(relation_binary)\n",
    "print(volume_ratio(a, b, relation, PRECISION))"
   ]
  },
  {
   "cell_type": "code",
   "execution_count": 30,
   "metadata": {},
   "outputs": [
    {
     "name": "stdout",
     "output_type": "stream",
     "text": [
      "Expected Ratio: 0.47\n"
     ]
    },
    {
     "data": {
      "image/png": "[encoded data removed]",
      "text/plain": [
       "<Figure size 400x200 with 1 Axes>"
      ]
     },
     "metadata": {},
     "output_type": "display_data"
    },
    {
     "name": "stdout",
     "output_type": "stream",
     "text": [
      "0.47\n"
     ]
    }
   ],
   "source": [
    "a, b = overlaps_archipelago_simple_example2()\n",
    "ax = plot_ab(a.contour, b.contour)\n",
    "relation_binary = relate(a,b)\n",
    "relation = identify_relation(relation_binary)\n",
    "print(volume_ratio(a, b, relation, PRECISION))"
   ]
  },
  {
   "cell_type": "code",
   "execution_count": 31,
   "metadata": {},
   "outputs": [
    {
     "name": "stdout",
     "output_type": "stream",
     "text": [
      "Expected Ratio: 0.50\n"
     ]
    },
    {
     "data": {
      "image/png": "[encoded data removed]",
      "text/plain": [
       "<Figure size 400x200 with 1 Axes>"
      ]
     },
     "metadata": {},
     "output_type": "display_data"
    },
    {
     "name": "stdout",
     "output_type": "stream",
     "text": [
      "0.5\n"
     ]
    }
   ],
   "source": [
    "a, b = overlaps_box_example()\n",
    "ax = plot_ab(a.contour, b.contour)\n",
    "relation_binary = relate(a,b)\n",
    "relation = identify_relation(relation_binary)\n",
    "print(volume_ratio(a, b, relation, PRECISION))\n"
   ]
  },
  {
   "cell_type": "code",
   "execution_count": 32,
   "metadata": {},
   "outputs": [
    {
     "name": "stdout",
     "output_type": "stream",
     "text": [
      "Expected Ratio: 0.44\n"
     ]
    },
    {
     "data": {
      "image/png": "[encoded data removed]",
      "text/plain": [
       "<Figure size 400x200 with 1 Axes>"
      ]
     },
     "metadata": {},
     "output_type": "display_data"
    },
    {
     "name": "stdout",
     "output_type": "stream",
     "text": [
      "0.43\n"
     ]
    }
   ],
   "source": [
    "a, b = overlaps_simple_example()\n",
    "ax = plot_ab(a.contour, b.contour)\n",
    "relation_binary = relate(a,b)\n",
    "relation = identify_relation(relation_binary)\n",
    "print(volume_ratio(a, b, relation, PRECISION))\n"
   ]
  },
  {
   "cell_type": "code",
   "execution_count": 33,
   "metadata": {},
   "outputs": [
    {
     "name": "stdout",
     "output_type": "stream",
     "text": [
      "Expected Ratio: 0.30\n"
     ]
    },
    {
     "data": {
      "image/png": "[encoded data removed]",
      "text/plain": [
       "<Figure size 400x200 with 1 Axes>"
      ]
     },
     "metadata": {},
     "output_type": "display_data"
    },
    {
     "name": "stdout",
     "output_type": "stream",
     "text": [
      "0.3\n"
     ]
    }
   ],
   "source": [
    "a, b = overlaps_ring_example()\n",
    "ax = plot_ab(a.contour, b.contour)\n",
    "relation_binary = relate(a,b)\n",
    "relation = identify_relation(relation_binary)\n",
    "print(volume_ratio(a, b, relation, PRECISION))"
   ]
  },
  {
   "cell_type": "code",
   "execution_count": 34,
   "metadata": {},
   "outputs": [
    {
     "name": "stdout",
     "output_type": "stream",
     "text": [
      "Estimated Ratio: 0.12\n"
     ]
    },
    {
     "data": {
      "image/png": "[encoded data removed]",
      "text/plain": [
       "<Figure size 400x200 with 1 Axes>"
      ]
     },
     "metadata": {},
     "output_type": "display_data"
    },
    {
     "name": "stdout",
     "output_type": "stream",
     "text": [
      "0.11\n"
     ]
    }
   ],
   "source": [
    "a, b = overlaps_surrounded_example()\n",
    "ax = plot_ab(a.contour, b.contour)\n",
    "relation_binary = relate(a,b)\n",
    "relation = identify_relation(relation_binary)\n",
    "print(volume_ratio(a, b, relation, PRECISION))"
   ]
  },
  {
   "cell_type": "code",
   "execution_count": 35,
   "metadata": {},
   "outputs": [
    {
     "name": "stdout",
     "output_type": "stream",
     "text": [
      "Expected Ratio: 0.10\n"
     ]
    },
    {
     "data": {
      "image/png": "[encoded data removed]",
      "text/plain": [
       "<Figure size 400x200 with 1 Axes>"
      ]
     },
     "metadata": {},
     "output_type": "display_data"
    },
    {
     "name": "stdout",
     "output_type": "stream",
     "text": [
      "0.1\n"
     ]
    }
   ],
   "source": [
    "a, b = overlaps_surrounded_box_example()\n",
    "ax = plot_ab(a.contour, b.contour)\n",
    "relation_binary = relate(a,b)\n",
    "relation = identify_relation(relation_binary)\n",
    "print(volume_ratio(a, b, relation, PRECISION))"
   ]
  },
  {
   "cell_type": "code",
   "execution_count": 36,
   "metadata": {},
   "outputs": [
    {
     "name": "stdout",
     "output_type": "stream",
     "text": [
      "Expected Ratio: 0.33\n"
     ]
    },
    {
     "data": {
      "image/png": "[encoded data removed]",
      "text/plain": [
       "<Figure size 400x200 with 1 Axes>"
      ]
     },
     "metadata": {},
     "output_type": "display_data"
    },
    {
     "name": "stdout",
     "output_type": "stream",
     "text": [
      "0.32\n"
     ]
    }
   ],
   "source": [
    "a, b = overlaps_ring_surrounded_example()\n",
    "ax = plot_ab(a.contour, b.contour)\n",
    "relation_binary = relate(a,b)\n",
    "relation = identify_relation(relation_binary)\n",
    "print(volume_ratio(a, b, relation, 2))"
   ]
  },
  {
   "cell_type": "code",
   "execution_count": 37,
   "metadata": {},
   "outputs": [
    {
     "name": "stdout",
     "output_type": "stream",
     "text": [
      "Expected Ratio: 0.20\n"
     ]
    },
    {
     "data": {
      "image/png": "[encoded data removed]",
      "text/plain": [
       "<Figure size 400x200 with 1 Axes>"
      ]
     },
     "metadata": {},
     "output_type": "display_data"
    },
    {
     "name": "stdout",
     "output_type": "stream",
     "text": [
      "0.2\n"
     ]
    }
   ],
   "source": [
    "a, b = overlaps_archipelago_simple_example1()\n",
    "ax = plot_ab(a.contour, b.contour)\n",
    "relation_binary = relate(a,b)\n",
    "relation = identify_relation(relation_binary)\n",
    "print(volume_ratio(a, b, relation, PRECISION))"
   ]
  },
  {
   "cell_type": "code",
   "execution_count": 38,
   "metadata": {},
   "outputs": [
    {
     "name": "stdout",
     "output_type": "stream",
     "text": [
      "Expected Ratio: 0.47\n"
     ]
    },
    {
     "data": {
      "image/png": "[encoded data removed]",
      "text/plain": [
       "<Figure size 400x200 with 1 Axes>"
      ]
     },
     "metadata": {},
     "output_type": "display_data"
    },
    {
     "name": "stdout",
     "output_type": "stream",
     "text": [
      "0.47\n"
     ]
    }
   ],
   "source": [
    "a, b = overlaps_archipelago_simple_example2()\n",
    "ax = plot_ab(a.contour, b.contour)\n",
    "relation_binary = relate(a,b)\n",
    "relation = identify_relation(relation_binary)\n",
    "print(volume_ratio(a, b, relation, PRECISION))"
   ]
  },
  {
   "cell_type": "markdown",
   "metadata": {},
   "source": [
    "# Calculation Error\n",
    "- Expected Ratio = 0.6\n",
    "- Got: 0.14\n",
    "\n",
    "*Probably did not include inner island or hole*"
   ]
  },
  {
   "cell_type": "markdown",
   "metadata": {},
   "source": [
    "<link rel=\"stylesheet\" href=\"relations.css\">\n",
    "<table width=\"400px\">\n",
    "<tr class=\"l\"><th>Partition</th><th></th></tr>\n",
    "<td class=\"d\" colspan=\"2\">\n",
    "The boundaries of <span class=\"a\">a</span> and <span class=\"b\">b</span> have more than one point in common.\n",
    "No points of <span class=\"b\">b</span> are exterior to <span class=\"a\">a</span>, and some points in <span class=\"a\">a</span> are exterior to <span class=\"b\">b</span>.\n",
    "</td></tr>\n",
    "<tr><td colspan=\"2\">\n",
    "<img src=\"Images/Relationships/partitions simple.png\" alt=\"Partition\">\n",
    "<img src=\"Images/Relationships/partitions archipelago with island.png\" alt=\"Partition With Island\">\n",
    "<img src=\"Images/Relationships/partitions partial ring.png\" alt=\"Partition Ring\">\n",
    "</td></tr></table>"
   ]
  },
  {
   "cell_type": "code",
   "execution_count": 39,
   "metadata": {},
   "outputs": [],
   "source": [
    "def partition_simple_example():\n",
    "    box4 = shapely.Polygon(box_points(4))\n",
    "    box4_cropped = shapely.Polygon(box_points(2, 4, offset_x=-1))\n",
    "\n",
    "    larger_area = 4**2\n",
    "    overlapping_area = 4**2 / 2\n",
    "    ratio = overlapping_area / larger_area\n",
    "    print(f'Expected Ratio: {ratio:3.2f}')\n",
    "\n",
    "    a = StructureSlice([box4])\n",
    "    b = StructureSlice([box4_cropped])\n",
    "    return a, b\n",
    "\n",
    "def partition_example1():\n",
    "    box6 = poly_round(shapely.Polygon(box_points(6)))\n",
    "    box4_offset = shapely.Polygon(box_points(4, offset_x=-1))\n",
    "\n",
    "    larger_area = 6**2\n",
    "    overlapping_area = 4**2\n",
    "    ratio = overlapping_area / larger_area\n",
    "    print(f'Expected Ratio: {ratio:3.2f}')\n",
    "\n",
    "    a = StructureSlice([box6])\n",
    "    b = StructureSlice([box4_offset])\n",
    "    return a, b\n",
    "\n",
    "def partition_example2():\n",
    "    # Rounding required because of floating point inaccuracies.\n",
    "    circle6 = poly_round(shapely.Polygon(circle_points(3)))\n",
    "    circle4_offset = shapely.Polygon(circle_points(2, offset_x=2))\n",
    "    cropped_circle = poly_round(shapely.intersection(circle6, circle4_offset))\n",
    "    # Larger Area = pi*3^2 = 28.3\n",
    "    # Overlap Area ~ pi*2^2*.6 = 16\n",
    "    # Ratio ~ 16 / 28.3 = 0.3\n",
    "    larger_area = pi * 3**2\n",
    "    overlapping_area = pi * 2**2 * 0.75  # Approximately 3/4 of smaller circle\n",
    "    ratio = overlapping_area / larger_area\n",
    "    print(f'Estimated Ratio: {ratio:3.2f}')\n",
    "\n",
    "    a = StructureSlice([circle6])\n",
    "    b = StructureSlice([cropped_circle])\n",
    "    return a, b\n",
    "\n",
    "def partition_example3():\n",
    "    # Partition is island part of archipelago\n",
    "    circle6 = shapely.Polygon(circle_points(3))\n",
    "    circle4 = shapely.Polygon(circle_points(2))\n",
    "    circle2 = shapely.Polygon(circle_points(1))\n",
    "\n",
    "    larger_area = pi * (3**2 - 2**2 + 1**2)\n",
    "    overlapping_area = pi * 1**2\n",
    "    ratio = overlapping_area / larger_area\n",
    "    print(f'Expected Ratio: {ratio:3.2f}')\n",
    "\n",
    "    a = StructureSlice([circle6, circle4, circle2])\n",
    "    b = StructureSlice([circle2])\n",
    "    return a, b\n",
    "\n",
    "def partition_example4():\n",
    "    # Partition is half of ring\n",
    "    circle6 = shapely.Polygon(circle_points(3))\n",
    "    circle4 = shapely.Polygon(circle_points(2))\n",
    "    box6_offset = shapely.Polygon(box_points(6, offset_x=3))\n",
    "    ring = shapely.difference(circle6, circle4)\n",
    "    cropped_ring = poly_round(shapely.difference(ring, box6_offset),PRECISION)\n",
    "\n",
    "    larger_area = pi * (3**2 - 2**2)\n",
    "    overlapping_area = pi * (3**2 - 2**2) / 2\n",
    "    ratio = overlapping_area / larger_area\n",
    "    print(f'Expected Ratio: {ratio:3.2f}')\n",
    "\n",
    "    a = StructureSlice([circle6, circle4])\n",
    "    b = StructureSlice([cropped_ring])\n",
    "    return a, b"
   ]
  },
  {
   "cell_type": "code",
   "execution_count": 40,
   "metadata": {},
   "outputs": [
    {
     "name": "stdout",
     "output_type": "stream",
     "text": [
      "Expected Ratio: 0.50\n"
     ]
    },
    {
     "data": {
      "image/png": "[encoded data removed]",
      "text/plain": [
       "<Figure size 400x200 with 1 Axes>"
      ]
     },
     "metadata": {},
     "output_type": "display_data"
    },
    {
     "name": "stdout",
     "output_type": "stream",
     "text": [
      "0.5\n"
     ]
    }
   ],
   "source": [
    "a, b = partition_simple_example()\n",
    "ax = plot_ab(a.contour, b.contour)\n",
    "\n",
    "relation_binary = relate(a,b)\n",
    "relation = identify_relation(relation_binary)\n",
    "\n",
    "print(volume_ratio(a, b, relation, PRECISION))"
   ]
  },
  {
   "cell_type": "code",
   "execution_count": 41,
   "metadata": {},
   "outputs": [
    {
     "name": "stdout",
     "output_type": "stream",
     "text": [
      "Expected Ratio: 0.44\n"
     ]
    },
    {
     "data": {
      "image/png": "[encoded data removed]",
      "text/plain": [
       "<Figure size 400x200 with 1 Axes>"
      ]
     },
     "metadata": {},
     "output_type": "display_data"
    },
    {
     "name": "stdout",
     "output_type": "stream",
     "text": [
      "0.44\n"
     ]
    }
   ],
   "source": [
    "a, b = partition_example1()\n",
    "ax = plot_ab(a.contour, b.contour)\n",
    "relation_binary = relate(a,b)\n",
    "relation = identify_relation(relation_binary)\n",
    "print(volume_ratio(a, b, relation, PRECISION))"
   ]
  },
  {
   "cell_type": "code",
   "execution_count": 42,
   "metadata": {},
   "outputs": [
    {
     "name": "stdout",
     "output_type": "stream",
     "text": [
      "Estimated Ratio: 0.33\n"
     ]
    },
    {
     "data": {
      "image/png": "[encoded data removed]",
      "text/plain": [
       "<Figure size 400x200 with 1 Axes>"
      ]
     },
     "metadata": {},
     "output_type": "display_data"
    },
    {
     "name": "stdout",
     "output_type": "stream",
     "text": [
      "0.33\n"
     ]
    }
   ],
   "source": [
    "a, b = partition_example2()\n",
    "ax = plot_ab(a.contour, b.contour)\n",
    "relation_binary = relate(a,b)\n",
    "relation = identify_relation(relation_binary)\n",
    "print(volume_ratio(a, b, relation, PRECISION))"
   ]
  },
  {
   "cell_type": "code",
   "execution_count": 43,
   "metadata": {},
   "outputs": [
    {
     "name": "stdout",
     "output_type": "stream",
     "text": [
      "Expected Ratio: 0.17\n"
     ]
    },
    {
     "data": {
      "image/png": "[encoded data removed]",
      "text/plain": [
       "<Figure size 400x200 with 1 Axes>"
      ]
     },
     "metadata": {},
     "output_type": "display_data"
    },
    {
     "name": "stdout",
     "output_type": "stream",
     "text": [
      "0.17\n"
     ]
    }
   ],
   "source": [
    "a, b = partition_example3()\n",
    "ax = plot_ab(a.contour, b.contour)\n",
    "relation_binary = relate(a,b)\n",
    "relation = identify_relation(relation_binary)\n",
    "print(volume_ratio(a, b, relation, PRECISION))"
   ]
  },
  {
   "cell_type": "code",
   "execution_count": 44,
   "metadata": {},
   "outputs": [
    {
     "name": "stdout",
     "output_type": "stream",
     "text": [
      "Expected Ratio: 0.50\n"
     ]
    },
    {
     "data": {
      "image/png": "[encoded data removed]",
      "text/plain": [
       "<Figure size 400x200 with 1 Axes>"
      ]
     },
     "metadata": {},
     "output_type": "display_data"
    },
    {
     "name": "stdout",
     "output_type": "stream",
     "text": [
      "0.5\n"
     ]
    }
   ],
   "source": [
    "a, b = partition_example4()\n",
    "ax = plot_ab(a.contour, b.contour)\n",
    "relation_binary = relate(a,b)\n",
    "relation = identify_relation(relation_binary)\n",
    "print(volume_ratio(a, b, relation, PRECISION))"
   ]
  },
  {
   "cell_type": "markdown",
   "metadata": {},
   "source": [
    "## Ratio of Surface Area\n",
    "\n",
    "Ratio of the touching surface area of the two structures, to the surface area of the average or larger structure.\n",
    "$R_A =\\frac{A( a \\cap b )}{\\overline{A_{a,b}}}$,<br>\n",
    "where $A$ is the Surface Area. \n",
    "\n",
    "Since the structures are compared slice by slice, the Surface Area function can be written as:<br>\n",
    "$A(x) = t \\times \\ell_s( x )$,<br>\n",
    "where $t$ is the slice thickness and $\\ell_s$ is the relevant perimeter length on a given slice. \n",
    "\n",
    "When calculating the ratio, slice thickness is a constant, so the surface area ratio is equal to the ratio sums of the relevant perimeter lengths over all slices:\n",
    "  \n",
    "$R_A =\\frac{\\sum_{S} \\ell_s( a \\cap b )}{\\sum_{S} \\overline{\\ell_s}}$\n",
    "\n",
    "*Used By:*\n",
    "\n",
    "- Exterior Borders\n",
    "> - Ratio of the length of the touching exterior perimeters to the average length of the exterior perimeters of $a$ and $b$.\n",
    "> - $R_A = \\frac{ 2 \\sum_{S} \\ell_s⁡(a_p \\cap b_p) }{ \\sum_{S} \\left[ \\ell_s(a_{px}) + \\ell_s(b_{px}) \\right] }$\n",
    "\n",
    "- Interior Borders\n",
    "> - Ratio of the length of touching perimeters to the length of the perimeter of the hole in $a$ containing $b$.\n",
    "> - $R_l = \\frac{ \\sum_{S} \\ell_s⁡(a_p \\cap b_p)}{ \\sum_{S} \\left[ \\ell_s(a_{ph}) + \\ell_s(b_{px}) \\right] }$\n",
    "\n",
    "Where:\n",
    "- $a_p$ is the perimeter of polygon $a$\n",
    "- $b_p$ is the perimeter of polygon $b$\n",
    "- $a_{px}$ is the exterior perimeter of polygon $a$\n",
    "- $b_{px}$ is the exterior perimeter of polygon $b$\n",
    "- $a_{ph}$ is the perimeter of the relevant hole within polygon $a$\n",
    "- $\\ell_s⁡(p_i)$ is the length of perimeter $i$ on slice $s$\n"
   ]
  },
  {
   "cell_type": "code",
   "execution_count": 45,
   "metadata": {},
   "outputs": [],
   "source": [
    "def related_lengths(poly_a: StructureSlice, poly_b: StructureSlice,\n",
    "                    relation: RelationshipType)->List[shapely.LineString]:\n",
    "    def get_perimeters(poly_a: StructureSlice, poly_b: StructureSlice):\n",
    "        exterior_a = poly_a.exterior\n",
    "        exterior_b = poly_b.exterior\n",
    "        overlap_region = shapely.shared_paths(exterior_a, exterior_b)\n",
    "        perimeter_dict = {'overlapping_perimeter': overlap_region,\n",
    "                          'perimeter_a': exterior_a,\n",
    "                          'perimeter_b': exterior_b}\n",
    "        return perimeter_dict\n",
    "\n",
    "    perimeter_list = []\n",
    "    # get relevant perimeters for all polygons on the same slice\n",
    "    for polygon_a, polygon_b in product(poly_a.contour.geoms,\n",
    "                                        poly_b.contour.geoms):\n",
    "        if relation == RelationshipType.BORDERS:\n",
    "            perimeter_dict = get_perimeters(polygon_a, polygon_b)\n",
    "            perimeter_list.append(perimeter_dict)\n",
    "        elif relation == RelationshipType.BORDERS_INTERIOR:\n",
    "            # TODO Need to be able to identify which hole in a contains b even for\n",
    "            # slices where b is not present. For now we use the perimeter of all\n",
    "            # holes in a as a reasonable approximation.\n",
    "            for hole_ring in polygon_a.interiors:\n",
    "                hole = shapely.Polygon(hole_ring)\n",
    "                perimeter_dict = get_perimeters(hole, polygon_b)\n",
    "                perimeter_list.append(perimeter_dict)\n",
    "    return perimeter_list\n"
   ]
  },
  {
   "cell_type": "code",
   "execution_count": 46,
   "metadata": {},
   "outputs": [],
   "source": [
    "def length_ratio(poly_a: StructureSlice, poly_b: StructureSlice,\n",
    "                 relation: RelationshipType,\n",
    "                 precision: int = PRECISION)->pd.DataFrame:\n",
    "\n",
    "    def get_length(perimeter: shapely.LineString)->float:\n",
    "        return shapely.length(perimeter)\n",
    "\n",
    "    perimeter_list = related_lengths(poly_a, poly_b, relation)\n",
    "    if not perimeter_list:\n",
    "        return np.nan\n",
    "    perimeters = pd.DataFrame(perimeter_list)\n",
    "    lengths = perimeters.apply(get_length)\n",
    "    lengths_sum = lengths.apply(sum)\n",
    "    if relation == RelationshipType.BORDERS:\n",
    "        total_length = (lengths_sum.perimeter_a + lengths_sum.perimeter_b)\n",
    "        reference_length = total_length / 2\n",
    "    elif relation == RelationshipType.BORDERS_INTERIOR:\n",
    "        reference_length = lengths_sum.perimeter_a\n",
    "    ratio = lengths_sum.overlapping_perimeter / reference_length\n",
    "    rounded_ratio = round(ratio, precision)\n",
    "    return rounded_ratio"
   ]
  },
  {
   "cell_type": "markdown",
   "metadata": {},
   "source": [
    "<link rel=\"stylesheet\" href=\"relations.css\">\n",
    "<table width=\"400px\">\n",
    "<tr class=\"l\"><th>Borders</th><th>Symmetric</th></tr>\n",
    "<td class=\"d\" colspan=\"2\">The exterior boundaries of \n",
    "<span class=\"a\">a</span> and <span class=\"b\">b</span> \n",
    "have more than one point in common, but their interiors do not intersect.\n",
    "</td></tr>\n",
    "<tr><td colspan=\"2\">\n",
    "<img src=\"Images/Relationships/borders.png\" alt=\"Borders\">\n",
    "<img src=\"Images/Relationships/Concave Borders.png\" alt=\"Concave Borders\">\n",
    "</tr></table>"
   ]
  },
  {
   "cell_type": "code",
   "execution_count": 47,
   "metadata": {},
   "outputs": [],
   "source": [
    "def borders_example1():\n",
    "    box4_left = shapely.Polygon(box_points(4, offset_x=-2))\n",
    "    box4_right = shapely.Polygon(box_points(4, offset_x=2))\n",
    "\n",
    "    a = StructureSlice([box4_left])\n",
    "    b = StructureSlice([box4_right])\n",
    "    average_perimeter = 4 * 4\n",
    "    overlapping_perimeter = 4\n",
    "    ratio = overlapping_perimeter / average_perimeter\n",
    "    print(f'Expected Ratio: {ratio:3.2f}')\n",
    "    return a, b\n",
    "\n",
    "def borders_example2():\n",
    "    box6 = shapely.Polygon(box_points(6))\n",
    "    box5_up = shapely.Polygon(box_points(5, offset_y=3))\n",
    "    box6_cropped = shapely.difference(box6, box5_up)\n",
    "\n",
    "    box6_cropped_perimeter = 6 * 4 + (5/2) * 2\n",
    "    box5_up_perimeter = 5 * 4\n",
    "    average_perimeter = (box6_cropped_perimeter + box5_up_perimeter) / 2.0\n",
    "    overlapping_perimeter = 5 + (5/2) * 2\n",
    "    ratio = overlapping_perimeter / average_perimeter\n",
    "    print(f'Expected Ratio: {ratio:3.2f}')\n",
    "    a = StructureSlice([box6_cropped])\n",
    "    b = StructureSlice([box5_up])\n",
    "    return a, b"
   ]
  },
  {
   "cell_type": "code",
   "execution_count": 48,
   "metadata": {},
   "outputs": [
    {
     "name": "stdout",
     "output_type": "stream",
     "text": [
      "Expected Ratio: 0.25\n"
     ]
    },
    {
     "data": {
      "image/png": "[encoded data removed]",
      "text/plain": [
       "<Figure size 400x200 with 1 Axes>"
      ]
     },
     "metadata": {},
     "output_type": "display_data"
    },
    {
     "name": "stdout",
     "output_type": "stream",
     "text": [
      "0.25\n"
     ]
    }
   ],
   "source": [
    "a, b = borders_example1()\n",
    "ax = plot_ab(a.contour, b.contour)\n",
    "relation_binary = relate(a,b)\n",
    "relation = identify_relation(relation_binary)\n",
    "print(length_ratio(a, b, relation, PRECISION))"
   ]
  },
  {
   "cell_type": "code",
   "execution_count": 49,
   "metadata": {},
   "outputs": [
    {
     "name": "stdout",
     "output_type": "stream",
     "text": [
      "Expected Ratio: 0.41\n"
     ]
    },
    {
     "data": {
      "image/png": "[encoded data removed]",
      "text/plain": [
       "<Figure size 400x200 with 1 Axes>"
      ]
     },
     "metadata": {},
     "output_type": "display_data"
    },
    {
     "name": "stdout",
     "output_type": "stream",
     "text": [
      "0.41\n"
     ]
    }
   ],
   "source": [
    "a, b = borders_example2()\n",
    "ax = plot_ab(a.contour, b.contour)\n",
    "relation_binary = relate(a,b)\n",
    "relation = identify_relation(relation_binary)\n",
    "print(length_ratio(a, b, relation, PRECISION))"
   ]
  },
  {
   "cell_type": "markdown",
   "metadata": {},
   "source": [
    "<link rel=\"stylesheet\" href=\"relations.css\">\n",
    "<table width=\"300px\">\n",
    "<tr class=\"l\"><th>Borders_Interior</th><th>Symmetric</th></tr>\n",
    "<td class=\"d\" colspan=\"2\">The interior boundary of <span class=\"a\">a</span> \n",
    "and the exterior boundary of <span class=\"b\">b</span> \n",
    "have more than one point in common, but their interiors do not intersect.\n",
    "<tr><td colspan=\"2\">\n",
    "<img src=\"Images/Relationships/confines.png\" alt=\"Borders Interior\">\n",
    "<img src=\"Images/Relationships/confines with island.png\" alt=\"Borders Interior With Island\">\n",
    "</td></tr></table>"
   ]
  },
  {
   "cell_type": "code",
   "execution_count": 50,
   "metadata": {},
   "outputs": [],
   "source": [
    "def interior_borders_example1():\n",
    "    circle6 = shapely.Polygon(circle_points(3))\n",
    "    circle4 = shapely.Polygon(circle_points(2))\n",
    "    box4_offset = shapely.Polygon(box_points(4, offset_x=2))\n",
    "    cropped_circle = shapely.difference(circle4, box4_offset)\n",
    "\n",
    "    hole_perimeter = 4 * pi\n",
    "    overlapping_perimeter = 4 * pi / 2\n",
    "    ratio = overlapping_perimeter / hole_perimeter\n",
    "    print(f'Expected Ratio: {ratio:3.2f}')\n",
    "\n",
    "    a = StructureSlice([circle6, circle4])\n",
    "    b = StructureSlice([cropped_circle])\n",
    "    return a, b\n",
    "\n",
    "def interior_borders_example2():\n",
    "    circle6 = shapely.Polygon(circle_points(3))\n",
    "    circle4 = shapely.Polygon(circle_points(2))\n",
    "    circle2 = shapely.Polygon(circle_points(1))\n",
    "\n",
    "    # b has internal borders with the ring portion of a, but has an external\n",
    "    # border with the island part of a. The internal borders relation wins,\n",
    "    # but the island perimeter is not considered in the ratio.\n",
    "    hole_perimeter = 4 * pi\n",
    "    overlapping_perimeter = 4 * pi\n",
    "    ratio = overlapping_perimeter / hole_perimeter\n",
    "    print(f'Expected Ratio: {ratio:3.2f}')\n",
    "\n",
    "    a = StructureSlice([circle6, circle4, circle2])\n",
    "    b = StructureSlice([circle4, circle2])\n",
    "    return a, b\n",
    "\n",
    "def interior_borders_example3():\n",
    "    # 6 cm x 6 cm box with 4cm x 4 cm hole\n",
    "    box6 = shapely.Polygon(box_points(6))\n",
    "    box4 = shapely.Polygon(box_points(4))\n",
    "    box2_offset = shapely.Polygon(box_points(2, offset_x=-1, offset_y=-1))\n",
    "\n",
    "    hole_perimeter = 4 * 4\n",
    "    overlapping_perimeter = 2 * 2\n",
    "    ratio = overlapping_perimeter / hole_perimeter\n",
    "    print(f'Expected Ratio: {ratio:3.2f}')\n",
    "\n",
    "    a = StructureSlice([box6, box4])\n",
    "    b = StructureSlice([box2_offset])\n",
    "    return a, b"
   ]
  },
  {
   "cell_type": "code",
   "execution_count": 51,
   "metadata": {},
   "outputs": [
    {
     "name": "stdout",
     "output_type": "stream",
     "text": [
      "Expected Ratio: 0.50\n"
     ]
    },
    {
     "data": {
      "image/png": "[encoded data removed]",
      "text/plain": [
       "<Figure size 400x200 with 1 Axes>"
      ]
     },
     "metadata": {},
     "output_type": "display_data"
    },
    {
     "name": "stdout",
     "output_type": "stream",
     "text": [
      "0.5\n"
     ]
    }
   ],
   "source": [
    "a, b = interior_borders_example1()\n",
    "ax = plot_ab(a.contour, b.contour)\n",
    "relation_binary = relate(a,b)\n",
    "relation = identify_relation(relation_binary)\n",
    "print(length_ratio(a, b, relation, PRECISION))"
   ]
  },
  {
   "cell_type": "code",
   "execution_count": 52,
   "metadata": {},
   "outputs": [
    {
     "name": "stdout",
     "output_type": "stream",
     "text": [
      "Expected Ratio: 1.00\n"
     ]
    },
    {
     "data": {
      "image/png": "[encoded data removed]",
      "text/plain": [
       "<Figure size 400x200 with 1 Axes>"
      ]
     },
     "metadata": {},
     "output_type": "display_data"
    },
    {
     "name": "stdout",
     "output_type": "stream",
     "text": [
      "1.0\n"
     ]
    }
   ],
   "source": [
    "a, b = interior_borders_example2()\n",
    "ax = plot_ab(a.contour, b.contour)\n",
    "relation_binary = relate(a,b)\n",
    "relation = identify_relation(relation_binary)\n",
    "print(length_ratio(a, b, relation, PRECISION))"
   ]
  },
  {
   "cell_type": "code",
   "execution_count": 53,
   "metadata": {},
   "outputs": [
    {
     "name": "stdout",
     "output_type": "stream",
     "text": [
      "Expected Ratio: 0.25\n"
     ]
    },
    {
     "data": {
      "image/png": "[encoded data removed]",
      "text/plain": [
       "<Figure size 400x200 with 1 Axes>"
      ]
     },
     "metadata": {},
     "output_type": "display_data"
    },
    {
     "name": "stdout",
     "output_type": "stream",
     "text": [
      "0.25\n"
     ]
    }
   ],
   "source": [
    "a, b = interior_borders_example3()\n",
    "ax = plot_ab(a.contour, b.contour)\n",
    "relation_binary = relate(a,b)\n",
    "relation = identify_relation(relation_binary)\n",
    "print(length_ratio(a, b, relation, PRECISION))"
   ]
  }
 ],
 "metadata": {
  "kernelspec": {
   "display_name": "StructureRelations",
   "language": "python",
   "name": "python3"
  },
  "language_info": {
   "codemirror_mode": {
    "name": "ipython",
    "version": 3
   },
   "file_extension": ".py",
   "mimetype": "text/x-python",
   "name": "python",
   "nbconvert_exporter": "python",
   "pygments_lexer": "ipython3",
   "version": "3.11.9"
  }
 },
 "nbformat": 4,
 "nbformat_minor": 2
}
