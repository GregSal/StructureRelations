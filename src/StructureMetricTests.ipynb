{
 "cells": [
  {
   "cell_type": "markdown",
   "metadata": {},
   "source": [
    "# Shapley Tests"
   ]
  },
  {
   "cell_type": "markdown",
   "metadata": {},
   "source": [
    "## Setup"
   ]
  },
  {
   "cell_type": "markdown",
   "metadata": {},
   "source": [
    "### Imports"
   ]
  },
  {
   "cell_type": "code",
   "execution_count": 1,
   "metadata": {},
   "outputs": [],
   "source": [
    "# Type imports\n",
    "from typing import Any, Dict, Tuple, List\n",
    "\n",
    "# Standard Libraries\n",
    "from enum import Enum, auto\n",
    "from pathlib import Path\n",
    "from operator import lt, gt\n",
    "from math import sqrt, pi, sin, cos, tan, radians, acos\n",
    "from math import isnan\n",
    "from statistics import mean\n",
    "from collections import Counter, defaultdict\n",
    "from dataclasses import dataclass, field, asdict\n",
    "from itertools import zip_longest\n",
    "\n",
    "from pprint import pprint\n",
    "\n",
    "# Shared Packages\n",
    "import numpy as np\n",
    "import pandas as pd\n",
    "import xlwings as xw\n",
    "import matplotlib.pyplot as plt\n",
    "#import PySimpleGUI as sg\n",
    "import networkx as nx\n",
    "import pydicom\n",
    "import shapely\n",
    "from shapely.plotting import plot_polygon, plot_points\n",
    "\n",
    "# Local functions and classes\n",
    "from types_and_classes import *\n",
    "from utilities import *\n",
    "from metrics import *\n",
    "from relations import *"
   ]
  },
  {
   "cell_type": "markdown",
   "metadata": {},
   "source": [
    "### Global Settings"
   ]
  },
  {
   "cell_type": "code",
   "execution_count": 2,
   "metadata": {},
   "outputs": [],
   "source": [
    "PRECISION = 2\n"
   ]
  },
  {
   "cell_type": "code",
   "execution_count": 3,
   "metadata": {},
   "outputs": [],
   "source": [
    "%matplotlib inline"
   ]
  },
  {
   "cell_type": "markdown",
   "metadata": {},
   "source": [
    "# Test structures\n",
    "- **CONTAINS**\n",
    "  - Concentric spheres\n",
    "  - Concentric embedded Rings\n",
    "  - Concentric spheres with centres offset\n",
    "  - Parallel Cylinders for 1st structure containing cylinder in 1 of them\n",
    "- **SHELTERS**\n",
    "  - Half box sheltering box\n",
    "  - Vertical open box sheltering box\n",
    "- **SURROUNDS**\n",
    "  - Concentric hollow spheres\n",
    "  - Concentric Rings\n",
    "  - Offset hollow boxes\n",
    "- **OVERLAPS**\n",
    "  - Overlapping Boxes Lateral\n",
    "  - Overlapping Boxes Vertical\n",
    "- "
   ]
  },
  {
   "cell_type": "markdown",
   "metadata": {},
   "source": [
    "### Distance Tests\n",
    "\n",
    "#### Disjoint"
   ]
  },
  {
   "cell_type": "markdown",
   "metadata": {},
   "source": [
    "<link rel=\"stylesheet\" href=\"relations.css\">\n",
    "<table width=\"300px\">\n",
    "<tr class=\"l\"><th>Disjoint</th><th>Symmetric</th></tr>\n",
    "<td class=\"d\" colspan=\"2\">The Convex Hull of \n",
    "<span class=\"a\">a</span> has no points in common with <span class=\"b\">b</span>.</td></tr>\n",
    "<tr><td colspan=\"2\">\n",
    "<img src=\"Images/Relationships/disjoint.png\" alt=\"Disjoint\" style=\"width: 200px\">\n",
    "</td></tr></table>"
   ]
  },
  {
   "cell_type": "markdown",
   "metadata": {},
   "source": [
    " #### Vertical Concentric Cylinders\n",
    " \n",
    " ![Concentric Cylinders](./Images/FreeCAD%20Images/ConcentricCylinders.png)"
   ]
  },
  {
   "cell_type": "code",
   "execution_count": null,
   "metadata": {},
   "outputs": [],
   "source": [
    "slice_spacing = 0.5\n",
    "# Body structure defines slices in use\n",
    "body = make_vertical_cylinder(roi_num=0, radius=20, length=30, offset_z=-15,\n",
    "                              spacing=slice_spacing)\n",
    "\n",
    "cylinder6 = make_vertical_cylinder(roi_num=1, radius=6, length=10,\n",
    "                                   spacing=slice_spacing)\n",
    "cylinder4 = make_vertical_cylinder(roi_num=2, radius=4, length=10,\n",
    "                                   spacing=slice_spacing)\n",
    "# combine the contours\n",
    "slice_data = pd.concat([body, cylinder6, cylinder4])\n",
    "\n",
    "# convert contour slice data into a table of slices and structures\n",
    "slice_table = make_slice_table(slice_data, ignore_errors=True)\n"
   ]
  },
  {
   "cell_type": "code",
   "execution_count": null,
   "metadata": {},
   "outputs": [
    {
     "name": "stdout",
     "output_type": "stream",
     "text": [
      "Relationship: Partition\n",
      "Expected Margins: 2 cm in all directions.\n",
      "        2.0   0.0  \n",
      "        ANT  SUP       \n",
      "         | /           \n",
      "         |/            \n",
      "2.0 RT--- ---LT 2.0  \n",
      "        /|             \n",
      "       / |             \n",
      "   INF  POST           \n",
      "  0.0   2.0       \n",
      "\n",
      "Min: 0.0   Max: 2.0\n"
     ]
    }
   ],
   "source": [
    "structures = tuple([1, 2])\n",
    "relation = Relationship(structures, slice_table).relationship_type\n",
    "print(relation)\n",
    "print('Expected Margins: 2 cm in all directions.')\n",
    "m = MarginMetric(structures, slice_table=slice_table, relation=relation)\n",
    "print(m.format_metric())\n"
   ]
  },
  {
   "cell_type": "code",
   "execution_count": null,
   "metadata": {},
   "outputs": [],
   "source": [
    "def disjoint_example():\n",
    "    circle4_left = shapely.Polygon(circle_points(4, offset_x=-4.5))\n",
    "    circle4_right = shapely.Polygon(circle_points(4, offset_x=4.5))\n",
    "\n",
    "    a = StructureSlice([circle4_left])\n",
    "    b = StructureSlice([circle4_right])\n",
    "    print('Expected Distance: 1.0')\n",
    "    return a, b\n"
   ]
  },
  {
   "cell_type": "code",
   "execution_count": null,
   "metadata": {},
   "outputs": [],
   "source": [
    "a, b = disjoint_example()\n",
    "ax = plot_ab(a.contour, b.contour)\n",
    "relation_binary = relate(a,b)\n",
    "relation = identify_relation(relation_binary)\n",
    "distances(a, b, relation)"
   ]
  },
  {
   "cell_type": "markdown",
   "metadata": {},
   "source": [
    "## Margins\n",
    "- $Margin_\\perp = bounds(a) − bounds(b)$\n",
    "\n",
    "- $Margin_{min} = distance(a,b)$\n",
    "\n",
    "- $Margin_{max} = distance_{housdorff}(a,b)$\n",
    "\n",
    "**Z direction metrics**\n",
    "- Orthogonal:\n",
    "  - The distance between the last slice containing $a$ and the last slice \n",
    "      of $b$ where the last contour of $a$ overlaps with the contour of $b$\n",
    "- Max:\n",
    "  - The larger of $\\Delta Z$ or $d_{2D}$\n",
    "- Min:\n",
    "  - The Smaller of $d_{min}^{2D}$ and $\\Delta Z$,<br>\n",
    "      \n",
    "\n",
    "**Used By:**\n",
    "- Contains\n",
    "- Surrounds\n",
    "- Shelters (Does not use $Margin_{max}$)\n"
   ]
  },
  {
   "cell_type": "markdown",
   "metadata": {},
   "source": [
    "**RuntimeWarning** is a know bug in current version of shapely \n",
    "\n",
    "```\n",
    "d:\\.conda\\envs\\StructureRelations\\Lib\\site-packages\\shapely\\measurement.py:224: RuntimeWarning: invalid value encountered in hausdorff_distance\n",
    "\n",
    "  return lib.hausdorff_distance(a, b, **kwargs)\n",
    "\n",
    "d:\\.conda\\envs\\StructureRelations\\Lib\\site-packages\\shapely\\measurement.py:74: RuntimeWarning: invalid value encountered in distance\n",
    "\n",
    "  return lib.distance(a, b, **kwargs)\n",
    "```\n",
    "\n",
    "- **TODO** Use warnings module to suppress this message"
   ]
  },
  {
   "cell_type": "markdown",
   "metadata": {},
   "source": [
    "### Make test structures\n"
   ]
  },
  {
   "cell_type": "markdown",
   "metadata": {},
   "source": [
    "**Z direction metrics**\n",
    "  - % Volume and % Surface Area:\n",
    "    - No additional calculations.\n",
    "  - Distance: \n",
    "    - The larger of $\\Delta Z$ or $d_{2D}$\n"
   ]
  },
  {
   "cell_type": "markdown",
   "metadata": {},
   "source": [
    " #### Vertical Concentric Cylinders\n",
    " \n",
    " ![Concentric Cylinders](./Images/FreeCAD%20Images/ConcentricCylinders.png)"
   ]
  },
  {
   "cell_type": "code",
   "execution_count": 4,
   "metadata": {},
   "outputs": [],
   "source": [
    "slice_spacing = 0.5\n",
    "# Body structure defines slices in use\n",
    "body = make_vertical_cylinder(roi_num=0, radius=20, length=30, offset_z=-15,\n",
    "                              spacing=slice_spacing)\n",
    "\n",
    "cylinder6 = make_vertical_cylinder(roi_num=1, radius=6, length=10,\n",
    "                                   spacing=slice_spacing)\n",
    "cylinder4 = make_vertical_cylinder(roi_num=2, radius=4, length=10,\n",
    "                                   spacing=slice_spacing)\n",
    "# combine the contours\n",
    "slice_data = pd.concat([body, cylinder6, cylinder4])\n",
    "\n",
    "# convert contour slice data into a table of slices and structures\n",
    "slice_table = make_slice_table(slice_data, ignore_errors=True)\n"
   ]
  },
  {
   "cell_type": "code",
   "execution_count": 6,
   "metadata": {},
   "outputs": [
    {
     "name": "stdout",
     "output_type": "stream",
     "text": [
      "Relationship: Partition\n",
      "Expected Margins: 2 cm in all directions.\n",
      "        2.0   0.0  \n",
      "        ANT  SUP       \n",
      "         | /           \n",
      "         |/            \n",
      "2.0 RT--- ---LT 2.0  \n",
      "        /|             \n",
      "       / |             \n",
      "   INF  POST           \n",
      "  0.0   2.0       \n",
      "\n",
      "Min: 0.0   Max: 2.0\n"
     ]
    }
   ],
   "source": [
    "structures = tuple([1, 2])\n",
    "relation = Relationship(structures, slice_table).relationship_type\n",
    "print(relation)\n",
    "print('Expected Margins: 2 cm in all directions.')\n",
    "m = MarginMetric(structures, slice_table=slice_table, relation=relation)\n",
    "print(m.format_metric())\n"
   ]
  },
  {
   "cell_type": "markdown",
   "metadata": {},
   "source": [
    "#### Stacked Spheres\n",
    "\n",
    "![Stacked Spheres 1](./Images/FreeCAD%20Images/StackedSpheres1.png)"
   ]
  },
  {
   "cell_type": "code",
   "execution_count": 43,
   "metadata": {},
   "outputs": [],
   "source": [
    "slice_spacing = 0.5\n",
    "# Body structure defines slices in use\n",
    "body = make_vertical_cylinder(roi_num=0, radius=20, length=30, offset_z=-15,\n",
    "                              spacing=slice_spacing)\n",
    "\n",
    "# Three spheres stacked vertically\n",
    "sphere3_sup = make_sphere(roi_num=1, radius=3, offset_z=4,\n",
    "                          spacing=slice_spacing)\n",
    "sphere3_inf = make_sphere(roi_num=1, radius=3, offset_z=-4,\n",
    "                          spacing=slice_spacing)\n",
    "sphere3_inf2 = make_sphere(roi_num=1, radius=3, offset_z=-12,\n",
    "                           spacing=slice_spacing)\n",
    "\n",
    "# Single 2 cm sphere within centre sphere of other structure\n",
    "sphere2_inf = make_sphere(roi_num=2, radius=2, offset_z=-4,\n",
    "                          spacing=slice_spacing)\n",
    "\n",
    "# combine the contours\n",
    "slice_data = pd.concat([sphere3_sup, sphere3_inf, sphere3_inf2,\n",
    "                                sphere2_inf, body])\n",
    "\n",
    "# convert contour slice data into a table of slices and structures\n",
    "slice_table = make_slice_table(slice_data, ignore_errors=True)"
   ]
  },
  {
   "cell_type": "markdown",
   "metadata": {},
   "source": [
    "# Note: Max distance is 2.2.  Is this appropriate?"
   ]
  },
  {
   "cell_type": "code",
   "execution_count": 44,
   "metadata": {},
   "outputs": [
    {
     "name": "stderr",
     "output_type": "stream",
     "text": [
      "d:\\.conda\\envs\\StructureRelations\\Lib\\site-packages\\shapely\\measurement.py:224: RuntimeWarning: invalid value encountered in hausdorff_distance\n",
      "  return lib.hausdorff_distance(a, b, **kwargs)\n",
      "d:\\.conda\\envs\\StructureRelations\\Lib\\site-packages\\shapely\\measurement.py:74: RuntimeWarning: invalid value encountered in distance\n",
      "  return lib.distance(a, b, **kwargs)\n"
     ]
    },
    {
     "data": {
      "text/plain": [
       "x_neg    1.000\n",
       "y_neg    1.000\n",
       "x_pos    1.000\n",
       "y_pos    1.000\n",
       "max      2.235\n",
       "min      0.981\n",
       "z_neg    1.000\n",
       "z_pos    1.000\n",
       "dtype: float64"
      ]
     },
     "execution_count": 44,
     "metadata": {},
     "output_type": "execute_result"
    }
   ],
   "source": [
    "structures = tuple([1, 2])\n",
    "relation = Relationship(structures, slice_table).relationship_type\n",
    "get_margins(structures, slice_table, relation)"
   ]
  },
  {
   "cell_type": "markdown",
   "metadata": {},
   "source": [
    "#### Stacked Spheres with Vertical Offset\n",
    "\n",
    "![Stacked Spheres Offset](./Images/FreeCAD%20Images/StackedSpheresOffset.png)"
   ]
  },
  {
   "cell_type": "code",
   "execution_count": 45,
   "metadata": {},
   "outputs": [],
   "source": [
    "slice_spacing = 0.5\n",
    "# Body structure defines slices in use\n",
    "body = make_vertical_cylinder(roi_num=0, radius=20, length=30, offset_z=-15,\n",
    "                              spacing=slice_spacing)\n",
    "\n",
    "# Three spheres stacked vertically\n",
    "sphere3_sup = make_sphere(roi_num=1, radius=3, offset_z=4,\n",
    "                          spacing=slice_spacing)\n",
    "sphere3_inf = make_sphere(roi_num=1, radius=3, offset_z=-4,\n",
    "                          spacing=slice_spacing)\n",
    "sphere3_inf2 = make_sphere(roi_num=1, radius=3, offset_z=-12,\n",
    "                           spacing=slice_spacing)\n",
    "\n",
    "# Single 2 cm sphere within the centre sphere of other structure, but offset\n",
    "# vertically by 0.5 cm from the centre of that sphere\n",
    "sphere2_inf = make_sphere(roi_num=2, radius=2, offset_z=-3.5,\n",
    "                          spacing=slice_spacing)\n",
    "\n",
    "# combine the contours\n",
    "slice_data = pd.concat([sphere3_sup, sphere3_inf, sphere3_inf2,\n",
    "                                sphere2_inf, body])\n",
    "\n",
    "# convert contour slice data into a table of slices and structures\n",
    "slice_table = make_slice_table(slice_data, ignore_errors=True)"
   ]
  },
  {
   "cell_type": "code",
   "execution_count": 46,
   "metadata": {},
   "outputs": [
    {
     "name": "stderr",
     "output_type": "stream",
     "text": [
      "d:\\.conda\\envs\\StructureRelations\\Lib\\site-packages\\shapely\\measurement.py:224: RuntimeWarning: invalid value encountered in hausdorff_distance\n",
      "  return lib.hausdorff_distance(a, b, **kwargs)\n",
      "d:\\.conda\\envs\\StructureRelations\\Lib\\site-packages\\shapely\\measurement.py:74: RuntimeWarning: invalid value encountered in distance\n",
      "  return lib.distance(a, b, **kwargs)\n"
     ]
    },
    {
     "data": {
      "text/plain": [
       "x_neg    0.866\n",
       "y_neg    0.866\n",
       "x_pos    0.866\n",
       "y_pos    0.866\n",
       "max      2.597\n",
       "min      0.500\n",
       "z_neg    1.500\n",
       "z_pos    0.500\n",
       "dtype: float64"
      ]
     },
     "execution_count": 46,
     "metadata": {},
     "output_type": "execute_result"
    }
   ],
   "source": [
    "structures = tuple([1, 2])\n",
    "relation = Relationship(structures, slice_table).relationship_type\n",
    "get_margins(structures, slice_table, relation)"
   ]
  },
  {
   "cell_type": "code",
   "execution_count": 47,
   "metadata": {},
   "outputs": [],
   "source": [
    "slice_spacing = 0.5\n",
    "# Body structure defines slices in use\n",
    "body = make_vertical_cylinder(roi_num=0, radius=20, length=30, offset_z=-15,\n",
    "                              spacing=slice_spacing)\n",
    "\n",
    "# Three spheres stacked vertically\n",
    "sphere3_sup = make_sphere(roi_num=1, radius=3, offset_z=4,\n",
    "                          spacing=slice_spacing)\n",
    "sphere3_inf = make_sphere(roi_num=1, radius=3, offset_z=-4,\n",
    "                          spacing=slice_spacing)\n",
    "sphere3_inf2 = make_sphere(roi_num=1, radius=3, offset_z=-12,\n",
    "                           spacing=slice_spacing)\n",
    "\n",
    "# Single 2 cm sphere within the centre sphere of other structure, but offset\n",
    "# vertically by 0.5 cm from the centre of that sphere\n",
    "sphere2_inf = make_sphere(roi_num=2, radius=2, offset_z=-3.5, offset_x=0.5,\n",
    "                          spacing=slice_spacing)\n",
    "\n",
    "# combine the contours\n",
    "slice_data = pd.concat([sphere3_sup, sphere3_inf, sphere3_inf2,\n",
    "                                sphere2_inf, body])\n",
    "\n",
    "# convert contour slice data into a table of slices and structures\n",
    "slice_table = make_slice_table(slice_data, ignore_errors=True)"
   ]
  },
  {
   "cell_type": "code",
   "execution_count": 48,
   "metadata": {},
   "outputs": [
    {
     "name": "stderr",
     "output_type": "stream",
     "text": [
      "d:\\.conda\\envs\\StructureRelations\\Lib\\site-packages\\shapely\\measurement.py:224: RuntimeWarning: invalid value encountered in hausdorff_distance\n",
      "  return lib.hausdorff_distance(a, b, **kwargs)\n",
      "d:\\.conda\\envs\\StructureRelations\\Lib\\site-packages\\shapely\\measurement.py:74: RuntimeWarning: invalid value encountered in distance\n",
      "  return lib.distance(a, b, **kwargs)\n"
     ]
    },
    {
     "data": {
      "text/plain": [
       "x_neg    1.366\n",
       "y_neg    0.766\n",
       "x_pos    0.366\n",
       "y_pos    0.766\n",
       "max      3.097\n",
       "min      0.359\n",
       "z_neg    1.000\n",
       "z_pos    0.000\n",
       "dtype: float64"
      ]
     },
     "execution_count": 48,
     "metadata": {},
     "output_type": "execute_result"
    }
   ],
   "source": [
    "structures = tuple([1, 2])\n",
    "relation = Relationship(structures, slice_table).relationship_type\n",
    "get_margins(structures, slice_table, relation)"
   ]
  },
  {
   "cell_type": "code",
   "execution_count": 49,
   "metadata": {},
   "outputs": [],
   "source": [
    "slice_spacing = 0.2\n",
    "# Body structure defines slices in use\n",
    "body = make_vertical_cylinder(roi_num=0, radius=20, length=30, offset_z=-15,\n",
    "                              spacing=slice_spacing)\n",
    "\n",
    "# Three spheres stacked vertically\n",
    "sphere3_sup = make_sphere(roi_num=1, radius=3, offset_z=4,\n",
    "                          spacing=slice_spacing)\n",
    "sphere3_inf = make_sphere(roi_num=1, radius=3, offset_z=-4,\n",
    "                          spacing=slice_spacing)\n",
    "sphere3_inf2 = make_sphere(roi_num=1, radius=3, offset_z=-12,\n",
    "                           spacing=slice_spacing)\n",
    "\n",
    "# Single 2 cm sphere within the centre sphere of other structure, but offset\n",
    "# vertically by 0.5 cm from the centre of that sphere\n",
    "sphere2_inf = make_sphere(roi_num=2, radius=2, offset_z=-3.6, offset_x=0.5,\n",
    "                          spacing=slice_spacing)\n",
    "\n",
    "# combine the contours\n",
    "slice_data = pd.concat([sphere3_sup, sphere3_inf, sphere3_inf2,\n",
    "                                sphere2_inf, body])\n",
    "\n",
    "# convert contour slice data into a table of slices and structures\n",
    "slice_table = make_slice_table(slice_data, ignore_errors=True)"
   ]
  },
  {
   "cell_type": "code",
   "execution_count": 50,
   "metadata": {},
   "outputs": [
    {
     "name": "stderr",
     "output_type": "stream",
     "text": [
      "d:\\.conda\\envs\\StructureRelations\\Lib\\site-packages\\shapely\\measurement.py:224: RuntimeWarning: invalid value encountered in hausdorff_distance\n",
      "  return lib.hausdorff_distance(a, b, **kwargs)\n",
      "d:\\.conda\\envs\\StructureRelations\\Lib\\site-packages\\shapely\\measurement.py:74: RuntimeWarning: invalid value encountered in distance\n",
      "  return lib.distance(a, b, **kwargs)\n"
     ]
    },
    {
     "data": {
      "text/plain": [
       "x_neg    1.416\n",
       "y_neg    0.817\n",
       "x_pos    0.416\n",
       "y_pos    0.817\n",
       "max      3.037\n",
       "min      0.408\n",
       "z_neg    1.200\n",
       "z_pos    0.400\n",
       "dtype: float64"
      ]
     },
     "execution_count": 50,
     "metadata": {},
     "output_type": "execute_result"
    }
   ],
   "source": [
    "structures = tuple([1, 2])\n",
    "relation = Relationship(structures, slice_table).relationship_type\n",
    "get_margins(structures, slice_table, relation)"
   ]
  },
  {
   "cell_type": "code",
   "execution_count": 51,
   "metadata": {},
   "outputs": [],
   "source": [
    "slice_spacing = 0.1\n",
    "# Body structure defines slices in use\n",
    "body = make_vertical_cylinder(roi_num=0, radius=20, length=30, offset_z=-15,\n",
    "                              spacing=slice_spacing)\n",
    "\n",
    "# Three spheres stacked vertically\n",
    "sphere3_sup = make_sphere(roi_num=1, radius=3, offset_z=4,\n",
    "                          spacing=slice_spacing)\n",
    "sphere3_inf = make_sphere(roi_num=1, radius=3, offset_z=-4,\n",
    "                          spacing=slice_spacing)\n",
    "sphere3_inf2 = make_sphere(roi_num=1, radius=3, offset_z=-12,\n",
    "                           spacing=slice_spacing)\n",
    "\n",
    "# Single 2 cm sphere within the centre sphere of other structure, but offset\n",
    "# vertically by 0.5 cm from the centre of that sphere\n",
    "sphere2_inf = make_sphere(roi_num=2, radius=2, offset_z=-3.5, offset_x=0.5,\n",
    "                          spacing=slice_spacing)\n",
    "\n",
    "# combine the contours\n",
    "slice_data = pd.concat([sphere3_sup, sphere3_inf, sphere3_inf2,\n",
    "                                sphere2_inf, body])\n"
   ]
  },
  {
   "cell_type": "code",
   "execution_count": 52,
   "metadata": {},
   "outputs": [],
   "source": [
    "\n",
    "# convert contour slice data into a table of slices and structures\n",
    "slice_table = make_slice_table(slice_data, ignore_errors=True)"
   ]
  },
  {
   "cell_type": "code",
   "execution_count": 53,
   "metadata": {},
   "outputs": [
    {
     "name": "stdout",
     "output_type": "stream",
     "text": [
      "Expected Margins: 3 cm in all directions.\n"
     ]
    },
    {
     "name": "stderr",
     "output_type": "stream",
     "text": [
      "d:\\.conda\\envs\\StructureRelations\\Lib\\site-packages\\shapely\\measurement.py:224: RuntimeWarning: invalid value encountered in hausdorff_distance\n",
      "  return lib.hausdorff_distance(a, b, **kwargs)\n",
      "d:\\.conda\\envs\\StructureRelations\\Lib\\site-packages\\shapely\\measurement.py:74: RuntimeWarning: invalid value encountered in distance\n",
      "  return lib.distance(a, b, **kwargs)\n"
     ]
    },
    {
     "data": {
      "text/plain": [
       "x_neg    1.366\n",
       "y_neg    0.766\n",
       "x_pos    0.366\n",
       "y_pos    0.766\n",
       "max      3.097\n",
       "min      0.359\n",
       "z_neg    1.400\n",
       "z_pos    0.400\n",
       "dtype: float64"
      ]
     },
     "execution_count": 53,
     "metadata": {},
     "output_type": "execute_result"
    }
   ],
   "source": [
    "structures = tuple([1, 2])\n",
    "relation = Relationship(structures, slice_table).relationship_type\n",
    "print('Expected Margins: 3 cm in all directions.')\n",
    "get_margins(structures, slice_table, relation)"
   ]
  },
  {
   "cell_type": "markdown",
   "metadata": {},
   "source": [
    "# Done to Here"
   ]
  },
  {
   "cell_type": "markdown",
   "metadata": {},
   "source": [
    "#### Horizontal Cylinders\n",
    "\n",
    "![Horizontal Cylinders](./Images/FreeCAD%20Images/HorizontalCylinders.png)"
   ]
  },
  {
   "cell_type": "code",
   "execution_count": 54,
   "metadata": {},
   "outputs": [],
   "source": [
    "slice_spacing = 0.1\n",
    "# Body structure defines slices in use\n",
    "body = make_box(roi_num=0, width=6, length=6, height=8, offset_z=-4,\n",
    "                spacing=slice_spacing)\n",
    "\n",
    "cylinder2h = make_horizontal_cylinder(radius=2, length=5, spacing=slice_spacing,\n",
    "                                      roi_num=1)\n",
    "cylinder1h = make_horizontal_cylinder(radius=1, length=5, spacing=slice_spacing,\n",
    "                                      roi_num=2)\n",
    "# combine the contours\n",
    "slice_data = pd.concat([body, cylinder1h, cylinder2h])\n",
    "\n",
    "# convert contour slice data into a table of slices and structures\n",
    "slice_table = make_slice_table(slice_data, ignore_errors=True)\n"
   ]
  },
  {
   "cell_type": "code",
   "execution_count": 55,
   "metadata": {},
   "outputs": [
    {
     "name": "stdout",
     "output_type": "stream",
     "text": [
      "Relationship: Partition\n",
      "Expected Margins: 2.0 cm in all directions.\n"
     ]
    },
    {
     "data": {
      "text/plain": [
       "x_neg    0.5\n",
       "y_neg    0.0\n",
       "x_pos    0.5\n",
       "y_pos    0.0\n",
       "max      1.0\n",
       "min      0.0\n",
       "z_neg    1.0\n",
       "z_pos    1.0\n",
       "dtype: float64"
      ]
     },
     "execution_count": 55,
     "metadata": {},
     "output_type": "execute_result"
    }
   ],
   "source": [
    "structures = tuple([1, 2])\n",
    "relation = Relationship(structures, slice_table).relationship_type\n",
    "print(relation)\n",
    "print('Expected Margins: 2.0 cm in all directions.', )\n",
    "get_margins(structures, slice_table, relation)\n"
   ]
  },
  {
   "cell_type": "code",
   "execution_count": 57,
   "metadata": {},
   "outputs": [
    {
     "name": "stdout",
     "output_type": "stream",
     "text": [
      "Relationship: Partition\n"
     ]
    }
   ],
   "source": [
    "relationship_1_2 = Relationship((1, 2), slice_table)\n",
    "print(relationship_1_2.relationship_type)"
   ]
  },
  {
   "cell_type": "code",
   "execution_count": 58,
   "metadata": {},
   "outputs": [
    {
     "data": {
      "image/png": "[encoded data removed]",
      "text/plain": [
       "<Figure size 400x200 with 1 Axes>"
      ]
     },
     "metadata": {},
     "output_type": "display_data"
    }
   ],
   "source": [
    "slice = slice_table.loc[0,:]\n",
    "plot_ab(slice[1].contour, slice[2].contour)"
   ]
  },
  {
   "cell_type": "markdown",
   "metadata": {},
   "source": [
    "#### Embedded Spheres with Island\n",
    "\n",
    "![Embeded Spheres](./Images/FreeCAD%20Images/EmbeddedSpheres.png)"
   ]
  },
  {
   "cell_type": "code",
   "execution_count": null,
   "metadata": {},
   "outputs": [],
   "source": [
    "slice_spacing = 0.5\n",
    "# Body structure defines slices in use\n",
    "body = make_vertical_cylinder(roi_num=0, radius=20, length=30, offset_z=-15,\n",
    "                              spacing=slice_spacing)\n",
    "\n",
    "# Hollow Sphere with island\n",
    "sphere2 = make_sphere(roi_num=4, radius=2, spacing=0.5)\n",
    "sphere6 = make_sphere(roi_num=5, radius=6, spacing=0.5)\n",
    "sphere4 = make_sphere(roi_num=5, radius=4, spacing=0.5)\n",
    "sphere3 = make_sphere(roi_num=5, radius=3, spacing=0.5)\n",
    "\n",
    "# combine the contours\n",
    "slice_data = pd.concat([body, sphere2, sphere6, sphere4, sphere3])\n",
    "\n",
    "# convert contour slice data into a table of slices and structures\n",
    "slice_table = make_slice_table(slice_data, ignore_errors=True)\n"
   ]
  },
  {
   "cell_type": "code",
   "execution_count": null,
   "metadata": {},
   "outputs": [],
   "source": [
    "structures = tuple([5, 4])\n",
    "relation = Relationship(structures, slice_table).relationship_type\n",
    "print(relation)\n",
    "print('Expected Margins: 1.0 cm in all directions.', )\n",
    "get_margins(structures, slice_table, relation)\n"
   ]
  },
  {
   "cell_type": "code",
   "execution_count": null,
   "metadata": {},
   "outputs": [],
   "source": [
    "# 6 cm x 6 cm box\n",
    "box6 = shapely.Polygon(box_points(6))\n",
    "slices = make_slice_list(5)\n",
    "slices_1 = make_contour_slices(box6, roi_num=1, number_slices=5)\n",
    "\n",
    "# 4 cm x 4 cm box\n",
    "box4 = shapely.Polygon(box_points(4))\n",
    "slices = make_slice_list(5)\n",
    "#slices = make_slice_list(5, start=0.2, spacing=0.2)\n",
    "slices_2 = make_contour_slices(2, slices, [box4])\n",
    "\n",
    "# 6 cm x 6 cm box offset right by 3 cm\n",
    "offset_box6 = shapely.Polygon(box_points(6, offset_x=3))\n",
    "slices = make_slice_list(5)\n",
    "#slices = make_slice_list(5, start=0.2, spacing=0.2)\n",
    "slices_3 = make_contour_slices(3, slices, [offset_box6])\n",
    "\n",
    "# 6 cm x 6 cm box with 4cm x 4 cm hole\n",
    "box6 = shapely.Polygon(box_points(6))\n",
    "box4 = shapely.Polygon(box_points(4))\n",
    "slices = make_slice_list(5, start=0.2)\n",
    "slices_4 = make_contour_slices(4, slices, [box6, box4])\n",
    "\n",
    "# 2 2x2 boxes\n",
    "box2a = shapely.Polygon(box_points(2, offset_x=-3))\n",
    "box2b = shapely.Polygon(box_points(2, offset_x=3))\n",
    "slices = make_slice_list(5)\n",
    "#slices = make_slice_list(5, start=0.2, spacing=0.2)\n",
    "slices_5 = make_contour_slices(5, slices, [box2a, box2b])\n",
    "\n",
    "# 2 cm x 2 cm box offset inf by 0.3 cm\n",
    "slices = make_slice_list(5, start=-0.3)\n",
    "slices_6 = make_contour_slices(6, slices, [offset_box6])\n"
   ]
  },
  {
   "cell_type": "code",
   "execution_count": null,
   "metadata": {},
   "outputs": [],
   "source": [
    "spacing: float = 0.1\n",
    "radius: float = 1\n",
    "number_slices = ceil(radius * 2 / spacing) + 1\n",
    "start_slice = - radius\n",
    "z_coord = make_slice_list(number_slices, start_slice, spacing)\n",
    "r_coord = circle_x_points(radius, z_coord)\n"
   ]
  },
  {
   "cell_type": "code",
   "execution_count": null,
   "metadata": {},
   "outputs": [],
   "source": [
    "slice_points = []\n",
    "for slice, xy_points in sphere_points(1).items():\n",
    "    xy = np.array(xy_points)\n",
    "    z = np.ones((np.size(xy ,0), 1)) * slice\n",
    "    xyz = np.concatenate([xy, z], axis=1)\n",
    "    slice_points.append(xyz)\n",
    "sphere = np.concatenate(slice_points)\n",
    "\n",
    "fig = plt.figure()\n",
    "ax = fig.add_subplot(projection='3d')\n",
    "ax.plot(sphere[:,0], sphere[:,1], sphere[:,2], marker='.', linestyle='none', color='red')\n",
    "ax.set_aspect('equal')\n",
    "plt.show()"
   ]
  },
  {
   "cell_type": "code",
   "execution_count": null,
   "metadata": {},
   "outputs": [],
   "source": [
    "a = make_sphere(radius=2, spacing=0.1, roi_num=0)\n",
    "b = make_sphere(radius=1, spacing=0.1, roi_num=1)\n",
    "slice_data = pd.concat([a, b])\n",
    "slice_table = make_slice_table(slice_data)\n",
    "plot_roi(slice_table, [0,1])"
   ]
  },
  {
   "cell_type": "code",
   "execution_count": null,
   "metadata": {},
   "outputs": [],
   "source": [
    "a = make_vertical_cylinder(radius=2, length= 5, spacing=0.1, roi_num=0)\n",
    "b = make_vertical_cylinder(radius=1, length= 5, spacing=0.1, roi_num=1)\n",
    "slice_data = pd.concat([a, b])\n",
    "slice_table = make_slice_table(slice_data)\n",
    "plot_roi(slice_table, [0,1])"
   ]
  },
  {
   "cell_type": "code",
   "execution_count": null,
   "metadata": {},
   "outputs": [],
   "source": [
    "a = make_horizontal_cylinder(radius=2, length=5, spacing=0.1, roi_num=0)\n",
    "b = make_horizontal_cylinder(radius=1, length=5, spacing=0.1, roi_num=1)\n",
    "slice_data = pd.concat([a, b])\n",
    "slice_table = make_slice_table(slice_data)\n",
    "plot_roi(slice_table, [0,1])"
   ]
  },
  {
   "cell_type": "markdown",
   "metadata": {},
   "source": [
    "### Margin Tests"
   ]
  },
  {
   "cell_type": "markdown",
   "metadata": {},
   "source": [
    "#### Contains"
   ]
  },
  {
   "cell_type": "markdown",
   "metadata": {},
   "source": [
    "<link rel=\"stylesheet\" href=\"relations.css\">\n",
    "<table width=\"400px\">\n",
    "<tr class=\"l\"><th>Contains</th><th>Transitive</th></tr>\n",
    "<td class=\"d\" colspan=\"2\">\n",
    "All points of <span class=\"b\">b</span> lie in the interior of <span class=\"a\">a</span>, no points of <span class=\"b\">b</span> lie in the exterior of <span class=\"a\">a</span>, some points in <span class=\"a\">a</span> are exterior to <span class=\"b\">b</span>, and the boundaries of <span class=\"a\">a</span> and <span class=\"b\">b</span> do not intersect.\n",
    "</td></tr>\n",
    "<tr><td colspan=\"2\">\n",
    "<img src=\"Images/Relationships/contains simple.png\" alt=\"Contains\">\n",
    "<img src=\"Images/Relationships/contains with hole.png\" alt=\"Contains With Hole\">\n",
    "</td></tr>\n",
    "</table></td></tr></table>"
   ]
  },
  {
   "cell_type": "code",
   "execution_count": null,
   "metadata": {},
   "outputs": [],
   "source": [
    "def contains_example1():\n",
    "    circle6 = shapely.Polygon(circle_points(3))\n",
    "    circle4 = shapely.Polygon(circle_points(2))\n",
    "    a = StructureSlice([circle6])\n",
    "    b = StructureSlice([circle4])\n",
    "    print('Expected Margins: 1 cm in all directions.', )\n",
    "    return a, b\n",
    "\n",
    "def contains_example2():\n",
    "    circle6 = shapely.Polygon(circle_points(3))\n",
    "    circle4 = shapely.Polygon(circle_points(2))\n",
    "    circle3 = shapely.Polygon(circle_points(1.5))\n",
    "    circle2 = shapely.Polygon(circle_points(1))\n",
    "    a = StructureSlice([circle6, circle4, circle3])\n",
    "    b = StructureSlice([circle2])\n",
    "    print('Expected Margins: 0.5 cm in all directions.', )\n",
    "    return a, b\n",
    "\n",
    "def contains_example3():\n",
    "    circle6 = shapely.Polygon(circle_points(3))\n",
    "    circle5 = shapely.Polygon(circle_points(2.5))\n",
    "    circle3 = shapely.Polygon(circle_points(1.5))\n",
    "    circle2 = shapely.Polygon(circle_points(1))\n",
    "    a = StructureSlice([circle6, circle2])\n",
    "    b = StructureSlice([circle5, circle3])\n",
    "    print('Expected Margins: 0.5 cm in all directions.', )\n",
    "    return a, b\n",
    "\n",
    "def contains_example4():\n",
    "    circle6 = shapely.Polygon(circle_points(3))\n",
    "    circle3_offset_x = shapely.Polygon(circle_points(1.5, offset_x=1.2))\n",
    "    a = StructureSlice([circle6])\n",
    "    b = StructureSlice([circle3_offset_x])\n",
    "    print('Expected Margins:\\n\\t-X: 2.7\\t+X: 0.3\\ty: < 1.5', )\n",
    "    return a, b\n",
    "\n",
    "def contains_example5():\n",
    "    circle6_offset = shapely.Polygon(circle_points(3, offset_y=-1))\n",
    "    circle3_offset = shapely.Polygon(circle_points(1.5,\n",
    "                                                     offset_x=0.5,\n",
    "                                                     offset_y=-2))\n",
    "    a = StructureSlice([circle6_offset])\n",
    "    b = StructureSlice([circle3_offset])\n",
    "    print('Expected Margins:\\n\\t-X: 2.0<1.0\\t+X: <1.0\\t-y: < 2.5\\t+y: < 0.5', )\n",
    "    return a, b\n",
    "\n",
    "def contains_example6():\n",
    "    circle4_left = shapely.Polygon(circle_points(2, offset_x=-3))\n",
    "    circle4_right = shapely.Polygon(circle_points(2, offset_x=3))\n",
    "    circle3_left = shapely.Polygon(circle_points(1.5, offset_x=-3))\n",
    "    circle3_right = shapely.Polygon(circle_points(1.5, offset_x=3))\n",
    "    circle5_up = shapely.Polygon(circle_points(2.5, offset_y=4))\n",
    "    circle2_up = shapely.Polygon(circle_points(1, offset_y=3))\n",
    "    circle3_down = shapely.Polygon(circle_points(1.5, offset_y=-2.5))\n",
    "    circle1_down = shapely.Polygon(circle_points(0.5, offset_y=-2))\n",
    "    a = StructureSlice([circle4_left, circle4_right, circle5_up, circle3_down])\n",
    "    b = StructureSlice([circle3_left, circle3_right, circle2_up, circle1_down])\n",
    "    print('Expected Margins:\\n','\\n'.join([\n",
    "        '\\t-X:  0.5\\t+X:  0.5  \\t-y: 0.5  \\t+y: 0.5\\t',\n",
    "        '\\t-X:  0.5\\t+X:  0.5  \\t-y: 0.5  \\t+y: 0.5\\t',\n",
    "        '\\t-X: <1.5\\t+X: <1.5  \\t-y: 0.5  \\t+y: 2.5\\t',\n",
    "        '\\t-X: <1.0\\t+X: <1.0  \\t-y: 1.5  \\t+y: 0.5\\t'\n",
    "        ]))\n",
    "    return a, b"
   ]
  },
  {
   "cell_type": "code",
   "execution_count": null,
   "metadata": {},
   "outputs": [],
   "source": [
    "a, b = contains_example1()\n",
    "ax = plot_ab(a.contour, b.contour)\n",
    "relation_binary = relate(a,b)\n",
    "relation = identify_relation(relation_binary)\n",
    "margins(a, b, relation)\n"
   ]
  },
  {
   "cell_type": "code",
   "execution_count": null,
   "metadata": {},
   "outputs": [],
   "source": [
    "a, b = contains_example2()\n",
    "ax = plot_ab(a.contour, b.contour)\n",
    "relation_binary = relate(a,b)\n",
    "relation = identify_relation(relation_binary)\n",
    "margins(a, b, relation)"
   ]
  },
  {
   "cell_type": "code",
   "execution_count": null,
   "metadata": {},
   "outputs": [],
   "source": [
    "a, b = contains_example3()\n",
    "ax = plot_ab(a.contour, b.contour)\n",
    "relation_binary = relate(a,b)\n",
    "relation = identify_relation(relation_binary)\n",
    "margins(a, b, relation)"
   ]
  },
  {
   "cell_type": "code",
   "execution_count": null,
   "metadata": {},
   "outputs": [],
   "source": [
    "a, b = contains_example4()\n",
    "ax = plot_ab(a.contour, b.contour)\n",
    "relation_binary = relate(a,b)\n",
    "relation = identify_relation(relation_binary)\n",
    "margins(a, b, relation)"
   ]
  },
  {
   "cell_type": "code",
   "execution_count": null,
   "metadata": {},
   "outputs": [],
   "source": [
    "a, b = contains_example5()\n",
    "ax = plot_ab(a.contour, b.contour)\n",
    "relation_binary = relate(a,b)\n",
    "relation = identify_relation(relation_binary)\n",
    "margins(a, b, relation)"
   ]
  },
  {
   "cell_type": "code",
   "execution_count": null,
   "metadata": {},
   "outputs": [],
   "source": [
    "a, b = contains_example6()\n",
    "ax = plot_ab(a.contour, b.contour)\n",
    "relation_binary = relate(a,b)\n",
    "relation = identify_relation(relation_binary)\n",
    "margins(a, b, relation)"
   ]
  },
  {
   "cell_type": "markdown",
   "metadata": {},
   "source": [
    "#### Surrounds"
   ]
  },
  {
   "cell_type": "markdown",
   "metadata": {},
   "source": [
    "<link rel=\"stylesheet\" href=\"relations.css\">\n",
    "<table width=\"400px\">\n",
    "<tr class=\"l\"><th>Surrounds</th><th>Transitive</t></tr>\n",
    "<td class=\"d\" colspan=\"2\">\n",
    "<span class=\"a\">a</span> and <span class=\"b\">b</span> have no interior points in common, and with holes filled <span class=\"b\">b</span> lies in the interior of <span class=\"a\">a</span>.\n",
    "</td></tr><tr><td colspan=\"2\">\n",
    "<img src=\"Images/Relationships/surrounds simple.png\" alt=\"surrounds simple\">\n",
    "<img src=\"Images/Relationships/surrounds with ring.png\" alt=\"surrounds ring\">\n",
    "</td></tr>\n",
    "</table></td></tr></table>\n"
   ]
  },
  {
   "cell_type": "code",
   "execution_count": null,
   "metadata": {},
   "outputs": [],
   "source": [
    "def surrounds_example1():\n",
    "    circle6 = shapely.Polygon(circle_points(3))\n",
    "    circle4 = shapely.Polygon(circle_points(2))\n",
    "    circle2 = shapely.Polygon(circle_points(1))\n",
    "\n",
    "    a = StructureSlice([circle6, circle4])\n",
    "    b = StructureSlice([circle2])\n",
    "    print('Expected Margins: 1 cm in all directions.', )\n",
    "    return a, b\n",
    "\n",
    "def surrounds_example2():\n",
    "    circle6 = shapely.Polygon(circle_points(3))\n",
    "    circle5 = shapely.Polygon(circle_points(2.5))\n",
    "    circle4 = shapely.Polygon(circle_points(2))\n",
    "    circle3 = shapely.Polygon(circle_points(1.5))\n",
    "    circle2 = shapely.Polygon(circle_points(1))\n",
    "\n",
    "    a = StructureSlice([circle6, circle5, circle2])\n",
    "    b = StructureSlice([circle4, circle3])\n",
    "    print('Expected Margins: 0.5 cm in all directions.', )\n",
    "    return a, b\n",
    "\n",
    "def surrounds_example3():\n",
    "    box10x5 = shapely.Polygon(box_points(10,5))\n",
    "    circle4_left = shapely.Polygon(circle_points(2, offset_x=-3))\n",
    "    circle3_right = shapely.Polygon(circle_points(1.5, offset_x=3))\n",
    "    circle2_left = shapely.Polygon(circle_points(1, offset_x=-3, offset_y=0.5))\n",
    "    circle2_right = shapely.Polygon(circle_points(1, offset_x=3))\n",
    "    a = StructureSlice([box10x5, circle4_left, circle3_right, circle2_right])\n",
    "    b = StructureSlice([circle2_left])\n",
    "    print('Expected Margins:\\n\\tX: < 1.0\\t-Y: 1.5  \\t+y: < 0.5', )\n",
    "    return a, b"
   ]
  },
  {
   "cell_type": "code",
   "execution_count": null,
   "metadata": {},
   "outputs": [],
   "source": [
    "a, b = surrounds_example1()\n",
    "ax = plot_ab(a.contour, b.contour)\n",
    "relation_binary = relate(a,b)\n",
    "relation = identify_relation(relation_binary)\n",
    "margins(a, b, relation)\n"
   ]
  },
  {
   "cell_type": "code",
   "execution_count": null,
   "metadata": {},
   "outputs": [],
   "source": [
    "a, b = surrounds_example2()\n",
    "ax = plot_ab(a.contour, b.contour)\n",
    "relation_binary = relate(a,b)\n",
    "relation = identify_relation(relation_binary)\n",
    "margins(a, b, relation)"
   ]
  },
  {
   "cell_type": "code",
   "execution_count": null,
   "metadata": {},
   "outputs": [],
   "source": [
    "a, b = surrounds_example3()\n",
    "ax = plot_ab(a.contour, b.contour)\n",
    "relation_binary = relate(a,b)\n",
    "relation = identify_relation(relation_binary)\n",
    "margins(a, b, relation)"
   ]
  },
  {
   "cell_type": "markdown",
   "metadata": {},
   "source": [
    "#### Shelters"
   ]
  },
  {
   "cell_type": "markdown",
   "metadata": {},
   "source": [
    "<link rel=\"stylesheet\" href=\"relations.css\">\n",
    "<table width=\"400px\">\n",
    "<tr class=\"l\"><th>Shelters</th><th>Transitive</th></tr>\n",
    "<td class=\"d\" colspan=\"2\">\n",
    "<span class=\"a\">a</span> and <span class=\"b\">b</span> \n",
    "have no points in common, \n",
    "but the Convex Hull of <span class=\"a\">a</span> contains <span class=\"b\">b</span>.\n",
    "</td></tr>\n",
    "<tr><td colspan=\"2\">\n",
    "<img src=\"Images/Relationships/shelters.png\" alt=\"Shelters\">\n",
    "</td></tr>\n",
    "</table></td></tr></table>"
   ]
  },
  {
   "cell_type": "code",
   "execution_count": null,
   "metadata": {},
   "outputs": [],
   "source": [
    "def shelters_example():\n",
    "    circle6 = shapely.Polygon(circle_points(3))\n",
    "    circle5 = shapely.Polygon(circle_points(2.5))\n",
    "    circle4_offset = shapely.Polygon(circle_points(2, offset_x=3.5))\n",
    "    shell = shapely.difference(circle6, circle5)\n",
    "    cove = shapely.difference(shell, circle4_offset)\n",
    "    circle2 = shapely.Polygon(circle_points(1, offset_x=1))\n",
    "\n",
    "    x_min_margin = 5.0/2 - 2.0/2 + 1.0   # Margin to contour\n",
    "    cove_edge = cove.bounds[2]\n",
    "    x_max_margin = cove_edge - 2.0/2 - 1.0   # Margin to Hull\n",
    "    y_edge = sqrt(2.5*2.5 - 1)\n",
    "    y_margin = y_edge - 2.0/2\n",
    "    print(''.join([\n",
    "        f'Expected Margins:\\n\\t',\n",
    "        f'-X: {x_min_margin:3.2f}  ',\n",
    "        f'+X:{x_max_margin:3.2f}  ',\n",
    "        f'Y: {y_margin:3.2f}'\n",
    "        ]))\n",
    "\n",
    "    a = StructureSlice([cove])\n",
    "    b = StructureSlice([circle2])\n",
    "\n",
    "    return a, b\n"
   ]
  },
  {
   "cell_type": "code",
   "execution_count": null,
   "metadata": {},
   "outputs": [],
   "source": [
    "a, b = shelters_example()\n",
    "ax = plot_ab(a.contour, b.contour)\n",
    "relation_binary = relate(a,b)\n",
    "relation = identify_relation(relation_binary)\n",
    "margins(a, b, relation)"
   ]
  },
  {
   "cell_type": "markdown",
   "metadata": {},
   "source": [
    "## Distance\n",
    "- $Distance = distance(a,b)$\n",
    "\n",
    "**Z direction metrics**\n",
    "\n",
    "- The larger of $\\Delta Z$ or $d_{2D}$\n",
    "\n",
    "**Used By:**\n",
    "- Disjoint\n"
   ]
  },
  {
   "cell_type": "markdown",
   "metadata": {},
   "source": [
    "## Ratio of Volumes\n",
    "\n",
    "Ratio of the overlapping volume to the average or larger volume.\n",
    "$R_V =\\frac{V( a \\cap b )}{\\overline{V_{a,b}}}$\n",
    "\n",
    "Since the structures are compared slice by slice, the Volume function can be written as:<br>\n",
    "$V(x) = t \\times \\operatorname{area} ( x )$,<br>\n",
    "where $t$ is the slice thickness. \n",
    "\n",
    "When calculating the ratio, slice thickness is a constant, so the Volume ratio is equal to the ratio sums of the areas over all slices:\n",
    "  \n",
    "$R_V =\\frac{\\sum_s \\operatorname{area}( a \\cap b )}{\\sum_s \\overline{\\operatorname{area}_{a,b}}}$\n",
    "\n",
    "*Used By:*\n",
    "\n",
    "- **Overlaps**\n",
    "> - Ratio of the volume of overlap to the average volume of $a$ and $b$:\n",
    "> - $R_v =\\frac{\\sum_s \\left[ 2 \\times \\operatorname{area}( a \\cap b ) \\right] }{\\sum_s \\left[ \\operatorname{area}( a ) + \\operatorname{area}( b ) \\right] }$\n",
    "\n",
    "\n",
    "- **Partition**\n",
    "> - Ratio of the volume of the overlap to the volume of the larger structure ($a$):\n",
    "> - $R_V =\\frac{\\sum_s \\operatorname{area}( a \\cap b )}{\\sum_s \\operatorname{area}( a )}$\n"
   ]
  },
  {
   "cell_type": "markdown",
   "metadata": {},
   "source": [
    "<link rel=\"stylesheet\" href=\"relations.css\">\n",
    "<table width=\"400px\">\n",
    "<tr class=\"l\"><th>Overlaps</th><th>Symmetric</th></tr>\n",
    "<td class=\"d\" colspan=\"2\">\n",
    "<span class=\"a\">a</span> and <span class=\"b\">b</span> \n",
    "have some but not all points in common.\n",
    "</td></tr>\n",
    "<tr><td colspan=\"2\">\n",
    "<img src=\"Images/Relationships/overlaps simple.png\" alt=\"Overlaps\">\n",
    "<img src=\"Images/Relationships/overlaps ring.png\" alt=\"Overlaps With Ring\">\n",
    "<img src=\"Images/Relationships/overlaps surounded.png\" alt=\"Overlaps Surrounded\">\n",
    "<img src=\"Images/Relationships/overlaps ring surrounds simple.png\" alt=\"Ring Overlaps Simple\">\n",
    "<img src=\"Images/Relationships/archipelago contains simple.png\" alt=\"Ring Overlaps Simple\">\n",
    "</td></tr></table>"
   ]
  },
  {
   "cell_type": "code",
   "execution_count": null,
   "metadata": {},
   "outputs": [],
   "source": [
    "def overlaps_box_example():\n",
    "    box4 = shapely.Polygon(box_points(4))\n",
    "    box4_offset = shapely.Polygon(box_points(4, offset_x=2))\n",
    "\n",
    "    area_a = 4 * 4\n",
    "    area_b = 4 * 4\n",
    "    average_area = (area_a + area_b) / 2\n",
    "    overlapping_area = 4 * 2\n",
    "    ratio = overlapping_area / average_area\n",
    "    print(f'Expected Ratio: {ratio:3.2f}')\n",
    "\n",
    "    a = StructureSlice([box4])\n",
    "    b = StructureSlice([box4_offset])\n",
    "    return a, b\n",
    "\n",
    "def overlaps_simple_example():\n",
    "    circle6 = shapely.Polygon(circle_points(3))\n",
    "    box6_offset = shapely.Polygon(box_points(6, offset_x=3))\n",
    "\n",
    "    area_a = pi * 3**2\n",
    "    area_b = 6 * 6\n",
    "    average_area = (area_a + area_b) / 2\n",
    "    overlapping_area = area_a / 2\n",
    "    ratio = overlapping_area / average_area\n",
    "    print(f'Expected Ratio: {ratio:3.2f}')\n",
    "\n",
    "    a = StructureSlice([circle6])\n",
    "    b = StructureSlice([box6_offset])\n",
    "    return a, b\n",
    "\n",
    "def overlaps_ring_example():\n",
    "    circle6 = shapely.Polygon(circle_points(3))\n",
    "    circle4 = shapely.Polygon(circle_points(2))\n",
    "    box6_offset = shapely.Polygon(box_points(6, offset_x=3))\n",
    "\n",
    "    area_a = pi * (3**2 - 2**2)\n",
    "    area_b = 6 * 6\n",
    "    average_area = (area_a + area_b) / 2\n",
    "    overlapping_area = area_a / 2\n",
    "    ratio = overlapping_area / average_area\n",
    "    print(f'Expected Ratio: {ratio:3.2f}')\n",
    "\n",
    "    a = StructureSlice([circle6, circle4])\n",
    "    b = StructureSlice([box6_offset])\n",
    "    return a, b\n",
    "\n",
    "def overlaps_surrounded_example():\n",
    "    circle6 = shapely.Polygon(circle_points(3))\n",
    "    circle4 = shapely.Polygon(circle_points(2))\n",
    "    circle3_offset = shapely.Polygon(circle_points(1.5, offset_x=1))\n",
    "\n",
    "    area_a = pi * (3**2 - 2**2)\n",
    "    area_b = pi * ((3 / 2) ** 2)\n",
    "    average_area = (area_a + area_b) / 2\n",
    "    overlapping_area = area_b / 5  # Estimated 1/5 of smaller circle overlaps\n",
    "    ratio = overlapping_area / average_area\n",
    "    print(f'Estimated Ratio: {ratio:3.2f}')\n",
    "\n",
    "    a = StructureSlice([circle6, circle4])\n",
    "    b = StructureSlice([circle3_offset])\n",
    "    return a, b\n",
    "\n",
    "def overlaps_surrounded_box_example():\n",
    "    box6 = shapely.Polygon(box_points(6))\n",
    "    box4 = shapely.Polygon(box_points(4))\n",
    "    box3 = shapely.Polygon(box_points(3, offset_x=1))\n",
    "\n",
    "    area_a = 6*6 - 4*4\n",
    "    area_b = 3 * 3\n",
    "    average_area = (area_a + area_b) / 2\n",
    "    overlapping_area = 3 * (3/2 -1)\n",
    "    ratio = overlapping_area / average_area\n",
    "    print(f'Expected Ratio: {ratio:3.2f}')\n",
    "\n",
    "    a = StructureSlice([box6, box4])\n",
    "    b = StructureSlice([box3])\n",
    "    return a, b\n",
    "\n",
    "def overlaps_ring_surrounded_example():\n",
    "    circle6 = shapely.Polygon(circle_points(3))\n",
    "    circle3 = shapely.Polygon(circle_points(1.5))\n",
    "    circle4 = shapely.Polygon(circle_points(2))\n",
    "\n",
    "    area_a = pi * (3**2 - 1.5**2)\n",
    "    area_b = pi * 2**2\n",
    "    average_area = (area_a + area_b) / 2\n",
    "    overlapping_area = pi * (2**2 - 1.5**2)\n",
    "    ratio = overlapping_area / average_area\n",
    "    print(f'Expected Ratio: {ratio:3.2f}')\n",
    "\n",
    "    a = StructureSlice([circle6, circle3])\n",
    "    b = StructureSlice([circle4])\n",
    "    return a, b\n",
    "\n",
    "def overlaps_archipelago_simple_example1():\n",
    "    circle6 = shapely.Polygon(circle_points(3))\n",
    "    circle4 = shapely.Polygon(circle_points(2))\n",
    "    circle3 = shapely.Polygon(circle_points(1.5))\n",
    "    circle2 = shapely.Polygon(circle_points(1))\n",
    "\n",
    "    area_a = pi * (3**2 - 2**2 + 1**2)\n",
    "    area_b = pi * 2**2\n",
    "    average_area = (area_a + area_b) / 2\n",
    "    overlapping_area = pi * (2**2 - 2**2 + 1**2)\n",
    "    ratio = overlapping_area / average_area\n",
    "    print(f'Expected Ratio: {ratio:3.2f}')\n",
    "\n",
    "    a = StructureSlice([circle6, circle4, circle2])\n",
    "    b = StructureSlice([circle4])\n",
    "    return a, b\n",
    "\n",
    "def overlaps_archipelago_simple_example2():\n",
    "    circle6 = shapely.Polygon(circle_points(3))\n",
    "    circle4 = shapely.Polygon(circle_points(2))\n",
    "    circle3 = shapely.Polygon(circle_points(1.5))\n",
    "    circle2 = shapely.Polygon(circle_points(1))\n",
    "\n",
    "    area_a = pi * (3**2 - 1.5**2 + 1**2)\n",
    "    area_b = pi * 2**2\n",
    "    average_area = (area_a + area_b) / 2\n",
    "    overlapping_area = pi * (2**2 - 1.5**2 + 1**2)\n",
    "    ratio = overlapping_area / average_area\n",
    "    print(f'Expected Ratio: {ratio:3.2f}')\n",
    "\n",
    "    a = StructureSlice([circle6, circle3, circle2])\n",
    "    b = StructureSlice([circle4])\n",
    "    return a, b"
   ]
  },
  {
   "cell_type": "code",
   "execution_count": null,
   "metadata": {},
   "outputs": [],
   "source": [
    "a, b = overlaps_archipelago_simple_example1()\n",
    "ax = plot_ab(a.contour, b.contour)\n",
    "relation_binary = relate(a,b)\n",
    "relation = identify_relation(relation_binary)\n",
    "print(volume_ratio(a, b, relation, PRECISION))"
   ]
  },
  {
   "cell_type": "code",
   "execution_count": null,
   "metadata": {},
   "outputs": [],
   "source": [
    "a, b = overlaps_archipelago_simple_example2()\n",
    "ax = plot_ab(a.contour, b.contour)\n",
    "relation_binary = relate(a,b)\n",
    "relation = identify_relation(relation_binary)\n",
    "print(volume_ratio(a, b, relation, PRECISION))"
   ]
  },
  {
   "cell_type": "code",
   "execution_count": null,
   "metadata": {},
   "outputs": [],
   "source": [
    "a, b = overlaps_box_example()\n",
    "ax = plot_ab(a.contour, b.contour)\n",
    "relation_binary = relate(a,b)\n",
    "relation = identify_relation(relation_binary)\n",
    "print(volume_ratio(a, b, relation, PRECISION))\n"
   ]
  },
  {
   "cell_type": "code",
   "execution_count": null,
   "metadata": {},
   "outputs": [],
   "source": [
    "a, b = overlaps_simple_example()\n",
    "ax = plot_ab(a.contour, b.contour)\n",
    "relation_binary = relate(a,b)\n",
    "relation = identify_relation(relation_binary)\n",
    "print(volume_ratio(a, b, relation, PRECISION))\n"
   ]
  },
  {
   "cell_type": "code",
   "execution_count": null,
   "metadata": {},
   "outputs": [],
   "source": [
    "a, b = overlaps_ring_example()\n",
    "ax = plot_ab(a.contour, b.contour)\n",
    "relation_binary = relate(a,b)\n",
    "relation = identify_relation(relation_binary)\n",
    "print(volume_ratio(a, b, relation, PRECISION))"
   ]
  },
  {
   "cell_type": "code",
   "execution_count": null,
   "metadata": {},
   "outputs": [],
   "source": [
    "a, b = overlaps_surrounded_example()\n",
    "ax = plot_ab(a.contour, b.contour)\n",
    "relation_binary = relate(a,b)\n",
    "relation = identify_relation(relation_binary)\n",
    "print(volume_ratio(a, b, relation, PRECISION))"
   ]
  },
  {
   "cell_type": "code",
   "execution_count": null,
   "metadata": {},
   "outputs": [],
   "source": [
    "a, b = overlaps_surrounded_box_example()\n",
    "ax = plot_ab(a.contour, b.contour)\n",
    "relation_binary = relate(a,b)\n",
    "relation = identify_relation(relation_binary)\n",
    "print(volume_ratio(a, b, relation, PRECISION))"
   ]
  },
  {
   "cell_type": "code",
   "execution_count": null,
   "metadata": {},
   "outputs": [],
   "source": [
    "a, b = overlaps_ring_surrounded_example()\n",
    "ax = plot_ab(a.contour, b.contour)\n",
    "relation_binary = relate(a,b)\n",
    "relation = identify_relation(relation_binary)\n",
    "print(volume_ratio(a, b, relation, 2))"
   ]
  },
  {
   "cell_type": "code",
   "execution_count": null,
   "metadata": {},
   "outputs": [],
   "source": [
    "a, b = overlaps_archipelago_simple_example1()\n",
    "ax = plot_ab(a.contour, b.contour)\n",
    "relation_binary = relate(a,b)\n",
    "relation = identify_relation(relation_binary)\n",
    "print(volume_ratio(a, b, relation, PRECISION))"
   ]
  },
  {
   "cell_type": "code",
   "execution_count": null,
   "metadata": {},
   "outputs": [],
   "source": [
    "a, b = overlaps_archipelago_simple_example2()\n",
    "ax = plot_ab(a.contour, b.contour)\n",
    "relation_binary = relate(a,b)\n",
    "relation = identify_relation(relation_binary)\n",
    "print(volume_ratio(a, b, relation, PRECISION))"
   ]
  },
  {
   "cell_type": "markdown",
   "metadata": {},
   "source": [
    "# Calculation Error\n",
    "- Expected Ratio = 0.6\n",
    "- Got: 0.14\n",
    "\n",
    "*Probably did not include inner island or hole*"
   ]
  },
  {
   "cell_type": "markdown",
   "metadata": {},
   "source": [
    "<link rel=\"stylesheet\" href=\"relations.css\">\n",
    "<table width=\"400px\">\n",
    "<tr class=\"l\"><th>Partition</th><th></th></tr>\n",
    "<td class=\"d\" colspan=\"2\">\n",
    "The boundaries of <span class=\"a\">a</span> and <span class=\"b\">b</span> have more than one point in common.\n",
    "No points of <span class=\"b\">b</span> are exterior to <span class=\"a\">a</span>, and some points in <span class=\"a\">a</span> are exterior to <span class=\"b\">b</span>.\n",
    "</td></tr>\n",
    "<tr><td colspan=\"2\">\n",
    "<img src=\"Images/Relationships/partitions simple.png\" alt=\"Partition\">\n",
    "<img src=\"Images/Relationships/partitions archipelago with island.png\" alt=\"Partition With Island\">\n",
    "<img src=\"Images/Relationships/partitions partial ring.png\" alt=\"Partition Ring\">\n",
    "</td></tr></table>"
   ]
  },
  {
   "cell_type": "code",
   "execution_count": null,
   "metadata": {},
   "outputs": [],
   "source": [
    "def partition_simple_example():\n",
    "    box4 = shapely.Polygon(box_points(4))\n",
    "    box4_cropped = shapely.Polygon(box_points(2, 4, offset_x=-1))\n",
    "\n",
    "    larger_area = 4**2\n",
    "    overlapping_area = 4**2 / 2\n",
    "    ratio = overlapping_area / larger_area\n",
    "    print(f'Expected Ratio: {ratio:3.2f}')\n",
    "\n",
    "    a = StructureSlice([box4])\n",
    "    b = StructureSlice([box4_cropped])\n",
    "    return a, b\n",
    "\n",
    "def partition_example1():\n",
    "    box6 = poly_round(shapely.Polygon(box_points(6)))\n",
    "    box4_offset = shapely.Polygon(box_points(4, offset_x=-1))\n",
    "\n",
    "    larger_area = 6**2\n",
    "    overlapping_area = 4**2\n",
    "    ratio = overlapping_area / larger_area\n",
    "    print(f'Expected Ratio: {ratio:3.2f}')\n",
    "\n",
    "    a = StructureSlice([box6])\n",
    "    b = StructureSlice([box4_offset])\n",
    "    return a, b\n",
    "\n",
    "def partition_example2():\n",
    "    # Rounding required because of floating point inaccuracies.\n",
    "    circle6 = poly_round(shapely.Polygon(circle_points(3)))\n",
    "    circle4_offset = shapely.Polygon(circle_points(2, offset_x=2))\n",
    "    cropped_circle = poly_round(shapely.intersection(circle6, circle4_offset))\n",
    "    # Larger Area = pi*3^2 = 28.3\n",
    "    # Overlap Area ~ pi*2^2*.6 = 16\n",
    "    # Ratio ~ 16 / 28.3 = 0.3\n",
    "    larger_area = pi * 3**2\n",
    "    overlapping_area = pi * 2**2 * 0.75  # Approximately 3/4 of smaller circle\n",
    "    ratio = overlapping_area / larger_area\n",
    "    print(f'Estimated Ratio: {ratio:3.2f}')\n",
    "\n",
    "    a = StructureSlice([circle6])\n",
    "    b = StructureSlice([cropped_circle])\n",
    "    return a, b\n",
    "\n",
    "def partition_example3():\n",
    "    # Partition is island part of archipelago\n",
    "    circle6 = shapely.Polygon(circle_points(3))\n",
    "    circle4 = shapely.Polygon(circle_points(2))\n",
    "    circle2 = shapely.Polygon(circle_points(1))\n",
    "\n",
    "    larger_area = pi * (3**2 - 2**2 + 1**2)\n",
    "    overlapping_area = pi * 1**2\n",
    "    ratio = overlapping_area / larger_area\n",
    "    print(f'Expected Ratio: {ratio:3.2f}')\n",
    "\n",
    "    a = StructureSlice([circle6, circle4, circle2])\n",
    "    b = StructureSlice([circle2])\n",
    "    return a, b\n",
    "\n",
    "def partition_example4():\n",
    "    # Partition is half of ring\n",
    "    circle6 = shapely.Polygon(circle_points(3))\n",
    "    circle4 = shapely.Polygon(circle_points(2))\n",
    "    box6_offset = shapely.Polygon(box_points(6, offset_x=3))\n",
    "    ring = shapely.difference(circle6, circle4)\n",
    "    cropped_ring = poly_round(shapely.difference(ring, box6_offset),PRECISION)\n",
    "\n",
    "    larger_area = pi * (3**2 - 2**2)\n",
    "    overlapping_area = pi * (3**2 - 2**2) / 2\n",
    "    ratio = overlapping_area / larger_area\n",
    "    print(f'Expected Ratio: {ratio:3.2f}')\n",
    "\n",
    "    a = StructureSlice([circle6, circle4])\n",
    "    b = StructureSlice([cropped_ring])\n",
    "    return a, b"
   ]
  },
  {
   "cell_type": "code",
   "execution_count": null,
   "metadata": {},
   "outputs": [],
   "source": [
    "a, b = partition_simple_example()\n",
    "ax = plot_ab(a.contour, b.contour)\n",
    "\n",
    "relation_binary = relate(a,b)\n",
    "relation = identify_relation(relation_binary)\n",
    "\n",
    "print(volume_ratio(a, b, relation, PRECISION))"
   ]
  },
  {
   "cell_type": "code",
   "execution_count": null,
   "metadata": {},
   "outputs": [],
   "source": [
    "a, b = partition_example1()\n",
    "ax = plot_ab(a.contour, b.contour)\n",
    "relation_binary = relate(a,b)\n",
    "relation = identify_relation(relation_binary)\n",
    "print(volume_ratio(a, b, relation, PRECISION))"
   ]
  },
  {
   "cell_type": "code",
   "execution_count": null,
   "metadata": {},
   "outputs": [],
   "source": [
    "a, b = partition_example2()\n",
    "ax = plot_ab(a.contour, b.contour)\n",
    "relation_binary = relate(a,b)\n",
    "relation = identify_relation(relation_binary)\n",
    "print(volume_ratio(a, b, relation, PRECISION))"
   ]
  },
  {
   "cell_type": "code",
   "execution_count": null,
   "metadata": {},
   "outputs": [],
   "source": [
    "a, b = partition_example3()\n",
    "ax = plot_ab(a.contour, b.contour)\n",
    "relation_binary = relate(a,b)\n",
    "relation = identify_relation(relation_binary)\n",
    "print(volume_ratio(a, b, relation, PRECISION))"
   ]
  },
  {
   "cell_type": "code",
   "execution_count": null,
   "metadata": {},
   "outputs": [],
   "source": [
    "a, b = partition_example4()\n",
    "ax = plot_ab(a.contour, b.contour)\n",
    "relation_binary = relate(a,b)\n",
    "relation = identify_relation(relation_binary)\n",
    "print(volume_ratio(a, b, relation, PRECISION))"
   ]
  },
  {
   "cell_type": "markdown",
   "metadata": {},
   "source": [
    "## Ratio of Surface Area\n",
    "\n",
    "Ratio of the touching surface area of the two structures, to the surface area of the average or larger structure.\n",
    "$R_A =\\frac{A( a \\cap b )}{\\overline{A_{a,b}}}$,<br>\n",
    "where $A$ is the Surface Area. \n",
    "\n",
    "Since the structures are compared slice by slice, the Surface Area function can be written as:<br>\n",
    "$A(x) = t \\times \\ell_s( x )$,<br>\n",
    "where $t$ is the slice thickness and $\\ell_s$ is the relevant perimeter length on a given slice. \n",
    "\n",
    "When calculating the ratio, slice thickness is a constant, so the surface area ratio is equal to the ratio sums of the relevant perimeter lengths over all slices:\n",
    "  \n",
    "$R_A =\\frac{\\sum_{S} \\ell_s( a \\cap b )}{\\sum_{S} \\overline{\\ell_s}}$\n",
    "\n",
    "*Used By:*\n",
    "\n",
    "- Exterior Borders\n",
    "> - Ratio of the length of the touching exterior perimeters to the average length of the exterior perimeters of $a$ and $b$.\n",
    "> - $R_A = \\frac{ 2 \\sum_{S} \\ell_s⁡(a_p \\cap b_p) }{ \\sum_{S} \\left[ \\ell_s(a_{px}) + \\ell_s(b_{px}) \\right] }$\n",
    "\n",
    "- Interior Borders\n",
    "> - Ratio of the length of touching perimeters to the length of the perimeter of the hole in $a$ containing $b$.\n",
    "> - $R_l = \\frac{ \\sum_{S} \\ell_s⁡(a_p \\cap b_p)}{ \\sum_{S} \\left[ \\ell_s(a_{ph}) + \\ell_s(b_{px}) \\right] }$\n",
    "\n",
    "Where:\n",
    "- $a_p$ is the perimeter of polygon $a$\n",
    "- $b_p$ is the perimeter of polygon $b$\n",
    "- $a_{px}$ is the exterior perimeter of polygon $a$\n",
    "- $b_{px}$ is the exterior perimeter of polygon $b$\n",
    "- $a_{ph}$ is the perimeter of the relevant hole within polygon $a$\n",
    "- $\\ell_s⁡(p_i)$ is the length of perimeter $i$ on slice $s$\n"
   ]
  },
  {
   "cell_type": "markdown",
   "metadata": {},
   "source": [
    "<link rel=\"stylesheet\" href=\"relations.css\">\n",
    "<table width=\"400px\">\n",
    "<tr class=\"l\"><th>Borders</th><th>Symmetric</th></tr>\n",
    "<td class=\"d\" colspan=\"2\">The exterior boundaries of \n",
    "<span class=\"a\">a</span> and <span class=\"b\">b</span> \n",
    "have more than one point in common, but their interiors do not intersect.\n",
    "</td></tr>\n",
    "<tr><td colspan=\"2\">\n",
    "<img src=\"Images/Relationships/borders.png\" alt=\"Borders\">\n",
    "<img src=\"Images/Relationships/Concave Borders.png\" alt=\"Concave Borders\">\n",
    "</tr></table>"
   ]
  },
  {
   "cell_type": "code",
   "execution_count": null,
   "metadata": {},
   "outputs": [],
   "source": [
    "def borders_example1():\n",
    "    box4_left = shapely.Polygon(box_points(4, offset_x=-2))\n",
    "    box4_right = shapely.Polygon(box_points(4, offset_x=2))\n",
    "\n",
    "    a = StructureSlice([box4_left])\n",
    "    b = StructureSlice([box4_right])\n",
    "    average_perimeter = 4 * 4\n",
    "    overlapping_perimeter = 4\n",
    "    ratio = overlapping_perimeter / average_perimeter\n",
    "    print(f'Expected Ratio: {ratio:3.2f}')\n",
    "    return a, b\n",
    "\n",
    "def borders_example2():\n",
    "    box6 = shapely.Polygon(box_points(6))\n",
    "    box5_up = shapely.Polygon(box_points(5, offset_y=3))\n",
    "    box6_cropped = shapely.difference(box6, box5_up)\n",
    "\n",
    "    box6_cropped_perimeter = 6 * 4 + (5/2) * 2\n",
    "    box5_up_perimeter = 5 * 4\n",
    "    average_perimeter = (box6_cropped_perimeter + box5_up_perimeter) / 2.0\n",
    "    overlapping_perimeter = 5 + (5/2) * 2\n",
    "    ratio = overlapping_perimeter / average_perimeter\n",
    "    print(f'Expected Ratio: {ratio:3.2f}')\n",
    "    a = StructureSlice([box6_cropped])\n",
    "    b = StructureSlice([box5_up])\n",
    "    return a, b"
   ]
  },
  {
   "cell_type": "code",
   "execution_count": null,
   "metadata": {},
   "outputs": [],
   "source": [
    "a, b = borders_example1()\n",
    "ax = plot_ab(a.contour, b.contour)\n",
    "relation_binary = relate(a,b)\n",
    "relation = identify_relation(relation_binary)\n",
    "print(length_ratio(a, b, relation, PRECISION))"
   ]
  },
  {
   "cell_type": "code",
   "execution_count": null,
   "metadata": {},
   "outputs": [],
   "source": [
    "a, b = borders_example2()\n",
    "ax = plot_ab(a.contour, b.contour)\n",
    "relation_binary = relate(a,b)\n",
    "relation = identify_relation(relation_binary)\n",
    "print(length_ratio(a, b, relation, PRECISION))"
   ]
  },
  {
   "cell_type": "markdown",
   "metadata": {},
   "source": [
    "<link rel=\"stylesheet\" href=\"relations.css\">\n",
    "<table width=\"300px\">\n",
    "<tr class=\"l\"><th>Borders_Interior</th><th>Symmetric</th></tr>\n",
    "<td class=\"d\" colspan=\"2\">The interior boundary of <span class=\"a\">a</span> \n",
    "and the exterior boundary of <span class=\"b\">b</span> \n",
    "have more than one point in common, but their interiors do not intersect.\n",
    "<tr><td colspan=\"2\">\n",
    "<img src=\"Images/Relationships/confines.png\" alt=\"Borders Interior\">\n",
    "<img src=\"Images/Relationships/confines with island.png\" alt=\"Borders Interior With Island\">\n",
    "</td></tr></table>"
   ]
  },
  {
   "cell_type": "code",
   "execution_count": null,
   "metadata": {},
   "outputs": [],
   "source": [
    "def interior_borders_example1():\n",
    "    circle6 = shapely.Polygon(circle_points(3))\n",
    "    circle4 = shapely.Polygon(circle_points(2))\n",
    "    box4_offset = shapely.Polygon(box_points(4, offset_x=2))\n",
    "    cropped_circle = shapely.difference(circle4, box4_offset)\n",
    "\n",
    "    hole_perimeter = 4 * pi\n",
    "    overlapping_perimeter = 4 * pi / 2\n",
    "    ratio = overlapping_perimeter / hole_perimeter\n",
    "    print(f'Expected Ratio: {ratio:3.2f}')\n",
    "\n",
    "    a = StructureSlice([circle6, circle4])\n",
    "    b = StructureSlice([cropped_circle])\n",
    "    return a, b\n",
    "\n",
    "def interior_borders_example2():\n",
    "    circle6 = shapely.Polygon(circle_points(3))\n",
    "    circle4 = shapely.Polygon(circle_points(2))\n",
    "    circle2 = shapely.Polygon(circle_points(1))\n",
    "\n",
    "    # b has internal borders with the ring portion of a, but has an external\n",
    "    # border with the island part of a. The internal borders relation wins,\n",
    "    # but the island perimeter is not considered in the ratio.\n",
    "    hole_perimeter = 4 * pi\n",
    "    overlapping_perimeter = 4 * pi\n",
    "    ratio = overlapping_perimeter / hole_perimeter\n",
    "    print(f'Expected Ratio: {ratio:3.2f}')\n",
    "\n",
    "    a = StructureSlice([circle6, circle4, circle2])\n",
    "    b = StructureSlice([circle4, circle2])\n",
    "    return a, b\n",
    "\n",
    "def interior_borders_example3():\n",
    "    # 6 cm x 6 cm box with 4cm x 4 cm hole\n",
    "    box6 = shapely.Polygon(box_points(6))\n",
    "    box4 = shapely.Polygon(box_points(4))\n",
    "    box2_offset = shapely.Polygon(box_points(2, offset_x=-1, offset_y=-1))\n",
    "\n",
    "    hole_perimeter = 4 * 4\n",
    "    overlapping_perimeter = 2 * 2\n",
    "    ratio = overlapping_perimeter / hole_perimeter\n",
    "    print(f'Expected Ratio: {ratio:3.2f}')\n",
    "\n",
    "    a = StructureSlice([box6, box4])\n",
    "    b = StructureSlice([box2_offset])\n",
    "    return a, b"
   ]
  },
  {
   "cell_type": "code",
   "execution_count": null,
   "metadata": {},
   "outputs": [],
   "source": [
    "a, b = interior_borders_example1()\n",
    "ax = plot_ab(a.contour, b.contour)\n",
    "relation_binary = relate(a,b)\n",
    "relation = identify_relation(relation_binary)\n",
    "print(length_ratio(a, b, relation, PRECISION))"
   ]
  },
  {
   "cell_type": "code",
   "execution_count": null,
   "metadata": {},
   "outputs": [],
   "source": [
    "a, b = interior_borders_example2()\n",
    "ax = plot_ab(a.contour, b.contour)\n",
    "relation_binary = relate(a,b)\n",
    "relation = identify_relation(relation_binary)\n",
    "print(length_ratio(a, b, relation, PRECISION))"
   ]
  },
  {
   "cell_type": "code",
   "execution_count": null,
   "metadata": {},
   "outputs": [],
   "source": [
    "a, b = interior_borders_example3()\n",
    "ax = plot_ab(a.contour, b.contour)\n",
    "relation_binary = relate(a,b)\n",
    "relation = identify_relation(relation_binary)\n",
    "print(length_ratio(a, b, relation, PRECISION))"
   ]
  }
 ],
 "metadata": {
  "kernelspec": {
   "display_name": "StructureRelations",
   "language": "python",
   "name": "python3"
  },
  "language_info": {
   "codemirror_mode": {
    "name": "ipython",
    "version": 3
   },
   "file_extension": ".py",
   "mimetype": "text/x-python",
   "name": "python",
   "nbconvert_exporter": "python",
   "pygments_lexer": "ipython3",
   "version": "3.11.9"
  }
 },
 "nbformat": 4,
 "nbformat_minor": 2
}
