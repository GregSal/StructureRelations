{
 "cells": [
  {
   "cell_type": "markdown",
   "metadata": {},
   "source": [
    "# Shapley Tests"
   ]
  },
  {
   "cell_type": "markdown",
   "metadata": {},
   "source": [
    "## Setup"
   ]
  },
  {
   "cell_type": "markdown",
   "metadata": {},
   "source": [
    "### Imports"
   ]
  },
  {
   "cell_type": "code",
   "execution_count": 1,
   "metadata": {},
   "outputs": [],
   "source": [
    "# Type imports\n",
    "from typing import Any, Dict, Tuple, List\n",
    "\n",
    "# Standard Libraries\n",
    "from enum import Enum, auto\n",
    "from pathlib import Path\n",
    "from operator import lt, gt\n",
    "from math import sqrt, pi, sin, cos, tan, radians, acos\n",
    "from math import isnan\n",
    "from statistics import mean\n",
    "from collections import Counter, defaultdict\n",
    "from dataclasses import dataclass, field, asdict\n",
    "from itertools import zip_longest\n",
    "\n",
    "from pprint import pprint\n",
    "\n",
    "# Shared Packages\n",
    "import numpy as np\n",
    "import pandas as pd\n",
    "import xlwings as xw\n",
    "import matplotlib.pyplot as plt\n",
    "#import PySimpleGUI as sg\n",
    "import networkx as nx\n",
    "import pydicom\n",
    "import shapely\n",
    "from shapely.plotting import plot_polygon, plot_points\n",
    "\n",
    "# Local functions and classes\n",
    "from utilities import *\n",
    "from types_and_classes import *\n"
   ]
  },
  {
   "cell_type": "markdown",
   "metadata": {},
   "source": [
    "### Global Settings"
   ]
  },
  {
   "cell_type": "code",
   "execution_count": 2,
   "metadata": {},
   "outputs": [],
   "source": [
    "PRECISION = 2\n"
   ]
  },
  {
   "cell_type": "code",
   "execution_count": 3,
   "metadata": {},
   "outputs": [],
   "source": [
    "%matplotlib inline"
   ]
  },
  {
   "cell_type": "code",
   "execution_count": 4,
   "metadata": {},
   "outputs": [],
   "source": [
    "def make_slice_table(slice_data: pd.DataFrame, ignore_errors=False)->pd.DataFrame:\n",
    "    def merge_contours(slice_contours: pd.DataFrame, ignore_errors=False):\n",
    "        ranked_contours = slice_contours.sort_values('Area', ascending=False)\n",
    "        try:\n",
    "            structure_slice = StructureSlice(list(ranked_contours.Contour),\n",
    "                                             ignore_errors=ignore_errors)\n",
    "        except InvalidContour as err:\n",
    "            msg = err.__str__()\n",
    "            roi_num = ranked_contours.index[0][0]\n",
    "            slice_idx = ranked_contours.index[0][1]\n",
    "            print(f'{msg}\\t for ROI: {roi_num} on slice: {slice_idx}')\n",
    "            structure_slice = None\n",
    "        return structure_slice\n",
    "\n",
    "    slice_data.sort_index(level=['Slice Index', 'ROI Num'], inplace=True)\n",
    "    slice_data['Area'] = slice_data.map(lambda x: x.area)\n",
    "    structure_group = slice_data.groupby(level=['Slice Index', 'ROI Num'])\n",
    "    structure_data = structure_group.apply(merge_contours,\n",
    "                                           ignore_errors=ignore_errors)\n",
    "    slice_table = structure_data.unstack('ROI Num')\n",
    "    return slice_table\n"
   ]
  },
  {
   "cell_type": "markdown",
   "metadata": {},
   "source": [
    "### Find distance between slices with contours\n"
   ]
  },
  {
   "cell_type": "code",
   "execution_count": 5,
   "metadata": {},
   "outputs": [],
   "source": [
    "def build_slice_spacing_table(slice_table)->pd.DataFrame:\n",
    "    # Find distance between slices with contours\n",
    "    def slice_spacing(contour):\n",
    "        inf = contour.dropna().index.min()\n",
    "        sup = contour.dropna().index.max()\n",
    "        contour_range = (contour.index <= sup) & (contour.index >= inf)\n",
    "        slices = contour.loc[contour_range].dropna().index.to_series()\n",
    "        gaps = slices.shift(-1) - slices\n",
    "        return gaps\n",
    "\n",
    "    def get_slices(structure: pd.Series):\n",
    "        used_slices = structure.dropna().index.to_series()\n",
    "        return used_slices\n",
    "\n",
    "    contour_slices = slice_table.apply(get_slices)\n",
    "    slice_spacing = contour_slices.apply(slice_spacing)\n",
    "    return slice_spacing"
   ]
  },
  {
   "cell_type": "code",
   "execution_count": 6,
   "metadata": {},
   "outputs": [],
   "source": [
    "def neighbouring_slice(slice_index, missing_slices, shift_direction=1,\n",
    "                       shift_start=0):\n",
    "    ref = slice_index[missing_slices]\n",
    "    ref_missing = list(missing_slices)\n",
    "    shift_size = shift_start\n",
    "    while ref_missing:\n",
    "        shift_size += shift_direction\n",
    "        shift_slice = slice_index.shift(shift_size)[missing_slices]\n",
    "        ref_idx = ref.isin(ref_missing)\n",
    "        ref[ref_idx] = shift_slice[ref_idx]\n",
    "        ref_missing = list(set(ref) & set(missing_slices))\n",
    "        ref_missing.sort()\n",
    "    return ref\n",
    "\n",
    "def find_neighbouring_slice(structure_slices):\n",
    "    slice_index = structure_slices.index.to_series()\n",
    "    missing_slices = slice_index[structure_slices.isna()]\n",
    "    z_neg = neighbouring_slice(slice_index, missing_slices, shift_direction=-1)\n",
    "    z_pos = neighbouring_slice(slice_index, missing_slices, shift_direction=1)\n",
    "    ref = pd.concat([z_pos, z_neg], axis='columns')\n",
    "    ref.columns = ['z_pos', 'z_neg']\n",
    "    return ref\n"
   ]
  },
  {
   "cell_type": "markdown",
   "metadata": {},
   "source": [
    "# Test structures\n",
    "- **CONTAINS**\n",
    "  - Concentric spheres\n",
    "  - Concentric embedded Rings\n",
    "  - Concentric spheres with centres offset\n",
    "  - Parallel Cylinders for 1st structure containing cylinder in 1 of them\n",
    "- **SHELTERS**\n",
    "  - Half box sheltering box\n",
    "  - Vertical open box sheltering box\n",
    "- **SURROUNDS**\n",
    "  - Concentric hollow spheres\n",
    "  - Concentric Rings\n",
    "  - Offset hollow boxes\n",
    "- **OVERLAPS**\n",
    "  - Overlapping Boxes Lateral\n",
    "  - Overlapping Boxes Vertical\n",
    "- "
   ]
  },
  {
   "cell_type": "markdown",
   "metadata": {},
   "source": [
    "## Margins\n",
    "- $Margin_\\perp = bounds(a) − bounds(b)$\n",
    "\n",
    "- $Margin_{min} = distance(a,b)$\n",
    "\n",
    "- $Margin_{max} = distance_{housdorff}(a,b)$\n",
    "\n",
    "**Z direction metrics**\n",
    "- Orthogonal:\n",
    "  - The distance between the last slice containing $a$ and the last slice \n",
    "      of $b$ where the last contour of $a$ overlaps with the contour of $b$\n",
    "- Max:\n",
    "  - The larger of $\\Delta Z$ or $d_{2D}$\n",
    "- Min:\n",
    "  - The Smaller of $d_{2D}$ and $\\sqrt{d_{a_eb_{e \\pm 1}}^2 + \\Delta Z^2}$,<br>\n",
    "      Where $d_{a_eb_{e \\pm 1}}$ is the minimum 2D distance between \n",
    "      contour $a$ on each end slice $e$ and contour $b$ on the next slice \n",
    "      (which does not contain $a$).\n",
    "  - Only needs to be calculated when $\\Delta Z < d_{2D}$\n",
    "\n",
    "**Used By:**\n",
    "- Contains\n",
    "- Surrounds\n",
    "- Shelters (Does not use $Margin_{max}$)\n"
   ]
  },
  {
   "cell_type": "code",
   "execution_count": 16,
   "metadata": {},
   "outputs": [],
   "source": [
    "def get_z_margin(slice_structures, structures):\n",
    "    def centred_in(poly: StructureSlice, point: shapely.Point)->bool:\n",
    "        return poly.contour.contains(point)\n",
    "\n",
    "    roi_a, roi_b = structures\n",
    "    # Select only the slices containing the second structure.\n",
    "    contour_b_slices = slice_structures[roi_b].dropna()\n",
    "    # Get the centre point of the end contour of the second structure.\n",
    "    centre_point = contour_b_slices.iloc[0].contour.centroid\n",
    "    # Identify the edge slice of the second structure.\n",
    "    end_slice = contour_b_slices.index[0]\n",
    "    # For the first structure replace the nan values with empty polygons.\n",
    "    contour_a_slices = slice_structures[roi_a].fillna(StructureSlice([]))\n",
    "    # Identify the slices beyond the edge of the second structure.\n",
    "    ext = contour_a_slices.index < end_slice\n",
    "    # Identify the slices where the first structure contours contain the centre\n",
    "    # point of the end contour of the second structure.\n",
    "    aligned = contour_a_slices.apply(centred_in, point=centre_point)\n",
    "    # Identify the slices where there is a transition from aligned to not aligned.\n",
    "    edge_points = aligned & ~aligned.shift(1, fill_value=False)\n",
    "    if any(ext & edge_points):\n",
    "        # Select the transition point closest to the edge of the second structure.\n",
    "        first_struct_lim = aligned[ext][edge_points].index[-1]\n",
    "        # The margin in the desired direction is the difference between the edge of\n",
    "        # the second structure and the corresponding edge of the first structure/\n",
    "        margin = abs(end_slice - first_struct_lim)\n",
    "    else:\n",
    "        margin = 0\n",
    "    return margin"
   ]
  },
  {
   "cell_type": "code",
   "execution_count": 8,
   "metadata": {},
   "outputs": [],
   "source": [
    "def structure_metrics(slice_structures: pd.Series,\n",
    "                      relation: RelationshipType):\n",
    "    margin_table = margins(slice_structures.iloc[0],\n",
    "                           slice_structures.iloc[1],\n",
    "                           relation)\n",
    "    return margin_table"
   ]
  },
  {
   "cell_type": "code",
   "execution_count": 24,
   "metadata": {},
   "outputs": [],
   "source": [
    "def get_metrics(structures, slice_table):\n",
    "    relation = Relationship(structures, slice_table).relationship_type\n",
    "    slice_structures = slice_table.loc[:, [structures[0], structures[1]]]\n",
    "    # Remove Slices that have neither structure.\n",
    "    slice_structures.dropna(how='all', inplace=True)\n",
    "    # For slices that have only one of the two structures, replace the nan\n",
    "    # values with empty polygons for duck typing.\n",
    "    slice_structures.fillna(StructureSlice([]), inplace=True)\n",
    "    # Get the relationships between the two structures for all slices.\n",
    "    metric_seq = slice_structures.apply(structure_metrics, axis='columns',\n",
    "                                        result_type='expand', relation=relation)\n",
    "    return agg_margins(metric_seq)"
   ]
  },
  {
   "cell_type": "markdown",
   "metadata": {},
   "source": [
    "### Make test structures\n",
    "- Need to calculate Z direction metrics\n",
    "  - % Volume and % Surface Area:\n",
    "    - No additional calculations.\n",
    "  - Distance: \n",
    "    - The larger of $\\Delta Z$ or $d_{2D}$\n"
   ]
  },
  {
   "cell_type": "markdown",
   "metadata": {},
   "source": [
    " #### Vertical Concentric Cylinders\n",
    " \n",
    " ![Concentric Cylinders](./Images/FreeCAD%20Images/ConcentricCylinders.png)"
   ]
  },
  {
   "cell_type": "code",
   "execution_count": 10,
   "metadata": {},
   "outputs": [],
   "source": [
    "slice_spacing = 0.5\n",
    "# Body structure defines slices in use\n",
    "body = make_vertical_cylinder(roi_num=0, radius=20, length=30, offset_z=-15,\n",
    "                              spacing=slice_spacing)\n",
    "\n",
    "cylinder6 = make_vertical_cylinder(roi_num=1, radius=6, length=10,\n",
    "                                   spacing=slice_spacing)\n",
    "cylinder4 = make_vertical_cylinder(roi_num=2, radius=4, length=10,\n",
    "                                   spacing=slice_spacing)\n",
    "# combine the contours\n",
    "slice_data = pd.concat([body, cylinder6, cylinder4])\n",
    "\n",
    "# convert contour slice data into a table of slices and structures\n",
    "slice_table = make_slice_table(slice_data, ignore_errors=True)\n"
   ]
  },
  {
   "cell_type": "code",
   "execution_count": 11,
   "metadata": {},
   "outputs": [
    {
     "name": "stdout",
     "output_type": "stream",
     "text": [
      "Relationship: Contains\n",
      "Expected Margins: 2 cm in all directions.\n"
     ]
    },
    {
     "data": {
      "text/plain": [
       "x_neg    2.000\n",
       "y_neg    2.000\n",
       "x_pos    2.000\n",
       "y_pos    2.000\n",
       "max      2.001\n",
       "min      1.961\n",
       "dtype: float64"
      ]
     },
     "execution_count": 11,
     "metadata": {},
     "output_type": "execute_result"
    }
   ],
   "source": [
    "structures = tuple([1, 2])\n",
    "relation = Relationship(structures, slice_table).relationship_type\n",
    "print(relation)\n",
    "print('Expected Margins: 2 cm in all directions.')\n",
    "get_metrics(structures, slice_table)\n"
   ]
  },
  {
   "cell_type": "code",
   "execution_count": 17,
   "metadata": {},
   "outputs": [
    {
     "name": "stdout",
     "output_type": "stream",
     "text": [
      "z_neg margin: 0\n",
      "z_pos margin: 0\n"
     ]
    }
   ],
   "source": [
    "roi_a, roi_b = structures\n",
    "slice_structures = slice_table.loc[:, [roi_a, roi_b]].copy()\n",
    "print('z_neg margin:', get_z_margin(slice_structures, structures))\n",
    "slice_structures_rev = slice_structures.copy()\n",
    "slice_structures_rev.index = slice_structures_rev.index * -1\n",
    "slice_structures_rev.sort_index(inplace=True)\n",
    "print('z_pos margin:', get_z_margin(slice_structures_rev, structures))"
   ]
  },
  {
   "cell_type": "markdown",
   "metadata": {},
   "source": [
    "#### Stacked Spheres\n",
    "\n",
    "![Stacked Spheres](./Images/FreeCAD%20Images/StackedSpheres.png)"
   ]
  },
  {
   "cell_type": "code",
   "execution_count": 51,
   "metadata": {},
   "outputs": [],
   "source": [
    "slice_spacing = 0.5\n",
    "# Body structure defines slices in use\n",
    "body = make_vertical_cylinder(roi_num=0, radius=20, length=30, offset_z=-15,\n",
    "                              spacing=slice_spacing)\n",
    "\n",
    "# Three spheres stacked vertically\n",
    "sphere3_sup = make_sphere(roi_num=1, radius=3, offset_z=4,\n",
    "                          spacing=slice_spacing)\n",
    "sphere3_inf = make_sphere(roi_num=1, radius=3, offset_z=-4,\n",
    "                          spacing=slice_spacing)\n",
    "sphere3_inf2 = make_sphere(roi_num=1, radius=3, offset_z=-12,\n",
    "                           spacing=slice_spacing)\n",
    "\n",
    "# Single 2 cm sphere within centre sphere of other structure\n",
    "sphere2_inf = make_sphere(roi_num=2, radius=2, offset_z=-4,\n",
    "                          spacing=slice_spacing)\n",
    "\n",
    "# combine the contours\n",
    "slice_data = pd.concat([sphere3_sup, sphere3_inf, sphere3_inf2,\n",
    "                                sphere2_inf, body])\n",
    "\n",
    "# convert contour slice data into a table of slices and structures\n",
    "slice_table = make_slice_table(slice_data, ignore_errors=True)"
   ]
  },
  {
   "cell_type": "code",
   "execution_count": 52,
   "metadata": {},
   "outputs": [
    {
     "name": "stdout",
     "output_type": "stream",
     "text": [
      "Relationship: Contains\n",
      "z_neg margin: 1.0\n",
      "z_pos margin: 1.0\n"
     ]
    }
   ],
   "source": [
    "structures = tuple([1, 2])\n",
    "relation = Relationship(structures, slice_table).relationship_type\n",
    "print(relation)\n",
    "\n",
    "roi_a, roi_b = structures\n",
    "slice_structures = slice_table.loc[:, [roi_a, roi_b]].copy()\n",
    "print('z_neg margin:', get_z_margin(slice_structures, structures))\n",
    "slice_structures_rev = slice_structures.copy()\n",
    "slice_structures_rev.index = slice_structures_rev.index * -1\n",
    "slice_structures_rev.sort_index(inplace=True)\n",
    "print('z_pos margin:', get_z_margin(slice_structures_rev, structures))"
   ]
  },
  {
   "cell_type": "markdown",
   "metadata": {},
   "source": [
    "# Note: Max distance is 2.2.  Is this appropriate?"
   ]
  },
  {
   "cell_type": "code",
   "execution_count": 46,
   "metadata": {},
   "outputs": [
    {
     "name": "stderr",
     "output_type": "stream",
     "text": [
      "d:\\.conda\\envs\\StructureRelations\\Lib\\site-packages\\shapely\\measurement.py:224: RuntimeWarning: invalid value encountered in hausdorff_distance\n",
      "  return lib.hausdorff_distance(a, b, **kwargs)\n",
      "d:\\.conda\\envs\\StructureRelations\\Lib\\site-packages\\shapely\\measurement.py:74: RuntimeWarning: invalid value encountered in distance\n",
      "  return lib.distance(a, b, **kwargs)\n"
     ]
    },
    {
     "data": {
      "text/plain": [
       "x_neg    1.000\n",
       "y_neg    1.000\n",
       "x_pos    1.000\n",
       "y_pos    1.000\n",
       "max      2.235\n",
       "min      0.981\n",
       "dtype: float64"
      ]
     },
     "execution_count": 46,
     "metadata": {},
     "output_type": "execute_result"
    }
   ],
   "source": [
    "get_metrics(structures, slice_table)"
   ]
  },
  {
   "cell_type": "code",
   "execution_count": 58,
   "metadata": {},
   "outputs": [],
   "source": [
    "slice_spacing = 0.5\n",
    "# Body structure defines slices in use\n",
    "body = make_vertical_cylinder(roi_num=0, radius=20, length=30, offset_z=-15,\n",
    "                              spacing=slice_spacing)\n",
    "\n",
    "# Three spheres stacked vertically\n",
    "sphere3_sup = make_sphere(roi_num=1, radius=3, offset_z=4,\n",
    "                          spacing=slice_spacing)\n",
    "sphere3_inf = make_sphere(roi_num=1, radius=3, offset_z=-4,\n",
    "                          spacing=slice_spacing)\n",
    "sphere3_inf2 = make_sphere(roi_num=1, radius=3, offset_z=-12,\n",
    "                           spacing=slice_spacing)\n",
    "\n",
    "# Single 2 cm sphere within the centre sphere of other structure, but offset\n",
    "# vertically by 0.5 cm from the centre of that sphere\n",
    "sphere2_inf = make_sphere(roi_num=2, radius=2, offset_z=-3.5,\n",
    "                          spacing=slice_spacing)\n",
    "\n",
    "# combine the contours\n",
    "slice_data = pd.concat([sphere3_sup, sphere3_inf, sphere3_inf2,\n",
    "                                sphere2_inf, body])\n",
    "\n",
    "# convert contour slice data into a table of slices and structures\n",
    "slice_table = make_slice_table(slice_data, ignore_errors=True)"
   ]
  },
  {
   "cell_type": "code",
   "execution_count": 59,
   "metadata": {},
   "outputs": [
    {
     "name": "stdout",
     "output_type": "stream",
     "text": [
      "Relationship: Contains\n",
      "z_neg margin: 1.5\n",
      "z_pos margin: 0.5\n"
     ]
    }
   ],
   "source": [
    "structures = tuple([1, 2])\n",
    "relation = Relationship(structures, slice_table).relationship_type\n",
    "print(relation)\n",
    "\n",
    "roi_a, roi_b = structures\n",
    "slice_structures = slice_table.loc[:, [roi_a, roi_b]].copy()\n",
    "print('z_neg margin:', get_z_margin(slice_structures, structures))\n",
    "slice_structures_rev = slice_structures.copy()\n",
    "slice_structures_rev.index = slice_structures_rev.index * -1\n",
    "slice_structures_rev.sort_index(inplace=True)\n",
    "print('z_pos margin:', get_z_margin(slice_structures_rev, structures))"
   ]
  },
  {
   "cell_type": "markdown",
   "metadata": {},
   "source": [
    "# Error: Reporting **z_pos margin as 8.0**"
   ]
  },
  {
   "cell_type": "code",
   "execution_count": 78,
   "metadata": {},
   "outputs": [],
   "source": [
    "slice_spacing = 0.5\n",
    "# Body structure defines slices in use\n",
    "body = make_vertical_cylinder(roi_num=0, radius=20, length=30, offset_z=-15,\n",
    "                              spacing=slice_spacing)\n",
    "\n",
    "# Three spheres stacked vertically\n",
    "sphere3_sup = make_sphere(roi_num=1, radius=3, offset_z=4,\n",
    "                          spacing=slice_spacing)\n",
    "sphere3_inf = make_sphere(roi_num=1, radius=3, offset_z=-4,\n",
    "                          spacing=slice_spacing)\n",
    "sphere3_inf2 = make_sphere(roi_num=1, radius=3, offset_z=-12,\n",
    "                           spacing=slice_spacing)\n",
    "\n",
    "# Single 2 cm sphere within the centre sphere of other structure, but offset\n",
    "# vertically by 0.5 cm from teh centre of that sphere\n",
    "sphere2_inf = make_sphere(roi_num=2, radius=2, offset_z=-3.5, offset_x=0.5,\n",
    "                          spacing=slice_spacing)\n",
    "\n",
    "# combine the contours\n",
    "slice_data = pd.concat([sphere3_sup, sphere3_inf, sphere3_inf2,\n",
    "                                sphere2_inf, body])\n",
    "\n",
    "# convert contour slice data into a table of slices and structures\n",
    "slice_table = make_slice_table(slice_data, ignore_errors=True)"
   ]
  },
  {
   "cell_type": "code",
   "execution_count": 67,
   "metadata": {},
   "outputs": [
    {
     "name": "stdout",
     "output_type": "stream",
     "text": [
      "Relationship: Contains\n",
      "z_neg margin: 1.0\n",
      "z_pos margin: 8.0\n"
     ]
    }
   ],
   "source": [
    "structures = tuple([1, 2])\n",
    "relation = Relationship(structures, slice_table).relationship_type\n",
    "print(relation)\n",
    "\n",
    "roi_a, roi_b = structures\n",
    "slice_structures = slice_table.loc[:, [roi_a, roi_b]].copy()\n",
    "print('z_neg margin:', get_z_margin(slice_structures, structures))\n",
    "slice_structures_rev = slice_structures.copy()\n",
    "slice_structures_rev.index = slice_structures_rev.index * -1\n",
    "slice_structures_rev.sort_index(inplace=True)\n",
    "print('z_pos margin:', get_z_margin(slice_structures_rev, structures))"
   ]
  },
  {
   "cell_type": "markdown",
   "metadata": {},
   "source": [
    "## When spacing changed to 0.2, relation reported as **Disjoint**"
   ]
  },
  {
   "cell_type": "code",
   "execution_count": 74,
   "metadata": {},
   "outputs": [],
   "source": [
    "slice_spacing = 0.2\n",
    "# Body structure defines slices in use\n",
    "body = make_vertical_cylinder(roi_num=0, radius=20, length=30, offset_z=-15,\n",
    "                              spacing=slice_spacing)\n",
    "\n",
    "# Three spheres stacked vertically\n",
    "sphere3_sup = make_sphere(roi_num=1, radius=3, offset_z=4,\n",
    "                          spacing=slice_spacing)\n",
    "sphere3_inf = make_sphere(roi_num=1, radius=3, offset_z=-4,\n",
    "                          spacing=slice_spacing)\n",
    "sphere3_inf2 = make_sphere(roi_num=1, radius=3, offset_z=-12,\n",
    "                           spacing=slice_spacing)\n",
    "\n",
    "# Single 2 cm sphere within the centre sphere of other structure, but offset\n",
    "# vertically by 0.5 cm from teh centre of that sphere\n",
    "sphere2_inf = make_sphere(roi_num=2, radius=2, offset_z=-3.5, offset_x=0.5,\n",
    "                          spacing=slice_spacing)\n",
    "\n",
    "# combine the contours\n",
    "slice_data = pd.concat([sphere3_sup, sphere3_inf, sphere3_inf2,\n",
    "                                sphere2_inf, body])\n",
    "\n",
    "# convert contour slice data into a table of slices and structures\n",
    "slice_table = make_slice_table(slice_data, ignore_errors=True)"
   ]
  },
  {
   "cell_type": "code",
   "execution_count": 80,
   "metadata": {},
   "outputs": [
    {
     "name": "stdout",
     "output_type": "stream",
     "text": [
      "Relationship: Disjoint\n",
      "z_neg margin: 1.2999999999999998\n",
      "z_pos margin: 0.30000000000000004\n"
     ]
    }
   ],
   "source": [
    "structures = tuple([1, 2])\n",
    "relation = Relationship(structures, slice_table).relationship_type\n",
    "print(relation)\n",
    "\n",
    "roi_a, roi_b = structures\n",
    "slice_structures = slice_table.loc[:, [roi_a, roi_b]].copy()\n",
    "print('z_neg margin:', get_z_margin(slice_structures, structures))\n",
    "slice_structures_rev = slice_structures.copy()\n",
    "slice_structures_rev.index = slice_structures_rev.index * -1\n",
    "slice_structures_rev.sort_index(inplace=True)\n",
    "print('z_pos margin:', get_z_margin(slice_structures_rev, structures))"
   ]
  },
  {
   "cell_type": "markdown",
   "metadata": {},
   "source": [
    "## When spacing changed to 0.1, relation reverts to **Contains**"
   ]
  },
  {
   "cell_type": "code",
   "execution_count": 76,
   "metadata": {},
   "outputs": [],
   "source": [
    "slice_spacing = 0.1\n",
    "# Body structure defines slices in use\n",
    "body = make_vertical_cylinder(roi_num=0, radius=20, length=30, offset_z=-15,\n",
    "                              spacing=slice_spacing)\n",
    "\n",
    "# Three spheres stacked vertically\n",
    "sphere3_sup = make_sphere(roi_num=1, radius=3, offset_z=4,\n",
    "                          spacing=slice_spacing)\n",
    "sphere3_inf = make_sphere(roi_num=1, radius=3, offset_z=-4,\n",
    "                          spacing=slice_spacing)\n",
    "sphere3_inf2 = make_sphere(roi_num=1, radius=3, offset_z=-12,\n",
    "                           spacing=slice_spacing)\n",
    "\n",
    "# Single 2 cm sphere within the centre sphere of other structure, but offset\n",
    "# vertically by 0.5 cm from teh centre of that sphere\n",
    "sphere2_inf = make_sphere(roi_num=2, radius=2, offset_z=-3.5, offset_x=0.5,\n",
    "                          spacing=slice_spacing)\n",
    "\n",
    "# combine the contours\n",
    "slice_data = pd.concat([sphere3_sup, sphere3_inf, sphere3_inf2,\n",
    "                                sphere2_inf, body])\n",
    "\n",
    "# convert contour slice data into a table of slices and structures\n",
    "slice_table = make_slice_table(slice_data, ignore_errors=True)"
   ]
  },
  {
   "cell_type": "code",
   "execution_count": 77,
   "metadata": {},
   "outputs": [
    {
     "name": "stdout",
     "output_type": "stream",
     "text": [
      "Relationship: Contains\n",
      "z_neg margin: 1.4000000000000004\n",
      "z_pos margin: 0.3999999999999999\n"
     ]
    }
   ],
   "source": [
    "structures = tuple([1, 2])\n",
    "relation = Relationship(structures, slice_table).relationship_type\n",
    "print(relation)\n",
    "\n",
    "roi_a, roi_b = structures\n",
    "slice_structures = slice_table.loc[:, [roi_a, roi_b]].copy()\n",
    "print('z_neg margin:', get_z_margin(slice_structures, structures))\n",
    "slice_structures_rev = slice_structures.copy()\n",
    "slice_structures_rev.index = slice_structures_rev.index * -1\n",
    "slice_structures_rev.sort_index(inplace=True)\n",
    "print('z_pos margin:', get_z_margin(slice_structures_rev, structures))"
   ]
  },
  {
   "cell_type": "markdown",
   "metadata": {},
   "source": [
    "# Done to Here"
   ]
  },
  {
   "cell_type": "code",
   "execution_count": null,
   "metadata": {},
   "outputs": [],
   "source": [
    "print('Expected Margins: 3 cm in all directions.')\n",
    "get_metrics(structures, slice_table)\n"
   ]
  },
  {
   "cell_type": "markdown",
   "metadata": {},
   "source": [
    "#### Horizontal Cylinders\n",
    "\n",
    "![Horizontal Cylinders](./Images/FreeCAD%20Images/HorizontalCylinders.png)"
   ]
  },
  {
   "cell_type": "code",
   "execution_count": null,
   "metadata": {},
   "outputs": [],
   "source": [
    "slice_spacing = 0.5\n",
    "# Body structure defines slices in use\n",
    "body = make_vertical_cylinder(roi_num=0, radius=20, length=30, offset_z=-15,\n",
    "                              spacing=slice_spacing)\n",
    "\n",
    "cylinder2h = make_horizontal_cylinder(radius=2, length=5, spacing=0.1,\n",
    "                                      roi_num=6)\n",
    "cylinder1h = make_horizontal_cylinder(radius=1, length=5, spacing=0.1,\n",
    "                                      roi_num=7)\n",
    "# combine the contours\n",
    "slice_data = pd.concat([body, cylinder1h, cylinder2h])\n",
    "\n",
    "# convert contour slice data into a table of slices and structures\n",
    "slice_table = make_slice_table(slice_data, ignore_errors=True)\n"
   ]
  },
  {
   "cell_type": "markdown",
   "metadata": {},
   "source": [
    "# Empty dictionary not being initialized\n",
    "\n",
    "```python\n",
    "    851         semi_hole = shapely.difference(hull, polygon_a)\n",
    "    852         margin_dict = calculate_margins(semi_hole, polygon_b, precision)\n",
    "--> 853     if margin_dict:\n",
    "    854         margin_list.append(margin_dict)\n",
    "    855 if margin_list:\n",
    "\n",
    "UnboundLocalError: cannot access local variable 'margin_dict' where it is not associated with a value\"\n",
    "```"
   ]
  },
  {
   "cell_type": "code",
   "execution_count": null,
   "metadata": {},
   "outputs": [],
   "source": [
    "structures = tuple([6, 7])\n",
    "relation = Relationship(structures, slice_table).relationship_type\n",
    "print(relation)\n",
    "print('Expected Margins: 2.0 cm in all directions.', )\n",
    "get_metrics(structures, slice_table)\n"
   ]
  },
  {
   "cell_type": "markdown",
   "metadata": {},
   "source": [
    "#### Embedded Spheres with Island\n",
    "\n",
    "![Embeded Spheres](./Images/FreeCAD%20Images/EmbeddedSpheres.png)"
   ]
  },
  {
   "cell_type": "code",
   "execution_count": null,
   "metadata": {},
   "outputs": [],
   "source": [
    "slice_spacing = 0.5\n",
    "# Body structure defines slices in use\n",
    "body = make_vertical_cylinder(roi_num=0, radius=20, length=30, offset_z=-15,\n",
    "                              spacing=slice_spacing)\n",
    "\n",
    "# Hollow Sphere with island\n",
    "sphere2 = make_sphere(roi_num=4, radius=2, spacing=0.5)\n",
    "sphere6 = make_sphere(roi_num=5, radius=6, spacing=0.5)\n",
    "sphere4 = make_sphere(roi_num=5, radius=4, spacing=0.5)\n",
    "sphere3 = make_sphere(roi_num=5, radius=3, spacing=0.5)\n",
    "\n",
    "# combine the contours\n",
    "slice_data = pd.concat([body, sphere2, sphere6, sphere4, sphere3])\n",
    "\n",
    "# convert contour slice data into a table of slices and structures\n",
    "slice_table = make_slice_table(slice_data, ignore_errors=True)\n"
   ]
  },
  {
   "cell_type": "code",
   "execution_count": null,
   "metadata": {},
   "outputs": [],
   "source": [
    "structures = tuple([5, 4])\n",
    "relation = Relationship(structures, slice_table).relationship_type\n",
    "print(relation)\n",
    "print('Expected Margins: 1.0 cm in all directions.', )\n",
    "get_metrics(structures, slice_table)\n"
   ]
  },
  {
   "cell_type": "code",
   "execution_count": null,
   "metadata": {},
   "outputs": [],
   "source": [
    "# 6 cm x 6 cm box\n",
    "box6 = shapely.Polygon(box_points(6))\n",
    "slices = make_slice_list(5)\n",
    "slices_1 = make_contour_slices(1, slices, [box6])\n",
    "\n",
    "# 4 cm x 4 cm box\n",
    "box4 = shapely.Polygon(box_points(4))\n",
    "slices = make_slice_list(5)\n",
    "#slices = make_slice_list(5, start=0.2, spacing=0.2)\n",
    "slices_2 = make_contour_slices(2, slices, [box4])\n",
    "\n",
    "# 6 cm x 6 cm box offset right by 3 cm\n",
    "offset_box6 = shapely.Polygon(box_points(6, offset_x=3))\n",
    "slices = make_slice_list(5)\n",
    "#slices = make_slice_list(5, start=0.2, spacing=0.2)\n",
    "slices_3 = make_contour_slices(3, slices, [offset_box6])\n",
    "\n",
    "# 6 cm x 6 cm box with 4cm x 4 cm hole\n",
    "box6 = shapely.Polygon(box_points(6))\n",
    "box4 = shapely.Polygon(box_points(4))\n",
    "slices = make_slice_list(5, start=0.2)\n",
    "slices_4 = make_contour_slices(4, slices, [box6, box4])\n",
    "\n",
    "# 2 2x2 boxes\n",
    "box2a = shapely.Polygon(box_points(2, offset_x=-3))\n",
    "box2b = shapely.Polygon(box_points(2, offset_x=3))\n",
    "slices = make_slice_list(5)\n",
    "#slices = make_slice_list(5, start=0.2, spacing=0.2)\n",
    "slices_5 = make_contour_slices(5, slices, [box2a, box2b])\n",
    "\n",
    "# 2 cm x 2 cm box offset inf by 0.3 cm\n",
    "slices = make_slice_list(5, start=-0.3)\n",
    "slices_6 = make_contour_slices(6, slices, [offset_box6])\n"
   ]
  },
  {
   "cell_type": "code",
   "execution_count": null,
   "metadata": {},
   "outputs": [],
   "source": [
    "spacing: float = 0.1\n",
    "radius: float = 1\n",
    "number_slices = ceil(radius * 2 / spacing) + 1\n",
    "start_slice = - radius\n",
    "z_coord = make_slice_list(number_slices, start_slice, spacing)\n",
    "r_coord = circle_x_points(radius, z_coord)\n"
   ]
  },
  {
   "cell_type": "code",
   "execution_count": null,
   "metadata": {},
   "outputs": [],
   "source": [
    "slice_points = []\n",
    "for slice, xy_points in sphere_points(1).items():\n",
    "    xy = np.array(xy_points)\n",
    "    z = np.ones((np.size(xy ,0), 1)) * slice\n",
    "    xyz = np.concatenate([xy, z], axis=1)\n",
    "    slice_points.append(xyz)\n",
    "sphere = np.concatenate(slice_points)\n",
    "\n",
    "fig = plt.figure()\n",
    "ax = fig.add_subplot(projection='3d')\n",
    "ax.plot(sphere[:,0], sphere[:,1], sphere[:,2], marker='.', linestyle='none', color='red')\n",
    "ax.set_aspect('equal')\n",
    "plt.show()"
   ]
  },
  {
   "cell_type": "code",
   "execution_count": null,
   "metadata": {},
   "outputs": [],
   "source": [
    "a = make_sphere(radius=2, spacing=0.1, roi_num=0)\n",
    "b = make_sphere(radius=1, spacing=0.1, roi_num=1)\n",
    "slice_data = pd.concat([a, b])\n",
    "slice_table = make_slice_table(slice_data)\n",
    "plot_roi(slice_table, [0,1])"
   ]
  },
  {
   "cell_type": "code",
   "execution_count": null,
   "metadata": {},
   "outputs": [],
   "source": [
    "a = make_vertical_cylinder(radius=2, length= 5, spacing=0.1, roi_num=0)\n",
    "b = make_vertical_cylinder(radius=1, length= 5, spacing=0.1, roi_num=1)\n",
    "slice_data = pd.concat([a, b])\n",
    "slice_table = make_slice_table(slice_data)\n",
    "plot_roi(slice_table, [0,1])"
   ]
  },
  {
   "cell_type": "code",
   "execution_count": null,
   "metadata": {},
   "outputs": [],
   "source": [
    "a = make_horizontal_cylinder(radius=2, length=5, spacing=0.1, roi_num=0)\n",
    "b = make_horizontal_cylinder(radius=1, length=5, spacing=0.1, roi_num=1)\n",
    "slice_data = pd.concat([a, b])\n",
    "slice_table = make_slice_table(slice_data)\n",
    "plot_roi(slice_table, [0,1])"
   ]
  },
  {
   "cell_type": "markdown",
   "metadata": {},
   "source": [
    "### Margin Tests"
   ]
  },
  {
   "cell_type": "markdown",
   "metadata": {},
   "source": [
    "#### Contains"
   ]
  },
  {
   "cell_type": "markdown",
   "metadata": {},
   "source": [
    "<link rel=\"stylesheet\" href=\"relations.css\">\n",
    "<table width=\"400px\">\n",
    "<tr class=\"l\"><th>Contains</th><th>Transitive</th></tr>\n",
    "<td class=\"d\" colspan=\"2\">\n",
    "All points of <span class=\"b\">b</span> lie in the interior of <span class=\"a\">a</span>, no points of <span class=\"b\">b</span> lie in the exterior of <span class=\"a\">a</span>, some points in <span class=\"a\">a</span> are exterior to <span class=\"b\">b</span>, and the boundaries of <span class=\"a\">a</span> and <span class=\"b\">b</span> do not intersect.\n",
    "</td></tr>\n",
    "<tr><td colspan=\"2\">\n",
    "<img src=\"Images/Relationships/contains simple.png\" alt=\"Contains\">\n",
    "<img src=\"Images/Relationships/contains with hole.png\" alt=\"Contains With Hole\">\n",
    "</td></tr>\n",
    "</table></td></tr></table>"
   ]
  },
  {
   "cell_type": "code",
   "execution_count": null,
   "metadata": {},
   "outputs": [],
   "source": [
    "def contains_example1():\n",
    "    circle6 = shapely.Polygon(circle_points(3))\n",
    "    circle4 = shapely.Polygon(circle_points(2))\n",
    "    a = StructureSlice([circle6])\n",
    "    b = StructureSlice([circle4])\n",
    "    print('Expected Margins: 1 cm in all directions.', )\n",
    "    return a, b\n",
    "\n",
    "def contains_example2():\n",
    "    circle6 = shapely.Polygon(circle_points(3))\n",
    "    circle4 = shapely.Polygon(circle_points(2))\n",
    "    circle3 = shapely.Polygon(circle_points(1.5))\n",
    "    circle2 = shapely.Polygon(circle_points(1))\n",
    "    a = StructureSlice([circle6, circle4, circle3])\n",
    "    b = StructureSlice([circle2])\n",
    "    print('Expected Margins: 0.5 cm in all directions.', )\n",
    "    return a, b\n",
    "\n",
    "def contains_example3():\n",
    "    circle6 = shapely.Polygon(circle_points(3))\n",
    "    circle5 = shapely.Polygon(circle_points(2.5))\n",
    "    circle3 = shapely.Polygon(circle_points(1.5))\n",
    "    circle2 = shapely.Polygon(circle_points(1))\n",
    "    a = StructureSlice([circle6, circle2])\n",
    "    b = StructureSlice([circle5, circle3])\n",
    "    print('Expected Margins: 0.5 cm in all directions.', )\n",
    "    return a, b\n",
    "\n",
    "def contains_example4():\n",
    "    circle6 = shapely.Polygon(circle_points(3))\n",
    "    circle3_offset_x = shapely.Polygon(circle_points(1.5, offset_x=1.2))\n",
    "    a = StructureSlice([circle6])\n",
    "    b = StructureSlice([circle3_offset_x])\n",
    "    print('Expected Margins:\\n\\t-X: 2.7\\t+X: 0.3\\ty: < 1.5', )\n",
    "    return a, b\n",
    "\n",
    "def contains_example5():\n",
    "    circle6_offset = shapely.Polygon(circle_points(3, offset_y=-1))\n",
    "    circle3_offset = shapely.Polygon(circle_points(1.5,\n",
    "                                                     offset_x=0.5,\n",
    "                                                     offset_y=-2))\n",
    "    a = StructureSlice([circle6_offset])\n",
    "    b = StructureSlice([circle3_offset])\n",
    "    print('Expected Margins:\\n\\t-X: 2.0<1.0\\t+X: <1.0\\t-y: < 2.5\\t+y: < 0.5', )\n",
    "    return a, b\n",
    "\n",
    "def contains_example6():\n",
    "    circle4_left = shapely.Polygon(circle_points(2, offset_x=-3))\n",
    "    circle4_right = shapely.Polygon(circle_points(2, offset_x=3))\n",
    "    circle3_left = shapely.Polygon(circle_points(1.5, offset_x=-3))\n",
    "    circle3_right = shapely.Polygon(circle_points(1.5, offset_x=3))\n",
    "    circle5_up = shapely.Polygon(circle_points(2.5, offset_y=4))\n",
    "    circle2_up = shapely.Polygon(circle_points(1, offset_y=3))\n",
    "    circle3_down = shapely.Polygon(circle_points(1.5, offset_y=-2.5))\n",
    "    circle1_down = shapely.Polygon(circle_points(0.5, offset_y=-2))\n",
    "    a = StructureSlice([circle4_left, circle4_right, circle5_up, circle3_down])\n",
    "    b = StructureSlice([circle3_left, circle3_right, circle2_up, circle1_down])\n",
    "    print('Expected Margins:\\n','\\n'.join([\n",
    "        '\\t-X:  0.5\\t+X:  0.5  \\t-y: 0.5  \\t+y: 0.5\\t',\n",
    "        '\\t-X:  0.5\\t+X:  0.5  \\t-y: 0.5  \\t+y: 0.5\\t',\n",
    "        '\\t-X: <1.5\\t+X: <1.5  \\t-y: 0.5  \\t+y: 2.5\\t',\n",
    "        '\\t-X: <1.0\\t+X: <1.0  \\t-y: 1.5  \\t+y: 0.5\\t'\n",
    "        ]))\n",
    "    return a, b"
   ]
  },
  {
   "cell_type": "code",
   "execution_count": null,
   "metadata": {},
   "outputs": [],
   "source": [
    "a, b = contains_example1()\n",
    "ax = plot_ab(a.contour, b.contour)\n",
    "relation_binary = relate(a,b)\n",
    "relation = identify_relation(relation_binary)\n",
    "margins(a, b, relation)\n"
   ]
  },
  {
   "cell_type": "code",
   "execution_count": null,
   "metadata": {},
   "outputs": [],
   "source": [
    "a, b = contains_example2()\n",
    "ax = plot_ab(a.contour, b.contour)\n",
    "relation_binary = relate(a,b)\n",
    "relation = identify_relation(relation_binary)\n",
    "margins(a, b, relation)"
   ]
  },
  {
   "cell_type": "code",
   "execution_count": null,
   "metadata": {},
   "outputs": [],
   "source": [
    "a, b = contains_example3()\n",
    "ax = plot_ab(a.contour, b.contour)\n",
    "relation_binary = relate(a,b)\n",
    "relation = identify_relation(relation_binary)\n",
    "margins(a, b, relation)"
   ]
  },
  {
   "cell_type": "code",
   "execution_count": null,
   "metadata": {},
   "outputs": [],
   "source": [
    "a, b = contains_example4()\n",
    "ax = plot_ab(a.contour, b.contour)\n",
    "relation_binary = relate(a,b)\n",
    "relation = identify_relation(relation_binary)\n",
    "margins(a, b, relation)"
   ]
  },
  {
   "cell_type": "code",
   "execution_count": null,
   "metadata": {},
   "outputs": [],
   "source": [
    "a, b = contains_example5()\n",
    "ax = plot_ab(a.contour, b.contour)\n",
    "relation_binary = relate(a,b)\n",
    "relation = identify_relation(relation_binary)\n",
    "margins(a, b, relation)"
   ]
  },
  {
   "cell_type": "code",
   "execution_count": null,
   "metadata": {},
   "outputs": [],
   "source": [
    "a, b = contains_example6()\n",
    "ax = plot_ab(a.contour, b.contour)\n",
    "relation_binary = relate(a,b)\n",
    "relation = identify_relation(relation_binary)\n",
    "margins(a, b, relation)"
   ]
  },
  {
   "cell_type": "markdown",
   "metadata": {},
   "source": [
    "#### Surrounds"
   ]
  },
  {
   "cell_type": "markdown",
   "metadata": {},
   "source": [
    "<link rel=\"stylesheet\" href=\"relations.css\">\n",
    "<table width=\"400px\">\n",
    "<tr class=\"l\"><th>Surrounds</th><th>Transitive</t></tr>\n",
    "<td class=\"d\" colspan=\"2\">\n",
    "<span class=\"a\">a</span> and <span class=\"b\">b</span> have no interior points in common, and with holes filled <span class=\"b\">b</span> lies in the interior of <span class=\"a\">a</span>.\n",
    "</td></tr><tr><td colspan=\"2\">\n",
    "<img src=\"Images/Relationships/surrounds simple.png\" alt=\"surrounds simple\">\n",
    "<img src=\"Images/Relationships/surrounds with ring.png\" alt=\"surrounds ring\">\n",
    "</td></tr>\n",
    "</table></td></tr></table>\n"
   ]
  },
  {
   "cell_type": "code",
   "execution_count": null,
   "metadata": {},
   "outputs": [],
   "source": [
    "def surrounds_example1():\n",
    "    circle6 = shapely.Polygon(circle_points(3))\n",
    "    circle4 = shapely.Polygon(circle_points(2))\n",
    "    circle2 = shapely.Polygon(circle_points(1))\n",
    "\n",
    "    a = StructureSlice([circle6, circle4])\n",
    "    b = StructureSlice([circle2])\n",
    "    print('Expected Margins: 1 cm in all directions.', )\n",
    "    return a, b\n",
    "\n",
    "def surrounds_example2():\n",
    "    circle6 = shapely.Polygon(circle_points(3))\n",
    "    circle5 = shapely.Polygon(circle_points(2.5))\n",
    "    circle4 = shapely.Polygon(circle_points(2))\n",
    "    circle3 = shapely.Polygon(circle_points(1.5))\n",
    "    circle2 = shapely.Polygon(circle_points(1))\n",
    "\n",
    "    a = StructureSlice([circle6, circle5, circle2])\n",
    "    b = StructureSlice([circle4, circle3])\n",
    "    print('Expected Margins: 0.5 cm in all directions.', )\n",
    "    return a, b\n",
    "\n",
    "def surrounds_example3():\n",
    "    box10x5 = shapely.Polygon(box_points(10,5))\n",
    "    circle4_left = shapely.Polygon(circle_points(2, offset_x=-3))\n",
    "    circle3_right = shapely.Polygon(circle_points(1.5, offset_x=3))\n",
    "    circle2_left = shapely.Polygon(circle_points(1, offset_x=-3, offset_y=0.5))\n",
    "    circle2_right = shapely.Polygon(circle_points(1, offset_x=3))\n",
    "    a = StructureSlice([box10x5, circle4_left, circle3_right, circle2_right])\n",
    "    b = StructureSlice([circle2_left])\n",
    "    print('Expected Margins:\\n\\tX: < 1.0\\t-Y: 1.5  \\t+y: < 0.5', )\n",
    "    return a, b"
   ]
  },
  {
   "cell_type": "code",
   "execution_count": null,
   "metadata": {},
   "outputs": [],
   "source": [
    "a, b = surrounds_example1()\n",
    "ax = plot_ab(a.contour, b.contour)\n",
    "relation_binary = relate(a,b)\n",
    "relation = identify_relation(relation_binary)\n",
    "margins(a, b, relation)\n"
   ]
  },
  {
   "cell_type": "code",
   "execution_count": null,
   "metadata": {},
   "outputs": [],
   "source": [
    "a, b = surrounds_example2()\n",
    "ax = plot_ab(a.contour, b.contour)\n",
    "relation_binary = relate(a,b)\n",
    "relation = identify_relation(relation_binary)\n",
    "margins(a, b, relation)"
   ]
  },
  {
   "cell_type": "code",
   "execution_count": null,
   "metadata": {},
   "outputs": [],
   "source": [
    "a, b = surrounds_example3()\n",
    "ax = plot_ab(a.contour, b.contour)\n",
    "relation_binary = relate(a,b)\n",
    "relation = identify_relation(relation_binary)\n",
    "margins(a, b, relation)"
   ]
  },
  {
   "cell_type": "markdown",
   "metadata": {},
   "source": [
    "#### Shelters"
   ]
  },
  {
   "cell_type": "markdown",
   "metadata": {},
   "source": [
    "<link rel=\"stylesheet\" href=\"relations.css\">\n",
    "<table width=\"400px\">\n",
    "<tr class=\"l\"><th>Shelters</th><th>Transitive</th></tr>\n",
    "<td class=\"d\" colspan=\"2\">\n",
    "<span class=\"a\">a</span> and <span class=\"b\">b</span> \n",
    "have no points in common, \n",
    "but the Convex Hull of <span class=\"a\">a</span> contains <span class=\"b\">b</span>.\n",
    "</td></tr>\n",
    "<tr><td colspan=\"2\">\n",
    "<img src=\"Images/Relationships/shelters.png\" alt=\"Shelters\">\n",
    "</td></tr>\n",
    "</table></td></tr></table>"
   ]
  },
  {
   "cell_type": "code",
   "execution_count": null,
   "metadata": {},
   "outputs": [],
   "source": [
    "def shelters_example():\n",
    "    circle6 = shapely.Polygon(circle_points(3))\n",
    "    circle5 = shapely.Polygon(circle_points(2.5))\n",
    "    circle4_offset = shapely.Polygon(circle_points(2, offset_x=3.5))\n",
    "    shell = shapely.difference(circle6, circle5)\n",
    "    cove = shapely.difference(shell, circle4_offset)\n",
    "    circle2 = shapely.Polygon(circle_points(1, offset_x=1))\n",
    "\n",
    "    x_min_margin = 5.0/2 - 2.0/2 + 1.0   # Margin to contour\n",
    "    cove_edge = cove.bounds[2]\n",
    "    x_max_margin = cove_edge - 2.0/2 - 1.0   # Margin to Hull\n",
    "    y_edge = sqrt(2.5*2.5 - 1)\n",
    "    y_margin = y_edge - 2.0/2\n",
    "    print(''.join([\n",
    "        f'Expected Margins:\\n\\t',\n",
    "        f'-X: {x_min_margin:3.2f}  ',\n",
    "        f'+X:{x_max_margin:3.2f}  ',\n",
    "        f'Y: {y_margin:3.2f}'\n",
    "        ]))\n",
    "\n",
    "    a = StructureSlice([cove])\n",
    "    b = StructureSlice([circle2])\n",
    "\n",
    "    return a, b\n"
   ]
  },
  {
   "cell_type": "code",
   "execution_count": null,
   "metadata": {},
   "outputs": [],
   "source": [
    "a, b = shelters_example()\n",
    "ax = plot_ab(a.contour, b.contour)\n",
    "relation_binary = relate(a,b)\n",
    "relation = identify_relation(relation_binary)\n",
    "margins(a, b, relation)"
   ]
  },
  {
   "cell_type": "markdown",
   "metadata": {},
   "source": [
    "## Distance\n",
    "- $Distance = distance(a,b)$\n",
    "\n",
    "**Used By:**\n",
    "- Disjoint\n"
   ]
  },
  {
   "cell_type": "code",
   "execution_count": null,
   "metadata": {},
   "outputs": [],
   "source": [
    "def distances(poly_a: StructureSlice, poly_b: StructureSlice,\n",
    "              relation: RelationshipType,\n",
    "              precision: int = PRECISION)->pd.DataFrame:\n",
    "    distance_list = []\n",
    "    # Compare all polygons on the same slice\n",
    "    for polygon_a, polygon_b in product(poly_a.contour.geoms,\n",
    "                                        poly_b.contour.geoms):\n",
    "        boundary_a = polygon_a.exterior\n",
    "        boundary_b = polygon_b.exterior\n",
    "        distance = boundary_a.distance(boundary_b)\n",
    "        rounded_distance = round(distance, precision)\n",
    "        distance_dict = {'distance': rounded_distance}\n",
    "        distance_list.append(distance_dict)\n",
    "    if distance_list:\n",
    "        return pd.DataFrame(distance_list)\n",
    "    return pd.DataFrame()"
   ]
  },
  {
   "cell_type": "markdown",
   "metadata": {},
   "source": [
    "### Distance Tests\n",
    "\n",
    "#### Disjoint"
   ]
  },
  {
   "cell_type": "markdown",
   "metadata": {},
   "source": [
    "<link rel=\"stylesheet\" href=\"relations.css\">\n",
    "<table width=\"300px\">\n",
    "<tr class=\"l\"><th>Disjoint</th><th>Symmetric</th></tr>\n",
    "<td class=\"d\" colspan=\"2\">The Convex Hull of \n",
    "<span class=\"a\">a</span> has no points in common with <span class=\"b\">b</span>.</td></tr>\n",
    "<tr><td colspan=\"2\">\n",
    "<img src=\"Images/Relationships/disjoint.png\" alt=\"Disjoint\" style=\"width: 200px\">\n",
    "</td></tr></table>"
   ]
  },
  {
   "cell_type": "code",
   "execution_count": null,
   "metadata": {},
   "outputs": [],
   "source": [
    "def disjoint_example():\n",
    "    circle4_left = shapely.Polygon(circle_points(4, offset_x=-4.5))\n",
    "    circle4_right = shapely.Polygon(circle_points(4, offset_x=4.5))\n",
    "\n",
    "    a = StructureSlice([circle4_left])\n",
    "    b = StructureSlice([circle4_right])\n",
    "    print('Expected Distance: 1.0')\n",
    "    return a, b\n"
   ]
  },
  {
   "cell_type": "code",
   "execution_count": null,
   "metadata": {},
   "outputs": [],
   "source": [
    "a, b = disjoint_example()\n",
    "ax = plot_ab(a.contour, b.contour)\n",
    "relation_binary = relate(a,b)\n",
    "relation = identify_relation(relation_binary)\n",
    "distances(a, b, relation)"
   ]
  },
  {
   "cell_type": "markdown",
   "metadata": {},
   "source": [
    "## Ratio of Volumes\n",
    "\n",
    "Ratio of the overlapping volume to the average or larger volume.\n",
    "$R_V =\\frac{V( a \\cap b )}{\\overline{V_{a,b}}}$\n",
    "\n",
    "Since the structures are compared slice by slice, the Volume function can be written as:<br>\n",
    "$V(x) = t \\times \\operatorname{area} ( x )$,<br>\n",
    "where $t$ is the slice thickness. \n",
    "\n",
    "When calculating the ratio, slice thickness is a constant, so the Volume ratio is equal to the ratio sums of the areas over all slices:\n",
    "  \n",
    "$R_V =\\frac{\\sum_s \\operatorname{area}( a \\cap b )}{\\sum_s \\overline{\\operatorname{area}_{a,b}}}$\n",
    "\n",
    "*Used By:*\n",
    "\n",
    "- **Overlaps**\n",
    "> - Ratio of the volume of overlap to the average volume of $a$ and $b$:\n",
    "> - $R_v =\\frac{\\sum_s \\left[ 2 \\times \\operatorname{area}( a \\cap b ) \\right] }{\\sum_s \\left[ \\operatorname{area}( a ) + \\operatorname{area}( b ) \\right] }$\n",
    "\n",
    "\n",
    "- **Partition**\n",
    "> - Ratio of the volume of the overlap to the volume of the larger structure ($a$):\n",
    "> - $R_V =\\frac{\\sum_s \\operatorname{area}( a \\cap b )}{\\sum_s \\operatorname{area}( a )}$\n"
   ]
  },
  {
   "cell_type": "code",
   "execution_count": null,
   "metadata": {},
   "outputs": [],
   "source": [
    "def related_areas(poly_a: StructureSlice,\n",
    "                  poly_b: StructureSlice)->Dict[str, float]:\n",
    "    # Total areas of the two Structure Slices\n",
    "    area_a = sum(poly.area for poly in poly_a.contour.geoms)\n",
    "    area_b = sum(poly.area for poly in poly_b.contour.geoms)\n",
    "    # Calculate overlap by comparing all polygons in a with all polygons in b\n",
    "    overlap_area_list = []\n",
    "    for polygon_a, polygon_b in product(poly_a.contour.geoms,\n",
    "                                        poly_b.contour.geoms):\n",
    "        overlap_region = shapely.intersection(polygon_a, polygon_b)\n",
    "        overlap_area_list.append(overlap_region.area)\n",
    "    overlap_area = sum(overlap_area_list)\n",
    "    areas = {'poly_a': area_a,\n",
    "             'poly_b': area_b,\n",
    "             'overlap': overlap_area}\n",
    "    return areas"
   ]
  },
  {
   "cell_type": "code",
   "execution_count": null,
   "metadata": {},
   "outputs": [],
   "source": [
    "# For full structure this will convert to a loop over all slices\n",
    "# results in list of dict -> DataFrame ->  sum columns\n",
    "def volume_ratio(poly_a: StructureSlice, poly_b: StructureSlice,\n",
    "                 relation: RelationshipType,\n",
    "                 precision: int = PRECISION)->pd.DataFrame:\n",
    "\n",
    "    def average_volume_ratio(areas: pd.DataFrame,\n",
    "                             precision: int = PRECISION)->pd.DataFrame:\n",
    "        average_volume = (areas['poly_a'] + areas['poly_b']) / 2.0\n",
    "        ratio = areas['overlap'] / average_volume\n",
    "        rounded_ratio = round(ratio, precision)\n",
    "        return rounded_ratio\n",
    "\n",
    "    def larger_area_ratio(areas: pd.DataFrame,\n",
    "                          precision: int = PRECISION)->pd.DataFrame:\n",
    "        ratio = areas['overlap'] / areas['poly_a']\n",
    "        rounded_ratio = round(ratio, precision)\n",
    "        return rounded_ratio\n",
    "\n",
    "    areas = related_areas(poly_a, poly_b)\n",
    "    if relation == RelationshipType.OVERLAPS:\n",
    "        ratio = average_volume_ratio(areas, precision)\n",
    "    elif relation == RelationshipType.PARTITION:\n",
    "        ratio = larger_area_ratio(areas, precision)\n",
    "    else:\n",
    "        ratio = np.nan\n",
    "    return ratio"
   ]
  },
  {
   "cell_type": "markdown",
   "metadata": {},
   "source": [
    "<link rel=\"stylesheet\" href=\"relations.css\">\n",
    "<table width=\"400px\">\n",
    "<tr class=\"l\"><th>Overlaps</th><th>Symmetric</th></tr>\n",
    "<td class=\"d\" colspan=\"2\">\n",
    "<span class=\"a\">a</span> and <span class=\"b\">b</span> \n",
    "have some but not all points in common.\n",
    "</td></tr>\n",
    "<tr><td colspan=\"2\">\n",
    "<img src=\"Images/Relationships/overlaps simple.png\" alt=\"Overlaps\">\n",
    "<img src=\"Images/Relationships/overlaps ring.png\" alt=\"Overlaps With Ring\">\n",
    "<img src=\"Images/Relationships/overlaps surounded.png\" alt=\"Overlaps Surrounded\">\n",
    "<img src=\"Images/Relationships/overlaps ring surrounds simple.png\" alt=\"Ring Overlaps Simple\">\n",
    "<img src=\"Images/Relationships/archipelago contains simple.png\" alt=\"Ring Overlaps Simple\">\n",
    "</td></tr></table>"
   ]
  },
  {
   "cell_type": "code",
   "execution_count": null,
   "metadata": {},
   "outputs": [],
   "source": [
    "def overlaps_box_example():\n",
    "    box4 = shapely.Polygon(box_points(4))\n",
    "    box4_offset = shapely.Polygon(box_points(4, offset_x=2))\n",
    "\n",
    "    area_a = 4 * 4\n",
    "    area_b = 4 * 4\n",
    "    average_area = (area_a + area_b) / 2\n",
    "    overlapping_area = 4 * 2\n",
    "    ratio = overlapping_area / average_area\n",
    "    print(f'Expected Ratio: {ratio:3.2f}')\n",
    "\n",
    "    a = StructureSlice([box4])\n",
    "    b = StructureSlice([box4_offset])\n",
    "    return a, b\n",
    "\n",
    "def overlaps_simple_example():\n",
    "    circle6 = shapely.Polygon(circle_points(3))\n",
    "    box6_offset = shapely.Polygon(box_points(6, offset_x=3))\n",
    "\n",
    "    area_a = pi * 3**2\n",
    "    area_b = 6 * 6\n",
    "    average_area = (area_a + area_b) / 2\n",
    "    overlapping_area = area_a / 2\n",
    "    ratio = overlapping_area / average_area\n",
    "    print(f'Expected Ratio: {ratio:3.2f}')\n",
    "\n",
    "    a = StructureSlice([circle6])\n",
    "    b = StructureSlice([box6_offset])\n",
    "    return a, b\n",
    "\n",
    "def overlaps_ring_example():\n",
    "    circle6 = shapely.Polygon(circle_points(3))\n",
    "    circle4 = shapely.Polygon(circle_points(2))\n",
    "    box6_offset = shapely.Polygon(box_points(6, offset_x=3))\n",
    "\n",
    "    area_a = pi * (3**2 - 2**2)\n",
    "    area_b = 6 * 6\n",
    "    average_area = (area_a + area_b) / 2\n",
    "    overlapping_area = area_a / 2\n",
    "    ratio = overlapping_area / average_area\n",
    "    print(f'Expected Ratio: {ratio:3.2f}')\n",
    "\n",
    "    a = StructureSlice([circle6, circle4])\n",
    "    b = StructureSlice([box6_offset])\n",
    "    return a, b\n",
    "\n",
    "def overlaps_surrounded_example():\n",
    "    circle6 = shapely.Polygon(circle_points(3))\n",
    "    circle4 = shapely.Polygon(circle_points(2))\n",
    "    circle3_offset = shapely.Polygon(circle_points(1.5, offset_x=1))\n",
    "\n",
    "    area_a = pi * (3**2 - 2**2)\n",
    "    area_b = pi * ((3 / 2) ** 2)\n",
    "    average_area = (area_a + area_b) / 2\n",
    "    overlapping_area = area_b / 5  # Estimated 1/5 of smaller circle overlaps\n",
    "    ratio = overlapping_area / average_area\n",
    "    print(f'Estimated Ratio: {ratio:3.2f}')\n",
    "\n",
    "    a = StructureSlice([circle6, circle4])\n",
    "    b = StructureSlice([circle3_offset])\n",
    "    return a, b\n",
    "\n",
    "def overlaps_surrounded_box_example():\n",
    "    box6 = shapely.Polygon(box_points(6))\n",
    "    box4 = shapely.Polygon(box_points(4))\n",
    "    box3 = shapely.Polygon(box_points(3, offset_x=1))\n",
    "\n",
    "    area_a = 6*6 - 4*4\n",
    "    area_b = 3 * 3\n",
    "    average_area = (area_a + area_b) / 2\n",
    "    overlapping_area = 3 * (3/2 -1)\n",
    "    ratio = overlapping_area / average_area\n",
    "    print(f'Expected Ratio: {ratio:3.2f}')\n",
    "\n",
    "    a = StructureSlice([box6, box4])\n",
    "    b = StructureSlice([box3])\n",
    "    return a, b\n",
    "\n",
    "def overlaps_ring_surrounded_example():\n",
    "    circle6 = shapely.Polygon(circle_points(3))\n",
    "    circle3 = shapely.Polygon(circle_points(1.5))\n",
    "    circle4 = shapely.Polygon(circle_points(2))\n",
    "\n",
    "    area_a = pi * (3**2 - 1.5**2)\n",
    "    area_b = pi * 2**2\n",
    "    average_area = (area_a + area_b) / 2\n",
    "    overlapping_area = pi * (2**2 - 1.5**2)\n",
    "    ratio = overlapping_area / average_area\n",
    "    print(f'Expected Ratio: {ratio:3.2f}')\n",
    "\n",
    "    a = StructureSlice([circle6, circle3])\n",
    "    b = StructureSlice([circle4])\n",
    "    return a, b\n",
    "\n",
    "def overlaps_archipelago_simple_example1():\n",
    "    circle6 = shapely.Polygon(circle_points(3))\n",
    "    circle4 = shapely.Polygon(circle_points(2))\n",
    "    circle3 = shapely.Polygon(circle_points(1.5))\n",
    "    circle2 = shapely.Polygon(circle_points(1))\n",
    "\n",
    "    area_a = pi * (3**2 - 2**2 + 1**2)\n",
    "    area_b = pi * 2**2\n",
    "    average_area = (area_a + area_b) / 2\n",
    "    overlapping_area = pi * (2**2 - 2**2 + 1**2)\n",
    "    ratio = overlapping_area / average_area\n",
    "    print(f'Expected Ratio: {ratio:3.2f}')\n",
    "\n",
    "    a = StructureSlice([circle6, circle4, circle2])\n",
    "    b = StructureSlice([circle4])\n",
    "    return a, b\n",
    "\n",
    "def overlaps_archipelago_simple_example2():\n",
    "    circle6 = shapely.Polygon(circle_points(3))\n",
    "    circle4 = shapely.Polygon(circle_points(2))\n",
    "    circle3 = shapely.Polygon(circle_points(1.5))\n",
    "    circle2 = shapely.Polygon(circle_points(1))\n",
    "\n",
    "    area_a = pi * (3**2 - 1.5**2 + 1**2)\n",
    "    area_b = pi * 2**2\n",
    "    average_area = (area_a + area_b) / 2\n",
    "    overlapping_area = pi * (2**2 - 1.5**2 + 1**2)\n",
    "    ratio = overlapping_area / average_area\n",
    "    print(f'Expected Ratio: {ratio:3.2f}')\n",
    "\n",
    "    a = StructureSlice([circle6, circle3, circle2])\n",
    "    b = StructureSlice([circle4])\n",
    "    return a, b"
   ]
  },
  {
   "cell_type": "code",
   "execution_count": null,
   "metadata": {},
   "outputs": [],
   "source": [
    "a, b = overlaps_archipelago_simple_example1()\n",
    "ax = plot_ab(a.contour, b.contour)\n",
    "relation_binary = relate(a,b)\n",
    "relation = identify_relation(relation_binary)\n",
    "print(volume_ratio(a, b, relation, PRECISION))"
   ]
  },
  {
   "cell_type": "code",
   "execution_count": null,
   "metadata": {},
   "outputs": [],
   "source": [
    "a, b = overlaps_archipelago_simple_example2()\n",
    "ax = plot_ab(a.contour, b.contour)\n",
    "relation_binary = relate(a,b)\n",
    "relation = identify_relation(relation_binary)\n",
    "print(volume_ratio(a, b, relation, PRECISION))"
   ]
  },
  {
   "cell_type": "code",
   "execution_count": null,
   "metadata": {},
   "outputs": [],
   "source": [
    "a, b = overlaps_box_example()\n",
    "ax = plot_ab(a.contour, b.contour)\n",
    "relation_binary = relate(a,b)\n",
    "relation = identify_relation(relation_binary)\n",
    "print(volume_ratio(a, b, relation, PRECISION))\n"
   ]
  },
  {
   "cell_type": "code",
   "execution_count": null,
   "metadata": {},
   "outputs": [],
   "source": [
    "a, b = overlaps_simple_example()\n",
    "ax = plot_ab(a.contour, b.contour)\n",
    "relation_binary = relate(a,b)\n",
    "relation = identify_relation(relation_binary)\n",
    "print(volume_ratio(a, b, relation, PRECISION))\n"
   ]
  },
  {
   "cell_type": "code",
   "execution_count": null,
   "metadata": {},
   "outputs": [],
   "source": [
    "a, b = overlaps_ring_example()\n",
    "ax = plot_ab(a.contour, b.contour)\n",
    "relation_binary = relate(a,b)\n",
    "relation = identify_relation(relation_binary)\n",
    "print(volume_ratio(a, b, relation, PRECISION))"
   ]
  },
  {
   "cell_type": "code",
   "execution_count": null,
   "metadata": {},
   "outputs": [],
   "source": [
    "a, b = overlaps_surrounded_example()\n",
    "ax = plot_ab(a.contour, b.contour)\n",
    "relation_binary = relate(a,b)\n",
    "relation = identify_relation(relation_binary)\n",
    "print(volume_ratio(a, b, relation, PRECISION))"
   ]
  },
  {
   "cell_type": "code",
   "execution_count": null,
   "metadata": {},
   "outputs": [],
   "source": [
    "a, b = overlaps_surrounded_box_example()\n",
    "ax = plot_ab(a.contour, b.contour)\n",
    "relation_binary = relate(a,b)\n",
    "relation = identify_relation(relation_binary)\n",
    "print(volume_ratio(a, b, relation, PRECISION))"
   ]
  },
  {
   "cell_type": "code",
   "execution_count": null,
   "metadata": {},
   "outputs": [],
   "source": [
    "a, b = overlaps_ring_surrounded_example()\n",
    "ax = plot_ab(a.contour, b.contour)\n",
    "relation_binary = relate(a,b)\n",
    "relation = identify_relation(relation_binary)\n",
    "print(volume_ratio(a, b, relation, 2))"
   ]
  },
  {
   "cell_type": "code",
   "execution_count": null,
   "metadata": {},
   "outputs": [],
   "source": [
    "a, b = overlaps_archipelago_simple_example1()\n",
    "ax = plot_ab(a.contour, b.contour)\n",
    "relation_binary = relate(a,b)\n",
    "relation = identify_relation(relation_binary)\n",
    "print(volume_ratio(a, b, relation, PRECISION))"
   ]
  },
  {
   "cell_type": "code",
   "execution_count": null,
   "metadata": {},
   "outputs": [],
   "source": [
    "a, b = overlaps_archipelago_simple_example2()\n",
    "ax = plot_ab(a.contour, b.contour)\n",
    "relation_binary = relate(a,b)\n",
    "relation = identify_relation(relation_binary)\n",
    "print(volume_ratio(a, b, relation, PRECISION))"
   ]
  },
  {
   "cell_type": "markdown",
   "metadata": {},
   "source": [
    "# Calculation Error\n",
    "- Expected Ratio = 0.6\n",
    "- Got: 0.14\n",
    "\n",
    "*Probably did not include inner island or hole*"
   ]
  },
  {
   "cell_type": "markdown",
   "metadata": {},
   "source": [
    "<link rel=\"stylesheet\" href=\"relations.css\">\n",
    "<table width=\"400px\">\n",
    "<tr class=\"l\"><th>Partition</th><th></th></tr>\n",
    "<td class=\"d\" colspan=\"2\">\n",
    "The boundaries of <span class=\"a\">a</span> and <span class=\"b\">b</span> have more than one point in common.\n",
    "No points of <span class=\"b\">b</span> are exterior to <span class=\"a\">a</span>, and some points in <span class=\"a\">a</span> are exterior to <span class=\"b\">b</span>.\n",
    "</td></tr>\n",
    "<tr><td colspan=\"2\">\n",
    "<img src=\"Images/Relationships/partitions simple.png\" alt=\"Partition\">\n",
    "<img src=\"Images/Relationships/partitions archipelago with island.png\" alt=\"Partition With Island\">\n",
    "<img src=\"Images/Relationships/partitions partial ring.png\" alt=\"Partition Ring\">\n",
    "</td></tr></table>"
   ]
  },
  {
   "cell_type": "code",
   "execution_count": null,
   "metadata": {},
   "outputs": [],
   "source": [
    "def partition_simple_example():\n",
    "    box4 = shapely.Polygon(box_points(4))\n",
    "    box4_cropped = shapely.Polygon(box_points(2, 4, offset_x=-1))\n",
    "\n",
    "    larger_area = 4**2\n",
    "    overlapping_area = 4**2 / 2\n",
    "    ratio = overlapping_area / larger_area\n",
    "    print(f'Expected Ratio: {ratio:3.2f}')\n",
    "\n",
    "    a = StructureSlice([box4])\n",
    "    b = StructureSlice([box4_cropped])\n",
    "    return a, b\n",
    "\n",
    "def partition_example1():\n",
    "    box6 = poly_round(shapely.Polygon(box_points(6)))\n",
    "    box4_offset = shapely.Polygon(box_points(4, offset_x=-1))\n",
    "\n",
    "    larger_area = 6**2\n",
    "    overlapping_area = 4**2\n",
    "    ratio = overlapping_area / larger_area\n",
    "    print(f'Expected Ratio: {ratio:3.2f}')\n",
    "\n",
    "    a = StructureSlice([box6])\n",
    "    b = StructureSlice([box4_offset])\n",
    "    return a, b\n",
    "\n",
    "def partition_example2():\n",
    "    # Rounding required because of floating point inaccuracies.\n",
    "    circle6 = poly_round(shapely.Polygon(circle_points(3)))\n",
    "    circle4_offset = shapely.Polygon(circle_points(2, offset_x=2))\n",
    "    cropped_circle = poly_round(shapely.intersection(circle6, circle4_offset))\n",
    "    # Larger Area = pi*3^2 = 28.3\n",
    "    # Overlap Area ~ pi*2^2*.6 = 16\n",
    "    # Ratio ~ 16 / 28.3 = 0.3\n",
    "    larger_area = pi * 3**2\n",
    "    overlapping_area = pi * 2**2 * 0.75  # Approximately 3/4 of smaller circle\n",
    "    ratio = overlapping_area / larger_area\n",
    "    print(f'Estimated Ratio: {ratio:3.2f}')\n",
    "\n",
    "    a = StructureSlice([circle6])\n",
    "    b = StructureSlice([cropped_circle])\n",
    "    return a, b\n",
    "\n",
    "def partition_example3():\n",
    "    # Partition is island part of archipelago\n",
    "    circle6 = shapely.Polygon(circle_points(3))\n",
    "    circle4 = shapely.Polygon(circle_points(2))\n",
    "    circle2 = shapely.Polygon(circle_points(1))\n",
    "\n",
    "    larger_area = pi * (3**2 - 2**2 + 1**2)\n",
    "    overlapping_area = pi * 1**2\n",
    "    ratio = overlapping_area / larger_area\n",
    "    print(f'Expected Ratio: {ratio:3.2f}')\n",
    "\n",
    "    a = StructureSlice([circle6, circle4, circle2])\n",
    "    b = StructureSlice([circle2])\n",
    "    return a, b\n",
    "\n",
    "def partition_example4():\n",
    "    # Partition is half of ring\n",
    "    circle6 = shapely.Polygon(circle_points(3))\n",
    "    circle4 = shapely.Polygon(circle_points(2))\n",
    "    box6_offset = shapely.Polygon(box_points(6, offset_x=3))\n",
    "    ring = shapely.difference(circle6, circle4)\n",
    "    cropped_ring = poly_round(shapely.difference(ring, box6_offset),PRECISION)\n",
    "\n",
    "    larger_area = pi * (3**2 - 2**2)\n",
    "    overlapping_area = pi * (3**2 - 2**2) / 2\n",
    "    ratio = overlapping_area / larger_area\n",
    "    print(f'Expected Ratio: {ratio:3.2f}')\n",
    "\n",
    "    a = StructureSlice([circle6, circle4])\n",
    "    b = StructureSlice([cropped_ring])\n",
    "    return a, b"
   ]
  },
  {
   "cell_type": "code",
   "execution_count": null,
   "metadata": {},
   "outputs": [],
   "source": [
    "a, b = partition_simple_example()\n",
    "ax = plot_ab(a.contour, b.contour)\n",
    "\n",
    "relation_binary = relate(a,b)\n",
    "relation = identify_relation(relation_binary)\n",
    "\n",
    "print(volume_ratio(a, b, relation, PRECISION))"
   ]
  },
  {
   "cell_type": "code",
   "execution_count": null,
   "metadata": {},
   "outputs": [],
   "source": [
    "a, b = partition_example1()\n",
    "ax = plot_ab(a.contour, b.contour)\n",
    "relation_binary = relate(a,b)\n",
    "relation = identify_relation(relation_binary)\n",
    "print(volume_ratio(a, b, relation, PRECISION))"
   ]
  },
  {
   "cell_type": "code",
   "execution_count": null,
   "metadata": {},
   "outputs": [],
   "source": [
    "a, b = partition_example2()\n",
    "ax = plot_ab(a.contour, b.contour)\n",
    "relation_binary = relate(a,b)\n",
    "relation = identify_relation(relation_binary)\n",
    "print(volume_ratio(a, b, relation, PRECISION))"
   ]
  },
  {
   "cell_type": "code",
   "execution_count": null,
   "metadata": {},
   "outputs": [],
   "source": [
    "a, b = partition_example3()\n",
    "ax = plot_ab(a.contour, b.contour)\n",
    "relation_binary = relate(a,b)\n",
    "relation = identify_relation(relation_binary)\n",
    "print(volume_ratio(a, b, relation, PRECISION))"
   ]
  },
  {
   "cell_type": "code",
   "execution_count": null,
   "metadata": {},
   "outputs": [],
   "source": [
    "a, b = partition_example4()\n",
    "ax = plot_ab(a.contour, b.contour)\n",
    "relation_binary = relate(a,b)\n",
    "relation = identify_relation(relation_binary)\n",
    "print(volume_ratio(a, b, relation, PRECISION))"
   ]
  },
  {
   "cell_type": "markdown",
   "metadata": {},
   "source": [
    "## Ratio of Surface Area\n",
    "\n",
    "Ratio of the touching surface area of the two structures, to the surface area of the average or larger structure.\n",
    "$R_A =\\frac{A( a \\cap b )}{\\overline{A_{a,b}}}$,<br>\n",
    "where $A$ is the Surface Area. \n",
    "\n",
    "Since the structures are compared slice by slice, the Surface Area function can be written as:<br>\n",
    "$A(x) = t \\times \\ell_s( x )$,<br>\n",
    "where $t$ is the slice thickness and $\\ell_s$ is the relevant perimeter length on a given slice. \n",
    "\n",
    "When calculating the ratio, slice thickness is a constant, so the surface area ratio is equal to the ratio sums of the relevant perimeter lengths over all slices:\n",
    "  \n",
    "$R_A =\\frac{\\sum_{S} \\ell_s( a \\cap b )}{\\sum_{S} \\overline{\\ell_s}}$\n",
    "\n",
    "*Used By:*\n",
    "\n",
    "- Exterior Borders\n",
    "> - Ratio of the length of the touching exterior perimeters to the average length of the exterior perimeters of $a$ and $b$.\n",
    "> - $R_A = \\frac{ 2 \\sum_{S} \\ell_s⁡(a_p \\cap b_p) }{ \\sum_{S} \\left[ \\ell_s(a_{px}) + \\ell_s(b_{px}) \\right] }$\n",
    "\n",
    "- Interior Borders\n",
    "> - Ratio of the length of touching perimeters to the length of the perimeter of the hole in $a$ containing $b$.\n",
    "> - $R_l = \\frac{ \\sum_{S} \\ell_s⁡(a_p \\cap b_p)}{ \\sum_{S} \\left[ \\ell_s(a_{ph}) + \\ell_s(b_{px}) \\right] }$\n",
    "\n",
    "Where:\n",
    "- $a_p$ is the perimeter of polygon $a$\n",
    "- $b_p$ is the perimeter of polygon $b$\n",
    "- $a_{px}$ is the exterior perimeter of polygon $a$\n",
    "- $b_{px}$ is the exterior perimeter of polygon $b$\n",
    "- $a_{ph}$ is the perimeter of the relevant hole within polygon $a$\n",
    "- $\\ell_s⁡(p_i)$ is the length of perimeter $i$ on slice $s$\n"
   ]
  },
  {
   "cell_type": "code",
   "execution_count": null,
   "metadata": {},
   "outputs": [],
   "source": [
    "def related_lengths(poly_a: StructureSlice, poly_b: StructureSlice,\n",
    "                    relation: RelationshipType)->List[shapely.LineString]:\n",
    "    def get_perimeters(poly_a: StructureSlice, poly_b: StructureSlice):\n",
    "        exterior_a = poly_a.exterior\n",
    "        exterior_b = poly_b.exterior\n",
    "        overlap_region = shapely.shared_paths(exterior_a, exterior_b)\n",
    "        perimeter_dict = {'overlapping_perimeter': overlap_region,\n",
    "                          'perimeter_a': exterior_a,\n",
    "                          'perimeter_b': exterior_b}\n",
    "        return perimeter_dict\n",
    "\n",
    "    perimeter_list = []\n",
    "    # get relevant perimeters for all polygons on the same slice\n",
    "    for polygon_a, polygon_b in product(poly_a.contour.geoms,\n",
    "                                        poly_b.contour.geoms):\n",
    "        if relation == RelationshipType.BORDERS:\n",
    "            perimeter_dict = get_perimeters(polygon_a, polygon_b)\n",
    "            perimeter_list.append(perimeter_dict)\n",
    "        elif relation == RelationshipType.BORDERS_INTERIOR:\n",
    "            # TODO Need to be able to identify which hole in a contains b even for\n",
    "            # slices where b is not present. For now we use the perimeter of all\n",
    "            # holes in a as a reasonable approximation.\n",
    "            for hole_ring in polygon_a.interiors:\n",
    "                hole = shapely.Polygon(hole_ring)\n",
    "                perimeter_dict = get_perimeters(hole, polygon_b)\n",
    "                perimeter_list.append(perimeter_dict)\n",
    "    return perimeter_list\n"
   ]
  },
  {
   "cell_type": "code",
   "execution_count": null,
   "metadata": {},
   "outputs": [],
   "source": [
    "def length_ratio(poly_a: StructureSlice, poly_b: StructureSlice,\n",
    "                 relation: RelationshipType,\n",
    "                 precision: int = PRECISION)->pd.DataFrame:\n",
    "\n",
    "    def get_length(perimeter: shapely.LineString)->float:\n",
    "        return shapely.length(perimeter)\n",
    "\n",
    "    perimeter_list = related_lengths(poly_a, poly_b, relation)\n",
    "    if not perimeter_list:\n",
    "        return np.nan\n",
    "    perimeters = pd.DataFrame(perimeter_list)\n",
    "    lengths = perimeters.apply(get_length)\n",
    "    lengths_sum = lengths.apply(sum)\n",
    "    if relation == RelationshipType.BORDERS:\n",
    "        total_length = (lengths_sum.perimeter_a + lengths_sum.perimeter_b)\n",
    "        reference_length = total_length / 2\n",
    "    elif relation == RelationshipType.BORDERS_INTERIOR:\n",
    "        reference_length = lengths_sum.perimeter_a\n",
    "    ratio = lengths_sum.overlapping_perimeter / reference_length\n",
    "    rounded_ratio = round(ratio, precision)\n",
    "    return rounded_ratio"
   ]
  },
  {
   "cell_type": "markdown",
   "metadata": {},
   "source": [
    "<link rel=\"stylesheet\" href=\"relations.css\">\n",
    "<table width=\"400px\">\n",
    "<tr class=\"l\"><th>Borders</th><th>Symmetric</th></tr>\n",
    "<td class=\"d\" colspan=\"2\">The exterior boundaries of \n",
    "<span class=\"a\">a</span> and <span class=\"b\">b</span> \n",
    "have more than one point in common, but their interiors do not intersect.\n",
    "</td></tr>\n",
    "<tr><td colspan=\"2\">\n",
    "<img src=\"Images/Relationships/borders.png\" alt=\"Borders\">\n",
    "<img src=\"Images/Relationships/Concave Borders.png\" alt=\"Concave Borders\">\n",
    "</tr></table>"
   ]
  },
  {
   "cell_type": "code",
   "execution_count": null,
   "metadata": {},
   "outputs": [],
   "source": [
    "def borders_example1():\n",
    "    box4_left = shapely.Polygon(box_points(4, offset_x=-2))\n",
    "    box4_right = shapely.Polygon(box_points(4, offset_x=2))\n",
    "\n",
    "    a = StructureSlice([box4_left])\n",
    "    b = StructureSlice([box4_right])\n",
    "    average_perimeter = 4 * 4\n",
    "    overlapping_perimeter = 4\n",
    "    ratio = overlapping_perimeter / average_perimeter\n",
    "    print(f'Expected Ratio: {ratio:3.2f}')\n",
    "    return a, b\n",
    "\n",
    "def borders_example2():\n",
    "    box6 = shapely.Polygon(box_points(6))\n",
    "    box5_up = shapely.Polygon(box_points(5, offset_y=3))\n",
    "    box6_cropped = shapely.difference(box6, box5_up)\n",
    "\n",
    "    box6_cropped_perimeter = 6 * 4 + (5/2) * 2\n",
    "    box5_up_perimeter = 5 * 4\n",
    "    average_perimeter = (box6_cropped_perimeter + box5_up_perimeter) / 2.0\n",
    "    overlapping_perimeter = 5 + (5/2) * 2\n",
    "    ratio = overlapping_perimeter / average_perimeter\n",
    "    print(f'Expected Ratio: {ratio:3.2f}')\n",
    "    a = StructureSlice([box6_cropped])\n",
    "    b = StructureSlice([box5_up])\n",
    "    return a, b"
   ]
  },
  {
   "cell_type": "code",
   "execution_count": null,
   "metadata": {},
   "outputs": [],
   "source": [
    "a, b = borders_example1()\n",
    "ax = plot_ab(a.contour, b.contour)\n",
    "relation_binary = relate(a,b)\n",
    "relation = identify_relation(relation_binary)\n",
    "print(length_ratio(a, b, relation, PRECISION))"
   ]
  },
  {
   "cell_type": "code",
   "execution_count": null,
   "metadata": {},
   "outputs": [],
   "source": [
    "a, b = borders_example2()\n",
    "ax = plot_ab(a.contour, b.contour)\n",
    "relation_binary = relate(a,b)\n",
    "relation = identify_relation(relation_binary)\n",
    "print(length_ratio(a, b, relation, PRECISION))"
   ]
  },
  {
   "cell_type": "markdown",
   "metadata": {},
   "source": [
    "<link rel=\"stylesheet\" href=\"relations.css\">\n",
    "<table width=\"300px\">\n",
    "<tr class=\"l\"><th>Borders_Interior</th><th>Symmetric</th></tr>\n",
    "<td class=\"d\" colspan=\"2\">The interior boundary of <span class=\"a\">a</span> \n",
    "and the exterior boundary of <span class=\"b\">b</span> \n",
    "have more than one point in common, but their interiors do not intersect.\n",
    "<tr><td colspan=\"2\">\n",
    "<img src=\"Images/Relationships/confines.png\" alt=\"Borders Interior\">\n",
    "<img src=\"Images/Relationships/confines with island.png\" alt=\"Borders Interior With Island\">\n",
    "</td></tr></table>"
   ]
  },
  {
   "cell_type": "code",
   "execution_count": null,
   "metadata": {},
   "outputs": [],
   "source": [
    "def interior_borders_example1():\n",
    "    circle6 = shapely.Polygon(circle_points(3))\n",
    "    circle4 = shapely.Polygon(circle_points(2))\n",
    "    box4_offset = shapely.Polygon(box_points(4, offset_x=2))\n",
    "    cropped_circle = shapely.difference(circle4, box4_offset)\n",
    "\n",
    "    hole_perimeter = 4 * pi\n",
    "    overlapping_perimeter = 4 * pi / 2\n",
    "    ratio = overlapping_perimeter / hole_perimeter\n",
    "    print(f'Expected Ratio: {ratio:3.2f}')\n",
    "\n",
    "    a = StructureSlice([circle6, circle4])\n",
    "    b = StructureSlice([cropped_circle])\n",
    "    return a, b\n",
    "\n",
    "def interior_borders_example2():\n",
    "    circle6 = shapely.Polygon(circle_points(3))\n",
    "    circle4 = shapely.Polygon(circle_points(2))\n",
    "    circle2 = shapely.Polygon(circle_points(1))\n",
    "\n",
    "    # b has internal borders with the ring portion of a, but has an external\n",
    "    # border with the island part of a. The internal borders relation wins,\n",
    "    # but the island perimeter is not considered in the ratio.\n",
    "    hole_perimeter = 4 * pi\n",
    "    overlapping_perimeter = 4 * pi\n",
    "    ratio = overlapping_perimeter / hole_perimeter\n",
    "    print(f'Expected Ratio: {ratio:3.2f}')\n",
    "\n",
    "    a = StructureSlice([circle6, circle4, circle2])\n",
    "    b = StructureSlice([circle4, circle2])\n",
    "    return a, b\n",
    "\n",
    "def interior_borders_example3():\n",
    "    # 6 cm x 6 cm box with 4cm x 4 cm hole\n",
    "    box6 = shapely.Polygon(box_points(6))\n",
    "    box4 = shapely.Polygon(box_points(4))\n",
    "    box2_offset = shapely.Polygon(box_points(2, offset_x=-1, offset_y=-1))\n",
    "\n",
    "    hole_perimeter = 4 * 4\n",
    "    overlapping_perimeter = 2 * 2\n",
    "    ratio = overlapping_perimeter / hole_perimeter\n",
    "    print(f'Expected Ratio: {ratio:3.2f}')\n",
    "\n",
    "    a = StructureSlice([box6, box4])\n",
    "    b = StructureSlice([box2_offset])\n",
    "    return a, b"
   ]
  },
  {
   "cell_type": "code",
   "execution_count": null,
   "metadata": {},
   "outputs": [],
   "source": [
    "a, b = interior_borders_example1()\n",
    "ax = plot_ab(a.contour, b.contour)\n",
    "relation_binary = relate(a,b)\n",
    "relation = identify_relation(relation_binary)\n",
    "print(length_ratio(a, b, relation, PRECISION))"
   ]
  },
  {
   "cell_type": "code",
   "execution_count": null,
   "metadata": {},
   "outputs": [],
   "source": [
    "a, b = interior_borders_example2()\n",
    "ax = plot_ab(a.contour, b.contour)\n",
    "relation_binary = relate(a,b)\n",
    "relation = identify_relation(relation_binary)\n",
    "print(length_ratio(a, b, relation, PRECISION))"
   ]
  },
  {
   "cell_type": "code",
   "execution_count": null,
   "metadata": {},
   "outputs": [],
   "source": [
    "a, b = interior_borders_example3()\n",
    "ax = plot_ab(a.contour, b.contour)\n",
    "relation_binary = relate(a,b)\n",
    "relation = identify_relation(relation_binary)\n",
    "print(length_ratio(a, b, relation, PRECISION))"
   ]
  }
 ],
 "metadata": {
  "kernelspec": {
   "display_name": "StructureRelations",
   "language": "python",
   "name": "python3"
  },
  "language_info": {
   "codemirror_mode": {
    "name": "ipython",
    "version": 3
   },
   "file_extension": ".py",
   "mimetype": "text/x-python",
   "name": "python",
   "nbconvert_exporter": "python",
   "pygments_lexer": "ipython3",
   "version": "3.11.9"
  }
 },
 "nbformat": 4,
 "nbformat_minor": 2
}
