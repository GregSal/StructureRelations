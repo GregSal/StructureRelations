{
 "cells": [
  {
   "cell_type": "markdown",
   "metadata": {},
   "source": [
    "# Temporary Notebook for developing new Data prep Process\n"
   ]
  },
  {
   "cell_type": "code",
   "execution_count": 7,
   "metadata": {},
   "outputs": [],
   "source": [
    "from collections import defaultdict\n",
    "\n",
    "import pandas as pd\n",
    "from shapely.geometry import Polygon\n"
   ]
  },
  {
   "cell_type": "code",
   "execution_count": 1,
   "metadata": {},
   "outputs": [],
   "source": [
    "# Local functions and classes\n",
    "from types_and_classes import *\n",
    "from utilities import *\n",
    "from contours import *\n",
    "from debug_tools import *\n",
    "#from structure_slice import *\n",
    "#from structure_set import *\n",
    "#from relations import *\n"
   ]
  },
  {
   "cell_type": "markdown",
   "metadata": {},
   "source": [
    "### Global Settings"
   ]
  },
  {
   "cell_type": "code",
   "execution_count": 2,
   "metadata": {},
   "outputs": [],
   "source": [
    "PRECISION = 2"
   ]
  },
  {
   "cell_type": "code",
   "execution_count": 3,
   "metadata": {},
   "outputs": [],
   "source": [
    "%matplotlib inline"
   ]
  },
  {
   "cell_type": "markdown",
   "metadata": {},
   "source": [
    "## Relationship Tests by Relationship Type"
   ]
  },
  {
   "cell_type": "markdown",
   "metadata": {},
   "source": [
    "### Color Coding\n",
    "<table style=\"border: 2px solid black; width=50px;\"><tr><td>\n",
    "<ul style=\"font-weight: 900; font-size: 20px;\">\n",
    "<li style=\"color: blue;\">region a</li>\n",
    "<li style=\"color: green;\">region b</li>\n",
    "<li style=\"color: orange;\">intersection of a & b</li></ul>\n",
    "</tr></td></>"
   ]
  },
  {
   "cell_type": "markdown",
   "metadata": {},
   "source": [
    "## Contains"
   ]
  },
  {
   "cell_type": "markdown",
   "metadata": {},
   "source": [
    "<link rel=\"stylesheet\" href=\"relations.css\">\n",
    "<table width=\"350px\">\n",
    "<tr class=\"l\"><th>Contains</th><th>Transitive</th></tr>\n",
    "<td class=\"d\" colspan=\"2\">\n",
    "All points of <span class=\"b\">b</span> lie in the interior of <span class=\"a\">a</span>, no points of <span class=\"b\">b</span> lie in the exterior of <span class=\"a\">a</span>, some points in <span class=\"a\">a</span> are exterior to <span class=\"b\">b</span>, and the boundaries of <span class=\"a\">a</span> and <span class=\"b\">b</span> do not intersect.\n",
    "</td></tr>\n",
    "<tr><td colspan=\"2\">\n",
    "<img src=\"Images/Relationships/contains simple.png\" alt=\"Contains\">\n",
    "<img src=\"Images/Relationships/contains with hole.png\" alt=\"Contains With Hole\">\n",
    "</td></tr>\n",
    "</table></td></tr></table>"
   ]
  },
  {
   "cell_type": "markdown",
   "metadata": {},
   "source": [
    "### Contains"
   ]
  },
  {
   "cell_type": "markdown",
   "metadata": {},
   "source": [
    "#### Embedded Spheres\n",
    "![Embedded Spheres](<Images/FreeCAD Images/Embedded Spheres.png>)"
   ]
  },
  {
   "cell_type": "code",
   "execution_count": 4,
   "metadata": {},
   "outputs": [],
   "source": [
    "slice_spacing = 0.5\n",
    "# Body structure defines slices in use\n",
    "sphere6 = make_sphere(roi_num=1, radius=3, spacing=slice_spacing)\n",
    "sphere3 = make_sphere(roi_num=2, radius=1.5, spacing=slice_spacing)\n",
    "# combine the contours\n",
    "slice_data = sphere6 + sphere3\n"
   ]
  },
  {
   "cell_type": "code",
   "execution_count": 5,
   "metadata": {},
   "outputs": [],
   "source": [
    "slice_spacing = 0.5\n",
    "body = make_sphere(roi_num=0, radius=3, spacing=slice_spacing)\n",
    "left_sphere = make_sphere(roi_num=1, radius=2, offset_x=-2.5, offset_z=0,\n",
    "                          spacing=slice_spacing)\n",
    "right_sphere = make_sphere(roi_num=1, radius=2, offset_x=2.5, offset_z=0,\n",
    "                           spacing=slice_spacing)\n",
    "right_middle_sphere = make_sphere(roi_num=2, radius=1, offset_x=2.5, offset_z=0,\n",
    "                                  spacing=slice_spacing)\n",
    "# combine the contours\n",
    "slice_data = left_sphere + right_sphere + right_middle_sphere + body\n"
   ]
  },
  {
   "cell_type": "code",
   "execution_count": 6,
   "metadata": {},
   "outputs": [],
   "source": [
    "slice_spacing = 1\n",
    "# Body structure defines slices in use\n",
    "body = make_vertical_cylinder(roi_num=0, radius=16, length=20, offset_z=0,\n",
    "                                spacing=slice_spacing)\n",
    "sphere12 = make_sphere(roi_num=1, radius=6, spacing=slice_spacing)\n",
    "hole10 = make_sphere(roi_num=1, radius=5, spacing=slice_spacing)\n",
    "sphere6 = make_sphere(roi_num=2, radius=3, spacing=slice_spacing)\n",
    "\n",
    "# combine the contours\n",
    "slice_data = body + sphere12 + hole10 + sphere6\n"
   ]
  },
  {
   "cell_type": "markdown",
   "metadata": {},
   "source": [
    "### Convert contour points to polygons and sort them by area\n"
   ]
  },
  {
   "cell_type": "code",
   "execution_count": 8,
   "metadata": {},
   "outputs": [],
   "source": [
    "contour_table, slice_sequence = build_contour_table(slice_data)"
   ]
  },
  {
   "cell_type": "code",
   "execution_count": 9,
   "metadata": {},
   "outputs": [],
   "source": [
    "roi = 1"
   ]
  },
  {
   "cell_type": "markdown",
   "metadata": {},
   "source": [
    "### Create identify contours that are holes and build a graph of the contours"
   ]
  },
  {
   "cell_type": "code",
   "execution_count": 10,
   "metadata": {},
   "outputs": [],
   "source": [
    "contour_graph, contour_lookup = build_contour_graph(contour_table, slice_sequence, roi)"
   ]
  },
  {
   "cell_type": "markdown",
   "metadata": {},
   "source": [
    "#### Create an graph of the contours for the ROI"
   ]
  },
  {
   "cell_type": "markdown",
   "metadata": {},
   "source": [
    "**Find Contour Neighbours**\n",
    "\n",
    "- For each Node in the ROI-specific Contour Graph, *starting with the first SliceIndex*:\n",
    "\n",
    "1. Use the SliceSequence to obtain the Next SliceIndex.\n",
    "2. Find all Contour nodes of the same hole type *(IsHole True or IsHole False)* with that Next SliceIndex.\n",
    "3. If the Hulls of the two polygons overlap:\n",
    "    > 1. Create an edge between the two Contour nodes\n",
    "    > 2. Set a contourMatch attribute to the edge with the two Contour nodes as values.\n",
    "    > 3. Set the Thickness of the edge to the difference between the two SliceIndexes.\n",
    "\n",
    "4. For each Node in the ROI-specific ContourGraph calculate a Thickness from its edges."
   ]
  },
  {
   "cell_type": "markdown",
   "metadata": {},
   "source": [
    "**Contour Boundaries**\n",
    "1. Select all Contour nodes in the ContourGraph with only one edge (degree=1)\n",
    "2. For each of these nodes:\n",
    "    1. Generate an interpolated boundary Contour \n",
    "        > - The contour is located half way between the boundary contour slice \n",
    "            and the neighbour slice that is not linked with an edge.\n",
    "        > - set IsInterpolated to True\n",
    "        > - set IsBoundary is True\n",
    "        > - set IsHole matches the IsHole value of the non-interpolated Contour \n",
    "    1. Add the interpolated SliceIndex to SliceSequence:\n",
    "        > - set 'Original' = False\n",
    "        > - If the boundary contour SliceIndex  < the interpolated SliceIndex \n",
    "            >> - set 'PreviousSlice' = boundary contour SliceIndex, \n",
    "            >> - set NextSlice'= None\n",
    "        > - Else:\n",
    "            >> - set 'NextSlice'= boundary contour SliceIndex, \n",
    "            >> - set 'PreviousSlice '= None\n",
    "    1. Add the interpolated contour to the contour graph .\n",
    "    1. Add a ContourMatch edge between the original boundary contour and the interpolated contour."
   ]
  },
  {
   "cell_type": "code",
   "execution_count": 11,
   "metadata": {},
   "outputs": [
    {
     "data": {
      "image/png": "[encoded data removed]",
      "text/plain": [
       "<Figure size 640x480 with 1 Axes>"
      ]
     },
     "metadata": {},
     "output_type": "display_data"
    }
   ],
   "source": [
    "nx.draw(contour_graph, with_labels=True)"
   ]
  },
  {
   "cell_type": "markdown",
   "metadata": {},
   "source": [
    "**EnclosedRegionGraph**\n",
    "- SubGraph of ContourGraph\n",
    "- Identified as all nodes in ContourGraph that have a path between them\n",
    "- Has a unique RegionIndex\n"
   ]
  },
  {
   "cell_type": "markdown",
   "metadata": {},
   "source": [
    "**EnclosedRegions**\n",
    "1. Create an EnclosedRegion SubGraph for each collection of nodes in the ContourGraph that are connected by a path.\n",
    "2. For each EnclosedRegion:\n",
    "    1. Create a new EnclosedRegionLabel.\n",
    "    2. For each Contour node in the EnclosedRegion.\n",
    "        1. Set Contour.RegionIndex to the EnclosedRegionLabel.\n",
    "        2. Increment and Identify and label continuous contour regions.\n",
    "        \n",
    "**Note:** *Changes to the Contour nodes must reflect in the nodes of the ContourGraph*\n"
   ]
  },
  {
   "cell_type": "markdown",
   "metadata": {},
   "source": [
    "**Open (External) Holes**\n",
    "1. For each EnclosedRegion that is a hole:\n",
    "    1. Select its boundary contours.\n",
    "    2. Check whether there is a non-hole contour on the next slice that completely contains the hole boundary.\n",
    "    3. If any hole boundary does not have a non-hole contour on the next slice that completely contains that hole boundary, then the hole is ***Open*** (external).\n",
    "    4. If all hole boundaries have a non-hole contour on the next slice that completely contains that hole boundary, then the hole is ***Closed*** (internal).\n",
    "\n"
   ]
  },
  {
   "cell_type": "code",
   "execution_count": 15,
   "metadata": {},
   "outputs": [
    {
     "name": "stdout",
     "output_type": "stream",
     "text": [
      "Number of enclosed regions: 2\n",
      "Region 1A contains 15 contours.\n",
      "Region 1B contains 13 contours.\n"
     ]
    }
   ],
   "source": [
    "# Build EnclosedRegion SubGraphs and assign RegionIndex\n",
    "enclosed_regions = build_enclosed_regions(contour_graph)\n",
    "contour_lookup = build_contour_lookup(contour_graph)\n",
    "print(f\"Number of enclosed regions: {len(enclosed_regions)}\")\n",
    "for idx, region in enclosed_regions.items():\n",
    "    print(f\"Region {idx} contains {len(region.nodes)} contours.\")"
   ]
  },
  {
   "cell_type": "code",
   "execution_count": 16,
   "metadata": {},
   "outputs": [
    {
     "data": {
      "application/vnd.microsoft.datawrangler.viewer.v0+json": {
       "columns": [
        {
         "name": "index",
         "rawType": "int64",
         "type": "integer"
        },
        {
         "name": "ROI",
         "rawType": "int64",
         "type": "integer"
        },
        {
         "name": "SliceIndex",
         "rawType": "float64",
         "type": "float"
        },
        {
         "name": "HoleType",
         "rawType": "category",
         "type": "unknown"
        },
        {
         "name": "Interpolated",
         "rawType": "bool",
         "type": "boolean"
        },
        {
         "name": "Boundary",
         "rawType": "bool",
         "type": "boolean"
        },
        {
         "name": "ContourIndex",
         "rawType": "int64",
         "type": "integer"
        },
        {
         "name": "RegionIndex",
         "rawType": "object",
         "type": "string"
        },
        {
         "name": "Label",
         "rawType": "object",
         "type": "unknown"
        }
       ],
       "conversionMethod": "pd.DataFrame",
       "ref": "15df2d3f-881d-4b14-a496-9f4bbd0df46b",
       "rows": [
        [
         "24",
         "1",
         "-6.5",
         "None",
         "True",
         "True",
         "24",
         "1A",
         "(1, -6.5, 24)"
        ],
        [
         "0",
         "1",
         "-6.0",
         "None",
         "False",
         "False",
         "0",
         "1A",
         "(1, -6.0, 0)"
        ],
        [
         "25",
         "1",
         "-5.5",
         "None",
         "True",
         "True",
         "25",
         "1B",
         "(1, -5.5, 25)"
        ],
        [
         "1",
         "1",
         "-5.0",
         "None",
         "False",
         "False",
         "1",
         "1A",
         "(1, -5.0, 1)"
        ],
        [
         "2",
         "1",
         "-5.0",
         "Unknown",
         "False",
         "False",
         "2",
         "1B",
         "(1, -5.0, 2)"
        ],
        [
         "3",
         "1",
         "-4.0",
         "None",
         "False",
         "False",
         "3",
         "1A",
         "(1, -4.0, 3)"
        ],
        [
         "4",
         "1",
         "-4.0",
         "Unknown",
         "False",
         "False",
         "4",
         "1B",
         "(1, -4.0, 4)"
        ],
        [
         "5",
         "1",
         "-3.0",
         "None",
         "False",
         "False",
         "5",
         "1A",
         "(1, -3.0, 5)"
        ],
        [
         "6",
         "1",
         "-3.0",
         "Unknown",
         "False",
         "False",
         "6",
         "1B",
         "(1, -3.0, 6)"
        ],
        [
         "7",
         "1",
         "-2.0",
         "None",
         "False",
         "False",
         "7",
         "1A",
         "(1, -2.0, 7)"
        ],
        [
         "8",
         "1",
         "-2.0",
         "Unknown",
         "False",
         "False",
         "8",
         "1B",
         "(1, -2.0, 8)"
        ],
        [
         "9",
         "1",
         "-1.0",
         "None",
         "False",
         "False",
         "9",
         "1A",
         "(1, -1.0, 9)"
        ],
        [
         "10",
         "1",
         "-1.0",
         "Unknown",
         "False",
         "False",
         "10",
         "1B",
         "(1, -1.0, 10)"
        ],
        [
         "11",
         "1",
         "0.0",
         "None",
         "False",
         "False",
         "11",
         "1A",
         "(1, 0.0, 11)"
        ],
        [
         "12",
         "1",
         "0.0",
         "Unknown",
         "False",
         "False",
         "12",
         "1B",
         "(1, 0.0, 12)"
        ],
        [
         "13",
         "1",
         "1.0",
         "None",
         "False",
         "False",
         "13",
         "1A",
         "(1, 1.0, 13)"
        ],
        [
         "14",
         "1",
         "1.0",
         "Unknown",
         "False",
         "False",
         "14",
         "1B",
         "(1, 1.0, 14)"
        ],
        [
         "15",
         "1",
         "2.0",
         "None",
         "False",
         "False",
         "15",
         "1A",
         "(1, 2.0, 15)"
        ],
        [
         "16",
         "1",
         "2.0",
         "Unknown",
         "False",
         "False",
         "16",
         "1B",
         "(1, 2.0, 16)"
        ],
        [
         "17",
         "1",
         "3.0",
         "None",
         "False",
         "False",
         "17",
         "1A",
         "(1, 3.0, 17)"
        ],
        [
         "18",
         "1",
         "3.0",
         "Unknown",
         "False",
         "False",
         "18",
         "1B",
         "(1, 3.0, 18)"
        ],
        [
         "19",
         "1",
         "4.0",
         "None",
         "False",
         "False",
         "19",
         "1A",
         "(1, 4.0, 19)"
        ],
        [
         "20",
         "1",
         "4.0",
         "Unknown",
         "False",
         "False",
         "20",
         "1B",
         "(1, 4.0, 20)"
        ],
        [
         "21",
         "1",
         "5.0",
         "None",
         "False",
         "False",
         "21",
         "1A",
         "(1, 5.0, 21)"
        ],
        [
         "22",
         "1",
         "5.0",
         "Unknown",
         "False",
         "False",
         "22",
         "1B",
         "(1, 5.0, 22)"
        ],
        [
         "26",
         "1",
         "5.5",
         "None",
         "True",
         "True",
         "26",
         "1B",
         "(1, 5.5, 26)"
        ],
        [
         "23",
         "1",
         "6.0",
         "None",
         "False",
         "False",
         "23",
         "1A",
         "(1, 6.0, 23)"
        ],
        [
         "27",
         "1",
         "6.5",
         "None",
         "True",
         "True",
         "27",
         "1A",
         "(1, 6.5, 27)"
        ]
       ],
       "shape": {
        "columns": 8,
        "rows": 28
       }
      },
      "text/html": [
       "<div>\n",
       "<style scoped>\n",
       "    .dataframe tbody tr th:only-of-type {\n",
       "        vertical-align: middle;\n",
       "    }\n",
       "\n",
       "    .dataframe tbody tr th {\n",
       "        vertical-align: top;\n",
       "    }\n",
       "\n",
       "    .dataframe thead th {\n",
       "        text-align: right;\n",
       "    }\n",
       "</style>\n",
       "<table border=\"1\" class=\"dataframe\">\n",
       "  <thead>\n",
       "    <tr style=\"text-align: right;\">\n",
       "      <th></th>\n",
       "      <th>ROI</th>\n",
       "      <th>SliceIndex</th>\n",
       "      <th>HoleType</th>\n",
       "      <th>Interpolated</th>\n",
       "      <th>Boundary</th>\n",
       "      <th>ContourIndex</th>\n",
       "      <th>RegionIndex</th>\n",
       "      <th>Label</th>\n",
       "    </tr>\n",
       "  </thead>\n",
       "  <tbody>\n",
       "    <tr>\n",
       "      <th>24</th>\n",
       "      <td>1</td>\n",
       "      <td>-6.5</td>\n",
       "      <td>None</td>\n",
       "      <td>True</td>\n",
       "      <td>True</td>\n",
       "      <td>24</td>\n",
       "      <td>1A</td>\n",
       "      <td>(1, -6.5, 24)</td>\n",
       "    </tr>\n",
       "    <tr>\n",
       "      <th>0</th>\n",
       "      <td>1</td>\n",
       "      <td>-6.0</td>\n",
       "      <td>None</td>\n",
       "      <td>False</td>\n",
       "      <td>False</td>\n",
       "      <td>0</td>\n",
       "      <td>1A</td>\n",
       "      <td>(1, -6.0, 0)</td>\n",
       "    </tr>\n",
       "    <tr>\n",
       "      <th>25</th>\n",
       "      <td>1</td>\n",
       "      <td>-5.5</td>\n",
       "      <td>None</td>\n",
       "      <td>True</td>\n",
       "      <td>True</td>\n",
       "      <td>25</td>\n",
       "      <td>1B</td>\n",
       "      <td>(1, -5.5, 25)</td>\n",
       "    </tr>\n",
       "    <tr>\n",
       "      <th>1</th>\n",
       "      <td>1</td>\n",
       "      <td>-5.0</td>\n",
       "      <td>None</td>\n",
       "      <td>False</td>\n",
       "      <td>False</td>\n",
       "      <td>1</td>\n",
       "      <td>1A</td>\n",
       "      <td>(1, -5.0, 1)</td>\n",
       "    </tr>\n",
       "    <tr>\n",
       "      <th>2</th>\n",
       "      <td>1</td>\n",
       "      <td>-5.0</td>\n",
       "      <td>Unknown</td>\n",
       "      <td>False</td>\n",
       "      <td>False</td>\n",
       "      <td>2</td>\n",
       "      <td>1B</td>\n",
       "      <td>(1, -5.0, 2)</td>\n",
       "    </tr>\n",
       "    <tr>\n",
       "      <th>3</th>\n",
       "      <td>1</td>\n",
       "      <td>-4.0</td>\n",
       "      <td>None</td>\n",
       "      <td>False</td>\n",
       "      <td>False</td>\n",
       "      <td>3</td>\n",
       "      <td>1A</td>\n",
       "      <td>(1, -4.0, 3)</td>\n",
       "    </tr>\n",
       "    <tr>\n",
       "      <th>4</th>\n",
       "      <td>1</td>\n",
       "      <td>-4.0</td>\n",
       "      <td>Unknown</td>\n",
       "      <td>False</td>\n",
       "      <td>False</td>\n",
       "      <td>4</td>\n",
       "      <td>1B</td>\n",
       "      <td>(1, -4.0, 4)</td>\n",
       "    </tr>\n",
       "    <tr>\n",
       "      <th>5</th>\n",
       "      <td>1</td>\n",
       "      <td>-3.0</td>\n",
       "      <td>None</td>\n",
       "      <td>False</td>\n",
       "      <td>False</td>\n",
       "      <td>5</td>\n",
       "      <td>1A</td>\n",
       "      <td>(1, -3.0, 5)</td>\n",
       "    </tr>\n",
       "    <tr>\n",
       "      <th>6</th>\n",
       "      <td>1</td>\n",
       "      <td>-3.0</td>\n",
       "      <td>Unknown</td>\n",
       "      <td>False</td>\n",
       "      <td>False</td>\n",
       "      <td>6</td>\n",
       "      <td>1B</td>\n",
       "      <td>(1, -3.0, 6)</td>\n",
       "    </tr>\n",
       "    <tr>\n",
       "      <th>7</th>\n",
       "      <td>1</td>\n",
       "      <td>-2.0</td>\n",
       "      <td>None</td>\n",
       "      <td>False</td>\n",
       "      <td>False</td>\n",
       "      <td>7</td>\n",
       "      <td>1A</td>\n",
       "      <td>(1, -2.0, 7)</td>\n",
       "    </tr>\n",
       "    <tr>\n",
       "      <th>8</th>\n",
       "      <td>1</td>\n",
       "      <td>-2.0</td>\n",
       "      <td>Unknown</td>\n",
       "      <td>False</td>\n",
       "      <td>False</td>\n",
       "      <td>8</td>\n",
       "      <td>1B</td>\n",
       "      <td>(1, -2.0, 8)</td>\n",
       "    </tr>\n",
       "    <tr>\n",
       "      <th>9</th>\n",
       "      <td>1</td>\n",
       "      <td>-1.0</td>\n",
       "      <td>None</td>\n",
       "      <td>False</td>\n",
       "      <td>False</td>\n",
       "      <td>9</td>\n",
       "      <td>1A</td>\n",
       "      <td>(1, -1.0, 9)</td>\n",
       "    </tr>\n",
       "    <tr>\n",
       "      <th>10</th>\n",
       "      <td>1</td>\n",
       "      <td>-1.0</td>\n",
       "      <td>Unknown</td>\n",
       "      <td>False</td>\n",
       "      <td>False</td>\n",
       "      <td>10</td>\n",
       "      <td>1B</td>\n",
       "      <td>(1, -1.0, 10)</td>\n",
       "    </tr>\n",
       "    <tr>\n",
       "      <th>11</th>\n",
       "      <td>1</td>\n",
       "      <td>0.0</td>\n",
       "      <td>None</td>\n",
       "      <td>False</td>\n",
       "      <td>False</td>\n",
       "      <td>11</td>\n",
       "      <td>1A</td>\n",
       "      <td>(1, 0.0, 11)</td>\n",
       "    </tr>\n",
       "    <tr>\n",
       "      <th>12</th>\n",
       "      <td>1</td>\n",
       "      <td>0.0</td>\n",
       "      <td>Unknown</td>\n",
       "      <td>False</td>\n",
       "      <td>False</td>\n",
       "      <td>12</td>\n",
       "      <td>1B</td>\n",
       "      <td>(1, 0.0, 12)</td>\n",
       "    </tr>\n",
       "    <tr>\n",
       "      <th>13</th>\n",
       "      <td>1</td>\n",
       "      <td>1.0</td>\n",
       "      <td>None</td>\n",
       "      <td>False</td>\n",
       "      <td>False</td>\n",
       "      <td>13</td>\n",
       "      <td>1A</td>\n",
       "      <td>(1, 1.0, 13)</td>\n",
       "    </tr>\n",
       "    <tr>\n",
       "      <th>14</th>\n",
       "      <td>1</td>\n",
       "      <td>1.0</td>\n",
       "      <td>Unknown</td>\n",
       "      <td>False</td>\n",
       "      <td>False</td>\n",
       "      <td>14</td>\n",
       "      <td>1B</td>\n",
       "      <td>(1, 1.0, 14)</td>\n",
       "    </tr>\n",
       "    <tr>\n",
       "      <th>15</th>\n",
       "      <td>1</td>\n",
       "      <td>2.0</td>\n",
       "      <td>None</td>\n",
       "      <td>False</td>\n",
       "      <td>False</td>\n",
       "      <td>15</td>\n",
       "      <td>1A</td>\n",
       "      <td>(1, 2.0, 15)</td>\n",
       "    </tr>\n",
       "    <tr>\n",
       "      <th>16</th>\n",
       "      <td>1</td>\n",
       "      <td>2.0</td>\n",
       "      <td>Unknown</td>\n",
       "      <td>False</td>\n",
       "      <td>False</td>\n",
       "      <td>16</td>\n",
       "      <td>1B</td>\n",
       "      <td>(1, 2.0, 16)</td>\n",
       "    </tr>\n",
       "    <tr>\n",
       "      <th>17</th>\n",
       "      <td>1</td>\n",
       "      <td>3.0</td>\n",
       "      <td>None</td>\n",
       "      <td>False</td>\n",
       "      <td>False</td>\n",
       "      <td>17</td>\n",
       "      <td>1A</td>\n",
       "      <td>(1, 3.0, 17)</td>\n",
       "    </tr>\n",
       "    <tr>\n",
       "      <th>18</th>\n",
       "      <td>1</td>\n",
       "      <td>3.0</td>\n",
       "      <td>Unknown</td>\n",
       "      <td>False</td>\n",
       "      <td>False</td>\n",
       "      <td>18</td>\n",
       "      <td>1B</td>\n",
       "      <td>(1, 3.0, 18)</td>\n",
       "    </tr>\n",
       "    <tr>\n",
       "      <th>19</th>\n",
       "      <td>1</td>\n",
       "      <td>4.0</td>\n",
       "      <td>None</td>\n",
       "      <td>False</td>\n",
       "      <td>False</td>\n",
       "      <td>19</td>\n",
       "      <td>1A</td>\n",
       "      <td>(1, 4.0, 19)</td>\n",
       "    </tr>\n",
       "    <tr>\n",
       "      <th>20</th>\n",
       "      <td>1</td>\n",
       "      <td>4.0</td>\n",
       "      <td>Unknown</td>\n",
       "      <td>False</td>\n",
       "      <td>False</td>\n",
       "      <td>20</td>\n",
       "      <td>1B</td>\n",
       "      <td>(1, 4.0, 20)</td>\n",
       "    </tr>\n",
       "    <tr>\n",
       "      <th>21</th>\n",
       "      <td>1</td>\n",
       "      <td>5.0</td>\n",
       "      <td>None</td>\n",
       "      <td>False</td>\n",
       "      <td>False</td>\n",
       "      <td>21</td>\n",
       "      <td>1A</td>\n",
       "      <td>(1, 5.0, 21)</td>\n",
       "    </tr>\n",
       "    <tr>\n",
       "      <th>22</th>\n",
       "      <td>1</td>\n",
       "      <td>5.0</td>\n",
       "      <td>Unknown</td>\n",
       "      <td>False</td>\n",
       "      <td>False</td>\n",
       "      <td>22</td>\n",
       "      <td>1B</td>\n",
       "      <td>(1, 5.0, 22)</td>\n",
       "    </tr>\n",
       "    <tr>\n",
       "      <th>26</th>\n",
       "      <td>1</td>\n",
       "      <td>5.5</td>\n",
       "      <td>None</td>\n",
       "      <td>True</td>\n",
       "      <td>True</td>\n",
       "      <td>26</td>\n",
       "      <td>1B</td>\n",
       "      <td>(1, 5.5, 26)</td>\n",
       "    </tr>\n",
       "    <tr>\n",
       "      <th>23</th>\n",
       "      <td>1</td>\n",
       "      <td>6.0</td>\n",
       "      <td>None</td>\n",
       "      <td>False</td>\n",
       "      <td>False</td>\n",
       "      <td>23</td>\n",
       "      <td>1A</td>\n",
       "      <td>(1, 6.0, 23)</td>\n",
       "    </tr>\n",
       "    <tr>\n",
       "      <th>27</th>\n",
       "      <td>1</td>\n",
       "      <td>6.5</td>\n",
       "      <td>None</td>\n",
       "      <td>True</td>\n",
       "      <td>True</td>\n",
       "      <td>27</td>\n",
       "      <td>1A</td>\n",
       "      <td>(1, 6.5, 27)</td>\n",
       "    </tr>\n",
       "  </tbody>\n",
       "</table>\n",
       "</div>"
      ],
      "text/plain": [
       "    ROI  SliceIndex HoleType  Interpolated  Boundary  ContourIndex  \\\n",
       "24    1        -6.5     None          True      True            24   \n",
       "0     1        -6.0     None         False     False             0   \n",
       "25    1        -5.5     None          True      True            25   \n",
       "1     1        -5.0     None         False     False             1   \n",
       "2     1        -5.0  Unknown         False     False             2   \n",
       "3     1        -4.0     None         False     False             3   \n",
       "4     1        -4.0  Unknown         False     False             4   \n",
       "5     1        -3.0     None         False     False             5   \n",
       "6     1        -3.0  Unknown         False     False             6   \n",
       "7     1        -2.0     None         False     False             7   \n",
       "8     1        -2.0  Unknown         False     False             8   \n",
       "9     1        -1.0     None         False     False             9   \n",
       "10    1        -1.0  Unknown         False     False            10   \n",
       "11    1         0.0     None         False     False            11   \n",
       "12    1         0.0  Unknown         False     False            12   \n",
       "13    1         1.0     None         False     False            13   \n",
       "14    1         1.0  Unknown         False     False            14   \n",
       "15    1         2.0     None         False     False            15   \n",
       "16    1         2.0  Unknown         False     False            16   \n",
       "17    1         3.0     None         False     False            17   \n",
       "18    1         3.0  Unknown         False     False            18   \n",
       "19    1         4.0     None         False     False            19   \n",
       "20    1         4.0  Unknown         False     False            20   \n",
       "21    1         5.0     None         False     False            21   \n",
       "22    1         5.0  Unknown         False     False            22   \n",
       "26    1         5.5     None          True      True            26   \n",
       "23    1         6.0     None         False     False            23   \n",
       "27    1         6.5     None          True      True            27   \n",
       "\n",
       "   RegionIndex          Label  \n",
       "24          1A  (1, -6.5, 24)  \n",
       "0           1A   (1, -6.0, 0)  \n",
       "25          1B  (1, -5.5, 25)  \n",
       "1           1A   (1, -5.0, 1)  \n",
       "2           1B   (1, -5.0, 2)  \n",
       "3           1A   (1, -4.0, 3)  \n",
       "4           1B   (1, -4.0, 4)  \n",
       "5           1A   (1, -3.0, 5)  \n",
       "6           1B   (1, -3.0, 6)  \n",
       "7           1A   (1, -2.0, 7)  \n",
       "8           1B   (1, -2.0, 8)  \n",
       "9           1A   (1, -1.0, 9)  \n",
       "10          1B  (1, -1.0, 10)  \n",
       "11          1A   (1, 0.0, 11)  \n",
       "12          1B   (1, 0.0, 12)  \n",
       "13          1A   (1, 1.0, 13)  \n",
       "14          1B   (1, 1.0, 14)  \n",
       "15          1A   (1, 2.0, 15)  \n",
       "16          1B   (1, 2.0, 16)  \n",
       "17          1A   (1, 3.0, 17)  \n",
       "18          1B   (1, 3.0, 18)  \n",
       "19          1A   (1, 4.0, 19)  \n",
       "20          1B   (1, 4.0, 20)  \n",
       "21          1A   (1, 5.0, 21)  \n",
       "22          1B   (1, 5.0, 22)  \n",
       "26          1B   (1, 5.5, 26)  \n",
       "23          1A   (1, 6.0, 23)  \n",
       "27          1A   (1, 6.5, 27)  "
      ]
     },
     "execution_count": 16,
     "metadata": {},
     "output_type": "execute_result"
    }
   ],
   "source": [
    "contour_lookup\n"
   ]
  }
 ],
 "metadata": {
  "kernelspec": {
   "display_name": "StructureRelations",
   "language": "python",
   "name": "python3"
  },
  "language_info": {
   "codemirror_mode": {
    "name": "ipython",
    "version": 3
   },
   "file_extension": ".py",
   "mimetype": "text/x-python",
   "name": "python",
   "nbconvert_exporter": "python",
   "pygments_lexer": "ipython3",
   "version": "3.11.9"
  }
 },
 "nbformat": 4,
 "nbformat_minor": 4
}
