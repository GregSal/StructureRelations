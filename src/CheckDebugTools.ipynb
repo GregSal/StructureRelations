{
 "cells": [
  {
   "cell_type": "markdown",
   "metadata": {},
   "source": [
    "# Temporary Notebook for developing new Data prep Process\n"
   ]
  },
  {
   "cell_type": "code",
   "execution_count": 1,
   "metadata": {},
   "outputs": [],
   "source": [
    "from collections import defaultdict\n",
    "\n",
    "import pandas as pd\n"
   ]
  },
  {
   "cell_type": "code",
   "execution_count": 2,
   "metadata": {},
   "outputs": [],
   "source": [
    "# Local functions and classes\n",
    "from types_and_classes import *\n",
    "from utilities import *\n",
    "from utilities import points_to_polygon\n",
    "#from debug_tools import *\n",
    "from debug_tools import make_sphere\n",
    "#from structure_slice import *\n",
    "#from structure_set import *\n",
    "#from relations import *\n",
    "from shapely.geometry import Polygon\n",
    "from types_and_classes import Contour"
   ]
  },
  {
   "cell_type": "markdown",
   "metadata": {},
   "source": [
    "### Global Settings"
   ]
  },
  {
   "cell_type": "code",
   "execution_count": 3,
   "metadata": {},
   "outputs": [],
   "source": [
    "PRECISION = 2"
   ]
  },
  {
   "cell_type": "code",
   "execution_count": 4,
   "metadata": {},
   "outputs": [],
   "source": [
    "%matplotlib inline"
   ]
  },
  {
   "cell_type": "markdown",
   "metadata": {},
   "source": [
    "## Relationship Tests by Relationship Type"
   ]
  },
  {
   "cell_type": "markdown",
   "metadata": {},
   "source": [
    "### Color Coding\n",
    "<table style=\"border: 2px solid black; width=50px;\"><tr><td>\n",
    "<ul style=\"font-weight: 900; font-size: 20px;\">\n",
    "<li style=\"color: blue;\">region a</li>\n",
    "<li style=\"color: green;\">region b</li>\n",
    "<li style=\"color: orange;\">intersection of a & b</li></ul>\n",
    "</tr></td></>"
   ]
  },
  {
   "cell_type": "markdown",
   "metadata": {},
   "source": [
    "## Contains"
   ]
  },
  {
   "cell_type": "markdown",
   "metadata": {},
   "source": [
    "<link rel=\"stylesheet\" href=\"relations.css\">\n",
    "<table width=\"350px\">\n",
    "<tr class=\"l\"><th>Contains</th><th>Transitive</th></tr>\n",
    "<td class=\"d\" colspan=\"2\">\n",
    "All points of <span class=\"b\">b</span> lie in the interior of <span class=\"a\">a</span>, no points of <span class=\"b\">b</span> lie in the exterior of <span class=\"a\">a</span>, some points in <span class=\"a\">a</span> are exterior to <span class=\"b\">b</span>, and the boundaries of <span class=\"a\">a</span> and <span class=\"b\">b</span> do not intersect.\n",
    "</td></tr>\n",
    "<tr><td colspan=\"2\">\n",
    "<img src=\"Images/Relationships/contains simple.png\" alt=\"Contains\">\n",
    "<img src=\"Images/Relationships/contains with hole.png\" alt=\"Contains With Hole\">\n",
    "</td></tr>\n",
    "</table></td></tr></table>"
   ]
  },
  {
   "cell_type": "markdown",
   "metadata": {},
   "source": [
    "### Contains"
   ]
  },
  {
   "cell_type": "markdown",
   "metadata": {},
   "source": [
    "#### Embedded Spheres\n",
    "![Embedded Spheres](<Images/FreeCAD Images/Embedded Spheres.png>)"
   ]
  },
  {
   "cell_type": "code",
   "execution_count": 5,
   "metadata": {},
   "outputs": [],
   "source": [
    "slice_spacing = 0.5\n",
    "# Body structure defines slices in use\n",
    "sphere6 = make_sphere(roi_num=1, radius=3, spacing=slice_spacing)\n",
    "sphere3 = make_sphere(roi_num=2, radius=1.5, spacing=slice_spacing)\n",
    "# combine the contours\n",
    "slice_data = sphere6 + sphere3\n"
   ]
  },
  {
   "cell_type": "code",
   "execution_count": 23,
   "metadata": {},
   "outputs": [],
   "source": [
    "slice_spacing = 0.5\n",
    "left_sphere = make_sphere(roi_num=1, radius=2, offset_x=-2.5, offset_z=0,\n",
    "                          spacing=slice_spacing)\n",
    "right_sphere = make_sphere(roi_num=1, radius=2, offset_x=2.5, offset_z=0,\n",
    "                           spacing=slice_spacing)\n",
    "right_middle_sphere = make_sphere(roi_num=2, radius=1, offset_x=2.5, offset_z=0,\n",
    "                                  spacing=slice_spacing)\n",
    "# combine the contours\n",
    "slice_data = left_sphere + right_sphere + right_middle_sphere\n"
   ]
  },
  {
   "cell_type": "markdown",
   "metadata": {},
   "source": [
    "### Convert contour points to polygons and sort them by area\n"
   ]
  },
  {
   "cell_type": "code",
   "execution_count": 24,
   "metadata": {},
   "outputs": [],
   "source": [
    "contours = pd.DataFrame(slice_data)\n",
    "# Convert the contours points to polygons and calculate their areas\n",
    "contours['Polygon'] = contours['Points'].apply(points_to_polygon)\n",
    "contours['Area'] = contours['Polygon'].apply(lambda poly: poly.area)\n",
    "# Sort the contours by ROI, Slice and decreasing Area\n",
    "# Decreasing area is important because that an earlier contour cannot be inside\n",
    "# a later one.\n",
    "contours.sort_values(by=['ROI', 'Slice', 'Area'],\n",
    "                     ascending=[True, True, False],\n",
    "                     inplace=True)\n"
   ]
  },
  {
   "cell_type": "code",
   "execution_count": 25,
   "metadata": {},
   "outputs": [],
   "source": [
    "slice_sequence = SliceSequence(contours.Slice)"
   ]
  },
  {
   "cell_type": "code",
   "execution_count": 26,
   "metadata": {},
   "outputs": [
    {
     "data": {
      "text/plain": [
       "[-2.0, -1.5, -1.0, -0.5, 0.0, 0.5, 1.0, 1.5, 2.0]"
      ]
     },
     "execution_count": 26,
     "metadata": {},
     "output_type": "execute_result"
    }
   ],
   "source": [
    "slice_sequence.slices"
   ]
  },
  {
   "cell_type": "code",
   "execution_count": 27,
   "metadata": {},
   "outputs": [],
   "source": [
    "roi = 1\n",
    "contour_set = contours[contours.ROI == roi]\n"
   ]
  },
  {
   "cell_type": "markdown",
   "metadata": {},
   "source": [
    "### Create identify contours that are holes and build a graph of the contours"
   ]
  },
  {
   "cell_type": "code",
   "execution_count": 28,
   "metadata": {},
   "outputs": [],
   "source": [
    "contour_slice = defaultdict(list)\n",
    "contour_set.set_index('Slice', inplace=True)\n",
    "for slice_index, contour in contour_set.Polygon.items():\n",
    "    contours_on_slice = contour_slice[slice_index]\n",
    "    new_contour = Contour(roi, slice_index, contour, contours_on_slice)\n",
    "    contour_slice[slice_index].append(new_contour)\n"
   ]
  },
  {
   "cell_type": "markdown",
   "metadata": {},
   "source": [
    "#### Create an graph of the contours for the ROI"
   ]
  },
  {
   "cell_type": "code",
   "execution_count": 29,
   "metadata": {},
   "outputs": [],
   "source": [
    "# Create an graph of the contours for the ROI\n",
    "contour_graph = nx.Graph()\n",
    "label_list = []\n",
    "\n",
    "# Add nodes to the graph\n",
    "for contours in contour_slice.values():\n",
    "    for contour in contours:\n",
    "        contour_label = contour.index\n",
    "        contour_graph.add_node(contour_label, contour=contour)\n",
    "        roi, slice_index, idx = contour_label\n",
    "        label_list.append({\n",
    "            'ROI': roi,\n",
    "            'SliceIndex': slice_index,\n",
    "            'HoleType': contour.hole_type,\n",
    "            'ContourIndex': idx,\n",
    "            'Label': contour_label\n",
    "            })\n",
    "contour_lookup = pd.DataFrame(label_list)"
   ]
  },
  {
   "cell_type": "code",
   "execution_count": 30,
   "metadata": {},
   "outputs": [],
   "source": [
    "contour_lookup.HoleType = contour_lookup.HoleType.fillna('None')\n",
    "contour_lookup.HoleType = contour_lookup.HoleType.astype('category')\n",
    "contour_lookup.HoleType.cat.set_categories(['Open', 'Closed', 'Unknown', 'None'])\n",
    "contour_lookup.sort_values(by=['SliceIndex', 'ContourIndex'],  inplace=True)\n"
   ]
  },
  {
   "cell_type": "markdown",
   "metadata": {},
   "source": [
    "**Find Contour Neighbours**\n",
    "\n",
    "- For each Node in the ROI-specific Contour Graph, *starting with the first SliceIndex*:\n",
    "\n",
    "1. Use the SliceSequence to obtain the Next SliceIndex.\n",
    "2. Find all Contour nodes of the same hole type *(IsHole True or IsHole False)* with that Next SliceIndex.\n",
    "3. If the Hulls of the two polygons overlap:\n",
    "    > 1. Create an edge between the two Contour nodes\n",
    "    > 2. Set a contourMatch attribute to the edge with the two Contour nodes as values.\n",
    "    > 3. Set the Thickness of the edge to the difference between the two SliceIndexes.\n",
    "\n",
    "4. For each Node in the ROI-specific ContourGraph calculate a Thickness from its edges."
   ]
  },
  {
   "cell_type": "code",
   "execution_count": 31,
   "metadata": {},
   "outputs": [],
   "source": [
    "for contour_ref in contour_lookup.itertuples(index=False):\n",
    "    # Get the contour reference\n",
    "    this_slice = contour_ref.SliceIndex\n",
    "    this_label = contour_ref.Label\n",
    "    hole_type = contour_ref.HoleType\n",
    "    this_contour = contour_graph.nodes(data=True)[this_label]['contour']\n",
    "    # Identify the next slice in the sequence\n",
    "    next_slice = slice_sequence.get_neighbors(this_slice).next_slice\n",
    "    neighbour_idx = ((contour_lookup.SliceIndex == next_slice) &\n",
    "                    (contour_lookup.HoleType == hole_type))\n",
    "    # match this contour to the contours on the next slice\n",
    "    for neighbour in contour_lookup.loc[neighbour_idx, 'Label']:\n",
    "        neighbour_contour = contour_graph.nodes(data=True)[neighbour]['contour']\n",
    "        if this_contour.hull.intersects(neighbour_contour.hull):\n",
    "            contour_match = ContourMatch(this_contour, neighbour_contour)\n",
    "            contour_graph.add_edge(this_label, neighbour, match=contour_match)\n"
   ]
  },
  {
   "cell_type": "code",
   "execution_count": 32,
   "metadata": {},
   "outputs": [
    {
     "data": {
      "image/png": "[encoded data removed]",
      "text/plain": [
       "<Figure size 640x480 with 1 Axes>"
      ]
     },
     "metadata": {},
     "output_type": "display_data"
    }
   ],
   "source": [
    "nx.draw(contour_graph, with_labels=True)"
   ]
  },
  {
   "cell_type": "markdown",
   "metadata": {},
   "source": [
    "**Contour Boundaries**\n",
    "1. Select all Contour nodes in the ContourGraph with only one edge (degree=1)\n",
    "2. For each of these nodes:\n",
    "    1. Generate an interpolated boundary Contour \n",
    "        > - The contour is located half way between the boundary contour slice \n",
    "            and the neighbour slice that is not linked with an edge.\n",
    "        > - set IsInterpolated to True\n",
    "        > - set IsBoundary is True\n",
    "        > - set IsHole matches the IsHole value of the non-interpolated Contour \n",
    "    1. Add the interpolated SliceIndex to SliceSequence:\n",
    "        > - set 'Original' = False\n",
    "        > - If the boundary contour SliceIndex  < the interpolated SliceIndex \n",
    "            >> - set 'PreviousSlice' = boundary contour SliceIndex, \n",
    "            >> - set NextSlice'= None\n",
    "        > - Else:\n",
    "            >> - set 'NextSlice'= boundary contour SliceIndex, \n",
    "            >> - set 'PreviousSlice '= None\n",
    "    1. Add the interpolated contour to the contour graph .\n",
    "    1. Add a ContourMatch edge between the original boundary contour and the interpolated contour."
   ]
  }
 ],
 "metadata": {
  "kernelspec": {
   "display_name": "StructureRelations",
   "language": "python",
   "name": "python3"
  },
  "language_info": {
   "codemirror_mode": {
    "name": "ipython",
    "version": 3
   },
   "file_extension": ".py",
   "mimetype": "text/x-python",
   "name": "python",
   "nbconvert_exporter": "python",
   "pygments_lexer": "ipython3",
   "version": "3.11.9"
  }
 },
 "nbformat": 4,
 "nbformat_minor": 4
}
