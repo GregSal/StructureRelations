{
 "cells": [
  {
   "cell_type": "markdown",
   "metadata": {},
   "source": [
    "# Temporary Notebook for developing new Data prep Process\n"
   ]
  },
  {
   "cell_type": "code",
   "execution_count": 1,
   "metadata": {},
   "outputs": [],
   "source": [
    "from collections import defaultdict\n",
    "\n",
    "import pandas as pd\n"
   ]
  },
  {
   "cell_type": "code",
   "execution_count": 2,
   "metadata": {},
   "outputs": [],
   "source": [
    "# Local functions and classes\n",
    "from types_and_classes import *\n",
    "from utilities import *\n",
    "from utilities import points_to_polygon\n",
    "#from debug_tools import *\n",
    "from debug_tools import make_sphere\n",
    "#from structure_slice import *\n",
    "#from structure_set import *\n",
    "#from relations import *\n",
    "from shapely.geometry import Polygon\n",
    "from types_and_classes import Contour"
   ]
  },
  {
   "cell_type": "markdown",
   "metadata": {},
   "source": [
    "### Global Settings"
   ]
  },
  {
   "cell_type": "code",
   "execution_count": 3,
   "metadata": {},
   "outputs": [],
   "source": [
    "PRECISION = 2"
   ]
  },
  {
   "cell_type": "code",
   "execution_count": 4,
   "metadata": {},
   "outputs": [],
   "source": [
    "%matplotlib inline"
   ]
  },
  {
   "cell_type": "markdown",
   "metadata": {},
   "source": [
    "## Relationship Tests by Relationship Type"
   ]
  },
  {
   "cell_type": "markdown",
   "metadata": {},
   "source": [
    "### Color Coding\n",
    "<table style=\"border: 2px solid black; width=50px;\"><tr><td>\n",
    "<ul style=\"font-weight: 900; font-size: 20px;\">\n",
    "<li style=\"color: blue;\">region a</li>\n",
    "<li style=\"color: green;\">region b</li>\n",
    "<li style=\"color: orange;\">intersection of a & b</li></ul>\n",
    "</tr></td></>"
   ]
  },
  {
   "cell_type": "markdown",
   "metadata": {},
   "source": [
    "## Contains"
   ]
  },
  {
   "cell_type": "markdown",
   "metadata": {},
   "source": [
    "<link rel=\"stylesheet\" href=\"relations.css\">\n",
    "<table width=\"350px\">\n",
    "<tr class=\"l\"><th>Contains</th><th>Transitive</th></tr>\n",
    "<td class=\"d\" colspan=\"2\">\n",
    "All points of <span class=\"b\">b</span> lie in the interior of <span class=\"a\">a</span>, no points of <span class=\"b\">b</span> lie in the exterior of <span class=\"a\">a</span>, some points in <span class=\"a\">a</span> are exterior to <span class=\"b\">b</span>, and the boundaries of <span class=\"a\">a</span> and <span class=\"b\">b</span> do not intersect.\n",
    "</td></tr>\n",
    "<tr><td colspan=\"2\">\n",
    "<img src=\"Images/Relationships/contains simple.png\" alt=\"Contains\">\n",
    "<img src=\"Images/Relationships/contains with hole.png\" alt=\"Contains With Hole\">\n",
    "</td></tr>\n",
    "</table></td></tr></table>"
   ]
  },
  {
   "cell_type": "markdown",
   "metadata": {},
   "source": [
    "### Contains"
   ]
  },
  {
   "cell_type": "markdown",
   "metadata": {},
   "source": [
    "#### Embedded Spheres\n",
    "![Embedded Spheres](<Images/FreeCAD Images/Embedded Spheres.png>)"
   ]
  },
  {
   "cell_type": "code",
   "execution_count": 5,
   "metadata": {},
   "outputs": [],
   "source": [
    "slice_spacing = 0.5\n",
    "# Body structure defines slices in use\n",
    "sphere6 = make_sphere(roi_num=1, radius=3, spacing=slice_spacing)\n",
    "sphere3 = make_sphere(roi_num=2, radius=1.5, spacing=slice_spacing)\n",
    "# combine the contours\n",
    "slice_data = sphere6 + sphere3\n"
   ]
  },
  {
   "cell_type": "code",
   "execution_count": 6,
   "metadata": {},
   "outputs": [],
   "source": [
    "contours = pd.DataFrame(slice_data)\n",
    "\n",
    "contours['Polygon'] = contours['Points'].apply(points_to_polygon)\n",
    "contours['Area'] = contours['Polygon'].apply(lambda poly: round(poly.area, PRECISION))\n",
    "\n",
    "\n",
    "# Sort the DataFrame\n",
    "contours.sort_values(by=['ROI', 'Slice', 'Area'], ascending=[True, True, False], inplace=True)\n",
    "\n",
    "#contours.set_index(['ROI', 'Slice'], inplace=True, append=True)"
   ]
  },
  {
   "cell_type": "code",
   "execution_count": 7,
   "metadata": {},
   "outputs": [],
   "source": [
    "contour_set = contours[contours.ROI == 1]\n",
    "contour_slice = defaultdict(list)\n",
    "contour_set.set_index('Slice', inplace=True)\n",
    "for slice, contour in contour_set.Polygon.items():\n",
    "    contours_on_slice = contour_slice[slice]\n",
    "    new_contour = Contour(slice, contour, contours_on_slice)\n",
    "    contour_slice[slice].append(new_contour)"
   ]
  },
  {
   "cell_type": "code",
   "execution_count": 8,
   "metadata": {},
   "outputs": [
    {
     "data": {
      "text/plain": [
       "defaultdict(list,\n",
       "            {-3.0: [<types_and_classes.Contour at 0x27382cced10>],\n",
       "             -2.5: [<types_and_classes.Contour at 0x27382ccee90>],\n",
       "             -2.0: [<types_and_classes.Contour at 0x27382ccef10>],\n",
       "             -1.5: [<types_and_classes.Contour at 0x27382ccf310>],\n",
       "             -1.0: [<types_and_classes.Contour at 0x27382ccc950>],\n",
       "             -0.5: [<types_and_classes.Contour at 0x27382ccf3d0>],\n",
       "             0.0: [<types_and_classes.Contour at 0x27382ccf450>],\n",
       "             0.5: [<types_and_classes.Contour at 0x27382ccf4d0>],\n",
       "             1.0: [<types_and_classes.Contour at 0x27382ccf5d0>],\n",
       "             1.5: [<types_and_classes.Contour at 0x27382ccf650>],\n",
       "             2.0: [<types_and_classes.Contour at 0x27382ccf610>],\n",
       "             2.5: [<types_and_classes.Contour at 0x27382ccf6d0>],\n",
       "             3.0: [<types_and_classes.Contour at 0x27382ccf690>]})"
      ]
     },
     "execution_count": 8,
     "metadata": {},
     "output_type": "execute_result"
    }
   ],
   "source": [
    "contour_slice"
   ]
  }
 ],
 "metadata": {
  "kernelspec": {
   "display_name": "StructureRelations",
   "language": "python",
   "name": "python3"
  },
  "language_info": {
   "codemirror_mode": {
    "name": "ipython",
    "version": 3
   },
   "file_extension": ".py",
   "mimetype": "text/x-python",
   "name": "python",
   "nbconvert_exporter": "python",
   "pygments_lexer": "ipython3",
   "version": "3.11.9"
  }
 },
 "nbformat": 4,
 "nbformat_minor": 4
}
