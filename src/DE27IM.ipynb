{
 "cells": [
  {
   "cell_type": "markdown",
   "metadata": {},
   "source": [
    "# DE27IM Class Tests"
   ]
  },
  {
   "cell_type": "markdown",
   "metadata": {},
   "source": [
    "When written in binary, the 27 bit relationship contains 3 9-bit\n",
    "parts corresponding to DE-9IM relationships. The left-most 9 bits\n",
    "are the relationship between the second structure's contour and the\n",
    "first structure's convex hull polygon. The middle 9 bits are the\n",
    "relationship between the second structure's contour and the first\n",
    "structure's exterior polygon (i.e. with any holes filled). The\n",
    "right-most 9 bits are the relationship between the second\n",
    "structure's contour and the first structure's contour.\n",
    "\n",
    "Args:\n",
    "    slice_structures (pd.DataFrame): A table of structures, where\n",
    "        the values are the contours with type StructureSlice. The\n",
    "        column index contains the roi numbers for the structures.\n",
    "        The row index contains the slice index distances.\n",
    "\n",
    "Returns:\n",
    "    DE9IM_Type: An integer corresponding to a 27 bit binary value\n",
    "        reflecting the combined DE-9IM relationship between contour2 and\n",
    "        contour1's convex hull, exterior and polygon."
   ]
  },
  {
   "cell_type": "markdown",
   "metadata": {},
   "source": [
    "## Setup"
   ]
  },
  {
   "cell_type": "markdown",
   "metadata": {},
   "source": [
    "### Imports"
   ]
  },
  {
   "cell_type": "code",
   "execution_count": 2,
   "metadata": {},
   "outputs": [],
   "source": [
    "# Shared Packages\n",
    "import pandas as pd\n",
    "\n",
    "# Local functions and classes\n",
    "from types_and_classes import *\n",
    "from utilities import *\n",
    "from debug_tools import *\n",
    "from structure_slice import *\n",
    "from relations import *"
   ]
  },
  {
   "cell_type": "markdown",
   "metadata": {},
   "source": [
    "### Global Settings"
   ]
  },
  {
   "cell_type": "code",
   "execution_count": 3,
   "metadata": {},
   "outputs": [],
   "source": [
    "PRECISION = 2"
   ]
  },
  {
   "cell_type": "code",
   "execution_count": 4,
   "metadata": {},
   "outputs": [],
   "source": [
    "%matplotlib inline"
   ]
  },
  {
   "cell_type": "code",
   "execution_count": null,
   "metadata": {},
   "outputs": [],
   "source": [
    "def surrounds_example3():\n",
    "    box10x5 = shapely.Polygon(box_points(10,5))\n",
    "    circle4_left = shapely.Polygon(circle_points(2, offset_x=-3))\n",
    "    circle3_right = shapely.Polygon(circle_points(1.5, offset_x=3))\n",
    "    circle2_left = shapely.Polygon(circle_points(1, offset_x=-3, offset_y=0.5))\n",
    "    circle2_right = shapely.Polygon(circle_points(1, offset_x=3))\n",
    "    a = StructureSlice([box10x5, circle4_left, circle3_right, circle2_right])\n",
    "    b = StructureSlice([circle2_left])\n",
    "    return a, b\n",
    "\n",
    "a, b = surrounds_example3()\n",
    "ax = plot_ab(a.contour, b.contour)\n",
    "\n",
    "r = DE27IM(a,b)\n",
    "print(str(r))\n",
    "print(r.identify_relation())"
   ]
  },
  {
   "cell_type": "code",
   "execution_count": null,
   "metadata": {},
   "outputs": [],
   "source": [
    "def shelters_example():\n",
    "    circle6 = shapely.Polygon(circle_points(3))\n",
    "    circle5 = shapely.Polygon(circle_points(2.5))\n",
    "    circle4_offset = shapely.Polygon(circle_points(2, offset_x=3.5))\n",
    "    shell = shapely.difference(circle6, circle5)\n",
    "    cove = shapely.difference(shell, circle4_offset)\n",
    "    circle2 = shapely.Polygon(circle_points(1, offset_x=1))\n",
    "\n",
    "    a = StructureSlice([cove])\n",
    "    b = StructureSlice([circle2])\n",
    "    return a, b\n",
    "\n",
    "a, b = shelters_example()\n",
    "ax = plot_ab(a.contour, b.contour)\n",
    "\n",
    "r = DE27IM(a,b)\n",
    "print(str(r))\n",
    "print(r.identify_relation())"
   ]
  },
  {
   "cell_type": "code",
   "execution_count": 7,
   "metadata": {},
   "outputs": [
    {
     "name": "stdout",
     "output_type": "stream",
     "text": [
      "|100|\n",
      "|010|\n",
      "|001|\n"
     ]
    },
    {
     "data": {
      "text/plain": [
       "<DE9IM>: 2FFF1FFF2"
      ]
     },
     "execution_count": 7,
     "metadata": {},
     "output_type": "execute_result"
    }
   ],
   "source": [
    "poly_a = shapely.Polygon(circle_points(2))\n",
    "poly_b = shapely.Polygon(circle_points(2))\n",
    "relation = DE9IM(poly_a, poly_a)\n",
    "print(relation)\n",
    "relation"
   ]
  },
  {
   "cell_type": "code",
   "execution_count": 8,
   "metadata": {},
   "outputs": [
    {
     "data": {
      "text/plain": [
       "'111000000111000000'"
      ]
     },
     "execution_count": 8,
     "metadata": {},
     "output_type": "execute_result"
    }
   ],
   "source": [
    "relation_str = '111000000111000000111000000'\n",
    "relation_str[9:]"
   ]
  },
  {
   "cell_type": "code",
   "execution_count": null,
   "metadata": {},
   "outputs": [],
   "source": [
    "box6 = shapely.MultiPolygon([shapely.Polygon(box_points(6))])\n",
    "box4 = shapely.MultiPolygon([shapely.Polygon(box_points(4))])\n",
    "relation = DE9IM(box4, box6)\n",
    "boundary_relation = relation.boundary_adjustment('b')\n",
    "print(boundary_relation)\n",
    "boundary_relation"
   ]
  },
  {
   "cell_type": "code",
   "execution_count": 9,
   "metadata": {},
   "outputs": [],
   "source": [
    "relation_str = '111000000111000000111000000'\n",
    "de27im = DE27IM(relation_str=relation_str)"
   ]
  },
  {
   "cell_type": "markdown",
   "metadata": {},
   "source": []
  },
  {
   "cell_type": "code",
   "execution_count": 21,
   "metadata": {},
   "outputs": [
    {
     "data": {
      "text/plain": [
       "<RelationshipType.EQUALS: 9>"
      ]
     },
     "execution_count": 21,
     "metadata": {},
     "output_type": "execute_result"
    }
   ],
   "source": [
    "DE27IM.test_binaries[7].relation_type\n"
   ]
  },
  {
   "cell_type": "code",
   "execution_count": 20,
   "metadata": {},
   "outputs": [
    {
     "data": {
      "text/plain": [
       "<RelationshipType.EQUALS: 9>"
      ]
     },
     "execution_count": 20,
     "metadata": {},
     "output_type": "execute_result"
    }
   ],
   "source": [
    "v = DE27IM.test_binaries[7].mask - DE27IM.test_binaries[7].value\n",
    "v = DE27IM.test_binaries[7].value\n",
    "de27im = DE27IM(relation_int=v)\n",
    "de27im.identify_relation()"
   ]
  }
 ],
 "metadata": {
  "kernelspec": {
   "display_name": "StructureRelations",
   "language": "python",
   "name": "python3"
  },
  "language_info": {
   "codemirror_mode": {
    "name": "ipython",
    "version": 3
   },
   "file_extension": ".py",
   "mimetype": "text/x-python",
   "name": "python",
   "nbconvert_exporter": "python",
   "pygments_lexer": "ipython3",
   "version": "3.11.9"
  }
 },
 "nbformat": 4,
 "nbformat_minor": 2
}
