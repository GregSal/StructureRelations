{
 "cells": [
  {
   "cell_type": "markdown",
   "metadata": {},
   "source": [
    "# Multi Volume functions\n",
    "\n",
    "Routines to match multiple polygons in a contour slice with polygons in the next slice\n",
    "\n",
    "- Measure overlap area \n",
    "- Identify some overlap\n",
    "- Identify most overlap\n",
    "\n"
   ]
  },
  {
   "cell_type": "markdown",
   "metadata": {},
   "source": [
    "## Setup"
   ]
  },
  {
   "cell_type": "markdown",
   "metadata": {},
   "source": [
    "### Imports"
   ]
  },
  {
   "cell_type": "code",
   "execution_count": 1,
   "metadata": {},
   "outputs": [],
   "source": [
    "# Type imports\n",
    "from typing import Any, Dict, Tuple\n",
    "\n",
    "# Standard Libraries\n",
    "from pathlib import Path\n",
    "from itertools import combinations\n",
    "from math import sqrt, pi\n",
    "import re\n",
    "from statistics import mean\n",
    "from pprint import pprint\n",
    "\n",
    "# Shared Packages\n",
    "import numpy as np\n",
    "import pandas as pd\n",
    "import xlwings as xw\n",
    "import PySimpleGUI as sg\n",
    "import pydicom\n",
    "from shapely.geometry import Polygon\n",
    "from shapely import points\n",
    "import shapely\n",
    "\n",
    "import RS_DICOM_Utilities\n"
   ]
  },
  {
   "cell_type": "markdown",
   "metadata": {},
   "source": [
    "## File Paths"
   ]
  },
  {
   "cell_type": "code",
   "execution_count": 2,
   "metadata": {},
   "outputs": [],
   "source": [
    "base_path = Path.cwd()\n",
    "data_path = base_path / 'Test Data'\n",
    "dicom_path = data_path / 'StructureVolumeTests' / 'MultiVolume_A'\n"
   ]
  },
  {
   "cell_type": "markdown",
   "metadata": {},
   "source": [
    "Test Data\\StructureVolumeTests\\MultiVolume_A\\RS.GJS_Struct_Tests.MultiVolume_A.dcm"
   ]
  },
  {
   "cell_type": "code",
   "execution_count": 3,
   "metadata": {},
   "outputs": [
    {
     "data": {
      "text/plain": [
       "{'PatientName': 'StructureVolumes^Test',\n",
       " 'PatientLastName': 'StructureVolumes',\n",
       " 'PatientID': 'GJS_Struct_Tests',\n",
       " 'StructureSet': 'MultiVolume_A',\n",
       " 'StudyID': 'Phantom2',\n",
       " 'SeriesNumber': '9',\n",
       " 'File': WindowsPath(\"d:/OneDrive - Queen's University/Python/Projects/StructureRelations/Test Data/StructureVolumeTests/MultiVolume_A/RS.GJS_Struct_Tests.MultiVolume_A.dcm\")}"
      ]
     },
     "execution_count": 3,
     "metadata": {},
     "output_type": "execute_result"
    }
   ],
   "source": [
    "multi_volume_a_file = dicom_path / 'RS.GJS_Struct_Tests.MultiVolume_A.dcm'\n",
    "structure_set_info = RS_DICOM_Utilities.get_structure_file_info(multi_volume_a_file)\n",
    "structure_set_info"
   ]
  },
  {
   "cell_type": "markdown",
   "metadata": {},
   "source": [
    "### Relevant Info\n",
    "#### Contour Stats"
   ]
  },
  {
   "cell_type": "code",
   "execution_count": 4,
   "metadata": {},
   "outputs": [],
   "source": [
    "dataset = pydicom.dcmread(structure_set_info['File'])\n",
    "name_lookup = RS_DICOM_Utilities.get_names_nums(dataset)\n",
    "\n",
    "contour_sets = RS_DICOM_Utilities.read_contours(dataset)\n",
    "contour_stats = pd.DataFrame(cntr.info for cntr in contour_sets.values())\n"
   ]
  },
  {
   "cell_type": "markdown",
   "metadata": {},
   "source": [
    "#### ROI Number Lookup"
   ]
  },
  {
   "cell_type": "code",
   "execution_count": 5,
   "metadata": {},
   "outputs": [
    {
     "data": {
      "text/plain": [
       "{'BODY': '1',\n",
       " 'AdjacentSpheres': '7',\n",
       " 'AdjacentShells': '8',\n",
       " 'SingleVolume': '9'}"
      ]
     },
     "execution_count": 5,
     "metadata": {},
     "output_type": "execute_result"
    }
   ],
   "source": [
    "roi_lookup = {cntr.structure_id: cntr.roi_num\n",
    "              for cntr in contour_sets.values()}\n",
    "roi_lookup"
   ]
  },
  {
   "cell_type": "code",
   "execution_count": 6,
   "metadata": {},
   "outputs": [],
   "source": [
    "contour_slices = RS_DICOM_Utilities.build_slice_table(contour_sets)\n"
   ]
  },
  {
   "cell_type": "code",
   "execution_count": 7,
   "metadata": {},
   "outputs": [],
   "source": [
    "#xw.view(contour_slices)\n",
    "#xw.view(contour_slices.describe())\n"
   ]
  },
  {
   "cell_type": "code",
   "execution_count": 8,
   "metadata": {},
   "outputs": [],
   "source": [
    "structure_id = 'AdjacentSpheres'\n"
   ]
  },
  {
   "cell_type": "code",
   "execution_count": 9,
   "metadata": {},
   "outputs": [
    {
     "data": {
      "text/plain": [
       "False"
      ]
     },
     "execution_count": 9,
     "metadata": {},
     "output_type": "execute_result"
    }
   ],
   "source": [
    "RS_DICOM_Utilities.has_gaps(structure_id, contour_slices)"
   ]
  },
  {
   "cell_type": "code",
   "execution_count": 15,
   "metadata": {},
   "outputs": [
    {
     "data": {
      "text/plain": [
       "{'ROI Num': '7',\n",
       " 'StructureID': 'AdjacentSpheres',\n",
       " 'Sup Slice': 9.4,\n",
       " 'Inf Slice': 1.1,\n",
       " 'Length': 8.3,\n",
       " 'Thickness': 0.099,\n",
       " 'Volume': 131.034,\n",
       " 'Eq Sp Diam': 6.302,\n",
       " 'Center of Mass': (4.435, -2.841, 5.226),\n",
       " 'Resolution': 10.87,\n",
       " 'Colour': ('255', '255', '0')}"
      ]
     },
     "execution_count": 15,
     "metadata": {},
     "output_type": "execute_result"
    }
   ],
   "source": [
    "roi = roi_lookup[structure_id]\n",
    "structure = contour_sets[roi]\n",
    "structure.info"
   ]
  },
  {
   "cell_type": "markdown",
   "metadata": {},
   "source": [
    "# Done to Here\n"
   ]
  },
  {
   "cell_type": "markdown",
   "metadata": {},
   "source": [
    "## Routine to match multiple polygons in a contour slice with polygons in the next slice\n",
    "- Measure overlap area \n",
    "- Identify some overlap\n",
    "- Identify most overlap\n",
    "\n"
   ]
  },
  {
   "cell_type": "markdown",
   "metadata": {},
   "source": [
    "**What format should this information be in??**"
   ]
  },
  {
   "cell_type": "code",
   "execution_count": 18,
   "metadata": {},
   "outputs": [],
   "source": [
    "regions = pd.Series({slice: contour.region_count\n",
    "                     for slice, contour in structure.contours.items()})"
   ]
  },
  {
   "cell_type": "code",
   "execution_count": 19,
   "metadata": {},
   "outputs": [
    {
     "data": {
      "text/plain": [
       "count    84.000000\n",
       "mean      1.190476\n",
       "std       0.395035\n",
       "min       1.000000\n",
       "25%       1.000000\n",
       "50%       1.000000\n",
       "75%       1.000000\n",
       "max       2.000000\n",
       "dtype: float64"
      ]
     },
     "execution_count": 19,
     "metadata": {},
     "output_type": "execute_result"
    }
   ],
   "source": [
    "regions.describe()"
   ]
  },
  {
   "cell_type": "code",
   "execution_count": 14,
   "metadata": {},
   "outputs": [],
   "source": [
    "\n",
    "slice_index = structure.neighbours\n",
    "for ref in slice_index.itertuples():\n",
    "    this_slice = structure.contours[ref.slice]\n",
    "    if this_slice.region_count > 1:\n",
    "        if ref.inf:\n",
    "            next_slice = structure.contours[ref.inf]\n"
   ]
  },
  {
   "cell_type": "code",
   "execution_count": 19,
   "metadata": {},
   "outputs": [],
   "source": [
    "slice = 5\n",
    "ref = slice_index.T[slice]\n",
    "this_slice = contour_sets[roi].contours[ref.slice]\n",
    "next_slice = contour_sets[roi].contours[ref.inf]"
   ]
  },
  {
   "cell_type": "markdown",
   "metadata": {},
   "source": [
    "## Measure overlap area "
   ]
  },
  {
   "cell_type": "code",
   "execution_count": 21,
   "metadata": {},
   "outputs": [
    {
     "data": {
      "text/html": [
       "<div>\n",
       "<style scoped>\n",
       "    .dataframe tbody tr th:only-of-type {\n",
       "        vertical-align: middle;\n",
       "    }\n",
       "\n",
       "    .dataframe tbody tr th {\n",
       "        vertical-align: top;\n",
       "    }\n",
       "\n",
       "    .dataframe thead tr th {\n",
       "        text-align: left;\n",
       "    }\n",
       "</style>\n",
       "<table border=\"1\" class=\"dataframe\">\n",
       "  <thead>\n",
       "    <tr>\n",
       "      <th></th>\n",
       "      <th></th>\n",
       "      <th colspan=\"2\" halign=\"left\">5</th>\n",
       "    </tr>\n",
       "    <tr>\n",
       "      <th></th>\n",
       "      <th></th>\n",
       "      <th>0</th>\n",
       "      <th>1</th>\n",
       "    </tr>\n",
       "  </thead>\n",
       "  <tbody>\n",
       "    <tr>\n",
       "      <th rowspan=\"2\" valign=\"top\">5.1</th>\n",
       "      <th>0</th>\n",
       "      <td>12.092769</td>\n",
       "      <td>0.000000</td>\n",
       "    </tr>\n",
       "    <tr>\n",
       "      <th>1</th>\n",
       "      <td>0.000000</td>\n",
       "      <td>8.267374</td>\n",
       "    </tr>\n",
       "  </tbody>\n",
       "</table>\n",
       "</div>"
      ],
      "text/plain": [
       "               5          \n",
       "               0         1\n",
       "5.1 0  12.092769  0.000000\n",
       "    1   0.000000  8.267374"
      ]
     },
     "execution_count": 21,
     "metadata": {},
     "output_type": "execute_result"
    }
   ],
   "source": [
    "\n",
    "match = {}\n",
    "for idx1, poly1 in enumerate(this_slice.contour.geoms):\n",
    "    sub_match = {}\n",
    "    for idx2, poly2 in enumerate(next_slice.contour.geoms):\n",
    "        area = shapely.intersection(poly1, poly2).area\n",
    "        sub_match[(ref.inf, idx2)] = area\n",
    "    match[(slice, idx1)] = sub_match\n",
    "pd.DataFrame(match)"
   ]
  },
  {
   "cell_type": "markdown",
   "metadata": {},
   "source": [
    "# Look for Projection overlap\n",
    "intersection between projection of centre-of-mass of contour from neighbouring slice onto contour in current slice\n",
    "- If no overlap, do not interpolate\n",
    "- This is also important where there is more than one contour per slice. \n",
    "- Need to to this separately for each contour polygon in the slice"
   ]
  },
  {
   "cell_type": "markdown",
   "metadata": {},
   "source": [
    "**Overlaps ignores _Z_ component of contour**\n"
   ]
  },
  {
   "cell_type": "code",
   "execution_count": null,
   "metadata": {},
   "outputs": [],
   "source": [
    "a = contour_sets[roi_lookup['continuous']].contours[-9.9].contour\n",
    "b = contour_sets[roi_lookup['continuous']].contours[-9.8].contour\n",
    "a.overlaps(b)"
   ]
  },
  {
   "cell_type": "code",
   "execution_count": null,
   "metadata": {},
   "outputs": [],
   "source": [
    "c = contour_sets[roi_lookup['missing3rd']].contours[-9.9].contour\n",
    "a.overlaps(c)"
   ]
  },
  {
   "cell_type": "code",
   "execution_count": null,
   "metadata": {},
   "outputs": [],
   "source": [
    "structure_id = 'missing3rd'\n",
    "\n",
    "inf = contour_slices[structure_id].dropna().index.min()\n",
    "sup = contour_slices[structure_id].dropna().index.max()\n",
    "\n",
    "contour_range = (contour_slices.index <= sup) & (contour_slices.index >= inf)\n",
    "structure_slices = contour_slices.loc[contour_range, structure_id]\n",
    "missing_slices = structure_slices.isna()\n"
   ]
  },
  {
   "cell_type": "code",
   "execution_count": null,
   "metadata": {},
   "outputs": [],
   "source": [
    "structure_id = 'rndOffsetShell'\n",
    "\n",
    "inf = contour_slices[structure_id].dropna().index.min()\n",
    "sup = contour_slices[structure_id].dropna().index.max()\n",
    "\n",
    "contour_range = (contour_slices.index <= sup) & (contour_slices.index >= inf)\n",
    "structure_slices = contour_slices.loc[contour_range, structure_id]\n",
    "missing_slices = structure_slices.isna()\n"
   ]
  },
  {
   "cell_type": "code",
   "execution_count": null,
   "metadata": {},
   "outputs": [],
   "source": [
    "roi = roi_lookup[structure_id]\n",
    "roi"
   ]
  },
  {
   "cell_type": "markdown",
   "metadata": {},
   "source": [
    "# Metrics"
   ]
  },
  {
   "cell_type": "code",
   "execution_count": null,
   "metadata": {},
   "outputs": [],
   "source": [
    "contour_sets[2].contours[0].contour.distance(contour_sets[3].contours[0].contour)"
   ]
  },
  {
   "cell_type": "code",
   "execution_count": null,
   "metadata": {},
   "outputs": [],
   "source": [
    "contour_sets[3].contours[0].contour.distance(contour_sets[13].contours[0].contour)"
   ]
  },
  {
   "cell_type": "code",
   "execution_count": null,
   "metadata": {},
   "outputs": [],
   "source": [
    "contour_sets[13].contours[0].contour.bounds"
   ]
  },
  {
   "cell_type": "code",
   "execution_count": null,
   "metadata": {},
   "outputs": [],
   "source": [
    "contour_sets[3].contours[0].contour.bounds"
   ]
  },
  {
   "cell_type": "markdown",
   "metadata": {},
   "source": [
    "`bounds(geometry, **kwargs)`\n",
    "Computes the bounds (extent) of a geometry.\n",
    "\n",
    "For each geometry these 4 numbers are returned: \n",
    "> (min x, min y, max x, max y)"
   ]
  },
  {
   "cell_type": "code",
   "execution_count": null,
   "metadata": {},
   "outputs": [],
   "source": [
    "contour_sets[2].contours[0].contour.bounds"
   ]
  },
  {
   "cell_type": "code",
   "execution_count": null,
   "metadata": {},
   "outputs": [],
   "source": [
    "contour = contour_sets[2].contours[0].contour.bounds"
   ]
  },
  {
   "cell_type": "code",
   "execution_count": null,
   "metadata": {},
   "outputs": [],
   "source": [
    "slices = contour_sets[3].contours[0].contour.bounds\n"
   ]
  },
  {
   "cell_type": "code",
   "execution_count": null,
   "metadata": {},
   "outputs": [],
   "source": [
    "[(contour[0], contour[1]), (contour[2], contour[3]), (contour[0], contour[3]), (contour[2], contour[1])]"
   ]
  },
  {
   "cell_type": "markdown",
   "metadata": {},
   "source": [
    "**shapely.prepare**\n",
    "\n",
    "`prepare(geometry, **kwargs)`\n",
    "> Prepare a geometry, improving performance of other operations.\n",
    ">\n",
    "> A prepared geometry is a normal geometry with added information such as an index on the line segments. This improves the performance of the following operations: contains, contains_properly, covered_by, covers, crosses, disjoint, intersects, overlaps, touches, and within.\n",
    ">\n",
    "> Note that if a prepared geometry is modified, the newly created Geometry object is not prepared. In that case, prepare should be called again.\n",
    ">\n",
    "> This function does not recompute previously prepared geometries; it is efficient to call this function on an array that partially contains prepared geometries.\n",
    ">\n",
    "> This function does not return any values; geometries are modified in place.\n"
   ]
  },
  {
   "cell_type": "markdown",
   "metadata": {},
   "source": [
    "**shapely.set_precision**\n",
    "\n",
    "`set_precision(geometry, grid_size, mode='valid_output', **kwargs)`\n",
    "\n",
    "> Returns geometry with the precision set to a precision grid size.\n",
    ">\n",
    "> By default, geometries use double precision coordinates (grid_size = 0).\n",
    "> \n",
    "> Coordinates will be rounded if a precision grid is less precise than the input geometry. Duplicated vertices will be dropped from lines and polygons for grid sizes greater than 0. Line and polygon geometries may collapse to empty geometries if all vertices are closer together than grid_size. Z values, if present, will not be modified.\n",
    "> \n",
    "> **Note:** subsequent operations will always be performed in the precision of the geometry with higher precision (smaller “grid_size”). That same precision will be attached to the operation outputs.\n",
    "> \n",
    "> **Also note:** input geometries should be geometrically valid; unexpected results may occur if input geometries are not.\n",
    "> \n",
    "> *Returns* None if geometry is None.\n",
    ">\n",
    "> **Parameters**:\n",
    ">> **geometry**: Geometry or array_like\n",
    ">> \n",
    ">> **grid_size**: float\n",
    ">>> Precision grid size. If 0, will use double precision (will not modify geometry if precision grid size was not previously set). If this value is more precise than input geometry, the input geometry will not be modified.\n",
    ">> \n",
    ">> **mode**: {‘valid_output’, ‘pointwise’, ‘keep_collapsed’}, default ‘valid_output’\n",
    ">>> This parameter determines how to handle invalid output geometries. There are three modes:\n",
    ">>> *‘valid_output’* (default): The output is always valid. Collapsed geometry elements (including both polygons and lines) are removed. Duplicate vertices are removed.\n",
    ">>> *‘pointwise’*: Precision reduction is performed pointwise. Output geometry may be invalid due to collapse or self-intersection. Duplicate vertices are not removed. In GEOS this option is called NO_TOPO.\n",
    ">>> *‘keep_collapsed’*: Like the default mode, except that collapsed linear geometry elements are preserved. Collapsed polygonal input elements are removed. Duplicate vertices are removed.\n",
    ">> \n",
    ">> **kwargs: See NumPy ufunc docs for other keyword arguments.\n",
    "\n",
    "> **Examples**\n",
    "```python\n",
    "from shapely import LineString, Point\n",
    "set_precision(Point(0.9, 0.9), 1.0)\n",
    "<POINT (1 1)>\n",
    "set_precision(Point(0.9, 0.9, 0.9), 1.0)\n",
    "<POINT Z (1 1 0.9)>\n",
    "set_precision(LineString([(0, 0), (0, 0.1), (0, 1), (1, 1)]), 1.0)\n",
    "<LINESTRING (0 0, 0 1, 1 1)>\n",
    "set_precision(LineString([(0, 0), (0, 0.1), (0.1, 0.1)]), 1.0, mode=\"valid_output\")\n",
    "<LINESTRING Z EMPTY>\n",
    "set_precision(LineString([(0, 0), (0, 0.1), (0.1, 0.1)]), 1.0, mode=\"pointwise\")\n",
    "<LINESTRING (0 0, 0 0, 0 0)>\n",
    "set_precision(LineString([(0, 0), (0, 0.1), (0.1, 0.1)]), 1.0, mode=\"keep_collapsed\")\n",
    "<LINESTRING (0 0, 0 0)>\n",
    "set_precision(None, 1.0) is None\n",
    "```"
   ]
  }
 ],
 "metadata": {
  "kernelspec": {
   "display_name": "StructureRelations",
   "language": "python",
   "name": "python3"
  },
  "language_info": {
   "codemirror_mode": {
    "name": "ipython",
    "version": 3
   },
   "file_extension": ".py",
   "mimetype": "text/x-python",
   "name": "python",
   "nbconvert_exporter": "python",
   "pygments_lexer": "ipython3",
   "version": "3.11.8"
  }
 },
 "nbformat": 4,
 "nbformat_minor": 2
}
