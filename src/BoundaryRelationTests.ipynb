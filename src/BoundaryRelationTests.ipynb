{
 "cells": [
  {
   "cell_type": "markdown",
   "metadata": {},
   "source": [
    "# Boundary Relation Tests"
   ]
  },
  {
   "cell_type": "markdown",
   "metadata": {},
   "source": [
    "## Setup"
   ]
  },
  {
   "cell_type": "markdown",
   "metadata": {},
   "source": [
    "### Imports"
   ]
  },
  {
   "cell_type": "code",
   "execution_count": 1,
   "metadata": {},
   "outputs": [],
   "source": [
    "# Shared Packages\n",
    "import pandas as pd\n",
    "\n",
    "# Local functions and classes\n",
    "from types_and_classes import *\n",
    "from utilities import *\n",
    "from debug_tools import *\n",
    "from structure_slice import *\n",
    "from metrics import *\n",
    "from relations import *"
   ]
  },
  {
   "cell_type": "markdown",
   "metadata": {},
   "source": [
    "### Global Settings"
   ]
  },
  {
   "cell_type": "code",
   "execution_count": 2,
   "metadata": {},
   "outputs": [],
   "source": [
    "PRECISION = 2"
   ]
  },
  {
   "cell_type": "code",
   "execution_count": 3,
   "metadata": {},
   "outputs": [],
   "source": [
    "%matplotlib inline"
   ]
  },
  {
   "cell_type": "markdown",
   "metadata": {},
   "source": [
    "## Boundary Check process\n",
    "1. Build slice table (index= slice, columns = ROI, Data= StructureSlice)\n",
    "2. Select Primary & Secondary ROI\n",
    "\t- Slice range = Min(starting slice) to Max(ending slice)\n",
    "3. Send all slices with both Primary and Secondary contours for standard relation testing \n",
    "4. Identify the boundary slices of the Primary and Secondary ROI\n",
    "    - Boundary slices are slices that have a contour, but one of their neighbouring slices do not have a contour.\n",
    "5. For each boundary slice of the Primary ROI identify the neighbouring slice(s) that do not have a primary.\n",
    "6. For each of these neighbouring slices select a Secondary slice for boundary tests:\n",
    "\t- If the slice has a Secondary contour, select that Secondary slice.\n",
    "\t- If the slice does not have a Secondary contour, but there is a Secondary contour on the same slice as the Primary boundary, select that Secondary slice.\n",
    "\t- If neither the neighbouring slice nor the same slice as the Primary boundary have a Secondary contour, do not select a Secondary slice. Boundary testing is not required.\n",
    "7. Test the relation between the boundary Primary and the selected Secondary.\n",
    "8. Apply a Primary boundary shift to the relation results.\n",
    "9. If the selected Secondary is also a Secondary boundary, apply a Secondary boundary shift as well.\n",
    "10. Merge all results and reduce to single relation"
   ]
  },
  {
   "cell_type": "markdown",
   "metadata": {},
   "source": [
    "# Current Bugs: \n",
    "\n",
    "1. The search for boundaries does not take into account holes in the structure.\n",
    "2. Missing secondary boundary test\n",
    "3. Borders definition appears to be incorrect"
   ]
  },
  {
   "cell_type": "markdown",
   "metadata": {},
   "source": [
    "## Need to do boundary checks by region not by structure\n",
    "- Make a Region class with the following attributes:\n",
    "    - ROI: ROI_Type, \n",
    "    - slice: SliceIndexType, \n",
    "    - is_hole: bool,\n",
    "    - is_boundary: bool,\n",
    "    - region_labels: List[str], \n",
    "    - polygon: ContourType\n",
    "- Step through all structures and separate each slice into individual polygons \n",
    "    and holes (Regions)\n",
    "- Apply region labels, based on overlapping polygons.\n",
    "  - Set unique labels for each region on the first slice: 'a', 'b' ...\n",
    "  - find overlapping polygons on the next slice and give them the same \n",
    "      region labels.\n",
    "  - A polygon can be in multiple regions.\n",
    "- If a polygon in the current region is not matched to a polygon in the next \n",
    "    region, it is a boundary polygon.\n",
    "- If a polygon in the next region is not matched with a polygon in the current \n",
    "    region, it is a boundary polygon. Assign it to a new region\n",
    "- Store as a list of dictionaries with keys: ROI, slice, is_hole, polygon\n",
    "- convert to a DataFrame and sort on ROI and slice\n"
   ]
  },
  {
   "cell_type": "markdown",
   "metadata": {},
   "source": [
    "**What about two regions that converge into one?**\n",
    "- Keep distinct for now. (A polygon can be in multiple regions)"
   ]
  },
  {
   "cell_type": "markdown",
   "metadata": {},
   "source": [
    "### Managing holes\n",
    "The boundaries of holes must also be checked\n",
    "- `adjust_boundary_relation` will need to be updated to include `shift_type`s for holes:\n",
    "     - *hole_in_a* \n",
    "     - *hole_in_b*\n",
    "     - *hole_in_both*\n",
    "- The *holes* `shift_type` shifts the interior relation to a boundary relation only for the *contour* part.  The *exterior* and *hull* relation parts are not shifted.\n",
    "\n",
    "- The `boundary_match` and `match_neighbour_slices` functions will need to be updated to include the hole boundary tests.\n",
    "  - For hole boundaries, select the neighboring slice (s) that *DO* have a hole contour.\n",
    "  - The Secondary slice selection works as usual.\n",
    "  "
   ]
  },
  {
   "cell_type": "code",
   "execution_count": 4,
   "metadata": {},
   "outputs": [],
   "source": [
    "def adjust_boundary_relation(relation: DE27IM_Type,\n",
    "                             shift_type: str = 'both')->DE27IM_Type:\n",
    "    '''Adjust the DE-9IM relationship metrics of a boundary slice.\n",
    "\n",
    "    For the beginning and ending slices of a structure the entire contour must\n",
    "    be treated as a boundary.  The structure does not have an interior on these\n",
    "    slices. In this case the “Interior” relations become “Boundary” relations.\n",
    "    For the `b` structure the, first three values of the DE-9IM relationship\n",
    "    metric are shifted to become the second three.  For the `a` structure,\n",
    "    every third value of the DE-9IM relationship metric is shifted by 1.\n",
    "\n",
    "    Args:\n",
    "        relation (DE27IM_Type): A triplet numeric DE-9IM relationship metric.\n",
    "        shift_type (str, optional): The polygon(s) that are boundaries:\n",
    "            'a' indicates that the first (primary) polygon is at a boundary.\n",
    "            'b' indicates that the second (secondary) polygon is at a boundary.\n",
    "            'both' (The default) indicates that both polygons are at a boundary.\n",
    "            'hole_in_a' indicates that the first polygon is at a boundary with\n",
    "             a hole.\n",
    "            'hole_in_b' indicates that the second polygon is at a boundary with\n",
    "             a hole.\n",
    "\n",
    "    Returns:\n",
    "        DE27IM_Type: The supplied relationship metric with the interior portion\n",
    "            of each of the three DE-9IM relationships shifted to the appropriate\n",
    "            border metric.\n",
    "    '''\n",
    "\n",
    "    def shift_value(value: DE27IM_Type, mask: DE27IM_Type,\n",
    "                     shift: int)->DE27IM_Type:\n",
    "        # Select the DE27IM relationship values related to the interior.\n",
    "        interior_relations = value & mask\n",
    "        # Select the DE27IM relationship values related to the exterior.\n",
    "        # (Not interior and not Boundary.)\n",
    "        value_mask = (mask >> shift) + mask\n",
    "        other_relations = value & ~value_mask\n",
    "        # Convert the interior relations into corresponding boundary relations.\n",
    "        boundary_relations = interior_relations >> shift\n",
    "        # Combine the interior (zeros), boundary and exterior values to form\n",
    "        # the adjusted DE27IM relationship metric.\n",
    "        relations_bin = boundary_relations + other_relations\n",
    "        return relations_bin\n",
    "\n",
    "    try:\n",
    "        relation = int(relation)\n",
    "    except ValueError:\n",
    "        raise ValueError(f\"Invalid DE27IM value: {relation}\")\n",
    "    a_mask = 0b100100100100100100100100100\n",
    "    b_mask = 0b111000000111000000111000000\n",
    "    hole_in_a_mask = 0b100100100000000000000100000\n",
    "    hole_in_b_mask = 0b111000000000000000000000000\n",
    "    if shift_type == 'a':\n",
    "        relations_bin = shift_value(relation, a_mask, 1)\n",
    "    elif shift_type == 'b':\n",
    "        relations_bin = shift_value(relation, b_mask, 3)\n",
    "    elif shift_type == 'hole_in_a':\n",
    "        relations_bin = shift_value(relation, hole_in_a_mask, 1)\n",
    "    elif shift_type == 'hole_in_b':\n",
    "        relations_bin = shift_value(relation, hole_in_b_mask, 3)\n",
    "    elif shift_type == 'both':\n",
    "        relations_bin = shift_value(relation, b_mask, 3)\n",
    "        relations_bin = shift_value(relations_bin, a_mask, 1)\n",
    "    else:\n",
    "        raise ValueError(f\"Invalid shift type: {shift_type}\")\n",
    "    return relations_bin"
   ]
  },
  {
   "cell_type": "markdown",
   "metadata": {},
   "source": [
    "### secondary boundary tests\n",
    "- Applies to the Secondary ROI in the same way as the Primary ROI.\n",
    "- The `boundary_match` and `match_neighbour_slices` functions will need to be adjusted to work for secondary boundaries as well."
   ]
  },
  {
   "cell_type": "markdown",
   "metadata": {},
   "source": [
    "|Relationship     | Region Test   |  Exterior Test  |  Hull Test  |\n",
    "|-------------    |---------------|-----------------|-------------|\n",
    "|Borders          |  `FF*FT****`  |   `T*T*F*FF*`   | `*********` |\n",
    "|Borders result   |  `000011001`  |   `000011001`   | `000011001` |\n",
    "|Interior Borders |  `FF*FT****`  |   `T***T****`   | `*********` |\n",
    "|Result           |  `111001001`  |   `111001001`   | `001011101` |\n",
    "                \n",
    "**BORDERS:** The two structures share a common exterior boundary.\n",
    "\n",
    "**BORDERS_INTERIOR:** The two structures share a common boundary and one is within the other.\n",
    "    \n"
   ]
  },
  {
   "cell_type": "markdown",
   "metadata": {},
   "source": [
    "|Relationship     | Region Test   |  Exterior Test  |  Hull Test  |\n",
    "|-------------    |---------------|-----------------|-------------|\n",
    "|Overlaps         |  `T*T***T**`  |   `*********`   | `*********` |\n",
    "|Overlaps result  |  `110010001`  |   `110010001`   | `110010001` |\n",
    "\n",
    "                \n",
    "**OVERLAPS:** The two structures share a common region.\n",
    "    "
   ]
  },
  {
   "cell_type": "markdown",
   "metadata": {},
   "source": [
    "![alt text](Images/DE-9IM.png)"
   ]
  },
  {
   "cell_type": "markdown",
   "metadata": {},
   "source": [
    "![alt text](../reference/RelationshipTreeDiagram.svg)"
   ]
  },
  {
   "cell_type": "code",
   "execution_count": 5,
   "metadata": {},
   "outputs": [],
   "source": [
    "def identify_relation(relation_binary) -> RelationshipType:\n",
    "    '''Applies a collection of definitions for named relationships to a supplied\n",
    "    relationship binary.\n",
    "\n",
    "    The defined relationships are:\n",
    "        Relationship      Region Test   Exterior Test   Hull Test\n",
    "        Disjoint          FF*FF****     FF*FF****       FF*FF****\n",
    "        Shelters          FF*FF****     FF*FF****       TTT***F**\n",
    "        Surrounds         FF*FF****     T***F*FF*\n",
    "        Borders_Interior  FF*FT****     T***T****\n",
    "        Borders           FF*FT****     T*T*F*FF*\n",
    "        Contains          T*T*F*FF*\n",
    "        Partition         T*T*T*FF*\n",
    "        Equals\t          T*F**FFF*\n",
    "        Overlaps          T*T***T**\n",
    "\n",
    "    Args:\n",
    "        relation_binary (int): An integer generated from the combined DE-9IM\n",
    "            tests.\n",
    "\n",
    "    Returns:\n",
    "        RelationshipType: The identified RelationshipType if one of the tests\n",
    "            passes, otherwise RelationshipType.UNKNOWN.\n",
    "    '''\n",
    "    # Relationship Test Definitions\n",
    "    test_binaries = [\n",
    "        RelationshipTest(RelationshipType.SURROUNDS,\n",
    "                         0b110110000100010000000000000,\n",
    "                         0b000000000100000000000000000),\n",
    "        RelationshipTest(RelationshipType.SHELTERS,\n",
    "                         0b110110000100010000100010000,\n",
    "                         0b000000000000000000100000000),\n",
    "        RelationshipTest(RelationshipType.DISJOINT,\n",
    "                         0b110110000100010000100010000,\n",
    "                         0b000000000000000000000000000),\n",
    "        RelationshipTest(RelationshipType.BORDERS,\n",
    "                         0b100010000100010000000000000,\n",
    "                         0b000010000000010000000000000),\n",
    "        RelationshipTest(RelationshipType.BORDERS_INTERIOR,\n",
    "                         0b100010000100010000000000000,\n",
    "                         0b000010000100010000000000000),\n",
    "        RelationshipTest(RelationshipType.OVERLAPS,\n",
    "                         0b101010100101010100101000100,\n",
    "                         0b101010100101010100101000100),\n",
    "        RelationshipTest(RelationshipType.PARTITION,\n",
    "                         0b101010100101010100101000100,\n",
    "                         0b101010000101010000101000000),\n",
    "        RelationshipTest(RelationshipType.CONTAINS,\n",
    "                         0b110110000100010000100000000,\n",
    "                         0b100000000100000000100000000),\n",
    "        RelationshipTest(RelationshipType.EQUALS,\n",
    "                         0b101010000100010000100000000,\n",
    "                         0b100010000100010000100000000),\n",
    "        ]\n",
    "    for rel_def in test_binaries:\n",
    "        result = rel_def.test(relation_binary)\n",
    "        if result:\n",
    "            return result\n",
    "    return RelationshipType.UNKNOWN"
   ]
  },
  {
   "cell_type": "markdown",
   "metadata": {},
   "source": [
    "## Test structures\n"
   ]
  },
  {
   "cell_type": "markdown",
   "metadata": {},
   "source": [
    "#### Concentric cylinders starting on the same slice\n",
    "  \n",
    "<img src=\"Images\\Boundaries\\PartitionSup3D.png\" alt=\"PartitionSup3D\" style=\"height:50px;\">\n",
    "<img src=\"Images\\Boundaries\\PartitionSup2D.png\" alt=\"PartitionSup2D\" style=\"height:30px;\">"
   ]
  },
  {
   "cell_type": "code",
   "execution_count": 6,
   "metadata": {},
   "outputs": [
    {
     "name": "stdout",
     "output_type": "stream",
     "text": [
      "Relationship: Partition\n"
     ]
    }
   ],
   "source": [
    "def concentric_cylinders_same_start():\n",
    "    slice_spacing = 0.1\n",
    "    # Body structure defines slices in use\n",
    "    body = make_vertical_cylinder(roi_num=0, radius=10, length=1, offset_z=-0.5,\n",
    "                                  spacing=slice_spacing)\n",
    "    # Concentric cylinders starting on the same slice\n",
    "    primary_cylinder = make_vertical_cylinder(roi_num=1, radius=2, length=0.7,\n",
    "                                              offset_z=-0.3,\n",
    "                                              spacing=slice_spacing)\n",
    "    sup_partition = make_vertical_cylinder(roi_num=2, radius=1, length=0.4,\n",
    "                                           offset_z=-0.3,\n",
    "                                           spacing=slice_spacing)\n",
    "    # combine the contours\n",
    "    slice_data = pd.concat([body, primary_cylinder, sup_partition])\n",
    "    # convert contour slice data into a table of slices and structures\n",
    "    slice_table = make_slice_table(slice_data, ignore_errors=True)\n",
    "    return slice_table\n",
    "\n",
    "\n",
    "print(find_relationship(concentric_cylinders_same_start(), [1, 2]))\n"
   ]
  },
  {
   "cell_type": "markdown",
   "metadata": {},
   "source": [
    "#### Concentric cylinders ending on the same slice.\n",
    "\n",
    "<img src=\"Images\\Boundaries\\PartitionInf3D.png\" alt=\"PartitionInf3D\" style=\"height:50px;\">\n",
    "<img src=\"Images\\Boundaries\\PartitionInf2D.png\" alt=\"PartitionInf2D\" style=\"height:30px;\">"
   ]
  },
  {
   "cell_type": "code",
   "execution_count": 7,
   "metadata": {},
   "outputs": [
    {
     "name": "stdout",
     "output_type": "stream",
     "text": [
      "Relationship: Partition\n"
     ]
    }
   ],
   "source": [
    "def concentric_cylinders_same_end():\n",
    "    slice_spacing = 0.1\n",
    "    # Body structure defines slices in use\n",
    "    body = make_vertical_cylinder(roi_num=0, radius=10, length=1, offset_z=-0.5,\n",
    "                                  spacing=slice_spacing)\n",
    "    # Concentric cylinders ending on the same slice\n",
    "    primary_cylinder = make_vertical_cylinder(roi_num=1, radius=2, length=0.7,\n",
    "                                              offset_z=-0.3,\n",
    "                                              spacing=slice_spacing)\n",
    "    inf_partition = make_vertical_cylinder(roi_num=3, radius=1, length=0.4,\n",
    "                                           offset_z=0, spacing=slice_spacing)\n",
    "    # combine the contours\n",
    "    slice_data = pd.concat([body, primary_cylinder, inf_partition])\n",
    "    # convert contour slice data into a table of slices and structures\n",
    "    slice_table = make_slice_table(slice_data, ignore_errors=True)\n",
    "    return slice_table\n",
    "\n",
    "\n",
    "print(find_relationship(concentric_cylinders_same_end(), [1, 3]))\n"
   ]
  },
  {
   "cell_type": "code",
   "execution_count": 26,
   "metadata": {},
   "outputs": [
    {
     "data": {
      "text/html": [
       "<div>\n",
       "<style scoped>\n",
       "    .dataframe tbody tr th:only-of-type {\n",
       "        vertical-align: middle;\n",
       "    }\n",
       "\n",
       "    .dataframe tbody tr th {\n",
       "        vertical-align: top;\n",
       "    }\n",
       "\n",
       "    .dataframe thead th {\n",
       "        text-align: right;\n",
       "    }\n",
       "</style>\n",
       "<table border=\"1\" class=\"dataframe\">\n",
       "  <thead>\n",
       "    <tr style=\"text-align: right;\">\n",
       "      <th>ROI Num</th>\n",
       "      <th>0</th>\n",
       "      <th>1</th>\n",
       "      <th>3</th>\n",
       "    </tr>\n",
       "    <tr>\n",
       "      <th>Slice Index</th>\n",
       "      <th></th>\n",
       "      <th></th>\n",
       "      <th></th>\n",
       "    </tr>\n",
       "  </thead>\n",
       "  <tbody>\n",
       "    <tr>\n",
       "      <th>-0.5</th>\n",
       "      <td>&lt;structure_slice.StructureSlice object at 0x00...</td>\n",
       "      <td>NaN</td>\n",
       "      <td>NaN</td>\n",
       "    </tr>\n",
       "    <tr>\n",
       "      <th>-0.4</th>\n",
       "      <td>&lt;structure_slice.StructureSlice object at 0x00...</td>\n",
       "      <td>NaN</td>\n",
       "      <td>NaN</td>\n",
       "    </tr>\n",
       "    <tr>\n",
       "      <th>-0.3</th>\n",
       "      <td>&lt;structure_slice.StructureSlice object at 0x00...</td>\n",
       "      <td>&lt;structure_slice.StructureSlice object at 0x00...</td>\n",
       "      <td>NaN</td>\n",
       "    </tr>\n",
       "    <tr>\n",
       "      <th>-0.2</th>\n",
       "      <td>&lt;structure_slice.StructureSlice object at 0x00...</td>\n",
       "      <td>&lt;structure_slice.StructureSlice object at 0x00...</td>\n",
       "      <td>NaN</td>\n",
       "    </tr>\n",
       "    <tr>\n",
       "      <th>-0.1</th>\n",
       "      <td>&lt;structure_slice.StructureSlice object at 0x00...</td>\n",
       "      <td>&lt;structure_slice.StructureSlice object at 0x00...</td>\n",
       "      <td>NaN</td>\n",
       "    </tr>\n",
       "    <tr>\n",
       "      <th>0.0</th>\n",
       "      <td>&lt;structure_slice.StructureSlice object at 0x00...</td>\n",
       "      <td>&lt;structure_slice.StructureSlice object at 0x00...</td>\n",
       "      <td>&lt;structure_slice.StructureSlice object at 0x00...</td>\n",
       "    </tr>\n",
       "    <tr>\n",
       "      <th>0.1</th>\n",
       "      <td>&lt;structure_slice.StructureSlice object at 0x00...</td>\n",
       "      <td>&lt;structure_slice.StructureSlice object at 0x00...</td>\n",
       "      <td>&lt;structure_slice.StructureSlice object at 0x00...</td>\n",
       "    </tr>\n",
       "    <tr>\n",
       "      <th>0.2</th>\n",
       "      <td>&lt;structure_slice.StructureSlice object at 0x00...</td>\n",
       "      <td>&lt;structure_slice.StructureSlice object at 0x00...</td>\n",
       "      <td>&lt;structure_slice.StructureSlice object at 0x00...</td>\n",
       "    </tr>\n",
       "    <tr>\n",
       "      <th>0.3</th>\n",
       "      <td>&lt;structure_slice.StructureSlice object at 0x00...</td>\n",
       "      <td>&lt;structure_slice.StructureSlice object at 0x00...</td>\n",
       "      <td>&lt;structure_slice.StructureSlice object at 0x00...</td>\n",
       "    </tr>\n",
       "    <tr>\n",
       "      <th>0.4</th>\n",
       "      <td>&lt;structure_slice.StructureSlice object at 0x00...</td>\n",
       "      <td>NaN</td>\n",
       "      <td>NaN</td>\n",
       "    </tr>\n",
       "  </tbody>\n",
       "</table>\n",
       "</div>"
      ],
      "text/plain": [
       "ROI Num                                                      0  \\\n",
       "Slice Index                                                      \n",
       "-0.5         <structure_slice.StructureSlice object at 0x00...   \n",
       "-0.4         <structure_slice.StructureSlice object at 0x00...   \n",
       "-0.3         <structure_slice.StructureSlice object at 0x00...   \n",
       "-0.2         <structure_slice.StructureSlice object at 0x00...   \n",
       "-0.1         <structure_slice.StructureSlice object at 0x00...   \n",
       " 0.0         <structure_slice.StructureSlice object at 0x00...   \n",
       " 0.1         <structure_slice.StructureSlice object at 0x00...   \n",
       " 0.2         <structure_slice.StructureSlice object at 0x00...   \n",
       " 0.3         <structure_slice.StructureSlice object at 0x00...   \n",
       " 0.4         <structure_slice.StructureSlice object at 0x00...   \n",
       "\n",
       "ROI Num                                                      1  \\\n",
       "Slice Index                                                      \n",
       "-0.5                                                       NaN   \n",
       "-0.4                                                       NaN   \n",
       "-0.3         <structure_slice.StructureSlice object at 0x00...   \n",
       "-0.2         <structure_slice.StructureSlice object at 0x00...   \n",
       "-0.1         <structure_slice.StructureSlice object at 0x00...   \n",
       " 0.0         <structure_slice.StructureSlice object at 0x00...   \n",
       " 0.1         <structure_slice.StructureSlice object at 0x00...   \n",
       " 0.2         <structure_slice.StructureSlice object at 0x00...   \n",
       " 0.3         <structure_slice.StructureSlice object at 0x00...   \n",
       " 0.4                                                       NaN   \n",
       "\n",
       "ROI Num                                                      3  \n",
       "Slice Index                                                     \n",
       "-0.5                                                       NaN  \n",
       "-0.4                                                       NaN  \n",
       "-0.3                                                       NaN  \n",
       "-0.2                                                       NaN  \n",
       "-0.1                                                       NaN  \n",
       " 0.0         <structure_slice.StructureSlice object at 0x00...  \n",
       " 0.1         <structure_slice.StructureSlice object at 0x00...  \n",
       " 0.2         <structure_slice.StructureSlice object at 0x00...  \n",
       " 0.3         <structure_slice.StructureSlice object at 0x00...  \n",
       " 0.4                                                       NaN  "
      ]
     },
     "execution_count": 26,
     "metadata": {},
     "output_type": "execute_result"
    }
   ],
   "source": [
    "concentric_cylinders_same_end()\n"
   ]
  },
  {
   "cell_type": "markdown",
   "metadata": {},
   "source": [
    "- Concentric cylinders starting and ending on the same slice.\n",
    "\n",
    "<img src=\"Images\\Boundaries\\Partition3D.png\" alt=\"PartitionInf3D\" style=\"height:50px;\">\n",
    "<img src=\"Images\\Boundaries\\Partition2D.png\" alt=\"PartitionInf2D\" style=\"height:30px;\">"
   ]
  },
  {
   "cell_type": "code",
   "execution_count": 8,
   "metadata": {},
   "outputs": [
    {
     "name": "stdout",
     "output_type": "stream",
     "text": [
      "Relationship: Partition\n"
     ]
    }
   ],
   "source": [
    "def concentric_cylinders_same_height():\n",
    "    slice_spacing = 0.1\n",
    "    # Body structure defines slices in use\n",
    "    body = make_vertical_cylinder(roi_num=0, radius=10, length=1, offset_z=-0.5,\n",
    "                                  spacing=slice_spacing)\n",
    "    # Concentric cylinders starting and ending on the same slice\n",
    "    primary_cylinder = make_vertical_cylinder(roi_num=1, radius=2, length=0.7,\n",
    "                                              offset_z=-0.3,\n",
    "                                              spacing=slice_spacing)\n",
    "    mid_partition = make_vertical_cylinder(roi_num=4, radius=1, length=0.7,\n",
    "                                           offset_z=-0.3,\n",
    "                                           spacing=slice_spacing)\n",
    "    # combine the contours\n",
    "    slice_data = pd.concat([body, primary_cylinder, mid_partition])\n",
    "    # convert contour slice data into a table of slices and structures\n",
    "    slice_table = make_slice_table(slice_data, ignore_errors=True)\n",
    "    return slice_table\n",
    "\n",
    "\n",
    "print(find_relationship(concentric_cylinders_same_height(), [1, 4]))\n"
   ]
  },
  {
   "cell_type": "markdown",
   "metadata": {},
   "source": [
    "### Exterior Borders\n",
    "  - Primary: Central Cylinder\n",
    "    - Secondary: one of:\n",
    "      - SUP Cylinder\n",
    "      - INF Cylinder\n",
    "      - Combined SUP & INF cylinders in one structure with single slice gap at the SUP/INF boundary of the central cylinder.\n",
    "\n",
    "      \n",
    "![Exterior Border SUP](Images/Boundaries/ExteriorBorders2D_SUP.png)\n",
    "![Exterior Border INF](Images/Boundaries/ExteriorBorders2D_INF.png)"
   ]
  },
  {
   "cell_type": "code",
   "execution_count": 9,
   "metadata": {},
   "outputs": [
    {
     "name": "stdout",
     "output_type": "stream",
     "text": [
      "Relationship: Unknown\n"
     ]
    }
   ],
   "source": [
    "def stacked_cylinders():\n",
    "    slice_spacing = 0.1\n",
    "    # Body structure defines slices in use\n",
    "    body = make_vertical_cylinder(roi_num=0, radius=10, length=1, offset_z=-0.5,\n",
    "                                  spacing=slice_spacing)\n",
    "    # Two concentric cylinders different z offsets\n",
    "    outside_cylinder = make_vertical_cylinder(roi_num=5, radius=2, length=0.4,\n",
    "                                              offset_z=-0.4,\n",
    "                                              spacing=slice_spacing)\n",
    "    inside_cylinder = make_vertical_cylinder(roi_num=6, radius=1, length=0.4,\n",
    "                                             offset_z=0, spacing=slice_spacing)\n",
    "    # combine the contours\n",
    "    slice_data = pd.concat([body, outside_cylinder, inside_cylinder])\n",
    "    # convert contour slice data into a table of slices and structures\n",
    "    slice_table = make_slice_table(slice_data, ignore_errors=True)\n",
    "    return slice_table\n",
    "\n",
    "\n",
    "print(find_relationship(stacked_cylinders(), [5, 6]))\n"
   ]
  },
  {
   "cell_type": "code",
   "execution_count": 10,
   "metadata": {},
   "outputs": [
    {
     "data": {
      "text/plain": [
       "<RelationshipType.UNKNOWN: 999>"
      ]
     },
     "execution_count": 10,
     "metadata": {},
     "output_type": "execute_result"
    }
   ],
   "source": [
    "find_relationship(stacked_cylinders(), [5, 6])"
   ]
  },
  {
   "cell_type": "code",
   "execution_count": 11,
   "metadata": {},
   "outputs": [
    {
     "data": {
      "text/html": [
       "<div>\n",
       "<style scoped>\n",
       "    .dataframe tbody tr th:only-of-type {\n",
       "        vertical-align: middle;\n",
       "    }\n",
       "\n",
       "    .dataframe tbody tr th {\n",
       "        vertical-align: top;\n",
       "    }\n",
       "\n",
       "    .dataframe thead th {\n",
       "        text-align: right;\n",
       "    }\n",
       "</style>\n",
       "<table border=\"1\" class=\"dataframe\">\n",
       "  <thead>\n",
       "    <tr style=\"text-align: right;\">\n",
       "      <th>ROI Num</th>\n",
       "      <th>5</th>\n",
       "      <th>6</th>\n",
       "    </tr>\n",
       "    <tr>\n",
       "      <th>Slice Index</th>\n",
       "      <th></th>\n",
       "      <th></th>\n",
       "    </tr>\n",
       "  </thead>\n",
       "  <tbody>\n",
       "    <tr>\n",
       "      <th>-0.4</th>\n",
       "      <td>&lt;structure_slice.StructureSlice object at 0x00...</td>\n",
       "      <td>NaN</td>\n",
       "    </tr>\n",
       "    <tr>\n",
       "      <th>-0.3</th>\n",
       "      <td>&lt;structure_slice.StructureSlice object at 0x00...</td>\n",
       "      <td>NaN</td>\n",
       "    </tr>\n",
       "    <tr>\n",
       "      <th>-0.2</th>\n",
       "      <td>&lt;structure_slice.StructureSlice object at 0x00...</td>\n",
       "      <td>NaN</td>\n",
       "    </tr>\n",
       "    <tr>\n",
       "      <th>-0.1</th>\n",
       "      <td>&lt;structure_slice.StructureSlice object at 0x00...</td>\n",
       "      <td>NaN</td>\n",
       "    </tr>\n",
       "    <tr>\n",
       "      <th>0.0</th>\n",
       "      <td>NaN</td>\n",
       "      <td>&lt;structure_slice.StructureSlice object at 0x00...</td>\n",
       "    </tr>\n",
       "    <tr>\n",
       "      <th>0.1</th>\n",
       "      <td>NaN</td>\n",
       "      <td>&lt;structure_slice.StructureSlice object at 0x00...</td>\n",
       "    </tr>\n",
       "    <tr>\n",
       "      <th>0.2</th>\n",
       "      <td>NaN</td>\n",
       "      <td>&lt;structure_slice.StructureSlice object at 0x00...</td>\n",
       "    </tr>\n",
       "    <tr>\n",
       "      <th>0.3</th>\n",
       "      <td>NaN</td>\n",
       "      <td>&lt;structure_slice.StructureSlice object at 0x00...</td>\n",
       "    </tr>\n",
       "  </tbody>\n",
       "</table>\n",
       "</div>"
      ],
      "text/plain": [
       "ROI Num                                                      5  \\\n",
       "Slice Index                                                      \n",
       "-0.4         <structure_slice.StructureSlice object at 0x00...   \n",
       "-0.3         <structure_slice.StructureSlice object at 0x00...   \n",
       "-0.2         <structure_slice.StructureSlice object at 0x00...   \n",
       "-0.1         <structure_slice.StructureSlice object at 0x00...   \n",
       " 0.0                                                       NaN   \n",
       " 0.1                                                       NaN   \n",
       " 0.2                                                       NaN   \n",
       " 0.3                                                       NaN   \n",
       "\n",
       "ROI Num                                                      6  \n",
       "Slice Index                                                     \n",
       "-0.4                                                       NaN  \n",
       "-0.3                                                       NaN  \n",
       "-0.2                                                       NaN  \n",
       "-0.1                                                       NaN  \n",
       " 0.0         <structure_slice.StructureSlice object at 0x00...  \n",
       " 0.1         <structure_slice.StructureSlice object at 0x00...  \n",
       " 0.2         <structure_slice.StructureSlice object at 0x00...  \n",
       " 0.3         <structure_slice.StructureSlice object at 0x00...  "
      ]
     },
     "execution_count": 11,
     "metadata": {},
     "output_type": "execute_result"
    }
   ],
   "source": [
    "selected_roi = [5, 6]\n",
    "primary, secondary = selected_roi\n",
    "slice_table = stacked_cylinders()\n",
    "# Slice range = Min(starting slice) to Max(ending slice)\n",
    "selected_slices = select_slices(slice_table, selected_roi)\n",
    "selected_slices"
   ]
  },
  {
   "cell_type": "code",
   "execution_count": 12,
   "metadata": {},
   "outputs": [
    {
     "data": {
      "text/plain": [
       "Slice Index\n",
       "-0.4   NaN\n",
       "-0.3   NaN\n",
       "-0.2   NaN\n",
       "-0.1   NaN\n",
       " 0.0   NaN\n",
       " 0.1   NaN\n",
       " 0.2   NaN\n",
       " 0.3   NaN\n",
       "Name: DE27IM, dtype: float64"
      ]
     },
     "execution_count": 12,
     "metadata": {},
     "output_type": "execute_result"
    }
   ],
   "source": [
    "# Send all slices with both Primary and Secondary contours for standard\n",
    "# relation testing\n",
    "mid_relations = selected_slices.agg(relate_structures,\n",
    "                                    structures=selected_roi,\n",
    "                                    axis='columns')\n",
    "mid_relations.name = 'DE27IM'\n",
    "mid_relations"
   ]
  },
  {
   "cell_type": "code",
   "execution_count": 13,
   "metadata": {},
   "outputs": [
    {
     "data": {
      "text/plain": [
       "IdxB\n",
       "0.0     111001001  |  111001001  |  111001001 \n",
       "Name: DE27IM, dtype: object"
      ]
     },
     "execution_count": 13,
     "metadata": {},
     "output_type": "execute_result"
    }
   ],
   "source": [
    "# Test the relation between the boundary Primary and the selected Secondary.\n",
    "matched_slices = boundary_match(slice_table, selected_roi)\n",
    "bdry_rel = matched_slices.agg(relate_structures, structures=selected_roi,\n",
    "                                axis='columns')\n",
    "bdry_rel.name = 'DE27IM'\n",
    "bdry_rel.apply(bin_format)\n"
   ]
  },
  {
   "cell_type": "code",
   "execution_count": 14,
   "metadata": {},
   "outputs": [
    {
     "data": {
      "text/plain": [
       "IdxB\n",
       "0.0     000011001  |  000011001  |  000011001 \n",
       "Name: DE27IM, dtype: object"
      ]
     },
     "execution_count": 14,
     "metadata": {},
     "output_type": "execute_result"
    }
   ],
   "source": [
    "# Apply a Primary boundary shift to the relation results.\n",
    "bdry_rel = bdry_rel.apply(adjust_boundary_relation, shift_type='a')\n",
    "# If the selected Secondary is also a Secondary boundary, apply a Secondary\n",
    "#   boundary shift as well.\n",
    "secondary_boundaries = find_boundary_slices(slice_table[secondary])\n",
    "bdry_b = [idx for idx in secondary_boundaries\n",
    "                            if idx in bdry_rel.index]\n",
    "bdry_rel.loc[bdry_b] = bdry_rel[bdry_b].apply(adjust_boundary_relation,\n",
    "                                                shift_type='b')\n",
    "bdry_rel.name = 'DE27IM'\n",
    "bdry_rel.apply(bin_format)"
   ]
  },
  {
   "attachments": {
    "image-2.png": {
     "image/png": "[encoded data removed]"
    },
    "image.png": {
     "image/png": "[encoded data removed]"
    }
   },
   "cell_type": "markdown",
   "metadata": {},
   "source": [
    "### Interior Borders\n",
    "  - Primary: Central Cylinder\n",
    "  - Concentric shorter hole in the center of the primary cylinder\n",
    "  - Secondary same height as hole but narrower\n",
    "  - Interior borders at the and bottom of hole.\n",
    "  \n",
    "![image.png](attachment:image.png)\n",
    "![image-2.png](attachment:image-2.png)"
   ]
  },
  {
   "cell_type": "code",
   "execution_count": 15,
   "metadata": {},
   "outputs": [
    {
     "name": "stdout",
     "output_type": "stream",
     "text": [
      "Relationship: Surrounds\n"
     ]
    }
   ],
   "source": [
    "def embedded_cylinder():\n",
    "    slice_spacing = 0.1\n",
    "    # Body structure defines slices in use\n",
    "    body = make_vertical_cylinder(roi_num=0, radius=10, length=1, offset_z=-0.5,\n",
    "                                  spacing=slice_spacing)\n",
    "    primary_cylinder = make_vertical_cylinder(roi_num=9, radius=4, length=0.7,\n",
    "                                              offset_z=-0.3,\n",
    "                                              spacing=slice_spacing)\n",
    "    center_hole = make_vertical_cylinder(roi_num=9, radius=2, length=0.5,\n",
    "                                         offset_z=-0.2, spacing=slice_spacing)\n",
    "    # Two concentric cylinders different z offsets\n",
    "    middle_cylinder = make_vertical_cylinder(roi_num=10, radius=1, length=0.5,\n",
    "                                             offset_z=-0.2,\n",
    "                                             spacing=slice_spacing)\n",
    "    reference = make_vertical_cylinder(roi_num=11, radius=2, length=0.5,\n",
    "                                         offset_z=-0.2, spacing=slice_spacing)\n",
    "    # combine the contours\n",
    "    slice_data = pd.concat([body, primary_cylinder, center_hole, middle_cylinder, reference])\n",
    "    # convert contour slice data into a table of slices and structures\n",
    "    slice_table = make_slice_table(slice_data, ignore_errors=True)\n",
    "    return slice_table\n",
    "\n",
    "\n",
    "print(find_relationship(embedded_cylinder(), [9, 10]))\n"
   ]
  },
  {
   "cell_type": "markdown",
   "metadata": {},
   "source": [
    "- The `boundary_match` and `match_neighbour_slices` functions will need to be updated to include the hole boundary tests.\n",
    "  - For hole boundaries, select the neighboring slice (s) that *DO* have a hole contour.\n",
    "  - The Secondary slice selection works as usual."
   ]
  },
  {
   "cell_type": "code",
   "execution_count": 16,
   "metadata": {},
   "outputs": [],
   "source": [
    "\n",
    "def get_neighbour_slices(boundary_index, slice_index,\n",
    "                            shift_dir)->pd.DataFrame:\n",
    "    # Find the boundary neighbours\n",
    "    # Get the index of the previous slice\n",
    "    neighbour_slice = slice_index.shift(shift_dir)\n",
    "    # Select only the slices that are boundary slices of the primary ROI\n",
    "    neighbour_boundary_slices = neighbour_slice[boundary_index]\n",
    "    # Drop the neighbour slices that contain a primary contour\n",
    "    neighbour_boundary_slices.dropna(inplace=True)\n",
    "    # Reset the index to get the boundary slice number\n",
    "    neighbour_boundary_slices = neighbour_boundary_slices.reset_index()\n",
    "    neighbour_boundary_slices.columns = ['Boundary', 'Neighbour']\n",
    "    return neighbour_boundary_slices\n",
    "\n",
    "def no_structure_idx(slice_table, roi_num):\n",
    "    # Create a series containing the slice index for slices that\n",
    "    # do NOT have a primary contour\n",
    "    no_contour_idx = slice_table.index.to_series(name='ROI_Index')\n",
    "    # Select all slices that do not contain a contour for the Primary ROI\n",
    "    missing_contour = slice_table[roi_num].apply(empty_structure)\n",
    "    # Remove the slice indexes that have a primary contour\n",
    "    no_contour_idx[~missing_contour] = np.nan\n",
    "    return no_contour_idx\n"
   ]
  },
  {
   "cell_type": "code",
   "execution_count": 17,
   "metadata": {},
   "outputs": [
    {
     "name": "stdout",
     "output_type": "stream",
     "text": [
      "Relationship: Surrounds\n"
     ]
    }
   ],
   "source": [
    "def dual_embedded_cylinder():\n",
    "    slice_spacing = 0.1\n",
    "    # Body structure defines slices in use\n",
    "    body = make_vertical_cylinder(roi_num=0, radius=12, length=1, offset_z=-0.5,\n",
    "                                  spacing=slice_spacing)\n",
    "    primary_cylinder = make_vertical_cylinder(roi_num=1, radius=5, length=0.7,\n",
    "                                              offset_z=-0.3,\n",
    "                                              spacing=slice_spacing)\n",
    "    left_hole = make_vertical_cylinder(roi_num=1, radius=2, length=0.5,\n",
    "                                       offset_x=-2.5, offset_z=-0.2,\n",
    "                                       spacing=slice_spacing)\n",
    "    right_hole = make_vertical_cylinder(roi_num=1, radius=2, length=0.5,\n",
    "                                       offset_x=2.5, offset_z=-0.2,\n",
    "                                       spacing=slice_spacing)\n",
    "    # Two concentric cylinders different z offsets\n",
    "    middle_cylinder = make_vertical_cylinder(roi_num=2, radius=1, length=0.5,\n",
    "                                             offset_x=2.5, offset_z=-0.2,\n",
    "                                             spacing=slice_spacing)\n",
    "\n",
    "    # combine the contours\n",
    "    slice_data = pd.concat([body, primary_cylinder, left_hole, right_hole, middle_cylinder])\n",
    "    # convert contour slice data into a table of slices and structures\n",
    "    slice_table = make_slice_table(slice_data, ignore_errors=True)\n",
    "    return slice_table\n",
    "\n",
    "\n",
    "print(find_relationship(dual_embedded_cylinder(), [1, 2]))\n"
   ]
  },
  {
   "cell_type": "code",
   "execution_count": 18,
   "metadata": {},
   "outputs": [
    {
     "data": {
      "text/html": [
       "<div>\n",
       "<style scoped>\n",
       "    .dataframe tbody tr th:only-of-type {\n",
       "        vertical-align: middle;\n",
       "    }\n",
       "\n",
       "    .dataframe tbody tr th {\n",
       "        vertical-align: top;\n",
       "    }\n",
       "\n",
       "    .dataframe thead th {\n",
       "        text-align: right;\n",
       "    }\n",
       "</style>\n",
       "<table border=\"1\" class=\"dataframe\">\n",
       "  <thead>\n",
       "    <tr style=\"text-align: right;\">\n",
       "      <th>ROI Num</th>\n",
       "      <th>1</th>\n",
       "      <th>2</th>\n",
       "    </tr>\n",
       "    <tr>\n",
       "      <th>Slice Index</th>\n",
       "      <th></th>\n",
       "      <th></th>\n",
       "    </tr>\n",
       "  </thead>\n",
       "  <tbody>\n",
       "    <tr>\n",
       "      <th>-0.3</th>\n",
       "      <td>&lt;structure_slice.StructureSlice object at 0x00...</td>\n",
       "      <td>NaN</td>\n",
       "    </tr>\n",
       "    <tr>\n",
       "      <th>-0.2</th>\n",
       "      <td>&lt;structure_slice.StructureSlice object at 0x00...</td>\n",
       "      <td>&lt;structure_slice.StructureSlice object at 0x00...</td>\n",
       "    </tr>\n",
       "    <tr>\n",
       "      <th>-0.1</th>\n",
       "      <td>&lt;structure_slice.StructureSlice object at 0x00...</td>\n",
       "      <td>&lt;structure_slice.StructureSlice object at 0x00...</td>\n",
       "    </tr>\n",
       "    <tr>\n",
       "      <th>0.0</th>\n",
       "      <td>&lt;structure_slice.StructureSlice object at 0x00...</td>\n",
       "      <td>&lt;structure_slice.StructureSlice object at 0x00...</td>\n",
       "    </tr>\n",
       "    <tr>\n",
       "      <th>0.1</th>\n",
       "      <td>&lt;structure_slice.StructureSlice object at 0x00...</td>\n",
       "      <td>&lt;structure_slice.StructureSlice object at 0x00...</td>\n",
       "    </tr>\n",
       "    <tr>\n",
       "      <th>0.2</th>\n",
       "      <td>&lt;structure_slice.StructureSlice object at 0x00...</td>\n",
       "      <td>&lt;structure_slice.StructureSlice object at 0x00...</td>\n",
       "    </tr>\n",
       "    <tr>\n",
       "      <th>0.3</th>\n",
       "      <td>&lt;structure_slice.StructureSlice object at 0x00...</td>\n",
       "      <td>NaN</td>\n",
       "    </tr>\n",
       "  </tbody>\n",
       "</table>\n",
       "</div>"
      ],
      "text/plain": [
       "ROI Num                                                      1  \\\n",
       "Slice Index                                                      \n",
       "-0.3         <structure_slice.StructureSlice object at 0x00...   \n",
       "-0.2         <structure_slice.StructureSlice object at 0x00...   \n",
       "-0.1         <structure_slice.StructureSlice object at 0x00...   \n",
       " 0.0         <structure_slice.StructureSlice object at 0x00...   \n",
       " 0.1         <structure_slice.StructureSlice object at 0x00...   \n",
       " 0.2         <structure_slice.StructureSlice object at 0x00...   \n",
       " 0.3         <structure_slice.StructureSlice object at 0x00...   \n",
       "\n",
       "ROI Num                                                      2  \n",
       "Slice Index                                                     \n",
       "-0.3                                                       NaN  \n",
       "-0.2         <structure_slice.StructureSlice object at 0x00...  \n",
       "-0.1         <structure_slice.StructureSlice object at 0x00...  \n",
       " 0.0         <structure_slice.StructureSlice object at 0x00...  \n",
       " 0.1         <structure_slice.StructureSlice object at 0x00...  \n",
       " 0.2         <structure_slice.StructureSlice object at 0x00...  \n",
       " 0.3                                                       NaN  "
      ]
     },
     "execution_count": 18,
     "metadata": {},
     "output_type": "execute_result"
    }
   ],
   "source": [
    "selected_roi = [1, 2]\n",
    "roi_a, roi_b = selected_roi\n",
    "primary, secondary = selected_roi\n",
    "slice_table = dual_embedded_cylinder()\n",
    "selected_slices = select_slices(slice_table, selected_roi)\n",
    "selected_slices"
   ]
  },
  {
   "cell_type": "code",
   "execution_count": 19,
   "metadata": {},
   "outputs": [
    {
     "data": {
      "text/plain": [
       "[-0.3, 0.3]"
      ]
     },
     "execution_count": 19,
     "metadata": {},
     "output_type": "execute_result"
    }
   ],
   "source": [
    "\n",
    "primary_boundaries = find_boundary_slices(slice_table[roi_a])\n",
    "primary_boundaries"
   ]
  },
  {
   "cell_type": "code",
   "execution_count": 20,
   "metadata": {},
   "outputs": [
    {
     "data": {
      "text/plain": [
       "[-0.2, 0.2]"
      ]
     },
     "execution_count": 20,
     "metadata": {},
     "output_type": "execute_result"
    }
   ],
   "source": [
    "\n",
    "secondary_boundaries = find_boundary_slices(slice_table[roi_b])\n",
    "secondary_boundaries"
   ]
  },
  {
   "cell_type": "code",
   "execution_count": 21,
   "metadata": {},
   "outputs": [
    {
     "data": {
      "text/html": [
       "<div>\n",
       "<style scoped>\n",
       "    .dataframe tbody tr th:only-of-type {\n",
       "        vertical-align: middle;\n",
       "    }\n",
       "\n",
       "    .dataframe tbody tr th {\n",
       "        vertical-align: top;\n",
       "    }\n",
       "\n",
       "    .dataframe thead th {\n",
       "        text-align: right;\n",
       "    }\n",
       "</style>\n",
       "<table border=\"1\" class=\"dataframe\">\n",
       "  <thead>\n",
       "    <tr style=\"text-align: right;\">\n",
       "      <th></th>\n",
       "      <th>position</th>\n",
       "      <th>contour</th>\n",
       "    </tr>\n",
       "  </thead>\n",
       "  <tbody>\n",
       "    <tr>\n",
       "      <th>0</th>\n",
       "      <td>-0.2</td>\n",
       "      <td>POLYGON ((-3.914 1.414, -4.348 0.765, -4.5 0, ...</td>\n",
       "    </tr>\n",
       "    <tr>\n",
       "      <th>1</th>\n",
       "      <td>-0.2</td>\n",
       "      <td>POLYGON ((1.735 1.848, 1.086 1.414, 0.652 0.76...</td>\n",
       "    </tr>\n",
       "    <tr>\n",
       "      <th>2</th>\n",
       "      <td>-0.1</td>\n",
       "      <td>POLYGON ((-3.914 1.414, -4.348 0.765, -4.5 0, ...</td>\n",
       "    </tr>\n",
       "    <tr>\n",
       "      <th>3</th>\n",
       "      <td>-0.1</td>\n",
       "      <td>POLYGON ((1.735 1.848, 1.086 1.414, 0.652 0.76...</td>\n",
       "    </tr>\n",
       "    <tr>\n",
       "      <th>4</th>\n",
       "      <td>0.0</td>\n",
       "      <td>POLYGON ((-3.914 1.414, -4.348 0.765, -4.5 0, ...</td>\n",
       "    </tr>\n",
       "    <tr>\n",
       "      <th>5</th>\n",
       "      <td>0.0</td>\n",
       "      <td>POLYGON ((1.735 1.848, 1.086 1.414, 0.652 0.76...</td>\n",
       "    </tr>\n",
       "    <tr>\n",
       "      <th>6</th>\n",
       "      <td>0.1</td>\n",
       "      <td>POLYGON ((-3.914 1.414, -4.348 0.765, -4.5 0, ...</td>\n",
       "    </tr>\n",
       "    <tr>\n",
       "      <th>7</th>\n",
       "      <td>0.1</td>\n",
       "      <td>POLYGON ((1.735 1.848, 1.086 1.414, 0.652 0.76...</td>\n",
       "    </tr>\n",
       "    <tr>\n",
       "      <th>8</th>\n",
       "      <td>0.2</td>\n",
       "      <td>POLYGON ((-3.914 1.414, -4.348 0.765, -4.5 0, ...</td>\n",
       "    </tr>\n",
       "    <tr>\n",
       "      <th>9</th>\n",
       "      <td>0.2</td>\n",
       "      <td>POLYGON ((1.735 1.848, 1.086 1.414, 0.652 0.76...</td>\n",
       "    </tr>\n",
       "  </tbody>\n",
       "</table>\n",
       "</div>"
      ],
      "text/plain": [
       "   position                                            contour\n",
       "0      -0.2  POLYGON ((-3.914 1.414, -4.348 0.765, -4.5 0, ...\n",
       "1      -0.2  POLYGON ((1.735 1.848, 1.086 1.414, 0.652 0.76...\n",
       "2      -0.1  POLYGON ((-3.914 1.414, -4.348 0.765, -4.5 0, ...\n",
       "3      -0.1  POLYGON ((1.735 1.848, 1.086 1.414, 0.652 0.76...\n",
       "4       0.0  POLYGON ((-3.914 1.414, -4.348 0.765, -4.5 0, ...\n",
       "5       0.0  POLYGON ((1.735 1.848, 1.086 1.414, 0.652 0.76...\n",
       "6       0.1  POLYGON ((-3.914 1.414, -4.348 0.765, -4.5 0, ...\n",
       "7       0.1  POLYGON ((1.735 1.848, 1.086 1.414, 0.652 0.76...\n",
       "8       0.2  POLYGON ((-3.914 1.414, -4.348 0.765, -4.5 0, ...\n",
       "9       0.2  POLYGON ((1.735 1.848, 1.086 1.414, 0.652 0.76..."
      ]
     },
     "execution_count": 21,
     "metadata": {},
     "output_type": "execute_result"
    }
   ],
   "source": [
    "holes = []\n",
    "for slice in slice_table[roi_a].values:\n",
    "    if not empty_structure(slice):\n",
    "        slice_holes = slice.interiors\n",
    "        for hole in slice_holes:\n",
    "            holes.append({'position': slice.slice_position, 'contour': hole})\n",
    "\n",
    "pd.DataFrame(holes)"
   ]
  },
  {
   "cell_type": "code",
   "execution_count": 22,
   "metadata": {},
   "outputs": [
    {
     "data": {
      "text/html": [
       "<div>\n",
       "<style scoped>\n",
       "    .dataframe tbody tr th:only-of-type {\n",
       "        vertical-align: middle;\n",
       "    }\n",
       "\n",
       "    .dataframe tbody tr th {\n",
       "        vertical-align: top;\n",
       "    }\n",
       "\n",
       "    .dataframe thead th {\n",
       "        text-align: right;\n",
       "    }\n",
       "</style>\n",
       "<table border=\"1\" class=\"dataframe\">\n",
       "  <thead>\n",
       "    <tr style=\"text-align: right;\">\n",
       "      <th></th>\n",
       "      <th>Boundary</th>\n",
       "      <th>Neighbour</th>\n",
       "    </tr>\n",
       "  </thead>\n",
       "  <tbody>\n",
       "    <tr>\n",
       "      <th>0</th>\n",
       "      <td>0.3</td>\n",
       "      <td>0.4</td>\n",
       "    </tr>\n",
       "    <tr>\n",
       "      <th>1</th>\n",
       "      <td>-0.3</td>\n",
       "      <td>-0.4</td>\n",
       "    </tr>\n",
       "  </tbody>\n",
       "</table>\n",
       "</div>"
      ],
      "text/plain": [
       "   Boundary  Neighbour\n",
       "0       0.3        0.4\n",
       "1      -0.3       -0.4"
      ]
     },
     "execution_count": 22,
     "metadata": {},
     "output_type": "execute_result"
    }
   ],
   "source": [
    "# Get the slice index for slices that do NOT have a primary contour\n",
    "no_primary_slice_index = no_structure_idx(slice_table, roi_a)\n",
    "# Identify the previous and next slice for each boundary slice that do\n",
    "# not have a primary contour\n",
    "previous_slice = get_neighbour_slices(primary_boundaries,\n",
    "                                        no_primary_slice_index, shift_dir=-1)\n",
    "next_slice = get_neighbour_slices(primary_boundaries,\n",
    "                                    no_primary_slice_index, shift_dir=1)\n",
    "# Combine the previous and next slices\n",
    "neighbouring_slices = pd.concat([previous_slice, next_slice],\n",
    "                                ignore_index=True)\n",
    "neighbouring_slices\n"
   ]
  },
  {
   "cell_type": "code",
   "execution_count": 23,
   "metadata": {},
   "outputs": [
    {
     "ename": "KeyError",
     "evalue": "9",
     "output_type": "error",
     "traceback": [
      "\u001b[1;31m---------------------------------------------------------------------------\u001b[0m",
      "\u001b[1;31mKeyError\u001b[0m                                  Traceback (most recent call last)",
      "File \u001b[1;32mc:\\ProgramData\\Anaconda3\\envs\\StructureRelations\\Lib\\site-packages\\pandas\\core\\indexes\\base.py:3805\u001b[0m, in \u001b[0;36mIndex.get_loc\u001b[1;34m(self, key)\u001b[0m\n\u001b[0;32m   3804\u001b[0m \u001b[38;5;28;01mtry\u001b[39;00m:\n\u001b[1;32m-> 3805\u001b[0m     \u001b[38;5;28;01mreturn\u001b[39;00m \u001b[38;5;28;43mself\u001b[39;49m\u001b[38;5;241;43m.\u001b[39;49m\u001b[43m_engine\u001b[49m\u001b[38;5;241;43m.\u001b[39;49m\u001b[43mget_loc\u001b[49m\u001b[43m(\u001b[49m\u001b[43mcasted_key\u001b[49m\u001b[43m)\u001b[49m\n\u001b[0;32m   3806\u001b[0m \u001b[38;5;28;01mexcept\u001b[39;00m \u001b[38;5;167;01mKeyError\u001b[39;00m \u001b[38;5;28;01mas\u001b[39;00m err:\n",
      "File \u001b[1;32mindex.pyx:167\u001b[0m, in \u001b[0;36mpandas._libs.index.IndexEngine.get_loc\u001b[1;34m()\u001b[0m\n",
      "File \u001b[1;32mindex.pyx:196\u001b[0m, in \u001b[0;36mpandas._libs.index.IndexEngine.get_loc\u001b[1;34m()\u001b[0m\n",
      "File \u001b[1;32mpandas\\\\_libs\\\\hashtable_class_helper.pxi:2606\u001b[0m, in \u001b[0;36mpandas._libs.hashtable.Int64HashTable.get_item\u001b[1;34m()\u001b[0m\n",
      "File \u001b[1;32mpandas\\\\_libs\\\\hashtable_class_helper.pxi:2630\u001b[0m, in \u001b[0;36mpandas._libs.hashtable.Int64HashTable.get_item\u001b[1;34m()\u001b[0m\n",
      "\u001b[1;31mKeyError\u001b[0m: 9",
      "\nThe above exception was the direct cause of the following exception:\n",
      "\u001b[1;31mKeyError\u001b[0m                                  Traceback (most recent call last)",
      "Cell \u001b[1;32mIn[23], line 1\u001b[0m\n\u001b[1;32m----> 1\u001b[0m plot_ab(\u001b[43mslice_table\u001b[49m\u001b[38;5;241;43m.\u001b[39;49m\u001b[43mat\u001b[49m\u001b[43m[\u001b[49m\u001b[38;5;241;43m0.2\u001b[39;49m\u001b[43m,\u001b[49m\u001b[38;5;241;43m9\u001b[39;49m\u001b[43m]\u001b[49m\u001b[38;5;241m.\u001b[39mcontour, slice_table\u001b[38;5;241m.\u001b[39mat[\u001b[38;5;241m0.2\u001b[39m,\u001b[38;5;241m10\u001b[39m]\u001b[38;5;241m.\u001b[39mcontour)\n",
      "File \u001b[1;32mc:\\ProgramData\\Anaconda3\\envs\\StructureRelations\\Lib\\site-packages\\pandas\\core\\indexing.py:2575\u001b[0m, in \u001b[0;36m_AtIndexer.__getitem__\u001b[1;34m(self, key)\u001b[0m\n\u001b[0;32m   2572\u001b[0m         \u001b[38;5;28;01mraise\u001b[39;00m \u001b[38;5;167;01mValueError\u001b[39;00m(\u001b[38;5;124m\"\u001b[39m\u001b[38;5;124mInvalid call for scalar access (getting)!\u001b[39m\u001b[38;5;124m\"\u001b[39m)\n\u001b[0;32m   2573\u001b[0m     \u001b[38;5;28;01mreturn\u001b[39;00m \u001b[38;5;28mself\u001b[39m\u001b[38;5;241m.\u001b[39mobj\u001b[38;5;241m.\u001b[39mloc[key]\n\u001b[1;32m-> 2575\u001b[0m \u001b[38;5;28;01mreturn\u001b[39;00m \u001b[38;5;28;43msuper\u001b[39;49m\u001b[43m(\u001b[49m\u001b[43m)\u001b[49m\u001b[38;5;241;43m.\u001b[39;49m\u001b[38;5;21;43m__getitem__\u001b[39;49m\u001b[43m(\u001b[49m\u001b[43mkey\u001b[49m\u001b[43m)\u001b[49m\n",
      "File \u001b[1;32mc:\\ProgramData\\Anaconda3\\envs\\StructureRelations\\Lib\\site-packages\\pandas\\core\\indexing.py:2527\u001b[0m, in \u001b[0;36m_ScalarAccessIndexer.__getitem__\u001b[1;34m(self, key)\u001b[0m\n\u001b[0;32m   2524\u001b[0m         \u001b[38;5;28;01mraise\u001b[39;00m \u001b[38;5;167;01mValueError\u001b[39;00m(\u001b[38;5;124m\"\u001b[39m\u001b[38;5;124mInvalid call for scalar access (getting)!\u001b[39m\u001b[38;5;124m\"\u001b[39m)\n\u001b[0;32m   2526\u001b[0m key \u001b[38;5;241m=\u001b[39m \u001b[38;5;28mself\u001b[39m\u001b[38;5;241m.\u001b[39m_convert_key(key)\n\u001b[1;32m-> 2527\u001b[0m \u001b[38;5;28;01mreturn\u001b[39;00m \u001b[38;5;28;43mself\u001b[39;49m\u001b[38;5;241;43m.\u001b[39;49m\u001b[43mobj\u001b[49m\u001b[38;5;241;43m.\u001b[39;49m\u001b[43m_get_value\u001b[49m\u001b[43m(\u001b[49m\u001b[38;5;241;43m*\u001b[39;49m\u001b[43mkey\u001b[49m\u001b[43m,\u001b[49m\u001b[43m \u001b[49m\u001b[43mtakeable\u001b[49m\u001b[38;5;241;43m=\u001b[39;49m\u001b[38;5;28;43mself\u001b[39;49m\u001b[38;5;241;43m.\u001b[39;49m\u001b[43m_takeable\u001b[49m\u001b[43m)\u001b[49m\n",
      "File \u001b[1;32mc:\\ProgramData\\Anaconda3\\envs\\StructureRelations\\Lib\\site-packages\\pandas\\core\\frame.py:4214\u001b[0m, in \u001b[0;36mDataFrame._get_value\u001b[1;34m(self, index, col, takeable)\u001b[0m\n\u001b[0;32m   4211\u001b[0m     series \u001b[38;5;241m=\u001b[39m \u001b[38;5;28mself\u001b[39m\u001b[38;5;241m.\u001b[39m_ixs(col, axis\u001b[38;5;241m=\u001b[39m\u001b[38;5;241m1\u001b[39m)\n\u001b[0;32m   4212\u001b[0m     \u001b[38;5;28;01mreturn\u001b[39;00m series\u001b[38;5;241m.\u001b[39m_values[index]\n\u001b[1;32m-> 4214\u001b[0m series \u001b[38;5;241m=\u001b[39m \u001b[38;5;28;43mself\u001b[39;49m\u001b[38;5;241;43m.\u001b[39;49m\u001b[43m_get_item_cache\u001b[49m\u001b[43m(\u001b[49m\u001b[43mcol\u001b[49m\u001b[43m)\u001b[49m\n\u001b[0;32m   4215\u001b[0m engine \u001b[38;5;241m=\u001b[39m \u001b[38;5;28mself\u001b[39m\u001b[38;5;241m.\u001b[39mindex\u001b[38;5;241m.\u001b[39m_engine\n\u001b[0;32m   4217\u001b[0m \u001b[38;5;28;01mif\u001b[39;00m \u001b[38;5;129;01mnot\u001b[39;00m \u001b[38;5;28misinstance\u001b[39m(\u001b[38;5;28mself\u001b[39m\u001b[38;5;241m.\u001b[39mindex, MultiIndex):\n\u001b[0;32m   4218\u001b[0m     \u001b[38;5;66;03m# CategoricalIndex: Trying to use the engine fastpath may give incorrect\u001b[39;00m\n\u001b[0;32m   4219\u001b[0m     \u001b[38;5;66;03m#  results if our categories are integers that dont match our codes\u001b[39;00m\n\u001b[0;32m   4220\u001b[0m     \u001b[38;5;66;03m# IntervalIndex: IntervalTree has no get_loc\u001b[39;00m\n",
      "File \u001b[1;32mc:\\ProgramData\\Anaconda3\\envs\\StructureRelations\\Lib\\site-packages\\pandas\\core\\frame.py:4638\u001b[0m, in \u001b[0;36mDataFrame._get_item_cache\u001b[1;34m(self, item)\u001b[0m\n\u001b[0;32m   4633\u001b[0m res \u001b[38;5;241m=\u001b[39m cache\u001b[38;5;241m.\u001b[39mget(item)\n\u001b[0;32m   4634\u001b[0m \u001b[38;5;28;01mif\u001b[39;00m res \u001b[38;5;129;01mis\u001b[39;00m \u001b[38;5;28;01mNone\u001b[39;00m:\n\u001b[0;32m   4635\u001b[0m     \u001b[38;5;66;03m# All places that call _get_item_cache have unique columns,\u001b[39;00m\n\u001b[0;32m   4636\u001b[0m     \u001b[38;5;66;03m#  pending resolution of GH#33047\u001b[39;00m\n\u001b[1;32m-> 4638\u001b[0m     loc \u001b[38;5;241m=\u001b[39m \u001b[38;5;28;43mself\u001b[39;49m\u001b[38;5;241;43m.\u001b[39;49m\u001b[43mcolumns\u001b[49m\u001b[38;5;241;43m.\u001b[39;49m\u001b[43mget_loc\u001b[49m\u001b[43m(\u001b[49m\u001b[43mitem\u001b[49m\u001b[43m)\u001b[49m\n\u001b[0;32m   4639\u001b[0m     res \u001b[38;5;241m=\u001b[39m \u001b[38;5;28mself\u001b[39m\u001b[38;5;241m.\u001b[39m_ixs(loc, axis\u001b[38;5;241m=\u001b[39m\u001b[38;5;241m1\u001b[39m)\n\u001b[0;32m   4641\u001b[0m     cache[item] \u001b[38;5;241m=\u001b[39m res\n",
      "File \u001b[1;32mc:\\ProgramData\\Anaconda3\\envs\\StructureRelations\\Lib\\site-packages\\pandas\\core\\indexes\\base.py:3812\u001b[0m, in \u001b[0;36mIndex.get_loc\u001b[1;34m(self, key)\u001b[0m\n\u001b[0;32m   3807\u001b[0m     \u001b[38;5;28;01mif\u001b[39;00m \u001b[38;5;28misinstance\u001b[39m(casted_key, \u001b[38;5;28mslice\u001b[39m) \u001b[38;5;129;01mor\u001b[39;00m (\n\u001b[0;32m   3808\u001b[0m         \u001b[38;5;28misinstance\u001b[39m(casted_key, abc\u001b[38;5;241m.\u001b[39mIterable)\n\u001b[0;32m   3809\u001b[0m         \u001b[38;5;129;01mand\u001b[39;00m \u001b[38;5;28many\u001b[39m(\u001b[38;5;28misinstance\u001b[39m(x, \u001b[38;5;28mslice\u001b[39m) \u001b[38;5;28;01mfor\u001b[39;00m x \u001b[38;5;129;01min\u001b[39;00m casted_key)\n\u001b[0;32m   3810\u001b[0m     ):\n\u001b[0;32m   3811\u001b[0m         \u001b[38;5;28;01mraise\u001b[39;00m InvalidIndexError(key)\n\u001b[1;32m-> 3812\u001b[0m     \u001b[38;5;28;01mraise\u001b[39;00m \u001b[38;5;167;01mKeyError\u001b[39;00m(key) \u001b[38;5;28;01mfrom\u001b[39;00m \u001b[38;5;21;01merr\u001b[39;00m\n\u001b[0;32m   3813\u001b[0m \u001b[38;5;28;01mexcept\u001b[39;00m \u001b[38;5;167;01mTypeError\u001b[39;00m:\n\u001b[0;32m   3814\u001b[0m     \u001b[38;5;66;03m# If we have a listlike key, _check_indexing_error will raise\u001b[39;00m\n\u001b[0;32m   3815\u001b[0m     \u001b[38;5;66;03m#  InvalidIndexError. Otherwise we fall through and re-raise\u001b[39;00m\n\u001b[0;32m   3816\u001b[0m     \u001b[38;5;66;03m#  the TypeError.\u001b[39;00m\n\u001b[0;32m   3817\u001b[0m     \u001b[38;5;28mself\u001b[39m\u001b[38;5;241m.\u001b[39m_check_indexing_error(key)\n",
      "\u001b[1;31mKeyError\u001b[0m: 9"
     ]
    }
   ],
   "source": [
    "\n",
    "plot_ab(slice_table.at[0.2,9].contour, slice_table.at[0.2,10].contour)"
   ]
  },
  {
   "cell_type": "code",
   "execution_count": 16,
   "metadata": {},
   "outputs": [
    {
     "data": {
      "image/png": "[encoded data removed]",
      "text/plain": [
       "<Figure size 400x200 with 1 Axes>"
      ]
     },
     "metadata": {},
     "output_type": "display_data"
    },
    {
     "data": {
      "text/plain": [
       "<Axes: >"
      ]
     },
     "execution_count": 16,
     "metadata": {},
     "output_type": "execute_result"
    }
   ],
   "source": [
    "\n",
    "plot_ab(slice_table.at[0.3,9].contour, slice_table.at[0.2,10].contour)"
   ]
  },
  {
   "cell_type": "code",
   "execution_count": 17,
   "metadata": {},
   "outputs": [
    {
     "data": {
      "text/plain": [
       "Slice Index\n",
       "-0.3                                           \n",
       "-0.2     111001001  |  111001001  |  001001111 \n",
       "-0.1     111001001  |  111001001  |  001001111 \n",
       " 0.0     111001001  |  111001001  |  001001111 \n",
       " 0.1     111001001  |  111001001  |  001001111 \n",
       " 0.2     111001001  |  111001001  |  001001111 \n",
       " 0.3                                           \n",
       "Name: DE27IM, dtype: object"
      ]
     },
     "execution_count": 17,
     "metadata": {},
     "output_type": "execute_result"
    }
   ],
   "source": [
    "# Send all slices with both Primary and Secondary contours for standard\n",
    "# relation testing\n",
    "mid_relations = selected_slices.agg(relate_structures,\n",
    "                                    structures=selected_roi,\n",
    "                                    axis='columns')\n",
    "mid_relations.name = 'DE27IM'\n",
    "mid_relations.apply(bin_format)"
   ]
  },
  {
   "cell_type": "code",
   "execution_count": 18,
   "metadata": {},
   "outputs": [
    {
     "data": {
      "text/plain": [
       "Series([], Name: DE27IM, dtype: float64)"
      ]
     },
     "execution_count": 18,
     "metadata": {},
     "output_type": "execute_result"
    }
   ],
   "source": [
    "# Test the relation between the boundary Primary and the selected Secondary.\n",
    "matched_slices = boundary_match(slice_table, selected_roi)\n",
    "bdry_rel = matched_slices.agg(relate_structures, structures=selected_roi,\n",
    "                                axis='columns')\n",
    "bdry_rel.name = 'DE27IM'\n",
    "bdry_rel.apply(bin_format)\n"
   ]
  },
  {
   "cell_type": "code",
   "execution_count": 19,
   "metadata": {},
   "outputs": [
    {
     "data": {
      "text/plain": [
       "Series([], Name: DE27IM, dtype: float64)"
      ]
     },
     "execution_count": 19,
     "metadata": {},
     "output_type": "execute_result"
    }
   ],
   "source": [
    "# Apply a Primary boundary shift to the relation results.\n",
    "bdry_rel = bdry_rel.apply(adjust_boundary_relation, shift_type='a')\n",
    "# If the selected Secondary is also a Secondary boundary, apply a Secondary\n",
    "#   boundary shift as well.\n",
    "secondary_boundaries = find_boundary_slices(slice_table[secondary])\n",
    "bdry_b = [idx for idx in secondary_boundaries\n",
    "                            if idx in bdry_rel.index]\n",
    "bdry_rel.loc[bdry_b] = bdry_rel[bdry_b].apply(adjust_boundary_relation,\n",
    "                                                shift_type='b')\n",
    "bdry_rel.name = 'DE27IM'\n",
    "bdry_rel.apply(bin_format)"
   ]
  },
  {
   "cell_type": "code",
   "execution_count": 20,
   "metadata": {},
   "outputs": [
    {
     "name": "stdout",
     "output_type": "stream",
     "text": [
      "Relationship: Equals\n"
     ]
    }
   ],
   "source": [
    "def overlapping_cylinders():\n",
    "    slice_spacing = 0.5\n",
    "    slice_spacing = 0.1\n",
    "    # Body structure defines slices in use\n",
    "    body = make_vertical_cylinder(roi_num=0, radius=10, length=1, offset_z=-0.5,\n",
    "                                  spacing=slice_spacing)\n",
    "    # Two overlapping cylinders\n",
    "    top_cylinder = make_vertical_cylinder(roi_num=7, radius=2, length=0.4, offset_z=-0.3, spacing=slice_spacing)\n",
    "    bottom_cylinder = make_vertical_cylinder(roi_num=8, radius=2, length=0.4, offset_z=0, spacing=slice_spacing)\n",
    "   # combine the contours\n",
    "    slice_data = pd.concat([top_cylinder, bottom_cylinder, body])\n",
    "    # convert contour slice data into a table of slices and structures\n",
    "    slice_table = make_slice_table(slice_data, ignore_errors=True)\n",
    "    return slice_table\n",
    "\n",
    "\n",
    "print(find_relationship(overlapping_cylinders(), [7, 8]))\n"
   ]
  },
  {
   "cell_type": "code",
   "execution_count": 21,
   "metadata": {},
   "outputs": [
    {
     "data": {
      "text/html": [
       "<div>\n",
       "<style scoped>\n",
       "    .dataframe tbody tr th:only-of-type {\n",
       "        vertical-align: middle;\n",
       "    }\n",
       "\n",
       "    .dataframe tbody tr th {\n",
       "        vertical-align: top;\n",
       "    }\n",
       "\n",
       "    .dataframe thead th {\n",
       "        text-align: right;\n",
       "    }\n",
       "</style>\n",
       "<table border=\"1\" class=\"dataframe\">\n",
       "  <thead>\n",
       "    <tr style=\"text-align: right;\">\n",
       "      <th>ROI Num</th>\n",
       "      <th>7</th>\n",
       "      <th>8</th>\n",
       "    </tr>\n",
       "    <tr>\n",
       "      <th>Slice Index</th>\n",
       "      <th></th>\n",
       "      <th></th>\n",
       "    </tr>\n",
       "  </thead>\n",
       "  <tbody>\n",
       "    <tr>\n",
       "      <th>-0.3</th>\n",
       "      <td>&lt;structure_slice.StructureSlice object at 0x00...</td>\n",
       "      <td>NaN</td>\n",
       "    </tr>\n",
       "    <tr>\n",
       "      <th>-0.2</th>\n",
       "      <td>&lt;structure_slice.StructureSlice object at 0x00...</td>\n",
       "      <td>NaN</td>\n",
       "    </tr>\n",
       "    <tr>\n",
       "      <th>-0.1</th>\n",
       "      <td>&lt;structure_slice.StructureSlice object at 0x00...</td>\n",
       "      <td>NaN</td>\n",
       "    </tr>\n",
       "    <tr>\n",
       "      <th>0.0</th>\n",
       "      <td>&lt;structure_slice.StructureSlice object at 0x00...</td>\n",
       "      <td>&lt;structure_slice.StructureSlice object at 0x00...</td>\n",
       "    </tr>\n",
       "    <tr>\n",
       "      <th>0.1</th>\n",
       "      <td>NaN</td>\n",
       "      <td>&lt;structure_slice.StructureSlice object at 0x00...</td>\n",
       "    </tr>\n",
       "    <tr>\n",
       "      <th>0.2</th>\n",
       "      <td>NaN</td>\n",
       "      <td>&lt;structure_slice.StructureSlice object at 0x00...</td>\n",
       "    </tr>\n",
       "    <tr>\n",
       "      <th>0.3</th>\n",
       "      <td>NaN</td>\n",
       "      <td>&lt;structure_slice.StructureSlice object at 0x00...</td>\n",
       "    </tr>\n",
       "  </tbody>\n",
       "</table>\n",
       "</div>"
      ],
      "text/plain": [
       "ROI Num                                                      7  \\\n",
       "Slice Index                                                      \n",
       "-0.3         <structure_slice.StructureSlice object at 0x00...   \n",
       "-0.2         <structure_slice.StructureSlice object at 0x00...   \n",
       "-0.1         <structure_slice.StructureSlice object at 0x00...   \n",
       " 0.0         <structure_slice.StructureSlice object at 0x00...   \n",
       " 0.1                                                       NaN   \n",
       " 0.2                                                       NaN   \n",
       " 0.3                                                       NaN   \n",
       "\n",
       "ROI Num                                                      8  \n",
       "Slice Index                                                     \n",
       "-0.3                                                       NaN  \n",
       "-0.2                                                       NaN  \n",
       "-0.1                                                       NaN  \n",
       " 0.0         <structure_slice.StructureSlice object at 0x00...  \n",
       " 0.1         <structure_slice.StructureSlice object at 0x00...  \n",
       " 0.2         <structure_slice.StructureSlice object at 0x00...  \n",
       " 0.3         <structure_slice.StructureSlice object at 0x00...  "
      ]
     },
     "execution_count": 21,
     "metadata": {},
     "output_type": "execute_result"
    }
   ],
   "source": [
    "selected_roi = [7, 8]\n",
    "primary, secondary = selected_roi\n",
    "slice_table = overlapping_cylinders()\n",
    "selected_slices = select_slices(slice_table, selected_roi)\n",
    "selected_slices"
   ]
  },
  {
   "cell_type": "code",
   "execution_count": 22,
   "metadata": {},
   "outputs": [
    {
     "data": {
      "text/plain": [
       "Slice Index\n",
       "-0.3                                           \n",
       "-0.2                                           \n",
       "-0.1                                           \n",
       " 0.0     100010001  |  100010001  |  100010001 \n",
       " 0.1                                           \n",
       " 0.2                                           \n",
       " 0.3                                           \n",
       "Name: DE27IM, dtype: object"
      ]
     },
     "execution_count": 22,
     "metadata": {},
     "output_type": "execute_result"
    }
   ],
   "source": [
    "# Send all slices with both Primary and Secondary contours for standard\n",
    "# relation testing\n",
    "mid_relations = selected_slices.agg(relate_structures,\n",
    "                                    structures=selected_roi,\n",
    "                                    axis='columns')\n",
    "mid_relations.name = 'DE27IM'\n",
    "mid_relations.apply(bin_format)"
   ]
  },
  {
   "cell_type": "code",
   "execution_count": 23,
   "metadata": {},
   "outputs": [
    {
     "data": {
      "text/plain": [
       "IdxB\n",
       "0.1     100010001  |  100010001  |  100010001 \n",
       "Name: DE27IM, dtype: object"
      ]
     },
     "execution_count": 23,
     "metadata": {},
     "output_type": "execute_result"
    }
   ],
   "source": [
    "# Test the relation between the boundary Primary and the selected Secondary.\n",
    "matched_slices = boundary_match(slice_table, selected_roi)\n",
    "bdry_rel = matched_slices.agg(relate_structures, structures=selected_roi,\n",
    "                                axis='columns')\n",
    "bdry_rel.name = 'DE27IM'\n",
    "bdry_rel.apply(bin_format)\n"
   ]
  },
  {
   "cell_type": "markdown",
   "metadata": {},
   "source": [
    "## Missing secondary boundary test"
   ]
  },
  {
   "cell_type": "code",
   "execution_count": 24,
   "metadata": {},
   "outputs": [
    {
     "name": "stdout",
     "output_type": "stream",
     "text": [
      "[0.0, 0.3]\n",
      "[]\n"
     ]
    },
    {
     "data": {
      "text/plain": [
       "IdxB\n",
       "0.1     010000001  |  010000001  |  010000001 \n",
       "Name: DE27IM, dtype: object"
      ]
     },
     "execution_count": 24,
     "metadata": {},
     "output_type": "execute_result"
    }
   ],
   "source": [
    "# Apply a Primary boundary shift to the relation results.\n",
    "bdry_rel = bdry_rel.apply(adjust_boundary_relation, shift_type='a')\n",
    "# If the selected Secondary is also a Secondary boundary, apply a Secondary\n",
    "#   boundary shift as well.\n",
    "bdry_rel.apply(bin_format)\n",
    "\n",
    "secondary_boundaries = find_boundary_slices(slice_table[secondary])\n",
    "print(secondary_boundaries)\n",
    "bdry_b = [idx for idx in secondary_boundaries\n",
    "                            if idx in bdry_rel.index]\n",
    "print(bdry_b)\n",
    "bdry_rel.loc[bdry_b] = bdry_rel[bdry_b].apply(adjust_boundary_relation,\n",
    "                                                shift_type='b')\n",
    "bdry_rel.name = 'DE27IM'\n",
    "bdry_rel.apply(bin_format)"
   ]
  },
  {
   "cell_type": "code",
   "execution_count": 25,
   "metadata": {},
   "outputs": [
    {
     "data": {
      "text/plain": [
       "' 110010001  |  110010001  |  110010001 '"
      ]
     },
     "execution_count": 25,
     "metadata": {},
     "output_type": "execute_result"
    }
   ],
   "source": [
    "# Merge all results and reduce to single relation\n",
    "mid_relations = pd.concat([mid_relations, bdry_rel], axis='index',\n",
    "                            ignore_index=True)\n",
    "relation_binary = merge_rel(mid_relations)\n",
    "bin_format(relation_binary)"
   ]
  },
  {
   "cell_type": "markdown",
   "metadata": {},
   "source": [
    "# More Tests Needed"
   ]
  },
  {
   "cell_type": "markdown",
   "metadata": {},
   "source": [
    "  - Single Primary slice with circular contour.\n",
    "    - Secondary: one of:\n",
    "      - SUP Cylinder\n",
    "      - INF Cylinder\n",
    "      - Combined SUP & INF Cylinders in one structure with single slice gap at level of the primary slice. \n",
    "- **Partition**\n",
    "  - Concentric cylinders ending on the same slice.\n",
    "  - Concentric cylinders starting on the same slice\n",
    "  - Primary: Central Cylinder\n",
    "    - Single Secondary slice with circular contour on the SUP/INF slice of the Primary cylinder.\n",
    "  - Single Primary slice with circular contour\n",
    "    - Secondary: one of:\n",
    "      - SUP Cylinder ending on the same slice.\n",
    "      - INF Cylinder ending on the same slice.\n",
    "- **CONTAINS**\n",
    "  - Concentric cylinders with interior cylinder ending inside the exterior cylinder by one slice\n",
    "**OVERLAPS**\n",
    "  - Concentric cylinders with interior cylinder ending outside the exterior cylinder by one slice\n",
    "  - Concentric cylinders with interior cylinder consisting of single slice ending inside the exterior cylinder by one slice\n"
   ]
  },
  {
   "cell_type": "markdown",
   "metadata": {},
   "source": [
    "  - Primary: Central Cylinder\n",
    "    - Secondary: one of:\n",
    "      - SUP Cylinder\n",
    "      - INF Cylinder\n",
    "      - Combined SUP & INF cylinders in one structure with single slice gap at the SUP/INF boundary of the central cylinder.\n",
    "  - Single Primary slice with circular contour.\n",
    "    - Secondary: one of:\n",
    "      - SUP Cylinder\n",
    "      - INF Cylinder\n",
    "      - Combined SUP & INF Cylinders in one structure with single slice gap at level of the primary slice. \n"
   ]
  }
 ],
 "metadata": {
  "kernelspec": {
   "display_name": "StructureRelations",
   "language": "python",
   "name": "python3"
  },
  "language_info": {
   "codemirror_mode": {
    "name": "ipython",
    "version": 3
   },
   "file_extension": ".py",
   "mimetype": "text/x-python",
   "name": "python",
   "nbconvert_exporter": "python",
   "pygments_lexer": "ipython3",
   "version": "3.11.9"
  }
 },
 "nbformat": 4,
 "nbformat_minor": 2
}
