{
 "cells": [
  {
   "cell_type": "markdown",
   "metadata": {},
   "source": [
    "# Boundary Relation Tests"
   ]
  },
  {
   "cell_type": "markdown",
   "metadata": {},
   "source": [
    "## Setup"
   ]
  },
  {
   "cell_type": "markdown",
   "metadata": {},
   "source": [
    "### Imports"
   ]
  },
  {
   "cell_type": "code",
   "execution_count": 1,
   "metadata": {},
   "outputs": [],
   "source": [
    "from math import sqrt, pi\n",
    "\n",
    "# Shared Packages\n",
    "import pandas as pd\n",
    "import numpy as np\n",
    "\n",
    "# Local functions and classes\n",
    "from types_and_classes import *\n",
    "from utilities import *\n",
    "from debug_tools import *\n",
    "from structure_slice import *\n",
    "from structure_set import *\n",
    "from relations import *\n",
    "#from metrics import *\n"
   ]
  },
  {
   "cell_type": "markdown",
   "metadata": {},
   "source": [
    "### Global Settings"
   ]
  },
  {
   "cell_type": "code",
   "execution_count": 2,
   "metadata": {},
   "outputs": [],
   "source": [
    "PRECISION = 2"
   ]
  },
  {
   "cell_type": "code",
   "execution_count": 3,
   "metadata": {},
   "outputs": [],
   "source": [
    "%matplotlib inline"
   ]
  },
  {
   "cell_type": "markdown",
   "metadata": {},
   "source": [
    "## Adjusting Boundary Slice Relations\n",
    "\n",
    "For the beginning and ending slices of a structure the entire contour must\n",
    "be treated as a boundary.  The structure does not have an interior on these\n",
    "slices. In this case the “*Interior*” relations become “*Boundary*” relations.\n",
    "\n",
    "The “*Interior*” bits of the DE-9IM relationship metric are combined with the \n",
    "“*Boundary*” bits using \"OR\" logic.  This will keep the “*Boundary*” bits as \n",
    "part of the boundary.\n"
   ]
  },
  {
   "cell_type": "markdown",
   "metadata": {},
   "source": [
    "### Identify Boundaries\n",
    "\n",
    "- Nodes are shapley.Polygons and contain attributes:\n",
    "    - polygon: shapley.Polygon\n",
    "    - roi: SliceNeighbours\n",
    "    - slices: SliceIndexType\n",
    "    - is_hole: bool = False\n",
    "    - is_interpolated: bool = False\n",
    "    - is_empty: bool = True\n",
    "\n",
    "- Edges are the match between regions:\n",
    "    - Edges only connect nodes that are on adjacent slices.\n",
    "    - Edges only connect nodes that are part of the same ROI.\n",
    "    - Regions that are holes only connect to other holes.\n",
    "    - Regions that are not holes only connect to other regions that are not holes.\n",
    "    - The edge has a weight that is the difference between slice values \n",
    "       (The 'Z' distance between the two regions).\n",
    "    - Edges are found by selecting regions with the same roi, neighbouring\n",
    "        slice values, matching hole type and intersecting polygons.\n"
   ]
  },
  {
   "cell_type": "markdown",
   "metadata": {},
   "source": [
    "### Boundary checks are done by *region* not by *structure*\n",
    "\n",
    "- For all structures the `StructureSlice.contour` MultiPolygon for each slice \n",
    "    is separated into individual polygons and holes (Regions).\n",
    "- Each region becomes a node in a networkx graph. \n",
    "- This allows for the regions to be tracked as they merge and split.\n",
    "- Overlapping polygons on the next slice are linked by an edge.\n",
    "- If a regions is not matched to another region, it is considered a \n",
    "- “*Boundary*”.  This is identified as nodes with less than 2 edges ($degree < 2$).\n",
    "  "
   ]
  },
  {
   "cell_type": "markdown",
   "metadata": {},
   "source": [
    "### Managing holes\n",
    "- The boundaries of holes must also be checked.\n",
    "\n",
    "- The `DE9IM` relationship for a hole is different than for a structure.\n",
    "  - The interior of a hole is the exterior of the structure.\n",
    "  - The exterior of a hole is undefined. It may or may not be within the\n",
    "      interior of the structure.\n",
    "    The Interior relations become Exterior relations for holes.\n",
    "- When hole boundaries are tested, only the \"contour\" “*Boundary*” bits of\n",
    "    the `DE27IM` relationship are used.  The external and hull bits are set to `'FFFFFFFFF'`.\n"
   ]
  },
  {
   "cell_type": "markdown",
   "metadata": {},
   "source": [
    "### Secondary Boundaries\n",
    "- Boundaries in the Secondary ROI also need to be evaluated as well as the Primary ROI.\n",
    "- The resulting relation is transposed before being combined with the other relation values.\n"
   ]
  },
  {
   "cell_type": "markdown",
   "metadata": {},
   "source": [
    "### Boundary Interpolation\n",
    "\n",
    "- The last slice with a contour is not the actual boundary.  The boundary is\n",
    "  half way between the last slice with a contour and the fist slice without a \n",
    "  contour.  \n",
    "- The last slice is interpolated to create the boundary.\n",
    "- The boundary slice index is half way between the two indexes (The mean).\n"
   ]
  },
  {
   "cell_type": "markdown",
   "metadata": {},
   "source": [
    "#### Interpolation process\n",
    "- Takes two polygons or one polygon and a \"vanishing point\" (The centroid of the polygon).\n",
    "- Takes two SliceIndex values and calculates the mean as the new SliceIndex.\n",
    "\n",
    "1.  For each coordinate point on the first polygon build a line from it to the\n",
    "    closest point on the second polygon.\n",
    "2. Return the half way point of this line as the new coordinate point.\n",
    "4. The Z value of the new point is the mean of the Z values of the two slices.\n",
    "3. Build a new polygon from the set of all the new coordinate points.\n"
   ]
  },
  {
   "cell_type": "markdown",
   "metadata": {},
   "source": [
    "#### interpolated boundary slices\n",
    "- The `interpolate_polygon` function takes a pair of slice indexes and one or two polygons.\n",
    "- For boundary slices the second polygon is the centroid of the first polygon.\n",
    "- The second slice index is the index of the slice without an edge.\n",
    "    - This is identified by getting the two slice indexes from slice_neighbours selecting the one that is not adjacent to the node.\n",
    "- The interpolated boundary slices are added to the graph as nodes and linked to the original boundary slice nodes."
   ]
  },
  {
   "cell_type": "markdown",
   "metadata": {},
   "source": [
    "### Boundary Slice Relations\n",
    "- Each interpolated boundary slice is tested against every region in the other structure for boundary relations.\n",
    "\n",
    "1. For each interpolated boundary slice in the first roi:\n",
    "    1. select all regions in the other roi with slice indexes between the previous and next slice_neighbours values as a collection of sub-graphs.\n",
    "    2. For each sub-graph:\n",
    "        1. if the sub-graph has a node with the same slice index as the the interpolated boundary, get the relation for the polygons in those two nodes.\n",
    "        2. Otherwise, generate an interpolated polygon using the nodes with the two closest slice indexes and get the relation for the polygons in those two nodes.\n",
    "2. Repeat the process for the interpolated boundary slice in the second roi."
   ]
  },
  {
   "cell_type": "markdown",
   "metadata": {},
   "source": [
    "*Question*\n",
    "- Slice 0.4 is a boundary for #5, and is a neighbour to the boundary for #1.\n",
    "- Will it get the relation wrong if I test it as a boundary for both #1 and #5?\n",
    "> Probably not, because regular relations are also tested  for slice 0.4.  \n",
    "> For 0.4, #5 will be external to #1.\n",
    "\n",
    "Matched boundary slices are those that are boundary slices of both structures. \n",
    "\n",
    "The boundary slices are selected based on the following conditions:\n",
    "1. The \n",
    "slice is at a boundary of the primary structure.\n",
    "2. The slice has both a primary and secondary contour.\n",
    "3. **The one of the neighbouring slices has neither primary nor secondary contour.**\n",
    "\n",
    "\\# 3 is the problem. The neighbouring slice should have a contour of the other structure.\n",
    "    \n",
    "Offset boundary slices are those where the boundary of the primary structure \n",
    "is a neighbour of the boundary of the secondary structure\n",
    "    \n",
    "The boundary slices are selected on the following basis:\n",
    "1. The slice is at a boundary of the primary structure.\n",
    "2. The slice does not have the secondary structure.\n",
    "3. The one of the neighbouring slices has only the second structure.\n",
    "\n",
    "- If the hole and the other polygon do not overlap then exterior does not become interior.\n",
    "- The interior of the hole becomes the exterior.\n",
    "- The exterior of the hole is undefined and ignored. (other regions deal with that)"
   ]
  },
  {
   "cell_type": "markdown",
   "metadata": {},
   "source": [
    "![alt text](Images/DE-9IM.png)"
   ]
  },
  {
   "cell_type": "markdown",
   "metadata": {},
   "source": [
    "![alt text](../reference/RelationshipTreeDiagram.svg)"
   ]
  },
  {
   "cell_type": "markdown",
   "metadata": {},
   "source": [
    "## Test structures\n"
   ]
  },
  {
   "cell_type": "code",
   "execution_count": 4,
   "metadata": {},
   "outputs": [],
   "source": [
    "def simple_cylinders():\n",
    "    slice_spacing = 0.1\n",
    "    # Body structure defines slices in use\n",
    "    body = make_vertical_cylinder(roi_num=0, radius=12, length=1.1,\n",
    "                                  offset_z=-0.5,\n",
    "                                  spacing=slice_spacing)\n",
    "    # Centred cylinder\n",
    "    primary_cylinder = make_vertical_cylinder(roi_num=1, radius=5, length=0.7,\n",
    "                                              offset_z=-0.3,\n",
    "                                              spacing=slice_spacing)\n",
    "    # cylinder within primary\n",
    "    contained_cylinder = make_vertical_cylinder(roi_num=2, radius=3, length=0.5,\n",
    "                                             offset_x=0, offset_z=-0.2,\n",
    "                                             spacing=slice_spacing)\n",
    "    # combine the contours\n",
    "    slice_data = pd.concat([body, primary_cylinder, contained_cylinder])\n",
    "    # convert contour slice data into a table of slices and structures\n",
    "    slice_table = make_slice_table(slice_data, ignore_errors=True)\n",
    "    return slice_table\n"
   ]
  },
  {
   "cell_type": "code",
   "execution_count": 5,
   "metadata": {},
   "outputs": [
    {
     "name": "stdout",
     "output_type": "stream",
     "text": [
      "Relationship: Contains\n"
     ]
    }
   ],
   "source": [
    "slice_table = simple_cylinders()\n",
    "regions = generate_region_graph(slice_table)\n",
    "selected_roi = [1, 2]\n",
    "relation = find_relations(slice_table, regions, selected_roi)\n",
    "print(relation.identify_relation())"
   ]
  },
  {
   "cell_type": "code",
   "execution_count": 6,
   "metadata": {},
   "outputs": [],
   "source": [
    "def parallel_cylinders():\n",
    "    slice_spacing = 0.1\n",
    "    # Body structure defines slices in use\n",
    "    body = make_vertical_cylinder(roi_num=0, radius=12, length=1, offset_z=-0.5,\n",
    "                                  spacing=slice_spacing)\n",
    "    left_cylinder = make_vertical_cylinder(roi_num=1, radius=2, length=0.5,\n",
    "                                       offset_x=-2.5, offset_z=-0.2,\n",
    "                                       spacing=slice_spacing)\n",
    "    right_cylinder = make_vertical_cylinder(roi_num=1, radius=2, length=0.5,\n",
    "                                       offset_x=2.5, offset_z=-0.2,\n",
    "                                       spacing=slice_spacing)\n",
    "    # Two concentric cylinders different z offsets\n",
    "    right_middle_cylinder = make_vertical_cylinder(roi_num=2, radius=1, length=0.5,\n",
    "                                             offset_x=2.5, offset_z=-0.2,\n",
    "                                             spacing=slice_spacing)\n",
    "    left_boundary_cylinder1 = make_vertical_cylinder(roi_num=3, radius=1, length=0.2,\n",
    "                                             offset_x=-2.5, offset_z=-0.4,\n",
    "                                             spacing=slice_spacing)\n",
    "    left_boundary_cylinder2 = make_vertical_cylinder(roi_num=3, radius=1, length=0.2,\n",
    "                                             offset_x=-2.5, offset_z=0.3,\n",
    "                                             spacing=slice_spacing)\n",
    "    # combine the contours\n",
    "    slice_data = pd.concat([body, left_cylinder, right_cylinder,\n",
    "                            right_middle_cylinder,\n",
    "                            left_boundary_cylinder1,left_boundary_cylinder2])\n",
    "    # convert contour slice data into a table of slices and structures\n",
    "    slice_table = make_slice_table(slice_data, ignore_errors=True)\n",
    "    return slice_table\n"
   ]
  },
  {
   "cell_type": "code",
   "execution_count": 7,
   "metadata": {},
   "outputs": [
    {
     "name": "stdout",
     "output_type": "stream",
     "text": [
      "Relationship: Partition\n"
     ]
    }
   ],
   "source": [
    "slice_table = parallel_cylinders()\n",
    "regions = generate_region_graph(slice_table)\n",
    "selected_roi = [1, 2]\n",
    "relation = find_relations(slice_table, regions, selected_roi)\n",
    "print(relation.identify_relation())"
   ]
  },
  {
   "cell_type": "code",
   "execution_count": 8,
   "metadata": {},
   "outputs": [
    {
     "name": "stdout",
     "output_type": "stream",
     "text": [
      "Relationship: Borders\n"
     ]
    }
   ],
   "source": [
    "slice_table = parallel_cylinders()\n",
    "regions = generate_region_graph(slice_table)\n",
    "selected_roi = [1, 3]\n",
    "relation = find_relations(slice_table, regions, selected_roi)\n",
    "print(relation.identify_relation())"
   ]
  },
  {
   "cell_type": "code",
   "execution_count": 9,
   "metadata": {},
   "outputs": [],
   "source": [
    "def embedded_cylinder():\n",
    "    slice_spacing = 0.1\n",
    "    # Body structure defines slices in use\n",
    "    body = make_vertical_cylinder(roi_num=0, radius=10, length=1, offset_z=-0.5,\n",
    "                                  spacing=slice_spacing)\n",
    "    primary_cylinder = make_vertical_cylinder(roi_num=9, radius=6, length=0.7,\n",
    "                                              offset_z=-0.3,\n",
    "                                              spacing=slice_spacing)\n",
    "    center_hole = make_vertical_cylinder(roi_num=9, radius=4, length=0.5,\n",
    "                                         offset_z=-0.2, spacing=slice_spacing)\n",
    "    # Two concentric cylinders different z offsets\n",
    "    confines_cylinder = make_vertical_cylinder(roi_num=10, radius=3, length=0.5,\n",
    "                                             offset_z=-0.2,\n",
    "                                             spacing=slice_spacing)\n",
    "    surrounds_cylinder = make_vertical_cylinder(roi_num=11, radius=2, length=0.3,\n",
    "                                         offset_z=-0.1, spacing=slice_spacing)\n",
    "    # combine the contours\n",
    "    slice_data = pd.concat([body, primary_cylinder, center_hole,\n",
    "                            confines_cylinder, surrounds_cylinder])\n",
    "    # convert contour slice data into a table of slices and structures\n",
    "    slice_table = make_slice_table(slice_data, ignore_errors=True)\n",
    "    return slice_table\n",
    "\n",
    "\n",
    "#print(find_relationship(embedded_cylinder(), [9, 10]))\n"
   ]
  },
  {
   "cell_type": "code",
   "execution_count": 10,
   "metadata": {},
   "outputs": [
    {
     "name": "stdout",
     "output_type": "stream",
     "text": [
      "Relationship: Confines\n"
     ]
    }
   ],
   "source": [
    "slice_table = embedded_cylinder()\n",
    "regions = generate_region_graph(slice_table)\n",
    "selected_roi = [9, 10]\n",
    "relation = find_relations(slice_table, regions, selected_roi)\n",
    "print(relation.identify_relation())"
   ]
  },
  {
   "cell_type": "markdown",
   "metadata": {},
   "source": [
    "#### Concentric cylinders starting on the same slice\n",
    "  \n",
    "<img src=\"Images\\Boundaries\\PartitionSup3D.png\" alt=\"PartitionSup3D\" style=\"height:50px;\">\n",
    "<img src=\"Images\\Boundaries\\PartitionSup2D.png\" alt=\"PartitionSup2D\" style=\"height:30px;\">"
   ]
  },
  {
   "cell_type": "code",
   "execution_count": 11,
   "metadata": {},
   "outputs": [],
   "source": [
    "def concentric_cylinders_same_start():\n",
    "    slice_spacing = 0.1\n",
    "    # Body structure defines slices in use\n",
    "    body = make_vertical_cylinder(roi_num=0, radius=10, length=1, offset_z=-0.5,\n",
    "                                  spacing=slice_spacing)\n",
    "    # Concentric cylinders starting on the same slice\n",
    "    primary_cylinder = make_vertical_cylinder(roi_num=1, radius=2, length=0.7,\n",
    "                                              offset_z=-0.3,\n",
    "                                              spacing=slice_spacing)\n",
    "    sup_partition = make_vertical_cylinder(roi_num=2, radius=1, length=0.4,\n",
    "                                           offset_z=-0.3,\n",
    "                                           spacing=slice_spacing)\n",
    "    # combine the contours\n",
    "    slice_data = pd.concat([body, primary_cylinder, sup_partition])\n",
    "    # convert contour slice data into a table of slices and structures\n",
    "    slice_table = make_slice_table(slice_data, ignore_errors=True)\n",
    "    return slice_table\n"
   ]
  },
  {
   "cell_type": "code",
   "execution_count": 12,
   "metadata": {},
   "outputs": [
    {
     "name": "stdout",
     "output_type": "stream",
     "text": [
      "Relationship: Contains\n"
     ]
    }
   ],
   "source": [
    "slice_table = concentric_cylinders_same_start()\n",
    "regions = generate_region_graph(slice_table)\n",
    "selected_roi = [1, 2]\n",
    "relation = find_relations(slice_table, regions, selected_roi)\n",
    "print(relation.identify_relation())"
   ]
  },
  {
   "cell_type": "code",
   "execution_count": 13,
   "metadata": {},
   "outputs": [],
   "source": [
    "def dual_embedded_cylinder():\n",
    "    slice_spacing = 0.1\n",
    "    # Body structure defines slices in use\n",
    "    body = make_vertical_cylinder(roi_num=0, radius=12, length=1.5, offset_z=-0.8,\n",
    "                                  spacing=slice_spacing)\n",
    "    # Centred cylinder with two embedded cylinders\n",
    "    primary_cylinder = make_vertical_cylinder(roi_num=1, radius=5, length=0.9,\n",
    "                                              offset_z=-0.5,\n",
    "                                              spacing=slice_spacing)\n",
    "    left_hole = make_vertical_cylinder(roi_num=1, radius=2, length=0.7,\n",
    "                                       offset_x=-2.5, offset_z=-0.4,\n",
    "                                       spacing=slice_spacing)\n",
    "    right_hole = make_vertical_cylinder(roi_num=1, radius=2, length=0.7,\n",
    "                                       offset_x=2.5, offset_z=-0.4,\n",
    "                                       spacing=slice_spacing)\n",
    "    # cylinder with interior borders\n",
    "    confines_cylinder = make_vertical_cylinder(roi_num=2, radius=1, length=0.7,\n",
    "                                             offset_x=2.5, offset_z=-0.4,\n",
    "                                             spacing=slice_spacing)\n",
    "\n",
    "    # cylinder completely inside of a hole\n",
    "    surrounds_cylinder = make_vertical_cylinder(roi_num=3, radius=1, length=0.3,\n",
    "                                             offset_x=-2.5, offset_z=-0.2,\n",
    "                                             spacing=slice_spacing)\n",
    "    # cylinder bordering primary cylinder\n",
    "    bordering_cylinder1 = make_vertical_cylinder(roi_num=4, radius=3, length=0.2,\n",
    "                                             offset_x=0, offset_z=-0.7,\n",
    "                                             spacing=slice_spacing)\n",
    "    # cylinder bordering primary cylinder\n",
    "    bordering_cylinder2 = make_vertical_cylinder(roi_num=4, radius=3, length=0.2,\n",
    "                                             offset_x=0, offset_z=0.4,\n",
    "                                             spacing=slice_spacing)\n",
    "    # combine the contours\n",
    "    slice_data = pd.concat([body, primary_cylinder, left_hole, right_hole,\n",
    "                            confines_cylinder, surrounds_cylinder,\n",
    "                            bordering_cylinder1, bordering_cylinder2])\n",
    "    # convert contour slice data into a table of slices and structures\n",
    "    slice_table = make_slice_table(slice_data, ignore_errors=True)\n",
    "    return slice_table\n"
   ]
  },
  {
   "cell_type": "code",
   "execution_count": 14,
   "metadata": {},
   "outputs": [
    {
     "name": "stdout",
     "output_type": "stream",
     "text": [
      "Relationship: Confines\n"
     ]
    }
   ],
   "source": [
    "slice_table = dual_embedded_cylinder()\n",
    "regions = generate_region_graph(slice_table)\n",
    "selected_roi = [1, 2]\n",
    "relation = find_relations(slice_table, regions, selected_roi)\n",
    "print(relation.identify_relation())"
   ]
  },
  {
   "cell_type": "markdown",
   "metadata": {},
   "source": [
    "# Error: Subgraph must contain only two nodes."
   ]
  },
  {
   "cell_type": "code",
   "execution_count": 15,
   "metadata": {},
   "outputs": [
    {
     "name": "stdout",
     "output_type": "stream",
     "text": [
      "Relationship: Surrounds\n"
     ]
    }
   ],
   "source": [
    "selected_roi = [1, 3]\n",
    "relation = find_relations(slice_table, regions, selected_roi)\n",
    "print(relation.identify_relation())"
   ]
  },
  {
   "cell_type": "code",
   "execution_count": 16,
   "metadata": {},
   "outputs": [
    {
     "name": "stdout",
     "output_type": "stream",
     "text": [
      "Relationship: Borders\n"
     ]
    }
   ],
   "source": [
    "selected_roi = [1, 4]\n",
    "relation = find_relations(slice_table, regions, selected_roi)\n",
    "print(relation.identify_relation())"
   ]
  },
  {
   "cell_type": "markdown",
   "metadata": {},
   "source": [
    "#### Embedded boxes\n",
    "\n",
    "![ContainsCubes](ContainsCubes.png)"
   ]
  },
  {
   "cell_type": "code",
   "execution_count": 17,
   "metadata": {},
   "outputs": [],
   "source": [
    "def embedded_boxes():\n",
    "    slice_spacing = 0.5\n",
    "    # Body structure defines slices in use\n",
    "    body = make_vertical_cylinder(roi_num=0, radius=20, length=30, offset_z=-15,\n",
    "                                spacing=slice_spacing)\n",
    "    # embedded boxes\n",
    "    cube6 = make_box(roi_num=1, width=6, spacing=slice_spacing)\n",
    "    cube3 = make_box(roi_num=2, width=3, offset_z=0, spacing=slice_spacing)\n",
    "    # combine the contours\n",
    "    slice_data = pd.concat([cube6, cube3, body])\n",
    "    # convert contour slice data into a table of slices and structures\n",
    "    slice_table = make_slice_table(slice_data, ignore_errors=True)\n",
    "    return slice_table"
   ]
  },
  {
   "cell_type": "code",
   "execution_count": 18,
   "metadata": {},
   "outputs": [
    {
     "name": "stdout",
     "output_type": "stream",
     "text": [
      "Relationship: Partition\n"
     ]
    }
   ],
   "source": [
    "slice_table = embedded_boxes()\n",
    "selected_roi = [1, 2]\n",
    "relation = find_relations(slice_table, regions, selected_roi)\n",
    "print(relation.identify_relation())"
   ]
  },
  {
   "cell_type": "markdown",
   "metadata": {},
   "source": [
    "#### Bordering Cylinders\n",
    "- Identify the boundary slices of the Primary and the neighbouring slice(s) that do not have a primary.\n",
    "- For each of these neighbouring slices, if the slice has a Secondary contour, select that Secondary slice.\n",
    "\n",
    "![Bordering cylinders](FreeCAD_Scripts/BorderingCylinders.png)"
   ]
  },
  {
   "cell_type": "code",
   "execution_count": 18,
   "metadata": {},
   "outputs": [],
   "source": [
    "def bordering_cylinders():\n",
    "    slice_spacing = 0.1\n",
    "    # Body structure defines slices in use\n",
    "    body = make_vertical_cylinder(roi_num=0, radius=12, length=1.1, offset_z=-0.5,\n",
    "                                  spacing=slice_spacing)\n",
    "    # Centred cylinder with two embedded cylinders\n",
    "    primary_cylinder = make_vertical_cylinder(roi_num=1, radius=5, length=0.7,\n",
    "                                              offset_z=-0.3,\n",
    "                                              spacing=slice_spacing)\n",
    "    # cylinder bordering primary cylinder\n",
    "    bordering_cylinder1 = make_vertical_cylinder(roi_num=4, radius=3, length=0.2,\n",
    "                                             offset_x=0, offset_z=-0.5,\n",
    "                                             spacing=slice_spacing)\n",
    "    # cylinder bordering primary cylinder\n",
    "    bordering_cylinder2 = make_vertical_cylinder(roi_num=4, radius=3, length=0.2,\n",
    "                                             offset_x=0, offset_z=0.4,\n",
    "                                             spacing=slice_spacing)\n",
    "    # combine the contours\n",
    "    slice_data = pd.concat([body, primary_cylinder, bordering_cylinder1,\n",
    "                            bordering_cylinder2])\n",
    "    # convert contour slice data into a table of slices and structures\n",
    "    slice_table = make_slice_table(slice_data, ignore_errors=True)\n",
    "    return slice_table\n"
   ]
  },
  {
   "cell_type": "code",
   "execution_count": null,
   "metadata": {},
   "outputs": [],
   "source": [
    "slice_table = bordering_cylinders()\n",
    "selected_roi = [1, 4]\n",
    "\n",
    "relation = find_relations(slice_table, selected_roi)\n",
    "print(relation.identify_relation())"
   ]
  },
  {
   "cell_type": "markdown",
   "metadata": {},
   "source": [
    "#### Partition Cylinders\n",
    "- Identify the boundary slices of the Primary and the neighbouring slice(s) that do not have a primary.\n",
    "- For each of these neighbouring slices, if the slice does not have a Secondary contour, but there is a Secondary contour on the same slice as the Primary boundary, select that Secondary slice.\n"
   ]
  },
  {
   "cell_type": "code",
   "execution_count": 20,
   "metadata": {},
   "outputs": [],
   "source": [
    "def partitions_cylinder():\n",
    "    slice_spacing = 0.1\n",
    "    # Body structure defines slices in use\n",
    "    body = make_vertical_cylinder(roi_num=0, radius=12, length=1.1, offset_z=-0.5,\n",
    "                                  spacing=slice_spacing)\n",
    "    # Centred cylinder with two embedded cylinders\n",
    "    primary_cylinder = make_vertical_cylinder(roi_num=1, radius=5, length=0.7,\n",
    "                                              offset_z=-0.3,\n",
    "                                              spacing=slice_spacing)\n",
    "    # cylinder with interior borders\n",
    "    partitioning_cylinder = make_vertical_cylinder(roi_num=3, radius=3, length=0.7,\n",
    "                                             offset_x=0, offset_z=-0.3,\n",
    "                                             spacing=slice_spacing)\n",
    "\n",
    "    # combine the contours\n",
    "    slice_data = pd.concat([body, primary_cylinder, partitioning_cylinder])\n",
    "    # convert contour slice data into a table of slices and structures\n",
    "    slice_table = make_slice_table(slice_data, ignore_errors=True)\n",
    "    return slice_table\n"
   ]
  },
  {
   "cell_type": "code",
   "execution_count": null,
   "metadata": {},
   "outputs": [],
   "source": [
    "slice_table = partitions_cylinder()\n",
    "selected_roi = [1, 3]\n",
    "\n",
    "relation = find_relations(slice_table, selected_roi)\n",
    "print(relation.identify_relation())"
   ]
  },
  {
   "cell_type": "markdown",
   "metadata": {},
   "source": [
    "# Done To Here"
   ]
  },
  {
   "cell_type": "code",
   "execution_count": 22,
   "metadata": {},
   "outputs": [],
   "source": [
    "def overlapping_cylinder():\n",
    "    slice_spacing = 0.1\n",
    "    # Body structure defines slices in use\n",
    "    body = make_vertical_cylinder(roi_num=0, radius=12, length=1.1, offset_z=-0.5,\n",
    "                                  spacing=slice_spacing)\n",
    "    # Centred cylinder with two embedded cylinders\n",
    "    primary_cylinder = make_vertical_cylinder(roi_num=1, radius=5, length=0.7,\n",
    "                                              offset_z=-0.3,\n",
    "                                              spacing=slice_spacing)\n",
    "    # cylinder with interior borders\n",
    "    overlapping_cylinder = make_vertical_cylinder(roi_num=5, radius=3, length=0.9,\n",
    "                                             offset_x=0, offset_z=-0.3,\n",
    "                                             spacing=slice_spacing)\n",
    "\n",
    "    # combine the contours\n",
    "    slice_data = pd.concat([body, primary_cylinder, overlapping_cylinder])\n",
    "    # convert contour slice data into a table of slices and structures\n",
    "    slice_table = make_slice_table(slice_data, ignore_errors=True)\n",
    "    return slice_table\n"
   ]
  },
  {
   "cell_type": "code",
   "execution_count": null,
   "metadata": {},
   "outputs": [],
   "source": [
    "slice_table = overlapping_cylinder()\n",
    "selected_roi = [1, 5]\n",
    "\n",
    "relation = find_relations(slice_table, selected_roi)\n",
    "print(relation.identify_relation())"
   ]
  },
  {
   "cell_type": "code",
   "execution_count": 24,
   "metadata": {},
   "outputs": [],
   "source": [
    "def cylinders():\n",
    "    slice_spacing = 0.1\n",
    "    # Body structure defines slices in use\n",
    "    body = make_vertical_cylinder(roi_num=0, radius=12, length=1.1,\n",
    "                                  offset_z=-0.5,\n",
    "                                  spacing=slice_spacing)\n",
    "    # Centred cylinder\n",
    "    primary_cylinder = make_vertical_cylinder(roi_num=1, radius=5, length=0.7,\n",
    "                                              offset_z=-0.3,\n",
    "                                              spacing=slice_spacing)\n",
    "    # cylinder within primary\n",
    "    contained_cylinder = make_vertical_cylinder(roi_num=2, radius=3, length=0.5,\n",
    "                                             offset_x=0, offset_z=-0.2,\n",
    "                                             spacing=slice_spacing)\n",
    "    # cylinder with matching borders\n",
    "    partitioning_cylinder = make_vertical_cylinder(roi_num=3, radius=3, length=0.7,\n",
    "                                             offset_x=0, offset_z=-0.3,\n",
    "                                             spacing=slice_spacing)\n",
    "    # cylinder bordering primary cylinder\n",
    "    bordering_cylinder1 = make_vertical_cylinder(roi_num=4, radius=3, length=0.2,\n",
    "                                             offset_x=0, offset_z=-0.5,\n",
    "                                             spacing=slice_spacing)\n",
    "    # cylinder bordering primary cylinder\n",
    "    bordering_cylinder2 = make_vertical_cylinder(roi_num=4, radius=3, length=0.2,\n",
    "                                             offset_x=0, offset_z=0.4,\n",
    "                                             spacing=slice_spacing)\n",
    "    # cylinder overlapping positive\n",
    "    overlapping_cylinder = make_vertical_cylinder(roi_num=5, radius=3, length=0.8,\n",
    "                                             offset_x=0, offset_z=-0.3,\n",
    "                                             spacing=slice_spacing)\n",
    "    # combine the contours\n",
    "    slice_data = pd.concat([body, primary_cylinder, contained_cylinder,\n",
    "                            partitioning_cylinder,\n",
    "                            bordering_cylinder1, bordering_cylinder2,\n",
    "                            overlapping_cylinder])\n",
    "    # convert contour slice data into a table of slices and structures\n",
    "    slice_table = make_slice_table(slice_data, ignore_errors=True)\n",
    "    return slice_table\n"
   ]
  },
  {
   "cell_type": "markdown",
   "metadata": {},
   "source": [
    "# Error Should be contains"
   ]
  },
  {
   "cell_type": "code",
   "execution_count": null,
   "metadata": {},
   "outputs": [],
   "source": [
    "slice_table = cylinders()\n",
    "selected_roi = [1, 2]\n",
    "\n",
    "#relation = find_relations(slice_table, selected_roi)\n",
    "#print(relation.identify_relation())"
   ]
  },
  {
   "cell_type": "code",
   "execution_count": null,
   "metadata": {},
   "outputs": [],
   "source": [
    "slice_table = cylinders()\n",
    "# Split each Structure into distinct regions for boundary tests.\n",
    "region_table = make_region_table(slice_table)\n",
    "# Identify the boundary slices of each region.\n",
    "region_boundaries = find_boundary_slices(region_table)\n",
    "# For each slice of each region identify the whether the region is present on\n",
    "# the neighbouring slice.\n",
    "neighbour_match = identify_neighbour_slices(region_table)\n",
    "# Slice range = Min(starting slice) to Max(ending slice)\n",
    "selected_slices = select_slices(slice_table, selected_roi)\n",
    "# Send all slices with both Primary and Secondary contours for standard\n",
    "# relation testing\n",
    "mid_relations = list(selected_slices.agg(relate_structures,\n",
    "                                            structures=selected_roi,\n",
    "                                            axis='columns'))\n",
    "relation =  merged_relations(mid_relations)\n",
    "print(relation.identify_relation())"
   ]
  },
  {
   "cell_type": "code",
   "execution_count": 27,
   "metadata": {},
   "outputs": [],
   "source": [
    "boundary_relations = get_boundary_relations(region_table, neighbour_match, region_boundaries, selected_roi)"
   ]
  },
  {
   "cell_type": "code",
   "execution_count": null,
   "metadata": {},
   "outputs": [],
   "source": [
    "for key, value in boundary_relations.items():\n",
    "    print(key)\n",
    "    print(value.identify_relation())\n",
    "    print(value)\n"
   ]
  },
  {
   "cell_type": "code",
   "execution_count": null,
   "metadata": {},
   "outputs": [],
   "source": [
    "a = region_table.at[-0.3, (1, 'b')].polygon\n",
    "b = np.NaN\n",
    "plot_ab(a, shapely.Polygon())\n",
    "print(DE27IM(a, b).identify_relation())\n",
    "print(DE9IM(a, shapely.Polygon()))\n"
   ]
  },
  {
   "cell_type": "code",
   "execution_count": null,
   "metadata": {},
   "outputs": [],
   "source": [
    "a = region_table.at[-0.2, (2, 'c')].polygon\n",
    "b = region_table.at[-0.2, (1, 'b')].polygon\n",
    "plot_ab(a, b)\n",
    "print(DE27IM(a, b).identify_relation())\n",
    "print(DE9IM(a, b))\n"
   ]
  },
  {
   "cell_type": "markdown",
   "metadata": {},
   "source": [
    "((2, 'c'), (1, 'b'), (-0.2, -0.3))\n",
    "Relationship: Borders\n",
    "|000|\t|000|\t|000|\n",
    "|011|\t|000|\t|000|\n",
    "|001|\t|000|\t|000|"
   ]
  },
  {
   "cell_type": "markdown",
   "metadata": {},
   "source": [
    "# Logic Error: interpolated slice `(-0.2, -0.3)` is considered a boundary for both structures.  It should be a boundary for `(2, 'c')` only.\n",
    "- build the interpolated region as the region_table is being constructed.\n",
    "- This will also be useful for calculating volumes.\n",
    "- `mid_relations` will need to drop the interpolated slices.\n",
    "- `identify_neighbour_slices` will not be required."
   ]
  },
  {
   "cell_type": "code",
   "execution_count": null,
   "metadata": {},
   "outputs": [],
   "source": [
    "set_adjustments(region_table, region_boundaries, selected_roi,\n",
    "                (2, 'c'), (1, 'b'), [-0.2, -0.3])"
   ]
  },
  {
   "cell_type": "code",
   "execution_count": null,
   "metadata": {},
   "outputs": [],
   "source": [
    "~region_table[[(1, 'b'), (2, 'c')]].isna()"
   ]
  },
  {
   "cell_type": "code",
   "execution_count": null,
   "metadata": {},
   "outputs": [],
   "source": [
    "slice_table = cylinders()\n",
    "selected_roi = [1, 2]\n",
    "\n",
    "relation = find_relations(slice_table, selected_roi)\n",
    "print(relation.identify_relation())"
   ]
  },
  {
   "cell_type": "code",
   "execution_count": null,
   "metadata": {},
   "outputs": [],
   "source": [
    "slice_table = cylinders()\n",
    "selected_roi = [1, 5]\n",
    "\n",
    "relation = find_relations(slice_table, selected_roi)\n",
    "print(relation.identify_relation())"
   ]
  },
  {
   "cell_type": "code",
   "execution_count": null,
   "metadata": {},
   "outputs": [],
   "source": [
    "slice_table = cylinders()\n",
    "selected_roi = [1, 5]\n",
    "\n",
    "relation = find_relations(slice_table, selected_roi)\n",
    "print(relation.identify_relation())"
   ]
  },
  {
   "cell_type": "code",
   "execution_count": null,
   "metadata": {},
   "outputs": [],
   "source": [
    "slice_table = cylinders()\n",
    "selected_roi = [1, 5]\n",
    "\n",
    "relation = find_relations(slice_table, selected_roi)\n",
    "print(relation.identify_relation())"
   ]
  },
  {
   "cell_type": "code",
   "execution_count": 27,
   "metadata": {},
   "outputs": [],
   "source": [
    "slice_table = cylinders()\n",
    "region_table = make_region_table(slice_table)\n"
   ]
  },
  {
   "cell_type": "code",
   "execution_count": 28,
   "metadata": {},
   "outputs": [],
   "source": [
    "selected_roi = [1, 5]\n"
   ]
  },
  {
   "cell_type": "code",
   "execution_count": 29,
   "metadata": {
    "notebookRunGroups": {
     "groupValue": "2"
    }
   },
   "outputs": [],
   "source": [
    "holes = region_table.map(is_hole).apply(any)\n",
    "structure_regions = region_table.loc[:,~holes][selected_roi]\n",
    "structure_boundaries = find_boundary_slices(structure_regions)\n"
   ]
  },
  {
   "cell_type": "code",
   "execution_count": 30,
   "metadata": {},
   "outputs": [],
   "source": [
    "poly_a, poly_b = selected_roi\n"
   ]
  },
  {
   "cell_type": "markdown",
   "metadata": {},
   "source": [
    "- For each boundary slice of the Primary ROI identify the neighbouring slice(s) that do not have a primary.\n"
   ]
  },
  {
   "cell_type": "code",
   "execution_count": 31,
   "metadata": {},
   "outputs": [],
   "source": [
    "# Slices that have both primary and secondary structures.\n",
    "s_p = slice_table.map(empty_structure, invert=True)[selected_roi]\n",
    "s_p = s_p.apply(all, axis='columns')\n",
    "\n",
    "# slices that have the secondary structure but not the primary structure.\n",
    "s_not_p = slice_table.map(empty_structure)[selected_roi].copy()\n",
    "s_not_p[poly_b] = ~s_not_p[poly_b]\n",
    "s_not_p = s_not_p.apply(all, axis='columns')\n",
    "\n",
    "# slices that are boundaries of the primary structure.\n",
    "primary_b = structure_boundaries[poly_a].copy()\n"
   ]
  },
  {
   "cell_type": "code",
   "execution_count": 32,
   "metadata": {},
   "outputs": [],
   "source": [
    "def match_slice(primary_b: pd.Series, sp: pd.Series, selected_roi, shift_dir: int):\n",
    "    poly_a, poly_b = selected_roi\n",
    "    n1 = sp & primary_b.shift(shift_dir)\n",
    "    b1 = n1.index.to_series().shift(shift_dir)[n1]\n",
    "    b1.name=poly_a\n",
    "    b1 = b1.reset_index()\n",
    "    b1.columns = [poly_b, poly_a]\n",
    "    return b1\n"
   ]
  },
  {
   "cell_type": "markdown",
   "metadata": {},
   "source": [
    "- If the neighbouring slice has a Secondary contour, select that Secondary slice.\n",
    "\t"
   ]
  },
  {
   "cell_type": "code",
   "execution_count": null,
   "metadata": {},
   "outputs": [],
   "source": [
    "\n",
    "bp = match_slice(primary_b, s_not_p, selected_roi, 1)\n",
    "bn = match_slice(primary_b, s_not_p, selected_roi, -1)\n"
   ]
  },
  {
   "cell_type": "markdown",
   "metadata": {},
   "source": [
    "- If the slice does not have a Secondary contour, but there is a Secondary contour on the same slice as the Primary boundary, select that Secondary slice."
   ]
  },
  {
   "cell_type": "code",
   "execution_count": 22,
   "metadata": {},
   "outputs": [],
   "source": [
    "b0 = match_slice(primary_b, s_p, selected_roi, 0)\n"
   ]
  },
  {
   "cell_type": "code",
   "execution_count": null,
   "metadata": {},
   "outputs": [],
   "source": [
    "bn"
   ]
  },
  {
   "cell_type": "code",
   "execution_count": null,
   "metadata": {},
   "outputs": [],
   "source": [
    "selected_roi = [1, 5]\n",
    "a = slice_table.map(empty_structure, invert=True)[selected_roi]\n",
    "a.columns = [f'HasContour({roi})' for roi in selected_roi]\n",
    "b = structure_boundaries[selected_roi]\n",
    "b.columns = [f'IsBoundary({roi})' for roi in selected_roi]\n",
    "pd.concat([a, b], axis='columns')"
   ]
  },
  {
   "cell_type": "code",
   "execution_count": null,
   "metadata": {},
   "outputs": [],
   "source": [
    "# Slice range = Min(starting slice) to Max(ending slice)\n",
    "selected_slices = select_slices(slice_table, selected_roi)\n",
    "# Send all slices with both Primary and Secondary contours for standard\n",
    "# relation testing\n",
    "mid_relations = selected_slices.agg(relate_structures,\n",
    "                                    structures=selected_roi,\n",
    "                                    axis='columns')\n",
    "mid_relations.name = 'DE27IM'\n",
    "print(mid_relations[0.4])"
   ]
  },
  {
   "cell_type": "code",
   "execution_count": 96,
   "metadata": {},
   "outputs": [],
   "source": [
    "# Slice range = Min(starting slice) to Max(ending slice)\n",
    "selected_slices = select_slices(slice_table, selected_roi)\n",
    "# Send all slices with both Primary and Secondary contours for standard\n",
    "# relation testing\n",
    "mid_relations = selected_slices.agg(relate_structures,\n",
    "                                    structures=selected_roi,\n",
    "                                    axis='columns')\n",
    "mid_relations.name = 'DE27IM'\n",
    "#mid_relations"
   ]
  },
  {
   "cell_type": "markdown",
   "metadata": {},
   "source": [
    "#### Confines Cylinders\n",
    "- Identify the boundary slices of the Primary and the neighbouring slice(s) that do not have a primary.\n",
    "- For each of these neighbouring slices, if the slice does not have a Secondary contour, but there is a Secondary contour on the same slice as the Primary boundary, select that Secondary slice.\n",
    "\n",
    "  \n",
    "![Confines cylinder](FreeCAD_Scripts/confines_cylinder.png)"
   ]
  },
  {
   "cell_type": "markdown",
   "metadata": {},
   "source": [
    "\n",
    "\n",
    "5. Match hole boundary slices for boundary tests:\n",
    "   - For each hole boundary slice of the Primary ROI, if the slice has a Secondary contour, select that contour for comparison.\n",
    "   - If the slice does not have a Secondary contour, identify the neighbouring slice that also has a hole.\n",
    "   - If the neighbouring slice has a Secondary contour, select that contour.\n",
    "   - If the neighbouring slice does not have a Secondary contour, boundary testing is not required.\n",
    "\n",
    "\n",
    "  "
   ]
  },
  {
   "cell_type": "code",
   "execution_count": 1,
   "metadata": {},
   "outputs": [],
   "source": [
    "def confines_cylinder():\n",
    "    slice_spacing = 0.1\n",
    "    # Body structure defines slices in use\n",
    "    body = make_vertical_cylinder(roi_num=0, radius=12, length=1.1, offset_z=-0.5,\n",
    "                                  spacing=slice_spacing)\n",
    "    # Centred cylinder with two embedded cylinders\n",
    "    primary_cylinder = make_vertical_cylinder(roi_num=1, radius=5, length=0.7,\n",
    "                                              offset_z=-0.3,\n",
    "                                              spacing=slice_spacing)\n",
    "    left_hole = make_vertical_cylinder(roi_num=1, radius=2, length=0.5,\n",
    "                                       offset_x=-2.5, offset_z=-0.2,\n",
    "                                       spacing=slice_spacing)\n",
    "    right_hole = make_vertical_cylinder(roi_num=1, radius=2, length=0.5,\n",
    "                                       offset_x=2.5, offset_z=-0.2,\n",
    "                                       spacing=slice_spacing)\n",
    "    # cylinder with interior borders\n",
    "    confines_cylinder = make_vertical_cylinder(roi_num=2, radius=1, length=0.5,\n",
    "                                             offset_x=2.5, offset_z=-0.2,\n",
    "                                             spacing=slice_spacing)\n",
    "\n",
    "    # combine the contours\n",
    "    slice_data = pd.concat([body, primary_cylinder, left_hole, right_hole,\n",
    "                            confines_cylinder])\n",
    "    # convert contour slice data into a table of slices and structures\n",
    "    slice_table = make_slice_table(slice_data, ignore_errors=True)\n",
    "    return slice_table\n"
   ]
  },
  {
   "cell_type": "markdown",
   "metadata": {},
   "source": [
    "#### Concentric cylinders ending on the same slice.\n",
    "\n",
    "<img src=\"Images\\Boundaries\\PartitionInf3D.png\" alt=\"PartitionInf3D\" style=\"height:50px;\">\n",
    "<img src=\"Images\\Boundaries\\PartitionInf2D.png\" alt=\"PartitionInf2D\" style=\"height:30px;\">"
   ]
  },
  {
   "cell_type": "code",
   "execution_count": 26,
   "metadata": {},
   "outputs": [],
   "source": [
    "def concentric_cylinders_same_end():\n",
    "    slice_spacing = 0.1\n",
    "    # Body structure defines slices in use\n",
    "    body = make_vertical_cylinder(roi_num=0, radius=10, length=1, offset_z=-0.5,\n",
    "                                  spacing=slice_spacing)\n",
    "    # Concentric cylinders ending on the same slice\n",
    "    primary_cylinder = make_vertical_cylinder(roi_num=1, radius=2, length=0.7,\n",
    "                                              offset_z=-0.3,\n",
    "                                              spacing=slice_spacing)\n",
    "    inf_partition = make_vertical_cylinder(roi_num=3, radius=1, length=0.4,\n",
    "                                           offset_z=0, spacing=slice_spacing)\n",
    "    # combine the contours\n",
    "    slice_data = pd.concat([body, primary_cylinder, inf_partition])\n",
    "    # convert contour slice data into a table of slices and structures\n",
    "    slice_table = make_slice_table(slice_data, ignore_errors=True)\n",
    "    return slice_table\n",
    "\n",
    "\n",
    "#print(find_relationship(concentric_cylinders_same_end(), [1, 3]))\n"
   ]
  },
  {
   "cell_type": "markdown",
   "metadata": {},
   "source": [
    "- Concentric cylinders starting and ending on the same slice.\n",
    "\n",
    "<img src=\"Images\\Boundaries\\Partition3D.png\" alt=\"PartitionInf3D\" style=\"height:50px;\">\n",
    "<img src=\"Images\\Boundaries\\Partition2D.png\" alt=\"PartitionInf2D\" style=\"height:30px;\">"
   ]
  },
  {
   "cell_type": "code",
   "execution_count": 27,
   "metadata": {},
   "outputs": [],
   "source": [
    "def concentric_cylinders_same_height():\n",
    "    slice_spacing = 0.1\n",
    "    # Body structure defines slices in use\n",
    "    body = make_vertical_cylinder(roi_num=0, radius=10, length=1, offset_z=-0.5,\n",
    "                                  spacing=slice_spacing)\n",
    "    # Concentric cylinders starting and ending on the same slice\n",
    "    primary_cylinder = make_vertical_cylinder(roi_num=1, radius=2, length=0.7,\n",
    "                                              offset_z=-0.3,\n",
    "                                              spacing=slice_spacing)\n",
    "    mid_partition = make_vertical_cylinder(roi_num=4, radius=1, length=0.7,\n",
    "                                           offset_z=-0.3,\n",
    "                                           spacing=slice_spacing)\n",
    "    # combine the contours\n",
    "    slice_data = pd.concat([body, primary_cylinder, mid_partition])\n",
    "    # convert contour slice data into a table of slices and structures\n",
    "    slice_table = make_slice_table(slice_data, ignore_errors=True)\n",
    "    return slice_table\n",
    "\n",
    "\n",
    "#print(find_relationship(concentric_cylinders_same_height(), [1, 4]))\n"
   ]
  },
  {
   "cell_type": "markdown",
   "metadata": {},
   "source": [
    "### Exterior Borders\n",
    "  - Primary: Central Cylinder\n",
    "    - Secondary: one of:\n",
    "      - SUP Cylinder\n",
    "      - INF Cylinder\n",
    "      - Combined SUP & INF cylinders in one structure with single slice gap at the SUP/INF boundary of the central cylinder.\n",
    "\n",
    "      \n",
    "![Exterior Border SUP](Images/Boundaries/ExteriorBorders2D_SUP.png)\n",
    "![Exterior Border INF](Images/Boundaries/ExteriorBorders2D_INF.png)"
   ]
  },
  {
   "cell_type": "code",
   "execution_count": 28,
   "metadata": {},
   "outputs": [],
   "source": [
    "def stacked_cylinders():\n",
    "    slice_spacing = 0.1\n",
    "    # Body structure defines slices in use\n",
    "    body = make_vertical_cylinder(roi_num=0, radius=10, length=1, offset_z=-0.5,\n",
    "                                  spacing=slice_spacing)\n",
    "    # Two concentric cylinders different z offsets\n",
    "    outside_cylinder = make_vertical_cylinder(roi_num=5, radius=2, length=0.4,\n",
    "                                              offset_z=-0.4,\n",
    "                                              spacing=slice_spacing)\n",
    "    inside_cylinder = make_vertical_cylinder(roi_num=6, radius=1, length=0.4,\n",
    "                                             offset_z=0, spacing=slice_spacing)\n",
    "    # combine the contours\n",
    "    slice_data = pd.concat([body, outside_cylinder, inside_cylinder])\n",
    "    # convert contour slice data into a table of slices and structures\n",
    "    slice_table = make_slice_table(slice_data, ignore_errors=True)\n",
    "    return slice_table\n",
    "\n",
    "\n",
    "#print(find_relationship(stacked_cylinders(), [5, 6]))\n"
   ]
  },
  {
   "attachments": {
    "image-2.png": {
     "image/png": "[encoded data removed]"
    },
    "image.png": {
     "image/png": "[encoded data removed]"
    }
   },
   "cell_type": "markdown",
   "metadata": {},
   "source": [
    "### Interior Borders\n",
    "  - Primary: Central Cylinder\n",
    "  - Concentric shorter hole in the center of the primary cylinder\n",
    "  - Secondary same height as hole but narrower\n",
    "  - Interior borders at the and bottom of hole.\n",
    "  \n",
    "![image.png](attachment:image.png)\n",
    "![image-2.png](attachment:image-2.png)"
   ]
  },
  {
   "cell_type": "code",
   "execution_count": 29,
   "metadata": {},
   "outputs": [],
   "source": [
    "def embedded_cylinder():\n",
    "    slice_spacing = 0.1\n",
    "    # Body structure defines slices in use\n",
    "    body = make_vertical_cylinder(roi_num=0, radius=10, length=1, offset_z=-0.5,\n",
    "                                  spacing=slice_spacing)\n",
    "    primary_cylinder = make_vertical_cylinder(roi_num=9, radius=4, length=0.7,\n",
    "                                              offset_z=-0.3,\n",
    "                                              spacing=slice_spacing)\n",
    "    center_hole = make_vertical_cylinder(roi_num=9, radius=2, length=0.5,\n",
    "                                         offset_z=-0.2, spacing=slice_spacing)\n",
    "    # Two concentric cylinders different z offsets\n",
    "    middle_cylinder = make_vertical_cylinder(roi_num=10, radius=1, length=0.5,\n",
    "                                             offset_z=-0.2,\n",
    "                                             spacing=slice_spacing)\n",
    "    reference = make_vertical_cylinder(roi_num=11, radius=2, length=0.5,\n",
    "                                         offset_z=-0.2, spacing=slice_spacing)\n",
    "    # combine the contours\n",
    "    slice_data = pd.concat([body, primary_cylinder, center_hole, middle_cylinder, reference])\n",
    "    # convert contour slice data into a table of slices and structures\n",
    "    slice_table = make_slice_table(slice_data, ignore_errors=True)\n",
    "    return slice_table\n",
    "\n",
    "\n",
    "#print(find_relationship(embedded_cylinder(), [9, 10]))\n"
   ]
  },
  {
   "cell_type": "markdown",
   "metadata": {},
   "source": [
    "- The `boundary_match` and `match_neighbour_slices` functions will need to be updated to include the hole boundary tests.\n",
    "  - For hole boundaries, select the neighboring slice (s) that *DO* have a hole contour.\n",
    "  - The Secondary slice selection works as usual."
   ]
  },
  {
   "cell_type": "code",
   "execution_count": 30,
   "metadata": {},
   "outputs": [],
   "source": [
    "def dual_embedded_cylinder():\n",
    "    slice_spacing = 0.1\n",
    "    # Body structure defines slices in use\n",
    "    body = make_vertical_cylinder(roi_num=0, radius=12, length=1, offset_z=-0.5,\n",
    "                                  spacing=slice_spacing)\n",
    "    primary_cylinder = make_vertical_cylinder(roi_num=1, radius=5, length=0.7,\n",
    "                                              offset_z=-0.3,\n",
    "                                              spacing=slice_spacing)\n",
    "    left_hole = make_vertical_cylinder(roi_num=1, radius=2, length=0.5,\n",
    "                                       offset_x=-2.5, offset_z=-0.2,\n",
    "                                       spacing=slice_spacing)\n",
    "    right_hole = make_vertical_cylinder(roi_num=1, radius=2, length=0.5,\n",
    "                                       offset_x=2.5, offset_z=-0.2,\n",
    "                                       spacing=slice_spacing)\n",
    "    # Two concentric cylinders different z offsets\n",
    "    middle_cylinder = make_vertical_cylinder(roi_num=2, radius=1, length=0.5,\n",
    "                                             offset_x=2.5, offset_z=-0.2,\n",
    "                                             spacing=slice_spacing)\n",
    "\n",
    "    # combine the contours\n",
    "    slice_data = pd.concat([body, primary_cylinder, left_hole, right_hole, middle_cylinder])\n",
    "    # convert contour slice data into a table of slices and structures\n",
    "    slice_table = make_slice_table(slice_data, ignore_errors=True)\n",
    "    return slice_table\n",
    "\n",
    "\n",
    "#print(find_relationship(dual_embedded_cylinder(), [1, 2]))\n"
   ]
  },
  {
   "cell_type": "code",
   "execution_count": null,
   "metadata": {},
   "outputs": [],
   "source": [
    "def overlapping_cylinders():\n",
    "    slice_spacing = 0.5\n",
    "    slice_spacing = 0.1\n",
    "    # Body structure defines slices in use\n",
    "    body = make_vertical_cylinder(roi_num=0, radius=10, length=1, offset_z=-0.5,\n",
    "                                  spacing=slice_spacing)\n",
    "    # Two overlapping cylinders\n",
    "    top_cylinder = make_vertical_cylinder(roi_num=7, radius=2, length=0.4, offset_z=-0.3, spacing=slice_spacing)\n",
    "    bottom_cylinder = make_vertical_cylinder(roi_num=8, radius=2, length=0.4, offset_z=0, spacing=slice_spacing)\n",
    "   # combine the contours\n",
    "    slice_data = pd.concat([top_cylinder, bottom_cylinder, body])\n",
    "    # convert contour slice data into a table of slices and structures\n",
    "    slice_table = make_slice_table(slice_data, ignore_errors=True)\n",
    "    return slice_table\n",
    "\n",
    "\n",
    "#print(find_relationship(overlapping_cylinders(), [7, 8]))\n"
   ]
  },
  {
   "cell_type": "markdown",
   "metadata": {},
   "source": [
    "# More Tests Needed"
   ]
  },
  {
   "cell_type": "markdown",
   "metadata": {},
   "source": [
    "  - Single Primary slice with circular contour.\n",
    "    - Secondary: one of:\n",
    "      - SUP Cylinder\n",
    "      - INF Cylinder\n",
    "      - Combined SUP & INF Cylinders in one structure with single slice gap at level of the primary slice. \n",
    "- **Partition**\n",
    "  - Concentric cylinders ending on the same slice.\n",
    "  - Concentric cylinders starting on the same slice\n",
    "  - Primary: Central Cylinder\n",
    "    - Single Secondary slice with circular contour on the SUP/INF slice of the Primary cylinder.\n",
    "  - Single Primary slice with circular contour\n",
    "    - Secondary: one of:\n",
    "      - SUP Cylinder ending on the same slice.\n",
    "      - INF Cylinder ending on the same slice.\n",
    "- **CONTAINS**\n",
    "  - Concentric cylinders with interior cylinder ending inside the exterior cylinder by one slice\n",
    "**OVERLAPS**\n",
    "  - Concentric cylinders with interior cylinder ending outside the exterior cylinder by one slice\n",
    "  - Concentric cylinders with interior cylinder consisting of single slice ending inside the exterior cylinder by one slice\n"
   ]
  },
  {
   "cell_type": "markdown",
   "metadata": {},
   "source": [
    "  - Primary: Central Cylinder\n",
    "    - Secondary: one of:\n",
    "      - SUP Cylinder\n",
    "      - INF Cylinder\n",
    "      - Combined SUP & INF cylinders in one structure with single slice gap at the SUP/INF boundary of the central cylinder.\n",
    "  - Single Primary slice with circular contour.\n",
    "    - Secondary: one of:\n",
    "      - SUP Cylinder\n",
    "      - INF Cylinder\n",
    "      - Combined SUP & INF Cylinders in one structure with single slice gap at level of the primary slice. \n"
   ]
  }
 ],
 "metadata": {
  "kernelspec": {
   "display_name": "StructureRelations",
   "language": "python",
   "name": "python3"
  },
  "language_info": {
   "codemirror_mode": {
    "name": "ipython",
    "version": 3
   },
   "file_extension": ".py",
   "mimetype": "text/x-python",
   "name": "python",
   "nbconvert_exporter": "python",
   "pygments_lexer": "ipython3",
   "version": "3.11.9"
  }
 },
 "nbformat": 4,
 "nbformat_minor": 2
}
