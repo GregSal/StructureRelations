{
 "cells": [
  {
   "cell_type": "markdown",
   "metadata": {},
   "source": [
    "# Boundary Relation Tests"
   ]
  },
  {
   "cell_type": "markdown",
   "metadata": {},
   "source": [
    "## Setup"
   ]
  },
  {
   "cell_type": "markdown",
   "metadata": {},
   "source": [
    "### Imports"
   ]
  },
  {
   "cell_type": "code",
   "execution_count": 106,
   "metadata": {},
   "outputs": [],
   "source": [
    "# Shared Packages\n",
    "import pandas as pd\n",
    "\n",
    "# Local functions and classes\n",
    "from types_and_classes import *\n",
    "from utilities import *\n",
    "from debug_tools import *\n",
    "from structure_slice import *\n",
    "from metrics import *\n",
    "from relations import *"
   ]
  },
  {
   "cell_type": "markdown",
   "metadata": {},
   "source": [
    "### Global Settings"
   ]
  },
  {
   "cell_type": "code",
   "execution_count": 107,
   "metadata": {},
   "outputs": [],
   "source": [
    "PRECISION = 2"
   ]
  },
  {
   "cell_type": "code",
   "execution_count": 108,
   "metadata": {},
   "outputs": [],
   "source": [
    "%matplotlib inline"
   ]
  },
  {
   "cell_type": "markdown",
   "metadata": {},
   "source": [
    "## Boundary Check process\n",
    "1. Build slice table (index= slice, columns = ROI, Data= StructureSlice)\n",
    "2. Select Primary & Secondary ROI\n",
    "\t- Slice range = Min(starting slice) to Max(ending slice)\n",
    "3. Send all slices with both Primary and Secondary contours for standard relation testing \n",
    "4. Identify the boundary slices of the Primary and Secondary ROI\n",
    "    - Boundary slices are slices that have a contour, but one of their neighbouring slices do not have a contour.\n",
    "5. For each boundary slice of the Primary ROI identify the neighbouring slice(s) that do not have a primary.\n",
    "6. For each of these neighbouring slices select a Secondary slice for boundary tests:\n",
    "\t- If the slice has a Secondary contour, select that Secondary slice.\n",
    "\t- If the slice does not have a Secondary contour, but there is a Secondary contour on the same slice as the Primary boundary, select that Secondary slice.\n",
    "\t- If neither the neighbouring slice nor the same slice as the Primary boundary have a Secondary contour, do not select a Secondary slice. Boundary testing is not required.\n",
    "7. Test the relation between the boundary Primary and the selected Secondary.\n",
    "8. Apply a Primary boundary shift to the relation results.\n",
    "9. If the selected Secondary is also a Secondary boundary, apply a Secondary boundary shift as well.\n",
    "10. Merge all results and reduce to single relation"
   ]
  },
  {
   "cell_type": "markdown",
   "metadata": {},
   "source": [
    "### Adjusting Boundary Slice Relations\n",
    "\n",
    "For the beginning and ending slices of a structure the entire contour must\n",
    "be treated as a boundary.  The structure does not have an interior on these\n",
    "slices. In this case the “Interior” relations become “Boundary” relations.\n",
    "\n",
    "***Error*** \n",
    "Shifting values in the DE-9IM relationship metric implies that the polygon \n",
    "boundaries become exterior to the structure.  This will cause tests for \n",
    "equality to fail.\n",
    "\n",
    "***Solution***\n",
    "The interior bits of the DE-9IM relationship metric must be combined with the \n",
    "boundary bits using \"OR\" logic.  This will allow the boundary bits to be\n",
    "considered as part of the interior.\n",
    "\n",
    "When hole boundaries are tested, only the \"contour\" boundary bits of the 'a' \n",
    "structure DE-9IM relationship\n",
    "\n",
    "\n",
    "relation (DE27IM_Type): A triplet numeric DE-9IM relationship metric.\n",
    "        \n",
    "\n",
    "shift_type (str, optional): The polygon(s) that are boundaries:\n",
    "- 'a' indicates that the first (primary) polygon is at a boundary.\n",
    "- 'b' indicates that the second (secondary) polygon is at a boundary.\n",
    "- 'both' (The default) indicates that both polygons are at a boundary.\n",
    "- 'hole_in_a' indicates that the first polygon is at a boundary with a hole.\n",
    "- 'hole_in_b' indicates that the second polygon is at a boundary with a hole."
   ]
  },
  {
   "cell_type": "markdown",
   "metadata": {},
   "source": [
    "# Current Bugs: \n",
    "\n",
    "1. The search for boundaries does not take into account holes in the structure.\n",
    "2. Missing secondary boundary test\n",
    "3. Borders definition appears to be incorrect"
   ]
  },
  {
   "cell_type": "markdown",
   "metadata": {},
   "source": [
    "## Need to do boundary checks by region not by structure\n",
    "- Make a Region class with the following attributes:\n",
    "    - ROI: ROI_Type, \n",
    "    - slice: SliceIndexType, \n",
    "    - is_hole: bool,\n",
    "    - is_boundary: bool,\n",
    "    - region_labels: List[str], \n",
    "    - polygon: ContourType\n",
    "- Step through all structures and separate each slice into individual polygons \n",
    "    and holes (Regions)\n",
    "- Apply region labels, based on overlapping polygons.\n",
    "  - Set unique labels for each region on the first slice: 'a', 'b' ...\n",
    "  - find overlapping polygons on the next slice and give them the same \n",
    "      region labels.\n",
    "  - A polygon can be in multiple regions.\n",
    "- If a polygon in the current region is not matched to a polygon in the next \n",
    "    region, it is a boundary polygon.\n",
    "- If a polygon in the next region is not matched with a polygon in the current \n",
    "    region, it is a boundary polygon. Assign it to a new region\n",
    "- Store as a list of dictionaries with keys: ROI, slice, is_hole, polygon\n",
    "- convert to a DataFrame and sort on ROI and slice\n"
   ]
  },
  {
   "cell_type": "markdown",
   "metadata": {},
   "source": [
    "**What about two regions that converge into one?**\n",
    "- Keep distinct for now. (A polygon can be in multiple regions)"
   ]
  },
  {
   "cell_type": "markdown",
   "metadata": {},
   "source": [
    "### Managing holes\n",
    "The boundaries of holes must also be checked\n",
    "- `adjust_boundary_relation` will need to be updated to include `shift_type`s for holes:\n",
    "     - *hole_in_a* \n",
    "     - *hole_in_b*\n",
    "     - *hole_in_both*\n",
    "- The *holes* `shift_type` shifts the interior relation to a boundary relation only for the *contour* part.  The *exterior* and *hull* relation parts are not shifted.\n",
    "\n",
    "- The `boundary_match` and `match_neighbour_slices` functions will need to be updated to include the hole boundary tests.\n",
    "  - For hole boundaries, select the neighboring slice (s) that *DO* have a hole contour.\n",
    "  - The Secondary slice selection works as usual.\n",
    "  "
   ]
  },
  {
   "cell_type": "markdown",
   "metadata": {},
   "source": [
    "### secondary boundary tests\n",
    "- Applies to the Secondary ROI in the same way as the Primary ROI.\n",
    "- The `boundary_match` and `match_neighbour_slices` functions will need to be adjusted to work for secondary boundaries as well."
   ]
  },
  {
   "cell_type": "markdown",
   "metadata": {},
   "source": [
    "|Relationship     | Region Test   |  Exterior Test  |  Hull Test  |\n",
    "|-------------    |---------------|-----------------|-------------|\n",
    "|Borders          |  `FF*FT****`  |   `T*T*F*FF*`   | `*********` |\n",
    "|Borders result   |  `000011001`  |   `000011001`   | `000011001` |\n",
    "|Interior Borders |  `FF*FT****`  |   `T***T****`   | `*********` |\n",
    "|Result           |  `111001001`  |   `111001001`   | `001011101` |\n",
    "                \n",
    "**BORDERS:** The two structures share a common exterior boundary.\n",
    "\n",
    "**BORDERS_INTERIOR:** The two structures share a common boundary and one is within the other.\n",
    "    \n"
   ]
  },
  {
   "cell_type": "markdown",
   "metadata": {},
   "source": [
    "|Relationship     | Region Test   |  Exterior Test  |  Hull Test  |\n",
    "|-------------    |---------------|-----------------|-------------|\n",
    "|Overlaps         |  `T*T***T**`  |   `*********`   | `*********` |\n",
    "|Overlaps result  |  `110010001`  |   `110010001`   | `110010001` |\n",
    "\n",
    "                \n",
    "**OVERLAPS:** The two structures share a common region.\n",
    "    "
   ]
  },
  {
   "cell_type": "markdown",
   "metadata": {},
   "source": [
    "![alt text](Images/DE-9IM.png)"
   ]
  },
  {
   "cell_type": "markdown",
   "metadata": {},
   "source": [
    "![alt text](../reference/RelationshipTreeDiagram.svg)"
   ]
  },
  {
   "cell_type": "code",
   "execution_count": 109,
   "metadata": {},
   "outputs": [],
   "source": [
    "def is_boundary(region):\n",
    "    if isinstance(region, Region):\n",
    "        return region.is_boundary\n",
    "    return False\n",
    "\n",
    "\n",
    "def is_hole(region):\n",
    "    if isinstance(region, Region):\n",
    "        return region.is_hole\n",
    "    return False\n",
    "\n",
    "def find_boundary_slices(region_table):\n",
    "    has_boundary = region_table.map(is_boundary)\n",
    "    boundaries = has_boundary.stack('ROI', future_stack=True)\n",
    "    boundaries = boundaries.fillna(0).astype(bool)\n",
    "    boundaries = boundaries.apply(any, axis='columns')\n",
    "    boundaries = boundaries.unstack('ROI')\n",
    "    return boundaries"
   ]
  },
  {
   "cell_type": "code",
   "execution_count": 110,
   "metadata": {},
   "outputs": [],
   "source": [
    "def neighbour_match(slice_table: pd.DataFrame,\n",
    "                    structure_boundaries: pd.DataFrame,\n",
    "                    primary: ROI_Type, secondary: ROI_Type,\n",
    "                    shift_dir: int, has_primary=False):\n",
    "    # Match the slices with primary boundaries to the neighbouring secondary\n",
    "    # structures in the direction of shift_dir\n",
    "    # Identify slices without the primary structure, but with the secondary structure\n",
    "    secondary_slices = slice_table.map(empty_structure)[[primary, secondary]]\n",
    "    secondary_slices[secondary] = ~secondary_slices[secondary]\n",
    "    # Identify slices without the primary structure, but with the secondary structure\n",
    "    secondary_slices = secondary_slices.apply(all, axis='columns')\n",
    "    secondary_slices[secondary] = secondary_slices[secondary].shift(shift_dir)\n",
    "    secondary_slices = secondary_slices.fillna(0).astype(bool)\n",
    "\n",
    "    # Shift the primary structure boundaries to a neighbouring slice\n",
    "    primary_b = structure_boundaries[primary]\n",
    "    idx_p = primary_b.index.to_series()\n",
    "    idx_p.name = primary\n",
    "\n",
    "    # Identify slices without the primary structure, but with the secondary structure\n",
    "    secondary_slices = slice_table.map(empty_structure)[[primary, secondary]]\n",
    "    secondary_slices[secondary] = secondary_slices[secondary].shift(shift_dir)\n",
    "    secondary_slices = secondary_slices.fillna(0).astype(bool)\n",
    "    secondary_slices[primary] = ~secondary_slices[primary]\n",
    "    secondary_slices[secondary] = ~secondary_slices[secondary]\n",
    "    idx_2 = secondary_slices.index.to_series().shift(shift_dir)\n",
    "    idx_2.name = secondary\n",
    "\n",
    "    # Match those slices with neighbouring primary structure boundaries.\n",
    "\n",
    "    match = pd.concat([primary_b, secondary_slices], axis='columns')\n",
    "    match = match.fillna(0).astype(bool)\n",
    "    match = match.apply(all, axis='columns')\n",
    "    matched_indexes = pd.concat([idx_p, idx_2], axis='columns')[match]\n",
    "    return matched_indexes"
   ]
  },
  {
   "cell_type": "markdown",
   "metadata": {},
   "source": [
    "## Test structures\n"
   ]
  },
  {
   "cell_type": "markdown",
   "metadata": {},
   "source": [
    "#### Embedded boxes\n",
    "\n",
    "![ContainsCubes](ContainsCubes.png)"
   ]
  },
  {
   "cell_type": "code",
   "execution_count": 111,
   "metadata": {},
   "outputs": [],
   "source": [
    "def embedded_boxes():\n",
    "    slice_spacing = 0.5\n",
    "    # Body structure defines slices in use\n",
    "    body = make_vertical_cylinder(roi_num=0, radius=20, length=30, offset_z=-15,\n",
    "                                spacing=slice_spacing)\n",
    "    # embedded boxes\n",
    "    cube6 = make_box(roi_num=1, width=6, spacing=slice_spacing)\n",
    "    cube3 = make_box(roi_num=2, width=3, offset_z=0, spacing=slice_spacing)\n",
    "    # combine the contours\n",
    "    slice_data = pd.concat([cube6, cube3, body])\n",
    "    # convert contour slice data into a table of slices and structures\n",
    "    slice_table = make_slice_table(slice_data, ignore_errors=True)\n",
    "    return slice_table"
   ]
  },
  {
   "cell_type": "markdown",
   "metadata": {},
   "source": [
    "#### Concentric cylinders starting on the same slice\n",
    "  \n",
    "<img src=\"Images\\Boundaries\\PartitionSup3D.png\" alt=\"PartitionSup3D\" style=\"height:50px;\">\n",
    "<img src=\"Images\\Boundaries\\PartitionSup2D.png\" alt=\"PartitionSup2D\" style=\"height:30px;\">"
   ]
  },
  {
   "cell_type": "code",
   "execution_count": 112,
   "metadata": {},
   "outputs": [],
   "source": [
    "def concentric_cylinders_same_start():\n",
    "    slice_spacing = 0.1\n",
    "    # Body structure defines slices in use\n",
    "    body = make_vertical_cylinder(roi_num=0, radius=10, length=1, offset_z=-0.5,\n",
    "                                  spacing=slice_spacing)\n",
    "    # Concentric cylinders starting on the same slice\n",
    "    primary_cylinder = make_vertical_cylinder(roi_num=1, radius=2, length=0.7,\n",
    "                                              offset_z=-0.3,\n",
    "                                              spacing=slice_spacing)\n",
    "    sup_partition = make_vertical_cylinder(roi_num=2, radius=1, length=0.4,\n",
    "                                           offset_z=-0.3,\n",
    "                                           spacing=slice_spacing)\n",
    "    # combine the contours\n",
    "    slice_data = pd.concat([body, primary_cylinder, sup_partition])\n",
    "    # convert contour slice data into a table of slices and structures\n",
    "    slice_table = make_slice_table(slice_data, ignore_errors=True)\n",
    "    return slice_table\n"
   ]
  },
  {
   "cell_type": "code",
   "execution_count": 113,
   "metadata": {},
   "outputs": [],
   "source": [
    "def dual_embedded_cylinder():\n",
    "    slice_spacing = 0.1\n",
    "    # Body structure defines slices in use\n",
    "    body = make_vertical_cylinder(roi_num=0, radius=12, length=1.1, offset_z=-0.5,\n",
    "                                  spacing=slice_spacing)\n",
    "    # Centred cylinder with two embedded cylinders\n",
    "    primary_cylinder = make_vertical_cylinder(roi_num=1, radius=5, length=0.7,\n",
    "                                              offset_z=-0.3,\n",
    "                                              spacing=slice_spacing)\n",
    "    left_hole = make_vertical_cylinder(roi_num=1, radius=2, length=0.5,\n",
    "                                       offset_x=-2.5, offset_z=-0.2,\n",
    "                                       spacing=slice_spacing)\n",
    "    right_hole = make_vertical_cylinder(roi_num=1, radius=2, length=0.5,\n",
    "                                       offset_x=2.5, offset_z=-0.2,\n",
    "                                       spacing=slice_spacing)\n",
    "    # cylinder with interior borders\n",
    "    confines_cylinder = make_vertical_cylinder(roi_num=2, radius=1, length=0.5,\n",
    "                                             offset_x=2.5, offset_z=-0.2,\n",
    "                                             spacing=slice_spacing)\n",
    "\n",
    "    # cylinder completely inside of a hole\n",
    "    surrounds_cylinder = make_vertical_cylinder(roi_num=3, radius=1, length=0.3,\n",
    "                                             offset_x=-2.5, offset_z=-0.1,\n",
    "                                             spacing=slice_spacing)\n",
    "    # cylinder bordering primary cylinder\n",
    "    bordering_cylinder1 = make_vertical_cylinder(roi_num=4, radius=3, length=0.2,\n",
    "                                             offset_x=0, offset_z=-0.5,\n",
    "                                             spacing=slice_spacing)\n",
    "    # cylinder bordering primary cylinder\n",
    "    bordering_cylinder2 = make_vertical_cylinder(roi_num=4, radius=3, length=0.2,\n",
    "                                             offset_x=0, offset_z=0.4,\n",
    "                                             spacing=slice_spacing)\n",
    "    # combine the contours\n",
    "    slice_data = pd.concat([body, primary_cylinder, left_hole, right_hole,\n",
    "                            confines_cylinder, surrounds_cylinder,\n",
    "                            bordering_cylinder1, bordering_cylinder2])\n",
    "    # convert contour slice data into a table of slices and structures\n",
    "    slice_table = make_slice_table(slice_data, ignore_errors=True)\n",
    "    return slice_table\n"
   ]
  },
  {
   "cell_type": "code",
   "execution_count": 114,
   "metadata": {},
   "outputs": [],
   "source": [
    "slice_table = embedded_boxes()\n",
    "region_table = make_region_table(slice_table)\n",
    "selected_roi = [1, 2]"
   ]
  },
  {
   "cell_type": "code",
   "execution_count": 115,
   "metadata": {},
   "outputs": [
    {
     "data": {
      "text/plain": [
       "<RelationshipType.CONTAINS: 8>"
      ]
     },
     "execution_count": 115,
     "metadata": {},
     "output_type": "execute_result"
    }
   ],
   "source": [
    "# Slice range = Min(starting slice) to Max(ending slice)\n",
    "selected_slices = select_slices(slice_table, selected_roi)\n",
    "# Send all slices with both Primary and Secondary contours for standard\n",
    "# relation testing\n",
    "mid_relations = selected_slices.agg(relate_structures,\n",
    "                                    structures=selected_roi,\n",
    "                                    axis='columns')\n",
    "mid_relations.name = 'DE27IM'\n",
    "\n",
    "merged_relations(mid_relations).identify_relation()"
   ]
  },
  {
   "cell_type": "markdown",
   "metadata": {},
   "source": [
    "#### Bordering Cylinders\n",
    "- Identify the boundary slices of the Primary and the neighbouring slice(s) that do not have a primary.\n",
    "- For each of these neighbouring slices, if the slice has a Secondary contour, select that Secondary slice.\n",
    "\n",
    "![Bordering cylinders](FreeCAD_Scripts/BorderingCylinders.png)"
   ]
  },
  {
   "cell_type": "code",
   "execution_count": 116,
   "metadata": {},
   "outputs": [],
   "source": [
    "def bordering_cylinders():\n",
    "    slice_spacing = 0.1\n",
    "    # Body structure defines slices in use\n",
    "    body = make_vertical_cylinder(roi_num=0, radius=12, length=1.1, offset_z=-0.5,\n",
    "                                  spacing=slice_spacing)\n",
    "    # Centred cylinder with two embedded cylinders\n",
    "    primary_cylinder = make_vertical_cylinder(roi_num=1, radius=5, length=0.7,\n",
    "                                              offset_z=-0.3,\n",
    "                                              spacing=slice_spacing)\n",
    "    # cylinder bordering primary cylinder\n",
    "    bordering_cylinder1 = make_vertical_cylinder(roi_num=4, radius=3, length=0.2,\n",
    "                                             offset_x=0, offset_z=-0.5,\n",
    "                                             spacing=slice_spacing)\n",
    "    # cylinder bordering primary cylinder\n",
    "    bordering_cylinder2 = make_vertical_cylinder(roi_num=4, radius=3, length=0.2,\n",
    "                                             offset_x=0, offset_z=0.4,\n",
    "                                             spacing=slice_spacing)\n",
    "    # combine the contours\n",
    "    slice_data = pd.concat([body, primary_cylinder, bordering_cylinder1,\n",
    "                            bordering_cylinder2])\n",
    "    # convert contour slice data into a table of slices and structures\n",
    "    slice_table = make_slice_table(slice_data, ignore_errors=True)\n",
    "    return slice_table\n"
   ]
  },
  {
   "cell_type": "markdown",
   "metadata": {},
   "source": [
    "#### Partition Cylinders\n",
    "- Identify the boundary slices of the Primary and the neighbouring slice(s) that do not have a primary.\n",
    "- For each of these neighbouring slices, if the slice does not have a Secondary contour, but there is a Secondary contour on the same slice as the Primary boundary, select that Secondary slice.\n"
   ]
  },
  {
   "cell_type": "code",
   "execution_count": 117,
   "metadata": {},
   "outputs": [],
   "source": [
    "def partitions_cylinder():\n",
    "    slice_spacing = 0.1\n",
    "    # Body structure defines slices in use\n",
    "    body = make_vertical_cylinder(roi_num=0, radius=12, length=1.1, offset_z=-0.5,\n",
    "                                  spacing=slice_spacing)\n",
    "    # Centred cylinder with two embedded cylinders\n",
    "    primary_cylinder = make_vertical_cylinder(roi_num=1, radius=5, length=0.7,\n",
    "                                              offset_z=-0.3,\n",
    "                                              spacing=slice_spacing)\n",
    "    # cylinder with interior borders\n",
    "    partitioning_cylinder = make_vertical_cylinder(roi_num=3, radius=3, length=0.7,\n",
    "                                             offset_x=0, offset_z=-0.3,\n",
    "                                             spacing=slice_spacing)\n",
    "\n",
    "    # combine the contours\n",
    "    slice_data = pd.concat([body, primary_cylinder, partitioning_cylinder])\n",
    "    # convert contour slice data into a table of slices and structures\n",
    "    slice_table = make_slice_table(slice_data, ignore_errors=True)\n",
    "    return slice_table\n"
   ]
  },
  {
   "cell_type": "code",
   "execution_count": 118,
   "metadata": {},
   "outputs": [],
   "source": [
    "def overlapping_cylinder():\n",
    "    slice_spacing = 0.1\n",
    "    # Body structure defines slices in use\n",
    "    body = make_vertical_cylinder(roi_num=0, radius=12, length=1.1, offset_z=-0.5,\n",
    "                                  spacing=slice_spacing)\n",
    "    # Centred cylinder with two embedded cylinders\n",
    "    primary_cylinder = make_vertical_cylinder(roi_num=1, radius=5, length=0.7,\n",
    "                                              offset_z=-0.3,\n",
    "                                              spacing=slice_spacing)\n",
    "    # cylinder with interior borders\n",
    "    overlapping_cylinder = make_vertical_cylinder(roi_num=5, radius=3, length=0.9,\n",
    "                                             offset_x=0, offset_z=-0.3,\n",
    "                                             spacing=slice_spacing)\n",
    "\n",
    "    # combine the contours\n",
    "    slice_data = pd.concat([body, primary_cylinder, overlapping_cylinder])\n",
    "    # convert contour slice data into a table of slices and structures\n",
    "    slice_table = make_slice_table(slice_data, ignore_errors=True)\n",
    "    return slice_table\n"
   ]
  },
  {
   "cell_type": "code",
   "execution_count": 119,
   "metadata": {},
   "outputs": [],
   "source": [
    "def cylinders():\n",
    "    slice_spacing = 0.1\n",
    "    # Body structure defines slices in use\n",
    "    body = make_vertical_cylinder(roi_num=0, radius=12, length=1.1,\n",
    "                                  offset_z=-0.5,\n",
    "                                  spacing=slice_spacing)\n",
    "    # Centred cylinder\n",
    "    primary_cylinder = make_vertical_cylinder(roi_num=1, radius=5, length=0.7,\n",
    "                                              offset_z=-0.3,\n",
    "                                              spacing=slice_spacing)\n",
    "    # cylinder within primary\n",
    "    contained_cylinder = make_vertical_cylinder(roi_num=2, radius=3, length=0.5,\n",
    "                                             offset_x=0, offset_z=-0.2,\n",
    "                                             spacing=slice_spacing)\n",
    "    # cylinder with matching borders\n",
    "    partitioning_cylinder = make_vertical_cylinder(roi_num=3, radius=3, length=0.7,\n",
    "                                             offset_x=0, offset_z=-0.3,\n",
    "                                             spacing=slice_spacing)\n",
    "    # cylinder bordering primary cylinder\n",
    "    bordering_cylinder1 = make_vertical_cylinder(roi_num=4, radius=3, length=0.2,\n",
    "                                             offset_x=0, offset_z=-0.5,\n",
    "                                             spacing=slice_spacing)\n",
    "    # cylinder bordering primary cylinder\n",
    "    bordering_cylinder2 = make_vertical_cylinder(roi_num=4, radius=3, length=0.2,\n",
    "                                             offset_x=0, offset_z=0.4,\n",
    "                                             spacing=slice_spacing)\n",
    "    # cylinder overlapping positive\n",
    "    overlapping_cylinder = make_vertical_cylinder(roi_num=5, radius=3, length=0.8,\n",
    "                                             offset_x=0, offset_z=-0.3,\n",
    "                                             spacing=slice_spacing)\n",
    "    # combine the contours\n",
    "    slice_data = pd.concat([body, primary_cylinder, contained_cylinder,\n",
    "                            partitioning_cylinder,\n",
    "                            bordering_cylinder1, bordering_cylinder2,\n",
    "                            overlapping_cylinder])\n",
    "    # convert contour slice data into a table of slices and structures\n",
    "    slice_table = make_slice_table(slice_data, ignore_errors=True)\n",
    "    return slice_table\n"
   ]
  },
  {
   "cell_type": "markdown",
   "metadata": {},
   "source": [
    "## Boundary Check process\n",
    "1. Build slice table (index= slice, columns = ROI, Data= StructureSlice)\n",
    "2. Select Primary & Secondary ROI\n",
    "\t- Slice range = Min(starting slice) to Max(ending slice)\n",
    "3. Send all slices with both Primary and Secondary contours for standard relation testing \n",
    "4. Identify the boundary slices of the Primary and Secondary ROI\n",
    "    - Boundary slices are slices that have a contour, but one of their neighbouring slices do not have a contour.\n",
    "5. For each boundary slice of the Primary ROI identify the neighbouring slice(s) that do not have a primary.\n",
    "6. For each of these neighbouring slices select a Secondary slice for boundary tests:\n",
    "\t- If the slice has a Secondary contour, select that Secondary slice.\n",
    "\t- If the slice does not have a Secondary contour, but there is a Secondary contour on the same slice as the Primary boundary, select that Secondary slice.\n",
    "\t- If neither the neighbouring slice nor the same slice as the Primary boundary have a Secondary contour, do not select a Secondary slice. Boundary testing is not required.\n",
    "7. Test the relation between the boundary Primary and the selected Secondary.\n",
    "8. Apply a Primary boundary shift to the relation results.\n",
    "9. If the selected Secondary is also a Secondary boundary, apply a Secondary boundary shift as well.\n",
    "10. Merge all results and reduce to single relation"
   ]
  },
  {
   "cell_type": "code",
   "execution_count": 120,
   "metadata": {},
   "outputs": [],
   "source": [
    "slice_table = cylinders()\n",
    "region_table = make_region_table(slice_table)\n"
   ]
  },
  {
   "cell_type": "code",
   "execution_count": 121,
   "metadata": {},
   "outputs": [],
   "source": [
    "selected_roi = [1, 5]\n"
   ]
  },
  {
   "cell_type": "code",
   "execution_count": 122,
   "metadata": {
    "notebookRunGroups": {
     "groupValue": "2"
    }
   },
   "outputs": [],
   "source": [
    "holes = region_table.map(is_hole).apply(any)\n",
    "structure_regions = region_table.loc[:,~holes][selected_roi]\n",
    "structure_boundaries = find_boundary_slices(structure_regions)\n"
   ]
  },
  {
   "cell_type": "code",
   "execution_count": 123,
   "metadata": {},
   "outputs": [],
   "source": [
    "poly_a, poly_b = selected_roi\n"
   ]
  },
  {
   "cell_type": "markdown",
   "metadata": {},
   "source": [
    "- For each boundary slice of the Primary ROI identify the neighbouring slice(s) that do not have a primary.\n"
   ]
  },
  {
   "cell_type": "code",
   "execution_count": 124,
   "metadata": {},
   "outputs": [],
   "source": [
    "# Slices that have both primary and secondary structures.\n",
    "s_p = slice_table.map(empty_structure, invert=True)[selected_roi]\n",
    "s_p = s_p.apply(all, axis='columns')\n",
    "\n",
    "# slices that have the secondary structure but not the primary structure.\n",
    "s_not_p = slice_table.map(empty_structure)[selected_roi].copy()\n",
    "s_not_p[poly_b] = ~s_not_p[poly_b]\n",
    "s_not_p = s_not_p.apply(all, axis='columns')\n",
    "\n",
    "# slices that are boundaries of the primary structure.\n",
    "primary_b = structure_boundaries[poly_a].copy()\n"
   ]
  },
  {
   "cell_type": "code",
   "execution_count": 125,
   "metadata": {},
   "outputs": [],
   "source": [
    "def match_slice(primary_b: pd.Series, sp: pd.Series, selected_roi, shift_dir: int):\n",
    "    poly_a, poly_b = selected_roi\n",
    "    n1 = sp & primary_b.shift(shift_dir)\n",
    "    b1 = n1.index.to_series().shift(shift_dir)[n1]\n",
    "    b1.name=poly_a\n",
    "    b1 = b1.reset_index()\n",
    "    b1.columns = [poly_b, poly_a]\n",
    "    return b1\n"
   ]
  },
  {
   "cell_type": "markdown",
   "metadata": {},
   "source": [
    "- If the neighbouring slice has a Secondary contour, select that Secondary slice.\n",
    "\t"
   ]
  },
  {
   "cell_type": "code",
   "execution_count": 126,
   "metadata": {},
   "outputs": [],
   "source": [
    "\n",
    "bp = match_slice(primary_b, s_not_p, selected_roi, 1)\n",
    "bn = match_slice(primary_b, s_not_p, selected_roi, -1)\n"
   ]
  },
  {
   "cell_type": "markdown",
   "metadata": {},
   "source": [
    "- If the slice does not have a Secondary contour, but there is a Secondary contour on the same slice as the Primary boundary, select that Secondary slice."
   ]
  },
  {
   "cell_type": "code",
   "execution_count": 127,
   "metadata": {},
   "outputs": [],
   "source": [
    "b0 = match_slice(primary_b, s_p, selected_roi, 0)\n"
   ]
  },
  {
   "cell_type": "code",
   "execution_count": 128,
   "metadata": {},
   "outputs": [
    {
     "data": {
      "text/html": [
       "<div>\n",
       "<style scoped>\n",
       "    .dataframe tbody tr th:only-of-type {\n",
       "        vertical-align: middle;\n",
       "    }\n",
       "\n",
       "    .dataframe tbody tr th {\n",
       "        vertical-align: top;\n",
       "    }\n",
       "\n",
       "    .dataframe thead th {\n",
       "        text-align: right;\n",
       "    }\n",
       "</style>\n",
       "<table border=\"1\" class=\"dataframe\">\n",
       "  <thead>\n",
       "    <tr style=\"text-align: right;\">\n",
       "      <th></th>\n",
       "      <th>5</th>\n",
       "      <th>1</th>\n",
       "    </tr>\n",
       "  </thead>\n",
       "  <tbody>\n",
       "  </tbody>\n",
       "</table>\n",
       "</div>"
      ],
      "text/plain": [
       "Empty DataFrame\n",
       "Columns: [5, 1]\n",
       "Index: []"
      ]
     },
     "execution_count": 128,
     "metadata": {},
     "output_type": "execute_result"
    }
   ],
   "source": [
    "bn"
   ]
  },
  {
   "cell_type": "code",
   "execution_count": 133,
   "metadata": {},
   "outputs": [
    {
     "data": {
      "text/html": [
       "<div>\n",
       "<style scoped>\n",
       "    .dataframe tbody tr th:only-of-type {\n",
       "        vertical-align: middle;\n",
       "    }\n",
       "\n",
       "    .dataframe tbody tr th {\n",
       "        vertical-align: top;\n",
       "    }\n",
       "\n",
       "    .dataframe thead th {\n",
       "        text-align: right;\n",
       "    }\n",
       "</style>\n",
       "<table border=\"1\" class=\"dataframe\">\n",
       "  <thead>\n",
       "    <tr style=\"text-align: right;\">\n",
       "      <th></th>\n",
       "      <th>HasContour(1)</th>\n",
       "      <th>HasContour(5)</th>\n",
       "      <th>IsBoundary(1)</th>\n",
       "      <th>IsBoundary(5)</th>\n",
       "    </tr>\n",
       "  </thead>\n",
       "  <tbody>\n",
       "    <tr>\n",
       "      <th>-0.5</th>\n",
       "      <td>False</td>\n",
       "      <td>False</td>\n",
       "      <td>False</td>\n",
       "      <td>False</td>\n",
       "    </tr>\n",
       "    <tr>\n",
       "      <th>-0.4</th>\n",
       "      <td>False</td>\n",
       "      <td>False</td>\n",
       "      <td>False</td>\n",
       "      <td>False</td>\n",
       "    </tr>\n",
       "    <tr>\n",
       "      <th>-0.3</th>\n",
       "      <td>True</td>\n",
       "      <td>True</td>\n",
       "      <td>True</td>\n",
       "      <td>True</td>\n",
       "    </tr>\n",
       "    <tr>\n",
       "      <th>-0.2</th>\n",
       "      <td>True</td>\n",
       "      <td>True</td>\n",
       "      <td>False</td>\n",
       "      <td>False</td>\n",
       "    </tr>\n",
       "    <tr>\n",
       "      <th>-0.1</th>\n",
       "      <td>True</td>\n",
       "      <td>True</td>\n",
       "      <td>False</td>\n",
       "      <td>False</td>\n",
       "    </tr>\n",
       "    <tr>\n",
       "      <th>0.0</th>\n",
       "      <td>True</td>\n",
       "      <td>True</td>\n",
       "      <td>False</td>\n",
       "      <td>False</td>\n",
       "    </tr>\n",
       "    <tr>\n",
       "      <th>0.1</th>\n",
       "      <td>True</td>\n",
       "      <td>True</td>\n",
       "      <td>False</td>\n",
       "      <td>False</td>\n",
       "    </tr>\n",
       "    <tr>\n",
       "      <th>0.2</th>\n",
       "      <td>True</td>\n",
       "      <td>True</td>\n",
       "      <td>False</td>\n",
       "      <td>False</td>\n",
       "    </tr>\n",
       "    <tr>\n",
       "      <th>0.3</th>\n",
       "      <td>True</td>\n",
       "      <td>True</td>\n",
       "      <td>True</td>\n",
       "      <td>False</td>\n",
       "    </tr>\n",
       "    <tr>\n",
       "      <th>0.4</th>\n",
       "      <td>False</td>\n",
       "      <td>True</td>\n",
       "      <td>False</td>\n",
       "      <td>True</td>\n",
       "    </tr>\n",
       "    <tr>\n",
       "      <th>0.5</th>\n",
       "      <td>False</td>\n",
       "      <td>False</td>\n",
       "      <td>False</td>\n",
       "      <td>False</td>\n",
       "    </tr>\n",
       "  </tbody>\n",
       "</table>\n",
       "</div>"
      ],
      "text/plain": [
       "      HasContour(1)  HasContour(5)  IsBoundary(1)  IsBoundary(5)\n",
       "-0.5          False          False          False          False\n",
       "-0.4          False          False          False          False\n",
       "-0.3           True           True           True           True\n",
       "-0.2           True           True          False          False\n",
       "-0.1           True           True          False          False\n",
       " 0.0           True           True          False          False\n",
       " 0.1           True           True          False          False\n",
       " 0.2           True           True          False          False\n",
       " 0.3           True           True           True          False\n",
       " 0.4          False           True          False           True\n",
       " 0.5          False          False          False          False"
      ]
     },
     "execution_count": 133,
     "metadata": {},
     "output_type": "execute_result"
    }
   ],
   "source": [
    "selected_roi = [1, 5]\n",
    "a = slice_table.map(empty_structure, invert=True)[selected_roi]\n",
    "a.columns = [f'HasContour({roi})' for roi in selected_roi]\n",
    "b = structure_boundaries[selected_roi]\n",
    "b.columns = [f'IsBoundary({roi})' for roi in selected_roi]\n",
    "pd.concat([a, b], axis='columns')"
   ]
  },
  {
   "cell_type": "markdown",
   "metadata": {},
   "source": [
    "# Question\n",
    "- Slice 0.4 is a boundary for #5, and is a neighbour to the boundary for #1.\n",
    "- Will it get the relation wrong if I test it as a boundary for both #1 and #5?\n",
    "> Probably not, because regular relations are also tested  for slice 0.4.  \n",
    "> For 0.4, #5 will be external to #1.\n"
   ]
  },
  {
   "cell_type": "code",
   "execution_count": 139,
   "metadata": {},
   "outputs": [
    {
     "name": "stdout",
     "output_type": "stream",
     "text": [
      "|000|\t|000|\t|000|\n",
      "|000|\t|000|\t|000|\n",
      "|000|\t|000|\t|000|\n",
      "\n"
     ]
    }
   ],
   "source": [
    "# Slice range = Min(starting slice) to Max(ending slice)\n",
    "selected_slices = select_slices(slice_table, selected_roi)\n",
    "# Send all slices with both Primary and Secondary contours for standard\n",
    "# relation testing\n",
    "mid_relations = selected_slices.agg(relate_structures,\n",
    "                                    structures=selected_roi,\n",
    "                                    axis='columns')\n",
    "mid_relations.name = 'DE27IM'\n",
    "print(mid_relations[0.4])"
   ]
  },
  {
   "cell_type": "markdown",
   "metadata": {},
   "source": [
    "## **Slice 0.4 should show #5 is external to #1.**"
   ]
  },
  {
   "cell_type": "code",
   "execution_count": null,
   "metadata": {},
   "outputs": [],
   "source": [
    "\n",
    "for slice, rel in mid_relations.to_dict().items():\n",
    "    print(f\"Slice {slice}: \\n{rel}\\n\")"
   ]
  },
  {
   "cell_type": "code",
   "execution_count": null,
   "metadata": {},
   "outputs": [],
   "source": [
    "merged_relations(mid_relations).identify_relation()"
   ]
  },
  {
   "cell_type": "code",
   "execution_count": 94,
   "metadata": {},
   "outputs": [
    {
     "data": {
      "text/plain": [
       "Slice Index\n",
       "0.3    0.4\n",
       "Name: Slice Index, dtype: float64"
      ]
     },
     "execution_count": 94,
     "metadata": {},
     "output_type": "execute_result"
    }
   ],
   "source": [
    "secondary_slices = slice_table.map(empty_structure)[selected_roi]\n",
    "secondary_slices[poly_b] = ~secondary_slices[poly_b]\n",
    "secondary_slices = secondary_slices.apply(all, axis='columns')\n",
    "\n",
    "pos_slices = secondary_slices.shift(1).fillna(0).astype(bool)\n",
    "idx_p = secondary_slices.index.to_series().shift(1)\n",
    "match = pd.concat([primary_b, pos_slices], axis='columns')\n",
    "match = match.fillna(0).astype(bool)\n",
    "match = match.apply(all, axis='columns')\n",
    "a = idx_p[match]\n",
    "\n",
    "neg_slices = secondary_slices.shift(-1).fillna(0).astype(bool)\n",
    "idx_n = secondary_slices.index.to_series().shift(-1)\n",
    "match = pd.concat([primary_b, neg_slices], axis='columns')\n",
    "match = match.fillna(0).astype(bool)\n",
    "match = match.apply(all, axis='columns')\n",
    "b = idx_n[match]\n",
    "\n",
    "s_slices = secondary_slices.shift(0).fillna(0).astype(bool)\n",
    "\n",
    "idx_s = secondary_slices.index.to_series().shift(0)\n",
    "match = pd.concat([primary_b, s_slices], axis='columns')\n",
    "match = match.fillna(0).astype(bool)\n",
    "match = match.apply(all, axis='columns')\n",
    "c = idx_s[match]\n",
    "\n",
    "\n",
    "pd.concat([a, b, c], axis='index')"
   ]
  },
  {
   "cell_type": "code",
   "execution_count": 95,
   "metadata": {},
   "outputs": [
    {
     "data": {
      "text/html": [
       "<div>\n",
       "<style scoped>\n",
       "    .dataframe tbody tr th:only-of-type {\n",
       "        vertical-align: middle;\n",
       "    }\n",
       "\n",
       "    .dataframe tbody tr th {\n",
       "        vertical-align: top;\n",
       "    }\n",
       "\n",
       "    .dataframe thead tr th {\n",
       "        text-align: left;\n",
       "    }\n",
       "\n",
       "    .dataframe thead tr:last-of-type th {\n",
       "        text-align: right;\n",
       "    }\n",
       "</style>\n",
       "<table border=\"1\" class=\"dataframe\">\n",
       "  <thead>\n",
       "    <tr>\n",
       "      <th>ROI</th>\n",
       "      <th>0</th>\n",
       "      <th>1</th>\n",
       "      <th>2</th>\n",
       "      <th>3</th>\n",
       "      <th colspan=\"2\" halign=\"left\">4</th>\n",
       "      <th>5</th>\n",
       "    </tr>\n",
       "    <tr>\n",
       "      <th>Label</th>\n",
       "      <th>a</th>\n",
       "      <th>b</th>\n",
       "      <th>c</th>\n",
       "      <th>d</th>\n",
       "      <th>e</th>\n",
       "      <th>f</th>\n",
       "      <th>g</th>\n",
       "    </tr>\n",
       "    <tr>\n",
       "      <th>Slice</th>\n",
       "      <th></th>\n",
       "      <th></th>\n",
       "      <th></th>\n",
       "      <th></th>\n",
       "      <th></th>\n",
       "      <th></th>\n",
       "      <th></th>\n",
       "    </tr>\n",
       "  </thead>\n",
       "  <tbody>\n",
       "    <tr>\n",
       "      <th>-0.5</th>\n",
       "      <td>Region(roi=0, slice=-0.5, is_hole=False, is_bo...</td>\n",
       "      <td>NaN</td>\n",
       "      <td>NaN</td>\n",
       "      <td>NaN</td>\n",
       "      <td>Region(roi=4, slice=-0.5, is_hole=False, is_bo...</td>\n",
       "      <td>NaN</td>\n",
       "      <td>NaN</td>\n",
       "    </tr>\n",
       "    <tr>\n",
       "      <th>-0.4</th>\n",
       "      <td>Region(roi=0, slice=-0.4, is_hole=False, is_bo...</td>\n",
       "      <td>NaN</td>\n",
       "      <td>NaN</td>\n",
       "      <td>NaN</td>\n",
       "      <td>Region(roi=4, slice=-0.4, is_hole=False, is_bo...</td>\n",
       "      <td>NaN</td>\n",
       "      <td>NaN</td>\n",
       "    </tr>\n",
       "    <tr>\n",
       "      <th>-0.3</th>\n",
       "      <td>Region(roi=0, slice=-0.3, is_hole=False, is_bo...</td>\n",
       "      <td>Region(roi=1, slice=-0.3, is_hole=False, is_bo...</td>\n",
       "      <td>NaN</td>\n",
       "      <td>Region(roi=3, slice=-0.3, is_hole=False, is_bo...</td>\n",
       "      <td>NaN</td>\n",
       "      <td>NaN</td>\n",
       "      <td>Region(roi=5, slice=-0.3, is_hole=False, is_bo...</td>\n",
       "    </tr>\n",
       "    <tr>\n",
       "      <th>-0.2</th>\n",
       "      <td>Region(roi=0, slice=-0.2, is_hole=False, is_bo...</td>\n",
       "      <td>Region(roi=1, slice=-0.2, is_hole=False, is_bo...</td>\n",
       "      <td>Region(roi=2, slice=-0.2, is_hole=False, is_bo...</td>\n",
       "      <td>Region(roi=3, slice=-0.2, is_hole=False, is_bo...</td>\n",
       "      <td>NaN</td>\n",
       "      <td>NaN</td>\n",
       "      <td>Region(roi=5, slice=-0.2, is_hole=False, is_bo...</td>\n",
       "    </tr>\n",
       "    <tr>\n",
       "      <th>-0.1</th>\n",
       "      <td>Region(roi=0, slice=-0.1, is_hole=False, is_bo...</td>\n",
       "      <td>Region(roi=1, slice=-0.1, is_hole=False, is_bo...</td>\n",
       "      <td>Region(roi=2, slice=-0.1, is_hole=False, is_bo...</td>\n",
       "      <td>Region(roi=3, slice=-0.1, is_hole=False, is_bo...</td>\n",
       "      <td>NaN</td>\n",
       "      <td>NaN</td>\n",
       "      <td>Region(roi=5, slice=-0.1, is_hole=False, is_bo...</td>\n",
       "    </tr>\n",
       "    <tr>\n",
       "      <th>0.0</th>\n",
       "      <td>Region(roi=0, slice=0.0, is_hole=False, is_bou...</td>\n",
       "      <td>Region(roi=1, slice=0.0, is_hole=False, is_bou...</td>\n",
       "      <td>Region(roi=2, slice=0.0, is_hole=False, is_bou...</td>\n",
       "      <td>Region(roi=3, slice=0.0, is_hole=False, is_bou...</td>\n",
       "      <td>NaN</td>\n",
       "      <td>NaN</td>\n",
       "      <td>Region(roi=5, slice=0.0, is_hole=False, is_bou...</td>\n",
       "    </tr>\n",
       "    <tr>\n",
       "      <th>0.1</th>\n",
       "      <td>Region(roi=0, slice=0.1, is_hole=False, is_bou...</td>\n",
       "      <td>Region(roi=1, slice=0.1, is_hole=False, is_bou...</td>\n",
       "      <td>Region(roi=2, slice=0.1, is_hole=False, is_bou...</td>\n",
       "      <td>Region(roi=3, slice=0.1, is_hole=False, is_bou...</td>\n",
       "      <td>NaN</td>\n",
       "      <td>NaN</td>\n",
       "      <td>Region(roi=5, slice=0.1, is_hole=False, is_bou...</td>\n",
       "    </tr>\n",
       "    <tr>\n",
       "      <th>0.2</th>\n",
       "      <td>Region(roi=0, slice=0.2, is_hole=False, is_bou...</td>\n",
       "      <td>Region(roi=1, slice=0.2, is_hole=False, is_bou...</td>\n",
       "      <td>Region(roi=2, slice=0.2, is_hole=False, is_bou...</td>\n",
       "      <td>Region(roi=3, slice=0.2, is_hole=False, is_bou...</td>\n",
       "      <td>NaN</td>\n",
       "      <td>NaN</td>\n",
       "      <td>Region(roi=5, slice=0.2, is_hole=False, is_bou...</td>\n",
       "    </tr>\n",
       "    <tr>\n",
       "      <th>0.3</th>\n",
       "      <td>Region(roi=0, slice=0.3, is_hole=False, is_bou...</td>\n",
       "      <td>Region(roi=1, slice=0.3, is_hole=False, is_bou...</td>\n",
       "      <td>NaN</td>\n",
       "      <td>Region(roi=3, slice=0.3, is_hole=False, is_bou...</td>\n",
       "      <td>NaN</td>\n",
       "      <td>NaN</td>\n",
       "      <td>Region(roi=5, slice=0.3, is_hole=False, is_bou...</td>\n",
       "    </tr>\n",
       "    <tr>\n",
       "      <th>0.4</th>\n",
       "      <td>Region(roi=0, slice=0.4, is_hole=False, is_bou...</td>\n",
       "      <td>NaN</td>\n",
       "      <td>NaN</td>\n",
       "      <td>NaN</td>\n",
       "      <td>NaN</td>\n",
       "      <td>Region(roi=4, slice=0.4, is_hole=False, is_bou...</td>\n",
       "      <td>Region(roi=5, slice=0.4, is_hole=False, is_bou...</td>\n",
       "    </tr>\n",
       "    <tr>\n",
       "      <th>0.5</th>\n",
       "      <td>Region(roi=0, slice=0.5, is_hole=False, is_bou...</td>\n",
       "      <td>NaN</td>\n",
       "      <td>NaN</td>\n",
       "      <td>NaN</td>\n",
       "      <td>NaN</td>\n",
       "      <td>Region(roi=4, slice=0.5, is_hole=False, is_bou...</td>\n",
       "      <td>NaN</td>\n",
       "    </tr>\n",
       "  </tbody>\n",
       "</table>\n",
       "</div>"
      ],
      "text/plain": [
       "ROI                                                    0  \\\n",
       "Label                                                  a   \n",
       "Slice                                                      \n",
       "-0.5   Region(roi=0, slice=-0.5, is_hole=False, is_bo...   \n",
       "-0.4   Region(roi=0, slice=-0.4, is_hole=False, is_bo...   \n",
       "-0.3   Region(roi=0, slice=-0.3, is_hole=False, is_bo...   \n",
       "-0.2   Region(roi=0, slice=-0.2, is_hole=False, is_bo...   \n",
       "-0.1   Region(roi=0, slice=-0.1, is_hole=False, is_bo...   \n",
       " 0.0   Region(roi=0, slice=0.0, is_hole=False, is_bou...   \n",
       " 0.1   Region(roi=0, slice=0.1, is_hole=False, is_bou...   \n",
       " 0.2   Region(roi=0, slice=0.2, is_hole=False, is_bou...   \n",
       " 0.3   Region(roi=0, slice=0.3, is_hole=False, is_bou...   \n",
       " 0.4   Region(roi=0, slice=0.4, is_hole=False, is_bou...   \n",
       " 0.5   Region(roi=0, slice=0.5, is_hole=False, is_bou...   \n",
       "\n",
       "ROI                                                    1  \\\n",
       "Label                                                  b   \n",
       "Slice                                                      \n",
       "-0.5                                                 NaN   \n",
       "-0.4                                                 NaN   \n",
       "-0.3   Region(roi=1, slice=-0.3, is_hole=False, is_bo...   \n",
       "-0.2   Region(roi=1, slice=-0.2, is_hole=False, is_bo...   \n",
       "-0.1   Region(roi=1, slice=-0.1, is_hole=False, is_bo...   \n",
       " 0.0   Region(roi=1, slice=0.0, is_hole=False, is_bou...   \n",
       " 0.1   Region(roi=1, slice=0.1, is_hole=False, is_bou...   \n",
       " 0.2   Region(roi=1, slice=0.2, is_hole=False, is_bou...   \n",
       " 0.3   Region(roi=1, slice=0.3, is_hole=False, is_bou...   \n",
       " 0.4                                                 NaN   \n",
       " 0.5                                                 NaN   \n",
       "\n",
       "ROI                                                    2  \\\n",
       "Label                                                  c   \n",
       "Slice                                                      \n",
       "-0.5                                                 NaN   \n",
       "-0.4                                                 NaN   \n",
       "-0.3                                                 NaN   \n",
       "-0.2   Region(roi=2, slice=-0.2, is_hole=False, is_bo...   \n",
       "-0.1   Region(roi=2, slice=-0.1, is_hole=False, is_bo...   \n",
       " 0.0   Region(roi=2, slice=0.0, is_hole=False, is_bou...   \n",
       " 0.1   Region(roi=2, slice=0.1, is_hole=False, is_bou...   \n",
       " 0.2   Region(roi=2, slice=0.2, is_hole=False, is_bou...   \n",
       " 0.3                                                 NaN   \n",
       " 0.4                                                 NaN   \n",
       " 0.5                                                 NaN   \n",
       "\n",
       "ROI                                                    3  \\\n",
       "Label                                                  d   \n",
       "Slice                                                      \n",
       "-0.5                                                 NaN   \n",
       "-0.4                                                 NaN   \n",
       "-0.3   Region(roi=3, slice=-0.3, is_hole=False, is_bo...   \n",
       "-0.2   Region(roi=3, slice=-0.2, is_hole=False, is_bo...   \n",
       "-0.1   Region(roi=3, slice=-0.1, is_hole=False, is_bo...   \n",
       " 0.0   Region(roi=3, slice=0.0, is_hole=False, is_bou...   \n",
       " 0.1   Region(roi=3, slice=0.1, is_hole=False, is_bou...   \n",
       " 0.2   Region(roi=3, slice=0.2, is_hole=False, is_bou...   \n",
       " 0.3   Region(roi=3, slice=0.3, is_hole=False, is_bou...   \n",
       " 0.4                                                 NaN   \n",
       " 0.5                                                 NaN   \n",
       "\n",
       "ROI                                                    4  \\\n",
       "Label                                                  e   \n",
       "Slice                                                      \n",
       "-0.5   Region(roi=4, slice=-0.5, is_hole=False, is_bo...   \n",
       "-0.4   Region(roi=4, slice=-0.4, is_hole=False, is_bo...   \n",
       "-0.3                                                 NaN   \n",
       "-0.2                                                 NaN   \n",
       "-0.1                                                 NaN   \n",
       " 0.0                                                 NaN   \n",
       " 0.1                                                 NaN   \n",
       " 0.2                                                 NaN   \n",
       " 0.3                                                 NaN   \n",
       " 0.4                                                 NaN   \n",
       " 0.5                                                 NaN   \n",
       "\n",
       "ROI                                                       \\\n",
       "Label                                                  f   \n",
       "Slice                                                      \n",
       "-0.5                                                 NaN   \n",
       "-0.4                                                 NaN   \n",
       "-0.3                                                 NaN   \n",
       "-0.2                                                 NaN   \n",
       "-0.1                                                 NaN   \n",
       " 0.0                                                 NaN   \n",
       " 0.1                                                 NaN   \n",
       " 0.2                                                 NaN   \n",
       " 0.3                                                 NaN   \n",
       " 0.4   Region(roi=4, slice=0.4, is_hole=False, is_bou...   \n",
       " 0.5   Region(roi=4, slice=0.5, is_hole=False, is_bou...   \n",
       "\n",
       "ROI                                                    5  \n",
       "Label                                                  g  \n",
       "Slice                                                     \n",
       "-0.5                                                 NaN  \n",
       "-0.4                                                 NaN  \n",
       "-0.3   Region(roi=5, slice=-0.3, is_hole=False, is_bo...  \n",
       "-0.2   Region(roi=5, slice=-0.2, is_hole=False, is_bo...  \n",
       "-0.1   Region(roi=5, slice=-0.1, is_hole=False, is_bo...  \n",
       " 0.0   Region(roi=5, slice=0.0, is_hole=False, is_bou...  \n",
       " 0.1   Region(roi=5, slice=0.1, is_hole=False, is_bou...  \n",
       " 0.2   Region(roi=5, slice=0.2, is_hole=False, is_bou...  \n",
       " 0.3   Region(roi=5, slice=0.3, is_hole=False, is_bou...  \n",
       " 0.4   Region(roi=5, slice=0.4, is_hole=False, is_bou...  \n",
       " 0.5                                                 NaN  "
      ]
     },
     "execution_count": 95,
     "metadata": {},
     "output_type": "execute_result"
    }
   ],
   "source": [
    "region_table"
   ]
  },
  {
   "cell_type": "code",
   "execution_count": 96,
   "metadata": {},
   "outputs": [],
   "source": [
    "# Slice range = Min(starting slice) to Max(ending slice)\n",
    "selected_slices = select_slices(slice_table, selected_roi)\n",
    "# Send all slices with both Primary and Secondary contours for standard\n",
    "# relation testing\n",
    "mid_relations = selected_slices.agg(relate_structures,\n",
    "                                    structures=selected_roi,\n",
    "                                    axis='columns')\n",
    "mid_relations.name = 'DE27IM'\n",
    "#mid_relations"
   ]
  },
  {
   "cell_type": "code",
   "execution_count": 97,
   "metadata": {},
   "outputs": [],
   "source": [
    "slice_table = cylinders()\n",
    "region_table = make_region_table(slice_table)\n",
    "selected_roi = [1, 4]\n"
   ]
  },
  {
   "cell_type": "code",
   "execution_count": 98,
   "metadata": {},
   "outputs": [],
   "source": [
    "selected_roi = [1, 3]"
   ]
  },
  {
   "cell_type": "code",
   "execution_count": 99,
   "metadata": {},
   "outputs": [
    {
     "data": {
      "text/html": [
       "<div>\n",
       "<style scoped>\n",
       "    .dataframe tbody tr th:only-of-type {\n",
       "        vertical-align: middle;\n",
       "    }\n",
       "\n",
       "    .dataframe tbody tr th {\n",
       "        vertical-align: top;\n",
       "    }\n",
       "\n",
       "    .dataframe thead th {\n",
       "        text-align: right;\n",
       "    }\n",
       "</style>\n",
       "<table border=\"1\" class=\"dataframe\">\n",
       "  <thead>\n",
       "    <tr style=\"text-align: right;\">\n",
       "      <th>ROI Num</th>\n",
       "      <th>1</th>\n",
       "      <th>3</th>\n",
       "    </tr>\n",
       "    <tr>\n",
       "      <th>Slice Index</th>\n",
       "      <th></th>\n",
       "      <th></th>\n",
       "    </tr>\n",
       "  </thead>\n",
       "  <tbody>\n",
       "    <tr>\n",
       "      <th>-0.5</th>\n",
       "      <td>True</td>\n",
       "      <td>False</td>\n",
       "    </tr>\n",
       "    <tr>\n",
       "      <th>-0.4</th>\n",
       "      <td>True</td>\n",
       "      <td>False</td>\n",
       "    </tr>\n",
       "    <tr>\n",
       "      <th>-0.3</th>\n",
       "      <td>False</td>\n",
       "      <td>True</td>\n",
       "    </tr>\n",
       "    <tr>\n",
       "      <th>-0.2</th>\n",
       "      <td>False</td>\n",
       "      <td>True</td>\n",
       "    </tr>\n",
       "    <tr>\n",
       "      <th>-0.1</th>\n",
       "      <td>False</td>\n",
       "      <td>True</td>\n",
       "    </tr>\n",
       "    <tr>\n",
       "      <th>0.0</th>\n",
       "      <td>False</td>\n",
       "      <td>True</td>\n",
       "    </tr>\n",
       "    <tr>\n",
       "      <th>0.1</th>\n",
       "      <td>False</td>\n",
       "      <td>True</td>\n",
       "    </tr>\n",
       "    <tr>\n",
       "      <th>0.2</th>\n",
       "      <td>False</td>\n",
       "      <td>True</td>\n",
       "    </tr>\n",
       "    <tr>\n",
       "      <th>0.3</th>\n",
       "      <td>False</td>\n",
       "      <td>True</td>\n",
       "    </tr>\n",
       "    <tr>\n",
       "      <th>0.4</th>\n",
       "      <td>True</td>\n",
       "      <td>False</td>\n",
       "    </tr>\n",
       "    <tr>\n",
       "      <th>0.5</th>\n",
       "      <td>True</td>\n",
       "      <td>False</td>\n",
       "    </tr>\n",
       "  </tbody>\n",
       "</table>\n",
       "</div>"
      ],
      "text/plain": [
       "ROI Num          1      3\n",
       "Slice Index              \n",
       "-0.5          True  False\n",
       "-0.4          True  False\n",
       "-0.3         False   True\n",
       "-0.2         False   True\n",
       "-0.1         False   True\n",
       " 0.0         False   True\n",
       " 0.1         False   True\n",
       " 0.2         False   True\n",
       " 0.3         False   True\n",
       " 0.4          True  False\n",
       " 0.5          True  False"
      ]
     },
     "execution_count": 99,
     "metadata": {},
     "output_type": "execute_result"
    }
   ],
   "source": [
    "poly_a, poly_b = selected_roi\n",
    "\n",
    "primary_b = structure_boundaries[poly_a]\n",
    "primary_b\n",
    "secondary_slices = slice_table.map(empty_structure)[selected_roi]\n",
    "secondary_slices[poly_b] = ~secondary_slices[poly_b]\n",
    "secondary_slices"
   ]
  },
  {
   "cell_type": "code",
   "execution_count": 100,
   "metadata": {},
   "outputs": [
    {
     "data": {
      "text/plain": [
       "Series([], Name: Slice Index, dtype: float64)"
      ]
     },
     "execution_count": 100,
     "metadata": {},
     "output_type": "execute_result"
    }
   ],
   "source": [
    "secondary_slices = secondary_slices.apply(all, axis='columns')\n",
    "\n",
    "pos_slices = secondary_slices.shift(1).fillna(0).astype(bool)\n",
    "idx_p = secondary_slices.index.to_series().shift(1)\n",
    "match = pd.concat([primary_b, pos_slices], axis='columns')\n",
    "match = match.fillna(0).astype(bool)\n",
    "match = match.apply(all, axis='columns')\n",
    "a = idx_p[match]\n",
    "a\n"
   ]
  },
  {
   "cell_type": "code",
   "execution_count": 101,
   "metadata": {},
   "outputs": [
    {
     "data": {
      "text/plain": [
       "Series([], Name: Slice Index, dtype: float64)"
      ]
     },
     "execution_count": 101,
     "metadata": {},
     "output_type": "execute_result"
    }
   ],
   "source": [
    "neg_slices = secondary_slices.shift(-1).fillna(0).astype(bool)\n",
    "idx_n = secondary_slices.index.to_series().shift(-1)\n",
    "match = pd.concat([primary_b, neg_slices], axis='columns')\n",
    "match = match.fillna(0).astype(bool)\n",
    "match = match.apply(all, axis='columns')\n",
    "b = idx_n[match]\n",
    "b\n"
   ]
  },
  {
   "cell_type": "code",
   "execution_count": 102,
   "metadata": {},
   "outputs": [
    {
     "data": {
      "text/plain": [
       "Series([], Name: Slice Index, dtype: float64)"
      ]
     },
     "execution_count": 102,
     "metadata": {},
     "output_type": "execute_result"
    }
   ],
   "source": [
    "s_slices = secondary_slices.shift(0).fillna(0).astype(bool)\n",
    "\n",
    "idx_s = secondary_slices.index.to_series().shift(0)\n",
    "match = pd.concat([primary_b, s_slices], axis='columns')\n",
    "match = match.fillna(0).astype(bool)\n",
    "match = match.apply(all, axis='columns')\n",
    "c = idx_s[match]\n",
    "c\n"
   ]
  },
  {
   "cell_type": "code",
   "execution_count": 103,
   "metadata": {},
   "outputs": [
    {
     "data": {
      "text/plain": [
       "Slice Index\n",
       "-0.5    False\n",
       "-0.4    False\n",
       "-0.3    False\n",
       "-0.2    False\n",
       "-0.1    False\n",
       " 0.0    False\n",
       " 0.1    False\n",
       " 0.2    False\n",
       " 0.3    False\n",
       " 0.4    False\n",
       " 0.5    False\n",
       "dtype: bool"
      ]
     },
     "execution_count": 103,
     "metadata": {},
     "output_type": "execute_result"
    }
   ],
   "source": [
    "s_slices"
   ]
  },
  {
   "cell_type": "code",
   "execution_count": 104,
   "metadata": {},
   "outputs": [
    {
     "data": {
      "text/plain": [
       "Series([], Name: Slice Index, dtype: float64)"
      ]
     },
     "execution_count": 104,
     "metadata": {},
     "output_type": "execute_result"
    }
   ],
   "source": [
    "\n",
    "pd.concat([a, b, c], axis='index')"
   ]
  },
  {
   "cell_type": "code",
   "execution_count": 105,
   "metadata": {},
   "outputs": [
    {
     "ename": "KeyError",
     "evalue": "3",
     "output_type": "error",
     "traceback": [
      "\u001b[1;31m---------------------------------------------------------------------------\u001b[0m",
      "\u001b[1;31mKeyError\u001b[0m                                  Traceback (most recent call last)",
      "File \u001b[1;32md:\\.conda\\envs\\StructureRelations\\Lib\\site-packages\\pandas\\core\\indexes\\base.py:3805\u001b[0m, in \u001b[0;36mIndex.get_loc\u001b[1;34m(self, key)\u001b[0m\n\u001b[0;32m   3804\u001b[0m \u001b[38;5;28;01mtry\u001b[39;00m:\n\u001b[1;32m-> 3805\u001b[0m     \u001b[38;5;28;01mreturn\u001b[39;00m \u001b[38;5;28mself\u001b[39m\u001b[38;5;241m.\u001b[39m_engine\u001b[38;5;241m.\u001b[39mget_loc(casted_key)\n\u001b[0;32m   3806\u001b[0m \u001b[38;5;28;01mexcept\u001b[39;00m \u001b[38;5;167;01mKeyError\u001b[39;00m \u001b[38;5;28;01mas\u001b[39;00m err:\n",
      "File \u001b[1;32mindex.pyx:167\u001b[0m, in \u001b[0;36mpandas._libs.index.IndexEngine.get_loc\u001b[1;34m()\u001b[0m\n",
      "File \u001b[1;32mindex.pyx:196\u001b[0m, in \u001b[0;36mpandas._libs.index.IndexEngine.get_loc\u001b[1;34m()\u001b[0m\n",
      "File \u001b[1;32mpandas\\\\_libs\\\\hashtable_class_helper.pxi:1698\u001b[0m, in \u001b[0;36mpandas._libs.hashtable.Float64HashTable.get_item\u001b[1;34m()\u001b[0m\n",
      "File \u001b[1;32mpandas\\\\_libs\\\\hashtable_class_helper.pxi:1722\u001b[0m, in \u001b[0;36mpandas._libs.hashtable.Float64HashTable.get_item\u001b[1;34m()\u001b[0m\n",
      "\u001b[1;31mKeyError\u001b[0m: 3.0",
      "\nThe above exception was the direct cause of the following exception:\n",
      "\u001b[1;31mKeyError\u001b[0m                                  Traceback (most recent call last)",
      "Cell \u001b[1;32mIn[105], line 3\u001b[0m\n\u001b[0;32m      1\u001b[0m poly_a, poly_b \u001b[38;5;241m=\u001b[39m selected_roi\n\u001b[0;32m      2\u001b[0m a \u001b[38;5;241m=\u001b[39m pd\u001b[38;5;241m.\u001b[39mconcat([\n\u001b[1;32m----> 3\u001b[0m     neighbour_match(slice_table, structure_boundaries, poly_a, poly_b, \u001b[38;5;241m-\u001b[39m\u001b[38;5;241m1\u001b[39m),\n\u001b[0;32m      4\u001b[0m     neighbour_match(slice_table, structure_boundaries, poly_a, poly_b, \u001b[38;5;241m1\u001b[39m)\n\u001b[0;32m      5\u001b[0m     ])\n\u001b[0;32m      6\u001b[0m a\n",
      "Cell \u001b[1;32mIn[5], line 12\u001b[0m, in \u001b[0;36mneighbour_match\u001b[1;34m(slice_table, structure_boundaries, primary, secondary, shift_dir, has_primary)\u001b[0m\n\u001b[0;32m     10\u001b[0m \u001b[38;5;66;03m# Identify slices without the primary structure, but with the secondary structure\u001b[39;00m\n\u001b[0;32m     11\u001b[0m secondary_slices \u001b[38;5;241m=\u001b[39m secondary_slices\u001b[38;5;241m.\u001b[39mapply(\u001b[38;5;28mall\u001b[39m, axis\u001b[38;5;241m=\u001b[39m\u001b[38;5;124m'\u001b[39m\u001b[38;5;124mcolumns\u001b[39m\u001b[38;5;124m'\u001b[39m)\n\u001b[1;32m---> 12\u001b[0m secondary_slices[secondary] \u001b[38;5;241m=\u001b[39m secondary_slices[secondary]\u001b[38;5;241m.\u001b[39mshift(shift_dir)\n\u001b[0;32m     13\u001b[0m secondary_slices \u001b[38;5;241m=\u001b[39m secondary_slices\u001b[38;5;241m.\u001b[39mfillna(\u001b[38;5;241m0\u001b[39m)\u001b[38;5;241m.\u001b[39mastype(\u001b[38;5;28mbool\u001b[39m)\n\u001b[0;32m     15\u001b[0m \u001b[38;5;66;03m# Shift the primary structure boundaries to a neighbouring slice\u001b[39;00m\n",
      "File \u001b[1;32md:\\.conda\\envs\\StructureRelations\\Lib\\site-packages\\pandas\\core\\series.py:1121\u001b[0m, in \u001b[0;36mSeries.__getitem__\u001b[1;34m(self, key)\u001b[0m\n\u001b[0;32m   1118\u001b[0m     \u001b[38;5;28;01mreturn\u001b[39;00m \u001b[38;5;28mself\u001b[39m\u001b[38;5;241m.\u001b[39m_values[key]\n\u001b[0;32m   1120\u001b[0m \u001b[38;5;28;01melif\u001b[39;00m key_is_scalar:\n\u001b[1;32m-> 1121\u001b[0m     \u001b[38;5;28;01mreturn\u001b[39;00m \u001b[38;5;28mself\u001b[39m\u001b[38;5;241m.\u001b[39m_get_value(key)\n\u001b[0;32m   1123\u001b[0m \u001b[38;5;66;03m# Convert generator to list before going through hashable part\u001b[39;00m\n\u001b[0;32m   1124\u001b[0m \u001b[38;5;66;03m# (We will iterate through the generator there to check for slices)\u001b[39;00m\n\u001b[0;32m   1125\u001b[0m \u001b[38;5;28;01mif\u001b[39;00m is_iterator(key):\n",
      "File \u001b[1;32md:\\.conda\\envs\\StructureRelations\\Lib\\site-packages\\pandas\\core\\series.py:1237\u001b[0m, in \u001b[0;36mSeries._get_value\u001b[1;34m(self, label, takeable)\u001b[0m\n\u001b[0;32m   1234\u001b[0m     \u001b[38;5;28;01mreturn\u001b[39;00m \u001b[38;5;28mself\u001b[39m\u001b[38;5;241m.\u001b[39m_values[label]\n\u001b[0;32m   1236\u001b[0m \u001b[38;5;66;03m# Similar to Index.get_value, but we do not fall back to positional\u001b[39;00m\n\u001b[1;32m-> 1237\u001b[0m loc \u001b[38;5;241m=\u001b[39m \u001b[38;5;28mself\u001b[39m\u001b[38;5;241m.\u001b[39mindex\u001b[38;5;241m.\u001b[39mget_loc(label)\n\u001b[0;32m   1239\u001b[0m \u001b[38;5;28;01mif\u001b[39;00m is_integer(loc):\n\u001b[0;32m   1240\u001b[0m     \u001b[38;5;28;01mreturn\u001b[39;00m \u001b[38;5;28mself\u001b[39m\u001b[38;5;241m.\u001b[39m_values[loc]\n",
      "File \u001b[1;32md:\\.conda\\envs\\StructureRelations\\Lib\\site-packages\\pandas\\core\\indexes\\base.py:3812\u001b[0m, in \u001b[0;36mIndex.get_loc\u001b[1;34m(self, key)\u001b[0m\n\u001b[0;32m   3807\u001b[0m     \u001b[38;5;28;01mif\u001b[39;00m \u001b[38;5;28misinstance\u001b[39m(casted_key, \u001b[38;5;28mslice\u001b[39m) \u001b[38;5;129;01mor\u001b[39;00m (\n\u001b[0;32m   3808\u001b[0m         \u001b[38;5;28misinstance\u001b[39m(casted_key, abc\u001b[38;5;241m.\u001b[39mIterable)\n\u001b[0;32m   3809\u001b[0m         \u001b[38;5;129;01mand\u001b[39;00m \u001b[38;5;28many\u001b[39m(\u001b[38;5;28misinstance\u001b[39m(x, \u001b[38;5;28mslice\u001b[39m) \u001b[38;5;28;01mfor\u001b[39;00m x \u001b[38;5;129;01min\u001b[39;00m casted_key)\n\u001b[0;32m   3810\u001b[0m     ):\n\u001b[0;32m   3811\u001b[0m         \u001b[38;5;28;01mraise\u001b[39;00m InvalidIndexError(key)\n\u001b[1;32m-> 3812\u001b[0m     \u001b[38;5;28;01mraise\u001b[39;00m \u001b[38;5;167;01mKeyError\u001b[39;00m(key) \u001b[38;5;28;01mfrom\u001b[39;00m \u001b[38;5;21;01merr\u001b[39;00m\n\u001b[0;32m   3813\u001b[0m \u001b[38;5;28;01mexcept\u001b[39;00m \u001b[38;5;167;01mTypeError\u001b[39;00m:\n\u001b[0;32m   3814\u001b[0m     \u001b[38;5;66;03m# If we have a listlike key, _check_indexing_error will raise\u001b[39;00m\n\u001b[0;32m   3815\u001b[0m     \u001b[38;5;66;03m#  InvalidIndexError. Otherwise we fall through and re-raise\u001b[39;00m\n\u001b[0;32m   3816\u001b[0m     \u001b[38;5;66;03m#  the TypeError.\u001b[39;00m\n\u001b[0;32m   3817\u001b[0m     \u001b[38;5;28mself\u001b[39m\u001b[38;5;241m.\u001b[39m_check_indexing_error(key)\n",
      "\u001b[1;31mKeyError\u001b[0m: 3"
     ]
    }
   ],
   "source": [
    "\n",
    "poly_a, poly_b = selected_roi\n",
    "a = pd.concat([\n",
    "    neighbour_match(slice_table, structure_boundaries, poly_a, poly_b, -1),\n",
    "    neighbour_match(slice_table, structure_boundaries, poly_a, poly_b, 1)\n",
    "    ])\n",
    "a"
   ]
  },
  {
   "cell_type": "code",
   "execution_count": 148,
   "metadata": {},
   "outputs": [
    {
     "data": {
      "text/plain": [
       "(Empty DataFrame\n",
       " Columns: [1, 4]\n",
       " Index: [],)"
      ]
     },
     "execution_count": 148,
     "metadata": {},
     "output_type": "execute_result"
    }
   ],
   "source": [
    "neighbour_match(slice_table, structure_boundaries, poly_a, poly_b, 0, has_primary=True),"
   ]
  },
  {
   "cell_type": "code",
   "execution_count": 152,
   "metadata": {},
   "outputs": [],
   "source": [
    "slice_table = partitions_cylinder()\n",
    "region_table = make_region_table(slice_table)\n",
    "selected_roi = [1, 3]"
   ]
  },
  {
   "cell_type": "code",
   "execution_count": 153,
   "metadata": {},
   "outputs": [],
   "source": [
    "poly_a, poly_b = selected_roi"
   ]
  },
  {
   "cell_type": "code",
   "execution_count": null,
   "metadata": {},
   "outputs": [
    {
     "ename": "KeyError",
     "evalue": "'[4] not in index'",
     "output_type": "error",
     "traceback": [
      "\u001b[1;31m---------------------------------------------------------------------------\u001b[0m",
      "\u001b[1;31mKeyError\u001b[0m                                  Traceback (most recent call last)",
      "Cell \u001b[1;32mIn[155], line 1\u001b[0m\n\u001b[1;32m----> 1\u001b[0m secondary_slices \u001b[38;5;241m=\u001b[39m slice_table\u001b[38;5;241m.\u001b[39mmap(empty_structure)[[poly_a, poly_b,\u001b[38;5;241m4\u001b[39m]]\n\u001b[0;32m      2\u001b[0m secondary_slices[poly_b] \u001b[38;5;241m=\u001b[39m \u001b[38;5;241m~\u001b[39msecondary_slices[poly_b]\n\u001b[0;32m      3\u001b[0m secondary_slices\n",
      "File \u001b[1;32md:\\.conda\\envs\\StructureRelations\\Lib\\site-packages\\pandas\\core\\frame.py:4108\u001b[0m, in \u001b[0;36mDataFrame.__getitem__\u001b[1;34m(self, key)\u001b[0m\n\u001b[0;32m   4106\u001b[0m     \u001b[38;5;28;01mif\u001b[39;00m is_iterator(key):\n\u001b[0;32m   4107\u001b[0m         key \u001b[38;5;241m=\u001b[39m \u001b[38;5;28mlist\u001b[39m(key)\n\u001b[1;32m-> 4108\u001b[0m     indexer \u001b[38;5;241m=\u001b[39m \u001b[38;5;28mself\u001b[39m\u001b[38;5;241m.\u001b[39mcolumns\u001b[38;5;241m.\u001b[39m_get_indexer_strict(key, \u001b[38;5;124m\"\u001b[39m\u001b[38;5;124mcolumns\u001b[39m\u001b[38;5;124m\"\u001b[39m)[\u001b[38;5;241m1\u001b[39m]\n\u001b[0;32m   4110\u001b[0m \u001b[38;5;66;03m# take() does not accept boolean indexers\u001b[39;00m\n\u001b[0;32m   4111\u001b[0m \u001b[38;5;28;01mif\u001b[39;00m \u001b[38;5;28mgetattr\u001b[39m(indexer, \u001b[38;5;124m\"\u001b[39m\u001b[38;5;124mdtype\u001b[39m\u001b[38;5;124m\"\u001b[39m, \u001b[38;5;28;01mNone\u001b[39;00m) \u001b[38;5;241m==\u001b[39m \u001b[38;5;28mbool\u001b[39m:\n",
      "File \u001b[1;32md:\\.conda\\envs\\StructureRelations\\Lib\\site-packages\\pandas\\core\\indexes\\base.py:6200\u001b[0m, in \u001b[0;36mIndex._get_indexer_strict\u001b[1;34m(self, key, axis_name)\u001b[0m\n\u001b[0;32m   6197\u001b[0m \u001b[38;5;28;01melse\u001b[39;00m:\n\u001b[0;32m   6198\u001b[0m     keyarr, indexer, new_indexer \u001b[38;5;241m=\u001b[39m \u001b[38;5;28mself\u001b[39m\u001b[38;5;241m.\u001b[39m_reindex_non_unique(keyarr)\n\u001b[1;32m-> 6200\u001b[0m \u001b[38;5;28mself\u001b[39m\u001b[38;5;241m.\u001b[39m_raise_if_missing(keyarr, indexer, axis_name)\n\u001b[0;32m   6202\u001b[0m keyarr \u001b[38;5;241m=\u001b[39m \u001b[38;5;28mself\u001b[39m\u001b[38;5;241m.\u001b[39mtake(indexer)\n\u001b[0;32m   6203\u001b[0m \u001b[38;5;28;01mif\u001b[39;00m \u001b[38;5;28misinstance\u001b[39m(key, Index):\n\u001b[0;32m   6204\u001b[0m     \u001b[38;5;66;03m# GH 42790 - Preserve name from an Index\u001b[39;00m\n",
      "File \u001b[1;32md:\\.conda\\envs\\StructureRelations\\Lib\\site-packages\\pandas\\core\\indexes\\base.py:6252\u001b[0m, in \u001b[0;36mIndex._raise_if_missing\u001b[1;34m(self, key, indexer, axis_name)\u001b[0m\n\u001b[0;32m   6249\u001b[0m     \u001b[38;5;28;01mraise\u001b[39;00m \u001b[38;5;167;01mKeyError\u001b[39;00m(\u001b[38;5;124mf\u001b[39m\u001b[38;5;124m\"\u001b[39m\u001b[38;5;124mNone of [\u001b[39m\u001b[38;5;132;01m{\u001b[39;00mkey\u001b[38;5;132;01m}\u001b[39;00m\u001b[38;5;124m] are in the [\u001b[39m\u001b[38;5;132;01m{\u001b[39;00maxis_name\u001b[38;5;132;01m}\u001b[39;00m\u001b[38;5;124m]\u001b[39m\u001b[38;5;124m\"\u001b[39m)\n\u001b[0;32m   6251\u001b[0m not_found \u001b[38;5;241m=\u001b[39m \u001b[38;5;28mlist\u001b[39m(ensure_index(key)[missing_mask\u001b[38;5;241m.\u001b[39mnonzero()[\u001b[38;5;241m0\u001b[39m]]\u001b[38;5;241m.\u001b[39munique())\n\u001b[1;32m-> 6252\u001b[0m \u001b[38;5;28;01mraise\u001b[39;00m \u001b[38;5;167;01mKeyError\u001b[39;00m(\u001b[38;5;124mf\u001b[39m\u001b[38;5;124m\"\u001b[39m\u001b[38;5;132;01m{\u001b[39;00mnot_found\u001b[38;5;132;01m}\u001b[39;00m\u001b[38;5;124m not in index\u001b[39m\u001b[38;5;124m\"\u001b[39m)\n",
      "\u001b[1;31mKeyError\u001b[0m: '[4] not in index'"
     ]
    }
   ],
   "source": [
    "secondary_slices = slice_table.map(empty_structure)[[poly_a, poly_b,4]]\n",
    "secondary_slices[poly_b] = ~secondary_slices[poly_b]\n",
    "secondary_slices"
   ]
  },
  {
   "cell_type": "code",
   "execution_count": 150,
   "metadata": {},
   "outputs": [
    {
     "data": {
      "text/html": [
       "<div>\n",
       "<style scoped>\n",
       "    .dataframe tbody tr th:only-of-type {\n",
       "        vertical-align: middle;\n",
       "    }\n",
       "\n",
       "    .dataframe tbody tr th {\n",
       "        vertical-align: top;\n",
       "    }\n",
       "\n",
       "    .dataframe thead th {\n",
       "        text-align: right;\n",
       "    }\n",
       "</style>\n",
       "<table border=\"1\" class=\"dataframe\">\n",
       "  <thead>\n",
       "    <tr style=\"text-align: right;\">\n",
       "      <th></th>\n",
       "      <th>1</th>\n",
       "      <th>3</th>\n",
       "    </tr>\n",
       "  </thead>\n",
       "  <tbody>\n",
       "    <tr>\n",
       "      <th>-0.3</th>\n",
       "      <td>-0.3</td>\n",
       "      <td>-0.2</td>\n",
       "    </tr>\n",
       "    <tr>\n",
       "      <th>0.3</th>\n",
       "      <td>0.3</td>\n",
       "      <td>0.2</td>\n",
       "    </tr>\n",
       "  </tbody>\n",
       "</table>\n",
       "</div>"
      ],
      "text/plain": [
       "        1    3\n",
       "-0.3 -0.3 -0.2\n",
       " 0.3  0.3  0.2"
      ]
     },
     "execution_count": 150,
     "metadata": {},
     "output_type": "execute_result"
    }
   ],
   "source": [
    "\n",
    "poly_a, poly_b = selected_roi\n",
    "a = pd.concat([\n",
    "    neighbour_match(slice_table, structure_boundaries, poly_a, poly_b, -1),\n",
    "    neighbour_match(slice_table, structure_boundaries, poly_a, poly_b, 1)\n",
    "    ])\n",
    "a"
   ]
  },
  {
   "cell_type": "code",
   "execution_count": null,
   "metadata": {},
   "outputs": [
    {
     "data": {
      "text/plain": [
       "(        1    3\n",
       " -0.3 -0.3 -0.3\n",
       "  0.3  0.3  0.3,)"
      ]
     },
     "execution_count": 151,
     "metadata": {},
     "output_type": "execute_result"
    }
   ],
   "source": [
    "neighbour_match(slice_table, structure_boundaries, poly_a, poly_b, 0, has_primary=True),"
   ]
  },
  {
   "cell_type": "code",
   "execution_count": null,
   "metadata": {},
   "outputs": [],
   "source": [
    "slice_table = overlapping_cylinder()\n",
    "region_table = make_region_table(slice_table)\n",
    "selected_roi = [1, 5]"
   ]
  },
  {
   "cell_type": "code",
   "execution_count": 74,
   "metadata": {},
   "outputs": [],
   "source": [
    "poly_a, poly_b = selected_roi\n",
    "a = pd.concat([\n",
    "    neighbour_match(slice_table, structure_boundaries, poly_a, poly_b, -1),\n",
    "    neighbour_match(slice_table, structure_boundaries, poly_a, poly_b, 1)\n",
    "    ])"
   ]
  },
  {
   "cell_type": "code",
   "execution_count": 75,
   "metadata": {},
   "outputs": [
    {
     "data": {
      "text/html": [
       "<div>\n",
       "<style scoped>\n",
       "    .dataframe tbody tr th:only-of-type {\n",
       "        vertical-align: middle;\n",
       "    }\n",
       "\n",
       "    .dataframe tbody tr th {\n",
       "        vertical-align: top;\n",
       "    }\n",
       "\n",
       "    .dataframe thead th {\n",
       "        text-align: right;\n",
       "    }\n",
       "</style>\n",
       "<table border=\"1\" class=\"dataframe\">\n",
       "  <thead>\n",
       "    <tr style=\"text-align: right;\">\n",
       "      <th></th>\n",
       "      <th>1</th>\n",
       "      <th>5</th>\n",
       "    </tr>\n",
       "  </thead>\n",
       "  <tbody>\n",
       "    <tr>\n",
       "      <th>0.4</th>\n",
       "      <td>0.3</td>\n",
       "      <td>0.4</td>\n",
       "    </tr>\n",
       "  </tbody>\n",
       "</table>\n",
       "</div>"
      ],
      "text/plain": [
       "       1    5\n",
       "0.4  0.3  0.4"
      ]
     },
     "execution_count": 75,
     "metadata": {},
     "output_type": "execute_result"
    }
   ],
   "source": [
    "a"
   ]
  },
  {
   "cell_type": "code",
   "execution_count": 76,
   "metadata": {},
   "outputs": [
    {
     "data": {
      "text/plain": [
       "(        1    5\n",
       " -0.3 -0.3 -0.3\n",
       "  0.3  0.3  0.3,)"
      ]
     },
     "execution_count": 76,
     "metadata": {},
     "output_type": "execute_result"
    }
   ],
   "source": [
    "neighbour_match(slice_table, structure_boundaries, poly_a, poly_b, 0, has_primary=True),"
   ]
  },
  {
   "cell_type": "code",
   "execution_count": 65,
   "metadata": {},
   "outputs": [
    {
     "data": {
      "text/plain": [
       "(True, True)"
      ]
     },
     "execution_count": 65,
     "metadata": {},
     "output_type": "execute_result"
    }
   ],
   "source": [
    "(structure_boundaries.loc[-0.3,1], structure_boundaries.loc[-0.4,4])\n"
   ]
  },
  {
   "cell_type": "code",
   "execution_count": 66,
   "metadata": {},
   "outputs": [
    {
     "data": {
      "text/plain": [
       "(True, True)"
      ]
     },
     "execution_count": 66,
     "metadata": {},
     "output_type": "execute_result"
    }
   ],
   "source": [
    "(structure_boundaries.loc[0.3,1], structure_boundaries.loc[0.4,4])\n"
   ]
  },
  {
   "cell_type": "code",
   "execution_count": null,
   "metadata": {},
   "outputs": [
    {
     "ename": "KeyError",
     "evalue": "4",
     "output_type": "error",
     "traceback": [
      "\u001b[1;31m---------------------------------------------------------------------------\u001b[0m",
      "\u001b[1;31mKeyError\u001b[0m                                  Traceback (most recent call last)",
      "File \u001b[1;32md:\\.conda\\envs\\StructureRelations\\Lib\\site-packages\\pandas\\core\\indexes\\base.py:3805\u001b[0m, in \u001b[0;36mIndex.get_loc\u001b[1;34m(self, key)\u001b[0m\n\u001b[0;32m   3804\u001b[0m \u001b[38;5;28;01mtry\u001b[39;00m:\n\u001b[1;32m-> 3805\u001b[0m     \u001b[38;5;28;01mreturn\u001b[39;00m \u001b[38;5;28mself\u001b[39m\u001b[38;5;241m.\u001b[39m_engine\u001b[38;5;241m.\u001b[39mget_loc(casted_key)\n\u001b[0;32m   3806\u001b[0m \u001b[38;5;28;01mexcept\u001b[39;00m \u001b[38;5;167;01mKeyError\u001b[39;00m \u001b[38;5;28;01mas\u001b[39;00m err:\n",
      "File \u001b[1;32mindex.pyx:167\u001b[0m, in \u001b[0;36mpandas._libs.index.IndexEngine.get_loc\u001b[1;34m()\u001b[0m\n",
      "File \u001b[1;32mindex.pyx:196\u001b[0m, in \u001b[0;36mpandas._libs.index.IndexEngine.get_loc\u001b[1;34m()\u001b[0m\n",
      "File \u001b[1;32mpandas\\\\_libs\\\\hashtable_class_helper.pxi:2606\u001b[0m, in \u001b[0;36mpandas._libs.hashtable.Int64HashTable.get_item\u001b[1;34m()\u001b[0m\n",
      "File \u001b[1;32mpandas\\\\_libs\\\\hashtable_class_helper.pxi:2630\u001b[0m, in \u001b[0;36mpandas._libs.hashtable.Int64HashTable.get_item\u001b[1;34m()\u001b[0m\n",
      "\u001b[1;31mKeyError\u001b[0m: 4",
      "\nThe above exception was the direct cause of the following exception:\n",
      "\u001b[1;31mKeyError\u001b[0m                                  Traceback (most recent call last)",
      "Cell \u001b[1;32mIn[67], line 1\u001b[0m\n\u001b[1;32m----> 1\u001b[0m DE27IM(slice_table\u001b[38;5;241m.\u001b[39mloc[\u001b[38;5;241m-\u001b[39m\u001b[38;5;241m0.3\u001b[39m,\u001b[38;5;241m1\u001b[39m],slice_table\u001b[38;5;241m.\u001b[39mloc[\u001b[38;5;241m-\u001b[39m\u001b[38;5;241m0.4\u001b[39m,\u001b[38;5;241m4\u001b[39m])\n",
      "File \u001b[1;32md:\\.conda\\envs\\StructureRelations\\Lib\\site-packages\\pandas\\core\\indexing.py:1183\u001b[0m, in \u001b[0;36m_LocationIndexer.__getitem__\u001b[1;34m(self, key)\u001b[0m\n\u001b[0;32m   1181\u001b[0m     key \u001b[38;5;241m=\u001b[39m \u001b[38;5;28mtuple\u001b[39m(com\u001b[38;5;241m.\u001b[39mapply_if_callable(x, \u001b[38;5;28mself\u001b[39m\u001b[38;5;241m.\u001b[39mobj) \u001b[38;5;28;01mfor\u001b[39;00m x \u001b[38;5;129;01min\u001b[39;00m key)\n\u001b[0;32m   1182\u001b[0m     \u001b[38;5;28;01mif\u001b[39;00m \u001b[38;5;28mself\u001b[39m\u001b[38;5;241m.\u001b[39m_is_scalar_access(key):\n\u001b[1;32m-> 1183\u001b[0m         \u001b[38;5;28;01mreturn\u001b[39;00m \u001b[38;5;28mself\u001b[39m\u001b[38;5;241m.\u001b[39mobj\u001b[38;5;241m.\u001b[39m_get_value(\u001b[38;5;241m*\u001b[39mkey, takeable\u001b[38;5;241m=\u001b[39m\u001b[38;5;28mself\u001b[39m\u001b[38;5;241m.\u001b[39m_takeable)\n\u001b[0;32m   1184\u001b[0m     \u001b[38;5;28;01mreturn\u001b[39;00m \u001b[38;5;28mself\u001b[39m\u001b[38;5;241m.\u001b[39m_getitem_tuple(key)\n\u001b[0;32m   1185\u001b[0m \u001b[38;5;28;01melse\u001b[39;00m:\n\u001b[0;32m   1186\u001b[0m     \u001b[38;5;66;03m# we by definition only have the 0th axis\u001b[39;00m\n",
      "File \u001b[1;32md:\\.conda\\envs\\StructureRelations\\Lib\\site-packages\\pandas\\core\\frame.py:4214\u001b[0m, in \u001b[0;36mDataFrame._get_value\u001b[1;34m(self, index, col, takeable)\u001b[0m\n\u001b[0;32m   4211\u001b[0m     series \u001b[38;5;241m=\u001b[39m \u001b[38;5;28mself\u001b[39m\u001b[38;5;241m.\u001b[39m_ixs(col, axis\u001b[38;5;241m=\u001b[39m\u001b[38;5;241m1\u001b[39m)\n\u001b[0;32m   4212\u001b[0m     \u001b[38;5;28;01mreturn\u001b[39;00m series\u001b[38;5;241m.\u001b[39m_values[index]\n\u001b[1;32m-> 4214\u001b[0m series \u001b[38;5;241m=\u001b[39m \u001b[38;5;28mself\u001b[39m\u001b[38;5;241m.\u001b[39m_get_item_cache(col)\n\u001b[0;32m   4215\u001b[0m engine \u001b[38;5;241m=\u001b[39m \u001b[38;5;28mself\u001b[39m\u001b[38;5;241m.\u001b[39mindex\u001b[38;5;241m.\u001b[39m_engine\n\u001b[0;32m   4217\u001b[0m \u001b[38;5;28;01mif\u001b[39;00m \u001b[38;5;129;01mnot\u001b[39;00m \u001b[38;5;28misinstance\u001b[39m(\u001b[38;5;28mself\u001b[39m\u001b[38;5;241m.\u001b[39mindex, MultiIndex):\n\u001b[0;32m   4218\u001b[0m     \u001b[38;5;66;03m# CategoricalIndex: Trying to use the engine fastpath may give incorrect\u001b[39;00m\n\u001b[0;32m   4219\u001b[0m     \u001b[38;5;66;03m#  results if our categories are integers that dont match our codes\u001b[39;00m\n\u001b[0;32m   4220\u001b[0m     \u001b[38;5;66;03m# IntervalIndex: IntervalTree has no get_loc\u001b[39;00m\n",
      "File \u001b[1;32md:\\.conda\\envs\\StructureRelations\\Lib\\site-packages\\pandas\\core\\frame.py:4638\u001b[0m, in \u001b[0;36mDataFrame._get_item_cache\u001b[1;34m(self, item)\u001b[0m\n\u001b[0;32m   4633\u001b[0m res \u001b[38;5;241m=\u001b[39m cache\u001b[38;5;241m.\u001b[39mget(item)\n\u001b[0;32m   4634\u001b[0m \u001b[38;5;28;01mif\u001b[39;00m res \u001b[38;5;129;01mis\u001b[39;00m \u001b[38;5;28;01mNone\u001b[39;00m:\n\u001b[0;32m   4635\u001b[0m     \u001b[38;5;66;03m# All places that call _get_item_cache have unique columns,\u001b[39;00m\n\u001b[0;32m   4636\u001b[0m     \u001b[38;5;66;03m#  pending resolution of GH#33047\u001b[39;00m\n\u001b[1;32m-> 4638\u001b[0m     loc \u001b[38;5;241m=\u001b[39m \u001b[38;5;28mself\u001b[39m\u001b[38;5;241m.\u001b[39mcolumns\u001b[38;5;241m.\u001b[39mget_loc(item)\n\u001b[0;32m   4639\u001b[0m     res \u001b[38;5;241m=\u001b[39m \u001b[38;5;28mself\u001b[39m\u001b[38;5;241m.\u001b[39m_ixs(loc, axis\u001b[38;5;241m=\u001b[39m\u001b[38;5;241m1\u001b[39m)\n\u001b[0;32m   4641\u001b[0m     cache[item] \u001b[38;5;241m=\u001b[39m res\n",
      "File \u001b[1;32md:\\.conda\\envs\\StructureRelations\\Lib\\site-packages\\pandas\\core\\indexes\\base.py:3812\u001b[0m, in \u001b[0;36mIndex.get_loc\u001b[1;34m(self, key)\u001b[0m\n\u001b[0;32m   3807\u001b[0m     \u001b[38;5;28;01mif\u001b[39;00m \u001b[38;5;28misinstance\u001b[39m(casted_key, \u001b[38;5;28mslice\u001b[39m) \u001b[38;5;129;01mor\u001b[39;00m (\n\u001b[0;32m   3808\u001b[0m         \u001b[38;5;28misinstance\u001b[39m(casted_key, abc\u001b[38;5;241m.\u001b[39mIterable)\n\u001b[0;32m   3809\u001b[0m         \u001b[38;5;129;01mand\u001b[39;00m \u001b[38;5;28many\u001b[39m(\u001b[38;5;28misinstance\u001b[39m(x, \u001b[38;5;28mslice\u001b[39m) \u001b[38;5;28;01mfor\u001b[39;00m x \u001b[38;5;129;01min\u001b[39;00m casted_key)\n\u001b[0;32m   3810\u001b[0m     ):\n\u001b[0;32m   3811\u001b[0m         \u001b[38;5;28;01mraise\u001b[39;00m InvalidIndexError(key)\n\u001b[1;32m-> 3812\u001b[0m     \u001b[38;5;28;01mraise\u001b[39;00m \u001b[38;5;167;01mKeyError\u001b[39;00m(key) \u001b[38;5;28;01mfrom\u001b[39;00m \u001b[38;5;21;01merr\u001b[39;00m\n\u001b[0;32m   3813\u001b[0m \u001b[38;5;28;01mexcept\u001b[39;00m \u001b[38;5;167;01mTypeError\u001b[39;00m:\n\u001b[0;32m   3814\u001b[0m     \u001b[38;5;66;03m# If we have a listlike key, _check_indexing_error will raise\u001b[39;00m\n\u001b[0;32m   3815\u001b[0m     \u001b[38;5;66;03m#  InvalidIndexError. Otherwise we fall through and re-raise\u001b[39;00m\n\u001b[0;32m   3816\u001b[0m     \u001b[38;5;66;03m#  the TypeError.\u001b[39;00m\n\u001b[0;32m   3817\u001b[0m     \u001b[38;5;28mself\u001b[39m\u001b[38;5;241m.\u001b[39m_check_indexing_error(key)\n",
      "\u001b[1;31mKeyError\u001b[0m: 4"
     ]
    }
   ],
   "source": [
    "DE27IM(slice_table.loc[-0.3,1],slice_table.loc[-0.4,4])"
   ]
  },
  {
   "cell_type": "code",
   "execution_count": 19,
   "metadata": {},
   "outputs": [
    {
     "data": {
      "text/html": [
       "<div>\n",
       "<style scoped>\n",
       "    .dataframe tbody tr th:only-of-type {\n",
       "        vertical-align: middle;\n",
       "    }\n",
       "\n",
       "    .dataframe tbody tr th {\n",
       "        vertical-align: top;\n",
       "    }\n",
       "\n",
       "    .dataframe thead th {\n",
       "        text-align: right;\n",
       "    }\n",
       "</style>\n",
       "<table border=\"1\" class=\"dataframe\">\n",
       "  <thead>\n",
       "    <tr style=\"text-align: right;\">\n",
       "      <th></th>\n",
       "      <th>PrimarySlice</th>\n",
       "      <th>SecondarySlice</th>\n",
       "    </tr>\n",
       "  </thead>\n",
       "  <tbody>\n",
       "  </tbody>\n",
       "</table>\n",
       "</div>"
      ],
      "text/plain": [
       "Empty DataFrame\n",
       "Columns: [PrimarySlice, SecondarySlice]\n",
       "Index: []"
      ]
     },
     "execution_count": 19,
     "metadata": {},
     "output_type": "execute_result"
    }
   ],
   "source": [
    "a = structure_boundaries[1].shift(1)\n",
    "#a.name = 'Boundary'\n",
    "b = slice_table.map(empty_structure)[selected_roi]\n",
    "#b.columns = ['EmptyPrimary', 'EmptySecondary']\n",
    "c = pd.concat([a, b], axis='columns')\n",
    "c = c.fillna(0).astype(bool)\n",
    "c = c.apply(all, axis='columns')\n",
    "\n",
    "idx = a.index.to_series().shift(1)\n",
    "idx.name = 'PrimarySlice'\n",
    "idx2 = c.index.to_series()\n",
    "idx2.name = 'SecondarySlice'\n",
    "pd.concat([idx, idx2], axis='columns')[c]"
   ]
  },
  {
   "cell_type": "code",
   "execution_count": 20,
   "metadata": {},
   "outputs": [
    {
     "data": {
      "text/html": [
       "<div>\n",
       "<style scoped>\n",
       "    .dataframe tbody tr th:only-of-type {\n",
       "        vertical-align: middle;\n",
       "    }\n",
       "\n",
       "    .dataframe tbody tr th {\n",
       "        vertical-align: top;\n",
       "    }\n",
       "\n",
       "    .dataframe thead th {\n",
       "        text-align: right;\n",
       "    }\n",
       "</style>\n",
       "<table border=\"1\" class=\"dataframe\">\n",
       "  <thead>\n",
       "    <tr style=\"text-align: right;\">\n",
       "      <th>ROI</th>\n",
       "      <th>1</th>\n",
       "      <th>4</th>\n",
       "    </tr>\n",
       "    <tr>\n",
       "      <th>Slice</th>\n",
       "      <th></th>\n",
       "      <th></th>\n",
       "    </tr>\n",
       "  </thead>\n",
       "  <tbody>\n",
       "    <tr>\n",
       "      <th>-0.5</th>\n",
       "      <td>False</td>\n",
       "      <td>True</td>\n",
       "    </tr>\n",
       "    <tr>\n",
       "      <th>-0.4</th>\n",
       "      <td>False</td>\n",
       "      <td>True</td>\n",
       "    </tr>\n",
       "    <tr>\n",
       "      <th>-0.3</th>\n",
       "      <td>True</td>\n",
       "      <td>False</td>\n",
       "    </tr>\n",
       "    <tr>\n",
       "      <th>-0.2</th>\n",
       "      <td>False</td>\n",
       "      <td>False</td>\n",
       "    </tr>\n",
       "    <tr>\n",
       "      <th>-0.1</th>\n",
       "      <td>False</td>\n",
       "      <td>False</td>\n",
       "    </tr>\n",
       "    <tr>\n",
       "      <th>0.0</th>\n",
       "      <td>False</td>\n",
       "      <td>False</td>\n",
       "    </tr>\n",
       "    <tr>\n",
       "      <th>0.1</th>\n",
       "      <td>False</td>\n",
       "      <td>False</td>\n",
       "    </tr>\n",
       "    <tr>\n",
       "      <th>0.2</th>\n",
       "      <td>False</td>\n",
       "      <td>False</td>\n",
       "    </tr>\n",
       "    <tr>\n",
       "      <th>0.3</th>\n",
       "      <td>True</td>\n",
       "      <td>False</td>\n",
       "    </tr>\n",
       "    <tr>\n",
       "      <th>0.4</th>\n",
       "      <td>False</td>\n",
       "      <td>True</td>\n",
       "    </tr>\n",
       "    <tr>\n",
       "      <th>0.5</th>\n",
       "      <td>False</td>\n",
       "      <td>True</td>\n",
       "    </tr>\n",
       "  </tbody>\n",
       "</table>\n",
       "</div>"
      ],
      "text/plain": [
       "ROI        1      4\n",
       "Slice              \n",
       "-0.5   False   True\n",
       "-0.4   False   True\n",
       "-0.3    True  False\n",
       "-0.2   False  False\n",
       "-0.1   False  False\n",
       " 0.0   False  False\n",
       " 0.1   False  False\n",
       " 0.2   False  False\n",
       " 0.3    True  False\n",
       " 0.4   False   True\n",
       " 0.5   False   True"
      ]
     },
     "execution_count": 20,
     "metadata": {},
     "output_type": "execute_result"
    }
   ],
   "source": [
    "structure_boundaries"
   ]
  },
  {
   "cell_type": "markdown",
   "metadata": {},
   "source": [
    "#### Confines Cylinders\n",
    "- Identify the boundary slices of the Primary and the neighbouring slice(s) that do not have a primary.\n",
    "- For each of these neighbouring slices, if the slice does not have a Secondary contour, but there is a Secondary contour on the same slice as the Primary boundary, select that Secondary slice.\n",
    "\n",
    "  \n",
    "![Confines cylinder](FreeCAD_Scripts/confines_cylinder.png)"
   ]
  },
  {
   "cell_type": "markdown",
   "metadata": {},
   "source": [
    "\n",
    "\n",
    "5. Match hole boundary slices for boundary tests:\n",
    "   - For each hole boundary slice of the Primary ROI, if the slice has a Secondary contour, select that contour for comparison.\n",
    "   - If the slice does not have a Secondary contour, identify the neighbouring slice that also has a hole.\n",
    "   - If the neighbouring slice has a Secondary contour, select that contour.\n",
    "   - If the neighbouring slice does not have a Secondary contour, boundary testing is not required.\n",
    "\n",
    "\n",
    "  "
   ]
  },
  {
   "cell_type": "code",
   "execution_count": 22,
   "metadata": {},
   "outputs": [],
   "source": [
    "def confines_cylinder():\n",
    "    slice_spacing = 0.1\n",
    "    # Body structure defines slices in use\n",
    "    body = make_vertical_cylinder(roi_num=0, radius=12, length=1.1, offset_z=-0.5,\n",
    "                                  spacing=slice_spacing)\n",
    "    # Centred cylinder with two embedded cylinders\n",
    "    primary_cylinder = make_vertical_cylinder(roi_num=1, radius=5, length=0.7,\n",
    "                                              offset_z=-0.3,\n",
    "                                              spacing=slice_spacing)\n",
    "    left_hole = make_vertical_cylinder(roi_num=1, radius=2, length=0.5,\n",
    "                                       offset_x=-2.5, offset_z=-0.2,\n",
    "                                       spacing=slice_spacing)\n",
    "    right_hole = make_vertical_cylinder(roi_num=1, radius=2, length=0.5,\n",
    "                                       offset_x=2.5, offset_z=-0.2,\n",
    "                                       spacing=slice_spacing)\n",
    "    # cylinder with interior borders\n",
    "    confines_cylinder = make_vertical_cylinder(roi_num=2, radius=1, length=0.5,\n",
    "                                             offset_x=2.5, offset_z=-0.2,\n",
    "                                             spacing=slice_spacing)\n",
    "\n",
    "    # combine the contours\n",
    "    slice_data = pd.concat([body, primary_cylinder, left_hole, right_hole,\n",
    "                            confines_cylinder])\n",
    "    # convert contour slice data into a table of slices and structures\n",
    "    slice_table = make_slice_table(slice_data, ignore_errors=True)\n",
    "    return slice_table\n"
   ]
  },
  {
   "cell_type": "markdown",
   "metadata": {},
   "source": [
    "- For Holes need to use a variation on StructureSlice that has the hole as the contour, but uses the exterior and Hull from the parent structure.\n",
    "- For Holes the `adjust_boundary_relation` function shifts the interior relation and flips the exterior."
   ]
  },
  {
   "cell_type": "code",
   "execution_count": 23,
   "metadata": {},
   "outputs": [],
   "source": [
    "def find_holes(region_table, holes, selected_roi)->List[ROI_Type]:\n",
    "    use_roi = set()\n",
    "    for idx in region_table.columns[holes]:\n",
    "        if idx[0] in selected_roi:\n",
    "            use_roi.add(idx[0])\n",
    "    return list(use_roi)"
   ]
  },
  {
   "cell_type": "code",
   "execution_count": 24,
   "metadata": {},
   "outputs": [],
   "source": [
    "use_roi = find_holes(region_table, holes, selected_roi)\n",
    "hole_regions = region_table.loc[:,holes][use_roi]\n",
    "hole_boundaries = find_boundary_slices(hole_regions)"
   ]
  },
  {
   "cell_type": "markdown",
   "metadata": {},
   "source": [
    "**Need to analyze each hole independently**"
   ]
  },
  {
   "cell_type": "code",
   "execution_count": 25,
   "metadata": {},
   "outputs": [
    {
     "data": {
      "text/html": [
       "<div>\n",
       "<style scoped>\n",
       "    .dataframe tbody tr th:only-of-type {\n",
       "        vertical-align: middle;\n",
       "    }\n",
       "\n",
       "    .dataframe tbody tr th {\n",
       "        vertical-align: top;\n",
       "    }\n",
       "\n",
       "    .dataframe thead th {\n",
       "        text-align: right;\n",
       "    }\n",
       "</style>\n",
       "<table border=\"1\" class=\"dataframe\">\n",
       "  <thead>\n",
       "    <tr style=\"text-align: right;\">\n",
       "      <th>ROI</th>\n",
       "    </tr>\n",
       "    <tr>\n",
       "      <th>Slice</th>\n",
       "    </tr>\n",
       "  </thead>\n",
       "  <tbody>\n",
       "  </tbody>\n",
       "</table>\n",
       "</div>"
      ],
      "text/plain": [
       "Empty DataFrame\n",
       "Columns: []\n",
       "Index: []"
      ]
     },
     "execution_count": 25,
     "metadata": {},
     "output_type": "execute_result"
    }
   ],
   "source": [
    "hole_boundaries"
   ]
  },
  {
   "cell_type": "raw",
   "metadata": {
    "vscode": {
     "languageId": "raw"
    }
   },
   "source": [
    "    # For each boundary slice of the Primary ROI identify the neighbouring\n",
    "    # slice(s) that do not have a primary.\n",
    "\n",
    "    def get_neighbour_slices(boundary_index, slice_index,\n",
    "                             shift_dir)->pd.DataFrame:\n",
    "        # Find the boundary neighbours\n",
    "        # Get the index of the previous slice\n",
    "        neighbour_slice = slice_index.shift(shift_dir)\n",
    "        # Select only the slices that are boundary slices of the primary ROI\n",
    "        neighbour_boundary_slices = neighbour_slice[boundary_index]\n",
    "        # Drop the neighbour slices that contain a primary contour\n",
    "        neighbour_boundary_slices.dropna(inplace=True)\n",
    "        # Reset the index to get the boundary slice number\n",
    "        neighbour_boundary_slices = neighbour_boundary_slices.reset_index()\n",
    "        neighbour_boundary_slices.columns = ['Boundary', 'Neighbour']\n",
    "        return neighbour_boundary_slices"
   ]
  },
  {
   "cell_type": "raw",
   "metadata": {
    "vscode": {
     "languageId": "raw"
    }
   },
   "source": [
    "print(find_relationship(concentric_cylinders_same_start(), [1, 2]))\n"
   ]
  },
  {
   "cell_type": "raw",
   "metadata": {
    "vscode": {
     "languageId": "raw"
    }
   },
   "source": [
    "def find_relationship(slice_table: pd.DataFrame,\n",
    "                      selected_roi: StructurePairType) -> RelationshipType:\n",
    "\n",
    "    _, secondary = selected_roi\n",
    "\n",
    "     # Test the relation between the boundary Primary and the selected Secondary.\n",
    "    matched_slices = boundary_match(slice_table, selected_roi)\n",
    "    bdry_rel = matched_slices.agg(relate_structures, structures=selected_roi,\n",
    "                                  axis='columns')\n",
    "    bdry_rel.name = 'DE27IM'\n",
    "    # Apply a Primary boundary shift to the relation results.\n",
    "    bdry_rel = bdry_rel.apply(adjust_boundary_relation, shift_type='a')\n",
    "    # If the selected Secondary is also a Secondary boundary, apply a Secondary\n",
    "    #   boundary shift as well.\n",
    "    secondary_boundaries = find_boundary_slices(slice_table[secondary])\n",
    "    bdry_b = [idx for idx in secondary_boundaries\n",
    "                                if idx in bdry_rel.index]\n",
    "    bdry_rel.loc[bdry_b] = bdry_rel[bdry_b].apply(adjust_boundary_relation,\n",
    "                                                  shift_type='b')\n",
    "    # Merge all results and reduce to single relation\n",
    "    mid_relations = pd.concat([mid_relations, bdry_rel], axis='index',\n",
    "                              ignore_index=True)\n",
    "    relation_binary = merge_rel(mid_relations)\n",
    "    return identify_relation(relation_binary)"
   ]
  },
  {
   "cell_type": "raw",
   "metadata": {
    "vscode": {
     "languageId": "raw"
    }
   },
   "source": [
    "def match_neighbour_slices(slice_table, selected_roi):\n",
    "    # For each boundary slice of the Primary ROI identify the neighbouring\n",
    "    # slice(s) that do not have a primary.\n",
    "\n",
    "    def get_neighbour_slices(boundary_index, slice_index,\n",
    "                             shift_dir)->pd.DataFrame:\n",
    "        # Find the boundary neighbours\n",
    "        # Get the index of the previous slice\n",
    "        neighbour_slice = slice_index.shift(shift_dir)\n",
    "        # Select only the slices that are boundary slices of the primary ROI\n",
    "        neighbour_boundary_slices = neighbour_slice[boundary_index]\n",
    "        # Drop the neighbour slices that contain a primary contour\n",
    "        neighbour_boundary_slices.dropna(inplace=True)\n",
    "        # Reset the index to get the boundary slice number\n",
    "        neighbour_boundary_slices = neighbour_boundary_slices.reset_index()\n",
    "        neighbour_boundary_slices.columns = ['Boundary', 'Neighbour']\n",
    "        return neighbour_boundary_slices\n",
    "\n",
    "    def no_structure_idx(slice_table, roi_num):\n",
    "        # Create a series containing the slice index for slices that\n",
    "        # do NOT have a primary contour\n",
    "        no_contour_idx = slice_table.index.to_series(name='ROI_Index')\n",
    "        # Select all slices that do not contain a contour for the Primary ROI\n",
    "        missing_contour = slice_table[roi_num].apply(empty_structure)\n",
    "        # Remove the slice indexes that have a primary contour\n",
    "        no_contour_idx[~missing_contour] = np.nan\n",
    "        return no_contour_idx\n",
    "\n",
    "    roi_a, _ = selected_roi\n",
    "    primary_boundaries = find_boundary_slices(slice_table[roi_a])\n",
    "    # Get the slice index for slices that do NOT have a primary contour\n",
    "    no_primary_slice_index = no_structure_idx(slice_table, roi_a)\n",
    "    # Identify the previous and next slice for each boundary slice that do\n",
    "    # not have a primary contour\n",
    "    previous_slice = get_neighbour_slices(primary_boundaries,\n",
    "                                          no_primary_slice_index, shift_dir=-1)\n",
    "    next_slice = get_neighbour_slices(primary_boundaries,\n",
    "                                      no_primary_slice_index, shift_dir=1)\n",
    "    # Combine the previous and next slices\n",
    "    neighbouring_slices = pd.concat([previous_slice, next_slice],\n",
    "                                    ignore_index=True)\n",
    "    return neighbouring_slices\n",
    "\n",
    "\n",
    "def boundary_match(slice_table, selected_roi):\n",
    "    #For each boundary slice of the Primary ROI identify the neighbouring\n",
    "    # slice(s) that do not have a primary.\n",
    "    #For each of these neighbouring slices select a Secondary slice\n",
    "    # for boundary tests\n",
    "    roi_a, roi_b = selected_roi\n",
    "    # For each boundary slice of the Primary ROI identify the neighbouring\n",
    "    # slice(s) that do not have a primary.\n",
    "    matched_slices = match_neighbour_slices(slice_table, selected_roi)\n",
    "    # If the slice has a Secondary contour, select that Secondary slice.\n",
    "    matched_slices = matched_slices.merge(slice_table[roi_b],\n",
    "                                          left_on='Neighbour',\n",
    "                                          right_index=True, how='left')\n",
    "    # If the slice does not have a Secondary contour, but there is a Secondary\n",
    "    # contour on the same slice as the Primary boundary, select that\n",
    "    # Secondary slice.\n",
    "    same_slices = slice_table.loc[matched_slices.Boundary, roi_b]\n",
    "    same_slices.index = matched_slices.index\n",
    "    no_nbr = matched_slices[roi_b].isnull()\n",
    "    matched_slices.loc[no_nbr, roi_b] = same_slices[no_nbr]\n",
    "    # If neither the neighbouring slice nor the same slice as the Primary\n",
    "    # boundary have a Secondary contour, do not select a Secondary slice.\n",
    "    matched_slices.dropna(subset=[roi_b], inplace=True)\n",
    "    # Select the Primary slice for each pair of Primary and Secondary slices\n",
    "    matched_slices = matched_slices.merge(slice_table[roi_a],\n",
    "                                          left_on='Boundary',\n",
    "                                          right_index=True, how='left')\n",
    "    # Generate a slice index for the Secondary ROI\n",
    "    matched_slices['IdxB'] = matched_slices.Neighbour.copy()\n",
    "    matched_slices.loc[no_nbr, 'IdxB'] = matched_slices.Boundary[no_nbr]\n",
    "    matched_slices.set_index('IdxB', inplace=True)\n",
    "    matched_slices.drop(columns=['Boundary', 'Neighbour'], inplace=True)\n",
    "    return matched_slices"
   ]
  },
  {
   "cell_type": "markdown",
   "metadata": {},
   "source": [
    "#### Concentric cylinders ending on the same slice.\n",
    "\n",
    "<img src=\"Images\\Boundaries\\PartitionInf3D.png\" alt=\"PartitionInf3D\" style=\"height:50px;\">\n",
    "<img src=\"Images\\Boundaries\\PartitionInf2D.png\" alt=\"PartitionInf2D\" style=\"height:30px;\">"
   ]
  },
  {
   "cell_type": "code",
   "execution_count": 26,
   "metadata": {},
   "outputs": [],
   "source": [
    "def concentric_cylinders_same_end():\n",
    "    slice_spacing = 0.1\n",
    "    # Body structure defines slices in use\n",
    "    body = make_vertical_cylinder(roi_num=0, radius=10, length=1, offset_z=-0.5,\n",
    "                                  spacing=slice_spacing)\n",
    "    # Concentric cylinders ending on the same slice\n",
    "    primary_cylinder = make_vertical_cylinder(roi_num=1, radius=2, length=0.7,\n",
    "                                              offset_z=-0.3,\n",
    "                                              spacing=slice_spacing)\n",
    "    inf_partition = make_vertical_cylinder(roi_num=3, radius=1, length=0.4,\n",
    "                                           offset_z=0, spacing=slice_spacing)\n",
    "    # combine the contours\n",
    "    slice_data = pd.concat([body, primary_cylinder, inf_partition])\n",
    "    # convert contour slice data into a table of slices and structures\n",
    "    slice_table = make_slice_table(slice_data, ignore_errors=True)\n",
    "    return slice_table\n",
    "\n",
    "\n",
    "#print(find_relationship(concentric_cylinders_same_end(), [1, 3]))\n"
   ]
  },
  {
   "cell_type": "markdown",
   "metadata": {},
   "source": [
    "- Concentric cylinders starting and ending on the same slice.\n",
    "\n",
    "<img src=\"Images\\Boundaries\\Partition3D.png\" alt=\"PartitionInf3D\" style=\"height:50px;\">\n",
    "<img src=\"Images\\Boundaries\\Partition2D.png\" alt=\"PartitionInf2D\" style=\"height:30px;\">"
   ]
  },
  {
   "cell_type": "code",
   "execution_count": 27,
   "metadata": {},
   "outputs": [],
   "source": [
    "def concentric_cylinders_same_height():\n",
    "    slice_spacing = 0.1\n",
    "    # Body structure defines slices in use\n",
    "    body = make_vertical_cylinder(roi_num=0, radius=10, length=1, offset_z=-0.5,\n",
    "                                  spacing=slice_spacing)\n",
    "    # Concentric cylinders starting and ending on the same slice\n",
    "    primary_cylinder = make_vertical_cylinder(roi_num=1, radius=2, length=0.7,\n",
    "                                              offset_z=-0.3,\n",
    "                                              spacing=slice_spacing)\n",
    "    mid_partition = make_vertical_cylinder(roi_num=4, radius=1, length=0.7,\n",
    "                                           offset_z=-0.3,\n",
    "                                           spacing=slice_spacing)\n",
    "    # combine the contours\n",
    "    slice_data = pd.concat([body, primary_cylinder, mid_partition])\n",
    "    # convert contour slice data into a table of slices and structures\n",
    "    slice_table = make_slice_table(slice_data, ignore_errors=True)\n",
    "    return slice_table\n",
    "\n",
    "\n",
    "#print(find_relationship(concentric_cylinders_same_height(), [1, 4]))\n"
   ]
  },
  {
   "cell_type": "markdown",
   "metadata": {},
   "source": [
    "### Exterior Borders\n",
    "  - Primary: Central Cylinder\n",
    "    - Secondary: one of:\n",
    "      - SUP Cylinder\n",
    "      - INF Cylinder\n",
    "      - Combined SUP & INF cylinders in one structure with single slice gap at the SUP/INF boundary of the central cylinder.\n",
    "\n",
    "      \n",
    "![Exterior Border SUP](Images/Boundaries/ExteriorBorders2D_SUP.png)\n",
    "![Exterior Border INF](Images/Boundaries/ExteriorBorders2D_INF.png)"
   ]
  },
  {
   "cell_type": "code",
   "execution_count": 28,
   "metadata": {},
   "outputs": [],
   "source": [
    "def stacked_cylinders():\n",
    "    slice_spacing = 0.1\n",
    "    # Body structure defines slices in use\n",
    "    body = make_vertical_cylinder(roi_num=0, radius=10, length=1, offset_z=-0.5,\n",
    "                                  spacing=slice_spacing)\n",
    "    # Two concentric cylinders different z offsets\n",
    "    outside_cylinder = make_vertical_cylinder(roi_num=5, radius=2, length=0.4,\n",
    "                                              offset_z=-0.4,\n",
    "                                              spacing=slice_spacing)\n",
    "    inside_cylinder = make_vertical_cylinder(roi_num=6, radius=1, length=0.4,\n",
    "                                             offset_z=0, spacing=slice_spacing)\n",
    "    # combine the contours\n",
    "    slice_data = pd.concat([body, outside_cylinder, inside_cylinder])\n",
    "    # convert contour slice data into a table of slices and structures\n",
    "    slice_table = make_slice_table(slice_data, ignore_errors=True)\n",
    "    return slice_table\n",
    "\n",
    "\n",
    "#print(find_relationship(stacked_cylinders(), [5, 6]))\n"
   ]
  },
  {
   "attachments": {
    "image-2.png": {
     "image/png": "[encoded data removed]"
    },
    "image.png": {
     "image/png": "[encoded data removed]"
    }
   },
   "cell_type": "markdown",
   "metadata": {},
   "source": [
    "### Interior Borders\n",
    "  - Primary: Central Cylinder\n",
    "  - Concentric shorter hole in the center of the primary cylinder\n",
    "  - Secondary same height as hole but narrower\n",
    "  - Interior borders at the and bottom of hole.\n",
    "  \n",
    "![image.png](attachment:image.png)\n",
    "![image-2.png](attachment:image-2.png)"
   ]
  },
  {
   "cell_type": "code",
   "execution_count": 29,
   "metadata": {},
   "outputs": [],
   "source": [
    "def embedded_cylinder():\n",
    "    slice_spacing = 0.1\n",
    "    # Body structure defines slices in use\n",
    "    body = make_vertical_cylinder(roi_num=0, radius=10, length=1, offset_z=-0.5,\n",
    "                                  spacing=slice_spacing)\n",
    "    primary_cylinder = make_vertical_cylinder(roi_num=9, radius=4, length=0.7,\n",
    "                                              offset_z=-0.3,\n",
    "                                              spacing=slice_spacing)\n",
    "    center_hole = make_vertical_cylinder(roi_num=9, radius=2, length=0.5,\n",
    "                                         offset_z=-0.2, spacing=slice_spacing)\n",
    "    # Two concentric cylinders different z offsets\n",
    "    middle_cylinder = make_vertical_cylinder(roi_num=10, radius=1, length=0.5,\n",
    "                                             offset_z=-0.2,\n",
    "                                             spacing=slice_spacing)\n",
    "    reference = make_vertical_cylinder(roi_num=11, radius=2, length=0.5,\n",
    "                                         offset_z=-0.2, spacing=slice_spacing)\n",
    "    # combine the contours\n",
    "    slice_data = pd.concat([body, primary_cylinder, center_hole, middle_cylinder, reference])\n",
    "    # convert contour slice data into a table of slices and structures\n",
    "    slice_table = make_slice_table(slice_data, ignore_errors=True)\n",
    "    return slice_table\n",
    "\n",
    "\n",
    "#print(find_relationship(embedded_cylinder(), [9, 10]))\n"
   ]
  },
  {
   "cell_type": "markdown",
   "metadata": {},
   "source": [
    "- The `boundary_match` and `match_neighbour_slices` functions will need to be updated to include the hole boundary tests.\n",
    "  - For hole boundaries, select the neighboring slice (s) that *DO* have a hole contour.\n",
    "  - The Secondary slice selection works as usual."
   ]
  },
  {
   "cell_type": "raw",
   "metadata": {
    "vscode": {
     "languageId": "raw"
    }
   },
   "source": [
    "\n",
    "def get_neighbour_slices(boundary_index, slice_index,\n",
    "                            shift_dir)->pd.DataFrame:\n",
    "    # Find the boundary neighbours\n",
    "    # Get the index of the previous slice\n",
    "    neighbour_slice = slice_index.shift(shift_dir)\n",
    "    # Select only the slices that are boundary slices of the primary ROI\n",
    "    neighbour_boundary_slices = neighbour_slice[boundary_index]\n",
    "    # Drop the neighbour slices that contain a primary contour\n",
    "    neighbour_boundary_slices.dropna(inplace=True)\n",
    "    # Reset the index to get the boundary slice number\n",
    "    neighbour_boundary_slices = neighbour_boundary_slices.reset_index()\n",
    "    neighbour_boundary_slices.columns = ['Boundary', 'Neighbour']\n",
    "    return neighbour_boundary_slices\n",
    "\n",
    "def no_structure_idx(slice_table, roi_num):\n",
    "    # Create a series containing the slice index for slices that\n",
    "    # do NOT have a primary contour\n",
    "    no_contour_idx = slice_table.index.to_series(name='ROI_Index')\n",
    "    # Select all slices that do not contain a contour for the Primary ROI\n",
    "    missing_contour = slice_table[roi_num].apply(empty_structure)\n",
    "    # Remove the slice indexes that have a primary contour\n",
    "    no_contour_idx[~missing_contour] = np.nan\n",
    "    return no_contour_idx\n"
   ]
  },
  {
   "cell_type": "code",
   "execution_count": 30,
   "metadata": {},
   "outputs": [],
   "source": [
    "def dual_embedded_cylinder():\n",
    "    slice_spacing = 0.1\n",
    "    # Body structure defines slices in use\n",
    "    body = make_vertical_cylinder(roi_num=0, radius=12, length=1, offset_z=-0.5,\n",
    "                                  spacing=slice_spacing)\n",
    "    primary_cylinder = make_vertical_cylinder(roi_num=1, radius=5, length=0.7,\n",
    "                                              offset_z=-0.3,\n",
    "                                              spacing=slice_spacing)\n",
    "    left_hole = make_vertical_cylinder(roi_num=1, radius=2, length=0.5,\n",
    "                                       offset_x=-2.5, offset_z=-0.2,\n",
    "                                       spacing=slice_spacing)\n",
    "    right_hole = make_vertical_cylinder(roi_num=1, radius=2, length=0.5,\n",
    "                                       offset_x=2.5, offset_z=-0.2,\n",
    "                                       spacing=slice_spacing)\n",
    "    # Two concentric cylinders different z offsets\n",
    "    middle_cylinder = make_vertical_cylinder(roi_num=2, radius=1, length=0.5,\n",
    "                                             offset_x=2.5, offset_z=-0.2,\n",
    "                                             spacing=slice_spacing)\n",
    "\n",
    "    # combine the contours\n",
    "    slice_data = pd.concat([body, primary_cylinder, left_hole, right_hole, middle_cylinder])\n",
    "    # convert contour slice data into a table of slices and structures\n",
    "    slice_table = make_slice_table(slice_data, ignore_errors=True)\n",
    "    return slice_table\n",
    "\n",
    "\n",
    "#print(find_relationship(dual_embedded_cylinder(), [1, 2]))\n"
   ]
  },
  {
   "cell_type": "raw",
   "metadata": {
    "vscode": {
     "languageId": "raw"
    }
   },
   "source": [
    "holes = []\n",
    "for slice in slice_table[roi_a].values:\n",
    "    if not empty_structure(slice):\n",
    "        slice_holes = slice.interiors\n",
    "        for hole in slice_holes:\n",
    "            holes.append({'position': slice.slice_position, 'contour': hole})\n",
    "\n",
    "pd.DataFrame(holes)"
   ]
  },
  {
   "cell_type": "raw",
   "metadata": {
    "vscode": {
     "languageId": "raw"
    }
   },
   "source": [
    "# Get the slice index for slices that do NOT have a primary contour\n",
    "no_primary_slice_index = no_structure_idx(slice_table, roi_a)\n",
    "# Identify the previous and next slice for each boundary slice that do\n",
    "# not have a primary contour\n",
    "previous_slice = get_neighbour_slices(primary_boundaries,\n",
    "                                        no_primary_slice_index, shift_dir=-1)\n",
    "next_slice = get_neighbour_slices(primary_boundaries,\n",
    "                                    no_primary_slice_index, shift_dir=1)\n",
    "# Combine the previous and next slices\n",
    "neighbouring_slices = pd.concat([previous_slice, next_slice],\n",
    "                                ignore_index=True)\n",
    "neighbouring_slices\n"
   ]
  },
  {
   "cell_type": "code",
   "execution_count": 31,
   "metadata": {},
   "outputs": [],
   "source": [
    "def overlapping_cylinders():\n",
    "    slice_spacing = 0.5\n",
    "    slice_spacing = 0.1\n",
    "    # Body structure defines slices in use\n",
    "    body = make_vertical_cylinder(roi_num=0, radius=10, length=1, offset_z=-0.5,\n",
    "                                  spacing=slice_spacing)\n",
    "    # Two overlapping cylinders\n",
    "    top_cylinder = make_vertical_cylinder(roi_num=7, radius=2, length=0.4, offset_z=-0.3, spacing=slice_spacing)\n",
    "    bottom_cylinder = make_vertical_cylinder(roi_num=8, radius=2, length=0.4, offset_z=0, spacing=slice_spacing)\n",
    "   # combine the contours\n",
    "    slice_data = pd.concat([top_cylinder, bottom_cylinder, body])\n",
    "    # convert contour slice data into a table of slices and structures\n",
    "    slice_table = make_slice_table(slice_data, ignore_errors=True)\n",
    "    return slice_table\n",
    "\n",
    "\n",
    "#print(find_relationship(overlapping_cylinders(), [7, 8]))\n"
   ]
  },
  {
   "cell_type": "markdown",
   "metadata": {},
   "source": [
    "## Missing secondary boundary test"
   ]
  },
  {
   "cell_type": "markdown",
   "metadata": {},
   "source": [
    "# More Tests Needed"
   ]
  },
  {
   "cell_type": "markdown",
   "metadata": {},
   "source": [
    "  - Single Primary slice with circular contour.\n",
    "    - Secondary: one of:\n",
    "      - SUP Cylinder\n",
    "      - INF Cylinder\n",
    "      - Combined SUP & INF Cylinders in one structure with single slice gap at level of the primary slice. \n",
    "- **Partition**\n",
    "  - Concentric cylinders ending on the same slice.\n",
    "  - Concentric cylinders starting on the same slice\n",
    "  - Primary: Central Cylinder\n",
    "    - Single Secondary slice with circular contour on the SUP/INF slice of the Primary cylinder.\n",
    "  - Single Primary slice with circular contour\n",
    "    - Secondary: one of:\n",
    "      - SUP Cylinder ending on the same slice.\n",
    "      - INF Cylinder ending on the same slice.\n",
    "- **CONTAINS**\n",
    "  - Concentric cylinders with interior cylinder ending inside the exterior cylinder by one slice\n",
    "**OVERLAPS**\n",
    "  - Concentric cylinders with interior cylinder ending outside the exterior cylinder by one slice\n",
    "  - Concentric cylinders with interior cylinder consisting of single slice ending inside the exterior cylinder by one slice\n"
   ]
  },
  {
   "cell_type": "markdown",
   "metadata": {},
   "source": [
    "  - Primary: Central Cylinder\n",
    "    - Secondary: one of:\n",
    "      - SUP Cylinder\n",
    "      - INF Cylinder\n",
    "      - Combined SUP & INF cylinders in one structure with single slice gap at the SUP/INF boundary of the central cylinder.\n",
    "  - Single Primary slice with circular contour.\n",
    "    - Secondary: one of:\n",
    "      - SUP Cylinder\n",
    "      - INF Cylinder\n",
    "      - Combined SUP & INF Cylinders in one structure with single slice gap at level of the primary slice. \n"
   ]
  }
 ],
 "metadata": {
  "kernelspec": {
   "display_name": "StructureRelations",
   "language": "python",
   "name": "python3"
  },
  "language_info": {
   "codemirror_mode": {
    "name": "ipython",
    "version": 3
   },
   "file_extension": ".py",
   "mimetype": "text/x-python",
   "name": "python",
   "nbconvert_exporter": "python",
   "pygments_lexer": "ipython3",
   "version": "3.11.9"
  }
 },
 "nbformat": 4,
 "nbformat_minor": 2
}
