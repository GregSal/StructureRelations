{
 "cells": [
  {
   "cell_type": "markdown",
   "metadata": {},
   "source": [
    "# Boundary Relation Tests"
   ]
  },
  {
   "cell_type": "markdown",
   "metadata": {},
   "source": [
    "## Setup"
   ]
  },
  {
   "cell_type": "markdown",
   "metadata": {},
   "source": [
    "### Imports"
   ]
  },
  {
   "cell_type": "code",
   "execution_count": 1,
   "metadata": {},
   "outputs": [],
   "source": [
    "from math import sqrt, pi\n",
    "\n",
    "# Shared Packages\n",
    "import pandas as pd\n",
    "import numpy as np\n",
    "\n",
    "# Local functions and classes\n",
    "from types_and_classes import *\n",
    "from utilities import *\n",
    "from debug_tools import *\n",
    "from structure_slice import *\n",
    "from metrics import *\n",
    "from relations import *"
   ]
  },
  {
   "cell_type": "markdown",
   "metadata": {},
   "source": [
    "### Global Settings"
   ]
  },
  {
   "cell_type": "code",
   "execution_count": 2,
   "metadata": {},
   "outputs": [],
   "source": [
    "PRECISION = 2"
   ]
  },
  {
   "cell_type": "code",
   "execution_count": 3,
   "metadata": {},
   "outputs": [],
   "source": [
    "%matplotlib inline"
   ]
  },
  {
   "cell_type": "markdown",
   "metadata": {},
   "source": [
    "## Adjusting Boundary Slice Relations\n",
    "\n",
    "For the beginning and ending slices of a structure the entire contour must\n",
    "be treated as a boundary.  The structure does not have an interior on these\n",
    "slices. In this case the “*Interior*” relations become “*Boundary*” relations.\n",
    "\n",
    "The “*Interior*” bits of the DE-9IM relationship metric are combined with the \n",
    "“*Boundary*” bits using \"OR\" logic.  This will keep the “*Boundary*” bits as \n",
    "part of the boundary.\n"
   ]
  },
  {
   "cell_type": "markdown",
   "metadata": {},
   "source": [
    "### Boundary Interpolation\n",
    "\n",
    "- The last slice with a contour is not the actual boundary.  The boundary is\n",
    "  half way between the last slice with a contour and the fist slice without a \n",
    "  contour.  \n",
    "- The last slice is interpolated to create the boundary.\n",
    "- The boundary slice index is half way between the two indexes (The mean).\n"
   ]
  },
  {
   "cell_type": "markdown",
   "metadata": {},
   "source": [
    "#### Interpolation process\n",
    "- Takes two polygons or one polygon an a \"vanishing point\" (The centroid of the polygon).\n",
    "- Takes two SliceIndex values and calculates the mean as the new SliceIndex.\n",
    "- For each coordinate point on the first polygon build a line from it to the \n",
    "  closest point on the second polygon.\n",
    "- Return the half way point of this line as the new coordinate point.\n",
    "- The new polygon is the set of all the new coordinate points.\n",
    "_ To interpolate a polygon on a boundary slice, the centroid of the polygon is \n",
    "    used as the second point in the interpolation lines.\n",
    "The Z value of the new point is the mean of the Z values of the two slices.\n"
   ]
  },
  {
   "cell_type": "markdown",
   "metadata": {},
   "source": [
    "##### Simplest interpolation case"
   ]
  },
  {
   "cell_type": "code",
   "execution_count": 4,
   "metadata": {},
   "outputs": [
    {
     "name": "stdout",
     "output_type": "stream",
     "text": [
      "[(3.0, 3.0), (3.0, -3.0), (-3.0, -3.0), (-3.0, 3.0), (3.0, 3.0)]\n",
      "[(-0.0, -0.0)]\n"
     ]
    },
    {
     "data": {
      "image/svg+xml": [
       "<svg xmlns=\"http://www.w3.org/2000/svg\" xmlns:xlink=\"http://www.w3.org/1999/xlink\" width=\"100.0\" height=\"100.0\" viewBox=\"-3.24 -3.24 6.48 6.48\" preserveAspectRatio=\"xMinYMin meet\"><g transform=\"matrix(1,0,0,-1,0,0.0)\"><path fill-rule=\"evenodd\" fill=\"#66cc99\" stroke=\"#555555\" stroke-width=\"0.12960000000000002\" opacity=\"0.6\" d=\"M 3.0,3.0 L 3.0,-3.0 L -3.0,-3.0 L -3.0,3.0 L 3.0,3.0 z M 1.5,1.5 L -1.5,1.5 L -1.5,-1.5 L 1.5,-1.5 L 1.5,1.5 z\" /></g></svg>"
      ],
      "text/plain": [
       "<POLYGON ((3 3, 3 -3, -3 -3, -3 3, 3 3), (1.5 1.5, -1.5 1.5, -1.5 -1.5, 1.5 ...>"
      ]
     },
     "execution_count": 4,
     "metadata": {},
     "output_type": "execute_result"
    }
   ],
   "source": [
    "a1 = shapely.Polygon(box_points(6))\n",
    "a2 = a1.centroid\n",
    "print([c for c in a1.boundary.coords])\n",
    "print([c for c in a2.coords])\n",
    "new_cords = []\n",
    "for crd in a1.boundary.coords:\n",
    "    ln = shapely.LineString([a2, shapely.Point(crd)])\n",
    "    ptn = ln.interpolate(0.5, normalized=True)\n",
    "    new_cords.append(ptn.coords[0])\n",
    "itp_poly = shapely.Polygon(new_cords)\n",
    "a1 - itp_poly"
   ]
  },
  {
   "cell_type": "markdown",
   "metadata": {},
   "source": [
    "##### Case 1: Two polygons"
   ]
  },
  {
   "cell_type": "code",
   "execution_count": 5,
   "metadata": {},
   "outputs": [
    {
     "name": "stdout",
     "output_type": "stream",
     "text": [
      "[(3.0, 3.0), (3.0, -3.0), (-3.0, -3.0), (-3.0, 3.0), (3.0, 3.0)]\n",
      "[(2.0, 2.0), (2.0, -2.0), (-2.0, -2.0), (-2.0, 2.0), (2.0, 2.0)]\n",
      "[(2.5, 2.5), (2.5, -2.5), (-2.5, -2.5), (-2.5, 2.5), (2.5, 2.5)]\n"
     ]
    },
    {
     "data": {
      "image/svg+xml": [
       "<svg xmlns=\"http://www.w3.org/2000/svg\" xmlns:xlink=\"http://www.w3.org/1999/xlink\" width=\"100.0\" height=\"100.0\" viewBox=\"-3.24 -3.24 6.48 6.48\" preserveAspectRatio=\"xMinYMin meet\"><g transform=\"matrix(1,0,0,-1,0,0.0)\"><g><path fill-rule=\"evenodd\" fill=\"#66cc99\" stroke=\"#555555\" stroke-width=\"0.12960000000000002\" opacity=\"0.6\" d=\"M 3.0,3.0 L 3.0,-3.0 L -3.0,-3.0 L -3.0,3.0 L 3.0,3.0 z M 2.5,2.5 L -2.5,2.5 L -2.5,-2.5 L 2.5,-2.5 L 2.5,2.5 z\" /><path fill-rule=\"evenodd\" fill=\"#66cc99\" stroke=\"#555555\" stroke-width=\"0.12960000000000002\" opacity=\"0.6\" d=\"M 2.0,2.0 L 2.0,-2.0 L -2.0,-2.0 L -2.0,2.0 L 2.0,2.0 z\" /></g></g></svg>"
      ],
      "text/plain": [
       "<MULTIPOLYGON (((3 3, 3 -3, -3 -3, -3 3, 3 3), (2.5 2.5, -2.5 2.5, -2.5 -2.5...>"
      ]
     },
     "execution_count": 5,
     "metadata": {},
     "output_type": "execute_result"
    }
   ],
   "source": [
    "a1 = shapely.Polygon(box_points(6))\n",
    "a2 = shapely.Polygon(box_points(4))\n",
    "print([c for c in a1.boundary.coords])\n",
    "print([c for c in a2.boundary.coords])\n",
    "new_cords = []\n",
    "for crd in a1.boundary.coords:\n",
    "    ln = shapely.shortest_line(shapely.Point(crd), a2.boundary)\n",
    "    ptn = ln.interpolate(0.5, normalized=True)\n",
    "    new_cords.append(ptn.coords[0])\n",
    "itp_poly = shapely.Polygon(new_cords)\n",
    "print([c for c in itp_poly.boundary.coords])\n",
    "\n",
    "shapely.union(a1 - itp_poly, a2)"
   ]
  },
  {
   "cell_type": "markdown",
   "metadata": {},
   "source": [
    "##### General process"
   ]
  },
  {
   "cell_type": "code",
   "execution_count": 6,
   "metadata": {},
   "outputs": [],
   "source": [
    "def interpolate_polygon(p1: shapely.Polygon,\n",
    "                        p2: shapely.Polygon = None) -> shapely.Polygon:\n",
    "    if p2 is None:\n",
    "        boundary2 = p1.centroid\n",
    "    else:\n",
    "        boundary2 = p2.boundary\n",
    "    new_cords = []\n",
    "    for crd in p1.boundary.coords:\n",
    "        ln = shapely.shortest_line(shapely.Point(crd), boundary2)\n",
    "        ptn = ln.interpolate(0.5, normalized=True)\n",
    "        new_cords.append(ptn)\n",
    "    itp_poly = shapely.Polygon(new_cords)\n",
    "    return itp_poly\n"
   ]
  },
  {
   "cell_type": "code",
   "execution_count": 7,
   "metadata": {},
   "outputs": [
    {
     "data": {
      "image/svg+xml": [
       "<svg xmlns=\"http://www.w3.org/2000/svg\" xmlns:xlink=\"http://www.w3.org/1999/xlink\" width=\"100.0\" height=\"100.0\" viewBox=\"-3.24 -3.24 6.48 6.48\" preserveAspectRatio=\"xMinYMin meet\"><g transform=\"matrix(1,0,0,-1,0,0.0)\"><path fill-rule=\"evenodd\" fill=\"#66cc99\" stroke=\"#555555\" stroke-width=\"0.12960000000000002\" opacity=\"0.6\" d=\"M 3.0,3.0 L 3.0,-3.0 L -3.0,-3.0 L -3.0,3.0 L 3.0,3.0 z M 1.5,1.5 L -1.5,1.5 L -1.5,-1.5 L 1.5,-1.5 L 1.5,1.5 z\" /></g></svg>"
      ],
      "text/plain": [
       "<POLYGON ((3 3, 3 -3, -3 -3, -3 3, 3 3), (1.5 1.5, -1.5 1.5, -1.5 -1.5, 1.5 ...>"
      ]
     },
     "execution_count": 7,
     "metadata": {},
     "output_type": "execute_result"
    }
   ],
   "source": [
    "a1 = shapely.Polygon(box_points(6))\n",
    "itp_poly = interpolate_polygon(a1)\n",
    "a1-itp_poly"
   ]
  },
  {
   "cell_type": "code",
   "execution_count": 8,
   "metadata": {},
   "outputs": [
    {
     "data": {
      "image/svg+xml": [
       "<svg xmlns=\"http://www.w3.org/2000/svg\" xmlns:xlink=\"http://www.w3.org/1999/xlink\" width=\"100.0\" height=\"100.0\" viewBox=\"-3.24 -3.24 6.48 6.48\" preserveAspectRatio=\"xMinYMin meet\"><g transform=\"matrix(1,0,0,-1,0,0.0)\"><g><path fill-rule=\"evenodd\" fill=\"#66cc99\" stroke=\"#555555\" stroke-width=\"0.12960000000000002\" opacity=\"0.6\" d=\"M 3.0,3.0 L 3.0,-3.0 L -3.0,-3.0 L -3.0,3.0 L 3.0,3.0 z M 2.5,2.5 L -2.5,2.5 L -2.5,-2.5 L 2.5,-2.5 L 2.5,2.5 z\" /><path fill-rule=\"evenodd\" fill=\"#66cc99\" stroke=\"#555555\" stroke-width=\"0.12960000000000002\" opacity=\"0.6\" d=\"M 2.0,2.0 L 2.0,-2.0 L -2.0,-2.0 L -2.0,2.0 L 2.0,2.0 z\" /></g></g></svg>"
      ],
      "text/plain": [
       "<MULTIPOLYGON (((3 3, 3 -3, -3 -3, -3 3, 3 3), (2.5 2.5, -2.5 2.5, -2.5 -2.5...>"
      ]
     },
     "execution_count": 8,
     "metadata": {},
     "output_type": "execute_result"
    }
   ],
   "source": [
    "a1 = shapely.Polygon(box_points(6))\n",
    "a2 = shapely.Polygon(box_points(4))\n",
    "itp_poly = interpolate_polygon(a1, a2)\n",
    "shapely.union(a1 - itp_poly, a2)"
   ]
  },
  {
   "cell_type": "markdown",
   "metadata": {},
   "source": [
    "##### Update the z-coordinate of the polygon"
   ]
  },
  {
   "cell_type": "code",
   "execution_count": 9,
   "metadata": {},
   "outputs": [],
   "source": [
    "slice_index=[1, 2]\n",
    "new_z = np.mean(slice_index)\n",
    "itp_poly = shapely.force_3d(itp_poly, new_z)"
   ]
  },
  {
   "cell_type": "code",
   "execution_count": 10,
   "metadata": {},
   "outputs": [
    {
     "data": {
      "text/plain": [
       "True"
      ]
     },
     "execution_count": 10,
     "metadata": {},
     "output_type": "execute_result"
    }
   ],
   "source": [
    "itp_poly.has_z"
   ]
  },
  {
   "cell_type": "markdown",
   "metadata": {},
   "source": [
    "##### Final Function"
   ]
  },
  {
   "cell_type": "code",
   "execution_count": 11,
   "metadata": {},
   "outputs": [],
   "source": [
    "def interpolate_polygon(slices: Union[List[SliceIndexType], SliceIndexType],\n",
    "                        p1: shapely.Polygon,\n",
    "                        p2: shapely.Polygon = None) -> shapely.Polygon:\n",
    "    # If multiple slices given, calculate the new z value.\n",
    "    if isinstance(slices, (list, tuple)):\n",
    "        new_z = np.mean(slices)\n",
    "    else:\n",
    "        new_z = slices\n",
    "    # If no second polygon given, use the centroid of the first polygon as the\n",
    "    # boundary.\n",
    "    if p2 is None:\n",
    "        boundary2 = p1.centroid\n",
    "    else:\n",
    "        boundary2 = p2.boundary\n",
    "    # Interpolate the new polygon coordinates as half way between the p1\n",
    "    # boundary and boundary 2.\n",
    "    new_cords = []\n",
    "    for crd in p1.boundary.coords:\n",
    "        ln = shapely.shortest_line(shapely.Point(crd), boundary2)\n",
    "        ptn = ln.interpolate(0.5, normalized=True)\n",
    "        new_cords.append(ptn)\n",
    "    # Build the new polygon from the interpolated coordinates.\n",
    "    itp_poly = shapely.Polygon(new_cords)\n",
    "    # Add the z value to the polygon.\n",
    "    itp_poly = shapely.force_3d(itp_poly, new_z)\n",
    "    return itp_poly\n"
   ]
  },
  {
   "cell_type": "markdown",
   "metadata": {},
   "source": [
    "### Boundary checks are done by *region* not by *structure*\n",
    "\n",
    "- For all structures the `StructureSlice.contour` MultiPolygon for each slice \n",
    "    is separated into individual polygons and holes (Regions).\n",
    "- Unique labels are applied to each region on the first slice: 'a', 'b' ...\n",
    "- Overlapping polygons on the next slice are given the same region labels.\n",
    "- If a polygon in the current region is not matched to a polygon in the next \n",
    "    region, it is a tagged as a “*Boundary*” polygon.\n",
    "- If a polygon in the next region is not matched with a polygon in the current \n",
    "    region, it is tagged as a “*Boundary*” polygon and assigned a new unique \n",
    "    region label.\n",
    "- In the case where two regions that converge into one the distinct region \n",
    "    labels are kept. This is because a polygon can be in multiple regions.\n",
    "  \n"
   ]
  },
  {
   "cell_type": "markdown",
   "metadata": {},
   "source": [
    "# Done to Here\n"
   ]
  },
  {
   "cell_type": "markdown",
   "metadata": {},
   "source": [
    "\n",
    "Next Steps:\n",
    "1. Use the `region_table` to identify boundaries for each region.\n",
    "2. For each boundary, generate an interpolated boundary slice.\n",
    "3. For each region in the other structure generate a corresponding interpolated \n",
    "    slice (if it exists).\n",
    "4. Apply the DE-9IM logic to the boundary slices.\n",
    "5. Modify the DE-9IM matrix to account for the boundary.\n",
    "6. If the interpolated slice of the other structure is also a boundary slice, \n",
    "modify the DE-9IM matrix to account for this boundary as well."
   ]
  },
  {
   "cell_type": "code",
   "execution_count": 12,
   "metadata": {},
   "outputs": [],
   "source": [
    "def is_boundary(region):\n",
    "    if isinstance(region, Region):\n",
    "        return region.is_boundary\n",
    "    return False\n",
    "\n",
    "\n",
    "def is_hole(region):\n",
    "    if isinstance(region, Region):\n",
    "        return region.is_hole\n",
    "    return False\n",
    "\n",
    "def find_boundary_slices(region_table: pd.DataFrame, group_regions=False):\n",
    "    has_boundary = region_table.map(is_boundary)\n",
    "    boundaries = has_boundary.fillna(0).astype(bool)\n",
    "    if group_regions:\n",
    "        boundaries = has_boundary.stack('ROI', future_stack=True)\n",
    "        boundaries = boundaries.apply(any, axis='columns')\n",
    "        boundaries = boundaries.unstack('ROI')\n",
    "    return boundaries\n",
    "\n",
    "def has_neighbour(region_table: pd.DataFrame, offset: int):\n",
    "    not_empty = region_table.map(empty_structure)\n",
    "    neighbour = not_empty.shift(offset)\n",
    "    neighbour['idx'] = neighbour.index.to_series().shift(1)\n",
    "    neighbour.set_index('idx', append=True, inplace=True)\n",
    "    return neighbour\n",
    "\n",
    "def find_boundary_pairs(region_boundaries, neighbour_slice, selection):\n",
    "    r_bdry = region_boundaries[selection]\n",
    "    next_r = pd.DataFrame(neighbour_slice[selection])\n",
    "    next_r = next_r.join(r_bdry, rsuffix='boundary')\n",
    "    match = next_r.apply(all, axis='columns')\n",
    "    boundary_pairs = list(next_r[match].index)\n",
    "    return boundary_pairs\n",
    "\n",
    "def match_interpolated_region(secondary: pd.DataFrame,\n",
    "                              boundary_pair: Tuple[int, int]):\n",
    "            # Matched Interpolated Secondary Slice\n",
    "    s1 = secondary.at[boundary_pair[0], second_region]\n",
    "    s2 = secondary.at[boundary_pair[1], second_region]\n",
    "    if empty_structure(s1):\n",
    "        if empty_structure(s2):\n",
    "            si = np.nan\n",
    "        else:\n",
    "            si = interpolate_polygon(boundary_pair, s2.polygon)\n",
    "    else:\n",
    "        if empty_structure(s2):\n",
    "            si = interpolate_polygon(boundary_pair, s1.polygon)\n",
    "        else:\n",
    "            si = interpolate_polygon(boundary_pair, s1.polygon, s2.polygon)\n",
    "    return si\n"
   ]
  },
  {
   "cell_type": "code",
   "execution_count": 13,
   "metadata": {},
   "outputs": [],
   "source": [
    "def parallel_cylinders():\n",
    "    slice_spacing = 0.1\n",
    "    # Body structure defines slices in use\n",
    "    body = make_vertical_cylinder(roi_num=0, radius=12, length=1, offset_z=-0.5,\n",
    "                                  spacing=slice_spacing)\n",
    "    left_cylinder = make_vertical_cylinder(roi_num=1, radius=2, length=0.5,\n",
    "                                       offset_x=-2.5, offset_z=-0.2,\n",
    "                                       spacing=slice_spacing)\n",
    "    right_cylinder = make_vertical_cylinder(roi_num=1, radius=2, length=0.5,\n",
    "                                       offset_x=2.5, offset_z=-0.2,\n",
    "                                       spacing=slice_spacing)\n",
    "    # Two concentric cylinders different z offsets\n",
    "    right_middle_cylinder = make_vertical_cylinder(roi_num=2, radius=1, length=0.5,\n",
    "                                             offset_x=2.5, offset_z=-0.2,\n",
    "                                             spacing=slice_spacing)\n",
    "    left_boundary_cylinder1 = make_vertical_cylinder(roi_num=3, radius=1, length=0.2,\n",
    "                                             offset_x=-2.5, offset_z=-0.4,\n",
    "                                             spacing=slice_spacing)\n",
    "    left_boundary_cylinder2 = make_vertical_cylinder(roi_num=3, radius=1, length=0.2,\n",
    "                                             offset_x=-2.5, offset_z=0.3,\n",
    "                                             spacing=slice_spacing)\n",
    "    # combine the contours\n",
    "    slice_data = pd.concat([body, left_cylinder, right_cylinder,\n",
    "                            right_middle_cylinder,\n",
    "                            left_boundary_cylinder1,left_boundary_cylinder2])\n",
    "    # convert contour slice data into a table of slices and structures\n",
    "    slice_table = make_slice_table(slice_data, ignore_errors=True)\n",
    "    return slice_table\n"
   ]
  },
  {
   "cell_type": "markdown",
   "metadata": {},
   "source": [
    "1. extract the regions for the first roi as primary and the regions for the second roi as secondary\n",
    "2. find the boundaries for each region in the primary and secondary\n",
    "3. loop through each primary region creating interpolated boundary slices\n",
    "4. for both interpolated boundary slices in the region create a matching interpolated slice from reach secondary region\n",
    "5. check whether the matching secondary is also a boundary\n",
    "6. send the pair of regions to DE9IM to get the relationship making boundary adjustments for the primary or for both regions"
   ]
  },
  {
   "cell_type": "code",
   "execution_count": 14,
   "metadata": {},
   "outputs": [],
   "source": [
    "slice_table = parallel_cylinders()\n",
    "region_table = make_region_table(slice_table)\n",
    "region_boundaries = find_boundary_slices(region_table)\n",
    "next_slice = has_neighbour(region_table, 1)\n",
    "prev_slice = has_neighbour(region_table, -1)\n",
    "\n",
    "selected_roi = [1, 2]"
   ]
  },
  {
   "cell_type": "code",
   "execution_count": 15,
   "metadata": {},
   "outputs": [],
   "source": [
    "struct_a, struct_b = selected_roi\n",
    "primary = region_table[struct_a]\n",
    "p_boundary = region_boundaries[struct_a]\n",
    "secondary = region_table[struct_b]\n",
    "\n",
    "for region in primary.columns:\n",
    "    has_boundary = region_boundaries[(struct_a, region)]\n",
    "    boundary_pairs = find_boundary_pairs(region_boundaries, next_slice,\n",
    "                                         (struct_a, region))\n",
    "    boundary_pairs.extend(find_boundary_pairs(region_boundaries, prev_slice,\n",
    "                                              (struct_a, region)))\n",
    "    boundary_relations = []\n",
    "    for boundary_pair in boundary_pairs:\n",
    "        p1 = primary.at[boundary_pair[0], region].polygon\n",
    "        p_i = interpolate_polygon(boundary_pair, p1)\n",
    "        for second_region in secondary.columns:\n",
    "            adjustments = ['boundary_a']\n",
    "            # Matched Interpolated Secondary Slice\n",
    "            si = match_interpolated_region(secondary, boundary_pair)\n",
    "            # Check if the interpolated secondary slice is also a boundary\n",
    "            if any(region_boundaries.loc[list(boundary_pair),\n",
    "                                         (struct_b, second_region)]):\n",
    "                adjustments.append('boundary_b')\n",
    "            # Get boundary relation as a DE27IM object.\n",
    "            boundary_relation = DE27IM(p_i, si, adjustments=adjustments)\n",
    "            boundary_relations.append(boundary_relation)\n"
   ]
  },
  {
   "cell_type": "markdown",
   "metadata": {},
   "source": [
    "# ERROR: Boundary relations are not being calculated correctly.  \n"
   ]
  },
  {
   "cell_type": "code",
   "execution_count": 16,
   "metadata": {},
   "outputs": [
    {
     "data": {
      "text/plain": [
       "[<DE27IM>: 000011001000000000000000000, <DE27IM>: 000011011000000000000000000]"
      ]
     },
     "execution_count": 16,
     "metadata": {},
     "output_type": "execute_result"
    }
   ],
   "source": [
    "boundary_relations"
   ]
  },
  {
   "cell_type": "code",
   "execution_count": 17,
   "metadata": {},
   "outputs": [],
   "source": [
    "# Slice range = Min(starting slice) to Max(ending slice)\n",
    "selected_slices = select_slices(slice_table, selected_roi)\n",
    "# Send all slices with both Primary and Secondary contours for standard\n",
    "# relation testing\n",
    "mid_relations = list(selected_slices.agg(relate_structures,\n",
    "                                         structures=selected_roi,\n",
    "                                         axis='columns'))\n",
    "mid_relations.extend(boundary_relations)\n"
   ]
  },
  {
   "cell_type": "code",
   "execution_count": 18,
   "metadata": {},
   "outputs": [
    {
     "data": {
      "text/plain": [
       "<RelationshipType.UNKNOWN: 999>"
      ]
     },
     "execution_count": 18,
     "metadata": {},
     "output_type": "execute_result"
    }
   ],
   "source": [
    "\n",
    "merged_relations(mid_relations).identify_relation()"
   ]
  },
  {
   "cell_type": "markdown",
   "metadata": {},
   "source": [
    "- For Holes need to use a variation on StructureSlice that has the hole as the contour, but uses the exterior and Hull from the parent structure.\n",
    "- For Holes the `adjust_boundary_relation` function shifts the interior relation and flips the exterior."
   ]
  },
  {
   "cell_type": "code",
   "execution_count": 19,
   "metadata": {},
   "outputs": [],
   "source": [
    "def find_holes(region_table, holes, selected_roi)->List[ROI_Type]:\n",
    "    use_roi = set()\n",
    "    for idx in region_table.columns[holes]:\n",
    "        if idx[0] in selected_roi:\n",
    "            use_roi.add(idx[0])\n",
    "    return list(use_roi)"
   ]
  },
  {
   "cell_type": "code",
   "execution_count": 20,
   "metadata": {},
   "outputs": [
    {
     "ename": "NameError",
     "evalue": "name 'holes' is not defined",
     "output_type": "error",
     "traceback": [
      "\u001b[1;31m---------------------------------------------------------------------------\u001b[0m",
      "\u001b[1;31mNameError\u001b[0m                                 Traceback (most recent call last)",
      "Cell \u001b[1;32mIn[20], line 1\u001b[0m\n\u001b[1;32m----> 1\u001b[0m use_roi \u001b[38;5;241m=\u001b[39m find_holes(region_table, holes, selected_roi)\n\u001b[0;32m      2\u001b[0m hole_regions \u001b[38;5;241m=\u001b[39m region_table\u001b[38;5;241m.\u001b[39mloc[:,holes][use_roi]\n\u001b[0;32m      3\u001b[0m hole_boundaries \u001b[38;5;241m=\u001b[39m find_boundary_slices(hole_regions)\n",
      "\u001b[1;31mNameError\u001b[0m: name 'holes' is not defined"
     ]
    }
   ],
   "source": [
    "use_roi = find_holes(region_table, holes, selected_roi)\n",
    "hole_regions = region_table.loc[:,holes][use_roi]\n",
    "hole_boundaries = find_boundary_slices(hole_regions)"
   ]
  },
  {
   "cell_type": "markdown",
   "metadata": {},
   "source": [
    "**Need to analyze each hole independently**"
   ]
  },
  {
   "cell_type": "markdown",
   "metadata": {},
   "source": [
    "###### Inverted Next_slice required for holes"
   ]
  },
  {
   "cell_type": "code",
   "execution_count": 155,
   "metadata": {},
   "outputs": [
    {
     "data": {
      "text/html": [
       "<div>\n",
       "<style scoped>\n",
       "    .dataframe tbody tr th:only-of-type {\n",
       "        vertical-align: middle;\n",
       "    }\n",
       "\n",
       "    .dataframe tbody tr th {\n",
       "        vertical-align: top;\n",
       "    }\n",
       "\n",
       "    .dataframe thead tr th {\n",
       "        text-align: left;\n",
       "    }\n",
       "\n",
       "    .dataframe thead tr:last-of-type th {\n",
       "        text-align: right;\n",
       "    }\n",
       "</style>\n",
       "<table border=\"1\" class=\"dataframe\">\n",
       "  <thead>\n",
       "    <tr>\n",
       "      <th></th>\n",
       "      <th>ROI</th>\n",
       "      <th>0</th>\n",
       "      <th colspan=\"2\" halign=\"left\">1</th>\n",
       "      <th>2</th>\n",
       "      <th colspan=\"2\" halign=\"left\">3</th>\n",
       "    </tr>\n",
       "    <tr>\n",
       "      <th></th>\n",
       "      <th>Label</th>\n",
       "      <th>a</th>\n",
       "      <th>b</th>\n",
       "      <th>c</th>\n",
       "      <th>d</th>\n",
       "      <th>e</th>\n",
       "      <th>f</th>\n",
       "    </tr>\n",
       "    <tr>\n",
       "      <th>Slice</th>\n",
       "      <th>idx</th>\n",
       "      <th></th>\n",
       "      <th></th>\n",
       "      <th></th>\n",
       "      <th></th>\n",
       "      <th></th>\n",
       "      <th></th>\n",
       "    </tr>\n",
       "  </thead>\n",
       "  <tbody>\n",
       "    <tr>\n",
       "      <th>-0.5</th>\n",
       "      <th>NaN</th>\n",
       "      <td>False</td>\n",
       "      <td>False</td>\n",
       "      <td>False</td>\n",
       "      <td>False</td>\n",
       "      <td>False</td>\n",
       "      <td>False</td>\n",
       "    </tr>\n",
       "    <tr>\n",
       "      <th>-0.4</th>\n",
       "      <th>-0.5</th>\n",
       "      <td>True</td>\n",
       "      <td>False</td>\n",
       "      <td>False</td>\n",
       "      <td>False</td>\n",
       "      <td>False</td>\n",
       "      <td>False</td>\n",
       "    </tr>\n",
       "    <tr>\n",
       "      <th>-0.3</th>\n",
       "      <th>-0.4</th>\n",
       "      <td>True</td>\n",
       "      <td>False</td>\n",
       "      <td>False</td>\n",
       "      <td>False</td>\n",
       "      <td>True</td>\n",
       "      <td>False</td>\n",
       "    </tr>\n",
       "    <tr>\n",
       "      <th>-0.2</th>\n",
       "      <th>-0.3</th>\n",
       "      <td>True</td>\n",
       "      <td>False</td>\n",
       "      <td>False</td>\n",
       "      <td>False</td>\n",
       "      <td>True</td>\n",
       "      <td>False</td>\n",
       "    </tr>\n",
       "    <tr>\n",
       "      <th>-0.1</th>\n",
       "      <th>-0.2</th>\n",
       "      <td>True</td>\n",
       "      <td>True</td>\n",
       "      <td>True</td>\n",
       "      <td>True</td>\n",
       "      <td>False</td>\n",
       "      <td>False</td>\n",
       "    </tr>\n",
       "    <tr>\n",
       "      <th>0.0</th>\n",
       "      <th>-0.1</th>\n",
       "      <td>True</td>\n",
       "      <td>True</td>\n",
       "      <td>True</td>\n",
       "      <td>True</td>\n",
       "      <td>False</td>\n",
       "      <td>False</td>\n",
       "    </tr>\n",
       "    <tr>\n",
       "      <th>0.1</th>\n",
       "      <th>0.0</th>\n",
       "      <td>True</td>\n",
       "      <td>True</td>\n",
       "      <td>True</td>\n",
       "      <td>True</td>\n",
       "      <td>False</td>\n",
       "      <td>False</td>\n",
       "    </tr>\n",
       "    <tr>\n",
       "      <th>0.2</th>\n",
       "      <th>0.1</th>\n",
       "      <td>True</td>\n",
       "      <td>True</td>\n",
       "      <td>True</td>\n",
       "      <td>True</td>\n",
       "      <td>False</td>\n",
       "      <td>False</td>\n",
       "    </tr>\n",
       "    <tr>\n",
       "      <th>0.3</th>\n",
       "      <th>0.2</th>\n",
       "      <td>True</td>\n",
       "      <td>True</td>\n",
       "      <td>True</td>\n",
       "      <td>True</td>\n",
       "      <td>False</td>\n",
       "      <td>False</td>\n",
       "    </tr>\n",
       "    <tr>\n",
       "      <th>0.4</th>\n",
       "      <th>0.3</th>\n",
       "      <td>True</td>\n",
       "      <td>False</td>\n",
       "      <td>False</td>\n",
       "      <td>False</td>\n",
       "      <td>False</td>\n",
       "      <td>True</td>\n",
       "    </tr>\n",
       "  </tbody>\n",
       "</table>\n",
       "</div>"
      ],
      "text/plain": [
       "ROI             0      1             2      3       \n",
       "Label           a      b      c      d      e      f\n",
       "Slice idx                                           \n",
       "-0.5  NaN   False  False  False  False  False  False\n",
       "-0.4  -0.5   True  False  False  False  False  False\n",
       "-0.3  -0.4   True  False  False  False   True  False\n",
       "-0.2  -0.3   True  False  False  False   True  False\n",
       "-0.1  -0.2   True   True   True   True  False  False\n",
       " 0.0  -0.1   True   True   True   True  False  False\n",
       " 0.1   0.0   True   True   True   True  False  False\n",
       " 0.2   0.1   True   True   True   True  False  False\n",
       " 0.3   0.2   True   True   True   True  False  False\n",
       " 0.4   0.3   True  False  False  False  False   True"
      ]
     },
     "execution_count": 155,
     "metadata": {},
     "output_type": "execute_result"
    }
   ],
   "source": [
    "next_slice.map(lambda x: not x)"
   ]
  },
  {
   "cell_type": "markdown",
   "metadata": {},
   "source": [
    "## Boundary Check process\n",
    "1. Build slice table (index= slice, columns = ROI, Data= StructureSlice)\n",
    "2. Select Primary & Secondary ROI\n",
    "\t- Slice range = Min(starting slice) to Max(ending slice)\n",
    "3. Send all slices with both Primary and Secondary contours for standard relation testing \n",
    "4. Identify the boundary slices of the Primary and Secondary ROI\n",
    "    - Boundary slices are slices that have a contour, but one of their neighbouring slices do not have a contour.\n",
    "5. For each boundary slice of the Primary ROI identify the neighbouring slice(s) that do not have a primary.\n",
    "6. For each of these neighbouring slices select a Secondary slice for boundary tests:\n",
    "\t- If the slice has a Secondary contour, select that Secondary slice.\n",
    "\t- If the slice does not have a Secondary contour, but there is a Secondary contour on the same slice as the Primary boundary, select that Secondary slice.\n",
    "\t- If neither the neighbouring slice nor the same slice as the Primary boundary have a Secondary contour, do not select a Secondary slice. Boundary testing is not required.\n",
    "7. Test the relation between the boundary Primary and the selected Secondary.\n",
    "8. Apply a Primary boundary shift to the relation results.\n",
    "9. If the selected Secondary is also a Secondary boundary, apply a Secondary boundary shift as well.\n",
    "10. Merge all results and reduce to single relation"
   ]
  },
  {
   "cell_type": "markdown",
   "metadata": {},
   "source": [
    "### Managing holes\n",
    "The boundaries of holes must also be checked\n",
    "- `adjust_boundary_relation` will need to be updated to include `shift_type`s for holes:\n",
    "     - *hole_in_a* \n",
    "     - *hole_in_b*\n",
    "     - *hole_in_both*\n",
    "- The *holes* `shift_type` shifts the interior relation to a boundary relation only for the *contour* part.  The *exterior* and *hull* relation parts are not shifted.\n",
    "\n",
    "- The `boundary_match` and `match_neighbour_slices` functions will need to be updated to include the hole boundary tests.\n",
    "  - For hole boundaries, select the neighboring slice (s) that *DO* have a hole contour.\n",
    "  - The Secondary slice selection works as usual.\n",
    "  \n",
    "\n",
    "When hole boundaries are tested, only the \"contour\" “*Boundary*” bits of the 'a' \n",
    "structure DE-9IM relationship\n",
    "\n",
    "\n",
    "relation (DE27IM_Type): A triplet numeric DE-9IM relationship metric.\n",
    "        \n",
    "\n",
    "shift_type (str, optional): The polygon(s) that are boundaries:\n",
    "- 'a' indicates that the first (primary) polygon is at a boundary.\n",
    "- 'b' indicates that the second (secondary) polygon is at a boundary.\n",
    "- 'both' (The default) indicates that both polygons are at a boundary.\n",
    "- 'hole_in_a' indicates that the first polygon is at a boundary with a hole.\n",
    "- 'hole_in_b' indicates that the second polygon is at a boundary with a hole."
   ]
  },
  {
   "cell_type": "markdown",
   "metadata": {},
   "source": [
    "### secondary boundary tests\n",
    "- Applies to the Secondary ROI in the same way as the Primary ROI.\n",
    "- The `boundary_match` and `match_neighbour_slices` functions will need to be adjusted to work for secondary boundaries as well."
   ]
  },
  {
   "cell_type": "markdown",
   "metadata": {},
   "source": [
    "|Relationship     | Region Test   |  Exterior Test  |  Hull Test  |\n",
    "|-------------    |---------------|-----------------|-------------|\n",
    "|Borders          |  `FF*FT****`  |   `T*T*F*FF*`   | `*********` |\n",
    "|Borders result   |  `000011001`  |   `000011001`   | `000011001` |\n",
    "|Interior Borders |  `FF*FT****`  |   `T***T****`   | `*********` |\n",
    "|Result           |  `111001001`  |   `111001001`   | `001011101` |\n",
    "                \n",
    "**BORDERS:** The two structures share a common exterior boundary.\n",
    "\n",
    "**BORDERS_INTERIOR:** The two structures share a common boundary and one is within the other.\n",
    "    \n"
   ]
  },
  {
   "cell_type": "markdown",
   "metadata": {},
   "source": [
    "|Relationship     | Region Test   |  Exterior Test  |  Hull Test  |\n",
    "|-------------    |---------------|-----------------|-------------|\n",
    "|Overlaps         |  `T*T***T**`  |   `*********`   | `*********` |\n",
    "|Overlaps result  |  `110010001`  |   `110010001`   | `110010001` |\n",
    "\n",
    "                \n",
    "**OVERLAPS:** The two structures share a common region.\n",
    "    "
   ]
  },
  {
   "cell_type": "markdown",
   "metadata": {},
   "source": [
    "![alt text](Images/DE-9IM.png)"
   ]
  },
  {
   "cell_type": "markdown",
   "metadata": {},
   "source": [
    "![alt text](../reference/RelationshipTreeDiagram.svg)"
   ]
  },
  {
   "cell_type": "markdown",
   "metadata": {},
   "source": [
    "## Test structures\n"
   ]
  },
  {
   "cell_type": "markdown",
   "metadata": {},
   "source": [
    "#### Concentric cylinders starting on the same slice\n",
    "  \n",
    "<img src=\"Images\\Boundaries\\PartitionSup3D.png\" alt=\"PartitionSup3D\" style=\"height:50px;\">\n",
    "<img src=\"Images\\Boundaries\\PartitionSup2D.png\" alt=\"PartitionSup2D\" style=\"height:30px;\">"
   ]
  },
  {
   "cell_type": "code",
   "execution_count": 6,
   "metadata": {},
   "outputs": [],
   "source": [
    "def concentric_cylinders_same_start():\n",
    "    slice_spacing = 0.1\n",
    "    # Body structure defines slices in use\n",
    "    body = make_vertical_cylinder(roi_num=0, radius=10, length=1, offset_z=-0.5,\n",
    "                                  spacing=slice_spacing)\n",
    "    # Concentric cylinders starting on the same slice\n",
    "    primary_cylinder = make_vertical_cylinder(roi_num=1, radius=2, length=0.7,\n",
    "                                              offset_z=-0.3,\n",
    "                                              spacing=slice_spacing)\n",
    "    sup_partition = make_vertical_cylinder(roi_num=2, radius=1, length=0.4,\n",
    "                                           offset_z=-0.3,\n",
    "                                           spacing=slice_spacing)\n",
    "    # combine the contours\n",
    "    slice_data = pd.concat([body, primary_cylinder, sup_partition])\n",
    "    # convert contour slice data into a table of slices and structures\n",
    "    slice_table = make_slice_table(slice_data, ignore_errors=True)\n",
    "    return slice_table\n"
   ]
  },
  {
   "cell_type": "code",
   "execution_count": 19,
   "metadata": {},
   "outputs": [],
   "source": [
    "def parallel_cylinders():\n",
    "    slice_spacing = 0.1\n",
    "    # Body structure defines slices in use\n",
    "    body = make_vertical_cylinder(roi_num=0, radius=12, length=1, offset_z=-0.5,\n",
    "                                  spacing=slice_spacing)\n",
    "    left_cylinder = make_vertical_cylinder(roi_num=1, radius=2, length=0.5,\n",
    "                                       offset_x=-2.5, offset_z=-0.2,\n",
    "                                       spacing=slice_spacing)\n",
    "    right_cylinder = make_vertical_cylinder(roi_num=1, radius=2, length=0.5,\n",
    "                                       offset_x=2.5, offset_z=-0.2,\n",
    "                                       spacing=slice_spacing)\n",
    "    # Two concentric cylinders different z offsets\n",
    "    right_middle_cylinder = make_vertical_cylinder(roi_num=2, radius=1, length=0.5,\n",
    "                                             offset_x=2.5, offset_z=-0.2,\n",
    "                                             spacing=slice_spacing)\n",
    "    left_boundary_cylinder1 = make_vertical_cylinder(roi_num=3, radius=1, length=0.2,\n",
    "                                             offset_x=-2.5, offset_z=-0.4,\n",
    "                                             spacing=slice_spacing)\n",
    "    left_boundary_cylinder2 = make_vertical_cylinder(roi_num=3, radius=1, length=0.2,\n",
    "                                             offset_x=-2.5, offset_z=0.2,\n",
    "                                             spacing=slice_spacing)\n",
    "    # combine the contours\n",
    "    slice_data = pd.concat([body, left_cylinder, right_cylinder,\n",
    "                            right_middle_cylinder,\n",
    "                            left_boundary_cylinder1,left_boundary_cylinder2])\n",
    "    # convert contour slice data into a table of slices and structures\n",
    "    slice_table = make_slice_table(slice_data, ignore_errors=True)\n",
    "    return slice_table\n",
    "\n",
    "\n",
    "#print(find_relationship(dual_embedded_cylinder(), [1, 2]))\n"
   ]
  },
  {
   "cell_type": "code",
   "execution_count": 7,
   "metadata": {},
   "outputs": [],
   "source": [
    "def dual_embedded_cylinder():\n",
    "    slice_spacing = 0.1\n",
    "    # Body structure defines slices in use\n",
    "    body = make_vertical_cylinder(roi_num=0, radius=12, length=1.1, offset_z=-0.5,\n",
    "                                  spacing=slice_spacing)\n",
    "    # Centred cylinder with two embedded cylinders\n",
    "    primary_cylinder = make_vertical_cylinder(roi_num=1, radius=5, length=0.7,\n",
    "                                              offset_z=-0.3,\n",
    "                                              spacing=slice_spacing)\n",
    "    left_hole = make_vertical_cylinder(roi_num=1, radius=2, length=0.5,\n",
    "                                       offset_x=-2.5, offset_z=-0.2,\n",
    "                                       spacing=slice_spacing)\n",
    "    right_hole = make_vertical_cylinder(roi_num=1, radius=2, length=0.5,\n",
    "                                       offset_x=2.5, offset_z=-0.2,\n",
    "                                       spacing=slice_spacing)\n",
    "    # cylinder with interior borders\n",
    "    confines_cylinder = make_vertical_cylinder(roi_num=2, radius=1, length=0.5,\n",
    "                                             offset_x=2.5, offset_z=-0.2,\n",
    "                                             spacing=slice_spacing)\n",
    "\n",
    "    # cylinder completely inside of a hole\n",
    "    surrounds_cylinder = make_vertical_cylinder(roi_num=3, radius=1, length=0.3,\n",
    "                                             offset_x=-2.5, offset_z=-0.1,\n",
    "                                             spacing=slice_spacing)\n",
    "    # cylinder bordering primary cylinder\n",
    "    bordering_cylinder1 = make_vertical_cylinder(roi_num=4, radius=3, length=0.2,\n",
    "                                             offset_x=0, offset_z=-0.5,\n",
    "                                             spacing=slice_spacing)\n",
    "    # cylinder bordering primary cylinder\n",
    "    bordering_cylinder2 = make_vertical_cylinder(roi_num=4, radius=3, length=0.2,\n",
    "                                             offset_x=0, offset_z=0.4,\n",
    "                                             spacing=slice_spacing)\n",
    "    # combine the contours\n",
    "    slice_data = pd.concat([body, primary_cylinder, left_hole, right_hole,\n",
    "                            confines_cylinder, surrounds_cylinder,\n",
    "                            bordering_cylinder1, bordering_cylinder2])\n",
    "    # convert contour slice data into a table of slices and structures\n",
    "    slice_table = make_slice_table(slice_data, ignore_errors=True)\n",
    "    return slice_table\n"
   ]
  },
  {
   "cell_type": "markdown",
   "metadata": {},
   "source": [
    "#### Embedded boxes\n",
    "\n",
    "![ContainsCubes](ContainsCubes.png)"
   ]
  },
  {
   "cell_type": "code",
   "execution_count": 8,
   "metadata": {},
   "outputs": [],
   "source": [
    "def embedded_boxes():\n",
    "    slice_spacing = 0.5\n",
    "    # Body structure defines slices in use\n",
    "    body = make_vertical_cylinder(roi_num=0, radius=20, length=30, offset_z=-15,\n",
    "                                spacing=slice_spacing)\n",
    "    # embedded boxes\n",
    "    cube6 = make_box(roi_num=1, width=6, spacing=slice_spacing)\n",
    "    cube3 = make_box(roi_num=2, width=3, offset_z=0, spacing=slice_spacing)\n",
    "    # combine the contours\n",
    "    slice_data = pd.concat([cube6, cube3, body])\n",
    "    # convert contour slice data into a table of slices and structures\n",
    "    slice_table = make_slice_table(slice_data, ignore_errors=True)\n",
    "    return slice_table"
   ]
  },
  {
   "cell_type": "markdown",
   "metadata": {},
   "source": [
    "#### Bordering Cylinders\n",
    "- Identify the boundary slices of the Primary and the neighbouring slice(s) that do not have a primary.\n",
    "- For each of these neighbouring slices, if the slice has a Secondary contour, select that Secondary slice.\n",
    "\n",
    "![Bordering cylinders](FreeCAD_Scripts/BorderingCylinders.png)"
   ]
  },
  {
   "cell_type": "code",
   "execution_count": 11,
   "metadata": {},
   "outputs": [],
   "source": [
    "def bordering_cylinders():\n",
    "    slice_spacing = 0.1\n",
    "    # Body structure defines slices in use\n",
    "    body = make_vertical_cylinder(roi_num=0, radius=12, length=1.1, offset_z=-0.5,\n",
    "                                  spacing=slice_spacing)\n",
    "    # Centred cylinder with two embedded cylinders\n",
    "    primary_cylinder = make_vertical_cylinder(roi_num=1, radius=5, length=0.7,\n",
    "                                              offset_z=-0.3,\n",
    "                                              spacing=slice_spacing)\n",
    "    # cylinder bordering primary cylinder\n",
    "    bordering_cylinder1 = make_vertical_cylinder(roi_num=4, radius=3, length=0.2,\n",
    "                                             offset_x=0, offset_z=-0.5,\n",
    "                                             spacing=slice_spacing)\n",
    "    # cylinder bordering primary cylinder\n",
    "    bordering_cylinder2 = make_vertical_cylinder(roi_num=4, radius=3, length=0.2,\n",
    "                                             offset_x=0, offset_z=0.4,\n",
    "                                             spacing=slice_spacing)\n",
    "    # combine the contours\n",
    "    slice_data = pd.concat([body, primary_cylinder, bordering_cylinder1,\n",
    "                            bordering_cylinder2])\n",
    "    # convert contour slice data into a table of slices and structures\n",
    "    slice_table = make_slice_table(slice_data, ignore_errors=True)\n",
    "    return slice_table\n"
   ]
  },
  {
   "cell_type": "markdown",
   "metadata": {},
   "source": [
    "#### Partition Cylinders\n",
    "- Identify the boundary slices of the Primary and the neighbouring slice(s) that do not have a primary.\n",
    "- For each of these neighbouring slices, if the slice does not have a Secondary contour, but there is a Secondary contour on the same slice as the Primary boundary, select that Secondary slice.\n"
   ]
  },
  {
   "cell_type": "code",
   "execution_count": 12,
   "metadata": {},
   "outputs": [],
   "source": [
    "def partitions_cylinder():\n",
    "    slice_spacing = 0.1\n",
    "    # Body structure defines slices in use\n",
    "    body = make_vertical_cylinder(roi_num=0, radius=12, length=1.1, offset_z=-0.5,\n",
    "                                  spacing=slice_spacing)\n",
    "    # Centred cylinder with two embedded cylinders\n",
    "    primary_cylinder = make_vertical_cylinder(roi_num=1, radius=5, length=0.7,\n",
    "                                              offset_z=-0.3,\n",
    "                                              spacing=slice_spacing)\n",
    "    # cylinder with interior borders\n",
    "    partitioning_cylinder = make_vertical_cylinder(roi_num=3, radius=3, length=0.7,\n",
    "                                             offset_x=0, offset_z=-0.3,\n",
    "                                             spacing=slice_spacing)\n",
    "\n",
    "    # combine the contours\n",
    "    slice_data = pd.concat([body, primary_cylinder, partitioning_cylinder])\n",
    "    # convert contour slice data into a table of slices and structures\n",
    "    slice_table = make_slice_table(slice_data, ignore_errors=True)\n",
    "    return slice_table\n"
   ]
  },
  {
   "cell_type": "code",
   "execution_count": 13,
   "metadata": {},
   "outputs": [],
   "source": [
    "def overlapping_cylinder():\n",
    "    slice_spacing = 0.1\n",
    "    # Body structure defines slices in use\n",
    "    body = make_vertical_cylinder(roi_num=0, radius=12, length=1.1, offset_z=-0.5,\n",
    "                                  spacing=slice_spacing)\n",
    "    # Centred cylinder with two embedded cylinders\n",
    "    primary_cylinder = make_vertical_cylinder(roi_num=1, radius=5, length=0.7,\n",
    "                                              offset_z=-0.3,\n",
    "                                              spacing=slice_spacing)\n",
    "    # cylinder with interior borders\n",
    "    overlapping_cylinder = make_vertical_cylinder(roi_num=5, radius=3, length=0.9,\n",
    "                                             offset_x=0, offset_z=-0.3,\n",
    "                                             spacing=slice_spacing)\n",
    "\n",
    "    # combine the contours\n",
    "    slice_data = pd.concat([body, primary_cylinder, overlapping_cylinder])\n",
    "    # convert contour slice data into a table of slices and structures\n",
    "    slice_table = make_slice_table(slice_data, ignore_errors=True)\n",
    "    return slice_table\n"
   ]
  },
  {
   "cell_type": "code",
   "execution_count": 14,
   "metadata": {},
   "outputs": [],
   "source": [
    "def cylinders():\n",
    "    slice_spacing = 0.1\n",
    "    # Body structure defines slices in use\n",
    "    body = make_vertical_cylinder(roi_num=0, radius=12, length=1.1,\n",
    "                                  offset_z=-0.5,\n",
    "                                  spacing=slice_spacing)\n",
    "    # Centred cylinder\n",
    "    primary_cylinder = make_vertical_cylinder(roi_num=1, radius=5, length=0.7,\n",
    "                                              offset_z=-0.3,\n",
    "                                              spacing=slice_spacing)\n",
    "    # cylinder within primary\n",
    "    contained_cylinder = make_vertical_cylinder(roi_num=2, radius=3, length=0.5,\n",
    "                                             offset_x=0, offset_z=-0.2,\n",
    "                                             spacing=slice_spacing)\n",
    "    # cylinder with matching borders\n",
    "    partitioning_cylinder = make_vertical_cylinder(roi_num=3, radius=3, length=0.7,\n",
    "                                             offset_x=0, offset_z=-0.3,\n",
    "                                             spacing=slice_spacing)\n",
    "    # cylinder bordering primary cylinder\n",
    "    bordering_cylinder1 = make_vertical_cylinder(roi_num=4, radius=3, length=0.2,\n",
    "                                             offset_x=0, offset_z=-0.5,\n",
    "                                             spacing=slice_spacing)\n",
    "    # cylinder bordering primary cylinder\n",
    "    bordering_cylinder2 = make_vertical_cylinder(roi_num=4, radius=3, length=0.2,\n",
    "                                             offset_x=0, offset_z=0.4,\n",
    "                                             spacing=slice_spacing)\n",
    "    # cylinder overlapping positive\n",
    "    overlapping_cylinder = make_vertical_cylinder(roi_num=5, radius=3, length=0.8,\n",
    "                                             offset_x=0, offset_z=-0.3,\n",
    "                                             spacing=slice_spacing)\n",
    "    # combine the contours\n",
    "    slice_data = pd.concat([body, primary_cylinder, contained_cylinder,\n",
    "                            partitioning_cylinder,\n",
    "                            bordering_cylinder1, bordering_cylinder2,\n",
    "                            overlapping_cylinder])\n",
    "    # convert contour slice data into a table of slices and structures\n",
    "    slice_table = make_slice_table(slice_data, ignore_errors=True)\n",
    "    return slice_table\n"
   ]
  },
  {
   "cell_type": "code",
   "execution_count": 15,
   "metadata": {},
   "outputs": [],
   "source": [
    "slice_table = cylinders()\n",
    "region_table = make_region_table(slice_table)\n"
   ]
  },
  {
   "cell_type": "code",
   "execution_count": 16,
   "metadata": {},
   "outputs": [],
   "source": [
    "selected_roi = [1, 5]\n"
   ]
  },
  {
   "cell_type": "code",
   "execution_count": 17,
   "metadata": {
    "notebookRunGroups": {
     "groupValue": "2"
    }
   },
   "outputs": [],
   "source": [
    "holes = region_table.map(is_hole).apply(any)\n",
    "structure_regions = region_table.loc[:,~holes][selected_roi]\n",
    "structure_boundaries = find_boundary_slices(structure_regions)\n"
   ]
  },
  {
   "cell_type": "code",
   "execution_count": 18,
   "metadata": {},
   "outputs": [],
   "source": [
    "poly_a, poly_b = selected_roi\n"
   ]
  },
  {
   "cell_type": "markdown",
   "metadata": {},
   "source": [
    "- For each boundary slice of the Primary ROI identify the neighbouring slice(s) that do not have a primary.\n"
   ]
  },
  {
   "cell_type": "code",
   "execution_count": 19,
   "metadata": {},
   "outputs": [],
   "source": [
    "# Slices that have both primary and secondary structures.\n",
    "s_p = slice_table.map(empty_structure, invert=True)[selected_roi]\n",
    "s_p = s_p.apply(all, axis='columns')\n",
    "\n",
    "# slices that have the secondary structure but not the primary structure.\n",
    "s_not_p = slice_table.map(empty_structure)[selected_roi].copy()\n",
    "s_not_p[poly_b] = ~s_not_p[poly_b]\n",
    "s_not_p = s_not_p.apply(all, axis='columns')\n",
    "\n",
    "# slices that are boundaries of the primary structure.\n",
    "primary_b = structure_boundaries[poly_a].copy()\n"
   ]
  },
  {
   "cell_type": "code",
   "execution_count": 20,
   "metadata": {},
   "outputs": [],
   "source": [
    "def match_slice(primary_b: pd.Series, sp: pd.Series, selected_roi, shift_dir: int):\n",
    "    poly_a, poly_b = selected_roi\n",
    "    n1 = sp & primary_b.shift(shift_dir)\n",
    "    b1 = n1.index.to_series().shift(shift_dir)[n1]\n",
    "    b1.name=poly_a\n",
    "    b1 = b1.reset_index()\n",
    "    b1.columns = [poly_b, poly_a]\n",
    "    return b1\n"
   ]
  },
  {
   "cell_type": "markdown",
   "metadata": {},
   "source": [
    "- If the neighbouring slice has a Secondary contour, select that Secondary slice.\n",
    "\t"
   ]
  },
  {
   "cell_type": "code",
   "execution_count": 21,
   "metadata": {},
   "outputs": [],
   "source": [
    "\n",
    "bp = match_slice(primary_b, s_not_p, selected_roi, 1)\n",
    "bn = match_slice(primary_b, s_not_p, selected_roi, -1)\n"
   ]
  },
  {
   "cell_type": "markdown",
   "metadata": {},
   "source": [
    "- If the slice does not have a Secondary contour, but there is a Secondary contour on the same slice as the Primary boundary, select that Secondary slice."
   ]
  },
  {
   "cell_type": "code",
   "execution_count": 22,
   "metadata": {},
   "outputs": [],
   "source": [
    "b0 = match_slice(primary_b, s_p, selected_roi, 0)\n"
   ]
  },
  {
   "cell_type": "code",
   "execution_count": 23,
   "metadata": {},
   "outputs": [
    {
     "data": {
      "text/html": [
       "<div>\n",
       "<style scoped>\n",
       "    .dataframe tbody tr th:only-of-type {\n",
       "        vertical-align: middle;\n",
       "    }\n",
       "\n",
       "    .dataframe tbody tr th {\n",
       "        vertical-align: top;\n",
       "    }\n",
       "\n",
       "    .dataframe thead th {\n",
       "        text-align: right;\n",
       "    }\n",
       "</style>\n",
       "<table border=\"1\" class=\"dataframe\">\n",
       "  <thead>\n",
       "    <tr style=\"text-align: right;\">\n",
       "      <th></th>\n",
       "      <th>5</th>\n",
       "      <th>1</th>\n",
       "    </tr>\n",
       "  </thead>\n",
       "  <tbody>\n",
       "  </tbody>\n",
       "</table>\n",
       "</div>"
      ],
      "text/plain": [
       "Empty DataFrame\n",
       "Columns: [5, 1]\n",
       "Index: []"
      ]
     },
     "execution_count": 23,
     "metadata": {},
     "output_type": "execute_result"
    }
   ],
   "source": [
    "bn"
   ]
  },
  {
   "cell_type": "code",
   "execution_count": 24,
   "metadata": {},
   "outputs": [
    {
     "data": {
      "text/html": [
       "<div>\n",
       "<style scoped>\n",
       "    .dataframe tbody tr th:only-of-type {\n",
       "        vertical-align: middle;\n",
       "    }\n",
       "\n",
       "    .dataframe tbody tr th {\n",
       "        vertical-align: top;\n",
       "    }\n",
       "\n",
       "    .dataframe thead th {\n",
       "        text-align: right;\n",
       "    }\n",
       "</style>\n",
       "<table border=\"1\" class=\"dataframe\">\n",
       "  <thead>\n",
       "    <tr style=\"text-align: right;\">\n",
       "      <th></th>\n",
       "      <th>HasContour(1)</th>\n",
       "      <th>HasContour(5)</th>\n",
       "      <th>IsBoundary(1)</th>\n",
       "      <th>IsBoundary(5)</th>\n",
       "    </tr>\n",
       "  </thead>\n",
       "  <tbody>\n",
       "    <tr>\n",
       "      <th>-0.5</th>\n",
       "      <td>False</td>\n",
       "      <td>False</td>\n",
       "      <td>False</td>\n",
       "      <td>False</td>\n",
       "    </tr>\n",
       "    <tr>\n",
       "      <th>-0.4</th>\n",
       "      <td>False</td>\n",
       "      <td>False</td>\n",
       "      <td>False</td>\n",
       "      <td>False</td>\n",
       "    </tr>\n",
       "    <tr>\n",
       "      <th>-0.3</th>\n",
       "      <td>True</td>\n",
       "      <td>True</td>\n",
       "      <td>True</td>\n",
       "      <td>True</td>\n",
       "    </tr>\n",
       "    <tr>\n",
       "      <th>-0.2</th>\n",
       "      <td>True</td>\n",
       "      <td>True</td>\n",
       "      <td>False</td>\n",
       "      <td>False</td>\n",
       "    </tr>\n",
       "    <tr>\n",
       "      <th>-0.1</th>\n",
       "      <td>True</td>\n",
       "      <td>True</td>\n",
       "      <td>False</td>\n",
       "      <td>False</td>\n",
       "    </tr>\n",
       "    <tr>\n",
       "      <th>0.0</th>\n",
       "      <td>True</td>\n",
       "      <td>True</td>\n",
       "      <td>False</td>\n",
       "      <td>False</td>\n",
       "    </tr>\n",
       "    <tr>\n",
       "      <th>0.1</th>\n",
       "      <td>True</td>\n",
       "      <td>True</td>\n",
       "      <td>False</td>\n",
       "      <td>False</td>\n",
       "    </tr>\n",
       "    <tr>\n",
       "      <th>0.2</th>\n",
       "      <td>True</td>\n",
       "      <td>True</td>\n",
       "      <td>False</td>\n",
       "      <td>False</td>\n",
       "    </tr>\n",
       "    <tr>\n",
       "      <th>0.3</th>\n",
       "      <td>True</td>\n",
       "      <td>True</td>\n",
       "      <td>True</td>\n",
       "      <td>False</td>\n",
       "    </tr>\n",
       "    <tr>\n",
       "      <th>0.4</th>\n",
       "      <td>False</td>\n",
       "      <td>True</td>\n",
       "      <td>False</td>\n",
       "      <td>True</td>\n",
       "    </tr>\n",
       "    <tr>\n",
       "      <th>0.5</th>\n",
       "      <td>False</td>\n",
       "      <td>False</td>\n",
       "      <td>False</td>\n",
       "      <td>False</td>\n",
       "    </tr>\n",
       "  </tbody>\n",
       "</table>\n",
       "</div>"
      ],
      "text/plain": [
       "      HasContour(1)  HasContour(5)  IsBoundary(1)  IsBoundary(5)\n",
       "-0.5          False          False          False          False\n",
       "-0.4          False          False          False          False\n",
       "-0.3           True           True           True           True\n",
       "-0.2           True           True          False          False\n",
       "-0.1           True           True          False          False\n",
       " 0.0           True           True          False          False\n",
       " 0.1           True           True          False          False\n",
       " 0.2           True           True          False          False\n",
       " 0.3           True           True           True          False\n",
       " 0.4          False           True          False           True\n",
       " 0.5          False          False          False          False"
      ]
     },
     "execution_count": 24,
     "metadata": {},
     "output_type": "execute_result"
    }
   ],
   "source": [
    "selected_roi = [1, 5]\n",
    "a = slice_table.map(empty_structure, invert=True)[selected_roi]\n",
    "a.columns = [f'HasContour({roi})' for roi in selected_roi]\n",
    "b = structure_boundaries[selected_roi]\n",
    "b.columns = [f'IsBoundary({roi})' for roi in selected_roi]\n",
    "pd.concat([a, b], axis='columns')"
   ]
  },
  {
   "cell_type": "markdown",
   "metadata": {},
   "source": [
    "# Question\n",
    "- Slice 0.4 is a boundary for #5, and is a neighbour to the boundary for #1.\n",
    "- Will it get the relation wrong if I test it as a boundary for both #1 and #5?\n",
    "> Probably not, because regular relations are also tested  for slice 0.4.  \n",
    "> For 0.4, #5 will be external to #1.\n"
   ]
  },
  {
   "cell_type": "code",
   "execution_count": 25,
   "metadata": {},
   "outputs": [
    {
     "name": "stdout",
     "output_type": "stream",
     "text": [
      "|000|\t|000|\t|000|\n",
      "|000|\t|000|\t|000|\n",
      "|111|\t|111|\t|111|\n",
      "\n"
     ]
    }
   ],
   "source": [
    "# Slice range = Min(starting slice) to Max(ending slice)\n",
    "selected_slices = select_slices(slice_table, selected_roi)\n",
    "# Send all slices with both Primary and Secondary contours for standard\n",
    "# relation testing\n",
    "mid_relations = selected_slices.agg(relate_structures,\n",
    "                                    structures=selected_roi,\n",
    "                                    axis='columns')\n",
    "mid_relations.name = 'DE27IM'\n",
    "print(mid_relations[0.4])"
   ]
  },
  {
   "cell_type": "code",
   "execution_count": 30,
   "metadata": {},
   "outputs": [
    {
     "name": "stdout",
     "output_type": "stream",
     "text": [
      "|111|\t|111|\t|111|\n",
      "|001|\t|001|\t|001|\n",
      "|111|\t|111|\t|111|\n",
      "\n"
     ]
    }
   ],
   "source": [
    "print(merged_relations(mid_relations))"
   ]
  },
  {
   "attachments": {
    "image.png": {
     "image/png": "[encoded data removed]"
    }
   },
   "cell_type": "markdown",
   "metadata": {},
   "source": [
    "![image.png](attachment:image.png)"
   ]
  },
  {
   "cell_type": "code",
   "execution_count": 96,
   "metadata": {},
   "outputs": [],
   "source": [
    "# Slice range = Min(starting slice) to Max(ending slice)\n",
    "selected_slices = select_slices(slice_table, selected_roi)\n",
    "# Send all slices with both Primary and Secondary contours for standard\n",
    "# relation testing\n",
    "mid_relations = selected_slices.agg(relate_structures,\n",
    "                                    structures=selected_roi,\n",
    "                                    axis='columns')\n",
    "mid_relations.name = 'DE27IM'\n",
    "#mid_relations"
   ]
  },
  {
   "cell_type": "markdown",
   "metadata": {},
   "source": [
    "#### Confines Cylinders\n",
    "- Identify the boundary slices of the Primary and the neighbouring slice(s) that do not have a primary.\n",
    "- For each of these neighbouring slices, if the slice does not have a Secondary contour, but there is a Secondary contour on the same slice as the Primary boundary, select that Secondary slice.\n",
    "\n",
    "  \n",
    "![Confines cylinder](FreeCAD_Scripts/confines_cylinder.png)"
   ]
  },
  {
   "cell_type": "markdown",
   "metadata": {},
   "source": [
    "\n",
    "\n",
    "5. Match hole boundary slices for boundary tests:\n",
    "   - For each hole boundary slice of the Primary ROI, if the slice has a Secondary contour, select that contour for comparison.\n",
    "   - If the slice does not have a Secondary contour, identify the neighbouring slice that also has a hole.\n",
    "   - If the neighbouring slice has a Secondary contour, select that contour.\n",
    "   - If the neighbouring slice does not have a Secondary contour, boundary testing is not required.\n",
    "\n",
    "\n",
    "  "
   ]
  },
  {
   "cell_type": "code",
   "execution_count": 1,
   "metadata": {},
   "outputs": [],
   "source": [
    "def confines_cylinder():\n",
    "    slice_spacing = 0.1\n",
    "    # Body structure defines slices in use\n",
    "    body = make_vertical_cylinder(roi_num=0, radius=12, length=1.1, offset_z=-0.5,\n",
    "                                  spacing=slice_spacing)\n",
    "    # Centred cylinder with two embedded cylinders\n",
    "    primary_cylinder = make_vertical_cylinder(roi_num=1, radius=5, length=0.7,\n",
    "                                              offset_z=-0.3,\n",
    "                                              spacing=slice_spacing)\n",
    "    left_hole = make_vertical_cylinder(roi_num=1, radius=2, length=0.5,\n",
    "                                       offset_x=-2.5, offset_z=-0.2,\n",
    "                                       spacing=slice_spacing)\n",
    "    right_hole = make_vertical_cylinder(roi_num=1, radius=2, length=0.5,\n",
    "                                       offset_x=2.5, offset_z=-0.2,\n",
    "                                       spacing=slice_spacing)\n",
    "    # cylinder with interior borders\n",
    "    confines_cylinder = make_vertical_cylinder(roi_num=2, radius=1, length=0.5,\n",
    "                                             offset_x=2.5, offset_z=-0.2,\n",
    "                                             spacing=slice_spacing)\n",
    "\n",
    "    # combine the contours\n",
    "    slice_data = pd.concat([body, primary_cylinder, left_hole, right_hole,\n",
    "                            confines_cylinder])\n",
    "    # convert contour slice data into a table of slices and structures\n",
    "    slice_table = make_slice_table(slice_data, ignore_errors=True)\n",
    "    return slice_table\n"
   ]
  },
  {
   "cell_type": "markdown",
   "metadata": {},
   "source": [
    "#### Concentric cylinders ending on the same slice.\n",
    "\n",
    "<img src=\"Images\\Boundaries\\PartitionInf3D.png\" alt=\"PartitionInf3D\" style=\"height:50px;\">\n",
    "<img src=\"Images\\Boundaries\\PartitionInf2D.png\" alt=\"PartitionInf2D\" style=\"height:30px;\">"
   ]
  },
  {
   "cell_type": "code",
   "execution_count": 26,
   "metadata": {},
   "outputs": [],
   "source": [
    "def concentric_cylinders_same_end():\n",
    "    slice_spacing = 0.1\n",
    "    # Body structure defines slices in use\n",
    "    body = make_vertical_cylinder(roi_num=0, radius=10, length=1, offset_z=-0.5,\n",
    "                                  spacing=slice_spacing)\n",
    "    # Concentric cylinders ending on the same slice\n",
    "    primary_cylinder = make_vertical_cylinder(roi_num=1, radius=2, length=0.7,\n",
    "                                              offset_z=-0.3,\n",
    "                                              spacing=slice_spacing)\n",
    "    inf_partition = make_vertical_cylinder(roi_num=3, radius=1, length=0.4,\n",
    "                                           offset_z=0, spacing=slice_spacing)\n",
    "    # combine the contours\n",
    "    slice_data = pd.concat([body, primary_cylinder, inf_partition])\n",
    "    # convert contour slice data into a table of slices and structures\n",
    "    slice_table = make_slice_table(slice_data, ignore_errors=True)\n",
    "    return slice_table\n",
    "\n",
    "\n",
    "#print(find_relationship(concentric_cylinders_same_end(), [1, 3]))\n"
   ]
  },
  {
   "cell_type": "markdown",
   "metadata": {},
   "source": [
    "- Concentric cylinders starting and ending on the same slice.\n",
    "\n",
    "<img src=\"Images\\Boundaries\\Partition3D.png\" alt=\"PartitionInf3D\" style=\"height:50px;\">\n",
    "<img src=\"Images\\Boundaries\\Partition2D.png\" alt=\"PartitionInf2D\" style=\"height:30px;\">"
   ]
  },
  {
   "cell_type": "code",
   "execution_count": 27,
   "metadata": {},
   "outputs": [],
   "source": [
    "def concentric_cylinders_same_height():\n",
    "    slice_spacing = 0.1\n",
    "    # Body structure defines slices in use\n",
    "    body = make_vertical_cylinder(roi_num=0, radius=10, length=1, offset_z=-0.5,\n",
    "                                  spacing=slice_spacing)\n",
    "    # Concentric cylinders starting and ending on the same slice\n",
    "    primary_cylinder = make_vertical_cylinder(roi_num=1, radius=2, length=0.7,\n",
    "                                              offset_z=-0.3,\n",
    "                                              spacing=slice_spacing)\n",
    "    mid_partition = make_vertical_cylinder(roi_num=4, radius=1, length=0.7,\n",
    "                                           offset_z=-0.3,\n",
    "                                           spacing=slice_spacing)\n",
    "    # combine the contours\n",
    "    slice_data = pd.concat([body, primary_cylinder, mid_partition])\n",
    "    # convert contour slice data into a table of slices and structures\n",
    "    slice_table = make_slice_table(slice_data, ignore_errors=True)\n",
    "    return slice_table\n",
    "\n",
    "\n",
    "#print(find_relationship(concentric_cylinders_same_height(), [1, 4]))\n"
   ]
  },
  {
   "cell_type": "markdown",
   "metadata": {},
   "source": [
    "### Exterior Borders\n",
    "  - Primary: Central Cylinder\n",
    "    - Secondary: one of:\n",
    "      - SUP Cylinder\n",
    "      - INF Cylinder\n",
    "      - Combined SUP & INF cylinders in one structure with single slice gap at the SUP/INF boundary of the central cylinder.\n",
    "\n",
    "      \n",
    "![Exterior Border SUP](Images/Boundaries/ExteriorBorders2D_SUP.png)\n",
    "![Exterior Border INF](Images/Boundaries/ExteriorBorders2D_INF.png)"
   ]
  },
  {
   "cell_type": "code",
   "execution_count": 28,
   "metadata": {},
   "outputs": [],
   "source": [
    "def stacked_cylinders():\n",
    "    slice_spacing = 0.1\n",
    "    # Body structure defines slices in use\n",
    "    body = make_vertical_cylinder(roi_num=0, radius=10, length=1, offset_z=-0.5,\n",
    "                                  spacing=slice_spacing)\n",
    "    # Two concentric cylinders different z offsets\n",
    "    outside_cylinder = make_vertical_cylinder(roi_num=5, radius=2, length=0.4,\n",
    "                                              offset_z=-0.4,\n",
    "                                              spacing=slice_spacing)\n",
    "    inside_cylinder = make_vertical_cylinder(roi_num=6, radius=1, length=0.4,\n",
    "                                             offset_z=0, spacing=slice_spacing)\n",
    "    # combine the contours\n",
    "    slice_data = pd.concat([body, outside_cylinder, inside_cylinder])\n",
    "    # convert contour slice data into a table of slices and structures\n",
    "    slice_table = make_slice_table(slice_data, ignore_errors=True)\n",
    "    return slice_table\n",
    "\n",
    "\n",
    "#print(find_relationship(stacked_cylinders(), [5, 6]))\n"
   ]
  },
  {
   "attachments": {
    "image-2.png": {
     "image/png": "[encoded data removed]"
    },
    "image.png": {
     "image/png": "[encoded data removed]"
    }
   },
   "cell_type": "markdown",
   "metadata": {},
   "source": [
    "### Interior Borders\n",
    "  - Primary: Central Cylinder\n",
    "  - Concentric shorter hole in the center of the primary cylinder\n",
    "  - Secondary same height as hole but narrower\n",
    "  - Interior borders at the and bottom of hole.\n",
    "  \n",
    "![image.png](attachment:image.png)\n",
    "![image-2.png](attachment:image-2.png)"
   ]
  },
  {
   "cell_type": "code",
   "execution_count": 29,
   "metadata": {},
   "outputs": [],
   "source": [
    "def embedded_cylinder():\n",
    "    slice_spacing = 0.1\n",
    "    # Body structure defines slices in use\n",
    "    body = make_vertical_cylinder(roi_num=0, radius=10, length=1, offset_z=-0.5,\n",
    "                                  spacing=slice_spacing)\n",
    "    primary_cylinder = make_vertical_cylinder(roi_num=9, radius=4, length=0.7,\n",
    "                                              offset_z=-0.3,\n",
    "                                              spacing=slice_spacing)\n",
    "    center_hole = make_vertical_cylinder(roi_num=9, radius=2, length=0.5,\n",
    "                                         offset_z=-0.2, spacing=slice_spacing)\n",
    "    # Two concentric cylinders different z offsets\n",
    "    middle_cylinder = make_vertical_cylinder(roi_num=10, radius=1, length=0.5,\n",
    "                                             offset_z=-0.2,\n",
    "                                             spacing=slice_spacing)\n",
    "    reference = make_vertical_cylinder(roi_num=11, radius=2, length=0.5,\n",
    "                                         offset_z=-0.2, spacing=slice_spacing)\n",
    "    # combine the contours\n",
    "    slice_data = pd.concat([body, primary_cylinder, center_hole, middle_cylinder, reference])\n",
    "    # convert contour slice data into a table of slices and structures\n",
    "    slice_table = make_slice_table(slice_data, ignore_errors=True)\n",
    "    return slice_table\n",
    "\n",
    "\n",
    "#print(find_relationship(embedded_cylinder(), [9, 10]))\n"
   ]
  },
  {
   "cell_type": "markdown",
   "metadata": {},
   "source": [
    "- The `boundary_match` and `match_neighbour_slices` functions will need to be updated to include the hole boundary tests.\n",
    "  - For hole boundaries, select the neighboring slice (s) that *DO* have a hole contour.\n",
    "  - The Secondary slice selection works as usual."
   ]
  },
  {
   "cell_type": "code",
   "execution_count": 30,
   "metadata": {},
   "outputs": [],
   "source": [
    "def dual_embedded_cylinder():\n",
    "    slice_spacing = 0.1\n",
    "    # Body structure defines slices in use\n",
    "    body = make_vertical_cylinder(roi_num=0, radius=12, length=1, offset_z=-0.5,\n",
    "                                  spacing=slice_spacing)\n",
    "    primary_cylinder = make_vertical_cylinder(roi_num=1, radius=5, length=0.7,\n",
    "                                              offset_z=-0.3,\n",
    "                                              spacing=slice_spacing)\n",
    "    left_hole = make_vertical_cylinder(roi_num=1, radius=2, length=0.5,\n",
    "                                       offset_x=-2.5, offset_z=-0.2,\n",
    "                                       spacing=slice_spacing)\n",
    "    right_hole = make_vertical_cylinder(roi_num=1, radius=2, length=0.5,\n",
    "                                       offset_x=2.5, offset_z=-0.2,\n",
    "                                       spacing=slice_spacing)\n",
    "    # Two concentric cylinders different z offsets\n",
    "    middle_cylinder = make_vertical_cylinder(roi_num=2, radius=1, length=0.5,\n",
    "                                             offset_x=2.5, offset_z=-0.2,\n",
    "                                             spacing=slice_spacing)\n",
    "\n",
    "    # combine the contours\n",
    "    slice_data = pd.concat([body, primary_cylinder, left_hole, right_hole, middle_cylinder])\n",
    "    # convert contour slice data into a table of slices and structures\n",
    "    slice_table = make_slice_table(slice_data, ignore_errors=True)\n",
    "    return slice_table\n",
    "\n",
    "\n",
    "#print(find_relationship(dual_embedded_cylinder(), [1, 2]))\n"
   ]
  },
  {
   "cell_type": "code",
   "execution_count": null,
   "metadata": {},
   "outputs": [],
   "source": [
    "def overlapping_cylinders():\n",
    "    slice_spacing = 0.5\n",
    "    slice_spacing = 0.1\n",
    "    # Body structure defines slices in use\n",
    "    body = make_vertical_cylinder(roi_num=0, radius=10, length=1, offset_z=-0.5,\n",
    "                                  spacing=slice_spacing)\n",
    "    # Two overlapping cylinders\n",
    "    top_cylinder = make_vertical_cylinder(roi_num=7, radius=2, length=0.4, offset_z=-0.3, spacing=slice_spacing)\n",
    "    bottom_cylinder = make_vertical_cylinder(roi_num=8, radius=2, length=0.4, offset_z=0, spacing=slice_spacing)\n",
    "   # combine the contours\n",
    "    slice_data = pd.concat([top_cylinder, bottom_cylinder, body])\n",
    "    # convert contour slice data into a table of slices and structures\n",
    "    slice_table = make_slice_table(slice_data, ignore_errors=True)\n",
    "    return slice_table\n",
    "\n",
    "\n",
    "#print(find_relationship(overlapping_cylinders(), [7, 8]))\n"
   ]
  },
  {
   "cell_type": "markdown",
   "metadata": {},
   "source": [
    "# More Tests Needed"
   ]
  },
  {
   "cell_type": "markdown",
   "metadata": {},
   "source": [
    "  - Single Primary slice with circular contour.\n",
    "    - Secondary: one of:\n",
    "      - SUP Cylinder\n",
    "      - INF Cylinder\n",
    "      - Combined SUP & INF Cylinders in one structure with single slice gap at level of the primary slice. \n",
    "- **Partition**\n",
    "  - Concentric cylinders ending on the same slice.\n",
    "  - Concentric cylinders starting on the same slice\n",
    "  - Primary: Central Cylinder\n",
    "    - Single Secondary slice with circular contour on the SUP/INF slice of the Primary cylinder.\n",
    "  - Single Primary slice with circular contour\n",
    "    - Secondary: one of:\n",
    "      - SUP Cylinder ending on the same slice.\n",
    "      - INF Cylinder ending on the same slice.\n",
    "- **CONTAINS**\n",
    "  - Concentric cylinders with interior cylinder ending inside the exterior cylinder by one slice\n",
    "**OVERLAPS**\n",
    "  - Concentric cylinders with interior cylinder ending outside the exterior cylinder by one slice\n",
    "  - Concentric cylinders with interior cylinder consisting of single slice ending inside the exterior cylinder by one slice\n"
   ]
  },
  {
   "cell_type": "markdown",
   "metadata": {},
   "source": [
    "  - Primary: Central Cylinder\n",
    "    - Secondary: one of:\n",
    "      - SUP Cylinder\n",
    "      - INF Cylinder\n",
    "      - Combined SUP & INF cylinders in one structure with single slice gap at the SUP/INF boundary of the central cylinder.\n",
    "  - Single Primary slice with circular contour.\n",
    "    - Secondary: one of:\n",
    "      - SUP Cylinder\n",
    "      - INF Cylinder\n",
    "      - Combined SUP & INF Cylinders in one structure with single slice gap at level of the primary slice. \n"
   ]
  }
 ],
 "metadata": {
  "kernelspec": {
   "display_name": "StructureRelations",
   "language": "python",
   "name": "python3"
  },
  "language_info": {
   "codemirror_mode": {
    "name": "ipython",
    "version": 3
   },
   "file_extension": ".py",
   "mimetype": "text/x-python",
   "name": "python",
   "nbconvert_exporter": "python",
   "pygments_lexer": "ipython3",
   "version": "3.11.9"
  }
 },
 "nbformat": 4,
 "nbformat_minor": 2
}
