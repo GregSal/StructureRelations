{
 "cells": [
  {
   "cell_type": "markdown",
   "metadata": {},
   "source": [
    "# Boundary Relation Tests"
   ]
  },
  {
   "cell_type": "markdown",
   "metadata": {},
   "source": [
    "## Setup"
   ]
  },
  {
   "cell_type": "markdown",
   "metadata": {},
   "source": [
    "### Imports"
   ]
  },
  {
   "cell_type": "code",
   "execution_count": 1,
   "metadata": {},
   "outputs": [],
   "source": [
    "# Shared Packages\n",
    "import pandas as pd\n",
    "\n",
    "# Local functions and classes\n",
    "from types_and_classes import *\n",
    "from utilities import *\n",
    "from debug_tools import *\n",
    "from structure_slice import *\n",
    "from metrics import *\n",
    "from relations import *"
   ]
  },
  {
   "cell_type": "markdown",
   "metadata": {},
   "source": [
    "### Global Settings"
   ]
  },
  {
   "cell_type": "code",
   "execution_count": 2,
   "metadata": {},
   "outputs": [],
   "source": [
    "PRECISION = 2\n"
   ]
  },
  {
   "cell_type": "code",
   "execution_count": 3,
   "metadata": {},
   "outputs": [],
   "source": [
    "%matplotlib inline"
   ]
  },
  {
   "cell_type": "markdown",
   "metadata": {},
   "source": [
    "## Boundary Check process\n",
    "1. Build slice table (index= slice, columns = ROI, Data= StructureSlice)\n",
    "2. Select Primary & Secondary ROI\n",
    "\t- Slice range = Min(starting slice) to Max(ending slice)\n",
    "3. Send all slices with both Primary and Secondary contours for standard relation testing \n",
    "4. Identify the boundary slices of the Primary and Secondary ROI\n",
    "    - Boundary slices are slices that have a contour, but one of their neighbouring slices do not have a contour.\n",
    "5. For each boundary slice of the Primary ROI identify the neighbouring slice(s) that do not have a primary.\n",
    "6. For each of these neighbouring slices select a Secondary slice for boundary tests:\n",
    "\t- If the slice has a Secondary contour, select that Secondary slice.\n",
    "\t- If the slice does not have a Secondary contour, but there is a Secondary contour on the same slice as the Primary boundary, select that Secondary slice.\n",
    "\t- If neither the neighbouring slice nor the same slice as the Primary boundary have a Secondary contour, do not select a Secondary slice. Boundary testing is not required.\n",
    "7. Test the relation between the boundary Primary and the selected Secondary.\n",
    "8. Apply a Primary boundary shift to the relation results.\n",
    "9. If the selected Secondary is also a Secondary boundary, apply a Secondary boundary shift as well.\n",
    "10. Merge all results and reduce to single relation"
   ]
  },
  {
   "cell_type": "markdown",
   "metadata": {},
   "source": [
    "## Test structures\n"
   ]
  },
  {
   "cell_type": "markdown",
   "metadata": {},
   "source": [
    "#### Concentric cylinders starting on the same slice\n",
    "  \n",
    "<img src=\"Images\\Boundaries\\PartitionSup3D.png\" alt=\"PartitionSup3D\" style=\"height:50px;\">\n",
    "<img src=\"Images\\Boundaries\\PartitionSup2D.png\" alt=\"PartitionSup2D\" style=\"height:30px;\">"
   ]
  },
  {
   "cell_type": "code",
   "execution_count": 4,
   "metadata": {},
   "outputs": [],
   "source": [
    "def concentric_cylinders_same_start():\n",
    "    slice_spacing = 0.1\n",
    "    # Body structure defines slices in use\n",
    "    body = make_vertical_cylinder(roi_num=0, radius=10, length=1, offset_z=-0.5,\n",
    "                                  spacing=slice_spacing)\n",
    "    # Concentric cylinders starting on the same slice\n",
    "    primary_cylinder = make_vertical_cylinder(roi_num=1, radius=2, length=0.7,\n",
    "                                              offset_z=-0.3,\n",
    "                                              spacing=slice_spacing)\n",
    "    sup_partition = make_vertical_cylinder(roi_num=2, radius=1, length=0.4,\n",
    "                                           offset_z=-0.3,\n",
    "                                           spacing=slice_spacing)\n",
    "    # combine the contours\n",
    "    slice_data = pd.concat([body, primary_cylinder, sup_partition])\n",
    "    # convert contour slice data into a table of slices and structures\n",
    "    slice_table = make_slice_table(slice_data, ignore_errors=True)\n",
    "    return slice_table\n"
   ]
  },
  {
   "cell_type": "code",
   "execution_count": 5,
   "metadata": {},
   "outputs": [],
   "source": [
    "#Build slice table (index= slice, columns = ROI, Data= StructureSlice)\n",
    "slice_table = concentric_cylinders_same_start()"
   ]
  },
  {
   "cell_type": "code",
   "execution_count": 6,
   "metadata": {},
   "outputs": [],
   "source": [
    "# Select Primary & Secondary ROI\n",
    "selected_roi = [1,2]\n",
    "# Slice range = Min(starting slice) to Max(ending slice)\n",
    "selected_slices = select_slices(slice_table, selected_roi)\n"
   ]
  },
  {
   "cell_type": "code",
   "execution_count": 7,
   "metadata": {},
   "outputs": [
    {
     "ename": "AttributeError",
     "evalue": "'float' object has no attribute 'contour'",
     "output_type": "error",
     "traceback": [
      "\u001b[1;31m---------------------------------------------------------------------------\u001b[0m",
      "\u001b[1;31mAttributeError\u001b[0m                            Traceback (most recent call last)",
      "Cell \u001b[1;32mIn[7], line 2\u001b[0m\n\u001b[0;32m      1\u001b[0m \u001b[38;5;66;03m# Send all slices with both Primary and Secondary contours for standard relation testing\u001b[39;00m\n\u001b[1;32m----> 2\u001b[0m relation_seq \u001b[38;5;241m=\u001b[39m selected_slices\u001b[38;5;241m.\u001b[39magg(relate_structures, structures\u001b[38;5;241m=\u001b[39mselected_roi,\n\u001b[0;32m      3\u001b[0m                                   axis\u001b[38;5;241m=\u001b[39m\u001b[38;5;241m1\u001b[39m)\n\u001b[0;32m      4\u001b[0m relation_seq\u001b[38;5;241m.\u001b[39mname \u001b[38;5;241m=\u001b[39m \u001b[38;5;124m'\u001b[39m\u001b[38;5;124mDE9IM\u001b[39m\u001b[38;5;124m'\u001b[39m\n",
      "File \u001b[1;32md:\\.conda\\envs\\StructureRelations\\Lib\\site-packages\\pandas\\core\\frame.py:10149\u001b[0m, in \u001b[0;36mDataFrame.aggregate\u001b[1;34m(self, func, axis, *args, **kwargs)\u001b[0m\n\u001b[0;32m  10146\u001b[0m axis \u001b[38;5;241m=\u001b[39m \u001b[38;5;28mself\u001b[39m\u001b[38;5;241m.\u001b[39m_get_axis_number(axis)\n\u001b[0;32m  10148\u001b[0m op \u001b[38;5;241m=\u001b[39m frame_apply(\u001b[38;5;28mself\u001b[39m, func\u001b[38;5;241m=\u001b[39mfunc, axis\u001b[38;5;241m=\u001b[39maxis, args\u001b[38;5;241m=\u001b[39margs, kwargs\u001b[38;5;241m=\u001b[39mkwargs)\n\u001b[1;32m> 10149\u001b[0m result \u001b[38;5;241m=\u001b[39m op\u001b[38;5;241m.\u001b[39magg()\n\u001b[0;32m  10150\u001b[0m result \u001b[38;5;241m=\u001b[39m reconstruct_and_relabel_result(result, func, \u001b[38;5;241m*\u001b[39m\u001b[38;5;241m*\u001b[39mkwargs)\n\u001b[0;32m  10151\u001b[0m \u001b[38;5;28;01mreturn\u001b[39;00m result\n",
      "File \u001b[1;32md:\\.conda\\envs\\StructureRelations\\Lib\\site-packages\\pandas\\core\\apply.py:937\u001b[0m, in \u001b[0;36mFrameApply.agg\u001b[1;34m(self)\u001b[0m\n\u001b[0;32m    934\u001b[0m     result \u001b[38;5;241m=\u001b[39m result\u001b[38;5;241m.\u001b[39mT \u001b[38;5;28;01mif\u001b[39;00m result \u001b[38;5;129;01mis\u001b[39;00m \u001b[38;5;129;01mnot\u001b[39;00m \u001b[38;5;28;01mNone\u001b[39;00m \u001b[38;5;28;01melse\u001b[39;00m result\n\u001b[0;32m    936\u001b[0m \u001b[38;5;28;01mif\u001b[39;00m result \u001b[38;5;129;01mis\u001b[39;00m \u001b[38;5;28;01mNone\u001b[39;00m:\n\u001b[1;32m--> 937\u001b[0m     result \u001b[38;5;241m=\u001b[39m \u001b[38;5;28mself\u001b[39m\u001b[38;5;241m.\u001b[39mobj\u001b[38;5;241m.\u001b[39mapply(\u001b[38;5;28mself\u001b[39m\u001b[38;5;241m.\u001b[39mfunc, axis, args\u001b[38;5;241m=\u001b[39m\u001b[38;5;28mself\u001b[39m\u001b[38;5;241m.\u001b[39margs, \u001b[38;5;241m*\u001b[39m\u001b[38;5;241m*\u001b[39m\u001b[38;5;28mself\u001b[39m\u001b[38;5;241m.\u001b[39mkwargs)\n\u001b[0;32m    939\u001b[0m \u001b[38;5;28;01mreturn\u001b[39;00m result\n",
      "File \u001b[1;32md:\\.conda\\envs\\StructureRelations\\Lib\\site-packages\\pandas\\core\\frame.py:10374\u001b[0m, in \u001b[0;36mDataFrame.apply\u001b[1;34m(self, func, axis, raw, result_type, args, by_row, engine, engine_kwargs, **kwargs)\u001b[0m\n\u001b[0;32m  10360\u001b[0m \u001b[38;5;28;01mfrom\u001b[39;00m \u001b[38;5;21;01mpandas\u001b[39;00m\u001b[38;5;21;01m.\u001b[39;00m\u001b[38;5;21;01mcore\u001b[39;00m\u001b[38;5;21;01m.\u001b[39;00m\u001b[38;5;21;01mapply\u001b[39;00m \u001b[38;5;28;01mimport\u001b[39;00m frame_apply\n\u001b[0;32m  10362\u001b[0m op \u001b[38;5;241m=\u001b[39m frame_apply(\n\u001b[0;32m  10363\u001b[0m     \u001b[38;5;28mself\u001b[39m,\n\u001b[0;32m  10364\u001b[0m     func\u001b[38;5;241m=\u001b[39mfunc,\n\u001b[1;32m   (...)\u001b[0m\n\u001b[0;32m  10372\u001b[0m     kwargs\u001b[38;5;241m=\u001b[39mkwargs,\n\u001b[0;32m  10373\u001b[0m )\n\u001b[1;32m> 10374\u001b[0m \u001b[38;5;28;01mreturn\u001b[39;00m op\u001b[38;5;241m.\u001b[39mapply()\u001b[38;5;241m.\u001b[39m__finalize__(\u001b[38;5;28mself\u001b[39m, method\u001b[38;5;241m=\u001b[39m\u001b[38;5;124m\"\u001b[39m\u001b[38;5;124mapply\u001b[39m\u001b[38;5;124m\"\u001b[39m)\n",
      "File \u001b[1;32md:\\.conda\\envs\\StructureRelations\\Lib\\site-packages\\pandas\\core\\apply.py:916\u001b[0m, in \u001b[0;36mFrameApply.apply\u001b[1;34m(self)\u001b[0m\n\u001b[0;32m    913\u001b[0m \u001b[38;5;28;01melif\u001b[39;00m \u001b[38;5;28mself\u001b[39m\u001b[38;5;241m.\u001b[39mraw:\n\u001b[0;32m    914\u001b[0m     \u001b[38;5;28;01mreturn\u001b[39;00m \u001b[38;5;28mself\u001b[39m\u001b[38;5;241m.\u001b[39mapply_raw(engine\u001b[38;5;241m=\u001b[39m\u001b[38;5;28mself\u001b[39m\u001b[38;5;241m.\u001b[39mengine, engine_kwargs\u001b[38;5;241m=\u001b[39m\u001b[38;5;28mself\u001b[39m\u001b[38;5;241m.\u001b[39mengine_kwargs)\n\u001b[1;32m--> 916\u001b[0m \u001b[38;5;28;01mreturn\u001b[39;00m \u001b[38;5;28mself\u001b[39m\u001b[38;5;241m.\u001b[39mapply_standard()\n",
      "File \u001b[1;32md:\\.conda\\envs\\StructureRelations\\Lib\\site-packages\\pandas\\core\\apply.py:1063\u001b[0m, in \u001b[0;36mFrameApply.apply_standard\u001b[1;34m(self)\u001b[0m\n\u001b[0;32m   1061\u001b[0m \u001b[38;5;28;01mdef\u001b[39;00m \u001b[38;5;21mapply_standard\u001b[39m(\u001b[38;5;28mself\u001b[39m):\n\u001b[0;32m   1062\u001b[0m     \u001b[38;5;28;01mif\u001b[39;00m \u001b[38;5;28mself\u001b[39m\u001b[38;5;241m.\u001b[39mengine \u001b[38;5;241m==\u001b[39m \u001b[38;5;124m\"\u001b[39m\u001b[38;5;124mpython\u001b[39m\u001b[38;5;124m\"\u001b[39m:\n\u001b[1;32m-> 1063\u001b[0m         results, res_index \u001b[38;5;241m=\u001b[39m \u001b[38;5;28mself\u001b[39m\u001b[38;5;241m.\u001b[39mapply_series_generator()\n\u001b[0;32m   1064\u001b[0m     \u001b[38;5;28;01melse\u001b[39;00m:\n\u001b[0;32m   1065\u001b[0m         results, res_index \u001b[38;5;241m=\u001b[39m \u001b[38;5;28mself\u001b[39m\u001b[38;5;241m.\u001b[39mapply_series_numba()\n",
      "File \u001b[1;32md:\\.conda\\envs\\StructureRelations\\Lib\\site-packages\\pandas\\core\\apply.py:1081\u001b[0m, in \u001b[0;36mFrameApply.apply_series_generator\u001b[1;34m(self)\u001b[0m\n\u001b[0;32m   1078\u001b[0m \u001b[38;5;28;01mwith\u001b[39;00m option_context(\u001b[38;5;124m\"\u001b[39m\u001b[38;5;124mmode.chained_assignment\u001b[39m\u001b[38;5;124m\"\u001b[39m, \u001b[38;5;28;01mNone\u001b[39;00m):\n\u001b[0;32m   1079\u001b[0m     \u001b[38;5;28;01mfor\u001b[39;00m i, v \u001b[38;5;129;01min\u001b[39;00m \u001b[38;5;28menumerate\u001b[39m(series_gen):\n\u001b[0;32m   1080\u001b[0m         \u001b[38;5;66;03m# ignore SettingWithCopy here in case the user mutates\u001b[39;00m\n\u001b[1;32m-> 1081\u001b[0m         results[i] \u001b[38;5;241m=\u001b[39m \u001b[38;5;28mself\u001b[39m\u001b[38;5;241m.\u001b[39mfunc(v, \u001b[38;5;241m*\u001b[39m\u001b[38;5;28mself\u001b[39m\u001b[38;5;241m.\u001b[39margs, \u001b[38;5;241m*\u001b[39m\u001b[38;5;241m*\u001b[39m\u001b[38;5;28mself\u001b[39m\u001b[38;5;241m.\u001b[39mkwargs)\n\u001b[0;32m   1082\u001b[0m         \u001b[38;5;28;01mif\u001b[39;00m \u001b[38;5;28misinstance\u001b[39m(results[i], ABCSeries):\n\u001b[0;32m   1083\u001b[0m             \u001b[38;5;66;03m# If we have a view on v, we need to make a copy because\u001b[39;00m\n\u001b[0;32m   1084\u001b[0m             \u001b[38;5;66;03m#  series_generator will swap out the underlying data\u001b[39;00m\n\u001b[0;32m   1085\u001b[0m             results[i] \u001b[38;5;241m=\u001b[39m results[i]\u001b[38;5;241m.\u001b[39mcopy(deep\u001b[38;5;241m=\u001b[39m\u001b[38;5;28;01mFalse\u001b[39;00m)\n",
      "File \u001b[1;32mD:\\OneDrive - Queen's University\\Python\\Projects\\StructureRelations\\src\\relations.py:316\u001b[0m, in \u001b[0;36mrelate_structures\u001b[1;34m(slice_structures, structures)\u001b[0m\n\u001b[0;32m    314\u001b[0m structure \u001b[38;5;241m=\u001b[39m slice_structures[structures[\u001b[38;5;241m0\u001b[39m]]\n\u001b[0;32m    315\u001b[0m other_contour \u001b[38;5;241m=\u001b[39m slice_structures[structures[\u001b[38;5;241m1\u001b[39m]]\n\u001b[1;32m--> 316\u001b[0m binary_relation \u001b[38;5;241m=\u001b[39m relate_contours(structure, other_contour)\n\u001b[0;32m    317\u001b[0m \u001b[38;5;28;01mreturn\u001b[39;00m binary_relation\n",
      "File \u001b[1;32mD:\\OneDrive - Queen's University\\Python\\Projects\\StructureRelations\\src\\relations.py:281\u001b[0m, in \u001b[0;36mrelate_contours\u001b[1;34m(contour1, contour2)\u001b[0m\n\u001b[0;32m    278\u001b[0m     relation_bool \u001b[38;5;241m=\u001b[39m relation_str\u001b[38;5;241m.\u001b[39mreplace(\u001b[38;5;124m'\u001b[39m\u001b[38;5;124mF\u001b[39m\u001b[38;5;124m'\u001b[39m,\u001b[38;5;124m'\u001b[39m\u001b[38;5;124m0\u001b[39m\u001b[38;5;124m'\u001b[39m)\u001b[38;5;241m.\u001b[39mreplace(\u001b[38;5;124m'\u001b[39m\u001b[38;5;124m2\u001b[39m\u001b[38;5;124m'\u001b[39m,\u001b[38;5;124m'\u001b[39m\u001b[38;5;124m1\u001b[39m\u001b[38;5;124m'\u001b[39m)\n\u001b[0;32m    279\u001b[0m     \u001b[38;5;28;01mreturn\u001b[39;00m relation_bool\n\u001b[1;32m--> 281\u001b[0m primary_relation \u001b[38;5;241m=\u001b[39m compare(contour1\u001b[38;5;241m.\u001b[39mcontour, contour2\u001b[38;5;241m.\u001b[39mcontour)\n\u001b[0;32m    282\u001b[0m external_relation \u001b[38;5;241m=\u001b[39m compare(contour1\u001b[38;5;241m.\u001b[39mexterior, contour2\u001b[38;5;241m.\u001b[39mcontour)\n\u001b[0;32m    283\u001b[0m convex_hull_relation \u001b[38;5;241m=\u001b[39m compare(contour1\u001b[38;5;241m.\u001b[39mhull, contour2\u001b[38;5;241m.\u001b[39mcontour)\n",
      "\u001b[1;31mAttributeError\u001b[0m: 'float' object has no attribute 'contour'"
     ]
    }
   ],
   "source": [
    "# Send all slices with both Primary and Secondary contours for standard relation testing\n",
    "relation_seq = selected_slices.agg(relate_structures, structures=selected_roi,\n",
    "                                  axis=1)\n",
    "relation_seq.name = 'DE9IM'"
   ]
  },
  {
   "cell_type": "code",
   "execution_count": null,
   "metadata": {},
   "outputs": [],
   "source": [
    "# Identify the boundary slices of the Primary and Secondary ROI\n",
    "# Boundary slices are slices that have a contour, but one of their neighbouring slices do not have a contour.\n",
    "roi_a, roi_b = selected_roi\n",
    "primary_boundaries = find_boundary_slices(slice_table[roi_a])\n",
    "secondary_boundaries = find_boundary_slices(slice_table[roi_b])"
   ]
  },
  {
   "cell_type": "code",
   "execution_count": null,
   "metadata": {},
   "outputs": [],
   "source": [
    "# For each boundary slice of the Primary ROI identify the neighbouring\n",
    "# slice(s) that do not have a primary.\n",
    "slice_index = slice_table.index.to_frame()\n",
    "# Select all slices that do not contain a contour for the Primary ROI\n",
    "no_contour_idx = slice_table[roi_a].apply(empty_structure)\n",
    "slice_index[~no_contour_idx] = np.nan\n",
    "# Identify the previous and next slice for each boundary slice that do not have\n",
    "# a primary contour\n",
    "previous_slice = slice_index.shift(1)[primary_boundaries].dropna()\n",
    "next_slice = slice_index.shift(-1)[primary_boundaries].dropna()"
   ]
  },
  {
   "cell_type": "code",
   "execution_count": null,
   "metadata": {},
   "outputs": [],
   "source": []
  },
  {
   "cell_type": "code",
   "execution_count": null,
   "metadata": {},
   "outputs": [],
   "source": [
    "# create a mask for the slices that contain the structure\n",
    "primary_slices = ~structure_slices\n",
    "# Identify the slices that contain the structure but have a neighbouring\n",
    "# slice that does not contain the structure.\n",
    "start = used_slices & (used_slices ^ used_slices.shift(1))\n",
    "end = used_slices & (used_slices ^ used_slices.shift(-1))\n",
    "# Combine the start and end slices to create a list of boundary slices.\n",
    "start_slices = list(structure_slices[start].index)\n",
    "end_slices = list(structure_slices[end].index)\n",
    "boundaries = start_slices + end_slices\n",
    "return boundaries"
   ]
  },
  {
   "cell_type": "code",
   "execution_count": null,
   "metadata": {},
   "outputs": [],
   "source": [
    "\n",
    "\n",
    "neighbour_rows = pd.concat([slice_table[roi_a].shift(1),\n",
    "                            slice_table[roi_a].shift(-1)], axis='columns')\n",
    "# Convert empty StructureSlice to NaN.\n",
    "neighbour_rows.apply(empty_structure)] = np.NaN\n",
    "next_row[next_row.apply(empty_structure)] = np.NaN\n",
    "        # Combine the neighbouring secondary slices\n",
    "        neighbouring_secondary = prev_row.combine_first(next_row)\n",
    "        # Include only rows where roi_a has a value\n",
    "        has_primary = structure_slices[roi_a].notna()\n",
    "        neighbouring_secondary = neighbouring_secondary[has_primary]\n",
    "        # Pair the neighbouring secondary slices with the primary slices from\n",
    "        # the selected rows\n",
    "        paired_slices = pd.DataFrame({\n",
    "            roi_a: structure_slices.loc[selected_rows, roi_a],\n",
    "            roi_b: neighbouring_secondary.loc[selected_rows]\n",
    "            }).dropna()"
   ]
  },
  {
   "cell_type": "code",
   "execution_count": null,
   "metadata": {},
   "outputs": [],
   "source": [
    "# For each of these neighbouring slices select a Secondary slice for boundary tests:\n",
    "#\t- If the slice has a Secondary contour, select that Secondary slice.\n",
    "#\t- If the slice does not have a Secondary contour, but there is a Secondary\n",
    "#      contour on the same slice as the Primary boundary, select that Secondary slice.\n",
    "#\t- If neither the neighbouring slice nor the same slice as the Primary\n",
    "#      boundary have a Secondary contour, do not select a Secondary slice.\n",
    "#      Boundary testing is not required.\n"
   ]
  },
  {
   "cell_type": "code",
   "execution_count": null,
   "metadata": {},
   "outputs": [],
   "source": [
    "# Test the relation between the boundary Primary and the selected Secondary.\n",
    "# Apply a Primary boundary shift to the relation results.\n",
    "# If the selected Secondary is also a Secondary boundary, apply a Secondary\n",
    "#   boundary shift as well.\n",
    "# Merge all results and reduce to single relation"
   ]
  },
  {
   "cell_type": "code",
   "execution_count": null,
   "metadata": {},
   "outputs": [],
   "source": [
    "\n",
    "print(find_relationship(concentric_cylinders_same_start(), [1, 2]))\n"
   ]
  },
  {
   "cell_type": "markdown",
   "metadata": {},
   "source": [
    "### Body Structure"
   ]
  },
  {
   "cell_type": "code",
   "execution_count": 63,
   "metadata": {},
   "outputs": [],
   "source": [
    "slice_spacing = 0.1\n",
    "# Body structure defines slices in use\n",
    "body = make_vertical_cylinder(roi_num=0, radius=10, length=1,\n",
    "                                         offset_z=-0.5, spacing=slice_spacing)\n"
   ]
  },
  {
   "cell_type": "markdown",
   "metadata": {},
   "source": [
    "### Partition\n"
   ]
  },
  {
   "cell_type": "code",
   "execution_count": 64,
   "metadata": {},
   "outputs": [],
   "source": [
    "# Two concentric cylinders different z offsets\n",
    "primary_cylinder = make_vertical_cylinder(roi_num=1, radius=2, length=0.7,\n",
    "                                         offset_z=-0.3, spacing=slice_spacing)\n"
   ]
  },
  {
   "cell_type": "markdown",
   "metadata": {},
   "source": [
    "  - Concentric cylinders starting on the same slice\n",
    "  \n",
    "<img src=\"Images\\Boundaries\\PartitionSup3D.png\" alt=\"PartitionSup3D\" style=\"height:50px;\">\n",
    "<img src=\"Images\\Boundaries\\PartitionSup2D.png\" alt=\"PartitionSup2D\" style=\"height:30px;\">"
   ]
  },
  {
   "cell_type": "code",
   "execution_count": 65,
   "metadata": {},
   "outputs": [],
   "source": [
    "sup_partition = make_vertical_cylinder(roi_num=2, radius=1, length=0.4,\n",
    "                                         offset_z=-0.3, spacing=slice_spacing)\n"
   ]
  },
  {
   "cell_type": "markdown",
   "metadata": {},
   "source": [
    "- Concentric cylinders ending on the same slice.\n",
    "\n",
    "<img src=\"Images\\Boundaries\\PartitionInf3D.png\" alt=\"PartitionInf3D\" style=\"height:50px;\">\n",
    "<img src=\"Images\\Boundaries\\PartitionInf2D.png\" alt=\"PartitionInf2D\" style=\"height:30px;\">"
   ]
  },
  {
   "cell_type": "code",
   "execution_count": 66,
   "metadata": {},
   "outputs": [],
   "source": [
    "inf_partition = make_vertical_cylinder(roi_num=3, radius=1, length=0.4,\n",
    "                                         offset_z=0, spacing=slice_spacing)\n"
   ]
  },
  {
   "cell_type": "markdown",
   "metadata": {},
   "source": [
    "- Concentric cylinders starting and ending on the same slice.\n",
    "\n",
    "<img src=\"Images\\Boundaries\\Partition3D.png\" alt=\"PartitionInf3D\" style=\"height:50px;\">\n",
    "<img src=\"Images\\Boundaries\\Partition2D.png\" alt=\"PartitionInf2D\" style=\"height:30px;\">"
   ]
  },
  {
   "cell_type": "code",
   "execution_count": 67,
   "metadata": {},
   "outputs": [],
   "source": [
    "\n",
    "mid_partition = make_vertical_cylinder(roi_num=4, radius=1, length=0.7,\n",
    "                                         offset_z=-0.3, spacing=slice_spacing)\n"
   ]
  },
  {
   "cell_type": "markdown",
   "metadata": {},
   "source": [
    "### Exterior Borders\n",
    "  - Primary: Central Cylinder\n",
    "    - Secondary: one of:\n",
    "      - SUP Cylinder\n",
    "      - INF Cylinder\n",
    "      - Combined SUP & INF cylinders in one structure with single slice gap at the SUP/INF boundary of the central cylinder.\n",
    "\n",
    "      \n",
    "![Exterior Border SUP](Images/Boundaries/ExteriorBorders2D_SUP.png)\n",
    "![Exterior Border INF](Images/Boundaries/ExteriorBorders2D_INF.png)"
   ]
  },
  {
   "cell_type": "code",
   "execution_count": 68,
   "metadata": {},
   "outputs": [],
   "source": [
    "# Two concentric cylinders different z offsets\n",
    "outside_cylinder = make_vertical_cylinder(roi_num=5, radius=2, length=0.4,\n",
    "                                         offset_z=-0.4, spacing=slice_spacing)\n",
    "inside_cylinder = make_vertical_cylinder(roi_num=6, radius=1, length=0.4,\n",
    "                                         offset_z=0, spacing=slice_spacing)\n"
   ]
  },
  {
   "cell_type": "code",
   "execution_count": null,
   "metadata": {},
   "outputs": [],
   "source": [
    "# combine the contours\n",
    "slice_data = pd.concat([body, primary_cylinder, sup_partition,\n",
    "                        inf_partition, mid_partition,\n",
    "                        outside_cylinder, inside_cylinder])\n",
    "\n",
    "# convert contour slice data into a table of slices and structures\n",
    "slice_table = make_slice_table(slice_data, ignore_errors=True)"
   ]
  },
  {
   "cell_type": "code",
   "execution_count": 70,
   "metadata": {},
   "outputs": [
    {
     "name": "stderr",
     "output_type": "stream",
     "text": [
      "C:\\Users\\smoke\\AppData\\Local\\Temp\\ipykernel_19644\\3514096742.py:5: FutureWarning: The behavior of array concatenation with empty entries is deprecated. In a future version, this will no longer exclude empty items when determining the result dtype. To retain the old behavior, exclude the empty entries before the concat operation.\n",
      "  all_relations = pd.concat([mid_relations,\n"
     ]
    },
    {
     "data": {
      "text/plain": [
       "<RelationshipType.PARTITION: 7>"
      ]
     },
     "execution_count": 70,
     "metadata": {},
     "output_type": "execute_result"
    }
   ],
   "source": [
    "selected_roi = [1, 2]\n",
    "relation = process_relations(slice_table, selected_roi)\n",
    "relation"
   ]
  },
  {
   "cell_type": "code",
   "execution_count": 71,
   "metadata": {},
   "outputs": [
    {
     "name": "stderr",
     "output_type": "stream",
     "text": [
      "C:\\Users\\smoke\\AppData\\Local\\Temp\\ipykernel_19644\\3514096742.py:5: FutureWarning: The behavior of array concatenation with empty entries is deprecated. In a future version, this will no longer exclude empty items when determining the result dtype. To retain the old behavior, exclude the empty entries before the concat operation.\n",
      "  all_relations = pd.concat([mid_relations,\n"
     ]
    },
    {
     "data": {
      "text/plain": [
       "<RelationshipType.PARTITION: 7>"
      ]
     },
     "execution_count": 71,
     "metadata": {},
     "output_type": "execute_result"
    }
   ],
   "source": [
    "selected_roi = [1, 3]\n",
    "relation = process_relations(slice_table, selected_roi)\n",
    "relation\n"
   ]
  },
  {
   "cell_type": "code",
   "execution_count": 72,
   "metadata": {},
   "outputs": [
    {
     "name": "stderr",
     "output_type": "stream",
     "text": [
      "C:\\Users\\smoke\\AppData\\Local\\Temp\\ipykernel_19644\\3514096742.py:5: FutureWarning: The behavior of array concatenation with empty entries is deprecated. In a future version, this will no longer exclude empty items when determining the result dtype. To retain the old behavior, exclude the empty entries before the concat operation.\n",
      "  all_relations = pd.concat([mid_relations,\n"
     ]
    },
    {
     "data": {
      "text/plain": [
       "<RelationshipType.PARTITION: 7>"
      ]
     },
     "execution_count": 72,
     "metadata": {},
     "output_type": "execute_result"
    }
   ],
   "source": [
    "selected_roi = [1, 4]\n",
    "relation = process_relations(slice_table, selected_roi)\n",
    "relation\n"
   ]
  },
  {
   "cell_type": "code",
   "execution_count": 73,
   "metadata": {},
   "outputs": [
    {
     "name": "stderr",
     "output_type": "stream",
     "text": [
      "C:\\Users\\smoke\\AppData\\Local\\Temp\\ipykernel_19644\\3514096742.py:5: FutureWarning: The behavior of array concatenation with empty entries is deprecated. In a future version, this will no longer exclude empty items when determining the result dtype. To retain the old behavior, exclude the empty entries before the concat operation.\n",
      "  all_relations = pd.concat([mid_relations,\n"
     ]
    },
    {
     "data": {
      "text/plain": [
       "<RelationshipType.BORDERS: 4>"
      ]
     },
     "execution_count": 73,
     "metadata": {},
     "output_type": "execute_result"
    }
   ],
   "source": [
    "selected_roi = [5, 6]\n",
    "relation = process_relations(slice_table, selected_roi)\n",
    "relation\n"
   ]
  },
  {
   "cell_type": "markdown",
   "metadata": {},
   "source": [
    "# More Tests Needed"
   ]
  },
  {
   "cell_type": "markdown",
   "metadata": {},
   "source": [
    "  - Single Primary slice with circular contour.\n",
    "    - Secondary: one of:\n",
    "      - SUP Cylinder\n",
    "      - INF Cylinder\n",
    "      - Combined SUP & INF Cylinders in one structure with single slice gap at level of the primary slice. \n",
    "- **Partition**\n",
    "  - Concentric cylinders ending on the same slice.\n",
    "  - Concentric cylinders starting on the same slice\n",
    "  - Primary: Central Cylinder\n",
    "    - Single Secondary slice with circular contour on the SUP/INF slice of the Primary cylinder.\n",
    "  - Single Primary slice with circular contour\n",
    "    - Secondary: one of:\n",
    "      - SUP Cylinder ending on the same slice.\n",
    "      - INF Cylinder ending on the same slice.\n",
    "- **CONTAINS**\n",
    "  - Concentric cylinders with interior cylinder ending inside the exterior cylinder by one slice\n",
    "**OVERLAPS**\n",
    "  - Concentric cylinders with interior cylinder ending outside the exterior cylinder by one slice\n",
    "  - Concentric cylinders with interior cylinder consisting of single slice ending inside the exterior cylinder by one slice\n"
   ]
  },
  {
   "cell_type": "markdown",
   "metadata": {},
   "source": [
    "  - Primary: Central Cylinder\n",
    "    - Secondary: one of:\n",
    "      - SUP Cylinder\n",
    "      - INF Cylinder\n",
    "      - Combined SUP & INF cylinders in one structure with single slice gap at the SUP/INF boundary of the central cylinder.\n",
    "  - Single Primary slice with circular contour.\n",
    "    - Secondary: one of:\n",
    "      - SUP Cylinder\n",
    "      - INF Cylinder\n",
    "      - Combined SUP & INF Cylinders in one structure with single slice gap at level of the primary slice. \n"
   ]
  }
 ],
 "metadata": {
  "kernelspec": {
   "display_name": "StructureRelations",
   "language": "python",
   "name": "python3"
  },
  "language_info": {
   "codemirror_mode": {
    "name": "ipython",
    "version": 3
   },
   "file_extension": ".py",
   "mimetype": "text/x-python",
   "name": "python",
   "nbconvert_exporter": "python",
   "pygments_lexer": "ipython3",
   "version": "3.11.9"
  }
 },
 "nbformat": 4,
 "nbformat_minor": 2
}
