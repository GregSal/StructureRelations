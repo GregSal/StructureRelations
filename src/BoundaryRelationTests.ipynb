{
 "cells": [
  {
   "cell_type": "markdown",
   "metadata": {},
   "source": [
    "# Boundary Relation Tests"
   ]
  },
  {
   "cell_type": "markdown",
   "metadata": {},
   "source": [
    "## Setup"
   ]
  },
  {
   "cell_type": "markdown",
   "metadata": {},
   "source": [
    "### Imports"
   ]
  },
  {
   "cell_type": "code",
   "execution_count": 61,
   "metadata": {},
   "outputs": [],
   "source": [
    "# Shared Packages\n",
    "import pandas as pd\n",
    "\n",
    "# Local functions and classes\n",
    "from types_and_classes import *\n",
    "from utilities import *\n",
    "from debug_tools import *\n",
    "from structure_slice import *\n",
    "from metrics import *\n",
    "from relations import *"
   ]
  },
  {
   "cell_type": "markdown",
   "metadata": {},
   "source": [
    "### Global Settings"
   ]
  },
  {
   "cell_type": "code",
   "execution_count": null,
   "metadata": {},
   "outputs": [],
   "source": [
    "PRECISION = 2"
   ]
  },
  {
   "cell_type": "code",
   "execution_count": 63,
   "metadata": {},
   "outputs": [],
   "source": [
    "%matplotlib inline"
   ]
  },
  {
   "cell_type": "markdown",
   "metadata": {},
   "source": [
    "## Boundary Check process\n",
    "1. Build slice table (index= slice, columns = ROI, Data= StructureSlice)\n",
    "2. Select Primary & Secondary ROI\n",
    "\t- Slice range = Min(starting slice) to Max(ending slice)\n",
    "3. Send all slices with both Primary and Secondary contours for standard relation testing \n",
    "4. Identify the boundary slices of the Primary and Secondary ROI\n",
    "    - Boundary slices are slices that have a contour, but one of their neighbouring slices do not have a contour.\n",
    "5. For each boundary slice of the Primary ROI identify the neighbouring slice(s) that do not have a primary.\n",
    "6. For each of these neighbouring slices select a Secondary slice for boundary tests:\n",
    "\t- If the slice has a Secondary contour, select that Secondary slice.\n",
    "\t- If the slice does not have a Secondary contour, but there is a Secondary contour on the same slice as the Primary boundary, select that Secondary slice.\n",
    "\t- If neither the neighbouring slice nor the same slice as the Primary boundary have a Secondary contour, do not select a Secondary slice. Boundary testing is not required.\n",
    "7. Test the relation between the boundary Primary and the selected Secondary.\n",
    "8. Apply a Primary boundary shift to the relation results.\n",
    "9. If the selected Secondary is also a Secondary boundary, apply a Secondary boundary shift as well.\n",
    "10. Merge all results and reduce to single relation"
   ]
  },
  {
   "cell_type": "markdown",
   "metadata": {},
   "source": [
    "## Test structures\n"
   ]
  },
  {
   "cell_type": "markdown",
   "metadata": {},
   "source": [
    "#### Concentric cylinders starting on the same slice\n",
    "  \n",
    "<img src=\"Images\\Boundaries\\PartitionSup3D.png\" alt=\"PartitionSup3D\" style=\"height:50px;\">\n",
    "<img src=\"Images\\Boundaries\\PartitionSup2D.png\" alt=\"PartitionSup2D\" style=\"height:30px;\">"
   ]
  },
  {
   "cell_type": "code",
   "execution_count": 64,
   "metadata": {},
   "outputs": [],
   "source": [
    "def concentric_cylinders_same_start():\n",
    "    slice_spacing = 0.1\n",
    "    # Body structure defines slices in use\n",
    "    body = make_vertical_cylinder(roi_num=0, radius=10, length=1, offset_z=-0.5,\n",
    "                                  spacing=slice_spacing)\n",
    "    # Concentric cylinders starting on the same slice\n",
    "    primary_cylinder = make_vertical_cylinder(roi_num=1, radius=2, length=0.7,\n",
    "                                              offset_z=-0.3,\n",
    "                                              spacing=slice_spacing)\n",
    "    sup_partition = make_vertical_cylinder(roi_num=2, radius=1, length=0.4,\n",
    "                                           offset_z=-0.3,\n",
    "                                           spacing=slice_spacing)\n",
    "    # combine the contours\n",
    "    slice_data = pd.concat([body, primary_cylinder, sup_partition])\n",
    "    # convert contour slice data into a table of slices and structures\n",
    "    slice_table = make_slice_table(slice_data, ignore_errors=True)\n",
    "    return slice_table\n"
   ]
  },
  {
   "cell_type": "code",
   "execution_count": 65,
   "metadata": {},
   "outputs": [],
   "source": [
    "#Build slice table (index= slice, columns = ROI, Data= StructureSlice)\n",
    "slice_table = concentric_cylinders_same_start()"
   ]
  },
  {
   "cell_type": "code",
   "execution_count": 66,
   "metadata": {},
   "outputs": [],
   "source": [
    "# Select Primary & Secondary ROI\n",
    "selected_roi = [1,2]\n",
    "# Slice range = Min(starting slice) to Max(ending slice)\n",
    "selected_slices = select_slices(slice_table, selected_roi)\n"
   ]
  },
  {
   "cell_type": "code",
   "execution_count": 67,
   "metadata": {},
   "outputs": [],
   "source": [
    "# Send all slices with both Primary and Secondary contours for standard relation testing\n",
    "relation_seq = selected_slices.agg(relate_structures, structures=selected_roi,\n",
    "                                  axis='columns')\n",
    "relation_seq.name = 'DE9IM'"
   ]
  },
  {
   "cell_type": "code",
   "execution_count": 115,
   "metadata": {},
   "outputs": [],
   "source": [
    "def match_neighbour_slices(slice_table, selected_roi):\n",
    "    # For each boundary slice of the Primary ROI identify the neighbouring\n",
    "    # slice(s) that do not have a primary.\n",
    "\n",
    "    def get_neighbour_slices(boundary_index, slice_index, shift_dir)->pd.DataFrame:\n",
    "        # Find the boundary neighbours\n",
    "        # Get the index of the previous slice\n",
    "        neighbour_slice = slice_index.shift(shift_dir)\n",
    "        # Select only the slices that are boundary slices of the primary ROI\n",
    "        neighbour_boundary_slices = neighbour_slice[boundary_index]\n",
    "        # Drop the neighbour slices that contain a primary contour\n",
    "        neighbour_boundary_slices.dropna(inplace=True)\n",
    "        # Reset the index to get the boundary slice number\n",
    "        neighbour_boundary_slices = neighbour_boundary_slices.reset_index()\n",
    "        neighbour_boundary_slices.columns = ['Boundary', 'Neighbour']\n",
    "        return neighbour_boundary_slices\n",
    "\n",
    "    def no_structure_idx(slice_table, roi_num):\n",
    "        # Create a series containing the slice index for slices that\n",
    "        # do NOT have a primary contour\n",
    "        no_contour_idx = slice_table.index.to_series(name='ROI_Index')\n",
    "        # Select all slices that do not contain a contour for the Primary ROI\n",
    "        missing_contour = slice_table[roi_num].apply(empty_structure)\n",
    "        # Remove the slice indexes that have a primary contour\n",
    "        no_contour_idx[~missing_contour] = np.nan\n",
    "        return no_contour_idx\n",
    "\n",
    "    primary, _ = selected_roi\n",
    "    primary_boundaries = find_boundary_slices(slice_table[primary])\n",
    "\n",
    "    # Get the slice index for slices that do NOT have a primary contour\n",
    "    no_primary_slice_index = no_structure_idx(slice_table, primary)\n",
    "\n",
    "    # Identify the previous and next slice for each boundary slice that do\n",
    "    # not have a primary contour\n",
    "    previous_slice = get_neighbour_slices(primary_boundaries,\n",
    "                                          no_primary_slice_index, shift_dir=-1)\n",
    "    next_slice = get_neighbour_slices(primary_boundaries,\n",
    "                                      no_primary_slice_index, shift_dir=1)\n",
    "    # Combine the previous and next slices\n",
    "    neighbouring_slices = pd.concat([previous_slice, next_slice],\n",
    "                                    ignore_index=True)\n",
    "    return neighbouring_slices"
   ]
  },
  {
   "cell_type": "code",
   "execution_count": 70,
   "metadata": {},
   "outputs": [],
   "source": [
    "primary, secondary = selected_roi\n"
   ]
  },
  {
   "cell_type": "code",
   "execution_count": 144,
   "metadata": {},
   "outputs": [],
   "source": [
    "matched_slices = match_neighbour_slices(slice_table, selected_roi)\n",
    "# If the slice has a Secondary contour, select that Secondary slice.\n",
    "matched_slices = matched_slices.merge(slice_table[secondary],\n",
    "                                      left_on='Neighbour',\n",
    "                                      right_index=True, how='left')\n",
    "#matched_slices.rename(columns={secondary:'Secondary'}, inplace=True)\n",
    "# If the slice does not have a Secondary contour, but there is a Secondary\n",
    "# contour on the same slice as the Primary boundary, select that\n",
    "# Secondary slice.\n",
    "same_slices = slice_table.loc[matched_slices.Boundary, secondary]\n",
    "same_slices.index = matched_slices.index\n",
    "no_neighbour = matched_slices[secondary].isnull()\n",
    "matched_slices.loc[no_neighbour, secondary] = same_slices[no_neighbour]\n",
    "\n",
    "\n",
    "# If neither the neighbouring slice nor the same slice as the Primary boundary\n",
    "# have a Secondary contour, do not select a Secondary slice.\n",
    "matched_slices.dropna(subset=[secondary], inplace=True)\n",
    "# Select the Primary slice for each pair of Primary and Secondary slices\n",
    "matched_slices = matched_slices.merge(slice_table[primary],\n",
    "                                      left_on='Boundary',\n",
    "                                      right_index=True, how='left')\n",
    "#matched_slices.rename(columns={primary:'Primary'}, inplace=True)\n",
    "matched_slices.drop(columns=['Boundary', 'Neighbour'], inplace=True)"
   ]
  },
  {
   "cell_type": "code",
   "execution_count": 150,
   "metadata": {},
   "outputs": [
    {
     "data": {
      "text/plain": [
       "1    120034249\n",
       "dtype: int64"
      ]
     },
     "execution_count": 150,
     "metadata": {},
     "output_type": "execute_result"
    }
   ],
   "source": [
    "# Test the relation between the boundary Primary and the selected Secondary.\n",
    "relation_seq = matched_slices.agg(relate_structures, structures=selected_roi,\n",
    "                                  axis='columns')\n",
    "relation_seq"
   ]
  },
  {
   "cell_type": "code",
   "execution_count": null,
   "metadata": {},
   "outputs": [],
   "source": [
    "# Apply a Primary boundary shift to the relation results.\n"
   ]
  },
  {
   "cell_type": "code",
   "execution_count": null,
   "metadata": {},
   "outputs": [],
   "source": [
    "# If the selected Secondary is also a Secondary boundary, apply a Secondary\n",
    "#   boundary shift as well.\n",
    "# Merge all results and reduce to single relation"
   ]
  },
  {
   "cell_type": "code",
   "execution_count": null,
   "metadata": {},
   "outputs": [],
   "source": [
    "\n",
    "print(find_relationship(concentric_cylinders_same_start(), [1, 2]))\n"
   ]
  },
  {
   "cell_type": "markdown",
   "metadata": {},
   "source": [
    "### Body Structure"
   ]
  },
  {
   "cell_type": "code",
   "execution_count": 63,
   "metadata": {},
   "outputs": [],
   "source": [
    "slice_spacing = 0.1\n",
    "# Body structure defines slices in use\n",
    "body = make_vertical_cylinder(roi_num=0, radius=10, length=1,\n",
    "                                         offset_z=-0.5, spacing=slice_spacing)\n"
   ]
  },
  {
   "cell_type": "markdown",
   "metadata": {},
   "source": [
    "### Partition\n"
   ]
  },
  {
   "cell_type": "code",
   "execution_count": 64,
   "metadata": {},
   "outputs": [],
   "source": [
    "# Two concentric cylinders different z offsets\n",
    "primary_cylinder = make_vertical_cylinder(roi_num=1, radius=2, length=0.7,\n",
    "                                         offset_z=-0.3, spacing=slice_spacing)\n"
   ]
  },
  {
   "cell_type": "markdown",
   "metadata": {},
   "source": [
    "  - Concentric cylinders starting on the same slice\n",
    "  \n",
    "<img src=\"Images\\Boundaries\\PartitionSup3D.png\" alt=\"PartitionSup3D\" style=\"height:50px;\">\n",
    "<img src=\"Images\\Boundaries\\PartitionSup2D.png\" alt=\"PartitionSup2D\" style=\"height:30px;\">"
   ]
  },
  {
   "cell_type": "code",
   "execution_count": 65,
   "metadata": {},
   "outputs": [],
   "source": [
    "sup_partition = make_vertical_cylinder(roi_num=2, radius=1, length=0.4,\n",
    "                                         offset_z=-0.3, spacing=slice_spacing)\n"
   ]
  },
  {
   "cell_type": "markdown",
   "metadata": {},
   "source": [
    "- Concentric cylinders ending on the same slice.\n",
    "\n",
    "<img src=\"Images\\Boundaries\\PartitionInf3D.png\" alt=\"PartitionInf3D\" style=\"height:50px;\">\n",
    "<img src=\"Images\\Boundaries\\PartitionInf2D.png\" alt=\"PartitionInf2D\" style=\"height:30px;\">"
   ]
  },
  {
   "cell_type": "code",
   "execution_count": 66,
   "metadata": {},
   "outputs": [],
   "source": [
    "inf_partition = make_vertical_cylinder(roi_num=3, radius=1, length=0.4,\n",
    "                                         offset_z=0, spacing=slice_spacing)\n"
   ]
  },
  {
   "cell_type": "markdown",
   "metadata": {},
   "source": [
    "- Concentric cylinders starting and ending on the same slice.\n",
    "\n",
    "<img src=\"Images\\Boundaries\\Partition3D.png\" alt=\"PartitionInf3D\" style=\"height:50px;\">\n",
    "<img src=\"Images\\Boundaries\\Partition2D.png\" alt=\"PartitionInf2D\" style=\"height:30px;\">"
   ]
  },
  {
   "cell_type": "code",
   "execution_count": 67,
   "metadata": {},
   "outputs": [],
   "source": [
    "\n",
    "mid_partition = make_vertical_cylinder(roi_num=4, radius=1, length=0.7,\n",
    "                                         offset_z=-0.3, spacing=slice_spacing)\n"
   ]
  },
  {
   "cell_type": "markdown",
   "metadata": {},
   "source": [
    "### Exterior Borders\n",
    "  - Primary: Central Cylinder\n",
    "    - Secondary: one of:\n",
    "      - SUP Cylinder\n",
    "      - INF Cylinder\n",
    "      - Combined SUP & INF cylinders in one structure with single slice gap at the SUP/INF boundary of the central cylinder.\n",
    "\n",
    "      \n",
    "![Exterior Border SUP](Images/Boundaries/ExteriorBorders2D_SUP.png)\n",
    "![Exterior Border INF](Images/Boundaries/ExteriorBorders2D_INF.png)"
   ]
  },
  {
   "cell_type": "code",
   "execution_count": 68,
   "metadata": {},
   "outputs": [],
   "source": [
    "# Two concentric cylinders different z offsets\n",
    "outside_cylinder = make_vertical_cylinder(roi_num=5, radius=2, length=0.4,\n",
    "                                         offset_z=-0.4, spacing=slice_spacing)\n",
    "inside_cylinder = make_vertical_cylinder(roi_num=6, radius=1, length=0.4,\n",
    "                                         offset_z=0, spacing=slice_spacing)\n"
   ]
  },
  {
   "cell_type": "code",
   "execution_count": null,
   "metadata": {},
   "outputs": [],
   "source": [
    "# combine the contours\n",
    "slice_data = pd.concat([body, primary_cylinder, sup_partition,\n",
    "                        inf_partition, mid_partition,\n",
    "                        outside_cylinder, inside_cylinder])\n",
    "\n",
    "# convert contour slice data into a table of slices and structures\n",
    "slice_table = make_slice_table(slice_data, ignore_errors=True)"
   ]
  },
  {
   "cell_type": "code",
   "execution_count": 70,
   "metadata": {},
   "outputs": [
    {
     "name": "stderr",
     "output_type": "stream",
     "text": [
      "C:\\Users\\smoke\\AppData\\Local\\Temp\\ipykernel_19644\\3514096742.py:5: FutureWarning: The behavior of array concatenation with empty entries is deprecated. In a future version, this will no longer exclude empty items when determining the result dtype. To retain the old behavior, exclude the empty entries before the concat operation.\n",
      "  all_relations = pd.concat([mid_relations,\n"
     ]
    },
    {
     "data": {
      "text/plain": [
       "<RelationshipType.PARTITION: 7>"
      ]
     },
     "execution_count": 70,
     "metadata": {},
     "output_type": "execute_result"
    }
   ],
   "source": [
    "selected_roi = [1, 2]\n",
    "relation = process_relations(slice_table, selected_roi)\n",
    "relation"
   ]
  },
  {
   "cell_type": "code",
   "execution_count": 71,
   "metadata": {},
   "outputs": [
    {
     "name": "stderr",
     "output_type": "stream",
     "text": [
      "C:\\Users\\smoke\\AppData\\Local\\Temp\\ipykernel_19644\\3514096742.py:5: FutureWarning: The behavior of array concatenation with empty entries is deprecated. In a future version, this will no longer exclude empty items when determining the result dtype. To retain the old behavior, exclude the empty entries before the concat operation.\n",
      "  all_relations = pd.concat([mid_relations,\n"
     ]
    },
    {
     "data": {
      "text/plain": [
       "<RelationshipType.PARTITION: 7>"
      ]
     },
     "execution_count": 71,
     "metadata": {},
     "output_type": "execute_result"
    }
   ],
   "source": [
    "selected_roi = [1, 3]\n",
    "relation = process_relations(slice_table, selected_roi)\n",
    "relation\n"
   ]
  },
  {
   "cell_type": "code",
   "execution_count": 72,
   "metadata": {},
   "outputs": [
    {
     "name": "stderr",
     "output_type": "stream",
     "text": [
      "C:\\Users\\smoke\\AppData\\Local\\Temp\\ipykernel_19644\\3514096742.py:5: FutureWarning: The behavior of array concatenation with empty entries is deprecated. In a future version, this will no longer exclude empty items when determining the result dtype. To retain the old behavior, exclude the empty entries before the concat operation.\n",
      "  all_relations = pd.concat([mid_relations,\n"
     ]
    },
    {
     "data": {
      "text/plain": [
       "<RelationshipType.PARTITION: 7>"
      ]
     },
     "execution_count": 72,
     "metadata": {},
     "output_type": "execute_result"
    }
   ],
   "source": [
    "selected_roi = [1, 4]\n",
    "relation = process_relations(slice_table, selected_roi)\n",
    "relation\n"
   ]
  },
  {
   "cell_type": "code",
   "execution_count": 73,
   "metadata": {},
   "outputs": [
    {
     "name": "stderr",
     "output_type": "stream",
     "text": [
      "C:\\Users\\smoke\\AppData\\Local\\Temp\\ipykernel_19644\\3514096742.py:5: FutureWarning: The behavior of array concatenation with empty entries is deprecated. In a future version, this will no longer exclude empty items when determining the result dtype. To retain the old behavior, exclude the empty entries before the concat operation.\n",
      "  all_relations = pd.concat([mid_relations,\n"
     ]
    },
    {
     "data": {
      "text/plain": [
       "<RelationshipType.BORDERS: 4>"
      ]
     },
     "execution_count": 73,
     "metadata": {},
     "output_type": "execute_result"
    }
   ],
   "source": [
    "selected_roi = [5, 6]\n",
    "relation = process_relations(slice_table, selected_roi)\n",
    "relation\n"
   ]
  },
  {
   "cell_type": "markdown",
   "metadata": {},
   "source": [
    "# More Tests Needed"
   ]
  },
  {
   "cell_type": "markdown",
   "metadata": {},
   "source": [
    "  - Single Primary slice with circular contour.\n",
    "    - Secondary: one of:\n",
    "      - SUP Cylinder\n",
    "      - INF Cylinder\n",
    "      - Combined SUP & INF Cylinders in one structure with single slice gap at level of the primary slice. \n",
    "- **Partition**\n",
    "  - Concentric cylinders ending on the same slice.\n",
    "  - Concentric cylinders starting on the same slice\n",
    "  - Primary: Central Cylinder\n",
    "    - Single Secondary slice with circular contour on the SUP/INF slice of the Primary cylinder.\n",
    "  - Single Primary slice with circular contour\n",
    "    - Secondary: one of:\n",
    "      - SUP Cylinder ending on the same slice.\n",
    "      - INF Cylinder ending on the same slice.\n",
    "- **CONTAINS**\n",
    "  - Concentric cylinders with interior cylinder ending inside the exterior cylinder by one slice\n",
    "**OVERLAPS**\n",
    "  - Concentric cylinders with interior cylinder ending outside the exterior cylinder by one slice\n",
    "  - Concentric cylinders with interior cylinder consisting of single slice ending inside the exterior cylinder by one slice\n"
   ]
  },
  {
   "cell_type": "markdown",
   "metadata": {},
   "source": [
    "  - Primary: Central Cylinder\n",
    "    - Secondary: one of:\n",
    "      - SUP Cylinder\n",
    "      - INF Cylinder\n",
    "      - Combined SUP & INF cylinders in one structure with single slice gap at the SUP/INF boundary of the central cylinder.\n",
    "  - Single Primary slice with circular contour.\n",
    "    - Secondary: one of:\n",
    "      - SUP Cylinder\n",
    "      - INF Cylinder\n",
    "      - Combined SUP & INF Cylinders in one structure with single slice gap at level of the primary slice. \n"
   ]
  }
 ],
 "metadata": {
  "kernelspec": {
   "display_name": "StructureRelations",
   "language": "python",
   "name": "python3"
  },
  "language_info": {
   "codemirror_mode": {
    "name": "ipython",
    "version": 3
   },
   "file_extension": ".py",
   "mimetype": "text/x-python",
   "name": "python",
   "nbconvert_exporter": "python",
   "pygments_lexer": "ipython3",
   "version": "3.11.9"
  }
 },
 "nbformat": 4,
 "nbformat_minor": 2
}
