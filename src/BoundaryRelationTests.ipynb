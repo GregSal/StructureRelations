{
 "cells": [
  {
   "cell_type": "markdown",
   "metadata": {},
   "source": [
    "# Boundary Relation Tests"
   ]
  },
  {
   "cell_type": "markdown",
   "metadata": {},
   "source": [
    "## Setup"
   ]
  },
  {
   "cell_type": "markdown",
   "metadata": {},
   "source": [
    "### Imports"
   ]
  },
  {
   "cell_type": "code",
   "execution_count": 1,
   "metadata": {},
   "outputs": [],
   "source": [
    "# Shared Packages\n",
    "import pandas as pd\n",
    "\n",
    "# Local functions and classes\n",
    "from types_and_classes import *\n",
    "from utilities import *\n",
    "from debug_tools import *\n",
    "from structure_slice import *\n",
    "from metrics import *\n",
    "from relations import *"
   ]
  },
  {
   "cell_type": "markdown",
   "metadata": {},
   "source": [
    "### Global Settings"
   ]
  },
  {
   "cell_type": "code",
   "execution_count": 2,
   "metadata": {},
   "outputs": [],
   "source": [
    "PRECISION = 2"
   ]
  },
  {
   "cell_type": "code",
   "execution_count": 3,
   "metadata": {},
   "outputs": [],
   "source": [
    "%matplotlib inline"
   ]
  },
  {
   "cell_type": "markdown",
   "metadata": {},
   "source": [
    "## Boundary Check process\n",
    "1. Build slice table (index= slice, columns = ROI, Data= StructureSlice)\n",
    "2. Select Primary & Secondary ROI\n",
    "\t- Slice range = Min(starting slice) to Max(ending slice)\n",
    "3. Send all slices with both Primary and Secondary contours for standard relation testing \n",
    "4. Identify the boundary slices of the Primary and Secondary ROI\n",
    "    - Boundary slices are slices that have a contour, but one of their neighbouring slices do not have a contour.\n",
    "5. For each boundary slice of the Primary ROI identify the neighbouring slice(s) that do not have a primary.\n",
    "6. For each of these neighbouring slices select a Secondary slice for boundary tests:\n",
    "\t- If the slice has a Secondary contour, select that Secondary slice.\n",
    "\t- If the slice does not have a Secondary contour, but there is a Secondary contour on the same slice as the Primary boundary, select that Secondary slice.\n",
    "\t- If neither the neighbouring slice nor the same slice as the Primary boundary have a Secondary contour, do not select a Secondary slice. Boundary testing is not required.\n",
    "7. Test the relation between the boundary Primary and the selected Secondary.\n",
    "8. Apply a Primary boundary shift to the relation results.\n",
    "9. If the selected Secondary is also a Secondary boundary, apply a Secondary boundary shift as well.\n",
    "10. Merge all results and reduce to single relation"
   ]
  },
  {
   "cell_type": "markdown",
   "metadata": {},
   "source": [
    "# Current Bugs: \n",
    "\n",
    "1. The search for boundaries does not take into account holes in the structure.\n",
    "2. Missing secondary boundary test\n",
    "3. Borders definition appears to be incorrect"
   ]
  },
  {
   "cell_type": "markdown",
   "metadata": {},
   "source": [
    "|Relationship     | Region Test   |  Exterior Test  |  Hull Test  |\n",
    "|-------------    |---------------|-----------------|-------------|\n",
    "|Borders          |  `FF*FT****`  |   `T*T*F*FF*`   | `*********` |\n",
    "|Borders result   |  `000011001`  |   `000011001`   | `000011001` |\n",
    "|Interior Borders |  `FF*FT****`  |   `T***T****`   | `*********` |\n",
    "|Result           |  `111001001`  |   `111001001`   | `001011101` |\n",
    "                \n",
    "**BORDERS:** The two structures share a common exterior boundary.\n",
    "\n",
    "**BORDERS_INTERIOR:** The two structures share a common boundary and one is within the other.\n",
    "    \n"
   ]
  },
  {
   "cell_type": "markdown",
   "metadata": {},
   "source": [
    "|Relationship     | Region Test   |  Exterior Test  |  Hull Test  |\n",
    "|-------------    |---------------|-----------------|-------------|\n",
    "|Overlaps         |  `T*T***T**`  |   `*********`   | `*********` |\n",
    "|Overlaps result  |  `110010001`  |   `110010001`   | `110010001` |\n",
    "\n",
    "                \n",
    "**OVERLAPS:** The two structures share a common region.\n",
    "    "
   ]
  },
  {
   "cell_type": "markdown",
   "metadata": {},
   "source": [
    "![alt text](Images/DE-9IM.png)"
   ]
  },
  {
   "cell_type": "markdown",
   "metadata": {},
   "source": [
    "![alt text](../reference/RelationshipTreeDiagram.svg)"
   ]
  },
  {
   "cell_type": "code",
   "execution_count": null,
   "metadata": {},
   "outputs": [],
   "source": [
    "def identify_relation(relation_binary) -> RelationshipType:\n",
    "    '''Applies a collection of definitions for named relationships to a supplied\n",
    "    relationship binary.\n",
    "\n",
    "    The defined relationships are:\n",
    "        Relationship      Region Test   Exterior Test   Hull Test\n",
    "        Disjoint          FF*FF****     FF*FF****       FF*FF****\n",
    "        Shelters          FF*FF****     FF*FF****       TTT***F**\n",
    "        Surrounds         FF*FF****     T***F*FF*\n",
    "        Borders_Interior  FF*FT****     T***T****\n",
    "        Borders           FF*FT****     T*T*F*FF*\n",
    "        Contains          T*T*F*FF*\n",
    "        Partition         T*T*T*FF*\n",
    "        Equals\t          T*F**FFF*\n",
    "        Overlaps          T*T***T**\n",
    "\n",
    "    Args:\n",
    "        relation_binary (int): An integer generated from the combined DE-9IM\n",
    "            tests.\n",
    "\n",
    "    Returns:\n",
    "        RelationshipType: The identified RelationshipType if one of the tests\n",
    "            passes, otherwise RelationshipType.UNKNOWN.\n",
    "    '''\n",
    "    # Relationship Test Definitions\n",
    "    test_binaries = [\n",
    "        RelationshipTest(RelationshipType.SURROUNDS,\n",
    "                         0b110110000100010000000000000,\n",
    "                         0b000000000100000000000000000),\n",
    "        RelationshipTest(RelationshipType.SHELTERS,\n",
    "                         0b110110000100010000100010000,\n",
    "                         0b000000000000000000100000000),\n",
    "        RelationshipTest(RelationshipType.DISJOINT,\n",
    "                         0b110110000100010000100010000,\n",
    "                         0b000000000000000000000000000),\n",
    "        RelationshipTest(RelationshipType.BORDERS,\n",
    "                         0b100010000100010000000000000,\n",
    "                         0b000010000000010000000000000),\n",
    "        RelationshipTest(RelationshipType.BORDERS_INTERIOR,\n",
    "                         0b100010000100010000000000000,\n",
    "                         0b000010000100010000000000000),\n",
    "        RelationshipTest(RelationshipType.OVERLAPS,\n",
    "                         0b101010100101010100101000100,\n",
    "                         0b101010100101010100101000100),\n",
    "        RelationshipTest(RelationshipType.PARTITION,\n",
    "                         0b101010100101010100101000100,\n",
    "                         0b101010000101010000101000000),\n",
    "        RelationshipTest(RelationshipType.CONTAINS,\n",
    "                         0b110110000100010000100000000,\n",
    "                         0b100000000100000000100000000),\n",
    "        RelationshipTest(RelationshipType.EQUALS,\n",
    "                         0b101010000100010000100000000,\n",
    "                         0b100010000100010000100000000),\n",
    "        ]\n",
    "    for rel_def in test_binaries:\n",
    "        result = rel_def.test(relation_binary)\n",
    "        if result:\n",
    "            return result\n",
    "    return RelationshipType.UNKNOWN"
   ]
  },
  {
   "cell_type": "markdown",
   "metadata": {},
   "source": [
    "## Test structures\n"
   ]
  },
  {
   "cell_type": "markdown",
   "metadata": {},
   "source": [
    "#### Concentric cylinders starting on the same slice\n",
    "  \n",
    "<img src=\"Images\\Boundaries\\PartitionSup3D.png\" alt=\"PartitionSup3D\" style=\"height:50px;\">\n",
    "<img src=\"Images\\Boundaries\\PartitionSup2D.png\" alt=\"PartitionSup2D\" style=\"height:30px;\">"
   ]
  },
  {
   "cell_type": "code",
   "execution_count": 4,
   "metadata": {},
   "outputs": [
    {
     "name": "stdout",
     "output_type": "stream",
     "text": [
      "Relationship: Partition\n"
     ]
    }
   ],
   "source": [
    "def concentric_cylinders_same_start():\n",
    "    slice_spacing = 0.1\n",
    "    # Body structure defines slices in use\n",
    "    body = make_vertical_cylinder(roi_num=0, radius=10, length=1, offset_z=-0.5,\n",
    "                                  spacing=slice_spacing)\n",
    "    # Concentric cylinders starting on the same slice\n",
    "    primary_cylinder = make_vertical_cylinder(roi_num=1, radius=2, length=0.7,\n",
    "                                              offset_z=-0.3,\n",
    "                                              spacing=slice_spacing)\n",
    "    sup_partition = make_vertical_cylinder(roi_num=2, radius=1, length=0.4,\n",
    "                                           offset_z=-0.3,\n",
    "                                           spacing=slice_spacing)\n",
    "    # combine the contours\n",
    "    slice_data = pd.concat([body, primary_cylinder, sup_partition])\n",
    "    # convert contour slice data into a table of slices and structures\n",
    "    slice_table = make_slice_table(slice_data, ignore_errors=True)\n",
    "    return slice_table\n",
    "\n",
    "\n",
    "print(find_relationship(concentric_cylinders_same_start(), [1, 2]))\n"
   ]
  },
  {
   "cell_type": "markdown",
   "metadata": {},
   "source": [
    "#### Concentric cylinders ending on the same slice.\n",
    "\n",
    "<img src=\"Images\\Boundaries\\PartitionInf3D.png\" alt=\"PartitionInf3D\" style=\"height:50px;\">\n",
    "<img src=\"Images\\Boundaries\\PartitionInf2D.png\" alt=\"PartitionInf2D\" style=\"height:30px;\">"
   ]
  },
  {
   "cell_type": "code",
   "execution_count": 5,
   "metadata": {},
   "outputs": [
    {
     "name": "stdout",
     "output_type": "stream",
     "text": [
      "Relationship: Partition\n"
     ]
    }
   ],
   "source": [
    "def concentric_cylinders_same_end():\n",
    "    slice_spacing = 0.1\n",
    "    # Body structure defines slices in use\n",
    "    body = make_vertical_cylinder(roi_num=0, radius=10, length=1, offset_z=-0.5,\n",
    "                                  spacing=slice_spacing)\n",
    "    # Concentric cylinders ending on the same slice\n",
    "    primary_cylinder = make_vertical_cylinder(roi_num=1, radius=2, length=0.7,\n",
    "                                              offset_z=-0.3,\n",
    "                                              spacing=slice_spacing)\n",
    "    inf_partition = make_vertical_cylinder(roi_num=3, radius=1, length=0.4,\n",
    "                                           offset_z=0, spacing=slice_spacing)\n",
    "    # combine the contours\n",
    "    slice_data = pd.concat([body, primary_cylinder, inf_partition])\n",
    "    # convert contour slice data into a table of slices and structures\n",
    "    slice_table = make_slice_table(slice_data, ignore_errors=True)\n",
    "    return slice_table\n",
    "\n",
    "\n",
    "print(find_relationship(concentric_cylinders_same_end(), [1, 3]))\n"
   ]
  },
  {
   "cell_type": "markdown",
   "metadata": {},
   "source": [
    "- Concentric cylinders starting and ending on the same slice.\n",
    "\n",
    "<img src=\"Images\\Boundaries\\Partition3D.png\" alt=\"PartitionInf3D\" style=\"height:50px;\">\n",
    "<img src=\"Images\\Boundaries\\Partition2D.png\" alt=\"PartitionInf2D\" style=\"height:30px;\">"
   ]
  },
  {
   "cell_type": "code",
   "execution_count": 6,
   "metadata": {},
   "outputs": [
    {
     "name": "stdout",
     "output_type": "stream",
     "text": [
      "Relationship: Partition\n"
     ]
    }
   ],
   "source": [
    "def concentric_cylinders_same_height():\n",
    "    slice_spacing = 0.1\n",
    "    # Body structure defines slices in use\n",
    "    body = make_vertical_cylinder(roi_num=0, radius=10, length=1, offset_z=-0.5,\n",
    "                                  spacing=slice_spacing)\n",
    "    # Concentric cylinders starting and ending on the same slice\n",
    "    primary_cylinder = make_vertical_cylinder(roi_num=1, radius=2, length=0.7,\n",
    "                                              offset_z=-0.3,\n",
    "                                              spacing=slice_spacing)\n",
    "    mid_partition = make_vertical_cylinder(roi_num=4, radius=1, length=0.7,\n",
    "                                           offset_z=-0.3,\n",
    "                                           spacing=slice_spacing)\n",
    "    # combine the contours\n",
    "    slice_data = pd.concat([body, primary_cylinder, mid_partition])\n",
    "    # convert contour slice data into a table of slices and structures\n",
    "    slice_table = make_slice_table(slice_data, ignore_errors=True)\n",
    "    return slice_table\n",
    "\n",
    "\n",
    "print(find_relationship(concentric_cylinders_same_height(), [1, 4]))\n"
   ]
  },
  {
   "cell_type": "markdown",
   "metadata": {},
   "source": [
    "### Exterior Borders\n",
    "  - Primary: Central Cylinder\n",
    "    - Secondary: one of:\n",
    "      - SUP Cylinder\n",
    "      - INF Cylinder\n",
    "      - Combined SUP & INF cylinders in one structure with single slice gap at the SUP/INF boundary of the central cylinder.\n",
    "\n",
    "      \n",
    "![Exterior Border SUP](Images/Boundaries/ExteriorBorders2D_SUP.png)\n",
    "![Exterior Border INF](Images/Boundaries/ExteriorBorders2D_INF.png)"
   ]
  },
  {
   "cell_type": "code",
   "execution_count": 7,
   "metadata": {},
   "outputs": [
    {
     "name": "stdout",
     "output_type": "stream",
     "text": [
      "Relationship: Unknown\n"
     ]
    }
   ],
   "source": [
    "def stacked_cylinders():\n",
    "    slice_spacing = 0.1\n",
    "    # Body structure defines slices in use\n",
    "    body = make_vertical_cylinder(roi_num=0, radius=10, length=1, offset_z=-0.5,\n",
    "                                  spacing=slice_spacing)\n",
    "    # Two concentric cylinders different z offsets\n",
    "    outside_cylinder = make_vertical_cylinder(roi_num=5, radius=2, length=0.4,\n",
    "                                              offset_z=-0.4,\n",
    "                                              spacing=slice_spacing)\n",
    "    inside_cylinder = make_vertical_cylinder(roi_num=6, radius=1, length=0.4,\n",
    "                                             offset_z=0, spacing=slice_spacing)\n",
    "    # combine the contours\n",
    "    slice_data = pd.concat([body, outside_cylinder, inside_cylinder])\n",
    "    # convert contour slice data into a table of slices and structures\n",
    "    slice_table = make_slice_table(slice_data, ignore_errors=True)\n",
    "    return slice_table\n",
    "\n",
    "\n",
    "print(find_relationship(stacked_cylinders(), [5, 6]))\n"
   ]
  },
  {
   "cell_type": "code",
   "execution_count": 8,
   "metadata": {},
   "outputs": [
    {
     "data": {
      "text/plain": [
       "<RelationshipType.UNKNOWN: 999>"
      ]
     },
     "execution_count": 8,
     "metadata": {},
     "output_type": "execute_result"
    }
   ],
   "source": [
    "find_relationship(stacked_cylinders(), [5, 6])"
   ]
  },
  {
   "cell_type": "code",
   "execution_count": 9,
   "metadata": {},
   "outputs": [
    {
     "data": {
      "text/html": [
       "<div>\n",
       "<style scoped>\n",
       "    .dataframe tbody tr th:only-of-type {\n",
       "        vertical-align: middle;\n",
       "    }\n",
       "\n",
       "    .dataframe tbody tr th {\n",
       "        vertical-align: top;\n",
       "    }\n",
       "\n",
       "    .dataframe thead th {\n",
       "        text-align: right;\n",
       "    }\n",
       "</style>\n",
       "<table border=\"1\" class=\"dataframe\">\n",
       "  <thead>\n",
       "    <tr style=\"text-align: right;\">\n",
       "      <th>ROI Num</th>\n",
       "      <th>5</th>\n",
       "      <th>6</th>\n",
       "    </tr>\n",
       "    <tr>\n",
       "      <th>Slice Index</th>\n",
       "      <th></th>\n",
       "      <th></th>\n",
       "    </tr>\n",
       "  </thead>\n",
       "  <tbody>\n",
       "    <tr>\n",
       "      <th>-0.4</th>\n",
       "      <td>&lt;structure_slice.StructureSlice object at 0x00...</td>\n",
       "      <td>NaN</td>\n",
       "    </tr>\n",
       "    <tr>\n",
       "      <th>-0.3</th>\n",
       "      <td>&lt;structure_slice.StructureSlice object at 0x00...</td>\n",
       "      <td>NaN</td>\n",
       "    </tr>\n",
       "    <tr>\n",
       "      <th>-0.2</th>\n",
       "      <td>&lt;structure_slice.StructureSlice object at 0x00...</td>\n",
       "      <td>NaN</td>\n",
       "    </tr>\n",
       "    <tr>\n",
       "      <th>-0.1</th>\n",
       "      <td>&lt;structure_slice.StructureSlice object at 0x00...</td>\n",
       "      <td>NaN</td>\n",
       "    </tr>\n",
       "    <tr>\n",
       "      <th>0.0</th>\n",
       "      <td>NaN</td>\n",
       "      <td>&lt;structure_slice.StructureSlice object at 0x00...</td>\n",
       "    </tr>\n",
       "    <tr>\n",
       "      <th>0.1</th>\n",
       "      <td>NaN</td>\n",
       "      <td>&lt;structure_slice.StructureSlice object at 0x00...</td>\n",
       "    </tr>\n",
       "    <tr>\n",
       "      <th>0.2</th>\n",
       "      <td>NaN</td>\n",
       "      <td>&lt;structure_slice.StructureSlice object at 0x00...</td>\n",
       "    </tr>\n",
       "    <tr>\n",
       "      <th>0.3</th>\n",
       "      <td>NaN</td>\n",
       "      <td>&lt;structure_slice.StructureSlice object at 0x00...</td>\n",
       "    </tr>\n",
       "  </tbody>\n",
       "</table>\n",
       "</div>"
      ],
      "text/plain": [
       "ROI Num                                                      5  \\\n",
       "Slice Index                                                      \n",
       "-0.4         <structure_slice.StructureSlice object at 0x00...   \n",
       "-0.3         <structure_slice.StructureSlice object at 0x00...   \n",
       "-0.2         <structure_slice.StructureSlice object at 0x00...   \n",
       "-0.1         <structure_slice.StructureSlice object at 0x00...   \n",
       " 0.0                                                       NaN   \n",
       " 0.1                                                       NaN   \n",
       " 0.2                                                       NaN   \n",
       " 0.3                                                       NaN   \n",
       "\n",
       "ROI Num                                                      6  \n",
       "Slice Index                                                     \n",
       "-0.4                                                       NaN  \n",
       "-0.3                                                       NaN  \n",
       "-0.2                                                       NaN  \n",
       "-0.1                                                       NaN  \n",
       " 0.0         <structure_slice.StructureSlice object at 0x00...  \n",
       " 0.1         <structure_slice.StructureSlice object at 0x00...  \n",
       " 0.2         <structure_slice.StructureSlice object at 0x00...  \n",
       " 0.3         <structure_slice.StructureSlice object at 0x00...  "
      ]
     },
     "execution_count": 9,
     "metadata": {},
     "output_type": "execute_result"
    }
   ],
   "source": [
    "selected_roi = [5, 6]\n",
    "primary, secondary = selected_roi\n",
    "slice_table = stacked_cylinders()\n",
    "# Slice range = Min(starting slice) to Max(ending slice)\n",
    "selected_slices = select_slices(slice_table, selected_roi)\n",
    "selected_slices"
   ]
  },
  {
   "cell_type": "code",
   "execution_count": 10,
   "metadata": {},
   "outputs": [
    {
     "data": {
      "text/plain": [
       "Slice Index\n",
       "-0.4   NaN\n",
       "-0.3   NaN\n",
       "-0.2   NaN\n",
       "-0.1   NaN\n",
       " 0.0   NaN\n",
       " 0.1   NaN\n",
       " 0.2   NaN\n",
       " 0.3   NaN\n",
       "Name: DE27IM, dtype: float64"
      ]
     },
     "execution_count": 10,
     "metadata": {},
     "output_type": "execute_result"
    }
   ],
   "source": [
    "# Send all slices with both Primary and Secondary contours for standard\n",
    "# relation testing\n",
    "mid_relations = selected_slices.agg(relate_structures,\n",
    "                                    structures=selected_roi,\n",
    "                                    axis='columns')\n",
    "mid_relations.name = 'DE27IM'\n",
    "mid_relations"
   ]
  },
  {
   "cell_type": "code",
   "execution_count": 11,
   "metadata": {},
   "outputs": [
    {
     "data": {
      "text/plain": [
       "IdxB\n",
       "0.0     111001001  |  111001001  |  111001001 \n",
       "Name: DE27IM, dtype: object"
      ]
     },
     "execution_count": 11,
     "metadata": {},
     "output_type": "execute_result"
    }
   ],
   "source": [
    "# Test the relation between the boundary Primary and the selected Secondary.\n",
    "matched_slices = boundary_match(slice_table, selected_roi)\n",
    "bdry_rel = matched_slices.agg(relate_structures, structures=selected_roi,\n",
    "                                axis='columns')\n",
    "bdry_rel.name = 'DE27IM'\n",
    "bdry_rel.apply(bin_format)\n"
   ]
  },
  {
   "cell_type": "code",
   "execution_count": 12,
   "metadata": {},
   "outputs": [
    {
     "data": {
      "text/plain": [
       "IdxB\n",
       "0.0     000011001  |  000011001  |  000011001 \n",
       "Name: DE27IM, dtype: object"
      ]
     },
     "execution_count": 12,
     "metadata": {},
     "output_type": "execute_result"
    }
   ],
   "source": [
    "# Apply a Primary boundary shift to the relation results.\n",
    "bdry_rel = bdry_rel.apply(adjust_boundary_relation, shift_type='a')\n",
    "# If the selected Secondary is also a Secondary boundary, apply a Secondary\n",
    "#   boundary shift as well.\n",
    "secondary_boundaries = find_boundary_slices(slice_table[secondary])\n",
    "bdry_b = [idx for idx in secondary_boundaries\n",
    "                            if idx in bdry_rel.index]\n",
    "bdry_rel.loc[bdry_b] = bdry_rel[bdry_b].apply(adjust_boundary_relation,\n",
    "                                                shift_type='b')\n",
    "bdry_rel.name = 'DE27IM'\n",
    "bdry_rel.apply(bin_format)"
   ]
  },
  {
   "attachments": {
    "image-2.png": {
     "image/png": "[encoded data removed]"
    },
    "image.png": {
     "image/png": "[encoded data removed]"
    }
   },
   "cell_type": "markdown",
   "metadata": {},
   "source": [
    "### Interior Borders\n",
    "  - Primary: Central Cylinder\n",
    "  - Concentric shorter hole in the center of the primary cylinder\n",
    "  - Secondary same height as hole but narrower\n",
    "  - Interior borders at the and bottom of hole.\n",
    "  \n",
    "![image.png](attachment:image.png)\n",
    "![image-2.png](attachment:image-2.png)"
   ]
  },
  {
   "cell_type": "code",
   "execution_count": 13,
   "metadata": {},
   "outputs": [
    {
     "name": "stdout",
     "output_type": "stream",
     "text": [
      "Relationship: Surrounds\n"
     ]
    }
   ],
   "source": [
    "def embedded_cylinder():\n",
    "    slice_spacing = 0.1\n",
    "    # Body structure defines slices in use\n",
    "    body = make_vertical_cylinder(roi_num=0, radius=10, length=1, offset_z=-0.5,\n",
    "                                  spacing=slice_spacing)\n",
    "    primary_cylinder = make_vertical_cylinder(roi_num=9, radius=4, length=0.7,\n",
    "                                              offset_z=-0.3,\n",
    "                                              spacing=slice_spacing)\n",
    "    center_hole = make_vertical_cylinder(roi_num=9, radius=2, length=0.5,\n",
    "                                         offset_z=-0.2, spacing=slice_spacing)\n",
    "    # Two concentric cylinders different z offsets\n",
    "    middle_cylinder = make_vertical_cylinder(roi_num=10, radius=1, length=0.5,\n",
    "                                             offset_z=-0.2,\n",
    "                                             spacing=slice_spacing)\n",
    "    reference = make_vertical_cylinder(roi_num=11, radius=2, length=0.5,\n",
    "                                         offset_z=-0.2, spacing=slice_spacing)\n",
    "    # combine the contours\n",
    "    slice_data = pd.concat([body, primary_cylinder, center_hole, middle_cylinder, reference])\n",
    "    # convert contour slice data into a table of slices and structures\n",
    "    slice_table = make_slice_table(slice_data, ignore_errors=True)\n",
    "    return slice_table\n",
    "\n",
    "\n",
    "print(find_relationship(embedded_cylinder(), [9, 10]))\n"
   ]
  },
  {
   "cell_type": "code",
   "execution_count": 14,
   "metadata": {},
   "outputs": [],
   "source": [
    "selected_roi = [9, 10]\n",
    "primary, secondary = selected_roi\n",
    "slice_table = embedded_cylinder()\n",
    "selected_slices = select_slices(slice_table, selected_roi)\n"
   ]
  },
  {
   "cell_type": "code",
   "execution_count": 15,
   "metadata": {},
   "outputs": [
    {
     "data": {
      "image/png": "[encoded data removed]",
      "text/plain": [
       "<Figure size 400x200 with 1 Axes>"
      ]
     },
     "metadata": {},
     "output_type": "display_data"
    },
    {
     "data": {
      "text/plain": [
       "<Axes: >"
      ]
     },
     "execution_count": 15,
     "metadata": {},
     "output_type": "execute_result"
    }
   ],
   "source": [
    "\n",
    "plot_ab(slice_table.at[0.2,9].contour, slice_table.at[0.2,10].contour)"
   ]
  },
  {
   "cell_type": "code",
   "execution_count": 16,
   "metadata": {},
   "outputs": [
    {
     "data": {
      "image/png": "[encoded data removed]",
      "text/plain": [
       "<Figure size 400x200 with 1 Axes>"
      ]
     },
     "metadata": {},
     "output_type": "display_data"
    },
    {
     "data": {
      "text/plain": [
       "<Axes: >"
      ]
     },
     "execution_count": 16,
     "metadata": {},
     "output_type": "execute_result"
    }
   ],
   "source": [
    "\n",
    "plot_ab(slice_table.at[0.3,9].contour, slice_table.at[0.2,10].contour)"
   ]
  },
  {
   "cell_type": "code",
   "execution_count": 17,
   "metadata": {},
   "outputs": [
    {
     "data": {
      "text/plain": [
       "Slice Index\n",
       "-0.3                                           \n",
       "-0.2     111001001  |  111001001  |  001001111 \n",
       "-0.1     111001001  |  111001001  |  001001111 \n",
       " 0.0     111001001  |  111001001  |  001001111 \n",
       " 0.1     111001001  |  111001001  |  001001111 \n",
       " 0.2     111001001  |  111001001  |  001001111 \n",
       " 0.3                                           \n",
       "Name: DE27IM, dtype: object"
      ]
     },
     "execution_count": 17,
     "metadata": {},
     "output_type": "execute_result"
    }
   ],
   "source": [
    "# Send all slices with both Primary and Secondary contours for standard\n",
    "# relation testing\n",
    "mid_relations = selected_slices.agg(relate_structures,\n",
    "                                    structures=selected_roi,\n",
    "                                    axis='columns')\n",
    "mid_relations.name = 'DE27IM'\n",
    "mid_relations.apply(bin_format)"
   ]
  },
  {
   "cell_type": "code",
   "execution_count": 18,
   "metadata": {},
   "outputs": [
    {
     "data": {
      "text/plain": [
       "Series([], Name: DE27IM, dtype: float64)"
      ]
     },
     "execution_count": 18,
     "metadata": {},
     "output_type": "execute_result"
    }
   ],
   "source": [
    "# Test the relation between the boundary Primary and the selected Secondary.\n",
    "matched_slices = boundary_match(slice_table, selected_roi)\n",
    "bdry_rel = matched_slices.agg(relate_structures, structures=selected_roi,\n",
    "                                axis='columns')\n",
    "bdry_rel.name = 'DE27IM'\n",
    "bdry_rel.apply(bin_format)\n"
   ]
  },
  {
   "cell_type": "code",
   "execution_count": 19,
   "metadata": {},
   "outputs": [
    {
     "data": {
      "text/plain": [
       "Series([], Name: DE27IM, dtype: float64)"
      ]
     },
     "execution_count": 19,
     "metadata": {},
     "output_type": "execute_result"
    }
   ],
   "source": [
    "# Apply a Primary boundary shift to the relation results.\n",
    "bdry_rel = bdry_rel.apply(adjust_boundary_relation, shift_type='a')\n",
    "# If the selected Secondary is also a Secondary boundary, apply a Secondary\n",
    "#   boundary shift as well.\n",
    "secondary_boundaries = find_boundary_slices(slice_table[secondary])\n",
    "bdry_b = [idx for idx in secondary_boundaries\n",
    "                            if idx in bdry_rel.index]\n",
    "bdry_rel.loc[bdry_b] = bdry_rel[bdry_b].apply(adjust_boundary_relation,\n",
    "                                                shift_type='b')\n",
    "bdry_rel.name = 'DE27IM'\n",
    "bdry_rel.apply(bin_format)"
   ]
  },
  {
   "cell_type": "code",
   "execution_count": 20,
   "metadata": {},
   "outputs": [
    {
     "name": "stdout",
     "output_type": "stream",
     "text": [
      "Relationship: Equals\n"
     ]
    }
   ],
   "source": [
    "def overlapping_cylinders():\n",
    "    slice_spacing = 0.5\n",
    "    slice_spacing = 0.1\n",
    "    # Body structure defines slices in use\n",
    "    body = make_vertical_cylinder(roi_num=0, radius=10, length=1, offset_z=-0.5,\n",
    "                                  spacing=slice_spacing)\n",
    "    # Two overlapping cylinders\n",
    "    top_cylinder = make_vertical_cylinder(roi_num=7, radius=2, length=0.4, offset_z=-0.3, spacing=slice_spacing)\n",
    "    bottom_cylinder = make_vertical_cylinder(roi_num=8, radius=2, length=0.4, offset_z=0, spacing=slice_spacing)\n",
    "   # combine the contours\n",
    "    slice_data = pd.concat([top_cylinder, bottom_cylinder, body])\n",
    "    # convert contour slice data into a table of slices and structures\n",
    "    slice_table = make_slice_table(slice_data, ignore_errors=True)\n",
    "    return slice_table\n",
    "\n",
    "\n",
    "print(find_relationship(overlapping_cylinders(), [7, 8]))\n"
   ]
  },
  {
   "cell_type": "code",
   "execution_count": 21,
   "metadata": {},
   "outputs": [
    {
     "data": {
      "text/html": [
       "<div>\n",
       "<style scoped>\n",
       "    .dataframe tbody tr th:only-of-type {\n",
       "        vertical-align: middle;\n",
       "    }\n",
       "\n",
       "    .dataframe tbody tr th {\n",
       "        vertical-align: top;\n",
       "    }\n",
       "\n",
       "    .dataframe thead th {\n",
       "        text-align: right;\n",
       "    }\n",
       "</style>\n",
       "<table border=\"1\" class=\"dataframe\">\n",
       "  <thead>\n",
       "    <tr style=\"text-align: right;\">\n",
       "      <th>ROI Num</th>\n",
       "      <th>7</th>\n",
       "      <th>8</th>\n",
       "    </tr>\n",
       "    <tr>\n",
       "      <th>Slice Index</th>\n",
       "      <th></th>\n",
       "      <th></th>\n",
       "    </tr>\n",
       "  </thead>\n",
       "  <tbody>\n",
       "    <tr>\n",
       "      <th>-0.3</th>\n",
       "      <td>&lt;structure_slice.StructureSlice object at 0x00...</td>\n",
       "      <td>NaN</td>\n",
       "    </tr>\n",
       "    <tr>\n",
       "      <th>-0.2</th>\n",
       "      <td>&lt;structure_slice.StructureSlice object at 0x00...</td>\n",
       "      <td>NaN</td>\n",
       "    </tr>\n",
       "    <tr>\n",
       "      <th>-0.1</th>\n",
       "      <td>&lt;structure_slice.StructureSlice object at 0x00...</td>\n",
       "      <td>NaN</td>\n",
       "    </tr>\n",
       "    <tr>\n",
       "      <th>0.0</th>\n",
       "      <td>&lt;structure_slice.StructureSlice object at 0x00...</td>\n",
       "      <td>&lt;structure_slice.StructureSlice object at 0x00...</td>\n",
       "    </tr>\n",
       "    <tr>\n",
       "      <th>0.1</th>\n",
       "      <td>NaN</td>\n",
       "      <td>&lt;structure_slice.StructureSlice object at 0x00...</td>\n",
       "    </tr>\n",
       "    <tr>\n",
       "      <th>0.2</th>\n",
       "      <td>NaN</td>\n",
       "      <td>&lt;structure_slice.StructureSlice object at 0x00...</td>\n",
       "    </tr>\n",
       "    <tr>\n",
       "      <th>0.3</th>\n",
       "      <td>NaN</td>\n",
       "      <td>&lt;structure_slice.StructureSlice object at 0x00...</td>\n",
       "    </tr>\n",
       "  </tbody>\n",
       "</table>\n",
       "</div>"
      ],
      "text/plain": [
       "ROI Num                                                      7  \\\n",
       "Slice Index                                                      \n",
       "-0.3         <structure_slice.StructureSlice object at 0x00...   \n",
       "-0.2         <structure_slice.StructureSlice object at 0x00...   \n",
       "-0.1         <structure_slice.StructureSlice object at 0x00...   \n",
       " 0.0         <structure_slice.StructureSlice object at 0x00...   \n",
       " 0.1                                                       NaN   \n",
       " 0.2                                                       NaN   \n",
       " 0.3                                                       NaN   \n",
       "\n",
       "ROI Num                                                      8  \n",
       "Slice Index                                                     \n",
       "-0.3                                                       NaN  \n",
       "-0.2                                                       NaN  \n",
       "-0.1                                                       NaN  \n",
       " 0.0         <structure_slice.StructureSlice object at 0x00...  \n",
       " 0.1         <structure_slice.StructureSlice object at 0x00...  \n",
       " 0.2         <structure_slice.StructureSlice object at 0x00...  \n",
       " 0.3         <structure_slice.StructureSlice object at 0x00...  "
      ]
     },
     "execution_count": 21,
     "metadata": {},
     "output_type": "execute_result"
    }
   ],
   "source": [
    "selected_roi = [7, 8]\n",
    "primary, secondary = selected_roi\n",
    "slice_table = overlapping_cylinders()\n",
    "selected_slices = select_slices(slice_table, selected_roi)\n",
    "selected_slices"
   ]
  },
  {
   "cell_type": "code",
   "execution_count": 22,
   "metadata": {},
   "outputs": [
    {
     "data": {
      "text/plain": [
       "Slice Index\n",
       "-0.3                                           \n",
       "-0.2                                           \n",
       "-0.1                                           \n",
       " 0.0     100010001  |  100010001  |  100010001 \n",
       " 0.1                                           \n",
       " 0.2                                           \n",
       " 0.3                                           \n",
       "Name: DE27IM, dtype: object"
      ]
     },
     "execution_count": 22,
     "metadata": {},
     "output_type": "execute_result"
    }
   ],
   "source": [
    "# Send all slices with both Primary and Secondary contours for standard\n",
    "# relation testing\n",
    "mid_relations = selected_slices.agg(relate_structures,\n",
    "                                    structures=selected_roi,\n",
    "                                    axis='columns')\n",
    "mid_relations.name = 'DE27IM'\n",
    "mid_relations.apply(bin_format)"
   ]
  },
  {
   "cell_type": "code",
   "execution_count": 23,
   "metadata": {},
   "outputs": [
    {
     "data": {
      "text/plain": [
       "IdxB\n",
       "0.1     100010001  |  100010001  |  100010001 \n",
       "Name: DE27IM, dtype: object"
      ]
     },
     "execution_count": 23,
     "metadata": {},
     "output_type": "execute_result"
    }
   ],
   "source": [
    "# Test the relation between the boundary Primary and the selected Secondary.\n",
    "matched_slices = boundary_match(slice_table, selected_roi)\n",
    "bdry_rel = matched_slices.agg(relate_structures, structures=selected_roi,\n",
    "                                axis='columns')\n",
    "bdry_rel.name = 'DE27IM'\n",
    "bdry_rel.apply(bin_format)\n"
   ]
  },
  {
   "cell_type": "markdown",
   "metadata": {},
   "source": [
    "## Missing secondary boundary test"
   ]
  },
  {
   "cell_type": "code",
   "execution_count": 24,
   "metadata": {},
   "outputs": [
    {
     "name": "stdout",
     "output_type": "stream",
     "text": [
      "[0.0, 0.3]\n",
      "[]\n"
     ]
    },
    {
     "data": {
      "text/plain": [
       "IdxB\n",
       "0.1     010000001  |  010000001  |  010000001 \n",
       "Name: DE27IM, dtype: object"
      ]
     },
     "execution_count": 24,
     "metadata": {},
     "output_type": "execute_result"
    }
   ],
   "source": [
    "# Apply a Primary boundary shift to the relation results.\n",
    "bdry_rel = bdry_rel.apply(adjust_boundary_relation, shift_type='a')\n",
    "# If the selected Secondary is also a Secondary boundary, apply a Secondary\n",
    "#   boundary shift as well.\n",
    "bdry_rel.apply(bin_format)\n",
    "\n",
    "secondary_boundaries = find_boundary_slices(slice_table[secondary])\n",
    "print(secondary_boundaries)\n",
    "bdry_b = [idx for idx in secondary_boundaries\n",
    "                            if idx in bdry_rel.index]\n",
    "print(bdry_b)\n",
    "bdry_rel.loc[bdry_b] = bdry_rel[bdry_b].apply(adjust_boundary_relation,\n",
    "                                                shift_type='b')\n",
    "bdry_rel.name = 'DE27IM'\n",
    "bdry_rel.apply(bin_format)"
   ]
  },
  {
   "cell_type": "code",
   "execution_count": 25,
   "metadata": {},
   "outputs": [
    {
     "data": {
      "text/plain": [
       "' 110010001  |  110010001  |  110010001 '"
      ]
     },
     "execution_count": 25,
     "metadata": {},
     "output_type": "execute_result"
    }
   ],
   "source": [
    "# Merge all results and reduce to single relation\n",
    "mid_relations = pd.concat([mid_relations, bdry_rel], axis='index',\n",
    "                            ignore_index=True)\n",
    "relation_binary = merge_rel(mid_relations)\n",
    "bin_format(relation_binary)"
   ]
  },
  {
   "cell_type": "markdown",
   "metadata": {},
   "source": [
    "# More Tests Needed"
   ]
  },
  {
   "cell_type": "markdown",
   "metadata": {},
   "source": [
    "  - Single Primary slice with circular contour.\n",
    "    - Secondary: one of:\n",
    "      - SUP Cylinder\n",
    "      - INF Cylinder\n",
    "      - Combined SUP & INF Cylinders in one structure with single slice gap at level of the primary slice. \n",
    "- **Partition**\n",
    "  - Concentric cylinders ending on the same slice.\n",
    "  - Concentric cylinders starting on the same slice\n",
    "  - Primary: Central Cylinder\n",
    "    - Single Secondary slice with circular contour on the SUP/INF slice of the Primary cylinder.\n",
    "  - Single Primary slice with circular contour\n",
    "    - Secondary: one of:\n",
    "      - SUP Cylinder ending on the same slice.\n",
    "      - INF Cylinder ending on the same slice.\n",
    "- **CONTAINS**\n",
    "  - Concentric cylinders with interior cylinder ending inside the exterior cylinder by one slice\n",
    "**OVERLAPS**\n",
    "  - Concentric cylinders with interior cylinder ending outside the exterior cylinder by one slice\n",
    "  - Concentric cylinders with interior cylinder consisting of single slice ending inside the exterior cylinder by one slice\n"
   ]
  },
  {
   "cell_type": "markdown",
   "metadata": {},
   "source": [
    "  - Primary: Central Cylinder\n",
    "    - Secondary: one of:\n",
    "      - SUP Cylinder\n",
    "      - INF Cylinder\n",
    "      - Combined SUP & INF cylinders in one structure with single slice gap at the SUP/INF boundary of the central cylinder.\n",
    "  - Single Primary slice with circular contour.\n",
    "    - Secondary: one of:\n",
    "      - SUP Cylinder\n",
    "      - INF Cylinder\n",
    "      - Combined SUP & INF Cylinders in one structure with single slice gap at level of the primary slice. \n"
   ]
  }
 ],
 "metadata": {
  "kernelspec": {
   "display_name": "StructureRelations",
   "language": "python",
   "name": "python3"
  },
  "language_info": {
   "codemirror_mode": {
    "name": "ipython",
    "version": 3
   },
   "file_extension": ".py",
   "mimetype": "text/x-python",
   "name": "python",
   "nbconvert_exporter": "python",
   "pygments_lexer": "ipython3",
   "version": "3.11.9"
  }
 },
 "nbformat": 4,
 "nbformat_minor": 2
}
