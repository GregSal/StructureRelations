{
 "cells": [
  {
   "cell_type": "markdown",
   "metadata": {},
   "source": [
    "# Structure Relations\n"
   ]
  },
  {
   "cell_type": "markdown",
   "metadata": {},
   "source": [
    "## Setup"
   ]
  },
  {
   "cell_type": "markdown",
   "metadata": {},
   "source": [
    "### Imports"
   ]
  },
  {
   "cell_type": "code",
   "execution_count": 7,
   "metadata": {},
   "outputs": [],
   "source": [
    "# Type imports\n",
    "from typing import Any, Dict, Tuple\n",
    "\n",
    "# Standard Libraries\n",
    "from pathlib import Path\n",
    "from math import sqrt, pi\n",
    "from statistics import mean\n",
    "from itertools import zip_longest\n",
    "\n",
    "# Shared Packages\n",
    "import numpy as np\n",
    "import pandas as pd\n",
    "import xlwings as xw\n",
    "\n",
    "import pydicom\n",
    "from shapely.geometry import Polygon\n",
    "\n",
    "import RS_DICOM_Utilities\n"
   ]
  },
  {
   "cell_type": "markdown",
   "metadata": {},
   "source": [
    "### Global Settings"
   ]
  },
  {
   "cell_type": "code",
   "execution_count": 8,
   "metadata": {},
   "outputs": [],
   "source": [
    "PRECISION = 3\n"
   ]
  },
  {
   "cell_type": "markdown",
   "metadata": {},
   "source": [
    "### Utility Functions"
   ]
  },
  {
   "cell_type": "code",
   "execution_count": 9,
   "metadata": {},
   "outputs": [],
   "source": [
    "# Load Table\n",
    "def load_table(file_name: Path, sheet_name: str, options: Dict[str, Any])->Any:\n",
    "    '''Get a data collection from a spreadsheet.\n",
    "\n",
    "    Returns the data found starting in the upper left cell of the spreadsheet.\n",
    "\n",
    "    Args:\n",
    "        file_name (Path): Path to the workbook.\n",
    "        sheet_name (str): Name of the sheet in the workbook\n",
    "        options (Dict[str, Any]): Converter options for teh data.\n",
    "\n",
    "    Returns:\n",
    "        Any: The data from the spreadsheet in the format dictated by the\n",
    "            options.\n",
    "    '''\n",
    "    with xw.App() as app:\n",
    "        book = app.books.open(file_name)\n",
    "\n",
    "        range1 = book.sheets[sheet_name].range('A1').expand()\n",
    "        data = range1.options(**options).value\n",
    "    return data"
   ]
  },
  {
   "cell_type": "markdown",
   "metadata": {},
   "source": [
    "### File Paths"
   ]
  },
  {
   "cell_type": "code",
   "execution_count": 10,
   "metadata": {},
   "outputs": [],
   "source": [
    "base_path = Path.cwd()\n",
    "data_path = base_path / 'Test Data'\n",
    "dicom_path = data_path / 'StructureVolumeTests' / 'GJS_Struct_Tests'"
   ]
  },
  {
   "cell_type": "code",
   "execution_count": 11,
   "metadata": {},
   "outputs": [],
   "source": [
    "struct_nm_file = data_path / 'StructureNames Expected Info.xlsx'"
   ]
  },
  {
   "cell_type": "code",
   "execution_count": 12,
   "metadata": {},
   "outputs": [],
   "source": [
    "non_dicom_file = data_path / 'ClinicalLung.dvh'"
   ]
  },
  {
   "cell_type": "code",
   "execution_count": 13,
   "metadata": {},
   "outputs": [],
   "source": [
    "\n",
    "structure_names_file = dicom_path / 'RS.GJS_Struct_Tests.StructureNames.dcm'"
   ]
  },
  {
   "cell_type": "markdown",
   "metadata": {},
   "source": [
    "## Tests"
   ]
  },
  {
   "cell_type": "markdown",
   "metadata": {},
   "source": [
    "### Test invalid file"
   ]
  },
  {
   "cell_type": "code",
   "execution_count": 8,
   "metadata": {},
   "outputs": [
    {
     "data": {
      "text/plain": [
       "{}"
      ]
     },
     "execution_count": 8,
     "metadata": {},
     "output_type": "execute_result"
    }
   ],
   "source": [
    "RS_DICOM_Utilities.get_structure_file_info(non_dicom_file)"
   ]
  },
  {
   "cell_type": "markdown",
   "metadata": {},
   "source": [
    "### 1. Select and load a DICOM structure file  (Use Structures from DICOM)\n"
   ]
  },
  {
   "cell_type": "code",
   "execution_count": 9,
   "metadata": {},
   "outputs": [
    {
     "data": {
      "text/plain": [
       "{'PatientName': 'StructureVolumes^Test',\n",
       " 'PatientLastName': 'StructureVolumes',\n",
       " 'PatientID': 'GJS_Struct_Tests',\n",
       " 'StructureSet': 'StructureNames',\n",
       " 'StudyID': 'Phantom1',\n",
       " 'SeriesNumber': '7',\n",
       " 'File': WindowsPath(\"d:/OneDrive - Queen's University/Python/Projects/StructureRelations/Test Data/StructureVolumeTests/GJS_Struct_Tests/RS.GJS_Struct_Tests.StructureNames.dcm\")}"
      ]
     },
     "execution_count": 9,
     "metadata": {},
     "output_type": "execute_result"
    }
   ],
   "source": [
    "structure_set_info = RS_DICOM_Utilities.get_structure_file_info(structure_names_file)\n",
    "structure_set_info"
   ]
  },
  {
   "cell_type": "code",
   "execution_count": 10,
   "metadata": {},
   "outputs": [
    {
     "data": {
      "text/plain": [
       "{'PatientID': 'GJS_Struct_Tests',\n",
       " 'PatientLastName': 'StructureVolumes',\n",
       " 'StructureSet': 'StructureNames',\n",
       " 'StudyID': 'Phantom1',\n",
       " 'SeriesNumber': 7.0}"
      ]
     },
     "execution_count": 10,
     "metadata": {},
     "output_type": "execute_result"
    }
   ],
   "source": [
    "structure_set_info_expected = load_table(struct_nm_file, 'structure_set_info',\n",
    "                                         {'convert': dict})\n",
    "structure_set_info_expected"
   ]
  },
  {
   "cell_type": "code",
   "execution_count": 11,
   "metadata": {},
   "outputs": [],
   "source": [
    "dataset = pydicom.dcmread(structure_set_info['File'])"
   ]
  },
  {
   "cell_type": "markdown",
   "metadata": {},
   "source": [
    "### 2. Collect information on all structures\n",
    "   - Structure Id\n",
    "   - Code Meaning \n",
    "   - Volume type\n",
    "   - Structure class (Target, OAR, External, Utility)\n"
   ]
  },
  {
   "cell_type": "code",
   "execution_count": 12,
   "metadata": {},
   "outputs": [
    {
     "name": "stdout",
     "output_type": "stream",
     "text": [
      "<class 'pandas.core.series.Series'>\n",
      "Index: 95 entries, 26 to 98\n",
      "Series name: StructureID\n",
      "Non-Null Count  Dtype \n",
      "--------------  ----- \n",
      "95 non-null     object\n",
      "dtypes: object(1)\n",
      "memory usage: 1.5+ KB\n"
     ]
    }
   ],
   "source": [
    "roi_id = RS_DICOM_Utilities.get_names_nums(dataset)\n",
    "roi_id.info()"
   ]
  },
  {
   "cell_type": "code",
   "execution_count": 13,
   "metadata": {},
   "outputs": [
    {
     "data": {
      "text/plain": [
       "count         95\n",
       "unique         2\n",
       "top       MANUAL\n",
       "freq          94\n",
       "Name: GenerationAlgorithm, dtype: object"
      ]
     },
     "execution_count": 13,
     "metadata": {},
     "output_type": "execute_result"
    }
   ],
   "source": [
    "roi_gen = RS_DICOM_Utilities.get_gen_alg(dataset)\n",
    "roi_gen.describe()"
   ]
  },
  {
   "cell_type": "code",
   "execution_count": 14,
   "metadata": {},
   "outputs": [
    {
     "data": {
      "text/html": [
       "<div>\n",
       "<style scoped>\n",
       "    .dataframe tbody tr th:only-of-type {\n",
       "        vertical-align: middle;\n",
       "    }\n",
       "\n",
       "    .dataframe tbody tr th {\n",
       "        vertical-align: top;\n",
       "    }\n",
       "\n",
       "    .dataframe thead th {\n",
       "        text-align: right;\n",
       "    }\n",
       "</style>\n",
       "<table border=\"1\" class=\"dataframe\">\n",
       "  <thead>\n",
       "    <tr style=\"text-align: right;\">\n",
       "      <th></th>\n",
       "      <th>StructureID</th>\n",
       "      <th>StructureName</th>\n",
       "      <th>DICOM_Type</th>\n",
       "      <th>Code</th>\n",
       "      <th>CodeScheme</th>\n",
       "      <th>CodeMeaning</th>\n",
       "      <th>GenerationAlgorithm</th>\n",
       "    </tr>\n",
       "  </thead>\n",
       "  <tbody>\n",
       "    <tr>\n",
       "      <th>count</th>\n",
       "      <td>95</td>\n",
       "      <td>93</td>\n",
       "      <td>93</td>\n",
       "      <td>93</td>\n",
       "      <td>93</td>\n",
       "      <td>93</td>\n",
       "      <td>95</td>\n",
       "    </tr>\n",
       "    <tr>\n",
       "      <th>unique</th>\n",
       "      <td>95</td>\n",
       "      <td>93</td>\n",
       "      <td>10</td>\n",
       "      <td>48</td>\n",
       "      <td>4</td>\n",
       "      <td>48</td>\n",
       "      <td>2</td>\n",
       "    </tr>\n",
       "    <tr>\n",
       "      <th>top</th>\n",
       "      <td>Mandible</td>\n",
       "      <td>Mandible</td>\n",
       "      <td>ORGAN</td>\n",
       "      <td>PTV_Low</td>\n",
       "      <td>99VMS_STRUCTCODE</td>\n",
       "      <td>Planning Target Volume Low Risk</td>\n",
       "      <td>MANUAL</td>\n",
       "    </tr>\n",
       "    <tr>\n",
       "      <th>freq</th>\n",
       "      <td>1</td>\n",
       "      <td>1</td>\n",
       "      <td>24</td>\n",
       "      <td>10</td>\n",
       "      <td>64</td>\n",
       "      <td>10</td>\n",
       "      <td>94</td>\n",
       "    </tr>\n",
       "  </tbody>\n",
       "</table>\n",
       "</div>"
      ],
      "text/plain": [
       "       StructureID StructureName DICOM_Type     Code        CodeScheme  \\\n",
       "count           95            93         93       93                93   \n",
       "unique          95            93         10       48                 4   \n",
       "top       Mandible      Mandible      ORGAN  PTV_Low  99VMS_STRUCTCODE   \n",
       "freq             1             1         24       10                64   \n",
       "\n",
       "                            CodeMeaning GenerationAlgorithm  \n",
       "count                                93                  95  \n",
       "unique                               48                   2  \n",
       "top     Planning Target Volume Low Risk              MANUAL  \n",
       "freq                                 10                  94  "
      ]
     },
     "execution_count": 14,
     "metadata": {},
     "output_type": "execute_result"
    }
   ],
   "source": [
    "roi_labels = RS_DICOM_Utilities.get_roi_labels(dataset)\n",
    "roi_labels.describe()"
   ]
  },
  {
   "cell_type": "code",
   "execution_count": 15,
   "metadata": {},
   "outputs": [
    {
     "data": {
      "text/plain": [
       "Index(['StructureID', 'StructureName', 'DICOM_Type', 'Code', 'CodeScheme',\n",
       "       'CodeMeaning', 'GenerationAlgorithm'],\n",
       "      dtype='object')"
      ]
     },
     "execution_count": 15,
     "metadata": {},
     "output_type": "execute_result"
    }
   ],
   "source": [
    "roi_labels.columns"
   ]
  },
  {
   "cell_type": "code",
   "execution_count": 16,
   "metadata": {},
   "outputs": [
    {
     "data": {
      "text/html": [
       "<div>\n",
       "<style scoped>\n",
       "    .dataframe tbody tr th:only-of-type {\n",
       "        vertical-align: middle;\n",
       "    }\n",
       "\n",
       "    .dataframe tbody tr th {\n",
       "        vertical-align: top;\n",
       "    }\n",
       "\n",
       "    .dataframe thead th {\n",
       "        text-align: right;\n",
       "    }\n",
       "</style>\n",
       "<table border=\"1\" class=\"dataframe\">\n",
       "  <thead>\n",
       "    <tr style=\"text-align: right;\">\n",
       "      <th></th>\n",
       "      <th>StructureID</th>\n",
       "      <th>VolumeName</th>\n",
       "      <th>DICOM_Type</th>\n",
       "      <th>Code</th>\n",
       "      <th>CodeScheme</th>\n",
       "      <th>CodeMeaning</th>\n",
       "    </tr>\n",
       "  </thead>\n",
       "  <tbody>\n",
       "    <tr>\n",
       "      <th>count</th>\n",
       "      <td>95</td>\n",
       "      <td>92</td>\n",
       "      <td>86</td>\n",
       "      <td>93</td>\n",
       "      <td>93</td>\n",
       "      <td>93</td>\n",
       "    </tr>\n",
       "    <tr>\n",
       "      <th>unique</th>\n",
       "      <td>95</td>\n",
       "      <td>92</td>\n",
       "      <td>10</td>\n",
       "      <td>48</td>\n",
       "      <td>4</td>\n",
       "      <td>48</td>\n",
       "    </tr>\n",
       "    <tr>\n",
       "      <th>top</th>\n",
       "      <td>BODY</td>\n",
       "      <td>BODY</td>\n",
       "      <td>ORGAN</td>\n",
       "      <td>PTV_Low</td>\n",
       "      <td>99VMS_STRUCTCODE</td>\n",
       "      <td>Planning Target Volume Low Risk</td>\n",
       "    </tr>\n",
       "    <tr>\n",
       "      <th>freq</th>\n",
       "      <td>1</td>\n",
       "      <td>1</td>\n",
       "      <td>24</td>\n",
       "      <td>10</td>\n",
       "      <td>64</td>\n",
       "      <td>10</td>\n",
       "    </tr>\n",
       "  </tbody>\n",
       "</table>\n",
       "</div>"
      ],
      "text/plain": [
       "       StructureID VolumeName DICOM_Type     Code        CodeScheme  \\\n",
       "count           95         92         86       93                93   \n",
       "unique          95         92         10       48                 4   \n",
       "top           BODY       BODY      ORGAN  PTV_Low  99VMS_STRUCTCODE   \n",
       "freq             1          1         24       10                64   \n",
       "\n",
       "                            CodeMeaning  \n",
       "count                                93  \n",
       "unique                               48  \n",
       "top     Planning Target Volume Low Risk  \n",
       "freq                                 10  "
      ]
     },
     "execution_count": 16,
     "metadata": {},
     "output_type": "execute_result"
    }
   ],
   "source": [
    "structure_names_expected = load_table(struct_nm_file, 'StructureNames',\n",
    "                                      {'convert': pd.DataFrame})\n",
    "structure_names_expected.describe()"
   ]
  },
  {
   "cell_type": "code",
   "execution_count": null,
   "metadata": {},
   "outputs": [],
   "source": []
  },
  {
   "cell_type": "code",
   "execution_count": 17,
   "metadata": {},
   "outputs": [
    {
     "data": {
      "text/plain": [
       "Index(['StructureID', 'VolumeName', 'DICOM_Type', 'Code', 'CodeScheme',\n",
       "       'CodeMeaning'],\n",
       "      dtype='object')"
      ]
     },
     "execution_count": 17,
     "metadata": {},
     "output_type": "execute_result"
    }
   ],
   "source": [
    "structure_names_expected.columns"
   ]
  },
  {
   "cell_type": "code",
   "execution_count": null,
   "metadata": {},
   "outputs": [],
   "source": []
  },
  {
   "cell_type": "code",
   "execution_count": 18,
   "metadata": {},
   "outputs": [],
   "source": [
    "compare_columns = ['StructureID', 'DICOM_Type', 'Code', 'CodeScheme']"
   ]
  },
  {
   "cell_type": "markdown",
   "metadata": {},
   "source": [
    "### 3. Drop non-standard structures:\n",
    "   - Matchplane, Baseline\n",
    "   - Z, X structures\n",
    "   - Dose Structures  -- No Keep!\n",
    "   - Avoid Structures  -- No Keep!\n",
    "   - $ Structures??\n"
   ]
  },
  {
   "cell_type": "code",
   "execution_count": 19,
   "metadata": {},
   "outputs": [],
   "source": [
    "drop_conditions = {\n",
    "    'startswith': ('x','z'),\n",
    "    'isin':  ['dpv', 'baseline', 'matchplane', 'field']\n",
    "    }"
   ]
  },
  {
   "cell_type": "code",
   "execution_count": 20,
   "metadata": {},
   "outputs": [],
   "source": [
    "\n",
    "cnd_startswith = drop_conditions['startswith']\n",
    "idx_startswith = roi_labels.StructureID.str.lower().str.startswith(cnd_startswith)\n"
   ]
  },
  {
   "cell_type": "code",
   "execution_count": 21,
   "metadata": {},
   "outputs": [],
   "source": [
    "\n",
    "cnd_isin = drop_conditions['isin']\n",
    "idx_isin = roi_labels.StructureID.str.lower().isin(cnd_isin)\n"
   ]
  },
  {
   "cell_type": "code",
   "execution_count": 22,
   "metadata": {},
   "outputs": [],
   "source": [
    "drop_idx = (idx_isin | idx_startswith)"
   ]
  },
  {
   "cell_type": "code",
   "execution_count": 23,
   "metadata": {},
   "outputs": [
    {
     "data": {
      "text/plain": [
       "13           DPV\n",
       "67            X1\n",
       "68          xCTV\n",
       "59            Z1\n",
       "60            Z2\n",
       "61            Z3\n",
       "64      Baseline\n",
       "65    Matchplane\n",
       "77         Field\n",
       "81         X PRV\n",
       "Name: StructureID, dtype: object"
      ]
     },
     "execution_count": 23,
     "metadata": {},
     "output_type": "execute_result"
    }
   ],
   "source": [
    "roi_labels.loc[drop_idx, 'StructureID']"
   ]
  },
  {
   "cell_type": "code",
   "execution_count": 24,
   "metadata": {},
   "outputs": [],
   "source": [
    "keep_structures = roi_labels.loc[~drop_idx, :]\n"
   ]
  },
  {
   "cell_type": "code",
   "execution_count": 26,
   "metadata": {},
   "outputs": [
    {
     "name": "stdout",
     "output_type": "stream",
     "text": [
      "<class 'pandas.core.frame.DataFrame'>\n",
      "Index: 85 entries, 26 to 98\n",
      "Data columns (total 7 columns):\n",
      " #   Column               Non-Null Count  Dtype \n",
      "---  ------               --------------  ----- \n",
      " 0   StructureID          85 non-null     object\n",
      " 1   StructureName        83 non-null     object\n",
      " 2   DICOM_Type           83 non-null     object\n",
      " 3   Code                 83 non-null     object\n",
      " 4   CodeScheme           83 non-null     object\n",
      " 5   CodeMeaning          83 non-null     object\n",
      " 6   GenerationAlgorithm  85 non-null     object\n",
      "dtypes: object(7)\n",
      "memory usage: 5.3+ KB\n"
     ]
    }
   ],
   "source": [
    "#xw.view(keep_structures)\n",
    "keep_structures.info()"
   ]
  },
  {
   "cell_type": "markdown",
   "metadata": {},
   "source": [
    "# Done To Here"
   ]
  },
  {
   "cell_type": "markdown",
   "metadata": {},
   "source": [
    "### 4. Interpolate structures with missing slices\n",
    "- How to tell the difference between structures with missing slices and multi-region structures\n",
    "1. distance between slices with contours\n",
    "2. Multiple Gaps\n",
    "3. intersection between projection of contour from previous slice onto contour in current slice\n"
   ]
  },
  {
   "cell_type": "markdown",
   "metadata": {},
   "source": [
    "5. Collect structure geometry information\n",
    "   - Volume\n",
    "   - Resolution \n",
    "   - Single / Multi volume \n",
    "   - Shell\n"
   ]
  },
  {
   "cell_type": "markdown",
   "metadata": {},
   "source": [
    "6. Identify relationships between all structures\n",
    "   - Structures are nodes relationships are directional edges\n",
    "   - Calculate relationship metrics \n",
    "   - Flag Logical relations?\n",
    "     - Logical relations are identified by multiple paths between two nodes\n",
    "     - The shorter path is a logical relationship "
   ]
  },
  {
   "cell_type": "code",
   "execution_count": 14,
   "metadata": {},
   "outputs": [],
   "source": [
    "\n",
    "dataset = pydicom.dcmread(structure_names_file)"
   ]
  },
  {
   "cell_type": "markdown",
   "metadata": {},
   "source": [
    "## Structure Set File Parameters Available\n",
    "\n",
    "|Element      |Description                         |Data Type|\n",
    "|-------------|------------------------------------|---------|\n",
    "|(0010, 0020) |Patient ID                          |LO|\n",
    "|(0010, 0010) |Patient's Name                      |PN|\n",
    "|(0010, 0030) |Patient's Birth Date                |DA|\n",
    "|(0010, 0040) |Patient's Sex                       |CS|\n",
    "|-------------|------------------------------------|---------|\n",
    "|(0008, 0060) |Modality                            |CS|\n",
    "|(0020, 0010) |Study ID                            |SH|\n",
    "|(0020, 0011) |Series Number                       |IS|\n",
    "|(0008, 1030) |Study Description                   |LO|\n",
    "|(0008, 103e) |Series Description                  |LO|\n",
    "|(3006, 0002) |Structure Set Label                 |SH|\n",
    "|(300e, 0002) |Approval Status                     |CS|\n",
    "|-------------|------------------------------------|---------|\n",
    "|(0008, 0020) |Study Date                          |DA|\n",
    "|(0008, 0030) |Study Time                          |TM|\n",
    "|(3006, 0008) |Structure Set Date                  |DA|\n",
    "|(3006, 0009) |Structure Set Time                  |TM|\n",
    "|(0008, 0012) |Instance Creation Date              |DA|\n",
    "|(0008, 0013) |Instance Creation Time              |TM|\n",
    "|-------------|------------------------------------|---------|\n",
    "|(0008, 0070) |Manufacturer                        |LO|\n",
    "|(0008, 1090) |Manufacturer's Model Name           |LO|\n",
    "|(0018, 1000) |Device Serial Number                |LO|\n",
    "|(0018, 1020) |Software Versions                   |LO|\n",
    "|(0008, 0090) |Referring Physician's Name          |PN|\n",
    "|(0008, 1070) |Operators' Name                     |PN|\n",
    "|(0008, 1010) |Station Name                        |SH|\n",
    "|(0008, 0050) |Accession Number                    |SH|\n",
    "|-------------|------------------------------------|---------|\n",
    "|(0008, 0005) |Specific Character Set              |CS|\n",
    "|(0002, 0013) |Implementation Version Name         |SH|\n",
    "|(0002, 0000) |File Meta Information Group Length  |UL|\n",
    "|(0002, 0001) |File Meta Information Version       |OB|\n",
    "|-------------|------------------------------------|---------|\n",
    "|(0002, 0002) |Media Storage SOP Class UID         |UI|\n",
    "|(0002, 0003) |Media Storage SOP Instance UID      |UI|\n",
    "|(0002, 0010) |Transfer Syntax UID                 |UI|\n",
    "|(0002, 0012) |Implementation Class UID            |UI|\n",
    "|(0008, 0016) |SOP Class UID                       |UI|\n",
    "|(0008, 0018) |SOP Instance UID                    |UI|\n",
    "|(0020, 000d) |Study Instance UID                  |UI|\n",
    "|(0020, 000e) |Series Instance UID                 |UI|\n",
    "\n"
   ]
  },
  {
   "cell_type": "markdown",
   "metadata": {},
   "source": [
    "## (3006, 0020)  Structure Set ROI Sequence\n",
    "|Element      |Description                         |Data Type|\n",
    "|-------------|------------------------------------|---------|\n",
    "|(3006, 0022)|ROI Number                          |IS|\n",
    "|(3006, 0024)|Referenced Frame of Reference UID   |UI|\n",
    "|(3006, 0026)|ROI Name                            |LO|\n",
    "|(3006, 0036)|ROI Generation Algorithm            |CS|\n",
    "\n",
    "\n",
    "## (3006, 0039)  ROI Contour Sequence\n",
    "\n",
    "|Element      |Description                         |Data Type|\n",
    "|-------------|------------------------------------|---------|\n",
    "|(3006, 002a) |ROI Display Color                   |IS|\n",
    "|(3006, 0084) |Referenced ROI Number               |IS|\n",
    "\n",
    "\n",
    "## (3006, 0040)  Contour Sequence\n",
    "\n",
    "|Element      |Description                         |Data Type|\n",
    "|-------------|------------------------------------|---------|\n",
    "|(3006, 0042) |Contour Geometric Type              |CS|\n",
    "|(3006, 0046) |Number of Contour Points            |IS|\n",
    "|(3006, 0050) |Contour Data                        |DS|\n",
    "\n",
    "\n",
    "## (3006, 0080)  RT ROI Observations Sequence\n",
    "|Element      |Description                         |Data Type|\n",
    "|-------------|------------------------------------|---------|\n",
    "|(3006, 0082) |Observation Number                  |IS|\n",
    "|(3006, 0084) |Referenced ROI Number               |IS|\n",
    "|(3006, 0085) |ROI Observation Label               |SH|\n",
    "|(3006, 00a4) |RT ROI Interpreted Type             |CS|\n",
    "|(3006, 00a6) |ROI Interpreter                     |PN|\n",
    "\n",
    "### (3006, 00b0)  ROI Physical Properties Sequence\n",
    "|Element      |Description                  |Data Type|\n",
    "|-------------|-----------------------------|---------|\n",
    "|(3006, 00b2) |ROI Physical Property        |CS|\n",
    "|(3006, 00b4) |ROI Physical Property Value  |DS|\n",
    "\n",
    "### (3006, 0086)  RT ROI Identification Code Sequence\n",
    "|Element      |Description                 |Data Type|\n",
    "|-------------|----------------------------|---------|\n",
    "|(0008, 0100) |Code Value                  |SH|\n",
    "|(0008, 0102) |Coding Scheme Designator    |SH|\n",
    "|(0008, 0103) |Coding Scheme Version       |SH|\n",
    "|(0008, 0104) |Code Meaning                |LO|\n",
    "|(0008, 0105) |Mapping Resource            |CS|\n",
    "|(0008, 0106) |Context Group Version       |DT|\n",
    "|(0008, 010f) |Context Identifier          |CS|\n",
    "|(0008, 0117) |Context UID                 |UI|\n",
    "|(0008, 0118) |Mapping Resource UID        |UI|\n",
    "|(0008, 0122) |Mapping Resource Name       |LO|\n"
   ]
  },
  {
   "cell_type": "code",
   "execution_count": null,
   "metadata": {},
   "outputs": [],
   "source": [
    "dataset"
   ]
  }
 ],
 "metadata": {
  "kernelspec": {
   "display_name": "StructureRelations",
   "language": "python",
   "name": "python3"
  },
  "language_info": {
   "codemirror_mode": {
    "name": "ipython",
    "version": 3
   },
   "file_extension": ".py",
   "mimetype": "text/x-python",
   "name": "python",
   "nbconvert_exporter": "python",
   "pygments_lexer": "ipython3",
   "version": "3.11.8"
  }
 },
 "nbformat": 4,
 "nbformat_minor": 2
}
