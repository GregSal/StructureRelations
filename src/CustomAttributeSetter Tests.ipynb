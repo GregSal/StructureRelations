{
 "cells": [
  {
   "cell_type": "markdown",
   "metadata": {},
   "source": [
    "# Custom Attribute Setter"
   ]
  },
  {
   "cell_type": "code",
   "execution_count": 2,
   "metadata": {},
   "outputs": [],
   "source": [
    "from dataclasses import dataclass\n",
    "from typing import Any"
   ]
  },
  {
   "cell_type": "code",
   "execution_count": 3,
   "metadata": {},
   "outputs": [],
   "source": [
    "@dataclass\n",
    "class A:\n",
    "    A1 = 1\n",
    "    A2 = 2\n",
    "\n",
    "@dataclass\n",
    "class B:\n",
    "    B1 = 1\n",
    "    B2 = 2"
   ]
  },
  {
   "cell_type": "code",
   "execution_count": 4,
   "metadata": {},
   "outputs": [],
   "source": [
    "class C:\n",
    "    def __init__(self, **kwargs) -> None:\n",
    "        super().__setattr__('A', A())\n",
    "        super().__setattr__('B', B())\n",
    "        #self.set(**kwargs)\n",
    "\n",
    "    def set(self, **kwargs):\n",
    "        for key, val in kwargs:\n",
    "            setattr(self, key, val)\n",
    "\n",
    "    def __setattr__(self, attr: str, value: Any):\n",
    "        if hasattr(self.A, attr):\n",
    "            self.A.__setattr__(attr, value)\n",
    "        elif hasattr(self.B, attr):\n",
    "            self.B.__setattr__(attr, value)\n",
    "        else:\n",
    "            super().__setattr__(attr, value)\n",
    "\n",
    "    def __getattr__(self, atr_name:str):\n",
    "        if hasattr(self.A, atr_name):\n",
    "            return self.A.__getattribute__(atr_name)\n",
    "        if hasattr(self.B, atr_name):\n",
    "            return self.B.__getattribute__(atr_name)\n",
    "        super().__getattr__(atr_name)"
   ]
  },
  {
   "cell_type": "code",
   "execution_count": 5,
   "metadata": {},
   "outputs": [
    {
     "data": {
      "text/plain": [
       "<__main__.C at 0x208023caa10>"
      ]
     },
     "execution_count": 5,
     "metadata": {},
     "output_type": "execute_result"
    }
   ],
   "source": [
    "C()"
   ]
  }
 ],
 "metadata": {
  "kernelspec": {
   "display_name": "StructureRelations",
   "language": "python",
   "name": "python3"
  },
  "language_info": {
   "codemirror_mode": {
    "name": "ipython",
    "version": 3
   },
   "file_extension": ".py",
   "mimetype": "text/x-python",
   "name": "python",
   "nbconvert_exporter": "python",
   "pygments_lexer": "ipython3",
   "version": "3.11.9"
  }
 },
 "nbformat": 4,
 "nbformat_minor": 2
}
