{
 "cells": [
  {
   "cell_type": "markdown",
   "metadata": {},
   "source": [
    "# Relate Error:\n",
    "There seems to be a problem with the shapley.relates function. It is not returning the correct relationship between the two polygons."
   ]
  },
  {
   "cell_type": "markdown",
   "metadata": {},
   "source": [
    "## Setup"
   ]
  },
  {
   "cell_type": "markdown",
   "metadata": {},
   "source": [
    "### Imports"
   ]
  },
  {
   "cell_type": "code",
   "execution_count": 1,
   "metadata": {},
   "outputs": [],
   "source": [
    "from math import radians, cos, sin\n",
    "import numpy as np\n",
    "import matplotlib.pyplot as plt\n",
    "import shapely\n",
    "from shapely.plotting import plot_polygon, plot_line\n"
   ]
  },
  {
   "cell_type": "code",
   "execution_count": 2,
   "metadata": {},
   "outputs": [],
   "source": [
    "%matplotlib inline"
   ]
  },
  {
   "cell_type": "code",
   "execution_count": 3,
   "metadata": {},
   "outputs": [],
   "source": [
    "PRECISION = 3\n"
   ]
  },
  {
   "cell_type": "code",
   "execution_count": 4,
   "metadata": {},
   "outputs": [],
   "source": [
    "def circle_points(radius: float, offset_x: float = 0, offset_y: float = 0,\n",
    "                  num_points: int = 16, precision=PRECISION,\n",
    "                  z:float=None)->list[tuple[float, float]]:\n",
    "    deg_step = radians(360/num_points)\n",
    "    degree_points = np.arange(stop=radians(360), step=deg_step)\n",
    "    if radius == 0:\n",
    "        radius = 10**(-precision)\n",
    "    x_coord = np.array([round(radius*sin(d), precision) for d in degree_points])\n",
    "    y_coord = np.array([round(radius*cos(d), precision) for d in degree_points])\n",
    "    x_coord = x_coord + offset_x\n",
    "    y_coord = y_coord + offset_y\n",
    "    if z is not None:\n",
    "        z = float(z)\n",
    "        coords = [(x,y,z) for x,y in zip(x_coord,y_coord)]\n",
    "    else:\n",
    "        coords = list(zip(x_coord,y_coord))\n",
    "    return coords"
   ]
  },
  {
   "cell_type": "code",
   "execution_count": 5,
   "metadata": {},
   "outputs": [],
   "source": [
    "def plot_ab(poly_a, poly_b):\n",
    "    def plot_geom(ax, geom, color='black'):\n",
    "        if isinstance(geom, (shapely.Polygon, shapely.MultiPolygon)):\n",
    "            plot_polygon(geom, ax=ax, add_points=False, color=color, facecolor=color)\n",
    "        elif isinstance(geom, (shapely.LineString, shapely.MultiLineString,\n",
    "                               shapely.LinearRing, shapely.LinearRing)):\n",
    "            plot_line(geom, ax=ax, add_points=False, color=color)\n",
    "        elif isinstance(geom, shapely.GeometryCollection):\n",
    "            # plot each of the geometry objects in the collection\n",
    "            for g in geom.geoms:\n",
    "                plot_geom(ax, g, color)\n",
    "\n",
    "    fig = plt.figure(1, figsize=(4,2))\n",
    "    ax = fig.add_subplot(121)\n",
    "    ax.set_axis_off()\n",
    "    ax.axis('equal')\n",
    "\n",
    "    only_a = shapely.difference(poly_a, poly_b)\n",
    "    plot_geom(ax, only_a, color='blue')\n",
    "    only_b = shapely.difference(poly_b, poly_a)\n",
    "    plot_geom(ax, only_b, color='green')\n",
    "    both_ab = shapely.intersection(poly_a, poly_b)\n",
    "    plot_geom(ax, both_ab, color='orange')\n",
    "\n",
    "    ax.axhline(0, color='gray', linestyle='--')\n",
    "    ax.axvline(0, color='gray', linestyle='--')\n",
    "    plt.show()\n",
    "    return ax"
   ]
  },
  {
   "cell_type": "code",
   "execution_count": 6,
   "metadata": {},
   "outputs": [],
   "source": [
    "circle6 = shapely.Polygon(circle_points(3))\n",
    "circle4_offset = shapely.Polygon(circle_points(2, offset_x=2))\n",
    "cropped_circle = shapely.intersection(circle6, circle4_offset)\n"
   ]
  },
  {
   "cell_type": "code",
   "execution_count": 7,
   "metadata": {},
   "outputs": [
    {
     "data": {
      "image/png": "[encoded data removed]",
      "text/plain": [
       "<Figure size 400x200 with 1 Axes>"
      ]
     },
     "metadata": {},
     "output_type": "display_data"
    }
   ],
   "source": [
    "ax = plot_ab(circle6, cropped_circle)"
   ]
  },
  {
   "cell_type": "code",
   "execution_count": 8,
   "metadata": {},
   "outputs": [
    {
     "data": {
      "text/plain": [
       "'212111212'"
      ]
     },
     "execution_count": 8,
     "metadata": {},
     "output_type": "execute_result"
    }
   ],
   "source": [
    "circle6.relate(cropped_circle)"
   ]
  },
  {
   "cell_type": "markdown",
   "metadata": {},
   "source": [
    "`'212111212'` is a rather odd relationship code. \n",
    "It says that the two polygons both have parts that are exterior to the other, but the difference between cropped_circle and circle6 is an empty polygon."
   ]
  },
  {
   "cell_type": "code",
   "execution_count": 9,
   "metadata": {},
   "outputs": [
    {
     "data": {
      "text/plain": [
       "0.0"
      ]
     },
     "execution_count": 9,
     "metadata": {},
     "output_type": "execute_result"
    }
   ],
   "source": [
    "dif = cropped_circle - circle6\n",
    "dif.area\n"
   ]
  },
  {
   "cell_type": "code",
   "execution_count": 10,
   "metadata": {},
   "outputs": [
    {
     "data": {
      "text/plain": [
       "[]"
      ]
     },
     "execution_count": 10,
     "metadata": {},
     "output_type": "execute_result"
    }
   ],
   "source": [
    "shapely.get_coordinates(dif).tolist()"
   ]
  },
  {
   "cell_type": "code",
   "execution_count": 11,
   "metadata": {},
   "outputs": [
    {
     "data": {
      "text/plain": [
       "'212111212'"
      ]
     },
     "execution_count": 11,
     "metadata": {},
     "output_type": "execute_result"
    }
   ],
   "source": [
    "cropped_circle.relate(circle6)"
   ]
  },
  {
   "cell_type": "markdown",
   "metadata": {},
   "source": [
    "The transposed relation produces the same result, which is also incorrect."
   ]
  },
  {
   "cell_type": "markdown",
   "metadata": {},
   "source": [
    "## First guess is a rounding error"
   ]
  },
  {
   "cell_type": "code",
   "execution_count": 12,
   "metadata": {},
   "outputs": [
    {
     "data": {
      "image/svg+xml": [
       "<svg xmlns=\"http://www.w3.org/2000/svg\" xmlns:xlink=\"http://www.w3.org/1999/xlink\" width=\"100.0\" height=\"100.0\" viewBox=\"-0.16 -2.16 3.3200000000000003 4.32\" preserveAspectRatio=\"xMinYMin meet\"><g transform=\"matrix(1,0,0,-1,0,0.0)\"><path fill-rule=\"evenodd\" fill=\"#66cc99\" stroke=\"#555555\" stroke-width=\"0.0864\" opacity=\"0.6\" d=\"M 2.232920964435623,1.9537202789618109 L 2.772,1.148 L 3.0,0.0 L 2.772,-1.148 L 2.232920964435623,-1.9537202789618109 L 2.0,-2.0 L 1.2349999999999999,-1.848 L 0.5860000000000001,-1.414 L 0.1519999999999999,-0.765 L 0.0,0.0 L 0.1519999999999999,0.765 L 0.5860000000000001,1.414 L 1.2349999999999999,1.848 L 2.0,2.0 L 2.232920964435623,1.9537202789618109 z\" /></g></svg>"
      ],
      "text/plain": [
       "<POLYGON ((2.23 1.95, 2.77 1.15, 3 0, 2.77 -1.15, 2.23 -1.95, 2 -2, 1.23 -1....>"
      ]
     },
     "execution_count": 12,
     "metadata": {},
     "output_type": "execute_result"
    }
   ],
   "source": [
    "simplified = shapely.simplify(cropped_circle, 10**-PRECISION)\n",
    "simplified"
   ]
  },
  {
   "cell_type": "code",
   "execution_count": 13,
   "metadata": {},
   "outputs": [
    {
     "data": {
      "text/plain": [
       "'212111212'"
      ]
     },
     "execution_count": 13,
     "metadata": {},
     "output_type": "execute_result"
    }
   ],
   "source": [
    "circle6.relate(simplified)"
   ]
  },
  {
   "cell_type": "code",
   "execution_count": 14,
   "metadata": {},
   "outputs": [
    {
     "data": {
      "image/svg+xml": [
       "<svg xmlns=\"http://www.w3.org/2000/svg\" xmlns:xlink=\"http://www.w3.org/1999/xlink\" width=\"100.0\" height=\"100.0\" viewBox=\"-0.16 -2.16 3.3200000000000003 4.32\" preserveAspectRatio=\"xMinYMin meet\"><g transform=\"matrix(1,0,0,-1,0,0.0)\"><path fill-rule=\"evenodd\" fill=\"#66cc99\" stroke=\"#555555\" stroke-width=\"0.0864\" opacity=\"0.6\" d=\"M 2.232920964435623,1.9537202789618109 L 2.772,1.148 L 3.0,0.0 L 2.772,-1.148 L 2.232920964435623,-1.9537202789618109 L 2.0,-2.0 L 1.2349999999999999,-1.848 L 0.5860000000000001,-1.414 L 0.1519999999999999,-0.765 L 0.0,0.0 L 0.1519999999999999,0.765 L 0.5860000000000001,1.414 L 1.2349999999999999,1.848 L 2.0,2.0 L 2.232920964435623,1.9537202789618109 z\" /></g></svg>"
      ],
      "text/plain": [
       "<POLYGON ((2.23 1.95, 2.77 1.15, 3 0, 2.77 -1.15, 2.23 -1.95, 2 -2, 1.23 -1....>"
      ]
     },
     "execution_count": 14,
     "metadata": {},
     "output_type": "execute_result"
    }
   ],
   "source": [
    "snapped = shapely.snap(cropped_circle, circle6, 10**-PRECISION)\n",
    "snapped"
   ]
  },
  {
   "cell_type": "code",
   "execution_count": 15,
   "metadata": {},
   "outputs": [
    {
     "data": {
      "text/plain": [
       "'212111212'"
      ]
     },
     "execution_count": 15,
     "metadata": {},
     "output_type": "execute_result"
    }
   ],
   "source": [
    "circle6.relate(snapped)"
   ]
  },
  {
   "cell_type": "code",
   "execution_count": 16,
   "metadata": {},
   "outputs": [
    {
     "data": {
      "text/plain": [
       "'212111212'"
      ]
     },
     "execution_count": 16,
     "metadata": {},
     "output_type": "execute_result"
    }
   ],
   "source": [
    "simplified = shapely.simplify(cropped_circle, 10**-2)\n",
    "circle6.relate(simplified)"
   ]
  },
  {
   "cell_type": "code",
   "execution_count": 17,
   "metadata": {},
   "outputs": [
    {
     "data": {
      "text/plain": [
       "'212111212'"
      ]
     },
     "execution_count": 17,
     "metadata": {},
     "output_type": "execute_result"
    }
   ],
   "source": [
    "snapped = shapely.snap(cropped_circle, circle6, 10**-2)\n",
    "circle6.relate(snapped)"
   ]
  },
  {
   "cell_type": "markdown",
   "metadata": {},
   "source": [
    "## If precision is set to 2, the result is correct"
   ]
  },
  {
   "cell_type": "code",
   "execution_count": 18,
   "metadata": {},
   "outputs": [
    {
     "data": {
      "text/plain": [
       "'212F11FF2'"
      ]
     },
     "execution_count": 18,
     "metadata": {},
     "output_type": "execute_result"
    }
   ],
   "source": [
    "circle6 = shapely.Polygon(circle_points(3, precision=2))\n",
    "circle4_offset = shapely.Polygon(circle_points(2, offset_x=2, precision=2))\n",
    "cropped_circle = shapely.intersection(circle6, circle4_offset)\n",
    "\n",
    "circle6.relate(cropped_circle)"
   ]
  },
  {
   "cell_type": "markdown",
   "metadata": {},
   "source": [
    "## Try removing the rounding using `simplify` or `snap`"
   ]
  },
  {
   "cell_type": "code",
   "execution_count": 19,
   "metadata": {},
   "outputs": [],
   "source": [
    "def circle_points_no_round(radius: float,\n",
    "                           offset_x: float = 0, offset_y: float = 0,\n",
    "                           num_points: int = 16)->list[tuple[float, float]]:\n",
    "    deg_step = radians(360/num_points)\n",
    "    degree_points = np.arange(stop=radians(360), step=deg_step)\n",
    "    x_coord = np.array([radius*sin(d) for d in degree_points])\n",
    "    y_coord = np.array([radius*cos(d) for d in degree_points])\n",
    "    x_coord = x_coord + offset_x\n",
    "    y_coord = y_coord + offset_y\n",
    "    coords = list(zip(x_coord,y_coord))\n",
    "    return coords"
   ]
  },
  {
   "cell_type": "code",
   "execution_count": 20,
   "metadata": {},
   "outputs": [
    {
     "data": {
      "text/plain": [
       "'212111212'"
      ]
     },
     "execution_count": 20,
     "metadata": {},
     "output_type": "execute_result"
    }
   ],
   "source": [
    "circle6 = shapely.Polygon(circle_points_no_round(3))\n",
    "circle4_offset = shapely.Polygon(circle_points_no_round(2, offset_x=2))\n",
    "cropped_circle = shapely.intersection(circle6, circle4_offset)\n",
    "\n",
    "circle6.relate(cropped_circle)"
   ]
  },
  {
   "cell_type": "code",
   "execution_count": 21,
   "metadata": {},
   "outputs": [
    {
     "data": {
      "text/plain": [
       "'212111212'"
      ]
     },
     "execution_count": 21,
     "metadata": {},
     "output_type": "execute_result"
    }
   ],
   "source": [
    "simplified = shapely.simplify(cropped_circle, 10**-2)\n",
    "circle6.relate(simplified)"
   ]
  },
  {
   "cell_type": "code",
   "execution_count": 22,
   "metadata": {},
   "outputs": [
    {
     "data": {
      "text/plain": [
       "'212111212'"
      ]
     },
     "execution_count": 22,
     "metadata": {},
     "output_type": "execute_result"
    }
   ],
   "source": [
    "snapped = shapely.snap(cropped_circle, circle6, 10**-2)\n",
    "circle6.relate(snapped)"
   ]
  }
 ],
 "metadata": {
  "kernelspec": {
   "display_name": "StructureRelations",
   "language": "python",
   "name": "python3"
  },
  "language_info": {
   "codemirror_mode": {
    "name": "ipython",
    "version": 3
   },
   "file_extension": ".py",
   "mimetype": "text/x-python",
   "name": "python",
   "nbconvert_exporter": "python",
   "pygments_lexer": "ipython3",
   "version": "3.11.9"
  }
 },
 "nbformat": 4,
 "nbformat_minor": 2
}
